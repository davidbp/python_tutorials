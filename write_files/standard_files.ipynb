{
 "cells": [
  {
   "cell_type": "markdown",
   "metadata": {},
   "source": [
    "## Working with files \n",
    "\n",
    "- http://www.pythonforbeginners.com/files/reading-and-writing-files-in-python\n"
   ]
  },
  {
   "cell_type": "markdown",
   "metadata": {},
   "source": [
    "### `open` function\n",
    "\n",
    "The sintax to open a file is\n",
    "\n",
    "**`file_object  = open(“filename”, “mode”)`** where file_object is the variable to add the file object. \n",
    "\n",
    "The **`\"mode\"`** is a string from **`[\"r\", \"w\", \"a\", \"r+\"]`**. Modes are defined as:\n",
    "\n",
    "- **`\"r\"`** – Read mode which is used when the file is only being read \n",
    "\n",
    "\n",
    "- **`\"w\"`** – Write mode which is used to edit and write new information to the file (any existing files with the same name will be erased when this mode is activated) \n",
    "\n",
    "\n",
    "- **`\"a\"`** – Appending mode, which is used to add new data to the end of the file; that is new information is automatically amended to the end \n",
    "\n",
    "\n",
    "- **`\"r+\"`**– Special read and write mode, which is used to handle both actions when working with a file \n"
   ]
  },
  {
   "cell_type": "markdown",
   "metadata": {},
   "source": [
    "### Creating a file\n",
    "\n",
    "\n",
    "We can create a new file with `open(filepath,\"w\")`. Notice that the `\"w\"` argument implies the file specified with the given `filepath` will be created and available to be read from within python.\n",
    "\n",
    "\n",
    "- Be carefull with `\"w\"`:  **if another file with the same name exist will be rewritten**\n",
    "\n",
    "\n",
    "- **`f = open(\"./test_files/first_file.txt\",\"w\")`** will open a file.\n",
    "\n",
    "\n",
    "- **`f.close()`** will close the file.\n",
    "\n",
    "### Writting to a file\n",
    "\n",
    "We can use `f.write(string)` to write a string to a file."
   ]
  },
  {
   "cell_type": "code",
   "execution_count": 112,
   "metadata": {},
   "outputs": [],
   "source": [
    "# This snippet creates a file write \"\\n1\\tHello\"\n",
    "# Since the file is oppened with \"w\" it will overwrite any file\n",
    "# with the same path and name: BE CAREFULL\n",
    "f = open(\"./test_files/first_file.txt\",\"w\")\n",
    "f.write(\"\\n1\\tHello\")\n",
    "f.close()"
   ]
  },
  {
   "cell_type": "markdown",
   "metadata": {},
   "source": [
    "### Open a file and read from a file\n",
    "\n",
    "We can open the file and print what is inside with `f.open(file_path,\"r\")`.\n",
    "\n",
    "- **`f = open(file_path,\"r\")`**: Will create a `_io.TextIOWrapper`.\n",
    "\n",
    "- We can read all that is inside the file as a string using **`f.read()`**\n",
    "    "
   ]
  },
  {
   "cell_type": "code",
   "execution_count": 113,
   "metadata": {},
   "outputs": [
    {
     "name": "stdout",
     "output_type": "stream",
     "text": [
      "\n",
      "1\tHello\n"
     ]
    }
   ],
   "source": [
    "# This snippet creates a file write \"\\n1\\tHello\"\n",
    "f = open(\"./test_files/first_file.txt\",\"r\")\n",
    "print(f.read())\n",
    "f.close()"
   ]
  },
  {
   "cell_type": "markdown",
   "metadata": {},
   "source": [
    "- We can read a file line by line with **`f.readlines()`**\n",
    "   - This will return a list containing as items lines from the file."
   ]
  },
  {
   "cell_type": "code",
   "execution_count": 114,
   "metadata": {},
   "outputs": [
    {
     "name": "stdout",
     "output_type": "stream",
     "text": [
      "['\\n', '1\\tHello']\n"
     ]
    }
   ],
   "source": [
    "f = open(\"./test_files/first_file.txt\",\"r\")\n",
    "print(f.readlines())\n",
    "f.close()"
   ]
  },
  {
   "cell_type": "markdown",
   "metadata": {},
   "source": [
    "### Append to a file: `open(file_path,\"a\")`\n"
   ]
  },
  {
   "cell_type": "code",
   "execution_count": 161,
   "metadata": {},
   "outputs": [],
   "source": [
    "### This snipped appends text to a previously closed file\n",
    "f = open(\"./test_files/first_file.txt\",\"a\")\n",
    "f.write(\"\\n2\\tadding line\")\n",
    "f.close()"
   ]
  },
  {
   "cell_type": "code",
   "execution_count": 163,
   "metadata": {},
   "outputs": [
    {
     "name": "stdout",
     "output_type": "stream",
     "text": [
      "\n",
      "1\tHello\n",
      "2\tadding line\n",
      "2\tadding line\n"
     ]
    }
   ],
   "source": [
    "f = open(\"./test_files/first_file.txt\",\"r\")\n",
    "print(f.read())\n",
    "f.close()"
   ]
  },
  {
   "cell_type": "markdown",
   "metadata": {},
   "source": [
    "### With statement\n",
    "\n",
    "Using a with statement is a recommended way to write with files. \n",
    "\n",
    "One advantage of using a with statement is that any files opened will be closed automatically after you are done. This leaves less to worry about during cleanup. \n",
    "\n",
    "- **`with open(“filename”) as file:`** used to open and close a file. Notice that you don't need **`file.close()`** this is done when the with statement is finished.\n",
    "\n",
    "```python\n",
    "with open(“filename”) as file:\n",
    "    data = file.read() \n",
    "    #do something with data \n",
    "\n",
    "```"
   ]
  },
  {
   "cell_type": "markdown",
   "metadata": {},
   "source": [
    "### Writting to a file without closing it\n",
    "\n",
    "In some situations we might want to write to a file and make the information accessile without closing the file. \n",
    "\n",
    "- Why do we want not to close a file?\n",
    "\n",
    "    Well, openning an closing files takes time. Moreover it can block the execution thread making a program  IO bound.\n"
   ]
  },
  {
   "cell_type": "code",
   "execution_count": 264,
   "metadata": {},
   "outputs": [
    {
     "data": {
      "text/plain": [
       "26"
      ]
     },
     "execution_count": 264,
     "metadata": {},
     "output_type": "execute_result"
    }
   ],
   "source": [
    "f2 = open(\"./test_files/nonclosed_file.txt\",\"w\")\n",
    "f2.write(\"\\n1\\tNon closed file write\\n\\n\")"
   ]
  },
  {
   "cell_type": "markdown",
   "metadata": {},
   "source": [
    "Notice that if we don't close the file but we try to read from it nothing will be on the file. We can inspect the file we have, in theory, written to using the **`head`** function from bash.\n",
    "\n",
    "Notice that the **`%%bash`** command in the cell allows us to use bash code (just like if we would type it to a terminal). In this example the head function does´t print anything suggesting that the `f2.write` has not happened yet."
   ]
  },
  {
   "cell_type": "code",
   "execution_count": 268,
   "metadata": {},
   "outputs": [],
   "source": [
    "%%bash\n",
    "head ./test_files/nonclosed_file.txt"
   ]
  },
  {
   "cell_type": "markdown",
   "metadata": {},
   "source": [
    "#### Force writting to a file: `\n",
    "f.flush`\n",
    "\n",
    "To force writting to a file without closing it we can use\n",
    "**`f.flush`** and **`os.fsync(f.fileno())`**\n",
    "\n",
    "```python\n",
    "f.flush()\n",
    "os.fsync(f.fileno())\n",
    "```"
   ]
  },
  {
   "cell_type": "code",
   "execution_count": 266,
   "metadata": {},
   "outputs": [],
   "source": [
    "f = open(\"./test_files/nonclosed_file2.txt\",\"w\")\n",
    "f.write(\"\\n1\\tNon closed file write with flush\\n\\n\")\n",
    "f.flush()\n",
    "os.fsync(f.fileno())"
   ]
  },
  {
   "cell_type": "code",
   "execution_count": 267,
   "metadata": {},
   "outputs": [
    {
     "name": "stdout",
     "output_type": "stream",
     "text": [
      "\n",
      "1\tNon closed file write with flush\n",
      "\n"
     ]
    }
   ],
   "source": [
    "%%bash\n",
    "head ./test_files/nonclosed_file.txt\n",
    "head ./test_files/nonclosed_file2.txt"
   ]
  },
  {
   "cell_type": "code",
   "execution_count": null,
   "metadata": {
    "collapsed": true
   },
   "outputs": [],
   "source": []
  },
  {
   "cell_type": "code",
   "execution_count": null,
   "metadata": {
    "collapsed": true
   },
   "outputs": [],
   "source": []
  },
  {
   "cell_type": "code",
   "execution_count": null,
   "metadata": {
    "collapsed": true
   },
   "outputs": [],
   "source": []
  }
 ],
 "metadata": {
  "kernelspec": {
   "display_name": "Python 3",
   "language": "python",
   "name": "python3"
  },
  "language_info": {
   "codemirror_mode": {
    "name": "ipython",
    "version": 3
   },
   "file_extension": ".py",
   "mimetype": "text/x-python",
   "name": "python",
   "nbconvert_exporter": "python",
   "pygments_lexer": "ipython3",
   "version": "3.5.4"
  }
 },
 "nbformat": 4,
 "nbformat_minor": 1
}

{
 "cells": [
  {
   "cell_type": "code",
   "execution_count": 10,
   "id": "3c026656",
   "metadata": {},
   "outputs": [],
   "source": [
    "import pyarrow as pa\n",
    "import pandas as pd\n",
    "import pyarrow.compute as pc\n",
    "\n",
    "t = pa.table([\n",
    "      pa.array([\"a\", \"a\", \"b\", \"b\", \"c\"]),\n",
    "      pa.array([\"i1\",\"i2\",\"i3\",\"i4\",\"i5\"]),\n",
    "      pa.array([1, 2, 3, 4, 5]),\n",
    "], names=[\"keys\", \"ids\", \"values\"])"
   ]
  },
  {
   "cell_type": "code",
   "execution_count": 12,
   "id": "b6cc636f",
   "metadata": {},
   "outputs": [
    {
     "data": {
      "text/plain": [
       "<module 'pyarrow.compute' from '/Users/dbuchaca/opt/anaconda3/lib/python3.9/site-packages/pyarrow/compute.py'>"
      ]
     },
     "execution_count": 12,
     "metadata": {},
     "output_type": "execute_result"
    }
   ],
   "source": [
    "pc.aggr"
   ]
  },
  {
   "cell_type": "code",
   "execution_count": 3,
   "id": "0f03d560",
   "metadata": {},
   "outputs": [
    {
     "data": {
      "text/plain": [
       "pyarrow.Table\n",
       "keys: string\n",
       "ids: string\n",
       "values: int64\n",
       "----\n",
       "keys: [[\"a\",\"a\",\"b\",\"b\",\"c\"]]\n",
       "ids: [[\"i1\",\"i2\",\"i3\",\"i4\",\"i5\"]]\n",
       "values: [[1,2,3,4,5]]"
      ]
     },
     "execution_count": 3,
     "metadata": {},
     "output_type": "execute_result"
    }
   ],
   "source": [
    "t"
   ]
  },
  {
   "cell_type": "code",
   "execution_count": 7,
   "id": "362ebc35",
   "metadata": {},
   "outputs": [
    {
     "data": {
      "text/plain": [
       "pyarrow.Table\n",
       "keys: string\n",
       "count_all: int64\n",
       "----\n",
       "keys: [[\"a\",\"b\",\"c\"]]\n",
       "count_all: [[2,2,1]]"
      ]
     },
     "execution_count": 7,
     "metadata": {},
     "output_type": "execute_result"
    }
   ],
   "source": [
    "t.group_by(\"keys\").aggregate([([],\"count_all\")])"
   ]
  },
  {
   "cell_type": "code",
   "execution_count": 32,
   "id": "42cfdbc9",
   "metadata": {},
   "outputs": [
    {
     "data": {
      "text/plain": [
       "{'a': pyarrow.Table\n",
       " ids: string\n",
       " values: int64\n",
       " ----\n",
       " ids: [[\"i1\",\"i2\"]]\n",
       " values: [[1,2]],\n",
       " 'b': pyarrow.Table\n",
       " ids: string\n",
       " values: int64\n",
       " ----\n",
       " ids: [[\"i3\",\"i4\"]]\n",
       " values: [[3,4]],\n",
       " 'c': pyarrow.Table\n",
       " ids: string\n",
       " values: int64\n",
       " ----\n",
       " ids: [[\"i5\"]]\n",
       " values: [[5]]}"
      ]
     },
     "execution_count": 32,
     "metadata": {},
     "output_type": "execute_result"
    }
   ],
   "source": [
    "import pyarrow as pa\n",
    "import pyarrow.compute as pc\n",
    "\n",
    "# Define the table\n",
    "t = pa.table([\n",
    "      pa.array([\"a\", \"a\", \"b\", \"b\", \"c\"]),\n",
    "      pa.array([\"i1\",\"i2\",\"i3\",\"i4\",\"i5\"]),\n",
    "      pa.array([1, 2, 3, 4, 5]),\n",
    "], names=[\"keys\", \"ids\", \"values\"])\n",
    "\n",
    "# Get unique keys\n",
    "unique_keys = pc.unique(t[\"keys\"])\n",
    "\n",
    "# Create a dictionary to store the result\n",
    "grouped_tables = {}\n",
    "\n",
    "# Group by unique keys\n",
    "for key in unique_keys:\n",
    "    \n",
    "    # Create a boolean mask to filter rows corresponding to the current key\n",
    "    mask = pc.equal(t[\"keys\"], key)\n",
    "    \n",
    "    # Filter the table using the mask\n",
    "    filtered_table = t.filter(mask)\n",
    "    \n",
    "    # Remove the \"keys\" column to only keep \"ids\" and \"values\"\n",
    "    filtered_table = filtered_table.drop([\"keys\"])\n",
    "    \n",
    "    # Store the filtered table in the dictionary with the key as the dictionary key\n",
    "    grouped_tables[key.as_py()] = filtered_table\n",
    "\n",
    "# Show the result\n",
    "grouped_tables"
   ]
  },
  {
   "cell_type": "code",
   "execution_count": 36,
   "id": "25e9a918",
   "metadata": {},
   "outputs": [
    {
     "data": {
      "text/html": [
       "<div>\n",
       "<style scoped>\n",
       "    .dataframe tbody tr th:only-of-type {\n",
       "        vertical-align: middle;\n",
       "    }\n",
       "\n",
       "    .dataframe tbody tr th {\n",
       "        vertical-align: top;\n",
       "    }\n",
       "\n",
       "    .dataframe thead th {\n",
       "        text-align: right;\n",
       "    }\n",
       "</style>\n",
       "<table border=\"1\" class=\"dataframe\">\n",
       "  <thead>\n",
       "    <tr style=\"text-align: right;\">\n",
       "      <th></th>\n",
       "      <th>ids</th>\n",
       "      <th>values</th>\n",
       "    </tr>\n",
       "  </thead>\n",
       "  <tbody>\n",
       "    <tr>\n",
       "      <th>0</th>\n",
       "      <td>i1</td>\n",
       "      <td>1</td>\n",
       "    </tr>\n",
       "    <tr>\n",
       "      <th>1</th>\n",
       "      <td>i2</td>\n",
       "      <td>2</td>\n",
       "    </tr>\n",
       "  </tbody>\n",
       "</table>\n",
       "</div>"
      ],
      "text/plain": [
       "  ids  values\n",
       "0  i1       1\n",
       "1  i2       2"
      ]
     },
     "execution_count": 36,
     "metadata": {},
     "output_type": "execute_result"
    }
   ],
   "source": [
    "grouped_tables['a'].to_pandas()"
   ]
  },
  {
   "cell_type": "code",
   "execution_count": null,
   "id": "a2347653",
   "metadata": {},
   "outputs": [],
   "source": []
  },
  {
   "cell_type": "code",
   "execution_count": null,
   "id": "4ae829f9",
   "metadata": {},
   "outputs": [],
   "source": []
  }
 ],
 "metadata": {
  "kernelspec": {
   "display_name": "Python 3 (ipykernel)",
   "language": "python",
   "name": "python3"
  },
  "language_info": {
   "codemirror_mode": {
    "name": "ipython",
    "version": 3
   },
   "file_extension": ".py",
   "mimetype": "text/x-python",
   "name": "python",
   "nbconvert_exporter": "python",
   "pygments_lexer": "ipython3",
   "version": "3.9.12"
  }
 },
 "nbformat": 4,
 "nbformat_minor": 5
}

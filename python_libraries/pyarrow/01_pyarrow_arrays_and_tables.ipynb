{
 "cells": [
  {
   "cell_type": "code",
   "execution_count": 77,
   "id": "7a488727",
   "metadata": {},
   "outputs": [],
   "source": [
    "import pyarrow\n",
    "import numpy as np\n",
    "import pandas as pd"
   ]
  },
  {
   "cell_type": "markdown",
   "id": "4981b7c1",
   "metadata": {},
   "source": [
    "## Pyarrow arrays"
   ]
  },
  {
   "cell_type": "code",
   "execution_count": 48,
   "id": "8f920ca8",
   "metadata": {},
   "outputs": [],
   "source": [
    "import pyarrow as pa\n",
    "\n",
    "name = pa.array(['John', 'Cameron', 'Jacob', 'Arlette'])\n",
    "age = pa.array([10, 15, 20, 18])\n",
    "country = pa.array(['UK', 'UK', 'US', 'France'])"
   ]
  },
  {
   "cell_type": "code",
   "execution_count": 49,
   "id": "952c31d6",
   "metadata": {},
   "outputs": [
    {
     "data": {
      "text/plain": [
       "<pyarrow.lib.StringArray object at 0x7f7bb9aca460>\n",
       "[\n",
       "  \"John\",\n",
       "  \"Cameron\",\n",
       "  \"Jacob\",\n",
       "  \"Arlette\"\n",
       "]"
      ]
     },
     "execution_count": 49,
     "metadata": {},
     "output_type": "execute_result"
    }
   ],
   "source": [
    "name"
   ]
  },
  {
   "cell_type": "code",
   "execution_count": 50,
   "id": "0c90431f",
   "metadata": {},
   "outputs": [
    {
     "data": {
      "text/plain": [
       "<pyarrow.lib.Int64Array object at 0x7f7b88fca220>\n",
       "[\n",
       "  10,\n",
       "  15,\n",
       "  20,\n",
       "  18\n",
       "]"
      ]
     },
     "execution_count": 50,
     "metadata": {},
     "output_type": "execute_result"
    }
   ],
   "source": [
    "age"
   ]
  },
  {
   "cell_type": "markdown",
   "id": "40f63431",
   "metadata": {},
   "source": [
    "You can specify the type of an array after you specify the values.\n",
    "\n",
    "For example:"
   ]
  },
  {
   "cell_type": "code",
   "execution_count": 51,
   "id": "4ada2d56",
   "metadata": {},
   "outputs": [
    {
     "data": {
      "text/plain": [
       "<pyarrow.lib.Int32Array object at 0x7f7bb9aca580>\n",
       "[\n",
       "  10,\n",
       "  15,\n",
       "  20,\n",
       "  18\n",
       "]"
      ]
     },
     "execution_count": 51,
     "metadata": {},
     "output_type": "execute_result"
    }
   ],
   "source": [
    "age = pa.array([10, 15, 20, 18], 'int32')\n",
    "age"
   ]
  },
  {
   "cell_type": "markdown",
   "id": "2527dd31",
   "metadata": {},
   "source": [
    "## Pyarrow table\n",
    "\n",
    "Pyarrow tables are in `pa.Table`. \n",
    "\n",
    "A `Table` is essentially a list of arrays with an string identifier and a type associated to each array.\n",
    "\n",
    "For example:"
   ]
  },
  {
   "cell_type": "code",
   "execution_count": 71,
   "id": "9377dd97",
   "metadata": {},
   "outputs": [
    {
     "data": {
      "text/plain": [
       "pyarrow.Table\n",
       "name: string\n",
       "age: int32\n",
       "country: string\n",
       "----\n",
       "name: [[\"John\",\"Cameron\",\"Jacob\",\"Arlette\"]]\n",
       "age: [[10,15,20,18]]\n",
       "country: [[\"UK\",\"UK\",\"US\",\"France\"]]"
      ]
     },
     "execution_count": 71,
     "metadata": {},
     "output_type": "execute_result"
    }
   ],
   "source": [
    "table = pa.Table.from_arrays([name, age, country], names=['name','age','country'])\n",
    "table"
   ]
  },
  {
   "cell_type": "markdown",
   "id": "32c9253e",
   "metadata": {},
   "source": [
    "One can acess a particular column of a `Table` with the syntax `Table[col]` where col is a column name"
   ]
  },
  {
   "cell_type": "code",
   "execution_count": 72,
   "id": "408be988",
   "metadata": {},
   "outputs": [
    {
     "data": {
      "text/plain": [
       "<pyarrow.lib.ChunkedArray object at 0x7f7bb9b704f0>\n",
       "[\n",
       "  [\n",
       "    10,\n",
       "    15,\n",
       "    20,\n",
       "    18\n",
       "  ]\n",
       "]"
      ]
     },
     "execution_count": 72,
     "metadata": {},
     "output_type": "execute_result"
    }
   ],
   "source": [
    "table['age']"
   ]
  },
  {
   "cell_type": "markdown",
   "id": "6313430e",
   "metadata": {},
   "source": [
    "Or also with an integer"
   ]
  },
  {
   "cell_type": "code",
   "execution_count": 76,
   "id": "b95e45b3",
   "metadata": {},
   "outputs": [
    {
     "data": {
      "text/plain": [
       "<pyarrow.lib.ChunkedArray object at 0x7f7bb9ee8810>\n",
       "[\n",
       "  [\n",
       "    \"John\",\n",
       "    \"Cameron\",\n",
       "    \"Jacob\",\n",
       "    \"Arlette\"\n",
       "  ]\n",
       "]"
      ]
     },
     "execution_count": 76,
     "metadata": {},
     "output_type": "execute_result"
    }
   ],
   "source": [
    "table[0]"
   ]
  },
  {
   "cell_type": "markdown",
   "id": "137715b6",
   "metadata": {},
   "source": [
    "`Table` objects can be constructed **from pandas**"
   ]
  },
  {
   "cell_type": "code",
   "execution_count": 84,
   "id": "819af8d4",
   "metadata": {},
   "outputs": [
    {
     "data": {
      "text/html": [
       "<div>\n",
       "<style scoped>\n",
       "    .dataframe tbody tr th:only-of-type {\n",
       "        vertical-align: middle;\n",
       "    }\n",
       "\n",
       "    .dataframe tbody tr th {\n",
       "        vertical-align: top;\n",
       "    }\n",
       "\n",
       "    .dataframe thead th {\n",
       "        text-align: right;\n",
       "    }\n",
       "</style>\n",
       "<table border=\"1\" class=\"dataframe\">\n",
       "  <thead>\n",
       "    <tr style=\"text-align: right;\">\n",
       "      <th></th>\n",
       "      <th>name</th>\n",
       "      <th>age</th>\n",
       "      <th>country</th>\n",
       "    </tr>\n",
       "  </thead>\n",
       "  <tbody>\n",
       "    <tr>\n",
       "      <th>0</th>\n",
       "      <td>John</td>\n",
       "      <td>10</td>\n",
       "      <td>UK</td>\n",
       "    </tr>\n",
       "    <tr>\n",
       "      <th>1</th>\n",
       "      <td>Cameron</td>\n",
       "      <td>15</td>\n",
       "      <td>UK</td>\n",
       "    </tr>\n",
       "    <tr>\n",
       "      <th>2</th>\n",
       "      <td>Jacob</td>\n",
       "      <td>20</td>\n",
       "      <td>US</td>\n",
       "    </tr>\n",
       "    <tr>\n",
       "      <th>3</th>\n",
       "      <td>Arlette</td>\n",
       "      <td>18</td>\n",
       "      <td>France</td>\n",
       "    </tr>\n",
       "  </tbody>\n",
       "</table>\n",
       "</div>"
      ],
      "text/plain": [
       "      name  age country\n",
       "0     John   10      UK\n",
       "1  Cameron   15      UK\n",
       "2    Jacob   20      US\n",
       "3  Arlette   18  France"
      ]
     },
     "execution_count": 84,
     "metadata": {},
     "output_type": "execute_result"
    }
   ],
   "source": [
    "df = pd.DataFrame({ 'name': ['John', 'Cameron', 'Jacob', 'Arlette'],\n",
    "                    'age': [10, 15, 20, 18],\n",
    "                    'country': ['UK', 'UK', 'US', 'France']})\n",
    "df"
   ]
  },
  {
   "cell_type": "code",
   "execution_count": 83,
   "id": "76c0a557",
   "metadata": {},
   "outputs": [
    {
     "data": {
      "text/plain": [
       "pyarrow.Table\n",
       "name: string\n",
       "age: int64\n",
       "country: string\n",
       "----\n",
       "name: [[\"John\",\"Cameron\",\"Jacob\",\"Arlette\"]]\n",
       "age: [[10,15,20,18]]\n",
       "country: [[\"UK\",\"UK\",\"US\",\"France\"]]"
      ]
     },
     "execution_count": 83,
     "metadata": {},
     "output_type": "execute_result"
    }
   ],
   "source": [
    "pa.Table.from_pandas(df)"
   ]
  },
  {
   "cell_type": "markdown",
   "id": "73819e03",
   "metadata": {},
   "source": [
    "`Table` objects can be constructed **from a dict defining columns**"
   ]
  },
  {
   "cell_type": "code",
   "execution_count": 86,
   "id": "e977c4bf",
   "metadata": {},
   "outputs": [],
   "source": [
    "d = {'name': ['John', 'Cameron', 'Jacob', 'Arlette'],\n",
    "     'age': [10, 15, 20, 18],\n",
    "     'country': ['UK', 'UK', 'US', 'France']}"
   ]
  },
  {
   "cell_type": "code",
   "execution_count": 88,
   "id": "b19dbac5",
   "metadata": {},
   "outputs": [
    {
     "data": {
      "text/plain": [
       "{'name': ['John', 'Cameron', 'Jacob', 'Arlette'],\n",
       " 'age': [10, 15, 20, 18],\n",
       " 'country': ['UK', 'UK', 'US', 'France']}"
      ]
     },
     "execution_count": 88,
     "metadata": {},
     "output_type": "execute_result"
    }
   ],
   "source": [
    "d"
   ]
  },
  {
   "cell_type": "code",
   "execution_count": 95,
   "id": "61412f8e",
   "metadata": {},
   "outputs": [
    {
     "data": {
      "text/plain": [
       "pyarrow.Table\n",
       "name: string\n",
       "age: int64\n",
       "country: string\n",
       "----\n",
       "name: [[\"John\",\"Cameron\",\"Jacob\",\"Arlette\"]]\n",
       "age: [[10,15,20,18]]\n",
       "country: [[\"UK\",\"UK\",\"US\",\"France\"]]"
      ]
     },
     "execution_count": 95,
     "metadata": {},
     "output_type": "execute_result"
    }
   ],
   "source": [
    "pa.Table.from_pydict(d)"
   ]
  },
  {
   "cell_type": "markdown",
   "id": "5d74754b",
   "metadata": {},
   "source": [
    "It can also be constructed **from a list defining rows**"
   ]
  },
  {
   "cell_type": "code",
   "execution_count": 100,
   "id": "7dd808ae",
   "metadata": {},
   "outputs": [],
   "source": [
    "plist = [{'name': 'John', 'age': 10, 'country': 'UK'},\n",
    "         {'name': 'Cameron', 'age': 15, 'country': 'UK'},\n",
    "         {'name': 'Jacob', 'age': 20, 'country': 'US'},\n",
    "         {'name': 'Arlette', 'age': 18, 'country': 'France'}]"
   ]
  },
  {
   "cell_type": "code",
   "execution_count": 103,
   "id": "8e369679",
   "metadata": {
    "scrolled": true
   },
   "outputs": [
    {
     "data": {
      "text/plain": [
       "pyarrow.Table\n",
       "name: string\n",
       "age: int64\n",
       "country: string\n",
       "----\n",
       "name: [[\"John\",\"Cameron\",\"Jacob\",\"Arlette\"]]\n",
       "age: [[10,15,20,18]]\n",
       "country: [[\"UK\",\"UK\",\"US\",\"France\"]]"
      ]
     },
     "execution_count": 103,
     "metadata": {},
     "output_type": "execute_result"
    }
   ],
   "source": [
    "pa.Table.from_pylist(plist)"
   ]
  },
  {
   "cell_type": "markdown",
   "id": "447bf45d",
   "metadata": {},
   "source": [
    "## Pyarrow parquet"
   ]
  },
  {
   "cell_type": "code",
   "execution_count": 105,
   "id": "1569bdc9",
   "metadata": {},
   "outputs": [],
   "source": [
    "import pyarrow.parquet as pq"
   ]
  },
  {
   "cell_type": "code",
   "execution_count": 119,
   "id": "72bac997",
   "metadata": {},
   "outputs": [],
   "source": [
    "path_single_parquet = '/Users/dbuchaca/Datasets/CS_2023_12_05/part-00049-80bc68a9-066b-46aa-8fbe-c51575f8a275.c000.snappy.parquet'\n",
    "path_parquets = '/Users/dbuchaca/Datasets/CS_2023_12_05/'"
   ]
  },
  {
   "cell_type": "markdown",
   "id": "852fcbe3",
   "metadata": {},
   "source": [
    "**`pq.read_metadata`**:  can read basic information about a `.parquet` "
   ]
  },
  {
   "cell_type": "code",
   "execution_count": 124,
   "id": "e2ad81ad",
   "metadata": {},
   "outputs": [
    {
     "data": {
      "text/plain": [
       "<pyarrow._parquet.FileMetaData object at 0x7f7bb9e7d4f0>\n",
       "  created_by: parquet-mr version 1.10.1 (build 1245db4d86bba34408789caad27aed2dea7a5f5b)\n",
       "  num_columns: 33\n",
       "  num_rows: 420108\n",
       "  num_row_groups: 2\n",
       "  format_version: 1.0\n",
       "  serialized_size: 15006"
      ]
     },
     "execution_count": 124,
     "metadata": {},
     "output_type": "execute_result"
    }
   ],
   "source": [
    "pq.read_metadata(path)"
   ]
  },
  {
   "cell_type": "markdown",
   "id": "a603549f",
   "metadata": {},
   "source": [
    "**`pq.read_table`**: read a table from a `.parquet` using "
   ]
  },
  {
   "cell_type": "code",
   "execution_count": 130,
   "id": "c6710537",
   "metadata": {},
   "outputs": [],
   "source": [
    "asin = pq.read_table(path,columns=['asin'])\n",
    "title = pq.read_table(path,columns=['title'])\n",
    "asin_title = pq.read_table(path,columns=['asin','title'])"
   ]
  },
  {
   "cell_type": "code",
   "execution_count": 153,
   "id": "44d6b8bb",
   "metadata": {},
   "outputs": [
    {
     "data": {
      "text/plain": [
       "<pyarrow.StringScalar: 'B0CCZRBS9W'>"
      ]
     },
     "metadata": {},
     "output_type": "display_data"
    },
    {
     "data": {
      "text/plain": [
       "<pyarrow.StringScalar: 'Pixy Canvas Floater Frame 29x29 for 0.75 inch Deep Canvas Paintings/Canvas Prints/Wood Canvas Panels/Wall Art/Wall Decor/Home Decor/Artwork, (Rustic Grey, 29 x 29 inch, Square)'>"
      ]
     },
     "metadata": {},
     "output_type": "display_data"
    }
   ],
   "source": [
    "display(asin[0][1])\n",
    "display(title[0][1])"
   ]
  },
  {
   "cell_type": "code",
   "execution_count": 150,
   "id": "cceae0b8",
   "metadata": {},
   "outputs": [
    {
     "data": {
      "text/plain": [
       "<pyarrow.StringScalar: 'B08QZS2BSD'>"
      ]
     },
     "metadata": {},
     "output_type": "display_data"
    },
    {
     "data": {
      "text/plain": [
       "<pyarrow.StringScalar: 'Pixy Canvas Floater Frame 29x29 for 0.75 inch Deep Canvas Paintings/Canvas Prints/Wood Canvas Panels/Wall Art/Wall Decor/Home Decor/Artwork, (Rustic Grey, 29 x 29 inch, Square)'>"
      ]
     },
     "metadata": {},
     "output_type": "display_data"
    }
   ],
   "source": [
    "display(asin_title[0][2])\n",
    "display(asin_title[1][1])"
   ]
  },
  {
   "cell_type": "code",
   "execution_count": null,
   "id": "c03d9445",
   "metadata": {},
   "outputs": [],
   "source": []
  },
  {
   "cell_type": "code",
   "execution_count": null,
   "id": "c6c36e66",
   "metadata": {},
   "outputs": [],
   "source": []
  },
  {
   "cell_type": "code",
   "execution_count": null,
   "id": "e112b500",
   "metadata": {},
   "outputs": [],
   "source": []
  },
  {
   "cell_type": "markdown",
   "id": "62cffb8b",
   "metadata": {},
   "source": [
    "## Pyarrow regex"
   ]
  },
  {
   "cell_type": "code",
   "execution_count": 5,
   "id": "1aca680f",
   "metadata": {},
   "outputs": [],
   "source": [
    "from pyarrow import compute\n",
    "from pyarrow.compute import extract_regex"
   ]
  },
  {
   "cell_type": "code",
   "execution_count": 6,
   "id": "f41d746a",
   "metadata": {},
   "outputs": [
    {
     "data": {
      "text/plain": [
       "<pyarrow.lib.StructArray object at 0x7f7b8840d040>\n",
       "-- is_valid:\n",
       "  [\n",
       "    true,\n",
       "    false\n",
       "  ]"
      ]
     },
     "execution_count": 6,
     "metadata": {},
     "output_type": "execute_result"
    }
   ],
   "source": [
    "res = extract_regex(['hi there','hello hio'], pattern='hi\\s')\n",
    "res"
   ]
  },
  {
   "cell_type": "code",
   "execution_count": 7,
   "id": "4a0d7756",
   "metadata": {},
   "outputs": [],
   "source": [
    "res = extract_regex(['hi there','hello hio'], pattern='hio')"
   ]
  },
  {
   "cell_type": "code",
   "execution_count": 8,
   "id": "f966082d",
   "metadata": {},
   "outputs": [
    {
     "data": {
      "text/plain": [
       "<pyarrow.lib.StructArray object at 0x7f7be92b1340>\n",
       "-- is_valid:\n",
       "  [\n",
       "    false,\n",
       "    true\n",
       "  ]"
      ]
     },
     "execution_count": 8,
     "metadata": {},
     "output_type": "execute_result"
    }
   ],
   "source": [
    "res"
   ]
  },
  {
   "cell_type": "code",
   "execution_count": 9,
   "id": "8cd20b67",
   "metadata": {},
   "outputs": [
    {
     "data": {
      "text/plain": [
       "<pyarrow.BooleanScalar: False>"
      ]
     },
     "execution_count": 9,
     "metadata": {},
     "output_type": "execute_result"
    }
   ],
   "source": [
    "res.is_valid()[0]"
   ]
  },
  {
   "cell_type": "code",
   "execution_count": 20,
   "id": "9fb4cbda",
   "metadata": {
    "scrolled": true
   },
   "outputs": [
    {
     "data": {
      "text/plain": [
       "<pyarrow.lib.BooleanArray object at 0x7f7b9078fd60>\n",
       "[\n",
       "  false,\n",
       "  true\n",
       "]"
      ]
     },
     "execution_count": 20,
     "metadata": {},
     "output_type": "execute_result"
    }
   ],
   "source": [
    "res.is_valid()"
   ]
  },
  {
   "cell_type": "markdown",
   "id": "d1323581",
   "metadata": {},
   "source": [
    "We can convert to numpy array"
   ]
  },
  {
   "cell_type": "code",
   "execution_count": 21,
   "id": "b66733f0",
   "metadata": {},
   "outputs": [
    {
     "data": {
      "text/plain": [
       "array([False,  True])"
      ]
     },
     "execution_count": 21,
     "metadata": {},
     "output_type": "execute_result"
    }
   ],
   "source": [
    "np.array(res.is_valid())"
   ]
  },
  {
   "cell_type": "code",
   "execution_count": null,
   "id": "0289eb9e",
   "metadata": {},
   "outputs": [],
   "source": []
  }
 ],
 "metadata": {
  "kernelspec": {
   "display_name": "Python 3 (ipykernel)",
   "language": "python",
   "name": "python3"
  },
  "language_info": {
   "codemirror_mode": {
    "name": "ipython",
    "version": 3
   },
   "file_extension": ".py",
   "mimetype": "text/x-python",
   "name": "python",
   "nbconvert_exporter": "python",
   "pygments_lexer": "ipython3",
   "version": "3.9.12"
  }
 },
 "nbformat": 4,
 "nbformat_minor": 5
}

{
 "cells": [
  {
   "cell_type": "markdown",
   "id": "89fb12d0-b21d-409f-a3c8-5b2136578ce5",
   "metadata": {},
   "source": [
    "# String utils"
   ]
  },
  {
   "cell_type": "markdown",
   "id": "a14e9be9-d847-41b2-9862-b17ca6156c1c",
   "metadata": {},
   "source": [
    "## word matching"
   ]
  },
  {
   "cell_type": "code",
   "execution_count": null,
   "id": "fef4791e",
   "metadata": {},
   "outputs": [],
   "source": [
    "import string\n",
    "import random\n",
    "import re \n",
    "\n",
    "from typing import Sequence, Iterable, List\n",
    "import numpy as np"
   ]
  },
  {
   "cell_type": "code",
   "execution_count": null,
   "id": "d8093eca-cb29-4efd-8822-735505a42395",
   "metadata": {},
   "outputs": [],
   "source": [
    "sentences = ['the Big cat went to the bar', \n",
    "             'the cat liked the big piano', \n",
    "             'the big fish never eats the bigger fish']"
   ]
  },
  {
   "cell_type": "code",
   "execution_count": null,
   "id": "35453fe0",
   "metadata": {},
   "outputs": [],
   "source": [
    "reg = re.compile(r'(?i)\\bbig\\b')\n"
   ]
  },
  {
   "cell_type": "code",
   "execution_count": null,
   "id": "be6d9276",
   "metadata": {},
   "outputs": [],
   "source": [
    "reg.findall(sentences[0])"
   ]
  },
  {
   "cell_type": "code",
   "execution_count": 12,
   "id": "80e3bd1e",
   "metadata": {},
   "outputs": [
    {
     "name": "stdout",
     "output_type": "stream",
     "text": [
      "128 µs ± 5.54 µs per loop (mean ± std. dev. of 7 runs, 10,000 loops each)\n"
     ]
    }
   ],
   "source": [
    "import numpy as np \n",
    "%timeit x = np.ones(5_000_000, dtype=bool)"
   ]
  },
  {
   "cell_type": "code",
   "execution_count": 7,
   "id": "f3831346",
   "metadata": {},
   "outputs": [
    {
     "name": "stdout",
     "output_type": "stream",
     "text": [
      "171 µs ± 1.37 µs per loop (mean ± std. dev. of 7 runs, 10,000 loops each)\n"
     ]
    }
   ],
   "source": [
    "%timeit x * x"
   ]
  },
  {
   "cell_type": "code",
   "execution_count": 9,
   "id": "0767dd77",
   "metadata": {},
   "outputs": [],
   "source": [
    "import pyarrow as pa\n",
    "x_pa = pa.array(x)"
   ]
  },
  {
   "cell_type": "code",
   "execution_count": 11,
   "id": "6cfb1510",
   "metadata": {},
   "outputs": [
    {
     "name": "stdout",
     "output_type": "stream",
     "text": [
      "37.9 µs ± 467 ns per loop (mean ± std. dev. of 7 runs, 10,000 loops each)\n"
     ]
    }
   ],
   "source": [
    "%timeit pa.compute.and_(x_pa,x_pa)"
   ]
  },
  {
   "cell_type": "code",
   "execution_count": null,
   "id": "ec390234",
   "metadata": {},
   "outputs": [],
   "source": []
  },
  {
   "cell_type": "code",
   "execution_count": null,
   "id": "23d18e16",
   "metadata": {},
   "outputs": [],
   "source": []
  },
  {
   "cell_type": "code",
   "execution_count": null,
   "id": "a8726273-70b8-4877-975b-7e5be255728d",
   "metadata": {},
   "outputs": [],
   "source": [
    "%%timeit\n",
    "get_indices_sentences_matching_words_regex(words=['big', 'cat'], sentences=sentences)"
   ]
  },
  {
   "cell_type": "markdown",
   "id": "bf378f41-e17e-4841-86fc-421fc8792e87",
   "metadata": {},
   "source": [
    "Now we can run the parallel version"
   ]
  },
  {
   "cell_type": "code",
   "execution_count": null,
   "id": "d0819933-e8d2-4cbf-8776-92218f33413a",
   "metadata": {},
   "outputs": [],
   "source": [
    "%%timeit\n",
    "get_indices_sentences_matching_words_regex_parallel(words=['big', 'cat'], sentences=sentences, n_jobs=3)"
   ]
  },
  {
   "cell_type": "markdown",
   "id": "ab70a8ed-26e0-477e-a8db-c43ea53474fd",
   "metadata": {},
   "source": [
    "Now let us try a big example"
   ]
  },
  {
   "cell_type": "code",
   "execution_count": null,
   "id": "55c93b4c-4486-4e4d-9153-183b3b50eb8c",
   "metadata": {},
   "outputs": [],
   "source": [
    "pool_characters = string.ascii_lowercase\n",
    "\n",
    "def create_random_word(min_chars=2, max_chars=15, pool_characters=None):\n",
    "    n_chars = random.randint(min_chars,max_chars)\n",
    "    return ''.join((random.choice(pool_characters) for x in range(n_chars)))\n",
    "\n",
    "def create_random_sentence(n_words,pool_characters):\n",
    "    return ' '.join( [create_random_word(pool_characters=pool_characters) for word in range(n_words) ])\n"
   ]
  },
  {
   "cell_type": "code",
   "execution_count": null,
   "id": "4a98cd90-6833-4d2b-a11f-457a6dde31b7",
   "metadata": {},
   "outputs": [],
   "source": [
    "create_random_word(pool_characters= pool_characters)"
   ]
  },
  {
   "cell_type": "code",
   "execution_count": null,
   "id": "8d230fa9-9416-4251-a084-c825995d1c1c",
   "metadata": {},
   "outputs": [],
   "source": [
    "create_random_sentence(10,pool_characters)"
   ]
  },
  {
   "cell_type": "code",
   "execution_count": null,
   "id": "7cf41dce-0500-45e2-80d3-17072ba89243",
   "metadata": {},
   "outputs": [],
   "source": [
    "words = 'hi' "
   ]
  },
  {
   "cell_type": "code",
   "execution_count": null,
   "id": "1f1a2db5-62e8-4642-a416-689b04e0d669",
   "metadata": {},
   "outputs": [],
   "source": [
    "%%time\n",
    "n_sentences = 2_000_000\n",
    "n_words = 7\n",
    "corpus = [create_random_sentence(7, pool_characters) for x in range(n_sentences)]"
   ]
  },
  {
   "cell_type": "code",
   "execution_count": null,
   "id": "e8eb3849-b1fd-4081-8b47-9b1b3cf97ba2",
   "metadata": {},
   "outputs": [],
   "source": [
    "corpus[0:10]"
   ]
  },
  {
   "cell_type": "code",
   "execution_count": null,
   "id": "f6952332-fd03-42e8-9127-debf96e543eb",
   "metadata": {},
   "outputs": [],
   "source": [
    "corpus_14million = 7*[*corpus]"
   ]
  },
  {
   "cell_type": "code",
   "execution_count": null,
   "id": "cea36154-0193-4ef4-82b1-097aa5a26897",
   "metadata": {},
   "outputs": [],
   "source": [
    "%%time\n",
    "get_indices_sentences_matching_words_regex(words=['big'], sentences=corpus_14million);"
   ]
  },
  {
   "cell_type": "code",
   "execution_count": null,
   "id": "95095d18-72c0-4e22-b6b9-c5594167edf2",
   "metadata": {},
   "outputs": [],
   "source": [
    "res = get_indices_sentences_matching_words_regex(words=['big'], sentences=corpus_14million);"
   ]
  },
  {
   "cell_type": "code",
   "execution_count": null,
   "id": "c03f9383-0e42-4ff2-9c97-889ce3b2aeba",
   "metadata": {},
   "outputs": [],
   "source": [
    "res_par = get_indices_sentences_matching_words_regex_parallel(words=['big'], sentences=corpus_14million);"
   ]
  },
  {
   "cell_type": "code",
   "execution_count": null,
   "id": "21077853-203c-4f38-8f3f-6419c4024ce9",
   "metadata": {},
   "outputs": [],
   "source": [
    "%%time\n",
    "get_indices_sentences_matching_words_regex_parallel(words=['big'], sentences=corpus_14million);"
   ]
  },
  {
   "cell_type": "code",
   "execution_count": null,
   "id": "8414f536-e48a-4109-a933-8508c7b2fd3b",
   "metadata": {},
   "outputs": [],
   "source": [
    "res == res_par"
   ]
  },
  {
   "cell_type": "markdown",
   "id": "c5b7cbbd-0658-4ffa-b1f6-06f4c5bc18dc",
   "metadata": {},
   "source": [
    "### testing pyarrow"
   ]
  },
  {
   "cell_type": "code",
   "execution_count": null,
   "id": "a0e1b2ef",
   "metadata": {},
   "outputs": [],
   "source": []
  },
  {
   "cell_type": "code",
   "execution_count": null,
   "id": "340c6b35-c50b-402c-8b8e-61d80a5d83a1",
   "metadata": {},
   "outputs": [],
   "source": [
    "import pyarrow"
   ]
  },
  {
   "cell_type": "code",
   "execution_count": null,
   "id": "7023e894-1d34-4cc6-a802-a7cef4622494",
   "metadata": {},
   "outputs": [],
   "source": [
    "pyarrow.set_cpu_count(1)"
   ]
  },
  {
   "cell_type": "code",
   "execution_count": null,
   "id": "afdbefb4-0ae7-4d37-857c-99eadaaf0865",
   "metadata": {},
   "outputs": [],
   "source": [
    "from pyarrow.compute import extract_regex"
   ]
  },
  {
   "cell_type": "code",
   "execution_count": null,
   "id": "09017447-8290-4972-b4e1-1fbf0ed2078f",
   "metadata": {},
   "outputs": [],
   "source": [
    "import re\n",
    "pattern = re.compile(r'\\bbig\\b', re.IGNORECASE)"
   ]
  },
  {
   "cell_type": "code",
   "execution_count": null,
   "id": "b02591c0",
   "metadata": {},
   "outputs": [],
   "source": [
    "res = extract_regex(corpus_14million, pattern=r'\\bbig\\b')"
   ]
  },
  {
   "cell_type": "code",
   "execution_count": null,
   "id": "5ebcfc1e",
   "metadata": {
    "scrolled": true
   },
   "outputs": [],
   "source": [
    "res.is_valid().sum()"
   ]
  },
  {
   "cell_type": "code",
   "execution_count": null,
   "id": "21def10d",
   "metadata": {},
   "outputs": [],
   "source": [
    "res.is_valid() * res.is_valid()"
   ]
  },
  {
   "cell_type": "code",
   "execution_count": null,
   "id": "63a91efe",
   "metadata": {},
   "outputs": [],
   "source": [
    "pyarrow.compute.and(res.is_valid(),res.is_valid())"
   ]
  },
  {
   "cell_type": "code",
   "execution_count": null,
   "id": "a1340889",
   "metadata": {},
   "outputs": [],
   "source": [
    "import pyarrow as pa\n",
    "\n",
    "x = pa.array([True]*1000)\n",
    "y = pa.array([False]*1000)\n"
   ]
  },
  {
   "cell_type": "code",
   "execution_count": null,
   "id": "1f84d5f6",
   "metadata": {},
   "outputs": [],
   "source": [
    "%timeit x = pa.array([True]*1000_000)"
   ]
  },
  {
   "cell_type": "code",
   "execution_count": null,
   "id": "2e2d191a",
   "metadata": {},
   "outputs": [],
   "source": [
    "x = pa.array([True]*1000_000)"
   ]
  },
  {
   "cell_type": "code",
   "execution_count": null,
   "id": "90335047",
   "metadata": {},
   "outputs": [],
   "source": [
    "import numpy as np"
   ]
  },
  {
   "cell_type": "code",
   "execution_count": null,
   "id": "4b1a37da",
   "metadata": {},
   "outputs": [],
   "source": [
    "%timeit x = pa.array(np.ones(1_000_000, dtype=bool))"
   ]
  },
  {
   "cell_type": "code",
   "execution_count": null,
   "id": "2756d4c7",
   "metadata": {},
   "outputs": [],
   "source": [
    "np.ones(1_000_000, dtype='bool')"
   ]
  },
  {
   "cell_type": "code",
   "execution_count": null,
   "id": "02b6534e",
   "metadata": {},
   "outputs": [],
   "source": [
    "%timeit x = pa.array(np.ones(1_000_000))"
   ]
  },
  {
   "cell_type": "code",
   "execution_count": null,
   "id": "16626a4f",
   "metadata": {},
   "outputs": [],
   "source": []
  },
  {
   "cell_type": "code",
   "execution_count": null,
   "id": "922542fe",
   "metadata": {},
   "outputs": [],
   "source": [
    "x = pyarrow.compute.and_(x,y)"
   ]
  },
  {
   "cell_type": "code",
   "execution_count": null,
   "id": "485a3e24",
   "metadata": {},
   "outputs": [],
   "source": [
    "x"
   ]
  },
  {
   "cell_type": "code",
   "execution_count": null,
   "id": "b3af5166",
   "metadata": {},
   "outputs": [],
   "source": [
    "pyarrow.compute.and_(res.is_valid(),res.is_valid())"
   ]
  },
  {
   "cell_type": "code",
   "execution_count": null,
   "id": "b7577a67",
   "metadata": {},
   "outputs": [],
   "source": [
    "pyarrow.compute.and_(res.is_valid(),res.is_valid())"
   ]
  },
  {
   "cell_type": "code",
   "execution_count": null,
   "id": "f213413e",
   "metadata": {},
   "outputs": [],
   "source": [
    "np.where(np.array(res.is_valid()))[0].tolist()"
   ]
  },
  {
   "cell_type": "code",
   "execution_count": null,
   "id": "6c41f734-2b2b-4f13-9678-9035a4f06503",
   "metadata": {},
   "outputs": [],
   "source": [
    "%%time\n",
    "res = extract_regex(corpus_14million, pattern=r'\\bbig\\b/i')"
   ]
  },
  {
   "cell_type": "code",
   "execution_count": null,
   "id": "c6b898c5-58fc-40ce-9767-e1224cd7f54c",
   "metadata": {},
   "outputs": [],
   "source": [
    "%%time\n",
    "res_arrow = extract_regex(corpus_14million, pattern=r'(?i)\\bbig\\b')\n",
    "res_arrow_np = np.array(res_arrow.is_valid())\n",
    "indices = np.where(res_arrow_np)[0]"
   ]
  },
  {
   "cell_type": "code",
   "execution_count": null,
   "id": "373db249-7991-4e94-acb8-8095ef4fba80",
   "metadata": {},
   "outputs": [],
   "source": [
    "res_arrow_np.sum()"
   ]
  },
  {
   "cell_type": "code",
   "execution_count": null,
   "id": "13e0ce98",
   "metadata": {},
   "outputs": [],
   "source": [
    "res_arrow_np"
   ]
  },
  {
   "cell_type": "code",
   "execution_count": null,
   "id": "2585a362",
   "metadata": {},
   "outputs": [],
   "source": []
  },
  {
   "cell_type": "code",
   "execution_count": null,
   "id": "7370a3ea",
   "metadata": {},
   "outputs": [],
   "source": [
    "res"
   ]
  },
  {
   "cell_type": "code",
   "execution_count": null,
   "id": "39c095c9-0f76-41c8-befa-5c1da6cdd1f7",
   "metadata": {},
   "outputs": [],
   "source": [
    "S = [\"Big said the man\", 'big boy','bigger than I want']\n",
    "res_arrow = extract_regex(S,\n",
    "                          pattern=r'(?i)\\bbig\\b')"
   ]
  },
  {
   "cell_type": "code",
   "execution_count": null,
   "id": "2cbdb8f2-92fb-4d63-8aa9-321b20bb2d47",
   "metadata": {},
   "outputs": [],
   "source": [
    "res_arrow"
   ]
  },
  {
   "cell_type": "code",
   "execution_count": null,
   "id": "f705a336-c0cd-4600-aa94-369448882bbc",
   "metadata": {},
   "outputs": [],
   "source": [
    "get_indices_sentences_matching_words_regex(words=['big'], sentences=S )"
   ]
  },
  {
   "cell_type": "code",
   "execution_count": null,
   "id": "3bcb562a-bbd7-4210-97f4-1700ffb01b5b",
   "metadata": {},
   "outputs": [],
   "source": [
    "#np.where(res_arrow_np)[0]"
   ]
  },
  {
   "cell_type": "markdown",
   "id": "6bff5198-92c4-43d1-a445-d42c6968de4e",
   "metadata": {},
   "source": [
    "## Test loading + regex "
   ]
  },
  {
   "cell_type": "code",
   "execution_count": null,
   "id": "815ad9bf-157d-4870-8103-8a785ea5ca1e",
   "metadata": {},
   "outputs": [],
   "source": [
    "corpus_14million"
   ]
  },
  {
   "cell_type": "code",
   "execution_count": null,
   "id": "0dde3178-b009-45b4-b182-8644bf2aec9d",
   "metadata": {},
   "outputs": [],
   "source": []
  },
  {
   "cell_type": "code",
   "execution_count": null,
   "id": "dfb35468-bbf6-42ea-af0a-006cb42889ba",
   "metadata": {},
   "outputs": [],
   "source": []
  },
  {
   "cell_type": "code",
   "execution_count": null,
   "id": "291aade7-c85e-4413-b551-77bdb6c7bb5c",
   "metadata": {},
   "outputs": [],
   "source": []
  },
  {
   "cell_type": "code",
   "execution_count": null,
   "id": "f2504e28-1dec-4c73-b905-1177512bb11c",
   "metadata": {},
   "outputs": [],
   "source": [
    "%timeit pyarrow.compute.sum(res_arrow.is_valid())"
   ]
  },
  {
   "cell_type": "code",
   "execution_count": null,
   "id": "5e625f6f-d320-4e99-a0fc-a07d182b825f",
   "metadata": {},
   "outputs": [],
   "source": [
    "res_par = get_indices_sentences_matching_words_regex_parallel(words=['big'], sentences=corpus_14million);"
   ]
  },
  {
   "cell_type": "code",
   "execution_count": null,
   "id": "296da420-419c-47b9-ab2c-c1598bb25fe9",
   "metadata": {},
   "outputs": [],
   "source": [
    "len(res_par)"
   ]
  },
  {
   "cell_type": "code",
   "execution_count": null,
   "id": "0ab4a6fa-1a3c-4044-981d-d207a241a1ed",
   "metadata": {},
   "outputs": [],
   "source": [
    "#corpus_14million"
   ]
  },
  {
   "cell_type": "code",
   "execution_count": null,
   "id": "459495c6-6d77-4ce0-8890-6b36f7474c40",
   "metadata": {},
   "outputs": [],
   "source": [
    "res = extract_regex(corpus_14million, pattern=r'big')"
   ]
  },
  {
   "cell_type": "code",
   "execution_count": null,
   "id": "f7db61aa-ef8f-4859-8348-e3b94924f3b0",
   "metadata": {},
   "outputs": [],
   "source": [
    "len(res)"
   ]
  },
  {
   "cell_type": "code",
   "execution_count": null,
   "id": "9376520d-5417-4045-8903-bc3d532b4628",
   "metadata": {},
   "outputs": [],
   "source": []
  },
  {
   "cell_type": "code",
   "execution_count": null,
   "id": "16de30f5-bd73-4367-b777-c89d6abcf1c3",
   "metadata": {},
   "outputs": [],
   "source": [
    "import numpy as np\n",
    "res_arrow = np.array(res_arrow.is_valid())"
   ]
  },
  {
   "cell_type": "code",
   "execution_count": null,
   "id": "217bff84-e31e-4298-8fe9-9e247ee78399",
   "metadata": {},
   "outputs": [],
   "source": [
    "res_arrow == np.array(res_par)"
   ]
  },
  {
   "cell_type": "code",
   "execution_count": null,
   "id": "b6d6d2cf-bfea-41b5-a4d2-c0861999e740",
   "metadata": {},
   "outputs": [],
   "source": [
    "len(np.where(res_arrow)[0])"
   ]
  },
  {
   "cell_type": "code",
   "execution_count": null,
   "id": "c3476b2b-0eea-4ca4-a010-7784d2e8e15d",
   "metadata": {},
   "outputs": [],
   "source": [
    "len(res_par)"
   ]
  },
  {
   "cell_type": "code",
   "execution_count": null,
   "id": "9b1362ea-11e2-4499-bcb4-ad322f721d93",
   "metadata": {},
   "outputs": [],
   "source": [
    "res_arrow.shape"
   ]
  },
  {
   "cell_type": "code",
   "execution_count": null,
   "id": "cbc867f4-7d4b-4f0e-9a24-e68caafd13fc",
   "metadata": {},
   "outputs": [],
   "source": [
    "!open ."
   ]
  },
  {
   "cell_type": "code",
   "execution_count": null,
   "id": "70cc84e7-bdde-4cc8-900b-f5446def03b0",
   "metadata": {},
   "outputs": [],
   "source": []
  },
  {
   "cell_type": "markdown",
   "id": "aaf5089c-2ff8-4029-b655-5ad9df0184b6",
   "metadata": {},
   "source": [
    "Adding more data"
   ]
  },
  {
   "cell_type": "code",
   "execution_count": null,
   "id": "6dc49181-6872-4cb9-847d-3d599555eba2",
   "metadata": {},
   "outputs": [],
   "source": [
    "corpus_40million = 20*[*corpus]"
   ]
  },
  {
   "cell_type": "code",
   "execution_count": null,
   "id": "3a53751d-2414-4528-b92c-40bba50b20fc",
   "metadata": {},
   "outputs": [],
   "source": [
    "%%time\n",
    "res_arrow = extract_regex(corpus_40million,\n",
    "                          pattern=r'(?i)\\bbig\\b')"
   ]
  },
  {
   "cell_type": "code",
   "execution_count": null,
   "id": "af9b4542-bd8d-44bd-b205-bbe5b16a1e93",
   "metadata": {},
   "outputs": [],
   "source": []
  },
  {
   "cell_type": "code",
   "execution_count": null,
   "id": "aea5d09f-0814-45e9-b881-4683e97ac86f",
   "metadata": {},
   "outputs": [],
   "source": [
    "%%time\n",
    "get_indices_sentences_matching_words_regex(words=['big'], sentences=corpus_40million);"
   ]
  },
  {
   "cell_type": "code",
   "execution_count": null,
   "id": "35a76b9b-0033-4360-8199-6b80dd6253a8",
   "metadata": {},
   "outputs": [],
   "source": [
    "%%time\n",
    "get_indices_sentences_matching_words_regex_parallel(words=['big'],\n",
    "                                                    sentences=corpus_40million,\n",
    "                                                    n_jobs=3);"
   ]
  },
  {
   "cell_type": "code",
   "execution_count": null,
   "id": "5d7f3375-a03a-4acf-8cf7-931a249b006e",
   "metadata": {},
   "outputs": [],
   "source": [
    "%%time\n",
    "get_indices_sentences_matching_words_regex_parallel(words=['big'],\n",
    "                                                    sentences=corpus_40million,\n",
    "                                                    n_jobs=6);"
   ]
  },
  {
   "cell_type": "code",
   "execution_count": null,
   "id": "a2b5a1df-4221-432e-a633-3b9a75c82f1d",
   "metadata": {},
   "outputs": [],
   "source": [
    "%%time\n",
    "get_indices_sentences_matching_words_regex_parallel(words=['big'],\n",
    "                                                    sentences=corpus_40million,\n",
    "                                                    n_jobs=10);"
   ]
  },
  {
   "cell_type": "code",
   "execution_count": null,
   "id": "5a3c2461-fc68-4671-89de-3e9758b18fa7",
   "metadata": {},
   "outputs": [],
   "source": [
    "from gaia_science.common_base.dataframe_tools.utils import get_batches"
   ]
  },
  {
   "cell_type": "code",
   "execution_count": null,
   "id": "606865d1-5f91-43f0-815a-8ae563e813d8",
   "metadata": {},
   "outputs": [],
   "source": [
    "%%time\n",
    "n_jobs = 8\n",
    "n_sentences = len(corpus_40million)\n",
    "n_batch = int(n_sentences/n_jobs)\n",
    "\n",
    "partial_start_positions = [0] + list(np.cumsum([len(x) for x in get_batches(range(n_sentences), n_batch)]))"
   ]
  },
  {
   "cell_type": "markdown",
   "id": "6a3a071b-69b1-444d-9148-21d1f26fd44c",
   "metadata": {},
   "source": [
    "### Edit distance"
   ]
  },
  {
   "cell_type": "code",
   "execution_count": null,
   "id": "f0fb9172-1ab3-43db-b0b3-b6e89466ee9f",
   "metadata": {},
   "outputs": [],
   "source": [
    "from gaia_science.common_base.string_utils.string_distances.edit_distance import EditDistanceInt"
   ]
  },
  {
   "cell_type": "code",
   "execution_count": null,
   "id": "89951379-c326-478b-a892-47d05efe9ec6",
   "metadata": {},
   "outputs": [],
   "source": [
    "d = EditDistanceInt(1,1,1)\n",
    "d.evaluate('hi','ho')"
   ]
  },
  {
   "cell_type": "markdown",
   "id": "35f19878-bba8-4f91-a527-cb1d60635058",
   "metadata": {},
   "source": [
    "### BKtree"
   ]
  },
  {
   "cell_type": "code",
   "execution_count": null,
   "id": "b60ceb85-9a3e-471d-9a50-ccfaee4986dd",
   "metadata": {},
   "outputs": [],
   "source": [
    "from gaia_science.common_base.string_utils.data_structures.bktree import BKTree"
   ]
  },
  {
   "cell_type": "code",
   "execution_count": null,
   "id": "99189bb6-4a50-42b3-a22f-ee582ded3a52",
   "metadata": {},
   "outputs": [],
   "source": [
    "import random\n",
    "import string\n",
    "\n",
    "def build_vocab(n_words, n_min_per_word, n_max_per_word):\n",
    "    letters = string.ascii_lowercase\n",
    "    random.seed(10)\n",
    "    all_words = []\n",
    "    for w in range(n_words):\n",
    "        n = random.randint(n_min_per_word, n_max_per_word)\n",
    "        all_words.append(''.join(random.choice(letters) for i in range(n)))\n",
    "                         \n",
    "    return all_words"
   ]
  },
  {
   "cell_type": "code",
   "execution_count": null,
   "id": "e8581fcf-640c-4092-9405-3dfee691f310",
   "metadata": {},
   "outputs": [],
   "source": [
    "vocabulary = build_vocab(500_000, 2, 18)"
   ]
  },
  {
   "cell_type": "code",
   "execution_count": null,
   "id": "ac27e6db-3c71-41a8-9a3b-3a33c13736a7",
   "metadata": {},
   "outputs": [],
   "source": [
    "query = 'help'\n",
    "max_dist = 1"
   ]
  },
  {
   "cell_type": "code",
   "execution_count": null,
   "id": "917e14ad-f8ac-418c-a609-bf7024f728d5",
   "metadata": {},
   "outputs": [],
   "source": [
    "t1 = %timeit -o  candidates = [w for w in vocabulary if d.evaluate(query,w) <=max_dist]"
   ]
  },
  {
   "cell_type": "code",
   "execution_count": null,
   "id": "a94d8f8d-70d4-46b1-b137-2f52c8e2aafe",
   "metadata": {},
   "outputs": [],
   "source": [
    "candidates.sort()\n",
    "candidates"
   ]
  },
  {
   "cell_type": "code",
   "execution_count": null,
   "id": "e868eae7-fba8-4429-89fc-fc41f5e186b7",
   "metadata": {},
   "outputs": [],
   "source": [
    "bktree = BKTree(d.evaluate)"
   ]
  },
  {
   "cell_type": "code",
   "execution_count": null,
   "id": "4e3a2aa4-7baf-434d-8da9-0a20715937bc",
   "metadata": {},
   "outputs": [],
   "source": [
    "%%time\n",
    "bktree.fit(vocabulary)"
   ]
  },
  {
   "cell_type": "code",
   "execution_count": null,
   "id": "f0906d52-989c-42d7-83ec-5ce0c5b995fd",
   "metadata": {},
   "outputs": [],
   "source": [
    "t2 = %timeit -o candidates = bktree.query(query, max_dist=max_dist)"
   ]
  },
  {
   "cell_type": "code",
   "execution_count": null,
   "id": "84a15630-b7b5-46ec-91f9-17d1bbe8f56c",
   "metadata": {},
   "outputs": [],
   "source": [
    "candidates.sort()\n",
    "candidates"
   ]
  },
  {
   "cell_type": "code",
   "execution_count": null,
   "id": "3d4f8dd2-bcf9-4c4c-a167-fe12531567a6",
   "metadata": {},
   "outputs": [],
   "source": [
    "t1.average/t2.average"
   ]
  },
  {
   "cell_type": "code",
   "execution_count": null,
   "id": "f3043bcd-9586-4cad-aac4-8cfcc576515b",
   "metadata": {},
   "outputs": [],
   "source": []
  },
  {
   "cell_type": "code",
   "execution_count": null,
   "id": "aa0e81ca-be88-4490-aee5-1e79173dbdee",
   "metadata": {},
   "outputs": [],
   "source": []
  },
  {
   "cell_type": "code",
   "execution_count": null,
   "id": "33b451ea-5701-45f8-a74a-d16acee75448",
   "metadata": {},
   "outputs": [],
   "source": []
  },
  {
   "cell_type": "code",
   "execution_count": null,
   "id": "7f966b6b-fa4a-4808-b7f9-b0028add3cf1",
   "metadata": {},
   "outputs": [],
   "source": []
  },
  {
   "cell_type": "code",
   "execution_count": null,
   "id": "71885d97-0a74-42f8-b529-8d2f108680a7",
   "metadata": {},
   "outputs": [],
   "source": [
    "import pandas as pd"
   ]
  },
  {
   "cell_type": "code",
   "execution_count": null,
   "id": "b7d7e730-04d2-410d-a826-e92aca32cd35",
   "metadata": {},
   "outputs": [],
   "source": [
    "results = pd.DataFrame()"
   ]
  },
  {
   "cell_type": "code",
   "execution_count": null,
   "id": "61866d28-7f87-46f4-975d-772a0d8e4732",
   "metadata": {},
   "outputs": [],
   "source": [
    "partial = pd.DataFrame({'a':[1,2,3],'b':['a','c','d']})"
   ]
  },
  {
   "cell_type": "code",
   "execution_count": null,
   "id": "1ded2bd6-95d8-4fdc-8ebd-2933192f8e9f",
   "metadata": {},
   "outputs": [],
   "source": [
    "partial"
   ]
  },
  {
   "cell_type": "code",
   "execution_count": null,
   "id": "0dc8625d-1d82-4010-845d-883c9bef6083",
   "metadata": {},
   "outputs": [],
   "source": [
    "results = pd.concat((results,partial))"
   ]
  },
  {
   "cell_type": "code",
   "execution_count": null,
   "id": "4ab7d8fb-f8c1-474b-93eb-8e094dbf6695",
   "metadata": {},
   "outputs": [],
   "source": [
    "results"
   ]
  },
  {
   "cell_type": "code",
   "execution_count": null,
   "id": "70657b59-dde8-4880-999c-9f6630cf80fb",
   "metadata": {},
   "outputs": [],
   "source": [
    "results = pd.concat((results,partial))"
   ]
  },
  {
   "cell_type": "code",
   "execution_count": null,
   "id": "cd5b3f17-fe8e-4e1e-bb78-a3e4fc2fa29f",
   "metadata": {},
   "outputs": [],
   "source": [
    "results.reset_index(drop=True)"
   ]
  },
  {
   "cell_type": "code",
   "execution_count": null,
   "id": "8306c40d-8964-41bf-a41b-08e40af4fa51",
   "metadata": {},
   "outputs": [],
   "source": [
    "def append_many_df(initial_df, n=10_000):\n",
    "    df_res = pd.DataFrame()\n",
    "    for i in range(n):\n",
    "        df_res = pd.concat((df_res, initial_df))\n",
    "    return df_res.reset_index(drop=True)"
   ]
  },
  {
   "cell_type": "code",
   "execution_count": null,
   "id": "e0864a0a-35a7-4879-a6fb-1ded75dbc5b7",
   "metadata": {},
   "outputs": [],
   "source": [
    "initial_df = pd.DataFrame({'a':[1,2,3],'b':['a','c','d']})"
   ]
  },
  {
   "cell_type": "code",
   "execution_count": null,
   "id": "4ab9c9e4-4ddc-4e9d-bb6b-7237b8a7f436",
   "metadata": {},
   "outputs": [],
   "source": [
    "%%time\n",
    "append_many_df(initial_df)"
   ]
  },
  {
   "cell_type": "code",
   "execution_count": null,
   "id": "ef20b788-3e72-488f-be64-9bc5648401e7",
   "metadata": {},
   "outputs": [],
   "source": [
    "def append_many_df_as_list(initial_df, n=10_000):\n",
    "    df_res = pd.DataFrame()\n",
    "    for i in range(n):\n",
    "        df_res = pd.concat((df_res, initial_df))\n",
    "    return df_res.reset_index(drop=True)"
   ]
  },
  {
   "cell_type": "code",
   "execution_count": null,
   "id": "9b245750-5463-4d8a-8cad-4d9fa5c64112",
   "metadata": {},
   "outputs": [],
   "source": [
    "%%\n",
    "append_many_df(initial_df)"
   ]
  },
  {
   "cell_type": "code",
   "execution_count": null,
   "id": "1afcdbda-a1a2-4431-9911-01177fffbd6f",
   "metadata": {},
   "outputs": [],
   "source": []
  },
  {
   "cell_type": "code",
   "execution_count": null,
   "id": "2fca4fcc-db4d-476b-a1c2-51fabd06ba2e",
   "metadata": {},
   "outputs": [],
   "source": []
  }
 ],
 "metadata": {
  "kernelspec": {
   "display_name": "Python 3 (ipykernel)",
   "language": "python",
   "name": "python3"
  },
  "language_info": {
   "codemirror_mode": {
    "name": "ipython",
    "version": 3
   },
   "file_extension": ".py",
   "mimetype": "text/x-python",
   "name": "python",
   "nbconvert_exporter": "python",
   "pygments_lexer": "ipython3",
   "version": "3.9.12"
  }
 },
 "nbformat": 4,
 "nbformat_minor": 5
}

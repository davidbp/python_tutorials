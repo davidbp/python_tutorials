import pyarrow


from pyarrow import Table





import pyarrow as pa
left = pa.array(["one", "two", "three"])


left 





from pyarrow import compute
from pyarrow.compute import extract_regex


res = extract_regex(['hi there','hello hio'], pattern='hi\s')
res


res = extract_regex(['hi there','hello hio'], pattern='hio')


res


res.is_valid()[0]


res.is_valid()[]


res











import pandas as pd










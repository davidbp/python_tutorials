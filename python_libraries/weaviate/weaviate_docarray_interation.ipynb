{
 "cells": [
  {
   "cell_type": "markdown",
   "metadata": {
    "toc": true
   },
   "source": [
    "<h1>Table of Contents<span class=\"tocSkip\"></span></h1>\n",
    "<div class=\"toc\"><ul class=\"toc-item\"><li><span><a href=\"#Write-to-db\" data-toc-modified-id=\"Write-to-db-1\"><span class=\"toc-item-num\">1&nbsp;&nbsp;</span>Write to db</a></span></li><li><span><a href=\"#Get-all-db-Documents\" data-toc-modified-id=\"Get-all-db-Documents-2\"><span class=\"toc-item-num\">2&nbsp;&nbsp;</span>Get all db Documents</a></span></li><li><span><a href=\"#Load-Document-from-db-given-id\" data-toc-modified-id=\"Load-Document-from-db-given-id-3\"><span class=\"toc-item-num\">3&nbsp;&nbsp;</span>Load Document from db given id</a></span></li><li><span><a href=\"#Delete-Document-given-id\" data-toc-modified-id=\"Delete-Document-given-id-4\"><span class=\"toc-item-num\">4&nbsp;&nbsp;</span>Delete Document given id</a></span></li><li><span><a href=\"#Search-Documents-given-query-Document\" data-toc-modified-id=\"Search-Documents-given-query-Document-5\"><span class=\"toc-item-num\">5&nbsp;&nbsp;</span>Search Documents given query Document</a></span></li><li><span><a href=\"#Update-doc-given-id\" data-toc-modified-id=\"Update-doc-given-id-6\"><span class=\"toc-item-num\">6&nbsp;&nbsp;</span>Update doc given id</a></span></li></ul></div>"
   ]
  },
  {
   "cell_type": "code",
   "execution_count": 1,
   "metadata": {
    "ExecuteTime": {
     "end_time": "2022-01-14T15:21:34.875351Z",
     "start_time": "2022-01-14T15:21:34.852983Z"
    }
   },
   "outputs": [],
   "source": [
    "%load_ext autoreload\n",
    "\n",
    "%autoreload 2"
   ]
  },
  {
   "cell_type": "code",
   "execution_count": 2,
   "metadata": {
    "ExecuteTime": {
     "end_time": "2022-01-14T15:21:35.162834Z",
     "start_time": "2022-01-14T15:21:34.877004Z"
    }
   },
   "outputs": [],
   "source": [
    "import numpy as np\n",
    "import weaviate\n",
    "import utils"
   ]
  },
  {
   "cell_type": "code",
   "execution_count": 3,
   "metadata": {
    "ExecuteTime": {
     "end_time": "2022-01-14T15:21:35.307297Z",
     "start_time": "2022-01-14T15:21:35.164389Z"
    }
   },
   "outputs": [
    {
     "name": "stdout",
     "output_type": "stream",
     "text": [
      "{\"hostname\":\"http://[::]:8080\",\"modules\":{},\"version\":\"1.9.0\"}\r\n"
     ]
    }
   ],
   "source": [
    "!curl -s http://localhost:8080/v1/meta"
   ]
  },
  {
   "cell_type": "code",
   "execution_count": 4,
   "metadata": {
    "ExecuteTime": {
     "end_time": "2022-01-14T15:21:35.338810Z",
     "start_time": "2022-01-14T15:21:35.310305Z"
    }
   },
   "outputs": [],
   "source": [
    "client = weaviate.Client('http://localhost:8080')"
   ]
  },
  {
   "cell_type": "code",
   "execution_count": 5,
   "metadata": {
    "ExecuteTime": {
     "end_time": "2022-01-14T15:21:35.360248Z",
     "start_time": "2022-01-14T15:21:35.343504Z"
    }
   },
   "outputs": [],
   "source": [
    "from docarray import Document\n",
    "\n",
    "doc_schema = {\n",
    "            'class': 'Document',\n",
    "            'properties': [\n",
    "                {'dataType': ['blob'], 'name': 'serialized_doc'},\n",
    "            ],\n",
    "                'vectorizer': 'none',\n",
    "        }"
   ]
  },
  {
   "cell_type": "markdown",
   "metadata": {},
   "source": [
    "We can make sure to clean the db to start with"
   ]
  },
  {
   "cell_type": "code",
   "execution_count": 6,
   "metadata": {
    "ExecuteTime": {
     "end_time": "2022-01-14T15:21:35.391653Z",
     "start_time": "2022-01-14T15:21:35.361811Z"
    }
   },
   "outputs": [],
   "source": [
    "client.schema.delete_all()"
   ]
  },
  {
   "cell_type": "markdown",
   "metadata": {},
   "source": [
    "## Write to db"
   ]
  },
  {
   "cell_type": "code",
   "execution_count": 7,
   "metadata": {
    "ExecuteTime": {
     "end_time": "2022-01-14T15:21:35.413494Z",
     "start_time": "2022-01-14T15:21:35.393226Z"
    }
   },
   "outputs": [],
   "source": [
    "d1 = Document(embedding=np.array([1,2,3]))\n",
    "d2 = Document(embedding=np.array([0,0,0]))\n",
    "d3 = Document(embedding=np.array([1,0,0]))\n",
    "d4 = Document(embedding=np.array([0,1,0]))\n",
    "d5 = Document(embedding=np.array([.5,0,0]))\n",
    "\n",
    "docs = [d1,d2,d3,d4,d5]"
   ]
  },
  {
   "cell_type": "code",
   "execution_count": 8,
   "metadata": {
    "ExecuteTime": {
     "end_time": "2022-01-14T15:21:35.458396Z",
     "start_time": "2022-01-14T15:21:35.415175Z"
    }
   },
   "outputs": [],
   "source": [
    "for d in docs:\n",
    "    utils.write_to_weaviate(client, d)"
   ]
  },
  {
   "cell_type": "markdown",
   "metadata": {},
   "source": [
    "## Get all db Documents"
   ]
  },
  {
   "cell_type": "code",
   "execution_count": 9,
   "metadata": {
    "ExecuteTime": {
     "end_time": "2022-01-14T15:21:35.496960Z",
     "start_time": "2022-01-14T15:21:35.462502Z"
    }
   },
   "outputs": [
    {
     "data": {
      "text/plain": [
       "[<Document ('id', 'embedding') at a93fe2f6754d11ec9fe0787b8ab3f5de>,\n",
       " <Document ('id', 'embedding') at a93fe788754d11ec9fe0787b8ab3f5de>,\n",
       " <Document ('id', 'embedding') at a93fe9d6754d11ec9fe0787b8ab3f5de>,\n",
       " <Document ('id', 'embedding') at a93fed50754d11ec9fe0787b8ab3f5de>,\n",
       " <Document ('id', 'embedding') at a93ff02a754d11ec9fe0787b8ab3f5de>]"
      ]
     },
     "execution_count": 9,
     "metadata": {},
     "output_type": "execute_result"
    }
   ],
   "source": [
    "utils.get_all_docs(client)"
   ]
  },
  {
   "cell_type": "code",
   "execution_count": 10,
   "metadata": {
    "ExecuteTime": {
     "end_time": "2022-01-14T15:21:35.531102Z",
     "start_time": "2022-01-14T15:21:35.498743Z"
    }
   },
   "outputs": [
    {
     "name": "stdout",
     "output_type": "stream",
     "text": [
      "[1 2 3]\n",
      "[0 0 0]\n",
      "[1 0 0]\n",
      "[0 1 0]\n",
      "[0.5 0.  0. ]\n"
     ]
    }
   ],
   "source": [
    "for d in utils.get_all_docs(client):\n",
    "    print(d.embedding)"
   ]
  },
  {
   "cell_type": "markdown",
   "metadata": {},
   "source": [
    "## Load Document from db given id"
   ]
  },
  {
   "cell_type": "code",
   "execution_count": 11,
   "metadata": {
    "ExecuteTime": {
     "end_time": "2022-01-14T15:21:35.562757Z",
     "start_time": "2022-01-14T15:21:35.532983Z"
    }
   },
   "outputs": [
    {
     "name": "stdout",
     "output_type": "stream",
     "text": [
      " <Document ('id', 'embedding') at a93fe2f6754d11ec9fe0787b8ab3f5de>\n"
     ]
    }
   ],
   "source": [
    "doc_id = docs[0].id\n",
    "utils.get_doc_by_id(client, doc_id )"
   ]
  },
  {
   "cell_type": "markdown",
   "metadata": {},
   "source": [
    "## Delete Document given id"
   ]
  },
  {
   "cell_type": "code",
   "execution_count": 12,
   "metadata": {
    "ExecuteTime": {
     "end_time": "2022-01-14T15:21:35.587299Z",
     "start_time": "2022-01-14T15:21:35.564671Z"
    }
   },
   "outputs": [],
   "source": [
    "utils.delete_given_id(client, d5.id)"
   ]
  },
  {
   "cell_type": "code",
   "execution_count": 13,
   "metadata": {
    "ExecuteTime": {
     "end_time": "2022-01-14T15:21:35.613019Z",
     "start_time": "2022-01-14T15:21:35.588731Z"
    }
   },
   "outputs": [
    {
     "name": "stdout",
     "output_type": "stream",
     "text": [
      "[1 2 3]\n",
      "[0 0 0]\n",
      "[1 0 0]\n",
      "[0 1 0]\n"
     ]
    }
   ],
   "source": [
    "for d in utils.get_all_docs(client):\n",
    "    print(d.embedding)"
   ]
  },
  {
   "cell_type": "markdown",
   "metadata": {
    "ExecuteTime": {
     "end_time": "2022-01-14T07:22:13.884976Z",
     "start_time": "2022-01-14T07:22:13.870199Z"
    }
   },
   "source": [
    "## Search Documents given query Document\n",
    "\n",
    "\n",
    "- <span style='color:red'> What is the certainty returned ? (why there is a None value?) </span>\n",
    "\n",
    "- <span style='color:red'> What distance is used ? </span>\n",
    "\n",
    "- <span style='color:red'> How can we get the distance measure returned ? </span>\n",
    "\n",
    "- <span style='color:red'> How can we get change the distance measure used (if possible)? </span>\n",
    "\n"
   ]
  },
  {
   "cell_type": "code",
   "execution_count": 14,
   "metadata": {
    "ExecuteTime": {
     "end_time": "2022-01-14T15:21:35.641368Z",
     "start_time": "2022-01-14T15:21:35.614723Z"
    },
    "scrolled": true
   },
   "outputs": [
    {
     "data": {
      "text/plain": [
       "{'data': {'Get': {'Document': [{'_additional': {'certainty': None,\n",
       "      'id': 'a93fe788-754d-11ec-9fe0-787b8ab3f5de'}},\n",
       "    {'_additional': {'certainty': 1,\n",
       "      'id': 'a93fe9d6-754d-11ec-9fe0-787b8ab3f5de'}},\n",
       "    {'_additional': {'certainty': 0.5,\n",
       "      'id': 'a93fed50-754d-11ec-9fe0-787b8ab3f5de'}},\n",
       "    {'_additional': {'certainty': 0.63363063,\n",
       "      'id': 'a93fe2f6-754d-11ec-9fe0-787b8ab3f5de'}}]}}}"
      ]
     },
     "execution_count": 14,
     "metadata": {},
     "output_type": "execute_result"
    }
   ],
   "source": [
    "# what does certainty mean ? \n",
    "# Wh\n",
    "query_embedding = {'vector':np.array([0.9,0,0])}\n",
    "client.query.get('Document', ['_additional {certainty}','_additional {id}']).with_near_vector(query_embedding).do()"
   ]
  },
  {
   "cell_type": "code",
   "execution_count": 15,
   "metadata": {
    "ExecuteTime": {
     "end_time": "2022-01-14T15:21:35.661020Z",
     "start_time": "2022-01-14T15:21:35.643246Z"
    }
   },
   "outputs": [],
   "source": [
    "q =  Document(embedding=np.array([0.9,0,0]))"
   ]
  },
  {
   "cell_type": "code",
   "execution_count": 16,
   "metadata": {
    "ExecuteTime": {
     "end_time": "2022-01-14T15:21:35.704802Z",
     "start_time": "2022-01-14T15:21:35.662535Z"
    },
    "scrolled": true
   },
   "outputs": [
    {
     "data": {
      "text/plain": [
       "[<Document ('id', 'embedding') at a93fe788754d11ec9fe0787b8ab3f5de>,\n",
       " <Document ('id', 'embedding') at a93fe9d6754d11ec9fe0787b8ab3f5de>,\n",
       " <Document ('id', 'embedding') at a93fed50754d11ec9fe0787b8ab3f5de>,\n",
       " <Document ('id', 'embedding') at a93fe2f6754d11ec9fe0787b8ab3f5de>]"
      ]
     },
     "execution_count": 16,
     "metadata": {},
     "output_type": "execute_result"
    }
   ],
   "source": [
    "utils.search_near_docs(client, q)"
   ]
  },
  {
   "cell_type": "code",
   "execution_count": 17,
   "metadata": {
    "ExecuteTime": {
     "end_time": "2022-01-14T15:21:35.748702Z",
     "start_time": "2022-01-14T15:21:35.706449Z"
    },
    "scrolled": true
   },
   "outputs": [
    {
     "name": "stdout",
     "output_type": "stream",
     "text": [
      "[0 0 0]\n",
      "[1 0 0]\n",
      "[0 1 0]\n",
      "[1 2 3]\n"
     ]
    }
   ],
   "source": [
    "# here the doc with embedding [1,0,0] should be the first retrieved item if euclidean dist\n",
    "for d in utils.search_near_docs(client, q):\n",
    "    print(d.embedding)"
   ]
  },
  {
   "cell_type": "markdown",
   "metadata": {},
   "source": [
    "## Update doc given id\n",
    "\n",
    "Internally we can use data_object.replace to update the document of a DocumentArray by a another document\n",
    "\n",
    "- <span style='color:red'> Why we need to pass a vector ? If I don't I get the following error</span>\n",
    "\n",
    "\n",
    "```\n",
    "UnexpectedStatusCodeException: Replace object! Unexpected status code: 500, with response body: {'error': [{'message': \"update object: this class is configured to use vectorizer 'none' thus a vector must be present when importing, got: field 'vector' is empty or contains a zero-length vector\"}]}\n",
    "```"
   ]
  },
  {
   "cell_type": "code",
   "execution_count": 18,
   "metadata": {
    "ExecuteTime": {
     "end_time": "2022-01-14T15:21:35.774604Z",
     "start_time": "2022-01-14T15:21:35.750268Z"
    }
   },
   "outputs": [
    {
     "name": "stdout",
     "output_type": "stream",
     "text": [
      "[1 2 3]\n",
      "[0 0 0]\n",
      "[1 0 0]\n",
      "[0 1 0]\n"
     ]
    }
   ],
   "source": [
    "wdocs = utils.get_all_docs(client)\n",
    "for d in wdocs:\n",
    "    print(d.embedding)"
   ]
  },
  {
   "cell_type": "code",
   "execution_count": 20,
   "metadata": {
    "ExecuteTime": {
     "end_time": "2022-01-14T15:21:40.867574Z",
     "start_time": "2022-01-14T15:21:40.846166Z"
    }
   },
   "outputs": [],
   "source": [
    "d = wdocs[0]\n",
    "d.embedding = [6,6,6]\n",
    "\n",
    "utils.update_doc_given_id(client, d)"
   ]
  },
  {
   "cell_type": "code",
   "execution_count": 21,
   "metadata": {
    "ExecuteTime": {
     "end_time": "2022-01-14T15:21:41.152624Z",
     "start_time": "2022-01-14T15:21:41.130327Z"
    }
   },
   "outputs": [
    {
     "name": "stdout",
     "output_type": "stream",
     "text": [
      "[6, 6, 6]\n",
      "[0 0 0]\n",
      "[1 0 0]\n",
      "[0 1 0]\n"
     ]
    }
   ],
   "source": [
    "wdocs = utils.get_all_docs(client)\n",
    "for d in wdocs:\n",
    "    print(d.embedding)"
   ]
  },
  {
   "cell_type": "code",
   "execution_count": null,
   "metadata": {},
   "outputs": [],
   "source": []
  },
  {
   "cell_type": "code",
   "execution_count": null,
   "metadata": {},
   "outputs": [],
   "source": []
  },
  {
   "cell_type": "code",
   "execution_count": null,
   "metadata": {},
   "outputs": [],
   "source": []
  }
 ],
 "metadata": {
  "kernelspec": {
   "display_name": "Python 3 (ipykernel)",
   "language": "python",
   "name": "python3"
  },
  "language_info": {
   "codemirror_mode": {
    "name": "ipython",
    "version": 3
   },
   "file_extension": ".py",
   "mimetype": "text/x-python",
   "name": "python",
   "nbconvert_exporter": "python",
   "pygments_lexer": "ipython3",
   "version": "3.8.5"
  },
  "toc": {
   "base_numbering": 1,
   "nav_menu": {},
   "number_sections": true,
   "sideBar": true,
   "skip_h1_title": false,
   "title_cell": "Table of Contents",
   "title_sidebar": "Contents",
   "toc_cell": true,
   "toc_position": {
    "height": "calc(100% - 180px)",
    "left": "10px",
    "top": "150px",
    "width": "165px"
   },
   "toc_section_display": true,
   "toc_window_display": true
  },
  "varInspector": {
   "cols": {
    "lenName": 16,
    "lenType": 16,
    "lenVar": 40
   },
   "kernels_config": {
    "python": {
     "delete_cmd_postfix": "",
     "delete_cmd_prefix": "del ",
     "library": "var_list.py",
     "varRefreshCmd": "print(var_dic_list())"
    },
    "r": {
     "delete_cmd_postfix": ") ",
     "delete_cmd_prefix": "rm(",
     "library": "var_list.r",
     "varRefreshCmd": "cat(var_dic_list()) "
    }
   },
   "types_to_exclude": [
    "module",
    "function",
    "builtin_function_or_method",
    "instance",
    "_Feature"
   ],
   "window_display": false
  }
 },
 "nbformat": 4,
 "nbformat_minor": 4
}

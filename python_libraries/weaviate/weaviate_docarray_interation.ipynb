{
 "cells": [
  {
   "cell_type": "markdown",
   "metadata": {
    "toc": true
   },
   "source": [
    "<h1>Table of Contents<span class=\"tocSkip\"></span></h1>\n",
    "<div class=\"toc\"><ul class=\"toc-item\"><li><span><a href=\"#Write-to-db\" data-toc-modified-id=\"Write-to-db-1\"><span class=\"toc-item-num\">1&nbsp;&nbsp;</span>Write to db</a></span></li><li><span><a href=\"#Get-all-db-Documents\" data-toc-modified-id=\"Get-all-db-Documents-2\"><span class=\"toc-item-num\">2&nbsp;&nbsp;</span>Get all db Documents</a></span></li><li><span><a href=\"#Load-Document-from-db-given-id\" data-toc-modified-id=\"Load-Document-from-db-given-id-3\"><span class=\"toc-item-num\">3&nbsp;&nbsp;</span>Load Document from db given id</a></span></li><li><span><a href=\"#Delete-Document-given-id\" data-toc-modified-id=\"Delete-Document-given-id-4\"><span class=\"toc-item-num\">4&nbsp;&nbsp;</span>Delete Document given id</a></span></li><li><span><a href=\"#Search-Documents-given-query-Document\" data-toc-modified-id=\"Search-Documents-given-query-Document-5\"><span class=\"toc-item-num\">5&nbsp;&nbsp;</span>Search Documents given query Document</a></span></li><li><span><a href=\"#Update-doc-given-id\" data-toc-modified-id=\"Update-doc-given-id-6\"><span class=\"toc-item-num\">6&nbsp;&nbsp;</span>Update doc given id</a></span></li></ul></div>"
   ]
  },
  {
   "cell_type": "code",
   "execution_count": 6,
   "metadata": {
    "ExecuteTime": {
     "end_time": "2022-01-14T14:56:34.751794Z",
     "start_time": "2022-01-14T14:56:34.736544Z"
    }
   },
   "outputs": [
    {
     "name": "stdout",
     "output_type": "stream",
     "text": [
      "The autoreload extension is already loaded. To reload it, use:\n",
      "  %reload_ext autoreload\n"
     ]
    }
   ],
   "source": [
    "%load_ext autoreload\n",
    "\n",
    "%autoreload 2"
   ]
  },
  {
   "cell_type": "code",
   "execution_count": 7,
   "metadata": {
    "ExecuteTime": {
     "end_time": "2022-01-14T14:56:34.965591Z",
     "start_time": "2022-01-14T14:56:34.950281Z"
    }
   },
   "outputs": [],
   "source": [
    "import numpy as np\n",
    "import weaviate\n",
    "import utils"
   ]
  },
  {
   "cell_type": "code",
   "execution_count": 8,
   "metadata": {
    "ExecuteTime": {
     "end_time": "2022-01-14T14:56:35.268701Z",
     "start_time": "2022-01-14T14:56:35.130576Z"
    }
   },
   "outputs": [
    {
     "name": "stdout",
     "output_type": "stream",
     "text": [
      "{\"hostname\":\"http://[::]:8080\",\"modules\":{},\"version\":\"1.9.0\"}\r\n"
     ]
    }
   ],
   "source": [
    "!curl -s http://localhost:8080/v1/meta"
   ]
  },
  {
   "cell_type": "code",
   "execution_count": 9,
   "metadata": {
    "ExecuteTime": {
     "end_time": "2022-01-14T14:56:35.330251Z",
     "start_time": "2022-01-14T14:56:35.310623Z"
    }
   },
   "outputs": [],
   "source": [
    "client = weaviate.Client('http://localhost:8080')"
   ]
  },
  {
   "cell_type": "code",
   "execution_count": 10,
   "metadata": {
    "ExecuteTime": {
     "end_time": "2022-01-14T14:56:35.499529Z",
     "start_time": "2022-01-14T14:56:35.480275Z"
    }
   },
   "outputs": [],
   "source": [
    "from docarray import Document\n",
    "\n",
    "doc_schema = {\n",
    "            'class': 'Document',\n",
    "            'properties': [\n",
    "                {'dataType': ['blob'], 'name': 'serialized_doc'},\n",
    "            ],\n",
    "                'vectorizer': 'none',\n",
    "        }"
   ]
  },
  {
   "cell_type": "markdown",
   "metadata": {},
   "source": [
    "We can make sure to clean the db to start with"
   ]
  },
  {
   "cell_type": "code",
   "execution_count": 11,
   "metadata": {
    "ExecuteTime": {
     "end_time": "2022-01-14T14:56:35.881988Z",
     "start_time": "2022-01-14T14:56:35.850681Z"
    }
   },
   "outputs": [],
   "source": [
    "client.schema.delete_all()"
   ]
  },
  {
   "cell_type": "markdown",
   "metadata": {},
   "source": [
    "## Write to db"
   ]
  },
  {
   "cell_type": "code",
   "execution_count": 12,
   "metadata": {
    "ExecuteTime": {
     "end_time": "2022-01-14T14:56:36.271711Z",
     "start_time": "2022-01-14T14:56:36.256030Z"
    }
   },
   "outputs": [],
   "source": [
    "d1 = Document(embedding=np.array([1,2,3]))\n",
    "d2 = Document(embedding=np.array([0,0,0]))\n",
    "d3 = Document(embedding=np.array([1,0,0]))\n",
    "d4 = Document(embedding=np.array([0,1,0]))\n",
    "d5 = Document(embedding=np.array([.5,0,0]))\n",
    "\n",
    "docs = [d1,d2,d3,d4,d5]"
   ]
  },
  {
   "cell_type": "code",
   "execution_count": 13,
   "metadata": {
    "ExecuteTime": {
     "end_time": "2022-01-14T14:56:36.478368Z",
     "start_time": "2022-01-14T14:56:36.435694Z"
    }
   },
   "outputs": [],
   "source": [
    "for d in docs:\n",
    "    utils.write_to_weaviate(client, d)"
   ]
  },
  {
   "cell_type": "markdown",
   "metadata": {},
   "source": [
    "## Get all db Documents"
   ]
  },
  {
   "cell_type": "code",
   "execution_count": 14,
   "metadata": {
    "ExecuteTime": {
     "end_time": "2022-01-14T14:56:36.839174Z",
     "start_time": "2022-01-14T14:56:36.817921Z"
    }
   },
   "outputs": [
    {
     "data": {
      "text/plain": [
       "[<Document ('id', 'embedding') at 2bb12500754a11ec8bbd787b8ab3f5de>,\n",
       " <Document ('id', 'embedding') at 2bb12a5a754a11ec8bbd787b8ab3f5de>,\n",
       " <Document ('id', 'embedding') at 2bb12c80754a11ec8bbd787b8ab3f5de>,\n",
       " <Document ('id', 'embedding') at 2bb12ec4754a11ec8bbd787b8ab3f5de>,\n",
       " <Document ('id', 'embedding') at 2bb130ea754a11ec8bbd787b8ab3f5de>]"
      ]
     },
     "execution_count": 14,
     "metadata": {},
     "output_type": "execute_result"
    }
   ],
   "source": [
    "utils.get_all_docs(client)"
   ]
  },
  {
   "cell_type": "code",
   "execution_count": 15,
   "metadata": {
    "ExecuteTime": {
     "end_time": "2022-01-14T14:56:37.031164Z",
     "start_time": "2022-01-14T14:56:37.009330Z"
    }
   },
   "outputs": [
    {
     "name": "stdout",
     "output_type": "stream",
     "text": [
      "[1 2 3]\n",
      "[0 0 0]\n",
      "[1 0 0]\n",
      "[0 1 0]\n",
      "[0.5 0.  0. ]\n"
     ]
    }
   ],
   "source": [
    "for d in utils.get_all_docs(client):\n",
    "    print(d.embedding)"
   ]
  },
  {
   "cell_type": "markdown",
   "metadata": {},
   "source": [
    "## Load Document from db given id"
   ]
  },
  {
   "cell_type": "code",
   "execution_count": 16,
   "metadata": {
    "ExecuteTime": {
     "end_time": "2022-01-14T14:56:37.471992Z",
     "start_time": "2022-01-14T14:56:37.448194Z"
    }
   },
   "outputs": [
    {
     "name": "stdout",
     "output_type": "stream",
     "text": [
      " <Document ('id', 'embedding') at 2bb12500754a11ec8bbd787b8ab3f5de>\n"
     ]
    }
   ],
   "source": [
    "doc_id = docs[0].id\n",
    "utils.get_doc_by_id(client, doc_id )"
   ]
  },
  {
   "cell_type": "markdown",
   "metadata": {},
   "source": [
    "## Delete Document given id"
   ]
  },
  {
   "cell_type": "code",
   "execution_count": 17,
   "metadata": {
    "ExecuteTime": {
     "end_time": "2022-01-14T14:56:37.826086Z",
     "start_time": "2022-01-14T14:56:37.807617Z"
    }
   },
   "outputs": [],
   "source": [
    "utils.delete_given_id(client, d5.id)"
   ]
  },
  {
   "cell_type": "code",
   "execution_count": 18,
   "metadata": {
    "ExecuteTime": {
     "end_time": "2022-01-14T14:56:38.011153Z",
     "start_time": "2022-01-14T14:56:37.989605Z"
    }
   },
   "outputs": [
    {
     "name": "stdout",
     "output_type": "stream",
     "text": [
      "[1 2 3]\n",
      "[0 0 0]\n",
      "[1 0 0]\n",
      "[0 1 0]\n"
     ]
    }
   ],
   "source": [
    "for d in utils.get_all_docs(client):\n",
    "    print(d.embedding)"
   ]
  },
  {
   "cell_type": "markdown",
   "metadata": {
    "ExecuteTime": {
     "end_time": "2022-01-14T07:22:13.884976Z",
     "start_time": "2022-01-14T07:22:13.870199Z"
    }
   },
   "source": [
    "## Search Documents given query Document\n",
    "\n",
    "\n",
    "- <span style='color:red'> What is the certainty returned ? (why there is a None value?) </span>\n",
    "\n",
    "- <span style='color:red'> What distance is used ? </span>\n",
    "\n",
    "- <span style='color:red'> How can we get the distance measure returned ? </span>\n",
    "\n",
    "- <span style='color:red'> How can we get change the distance measure used (if possible)? </span>\n",
    "\n"
   ]
  },
  {
   "cell_type": "code",
   "execution_count": 19,
   "metadata": {
    "ExecuteTime": {
     "end_time": "2022-01-14T14:56:38.357775Z",
     "start_time": "2022-01-14T14:56:38.336727Z"
    },
    "scrolled": true
   },
   "outputs": [
    {
     "data": {
      "text/plain": [
       "{'data': {'Get': {'Document': [{'_additional': {'certainty': None,\n",
       "      'id': '2bb12a5a-754a-11ec-8bbd-787b8ab3f5de'}},\n",
       "    {'_additional': {'certainty': 1,\n",
       "      'id': '2bb12c80-754a-11ec-8bbd-787b8ab3f5de'}},\n",
       "    {'_additional': {'certainty': 0.5,\n",
       "      'id': '2bb12ec4-754a-11ec-8bbd-787b8ab3f5de'}},\n",
       "    {'_additional': {'certainty': 0.63363063,\n",
       "      'id': '2bb12500-754a-11ec-8bbd-787b8ab3f5de'}}]}}}"
      ]
     },
     "execution_count": 19,
     "metadata": {},
     "output_type": "execute_result"
    }
   ],
   "source": [
    "# what does certainty mean ? \n",
    "# Wh\n",
    "query_embedding = {'vector':np.array([0.9,0,0])}\n",
    "client.query.get('Document', ['_additional {certainty}','_additional {id}']).with_near_vector(query_embedding).do()"
   ]
  },
  {
   "cell_type": "code",
   "execution_count": 20,
   "metadata": {
    "ExecuteTime": {
     "end_time": "2022-01-14T14:56:38.566098Z",
     "start_time": "2022-01-14T14:56:38.550832Z"
    }
   },
   "outputs": [],
   "source": [
    "q =  Document(embedding=np.array([0.9,0,0]))"
   ]
  },
  {
   "cell_type": "code",
   "execution_count": 21,
   "metadata": {
    "ExecuteTime": {
     "end_time": "2022-01-14T14:56:38.787149Z",
     "start_time": "2022-01-14T14:56:38.752864Z"
    },
    "scrolled": true
   },
   "outputs": [
    {
     "data": {
      "text/plain": [
       "[<Document ('id', 'embedding') at 2bb12a5a754a11ec8bbd787b8ab3f5de>,\n",
       " <Document ('id', 'embedding') at 2bb12c80754a11ec8bbd787b8ab3f5de>,\n",
       " <Document ('id', 'embedding') at 2bb12ec4754a11ec8bbd787b8ab3f5de>,\n",
       " <Document ('id', 'embedding') at 2bb12500754a11ec8bbd787b8ab3f5de>]"
      ]
     },
     "execution_count": 21,
     "metadata": {},
     "output_type": "execute_result"
    }
   ],
   "source": [
    "utils.search_near_docs(client, q)"
   ]
  },
  {
   "cell_type": "code",
   "execution_count": 22,
   "metadata": {
    "ExecuteTime": {
     "end_time": "2022-01-14T14:56:39.195917Z",
     "start_time": "2022-01-14T14:56:39.158241Z"
    },
    "scrolled": true
   },
   "outputs": [
    {
     "name": "stdout",
     "output_type": "stream",
     "text": [
      "[0 0 0]\n",
      "[1 0 0]\n",
      "[0 1 0]\n",
      "[1 2 3]\n"
     ]
    }
   ],
   "source": [
    "# here the doc with embedding [1,0,0] should be the first retrieved item if euclidean dist\n",
    "for d in utils.search_near_docs(client, q):\n",
    "    print(d.embedding)"
   ]
  },
  {
   "cell_type": "markdown",
   "metadata": {},
   "source": [
    "## Update doc given id"
   ]
  },
  {
   "cell_type": "code",
   "execution_count": 23,
   "metadata": {
    "ExecuteTime": {
     "end_time": "2022-01-14T14:56:39.699595Z",
     "start_time": "2022-01-14T14:56:39.585398Z"
    }
   },
   "outputs": [
    {
     "ename": "NameError",
     "evalue": "name 'wdocs' is not defined",
     "output_type": "error",
     "traceback": [
      "\u001b[0;31m---------------------------------------------------------------------------\u001b[0m",
      "\u001b[0;31mNameError\u001b[0m                                 Traceback (most recent call last)",
      "\u001b[0;32m/var/folders/05/h71x7gh54sx_5y43ppkq9_dw0000gq/T/ipykernel_3593/2896671418.py\u001b[0m in \u001b[0;36m<module>\u001b[0;34m\u001b[0m\n\u001b[0;32m----> 1\u001b[0;31m \u001b[0mwdocs\u001b[0m\u001b[0;34m[\u001b[0m\u001b[0;36m0\u001b[0m\u001b[0;34m]\u001b[0m\u001b[0;34m.\u001b[0m\u001b[0mid\u001b[0m\u001b[0;34m\u001b[0m\u001b[0;34m\u001b[0m\u001b[0m\n\u001b[0m",
      "\u001b[0;31mNameError\u001b[0m: name 'wdocs' is not defined"
     ]
    }
   ],
   "source": [
    "wdocs[0].id"
   ]
  },
  {
   "cell_type": "code",
   "execution_count": 24,
   "metadata": {
    "ExecuteTime": {
     "end_time": "2022-01-14T14:56:39.784809Z",
     "start_time": "2022-01-14T14:56:39.765289Z"
    }
   },
   "outputs": [
    {
     "name": "stdout",
     "output_type": "stream",
     "text": [
      "[1 2 3]\n",
      "[0 0 0]\n",
      "[1 0 0]\n",
      "[0 1 0]\n"
     ]
    }
   ],
   "source": [
    "wdocs = utils.get_all_docs(client)\n",
    "for d in wdocs:\n",
    "    print(d.embedding)"
   ]
  },
  {
   "cell_type": "code",
   "execution_count": 125,
   "metadata": {
    "ExecuteTime": {
     "end_time": "2022-01-14T09:29:55.139017Z",
     "start_time": "2022-01-14T09:29:55.119765Z"
    }
   },
   "outputs": [],
   "source": [
    "#Update the given object with the already existing object in weaviate. Overwrites only the specified fields, the unspecified ones remain unchanged.\n",
    "\n",
    "\n"
   ]
  },
  {
   "cell_type": "code",
   "execution_count": null,
   "metadata": {},
   "outputs": [],
   "source": []
  },
  {
   "cell_type": "code",
   "execution_count": null,
   "metadata": {},
   "outputs": [],
   "source": []
  },
  {
   "cell_type": "code",
   "execution_count": null,
   "metadata": {},
   "outputs": [],
   "source": []
  },
  {
   "cell_type": "code",
   "execution_count": null,
   "metadata": {},
   "outputs": [],
   "source": []
  }
 ],
 "metadata": {
  "kernelspec": {
   "display_name": "Python 3 (ipykernel)",
   "language": "python",
   "name": "python3"
  },
  "language_info": {
   "codemirror_mode": {
    "name": "ipython",
    "version": 3
   },
   "file_extension": ".py",
   "mimetype": "text/x-python",
   "name": "python",
   "nbconvert_exporter": "python",
   "pygments_lexer": "ipython3",
   "version": "3.8.5"
  },
  "toc": {
   "base_numbering": 1,
   "nav_menu": {},
   "number_sections": true,
   "sideBar": true,
   "skip_h1_title": false,
   "title_cell": "Table of Contents",
   "title_sidebar": "Contents",
   "toc_cell": true,
   "toc_position": {
    "height": "calc(100% - 180px)",
    "left": "10px",
    "top": "150px",
    "width": "165px"
   },
   "toc_section_display": true,
   "toc_window_display": true
  },
  "varInspector": {
   "cols": {
    "lenName": 16,
    "lenType": 16,
    "lenVar": 40
   },
   "kernels_config": {
    "python": {
     "delete_cmd_postfix": "",
     "delete_cmd_prefix": "del ",
     "library": "var_list.py",
     "varRefreshCmd": "print(var_dic_list())"
    },
    "r": {
     "delete_cmd_postfix": ") ",
     "delete_cmd_prefix": "rm(",
     "library": "var_list.r",
     "varRefreshCmd": "cat(var_dic_list()) "
    }
   },
   "types_to_exclude": [
    "module",
    "function",
    "builtin_function_or_method",
    "instance",
    "_Feature"
   ],
   "window_display": false
  }
 },
 "nbformat": 4,
 "nbformat_minor": 4
}

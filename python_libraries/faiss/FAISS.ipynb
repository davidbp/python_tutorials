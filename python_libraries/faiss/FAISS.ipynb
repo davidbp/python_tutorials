{
 "cells": [
  {
   "cell_type": "markdown",
   "metadata": {
    "toc": true
   },
   "source": [
    "<h1>Table of Contents<span class=\"tocSkip\"></span></h1>\n",
    "<div class=\"toc\"><ul class=\"toc-item\"><li><span><a href=\"#FAISS\" data-toc-modified-id=\"FAISS-1\"><span class=\"toc-item-num\">1&nbsp;&nbsp;</span>FAISS</a></span><ul class=\"toc-item\"><li><span><a href=\"#Urls\" data-toc-modified-id=\"Urls-1.1\"><span class=\"toc-item-num\">1.1&nbsp;&nbsp;</span>Urls</a></span></li></ul></li><li><span><a href=\"#Example-20newsgroup\" data-toc-modified-id=\"Example-20newsgroup-2\"><span class=\"toc-item-num\">2&nbsp;&nbsp;</span>Example 20newsgroup</a></span></li><li><span><a href=\"#Building-an-index-and-adding-the-vectors-to-it\" data-toc-modified-id=\"Building-an-index-and-adding-the-vectors-to-it-3\"><span class=\"toc-item-num\">3&nbsp;&nbsp;</span>Building an index and adding the vectors to it</a></span><ul class=\"toc-item\"><li><span><a href=\"#Searching\" data-toc-modified-id=\"Searching-3.1\"><span class=\"toc-item-num\">3.1&nbsp;&nbsp;</span>Searching</a></span></li></ul></li><li><span><a href=\"#Benchmarking-hyperparams\" data-toc-modified-id=\"Benchmarking-hyperparams-4\"><span class=\"toc-item-num\">4&nbsp;&nbsp;</span>Benchmarking hyperparams</a></span></li></ul></div>"
   ]
  },
  {
   "cell_type": "markdown",
   "metadata": {},
   "source": [
    "## FAISS\n",
    "\n",
    "\n",
    "What is similarity search?\n",
    "\n",
    "Given a set of vectors x_i in dimension d, Faiss build a data structure in RAM from it. After the structure is constructed, when given a new vector x in dimension d it performs efficiently the operation:\n",
    "\n",
    "$$\n",
    "i = argmin_i ||x - x_i||\n",
    "$$\n",
    "\n",
    "where $||.||$ is the Euclidean distance (L2).\n",
    "\n",
    "If Faiss terms, the data structure is an index, an object that has an add method to add $x_i$ vectors. Note that the $x_i$'s are assumed to be fixed.\n",
    "\n",
    "Computing the argmin is the search operation on the index.\n",
    "\n",
    "This is all what Faiss is about. It can also:\n",
    "\n",
    "- return not just the nearest neighbor, but also the 2nd nearest, 3rd, ..., k-th nearest neighbor\n",
    "\n",
    "- search several vectors at a time rather than one (batch processing). For many index types, this is faster than searching one vector after another\n",
    "\n",
    "- trade precision for speed, ie. give an incorrect result 10% of the time with a method that's 10x faster or uses 10x less memory\n",
    "\n",
    "- perform maximum inner product search $argmax_i <x, x_i>$ instead of minimum Euclidean search. There is also limited support for other distances (L1, Linf, etc.).\n",
    "\n",
    "- return all elements that are within a given radius of the query point (range search)\n",
    "\n",
    "- store the index on disk rather than in RAM.\n",
    "\n",
    "\n",
    "\n",
    "### Urls\n",
    "\n",
    "https://engineering.fb.com/2017/03/29/data-infrastructure/faiss-a-library-for-efficient-similarity-search/\n",
    "\n",
    "https://github.com/facebookresearch/faiss/wiki\n",
    "\n"
   ]
  },
  {
   "cell_type": "markdown",
   "metadata": {},
   "source": [
    "## Example 20newsgroup"
   ]
  },
  {
   "cell_type": "code",
   "execution_count": 240,
   "metadata": {
    "ExecuteTime": {
     "end_time": "2021-02-03T21:48:50.009627Z",
     "start_time": "2021-02-03T21:48:47.793128Z"
    }
   },
   "outputs": [
    {
     "name": "stdout",
     "output_type": "stream",
     "text": [
      "Number of examples: 11314\n",
      "Data shape: (11314, 1000)\n"
     ]
    }
   ],
   "source": [
    "from sklearn.datasets import fetch_20newsgroups\n",
    "from sklearn.feature_extraction.text import CountVectorizer\n",
    "\n",
    "n_features = 1000\n",
    "newsgroups_train = fetch_20newsgroups(subset='train')\n",
    "print(f'Number of examples: {len(newsgroups_train.data)}')\n",
    "\n",
    "\n",
    "document_embedding = CountVectorizer(max_features=n_features)\n",
    "X_tr = document_embedding.fit_transform(newsgroups_train.data)\n",
    "X_tr_dense = X_tr.toarray()\n",
    "X_tr_dense = X_tr_dense.astype('float32')\n",
    "print(f'Data shape: {X_tr_dense.shape}')"
   ]
  },
  {
   "cell_type": "markdown",
   "metadata": {},
   "source": [
    "## Building an index and adding the vectors to it\n",
    "\n",
    "Faiss is built around the Index object. It encapsulates the set of database vectors, and optionally preprocesses them to make searching efficient. There are many types of indexes, we are going to use the simplest version that just performs brute-force L2 distance search on them: IndexFlatL2.\n",
    "\n",
    "All indexes need to know when they are built which is the dimensionality of the vectors they operate on, d in our case. Then, most of the indexes also require a training phase, to analyze the distribution of the vectors. For IndexFlatL2, we can skip this operation.\n",
    "\n",
    "When the index is built and trained, two operations can be performed on the index: add and search.\n",
    "\n",
    "To add elements to the index, we call add on xb. We can also display the two state variables of the index: is_trained, a boolean that indicates whether training is required and ntotal, the number of indexed vectors.\n",
    "\n",
    "Some indexes can also store integer IDs corresponding to each of the vectors (but not IndexFlatL2). If no IDs are provided, add just uses the vector ordinal as the id, ie. the first vector gets 0, the second 1, etc.\n",
    "\n"
   ]
  },
  {
   "cell_type": "code",
   "execution_count": 241,
   "metadata": {
    "ExecuteTime": {
     "end_time": "2021-02-03T21:48:50.323320Z",
     "start_time": "2021-02-03T21:48:50.320496Z"
    }
   },
   "outputs": [
    {
     "data": {
      "text/plain": [
       "(11314, 1000)"
      ]
     },
     "execution_count": 241,
     "metadata": {},
     "output_type": "execute_result"
    }
   ],
   "source": [
    "n_examples, n_features = X_tr_dense.shape\n",
    "n_examples, n_features\n"
   ]
  },
  {
   "cell_type": "code",
   "execution_count": 243,
   "metadata": {
    "ExecuteTime": {
     "end_time": "2021-02-03T21:48:54.500510Z",
     "start_time": "2021-02-03T21:48:54.489178Z"
    }
   },
   "outputs": [
    {
     "name": "stdout",
     "output_type": "stream",
     "text": [
      "True 0\n",
      "True 11314\n"
     ]
    }
   ],
   "source": [
    "import faiss                  \n",
    "\n",
    "# build the index\n",
    "index = faiss.IndexFlatL2(n_features)  \n",
    "print(index.is_trained,index.ntotal)\n",
    "\n",
    "# add vectors to the index\n",
    "index.add(X_tr_dense)                \n",
    "print(index.is_trained,index.ntotal)"
   ]
  },
  {
   "cell_type": "markdown",
   "metadata": {},
   "source": [
    "### Searching\n",
    "\n",
    "The basic search operation that can be performed on an index is the k-nearest-neighbor search, ie. for each query vector, find its k nearest neighbors in the database.\n",
    "\n",
    "The result of this operation can be conveniently stored in an integer matrix of size nq-by-k, where row i contains the IDs of the neighbors of query vector i, sorted by increasing distance. In addition to this matrix, the search operation returns a nq-by-k floating-point matrix with the corresponding squared distances.\n",
    "\n",
    "As a sanity check, we can first search a few database vectors, to make sure the nearest neighbor is indeed the vector itself.\n",
    "\n"
   ]
  },
  {
   "cell_type": "code",
   "execution_count": 245,
   "metadata": {
    "ExecuteTime": {
     "end_time": "2021-02-03T21:49:02.476010Z",
     "start_time": "2021-02-03T21:49:02.473120Z"
    }
   },
   "outputs": [
    {
     "data": {
      "text/plain": [
       "array([[0., 0., 0., ..., 0., 1., 0.],\n",
       "       [0., 0., 0., ..., 0., 1., 0.],\n",
       "       [0., 0., 0., ..., 0., 0., 0.]], dtype=float32)"
      ]
     },
     "execution_count": 245,
     "metadata": {},
     "output_type": "execute_result"
    }
   ],
   "source": [
    "X_tr_dense[0:3]"
   ]
  },
  {
   "cell_type": "code",
   "execution_count": 246,
   "metadata": {
    "ExecuteTime": {
     "end_time": "2021-02-03T21:49:04.234560Z",
     "start_time": "2021-02-03T21:49:04.228710Z"
    }
   },
   "outputs": [],
   "source": [
    "# we want to see 4 nearest neighbors\n",
    "k = 4         \n",
    "j = 30\n",
    "# sanity check\n",
    "D, I = index.search(X_tr_dense[j:j+1], k) "
   ]
  },
  {
   "cell_type": "code",
   "execution_count": 247,
   "metadata": {
    "ExecuteTime": {
     "end_time": "2021-02-03T21:49:05.259612Z",
     "start_time": "2021-02-03T21:49:05.256920Z"
    }
   },
   "outputs": [
    {
     "data": {
      "text/plain": [
       "array([[  0., 284., 355., 374.]], dtype=float32)"
      ]
     },
     "execution_count": 247,
     "metadata": {},
     "output_type": "execute_result"
    }
   ],
   "source": [
    "D"
   ]
  },
  {
   "cell_type": "code",
   "execution_count": 248,
   "metadata": {
    "ExecuteTime": {
     "end_time": "2021-02-03T21:49:05.723685Z",
     "start_time": "2021-02-03T21:49:05.720590Z"
    }
   },
   "outputs": [
    {
     "data": {
      "text/plain": [
       "array([[   30, 10341,  8045,   297]])"
      ]
     },
     "execution_count": 248,
     "metadata": {},
     "output_type": "execute_result"
    }
   ],
   "source": [
    "# Note that 30 appears in the first position since \n",
    "# our query is example j=30\n",
    "I"
   ]
  },
  {
   "cell_type": "markdown",
   "metadata": {},
   "source": [
    "Note that we can search using a full matrix where examples correspond to rows"
   ]
  },
  {
   "cell_type": "code",
   "execution_count": 249,
   "metadata": {
    "ExecuteTime": {
     "end_time": "2021-02-03T21:49:24.615757Z",
     "start_time": "2021-02-03T21:49:24.609384Z"
    }
   },
   "outputs": [],
   "source": [
    "D, I = index.search(X_tr_dense[j:j+5], k) "
   ]
  },
  {
   "cell_type": "code",
   "execution_count": 250,
   "metadata": {
    "ExecuteTime": {
     "end_time": "2021-02-03T21:49:24.998684Z",
     "start_time": "2021-02-03T21:49:24.995076Z"
    }
   },
   "outputs": [
    {
     "data": {
      "text/plain": [
       "array([[  0., 284., 355., 374.],\n",
       "       [  0., 180., 183., 190.],\n",
       "       [  0.,  36.,  37.,  37.],\n",
       "       [  0., 611., 626., 667.],\n",
       "       [  0.,  64.,  75.,  83.]], dtype=float32)"
      ]
     },
     "execution_count": 250,
     "metadata": {},
     "output_type": "execute_result"
    }
   ],
   "source": [
    "D"
   ]
  },
  {
   "cell_type": "code",
   "execution_count": 251,
   "metadata": {
    "ExecuteTime": {
     "end_time": "2021-02-03T21:49:25.691485Z",
     "start_time": "2021-02-03T21:49:25.688790Z"
    }
   },
   "outputs": [
    {
     "data": {
      "text/plain": [
       "array([[   30, 10341,  8045,   297],\n",
       "       [   31,   362,  1435,  1785],\n",
       "       [   32,  8596,  9103,  3472],\n",
       "       [   33,  6722, 11143,  3928],\n",
       "       [   34,  4904,  3184, 11230]])"
      ]
     },
     "execution_count": 251,
     "metadata": {},
     "output_type": "execute_result"
    }
   ],
   "source": [
    "I"
   ]
  },
  {
   "cell_type": "code",
   "execution_count": 188,
   "metadata": {
    "ExecuteTime": {
     "end_time": "2021-02-03T21:44:37.370681Z",
     "start_time": "2021-02-03T21:44:37.367105Z"
    }
   },
   "outputs": [],
   "source": [
    "def jaccard_similarity(s1,s2):\n",
    "    return len(s1.intersection(s2))/len(s1)\n",
    "\n",
    "def euclidean_dist(q, X):\n",
    "    return np.linalg.norm(q-X,axis=1)\n",
    "\n",
    "def sorted_distances(q, X, d, K):\n",
    "    return np.sort(d(q,X))[0:K]\n",
    "\n",
    "def sorted_indices(q, X, d, K):\n",
    "    return np.argsort(d(q,X))[0:K]\n",
    "\n",
    "def find_knn(q, X, K, dist):\n",
    "    distances = dist(q, X)\n",
    "    idx_sorted = np.argsort(distances)\n",
    "    return idx_sorted[0:K]"
   ]
  },
  {
   "cell_type": "code",
   "execution_count": 297,
   "metadata": {
    "ExecuteTime": {
     "end_time": "2021-02-03T21:52:49.622430Z",
     "start_time": "2021-02-03T21:52:49.576183Z"
    }
   },
   "outputs": [],
   "source": [
    "m = 30\n",
    "q = X_tr_dense[m,:]\n",
    "nn_ids = find_knn(q,X_tr_dense, K, dist=euclidean_dist)\n",
    "approx_nn_dist,approx_nn_ids = index.search(X_tr_dense[m:m+3],K)    "
   ]
  },
  {
   "cell_type": "code",
   "execution_count": 301,
   "metadata": {
    "ExecuteTime": {
     "end_time": "2021-02-03T21:53:02.098422Z",
     "start_time": "2021-02-03T21:53:02.095535Z"
    }
   },
   "outputs": [
    {
     "data": {
      "text/plain": [
       "array([   30, 10341,  8045,   297, 10742,   623,  2375,  3092,  6863,\n",
       "         625,  3823,  8371,  7807, 11286,  8950,  6252,  2687, 10047,\n",
       "         695,  9595])"
      ]
     },
     "execution_count": 301,
     "metadata": {},
     "output_type": "execute_result"
    }
   ],
   "source": [
    "approx_nn_ids[0]"
   ]
  },
  {
   "cell_type": "code",
   "execution_count": 302,
   "metadata": {
    "ExecuteTime": {
     "end_time": "2021-02-03T21:53:02.786115Z",
     "start_time": "2021-02-03T21:53:02.783477Z"
    },
    "scrolled": true
   },
   "outputs": [
    {
     "data": {
      "text/plain": [
       "array([   30, 10341,  8045,   297,   623, 10742,  2375,  3092,   625,\n",
       "        6863,  3823,  7807,  8371,  8950, 11286,  6252,  2687, 10047,\n",
       "         695,  9595])"
      ]
     },
     "execution_count": 302,
     "metadata": {},
     "output_type": "execute_result"
    }
   ],
   "source": [
    "nn_ids"
   ]
  },
  {
   "cell_type": "code",
   "execution_count": 311,
   "metadata": {
    "ExecuteTime": {
     "end_time": "2021-02-03T21:54:44.976796Z",
     "start_time": "2021-02-03T21:54:44.966852Z"
    }
   },
   "outputs": [],
   "source": [
    "faiss_knn = faiss.IndexFlatL2(n_features)  \n",
    "faiss_knn.add(X_tr_dense)                "
   ]
  },
  {
   "cell_type": "code",
   "execution_count": 313,
   "metadata": {
    "ExecuteTime": {
     "end_time": "2021-02-03T21:54:52.778503Z",
     "start_time": "2021-02-03T21:54:50.255090Z"
    }
   },
   "outputs": [],
   "source": [
    "K = 20\n",
    "jaccard_similarities =  []\n",
    "for m in items:\n",
    "    q = X_tr_dense[m,:]\n",
    "    nn_ids = find_knn(q,X_tr_dense, K, dist=euclidean_dist)\n",
    "    approx_nn_dist,approx_nn_ids = faiss_knn.search(X_tr_dense[[m]],K)\n",
    "    approx_nn_ids = approx_nn_ids.flatten()\n",
    "    jaccard_sim = jaccard_similarity(set(nn_ids.tolist()), set(approx_nn_ids.tolist()))\n",
    "    jaccard_similarities.append( jaccard_sim)"
   ]
  },
  {
   "cell_type": "code",
   "execution_count": 315,
   "metadata": {
    "ExecuteTime": {
     "end_time": "2021-02-03T21:54:56.793275Z",
     "start_time": "2021-02-03T21:54:56.790667Z"
    }
   },
   "outputs": [
    {
     "data": {
      "text/plain": [
       "0.97"
      ]
     },
     "execution_count": 315,
     "metadata": {},
     "output_type": "execute_result"
    }
   ],
   "source": [
    "np.mean(jaccard_similarities)"
   ]
  },
  {
   "cell_type": "markdown",
   "metadata": {},
   "source": [
    "Training an index"
   ]
  },
  {
   "cell_type": "code",
   "execution_count": 354,
   "metadata": {
    "ExecuteTime": {
     "end_time": "2021-02-03T22:00:42.994371Z",
     "start_time": "2021-02-03T22:00:42.940743Z"
    }
   },
   "outputs": [],
   "source": [
    "m = 10\n",
    "nlist = 4\n",
    "quantizer = faiss.IndexFlatL2(n_features)  \n",
    "faiss_knn = faiss.IndexIVFFlat(quantizer, n_features, nlist)\n",
    "faiss_knn.train(X_tr_dense)\n",
    "faiss_knn.add(X_tr_dense)"
   ]
  },
  {
   "cell_type": "code",
   "execution_count": 355,
   "metadata": {
    "ExecuteTime": {
     "end_time": "2021-02-03T22:00:43.345878Z",
     "start_time": "2021-02-03T22:00:43.339564Z"
    }
   },
   "outputs": [
    {
     "data": {
      "text/plain": [
       "array([[   10,  6536,  1807, 10235,  9281,  2062,   360, 10801,  5101,\n",
       "         1893,  2862,  7592,  1378,  5575,  4776,  8881,  7654,  5148,\n",
       "         2074,    64]])"
      ]
     },
     "execution_count": 355,
     "metadata": {},
     "output_type": "execute_result"
    }
   ],
   "source": [
    "approx_nn_dist,approx_nn_ids = faiss_knn.search(X_tr_dense[[m]],K)\n",
    "approx_nn_ids"
   ]
  },
  {
   "cell_type": "code",
   "execution_count": 356,
   "metadata": {
    "ExecuteTime": {
     "end_time": "2021-02-03T22:00:46.106201Z",
     "start_time": "2021-02-03T22:00:43.691778Z"
    }
   },
   "outputs": [],
   "source": [
    "K = 20\n",
    "jaccard_similarities =  []\n",
    "for m in items:\n",
    "    q = X_tr_dense[m,:]\n",
    "    nn_ids = find_knn(q,X_tr_dense, K, dist=euclidean_dist)\n",
    "    approx_nn_dist,approx_nn_ids = faiss_knn.search(X_tr_dense[[m]],K)\n",
    "    approx_nn_ids = approx_nn_ids.flatten()\n",
    "    jaccard_sim = jaccard_similarity(set(nn_ids.tolist()), set(approx_nn_ids.tolist()))\n",
    "    jaccard_similarities.append( jaccard_sim)"
   ]
  },
  {
   "cell_type": "code",
   "execution_count": 357,
   "metadata": {
    "ExecuteTime": {
     "end_time": "2021-02-03T22:00:46.455604Z",
     "start_time": "2021-02-03T22:00:46.451689Z"
    }
   },
   "outputs": [
    {
     "data": {
      "text/plain": [
       "0.9305"
      ]
     },
     "execution_count": 357,
     "metadata": {},
     "output_type": "execute_result"
    }
   ],
   "source": [
    "np.mean(jaccard_similarities)"
   ]
  },
  {
   "cell_type": "markdown",
   "metadata": {},
   "source": [
    "## Benchmarking hyperparams"
   ]
  },
  {
   "cell_type": "code",
   "execution_count": 377,
   "metadata": {
    "ExecuteTime": {
     "end_time": "2021-02-03T22:06:37.276880Z",
     "start_time": "2021-02-03T22:06:37.274372Z"
    }
   },
   "outputs": [],
   "source": [
    "np.random.seed(1234)\n",
    "n_items = 100\n",
    "items = np.random.randint(0, n_examples, n_items)\n",
    "nlist_list = [1,2,3,4,5,10,20,30,40]\n",
    "K = 20"
   ]
  },
  {
   "cell_type": "code",
   "execution_count": 378,
   "metadata": {
    "ExecuteTime": {
     "end_time": "2021-02-03T22:06:46.479225Z",
     "start_time": "2021-02-03T22:06:46.475487Z"
    }
   },
   "outputs": [
    {
     "data": {
      "text/plain": [
       "(11314, 1000, 20)"
      ]
     },
     "execution_count": 378,
     "metadata": {},
     "output_type": "execute_result"
    }
   ],
   "source": [
    "n_examples, n_features, K"
   ]
  },
  {
   "cell_type": "code",
   "execution_count": 384,
   "metadata": {
    "ExecuteTime": {
     "end_time": "2021-02-03T22:09:21.405940Z",
     "start_time": "2021-02-03T22:08:10.201912Z"
    }
   },
   "outputs": [
    {
     "name": "stdout",
     "output_type": "stream",
     "text": [
      "Computing with K=20, nlist=1, n_examples=11314, n_features=1000\n",
      "3.81 ms ± 21.3 µs per loop (mean ± std. dev. of 7 runs, 100 loops each)\n",
      "jaccard mean=0.97\n",
      "Computing with K=20, nlist=2, n_examples=11314, n_features=1000\n",
      "3.65 ms ± 43.6 µs per loop (mean ± std. dev. of 7 runs, 100 loops each)\n",
      "jaccard mean=0.966\n",
      "Computing with K=20, nlist=3, n_examples=11314, n_features=1000\n",
      "3.34 ms ± 67.3 µs per loop (mean ± std. dev. of 7 runs, 100 loops each)\n",
      "jaccard mean=0.9615\n",
      "Computing with K=20, nlist=4, n_examples=11314, n_features=1000\n",
      "2.91 ms ± 23.8 µs per loop (mean ± std. dev. of 7 runs, 100 loops each)\n",
      "jaccard mean=0.9305\n",
      "Computing with K=20, nlist=5, n_examples=11314, n_features=1000\n",
      "1.83 ms ± 114 µs per loop (mean ± std. dev. of 7 runs, 1000 loops each)\n",
      "jaccard mean=0.8310000000000001\n",
      "Computing with K=20, nlist=10, n_examples=11314, n_features=1000\n",
      "1.37 ms ± 17.3 µs per loop (mean ± std. dev. of 7 runs, 1000 loops each)\n",
      "jaccard mean=0.7395000000000002\n",
      "Computing with K=20, nlist=20, n_examples=11314, n_features=1000\n",
      "492 µs ± 86.4 µs per loop (mean ± std. dev. of 7 runs, 1000 loops each)\n",
      "jaccard mean=0.5325000000000001\n",
      "Computing with K=20, nlist=30, n_examples=11314, n_features=1000\n",
      "451 µs ± 84.7 µs per loop (mean ± std. dev. of 7 runs, 1000 loops each)\n",
      "jaccard mean=0.4515\n",
      "Computing with K=20, nlist=40, n_examples=11314, n_features=1000\n",
      "410 µs ± 111 µs per loop (mean ± std. dev. of 7 runs, 1000 loops each)\n",
      "jaccard mean=0.39349999999999996\n"
     ]
    }
   ],
   "source": [
    "jaccard_similarities = {}\n",
    "query_times = {}\n",
    "\n",
    "for nlist in nlist_list:\n",
    "    print(f\"Computing with K={K}, nlist={nlist}, n_examples={n_examples}, n_features={n_features}\")\n",
    "    quantizer = faiss.IndexFlatL2(n_features)  \n",
    "    faiss_knn = faiss.IndexIVFFlat(quantizer, n_features, nlist)\n",
    "    faiss_knn.train(X_tr_dense)\n",
    "    faiss_knn.add(X_tr_dense)\n",
    "    jaccard_sims = []\n",
    "    \n",
    "    # time the approximate nearest neighbors retrieval \n",
    "    q_time = %timeit -o faiss_knn.search(X_tr_dense[0:2],K)\n",
    "    query_times[nlist] = q_time.average\n",
    "    \n",
    "    for m in items:\n",
    "        q = X_tr_dense[m,:]\n",
    "        nn_ids = find_knn(q, X_tr_dense, K, dist=euclidean_dist)        \n",
    "        approx_nn_dist,approx_nn_ids = faiss_knn.search(X_tr_dense[[m]],K)\n",
    "        approx_nn_ids = approx_nn_ids.flatten()\n",
    "        \n",
    "        jaccard_sim = jaccard_similarity(set(nn_ids.tolist()), \n",
    "                                         approx_nn_ids.flatten().tolist())\n",
    "        jaccard_sims.append(jaccard_sim)\n",
    "\n",
    "    mean_jaccards = np.mean(jaccard_sims)\n",
    "    print(f'jaccard mean={mean_jaccards}')\n",
    "    jaccard_similarities[nlist] = mean_jaccards"
   ]
  },
  {
   "cell_type": "code",
   "execution_count": 385,
   "metadata": {
    "ExecuteTime": {
     "end_time": "2021-02-03T22:09:21.745123Z",
     "start_time": "2021-02-03T22:09:21.742112Z"
    }
   },
   "outputs": [],
   "source": [
    "import pandas as pd\n",
    "df_results = pd.DataFrame([query_times,jaccard_similarities]).T"
   ]
  },
  {
   "cell_type": "code",
   "execution_count": 386,
   "metadata": {
    "ExecuteTime": {
     "end_time": "2021-02-03T22:09:22.067464Z",
     "start_time": "2021-02-03T22:09:22.061163Z"
    }
   },
   "outputs": [
    {
     "data": {
      "text/html": [
       "<div>\n",
       "<style scoped>\n",
       "    .dataframe tbody tr th:only-of-type {\n",
       "        vertical-align: middle;\n",
       "    }\n",
       "\n",
       "    .dataframe tbody tr th {\n",
       "        vertical-align: top;\n",
       "    }\n",
       "\n",
       "    .dataframe thead th {\n",
       "        text-align: right;\n",
       "    }\n",
       "</style>\n",
       "<table border=\"1\" class=\"dataframe\">\n",
       "  <thead>\n",
       "    <tr style=\"text-align: right;\">\n",
       "      <th></th>\n",
       "      <th>query_time_K</th>\n",
       "      <th>jaccard_similarity_top_K</th>\n",
       "    </tr>\n",
       "    <tr>\n",
       "      <th>nlist</th>\n",
       "      <th></th>\n",
       "      <th></th>\n",
       "    </tr>\n",
       "  </thead>\n",
       "  <tbody>\n",
       "    <tr>\n",
       "      <th>1</th>\n",
       "      <td>0.003806</td>\n",
       "      <td>0.9700</td>\n",
       "    </tr>\n",
       "    <tr>\n",
       "      <th>2</th>\n",
       "      <td>0.003646</td>\n",
       "      <td>0.9660</td>\n",
       "    </tr>\n",
       "    <tr>\n",
       "      <th>3</th>\n",
       "      <td>0.003337</td>\n",
       "      <td>0.9615</td>\n",
       "    </tr>\n",
       "    <tr>\n",
       "      <th>4</th>\n",
       "      <td>0.002907</td>\n",
       "      <td>0.9305</td>\n",
       "    </tr>\n",
       "    <tr>\n",
       "      <th>5</th>\n",
       "      <td>0.001829</td>\n",
       "      <td>0.8310</td>\n",
       "    </tr>\n",
       "    <tr>\n",
       "      <th>10</th>\n",
       "      <td>0.001372</td>\n",
       "      <td>0.7395</td>\n",
       "    </tr>\n",
       "    <tr>\n",
       "      <th>20</th>\n",
       "      <td>0.000492</td>\n",
       "      <td>0.5325</td>\n",
       "    </tr>\n",
       "    <tr>\n",
       "      <th>30</th>\n",
       "      <td>0.000451</td>\n",
       "      <td>0.4515</td>\n",
       "    </tr>\n",
       "    <tr>\n",
       "      <th>40</th>\n",
       "      <td>0.000410</td>\n",
       "      <td>0.3935</td>\n",
       "    </tr>\n",
       "  </tbody>\n",
       "</table>\n",
       "</div>"
      ],
      "text/plain": [
       "       query_time_K  jaccard_similarity_top_K\n",
       "nlist                                        \n",
       "1          0.003806                    0.9700\n",
       "2          0.003646                    0.9660\n",
       "3          0.003337                    0.9615\n",
       "4          0.002907                    0.9305\n",
       "5          0.001829                    0.8310\n",
       "10         0.001372                    0.7395\n",
       "20         0.000492                    0.5325\n",
       "30         0.000451                    0.4515\n",
       "40         0.000410                    0.3935"
      ]
     },
     "execution_count": 386,
     "metadata": {},
     "output_type": "execute_result"
    }
   ],
   "source": [
    "df_results.columns = [\"query_time_K\", \"jaccard_similarity_top_K\"]\n",
    "df_results.index.name = ('nlist')\n",
    "df_results"
   ]
  },
  {
   "cell_type": "code",
   "execution_count": 387,
   "metadata": {
    "ExecuteTime": {
     "end_time": "2021-02-03T22:09:22.504872Z",
     "start_time": "2021-02-03T22:09:22.392610Z"
    }
   },
   "outputs": [
    {
     "data": {
      "text/plain": [
       "<AxesSubplot:title={'center':'query time (ms)'}, xlabel='nlist'>"
      ]
     },
     "execution_count": 387,
     "metadata": {},
     "output_type": "execute_result"
    },
    {
     "data": {
      "image/png": "[encoded data removed]",
      "text/plain": [
       "<Figure size 432x288 with 1 Axes>"
      ]
     },
     "metadata": {
      "needs_background": "light"
     },
     "output_type": "display_data"
    }
   ],
   "source": [
    "df_results[\"query_time_K\"].plot(title=\"query time (ms)\",xlabel=\"nlist\")"
   ]
  },
  {
   "cell_type": "code",
   "execution_count": 388,
   "metadata": {
    "ExecuteTime": {
     "end_time": "2021-02-03T22:09:22.922189Z",
     "start_time": "2021-02-03T22:09:22.819700Z"
    }
   },
   "outputs": [
    {
     "data": {
      "text/plain": [
       "<AxesSubplot:title={'center':'Jaccard agreement top K'}, xlabel='nlist'>"
      ]
     },
     "execution_count": 388,
     "metadata": {},
     "output_type": "execute_result"
    },
    {
     "data": {
      "image/png": "[encoded data removed]",
      "text/plain": [
       "<Figure size 432x288 with 1 Axes>"
      ]
     },
     "metadata": {
      "needs_background": "light"
     },
     "output_type": "display_data"
    }
   ],
   "source": [
    "df_results[\"jaccard_similarity_top_K\"].plot(title=\"Jaccard agreement top K\",xlabel=\"nlist\")"
   ]
  },
  {
   "cell_type": "markdown",
   "metadata": {},
   "source": [
    "Note that the higher `nlist` the longer it takes to query (and the lower chality)"
   ]
  }
 ],
 "metadata": {
  "kernelspec": {
   "display_name": "Python 3",
   "language": "python",
   "name": "python3"
  },
  "language_info": {
   "codemirror_mode": {
    "name": "ipython",
    "version": 3
   },
   "file_extension": ".py",
   "mimetype": "text/x-python",
   "name": "python",
   "nbconvert_exporter": "python",
   "pygments_lexer": "ipython3",
   "version": "3.7.6"
  },
  "toc": {
   "base_numbering": 1,
   "nav_menu": {},
   "number_sections": true,
   "sideBar": true,
   "skip_h1_title": false,
   "title_cell": "Table of Contents",
   "title_sidebar": "Contents",
   "toc_cell": true,
   "toc_position": {},
   "toc_section_display": true,
   "toc_window_display": false
  },
  "varInspector": {
   "cols": {
    "lenName": 16,
    "lenType": 16,
    "lenVar": 40
   },
   "kernels_config": {
    "python": {
     "delete_cmd_postfix": "",
     "delete_cmd_prefix": "del ",
     "library": "var_list.py",
     "varRefreshCmd": "print(var_dic_list())"
    },
    "r": {
     "delete_cmd_postfix": ") ",
     "delete_cmd_prefix": "rm(",
     "library": "var_list.r",
     "varRefreshCmd": "cat(var_dic_list()) "
    }
   },
   "types_to_exclude": [
    "module",
    "function",
    "builtin_function_or_method",
    "instance",
    "_Feature"
   ],
   "window_display": false
  }
 },
 "nbformat": 4,
 "nbformat_minor": 4
}

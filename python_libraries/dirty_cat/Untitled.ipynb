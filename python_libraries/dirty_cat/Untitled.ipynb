{
 "cells": [
  {
   "cell_type": "code",
   "execution_count": 1,
   "id": "f22b42fe",
   "metadata": {},
   "outputs": [
    {
     "name": "stderr",
     "output_type": "stream",
     "text": [
      "/Users/dbuchaca/opt/anaconda3/lib/python3.9/site-packages/dirty_cat/datasets/_fetching.py:586: UserWarning: Could not find the dataset 42125 locally. Downloading it from OpenML; this might take a while... If it is interrupted, some files might be invalid/incomplete: if on the following run, the fetching raises errors, you can try fixing this issue by deleting the directory /Users/dbuchaca/opt/anaconda3/lib/python3.9/site-packages/dirty_cat/datasets/data.\n",
      "  info = _fetch_openml_dataset(dataset_id, data_directory)\n"
     ]
    },
    {
     "name": "stdout",
     "output_type": "stream",
     "text": [
      "Annual salary information including gross pay and overtime pay for all active, permanent employees of Montgomery County, MD paid in calendar year 2016. This information will be published annually each year.\n",
      "  gender department                              department_name  \\\n",
      "0      F        POL                         Department of Police   \n",
      "1      M        POL                         Department of Police   \n",
      "2      F        HHS      Department of Health and Human Services   \n",
      "3      M        COR                Correction and Rehabilitation   \n",
      "4      M        HCA  Department of Housing and Community Affairs   \n",
      "\n",
      "                                            division assignment_category  \\\n",
      "0  MSB Information Mgmt and Tech Division Records...    Fulltime-Regular   \n",
      "1         ISB Major Crimes Division Fugitive Section    Fulltime-Regular   \n",
      "2      Adult Protective and Case Management Services    Fulltime-Regular   \n",
      "3                         PRRS Facility and Security    Fulltime-Regular   \n",
      "4                        Affordable Housing Programs    Fulltime-Regular   \n",
      "\n",
      "       employee_position_title underfilled_job_title date_first_hired  \\\n",
      "0  Office Services Coordinator                   NaN       09/22/1986   \n",
      "1        Master Police Officer                   NaN       09/12/1988   \n",
      "2             Social Worker IV                   NaN       11/19/1989   \n",
      "3       Resident Supervisor II                   NaN       05/05/2014   \n",
      "4      Planning Specialist III                   NaN       03/05/2007   \n",
      "\n",
      "   year_first_hired  \n",
      "0              1986  \n",
      "1              1988  \n",
      "2              1989  \n",
      "3              2014  \n",
      "4              2007  \n"
     ]
    }
   ],
   "source": [
    "from dirty_cat import datasets\n",
    "\n",
    "employee_salaries = datasets.fetch_employee_salaries()\n",
    "print(employee_salaries.description)\n",
    "data = employee_salaries.X\n",
    "print(data.head(n=5))"
   ]
  },
  {
   "cell_type": "code",
   "execution_count": 4,
   "id": "34eae4b9",
   "metadata": {},
   "outputs": [],
   "source": [
    "from dirty_cat import TableVectorizer"
   ]
  },
  {
   "cell_type": "code",
   "execution_count": null,
   "id": "208d2c6b",
   "metadata": {},
   "outputs": [],
   "source": [
    "TableVectorizer"
   ]
  }
 ],
 "metadata": {
  "kernelspec": {
   "display_name": "Python 3 (ipykernel)",
   "language": "python",
   "name": "python3"
  },
  "language_info": {
   "codemirror_mode": {
    "name": "ipython",
    "version": 3
   },
   "file_extension": ".py",
   "mimetype": "text/x-python",
   "name": "python",
   "nbconvert_exporter": "python",
   "pygments_lexer": "ipython3",
   "version": "3.9.12"
  }
 },
 "nbformat": 4,
 "nbformat_minor": 5
}

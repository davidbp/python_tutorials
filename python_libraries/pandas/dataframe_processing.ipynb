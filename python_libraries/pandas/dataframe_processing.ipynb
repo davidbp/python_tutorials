{
 "cells": [
  {
   "cell_type": "markdown",
   "metadata": {
    "toc": true
   },
   "source": [
    "<h1>Table of Contents<span class=\"tocSkip\"></span></h1>\n",
    "<div class=\"toc\"><ul class=\"toc-item\"><li><span><a href=\"#Introduction-to-pandas\" data-toc-modified-id=\"Introduction-to-pandas-1\"><span class=\"toc-item-num\">1&nbsp;&nbsp;</span>Introduction to pandas</a></span></li><li><span><a href=\"#get_dummies_nan-version\" data-toc-modified-id=\"get_dummies_nan-version-2\"><span class=\"toc-item-num\">2&nbsp;&nbsp;</span><code>get_dummies_nan</code> version</a></span></li><li><span><a href=\"#Make-new-columns-from-a-series-containing-lists\" data-toc-modified-id=\"Make-new-columns-from-a-series-containing-lists-3\"><span class=\"toc-item-num\">3&nbsp;&nbsp;</span>Make new columns from a series containing lists</a></span></li></ul></div>"
   ]
  },
  {
   "cell_type": "markdown",
   "metadata": {},
   "source": [
    "# Introduction to pandas"
   ]
  },
  {
   "cell_type": "code",
   "execution_count": 8,
   "metadata": {},
   "outputs": [],
   "source": [
    "import pandas as pd\n",
    "import numpy as np\n",
    "from collections.abc import Iterable "
   ]
  },
  {
   "cell_type": "code",
   "execution_count": null,
   "metadata": {},
   "outputs": [],
   "source": []
  },
  {
   "cell_type": "code",
   "execution_count": null,
   "metadata": {},
   "outputs": [],
   "source": []
  },
  {
   "cell_type": "markdown",
   "metadata": {},
   "source": [
    "# `get_dummies_nan` version"
   ]
  },
  {
   "cell_type": "code",
   "execution_count": 35,
   "metadata": {},
   "outputs": [],
   "source": [
    "df_cars = pd.DataFrame([[2,\"mercedes\",\"middleclass\"], \n",
    "                        [np.NaN,\"mercedes\",\"middleclass\"],\n",
    "                        [3,\"Audi\",np.NaN]],\n",
    "                        columns= [\"members\",\"vehicles\",\"status\"])\n"
   ]
  },
  {
   "cell_type": "code",
   "execution_count": 36,
   "metadata": {},
   "outputs": [
    {
     "name": "stdout",
     "output_type": "stream",
     "text": [
      "   members  vehicles       status\n",
      "0      2.0  mercedes  middleclass\n",
      "1      NaN  mercedes  middleclass\n",
      "2      3.0      Audi          NaN\n"
     ]
    }
   ],
   "source": [
    "print(df_cars)"
   ]
  },
  {
   "cell_type": "code",
   "execution_count": 14,
   "metadata": {},
   "outputs": [],
   "source": [
    "\n",
    "def contains_nan(df_col):\n",
    "    '''\n",
    "    This functions checks if a certain column has nans\n",
    "    '''\n",
    "    return df_col.isna().any()\n",
    "\n",
    "def get_dummies_nan(df, return_nancols=False,inplace=False):\n",
    "    '''\n",
    "    `get_dummies_nan` creates a new dataframe with binary columns stating wheather variables contain NaNs.\n",
    "    \n",
    "    \n",
    "    \n",
    "    Examples:\n",
    "    --------\n",
    "    \n",
    "    \n",
    "    >>> df = pd.DataFrame([[2,\"mercedes\",\"middleclass\"], \n",
    "                           [np.NaN,\"mercedes\",\"middleclass\"],\n",
    "                           [3,\"Audi\",np.NaN]],\n",
    "                           columns= [\"members\",\"vehicles\",\"status\"])\n",
    "    \n",
    "    >>> df \n",
    "\n",
    "           members  vehicles       status\n",
    "    0      2.0  mercedes  middleclass\n",
    "    1      NaN  mercedes  middleclass\n",
    "    2      3.0      Audi          NaN\n",
    "    \n",
    "    >>> df_ = get_dummies_nan(df)\n",
    "    \n",
    "    >>> df_\n",
    "    \n",
    "           members  vehicles       status  members_nan  status_nan\n",
    "    0      2.0  mercedes  middleclass        False       False\n",
    "    1      NaN  mercedes  middleclass         True       False\n",
    "    2      3.0      Audi          NaN        False        True\n",
    "\n",
    "    >>> df_, nancols = get_dummies_nan(df, return_nancols=True)\n",
    "    \n",
    "    >>> nancols\n",
    "    \n",
    "    ['members', 'status']\n",
    "\n",
    "    '''\n",
    "    if inplace:\n",
    "        cols_with_nan = []\n",
    "        for c in df.columns:\n",
    "            if contains_nan(df[c]):\n",
    "                cols_with_nan.append(c)\n",
    "                df[c + \"_nan\"] = df[c].isna().values    \n",
    "        \n",
    "        if return_nancols:\n",
    "            return cols_with_nan\n",
    "    else:\n",
    "        df_copy = df.copy(deep=True)\n",
    "        cols_with_nan = []\n",
    "        for c in df.columns:\n",
    "            if contains_nan(df[c]):\n",
    "                cols_with_nan.append(c)\n",
    "                df_copy[c + \"_nan\"] = df[c].isna().values\n",
    "        \n",
    "        if return_nancols:\n",
    "            return df_copy, cols_with_nan\n",
    "        else:\n",
    "            return df_copy"
   ]
  },
  {
   "cell_type": "code",
   "execution_count": 41,
   "metadata": {},
   "outputs": [],
   "source": [
    "df_= get_dummies_nan(df_cars)"
   ]
  },
  {
   "cell_type": "code",
   "execution_count": 43,
   "metadata": {},
   "outputs": [
    {
     "data": {
      "text/html": [
       "<div>\n",
       "<style scoped>\n",
       "    .dataframe tbody tr th:only-of-type {\n",
       "        vertical-align: middle;\n",
       "    }\n",
       "\n",
       "    .dataframe tbody tr th {\n",
       "        vertical-align: top;\n",
       "    }\n",
       "\n",
       "    .dataframe thead th {\n",
       "        text-align: right;\n",
       "    }\n",
       "</style>\n",
       "<table border=\"1\" class=\"dataframe\">\n",
       "  <thead>\n",
       "    <tr style=\"text-align: right;\">\n",
       "      <th></th>\n",
       "      <th>members</th>\n",
       "      <th>vehicles</th>\n",
       "      <th>status</th>\n",
       "      <th>members_nan</th>\n",
       "      <th>status_nan</th>\n",
       "    </tr>\n",
       "  </thead>\n",
       "  <tbody>\n",
       "    <tr>\n",
       "      <td>0</td>\n",
       "      <td>2.0</td>\n",
       "      <td>mercedes</td>\n",
       "      <td>middleclass</td>\n",
       "      <td>False</td>\n",
       "      <td>False</td>\n",
       "    </tr>\n",
       "    <tr>\n",
       "      <td>1</td>\n",
       "      <td>NaN</td>\n",
       "      <td>mercedes</td>\n",
       "      <td>middleclass</td>\n",
       "      <td>True</td>\n",
       "      <td>False</td>\n",
       "    </tr>\n",
       "    <tr>\n",
       "      <td>2</td>\n",
       "      <td>3.0</td>\n",
       "      <td>Audi</td>\n",
       "      <td>NaN</td>\n",
       "      <td>False</td>\n",
       "      <td>True</td>\n",
       "    </tr>\n",
       "  </tbody>\n",
       "</table>\n",
       "</div>"
      ],
      "text/plain": [
       "   members  vehicles       status  members_nan  status_nan\n",
       "0      2.0  mercedes  middleclass        False       False\n",
       "1      NaN  mercedes  middleclass         True       False\n",
       "2      3.0      Audi          NaN        False        True"
      ]
     },
     "execution_count": 43,
     "metadata": {},
     "output_type": "execute_result"
    }
   ],
   "source": [
    "df_"
   ]
  },
  {
   "cell_type": "code",
   "execution_count": 48,
   "metadata": {},
   "outputs": [],
   "source": [
    "df_, nancols = get_dummies_nan(df_cars, return_nancols=True)"
   ]
  },
  {
   "cell_type": "code",
   "execution_count": 49,
   "metadata": {},
   "outputs": [
    {
     "data": {
      "text/plain": [
       "['members', 'status']"
      ]
     },
     "execution_count": 49,
     "metadata": {},
     "output_type": "execute_result"
    }
   ],
   "source": [
    "nancols"
   ]
  },
  {
   "cell_type": "code",
   "execution_count": 50,
   "metadata": {
    "scrolled": true
   },
   "outputs": [
    {
     "data": {
      "text/html": [
       "<div>\n",
       "<style scoped>\n",
       "    .dataframe tbody tr th:only-of-type {\n",
       "        vertical-align: middle;\n",
       "    }\n",
       "\n",
       "    .dataframe tbody tr th {\n",
       "        vertical-align: top;\n",
       "    }\n",
       "\n",
       "    .dataframe thead th {\n",
       "        text-align: right;\n",
       "    }\n",
       "</style>\n",
       "<table border=\"1\" class=\"dataframe\">\n",
       "  <thead>\n",
       "    <tr style=\"text-align: right;\">\n",
       "      <th></th>\n",
       "      <th>members</th>\n",
       "      <th>vehicles</th>\n",
       "      <th>status</th>\n",
       "      <th>members_nan</th>\n",
       "      <th>status_nan</th>\n",
       "    </tr>\n",
       "  </thead>\n",
       "  <tbody>\n",
       "    <tr>\n",
       "      <td>0</td>\n",
       "      <td>2.0</td>\n",
       "      <td>mercedes</td>\n",
       "      <td>middleclass</td>\n",
       "      <td>False</td>\n",
       "      <td>False</td>\n",
       "    </tr>\n",
       "    <tr>\n",
       "      <td>1</td>\n",
       "      <td>NaN</td>\n",
       "      <td>mercedes</td>\n",
       "      <td>middleclass</td>\n",
       "      <td>True</td>\n",
       "      <td>False</td>\n",
       "    </tr>\n",
       "    <tr>\n",
       "      <td>2</td>\n",
       "      <td>3.0</td>\n",
       "      <td>Audi</td>\n",
       "      <td>NaN</td>\n",
       "      <td>False</td>\n",
       "      <td>True</td>\n",
       "    </tr>\n",
       "  </tbody>\n",
       "</table>\n",
       "</div>"
      ],
      "text/plain": [
       "   members  vehicles       status  members_nan  status_nan\n",
       "0      2.0  mercedes  middleclass        False       False\n",
       "1      NaN  mercedes  middleclass         True       False\n",
       "2      3.0      Audi          NaN        False        True"
      ]
     },
     "execution_count": 50,
     "metadata": {},
     "output_type": "execute_result"
    }
   ],
   "source": [
    "df_"
   ]
  },
  {
   "cell_type": "code",
   "execution_count": null,
   "metadata": {},
   "outputs": [],
   "source": [
    "\n"
   ]
  },
  {
   "cell_type": "code",
   "execution_count": null,
   "metadata": {},
   "outputs": [],
   "source": []
  },
  {
   "cell_type": "code",
   "execution_count": null,
   "metadata": {},
   "outputs": [],
   "source": []
  },
  {
   "cell_type": "code",
   "execution_count": null,
   "metadata": {},
   "outputs": [],
   "source": []
  },
  {
   "cell_type": "code",
   "execution_count": null,
   "metadata": {},
   "outputs": [],
   "source": []
  },
  {
   "cell_type": "markdown",
   "metadata": {},
   "source": [
    "# Make new columns from a series containing lists\n",
    "\n",
    "Column `vehicles` contains lists with different vehicle names. Let us assume we consider this feature to be a list or the ordered vehicles a family has.\n",
    "\n",
    "For example: Family 0 has 2 vehicles, and the most used one is a Mercedes, then a Toyota.\n",
    "\n",
    "Now we want to create 3 features from this column: `vehicle_1`, `vehicle_2`, `vehicle_3` and write the different\n",
    "models in the corresponding columns"
   ]
  },
  {
   "cell_type": "code",
   "execution_count": 6,
   "metadata": {},
   "outputs": [
    {
     "data": {
      "text/html": [
       "<div>\n",
       "<style scoped>\n",
       "    .dataframe tbody tr th:only-of-type {\n",
       "        vertical-align: middle;\n",
       "    }\n",
       "\n",
       "    .dataframe tbody tr th {\n",
       "        vertical-align: top;\n",
       "    }\n",
       "\n",
       "    .dataframe thead th {\n",
       "        text-align: right;\n",
       "    }\n",
       "</style>\n",
       "<table border=\"1\" class=\"dataframe\">\n",
       "  <thead>\n",
       "    <tr style=\"text-align: right;\">\n",
       "      <th></th>\n",
       "      <th>members</th>\n",
       "      <th>vehicles</th>\n",
       "      <th>status</th>\n",
       "    </tr>\n",
       "  </thead>\n",
       "  <tbody>\n",
       "    <tr>\n",
       "      <td>0</td>\n",
       "      <td>2</td>\n",
       "      <td>[mercedes, toyota, None]</td>\n",
       "      <td>middleclass</td>\n",
       "    </tr>\n",
       "    <tr>\n",
       "      <td>1</td>\n",
       "      <td>3</td>\n",
       "      <td>[Renault, Mercedes, None]</td>\n",
       "      <td>middleclass</td>\n",
       "    </tr>\n",
       "    <tr>\n",
       "      <td>2</td>\n",
       "      <td>3</td>\n",
       "      <td>[Audi, Mercedes, Tesla]</td>\n",
       "      <td>uppermiddleclass</td>\n",
       "    </tr>\n",
       "  </tbody>\n",
       "</table>\n",
       "</div>"
      ],
      "text/plain": [
       "   members                   vehicles            status\n",
       "0        2   [mercedes, toyota, None]       middleclass\n",
       "1        3  [Renault, Mercedes, None]       middleclass\n",
       "2        3    [Audi, Mercedes, Tesla]  uppermiddleclass"
      ]
     },
     "execution_count": 6,
     "metadata": {},
     "output_type": "execute_result"
    }
   ],
   "source": [
    "df_cars = pd.DataFrame([[2,[\"mercedes\",\"toyota\",None],\"middleclass\"], \n",
    "                        [3,[\"Renault\",\"Mercedes\",None],\"middleclass\"],\n",
    "                        [3,[\"Audi\",\"Mercedes\",\"Tesla\"],\"uppermiddleclass\"]],\n",
    "                        columns= [\"members\",\"vehicles\",\"status\"])\n",
    "\n",
    "df_cars"
   ]
  },
  {
   "cell_type": "code",
   "execution_count": 7,
   "metadata": {},
   "outputs": [],
   "source": [
    "def proc_df_collist(df: pd.DataFrame, colname: str, inplace=False):\n",
    "    \"\"\"\n",
    "    \n",
    "    `proc_df_collist` takes a dataframe and a column made of lists and generates new columns containing\n",
    "    values from the lists. For each position in the list it generates a new column. The nimber of generated\n",
    "    columns equals the length of the largest list in `df[colname]`. Each new collumn  k is filled\n",
    "    with the values of the lists at position k. If the value does not exist (because the position does not exist)\n",
    "    the position is filled with `NaN`. \n",
    "    \n",
    "    Given `df`  and `colname`, create as many new columns as `len(df[colname].iloc[0])`\n",
    "    Write in column `colname_k[j]` the value found `df[colname].iloc[j][k]`.\n",
    "    \n",
    "    \n",
    "    Examples:\n",
    "    ---------\n",
    "    >>> df = pd.DataFrame([[2,[\"p\",\"b\",None]], \n",
    "                   [3,[\"a\",\"c\",None]],\n",
    "                  [3,[\"d\",\"w\",\"a\"]]],columns= [\"first\",\"second\"])\n",
    "                  \n",
    "    >>> df\n",
    "    \n",
    "       first        second\n",
    "    0      2  [p, b, None]\n",
    "    1      3  [a, c, None]\n",
    "    2      3     [d, w, a]\n",
    "\n",
    "    >>> newcols = proc_df_collist(df, \"second\")\n",
    "\n",
    "    >>> newcols\n",
    "          second_0 second_1 second_2\n",
    "    0        p        b     None\n",
    "    1        a        c     None\n",
    "    2        d        w        a\n",
    "\n",
    "    \n",
    "    >>> df2 = pd.DataFrame([[2,[\"p\"]], \n",
    "                   [3,[\"a\",2,3]],\n",
    "                   [3,[4]]],columns= [\"A\",\"B\"])\n",
    "                   \n",
    "    >>> df2\n",
    "       A          B\n",
    "    0  2        [p]\n",
    "    1  3  [a, 2, 3]\n",
    "    2  3        [4]\n",
    "\n",
    "    >>> proc_df_collist(df2, \"B\")\n",
    "\n",
    "      B_0  B_1  B_2\n",
    "    0   p  NaN  NaN\n",
    "    1   a  2.0  3.0\n",
    "    2   4  NaN  NaN\n",
    "\n",
    "    \"\"\"\n",
    "    assert isinstance(df, pd.DataFrame), \"type(df)={} but it should be pd.DataFrame\".format(type(df))\n",
    "    assert isinstance(colname, str), \"type(columname)={} but it should be str\".format(type(str))\n",
    "    assert isinstance(df[colname].iloc[0],(list,set, np.ndarray)), \"type(df[colname].iloc[0])={} but it, should be in [list, set, np.ndarray]\".format(type(df[colname].iloc[0]))\n",
    "    \n",
    "    \n",
    "    #n_new_cols = len(df[colname].iloc[0])\n",
    "    n_new_cols = df[colname].apply(len).max()\n",
    "    colnames   = [colname + \"_\" + str(i) for i in range(n_new_cols)]   \n",
    "    \n",
    "    return pd.DataFrame(df[colname].tolist(), columns=colnames)"
   ]
  },
  {
   "cell_type": "code",
   "execution_count": 4,
   "metadata": {},
   "outputs": [],
   "source": [
    "df = pd.DataFrame([[2,[\"p\",\"b\",None]], \n",
    "                   [3,[\"a\",\"c\",None]],\n",
    "                   [3,[\"d\",\"w\",\"a\"]]],columns= [\"first\",\"second\"])\n"
   ]
  },
  {
   "cell_type": "code",
   "execution_count": 5,
   "metadata": {
    "scrolled": false
   },
   "outputs": [
    {
     "data": {
      "text/html": [
       "<div>\n",
       "<style scoped>\n",
       "    .dataframe tbody tr th:only-of-type {\n",
       "        vertical-align: middle;\n",
       "    }\n",
       "\n",
       "    .dataframe tbody tr th {\n",
       "        vertical-align: top;\n",
       "    }\n",
       "\n",
       "    .dataframe thead th {\n",
       "        text-align: right;\n",
       "    }\n",
       "</style>\n",
       "<table border=\"1\" class=\"dataframe\">\n",
       "  <thead>\n",
       "    <tr style=\"text-align: right;\">\n",
       "      <th></th>\n",
       "      <th>first</th>\n",
       "      <th>second</th>\n",
       "    </tr>\n",
       "  </thead>\n",
       "  <tbody>\n",
       "    <tr>\n",
       "      <td>0</td>\n",
       "      <td>2</td>\n",
       "      <td>[p, b, None]</td>\n",
       "    </tr>\n",
       "    <tr>\n",
       "      <td>1</td>\n",
       "      <td>3</td>\n",
       "      <td>[a, c, None]</td>\n",
       "    </tr>\n",
       "    <tr>\n",
       "      <td>2</td>\n",
       "      <td>3</td>\n",
       "      <td>[d, w, a]</td>\n",
       "    </tr>\n",
       "  </tbody>\n",
       "</table>\n",
       "</div>"
      ],
      "text/plain": [
       "   first        second\n",
       "0      2  [p, b, None]\n",
       "1      3  [a, c, None]\n",
       "2      3     [d, w, a]"
      ]
     },
     "execution_count": 5,
     "metadata": {},
     "output_type": "execute_result"
    }
   ],
   "source": [
    "df"
   ]
  },
  {
   "cell_type": "code",
   "execution_count": 6,
   "metadata": {},
   "outputs": [
    {
     "data": {
      "text/html": [
       "<div>\n",
       "<style scoped>\n",
       "    .dataframe tbody tr th:only-of-type {\n",
       "        vertical-align: middle;\n",
       "    }\n",
       "\n",
       "    .dataframe tbody tr th {\n",
       "        vertical-align: top;\n",
       "    }\n",
       "\n",
       "    .dataframe thead th {\n",
       "        text-align: right;\n",
       "    }\n",
       "</style>\n",
       "<table border=\"1\" class=\"dataframe\">\n",
       "  <thead>\n",
       "    <tr style=\"text-align: right;\">\n",
       "      <th></th>\n",
       "      <th>second_0</th>\n",
       "      <th>second_1</th>\n",
       "      <th>second_2</th>\n",
       "    </tr>\n",
       "  </thead>\n",
       "  <tbody>\n",
       "    <tr>\n",
       "      <td>0</td>\n",
       "      <td>p</td>\n",
       "      <td>b</td>\n",
       "      <td>None</td>\n",
       "    </tr>\n",
       "    <tr>\n",
       "      <td>1</td>\n",
       "      <td>a</td>\n",
       "      <td>c</td>\n",
       "      <td>None</td>\n",
       "    </tr>\n",
       "    <tr>\n",
       "      <td>2</td>\n",
       "      <td>d</td>\n",
       "      <td>w</td>\n",
       "      <td>a</td>\n",
       "    </tr>\n",
       "  </tbody>\n",
       "</table>\n",
       "</div>"
      ],
      "text/plain": [
       "  second_0 second_1 second_2\n",
       "0        p        b     None\n",
       "1        a        c     None\n",
       "2        d        w        a"
      ]
     },
     "execution_count": 6,
     "metadata": {},
     "output_type": "execute_result"
    }
   ],
   "source": [
    "proc_df_collist(df, \"second\")"
   ]
  },
  {
   "cell_type": "markdown",
   "metadata": {},
   "source": [
    "If the column passed to `proc_df_collist` contains iterables with different sizes then it will generate as many colums as the longest iterable. Then it will fill with `NaN`  positions where we don't have information"
   ]
  },
  {
   "cell_type": "code",
   "execution_count": 7,
   "metadata": {},
   "outputs": [],
   "source": [
    "df2 = pd.DataFrame([[2,[\"p\"]], \n",
    "                   [3,[\"a\",2,3]],\n",
    "                   [3,[4]]],columns= [\"A\",\"B\"])"
   ]
  },
  {
   "cell_type": "code",
   "execution_count": 8,
   "metadata": {
    "scrolled": true
   },
   "outputs": [
    {
     "data": {
      "text/html": [
       "<div>\n",
       "<style scoped>\n",
       "    .dataframe tbody tr th:only-of-type {\n",
       "        vertical-align: middle;\n",
       "    }\n",
       "\n",
       "    .dataframe tbody tr th {\n",
       "        vertical-align: top;\n",
       "    }\n",
       "\n",
       "    .dataframe thead th {\n",
       "        text-align: right;\n",
       "    }\n",
       "</style>\n",
       "<table border=\"1\" class=\"dataframe\">\n",
       "  <thead>\n",
       "    <tr style=\"text-align: right;\">\n",
       "      <th></th>\n",
       "      <th>B_0</th>\n",
       "      <th>B_1</th>\n",
       "      <th>B_2</th>\n",
       "    </tr>\n",
       "  </thead>\n",
       "  <tbody>\n",
       "    <tr>\n",
       "      <td>0</td>\n",
       "      <td>p</td>\n",
       "      <td>NaN</td>\n",
       "      <td>NaN</td>\n",
       "    </tr>\n",
       "    <tr>\n",
       "      <td>1</td>\n",
       "      <td>a</td>\n",
       "      <td>2.0</td>\n",
       "      <td>3.0</td>\n",
       "    </tr>\n",
       "    <tr>\n",
       "      <td>2</td>\n",
       "      <td>4</td>\n",
       "      <td>NaN</td>\n",
       "      <td>NaN</td>\n",
       "    </tr>\n",
       "  </tbody>\n",
       "</table>\n",
       "</div>"
      ],
      "text/plain": [
       "  B_0  B_1  B_2\n",
       "0   p  NaN  NaN\n",
       "1   a  2.0  3.0\n",
       "2   4  NaN  NaN"
      ]
     },
     "execution_count": 8,
     "metadata": {},
     "output_type": "execute_result"
    }
   ],
   "source": [
    "proc_df_collist(df2, \"B\")"
   ]
  },
  {
   "cell_type": "code",
   "execution_count": null,
   "metadata": {},
   "outputs": [],
   "source": []
  },
  {
   "cell_type": "code",
   "execution_count": null,
   "metadata": {},
   "outputs": [],
   "source": []
  },
  {
   "cell_type": "code",
   "execution_count": null,
   "metadata": {},
   "outputs": [],
   "source": []
  },
  {
   "cell_type": "code",
   "execution_count": null,
   "metadata": {},
   "outputs": [],
   "source": []
  },
  {
   "cell_type": "code",
   "execution_count": null,
   "metadata": {},
   "outputs": [],
   "source": []
  }
 ],
 "metadata": {
  "kernelspec": {
   "display_name": "Python 3",
   "language": "python",
   "name": "python3"
  },
  "language_info": {
   "codemirror_mode": {
    "name": "ipython",
    "version": 3
   },
   "file_extension": ".py",
   "mimetype": "text/x-python",
   "name": "python",
   "nbconvert_exporter": "python",
   "pygments_lexer": "ipython3",
   "version": "3.6.9"
  },
  "toc": {
   "base_numbering": 1,
   "nav_menu": {},
   "number_sections": true,
   "sideBar": true,
   "skip_h1_title": false,
   "title_cell": "Table of Contents",
   "title_sidebar": "Contents",
   "toc_cell": true,
   "toc_position": {},
   "toc_section_display": true,
   "toc_window_display": false
  }
 },
 "nbformat": 4,
 "nbformat_minor": 2
}

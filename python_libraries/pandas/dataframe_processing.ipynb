{
 "cells": [
  {
   "cell_type": "markdown",
   "metadata": {
    "toc": true
   },
   "source": [
    "<h1>Table of Contents<span class=\"tocSkip\"></span></h1>\n",
    "<div class=\"toc\"><ul class=\"toc-item\"><li><span><a href=\"#Introduction-to-pandas\" data-toc-modified-id=\"Introduction-to-pandas-1\"><span class=\"toc-item-num\">1&nbsp;&nbsp;</span>Introduction to pandas</a></span><ul class=\"toc-item\"><li><span><a href=\"#Dataframe-construction-from-numpy-arrays-and-scipy-sparse-arrays\" data-toc-modified-id=\"Dataframe-construction-from-numpy-arrays-and-scipy-sparse-arrays-1.1\"><span class=\"toc-item-num\">1.1&nbsp;&nbsp;</span>Dataframe construction from numpy arrays and scipy sparse arrays</a></span></li><li><span><a href=\"#Unseen-categorical-values-in-a-pandas-dataframe\" data-toc-modified-id=\"Unseen-categorical-values-in-a-pandas-dataframe-1.2\"><span class=\"toc-item-num\">1.2&nbsp;&nbsp;</span>Unseen categorical values in a pandas dataframe</a></span></li><li><span><a href=\"#Defining-categorical-values-with-order\" data-toc-modified-id=\"Defining-categorical-values-with-order-1.3\"><span class=\"toc-item-num\">1.3&nbsp;&nbsp;</span>Defining categorical values with order</a></span></li></ul></li><li><span><a href=\"#Add-new-columns-saving-Nan-values-get_dummies_nan\" data-toc-modified-id=\"Add-new-columns-saving-Nan-values-get_dummies_nan-2\"><span class=\"toc-item-num\">2&nbsp;&nbsp;</span>Add new columns saving Nan values <code>get_dummies_nan</code></a></span></li><li><span><a href=\"#Compute-nan-features-for-rows:-nan_features\" data-toc-modified-id=\"Compute-nan-features-for-rows:-nan_features-3\"><span class=\"toc-item-num\">3&nbsp;&nbsp;</span>Compute nan features for rows: <code>nan_features</code></a></span></li><li><span><a href=\"#Substitute-np.NaN-by-other-values:-MissingImputer-class\" data-toc-modified-id=\"Substitute-np.NaN-by-other-values:-MissingImputer-class-4\"><span class=\"toc-item-num\">4&nbsp;&nbsp;</span>Substitute <code>np.NaN</code> by other values: <code>MissingImputer</code> class</a></span><ul class=\"toc-item\"><li><ul class=\"toc-item\"><li><ul class=\"toc-item\"><li><ul class=\"toc-item\"><li><span><a href=\"#Improving-MissingImputer\" data-toc-modified-id=\"Improving-MissingImputer-4.0.0.0.1\"><span class=\"toc-item-num\">4.0.0.0.1&nbsp;&nbsp;</span>Improving MissingImputer</a></span></li></ul></li></ul></li></ul></li></ul></li><li><span><a href=\"#New-columns-from-a-df-column-containing-lists-as-items-(byvalue)\" data-toc-modified-id=\"New-columns-from-a-df-column-containing-lists-as-items-(byvalue)-5\"><span class=\"toc-item-num\">5&nbsp;&nbsp;</span>New columns from a df column containing lists as items (<code>byvalue</code>)</a></span><ul class=\"toc-item\"><li><span><a href=\"#New-columns-from-a-df-column-containing-lists-as-items-(bykeyvalue)\" data-toc-modified-id=\"New-columns-from-a-df-column-containing-lists-as-items-(bykeyvalue)-5.1\"><span class=\"toc-item-num\">5.1&nbsp;&nbsp;</span>New columns from a df column containing lists as items (<code>bykeyvalue</code>)</a></span></li></ul></li><li><span><a href=\"#New-columns-from-a-df-column-containing-lists-as-items-(byorder)\" data-toc-modified-id=\"New-columns-from-a-df-column-containing-lists-as-items-(byorder)-6\"><span class=\"toc-item-num\">6&nbsp;&nbsp;</span>New columns from a df column containing lists as items (<code>byorder</code>)</a></span></li></ul></div>"
   ]
  },
  {
   "cell_type": "markdown",
   "metadata": {},
   "source": [
    "# Introduction to pandas"
   ]
  },
  {
   "cell_type": "code",
   "execution_count": 1,
   "metadata": {
    "ExecuteTime": {
     "end_time": "2020-09-22T15:42:00.747469Z",
     "start_time": "2020-09-22T15:41:59.422297Z"
    }
   },
   "outputs": [],
   "source": [
    "import pandas as pd\n",
    "import numpy as np\n",
    "import scipy\n",
    "from scipy import stats\n",
    "import copy\n",
    "from collections.abc import Iterable \n",
    "import itertools"
   ]
  },
  {
   "cell_type": "markdown",
   "metadata": {
    "ExecuteTime": {
     "end_time": "2020-09-22T15:38:39.777052Z",
     "start_time": "2020-09-22T15:38:39.773074Z"
    }
   },
   "source": [
    "## Dataframe construction from numpy arrays and scipy sparse arrays"
   ]
  },
  {
   "cell_type": "markdown",
   "metadata": {
    "ExecuteTime": {
     "end_time": "2020-09-22T15:38:17.287609Z",
     "start_time": "2020-09-22T15:38:17.273267Z"
    }
   },
   "source": [
    "Pandas Dataframes can be constructed from `np.ndarray` objects"
   ]
  },
  {
   "cell_type": "code",
   "execution_count": 2,
   "metadata": {
    "ExecuteTime": {
     "end_time": "2020-09-22T15:42:00.762271Z",
     "start_time": "2020-09-22T15:42:00.749430Z"
    },
    "scrolled": true
   },
   "outputs": [
    {
     "data": {
      "text/plain": [
       "array([[0, 0, 1],\n",
       "       [1, 0, 0]])"
      ]
     },
     "execution_count": 2,
     "metadata": {},
     "output_type": "execute_result"
    }
   ],
   "source": [
    "X = np.array([[0,0,1],[1,0,0]])\n",
    "X"
   ]
  },
  {
   "cell_type": "code",
   "execution_count": 3,
   "metadata": {
    "ExecuteTime": {
     "end_time": "2020-09-22T15:42:00.780365Z",
     "start_time": "2020-09-22T15:42:00.764914Z"
    }
   },
   "outputs": [
    {
     "data": {
      "text/html": [
       "<div>\n",
       "<style scoped>\n",
       "    .dataframe tbody tr th:only-of-type {\n",
       "        vertical-align: middle;\n",
       "    }\n",
       "\n",
       "    .dataframe tbody tr th {\n",
       "        vertical-align: top;\n",
       "    }\n",
       "\n",
       "    .dataframe thead th {\n",
       "        text-align: right;\n",
       "    }\n",
       "</style>\n",
       "<table border=\"1\" class=\"dataframe\">\n",
       "  <thead>\n",
       "    <tr style=\"text-align: right;\">\n",
       "      <th></th>\n",
       "      <th>0</th>\n",
       "      <th>1</th>\n",
       "      <th>2</th>\n",
       "    </tr>\n",
       "  </thead>\n",
       "  <tbody>\n",
       "    <tr>\n",
       "      <th>0</th>\n",
       "      <td>0</td>\n",
       "      <td>0</td>\n",
       "      <td>1</td>\n",
       "    </tr>\n",
       "    <tr>\n",
       "      <th>1</th>\n",
       "      <td>1</td>\n",
       "      <td>0</td>\n",
       "      <td>0</td>\n",
       "    </tr>\n",
       "  </tbody>\n",
       "</table>\n",
       "</div>"
      ],
      "text/plain": [
       "   0  1  2\n",
       "0  0  0  1\n",
       "1  1  0  0"
      ]
     },
     "execution_count": 3,
     "metadata": {},
     "output_type": "execute_result"
    }
   ],
   "source": [
    "df_X = pd.DataFrame(X)\n",
    "df_X"
   ]
  },
  {
   "cell_type": "markdown",
   "metadata": {},
   "source": [
    "Moreover, we can also construct Dataframes from sparse arrays"
   ]
  },
  {
   "cell_type": "code",
   "execution_count": 4,
   "metadata": {
    "ExecuteTime": {
     "end_time": "2020-09-22T15:42:00.790493Z",
     "start_time": "2020-09-22T15:42:00.783633Z"
    }
   },
   "outputs": [
    {
     "data": {
      "text/plain": [
       "<2x3 sparse matrix of type '<class 'numpy.int64'>'\n",
       "\twith 2 stored elements in Compressed Sparse Row format>"
      ]
     },
     "execution_count": 4,
     "metadata": {},
     "output_type": "execute_result"
    }
   ],
   "source": [
    "X_sp = scipy.sparse.csr_matrix([[0,0,1],[1,0,0]])\n",
    "X_sp"
   ]
  },
  {
   "cell_type": "code",
   "execution_count": 5,
   "metadata": {
    "ExecuteTime": {
     "end_time": "2020-09-22T15:42:00.807417Z",
     "start_time": "2020-09-22T15:42:00.793582Z"
    }
   },
   "outputs": [
    {
     "data": {
      "text/html": [
       "<div>\n",
       "<style scoped>\n",
       "    .dataframe tbody tr th:only-of-type {\n",
       "        vertical-align: middle;\n",
       "    }\n",
       "\n",
       "    .dataframe tbody tr th {\n",
       "        vertical-align: top;\n",
       "    }\n",
       "\n",
       "    .dataframe thead th {\n",
       "        text-align: right;\n",
       "    }\n",
       "</style>\n",
       "<table border=\"1\" class=\"dataframe\">\n",
       "  <thead>\n",
       "    <tr style=\"text-align: right;\">\n",
       "      <th></th>\n",
       "      <th>0</th>\n",
       "      <th>1</th>\n",
       "      <th>2</th>\n",
       "    </tr>\n",
       "  </thead>\n",
       "  <tbody>\n",
       "    <tr>\n",
       "      <th>0</th>\n",
       "      <td>0</td>\n",
       "      <td>0</td>\n",
       "      <td>1</td>\n",
       "    </tr>\n",
       "    <tr>\n",
       "      <th>1</th>\n",
       "      <td>1</td>\n",
       "      <td>0</td>\n",
       "      <td>0</td>\n",
       "    </tr>\n",
       "  </tbody>\n",
       "</table>\n",
       "</div>"
      ],
      "text/plain": [
       "   0  1  2\n",
       "0  0  0  1\n",
       "1  1  0  0"
      ]
     },
     "execution_count": 5,
     "metadata": {},
     "output_type": "execute_result"
    }
   ],
   "source": [
    "pd.DataFrame.sparse.from_spmatrix(X_sp)"
   ]
  },
  {
   "cell_type": "markdown",
   "metadata": {},
   "source": [
    "## Unseen categorical values in a pandas dataframe\n",
    "\n",
    "An annoying detail that might happen when doing a train test split is that the splits might have different unique values in a particular column. This will mean that the one hot encoding done by pandas will be different for the different splits. \n",
    "\n",
    "Let us see the problem"
   ]
  },
  {
   "cell_type": "code",
   "execution_count": 6,
   "metadata": {
    "ExecuteTime": {
     "end_time": "2020-09-22T15:42:00.825352Z",
     "start_time": "2020-09-22T15:42:00.809840Z"
    }
   },
   "outputs": [],
   "source": [
    "df_cars = pd.DataFrame([[2,\"mercedes\",\"middleclass\"], \n",
    "                        [np.NaN,\"mercedes\",\"middleclass\"],\n",
    "                        [3,\"Audi\",np.NaN]],\n",
    "                        columns= [\"members\",\"vehicles\",\"status\"])"
   ]
  },
  {
   "cell_type": "code",
   "execution_count": 7,
   "metadata": {
    "ExecuteTime": {
     "end_time": "2020-09-22T15:42:00.853596Z",
     "start_time": "2020-09-22T15:42:00.827943Z"
    }
   },
   "outputs": [
    {
     "data": {
      "text/html": [
       "<div>\n",
       "<style scoped>\n",
       "    .dataframe tbody tr th:only-of-type {\n",
       "        vertical-align: middle;\n",
       "    }\n",
       "\n",
       "    .dataframe tbody tr th {\n",
       "        vertical-align: top;\n",
       "    }\n",
       "\n",
       "    .dataframe thead th {\n",
       "        text-align: right;\n",
       "    }\n",
       "</style>\n",
       "<table border=\"1\" class=\"dataframe\">\n",
       "  <thead>\n",
       "    <tr style=\"text-align: right;\">\n",
       "      <th></th>\n",
       "      <th>members</th>\n",
       "      <th>vehicles</th>\n",
       "      <th>status</th>\n",
       "    </tr>\n",
       "  </thead>\n",
       "  <tbody>\n",
       "    <tr>\n",
       "      <th>0</th>\n",
       "      <td>2.0</td>\n",
       "      <td>mercedes</td>\n",
       "      <td>middleclass</td>\n",
       "    </tr>\n",
       "    <tr>\n",
       "      <th>1</th>\n",
       "      <td>NaN</td>\n",
       "      <td>mercedes</td>\n",
       "      <td>middleclass</td>\n",
       "    </tr>\n",
       "    <tr>\n",
       "      <th>2</th>\n",
       "      <td>3.0</td>\n",
       "      <td>Audi</td>\n",
       "      <td>NaN</td>\n",
       "    </tr>\n",
       "  </tbody>\n",
       "</table>\n",
       "</div>"
      ],
      "text/plain": [
       "   members  vehicles       status\n",
       "0      2.0  mercedes  middleclass\n",
       "1      NaN  mercedes  middleclass\n",
       "2      3.0      Audi          NaN"
      ]
     },
     "execution_count": 7,
     "metadata": {},
     "output_type": "execute_result"
    }
   ],
   "source": [
    "df_cars"
   ]
  },
  {
   "cell_type": "code",
   "execution_count": 8,
   "metadata": {
    "ExecuteTime": {
     "end_time": "2020-09-22T15:42:00.884290Z",
     "start_time": "2020-09-22T15:42:00.858517Z"
    }
   },
   "outputs": [
    {
     "data": {
      "text/html": [
       "<div>\n",
       "<style scoped>\n",
       "    .dataframe tbody tr th:only-of-type {\n",
       "        vertical-align: middle;\n",
       "    }\n",
       "\n",
       "    .dataframe tbody tr th {\n",
       "        vertical-align: top;\n",
       "    }\n",
       "\n",
       "    .dataframe thead th {\n",
       "        text-align: right;\n",
       "    }\n",
       "</style>\n",
       "<table border=\"1\" class=\"dataframe\">\n",
       "  <thead>\n",
       "    <tr style=\"text-align: right;\">\n",
       "      <th></th>\n",
       "      <th>members</th>\n",
       "      <th>vehicles_Audi</th>\n",
       "      <th>vehicles_mercedes</th>\n",
       "      <th>status_middleclass</th>\n",
       "    </tr>\n",
       "  </thead>\n",
       "  <tbody>\n",
       "    <tr>\n",
       "      <th>0</th>\n",
       "      <td>2.0</td>\n",
       "      <td>0</td>\n",
       "      <td>1</td>\n",
       "      <td>1</td>\n",
       "    </tr>\n",
       "    <tr>\n",
       "      <th>1</th>\n",
       "      <td>NaN</td>\n",
       "      <td>0</td>\n",
       "      <td>1</td>\n",
       "      <td>1</td>\n",
       "    </tr>\n",
       "    <tr>\n",
       "      <th>2</th>\n",
       "      <td>3.0</td>\n",
       "      <td>1</td>\n",
       "      <td>0</td>\n",
       "      <td>0</td>\n",
       "    </tr>\n",
       "  </tbody>\n",
       "</table>\n",
       "</div>"
      ],
      "text/plain": [
       "   members  vehicles_Audi  vehicles_mercedes  status_middleclass\n",
       "0      2.0              0                  1                   1\n",
       "1      NaN              0                  1                   1\n",
       "2      3.0              1                  0                   0"
      ]
     },
     "execution_count": 8,
     "metadata": {},
     "output_type": "execute_result"
    }
   ],
   "source": [
    "pd.get_dummies(df_cars)"
   ]
  },
  {
   "cell_type": "markdown",
   "metadata": {},
   "source": [
    "If I do a the one hot encoding in a subset where there are different values the number of columns will be different:"
   ]
  },
  {
   "cell_type": "code",
   "execution_count": 9,
   "metadata": {
    "ExecuteTime": {
     "end_time": "2020-09-22T15:42:00.908655Z",
     "start_time": "2020-09-22T15:42:00.889257Z"
    }
   },
   "outputs": [
    {
     "data": {
      "text/html": [
       "<div>\n",
       "<style scoped>\n",
       "    .dataframe tbody tr th:only-of-type {\n",
       "        vertical-align: middle;\n",
       "    }\n",
       "\n",
       "    .dataframe tbody tr th {\n",
       "        vertical-align: top;\n",
       "    }\n",
       "\n",
       "    .dataframe thead th {\n",
       "        text-align: right;\n",
       "    }\n",
       "</style>\n",
       "<table border=\"1\" class=\"dataframe\">\n",
       "  <thead>\n",
       "    <tr style=\"text-align: right;\">\n",
       "      <th></th>\n",
       "      <th>members</th>\n",
       "      <th>vehicles_mercedes</th>\n",
       "      <th>status_middleclass</th>\n",
       "    </tr>\n",
       "  </thead>\n",
       "  <tbody>\n",
       "    <tr>\n",
       "      <th>0</th>\n",
       "      <td>2.0</td>\n",
       "      <td>1</td>\n",
       "      <td>1</td>\n",
       "    </tr>\n",
       "    <tr>\n",
       "      <th>1</th>\n",
       "      <td>NaN</td>\n",
       "      <td>1</td>\n",
       "      <td>1</td>\n",
       "    </tr>\n",
       "  </tbody>\n",
       "</table>\n",
       "</div>"
      ],
      "text/plain": [
       "   members  vehicles_mercedes  status_middleclass\n",
       "0      2.0                  1                   1\n",
       "1      NaN                  1                   1"
      ]
     },
     "execution_count": 9,
     "metadata": {},
     "output_type": "execute_result"
    }
   ],
   "source": [
    "pd.get_dummies(df_cars[0:2])"
   ]
  },
  {
   "cell_type": "code",
   "execution_count": 10,
   "metadata": {
    "ExecuteTime": {
     "end_time": "2020-09-22T15:42:00.919964Z",
     "start_time": "2020-09-22T15:42:00.911162Z"
    }
   },
   "outputs": [
    {
     "data": {
      "text/plain": [
       "0    mercedes\n",
       "1    mercedes\n",
       "2        Audi\n",
       "Name: vehicles, dtype: object"
      ]
     },
     "execution_count": 10,
     "metadata": {},
     "output_type": "execute_result"
    }
   ],
   "source": [
    "df_cars[\"vehicles\"]"
   ]
  },
  {
   "cell_type": "markdown",
   "metadata": {},
   "source": [
    "Now we can cast a column with type \"category\""
   ]
  },
  {
   "cell_type": "code",
   "execution_count": 11,
   "metadata": {
    "ExecuteTime": {
     "end_time": "2020-09-22T15:42:00.940141Z",
     "start_time": "2020-09-22T15:42:00.922382Z"
    }
   },
   "outputs": [
    {
     "data": {
      "text/plain": [
       "0    mercedes\n",
       "1    mercedes\n",
       "2        Audi\n",
       "Name: vehicles, dtype: category\n",
       "Categories (2, object): ['Audi', 'mercedes']"
      ]
     },
     "execution_count": 11,
     "metadata": {},
     "output_type": "execute_result"
    }
   ],
   "source": [
    "from pandas.api.types import CategoricalDtype\n",
    "\n",
    "cats =  df_cars[\"vehicles\"].unique()\n",
    "cat_type = CategoricalDtype(categories=cats, ordered=True)\n",
    "\n",
    "df_cars[[\"vehicles\"]].astype(cat_type)\n",
    "df_cars[[\"vehicles\"]] = df_cars[[\"vehicles\"]].astype(\"category\")\n",
    "df_cars[\"vehicles\"]"
   ]
  },
  {
   "cell_type": "markdown",
   "metadata": {},
   "source": [
    "With the type \"category\" now the one hot encoding will produce a column for each of the allowed values [Audi, mercedes]. This will work even if in the provided dataframe to `get_dummies` some values are not present in a column."
   ]
  },
  {
   "cell_type": "code",
   "execution_count": 12,
   "metadata": {
    "ExecuteTime": {
     "end_time": "2020-09-22T15:42:00.959577Z",
     "start_time": "2020-09-22T15:42:00.942298Z"
    }
   },
   "outputs": [
    {
     "data": {
      "text/html": [
       "<div>\n",
       "<style scoped>\n",
       "    .dataframe tbody tr th:only-of-type {\n",
       "        vertical-align: middle;\n",
       "    }\n",
       "\n",
       "    .dataframe tbody tr th {\n",
       "        vertical-align: top;\n",
       "    }\n",
       "\n",
       "    .dataframe thead th {\n",
       "        text-align: right;\n",
       "    }\n",
       "</style>\n",
       "<table border=\"1\" class=\"dataframe\">\n",
       "  <thead>\n",
       "    <tr style=\"text-align: right;\">\n",
       "      <th></th>\n",
       "      <th>members</th>\n",
       "      <th>vehicles_Audi</th>\n",
       "      <th>vehicles_mercedes</th>\n",
       "      <th>status_middleclass</th>\n",
       "    </tr>\n",
       "  </thead>\n",
       "  <tbody>\n",
       "    <tr>\n",
       "      <th>0</th>\n",
       "      <td>2.0</td>\n",
       "      <td>0</td>\n",
       "      <td>1</td>\n",
       "      <td>1</td>\n",
       "    </tr>\n",
       "    <tr>\n",
       "      <th>1</th>\n",
       "      <td>NaN</td>\n",
       "      <td>0</td>\n",
       "      <td>1</td>\n",
       "      <td>1</td>\n",
       "    </tr>\n",
       "  </tbody>\n",
       "</table>\n",
       "</div>"
      ],
      "text/plain": [
       "   members  vehicles_Audi  vehicles_mercedes  status_middleclass\n",
       "0      2.0              0                  1                   1\n",
       "1      NaN              0                  1                   1"
      ]
     },
     "execution_count": 12,
     "metadata": {},
     "output_type": "execute_result"
    }
   ],
   "source": [
    "pd.get_dummies(df_cars[0:2])"
   ]
  },
  {
   "cell_type": "markdown",
   "metadata": {},
   "source": [
    "Notice that we can add more values with **`df_cars[col].cat.add_categories([value1, value2])`**.\n",
    "\n",
    "For example we can add now the category \"renault\" to our \"vehicles\" column"
   ]
  },
  {
   "cell_type": "code",
   "execution_count": 13,
   "metadata": {
    "ExecuteTime": {
     "end_time": "2020-09-22T15:42:00.968542Z",
     "start_time": "2020-09-22T15:42:00.962179Z"
    }
   },
   "outputs": [],
   "source": [
    "df_cars[\"vehicles\"] = df_cars[\"vehicles\"].cat.add_categories([\"renault\"])"
   ]
  },
  {
   "cell_type": "code",
   "execution_count": 14,
   "metadata": {
    "ExecuteTime": {
     "end_time": "2020-09-22T15:42:00.979304Z",
     "start_time": "2020-09-22T15:42:00.970788Z"
    }
   },
   "outputs": [
    {
     "data": {
      "text/plain": [
       "0    mercedes\n",
       "1    mercedes\n",
       "2        Audi\n",
       "Name: vehicles, dtype: category\n",
       "Categories (3, object): ['Audi', 'mercedes', 'renault']"
      ]
     },
     "execution_count": 14,
     "metadata": {},
     "output_type": "execute_result"
    }
   ],
   "source": [
    "df_cars[\"vehicles\"]"
   ]
  },
  {
   "cell_type": "markdown",
   "metadata": {},
   "source": [
    "And if we do the one hot encoding we see that we get 3 columns for \"vehicles\"."
   ]
  },
  {
   "cell_type": "code",
   "execution_count": 15,
   "metadata": {
    "ExecuteTime": {
     "end_time": "2020-09-22T15:42:00.998767Z",
     "start_time": "2020-09-22T15:42:00.981547Z"
    }
   },
   "outputs": [
    {
     "data": {
      "text/html": [
       "<div>\n",
       "<style scoped>\n",
       "    .dataframe tbody tr th:only-of-type {\n",
       "        vertical-align: middle;\n",
       "    }\n",
       "\n",
       "    .dataframe tbody tr th {\n",
       "        vertical-align: top;\n",
       "    }\n",
       "\n",
       "    .dataframe thead th {\n",
       "        text-align: right;\n",
       "    }\n",
       "</style>\n",
       "<table border=\"1\" class=\"dataframe\">\n",
       "  <thead>\n",
       "    <tr style=\"text-align: right;\">\n",
       "      <th></th>\n",
       "      <th>members</th>\n",
       "      <th>vehicles_Audi</th>\n",
       "      <th>vehicles_mercedes</th>\n",
       "      <th>vehicles_renault</th>\n",
       "      <th>status_middleclass</th>\n",
       "    </tr>\n",
       "  </thead>\n",
       "  <tbody>\n",
       "    <tr>\n",
       "      <th>0</th>\n",
       "      <td>2.0</td>\n",
       "      <td>0</td>\n",
       "      <td>1</td>\n",
       "      <td>0</td>\n",
       "      <td>1</td>\n",
       "    </tr>\n",
       "    <tr>\n",
       "      <th>1</th>\n",
       "      <td>NaN</td>\n",
       "      <td>0</td>\n",
       "      <td>1</td>\n",
       "      <td>0</td>\n",
       "      <td>1</td>\n",
       "    </tr>\n",
       "  </tbody>\n",
       "</table>\n",
       "</div>"
      ],
      "text/plain": [
       "   members  vehicles_Audi  vehicles_mercedes  vehicles_renault  \\\n",
       "0      2.0              0                  1                 0   \n",
       "1      NaN              0                  1                 0   \n",
       "\n",
       "   status_middleclass  \n",
       "0                   1  \n",
       "1                   1  "
      ]
     },
     "execution_count": 15,
     "metadata": {},
     "output_type": "execute_result"
    }
   ],
   "source": [
    "pd.get_dummies(df_cars[0:2])"
   ]
  },
  {
   "cell_type": "markdown",
   "metadata": {},
   "source": [
    "## Defining categorical values with order\n",
    "\n",
    "We can provide an order to the different categories, when the one hot encoding is done it will do it respecting the order"
   ]
  },
  {
   "cell_type": "code",
   "execution_count": 16,
   "metadata": {
    "ExecuteTime": {
     "end_time": "2020-09-22T15:42:01.008172Z",
     "start_time": "2020-09-22T15:42:01.001405Z"
    }
   },
   "outputs": [],
   "source": [
    "df_cars = pd.DataFrame([[2,\"seat\",\"middleclass\"], \n",
    "                        [np.NaN,\"mercedes\",\"middleclass\"],\n",
    "                        [3,\"Audi\",np.NaN]],\n",
    "                        columns= [\"members\",\"vehicles\",\"status\"])"
   ]
  },
  {
   "cell_type": "code",
   "execution_count": 17,
   "metadata": {
    "ExecuteTime": {
     "end_time": "2020-09-22T15:42:01.020280Z",
     "start_time": "2020-09-22T15:42:01.010494Z"
    }
   },
   "outputs": [],
   "source": [
    "categories=['seat','bmw','mercedes']\n",
    "car_type = pd.api.types.CategoricalDtype(categories=categories, ordered=True)\n",
    "df_cars[[\"vehicles\"]] = df_cars[[\"vehicles\"]].astype(car_type)"
   ]
  },
  {
   "cell_type": "code",
   "execution_count": 18,
   "metadata": {
    "ExecuteTime": {
     "end_time": "2020-09-22T15:42:01.031527Z",
     "start_time": "2020-09-22T15:42:01.022391Z"
    }
   },
   "outputs": [
    {
     "data": {
      "text/plain": [
       "0        seat\n",
       "1    mercedes\n",
       "2         NaN\n",
       "Name: vehicles, dtype: category\n",
       "Categories (3, object): ['seat' < 'bmw' < 'mercedes']"
      ]
     },
     "execution_count": 18,
     "metadata": {},
     "output_type": "execute_result"
    }
   ],
   "source": [
    "df_cars[\"vehicles\"]"
   ]
  },
  {
   "cell_type": "code",
   "execution_count": 19,
   "metadata": {
    "ExecuteTime": {
     "end_time": "2020-09-22T15:42:01.051796Z",
     "start_time": "2020-09-22T15:42:01.033851Z"
    }
   },
   "outputs": [
    {
     "data": {
      "text/html": [
       "<div>\n",
       "<style scoped>\n",
       "    .dataframe tbody tr th:only-of-type {\n",
       "        vertical-align: middle;\n",
       "    }\n",
       "\n",
       "    .dataframe tbody tr th {\n",
       "        vertical-align: top;\n",
       "    }\n",
       "\n",
       "    .dataframe thead th {\n",
       "        text-align: right;\n",
       "    }\n",
       "</style>\n",
       "<table border=\"1\" class=\"dataframe\">\n",
       "  <thead>\n",
       "    <tr style=\"text-align: right;\">\n",
       "      <th></th>\n",
       "      <th>members</th>\n",
       "      <th>vehicles_seat</th>\n",
       "      <th>vehicles_bmw</th>\n",
       "      <th>vehicles_mercedes</th>\n",
       "      <th>status_middleclass</th>\n",
       "    </tr>\n",
       "  </thead>\n",
       "  <tbody>\n",
       "    <tr>\n",
       "      <th>0</th>\n",
       "      <td>2.0</td>\n",
       "      <td>1</td>\n",
       "      <td>0</td>\n",
       "      <td>0</td>\n",
       "      <td>1</td>\n",
       "    </tr>\n",
       "    <tr>\n",
       "      <th>1</th>\n",
       "      <td>NaN</td>\n",
       "      <td>0</td>\n",
       "      <td>0</td>\n",
       "      <td>1</td>\n",
       "      <td>1</td>\n",
       "    </tr>\n",
       "    <tr>\n",
       "      <th>2</th>\n",
       "      <td>3.0</td>\n",
       "      <td>0</td>\n",
       "      <td>0</td>\n",
       "      <td>0</td>\n",
       "      <td>0</td>\n",
       "    </tr>\n",
       "  </tbody>\n",
       "</table>\n",
       "</div>"
      ],
      "text/plain": [
       "   members  vehicles_seat  vehicles_bmw  vehicles_mercedes  status_middleclass\n",
       "0      2.0              1             0                  0                   1\n",
       "1      NaN              0             0                  1                   1\n",
       "2      3.0              0             0                  0                   0"
      ]
     },
     "execution_count": 19,
     "metadata": {},
     "output_type": "execute_result"
    }
   ],
   "source": [
    "pd.get_dummies(df_cars)"
   ]
  },
  {
   "cell_type": "markdown",
   "metadata": {},
   "source": [
    "Moreover, we can do comparisons using the specified order"
   ]
  },
  {
   "cell_type": "code",
   "execution_count": 20,
   "metadata": {
    "ExecuteTime": {
     "end_time": "2020-09-22T15:42:01.062512Z",
     "start_time": "2020-09-22T15:42:01.054126Z"
    }
   },
   "outputs": [
    {
     "data": {
      "text/plain": [
       "0     True\n",
       "1    False\n",
       "2    False\n",
       "Name: vehicles, dtype: bool"
      ]
     },
     "execution_count": 20,
     "metadata": {},
     "output_type": "execute_result"
    }
   ],
   "source": [
    "df_cars[\"vehicles\"] < \"mercedes\""
   ]
  },
  {
   "cell_type": "code",
   "execution_count": 21,
   "metadata": {
    "ExecuteTime": {
     "end_time": "2020-09-22T15:42:01.072613Z",
     "start_time": "2020-09-22T15:42:01.064721Z"
    }
   },
   "outputs": [
    {
     "data": {
      "text/plain": [
       "0        seat\n",
       "1    mercedes\n",
       "2         NaN\n",
       "Name: vehicles, dtype: category\n",
       "Categories (3, object): ['seat' < 'bmw' < 'mercedes']"
      ]
     },
     "execution_count": 21,
     "metadata": {},
     "output_type": "execute_result"
    }
   ],
   "source": [
    "df_cars[\"vehicles\"]"
   ]
  },
  {
   "cell_type": "markdown",
   "metadata": {},
   "source": [
    "# Add new columns saving Nan values `get_dummies_nan` "
   ]
  },
  {
   "cell_type": "code",
   "execution_count": 22,
   "metadata": {
    "ExecuteTime": {
     "end_time": "2020-09-22T15:42:01.082957Z",
     "start_time": "2020-09-22T15:42:01.075405Z"
    }
   },
   "outputs": [],
   "source": [
    "df_cars = pd.DataFrame([[2,\"mercedes\",\"middleclass\"], \n",
    "                        [np.NaN,\"mercedes\",\"middleclass\"],\n",
    "                        [3,\"Audi\",np.NaN]],\n",
    "                        columns= [\"members\",\"vehicles\",\"status\"])\n"
   ]
  },
  {
   "cell_type": "code",
   "execution_count": 23,
   "metadata": {
    "ExecuteTime": {
     "end_time": "2020-09-22T15:42:01.098148Z",
     "start_time": "2020-09-22T15:42:01.089047Z"
    }
   },
   "outputs": [
    {
     "name": "stdout",
     "output_type": "stream",
     "text": [
      "   members  vehicles       status\n",
      "0      2.0  mercedes  middleclass\n",
      "1      NaN  mercedes  middleclass\n",
      "2      3.0      Audi          NaN\n"
     ]
    }
   ],
   "source": [
    "print(df_cars)"
   ]
  },
  {
   "cell_type": "code",
   "execution_count": 24,
   "metadata": {
    "ExecuteTime": {
     "end_time": "2020-09-22T15:42:01.111825Z",
     "start_time": "2020-09-22T15:42:01.102698Z"
    }
   },
   "outputs": [],
   "source": [
    "\n",
    "def contains_nan(df_col):\n",
    "    '''\n",
    "    `contains_nan` checks if a certain column has nans\n",
    "    '''\n",
    "    return df_col.isna().any()\n",
    "\n",
    "\n",
    "def get_dummies_nan(df, return_nancols=False,inplace=False):\n",
    "    '''\n",
    "    `get_dummies_nan` creates a new dataframe with binary columns stating wheather variables contain NaNs.\n",
    "    \n",
    "    \n",
    "    \n",
    "    Examples:\n",
    "    --------\n",
    "    \n",
    "    \n",
    "    >>> df = pd.DataFrame([[2,\"mercedes\",\"middleclass\"], \n",
    "                           [np.NaN,\"mercedes\",\"middleclass\"],\n",
    "                           [3,\"Audi\",np.NaN]],\n",
    "                           columns= [\"members\",\"vehicles\",\"status\"])\n",
    "    \n",
    "    >>> df \n",
    "\n",
    "           members  vehicles       status\n",
    "    0      2.0  mercedes  middleclass\n",
    "    1      NaN  mercedes  middleclass\n",
    "    2      3.0      Audi          NaN\n",
    "    \n",
    "    >>> df_ = get_dummies_nan(df)\n",
    "    \n",
    "    >>> df_\n",
    "    \n",
    "           members  vehicles       status  members_nan  status_nan\n",
    "    0      2.0  mercedes  middleclass        False       False\n",
    "    1      NaN  mercedes  middleclass         True       False\n",
    "    2      3.0      Audi          NaN        False        True\n",
    "\n",
    "    >>> df_, nancols = get_dummies_nan(df, return_nancols=True)\n",
    "    \n",
    "    >>> nancols\n",
    "    \n",
    "    ['members', 'status']\n",
    "\n",
    "    '''\n",
    "    def add_nan_columns(df):\n",
    "        cols_with_nan = []\n",
    "        for c in df.columns:\n",
    "            if contains_nan(df[c]):\n",
    "                cols_with_nan.append(c)\n",
    "                df[c + \"_nan\"] = df[c].isna().values    \n",
    "        return df, cols_with_nan\n",
    "\n",
    "\n",
    "    if inplace:\n",
    "        df, cols_with_nan = add_nan_columns(df) \n",
    "        if return_nancols:\n",
    "            return cols_with_nan\n",
    "    else:\n",
    "        df_copy = df.copy(deep=True)\n",
    "        df_copy, cols_with_nan = add_nan_columns(df_copy) \n",
    "        \n",
    "        if return_nancols:\n",
    "            return df_copy, cols_with_nan\n",
    "        else:\n",
    "            return df_copy"
   ]
  },
  {
   "cell_type": "code",
   "execution_count": 25,
   "metadata": {
    "ExecuteTime": {
     "end_time": "2020-09-22T15:42:01.121482Z",
     "start_time": "2020-09-22T15:42:01.113905Z"
    }
   },
   "outputs": [],
   "source": [
    "df_= get_dummies_nan(df_cars)"
   ]
  },
  {
   "cell_type": "code",
   "execution_count": 26,
   "metadata": {
    "ExecuteTime": {
     "end_time": "2020-09-22T15:42:01.136513Z",
     "start_time": "2020-09-22T15:42:01.123916Z"
    }
   },
   "outputs": [
    {
     "data": {
      "text/html": [
       "<div>\n",
       "<style scoped>\n",
       "    .dataframe tbody tr th:only-of-type {\n",
       "        vertical-align: middle;\n",
       "    }\n",
       "\n",
       "    .dataframe tbody tr th {\n",
       "        vertical-align: top;\n",
       "    }\n",
       "\n",
       "    .dataframe thead th {\n",
       "        text-align: right;\n",
       "    }\n",
       "</style>\n",
       "<table border=\"1\" class=\"dataframe\">\n",
       "  <thead>\n",
       "    <tr style=\"text-align: right;\">\n",
       "      <th></th>\n",
       "      <th>members</th>\n",
       "      <th>vehicles</th>\n",
       "      <th>status</th>\n",
       "      <th>members_nan</th>\n",
       "      <th>status_nan</th>\n",
       "    </tr>\n",
       "  </thead>\n",
       "  <tbody>\n",
       "    <tr>\n",
       "      <th>0</th>\n",
       "      <td>2.0</td>\n",
       "      <td>mercedes</td>\n",
       "      <td>middleclass</td>\n",
       "      <td>False</td>\n",
       "      <td>False</td>\n",
       "    </tr>\n",
       "    <tr>\n",
       "      <th>1</th>\n",
       "      <td>NaN</td>\n",
       "      <td>mercedes</td>\n",
       "      <td>middleclass</td>\n",
       "      <td>True</td>\n",
       "      <td>False</td>\n",
       "    </tr>\n",
       "    <tr>\n",
       "      <th>2</th>\n",
       "      <td>3.0</td>\n",
       "      <td>Audi</td>\n",
       "      <td>NaN</td>\n",
       "      <td>False</td>\n",
       "      <td>True</td>\n",
       "    </tr>\n",
       "  </tbody>\n",
       "</table>\n",
       "</div>"
      ],
      "text/plain": [
       "   members  vehicles       status  members_nan  status_nan\n",
       "0      2.0  mercedes  middleclass        False       False\n",
       "1      NaN  mercedes  middleclass         True       False\n",
       "2      3.0      Audi          NaN        False        True"
      ]
     },
     "execution_count": 26,
     "metadata": {},
     "output_type": "execute_result"
    }
   ],
   "source": [
    "df_"
   ]
  },
  {
   "cell_type": "code",
   "execution_count": 27,
   "metadata": {
    "ExecuteTime": {
     "end_time": "2020-09-22T15:42:01.146336Z",
     "start_time": "2020-09-22T15:42:01.139170Z"
    }
   },
   "outputs": [],
   "source": [
    "df_, nancols = get_dummies_nan(df_cars, return_nancols=True)"
   ]
  },
  {
   "cell_type": "code",
   "execution_count": 28,
   "metadata": {
    "ExecuteTime": {
     "end_time": "2020-09-22T15:42:01.154448Z",
     "start_time": "2020-09-22T15:42:01.148759Z"
    }
   },
   "outputs": [
    {
     "data": {
      "text/plain": [
       "['members', 'status']"
      ]
     },
     "execution_count": 28,
     "metadata": {},
     "output_type": "execute_result"
    }
   ],
   "source": [
    "nancols"
   ]
  },
  {
   "cell_type": "markdown",
   "metadata": {},
   "source": [
    "# Compute nan features for rows: `nan_features` "
   ]
  },
  {
   "cell_type": "code",
   "execution_count": 29,
   "metadata": {
    "ExecuteTime": {
     "end_time": "2020-09-22T15:42:01.171895Z",
     "start_time": "2020-09-22T15:42:01.157244Z"
    }
   },
   "outputs": [],
   "source": [
    "\n",
    "def _nan_rowfeatures(df, reduce_methods=[np.mean, np.std], distances=False, inplace=False):\n",
    "    \n",
    "    \"\"\"\n",
    "    `nan_features` generates new features containing for a given row k the \"statistic\" returned by a reduce\n",
    "    operation on row k.\n",
    "    \n",
    "    t also computes the difference between the most value of the transformed nans per row and the found value.\n",
    "\n",
    "    Examples:\n",
    "    ---------\n",
    "    >>> df = pd.DataFrame([[2,[\"p\",\"b\",None]], \n",
    "                   [3,[\"a\",\"c\",None]],\n",
    "                  [3,[\"d\",\"w\",\"a\"]]],columns= [\"first\",\"second\"])\n",
    "                  \n",
    "    >>> df\n",
    "    \n",
    "       first        second\n",
    "    0      2  [p, b, None]\n",
    "    1      3  [a, c, None]\n",
    "    2      3     [d, w, a]\n",
    "    \n",
    "    >>> df_ = nan_rowfeatures(df)\n",
    "    \n",
    "    >>> df_\n",
    "\n",
    "        members  vehicles       status  mean_nans  std_nans\n",
    "    0      2.0  mercedes  middleclass   0.000000  0.000000\n",
    "    1      NaN  mercedes  middleclass   0.333333  0.471405\n",
    "    2      3.0      Audi          NaN   0.333333  0.471405\n",
    "\n",
    "    \"\"\"\n",
    "    def create_col(df, reducer):\n",
    "        colname     = reducer.__name__ + '_rownans'\n",
    "        df[colname] = df_cars.apply(lambda x: reducer(pd.isna(x)), axis=1)\n",
    "        if distances:\n",
    "            mode        = stats.mode(df[colname])[0]  \n",
    "            df[colname + '_l1_to_mode' ] = np.abs(df[colname] - mode)\n",
    "            df[colname + '_l2_to_mode']  = (df[colname] - mode)**2\n",
    "            \n",
    "    if inplace:\n",
    "        for reducer in reduce_methods:\n",
    "            create_col(df, reducer)\n",
    "    else:\n",
    "        df_copy = df.copy(deep=True)\n",
    "        \n",
    "        for reducer in reduce_methods:\n",
    "            create_col(df_copy, reducer)\n",
    "        return df_copy\n",
    "    \n",
    "    \n",
    "\n",
    "def nan_rowfeatures(df, reduce_methods=[np.mean, np.std], distances=False, inplace=False):\n",
    "    \n",
    "    \"\"\"\n",
    "    `nan_features` generates new features containing for a given row k the \"statistic\" returned by a reduce\n",
    "    operation on row k.\n",
    "    \n",
    "    It also computes the difference between the most value of the transformed nans per row and the found value.\n",
    "    \n",
    "    Examples:\n",
    "    ---------\n",
    "    >>> df = pd.DataFrame([[2,[\"p\",\"b\",None]], \n",
    "                   [3,[\"a\",\"c\",None]],\n",
    "                  [3,[\"d\",\"w\",\"a\"]]],columns= [\"first\",\"second\"])\n",
    "                  \n",
    "    >>> df\n",
    "    \n",
    "       first        second\n",
    "    0      2  [p, b, None]\n",
    "    1      3  [a, c, None]\n",
    "    2      3     [d, w, a]\n",
    "    \n",
    "    >>> df_ = nan_rowfeatures(df)\n",
    "    \n",
    "    >>> df_\n",
    "\n",
    "       members  vehicles       status  mean_rownans  std_rownans\n",
    "    0      2.0  mercedes  middleclass      0.000000     0.000000\n",
    "    1      NaN  mercedes  middleclass      0.333333     0.433013\n",
    "    2      3.0      Audi          NaN      0.333333     0.433013\n",
    "    \n",
    "    >>> df_ = nan_rowfeatures(df, distances=True)\n",
    "\n",
    "           members  vehicles       status  mean_rownans  mean_rownans_l1_to_mode  \\\n",
    "    0      2.0  mercedes  middleclass      0.000000                 0.333333   \n",
    "    1      NaN  mercedes  middleclass      0.333333                 0.000000   \n",
    "    2      3.0      Audi          NaN      0.333333                 0.000000   \n",
    "\n",
    "       mean_rownans_l2_to_mode  std_rownans  std_rownans_l1_to_mode  \\\n",
    "    0                 0.111111     0.000000                0.372678   \n",
    "    1                 0.000000     0.372678                0.000000   \n",
    "    2                 0.000000     0.372678                0.000000   \n",
    "\n",
    "       std_rownans_l2_to_mode  \n",
    "    0                0.138889  \n",
    "    1                0.000000  \n",
    "    2                0.000000  \n",
    "\n",
    "    \"\"\"\n",
    "    \n",
    "    def create_col(df, reducer):\n",
    "        colname                       = reducer.__name__ + '_rownans'\n",
    "        df[colname]                   = reducer(pd.isna(df), axis=1)\n",
    "        if distances:\n",
    "            mode                          = stats.mode(df[colname])[0]  \n",
    "            df[colname + '_l1_to_mode']   = np.abs(mode - df[colname])\n",
    "            df[colname + '_l2_to_mode']   = (mode - df[colname])**2\n",
    "            \n",
    "    if inplace:\n",
    "        for reducer in reduce_methods:\n",
    "            create_col(df, reducer)\n",
    "    else:\n",
    "        df_copy = df.copy(deep=True)\n",
    "        \n",
    "        for reducer in reduce_methods:\n",
    "            create_col(df_copy, reducer)\n",
    "\n",
    "        return df_copy"
   ]
  },
  {
   "cell_type": "code",
   "execution_count": 30,
   "metadata": {
    "ExecuteTime": {
     "end_time": "2020-09-22T15:42:01.193721Z",
     "start_time": "2020-09-22T15:42:01.174255Z"
    },
    "scrolled": true
   },
   "outputs": [
    {
     "name": "stdout",
     "output_type": "stream",
     "text": [
      "CPU times: user 6.13 ms, sys: 1.28 ms, total: 7.41 ms\n",
      "Wall time: 7.38 ms\n"
     ]
    },
    {
     "data": {
      "text/html": [
       "<div>\n",
       "<style scoped>\n",
       "    .dataframe tbody tr th:only-of-type {\n",
       "        vertical-align: middle;\n",
       "    }\n",
       "\n",
       "    .dataframe tbody tr th {\n",
       "        vertical-align: top;\n",
       "    }\n",
       "\n",
       "    .dataframe thead th {\n",
       "        text-align: right;\n",
       "    }\n",
       "</style>\n",
       "<table border=\"1\" class=\"dataframe\">\n",
       "  <thead>\n",
       "    <tr style=\"text-align: right;\">\n",
       "      <th></th>\n",
       "      <th>members</th>\n",
       "      <th>vehicles</th>\n",
       "      <th>status</th>\n",
       "      <th>mean_rownans</th>\n",
       "      <th>std_rownans</th>\n",
       "    </tr>\n",
       "  </thead>\n",
       "  <tbody>\n",
       "    <tr>\n",
       "      <th>0</th>\n",
       "      <td>2.0</td>\n",
       "      <td>mercedes</td>\n",
       "      <td>middleclass</td>\n",
       "      <td>0.000000</td>\n",
       "      <td>0.000000</td>\n",
       "    </tr>\n",
       "    <tr>\n",
       "      <th>1</th>\n",
       "      <td>NaN</td>\n",
       "      <td>mercedes</td>\n",
       "      <td>middleclass</td>\n",
       "      <td>0.333333</td>\n",
       "      <td>0.471405</td>\n",
       "    </tr>\n",
       "    <tr>\n",
       "      <th>2</th>\n",
       "      <td>3.0</td>\n",
       "      <td>Audi</td>\n",
       "      <td>NaN</td>\n",
       "      <td>0.333333</td>\n",
       "      <td>0.471405</td>\n",
       "    </tr>\n",
       "  </tbody>\n",
       "</table>\n",
       "</div>"
      ],
      "text/plain": [
       "   members  vehicles       status  mean_rownans  std_rownans\n",
       "0      2.0  mercedes  middleclass      0.000000     0.000000\n",
       "1      NaN  mercedes  middleclass      0.333333     0.471405\n",
       "2      3.0      Audi          NaN      0.333333     0.471405"
      ]
     },
     "execution_count": 30,
     "metadata": {},
     "output_type": "execute_result"
    }
   ],
   "source": [
    "%%time\n",
    "_nan_rowfeatures(df_cars)"
   ]
  },
  {
   "cell_type": "code",
   "execution_count": 31,
   "metadata": {
    "ExecuteTime": {
     "end_time": "2020-09-22T15:42:01.214275Z",
     "start_time": "2020-09-22T15:42:01.195808Z"
    }
   },
   "outputs": [
    {
     "name": "stdout",
     "output_type": "stream",
     "text": [
      "CPU times: user 4.57 ms, sys: 1.3 ms, total: 5.87 ms\n",
      "Wall time: 6.36 ms\n"
     ]
    },
    {
     "data": {
      "text/html": [
       "<div>\n",
       "<style scoped>\n",
       "    .dataframe tbody tr th:only-of-type {\n",
       "        vertical-align: middle;\n",
       "    }\n",
       "\n",
       "    .dataframe tbody tr th {\n",
       "        vertical-align: top;\n",
       "    }\n",
       "\n",
       "    .dataframe thead th {\n",
       "        text-align: right;\n",
       "    }\n",
       "</style>\n",
       "<table border=\"1\" class=\"dataframe\">\n",
       "  <thead>\n",
       "    <tr style=\"text-align: right;\">\n",
       "      <th></th>\n",
       "      <th>members</th>\n",
       "      <th>vehicles</th>\n",
       "      <th>status</th>\n",
       "      <th>mean_rownans</th>\n",
       "      <th>std_rownans</th>\n",
       "    </tr>\n",
       "  </thead>\n",
       "  <tbody>\n",
       "    <tr>\n",
       "      <th>0</th>\n",
       "      <td>2.0</td>\n",
       "      <td>mercedes</td>\n",
       "      <td>middleclass</td>\n",
       "      <td>0.000000</td>\n",
       "      <td>0.000000</td>\n",
       "    </tr>\n",
       "    <tr>\n",
       "      <th>1</th>\n",
       "      <td>NaN</td>\n",
       "      <td>mercedes</td>\n",
       "      <td>middleclass</td>\n",
       "      <td>0.333333</td>\n",
       "      <td>0.433013</td>\n",
       "    </tr>\n",
       "    <tr>\n",
       "      <th>2</th>\n",
       "      <td>3.0</td>\n",
       "      <td>Audi</td>\n",
       "      <td>NaN</td>\n",
       "      <td>0.333333</td>\n",
       "      <td>0.433013</td>\n",
       "    </tr>\n",
       "  </tbody>\n",
       "</table>\n",
       "</div>"
      ],
      "text/plain": [
       "   members  vehicles       status  mean_rownans  std_rownans\n",
       "0      2.0  mercedes  middleclass      0.000000     0.000000\n",
       "1      NaN  mercedes  middleclass      0.333333     0.433013\n",
       "2      3.0      Audi          NaN      0.333333     0.433013"
      ]
     },
     "execution_count": 31,
     "metadata": {},
     "output_type": "execute_result"
    }
   ],
   "source": [
    "%%time\n",
    "nan_rowfeatures(df_cars)"
   ]
  },
  {
   "cell_type": "code",
   "execution_count": 32,
   "metadata": {
    "ExecuteTime": {
     "end_time": "2020-09-22T15:42:01.251440Z",
     "start_time": "2020-09-22T15:42:01.216637Z"
    }
   },
   "outputs": [
    {
     "data": {
      "text/html": [
       "<div>\n",
       "<style scoped>\n",
       "    .dataframe tbody tr th:only-of-type {\n",
       "        vertical-align: middle;\n",
       "    }\n",
       "\n",
       "    .dataframe tbody tr th {\n",
       "        vertical-align: top;\n",
       "    }\n",
       "\n",
       "    .dataframe thead th {\n",
       "        text-align: right;\n",
       "    }\n",
       "</style>\n",
       "<table border=\"1\" class=\"dataframe\">\n",
       "  <thead>\n",
       "    <tr style=\"text-align: right;\">\n",
       "      <th></th>\n",
       "      <th>members</th>\n",
       "      <th>vehicles</th>\n",
       "      <th>status</th>\n",
       "      <th>mean_rownans</th>\n",
       "      <th>mean_rownans_l1_to_mode</th>\n",
       "      <th>mean_rownans_l2_to_mode</th>\n",
       "      <th>std_rownans</th>\n",
       "      <th>std_rownans_l1_to_mode</th>\n",
       "      <th>std_rownans_l2_to_mode</th>\n",
       "    </tr>\n",
       "  </thead>\n",
       "  <tbody>\n",
       "    <tr>\n",
       "      <th>0</th>\n",
       "      <td>2.0</td>\n",
       "      <td>mercedes</td>\n",
       "      <td>middleclass</td>\n",
       "      <td>0.000000</td>\n",
       "      <td>0.333333</td>\n",
       "      <td>0.111111</td>\n",
       "      <td>0.000000</td>\n",
       "      <td>0.372678</td>\n",
       "      <td>0.138889</td>\n",
       "    </tr>\n",
       "    <tr>\n",
       "      <th>1</th>\n",
       "      <td>NaN</td>\n",
       "      <td>mercedes</td>\n",
       "      <td>middleclass</td>\n",
       "      <td>0.333333</td>\n",
       "      <td>0.000000</td>\n",
       "      <td>0.000000</td>\n",
       "      <td>0.372678</td>\n",
       "      <td>0.000000</td>\n",
       "      <td>0.000000</td>\n",
       "    </tr>\n",
       "    <tr>\n",
       "      <th>2</th>\n",
       "      <td>3.0</td>\n",
       "      <td>Audi</td>\n",
       "      <td>NaN</td>\n",
       "      <td>0.333333</td>\n",
       "      <td>0.000000</td>\n",
       "      <td>0.000000</td>\n",
       "      <td>0.372678</td>\n",
       "      <td>0.000000</td>\n",
       "      <td>0.000000</td>\n",
       "    </tr>\n",
       "  </tbody>\n",
       "</table>\n",
       "</div>"
      ],
      "text/plain": [
       "   members  vehicles       status  mean_rownans  mean_rownans_l1_to_mode  \\\n",
       "0      2.0  mercedes  middleclass      0.000000                 0.333333   \n",
       "1      NaN  mercedes  middleclass      0.333333                 0.000000   \n",
       "2      3.0      Audi          NaN      0.333333                 0.000000   \n",
       "\n",
       "   mean_rownans_l2_to_mode  std_rownans  std_rownans_l1_to_mode  \\\n",
       "0                 0.111111     0.000000                0.372678   \n",
       "1                 0.000000     0.372678                0.000000   \n",
       "2                 0.000000     0.372678                0.000000   \n",
       "\n",
       "   std_rownans_l2_to_mode  \n",
       "0                0.138889  \n",
       "1                0.000000  \n",
       "2                0.000000  "
      ]
     },
     "execution_count": 32,
     "metadata": {},
     "output_type": "execute_result"
    }
   ],
   "source": [
    "nan_rowfeatures(df_cars, distances=True)"
   ]
  },
  {
   "cell_type": "markdown",
   "metadata": {},
   "source": [
    "# Substitute `np.NaN` by other values: `MissingImputer` class"
   ]
  },
  {
   "cell_type": "code",
   "execution_count": 33,
   "metadata": {
    "ExecuteTime": {
     "end_time": "2020-09-22T15:42:01.348031Z",
     "start_time": "2020-09-22T15:42:01.254838Z"
    }
   },
   "outputs": [],
   "source": [
    "from sklearn.base import BaseEstimator, TransformerMixin"
   ]
  },
  {
   "cell_type": "code",
   "execution_count": 34,
   "metadata": {
    "ExecuteTime": {
     "end_time": "2020-09-22T15:42:01.363518Z",
     "start_time": "2020-09-22T15:42:01.350658Z"
    }
   },
   "outputs": [],
   "source": [
    "\n",
    "class _MissingImputer(BaseEstimator, TransformerMixin):\n",
    "    '''\n",
    "    `MissingImputer` implements a `fit` and `transform` methods that enable replacing np.NaN values by numerical values.\n",
    "\n",
    "    This class uses an insane amount of RAM.\n",
    "    '''\n",
    "    def __init__(self, treatment=\"mean\"):\n",
    "        self._allowed_treatments = [\"fixed_value\", \"mean\",'median','mode','None',\"most_frequent\"]     \n",
    "        assert treatment in self._allowed_treatments or isinstance(treatment,(int,float)),  \"the treatment introduced {} is not valid. Please use one in {}\".format(treatment, self._allowed_treatments)\n",
    "        self.treatment = treatment\n",
    "    \n",
    "    def fit(self, X, y):\n",
    "        \"\"\"\n",
    "        Learns statistics to impute nans.\n",
    "        \"\"\"\n",
    "        \n",
    "        if self.treatment == \"mean\" or self.treatment==None:\n",
    "            self.treatment_method = sklearn.impute.SimpleImputer(missing_values=np.nan, strategy='mean')\n",
    "        elif self.treatment == \"median\":\n",
    "            self.treatment_method = sklearn.impute.SimpleImputer(missing_values=np.nan, strategy='median')\n",
    "        elif self.treatment == \"most_frequent\":\n",
    "            self.treatment_method = sklearn.impute.SimpleImputer(missing_values=np.nan, strategy='most_frequent')\n",
    "        elif isinstance(self.treatment, (int,float)):\n",
    "            self.treatment_method = sklearn.impute.SimpleImputer(missing_values=np.nan,\n",
    "                                                                 strategy=\"constant\",fill_value=self.treatment)       \n",
    "        \n",
    "        if isinstance(X, np.ndarray):   \n",
    "            self.treatment_method.fit(X)\n",
    "            \n",
    "        if isinstance(X, pd.DataFrame):       \n",
    "            self.treatment_method.fit(X.values)\n",
    "        \n",
    "        return self\n",
    "\n",
    "    def transform(self, X):\n",
    "        if self.treatment==None:\n",
    "            return X\n",
    "        return self.treatment_method.transform(X)\n",
    "\n"
   ]
  },
  {
   "cell_type": "code",
   "execution_count": 35,
   "metadata": {
    "ExecuteTime": {
     "end_time": "2020-09-22T15:42:01.805009Z",
     "start_time": "2020-09-22T15:42:01.366258Z"
    }
   },
   "outputs": [],
   "source": [
    "import sklearn\n",
    "from sklearn import *\n",
    "d = sklearn.datasets.load_iris()\n",
    "X, y = d[\"data\"], d[\"target\"]\n",
    "\n",
    "X[0,0] = np.NaN\n",
    "X[1,2] = np.NaN\n",
    "X[2,3] = np.NaN\n",
    "X[0,2] = np.NaN"
   ]
  },
  {
   "cell_type": "code",
   "execution_count": 36,
   "metadata": {
    "ExecuteTime": {
     "end_time": "2020-09-22T15:42:01.813630Z",
     "start_time": "2020-09-22T15:42:01.806920Z"
    }
   },
   "outputs": [
    {
     "data": {
      "text/plain": [
       "array([[nan, 3.5, nan, 0.2],\n",
       "       [4.9, 3. , nan, 0.2],\n",
       "       [4.7, 3.2, 1.3, nan]])"
      ]
     },
     "execution_count": 36,
     "metadata": {},
     "output_type": "execute_result"
    }
   ],
   "source": [
    "X[0:3]"
   ]
  },
  {
   "cell_type": "code",
   "execution_count": 37,
   "metadata": {
    "ExecuteTime": {
     "end_time": "2020-09-22T15:42:01.824653Z",
     "start_time": "2020-09-22T15:42:01.815725Z"
    }
   },
   "outputs": [
    {
     "data": {
      "text/plain": [
       "array([[5.84832215, 3.5       , 3.78986486, 0.2       ],\n",
       "       [4.9       , 3.        , 3.78986486, 0.2       ],\n",
       "       [4.7       , 3.2       , 1.3       , 1.20604027]])"
      ]
     },
     "execution_count": 37,
     "metadata": {},
     "output_type": "execute_result"
    }
   ],
   "source": [
    "imputer = _MissingImputer(treatment=\"mean\")\n",
    "imputer.fit(X,y)\n",
    "imputer.transform(X)[0:3]"
   ]
  },
  {
   "cell_type": "code",
   "execution_count": 38,
   "metadata": {
    "ExecuteTime": {
     "end_time": "2020-09-22T15:42:01.835991Z",
     "start_time": "2020-09-22T15:42:01.827141Z"
    }
   },
   "outputs": [
    {
     "data": {
      "text/plain": [
       "array([[5.8, 3.5, 4.4, 0.2],\n",
       "       [4.9, 3. , 4.4, 0.2],\n",
       "       [4.7, 3.2, 1.3, 1.3]])"
      ]
     },
     "execution_count": 38,
     "metadata": {},
     "output_type": "execute_result"
    }
   ],
   "source": [
    "imputer = _MissingImputer(treatment=\"median\")\n",
    "imputer.fit(X,y)\n",
    "imputer.transform(X)[0:3]"
   ]
  },
  {
   "cell_type": "code",
   "execution_count": 39,
   "metadata": {
    "ExecuteTime": {
     "end_time": "2020-09-22T15:42:01.846613Z",
     "start_time": "2020-09-22T15:42:01.837969Z"
    }
   },
   "outputs": [
    {
     "data": {
      "text/plain": [
       "array([[5. , 3.5, 1.5, 0.2],\n",
       "       [4.9, 3. , 1.5, 0.2],\n",
       "       [4.7, 3.2, 1.3, 0.2]])"
      ]
     },
     "execution_count": 39,
     "metadata": {},
     "output_type": "execute_result"
    }
   ],
   "source": [
    "imputer = _MissingImputer(treatment=\"most_frequent\")\n",
    "imputer.fit(X,y)\n",
    "imputer.transform(X)[0:3]"
   ]
  },
  {
   "cell_type": "code",
   "execution_count": 40,
   "metadata": {
    "ExecuteTime": {
     "end_time": "2020-09-22T15:42:10.054947Z",
     "start_time": "2020-09-22T15:42:01.849267Z"
    }
   },
   "outputs": [
    {
     "name": "stdout",
     "output_type": "stream",
     "text": [
      "1.04 ms ± 352 µs per loop (mean ± std. dev. of 7 runs, 1000 loops each)\n"
     ]
    }
   ],
   "source": [
    "%%timeit\n",
    "imputer = _MissingImputer(treatment=\"most_frequent\")\n",
    "imputer.fit(X,y)"
   ]
  },
  {
   "cell_type": "markdown",
   "metadata": {},
   "source": [
    "##### Improving MissingImputer\n",
    "\n",
    "make it work for dataframes and numpy arrays in a natural way"
   ]
  },
  {
   "cell_type": "code",
   "execution_count": 41,
   "metadata": {
    "ExecuteTime": {
     "end_time": "2020-09-22T15:42:10.076436Z",
     "start_time": "2020-09-22T15:42:10.057454Z"
    }
   },
   "outputs": [],
   "source": [
    "\n",
    "class NaNTransformer():\n",
    "    def __init__(self, reducer=stats.mode):\n",
    "        self.reducer = reducer\n",
    "        self.col_id  = None \n",
    "        \n",
    "    def fit(self, X_col, col_id):\n",
    "        self.col_id = col_id\n",
    "        self.learned_value = self.reducer(X_col)[0]\n",
    "        \n",
    "    def transform(self, X_col):\n",
    "        X_col[pd.isna(X_col)] = self.learned_value\n",
    "        return X_col\n",
    "\n",
    "def itercols(X):\n",
    "    \n",
    "    if isinstance(X, np.ndarray):\n",
    "        for i in range(X.shape[1]):\n",
    "            yield i, X[:,i]\n",
    "            \n",
    "    if isinstance(X, pd.DataFrame):\n",
    "        for colname in X:\n",
    "            yield colname, X[colname]  \n",
    "        \n",
    "def get_col(X, col_id):\n",
    "    \n",
    "    if isinstance(X, np.ndarray):\n",
    "        return  X[:,col_id]\n",
    "            \n",
    "    if isinstance(X, pd.DataFrame):\n",
    "        return  X[col_id]  \n",
    "             \n",
    "        \n",
    "class MissingImputer(BaseEstimator, TransformerMixin):\n",
    "    '''\n",
    "    `MissingImputer` implements a `fit` and `transform` methods that enable replacing np.NaN values by numerical values.\n",
    "\n",
    "    This class less RAM han _MissingImputer\n",
    "    '''\n",
    "    def __init__(self, treatment=stats.mode):\n",
    "        self._allowed_treatments = [np.mean, np.median, stats.mode]     \n",
    "        assert treatment in self._allowed_treatments or isinstance(treatment,(int,float)),  \"the treatment introduced {} is not valid. Please use one in {}\".format(treatment, self._allowed_treatments)\n",
    "        self.treatment = treatment\n",
    "    \n",
    "    def fit(self, X, y):\n",
    "        \"\"\"\n",
    "        Learns statistics to impute nans.\n",
    "        \"\"\"\n",
    "        \n",
    "        col_transformers = {}\n",
    "        \n",
    "        for col_id, X_col in itercols(X):\n",
    "            nan_transformer = NaNTransformer(reducer=self.treatment) \n",
    "            nan_transformer.fit(X_col, col_id = col_id)\n",
    "            col_transformers[col_id] = nan_transformer            \n",
    "                \n",
    "        self.col_transformers = col_transformers\n",
    "        return self\n",
    "\n",
    "    def transform(self, X, inplace = False):\n",
    "        \"\"\"\n",
    "        Method for transforming a dataframe of numpy array X replacing the np.NaN values.\n",
    "        \n",
    "        Notice that this method has a for loop over `self.col_transformers` instead of iterating over `itercols(X)`\n",
    "        the main reason is that after `fit(X,y)` is done, a user might change `X`, introducing new columns that we\n",
    "        don't want to iterave over (because we don't have a col_transformer for those new columns).\n",
    "\n",
    "        -  If X is a dataframe users can change the order of the columns and still be able to use the transform method.\n",
    "        \n",
    "        -  If X is a numpy array then results will be corrupted because we don't have pointers to columns.\n",
    "           Notice that if X is a numpy array `col_transformer` uses the indices of the columns found during `.fit(X,y)`.\n",
    "\n",
    "        \"\"\"\n",
    "        \n",
    "        if inplace:\n",
    "\n",
    "            if self.treatment==None:\n",
    "                return None\n",
    "\n",
    "            #for col_id, X_col in itercols(X):\n",
    "            #    X_col = self.col_transformers[col_id].transform(X_col)\n",
    "            for col_id in self.nan_transformers:\n",
    "                X_col = get_col(X, col_id)\n",
    "                X_col = self.col_transformers[col_id].transform(X_col)\n",
    "                \n",
    "        else:\n",
    "            X_copy = copy.deepcopy(X)\n",
    "            \n",
    "            if self.treatment==None:\n",
    "                return X_copy\n",
    "            \n",
    "            #for col_id, X_col in itercols(X_copy):\n",
    "            #    X_col = self.col_transformers[col_id].transform(X_col)\n",
    "            for col_id in self.col_transformers:\n",
    "                X_col = get_col(X_copy, col_id)\n",
    "                X_col = self.col_transformers[col_id].transform(X_col)\n",
    "                \n",
    "            return X_copy"
   ]
  },
  {
   "cell_type": "code",
   "execution_count": 42,
   "metadata": {
    "ExecuteTime": {
     "end_time": "2020-09-22T15:42:10.090538Z",
     "start_time": "2020-09-22T15:42:10.079669Z"
    }
   },
   "outputs": [],
   "source": [
    "import sklearn\n",
    "from sklearn import *\n",
    "d = sklearn.datasets.load_iris()\n",
    "X, y = d[\"data\"], d[\"target\"]\n",
    "\n",
    "X[0,0] = np.NaN\n",
    "X[1,2] = np.NaN\n",
    "X[2,3] = np.NaN\n",
    "X[0,2] = np.NaN"
   ]
  },
  {
   "cell_type": "code",
   "execution_count": 43,
   "metadata": {
    "ExecuteTime": {
     "end_time": "2020-09-22T15:42:10.101438Z",
     "start_time": "2020-09-22T15:42:10.093858Z"
    }
   },
   "outputs": [
    {
     "data": {
      "text/plain": [
       "array([[nan, 3.5, nan, 0.2],\n",
       "       [4.9, 3. , nan, 0.2],\n",
       "       [4.7, 3.2, 1.3, nan],\n",
       "       [4.6, 3.1, 1.5, 0.2]])"
      ]
     },
     "execution_count": 43,
     "metadata": {},
     "output_type": "execute_result"
    }
   ],
   "source": [
    "X[0:4]"
   ]
  },
  {
   "cell_type": "code",
   "execution_count": 44,
   "metadata": {
    "ExecuteTime": {
     "end_time": "2020-09-22T15:42:10.109892Z",
     "start_time": "2020-09-22T15:42:10.104037Z"
    }
   },
   "outputs": [
    {
     "data": {
      "text/plain": [
       "array([[ True, False,  True, False],\n",
       "       [False, False,  True, False],\n",
       "       [False, False, False,  True],\n",
       "       [False, False, False, False]])"
      ]
     },
     "execution_count": 44,
     "metadata": {},
     "output_type": "execute_result"
    }
   ],
   "source": [
    "pd.isna(X[0:4])"
   ]
  },
  {
   "cell_type": "code",
   "execution_count": 45,
   "metadata": {
    "ExecuteTime": {
     "end_time": "2020-09-22T15:42:10.117131Z",
     "start_time": "2020-09-22T15:42:10.112593Z"
    }
   },
   "outputs": [],
   "source": [
    "imputer = MissingImputer()"
   ]
  },
  {
   "cell_type": "code",
   "execution_count": 46,
   "metadata": {
    "ExecuteTime": {
     "end_time": "2020-09-22T15:42:10.127632Z",
     "start_time": "2020-09-22T15:42:10.119547Z"
    }
   },
   "outputs": [
    {
     "data": {
      "text/plain": [
       "MissingImputer(treatment=<function mode at 0x1521dad048>)"
      ]
     },
     "execution_count": 46,
     "metadata": {},
     "output_type": "execute_result"
    }
   ],
   "source": [
    "imputer.fit(X,y)"
   ]
  },
  {
   "cell_type": "code",
   "execution_count": 47,
   "metadata": {
    "ExecuteTime": {
     "end_time": "2020-09-22T15:42:10.136339Z",
     "start_time": "2020-09-22T15:42:10.130061Z"
    }
   },
   "outputs": [
    {
     "data": {
      "text/plain": [
       "{0: <__main__.NaNTransformer at 0x1a235d0278>,\n",
       " 1: <__main__.NaNTransformer at 0x1a22626438>,\n",
       " 2: <__main__.NaNTransformer at 0x1a235d02e8>,\n",
       " 3: <__main__.NaNTransformer at 0x1a235b7f28>}"
      ]
     },
     "execution_count": 47,
     "metadata": {},
     "output_type": "execute_result"
    }
   ],
   "source": [
    "imputer.col_transformers"
   ]
  },
  {
   "cell_type": "code",
   "execution_count": null,
   "metadata": {},
   "outputs": [],
   "source": []
  },
  {
   "cell_type": "code",
   "execution_count": 48,
   "metadata": {
    "ExecuteTime": {
     "end_time": "2020-09-22T15:42:10.145671Z",
     "start_time": "2020-09-22T15:42:10.139021Z"
    },
    "scrolled": true
   },
   "outputs": [],
   "source": [
    "#%%timeit\n",
    "imputer = MissingImputer(treatment=stats.mode)\n",
    "imputer.fit(X,y)\n",
    "\n",
    "a = imputer.transform(X)"
   ]
  },
  {
   "cell_type": "code",
   "execution_count": 49,
   "metadata": {
    "ExecuteTime": {
     "end_time": "2020-09-22T15:42:10.155052Z",
     "start_time": "2020-09-22T15:42:10.148060Z"
    },
    "scrolled": true
   },
   "outputs": [
    {
     "data": {
      "text/plain": [
       "array([[5. , 3.5, 1.5, 0.2],\n",
       "       [4.9, 3. , 1.5, 0.2],\n",
       "       [4.7, 3.2, 1.3, 0.2],\n",
       "       [4.6, 3.1, 1.5, 0.2]])"
      ]
     },
     "execution_count": 49,
     "metadata": {},
     "output_type": "execute_result"
    }
   ],
   "source": [
    "a[0:4]"
   ]
  },
  {
   "cell_type": "code",
   "execution_count": 50,
   "metadata": {
    "ExecuteTime": {
     "end_time": "2020-09-22T15:42:10.165659Z",
     "start_time": "2020-09-22T15:42:10.158439Z"
    },
    "scrolled": true
   },
   "outputs": [
    {
     "data": {
      "text/plain": [
       "array([[nan, 3.5, nan, 0.2],\n",
       "       [4.9, 3. , nan, 0.2],\n",
       "       [4.7, 3.2, 1.3, nan],\n",
       "       [4.6, 3.1, 1.5, 0.2]])"
      ]
     },
     "execution_count": 50,
     "metadata": {},
     "output_type": "execute_result"
    }
   ],
   "source": [
    "X[0:4]"
   ]
  },
  {
   "cell_type": "markdown",
   "metadata": {},
   "source": [
    "# New columns from a df column containing lists as items (`byvalue`)"
   ]
  },
  {
   "cell_type": "code",
   "execution_count": 51,
   "metadata": {
    "ExecuteTime": {
     "end_time": "2020-09-22T15:42:10.184772Z",
     "start_time": "2020-09-22T15:42:10.168312Z"
    }
   },
   "outputs": [
    {
     "data": {
      "text/html": [
       "<div>\n",
       "<style scoped>\n",
       "    .dataframe tbody tr th:only-of-type {\n",
       "        vertical-align: middle;\n",
       "    }\n",
       "\n",
       "    .dataframe tbody tr th {\n",
       "        vertical-align: top;\n",
       "    }\n",
       "\n",
       "    .dataframe thead th {\n",
       "        text-align: right;\n",
       "    }\n",
       "</style>\n",
       "<table border=\"1\" class=\"dataframe\">\n",
       "  <thead>\n",
       "    <tr style=\"text-align: right;\">\n",
       "      <th></th>\n",
       "      <th>members</th>\n",
       "      <th>vehicles</th>\n",
       "      <th>status</th>\n",
       "    </tr>\n",
       "  </thead>\n",
       "  <tbody>\n",
       "    <tr>\n",
       "      <th>0</th>\n",
       "      <td>2</td>\n",
       "      <td>[mercedes, toyota, nan]</td>\n",
       "      <td>middleclass</td>\n",
       "    </tr>\n",
       "    <tr>\n",
       "      <th>1</th>\n",
       "      <td>3</td>\n",
       "      <td>[Renault, Mercedes, nan]</td>\n",
       "      <td>middleclass</td>\n",
       "    </tr>\n",
       "    <tr>\n",
       "      <th>2</th>\n",
       "      <td>3</td>\n",
       "      <td>[Audi, Mercedes, Tesla]</td>\n",
       "      <td>uppermiddleclass</td>\n",
       "    </tr>\n",
       "  </tbody>\n",
       "</table>\n",
       "</div>"
      ],
      "text/plain": [
       "   members                  vehicles            status\n",
       "0        2   [mercedes, toyota, nan]       middleclass\n",
       "1        3  [Renault, Mercedes, nan]       middleclass\n",
       "2        3   [Audi, Mercedes, Tesla]  uppermiddleclass"
      ]
     },
     "execution_count": 51,
     "metadata": {},
     "output_type": "execute_result"
    }
   ],
   "source": [
    "df_cars = pd.DataFrame([[2,[\"mercedes\",\"toyota\",np.nan],\"middleclass\"], \n",
    "                        [3,[\"Renault\",\"Mercedes\",np.nan],\"middleclass\"],\n",
    "                        [3,[\"Audi\",\"Mercedes\",\"Tesla\"],\"uppermiddleclass\"]],\n",
    "                        columns= [\"members\",\"vehicles\",\"status\"])\n",
    "\n",
    "df_cars"
   ]
  },
  {
   "cell_type": "code",
   "execution_count": 52,
   "metadata": {
    "ExecuteTime": {
     "end_time": "2020-09-22T15:42:10.194578Z",
     "start_time": "2020-09-22T15:42:10.187358Z"
    }
   },
   "outputs": [],
   "source": [
    "def onehot_collist_byvalue(collist, values_to_index):\n",
    "    \"\"\"\n",
    "    \n",
    "    `onehot_collist_byvalue` generates a np.ndarray containing the one hot representation of the input collist\n",
    "     The returned array stores at position `(i,j)` a 1 if the linked column to integer `j` has a name  found \n",
    "     in `collist[i]`.\n",
    "\n",
    "    ##### Example \n",
    "    \n",
    "    collist         = [[\"tesla\"], [\"mercedes\", \"audi\"], [\"toyota\", \"mercedes\", \"tesla\"]]\n",
    "    values_to_index = {'audi':0, 'mercedes':1, 'tesla':2. 'toyota':3}\n",
    "    \n",
    "    The returned array should be:\n",
    "\n",
    "        [0 0 1 0\n",
    "         1 1 0 0\n",
    "         0 1 1 1]\n",
    "    \n",
    "    ## INPUTS\n",
    "    \n",
    "    values_to_index: dict\n",
    "    \n",
    "    Dictionary asigning an index to all the possible values in the different lists o collist.\n",
    "    \n",
    "    \n",
    "    ## OUPTUT\n",
    "    \n",
    "    onehot_matrix: np.ndarray\n",
    "    \n",
    "    Numpy matrix storing at position `(i,j)` the existance of value `j` in the list `collist[i]`.\n",
    "    \n",
    "    \"\"\"\n",
    "    \n",
    "    n_rows = len(collist)\n",
    "    n_cols = len(values_to_index)\n",
    "    result = np.zeros((n_rows, n_cols), dtype=np.bool)   \n",
    "    \n",
    "    for k,row in enumerate(collist):\n",
    "        for element in row:\n",
    "            element_index = values_to_index[str(element)]\n",
    "            result[k, element_index] = 1\n",
    "            \n",
    "    return result\n",
    "            "
   ]
  },
  {
   "cell_type": "code",
   "execution_count": 53,
   "metadata": {
    "ExecuteTime": {
     "end_time": "2020-09-22T15:42:10.203391Z",
     "start_time": "2020-09-22T15:42:10.197826Z"
    }
   },
   "outputs": [],
   "source": [
    "collist = [[\"tesla\"], [\"mercedes\", \"audi\"], [\"toyota\", \"mercedes\", \"tesla\"], [\"mercedes\"], [\"audi\"]]"
   ]
  },
  {
   "cell_type": "code",
   "execution_count": 54,
   "metadata": {
    "ExecuteTime": {
     "end_time": "2020-09-22T15:42:10.213390Z",
     "start_time": "2020-09-22T15:42:10.206385Z"
    }
   },
   "outputs": [],
   "source": [
    "colname = \"vehicles\"\n",
    "unique_values = list(set([str(x).lower() for x in itertools.chain(*df_cars[colname].values)]))\n",
    "colnames   = [colname + \"_\" + str(i) for i in unique_values]   \n",
    "n_unique_values = len(unique_values)\n",
    "colnames.sort()\n",
    "unique_values.sort()\n",
    "unique_values_to_index = {val:i for i,val in enumerate(unique_values)} "
   ]
  },
  {
   "cell_type": "code",
   "execution_count": 55,
   "metadata": {
    "ExecuteTime": {
     "end_time": "2020-09-22T15:42:10.225121Z",
     "start_time": "2020-09-22T15:42:10.218958Z"
    }
   },
   "outputs": [
    {
     "data": {
      "text/plain": [
       "{'audi': 0, 'mercedes': 1, 'nan': 2, 'renault': 3, 'tesla': 4, 'toyota': 5}"
      ]
     },
     "execution_count": 55,
     "metadata": {},
     "output_type": "execute_result"
    }
   ],
   "source": [
    "unique_values_to_index"
   ]
  },
  {
   "cell_type": "code",
   "execution_count": 56,
   "metadata": {
    "ExecuteTime": {
     "end_time": "2020-09-22T15:42:10.235924Z",
     "start_time": "2020-09-22T15:42:10.227967Z"
    },
    "scrolled": true
   },
   "outputs": [
    {
     "data": {
      "text/plain": [
       "array([[False, False, False, False,  True, False],\n",
       "       [ True,  True, False, False, False, False],\n",
       "       [False,  True, False, False,  True,  True],\n",
       "       [False,  True, False, False, False, False],\n",
       "       [ True, False, False, False, False, False]])"
      ]
     },
     "execution_count": 56,
     "metadata": {},
     "output_type": "execute_result"
    }
   ],
   "source": [
    "onehot_collist_byvalue(collist, unique_values_to_index)"
   ]
  },
  {
   "cell_type": "markdown",
   "metadata": {},
   "source": [
    "Now we can call `onehot_collist_byvalue` inside `proc_df_collist_byvalue` and return a pandas dataframe"
   ]
  },
  {
   "cell_type": "code",
   "execution_count": 57,
   "metadata": {
    "ExecuteTime": {
     "end_time": "2020-09-22T15:42:10.249926Z",
     "start_time": "2020-09-22T15:42:10.239175Z"
    }
   },
   "outputs": [],
   "source": [
    "def proc_df_collist_byvalue(df: pd.DataFrame, colname: str, inplace=False):\n",
    "    \"\"\"\n",
    "    \n",
    "    `proc_df_collist` takes a dataframe and a column name as input. If the column of the dataframe\n",
    "    is made of iterables then it generates new columns. Otherwise it returns an assertion error.\n",
    "    \n",
    "    The function generates new columns, as many as different values can be found in the elements of the iterables\n",
    "    in `df[colname]`. Each new column stores, at position `k`, the presence (or absence) of an item in `df[colname][k]`.\n",
    "\n",
    "    - Each new column is formated as \"colname_X\" where X is one of the values found in `pd[colname]`.\n",
    "    \n",
    "    - The function returns a new dataframe onehot_df if inplace=False.\n",
    "    \n",
    "    - `onehot_df[colname_X][k]` is 1 if and only if `X in pd[colname][k]` (it's zero otherwise).\n",
    "    \n",
    "    \n",
    "    Examples:\n",
    "    ---------\n",
    "    >>> df = pd.DataFrame([[2,[\"p\",\"b\",np.nan]], \n",
    "                           [3,[\"a\",\"c\",np.nan]],\n",
    "                           [3,[\"d\",\"w\",\"a\"]]],\n",
    "                           columns= [\"first\",\"second\"])\n",
    "                  \n",
    "    >>> df\n",
    "    \n",
    "       first        second\n",
    "    0      2   [p, b, nan]\n",
    "    1      3   [a, c, nan]\n",
    "    2      3     [d, w, a]\n",
    "\n",
    "    >>> newcols = proc_df_collist_byorder(df, \"second\")\n",
    "\n",
    "    >>> newcols\n",
    "    \n",
    "       second_a  second_b  second_c  second_d  second_nan  second_p  second_w\n",
    "    0     False      True     False     False        True      True     False\n",
    "    1      True     False      True     False        True     False     False\n",
    "    2      True     False     False      True       False     False      True\n",
    "\n",
    "    \n",
    "    >>> df2 = pd.DataFrame([[2,[\"p\"]], \n",
    "                   [3,[\"a\",2,3]],\n",
    "                   [3,[4]]],columns= [\"A\",\"B\"])\n",
    "                   \n",
    "    >>> df2\n",
    "    \n",
    "       A          B\n",
    "    0  2        [p]\n",
    "    1  3  [a, 2, 3]\n",
    "    2  3        [4]\n",
    "\n",
    "    >>> proc_df_collist_byorder(df2, \"B\")\n",
    "\n",
    "      B_0  B_1  B_2\n",
    "    0   p  NaN  NaN\n",
    "    1   a  2.0  3.0\n",
    "    2   4  NaN  NaN\n",
    "\n",
    "    \"\"\"\n",
    "    assert isinstance(colname, str), \"type(columname)={} but it should be str\".format(type(str))\n",
    "    assert isinstance(df[colname].iloc[0],(list,set, np.ndarray)), \"type(df[colname].iloc[0])={} but it, should be in [list, set, np.ndarray]\".format(type(df[colname].iloc[0]))\n",
    "    \n",
    "    unique_values = list(set([str(x) for x in itertools.chain(*df[colname].values)]))\n",
    "    colnames   = [colname + \"_\" + str(i) for i in unique_values]   \n",
    "    n_unique_values = len(unique_values)\n",
    "    colnames.sort()\n",
    "    unique_values.sort()\n",
    "    \n",
    "    unique_values_to_index = {val:i for i,val in enumerate(unique_values)} \n",
    "    onehot_array = onehot_collist_byvalue(df[colname], unique_values_to_index)\n",
    "    \n",
    "    onehot_df    = pd.DataFrame(onehot_array, columns=[f\"{colname}_{c}\" for c in unique_values])\n",
    "    \n",
    "    return onehot_df "
   ]
  },
  {
   "cell_type": "code",
   "execution_count": 58,
   "metadata": {
    "ExecuteTime": {
     "end_time": "2020-09-22T15:42:10.259215Z",
     "start_time": "2020-09-22T15:42:10.252688Z"
    }
   },
   "outputs": [],
   "source": [
    "df = pd.DataFrame([[2,[\"p\",\"b\",np.nan]], \n",
    "                   [3,[\"a\",\"c\",np.nan]],\n",
    "                   [3,[\"d\",\"w\",\"a\"]]],\n",
    "                   columns= [\"first\",\"second\"])"
   ]
  },
  {
   "cell_type": "code",
   "execution_count": 59,
   "metadata": {
    "ExecuteTime": {
     "end_time": "2020-09-22T15:42:10.273200Z",
     "start_time": "2020-09-22T15:42:10.262280Z"
    }
   },
   "outputs": [
    {
     "data": {
      "text/html": [
       "<div>\n",
       "<style scoped>\n",
       "    .dataframe tbody tr th:only-of-type {\n",
       "        vertical-align: middle;\n",
       "    }\n",
       "\n",
       "    .dataframe tbody tr th {\n",
       "        vertical-align: top;\n",
       "    }\n",
       "\n",
       "    .dataframe thead th {\n",
       "        text-align: right;\n",
       "    }\n",
       "</style>\n",
       "<table border=\"1\" class=\"dataframe\">\n",
       "  <thead>\n",
       "    <tr style=\"text-align: right;\">\n",
       "      <th></th>\n",
       "      <th>first</th>\n",
       "      <th>second</th>\n",
       "    </tr>\n",
       "  </thead>\n",
       "  <tbody>\n",
       "    <tr>\n",
       "      <th>0</th>\n",
       "      <td>2</td>\n",
       "      <td>[p, b, nan]</td>\n",
       "    </tr>\n",
       "    <tr>\n",
       "      <th>1</th>\n",
       "      <td>3</td>\n",
       "      <td>[a, c, nan]</td>\n",
       "    </tr>\n",
       "    <tr>\n",
       "      <th>2</th>\n",
       "      <td>3</td>\n",
       "      <td>[d, w, a]</td>\n",
       "    </tr>\n",
       "  </tbody>\n",
       "</table>\n",
       "</div>"
      ],
      "text/plain": [
       "   first       second\n",
       "0      2  [p, b, nan]\n",
       "1      3  [a, c, nan]\n",
       "2      3    [d, w, a]"
      ]
     },
     "execution_count": 59,
     "metadata": {},
     "output_type": "execute_result"
    }
   ],
   "source": [
    "df"
   ]
  },
  {
   "cell_type": "code",
   "execution_count": 60,
   "metadata": {
    "ExecuteTime": {
     "end_time": "2020-09-22T15:42:10.281954Z",
     "start_time": "2020-09-22T15:42:10.276224Z"
    }
   },
   "outputs": [],
   "source": [
    "aux = proc_df_collist_byvalue(df, \"second\")"
   ]
  },
  {
   "cell_type": "code",
   "execution_count": 61,
   "metadata": {
    "ExecuteTime": {
     "end_time": "2020-09-22T15:42:10.295887Z",
     "start_time": "2020-09-22T15:42:10.284334Z"
    }
   },
   "outputs": [
    {
     "name": "stdout",
     "output_type": "stream",
     "text": [
      "   second_a  second_b  second_c  second_d  second_nan  second_p  second_w\n",
      "0     False      True     False     False        True      True     False\n",
      "1      True     False      True     False        True     False     False\n",
      "2      True     False     False      True       False     False      True\n"
     ]
    }
   ],
   "source": [
    "print(str(aux))"
   ]
  },
  {
   "cell_type": "code",
   "execution_count": 62,
   "metadata": {
    "ExecuteTime": {
     "end_time": "2020-09-22T15:42:10.314056Z",
     "start_time": "2020-09-22T15:42:10.298872Z"
    }
   },
   "outputs": [
    {
     "data": {
      "text/html": [
       "<div>\n",
       "<style scoped>\n",
       "    .dataframe tbody tr th:only-of-type {\n",
       "        vertical-align: middle;\n",
       "    }\n",
       "\n",
       "    .dataframe tbody tr th {\n",
       "        vertical-align: top;\n",
       "    }\n",
       "\n",
       "    .dataframe thead th {\n",
       "        text-align: right;\n",
       "    }\n",
       "</style>\n",
       "<table border=\"1\" class=\"dataframe\">\n",
       "  <thead>\n",
       "    <tr style=\"text-align: right;\">\n",
       "      <th></th>\n",
       "      <th>second_a</th>\n",
       "      <th>second_b</th>\n",
       "      <th>second_c</th>\n",
       "      <th>second_d</th>\n",
       "      <th>second_nan</th>\n",
       "      <th>second_p</th>\n",
       "      <th>second_w</th>\n",
       "    </tr>\n",
       "  </thead>\n",
       "  <tbody>\n",
       "    <tr>\n",
       "      <th>0</th>\n",
       "      <td>False</td>\n",
       "      <td>True</td>\n",
       "      <td>False</td>\n",
       "      <td>False</td>\n",
       "      <td>True</td>\n",
       "      <td>True</td>\n",
       "      <td>False</td>\n",
       "    </tr>\n",
       "    <tr>\n",
       "      <th>1</th>\n",
       "      <td>True</td>\n",
       "      <td>False</td>\n",
       "      <td>True</td>\n",
       "      <td>False</td>\n",
       "      <td>True</td>\n",
       "      <td>False</td>\n",
       "      <td>False</td>\n",
       "    </tr>\n",
       "    <tr>\n",
       "      <th>2</th>\n",
       "      <td>True</td>\n",
       "      <td>False</td>\n",
       "      <td>False</td>\n",
       "      <td>True</td>\n",
       "      <td>False</td>\n",
       "      <td>False</td>\n",
       "      <td>True</td>\n",
       "    </tr>\n",
       "  </tbody>\n",
       "</table>\n",
       "</div>"
      ],
      "text/plain": [
       "   second_a  second_b  second_c  second_d  second_nan  second_p  second_w\n",
       "0     False      True     False     False        True      True     False\n",
       "1      True     False      True     False        True     False     False\n",
       "2      True     False     False      True       False     False      True"
      ]
     },
     "execution_count": 62,
     "metadata": {},
     "output_type": "execute_result"
    }
   ],
   "source": [
    "aux"
   ]
  },
  {
   "cell_type": "code",
   "execution_count": null,
   "metadata": {},
   "outputs": [],
   "source": []
  },
  {
   "cell_type": "code",
   "execution_count": 63,
   "metadata": {
    "ExecuteTime": {
     "end_time": "2020-09-22T15:42:10.327137Z",
     "start_time": "2020-09-22T15:42:10.316823Z"
    }
   },
   "outputs": [],
   "source": [
    "def proc_df_collist_byvalue(df: pd.DataFrame, colname: str, inplace=False):\n",
    "    \"\"\"\n",
    "    \n",
    "    `proc_df_collist` takes a dataframe and a column name as input. If the column of the dataframe\n",
    "    is made of iterables then it generates new columns. Otherwise it returns an assertion error.\n",
    "    \n",
    "    The function generates new columns, as many as different values can be found in the elements of the iterables\n",
    "    in `df[colname]`. Each new column stores, at position `k`, the presence (or absence) of an item in `df[colname][k]`.\n",
    "\n",
    "    - Each new column is formated as \"colname_X\" where X is one of the values found in `pd[colname]`.\n",
    "    \n",
    "    - The function returns a new dataframe onehot_df if inplace=False.\n",
    "    \n",
    "    - `onehot_df[colname_X][k]` is 1 if and only if `X in pd[colname][k]` (it's zero otherwise).\n",
    "    \n",
    "    \n",
    "    Examples:\n",
    "    ---------\n",
    "    >>> df = pd.DataFrame([[2,[\"p\",\"b\",np.nan]], \n",
    "                           [3,[\"a\",\"c\",np.nan]],\n",
    "                           [3,[\"d\",\"w\",\"a\"]]],\n",
    "                           columns= [\"first\",\"second\"])\n",
    "                  \n",
    "    >>> df\n",
    "    \n",
    "       first        second\n",
    "    0      2   [p, b, nan]\n",
    "    1      3   [a, c, nan]\n",
    "    2      3     [d, w, a]\n",
    "\n",
    "    >>> newcols = proc_df_collist_byorder(df, \"second\")\n",
    "\n",
    "    >>> newcols\n",
    "    \n",
    "       second_a  second_b  second_c  second_d  second_nan  second_p  second_w\n",
    "    0     False      True     False     False        True      True     False\n",
    "    1      True     False      True     False        True     False     False\n",
    "    2      True     False     False      True       False     False      True\n",
    "\n",
    "    \n",
    "    >>> df2 = pd.DataFrame([[2,[\"p\"]], \n",
    "                   [3,[\"a\",2,3]],\n",
    "                   [3,[4]]],columns= [\"A\",\"B\"])\n",
    "                   \n",
    "    >>> df2\n",
    "    \n",
    "       A          B\n",
    "    0  2        [p]\n",
    "    1  3  [a, 2, 3]\n",
    "    2  3        [4]\n",
    "\n",
    "    >>> proc_df_collist_byorder(df2, \"B\")\n",
    "\n",
    "      B_0  B_1  B_2\n",
    "    0   p  NaN  NaN\n",
    "    1   a  2.0  3.0\n",
    "    2   4  NaN  NaN\n",
    "\n",
    "    \"\"\"\n",
    "    assert isinstance(colname, str), \"type(columname)={} but it should be str\".format(type(str))\n",
    "    assert isinstance(df[colname].iloc[0],(list,set, np.ndarray)), \"type(df[colname].iloc[0])={} but it, should be in [list, set, np.ndarray]\".format(type(df[colname].iloc[0]))\n",
    "    \n",
    "    unique_values = list(set([str(x) for x in itertools.chain(*df[colname].values)]))\n",
    "    colnames   = [colname + \"_\" + str(i) for i in unique_values]   \n",
    "    n_unique_values = len(unique_values)\n",
    "    colnames.sort()\n",
    "    unique_values.sort()\n",
    "    \n",
    "    unique_values_to_index = {val:i for i,val in enumerate(unique_values)} \n",
    "    onehot_array = onehot_collist_byvalue(df[colname], unique_values_to_index)\n",
    "    \n",
    "    onehot_df    = pd.DataFrame(onehot_array, columns=[f\"{colname}_{c}\" for c in unique_values])\n",
    "    \n",
    "    return onehot_df "
   ]
  },
  {
   "cell_type": "markdown",
   "metadata": {},
   "source": [
    "## New columns from a df column containing lists as items (`bykeyvalue`)\n",
    "\n",
    "Let us imagine the scenario that a column contains strings of the form \"variable=value\" (or maybe \"variable_value\" or any other way to encode pairs of elements as a string). A column could even contain lists of elements of this form, for example `[\"var1=v1\", \"var2=v2\"]`. Asuming we have lots of possible values for the different variables we might want to avoind encoding our data in a onehot representation.  Therefore, we want an alternative to `proc_df_collist_byvalue` which writes a column for every possible value of `colname`.\n",
    "\n",
    "Then we can pass a function `get_key_and_value` that should return the part of the string we are interested to use as a new column (the key) as well as the part of the string we want to use as value (the value)\n",
    "\n",
    "For example if we have\n",
    "```\n",
    "[\"v1=23\", \"v2=234\", \"v1=5\", \"v2=7\"]\n",
    "```\n",
    "\n",
    "We might want to generate 2 columns, one for \"v1\" and one for \"v2\", containing the values (23, 0, 5, 0) and (0,234,0,7) respectively."
   ]
  },
  {
   "cell_type": "code",
   "execution_count": 64,
   "metadata": {
    "ExecuteTime": {
     "end_time": "2020-09-22T15:42:10.336888Z",
     "start_time": "2020-09-22T15:42:10.329551Z"
    }
   },
   "outputs": [],
   "source": [
    "df = pd.DataFrame([[2, [\"var1=p\",\"var2=p\",np.nan]], \n",
    "                   [3, [\"var2=p\",\"var1=pc\",np.nan]],\n",
    "                   [3, [\"var3=pd\",\"var2=pw\",\"var1=pa\"]]],\n",
    "                   columns= [\"first\",\"second\"])"
   ]
  },
  {
   "cell_type": "code",
   "execution_count": 65,
   "metadata": {
    "ExecuteTime": {
     "end_time": "2020-09-22T15:42:10.350135Z",
     "start_time": "2020-09-22T15:42:10.339063Z"
    }
   },
   "outputs": [
    {
     "data": {
      "text/html": [
       "<div>\n",
       "<style scoped>\n",
       "    .dataframe tbody tr th:only-of-type {\n",
       "        vertical-align: middle;\n",
       "    }\n",
       "\n",
       "    .dataframe tbody tr th {\n",
       "        vertical-align: top;\n",
       "    }\n",
       "\n",
       "    .dataframe thead th {\n",
       "        text-align: right;\n",
       "    }\n",
       "</style>\n",
       "<table border=\"1\" class=\"dataframe\">\n",
       "  <thead>\n",
       "    <tr style=\"text-align: right;\">\n",
       "      <th></th>\n",
       "      <th>first</th>\n",
       "      <th>second</th>\n",
       "    </tr>\n",
       "  </thead>\n",
       "  <tbody>\n",
       "    <tr>\n",
       "      <th>0</th>\n",
       "      <td>2</td>\n",
       "      <td>[var1=p, var2=p, nan]</td>\n",
       "    </tr>\n",
       "    <tr>\n",
       "      <th>1</th>\n",
       "      <td>3</td>\n",
       "      <td>[var2=p, var1=pc, nan]</td>\n",
       "    </tr>\n",
       "    <tr>\n",
       "      <th>2</th>\n",
       "      <td>3</td>\n",
       "      <td>[var3=pd, var2=pw, var1=pa]</td>\n",
       "    </tr>\n",
       "  </tbody>\n",
       "</table>\n",
       "</div>"
      ],
      "text/plain": [
       "   first                       second\n",
       "0      2        [var1=p, var2=p, nan]\n",
       "1      3       [var2=p, var1=pc, nan]\n",
       "2      3  [var3=pd, var2=pw, var1=pa]"
      ]
     },
     "execution_count": 65,
     "metadata": {},
     "output_type": "execute_result"
    }
   ],
   "source": [
    "df"
   ]
  },
  {
   "cell_type": "code",
   "execution_count": 66,
   "metadata": {
    "ExecuteTime": {
     "end_time": "2020-09-22T15:42:10.360592Z",
     "start_time": "2020-09-22T15:42:10.352725Z"
    },
    "scrolled": true
   },
   "outputs": [
    {
     "data": {
      "text/plain": [
       "0          [var1=p, var2=p, nan]\n",
       "1         [var2=p, var1=pc, nan]\n",
       "2    [var3=pd, var2=pw, var1=pa]\n",
       "Name: second, dtype: object"
      ]
     },
     "execution_count": 66,
     "metadata": {},
     "output_type": "execute_result"
    }
   ],
   "source": [
    "colname = \"second\"\n",
    "\n",
    "df[colname]"
   ]
  },
  {
   "cell_type": "markdown",
   "metadata": {},
   "source": [
    "First we can convert values inside the list as strings, moreover we also add the variable \"nan\" \n",
    "to capture np.nan values in a new column (that we will construct later)."
   ]
  },
  {
   "cell_type": "code",
   "execution_count": 67,
   "metadata": {
    "ExecuteTime": {
     "end_time": "2020-09-22T15:42:10.369826Z",
     "start_time": "2020-09-22T15:42:10.363305Z"
    }
   },
   "outputs": [],
   "source": [
    "def treat_nan(x):\n",
    "    result = []\n",
    "    for x_k in x:\n",
    "        if isinstance(x_k, str):\n",
    "            result.append(x_k)\n",
    "        elif np.isnan(x_k):\n",
    "            result.append(\"nan=np.nan\")\n",
    "    return result\n",
    "\n",
    "df[colname] = df[colname].apply(treat_nan)\n"
   ]
  },
  {
   "cell_type": "code",
   "execution_count": 68,
   "metadata": {
    "ExecuteTime": {
     "end_time": "2020-09-22T15:42:10.385441Z",
     "start_time": "2020-09-22T15:42:10.377751Z"
    }
   },
   "outputs": [
    {
     "data": {
      "text/plain": [
       "0     [var1=p, var2=p, nan=np.nan]\n",
       "1    [var2=p, var1=pc, nan=np.nan]\n",
       "2      [var3=pd, var2=pw, var1=pa]\n",
       "Name: second, dtype: object"
      ]
     },
     "execution_count": 68,
     "metadata": {},
     "output_type": "execute_result"
    }
   ],
   "source": [
    "df[colname]"
   ]
  },
  {
   "cell_type": "markdown",
   "metadata": {},
   "source": [
    "Now we want to know how many columns we need to create.\n",
    "\n",
    "A column will be created for every variable (or key). Now we will iterate over the items to extract all keys.\n",
    "This is done in `get_all_keys`."
   ]
  },
  {
   "cell_type": "code",
   "execution_count": 69,
   "metadata": {
    "ExecuteTime": {
     "end_time": "2020-09-22T15:42:10.392763Z",
     "start_time": "2020-09-22T15:42:10.388793Z"
    }
   },
   "outputs": [],
   "source": [
    "def get_key_value(k):\n",
    "    return k.split(\"=\")"
   ]
  },
  {
   "cell_type": "code",
   "execution_count": 70,
   "metadata": {
    "ExecuteTime": {
     "end_time": "2020-09-22T15:42:10.399300Z",
     "start_time": "2020-09-22T15:42:10.394923Z"
    }
   },
   "outputs": [],
   "source": [
    "def get_all_keys(df, colname):\n",
    "    all_keys = set()\n",
    "    for x in df[colname]:\n",
    "        all_keys = all_keys.union([get_key_value(x_k)[0] for x_k in x])\n",
    "    \n",
    "    return all_keys    "
   ]
  },
  {
   "cell_type": "code",
   "execution_count": 71,
   "metadata": {
    "ExecuteTime": {
     "end_time": "2020-09-22T15:42:10.408143Z",
     "start_time": "2020-09-22T15:42:10.402002Z"
    }
   },
   "outputs": [
    {
     "data": {
      "text/plain": [
       "['nan', 'var1', 'var2', 'var3']"
      ]
     },
     "execution_count": 71,
     "metadata": {},
     "output_type": "execute_result"
    }
   ],
   "source": [
    "all_keys = list(get_all_keys(df,colname))\n",
    "all_keys.sort()\n",
    "all_keys"
   ]
  },
  {
   "cell_type": "markdown",
   "metadata": {},
   "source": [
    "Each value in `all_keys` will generate a new column.\n",
    "Let us create names for the new columns\n"
   ]
  },
  {
   "cell_type": "code",
   "execution_count": 72,
   "metadata": {
    "ExecuteTime": {
     "end_time": "2020-09-22T15:42:10.416932Z",
     "start_time": "2020-09-22T15:42:10.411004Z"
    }
   },
   "outputs": [
    {
     "data": {
      "text/plain": [
       "['second_nan', 'second_var1', 'second_var2', 'second_var3']"
      ]
     },
     "execution_count": 72,
     "metadata": {},
     "output_type": "execute_result"
    }
   ],
   "source": [
    "newcolnames = [colname + \"_\" + name for name in all_keys]\n",
    "newcolnames"
   ]
  },
  {
   "cell_type": "markdown",
   "metadata": {},
   "source": [
    "When we create the lists containing the items we need to know at which positions an item has to be written.\n",
    "We store the variables in a mapping `newcolnames_to_int` that given a column name it returns the position."
   ]
  },
  {
   "cell_type": "code",
   "execution_count": 73,
   "metadata": {
    "ExecuteTime": {
     "end_time": "2020-09-22T15:42:10.426143Z",
     "start_time": "2020-09-22T15:42:10.419222Z"
    }
   },
   "outputs": [
    {
     "data": {
      "text/plain": [
       "{'second_nan': 0, 'second_var1': 1, 'second_var2': 2, 'second_var3': 3}"
      ]
     },
     "execution_count": 73,
     "metadata": {},
     "output_type": "execute_result"
    }
   ],
   "source": [
    "newcolnames_to_int = {col:i for i,col in  enumerate(newcolnames)}\n",
    "newcolnames_to_int"
   ]
  },
  {
   "cell_type": "markdown",
   "metadata": {},
   "source": [
    "We also do the same for the different variables"
   ]
  },
  {
   "cell_type": "code",
   "execution_count": 74,
   "metadata": {
    "ExecuteTime": {
     "end_time": "2020-09-22T15:42:10.434121Z",
     "start_time": "2020-09-22T15:42:10.428183Z"
    }
   },
   "outputs": [
    {
     "name": "stdout",
     "output_type": "stream",
     "text": [
      "{'nan': 0, 'var1': 1, 'var2': 2, 'var3': 3}\n",
      "{0: 'nan', 1: 'var1', 2: 'var2', 3: 'var3'}\n"
     ]
    }
   ],
   "source": [
    "var_to_pos = {col:newcolnames_to_int[fullname] for col,fullname in  zip(all_keys,newcolnames)}\n",
    "print(var_to_pos)\n",
    "pos_to_var  = {v: k for k, v in var_to_pos.items()}\n",
    "print(pos_to_var)"
   ]
  },
  {
   "cell_type": "markdown",
   "metadata": {},
   "source": [
    "Now we want to convert the lists in the selected row (selected by `colname`) to new lists of a fixed size order\n",
    "containing the original feature values in a sensible representation.\n",
    "\n",
    "This new representation will have at position `k` the values of the variable `pos_to_var[k]`.\n",
    "\n",
    "Once this representation is complete for all positions in `df[colname]` then we can simply create a dataframe\n",
    "of of our list of lists. Since the \"sublists\" will have all the same length there won't be any problem in \n",
    "generating the dataframe. Since the construction process took care of the positions at which items were written\n",
    "usin the mapping `var_to_pos` we can simply use, as columns of our new dataframe, the names in `newcolnames`.\n",
    "Notice `var_to_pos` was created using `newcolnames` and we have a bijection between positions of the sublists\n",
    "and names in `newcolnames`."
   ]
  },
  {
   "cell_type": "code",
   "execution_count": 75,
   "metadata": {
    "ExecuteTime": {
     "end_time": "2020-09-22T15:42:10.443454Z",
     "start_time": "2020-09-22T15:42:10.436530Z"
    }
   },
   "outputs": [],
   "source": [
    "def write_row_as_list(row, var_to_pos):\n",
    "    row_code = [0]*len(var_to_pos)\n",
    "    \n",
    "    for item in row:\n",
    "        key, value = get_key_value(item)\n",
    "        row_code[var_to_pos[key]] = value\n",
    "        \n",
    "    return row_code"
   ]
  },
  {
   "cell_type": "code",
   "execution_count": 76,
   "metadata": {
    "ExecuteTime": {
     "end_time": "2020-09-22T15:42:10.449216Z",
     "start_time": "2020-09-22T15:42:10.445734Z"
    }
   },
   "outputs": [],
   "source": [
    "row = df[\"second\"].iloc[0]"
   ]
  },
  {
   "cell_type": "code",
   "execution_count": 77,
   "metadata": {
    "ExecuteTime": {
     "end_time": "2020-09-22T15:42:10.456967Z",
     "start_time": "2020-09-22T15:42:10.451562Z"
    }
   },
   "outputs": [
    {
     "data": {
      "text/plain": [
       "['var1=p', 'var2=p', 'nan=np.nan']"
      ]
     },
     "execution_count": 77,
     "metadata": {},
     "output_type": "execute_result"
    }
   ],
   "source": [
    "row"
   ]
  },
  {
   "cell_type": "code",
   "execution_count": 78,
   "metadata": {
    "ExecuteTime": {
     "end_time": "2020-09-22T15:42:10.465587Z",
     "start_time": "2020-09-22T15:42:10.459568Z"
    }
   },
   "outputs": [
    {
     "data": {
      "text/plain": [
       "{'nan': 0, 'var1': 1, 'var2': 2, 'var3': 3}"
      ]
     },
     "execution_count": 78,
     "metadata": {},
     "output_type": "execute_result"
    }
   ],
   "source": [
    "var_to_pos"
   ]
  },
  {
   "cell_type": "code",
   "execution_count": 79,
   "metadata": {
    "ExecuteTime": {
     "end_time": "2020-09-22T15:42:10.474164Z",
     "start_time": "2020-09-22T15:42:10.468194Z"
    }
   },
   "outputs": [
    {
     "data": {
      "text/plain": [
       "['np.nan', 'p', 'p', 0]"
      ]
     },
     "execution_count": 79,
     "metadata": {},
     "output_type": "execute_result"
    }
   ],
   "source": [
    "write_row_as_list(row, var_to_pos)"
   ]
  },
  {
   "cell_type": "code",
   "execution_count": 80,
   "metadata": {
    "ExecuteTime": {
     "end_time": "2020-09-22T15:42:10.491909Z",
     "start_time": "2020-09-22T15:42:10.477160Z"
    }
   },
   "outputs": [],
   "source": [
    "def get_key_value(k):\n",
    "    return k.split(\"=\")\n",
    "\n",
    "def proc_df_collist_bykeyvalue(df: pd.DataFrame, colname: str, get_key_value,\n",
    "                               column_separator=\"_\", inplace=False, treat_nan_func=None):\n",
    "    \"\"\"\n",
    "    \n",
    "    `proc_df_collist` takes a dataframe and a column name as input. If the column of the dataframe\n",
    "    is made of iterables then it generates new columns. Otherwise it returns an assertion error.\n",
    "    \n",
    "    The function generates new columns, as many as different \"keys\"  can be found in the elements of the iterables\n",
    "    in `df[colname]`. In order to found a \"key\" from an element `proc_df_collist_bykeyvalue` expects a method\n",
    "    `get_key_value`, that should return a (key,value) pair for a given input. \n",
    "    \n",
    "    \n",
    "    Each new column stores, the elements of the correspondant variable.\n",
    "    \n",
    "    - Each new column is formated as `f\"colname{column_separator}X\"` where X is one of the variables found\n",
    "      in `pd[colname]`.\n",
    "    \n",
    "    - The function returns a new dataframe `result_df` if inplace=False.\n",
    "    \n",
    "    - `result_df[colname{column_separator}X][k]` has a value if and only if `X in pd[colname][k]` (it's zero otherwise).\n",
    "    \n",
    "    \n",
    "    Example of `get_key_value` method\n",
    "    \n",
    "    Assume rows of `df[colname]` have the form [`var1=v1`, `var2=v2`]. Then a possible function `get_key_value`\n",
    "    could be simply `lambda x: x.split(\"=\")` which returns a pair of elements for a given input string.\n",
    "            \n",
    "    Examples:\n",
    "    ---------\n",
    "    >>> df = pd.DataFrame([[2,[\"var1=p\", \"var2=p\", np.nan]], \n",
    "                           [3,[\"var2=p\", \"var1=pc\", np.nan]],\n",
    "                           [3,[\"var3=pd\", \"var2=pw\", \"var1=pa\"]]],\n",
    "                           columns= [\"first\",\"second\"])\n",
    "                  \n",
    "    >>> df\n",
    "\n",
    "       first                         second\n",
    "    0      2   [var1=p, var2=p, nan=np.nan]\n",
    "    1      3  [var2=p, var1=pc, nan=np.nan]\n",
    "    2      3    [var3=pd, var2=pw, var1=pa]\n",
    "\n",
    "    >>> colname = \"second\"\n",
    "    \n",
    "    >>> def get_key_value(k):\n",
    "           return k.split(\"=\")\n",
    "\n",
    "    >>> proc_df_collist_bykeyvalue(df, colname, get_key_value, column_separator=\"__\")\n",
    "\n",
    "      second__nan second__var1 second__var2 second__var3\n",
    "    0      np.nan            p            p            0\n",
    "    1      np.nan           pc            p            0\n",
    "    2           0           pa           pw           pd\n",
    "    \n",
    "    \"\"\"\n",
    "    \n",
    "    def treat_nan(x):\n",
    "        result = []\n",
    "        for x_k in x:\n",
    "            if isinstance(x_k, str):\n",
    "                result.append(x_k)\n",
    "            elif np.isnan(x_k):\n",
    "                result.append(\"nan=np.nan\")\n",
    "        return result\n",
    "\n",
    "    def get_all_keys(df, colname):\n",
    "        all_keys = set()\n",
    "        for x in df[colname]:\n",
    "            all_keys = all_keys.union([get_key_value(x_k)[0] for x_k in x])\n",
    "        return all_keys   \n",
    "\n",
    "    def write_row_as_list(row, var_to_pos):\n",
    "        row_code = [0]*len(var_to_pos)\n",
    "\n",
    "        for item in row:\n",
    "            key, value = get_key_value(item)\n",
    "            row_code[var_to_pos[key]] = value\n",
    "        return row_code\n",
    "\n",
    "    if treat_nan_func is None:\n",
    "        treat_nan = treat_nan\n",
    "    else:\n",
    "        treat_nan = treat_nan_func\n",
    "    \n",
    "    \n",
    "    assert isinstance(colname, str), \"type(columname)={} but it should be str\".format(type(str))\n",
    "    assert isinstance(df[colname].iloc[0],(list,set, np.ndarray)), \"type(df[colname].iloc[0])={} but it, should be in [list, set, np.ndarray]\".format(type(df[colname].iloc[0]))\n",
    "\n",
    "    df[colname] = df[colname].apply(treat_nan)\n",
    "    all_keys    = list(get_all_keys(df, colname))\n",
    "    all_keys.sort()\n",
    "    newcolnames        = [colname + column_separator + name for name in all_keys]\n",
    "    newcolnames_to_int = {col:i for i,col in  enumerate(newcolnames)}\n",
    "    var_to_pos         = {col:newcolnames_to_int[fullname] for col,fullname in  zip(all_keys,newcolnames)}\n",
    "    pos_to_var         = {v: k for k, v in var_to_pos.items()}\n",
    "    \n",
    "    result = []\n",
    "    for row in df[colname]:\n",
    "        result.append(write_row_as_list(row, var_to_pos))\n",
    "            \n",
    "    \n",
    "    result_df   = pd.DataFrame(result, columns=newcolnames)\n",
    "    \n",
    "    return result_df \n"
   ]
  },
  {
   "cell_type": "code",
   "execution_count": 81,
   "metadata": {
    "ExecuteTime": {
     "end_time": "2020-09-22T15:42:10.505305Z",
     "start_time": "2020-09-22T15:42:10.494672Z"
    }
   },
   "outputs": [
    {
     "data": {
      "text/html": [
       "<div>\n",
       "<style scoped>\n",
       "    .dataframe tbody tr th:only-of-type {\n",
       "        vertical-align: middle;\n",
       "    }\n",
       "\n",
       "    .dataframe tbody tr th {\n",
       "        vertical-align: top;\n",
       "    }\n",
       "\n",
       "    .dataframe thead th {\n",
       "        text-align: right;\n",
       "    }\n",
       "</style>\n",
       "<table border=\"1\" class=\"dataframe\">\n",
       "  <thead>\n",
       "    <tr style=\"text-align: right;\">\n",
       "      <th></th>\n",
       "      <th>first</th>\n",
       "      <th>second</th>\n",
       "    </tr>\n",
       "  </thead>\n",
       "  <tbody>\n",
       "    <tr>\n",
       "      <th>0</th>\n",
       "      <td>2</td>\n",
       "      <td>[var1=p, var2=p, nan=np.nan]</td>\n",
       "    </tr>\n",
       "    <tr>\n",
       "      <th>1</th>\n",
       "      <td>3</td>\n",
       "      <td>[var2=p, var1=pc, nan=np.nan]</td>\n",
       "    </tr>\n",
       "    <tr>\n",
       "      <th>2</th>\n",
       "      <td>3</td>\n",
       "      <td>[var3=pd, var2=pw, var1=pa]</td>\n",
       "    </tr>\n",
       "  </tbody>\n",
       "</table>\n",
       "</div>"
      ],
      "text/plain": [
       "   first                         second\n",
       "0      2   [var1=p, var2=p, nan=np.nan]\n",
       "1      3  [var2=p, var1=pc, nan=np.nan]\n",
       "2      3    [var3=pd, var2=pw, var1=pa]"
      ]
     },
     "execution_count": 81,
     "metadata": {},
     "output_type": "execute_result"
    }
   ],
   "source": [
    "df"
   ]
  },
  {
   "cell_type": "code",
   "execution_count": 82,
   "metadata": {
    "ExecuteTime": {
     "end_time": "2020-09-22T15:42:10.513945Z",
     "start_time": "2020-09-22T15:42:10.507948Z"
    }
   },
   "outputs": [],
   "source": [
    "colname = \"second\"\n",
    "def get_key_value(k):\n",
    "    return k.split(\"=\")\n",
    "\n",
    "result = proc_df_collist_bykeyvalue(df, colname, get_key_value, column_separator=\"__\")"
   ]
  },
  {
   "cell_type": "code",
   "execution_count": 83,
   "metadata": {
    "ExecuteTime": {
     "end_time": "2020-09-22T15:42:10.527699Z",
     "start_time": "2020-09-22T15:42:10.517181Z"
    }
   },
   "outputs": [
    {
     "data": {
      "text/html": [
       "<div>\n",
       "<style scoped>\n",
       "    .dataframe tbody tr th:only-of-type {\n",
       "        vertical-align: middle;\n",
       "    }\n",
       "\n",
       "    .dataframe tbody tr th {\n",
       "        vertical-align: top;\n",
       "    }\n",
       "\n",
       "    .dataframe thead th {\n",
       "        text-align: right;\n",
       "    }\n",
       "</style>\n",
       "<table border=\"1\" class=\"dataframe\">\n",
       "  <thead>\n",
       "    <tr style=\"text-align: right;\">\n",
       "      <th></th>\n",
       "      <th>second__nan</th>\n",
       "      <th>second__var1</th>\n",
       "      <th>second__var2</th>\n",
       "      <th>second__var3</th>\n",
       "    </tr>\n",
       "  </thead>\n",
       "  <tbody>\n",
       "    <tr>\n",
       "      <th>0</th>\n",
       "      <td>np.nan</td>\n",
       "      <td>p</td>\n",
       "      <td>p</td>\n",
       "      <td>0</td>\n",
       "    </tr>\n",
       "    <tr>\n",
       "      <th>1</th>\n",
       "      <td>np.nan</td>\n",
       "      <td>pc</td>\n",
       "      <td>p</td>\n",
       "      <td>0</td>\n",
       "    </tr>\n",
       "    <tr>\n",
       "      <th>2</th>\n",
       "      <td>0</td>\n",
       "      <td>pa</td>\n",
       "      <td>pw</td>\n",
       "      <td>pd</td>\n",
       "    </tr>\n",
       "  </tbody>\n",
       "</table>\n",
       "</div>"
      ],
      "text/plain": [
       "  second__nan second__var1 second__var2 second__var3\n",
       "0      np.nan            p            p            0\n",
       "1      np.nan           pc            p            0\n",
       "2           0           pa           pw           pd"
      ]
     },
     "execution_count": 83,
     "metadata": {},
     "output_type": "execute_result"
    }
   ],
   "source": [
    "result"
   ]
  },
  {
   "cell_type": "code",
   "execution_count": null,
   "metadata": {},
   "outputs": [],
   "source": []
  },
  {
   "cell_type": "markdown",
   "metadata": {},
   "source": [
    "# New columns from a df column containing lists as items (`byorder`)\n",
    "\n",
    "Column `vehicles` contains lists with different vehicle names. Let us assume we consider this feature to be a list or the ordered vehicles a family has.\n",
    "\n",
    "For example: Family 0 has 2 vehicles, and the most used one is a Mercedes, then a Toyota.\n",
    "\n",
    "Now we want to create 3 features from this column: `vehicle_1`, `vehicle_2`, `vehicle_3` and write the different\n",
    "items in the corresponding columns (the corresponding column depends on the position of the elements in the list, not on the values of the elements in the list). If you want to create `vehicle_mercedes`, `vehicle_toyota` etc look at the previous function `proc_df_collist_byvalue`."
   ]
  },
  {
   "cell_type": "code",
   "execution_count": 84,
   "metadata": {
    "ExecuteTime": {
     "end_time": "2020-09-22T15:42:10.543320Z",
     "start_time": "2020-09-22T15:42:10.530037Z"
    }
   },
   "outputs": [
    {
     "data": {
      "text/html": [
       "<div>\n",
       "<style scoped>\n",
       "    .dataframe tbody tr th:only-of-type {\n",
       "        vertical-align: middle;\n",
       "    }\n",
       "\n",
       "    .dataframe tbody tr th {\n",
       "        vertical-align: top;\n",
       "    }\n",
       "\n",
       "    .dataframe thead th {\n",
       "        text-align: right;\n",
       "    }\n",
       "</style>\n",
       "<table border=\"1\" class=\"dataframe\">\n",
       "  <thead>\n",
       "    <tr style=\"text-align: right;\">\n",
       "      <th></th>\n",
       "      <th>members</th>\n",
       "      <th>vehicles</th>\n",
       "      <th>status</th>\n",
       "    </tr>\n",
       "  </thead>\n",
       "  <tbody>\n",
       "    <tr>\n",
       "      <th>0</th>\n",
       "      <td>2</td>\n",
       "      <td>[mercedes, toyota, nan]</td>\n",
       "      <td>middleclass</td>\n",
       "    </tr>\n",
       "    <tr>\n",
       "      <th>1</th>\n",
       "      <td>3</td>\n",
       "      <td>[Renault, Mercedes, nan]</td>\n",
       "      <td>middleclass</td>\n",
       "    </tr>\n",
       "    <tr>\n",
       "      <th>2</th>\n",
       "      <td>3</td>\n",
       "      <td>[Audi, Mercedes, Tesla]</td>\n",
       "      <td>uppermiddleclass</td>\n",
       "    </tr>\n",
       "  </tbody>\n",
       "</table>\n",
       "</div>"
      ],
      "text/plain": [
       "   members                  vehicles            status\n",
       "0        2   [mercedes, toyota, nan]       middleclass\n",
       "1        3  [Renault, Mercedes, nan]       middleclass\n",
       "2        3   [Audi, Mercedes, Tesla]  uppermiddleclass"
      ]
     },
     "execution_count": 84,
     "metadata": {},
     "output_type": "execute_result"
    }
   ],
   "source": [
    "df_cars = pd.DataFrame([[2,[\"mercedes\",\"toyota\",np.nan],\"middleclass\"], \n",
    "                        [3,[\"Renault\",\"Mercedes\",np.nan],\"middleclass\"],\n",
    "                        [3,[\"Audi\",\"Mercedes\",\"Tesla\"],\"uppermiddleclass\"]],\n",
    "                        columns= [\"members\",\"vehicles\",\"status\"])\n",
    "\n",
    "df_cars"
   ]
  },
  {
   "cell_type": "code",
   "execution_count": 85,
   "metadata": {
    "ExecuteTime": {
     "end_time": "2020-09-22T15:42:10.554455Z",
     "start_time": "2020-09-22T15:42:10.545987Z"
    }
   },
   "outputs": [],
   "source": [
    "def proc_df_collist_byorder(df: pd.DataFrame, colname: str, inplace=False):\n",
    "    \"\"\"\n",
    "    \n",
    "    `proc_df_collist` takes a dataframe and a column made of lists and generates new columns which write the\n",
    "    values contained in the original lists in a consecutive order.\n",
    "    \n",
    "    For each position in the list it generates a new column. The total number of columns \n",
    "    equals the length of the largest list in `df[colname]`. \n",
    "    \n",
    "    - Each new collumn  k is filled with the values of the lists at position k.\n",
    "    \n",
    "    - If the value does not exist (because the position does not exist) the position is filled with `NaN`. \n",
    "    \n",
    "    Given `df`  and `colname`, create as many new columns as `n_new_cols =  df[colname].apply(len).max()`\n",
    "    Write in column `colname_k[j]` the value found `df[colname].iloc[j][k]`. If a position for a given row\n",
    "    does not exist, write np.nan in the corresponding column.\n",
    "    \n",
    "    \n",
    "    Examples:\n",
    "    ---------\n",
    "    >>> df = pd.DataFrame([[2, [\"p\", \"b\", np.nan]], \n",
    "                           [3, [\"a\", \"c\", np.nan]],\n",
    "                           [3, [\"d\", \"w\", \"a\"]]],\n",
    "                           columns= [\"first\",\"second\"])\n",
    "\n",
    "    >>> df\n",
    "    \n",
    "       first        second\n",
    "    0      2  [p, b, nan]\n",
    "    1      3  [a, c, nan]\n",
    "    2      3     [d, w, a]\n",
    "\n",
    "    >>> newcols = proc_df_collist_byorder(df, \"second\")\n",
    "\n",
    "    >>> newcols\n",
    "    \n",
    "          second_0 second_1 second_2\n",
    "    0        p        b     None\n",
    "    1        a        c     None\n",
    "    2        d        w        a\n",
    "\n",
    "    \n",
    "    >>> df2 = pd.DataFrame([[2,[\"p\"]], \n",
    "                   [3,[\"a\",2,3]],\n",
    "                   [3,[4]]],columns= [\"A\",\"B\"])\n",
    "                   \n",
    "    >>> df2\n",
    "    \n",
    "       A          B\n",
    "    0  2        [p]\n",
    "    1  3  [a, 2, 3]\n",
    "    2  3        [4]\n",
    "\n",
    "    >>> proc_df_collist_byorder(df2, \"B\")\n",
    "\n",
    "      B_0  B_1  B_2\n",
    "    0   p  NaN  NaN\n",
    "    1   a  2.0  3.0\n",
    "    2   4  NaN  NaN\n",
    "\n",
    "    \"\"\"\n",
    "    assert isinstance(df, pd.DataFrame), \"type(df)={} but it should be pd.DataFrame\".format(type(df))\n",
    "    assert isinstance(colname, str), \"type(columname)={} but it should be str\".format(type(str))\n",
    "    assert isinstance(df[colname].iloc[0],(list,set, np.ndarray)), \"type(df[colname].iloc[0])={} but it, should be in [list, set, np.ndarray]\".format(type(df[colname].iloc[0]))\n",
    "    \n",
    "    #n_new_cols = len(df[colname].iloc[0])\n",
    "    n_new_cols = df[colname].apply(len).max()\n",
    "    colnames   = [colname + \"_\" + str(i) for i in range(n_new_cols)]   \n",
    "    return pd.DataFrame(df[colname].tolist(), columns=colnames)"
   ]
  },
  {
   "cell_type": "code",
   "execution_count": 86,
   "metadata": {
    "ExecuteTime": {
     "end_time": "2020-09-22T15:42:10.565339Z",
     "start_time": "2020-09-22T15:42:10.556578Z"
    }
   },
   "outputs": [],
   "source": [
    "df = pd.DataFrame([[2, [\"p\", \"b\", np.nan]], \n",
    "                   [3, [\"a\", \"c\", np.nan]],\n",
    "                   [3, [\"d\", \"w\", \"a\"]]],\n",
    "                   columns= [\"first\", \"second\"])"
   ]
  },
  {
   "cell_type": "code",
   "execution_count": 87,
   "metadata": {
    "ExecuteTime": {
     "end_time": "2020-09-22T15:42:10.577439Z",
     "start_time": "2020-09-22T15:42:10.567655Z"
    },
    "scrolled": false
   },
   "outputs": [
    {
     "data": {
      "text/html": [
       "<div>\n",
       "<style scoped>\n",
       "    .dataframe tbody tr th:only-of-type {\n",
       "        vertical-align: middle;\n",
       "    }\n",
       "\n",
       "    .dataframe tbody tr th {\n",
       "        vertical-align: top;\n",
       "    }\n",
       "\n",
       "    .dataframe thead th {\n",
       "        text-align: right;\n",
       "    }\n",
       "</style>\n",
       "<table border=\"1\" class=\"dataframe\">\n",
       "  <thead>\n",
       "    <tr style=\"text-align: right;\">\n",
       "      <th></th>\n",
       "      <th>first</th>\n",
       "      <th>second</th>\n",
       "    </tr>\n",
       "  </thead>\n",
       "  <tbody>\n",
       "    <tr>\n",
       "      <th>0</th>\n",
       "      <td>2</td>\n",
       "      <td>[p, b, nan]</td>\n",
       "    </tr>\n",
       "    <tr>\n",
       "      <th>1</th>\n",
       "      <td>3</td>\n",
       "      <td>[a, c, nan]</td>\n",
       "    </tr>\n",
       "    <tr>\n",
       "      <th>2</th>\n",
       "      <td>3</td>\n",
       "      <td>[d, w, a]</td>\n",
       "    </tr>\n",
       "  </tbody>\n",
       "</table>\n",
       "</div>"
      ],
      "text/plain": [
       "   first       second\n",
       "0      2  [p, b, nan]\n",
       "1      3  [a, c, nan]\n",
       "2      3    [d, w, a]"
      ]
     },
     "execution_count": 87,
     "metadata": {},
     "output_type": "execute_result"
    }
   ],
   "source": [
    "df"
   ]
  },
  {
   "cell_type": "code",
   "execution_count": 88,
   "metadata": {
    "ExecuteTime": {
     "end_time": "2020-09-22T15:42:10.592176Z",
     "start_time": "2020-09-22T15:42:10.579682Z"
    }
   },
   "outputs": [
    {
     "data": {
      "text/html": [
       "<div>\n",
       "<style scoped>\n",
       "    .dataframe tbody tr th:only-of-type {\n",
       "        vertical-align: middle;\n",
       "    }\n",
       "\n",
       "    .dataframe tbody tr th {\n",
       "        vertical-align: top;\n",
       "    }\n",
       "\n",
       "    .dataframe thead th {\n",
       "        text-align: right;\n",
       "    }\n",
       "</style>\n",
       "<table border=\"1\" class=\"dataframe\">\n",
       "  <thead>\n",
       "    <tr style=\"text-align: right;\">\n",
       "      <th></th>\n",
       "      <th>second_0</th>\n",
       "      <th>second_1</th>\n",
       "      <th>second_2</th>\n",
       "    </tr>\n",
       "  </thead>\n",
       "  <tbody>\n",
       "    <tr>\n",
       "      <th>0</th>\n",
       "      <td>p</td>\n",
       "      <td>b</td>\n",
       "      <td>NaN</td>\n",
       "    </tr>\n",
       "    <tr>\n",
       "      <th>1</th>\n",
       "      <td>a</td>\n",
       "      <td>c</td>\n",
       "      <td>NaN</td>\n",
       "    </tr>\n",
       "    <tr>\n",
       "      <th>2</th>\n",
       "      <td>d</td>\n",
       "      <td>w</td>\n",
       "      <td>a</td>\n",
       "    </tr>\n",
       "  </tbody>\n",
       "</table>\n",
       "</div>"
      ],
      "text/plain": [
       "  second_0 second_1 second_2\n",
       "0        p        b      NaN\n",
       "1        a        c      NaN\n",
       "2        d        w        a"
      ]
     },
     "execution_count": 88,
     "metadata": {},
     "output_type": "execute_result"
    }
   ],
   "source": [
    "proc_df_collist_byorder(df, \"second\")"
   ]
  },
  {
   "cell_type": "code",
   "execution_count": null,
   "metadata": {},
   "outputs": [],
   "source": []
  },
  {
   "cell_type": "markdown",
   "metadata": {},
   "source": [
    "If the column passed to `proc_df_collist` contains iterables with different sizes then it will generate as many colums as the longest iterable. Then it will fill with `NaN`  positions where we don't have information"
   ]
  },
  {
   "cell_type": "code",
   "execution_count": 89,
   "metadata": {
    "ExecuteTime": {
     "end_time": "2020-09-22T15:42:10.599470Z",
     "start_time": "2020-09-22T15:42:10.594598Z"
    }
   },
   "outputs": [],
   "source": [
    "df2 = pd.DataFrame([[2,[\"p\"]], \n",
    "                   [3,[\"a\",2,3]],\n",
    "                   [3,[4]]],columns= [\"A\",\"B\"])"
   ]
  },
  {
   "cell_type": "code",
   "execution_count": 90,
   "metadata": {
    "ExecuteTime": {
     "end_time": "2020-09-22T15:42:10.613347Z",
     "start_time": "2020-09-22T15:42:10.601825Z"
    },
    "scrolled": true
   },
   "outputs": [
    {
     "data": {
      "text/html": [
       "<div>\n",
       "<style scoped>\n",
       "    .dataframe tbody tr th:only-of-type {\n",
       "        vertical-align: middle;\n",
       "    }\n",
       "\n",
       "    .dataframe tbody tr th {\n",
       "        vertical-align: top;\n",
       "    }\n",
       "\n",
       "    .dataframe thead th {\n",
       "        text-align: right;\n",
       "    }\n",
       "</style>\n",
       "<table border=\"1\" class=\"dataframe\">\n",
       "  <thead>\n",
       "    <tr style=\"text-align: right;\">\n",
       "      <th></th>\n",
       "      <th>B_0</th>\n",
       "      <th>B_1</th>\n",
       "      <th>B_2</th>\n",
       "    </tr>\n",
       "  </thead>\n",
       "  <tbody>\n",
       "    <tr>\n",
       "      <th>0</th>\n",
       "      <td>p</td>\n",
       "      <td>NaN</td>\n",
       "      <td>NaN</td>\n",
       "    </tr>\n",
       "    <tr>\n",
       "      <th>1</th>\n",
       "      <td>a</td>\n",
       "      <td>2.0</td>\n",
       "      <td>3.0</td>\n",
       "    </tr>\n",
       "    <tr>\n",
       "      <th>2</th>\n",
       "      <td>4</td>\n",
       "      <td>NaN</td>\n",
       "      <td>NaN</td>\n",
       "    </tr>\n",
       "  </tbody>\n",
       "</table>\n",
       "</div>"
      ],
      "text/plain": [
       "  B_0  B_1  B_2\n",
       "0   p  NaN  NaN\n",
       "1   a  2.0  3.0\n",
       "2   4  NaN  NaN"
      ]
     },
     "execution_count": 90,
     "metadata": {},
     "output_type": "execute_result"
    }
   ],
   "source": [
    "proc_df_collist_byorder(df2, \"B\")"
   ]
  }
 ],
 "metadata": {
  "kernelspec": {
   "display_name": "Python 3 (ipykernel)",
   "language": "python",
   "name": "python3"
  },
  "language_info": {
   "codemirror_mode": {
    "name": "ipython",
    "version": 3
   },
   "file_extension": ".py",
   "mimetype": "text/x-python",
   "name": "python",
   "nbconvert_exporter": "python",
   "pygments_lexer": "ipython3",
   "version": "3.9.12"
  },
  "toc": {
   "base_numbering": 1,
   "nav_menu": {},
   "number_sections": true,
   "sideBar": true,
   "skip_h1_title": false,
   "title_cell": "Table of Contents",
   "title_sidebar": "Contents",
   "toc_cell": true,
   "toc_position": {},
   "toc_section_display": true,
   "toc_window_display": false
  }
 },
 "nbformat": 4,
 "nbformat_minor": 2
}

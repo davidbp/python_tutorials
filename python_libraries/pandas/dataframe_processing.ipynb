{
 "cells": [
  {
   "cell_type": "markdown",
   "metadata": {},
   "source": [
    "## Introduction to pandas"
   ]
  },
  {
   "cell_type": "code",
   "execution_count": 91,
   "metadata": {},
   "outputs": [],
   "source": [
    "import pandas as pd\n",
    "import numpy as np\n",
    "from collections.abc import Iterable "
   ]
  },
  {
   "cell_type": "code",
   "execution_count": 269,
   "metadata": {},
   "outputs": [
    {
     "data": {
      "text/html": [
       "<div>\n",
       "<style scoped>\n",
       "    .dataframe tbody tr th:only-of-type {\n",
       "        vertical-align: middle;\n",
       "    }\n",
       "\n",
       "    .dataframe tbody tr th {\n",
       "        vertical-align: top;\n",
       "    }\n",
       "\n",
       "    .dataframe thead th {\n",
       "        text-align: right;\n",
       "    }\n",
       "</style>\n",
       "<table border=\"1\" class=\"dataframe\">\n",
       "  <thead>\n",
       "    <tr style=\"text-align: right;\">\n",
       "      <th></th>\n",
       "      <th>members</th>\n",
       "      <th>vehicles</th>\n",
       "      <th>status</th>\n",
       "    </tr>\n",
       "  </thead>\n",
       "  <tbody>\n",
       "    <tr>\n",
       "      <td>0</td>\n",
       "      <td>2</td>\n",
       "      <td>[mercedes, toyota, None]</td>\n",
       "      <td>middleclass</td>\n",
       "    </tr>\n",
       "    <tr>\n",
       "      <td>1</td>\n",
       "      <td>3</td>\n",
       "      <td>[Renault, Mercedes, None]</td>\n",
       "      <td>middleclass</td>\n",
       "    </tr>\n",
       "    <tr>\n",
       "      <td>2</td>\n",
       "      <td>3</td>\n",
       "      <td>[Audi, Mercedes, Tesla]</td>\n",
       "      <td>uppermiddleclass</td>\n",
       "    </tr>\n",
       "  </tbody>\n",
       "</table>\n",
       "</div>"
      ],
      "text/plain": [
       "   members                   vehicles            status\n",
       "0        2   [mercedes, toyota, None]       middleclass\n",
       "1        3  [Renault, Mercedes, None]       middleclass\n",
       "2        3    [Audi, Mercedes, Tesla]  uppermiddleclass"
      ]
     },
     "execution_count": 269,
     "metadata": {},
     "output_type": "execute_result"
    }
   ],
   "source": [
    "df_cars = pd.DataFrame([[2,[\"mercedes\",\"toyota\",None],\"middleclass\"], \n",
    "                        [3,[\"Renault\",\"Mercedes\",None],\"middleclass\"],\n",
    "                        [3,[\"Audi\",\"Mercedes\",\"Tesla\"],\"uppermiddleclass\"]],\n",
    "                        columns= [\"members\",\"vehicles\",\"status\"])\n",
    "\n",
    "df_cars"
   ]
  },
  {
   "cell_type": "markdown",
   "metadata": {},
   "source": [
    "## Make new columns from a series containing lists\n",
    "\n",
    "Column `vehicles` contains lists with different vehicle names. Let us assume we consider this feature to be a list or the ordered vehicles a family has.\n",
    "\n",
    "For example: Family 0 has 2 vehicles, and the most used one is a Mercedes, then a Toyota.\n",
    "\n",
    "Now we want to create 3 features from this column: `vehicle_1`, `vehicle_2`, `vehicle_3` and write the different\n",
    "models in the corresponding columns"
   ]
  },
  {
   "cell_type": "code",
   "execution_count": 268,
   "metadata": {},
   "outputs": [],
   "source": [
    "def proc_df_collist(df: pd.DataFrame, colname: str, inplace=False):\n",
    "    \"\"\"\n",
    "    \n",
    "    `proc_df_collist` takes a dataframe and a column made of lists and generates new columns containing\n",
    "    values from the lists. For each position in the list it generates a new column. The nimber of generated\n",
    "    columns equals the length of the largest list in `df[colname]`. Each new collumn  k is filled\n",
    "    with the values of the lists at position k. If the value does not exist (because the position does not exist)\n",
    "    the position is filled with `NaN`. \n",
    "    \n",
    "    Given `df`  and `colname`, create as many new columns as `len(df[colname].iloc[0])`\n",
    "    Write in column `colname_k[j]` the value found `df[colname].iloc[j][k]`.\n",
    "    \n",
    "    \n",
    "    Examples:\n",
    "    ---------\n",
    "    >>> df = pd.DataFrame([[2,[\"p\",\"b\",None]], \n",
    "                   [3,[\"a\",\"c\",None]],\n",
    "                  [3,[\"d\",\"w\",\"a\"]]],columns= [\"first\",\"second\"])\n",
    "                  \n",
    "    >>> df\n",
    "    \n",
    "       first        second\n",
    "    0      2  [p, b, None]\n",
    "    1      3  [a, c, None]\n",
    "    2      3     [d, w, a]\n",
    "\n",
    "    >>> newcols = proc_df_collist(df, \"second\")\n",
    "\n",
    "    >>> newcols\n",
    "          second_0 second_1 second_2\n",
    "    0        p        b     None\n",
    "    1        a        c     None\n",
    "    2        d        w        a\n",
    "\n",
    "    \n",
    "    >>> df2 = pd.DataFrame([[2,[\"p\"]], \n",
    "                   [3,[\"a\",2,3]],\n",
    "                   [3,[4]]],columns= [\"A\",\"B\"])\n",
    "                   \n",
    "    >>> df2\n",
    "       A          B\n",
    "    0  2        [p]\n",
    "    1  3  [a, 2, 3]\n",
    "    2  3        [4]\n",
    "\n",
    "    >>> proc_df_collist(df2, \"B\")\n",
    "\n",
    "      B_0  B_1  B_2\n",
    "    0   p  NaN  NaN\n",
    "    1   a  2.0  3.0\n",
    "    2   4  NaN  NaN\n",
    "\n",
    "    \"\"\"\n",
    "    assert isinstance(df, pd.DataFrame), \"type(df)={} but it should be pd.DataFrame\".format(type(df))\n",
    "    assert isinstance(colname, str), \"type(columname)={} but it should be str\".format(type(str))\n",
    "    assert isinstance(df[colname].iloc[0],(list,set, np.ndarray)), \"type(df[colname].iloc[0])={} but it, should be in [list, set, np.ndarray]\".format(type(df[colname].iloc[0]))\n",
    "    \n",
    "    \n",
    "    #n_new_cols = len(df[colname].iloc[0])\n",
    "    n_new_cols = df[colname].apply(len).max()\n",
    "    colnames   = [colname + \"_\" + str(i) for i in range(n_new_cols)]   \n",
    "    \n",
    "    return pd.DataFrame(df[colname].tolist(), columns=colnames)"
   ]
  },
  {
   "cell_type": "code",
   "execution_count": 260,
   "metadata": {},
   "outputs": [],
   "source": [
    "df = pd.DataFrame([[2,[\"p\",\"b\",None]], \n",
    "                   [3,[\"a\",\"c\",None]],\n",
    "                   [3,[\"d\",\"w\",\"a\"]]],columns= [\"first\",\"second\"])\n"
   ]
  },
  {
   "cell_type": "code",
   "execution_count": 261,
   "metadata": {
    "scrolled": false
   },
   "outputs": [
    {
     "data": {
      "text/html": [
       "<div>\n",
       "<style scoped>\n",
       "    .dataframe tbody tr th:only-of-type {\n",
       "        vertical-align: middle;\n",
       "    }\n",
       "\n",
       "    .dataframe tbody tr th {\n",
       "        vertical-align: top;\n",
       "    }\n",
       "\n",
       "    .dataframe thead th {\n",
       "        text-align: right;\n",
       "    }\n",
       "</style>\n",
       "<table border=\"1\" class=\"dataframe\">\n",
       "  <thead>\n",
       "    <tr style=\"text-align: right;\">\n",
       "      <th></th>\n",
       "      <th>first</th>\n",
       "      <th>second</th>\n",
       "    </tr>\n",
       "  </thead>\n",
       "  <tbody>\n",
       "    <tr>\n",
       "      <td>0</td>\n",
       "      <td>2</td>\n",
       "      <td>[p, b, None]</td>\n",
       "    </tr>\n",
       "    <tr>\n",
       "      <td>1</td>\n",
       "      <td>3</td>\n",
       "      <td>[a, c, None]</td>\n",
       "    </tr>\n",
       "    <tr>\n",
       "      <td>2</td>\n",
       "      <td>3</td>\n",
       "      <td>[d, w, a]</td>\n",
       "    </tr>\n",
       "  </tbody>\n",
       "</table>\n",
       "</div>"
      ],
      "text/plain": [
       "   first        second\n",
       "0      2  [p, b, None]\n",
       "1      3  [a, c, None]\n",
       "2      3     [d, w, a]"
      ]
     },
     "execution_count": 261,
     "metadata": {},
     "output_type": "execute_result"
    }
   ],
   "source": [
    "df"
   ]
  },
  {
   "cell_type": "code",
   "execution_count": 265,
   "metadata": {},
   "outputs": [
    {
     "data": {
      "text/html": [
       "<div>\n",
       "<style scoped>\n",
       "    .dataframe tbody tr th:only-of-type {\n",
       "        vertical-align: middle;\n",
       "    }\n",
       "\n",
       "    .dataframe tbody tr th {\n",
       "        vertical-align: top;\n",
       "    }\n",
       "\n",
       "    .dataframe thead th {\n",
       "        text-align: right;\n",
       "    }\n",
       "</style>\n",
       "<table border=\"1\" class=\"dataframe\">\n",
       "  <thead>\n",
       "    <tr style=\"text-align: right;\">\n",
       "      <th></th>\n",
       "      <th>second_0</th>\n",
       "      <th>second_1</th>\n",
       "      <th>second_2</th>\n",
       "    </tr>\n",
       "  </thead>\n",
       "  <tbody>\n",
       "    <tr>\n",
       "      <td>0</td>\n",
       "      <td>p</td>\n",
       "      <td>b</td>\n",
       "      <td>None</td>\n",
       "    </tr>\n",
       "    <tr>\n",
       "      <td>1</td>\n",
       "      <td>a</td>\n",
       "      <td>c</td>\n",
       "      <td>None</td>\n",
       "    </tr>\n",
       "    <tr>\n",
       "      <td>2</td>\n",
       "      <td>d</td>\n",
       "      <td>w</td>\n",
       "      <td>a</td>\n",
       "    </tr>\n",
       "  </tbody>\n",
       "</table>\n",
       "</div>"
      ],
      "text/plain": [
       "  second_0 second_1 second_2\n",
       "0        p        b     None\n",
       "1        a        c     None\n",
       "2        d        w        a"
      ]
     },
     "execution_count": 265,
     "metadata": {},
     "output_type": "execute_result"
    }
   ],
   "source": [
    "proc_df_collist(df, \"second\")"
   ]
  },
  {
   "cell_type": "markdown",
   "metadata": {},
   "source": [
    "If the column passed to `proc_df_collist` contains iterables with different sizes then it will generate as many colums as the longest iterable. Then it will fill with `NaN`  positions where we don't have information"
   ]
  },
  {
   "cell_type": "code",
   "execution_count": 266,
   "metadata": {},
   "outputs": [],
   "source": [
    "df2 = pd.DataFrame([[2,[\"p\"]], \n",
    "                   [3,[\"a\",2,3]],\n",
    "                   [3,[4]]],columns= [\"A\",\"B\"])"
   ]
  },
  {
   "cell_type": "code",
   "execution_count": 267,
   "metadata": {
    "scrolled": true
   },
   "outputs": [
    {
     "data": {
      "text/html": [
       "<div>\n",
       "<style scoped>\n",
       "    .dataframe tbody tr th:only-of-type {\n",
       "        vertical-align: middle;\n",
       "    }\n",
       "\n",
       "    .dataframe tbody tr th {\n",
       "        vertical-align: top;\n",
       "    }\n",
       "\n",
       "    .dataframe thead th {\n",
       "        text-align: right;\n",
       "    }\n",
       "</style>\n",
       "<table border=\"1\" class=\"dataframe\">\n",
       "  <thead>\n",
       "    <tr style=\"text-align: right;\">\n",
       "      <th></th>\n",
       "      <th>B_0</th>\n",
       "      <th>B_1</th>\n",
       "      <th>B_2</th>\n",
       "    </tr>\n",
       "  </thead>\n",
       "  <tbody>\n",
       "    <tr>\n",
       "      <td>0</td>\n",
       "      <td>p</td>\n",
       "      <td>NaN</td>\n",
       "      <td>NaN</td>\n",
       "    </tr>\n",
       "    <tr>\n",
       "      <td>1</td>\n",
       "      <td>a</td>\n",
       "      <td>2.0</td>\n",
       "      <td>3.0</td>\n",
       "    </tr>\n",
       "    <tr>\n",
       "      <td>2</td>\n",
       "      <td>4</td>\n",
       "      <td>NaN</td>\n",
       "      <td>NaN</td>\n",
       "    </tr>\n",
       "  </tbody>\n",
       "</table>\n",
       "</div>"
      ],
      "text/plain": [
       "  B_0  B_1  B_2\n",
       "0   p  NaN  NaN\n",
       "1   a  2.0  3.0\n",
       "2   4  NaN  NaN"
      ]
     },
     "execution_count": 267,
     "metadata": {},
     "output_type": "execute_result"
    }
   ],
   "source": [
    "proc_df_collist(df2, \"B\")"
   ]
  },
  {
   "cell_type": "code",
   "execution_count": null,
   "metadata": {},
   "outputs": [],
   "source": []
  },
  {
   "cell_type": "code",
   "execution_count": null,
   "metadata": {},
   "outputs": [],
   "source": []
  },
  {
   "cell_type": "code",
   "execution_count": null,
   "metadata": {},
   "outputs": [],
   "source": []
  },
  {
   "cell_type": "code",
   "execution_count": null,
   "metadata": {},
   "outputs": [],
   "source": []
  },
  {
   "cell_type": "code",
   "execution_count": null,
   "metadata": {},
   "outputs": [],
   "source": []
  }
 ],
 "metadata": {
  "kernelspec": {
   "display_name": "Python 3",
   "language": "python",
   "name": "python3"
  },
  "language_info": {
   "codemirror_mode": {
    "name": "ipython",
    "version": 3
   },
   "file_extension": ".py",
   "mimetype": "text/x-python",
   "name": "python",
   "nbconvert_exporter": "python",
   "pygments_lexer": "ipython3",
   "version": "3.6.9"
  }
 },
 "nbformat": 4,
 "nbformat_minor": 2
}

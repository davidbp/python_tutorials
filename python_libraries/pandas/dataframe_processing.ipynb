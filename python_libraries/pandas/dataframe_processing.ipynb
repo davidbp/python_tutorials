{
 "cells": [
  {
   "cell_type": "markdown",
   "metadata": {
    "toc": true
   },
   "source": [
    "<h1>Table of Contents<span class=\"tocSkip\"></span></h1>\n",
    "<div class=\"toc\"><ul class=\"toc-item\"><li><span><a href=\"#Introduction-to-pandas\" data-toc-modified-id=\"Introduction-to-pandas-1\"><span class=\"toc-item-num\">1&nbsp;&nbsp;</span>Introduction to pandas</a></span></li><li><span><a href=\"#Add-new-columns-saving-Nan-values-get_dummies_nan\" data-toc-modified-id=\"Add-new-columns-saving-Nan-values-get_dummies_nan-2\"><span class=\"toc-item-num\">2&nbsp;&nbsp;</span>Add new columns saving Nan values <code>get_dummies_nan</code></a></span></li><li><span><a href=\"#Compute-nan-features-for-rows:-nan_features\" data-toc-modified-id=\"Compute-nan-features-for-rows:-nan_features-3\"><span class=\"toc-item-num\">3&nbsp;&nbsp;</span>Compute nan features for rows: <code>nan_features</code></a></span></li><li><span><a href=\"#Substitute-np.NaN-by-other-values:-MissingImputer-class\" data-toc-modified-id=\"Substitute-np.NaN-by-other-values:-MissingImputer-class-4\"><span class=\"toc-item-num\">4&nbsp;&nbsp;</span>Substitute <code>np.NaN</code> by other values: <code>MissingImputer</code> class</a></span></li><li><span><a href=\"#Make-new-columns-from-a-series-containing-lists\" data-toc-modified-id=\"Make-new-columns-from-a-series-containing-lists-5\"><span class=\"toc-item-num\">5&nbsp;&nbsp;</span>Make new columns from a series containing lists</a></span></li></ul></div>"
   ]
  },
  {
   "cell_type": "markdown",
   "metadata": {},
   "source": [
    "# Introduction to pandas"
   ]
  },
  {
   "cell_type": "code",
   "execution_count": 13,
   "metadata": {},
   "outputs": [],
   "source": [
    "import pandas as pd\n",
    "import numpy as np\n",
    "import scipy\n",
    "from scipy import stats\n",
    "\n",
    "from collections.abc import Iterable "
   ]
  },
  {
   "cell_type": "code",
   "execution_count": null,
   "metadata": {},
   "outputs": [],
   "source": []
  },
  {
   "cell_type": "code",
   "execution_count": null,
   "metadata": {},
   "outputs": [],
   "source": []
  },
  {
   "cell_type": "markdown",
   "metadata": {},
   "source": [
    "# Add new columns saving Nan values `get_dummies_nan` "
   ]
  },
  {
   "cell_type": "code",
   "execution_count": 14,
   "metadata": {},
   "outputs": [],
   "source": [
    "df_cars = pd.DataFrame([[2,\"mercedes\",\"middleclass\"], \n",
    "                        [np.NaN,\"mercedes\",\"middleclass\"],\n",
    "                        [3,\"Audi\",np.NaN]],\n",
    "                        columns= [\"members\",\"vehicles\",\"status\"])\n"
   ]
  },
  {
   "cell_type": "code",
   "execution_count": 15,
   "metadata": {},
   "outputs": [
    {
     "name": "stdout",
     "output_type": "stream",
     "text": [
      "   members  vehicles       status\n",
      "0      2.0  mercedes  middleclass\n",
      "1      NaN  mercedes  middleclass\n",
      "2      3.0      Audi          NaN\n"
     ]
    }
   ],
   "source": [
    "print(df_cars)"
   ]
  },
  {
   "cell_type": "code",
   "execution_count": 16,
   "metadata": {},
   "outputs": [],
   "source": [
    "\n",
    "def contains_nan(df_col):\n",
    "    '''\n",
    "    `contains_nan` checks if a certain column has nans\n",
    "    '''\n",
    "    return df_col.isna().any()\n",
    "\n",
    "\n",
    "def get_dummies_nan(df, return_nancols=False,inplace=False):\n",
    "    '''\n",
    "    `get_dummies_nan` creates a new dataframe with binary columns stating wheather variables contain NaNs.\n",
    "    \n",
    "    \n",
    "    \n",
    "    Examples:\n",
    "    --------\n",
    "    \n",
    "    \n",
    "    >>> df = pd.DataFrame([[2,\"mercedes\",\"middleclass\"], \n",
    "                           [np.NaN,\"mercedes\",\"middleclass\"],\n",
    "                           [3,\"Audi\",np.NaN]],\n",
    "                           columns= [\"members\",\"vehicles\",\"status\"])\n",
    "    \n",
    "    >>> df \n",
    "\n",
    "           members  vehicles       status\n",
    "    0      2.0  mercedes  middleclass\n",
    "    1      NaN  mercedes  middleclass\n",
    "    2      3.0      Audi          NaN\n",
    "    \n",
    "    >>> df_ = get_dummies_nan(df)\n",
    "    \n",
    "    >>> df_\n",
    "    \n",
    "           members  vehicles       status  members_nan  status_nan\n",
    "    0      2.0  mercedes  middleclass        False       False\n",
    "    1      NaN  mercedes  middleclass         True       False\n",
    "    2      3.0      Audi          NaN        False        True\n",
    "\n",
    "    >>> df_, nancols = get_dummies_nan(df, return_nancols=True)\n",
    "    \n",
    "    >>> nancols\n",
    "    \n",
    "    ['members', 'status']\n",
    "\n",
    "    '''\n",
    "    def add_nan_columns(df):\n",
    "        cols_with_nan = []\n",
    "        for c in df.columns:\n",
    "            if contains_nan(df[c]):\n",
    "                cols_with_nan.append(c)\n",
    "                df[c + \"_nan\"] = df[c].isna().values    \n",
    "        return df, cols_with_nan\n",
    "\n",
    "\n",
    "    if inplace:\n",
    "        df, cols_with_nan = add_nan_columns(df) \n",
    "        if return_nancols:\n",
    "            return cols_with_nan\n",
    "    else:\n",
    "        df_copy = df.copy(deep=True)\n",
    "        df_copy, cols_with_nan = add_nan_columns(df_copy) \n",
    "        \n",
    "        if return_nancols:\n",
    "            return df_copy, cols_with_nan\n",
    "        else:\n",
    "            return df_copy"
   ]
  },
  {
   "cell_type": "code",
   "execution_count": 17,
   "metadata": {},
   "outputs": [],
   "source": [
    "df_= get_dummies_nan(df_cars)"
   ]
  },
  {
   "cell_type": "code",
   "execution_count": 18,
   "metadata": {},
   "outputs": [
    {
     "data": {
      "text/html": [
       "<div>\n",
       "<style scoped>\n",
       "    .dataframe tbody tr th:only-of-type {\n",
       "        vertical-align: middle;\n",
       "    }\n",
       "\n",
       "    .dataframe tbody tr th {\n",
       "        vertical-align: top;\n",
       "    }\n",
       "\n",
       "    .dataframe thead th {\n",
       "        text-align: right;\n",
       "    }\n",
       "</style>\n",
       "<table border=\"1\" class=\"dataframe\">\n",
       "  <thead>\n",
       "    <tr style=\"text-align: right;\">\n",
       "      <th></th>\n",
       "      <th>members</th>\n",
       "      <th>vehicles</th>\n",
       "      <th>status</th>\n",
       "      <th>members_nan</th>\n",
       "      <th>status_nan</th>\n",
       "    </tr>\n",
       "  </thead>\n",
       "  <tbody>\n",
       "    <tr>\n",
       "      <td>0</td>\n",
       "      <td>2.0</td>\n",
       "      <td>mercedes</td>\n",
       "      <td>middleclass</td>\n",
       "      <td>False</td>\n",
       "      <td>False</td>\n",
       "    </tr>\n",
       "    <tr>\n",
       "      <td>1</td>\n",
       "      <td>NaN</td>\n",
       "      <td>mercedes</td>\n",
       "      <td>middleclass</td>\n",
       "      <td>True</td>\n",
       "      <td>False</td>\n",
       "    </tr>\n",
       "    <tr>\n",
       "      <td>2</td>\n",
       "      <td>3.0</td>\n",
       "      <td>Audi</td>\n",
       "      <td>NaN</td>\n",
       "      <td>False</td>\n",
       "      <td>True</td>\n",
       "    </tr>\n",
       "  </tbody>\n",
       "</table>\n",
       "</div>"
      ],
      "text/plain": [
       "   members  vehicles       status  members_nan  status_nan\n",
       "0      2.0  mercedes  middleclass        False       False\n",
       "1      NaN  mercedes  middleclass         True       False\n",
       "2      3.0      Audi          NaN        False        True"
      ]
     },
     "execution_count": 18,
     "metadata": {},
     "output_type": "execute_result"
    }
   ],
   "source": [
    "df_"
   ]
  },
  {
   "cell_type": "code",
   "execution_count": 19,
   "metadata": {},
   "outputs": [],
   "source": [
    "df_, nancols = get_dummies_nan(df_cars, return_nancols=True)"
   ]
  },
  {
   "cell_type": "code",
   "execution_count": 20,
   "metadata": {},
   "outputs": [
    {
     "data": {
      "text/plain": [
       "['members', 'status']"
      ]
     },
     "execution_count": 20,
     "metadata": {},
     "output_type": "execute_result"
    }
   ],
   "source": [
    "nancols"
   ]
  },
  {
   "cell_type": "markdown",
   "metadata": {},
   "source": [
    "# Compute nan features for rows: `nan_features` "
   ]
  },
  {
   "cell_type": "code",
   "execution_count": 21,
   "metadata": {},
   "outputs": [],
   "source": [
    "\n",
    "def _nan_rowfeatures(df, reduce_methods=[np.mean, np.std], distances=False, inplace=False):\n",
    "    \n",
    "    \"\"\"\n",
    "    `nan_features` generates new features containing for a given row k the \"statistic\" returned by a reduce\n",
    "    operation on row k.\n",
    "    \n",
    "    t also computes the difference between the most value of the transformed nans per row and the found value.\n",
    "\n",
    "    Examples:\n",
    "    ---------\n",
    "    >>> df = pd.DataFrame([[2,[\"p\",\"b\",None]], \n",
    "                   [3,[\"a\",\"c\",None]],\n",
    "                  [3,[\"d\",\"w\",\"a\"]]],columns= [\"first\",\"second\"])\n",
    "                  \n",
    "    >>> df\n",
    "    \n",
    "       first        second\n",
    "    0      2  [p, b, None]\n",
    "    1      3  [a, c, None]\n",
    "    2      3     [d, w, a]\n",
    "    \n",
    "    >>> df_ = nan_rowfeatures(df)\n",
    "    \n",
    "    >>> df_\n",
    "\n",
    "        members  vehicles       status  mean_nans  std_nans\n",
    "    0      2.0  mercedes  middleclass   0.000000  0.000000\n",
    "    1      NaN  mercedes  middleclass   0.333333  0.471405\n",
    "    2      3.0      Audi          NaN   0.333333  0.471405\n",
    "\n",
    "    \"\"\"\n",
    "    def create_col(df, reducer):\n",
    "        colname     = reducer.__name__ + '_rownans'\n",
    "        df[colname] = df_cars.apply(lambda x: reducer(pd.isna(x)), axis=1)\n",
    "        if distances:\n",
    "            mode        = stats.mode(df[colname])[0]  \n",
    "            df[colname + '_l1_to_mode' ] = np.abs(df[colname] - mode)\n",
    "            df[colname + '_l2_to_mode']  = (df[colname] - mode)**2\n",
    "            \n",
    "    if inplace:\n",
    "        for reducer in reduce_methods:\n",
    "            create_col(df, reducer)\n",
    "    else:\n",
    "        df_copy = df.copy(deep=True)\n",
    "        \n",
    "        for reducer in reduce_methods:\n",
    "            create_col(df_copy, reducer)\n",
    "        return df_copy\n",
    "    \n",
    "    \n",
    "\n",
    "def nan_rowfeatures(df, reduce_methods=[np.mean, np.std], distances=False, inplace=False):\n",
    "    \n",
    "    \"\"\"\n",
    "    `nan_features` generates new features containing for a given row k the \"statistic\" returned by a reduce\n",
    "    operation on row k.\n",
    "    \n",
    "    It also computes the difference between the most value of the transformed nans per row and the found value.\n",
    "    \n",
    "    Examples:\n",
    "    ---------\n",
    "    >>> df = pd.DataFrame([[2,[\"p\",\"b\",None]], \n",
    "                   [3,[\"a\",\"c\",None]],\n",
    "                  [3,[\"d\",\"w\",\"a\"]]],columns= [\"first\",\"second\"])\n",
    "                  \n",
    "    >>> df\n",
    "    \n",
    "       first        second\n",
    "    0      2  [p, b, None]\n",
    "    1      3  [a, c, None]\n",
    "    2      3     [d, w, a]\n",
    "    \n",
    "    >>> df_ = nan_rowfeatures(df)\n",
    "    \n",
    "    >>> df_\n",
    "\n",
    "       members  vehicles       status  mean_rownans  std_rownans\n",
    "    0      2.0  mercedes  middleclass      0.000000     0.000000\n",
    "    1      NaN  mercedes  middleclass      0.333333     0.433013\n",
    "    2      3.0      Audi          NaN      0.333333     0.433013\n",
    "    \n",
    "    >>> df_ = nan_rowfeatures(df, distances=True)\n",
    "\n",
    "           members  vehicles       status  mean_rownans  mean_rownans_l1_to_mode  \\\n",
    "    0      2.0  mercedes  middleclass      0.000000                 0.333333   \n",
    "    1      NaN  mercedes  middleclass      0.333333                 0.000000   \n",
    "    2      3.0      Audi          NaN      0.333333                 0.000000   \n",
    "\n",
    "       mean_rownans_l2_to_mode  std_rownans  std_rownans_l1_to_mode  \\\n",
    "    0                 0.111111     0.000000                0.372678   \n",
    "    1                 0.000000     0.372678                0.000000   \n",
    "    2                 0.000000     0.372678                0.000000   \n",
    "\n",
    "       std_rownans_l2_to_mode  \n",
    "    0                0.138889  \n",
    "    1                0.000000  \n",
    "    2                0.000000  \n",
    "\n",
    "    \"\"\"\n",
    "    \n",
    "    def create_col(df, reducer):\n",
    "        colname                       = reducer.__name__ + '_rownans'\n",
    "        df[colname]                   = reducer(pd.isna(df),axis=1)\n",
    "        if distances:\n",
    "            mode                          = stats.mode(df[colname])[0]  \n",
    "            df[colname + '_l1_to_mode']   = np.abs(mode - df[colname])\n",
    "            df[colname + '_l2_to_mode']   = (mode - df[colname])**2\n",
    "            \n",
    "    if inplace:\n",
    "        for reducer in reduce_methods:\n",
    "            create_col(df, reducer)\n",
    "    else:\n",
    "        df_copy = df.copy(deep=True)\n",
    "        \n",
    "        for reducer in reduce_methods:\n",
    "            create_col(df_copy, reducer)\n",
    "\n",
    "        return df_copy"
   ]
  },
  {
   "cell_type": "code",
   "execution_count": 22,
   "metadata": {
    "scrolled": true
   },
   "outputs": [
    {
     "name": "stdout",
     "output_type": "stream",
     "text": [
      "CPU times: user 8 ms, sys: 8 ms, total: 16 ms\n",
      "Wall time: 96.8 ms\n"
     ]
    },
    {
     "data": {
      "text/html": [
       "<div>\n",
       "<style scoped>\n",
       "    .dataframe tbody tr th:only-of-type {\n",
       "        vertical-align: middle;\n",
       "    }\n",
       "\n",
       "    .dataframe tbody tr th {\n",
       "        vertical-align: top;\n",
       "    }\n",
       "\n",
       "    .dataframe thead th {\n",
       "        text-align: right;\n",
       "    }\n",
       "</style>\n",
       "<table border=\"1\" class=\"dataframe\">\n",
       "  <thead>\n",
       "    <tr style=\"text-align: right;\">\n",
       "      <th></th>\n",
       "      <th>members</th>\n",
       "      <th>vehicles</th>\n",
       "      <th>status</th>\n",
       "      <th>mean_rownans</th>\n",
       "      <th>std_rownans</th>\n",
       "    </tr>\n",
       "  </thead>\n",
       "  <tbody>\n",
       "    <tr>\n",
       "      <td>0</td>\n",
       "      <td>2.0</td>\n",
       "      <td>mercedes</td>\n",
       "      <td>middleclass</td>\n",
       "      <td>0.000000</td>\n",
       "      <td>0.000000</td>\n",
       "    </tr>\n",
       "    <tr>\n",
       "      <td>1</td>\n",
       "      <td>NaN</td>\n",
       "      <td>mercedes</td>\n",
       "      <td>middleclass</td>\n",
       "      <td>0.333333</td>\n",
       "      <td>0.471405</td>\n",
       "    </tr>\n",
       "    <tr>\n",
       "      <td>2</td>\n",
       "      <td>3.0</td>\n",
       "      <td>Audi</td>\n",
       "      <td>NaN</td>\n",
       "      <td>0.333333</td>\n",
       "      <td>0.471405</td>\n",
       "    </tr>\n",
       "  </tbody>\n",
       "</table>\n",
       "</div>"
      ],
      "text/plain": [
       "   members  vehicles       status  mean_rownans  std_rownans\n",
       "0      2.0  mercedes  middleclass      0.000000     0.000000\n",
       "1      NaN  mercedes  middleclass      0.333333     0.471405\n",
       "2      3.0      Audi          NaN      0.333333     0.471405"
      ]
     },
     "execution_count": 22,
     "metadata": {},
     "output_type": "execute_result"
    }
   ],
   "source": [
    "%%time\n",
    "_nan_rowfeatures(df_cars)"
   ]
  },
  {
   "cell_type": "code",
   "execution_count": 23,
   "metadata": {},
   "outputs": [
    {
     "name": "stdout",
     "output_type": "stream",
     "text": [
      "CPU times: user 8 ms, sys: 0 ns, total: 8 ms\n",
      "Wall time: 10.2 ms\n"
     ]
    },
    {
     "data": {
      "text/html": [
       "<div>\n",
       "<style scoped>\n",
       "    .dataframe tbody tr th:only-of-type {\n",
       "        vertical-align: middle;\n",
       "    }\n",
       "\n",
       "    .dataframe tbody tr th {\n",
       "        vertical-align: top;\n",
       "    }\n",
       "\n",
       "    .dataframe thead th {\n",
       "        text-align: right;\n",
       "    }\n",
       "</style>\n",
       "<table border=\"1\" class=\"dataframe\">\n",
       "  <thead>\n",
       "    <tr style=\"text-align: right;\">\n",
       "      <th></th>\n",
       "      <th>members</th>\n",
       "      <th>vehicles</th>\n",
       "      <th>status</th>\n",
       "      <th>mean_rownans</th>\n",
       "      <th>std_rownans</th>\n",
       "    </tr>\n",
       "  </thead>\n",
       "  <tbody>\n",
       "    <tr>\n",
       "      <td>0</td>\n",
       "      <td>2.0</td>\n",
       "      <td>mercedes</td>\n",
       "      <td>middleclass</td>\n",
       "      <td>0.000000</td>\n",
       "      <td>0.000000</td>\n",
       "    </tr>\n",
       "    <tr>\n",
       "      <td>1</td>\n",
       "      <td>NaN</td>\n",
       "      <td>mercedes</td>\n",
       "      <td>middleclass</td>\n",
       "      <td>0.333333</td>\n",
       "      <td>0.433013</td>\n",
       "    </tr>\n",
       "    <tr>\n",
       "      <td>2</td>\n",
       "      <td>3.0</td>\n",
       "      <td>Audi</td>\n",
       "      <td>NaN</td>\n",
       "      <td>0.333333</td>\n",
       "      <td>0.433013</td>\n",
       "    </tr>\n",
       "  </tbody>\n",
       "</table>\n",
       "</div>"
      ],
      "text/plain": [
       "   members  vehicles       status  mean_rownans  std_rownans\n",
       "0      2.0  mercedes  middleclass      0.000000     0.000000\n",
       "1      NaN  mercedes  middleclass      0.333333     0.433013\n",
       "2      3.0      Audi          NaN      0.333333     0.433013"
      ]
     },
     "execution_count": 23,
     "metadata": {},
     "output_type": "execute_result"
    }
   ],
   "source": [
    "%%time\n",
    "nan_rowfeatures(df_cars)"
   ]
  },
  {
   "cell_type": "code",
   "execution_count": 24,
   "metadata": {},
   "outputs": [
    {
     "data": {
      "text/html": [
       "<div>\n",
       "<style scoped>\n",
       "    .dataframe tbody tr th:only-of-type {\n",
       "        vertical-align: middle;\n",
       "    }\n",
       "\n",
       "    .dataframe tbody tr th {\n",
       "        vertical-align: top;\n",
       "    }\n",
       "\n",
       "    .dataframe thead th {\n",
       "        text-align: right;\n",
       "    }\n",
       "</style>\n",
       "<table border=\"1\" class=\"dataframe\">\n",
       "  <thead>\n",
       "    <tr style=\"text-align: right;\">\n",
       "      <th></th>\n",
       "      <th>members</th>\n",
       "      <th>vehicles</th>\n",
       "      <th>status</th>\n",
       "      <th>mean_rownans</th>\n",
       "      <th>mean_rownans_l1_to_mode</th>\n",
       "      <th>mean_rownans_l2_to_mode</th>\n",
       "      <th>std_rownans</th>\n",
       "      <th>std_rownans_l1_to_mode</th>\n",
       "      <th>std_rownans_l2_to_mode</th>\n",
       "    </tr>\n",
       "  </thead>\n",
       "  <tbody>\n",
       "    <tr>\n",
       "      <td>0</td>\n",
       "      <td>2.0</td>\n",
       "      <td>mercedes</td>\n",
       "      <td>middleclass</td>\n",
       "      <td>0.000000</td>\n",
       "      <td>0.333333</td>\n",
       "      <td>0.111111</td>\n",
       "      <td>0.000000</td>\n",
       "      <td>0.372678</td>\n",
       "      <td>0.138889</td>\n",
       "    </tr>\n",
       "    <tr>\n",
       "      <td>1</td>\n",
       "      <td>NaN</td>\n",
       "      <td>mercedes</td>\n",
       "      <td>middleclass</td>\n",
       "      <td>0.333333</td>\n",
       "      <td>0.000000</td>\n",
       "      <td>0.000000</td>\n",
       "      <td>0.372678</td>\n",
       "      <td>0.000000</td>\n",
       "      <td>0.000000</td>\n",
       "    </tr>\n",
       "    <tr>\n",
       "      <td>2</td>\n",
       "      <td>3.0</td>\n",
       "      <td>Audi</td>\n",
       "      <td>NaN</td>\n",
       "      <td>0.333333</td>\n",
       "      <td>0.000000</td>\n",
       "      <td>0.000000</td>\n",
       "      <td>0.372678</td>\n",
       "      <td>0.000000</td>\n",
       "      <td>0.000000</td>\n",
       "    </tr>\n",
       "  </tbody>\n",
       "</table>\n",
       "</div>"
      ],
      "text/plain": [
       "   members  vehicles       status  mean_rownans  mean_rownans_l1_to_mode  \\\n",
       "0      2.0  mercedes  middleclass      0.000000                 0.333333   \n",
       "1      NaN  mercedes  middleclass      0.333333                 0.000000   \n",
       "2      3.0      Audi          NaN      0.333333                 0.000000   \n",
       "\n",
       "   mean_rownans_l2_to_mode  std_rownans  std_rownans_l1_to_mode  \\\n",
       "0                 0.111111     0.000000                0.372678   \n",
       "1                 0.000000     0.372678                0.000000   \n",
       "2                 0.000000     0.372678                0.000000   \n",
       "\n",
       "   std_rownans_l2_to_mode  \n",
       "0                0.138889  \n",
       "1                0.000000  \n",
       "2                0.000000  "
      ]
     },
     "execution_count": 24,
     "metadata": {},
     "output_type": "execute_result"
    }
   ],
   "source": [
    "nan_rowfeatures(df_cars, distances=True)"
   ]
  },
  {
   "cell_type": "markdown",
   "metadata": {},
   "source": [
    "# Substitute `np.NaN` by other values: `MissingImputer` class"
   ]
  },
  {
   "cell_type": "code",
   "execution_count": 26,
   "metadata": {},
   "outputs": [],
   "source": [
    "from sklearn.base import BaseEstimator, TransformerMixin\n"
   ]
  },
  {
   "cell_type": "code",
   "execution_count": 81,
   "metadata": {},
   "outputs": [],
   "source": [
    "\n",
    "class _MissingImputer(BaseEstimator, TransformerMixin):\n",
    "    '''\n",
    "    `MissingImputer` implements a `fit` and `transform` methods that enable replacing np.NaN values by numerical values.\n",
    "\n",
    "    This class uses an insane amount of RAM.\n",
    "    '''\n",
    "    def __init__(self, treatment=\"mean\"):\n",
    "        self._allowed_treatments = [\"fixed_value\", \"mean\",'median','mode','None',\"most_frequent\"]     \n",
    "        assert treatment in self._allowed_treatments or isinstance(treatment,(int,float)),  \"the treatment introduced {} is not valid. Please use one in {}\".format(treatment, self._allowed_treatments)\n",
    "        self.treatment = treatment\n",
    "    \n",
    "    def fit(self, X, y):\n",
    "        \"\"\"\n",
    "        Learns statistics to impute nans.\n",
    "        \"\"\"\n",
    "        \n",
    "        if self.treatment == \"mean\" or self.treatment==None:\n",
    "            self.treatment_method = sklearn.impute.SimpleImputer(missing_values=np.nan, strategy='mean')\n",
    "        elif self.treatment == \"median\":\n",
    "            self.treatment_method = sklearn.impute.SimpleImputer(missing_values=np.nan, strategy='median')\n",
    "        elif self.treatment == \"most_frequent\":\n",
    "            self.treatment_method = sklearn.impute.SimpleImputer(missing_values=np.nan, strategy='most_frequent')\n",
    "        elif isinstance(self.treatment, (int,float)):\n",
    "            self.treatment_method = sklearn.impute.SimpleImputer(missing_values=np.nan,\n",
    "                                                                 strategy=\"constant\",fill_value=self.treatment)       \n",
    "        \n",
    "        if isinstance(X, np.ndarray):   \n",
    "            self.treatment_method.fit(X)\n",
    "            \n",
    "        if isinstance(X, pd.DataFrame):       \n",
    "            self.treatment_method.fit(X.values)\n",
    "        \n",
    "        return self\n",
    "\n",
    "    def transform(self, X):\n",
    "        if self.treatment==None:\n",
    "            return X\n",
    "        return self.treatment_method.transform(X)\n",
    "\n"
   ]
  },
  {
   "cell_type": "code",
   "execution_count": 383,
   "metadata": {},
   "outputs": [],
   "source": [
    "import sklearn\n",
    "from sklearn import *\n",
    "d = sklearn.datasets.load_iris()\n",
    "X, y = d[\"data\"], d[\"target\"]\n",
    "\n",
    "X[0,0] = np.NaN\n",
    "X[2,3] = np.NaN\n",
    "X[0,2] = np.NaN"
   ]
  },
  {
   "cell_type": "code",
   "execution_count": 384,
   "metadata": {},
   "outputs": [
    {
     "data": {
      "text/plain": [
       "array([[nan, 3.5, nan, 0.2],\n",
       "       [4.9, 3. , 1.4, 0.2],\n",
       "       [4.7, 3.2, 1.3, nan]])"
      ]
     },
     "execution_count": 384,
     "metadata": {},
     "output_type": "execute_result"
    }
   ],
   "source": [
    "X[0:3]"
   ]
  },
  {
   "cell_type": "code",
   "execution_count": 385,
   "metadata": {},
   "outputs": [
    {
     "data": {
      "text/plain": [
       "array([[5.84832215, 3.5       , 3.7738255 , 0.2       ],\n",
       "       [4.9       , 3.        , 1.4       , 0.2       ],\n",
       "       [4.7       , 3.2       , 1.3       , 1.20604027]])"
      ]
     },
     "execution_count": 385,
     "metadata": {},
     "output_type": "execute_result"
    }
   ],
   "source": [
    "imputer = _MissingImputer(treatment=\"mean\")\n",
    "imputer.fit(X,y)\n",
    "imputer.transform(X)[0:3]"
   ]
  },
  {
   "cell_type": "code",
   "execution_count": 386,
   "metadata": {},
   "outputs": [
    {
     "data": {
      "text/plain": [
       "array([[5.8, 3.5, 4.4, 0.2],\n",
       "       [4.9, 3. , 1.4, 0.2],\n",
       "       [4.7, 3.2, 1.3, 1.3]])"
      ]
     },
     "execution_count": 386,
     "metadata": {},
     "output_type": "execute_result"
    }
   ],
   "source": [
    "imputer = _MissingImputer(treatment=\"median\")\n",
    "imputer.fit(X,y)\n",
    "imputer.transform(X)[0:3]"
   ]
  },
  {
   "cell_type": "code",
   "execution_count": 387,
   "metadata": {},
   "outputs": [
    {
     "data": {
      "text/plain": [
       "array([[5. , 3.5, 1.5, 0.2],\n",
       "       [4.9, 3. , 1.4, 0.2],\n",
       "       [4.7, 3.2, 1.3, 0.2]])"
      ]
     },
     "execution_count": 387,
     "metadata": {},
     "output_type": "execute_result"
    }
   ],
   "source": [
    "imputer = _MissingImputer(treatment=\"most_frequent\")\n",
    "imputer.fit(X,y)\n",
    "imputer.transform(X)[0:3]"
   ]
  },
  {
   "cell_type": "code",
   "execution_count": 388,
   "metadata": {},
   "outputs": [
    {
     "name": "stdout",
     "output_type": "stream",
     "text": [
      "778 µs ± 39.7 µs per loop (mean ± std. dev. of 7 runs, 1000 loops each)\n"
     ]
    }
   ],
   "source": [
    "%%timeit\n",
    "imputer = _MissingImputer(treatment=\"most_frequent\")\n",
    "imputer.fit(X,y)"
   ]
  },
  {
   "cell_type": "markdown",
   "metadata": {},
   "source": [
    "##### Improving MissingImputer"
   ]
  },
  {
   "cell_type": "code",
   "execution_count": 391,
   "metadata": {},
   "outputs": [],
   "source": [
    "\n",
    "class NaNTransformer():\n",
    "    def __init__(self, reducer=stats.mode):\n",
    "        self.reducer = reducer\n",
    "        self.col_id  = None \n",
    "        \n",
    "    def fit(self, X_col, col_id):\n",
    "        self.col_id = col_id\n",
    "        self.learned_value = self.reducer(X_col)[0]\n",
    "        \n",
    "    def transform(self, X_col):\n",
    "        X_col[np.isnan(X_col)] = self.learned_value\n",
    "        return X_col\n",
    "\n",
    "def itercols(X):\n",
    "    \n",
    "    if isinstance(X, np.ndarray):\n",
    "        for i in range(X.shape[1]):\n",
    "            yield i, X[:,i]\n",
    "            \n",
    "    if isinstance(X, pd.DataFrame):\n",
    "        for colname in X:\n",
    "            yield colname, X[colname]  \n",
    "        \n",
    "        \n",
    "class MissingImputer(BaseEstimator, TransformerMixin):\n",
    "    '''\n",
    "    `MissingImputer` implements a `fit` and `transform` methods that enable replacing np.NaN values by numerical values.\n",
    "\n",
    "    This class less RAM han _MissingImputer\n",
    "    '''\n",
    "    def __init__(self, treatment=stats.mode):\n",
    "        self._allowed_treatments = [np.mean, np.median, stats.mode]     \n",
    "        assert treatment in self._allowed_treatments or isinstance(treatment,(int,float)),  \"the treatment introduced {} is not valid. Please use one in {}\".format(treatment, self._allowed_treatments)\n",
    "        self.treatment = treatment\n",
    "    \n",
    "    def fit(self, X, y):\n",
    "        \"\"\"\n",
    "        Learns statistics to impute nans.\n",
    "        \"\"\"\n",
    "        \n",
    "        col_transformers = {}\n",
    "        \n",
    "        for col_id, X_col in itercols(X):\n",
    "            nan_transformer = NaNTransformer(reducer=self.treatment) \n",
    "            nan_transformer.fit(X_col, col_id = col_id)\n",
    "            col_transformers[col_id] = nan_transformer            \n",
    "                \n",
    "        self.col_transformers = col_transformers\n",
    "        return self\n",
    "\n",
    "    def transform(self, X):\n",
    "        \n",
    "        if self.treatment==None:\n",
    "            return X\n",
    "        \n",
    "        for col_id, X_col in itercols(X):\n",
    "            X_col = self.col_transformers[col_id].transform(X_col)\n",
    "            \n",
    "        return X\n",
    "\n"
   ]
  },
  {
   "cell_type": "code",
   "execution_count": 392,
   "metadata": {},
   "outputs": [],
   "source": [
    "import sklearn\n",
    "from sklearn import *\n",
    "d = sklearn.datasets.load_iris()\n",
    "X, y = d[\"data\"], d[\"target\"]\n",
    "\n",
    "X[0,0] = np.NaN\n",
    "X[2,3] = np.NaN\n",
    "X[0,2] = np.NaN"
   ]
  },
  {
   "cell_type": "code",
   "execution_count": 393,
   "metadata": {},
   "outputs": [
    {
     "data": {
      "text/plain": [
       "array([[nan, 3.5, nan, 0.2],\n",
       "       [4.9, 3. , 1.4, 0.2],\n",
       "       [4.7, 3.2, 1.3, nan],\n",
       "       [4.6, 3.1, 1.5, 0.2]])"
      ]
     },
     "execution_count": 393,
     "metadata": {},
     "output_type": "execute_result"
    }
   ],
   "source": [
    "X[0:4]"
   ]
  },
  {
   "cell_type": "code",
   "execution_count": 394,
   "metadata": {},
   "outputs": [],
   "source": [
    "imputer = MissingImputer()"
   ]
  },
  {
   "cell_type": "code",
   "execution_count": 395,
   "metadata": {},
   "outputs": [
    {
     "data": {
      "text/plain": [
       "MissingImputer(treatment=<function mode at 0x7f13601ca598>)"
      ]
     },
     "execution_count": 395,
     "metadata": {},
     "output_type": "execute_result"
    }
   ],
   "source": [
    "imputer.fit(X,y)"
   ]
  },
  {
   "cell_type": "code",
   "execution_count": 396,
   "metadata": {},
   "outputs": [
    {
     "data": {
      "text/plain": [
       "{0: <__main__.NaNTransformer at 0x7f135a6abf28>,\n",
       " 1: <__main__.NaNTransformer at 0x7f135a6abc50>,\n",
       " 2: <__main__.NaNTransformer at 0x7f135a6abb38>,\n",
       " 3: <__main__.NaNTransformer at 0x7f135a6a5668>}"
      ]
     },
     "execution_count": 396,
     "metadata": {},
     "output_type": "execute_result"
    }
   ],
   "source": [
    "imputer.col_transformers"
   ]
  },
  {
   "cell_type": "code",
   "execution_count": 397,
   "metadata": {},
   "outputs": [
    {
     "name": "stdout",
     "output_type": "stream",
     "text": [
      "489 µs ± 25.5 µs per loop (mean ± std. dev. of 7 runs, 1000 loops each)\n"
     ]
    }
   ],
   "source": [
    "%%timeit\n",
    "imputer = MissingImputer(treatment=stats.mode)\n",
    "imputer.fit(X,y)\n",
    "\n",
    "a = imputer.transform(X)"
   ]
  },
  {
   "cell_type": "code",
   "execution_count": null,
   "metadata": {},
   "outputs": [],
   "source": []
  },
  {
   "cell_type": "code",
   "execution_count": null,
   "metadata": {},
   "outputs": [],
   "source": []
  },
  {
   "cell_type": "code",
   "execution_count": null,
   "metadata": {},
   "outputs": [],
   "source": []
  },
  {
   "cell_type": "markdown",
   "metadata": {},
   "source": [
    "# Make new columns from a series containing lists\n",
    "\n",
    "Column `vehicles` contains lists with different vehicle names. Let us assume we consider this feature to be a list or the ordered vehicles a family has.\n",
    "\n",
    "For example: Family 0 has 2 vehicles, and the most used one is a Mercedes, then a Toyota.\n",
    "\n",
    "Now we want to create 3 features from this column: `vehicle_1`, `vehicle_2`, `vehicle_3` and write the different\n",
    "models in the corresponding columns"
   ]
  },
  {
   "cell_type": "code",
   "execution_count": null,
   "metadata": {},
   "outputs": [],
   "source": [
    "df_cars = pd.DataFrame([[2,[\"mercedes\",\"toyota\",None],\"middleclass\"], \n",
    "                        [3,[\"Renault\",\"Mercedes\",None],\"middleclass\"],\n",
    "                        [3,[\"Audi\",\"Mercedes\",\"Tesla\"],\"uppermiddleclass\"]],\n",
    "                        columns= [\"members\",\"vehicles\",\"status\"])\n",
    "\n",
    "df_cars"
   ]
  },
  {
   "cell_type": "code",
   "execution_count": null,
   "metadata": {},
   "outputs": [],
   "source": [
    "def proc_df_collist(df: pd.DataFrame, colname: str, inplace=False):\n",
    "    \"\"\"\n",
    "    \n",
    "    `proc_df_collist` takes a dataframe and a column made of lists and generates new columns containing\n",
    "    values from the lists. For each position in the list it generates a new column. The nimber of generated\n",
    "    columns equals the length of the largest list in `df[colname]`. Each new collumn  k is filled\n",
    "    with the values of the lists at position k. If the value does not exist (because the position does not exist)\n",
    "    the position is filled with `NaN`. \n",
    "    \n",
    "    Given `df`  and `colname`, create as many new columns as `len(df[colname].iloc[0])`\n",
    "    Write in column `colname_k[j]` the value found `df[colname].iloc[j][k]`.\n",
    "    \n",
    "    \n",
    "    Examples:\n",
    "    ---------\n",
    "    >>> df = pd.DataFrame([[2,[\"p\",\"b\",None]], \n",
    "                   [3,[\"a\",\"c\",None]],\n",
    "                  [3,[\"d\",\"w\",\"a\"]]],columns= [\"first\",\"second\"])\n",
    "                  \n",
    "    >>> df\n",
    "    \n",
    "       first        second\n",
    "    0      2  [p, b, None]\n",
    "    1      3  [a, c, None]\n",
    "    2      3     [d, w, a]\n",
    "\n",
    "    >>> newcols = proc_df_collist(df, \"second\")\n",
    "\n",
    "    >>> newcols\n",
    "          second_0 second_1 second_2\n",
    "    0        p        b     None\n",
    "    1        a        c     None\n",
    "    2        d        w        a\n",
    "\n",
    "    \n",
    "    >>> df2 = pd.DataFrame([[2,[\"p\"]], \n",
    "                   [3,[\"a\",2,3]],\n",
    "                   [3,[4]]],columns= [\"A\",\"B\"])\n",
    "                   \n",
    "    >>> df2\n",
    "       A          B\n",
    "    0  2        [p]\n",
    "    1  3  [a, 2, 3]\n",
    "    2  3        [4]\n",
    "\n",
    "    >>> proc_df_collist(df2, \"B\")\n",
    "\n",
    "      B_0  B_1  B_2\n",
    "    0   p  NaN  NaN\n",
    "    1   a  2.0  3.0\n",
    "    2   4  NaN  NaN\n",
    "\n",
    "    \"\"\"\n",
    "    assert isinstance(df, pd.DataFrame), \"type(df)={} but it should be pd.DataFrame\".format(type(df))\n",
    "    assert isinstance(colname, str), \"type(columname)={} but it should be str\".format(type(str))\n",
    "    assert isinstance(df[colname].iloc[0],(list,set, np.ndarray)), \"type(df[colname].iloc[0])={} but it, should be in [list, set, np.ndarray]\".format(type(df[colname].iloc[0]))\n",
    "    \n",
    "    \n",
    "    #n_new_cols = len(df[colname].iloc[0])\n",
    "    n_new_cols = df[colname].apply(len).max()\n",
    "    colnames   = [colname + \"_\" + str(i) for i in range(n_new_cols)]   \n",
    "    \n",
    "    return pd.DataFrame(df[colname].tolist(), columns=colnames)"
   ]
  },
  {
   "cell_type": "code",
   "execution_count": null,
   "metadata": {},
   "outputs": [],
   "source": [
    "df = pd.DataFrame([[2,[\"p\",\"b\",None]], \n",
    "                   [3,[\"a\",\"c\",None]],\n",
    "                   [3,[\"d\",\"w\",\"a\"]]],columns= [\"first\",\"second\"])\n"
   ]
  },
  {
   "cell_type": "code",
   "execution_count": null,
   "metadata": {
    "scrolled": false
   },
   "outputs": [],
   "source": [
    "df"
   ]
  },
  {
   "cell_type": "code",
   "execution_count": null,
   "metadata": {},
   "outputs": [],
   "source": [
    "proc_df_collist(df, \"second\")"
   ]
  },
  {
   "cell_type": "markdown",
   "metadata": {},
   "source": [
    "If the column passed to `proc_df_collist` contains iterables with different sizes then it will generate as many colums as the longest iterable. Then it will fill with `NaN`  positions where we don't have information"
   ]
  },
  {
   "cell_type": "code",
   "execution_count": null,
   "metadata": {},
   "outputs": [],
   "source": [
    "df2 = pd.DataFrame([[2,[\"p\"]], \n",
    "                   [3,[\"a\",2,3]],\n",
    "                   [3,[4]]],columns= [\"A\",\"B\"])"
   ]
  },
  {
   "cell_type": "code",
   "execution_count": null,
   "metadata": {
    "scrolled": true
   },
   "outputs": [],
   "source": [
    "proc_df_collist(df2, \"B\")"
   ]
  },
  {
   "cell_type": "code",
   "execution_count": null,
   "metadata": {},
   "outputs": [],
   "source": []
  },
  {
   "cell_type": "code",
   "execution_count": null,
   "metadata": {},
   "outputs": [],
   "source": []
  },
  {
   "cell_type": "code",
   "execution_count": null,
   "metadata": {},
   "outputs": [],
   "source": []
  },
  {
   "cell_type": "code",
   "execution_count": null,
   "metadata": {},
   "outputs": [],
   "source": []
  },
  {
   "cell_type": "code",
   "execution_count": null,
   "metadata": {},
   "outputs": [],
   "source": []
  }
 ],
 "metadata": {
  "kernelspec": {
   "display_name": "Python 3",
   "language": "python",
   "name": "python3"
  },
  "language_info": {
   "codemirror_mode": {
    "name": "ipython",
    "version": 3
   },
   "file_extension": ".py",
   "mimetype": "text/x-python",
   "name": "python",
   "nbconvert_exporter": "python",
   "pygments_lexer": "ipython3",
   "version": "3.6.9"
  },
  "toc": {
   "base_numbering": 1,
   "nav_menu": {},
   "number_sections": true,
   "sideBar": true,
   "skip_h1_title": false,
   "title_cell": "Table of Contents",
   "title_sidebar": "Contents",
   "toc_cell": true,
   "toc_position": {},
   "toc_section_display": true,
   "toc_window_display": false
  }
 },
 "nbformat": 4,
 "nbformat_minor": 2
}

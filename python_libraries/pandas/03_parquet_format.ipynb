{
 "cells": [
  {
   "cell_type": "code",
   "execution_count": 4,
   "id": "db43e00d",
   "metadata": {},
   "outputs": [],
   "source": [
    "import numpy as np\n",
    "import pandas as pd\n",
    "\n",
    "import pyarrow\n",
    "import pyarrow as pa\n",
    "import pyarrow.compute as pc\n",
    "import pyarrow.parquet as pq"
   ]
  },
  {
   "cell_type": "markdown",
   "id": "b9b7ae04",
   "metadata": {},
   "source": [
    "## Using pyarrow to load, and store parquet files"
   ]
  },
  {
   "cell_type": "markdown",
   "id": "7b3c9a3b-e6a3-4945-86bd-97d5b2a6fd44",
   "metadata": {},
   "source": [
    "#### `Table.from_pydict`: construct `Table` from python objects"
   ]
  },
  {
   "cell_type": "code",
   "execution_count": 109,
   "id": "eca584ed-c62b-45b0-85d2-267ee4b5037b",
   "metadata": {},
   "outputs": [],
   "source": [
    "n_samples = 10_000_000\n",
    "\n",
    "np.random.seed(123)\n",
    "table = pa.Table.from_pydict({'x': np.random.random(n_samples),\n",
    "                              'y': np.random.randint(0,100,n_samples)})"
   ]
  },
  {
   "cell_type": "code",
   "execution_count": 110,
   "id": "7023dd74-0f17-490c-aa5b-ce9334be2e28",
   "metadata": {},
   "outputs": [
    {
     "data": {
      "text/plain": [
       "pyarrow.Table\n",
       "x: double\n",
       "y: int64\n",
       "----\n",
       "x: [[0.6964691855978616,0.28613933495037946,0.2268514535642031,0.5513147690828912,0.7194689697855631,...,0.2227801784298663,0.35029537651321796,0.4517732802081661,0.13689247607521016,0.444361037023138]]\n",
       "y: [[99,61,69,94,44,...,22,83,48,57,61]]"
      ]
     },
     "execution_count": 110,
     "metadata": {},
     "output_type": "execute_result"
    }
   ],
   "source": [
    "table"
   ]
  },
  {
   "cell_type": "markdown",
   "id": "f702d24c-0187-4f1a-989f-2d9bbe07ef4c",
   "metadata": {},
   "source": [
    "#### `Table.write_table`: store a `Table` to disk"
   ]
  },
  {
   "cell_type": "code",
   "execution_count": 111,
   "id": "a9bfcbcf-4a7c-4517-9b6a-786d1f003955",
   "metadata": {},
   "outputs": [],
   "source": [
    "pq.write_table(table, '/tmp/foo.parquet')"
   ]
  },
  {
   "cell_type": "markdown",
   "id": "c70ef326-e361-4997-9840-0280f6373f81",
   "metadata": {},
   "source": [
    "#### `pq.ParquetFile`: Load a parquet as a `Table` "
   ]
  },
  {
   "cell_type": "code",
   "execution_count": 227,
   "id": "8952e368-fa28-4768-864d-3ecd5d5316ec",
   "metadata": {},
   "outputs": [
    {
     "data": {
      "text/plain": [
       "<pyarrow.parquet.core.ParquetFile at 0x7fe221e11ac0>"
      ]
     },
     "execution_count": 227,
     "metadata": {},
     "output_type": "execute_result"
    }
   ],
   "source": [
    "pfile = pq.ParquetFile('/tmp/foo.parquet')\n",
    "pfile"
   ]
  },
  {
   "cell_type": "code",
   "execution_count": 228,
   "id": "1571054e-93f3-49a9-8d43-eadb28117e38",
   "metadata": {},
   "outputs": [
    {
     "name": "stdout",
     "output_type": "stream",
     "text": [
      "84.2 µs ± 506 ns per loop (mean ± std. dev. of 7 runs, 10,000 loops each)\n"
     ]
    }
   ],
   "source": [
    "%timeit pfile = pq.ParquetFile('/tmp/foo.parquet')"
   ]
  },
  {
   "cell_type": "markdown",
   "id": "18f51d36-a208-4a63-a342-b9d8b3092079",
   "metadata": {},
   "source": [
    "#### `ParquetFile.read`: Load a `Table` from a parquet file.\n",
    "\n",
    "To read all groups from a parquet file one can  use `ParquetFile.read`"
   ]
  },
  {
   "cell_type": "code",
   "execution_count": 263,
   "id": "7c85e89a-34f1-4702-a643-e5edad966a8d",
   "metadata": {},
   "outputs": [
    {
     "name": "stdout",
     "output_type": "stream",
     "text": [
      "CPU times: user 66.3 ms, sys: 63.8 ms, total: 130 ms\n",
      "Wall time: 89.3 ms\n"
     ]
    },
    {
     "data": {
      "text/plain": [
       "pyarrow.Table\n",
       "x: double\n",
       "y: int64\n",
       "----\n",
       "x: [[0.6964691855978616,0.28613933495037946,0.2268514535642031,0.5513147690828912,0.7194689697855631,...,0.2227801784298663,0.35029537651321796,0.4517732802081661,0.13689247607521016,0.444361037023138]]\n",
       "y: [[99,61,69,94,44,...,22,83,48,57,61]]"
      ]
     },
     "execution_count": 263,
     "metadata": {},
     "output_type": "execute_result"
    }
   ],
   "source": [
    "%%time\n",
    "pfile = pq.ParquetFile('/tmp/foo.parquet')\n",
    "pfile.read()"
   ]
  },
  {
   "cell_type": "code",
   "execution_count": 266,
   "id": "5a46c93d-3e30-48d8-bacc-5517bc381bbd",
   "metadata": {},
   "outputs": [
    {
     "name": "stdout",
     "output_type": "stream",
     "text": [
      "CPU times: user 106 ms, sys: 53 ms, total: 159 ms\n",
      "Wall time: 97.4 ms\n"
     ]
    }
   ],
   "source": [
    "%%time\n",
    "df = pd.read_parquet('/tmp/foo.parquet')"
   ]
  },
  {
   "cell_type": "code",
   "execution_count": null,
   "id": "fb2034ec-e601-4b4d-a0eb-137524e174d4",
   "metadata": {},
   "outputs": [],
   "source": []
  },
  {
   "cell_type": "code",
   "execution_count": 259,
   "id": "f75c167d-feb2-4fd8-b917-d1321e3e16ba",
   "metadata": {},
   "outputs": [
    {
     "data": {
      "text/plain": [
       "pyarrow.Table\n",
       "x: double\n",
       "y: int64\n",
       "----\n",
       "x: [[0.6964691855978616,0.28613933495037946,0.2268514535642031,0.5513147690828912,0.7194689697855631,...,0.2227801784298663,0.35029537651321796,0.4517732802081661,0.13689247607521016,0.444361037023138]]\n",
       "y: [[99,61,69,94,44,...,22,83,48,57,61]]"
      ]
     },
     "execution_count": 259,
     "metadata": {},
     "output_type": "execute_result"
    }
   ],
   "source": []
  },
  {
   "cell_type": "code",
   "execution_count": null,
   "id": "2986f4df-e8fe-4fde-ba13-e4b77058265a",
   "metadata": {},
   "outputs": [],
   "source": []
  },
  {
   "cell_type": "code",
   "execution_count": 243,
   "id": "6181835c-b78b-4ac6-969e-303128275211",
   "metadata": {},
   "outputs": [
    {
     "data": {
      "text/plain": [
       "10000000"
      ]
     },
     "execution_count": 243,
     "metadata": {},
     "output_type": "execute_result"
    }
   ],
   "source": [
    "len(pfile.read())"
   ]
  },
  {
   "cell_type": "code",
   "execution_count": null,
   "id": "7dc765bb-0f1f-45c1-aaaf-ae4ab9c031ae",
   "metadata": {},
   "outputs": [],
   "source": [
    "pfile.read()"
   ]
  },
  {
   "cell_type": "markdown",
   "id": "2d084ba0-6f66-40d7-8e7a-b27bf812f9d4",
   "metadata": {},
   "source": [
    "#### `ParquetFile.read_row_group`: Load a `Table` from a parquet file.\n",
    "\n",
    "Because we did not set up a `row_group_size` when we stored the `.parquet` file it took the default value of `1024 * 1024` values per group."
   ]
  },
  {
   "cell_type": "code",
   "execution_count": 175,
   "id": "f202ed87-a12c-4331-bf50-1becefd17bf2",
   "metadata": {},
   "outputs": [
    {
     "name": "stdout",
     "output_type": "stream",
     "text": [
      "3.08 ms ± 26.9 µs per loop (mean ± std. dev. of 7 runs, 100 loops each)\n"
     ]
    }
   ],
   "source": [
    "%timeit row_group = pfile.read_row_group(0)"
   ]
  },
  {
   "cell_type": "code",
   "execution_count": 171,
   "id": "f9f3e1e1-78d6-4c65-a630-d5ca49a1931d",
   "metadata": {},
   "outputs": [
    {
     "data": {
      "text/plain": [
       "pyarrow.Table\n",
       "x: double\n",
       "y: int64\n",
       "----\n",
       "x: [[0.6964691855978616,0.28613933495037946,0.2268514535642031,0.5513147690828912,0.7194689697855631,...,0.2227801784298663,0.35029537651321796,0.4517732802081661,0.13689247607521016,0.444361037023138]]\n",
       "y: [[99,61,69,94,44,...,22,83,48,57,61]]"
      ]
     },
     "execution_count": 171,
     "metadata": {},
     "output_type": "execute_result"
    }
   ],
   "source": [
    "row_group"
   ]
  },
  {
   "cell_type": "code",
   "execution_count": 179,
   "id": "bef05f71-b2c0-4182-8170-99e31178dc53",
   "metadata": {},
   "outputs": [],
   "source": [
    "row_group = pfile.read_row_group(0)"
   ]
  },
  {
   "cell_type": "code",
   "execution_count": 180,
   "id": "1c4d787b-370c-426a-8832-581efc4039f8",
   "metadata": {},
   "outputs": [
    {
     "data": {
      "text/plain": [
       "1048576"
      ]
     },
     "execution_count": 180,
     "metadata": {},
     "output_type": "execute_result"
    }
   ],
   "source": [
    "len(row_group)"
   ]
  },
  {
   "cell_type": "markdown",
   "id": "287e2506-9df3-4100-9efc-d62a273c046e",
   "metadata": {},
   "source": [
    "Note that the lenght of the row_group might not be the same as the length of the stored file"
   ]
  },
  {
   "cell_type": "code",
   "execution_count": 181,
   "id": "b8c525d7-ab98-44fc-83e2-82f9832ec183",
   "metadata": {},
   "outputs": [
    {
     "data": {
      "text/plain": [
       "1048576"
      ]
     },
     "execution_count": 181,
     "metadata": {},
     "output_type": "execute_result"
    }
   ],
   "source": [
    "len(row_group)"
   ]
  },
  {
   "cell_type": "markdown",
   "id": "ff3f7f1c-6464-4300-944e-757975cb6a26",
   "metadata": {},
   "source": [
    "#### `ParquetFile.read_row_groups([0,1,2,..])`: read a list of groups from a parquet\n",
    "\n",
    "You can read more than a single gorup as follows:"
   ]
  },
  {
   "cell_type": "code",
   "execution_count": 247,
   "id": "50ebc3a4-f74f-434f-b051-7d330d2a0dd1",
   "metadata": {},
   "outputs": [
    {
     "name": "stdout",
     "output_type": "stream",
     "text": [
      "10000000\n"
     ]
    }
   ],
   "source": [
    "pfile = pq.ParquetFile('/tmp/foo.parquet')\n",
    "row_groups = pfile.read_row_groups([0,1,2,3,4,5,6,7,8,9])\n",
    "print(len(row_groups))"
   ]
  },
  {
   "cell_type": "markdown",
   "id": "1017294a-4e19-41aa-a861-2584d7357853",
   "metadata": {},
   "source": [
    "To know how many groups a `ParquetFile` has one can use `.num_row_groups`"
   ]
  },
  {
   "cell_type": "code",
   "execution_count": 230,
   "id": "57431548-a544-43b5-8dcd-dc6936e54f35",
   "metadata": {},
   "outputs": [
    {
     "data": {
      "text/plain": [
       "10"
      ]
     },
     "execution_count": 230,
     "metadata": {},
     "output_type": "execute_result"
    }
   ],
   "source": [
    "pfile.num_row_groups"
   ]
  },
  {
   "cell_type": "code",
   "execution_count": 231,
   "id": "e75a7ddb-fe45-4dca-87d0-91389d98288b",
   "metadata": {},
   "outputs": [
    {
     "data": {
      "text/plain": [
       "10000000"
      ]
     },
     "execution_count": 231,
     "metadata": {},
     "output_type": "execute_result"
    }
   ],
   "source": [
    "len(pfile.read())"
   ]
  },
  {
   "cell_type": "markdown",
   "id": "dda537d2-dc23-4a46-90cd-b44a6cc5ea4b",
   "metadata": {},
   "source": [
    "#### `Table.take` method: select row positions of a table"
   ]
  },
  {
   "cell_type": "code",
   "execution_count": 141,
   "id": "ebdb13a3-772f-488e-a774-0dfc9f7003a5",
   "metadata": {},
   "outputs": [
    {
     "data": {
      "text/plain": [
       "pyarrow.Table\n",
       "x: double\n",
       "y: int64\n",
       "----\n",
       "x: [[0.6964691855978616,0.2268514535642031]]\n",
       "y: [[99,69]]"
      ]
     },
     "execution_count": 141,
     "metadata": {},
     "output_type": "execute_result"
    }
   ],
   "source": [
    "# Assuming you want indices 0,2.  This is just an example\n",
    "row_group.take([0, 2])"
   ]
  },
  {
   "cell_type": "markdown",
   "id": "8b84968e-1fa2-4ed6-89c5-4bd6aa919d7b",
   "metadata": {},
   "source": [
    "### Comparing slicing time in `pd.DataFrame` vs `Table`\n",
    "\n",
    "It is faster to slice a `Table` with respect to a `pd.DataFrame`"
   ]
  },
  {
   "cell_type": "code",
   "execution_count": 142,
   "id": "e846b106",
   "metadata": {},
   "outputs": [],
   "source": [
    "df = table.to_pandas()\n",
    "np.random.seed(123)\n",
    "indices = np.random.permutation(n_samples)[0:100]"
   ]
  },
  {
   "cell_type": "code",
   "execution_count": 143,
   "id": "dd799666",
   "metadata": {},
   "outputs": [
    {
     "name": "stdout",
     "output_type": "stream",
     "text": [
      "48.3 µs ± 545 ns per loop (mean ± std. dev. of 7 runs, 10,000 loops each)\n"
     ]
    }
   ],
   "source": [
    "%timeit df.iloc[indices]"
   ]
  },
  {
   "cell_type": "code",
   "execution_count": 144,
   "id": "88064aac",
   "metadata": {},
   "outputs": [
    {
     "name": "stdout",
     "output_type": "stream",
     "text": [
      "14.6 µs ± 51.2 ns per loop (mean ± std. dev. of 7 runs, 100,000 loops each)\n"
     ]
    }
   ],
   "source": [
    "%timeit row_group.take(indices)"
   ]
  },
  {
   "cell_type": "markdown",
   "id": "238199da-f3e2-4194-8e59-ddac159030ff",
   "metadata": {},
   "source": [
    "Therefore, if you want to load a parquet, get an slice, and then store the slice to disk you can do so without the need to read a `pd.DataFrame`"
   ]
  },
  {
   "cell_type": "code",
   "execution_count": 234,
   "id": "9660b656",
   "metadata": {},
   "outputs": [
    {
     "data": {
      "text/plain": [
       "pyarrow.Table\n",
       "x: double\n",
       "y: int64\n",
       "----\n",
       "x: [[0.6964691855978616,0.28613933495037946,0.2268514535642031,0.5513147690828912,0.7194689697855631,...,0.4138893037099889,0.431698841312794,0.29363193411649346,0.29617268524932616,0.9376098458389982]]\n",
       "y: [[99,61,69,94,44,...,22,7,50,88,81]]"
      ]
     },
     "execution_count": 234,
     "metadata": {},
     "output_type": "execute_result"
    }
   ],
   "source": [
    "row_group"
   ]
  },
  {
   "cell_type": "markdown",
   "id": "d2ba9edb-45f3-472c-af1b-372674aa0dec",
   "metadata": {},
   "source": [
    "⚠ Note that if we add the time needed to get a pandas dataframe it is more costly to to use `.take(indices).to_pandas()` than directly slicing a pandas dataframe"
   ]
  },
  {
   "cell_type": "code",
   "execution_count": 235,
   "id": "0f1f6bb3-5663-4d23-bd67-4211e7f36f4d",
   "metadata": {},
   "outputs": [
    {
     "name": "stdout",
     "output_type": "stream",
     "text": [
      "346 µs ± 13.7 µs per loop (mean ± std. dev. of 7 runs, 1,000 loops each)\n"
     ]
    }
   ],
   "source": [
    "%timeit row_groups.take(indices).to_pandas()"
   ]
  },
  {
   "cell_type": "code",
   "execution_count": 238,
   "id": "cdc8c67b-3298-4e37-b8cb-70f5a6152020",
   "metadata": {},
   "outputs": [
    {
     "data": {
      "text/plain": [
       "array([0.15493811, 0.44782737, 0.01141741, 0.27452967, 0.73234615,\n",
       "       0.96431421, 0.42475137, 0.30092766, 0.39167553, 0.52504695])"
      ]
     },
     "execution_count": 238,
     "metadata": {},
     "output_type": "execute_result"
    }
   ],
   "source": [
    "row_groups.take(indices)['x'][0:10].to_numpy()"
   ]
  },
  {
   "cell_type": "code",
   "execution_count": 239,
   "id": "527e3a30-b545-4420-95a1-33b93cdf06ee",
   "metadata": {},
   "outputs": [
    {
     "data": {
      "text/plain": [
       "<pyarrow.lib.ChunkedArray object at 0x7fe262feeb30>\n",
       "[\n",
       "  [\n",
       "    0.1549381105527371,\n",
       "    0.4478273673116778,\n",
       "    0.011417409860818184,\n",
       "    0.2745296669043428,\n",
       "    0.7323461513842601,\n",
       "    0.9643142106942402,\n",
       "    0.4247513663397099,\n",
       "    0.30092765766236307,\n",
       "    0.39167552623282553,\n",
       "    0.5250469536801169\n",
       "  ]\n",
       "]"
      ]
     },
     "execution_count": 239,
     "metadata": {},
     "output_type": "execute_result"
    }
   ],
   "source": [
    "row_groups.take(indices)['x'][0:10]"
   ]
  },
  {
   "cell_type": "markdown",
   "id": "34b7fa89-be65-40a7-8849-ff315352aa3c",
   "metadata": {},
   "source": [
    "### Selecting a set of rows of a DataFrame, store the retrieved rows to disk\n",
    "Consider you want to select  some rows of a dataframe based on values of some columns on \n",
    "the dataframe. \n",
    "\n",
    "Consider that doing this sort of  selection only depends on a ver"
   ]
  },
  {
   "cell_type": "code",
   "execution_count": 246,
   "id": "9a38622c",
   "metadata": {},
   "outputs": [],
   "source": [
    "def filter_with_pandas(parquet_path_input, parquet_path_out):\n",
    "    df = pd.read_parquet(parquet_path)\n",
    "    row_bool = df['x'] >= 10\n",
    "    return df[row_bool]\n",
    "\n",
    "def filter_with_pyarrow(parquet_path):    \n",
    "    data = pfile.read()\n",
    "    data['x'] >= 0\n",
    "    pass\n",
    "\n",
    "parquet_file = '/tmp/foo.parquet'\n",
    "parquet_file_out = '/tmp/foo_out.parquet'"
   ]
  },
  {
   "cell_type": "code",
   "execution_count": null,
   "id": "1f4e8fb8-017e-4c56-b0d6-63bdadf62700",
   "metadata": {},
   "outputs": [],
   "source": []
  },
  {
   "cell_type": "code",
   "execution_count": null,
   "id": "ec731a49",
   "metadata": {},
   "outputs": [],
   "source": [
    "pfile = pq.ParquetFile('/tmp/foo.parquet')\n"
   ]
  },
  {
   "cell_type": "code",
   "execution_count": null,
   "id": "621ebf72",
   "metadata": {},
   "outputs": [],
   "source": []
  },
  {
   "cell_type": "code",
   "execution_count": null,
   "id": "a398ad35-d162-4fe7-9137-e538fc04cd57",
   "metadata": {},
   "outputs": [],
   "source": []
  }
 ],
 "metadata": {
  "kernelspec": {
   "display_name": "Python 3 (ipykernel)",
   "language": "python",
   "name": "python3"
  },
  "language_info": {
   "codemirror_mode": {
    "name": "ipython",
    "version": 3
   },
   "file_extension": ".py",
   "mimetype": "text/x-python",
   "name": "python",
   "nbconvert_exporter": "python",
   "pygments_lexer": "ipython3",
   "version": "3.9.12"
  }
 },
 "nbformat": 4,
 "nbformat_minor": 5
}

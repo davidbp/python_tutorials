{
 "cells": [
  {
   "cell_type": "code",
   "execution_count": 83,
   "id": "71885d97-0a74-42f8-b529-8d2f108680a7",
   "metadata": {},
   "outputs": [
    {
     "name": "stdout",
     "output_type": "stream",
     "text": [
      "The memory_profiler extension is already loaded. To reload it, use:\n",
      "  %reload_ext memory_profiler\n",
      "The line_profiler extension is already loaded. To reload it, use:\n",
      "  %reload_ext line_profiler\n"
     ]
    }
   ],
   "source": [
    "import pandas as pd\n",
    "\n",
    "%load_ext memory_profiler\n",
    "%load_ext line_profiler"
   ]
  },
  {
   "cell_type": "markdown",
   "id": "89fb12d0-b21d-409f-a3c8-5b2136578ce5",
   "metadata": {},
   "source": [
    "# Create a Dataframe concatenating other dataframes"
   ]
  },
  {
   "cell_type": "markdown",
   "id": "62c5bdc0-357c-4ed1-a382-c2ab500b6bbc",
   "metadata": {},
   "source": [
    "What is a good strategy to grow incrementally a pandas dataframe in slices?\n",
    "\n",
    "Let us try the following ideas:\n",
    "\n",
    "- Store partial results in a list, then create a dataframe from a list with containing dataframes\n",
    "\n",
    "- Append direcly partial results in a dataframe and return it\n",
    "\n",
    "Conculision: **It is much better to store partial dataframe results in a list and then concatenate them with pd.concat()**"
   ]
  },
  {
   "cell_type": "code",
   "execution_count": 73,
   "id": "ef20b788-3e72-488f-be64-9bc5648401e7",
   "metadata": {},
   "outputs": [],
   "source": [
    "def append_many_df_as_list(initial_df, n=1_000):\n",
    "    res = []\n",
    "    for i in range(n):\n",
    "        res.append(initial_df)\n",
    "    return pd.concat(res)\n",
    "\n",
    "def append_many_df(initial_df, n=1_000):\n",
    "    df_res = pd.DataFrame()\n",
    "    for i in range(n):\n",
    "        df_res = pd.concat((df_res, initial_df))\n",
    "    return df_res.reset_index(drop=True)"
   ]
  },
  {
   "cell_type": "code",
   "execution_count": 74,
   "id": "85bba0d8-ca8a-4b8e-8e02-36419183e9b8",
   "metadata": {},
   "outputs": [],
   "source": [
    "initial_df = pd.DataFrame({'a':[1]*10_000,\n",
    "                           'b':['a']*10_000})"
   ]
  },
  {
   "cell_type": "code",
   "execution_count": 75,
   "id": "9b245750-5463-4d8a-8cad-4d9fa5c64112",
   "metadata": {},
   "outputs": [
    {
     "name": "stdout",
     "output_type": "stream",
     "text": [
      "CPU times: user 34.3 s, sys: 25.5 s, total: 59.7 s\n",
      "Wall time: 1min 1s\n"
     ]
    }
   ],
   "source": [
    "%%time\n",
    "res_1 = append_many_df(initial_df)"
   ]
  },
  {
   "cell_type": "code",
   "execution_count": 76,
   "id": "4ab9c9e4-4ddc-4e9d-bb6b-7237b8a7f436",
   "metadata": {},
   "outputs": [
    {
     "name": "stdout",
     "output_type": "stream",
     "text": [
      "CPU times: user 51.3 ms, sys: 2.99 ms, total: 54.3 ms\n",
      "Wall time: 53.8 ms\n"
     ]
    }
   ],
   "source": [
    "%%time\n",
    "res_2 = append_many_df_as_list(initial_df)"
   ]
  },
  {
   "cell_type": "markdown",
   "id": "104de6c0-e032-430b-ae53-2f9d0649adc5",
   "metadata": {},
   "source": [
    "It is much faster to append partial dataframe results in a list"
   ]
  },
  {
   "cell_type": "code",
   "execution_count": 78,
   "id": "94f3ca8e-9561-4dfb-8618-056a9aedeb8f",
   "metadata": {},
   "outputs": [
    {
     "data": {
      "text/plain": [
       "Timer unit: 1e-06 s\n",
       "\n",
       "Total time: 62.3616 s\n",
       "File: /var/folders/83/gfk1v5cj3hb66glpkyr_wmtc0000gr/T/ipykernel_19478/3730665614.py\n",
       "Function: append_many_df at line 7\n",
       "\n",
       "Line #      Hits         Time  Per Hit   % Time  Line Contents\n",
       "==============================================================\n",
       "     7                                           def append_many_df(initial_df, n=1_000):\n",
       "     8         1       1607.0   1607.0      0.0      df_res = pd.DataFrame()\n",
       "     9      1001       4218.0      4.2      0.0      for i in range(n):\n",
       "    10      1000   62263271.0  62263.3     99.8          df_res = pd.concat((df_res, initial_df))\n",
       "    11         1      92461.0  92461.0      0.1      return df_res.reset_index(drop=True)"
      ]
     },
     "metadata": {},
     "output_type": "display_data"
    }
   ],
   "source": [
    "%lprun -f append_many_df append_many_df(initial_df)"
   ]
  },
  {
   "cell_type": "code",
   "execution_count": 79,
   "id": "3b151315-e064-4882-9879-3770be5c782f",
   "metadata": {},
   "outputs": [
    {
     "data": {
      "text/plain": [
       "Timer unit: 1e-06 s\n",
       "\n",
       "Total time: 0.116299 s\n",
       "File: /var/folders/83/gfk1v5cj3hb66glpkyr_wmtc0000gr/T/ipykernel_19478/3730665614.py\n",
       "Function: append_many_df_as_list at line 1\n",
       "\n",
       "Line #      Hits         Time  Per Hit   % Time  Line Contents\n",
       "==============================================================\n",
       "     1                                           def append_many_df_as_list(initial_df, n=1_000):\n",
       "     2         1          2.0      2.0      0.0      res = []\n",
       "     3      1001        234.0      0.2      0.2      for i in range(n):\n",
       "     4      1000        258.0      0.3      0.2          res.append(initial_df)\n",
       "     5         1     115805.0 115805.0     99.6      return pd.concat(res)"
      ]
     },
     "metadata": {},
     "output_type": "display_data"
    }
   ],
   "source": [
    "%lprun -f append_many_df_as_list append_many_df_as_list(initial_df)"
   ]
  },
  {
   "cell_type": "markdown",
   "id": "537d6bf5-f2e9-4401-8aa1-ed7db0bad362",
   "metadata": {},
   "source": [
    "Let us  profile the memory, we can see that both approaches reach the same amount of peak usage"
   ]
  },
  {
   "cell_type": "code",
   "execution_count": 81,
   "id": "abd47ebe-88c6-48ee-ae1f-8db3286bb18d",
   "metadata": {},
   "outputs": [
    {
     "name": "stdout",
     "output_type": "stream",
     "text": [
      "peak memory: 9284.47 MiB, increment: 427.57 MiB\n"
     ]
    }
   ],
   "source": [
    "%memit append_many_df(initial_df)"
   ]
  },
  {
   "cell_type": "code",
   "execution_count": 82,
   "id": "b7207801-b9c2-420e-ba37-3371c5ccc64b",
   "metadata": {},
   "outputs": [
    {
     "name": "stdout",
     "output_type": "stream",
     "text": [
      "peak memory: 8861.65 MiB, increment: -3.05 MiB\n"
     ]
    }
   ],
   "source": [
    "%memit append_many_df_as_list(initial_df)"
   ]
  },
  {
   "cell_type": "markdown",
   "id": "c60d41fe-c828-4ef5-ac77-8662fe2a52e0",
   "metadata": {},
   "source": [
    "# Read only "
   ]
  },
  {
   "cell_type": "code",
   "execution_count": null,
   "id": "3fdf5f45-1d52-4af2-a79a-1c385bb13613",
   "metadata": {},
   "outputs": [],
   "source": []
  },
  {
   "cell_type": "code",
   "execution_count": null,
   "id": "e84ca684-a9af-455d-88fd-29b33b397faa",
   "metadata": {},
   "outputs": [],
   "source": []
  },
  {
   "cell_type": "code",
   "execution_count": null,
   "id": "dfbba6a3-26ba-4b09-8c1f-3986ebad644f",
   "metadata": {},
   "outputs": [],
   "source": []
  },
  {
   "cell_type": "code",
   "execution_count": null,
   "id": "aecf3e22-7950-43f5-a089-b0f4d7edbf95",
   "metadata": {},
   "outputs": [],
   "source": []
  },
  {
   "cell_type": "code",
   "execution_count": null,
   "id": "a6aae5f5-c59f-48b5-97c2-20156f86c423",
   "metadata": {},
   "outputs": [],
   "source": []
  }
 ],
 "metadata": {
  "kernelspec": {
   "display_name": "Python 3 (ipykernel)",
   "language": "python",
   "name": "python3"
  },
  "language_info": {
   "codemirror_mode": {
    "name": "ipython",
    "version": 3
   },
   "file_extension": ".py",
   "mimetype": "text/x-python",
   "name": "python",
   "nbconvert_exporter": "python",
   "pygments_lexer": "ipython3",
   "version": "3.9.12"
  }
 },
 "nbformat": 4,
 "nbformat_minor": 5
}

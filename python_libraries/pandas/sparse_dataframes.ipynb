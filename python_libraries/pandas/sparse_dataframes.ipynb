{
 "cells": [
  {
   "cell_type": "markdown",
   "metadata": {
    "toc": true
   },
   "source": [
    "<h1>Table of Contents<span class=\"tocSkip\"></span></h1>\n",
    "<div class=\"toc\"><ul class=\"toc-item\"><li><span><a href=\"#df.memory_usage():--Column-memory\" data-toc-modified-id=\"df.memory_usage():--Column-memory-1\"><span class=\"toc-item-num\">1&nbsp;&nbsp;</span><code>df.memory_usage()</code>:  Column memory</a></span></li><li><span><a href=\"#Sparse-Dataframes\" data-toc-modified-id=\"Sparse-Dataframes-2\"><span class=\"toc-item-num\">2&nbsp;&nbsp;</span>Sparse Dataframes</a></span><ul class=\"toc-item\"><li><span><a href=\"#pd.arrays.SparseArray:-Convert-a-column-to-a-sparse-column\" data-toc-modified-id=\"pd.arrays.SparseArray:-Convert-a-column-to-a-sparse-column-2.1\"><span class=\"toc-item-num\">2.1&nbsp;&nbsp;</span><code>pd.arrays.SparseArray</code>: Convert a column to a sparse column</a></span></li><li><span><a href=\"#pd.to_numeric:-Downcasting-dtypes\" data-toc-modified-id=\"pd.to_numeric:-Downcasting-dtypes-2.2\"><span class=\"toc-item-num\">2.2&nbsp;&nbsp;</span><code>pd.to_numeric</code>: Downcasting dtypes</a></span></li><li><span><a href=\"#sparsify:-Cast-columns-as-sparse-arrays\" data-toc-modified-id=\"sparsify:-Cast-columns-as-sparse-arrays-2.3\"><span class=\"toc-item-num\">2.3&nbsp;&nbsp;</span><code>sparsify</code>: Cast columns as sparse arrays</a></span></li><li><span><a href=\"#Convert-DataFrame-to-sparse-matrix\" data-toc-modified-id=\"Convert-DataFrame-to-sparse-matrix-2.4\"><span class=\"toc-item-num\">2.4&nbsp;&nbsp;</span>Convert DataFrame to sparse matrix</a></span></li></ul></li></ul></div>"
   ]
  },
  {
   "cell_type": "markdown",
   "metadata": {
    "ExecuteTime": {
     "end_time": "2020-09-23T11:40:31.012069Z",
     "start_time": "2020-09-23T11:40:31.010333Z"
    }
   },
   "source": [
    "# `df.memory_usage()`:  Column memory\n",
    "\n",
    "Pandas provides `df.memory_usage()` that returns the amount of memory needed for each column in a dataframe. We can use this function to build a `df_MB` function that provides the overall memory usage of the dataframe, summing over the memory needed in all the columns.\n",
    "\n"
   ]
  },
  {
   "cell_type": "code",
   "execution_count": 135,
   "metadata": {
    "ExecuteTime": {
     "end_time": "2020-09-23T11:40:31.956789Z",
     "start_time": "2020-09-23T11:40:31.954526Z"
    }
   },
   "outputs": [],
   "source": [
    "\n",
    "def df_MB(df,str=True):\n",
    "    BYTES_TO_MB_DIV = 0.000001\n",
    "    mem = round(df.memory_usage().sum() * BYTES_TO_MB_DIV, 2) \n",
    "    if str:\n",
    "        return f\"{mem} MB\"\n",
    "    else:\n",
    "        return mem"
   ]
  },
  {
   "cell_type": "markdown",
   "metadata": {
    "ExecuteTime": {
     "end_time": "2020-09-23T11:42:19.138177Z",
     "start_time": "2020-09-23T11:42:19.135630Z"
    }
   },
   "source": [
    "\n",
    "In this notebook we will use the movielens dataset.\n",
    "\n",
    "`https://grouplens.org/datasets/movielens/100k/`\n",
    "\n"
   ]
  },
  {
   "cell_type": "code",
   "execution_count": 138,
   "metadata": {
    "ExecuteTime": {
     "end_time": "2020-09-23T11:43:29.034858Z",
     "start_time": "2020-09-23T11:43:29.008710Z"
    }
   },
   "outputs": [
    {
     "data": {
      "text/html": [
       "<div>\n",
       "<style scoped>\n",
       "    .dataframe tbody tr th:only-of-type {\n",
       "        vertical-align: middle;\n",
       "    }\n",
       "\n",
       "    .dataframe tbody tr th {\n",
       "        vertical-align: top;\n",
       "    }\n",
       "\n",
       "    .dataframe thead th {\n",
       "        text-align: right;\n",
       "    }\n",
       "</style>\n",
       "<table border=\"1\" class=\"dataframe\">\n",
       "  <thead>\n",
       "    <tr style=\"text-align: right;\">\n",
       "      <th></th>\n",
       "      <th>user_id</th>\n",
       "      <th>item_id</th>\n",
       "      <th>rating</th>\n",
       "    </tr>\n",
       "  </thead>\n",
       "  <tbody>\n",
       "    <tr>\n",
       "      <th>0</th>\n",
       "      <td>196</td>\n",
       "      <td>242</td>\n",
       "      <td>3</td>\n",
       "    </tr>\n",
       "    <tr>\n",
       "      <th>1</th>\n",
       "      <td>186</td>\n",
       "      <td>302</td>\n",
       "      <td>3</td>\n",
       "    </tr>\n",
       "    <tr>\n",
       "      <th>2</th>\n",
       "      <td>22</td>\n",
       "      <td>377</td>\n",
       "      <td>1</td>\n",
       "    </tr>\n",
       "    <tr>\n",
       "      <th>3</th>\n",
       "      <td>244</td>\n",
       "      <td>51</td>\n",
       "      <td>2</td>\n",
       "    </tr>\n",
       "    <tr>\n",
       "      <th>4</th>\n",
       "      <td>166</td>\n",
       "      <td>346</td>\n",
       "      <td>1</td>\n",
       "    </tr>\n",
       "  </tbody>\n",
       "</table>\n",
       "</div>"
      ],
      "text/plain": [
       "   user_id  item_id  rating\n",
       "0      196      242       3\n",
       "1      186      302       3\n",
       "2       22      377       1\n",
       "3      244       51       2\n",
       "4      166      346       1"
      ]
     },
     "metadata": {},
     "output_type": "display_data"
    }
   ],
   "source": [
    "import pandas as pd\n",
    "from os.path import expanduser\n",
    "\n",
    "home = expanduser(\"~\")\n",
    "path_datasets = f\"{home}/Documents/Datasets/movielens\"\n",
    "df = pd.read_csv(f'{path_datasets}/ml-100k/u.data', sep=\"\\t\", header=None)\n",
    "df.columns = [\"user_id\", \"item_id\", \"rating\", \"timestamp\"]\n",
    "df.drop([\"timestamp\"], axis=1, inplace=True)\n",
    "display(df.head())"
   ]
  },
  {
   "cell_type": "code",
   "execution_count": 142,
   "metadata": {
    "ExecuteTime": {
     "end_time": "2020-09-23T11:44:03.228528Z",
     "start_time": "2020-09-23T11:44:03.224708Z"
    }
   },
   "outputs": [
    {
     "data": {
      "text/plain": [
       "Index         128\n",
       "user_id    800000\n",
       "item_id    800000\n",
       "rating     800000\n",
       "dtype: int64"
      ]
     },
     "execution_count": 142,
     "metadata": {},
     "output_type": "execute_result"
    }
   ],
   "source": [
    "df.memory_usage()"
   ]
  },
  {
   "cell_type": "markdown",
   "metadata": {},
   "source": [
    "The overal memory usage in MB is"
   ]
  },
  {
   "cell_type": "code",
   "execution_count": 141,
   "metadata": {
    "ExecuteTime": {
     "end_time": "2020-09-23T11:43:58.938676Z",
     "start_time": "2020-09-23T11:43:58.935000Z"
    }
   },
   "outputs": [
    {
     "data": {
      "text/plain": [
       "'2.4 MB'"
      ]
     },
     "execution_count": 141,
     "metadata": {},
     "output_type": "execute_result"
    }
   ],
   "source": [
    "df_MB(df)"
   ]
  },
  {
   "cell_type": "markdown",
   "metadata": {},
   "source": [
    "# Sparse Dataframes\n",
    "\n",
    "\n",
    "Sparse datasets can use a lot of memory if not properly processed. In some cases, non sparse approaches can become unfeasible. Moreover, using Sparse structures can processing time, not just memory usage.\n",
    "\n"
   ]
  },
  {
   "cell_type": "markdown",
   "metadata": {
    "ExecuteTime": {
     "end_time": "2020-09-23T11:11:58.020647Z",
     "start_time": "2020-09-23T11:11:58.017881Z"
    }
   },
   "source": [
    "\n",
    "A classical transformation applyed to the categorical values in user_id and item_id is the one hot encoding"
   ]
  },
  {
   "cell_type": "code",
   "execution_count": 611,
   "metadata": {
    "ExecuteTime": {
     "end_time": "2020-09-23T16:10:08.784408Z",
     "start_time": "2020-09-23T16:10:07.689031Z"
    }
   },
   "outputs": [
    {
     "data": {
      "text/html": [
       "<div>\n",
       "<style scoped>\n",
       "    .dataframe tbody tr th:only-of-type {\n",
       "        vertical-align: middle;\n",
       "    }\n",
       "\n",
       "    .dataframe tbody tr th {\n",
       "        vertical-align: top;\n",
       "    }\n",
       "\n",
       "    .dataframe thead th {\n",
       "        text-align: right;\n",
       "    }\n",
       "</style>\n",
       "<table border=\"1\" class=\"dataframe\">\n",
       "  <thead>\n",
       "    <tr style=\"text-align: right;\">\n",
       "      <th></th>\n",
       "      <th>rating</th>\n",
       "      <th>user_id_1</th>\n",
       "      <th>user_id_2</th>\n",
       "      <th>user_id_3</th>\n",
       "      <th>user_id_4</th>\n",
       "      <th>user_id_5</th>\n",
       "      <th>user_id_6</th>\n",
       "      <th>user_id_7</th>\n",
       "      <th>user_id_8</th>\n",
       "      <th>user_id_9</th>\n",
       "      <th>...</th>\n",
       "      <th>item_id_1673</th>\n",
       "      <th>item_id_1674</th>\n",
       "      <th>item_id_1675</th>\n",
       "      <th>item_id_1676</th>\n",
       "      <th>item_id_1677</th>\n",
       "      <th>item_id_1678</th>\n",
       "      <th>item_id_1679</th>\n",
       "      <th>item_id_1680</th>\n",
       "      <th>item_id_1681</th>\n",
       "      <th>item_id_1682</th>\n",
       "    </tr>\n",
       "  </thead>\n",
       "  <tbody>\n",
       "    <tr>\n",
       "      <th>0</th>\n",
       "      <td>3</td>\n",
       "      <td>0</td>\n",
       "      <td>0</td>\n",
       "      <td>0</td>\n",
       "      <td>0</td>\n",
       "      <td>0</td>\n",
       "      <td>0</td>\n",
       "      <td>0</td>\n",
       "      <td>0</td>\n",
       "      <td>0</td>\n",
       "      <td>...</td>\n",
       "      <td>0</td>\n",
       "      <td>0</td>\n",
       "      <td>0</td>\n",
       "      <td>0</td>\n",
       "      <td>0</td>\n",
       "      <td>0</td>\n",
       "      <td>0</td>\n",
       "      <td>0</td>\n",
       "      <td>0</td>\n",
       "      <td>0</td>\n",
       "    </tr>\n",
       "    <tr>\n",
       "      <th>1</th>\n",
       "      <td>3</td>\n",
       "      <td>0</td>\n",
       "      <td>0</td>\n",
       "      <td>0</td>\n",
       "      <td>0</td>\n",
       "      <td>0</td>\n",
       "      <td>0</td>\n",
       "      <td>0</td>\n",
       "      <td>0</td>\n",
       "      <td>0</td>\n",
       "      <td>...</td>\n",
       "      <td>0</td>\n",
       "      <td>0</td>\n",
       "      <td>0</td>\n",
       "      <td>0</td>\n",
       "      <td>0</td>\n",
       "      <td>0</td>\n",
       "      <td>0</td>\n",
       "      <td>0</td>\n",
       "      <td>0</td>\n",
       "      <td>0</td>\n",
       "    </tr>\n",
       "    <tr>\n",
       "      <th>2</th>\n",
       "      <td>1</td>\n",
       "      <td>0</td>\n",
       "      <td>0</td>\n",
       "      <td>0</td>\n",
       "      <td>0</td>\n",
       "      <td>0</td>\n",
       "      <td>0</td>\n",
       "      <td>0</td>\n",
       "      <td>0</td>\n",
       "      <td>0</td>\n",
       "      <td>...</td>\n",
       "      <td>0</td>\n",
       "      <td>0</td>\n",
       "      <td>0</td>\n",
       "      <td>0</td>\n",
       "      <td>0</td>\n",
       "      <td>0</td>\n",
       "      <td>0</td>\n",
       "      <td>0</td>\n",
       "      <td>0</td>\n",
       "      <td>0</td>\n",
       "    </tr>\n",
       "    <tr>\n",
       "      <th>3</th>\n",
       "      <td>2</td>\n",
       "      <td>0</td>\n",
       "      <td>0</td>\n",
       "      <td>0</td>\n",
       "      <td>0</td>\n",
       "      <td>0</td>\n",
       "      <td>0</td>\n",
       "      <td>0</td>\n",
       "      <td>0</td>\n",
       "      <td>0</td>\n",
       "      <td>...</td>\n",
       "      <td>0</td>\n",
       "      <td>0</td>\n",
       "      <td>0</td>\n",
       "      <td>0</td>\n",
       "      <td>0</td>\n",
       "      <td>0</td>\n",
       "      <td>0</td>\n",
       "      <td>0</td>\n",
       "      <td>0</td>\n",
       "      <td>0</td>\n",
       "    </tr>\n",
       "    <tr>\n",
       "      <th>4</th>\n",
       "      <td>1</td>\n",
       "      <td>0</td>\n",
       "      <td>0</td>\n",
       "      <td>0</td>\n",
       "      <td>0</td>\n",
       "      <td>0</td>\n",
       "      <td>0</td>\n",
       "      <td>0</td>\n",
       "      <td>0</td>\n",
       "      <td>0</td>\n",
       "      <td>...</td>\n",
       "      <td>0</td>\n",
       "      <td>0</td>\n",
       "      <td>0</td>\n",
       "      <td>0</td>\n",
       "      <td>0</td>\n",
       "      <td>0</td>\n",
       "      <td>0</td>\n",
       "      <td>0</td>\n",
       "      <td>0</td>\n",
       "      <td>0</td>\n",
       "    </tr>\n",
       "  </tbody>\n",
       "</table>\n",
       "<p>5 rows × 2626 columns</p>\n",
       "</div>"
      ],
      "text/plain": [
       "   rating  user_id_1  user_id_2  user_id_3  user_id_4  user_id_5  user_id_6  \\\n",
       "0       3          0          0          0          0          0          0   \n",
       "1       3          0          0          0          0          0          0   \n",
       "2       1          0          0          0          0          0          0   \n",
       "3       2          0          0          0          0          0          0   \n",
       "4       1          0          0          0          0          0          0   \n",
       "\n",
       "   user_id_7  user_id_8  user_id_9  ...  item_id_1673  item_id_1674  \\\n",
       "0          0          0          0  ...             0             0   \n",
       "1          0          0          0  ...             0             0   \n",
       "2          0          0          0  ...             0             0   \n",
       "3          0          0          0  ...             0             0   \n",
       "4          0          0          0  ...             0             0   \n",
       "\n",
       "   item_id_1675  item_id_1676  item_id_1677  item_id_1678  item_id_1679  \\\n",
       "0             0             0             0             0             0   \n",
       "1             0             0             0             0             0   \n",
       "2             0             0             0             0             0   \n",
       "3             0             0             0             0             0   \n",
       "4             0             0             0             0             0   \n",
       "\n",
       "   item_id_1680  item_id_1681  item_id_1682  \n",
       "0             0             0             0  \n",
       "1             0             0             0  \n",
       "2             0             0             0  \n",
       "3             0             0             0  \n",
       "4             0             0             0  \n",
       "\n",
       "[5 rows x 2626 columns]"
      ]
     },
     "metadata": {},
     "output_type": "display_data"
    }
   ],
   "source": [
    "df_onehot = pd.get_dummies(df, columns=['user_id', 'item_id']) \n",
    "display(df_onehot.head())"
   ]
  },
  {
   "cell_type": "markdown",
   "metadata": {},
   "source": [
    "The issue with this dataframe is that we have increased the memory needed substantially"
   ]
  },
  {
   "cell_type": "code",
   "execution_count": 612,
   "metadata": {
    "ExecuteTime": {
     "end_time": "2020-09-23T16:10:09.648430Z",
     "start_time": "2020-09-23T16:10:09.562063Z"
    }
   },
   "outputs": [
    {
     "name": "stdout",
     "output_type": "stream",
     "text": [
      "df mem:  2.4 MB\n",
      "df_onehot mem:  263.3 MB\n",
      "memory increase: 109.70833333333334\n"
     ]
    }
   ],
   "source": [
    "print(\"df mem: \", df_MB(df))\n",
    "print(\"df_onehot mem: \", df_MB(df_onehot))\n",
    "print(\"memory increase:\", df_MB(df_onehot,str=False)/df_MB(df,str=False))"
   ]
  },
  {
   "cell_type": "markdown",
   "metadata": {},
   "source": [
    "The amount of memory is increased by 100 nevertheless, most numbers are 0"
   ]
  },
  {
   "cell_type": "markdown",
   "metadata": {
    "ExecuteTime": {
     "end_time": "2020-09-23T11:34:32.046082Z",
     "start_time": "2020-09-23T11:34:32.044330Z"
    }
   },
   "source": [
    "## `pd.arrays.SparseArray`: Convert a column to a sparse column\n",
    "\n",
    "We create a `SparseArray` object with the function `pd.arrays.SparseArray`."
   ]
  },
  {
   "cell_type": "code",
   "execution_count": 146,
   "metadata": {
    "ExecuteTime": {
     "end_time": "2020-09-23T13:23:00.519458Z",
     "start_time": "2020-09-23T13:23:00.515482Z"
    }
   },
   "outputs": [
    {
     "data": {
      "text/plain": [
       "pandas.core.arrays.sparse.array.SparseArray"
      ]
     },
     "execution_count": 146,
     "metadata": {},
     "output_type": "execute_result"
    }
   ],
   "source": [
    "maxval = 100\n",
    "X = np.random.randint(0,maxval,1000)\n",
    "X_sp = pd.arrays.SparseArray(X)\n",
    "type(X_sp)"
   ]
  },
  {
   "cell_type": "markdown",
   "metadata": {
    "ExecuteTime": {
     "end_time": "2020-09-23T11:36:00.235883Z",
     "start_time": "2020-09-23T11:36:00.233442Z"
    }
   },
   "source": [
    "Note that this object van be used to create a DataFrame"
   ]
  },
  {
   "cell_type": "code",
   "execution_count": 147,
   "metadata": {
    "ExecuteTime": {
     "end_time": "2020-09-23T13:23:00.909946Z",
     "start_time": "2020-09-23T13:23:00.904889Z"
    }
   },
   "outputs": [
    {
     "data": {
      "text/html": [
       "<div>\n",
       "<style scoped>\n",
       "    .dataframe tbody tr th:only-of-type {\n",
       "        vertical-align: middle;\n",
       "    }\n",
       "\n",
       "    .dataframe tbody tr th {\n",
       "        vertical-align: top;\n",
       "    }\n",
       "\n",
       "    .dataframe thead th {\n",
       "        text-align: right;\n",
       "    }\n",
       "</style>\n",
       "<table border=\"1\" class=\"dataframe\">\n",
       "  <thead>\n",
       "    <tr style=\"text-align: right;\">\n",
       "      <th></th>\n",
       "      <th>0</th>\n",
       "    </tr>\n",
       "  </thead>\n",
       "  <tbody>\n",
       "    <tr>\n",
       "      <th>0</th>\n",
       "      <td>60</td>\n",
       "    </tr>\n",
       "    <tr>\n",
       "      <th>1</th>\n",
       "      <td>79</td>\n",
       "    </tr>\n",
       "    <tr>\n",
       "      <th>2</th>\n",
       "      <td>55</td>\n",
       "    </tr>\n",
       "    <tr>\n",
       "      <th>3</th>\n",
       "      <td>58</td>\n",
       "    </tr>\n",
       "    <tr>\n",
       "      <th>4</th>\n",
       "      <td>38</td>\n",
       "    </tr>\n",
       "  </tbody>\n",
       "</table>\n",
       "</div>"
      ],
      "text/plain": [
       "    0\n",
       "0  60\n",
       "1  79\n",
       "2  55\n",
       "3  58\n",
       "4  38"
      ]
     },
     "execution_count": 147,
     "metadata": {},
     "output_type": "execute_result"
    }
   ],
   "source": [
    "pd.DataFrame(X_sp).head()"
   ]
  },
  {
   "cell_type": "markdown",
   "metadata": {},
   "source": [
    "Nevertheless this dataframe might be using more memory than needed because the elementtypes of the nonzero elements might be too big. In this case the maximum value in `X_sp` is 100 (by construction). Therefore, we could use a int8 to store any nonzero value"
   ]
  },
  {
   "cell_type": "code",
   "execution_count": 201,
   "metadata": {
    "ExecuteTime": {
     "end_time": "2020-09-23T13:35:30.097688Z",
     "start_time": "2020-09-23T13:35:30.093506Z"
    }
   },
   "outputs": [
    {
     "data": {
      "text/plain": [
       "0    Sparse[int64, 0]\n",
       "dtype: object"
      ]
     },
     "execution_count": 201,
     "metadata": {},
     "output_type": "execute_result"
    }
   ],
   "source": [
    "pd.DataFrame(X_sp).dtypes"
   ]
  },
  {
   "cell_type": "markdown",
   "metadata": {},
   "source": [
    "The function `np.iinfo` can be used to know the minimum and maximum value of `dtype` in numpy."
   ]
  },
  {
   "cell_type": "code",
   "execution_count": 215,
   "metadata": {
    "ExecuteTime": {
     "end_time": "2020-09-23T13:41:15.536376Z",
     "start_time": "2020-09-23T13:41:15.529757Z"
    },
    "scrolled": true
   },
   "outputs": [
    {
     "data": {
      "text/plain": [
       "iinfo(min=-128, max=127, dtype=int8)"
      ]
     },
     "metadata": {},
     "output_type": "display_data"
    },
    {
     "data": {
      "text/plain": [
       "iinfo(min=0, max=255, dtype=uint8)"
      ]
     },
     "metadata": {},
     "output_type": "display_data"
    },
    {
     "data": {
      "text/plain": [
       "iinfo(min=-32768, max=32767, dtype=int16)"
      ]
     },
     "metadata": {},
     "output_type": "display_data"
    },
    {
     "data": {
      "text/plain": [
       "iinfo(min=0, max=65535, dtype=uint16)"
      ]
     },
     "metadata": {},
     "output_type": "display_data"
    }
   ],
   "source": [
    "display(np.iinfo(np.int8))\n",
    "display(np.iinfo(np.uint8))\n",
    "display(np.iinfo(np.int16))\n",
    "display(np.iinfo(np.uint16))"
   ]
  },
  {
   "cell_type": "code",
   "execution_count": null,
   "metadata": {},
   "outputs": [],
   "source": []
  },
  {
   "cell_type": "markdown",
   "metadata": {},
   "source": [
    "## `pd.to_numeric`: Downcasting dtypes \n",
    "\n",
    "The method `pd.to_numeric` allows a numpy array to be casted as the dtype that uses the lowest amount of memory able to represent all the elements in the array. \n",
    "\n",
    "We can use `X_downcast = pd.to_numeric(X,downcast='signed')` to generate a numpy array \n",
    "`X_downcast`  which has as `dtype` the elementype that uses the lowest amount of memory and can represent all elements in `X`.\n",
    "\n",
    "The argument `downcast` can take values in `['integer', 'signed', 'unsigned', 'float']`.\n",
    "\n",
    "\n",
    "\n",
    "- 'integer' or 'signed': smallest signed int dtype (min.: np.int8)\n",
    "\n",
    "- 'unsigned' : smallest unsigned int dtype (min.: np.uint8)\n",
    "\n",
    "- 'float': smallest float dtype (min.: np.float32)\n",
    "\n",
    "\n",
    "\n",
    "\n",
    "If `X` is made of numbers from 0 to 100, then a `np.int8` or `np.uint8` are enough since botwh datatypes can hold values up to 127 and 255 respectively."
   ]
  },
  {
   "cell_type": "code",
   "execution_count": 613,
   "metadata": {
    "ExecuteTime": {
     "end_time": "2020-09-23T16:10:14.563005Z",
     "start_time": "2020-09-23T16:10:14.558307Z"
    }
   },
   "outputs": [
    {
     "data": {
      "text/plain": [
       "0    int8\n",
       "dtype: object"
      ]
     },
     "execution_count": 613,
     "metadata": {},
     "output_type": "execute_result"
    }
   ],
   "source": [
    "import numpy as np\n",
    "maxval = 100\n",
    "X = np.random.randint(0,maxval,1000)\n",
    "X_downcast = pd.to_numeric(X_downcast,downcast='signed')\n",
    "df_aux = pd.DataFrame(X_downcast)\n",
    "df_aux.dtypes"
   ]
  },
  {
   "cell_type": "markdown",
   "metadata": {
    "ExecuteTime": {
     "end_time": "2020-09-23T13:40:51.306289Z",
     "start_time": "2020-09-23T13:40:51.303418Z"
    }
   },
   "source": [
    "\n",
    "If `X` is made of numbers from 0 to 10000, then a `np.int16` or `np.uint16` are enough since botwh datatypes can hold values up to 32767 and 65535 respectively."
   ]
  },
  {
   "cell_type": "code",
   "execution_count": 701,
   "metadata": {
    "ExecuteTime": {
     "end_time": "2020-09-23T16:45:45.046992Z",
     "start_time": "2020-09-23T16:45:45.041951Z"
    }
   },
   "outputs": [
    {
     "data": {
      "text/plain": [
       "0    int16\n",
       "dtype: object"
      ]
     },
     "execution_count": 701,
     "metadata": {},
     "output_type": "execute_result"
    }
   ],
   "source": [
    "import numpy as np\n",
    "maxval = 10000\n",
    "X = np.random.randint(0,maxval,10000)\n",
    "df_aux = pd.DataFrame(pd.to_numeric(X,downcast='signed'))\n",
    "df_aux.dtypes"
   ]
  },
  {
   "cell_type": "markdown",
   "metadata": {
    "ExecuteTime": {
     "end_time": "2020-09-23T13:43:06.266556Z",
     "start_time": "2020-09-23T13:43:06.263860Z"
    }
   },
   "source": [
    "With  this in mind we can define a function `find_downcast_strategy` that, using the following sets\n",
    "```\n",
    "int_set_dtypes   = set([np.int8, np.int16, np.int32, np.int64])\n",
    "uint_set_dtypes  = set([np.uint8, np.uint16, np.uint32, np.uint64])\n",
    "float_set_dtypes = set([np.float16, np.float32, np.float64])\n",
    "```\n",
    "\n",
    "returns \n",
    "\n",
    "\n",
    "- 'integer' or 'signed': if the dtype is in `int_set_dtypes`\n",
    "\n",
    "- 'unsigned': if the dtype is in `uint_set_dtypes`\n",
    "\n",
    "- 'float':  if the dtype is in `float_set_dtypes`\n",
    "\n"
   ]
  },
  {
   "cell_type": "code",
   "execution_count": 725,
   "metadata": {
    "ExecuteTime": {
     "end_time": "2020-09-23T16:49:45.699518Z",
     "start_time": "2020-09-23T16:49:45.696148Z"
    }
   },
   "outputs": [],
   "source": [
    "int_dtypes   = [np.int8, np.int16, np.int32, np.int64]\n",
    "uint_dtypes  = [np.uint8, np.uint16, np.uint32, np.uint64]\n",
    "float_dtypes = [np.float16, np.float32, np.float64]\n",
    "\n",
    "    \n",
    "def find_downcast_strategy(x, avoid_unsigned=False):\n",
    "    \"\"\"\n",
    "    Return the correct downcast term depending on x.dtype\n",
    "    \"\"\"\n",
    "    x_dtype = x.dtype\n",
    "    if x_dtype in int_dtypes:\n",
    "        return 'signed'\n",
    "    elif x_dtype in uint_dtypes:\n",
    "        if avoid_unsigned:\n",
    "            return 'signed'\n",
    "        else:\n",
    "            return 'unsigned'\n",
    "    elif x_dtype in float_dtypes:\n",
    "        return 'float'\n",
    "\n",
    "    "
   ]
  },
  {
   "cell_type": "code",
   "execution_count": 726,
   "metadata": {
    "ExecuteTime": {
     "end_time": "2020-09-23T16:49:46.088773Z",
     "start_time": "2020-09-23T16:49:46.085903Z"
    },
    "scrolled": true
   },
   "outputs": [
    {
     "data": {
      "text/plain": [
       "'float'"
      ]
     },
     "execution_count": 726,
     "metadata": {},
     "output_type": "execute_result"
    }
   ],
   "source": [
    "find_downcast_strategy(np.random.rand(10))"
   ]
  },
  {
   "cell_type": "markdown",
   "metadata": {},
   "source": [
    "## `sparsify`: Cast columns as sparse arrays"
   ]
  },
  {
   "cell_type": "markdown",
   "metadata": {
    "ExecuteTime": {
     "end_time": "2020-09-23T14:14:43.464567Z",
     "start_time": "2020-09-23T14:14:43.462118Z"
    }
   },
   "source": [
    "Now we can check the type each column downcast strategy and create a new dataframe that uses less memory"
   ]
  },
  {
   "cell_type": "code",
   "execution_count": 760,
   "metadata": {
    "ExecuteTime": {
     "end_time": "2020-09-23T17:47:12.094919Z",
     "start_time": "2020-09-23T17:47:12.090962Z"
    }
   },
   "outputs": [],
   "source": [
    "def sparsify(df, exclude_cols=[], fixed_dtype=False, downcast=False):\n",
    "    \"\"\"\n",
    "    Converts columns of `df` into SparseArrays.\n",
    "    A list `exclude_colums` allows users to specify the columns that do not\n",
    "    want to be sparsified.\n",
    "    \n",
    "    \n",
    "    df:                  pandas data frame\n",
    "    exclude_columns:     list\n",
    "    downcast:              Bool\n",
    "    \n",
    "    return: Pandas DataFrame\n",
    "    \"\"\"\n",
    "    df = df.copy()\n",
    "    exclude_cols = set(exclude_cols)\n",
    "    sparse_cols = set(df.columns) - exclude_cols\n",
    "    \n",
    "    for col in sparse_cols:\n",
    "        df_col = df[col].values\n",
    "\n",
    "        if downcast:\n",
    "            dtype = find_downcast_strategy(df_col)\n",
    "            df_col = pd.to_numeric(df_col, downcast=dtype)\n",
    "            df[col] = pd.arrays.SparseArray(df_col)\n",
    "        else:\n",
    "            if fixed_dtype:\n",
    "                df[col] = pd.arrays.SparseArray(df_col, dtype=fixed_dtype)\n",
    "            else:\n",
    "                dtype = df[col].values.dtype\n",
    "                df[col] = pd.arrays.SparseArray(df_col, dtype=dtype)\n",
    "    return df"
   ]
  },
  {
   "cell_type": "code",
   "execution_count": 761,
   "metadata": {
    "ExecuteTime": {
     "end_time": "2020-09-23T17:48:13.364971Z",
     "start_time": "2020-09-23T17:47:12.690762Z"
    }
   },
   "outputs": [
    {
     "data": {
      "text/plain": [
       "rating                     int64\n",
       "user_id_1       Sparse[uint8, 0]\n",
       "user_id_2       Sparse[uint8, 0]\n",
       "user_id_3       Sparse[uint8, 0]\n",
       "user_id_4       Sparse[uint8, 0]\n",
       "                      ...       \n",
       "item_id_1678    Sparse[uint8, 0]\n",
       "item_id_1679    Sparse[uint8, 0]\n",
       "item_id_1680    Sparse[uint8, 0]\n",
       "item_id_1681    Sparse[uint8, 0]\n",
       "item_id_1682    Sparse[uint8, 0]\n",
       "Length: 2626, dtype: object"
      ]
     },
     "metadata": {},
     "output_type": "display_data"
    },
    {
     "name": "stdout",
     "output_type": "stream",
     "text": [
      "df_onehot mem: 263.3 MB\n",
      "df_onehot_sp mem: 1.8 MB\n"
     ]
    }
   ],
   "source": [
    "df_onehot_sp = sparsify(df_onehot,  exclude_cols=['rating'], downcast=True)\n",
    "display(df_onehot_sp.dtypes)\n",
    "print(\"df_onehot mem:\", df_MB(df_onehot))\n",
    "print(\"df_onehot_sp mem:\", df_MB(df_onehot_sp))"
   ]
  },
  {
   "cell_type": "code",
   "execution_count": 762,
   "metadata": {
    "ExecuteTime": {
     "end_time": "2020-09-23T17:49:14.330317Z",
     "start_time": "2020-09-23T17:48:13.366600Z"
    }
   },
   "outputs": [
    {
     "data": {
      "text/plain": [
       "rating                     int64\n",
       "user_id_1       Sparse[uint8, 0]\n",
       "user_id_2       Sparse[uint8, 0]\n",
       "user_id_3       Sparse[uint8, 0]\n",
       "user_id_4       Sparse[uint8, 0]\n",
       "                      ...       \n",
       "item_id_1678    Sparse[uint8, 0]\n",
       "item_id_1679    Sparse[uint8, 0]\n",
       "item_id_1680    Sparse[uint8, 0]\n",
       "item_id_1681    Sparse[uint8, 0]\n",
       "item_id_1682    Sparse[uint8, 0]\n",
       "Length: 2626, dtype: object"
      ]
     },
     "metadata": {},
     "output_type": "display_data"
    },
    {
     "name": "stdout",
     "output_type": "stream",
     "text": [
      "df_onehot mem: 263.3 MB\n",
      "df_onehot_sp mem: 1.8 MB\n"
     ]
    }
   ],
   "source": [
    "df_onehot_sp = sparsify(df_onehot,  exclude_cols=['rating'], downcast=False)\n",
    "display(df_onehot_sp.dtypes)\n",
    "print(\"df_onehot mem:\", df_MB(df_onehot))\n",
    "print(\"df_onehot_sp mem:\", df_MB(df_onehot_sp))"
   ]
  },
  {
   "cell_type": "markdown",
   "metadata": {
    "ExecuteTime": {
     "end_time": "2020-09-23T16:35:47.171566Z",
     "start_time": "2020-09-23T16:35:47.162918Z"
    }
   },
   "source": [
    "Sometimes we migth be interested in having the same type for all the element types.\n",
    "We can use `fixed_dtype=np.int32` to ensure it."
   ]
  },
  {
   "cell_type": "code",
   "execution_count": 763,
   "metadata": {
    "ExecuteTime": {
     "end_time": "2020-09-23T17:50:15.107413Z",
     "start_time": "2020-09-23T17:49:14.332306Z"
    }
   },
   "outputs": [
    {
     "data": {
      "text/plain": [
       "rating          Sparse[int32, 0]\n",
       "user_id_1       Sparse[int32, 0]\n",
       "user_id_2       Sparse[int32, 0]\n",
       "user_id_3       Sparse[int32, 0]\n",
       "user_id_4       Sparse[int32, 0]\n",
       "                      ...       \n",
       "item_id_1678    Sparse[int32, 0]\n",
       "item_id_1679    Sparse[int32, 0]\n",
       "item_id_1680    Sparse[int32, 0]\n",
       "item_id_1681    Sparse[int32, 0]\n",
       "item_id_1682    Sparse[int32, 0]\n",
       "Length: 2626, dtype: object"
      ]
     },
     "metadata": {},
     "output_type": "display_data"
    },
    {
     "name": "stdout",
     "output_type": "stream",
     "text": [
      "df_onehot mem: 263.3 MB\n",
      "df_onehot_sp mem: 2.4 MB\n"
     ]
    }
   ],
   "source": [
    "df_onehot_sp = sparsify(df_onehot, fixed_dtype=np.int32)\n",
    "display(df_onehot_sp.dtypes)\n",
    "print(\"df_onehot mem:\", df_MB(df_onehot))\n",
    "print(\"df_onehot_sp mem:\", df_MB(df_onehot_sp))"
   ]
  },
  {
   "cell_type": "markdown",
   "metadata": {
    "ExecuteTime": {
     "end_time": "2020-09-23T18:03:28.115970Z",
     "start_time": "2020-09-23T18:03:28.114426Z"
    }
   },
   "source": [
    "## Convert DataFrame to sparse matrix\n",
    "\n",
    "This part is very important to use data in other packages, such as scikit-learn"
   ]
  },
  {
   "cell_type": "code",
   "execution_count": 790,
   "metadata": {
    "ExecuteTime": {
     "end_time": "2020-09-23T18:04:20.471840Z",
     "start_time": "2020-09-23T18:04:19.596402Z"
    }
   },
   "outputs": [
    {
     "name": "stdout",
     "output_type": "stream",
     "text": [
      "Memory usage is 2.800004 MB\n"
     ]
    }
   ],
   "source": [
    "from scipy.sparse import lil_matrix\n",
    "import numpy as np\n",
    "\n",
    "def data_frame_to_scipy_sparse_matrix(df):\n",
    "    \"\"\"\n",
    "    Converts a sparse pandas data frame to sparse scipy csr_matrix.\n",
    "    :param df: pandas data frame\n",
    "    :return: csr_matrix\n",
    "    \"\"\"\n",
    "    arr = lil_matrix(df.shape, dtype=np.float32)\n",
    "    for i, col in enumerate(df.columns):\n",
    "        ix = df[col] != 0\n",
    "        arr[np.where(ix), i] = 1\n",
    "\n",
    "    return arr.tocsr()\n",
    "\n",
    "def get_csr_memory_usage(matrix):\n",
    "    mem = (X_csr.data.nbytes + X_csr.indptr.nbytes + X_csr.indices.nbytes) * BYTES_TO_MB_DIV\n",
    "    print(\"Memory usage is \" + str(mem) + \" MB\")\n",
    "\n",
    "X_csr = data_frame_to_scipy_sparse_matrix(df_onehot_sp)\n",
    "get_csr_memory_usage(X_csr)\n"
   ]
  },
  {
   "cell_type": "code",
   "execution_count": 807,
   "metadata": {
    "ExecuteTime": {
     "end_time": "2020-09-23T18:10:08.310401Z",
     "start_time": "2020-09-23T18:10:07.909521Z"
    }
   },
   "outputs": [],
   "source": [
    "df_X_onehot_sp = df_onehot_sp[df_onehot_sp.columns.difference([\"rating\"])]\n",
    "df_y_onehot_sp = df_onehot_sp[[\"rating\"]]"
   ]
  },
  {
   "cell_type": "code",
   "execution_count": null,
   "metadata": {
    "ExecuteTime": {
     "end_time": "2020-09-23T18:09:30.901536Z",
     "start_time": "2020-09-23T18:06:54.746Z"
    }
   },
   "outputs": [],
   "source": [
    "import sklearn\n",
    "from sklearn import linear_model\n",
    "m = linear_model.LogisticRegression()"
   ]
  },
  {
   "cell_type": "markdown",
   "metadata": {},
   "source": [
    "Note that using directly the dataframe takes a lot of time"
   ]
  },
  {
   "cell_type": "code",
   "execution_count": 865,
   "metadata": {
    "ExecuteTime": {
     "end_time": "2020-09-23T18:16:24.484407Z",
     "start_time": "2020-09-23T18:15:55.954450Z"
    }
   },
   "outputs": [
    {
     "name": "stderr",
     "output_type": "stream",
     "text": [
      "/usr/local/lib/python3.7/site-packages/sklearn/utils/validation.py:72: DataConversionWarning: A column-vector y was passed when a 1d array was expected. Please change the shape of y to (n_samples, ), for example using ravel().\n",
      "  return f(**kwargs)\n"
     ]
    },
    {
     "data": {
      "text/plain": [
       "LogisticRegression(max_iter=1000)"
      ]
     },
     "execution_count": 865,
     "metadata": {},
     "output_type": "execute_result"
    }
   ],
   "source": [
    "n = 10000\n",
    "m.fit(df_X_onehot_sp[0:n], df_y_onehot_sp[0:n].values.ravel())"
   ]
  },
  {
   "cell_type": "markdown",
   "metadata": {},
   "source": [
    "Nevertheless, converting the data to a scipy.sparsearray and fitting the model yields much faster training"
   ]
  },
  {
   "cell_type": "code",
   "execution_count": 866,
   "metadata": {
    "ExecuteTime": {
     "end_time": "2020-09-23T18:16:26.428545Z",
     "start_time": "2020-09-23T18:16:24.487198Z"
    }
   },
   "outputs": [],
   "source": [
    "n = 10000\n",
    "X_csr = data_frame_to_scipy_sparse_matrix(df_X_onehot_sp[0:n])\n",
    "y = df_y_onehot_sp[0:n].values.ravel()\n",
    "m = linear_model.LogisticRegression(max_iter=1000)"
   ]
  },
  {
   "cell_type": "code",
   "execution_count": 867,
   "metadata": {
    "ExecuteTime": {
     "end_time": "2020-09-23T18:16:27.047366Z",
     "start_time": "2020-09-23T18:16:26.430375Z"
    }
   },
   "outputs": [
    {
     "data": {
      "text/plain": [
       "LogisticRegression(max_iter=1000)"
      ]
     },
     "execution_count": 867,
     "metadata": {},
     "output_type": "execute_result"
    }
   ],
   "source": [
    "m.fit(X_csr, y)"
   ]
  },
  {
   "cell_type": "code",
   "execution_count": null,
   "metadata": {},
   "outputs": [],
   "source": []
  },
  {
   "cell_type": "code",
   "execution_count": null,
   "metadata": {},
   "outputs": [],
   "source": []
  }
 ],
 "metadata": {
  "kernelspec": {
   "display_name": "Python 3",
   "language": "python",
   "name": "python3"
  },
  "language_info": {
   "codemirror_mode": {
    "name": "ipython",
    "version": 3
   },
   "file_extension": ".py",
   "mimetype": "text/x-python",
   "name": "python",
   "nbconvert_exporter": "python",
   "pygments_lexer": "ipython3",
   "version": "3.7.7"
  },
  "toc": {
   "base_numbering": 1,
   "nav_menu": {},
   "number_sections": true,
   "sideBar": true,
   "skip_h1_title": false,
   "title_cell": "Table of Contents",
   "title_sidebar": "Contents",
   "toc_cell": true,
   "toc_position": {
    "height": "calc(100% - 180px)",
    "left": "10px",
    "top": "150px",
    "width": "165px"
   },
   "toc_section_display": true,
   "toc_window_display": true
  }
 },
 "nbformat": 4,
 "nbformat_minor": 4
}

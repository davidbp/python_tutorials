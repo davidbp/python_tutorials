{
 "cells": [
  {
   "cell_type": "markdown",
   "metadata": {
    "toc": true
   },
   "source": [
    "<h1>Table of Contents<span class=\"tocSkip\"></span></h1>\n",
    "<div class=\"toc\"><ul class=\"toc-item\"><li><span><a href=\"#Example-Dataframe:\" data-toc-modified-id=\"Example-Dataframe:-1\"><span class=\"toc-item-num\">1&nbsp;&nbsp;</span>Example Dataframe:</a></span></li><li><span><a href=\"#Plotting-Data\" data-toc-modified-id=\"Plotting-Data-2\"><span class=\"toc-item-num\">2&nbsp;&nbsp;</span>Plotting Data</a></span></li><li><span><a href=\"#Computing-Loss\" data-toc-modified-id=\"Computing-Loss-3\"><span class=\"toc-item-num\">3&nbsp;&nbsp;</span>Computing Loss</a></span></li><li><span><a href=\"#Comparing-Times-RandomForestClassifier-with-Scikit\" data-toc-modified-id=\"Comparing-Times-RandomForestClassifier-with-Scikit-4\"><span class=\"toc-item-num\">4&nbsp;&nbsp;</span>Comparing Times RandomForestClassifier with Scikit</a></span></li><li><span><a href=\"#Using-a-bigger-dataset\" data-toc-modified-id=\"Using-a-bigger-dataset-5\"><span class=\"toc-item-num\">5&nbsp;&nbsp;</span>Using a bigger dataset</a></span></li><li><span><a href=\"#Comparing-Results-RandomForestClassifier-vs-Scikit\" data-toc-modified-id=\"Comparing-Results-RandomForestClassifier-vs-Scikit-6\"><span class=\"toc-item-num\">6&nbsp;&nbsp;</span>Comparing Results RandomForestClassifier vs Scikit</a></span></li><li><span><a href=\"#Quick-Test-with-tsallis-entroy\" data-toc-modified-id=\"Quick-Test-with-tsallis-entroy-7\"><span class=\"toc-item-num\">7&nbsp;&nbsp;</span>Quick Test with tsallis entroy</a></span></li></ul></div>"
   ]
  },
  {
   "cell_type": "code",
   "execution_count": 1,
   "metadata": {},
   "outputs": [],
   "source": [
    "import pandas as pd\n",
    "import numpy as np\n",
    "import RandomForestClassifier as RandomForest\n",
    "import matplotlib\n",
    "import matplotlib.pyplot as plt\n",
    "from collections import Counter\n",
    "from sklearn.model_selection import train_test_split\n",
    "from sklearn.ensemble import RandomForestClassifier\n",
    "from sklearn import datasets\n",
    "from sklearn.metrics import accuracy_score\n",
    "import math\n",
    "\n",
    "%load_ext autoreload\n",
    "%autoreload 2"
   ]
  },
  {
   "cell_type": "markdown",
   "metadata": {},
   "source": [
    "### Example Dataframe:"
   ]
  },
  {
   "cell_type": "code",
   "execution_count": 2,
   "metadata": {},
   "outputs": [],
   "source": [
    "data = pd.DataFrame([                 \n",
    " [-9,10,1],    \n",
    "  [-7,6,1],  \n",
    "  [ 1,7,1],   \n",
    "  [5,7,1],   \n",
    "  [4,6,1],   \n",
    "  [5,-6,1],   \n",
    "  [9,6,0],   \n",
    "  [3,3,0],   \n",
    "  [-8,2,0],   \n",
    "  [-3,-2,0],   \n",
    "  [ 6,-3,0],\n",
    "  [-7,-6,0]])\n",
    "\n",
    "data.columns = [\"F1\",\"F2\",\"Target\"]"
   ]
  },
  {
   "cell_type": "code",
   "execution_count": 3,
   "metadata": {},
   "outputs": [
    {
     "name": "stdout",
     "output_type": "stream",
     "text": [
      "\\begin{tabular}{rrr}\n",
      "\\toprule\n",
      " F1 &  F2 &  Target \\\\\n",
      "\\midrule\n",
      " -9 &  10 &       1 \\\\\n",
      " -7 &   6 &       1 \\\\\n",
      "  1 &   7 &       1 \\\\\n",
      "  5 &   7 &       1 \\\\\n",
      "  4 &   6 &       1 \\\\\n",
      "  5 &  -6 &       1 \\\\\n",
      "  9 &   6 &       0 \\\\\n",
      "  3 &   3 &       0 \\\\\n",
      " -8 &   2 &       0 \\\\\n",
      " -3 &  -2 &       0 \\\\\n",
      "  6 &  -3 &       0 \\\\\n",
      " -7 &  -6 &       0 \\\\\n",
      "\\bottomrule\n",
      "\\end{tabular}\n",
      "\n"
     ]
    }
   ],
   "source": [
    "table_1 = data.copy()\n",
    "print(table_1.to_latex(index=False))"
   ]
  },
  {
   "cell_type": "markdown",
   "metadata": {},
   "source": [
    "### Plotting Data"
   ]
  },
  {
   "cell_type": "code",
   "execution_count": 4,
   "metadata": {},
   "outputs": [
    {
     "data": {
      "image/png": "[encoded data removed]",
      "text/plain": [
       "<Figure size 576x504 with 1 Axes>"
      ]
     },
     "metadata": {},
     "output_type": "display_data"
    }
   ],
   "source": [
    "matplotlib.style.use('ggplot')\n",
    "\n",
    "col = data.Target.map({0:'b', 1:'r'})\n",
    "\n",
    "shape = data.Target.map({0:'x', 1:'.'})\n",
    "shape = list(shape.values)\n",
    "\n",
    "data.plot.scatter(x='F1', y='F2', s=80,c=col, ylim=(-11,11),\n",
    "                  xticks=range(-10,11), yticks=range(-10,11),\n",
    "                  marker=\".\",\n",
    "                 figsize=(8,7))\n",
    "\n",
    "plt.ylabel('F2', rotation=0)\n",
    "plt.hlines(6,-11,11,color=\"green\",linestyles=\"--\")\n",
    "plt.text(6,6.5,\"feature value\", color=\"green\")\n",
    "plt.hlines(4.5,-11,11,color=\"black\",linestyles=\"--\")\n",
    "plt.text(6,3.7,\"middle value\", color=\"black\")\n",
    "plt.savefig(\"Dataset_split_values.pdf\")"
   ]
  },
  {
   "cell_type": "markdown",
   "metadata": {},
   "source": [
    "### Computing Loss"
   ]
  },
  {
   "cell_type": "code",
   "execution_count": 5,
   "metadata": {},
   "outputs": [],
   "source": [
    "features = list(data.columns)\n",
    "features.remove('Target')\n",
    "x = np.array(data[features])\n",
    "y = np.array(data['Target'])"
   ]
  },
  {
   "cell_type": "code",
   "execution_count": 6,
   "metadata": {},
   "outputs": [],
   "source": [
    "def gini(y):\n",
    "    if len(y)==0: return 0\n",
    "    _,counts = np.unique(y,return_counts=True)\n",
    "    probs = counts/counts.sum()\n",
    "    gini = np.sum(probs*probs)\n",
    "    return 1-gini"
   ]
  },
  {
   "cell_type": "code",
   "execution_count": 7,
   "metadata": {
    "scrolled": true
   },
   "outputs": [
    {
     "name": "stdout",
     "output_type": "stream",
     "text": [
      "25.9 µs ± 240 ns per loop (mean ± std. dev. of 7 runs, 10000 loops each)\n"
     ]
    }
   ],
   "source": [
    "%%timeit \n",
    "gini(y)"
   ]
  },
  {
   "cell_type": "code",
   "execution_count": 8,
   "metadata": {},
   "outputs": [],
   "source": [
    "def entropy(y):   \n",
    "    if len(y)==0: return 0\n",
    "    _,counts = np.unique(y,return_counts=True)\n",
    "    probs = counts/counts.sum()\n",
    "    return -np.sum(np.log2(probs)*probs)"
   ]
  },
  {
   "cell_type": "code",
   "execution_count": 9,
   "metadata": {},
   "outputs": [
    {
     "name": "stdout",
     "output_type": "stream",
     "text": [
      "25.6 µs ± 653 ns per loop (mean ± std. dev. of 7 runs, 10000 loops each)\n"
     ]
    }
   ],
   "source": [
    "%%timeit \n",
    "entropy(y)"
   ]
  },
  {
   "cell_type": "code",
   "execution_count": 10,
   "metadata": {},
   "outputs": [],
   "source": [
    "def tsallis_entropy(y,q = 4):\n",
    "    if len(y)==0: return 0\n",
    "    _,counts = np.unique(y,return_counts=True)\n",
    "    probs = counts/counts.sum()\n",
    "    return (1-np.sum(probs**q))*(1/(q-1))"
   ]
  },
  {
   "cell_type": "code",
   "execution_count": 11,
   "metadata": {},
   "outputs": [
    {
     "name": "stdout",
     "output_type": "stream",
     "text": [
      "28.7 µs ± 1.12 µs per loop (mean ± std. dev. of 7 runs, 10000 loops each)\n"
     ]
    }
   ],
   "source": [
    "%%timeit \n",
    "tsallis_entropy(y)"
   ]
  },
  {
   "cell_type": "markdown",
   "metadata": {},
   "source": [
    "### Comparing Times RandomForestClassifier with Scikit"
   ]
  },
  {
   "cell_type": "code",
   "execution_count": 13,
   "metadata": {},
   "outputs": [
    {
     "name": "stdout",
     "output_type": "stream",
     "text": [
      "2.16 s ± 34.5 ms per loop (mean ± std. dev. of 7 runs, 1 loop each)\n"
     ]
    }
   ],
   "source": [
    "%%timeit\n",
    "RF1 = RandomForest.RandomForestClassifier(n_estimators = 1000)\n",
    "RF1.fit(x,y)\n",
    "RF1.predict(x)"
   ]
  },
  {
   "cell_type": "code",
   "execution_count": 26,
   "metadata": {},
   "outputs": [
    {
     "name": "stdout",
     "output_type": "stream",
     "text": [
      " "
     ]
    }
   ],
   "source": [
    "RF1 = RandomForest.RandomForestClassifier(n_estimators = 1000)\n",
    "RF1.fit(x,y)"
   ]
  },
  {
   "cell_type": "code",
   "execution_count": 14,
   "metadata": {},
   "outputs": [
    {
     "name": "stdout",
     "output_type": "stream",
     "text": [
      "953 ms ± 20.2 ms per loop (mean ± std. dev. of 7 runs, 1 loop each)\n"
     ]
    }
   ],
   "source": [
    "%%timeit\n",
    "RandomForestScikit = RandomForestClassifier(n_estimators = 1000)\n",
    "RandomForestScikit.fit(x,y)\n",
    "RandomForestScikit.predict(x)"
   ]
  },
  {
   "cell_type": "markdown",
   "metadata": {},
   "source": [
    "### Using a bigger dataset"
   ]
  },
  {
   "cell_type": "code",
   "execution_count": 15,
   "metadata": {},
   "outputs": [],
   "source": [
    "x_iris = datasets.load_iris()['data']\n",
    "y_iris = datasets.load_iris()['target']"
   ]
  },
  {
   "cell_type": "code",
   "execution_count": 17,
   "metadata": {},
   "outputs": [
    {
     "name": "stdout",
     "output_type": "stream",
     "text": [
      "21.6 s ± 257 ms per loop (mean ± std. dev. of 7 runs, 1 loop each)\n"
     ]
    }
   ],
   "source": [
    "%%timeit\n",
    "RF2 = RandomForest.RandomForestClassifier(n_estimators = 1000)\n",
    "RF2.fit(x_iris,y_iris)\n",
    "RF2.predict(x_iris)"
   ]
  },
  {
   "cell_type": "code",
   "execution_count": 18,
   "metadata": {},
   "outputs": [
    {
     "name": "stdout",
     "output_type": "stream",
     "text": [
      "978 ms ± 13.4 ms per loop (mean ± std. dev. of 7 runs, 1 loop each)\n"
     ]
    }
   ],
   "source": [
    "%%timeit\n",
    "RandomForestScikit = RandomForestClassifier(n_estimators = 1000)\n",
    "RandomForestScikit.fit(x_iris,y_iris)\n",
    "RandomForestScikit.predict(x_iris)"
   ]
  },
  {
   "cell_type": "markdown",
   "metadata": {},
   "source": [
    "### Comparing Results RandomForestClassifier vs Scikit"
   ]
  },
  {
   "cell_type": "code",
   "execution_count": 19,
   "metadata": {},
   "outputs": [],
   "source": [
    "X_train, X_test, y_train, y_test = train_test_split(x_iris, y_iris, test_size=0.33, random_state=42)"
   ]
  },
  {
   "cell_type": "code",
   "execution_count": 20,
   "metadata": {},
   "outputs": [
    {
     "data": {
      "text/plain": [
       "0.98"
      ]
     },
     "execution_count": 20,
     "metadata": {},
     "output_type": "execute_result"
    }
   ],
   "source": [
    "RF3 = RandomForest.RandomForestClassifier(n_estimators = 1000)\n",
    "RF3.fit(X_train,y_train)\n",
    "accuracy_score(RF3.predict(X_test),y_test)"
   ]
  },
  {
   "cell_type": "code",
   "execution_count": 21,
   "metadata": {},
   "outputs": [
    {
     "data": {
      "text/plain": [
       "0.98"
      ]
     },
     "execution_count": 21,
     "metadata": {},
     "output_type": "execute_result"
    }
   ],
   "source": [
    "RandomForestScikit2 = RandomForestClassifier(n_estimators = 1000)\n",
    "RandomForestScikit2.fit(X_train,y_train)\n",
    "accuracy_score(RandomForestScikit2.predict(X_test),y_test)"
   ]
  },
  {
   "cell_type": "code",
   "execution_count": 22,
   "metadata": {},
   "outputs": [
    {
     "data": {
      "text/plain": [
       "1.0"
      ]
     },
     "execution_count": 22,
     "metadata": {},
     "output_type": "execute_result"
    }
   ],
   "source": [
    "accuracy_score(RF3.predict(X_test),RandomForestScikit2.predict(X_test))"
   ]
  },
  {
   "cell_type": "markdown",
   "metadata": {},
   "source": [
    "### Quick Test with tsallis entroy"
   ]
  },
  {
   "cell_type": "code",
   "execution_count": 23,
   "metadata": {},
   "outputs": [
    {
     "data": {
      "text/plain": [
       "0.98"
      ]
     },
     "execution_count": 23,
     "metadata": {},
     "output_type": "execute_result"
    }
   ],
   "source": [
    "RF4 = RandomForest.RandomForestClassifier(n_estimators = 1000,loss = tsallis_entropy)\n",
    "RF4.fit(X_train,y_train)\n",
    "accuracy_score(RF3.predict(X_test),y_test)"
   ]
  },
  {
   "cell_type": "code",
   "execution_count": 24,
   "metadata": {},
   "outputs": [
    {
     "data": {
      "text/plain": [
       "1.0"
      ]
     },
     "execution_count": 24,
     "metadata": {},
     "output_type": "execute_result"
    }
   ],
   "source": [
    "accuracy_score(RF3.predict(X_test),RF4.predict(X_test))"
   ]
  }
 ],
 "metadata": {
  "kernelspec": {
   "display_name": "Python 3",
   "language": "python",
   "name": "python3"
  },
  "language_info": {
   "codemirror_mode": {
    "name": "ipython",
    "version": 3
   },
   "file_extension": ".py",
   "mimetype": "text/x-python",
   "name": "python",
   "nbconvert_exporter": "python",
   "pygments_lexer": "ipython3",
   "version": "3.7.6"
  },
  "toc": {
   "base_numbering": 1,
   "nav_menu": {},
   "number_sections": true,
   "sideBar": true,
   "skip_h1_title": false,
   "title_cell": "Table of Contents",
   "title_sidebar": "Contents",
   "toc_cell": true,
   "toc_position": {},
   "toc_section_display": true,
   "toc_window_display": true
  }
 },
 "nbformat": 4,
 "nbformat_minor": 2
}

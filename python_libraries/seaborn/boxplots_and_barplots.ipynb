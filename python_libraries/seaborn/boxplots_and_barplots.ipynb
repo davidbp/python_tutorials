{
 "cells": [
  {
   "cell_type": "code",
   "execution_count": 13,
   "metadata": {
    "ExecuteTime": {
     "end_time": "2020-01-14T17:38:32.813656Z",
     "start_time": "2020-01-14T17:38:32.810088Z"
    }
   },
   "outputs": [],
   "source": [
    "import seaborn\n",
    "import matplotlib.pyplot as plt"
   ]
  },
  {
   "cell_type": "markdown",
   "metadata": {},
   "source": [
    "# Boxplot"
   ]
  },
  {
   "cell_type": "code",
   "execution_count": 2,
   "metadata": {
    "ExecuteTime": {
     "end_time": "2020-01-14T17:36:30.621395Z",
     "start_time": "2020-01-14T17:36:30.257893Z"
    }
   },
   "outputs": [
    {
     "data": {
      "image/png": "[encoded data removed]",
      "text/plain": [
       "<Figure size 432x288 with 1 Axes>"
      ]
     },
     "metadata": {
      "needs_background": "light"
     },
     "output_type": "display_data"
    }
   ],
   "source": [
    "# library & dataset\n",
    "import seaborn as sns, numpy as np\n",
    "df = sns.load_dataset(\"iris\")\n",
    "ax = sns.boxplot(x=\"species\", y=\"sepal_length\", data=df)\n",
    " \n",
    "# Calculate number of obs per group & median to position labels\n",
    "medians = df.groupby(['species'])['sepal_length'].median().values\n",
    "nobs = df['species'].value_counts().values\n",
    "nobs = [str(x) for x in nobs.tolist()]\n",
    "nobs = [\"n: \" + i for i in nobs]"
   ]
  },
  {
   "cell_type": "markdown",
   "metadata": {},
   "source": [
    "##### Adding text to a boxplot"
   ]
  },
  {
   "cell_type": "code",
   "execution_count": 19,
   "metadata": {
    "ExecuteTime": {
     "end_time": "2020-01-14T17:39:11.488368Z",
     "start_time": "2020-01-14T17:39:11.284118Z"
    }
   },
   "outputs": [
    {
     "data": {
      "image/png": "[encoded data removed]",
      "text/plain": [
       "<Figure size 432x288 with 1 Axes>"
      ]
     },
     "metadata": {
      "needs_background": "light"
     },
     "output_type": "display_data"
    }
   ],
   "source": [
    "ax = sns.boxplot(x=\"species\", y=\"sepal_length\", data=df)\n",
    " \n",
    "# Calculate number of obs per group & median to position labels\n",
    "medians = df.groupby(['species'])['sepal_length'].median().values\n",
    "nobs = df['species'].value_counts().values\n",
    "nobs = [str(x) for x in nobs.tolist()]\n",
    "nobs = [\"n: \" + i for i in nobs]\n",
    "    \n",
    "# Add it to the plot\n",
    "pos = range(len(nobs))\n",
    "for tick,label in zip(pos,ax.get_xticklabels()):\n",
    "    ax.text(pos[tick], medians[tick] + 0.03, nobs[tick], \n",
    "            horizontalalignment='center', size='x-small', color='w', weight='semibold', label=tick)     \n",
    "\n"
   ]
  },
  {
   "cell_type": "markdown",
   "metadata": {
    "ExecuteTime": {
     "end_time": "2020-01-14T13:38:56.766798Z",
     "start_time": "2020-01-14T13:38:56.761776Z"
    }
   },
   "source": [
    "##### Adding dots to a boxplot\n",
    "Imagine that we want to add different marks at different positions.\n",
    "\n",
    "The following plot will contain \"x\" and \"o\" at differnt heights to mark some important information."
   ]
  },
  {
   "cell_type": "code",
   "execution_count": 20,
   "metadata": {
    "ExecuteTime": {
     "end_time": "2020-01-14T17:39:13.437335Z",
     "start_time": "2020-01-14T17:39:13.431277Z"
    }
   },
   "outputs": [],
   "source": [
    "default_configs = [5.5, 5.4, 7]\n",
    "default_configs_marks = [\"x\",\"x\",\"x\"]\n",
    "\n",
    "sbo = [4.5, 5, 6]\n",
    "sbo_marks = [\"o\",\"o\",\"o\"]"
   ]
  },
  {
   "cell_type": "code",
   "execution_count": 107,
   "metadata": {
    "ExecuteTime": {
     "end_time": "2020-01-14T17:51:30.637283Z",
     "start_time": "2020-01-14T17:51:30.425501Z"
    }
   },
   "outputs": [
    {
     "data": {
      "text/plain": [
       "<matplotlib.legend.Legend at 0x1a25635b38>"
      ]
     },
     "execution_count": 107,
     "metadata": {},
     "output_type": "execute_result"
    },
    {
     "data": {
      "image/png": "[encoded data removed]",
      "text/plain": [
       "<Figure size 432x288 with 1 Axes>"
      ]
     },
     "metadata": {
      "needs_background": "light"
     },
     "output_type": "display_data"
    }
   ],
   "source": [
    "df = sns.load_dataset(\"iris\")\n",
    "ax = sns.boxplot(x=\"species\", y=\"sepal_length\", data=df)\n",
    " \n",
    "# Calculate number of obs per group & median to position labels\n",
    "medians = df.groupby(['species'])['sepal_length'].median().value\n",
    "nobs = df['species'].value_counts().values\n",
    "nobs = [str(x) for x in nobs.tolist()]\n",
    "nobs = [\"n: \" + i for i in nobs]\n",
    "    \n",
    "# Add it to the plot\n",
    "pos = range(len(nobs))\n",
    "plt.scatter(pos, default_configs, marker = \"o\", alpha=1, label=\"default\")\n",
    "plt.scatter(pos, sbo            , marker = \"s\", alpha=1, label=\"sbo\")\n",
    "plt.legend(frameon=False)\n",
    "\n",
    "\n",
    "\n",
    "#plt.legend(scatterpoints=1, frameon=True, labelspacing=1, title='y')"
   ]
  },
  {
   "cell_type": "code",
   "execution_count": null,
   "metadata": {},
   "outputs": [],
   "source": []
  },
  {
   "cell_type": "code",
   "execution_count": null,
   "metadata": {},
   "outputs": [],
   "source": []
  },
  {
   "cell_type": "code",
   "execution_count": null,
   "metadata": {},
   "outputs": [],
   "source": []
  }
 ],
 "metadata": {
  "kernelspec": {
   "display_name": "Python 3",
   "language": "python",
   "name": "python3"
  },
  "language_info": {
   "codemirror_mode": {
    "name": "ipython",
    "version": 3
   },
   "file_extension": ".py",
   "mimetype": "text/x-python",
   "name": "python",
   "nbconvert_exporter": "python",
   "pygments_lexer": "ipython3",
   "version": "3.7.3"
  },
  "toc": {
   "base_numbering": 1,
   "nav_menu": {},
   "number_sections": true,
   "sideBar": true,
   "skip_h1_title": false,
   "title_cell": "Table of Contents",
   "title_sidebar": "Contents",
   "toc_cell": false,
   "toc_position": {},
   "toc_section_display": true,
   "toc_window_display": false
  }
 },
 "nbformat": 4,
 "nbformat_minor": 2
}

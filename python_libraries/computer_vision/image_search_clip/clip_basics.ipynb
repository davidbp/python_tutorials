{
 "cells": [
  {
   "cell_type": "markdown",
   "metadata": {
    "toc": true
   },
   "source": [
    "<h1>Table of Contents<span class=\"tocSkip\"></span></h1>\n",
    "<div class=\"toc\"><ul class=\"toc-item\"><li><ul class=\"toc-item\"><li><ul class=\"toc-item\"><li><span><a href=\"#Single-prediction\" data-toc-modified-id=\"Single-prediction-0.0.1\"><span class=\"toc-item-num\">0.0.1&nbsp;&nbsp;</span>Single prediction</a></span></li></ul></li></ul></li><li><span><a href=\"#Type\" data-toc-modified-id=\"Type-1\"><span class=\"toc-item-num\">1&nbsp;&nbsp;</span>Type</a></span><ul class=\"toc-item\"><li><ul class=\"toc-item\"><li><span><a href=\"#Batch-prediction\" data-toc-modified-id=\"Batch-prediction-1.0.1\"><span class=\"toc-item-num\">1.0.1&nbsp;&nbsp;</span>Batch prediction</a></span></li><li><span><a href=\"#predicting-from-a-string\" data-toc-modified-id=\"predicting-from-a-string-1.0.2\"><span class=\"toc-item-num\">1.0.2&nbsp;&nbsp;</span>predicting from a string</a></span></li></ul></li></ul></li></ul></div>"
   ]
  },
  {
   "cell_type": "markdown",
   "metadata": {},
   "source": [
    "#### Single prediction"
   ]
  },
  {
   "cell_type": "code",
   "execution_count": 3,
   "metadata": {
    "ExecuteTime": {
     "end_time": "2021-03-10T10:36:46.902270Z",
     "start_time": "2021-03-10T10:36:45.305910Z"
    }
   },
   "outputs": [],
   "source": [
    "import clip\n",
    "import torch\n",
    "import torch.utils.data as data\n",
    "import PIL\n",
    "from PIL import Image\n",
    "\n",
    "device = \"cuda\" if torch.cuda.is_available() else \"cpu\"\n",
    "model, preprocess = clip.load('ViT-B/32', device)"
   ]
  },
  {
   "cell_type": "code",
   "execution_count": 2,
   "metadata": {
    "ExecuteTime": {
     "end_time": "2021-03-10T10:36:45.290342Z",
     "start_time": "2021-03-10T10:36:45.275395Z"
    }
   },
   "outputs": [],
   "source": [
    "im = PIL.Image.open('./CLIPImageEncoder/imgs/man_piercing.jpg')"
   ]
  },
  {
   "cell_type": "code",
   "execution_count": 4,
   "metadata": {
    "ExecuteTime": {
     "end_time": "2021-03-10T10:36:46.935703Z",
     "start_time": "2021-03-10T10:36:46.922367Z"
    }
   },
   "outputs": [],
   "source": [
    "im_tensor_clip_input = preprocess(im).unsqueeze(0)"
   ]
  },
  {
   "cell_type": "code",
   "execution_count": 5,
   "metadata": {
    "ExecuteTime": {
     "end_time": "2021-03-10T10:36:47.867421Z",
     "start_time": "2021-03-10T10:36:47.572373Z"
    }
   },
   "outputs": [],
   "source": [
    "embedding_tensor = model.encode_image(im_tensor_clip_input)"
   ]
  },
  {
   "cell_type": "code",
   "execution_count": 6,
   "metadata": {
    "ExecuteTime": {
     "end_time": "2021-03-10T10:36:47.900283Z",
     "start_time": "2021-03-10T10:36:47.897584Z"
    }
   },
   "outputs": [],
   "source": [
    "embedding_np = embedding_tensor.detach().numpy()"
   ]
  },
  {
   "cell_type": "code",
   "execution_count": 7,
   "metadata": {
    "ExecuteTime": {
     "end_time": "2021-03-10T10:36:47.956493Z",
     "start_time": "2021-03-10T10:36:47.948973Z"
    }
   },
   "outputs": [
    {
     "data": {
      "text/plain": [
       "(1, 512)"
      ]
     },
     "execution_count": 7,
     "metadata": {},
     "output_type": "execute_result"
    }
   ],
   "source": [
    "embedding_np.shape"
   ]
  },
  {
   "cell_type": "code",
   "execution_count": 23,
   "metadata": {
    "ExecuteTime": {
     "end_time": "2021-03-10T10:41:49.503427Z",
     "start_time": "2021-03-10T10:41:49.500789Z"
    }
   },
   "outputs": [],
   "source": [
    "#file = open('./embedding_np.npy','w')\n",
    "#np.save(file, embedding_np)\n",
    "#file.close()"
   ]
  },
  {
   "cell_type": "code",
   "execution_count": 24,
   "metadata": {
    "ExecuteTime": {
     "end_time": "2021-03-10T10:41:49.834854Z",
     "start_time": "2021-03-10T10:41:49.831258Z"
    }
   },
   "outputs": [
    {
     "data": {
      "text/plain": [
       "tensor([[49406,  3306,  1762, 49407,     0,     0,     0,     0,     0,     0,\n",
       "             0,     0,     0,     0,     0,     0,     0,     0,     0,     0,\n",
       "             0,     0,     0,     0,     0,     0,     0,     0,     0,     0,\n",
       "             0,     0,     0,     0,     0,     0,     0,     0,     0,     0,\n",
       "             0,     0,     0,     0,     0,     0,     0,     0,     0,     0,\n",
       "             0,     0,     0,     0,     0,     0,     0,     0,     0,     0,\n",
       "             0,     0,     0,     0,     0,     0,     0,     0,     0,     0,\n",
       "             0,     0,     0,     0,     0,     0,     0]])"
      ]
     },
     "execution_count": 24,
     "metadata": {},
     "output_type": "execute_result"
    }
   ],
   "source": [
    "clip.tokenize(['hello india'])"
   ]
  },
  {
   "cell_type": "code",
   "execution_count": 22,
   "metadata": {
    "ExecuteTime": {
     "end_time": "2021-03-10T10:41:46.290392Z",
     "start_time": "2021-03-10T10:41:46.050828Z"
    }
   },
   "outputs": [
    {
     "data": {
      "text/plain": [
       "tensor([[ 2.2181e-01, -1.0193e-01,  6.1975e-02,  9.6571e-02, -4.2139e-01,\n",
       "          1.8021e-02, -4.3130e-02, -1.1107e+00, -2.0959e-01, -6.4504e-02,\n",
       "          1.3666e-01, -3.4282e-01,  1.9862e-02,  1.3880e-02, -3.0134e-02,\n",
       "         -4.2100e-02,  4.5357e-01, -2.5192e-01, -1.4415e-01,  4.0770e-03,\n",
       "          5.1219e-01, -8.8883e-02,  2.0063e-01, -2.6479e-01, -4.0861e-01,\n",
       "         -1.1505e-01,  4.8988e-02,  1.9275e-01, -1.2737e-01,  1.2102e-01,\n",
       "         -1.9066e-01, -2.2187e-01,  1.5334e-01, -2.3383e-01, -2.6926e-01,\n",
       "         -1.6644e-01, -2.2164e-02,  1.0318e-01,  1.0940e-01,  6.6479e-02,\n",
       "          1.6165e-01, -2.6018e-01,  2.1260e-01, -2.5827e-02, -3.0388e-02,\n",
       "          3.3561e-01, -1.6371e-01, -2.4495e-01,  2.5352e-01,  1.4817e-02,\n",
       "          1.9496e-01, -2.4793e-01, -5.7341e-02, -4.2380e-01,  1.0151e-01,\n",
       "         -2.0547e-01,  5.0810e-02,  2.0005e-01, -8.1289e-02, -1.6582e-01,\n",
       "          3.6747e-01, -6.5558e-02,  2.3902e-01,  2.0641e-02, -8.0594e-02,\n",
       "          1.1800e-01, -2.4028e-01,  1.5598e-01, -3.7197e-01,  3.4827e-02,\n",
       "          8.5402e-02,  4.1285e-02, -2.6824e-01, -1.3913e-01,  2.2486e-02,\n",
       "         -1.2330e-01,  2.1830e-01,  4.8629e-01, -2.8195e-02, -3.3942e-01,\n",
       "          6.0204e-02, -4.8528e-01, -3.4397e-01,  4.2106e-02,  1.7376e-01,\n",
       "         -7.8804e-02, -9.2850e-02,  2.8892e-01, -3.4285e-01,  4.1115e-01,\n",
       "         -3.4187e-01,  1.6768e-01, -1.6469e+00,  4.7862e-01,  1.6933e-01,\n",
       "          6.0237e-02,  2.6930e-01,  3.8399e-01,  1.4008e-01, -2.0804e-01,\n",
       "          1.6208e-01,  2.6574e-01,  4.0261e-01,  1.9399e-01, -5.1279e-01,\n",
       "         -2.5193e-01,  3.0431e-01, -1.6208e-01,  1.3670e-01,  2.0126e-01,\n",
       "         -3.1369e-01,  7.7895e-01, -1.5120e-01, -2.0954e-01, -8.9752e-02,\n",
       "          2.1851e-01, -2.3018e-01,  3.1734e-01, -4.5623e-03, -2.6197e-01,\n",
       "          1.9279e-01, -3.0371e-01,  1.8644e-01, -1.8691e-01,  3.2704e-02,\n",
       "         -3.0590e-02, -4.9579e-02, -1.0330e-02,  6.4965e-02, -1.0337e-01,\n",
       "         -2.8754e-02,  2.1053e-01, -2.2417e-02,  6.9978e+00,  2.5761e-01,\n",
       "          3.4616e-01,  2.0510e-01, -5.6042e-01, -1.5491e-01, -4.1499e-01,\n",
       "          3.3449e-02,  3.1676e-01, -2.7944e-01,  3.7913e-02, -7.8557e-02,\n",
       "          1.9975e-01, -3.9848e-02,  4.5104e-01,  1.3646e-01,  3.3994e-03,\n",
       "          4.3049e-01, -2.2060e-01, -3.2043e-01,  1.3666e-01,  5.3656e-03,\n",
       "          3.4974e-02,  8.5719e-02,  4.7581e-01, -2.3576e-01,  3.6012e-01,\n",
       "         -1.2335e-01, -3.9779e-02, -2.6089e-01,  2.7297e-01,  7.2774e-02,\n",
       "          5.1895e-02,  3.8187e-01, -1.2779e-01,  3.2908e-01, -9.9473e-02,\n",
       "         -2.1883e-01, -1.2452e-01,  1.0152e-01, -1.3638e-01,  6.3782e-03,\n",
       "          2.0879e-01, -4.4576e-01, -2.0059e-01,  5.5334e-01,  2.6186e-02,\n",
       "         -2.4008e-02, -1.6346e-01, -7.0470e-02, -2.3081e-01,  1.2200e-01,\n",
       "         -1.9340e-01,  8.5995e-02, -1.9689e-01, -3.8034e-02, -3.4244e-02,\n",
       "         -4.7966e-03,  6.4294e-02,  1.4777e-01, -2.5691e-02,  3.9664e-01,\n",
       "          1.0186e-02, -1.8588e-01, -3.7356e-02, -2.6866e-01,  1.1009e-01,\n",
       "          2.0545e-01,  3.0613e-02,  1.0729e-01,  8.0878e-02,  2.7282e-01,\n",
       "          2.0273e-02, -7.8915e-02,  5.0020e-01, -1.0618e-01, -1.3496e-01,\n",
       "          1.3725e-01, -2.5632e-01,  8.4261e-02,  1.1709e-01, -1.4689e-01,\n",
       "          1.5649e-01, -1.8502e-01,  2.1218e-01, -2.2911e-01, -3.3744e-01,\n",
       "         -1.2581e-01,  2.3617e-01, -1.9956e-01,  3.5760e-02,  1.4110e-01,\n",
       "         -6.4097e-02, -1.8140e-01,  1.1734e-01,  4.7470e-02, -2.8823e-01,\n",
       "          1.1758e-01,  3.9432e-02, -7.2150e-02,  1.2552e-01,  7.3724e-03,\n",
       "         -4.0274e-02,  1.7127e-01, -4.0059e-01, -2.3580e-01, -2.2889e-01,\n",
       "          8.0693e-02,  2.5191e-01,  2.6523e-03, -2.2118e-01,  7.4753e-02,\n",
       "          1.6281e-01,  6.0310e-02, -5.0952e-01, -1.1414e-01, -4.4380e-02,\n",
       "         -3.0820e-01, -2.0991e-01, -6.9932e-02, -8.5368e-02, -2.0206e-01,\n",
       "         -1.4624e-01,  8.0950e-02,  1.0326e-01,  3.1164e-01, -3.0754e-01,\n",
       "         -1.9798e-01, -6.1306e-02,  1.5043e-01,  4.1168e-01, -1.0957e-01,\n",
       "          1.1013e-02, -9.5479e-02,  1.0894e-01,  2.4831e-01,  2.7086e-01,\n",
       "          5.4184e-02, -1.4531e-01,  2.3220e-01,  2.1501e-01, -2.0268e-01,\n",
       "          4.9656e-02,  1.0612e-03,  1.1565e-01, -8.5239e-02,  1.5346e-01,\n",
       "         -8.3920e-02, -1.0078e-01,  4.3559e-01, -2.1084e-01,  3.9750e-01,\n",
       "          2.7040e-01,  9.9334e-02,  1.6550e-02, -1.1284e-01, -2.7799e-01,\n",
       "          2.6875e-01,  7.4906e-02,  7.7225e-02,  2.0218e-01, -3.6470e-01,\n",
       "          1.4076e-01,  3.2246e-01, -3.6172e-01,  1.5422e-01, -1.0060e-01,\n",
       "         -1.3212e-01,  1.3007e-01,  2.3340e-01, -1.0806e-02,  2.4469e-01,\n",
       "          9.6074e-01, -2.1628e-01,  2.7848e-01,  1.4684e-02,  7.0147e-02,\n",
       "          4.0496e-01, -2.3121e-01,  6.9935e+00, -2.7202e-01, -4.3537e-02,\n",
       "          2.1493e-01, -1.2462e-02,  4.9445e-01,  4.7157e-02,  2.1587e-01,\n",
       "         -1.2637e-01,  4.2515e-01, -2.4057e-01,  7.0599e-02,  1.0184e-01,\n",
       "         -1.5456e-02, -2.8208e-01, -1.9442e-01,  5.9984e-02, -1.9782e+00,\n",
       "         -8.5009e-02,  3.4003e-01,  3.7559e-02,  3.4437e-02,  2.8912e-01,\n",
       "         -1.1858e-01,  3.0600e-01,  1.5422e-01, -1.0347e-01,  9.2855e-02,\n",
       "         -7.5194e-02,  1.7806e-01,  8.9083e-02,  1.4285e-01,  2.4847e-01,\n",
       "          4.1345e-02,  5.3876e-02, -9.6865e-02, -5.7800e-02, -5.6968e-02,\n",
       "          3.6702e-01,  3.4595e-01,  1.7791e-01,  2.5637e-01, -2.9374e-04,\n",
       "         -1.0113e-01,  1.5451e-01,  4.0756e-01,  2.0444e-01, -2.6038e-01,\n",
       "          1.6617e-01,  1.3563e-01,  5.7584e-01,  6.9937e-01, -8.0776e-02,\n",
       "          2.0543e-01,  6.8063e-02, -8.9942e-02,  7.3658e-02, -4.0273e-01,\n",
       "          1.0294e-01,  2.2097e-01, -2.1686e-01,  2.9801e-01, -9.4427e-02,\n",
       "         -2.6175e-03, -3.3969e-01, -1.4980e-01,  3.4567e-01,  1.5645e-02,\n",
       "          4.0316e-02,  3.0286e-01, -1.4728e-01, -3.1469e-01,  5.6619e-01,\n",
       "          5.0084e-01,  5.3199e-02,  1.2436e-01, -2.3093e-01,  1.8068e-01,\n",
       "          7.8791e-04, -3.0338e-01,  8.4482e-03, -2.1369e-01,  1.9508e-01,\n",
       "          1.0518e-01, -1.2192e-01,  3.2995e-01, -4.7669e-01,  3.8166e-01,\n",
       "          1.3237e-01,  1.4896e-01,  2.6939e-01, -2.0514e-01, -1.1094e-01,\n",
       "          5.8089e-02, -2.8011e-01,  1.7513e-01,  1.3785e-01,  1.8362e-02,\n",
       "          1.3996e-01,  2.1179e-01,  1.4251e-01,  2.6685e-01,  1.1182e-02,\n",
       "          1.8333e-01, -1.5507e-01, -5.8332e-02,  2.7740e-01, -7.5395e-02,\n",
       "          2.9933e-02,  3.3968e-02,  1.3270e-02,  3.2888e-02,  2.3391e-01,\n",
       "         -6.8326e-02, -3.4886e-01,  3.2669e-02, -4.1848e-02,  1.8016e-01,\n",
       "         -1.7968e-01, -9.6374e-02, -3.6429e-01,  1.3741e-02, -5.6069e-02,\n",
       "          1.2493e-02, -7.9043e-03, -3.1893e-01, -2.0623e-02,  8.8332e-02,\n",
       "         -1.2658e-02,  1.5326e-01, -1.0691e-01, -2.9235e-01, -1.0109e-01,\n",
       "          8.6339e-02,  3.8144e-02, -7.7246e-02,  1.8648e-02, -1.6603e-01,\n",
       "         -2.1923e-01,  8.2930e-02, -1.9434e-02, -1.1644e-01,  2.4975e-01,\n",
       "          3.4254e-01,  2.8911e-01, -1.1747e-01,  5.3474e-02,  3.5208e-01,\n",
       "          1.4570e-01, -4.5433e-01, -9.9223e-02,  3.6409e-01,  4.4014e-02,\n",
       "         -2.0367e-03,  2.7595e-01, -6.5580e-02, -8.4210e-02,  1.0367e-01,\n",
       "         -3.4575e-01,  1.8459e-01, -1.9074e-01, -1.4558e-01,  3.7658e-01,\n",
       "          2.0010e-01,  1.3419e-01,  2.3775e-02,  1.0478e-01,  2.7701e-02,\n",
       "          3.5726e-01, -5.6238e-01,  6.1919e-02,  2.6622e-01,  1.7802e-01,\n",
       "         -2.8781e-01, -2.8463e-01,  2.3013e-01, -6.8761e-02, -2.8262e-01,\n",
       "         -2.4727e-01,  2.6052e-01, -3.6761e-02, -5.9447e-01,  7.0156e-02,\n",
       "         -4.5265e-02, -1.5284e-01, -2.1348e-01, -4.2939e-02,  1.2564e-01,\n",
       "         -3.0057e-01, -2.1113e-01,  2.5417e-01, -1.4628e-01, -9.7505e-02,\n",
       "         -5.3476e-01, -2.0477e-02,  4.1472e-02,  5.2425e-02,  6.0234e-02,\n",
       "         -1.5451e-01,  1.0536e-01]], grad_fn=<MmBackward>)"
      ]
     },
     "execution_count": 22,
     "metadata": {},
     "output_type": "execute_result"
    }
   ],
   "source": [
    "model.encode_text(clip.tokenize(['hello india']))"
   ]
  },
  {
   "cell_type": "markdown",
   "metadata": {},
   "source": [
    "## Type"
   ]
  },
  {
   "cell_type": "code",
   "execution_count": 12,
   "metadata": {
    "ExecuteTime": {
     "end_time": "2021-03-10T10:36:59.911904Z",
     "start_time": "2021-03-10T10:36:59.909305Z"
    }
   },
   "outputs": [
    {
     "data": {
      "text/plain": [
       "torch.Tensor"
      ]
     },
     "execution_count": 12,
     "metadata": {},
     "output_type": "execute_result"
    }
   ],
   "source": [
    "type(im_tensor_clip_input)"
   ]
  },
  {
   "cell_type": "code",
   "execution_count": 15,
   "metadata": {
    "ExecuteTime": {
     "end_time": "2021-03-10T10:37:17.024489Z",
     "start_time": "2021-03-10T10:37:17.018748Z"
    },
    "scrolled": true
   },
   "outputs": [
    {
     "data": {
      "text/plain": [
       "dtype('float32')"
      ]
     },
     "execution_count": 15,
     "metadata": {},
     "output_type": "execute_result"
    }
   ],
   "source": [
    "np.array(im_tensor_clip_input).dtype"
   ]
  },
  {
   "cell_type": "code",
   "execution_count": 9,
   "metadata": {
    "ExecuteTime": {
     "end_time": "2021-03-10T10:36:49.615629Z",
     "start_time": "2021-03-10T10:36:49.612381Z"
    }
   },
   "outputs": [
    {
     "data": {
      "text/plain": [
       "dtype('float32')"
      ]
     },
     "execution_count": 9,
     "metadata": {},
     "output_type": "execute_result"
    }
   ],
   "source": [
    "im_tensor_clip_input.detach().numpy().dtype"
   ]
  },
  {
   "cell_type": "markdown",
   "metadata": {},
   "source": [
    "#### Batch prediction"
   ]
  },
  {
   "cell_type": "code",
   "execution_count": 8,
   "metadata": {
    "ExecuteTime": {
     "end_time": "2021-02-23T10:13:26.751925Z",
     "start_time": "2021-02-23T10:13:26.749585Z"
    }
   },
   "outputs": [],
   "source": [
    "batch = torch.cat([im_tensor_clip_input,\n",
    "                   im_tensor_clip_input,\n",
    "                   im_tensor_clip_input])"
   ]
  },
  {
   "cell_type": "code",
   "execution_count": 9,
   "metadata": {
    "ExecuteTime": {
     "end_time": "2021-02-23T10:13:27.680228Z",
     "start_time": "2021-02-23T10:13:27.156095Z"
    }
   },
   "outputs": [
    {
     "data": {
      "text/plain": [
       "torch.Size([3, 512])"
      ]
     },
     "execution_count": 9,
     "metadata": {},
     "output_type": "execute_result"
    }
   ],
   "source": [
    "model.encode_image(batch).shape"
   ]
  },
  {
   "cell_type": "markdown",
   "metadata": {},
   "source": [
    "#### predicting from a string"
   ]
  },
  {
   "cell_type": "code",
   "execution_count": 20,
   "metadata": {
    "ExecuteTime": {
     "end_time": "2021-02-23T10:20:01.936253Z",
     "start_time": "2021-02-23T10:20:01.932463Z"
    }
   },
   "outputs": [
    {
     "data": {
      "text/plain": [
       "tensor([[49406,  3306,   997, 49407,     0,     0,     0,     0,     0,     0,\n",
       "             0,     0,     0,     0,     0,     0,     0,     0,     0,     0,\n",
       "             0,     0,     0,     0,     0,     0,     0,     0,     0,     0,\n",
       "             0,     0,     0,     0,     0,     0,     0,     0,     0,     0,\n",
       "             0,     0,     0,     0,     0,     0,     0,     0,     0,     0,\n",
       "             0,     0,     0,     0,     0,     0,     0,     0,     0,     0,\n",
       "             0,     0,     0,     0,     0,     0,     0,     0,     0,     0,\n",
       "             0,     0,     0,     0,     0,     0,     0],\n",
       "        [49406,   589,   533,  2259, 49407,     0,     0,     0,     0,     0,\n",
       "             0,     0,     0,     0,     0,     0,     0,     0,     0,     0,\n",
       "             0,     0,     0,     0,     0,     0,     0,     0,     0,     0,\n",
       "             0,     0,     0,     0,     0,     0,     0,     0,     0,     0,\n",
       "             0,     0,     0,     0,     0,     0,     0,     0,     0,     0,\n",
       "             0,     0,     0,     0,     0,     0,     0,     0,     0,     0,\n",
       "             0,     0,     0,     0,     0,     0,     0,     0,     0,     0,\n",
       "             0,     0,     0,     0,     0,     0,     0]])"
      ]
     },
     "execution_count": 20,
     "metadata": {},
     "output_type": "execute_result"
    }
   ],
   "source": [
    "clip.tokenize(['hello there', 'this is david'])"
   ]
  },
  {
   "cell_type": "code",
   "execution_count": 22,
   "metadata": {
    "ExecuteTime": {
     "end_time": "2021-02-23T10:20:15.189691Z",
     "start_time": "2021-02-23T10:20:15.185835Z"
    },
    "scrolled": true
   },
   "outputs": [
    {
     "data": {
      "text/plain": [
       "tensor([[49406,  3306,   997, 49407,     0,     0,     0,     0,     0,     0,\n",
       "             0,     0,     0,     0,     0,     0,     0,     0,     0,     0,\n",
       "             0,     0,     0,     0,     0,     0,     0,     0,     0,     0,\n",
       "             0,     0,     0,     0,     0,     0,     0,     0,     0,     0,\n",
       "             0,     0,     0,     0,     0,     0,     0,     0,     0,     0,\n",
       "             0,     0,     0,     0,     0,     0,     0,     0,     0,     0,\n",
       "             0,     0,     0,     0,     0,     0,     0,     0,     0,     0,\n",
       "             0,     0,     0,     0,     0,     0,     0],\n",
       "        [49406,   589,   533,  2259, 49407,     0,     0,     0,     0,     0,\n",
       "             0,     0,     0,     0,     0,     0,     0,     0,     0,     0,\n",
       "             0,     0,     0,     0,     0,     0,     0,     0,     0,     0,\n",
       "             0,     0,     0,     0,     0,     0,     0,     0,     0,     0,\n",
       "             0,     0,     0,     0,     0,     0,     0,     0,     0,     0,\n",
       "             0,     0,     0,     0,     0,     0,     0,     0,     0,     0,\n",
       "             0,     0,     0,     0,     0,     0,     0,     0,     0,     0,\n",
       "             0,     0,     0,     0,     0,     0,     0]])"
      ]
     },
     "execution_count": 22,
     "metadata": {},
     "output_type": "execute_result"
    }
   ],
   "source": [
    "x = clip.tokenize(np.array(['hello there', 'this is david']))\n",
    "x"
   ]
  },
  {
   "cell_type": "code",
   "execution_count": 24,
   "metadata": {
    "ExecuteTime": {
     "end_time": "2021-02-23T10:20:23.185050Z",
     "start_time": "2021-02-23T10:20:22.881386Z"
    }
   },
   "outputs": [
    {
     "data": {
      "text/plain": [
       "torch.Size([2, 512])"
      ]
     },
     "execution_count": 24,
     "metadata": {},
     "output_type": "execute_result"
    }
   ],
   "source": [
    "model.encode_text(x).shape"
   ]
  },
  {
   "cell_type": "code",
   "execution_count": null,
   "metadata": {},
   "outputs": [],
   "source": []
  },
  {
   "cell_type": "code",
   "execution_count": null,
   "metadata": {},
   "outputs": [],
   "source": []
  },
  {
   "cell_type": "code",
   "execution_count": null,
   "metadata": {},
   "outputs": [],
   "source": []
  },
  {
   "cell_type": "code",
   "execution_count": null,
   "metadata": {},
   "outputs": [],
   "source": []
  }
 ],
 "metadata": {
  "kernelspec": {
   "display_name": "Python 3",
   "language": "python",
   "name": "python3"
  },
  "language_info": {
   "codemirror_mode": {
    "name": "ipython",
    "version": 3
   },
   "file_extension": ".py",
   "mimetype": "text/x-python",
   "name": "python",
   "nbconvert_exporter": "python",
   "pygments_lexer": "ipython3",
   "version": "3.8.5"
  },
  "toc": {
   "base_numbering": 1,
   "nav_menu": {},
   "number_sections": true,
   "sideBar": true,
   "skip_h1_title": false,
   "title_cell": "Table of Contents",
   "title_sidebar": "Contents",
   "toc_cell": true,
   "toc_position": {},
   "toc_section_display": true,
   "toc_window_display": true
  },
  "varInspector": {
   "cols": {
    "lenName": 16,
    "lenType": 16,
    "lenVar": 40
   },
   "kernels_config": {
    "python": {
     "delete_cmd_postfix": "",
     "delete_cmd_prefix": "del ",
     "library": "var_list.py",
     "varRefreshCmd": "print(var_dic_list())"
    },
    "r": {
     "delete_cmd_postfix": ") ",
     "delete_cmd_prefix": "rm(",
     "library": "var_list.r",
     "varRefreshCmd": "cat(var_dic_list()) "
    }
   },
   "types_to_exclude": [
    "module",
    "function",
    "builtin_function_or_method",
    "instance",
    "_Feature"
   ],
   "window_display": false
  }
 },
 "nbformat": 4,
 "nbformat_minor": 4
}

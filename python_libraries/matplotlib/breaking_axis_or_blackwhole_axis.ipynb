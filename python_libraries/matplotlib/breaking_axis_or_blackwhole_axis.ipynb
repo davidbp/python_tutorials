{
 "cells": [
  {
   "cell_type": "markdown",
   "metadata": {},
   "source": [
    "## Breaking y axis plot\n",
    "\n",
    "\n",
    "Sometimes in a barplot a single bar can dominate the scale. This produces the other bars appear almost the same relative to each other. To avoid this, we can break the scale of the Y axis.\n",
    "\n"
   ]
  },
  {
   "cell_type": "code",
   "execution_count": 22,
   "metadata": {
    "ExecuteTime": {
     "end_time": "2020-02-13T10:16:34.812248Z",
     "start_time": "2020-02-13T10:16:34.806810Z"
    }
   },
   "outputs": [],
   "source": [
    "import pandas as pd\n",
    "import matplotlib.pyplot as plt\n",
    "import numpy as np\n",
    "\n",
    "XX = pd.Series([200,400,100,8000],index=['x1','x2','x3','x4'])"
   ]
  },
  {
   "cell_type": "code",
   "execution_count": 33,
   "metadata": {
    "ExecuteTime": {
     "end_time": "2020-02-13T10:23:17.134447Z",
     "start_time": "2020-02-13T10:23:16.932074Z"
    }
   },
   "outputs": [
    {
     "data": {
      "text/plain": [
       "<matplotlib.axes._subplots.AxesSubplot at 0x119c3c940>"
      ]
     },
     "execution_count": 33,
     "metadata": {},
     "output_type": "execute_result"
    },
    {
     "data": {
      "image/png": "[encoded data removed]",
      "text/plain": [
       "<Figure size 432x288 with 1 Axes>"
      ]
     },
     "metadata": {
      "needs_background": "light"
     },
     "output_type": "display_data"
    }
   ],
   "source": [
    "pd.DataFrame(XX).plot(kind=\"bar\")"
   ]
  },
  {
   "cell_type": "markdown",
   "metadata": {
    "ExecuteTime": {
     "end_time": "2020-02-13T10:14:18.080351Z",
     "start_time": "2020-02-13T10:14:18.066769Z"
    }
   },
   "source": [
    "Notice that the plot from above is had to grasp:\n",
    "\n",
    "is the third bar half the height of the first one? do they have very similar height?"
   ]
  },
  {
   "cell_type": "code",
   "execution_count": 24,
   "metadata": {
    "ExecuteTime": {
     "end_time": "2020-02-13T10:17:14.121636Z",
     "start_time": "2020-02-13T10:17:13.889272Z"
    }
   },
   "outputs": [
    {
     "data": {
      "image/png": "[encoded data removed]",
      "text/plain": [
       "<Figure size 360x432 with 2 Axes>"
      ]
     },
     "metadata": {
      "needs_background": "light"
     },
     "output_type": "display_data"
    }
   ],
   "source": [
    "import pandas as pd\n",
    "import matplotlib.pyplot as plt\n",
    "import numpy as np\n",
    "\n",
    "#XX = pd.Series([200,400,100,1400],index=['x1','x2','x3','x4'])\n",
    "fig, (ax1,ax2) = plt.subplots(2,1,sharex=True,\n",
    "                         figsize=(5,6))\n",
    "\n",
    "ax1.spines['bottom'].set_visible(False)\n",
    "ax1.tick_params(axis='x',which='both',bottom=False)\n",
    "ax2.spines['top'].set_visible(False)\n",
    "\n",
    "bs = 500\n",
    "ts = 1000\n",
    "\n",
    "ax2.set_ylim(0,bs)\n",
    "ax1.set_ylim(ts,XX.max()+1000)\n",
    "#ax1.set_yticks(np.arange(1000,XX.max()+1,100))\n",
    "\n",
    "bars1 = ax1.bar(XX.index, XX.values)\n",
    "bars2 = ax2.bar(XX.index, XX.values)\n",
    "\n",
    "for tick in ax2.get_xticklabels():\n",
    "    tick.set_rotation(0)\n",
    "\n",
    "d = .015  \n",
    "\n",
    "kwargs = dict(transform=ax1.transAxes, color='k', clip_on=False)\n",
    "ax1.plot((-d, +d), (-d, +d), **kwargs)      \n",
    "ax1.plot((1 - d, 1 + d), (-d, +d), **kwargs)\n",
    "kwargs.update(transform=ax2.transAxes)  \n",
    "ax2.plot((-d, +d), (1 - d, 1 + d), **kwargs)  \n",
    "ax2.plot((1 - d, 1 + d), (1 - d, 1 + d), **kwargs)\n",
    "\n",
    "for b1, b2 in zip(bars1, bars2):\n",
    "    posx = b2.get_x() + b2.get_width()/2.\n",
    "    if b2.get_height() > bs:\n",
    "        ax2.plot((posx-3*d, posx+3*d), (1 - d, 1 + d), color='k', clip_on=False,\n",
    "                 transform=ax2.get_xaxis_transform())\n",
    "    if b1.get_height() > ts:\n",
    "        ax1.plot((posx-3*d, posx+3*d), (- d, + d), color='k', clip_on=False,\n",
    "                 transform=ax1.get_xaxis_transform())\n",
    "plt.show()"
   ]
  },
  {
   "cell_type": "code",
   "execution_count": null,
   "metadata": {},
   "outputs": [],
   "source": []
  },
  {
   "cell_type": "code",
   "execution_count": null,
   "metadata": {},
   "outputs": [],
   "source": []
  },
  {
   "cell_type": "code",
   "execution_count": null,
   "metadata": {},
   "outputs": [],
   "source": []
  },
  {
   "cell_type": "code",
   "execution_count": null,
   "metadata": {},
   "outputs": [],
   "source": []
  }
 ],
 "metadata": {
  "kernelspec": {
   "display_name": "Python 3",
   "language": "python",
   "name": "python3"
  },
  "language_info": {
   "codemirror_mode": {
    "name": "ipython",
    "version": 3
   },
   "file_extension": ".py",
   "mimetype": "text/x-python",
   "name": "python",
   "nbconvert_exporter": "python",
   "pygments_lexer": "ipython3",
   "version": "3.7.3"
  },
  "toc": {
   "base_numbering": 1,
   "nav_menu": {},
   "number_sections": true,
   "sideBar": true,
   "skip_h1_title": false,
   "title_cell": "Table of Contents",
   "title_sidebar": "Contents",
   "toc_cell": false,
   "toc_position": {},
   "toc_section_display": true,
   "toc_window_display": false
  }
 },
 "nbformat": 4,
 "nbformat_minor": 4
}

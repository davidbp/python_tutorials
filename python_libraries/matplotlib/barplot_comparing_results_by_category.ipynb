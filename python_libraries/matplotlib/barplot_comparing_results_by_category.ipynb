{
 "cells": [
  {
   "cell_type": "markdown",
   "metadata": {},
   "source": [
    "# Barplot basics"
   ]
  },
  {
   "cell_type": "code",
   "execution_count": 1,
   "metadata": {
    "ExecuteTime": {
     "end_time": "2020-01-20T13:09:14.173588Z",
     "start_time": "2020-01-20T13:09:13.160265Z"
    }
   },
   "outputs": [],
   "source": [
    "%matplotlib inline"
   ]
  },
  {
   "cell_type": "code",
   "execution_count": 2,
   "metadata": {
    "ExecuteTime": {
     "end_time": "2020-01-20T13:09:14.181518Z",
     "start_time": "2020-01-20T13:09:14.176018Z"
    }
   },
   "outputs": [],
   "source": [
    "import numpy as np\n",
    "import matplotlib.pyplot as plt"
   ]
  },
  {
   "cell_type": "markdown",
   "metadata": {},
   "source": [
    "The basic method to make barplots is **`plt.bar(x_pos, y_heights)`** which takes as input:\n",
    "\n",
    "- `x_pos` an iterable with the positions of the bars.\n",
    "\n",
    "- `y_hegihts` and iterable with the heights of each of the bars."
   ]
  },
  {
   "cell_type": "code",
   "execution_count": 9,
   "metadata": {
    "ExecuteTime": {
     "end_time": "2020-01-20T13:09:38.162130Z",
     "start_time": "2020-01-20T13:09:37.982972Z"
    },
    "scrolled": true
   },
   "outputs": [
    {
     "data": {
      "text/plain": [
       "Text(0.5, 0, 'xlabel title')"
      ]
     },
     "execution_count": 9,
     "metadata": {},
     "output_type": "execute_result"
    },
    {
     "data": {
      "image/png": "[encoded data removed]",
      "text/plain": [
       "<Figure size 432x288 with 1 Axes>"
      ]
     },
     "metadata": {
      "needs_background": "light"
     },
     "output_type": "display_data"
    }
   ],
   "source": [
    "height = [10, 2, 2, 1, 5]\n",
    "y_pos = np.arange(len(height))\n",
    "plt.bar(y_pos, height, color=(0.2, 0.4, 0.6, 0.6))\n",
    " \n",
    "# Custom Axis title\n",
    "plt.xlabel('xlabel title', fontweight='bold', color = 'red', fontsize='17', horizontalalignment='center')"
   ]
  },
  {
   "cell_type": "code",
   "execution_count": 10,
   "metadata": {
    "ExecuteTime": {
     "end_time": "2020-01-20T13:09:43.992859Z",
     "start_time": "2020-01-20T13:09:43.832412Z"
    }
   },
   "outputs": [
    {
     "data": {
      "image/png": "[encoded data removed]",
      "text/plain": [
       "<Figure size 432x288 with 1 Axes>"
      ]
     },
     "metadata": {
      "needs_background": "light"
     },
     "output_type": "display_data"
    }
   ],
   "source": [
    "height = [10, 2, 2, 1, 5]\n",
    "y_pos = np.arange(len(height))\n",
    "plt.bar(y_pos, height, color=(0.2, 0.4, 0.6, 0.6))\n",
    " \n",
    "# Custom ticks\n",
    "plt.tick_params(axis='x', colors='red', direction='out', length=13, width=2)\n",
    " \n",
    "# You can remove them:\n",
    "plt.tick_params(bottom='off')\n"
   ]
  },
  {
   "cell_type": "code",
   "execution_count": 11,
   "metadata": {
    "ExecuteTime": {
     "end_time": "2020-01-20T13:09:47.660969Z",
     "start_time": "2020-01-20T13:09:47.522302Z"
    }
   },
   "outputs": [
    {
     "data": {
      "image/png": "[encoded data removed]",
      "text/plain": [
       "<Figure size 432x288 with 1 Axes>"
      ]
     },
     "metadata": {
      "needs_background": "light"
     },
     "output_type": "display_data"
    }
   ],
   "source": [
    "y_height = [10, 2, 2, 1, 5]\n",
    "\n",
    "plt.bar(x_pos, y_height, color=(0.2, 0.4, 0.6, 0.6))\n",
    "\n",
    "x_pos = np.arange(len(y_height))\n",
    "x_names = [\"a\",'b','c','d','e']\n",
    "    \n",
    "# use the plt.xticks function to custom labels\n",
    "plt.xticks(x_pos, x_names, color='black', rotation=0, fontweight='bold', fontsize='12', horizontalalignment='center')\n",
    " \n",
    "# remove labels\n",
    "plt.tick_params(labelbottom='off')"
   ]
  },
  {
   "cell_type": "code",
   "execution_count": 13,
   "metadata": {
    "ExecuteTime": {
     "end_time": "2020-01-20T13:09:50.539311Z",
     "start_time": "2020-01-20T13:09:50.335847Z"
    }
   },
   "outputs": [
    {
     "data": {
      "text/plain": [
       "(0, 9)"
      ]
     },
     "execution_count": 13,
     "metadata": {},
     "output_type": "execute_result"
    },
    {
     "data": {
      "image/png": "[encoded data removed]",
      "text/plain": [
       "<Figure size 432x288 with 1 Axes>"
      ]
     },
     "metadata": {
      "needs_background": "light"
     },
     "output_type": "display_data"
    }
   ],
   "source": [
    "height = [10, 2, 2, 1, 5]\n",
    "bars = ('A', 'B', 'C', 'D', 'E')\n",
    "x_pos = np.arange(1,len(bars)+1)\n",
    "plt.bar(x_pos, height, color=(0.2, 0.4, 0.6, 0.6))\n",
    " \n",
    "# Set the limit\n",
    "plt.xlim(0,9)"
   ]
  },
  {
   "cell_type": "markdown",
   "metadata": {
    "ExecuteTime": {
     "end_time": "2020-01-20T13:09:54.331001Z",
     "start_time": "2020-01-20T13:09:54.328206Z"
    }
   },
   "source": [
    "## Adding error intervals at the top of a bar\n",
    "\n",
    "\n",
    "Let `yerr` be an iterable containing he heights of the errorbars we want to plot\n",
    "Then the following command plots the errobars:\n",
    "\n",
    "```\n",
    "plt.errorbar(x, y, xerr, yerr)\n",
    "```"
   ]
  },
  {
   "cell_type": "code",
   "execution_count": 45,
   "metadata": {
    "ExecuteTime": {
     "end_time": "2020-01-20T13:18:36.379752Z",
     "start_time": "2020-01-20T13:18:36.171291Z"
    }
   },
   "outputs": [
    {
     "data": {
      "text/plain": [
       "(0, 9)"
      ]
     },
     "execution_count": 45,
     "metadata": {},
     "output_type": "execute_result"
    },
    {
     "data": {
      "image/png": "[encoded data removed]",
      "text/plain": [
       "<Figure size 432x288 with 1 Axes>"
      ]
     },
     "metadata": {
      "needs_background": "light"
     },
     "output_type": "display_data"
    }
   ],
   "source": [
    "height = [10, 2, 2, 1, 5]\n",
    "bars = ('A', 'B', 'C', 'D', 'E')\n",
    "x_pos = np.arange(1,len(bars)+1)\n",
    "plt.bar(x_pos, height, color=(0.2, 0.4, 0.6, 0.6))\n",
    "\n",
    "yerr = 0.1 + 0.2*np.sqrt(height)\n",
    "yerr[0] = 2\n",
    "plt.errorbar(x_pos, height, xerr=0.0, yerr=yerr, fmt=' ')\n",
    "\n",
    "# Set the limit\n",
    "plt.xlim(0,9)"
   ]
  },
  {
   "cell_type": "markdown",
   "metadata": {},
   "source": [
    "# Barplot comparing results by categorical value\n",
    "\n",
    "The following plot contains bars with 2 colors (because there are 2 categories)"
   ]
  },
  {
   "cell_type": "code",
   "execution_count": 26,
   "metadata": {},
   "outputs": [
    {
     "data": {
      "image/png": "[encoded data removed]",
      "text/plain": [
       "<Figure size 432x288 with 1 Axes>"
      ]
     },
     "metadata": {
      "needs_background": "light"
     },
     "output_type": "display_data"
    }
   ],
   "source": [
    "import matplotlib.pyplot as plt\n",
    "import numpy as np\n",
    " \n",
    "models =['SVM', 'LogisticRegression', 'MLP', 'RBF', 'KNN']\n",
    "groups=['MyModelAlgorithm', 'StandardAlgorithm']\n",
    "pos = np.arange(len(models))\n",
    "bar_width = 0.3\n",
    "\n",
    "results_MyAlgorithm=[10, 20, 30, 45, 15]\n",
    "resultsStandardAlgorithm=[30, 60, 70, 55, 75]\n",
    "\n",
    "plt.bar(pos, resultsStandardAlgorithm, bar_width, color='red', edgecolor='black',alpha=1.)\n",
    "plt.bar(pos, results_MyAlgorithm, bar_width, color='blue', edgecolor='black')\n",
    "plt.xticks(pos,  models)\n",
    "plt.xlabel('models',  fontsize=16)\n",
    "plt.ylabel('train time',  fontsize=16)\n",
    "plt.title('Group Barchart - Happiness index across cities By groups', fontsize=18)\n",
    "plt.legend(groups, loc=2)\n",
    "plt.show()"
   ]
  },
  {
   "cell_type": "markdown",
   "metadata": {},
   "source": [
    "Sometimes results might not be easy drawn with the previous approach becuase one category will not have all bars\n",
    "above another one. In this case we can set \"bar_width\" to displace the barts in each position of the X axis."
   ]
  },
  {
   "cell_type": "code",
   "execution_count": 25,
   "metadata": {
    "scrolled": true
   },
   "outputs": [
    {
     "data": {
      "image/png": "[encoded data removed]",
      "text/plain": [
       "<Figure size 432x288 with 1 Axes>"
      ]
     },
     "metadata": {
      "needs_background": "light"
     },
     "output_type": "display_data"
    }
   ],
   "source": [
    "import matplotlib.pyplot as plt\n",
    "import numpy as np\n",
    " \n",
    "models =['SVM', 'LogisticRegression', 'MLP', 'RBF', 'KNN']\n",
    "groups=['MyModelAlgorithm', 'StandardAlgorithm']\n",
    "pos = np.arange(len(models))\n",
    "bar_width = 0.3\n",
    "\n",
    "results_MyAlgorithm=[10, 20, 30, 45, 15]\n",
    "resultsStandardAlgorithm=[30, 60, 70, 55, 75]\n",
    " \n",
    "plt.bar(pos, results_MyAlgorithm, bar_width, color='blue', edgecolor='black')\n",
    "plt.bar(pos+bar_width, resultsStandardAlgorithm, bar_width, color='red', edgecolor='black')\n",
    "plt.xticks(pos,  models)\n",
    "plt.xlabel('models',  fontsize=16)\n",
    "plt.ylabel('train time',  fontsize=16)\n",
    "plt.title('Group Barchart - Happiness index across cities By groups', fontsize=18)\n",
    "plt.legend(groups, loc=2)\n",
    "plt.show()"
   ]
  },
  {
   "cell_type": "code",
   "execution_count": null,
   "metadata": {},
   "outputs": [],
   "source": []
  },
  {
   "cell_type": "code",
   "execution_count": null,
   "metadata": {},
   "outputs": [],
   "source": []
  }
 ],
 "metadata": {
  "kernelspec": {
   "display_name": "Python 3",
   "language": "python",
   "name": "python3"
  },
  "language_info": {
   "codemirror_mode": {
    "name": "ipython",
    "version": 3
   },
   "file_extension": ".py",
   "mimetype": "text/x-python",
   "name": "python",
   "nbconvert_exporter": "python",
   "pygments_lexer": "ipython3",
   "version": "3.7.3"
  },
  "toc": {
   "base_numbering": 1,
   "nav_menu": {},
   "number_sections": true,
   "sideBar": true,
   "skip_h1_title": false,
   "title_cell": "Table of Contents",
   "title_sidebar": "Contents",
   "toc_cell": false,
   "toc_position": {},
   "toc_section_display": true,
   "toc_window_display": false
  }
 },
 "nbformat": 4,
 "nbformat_minor": 2
}

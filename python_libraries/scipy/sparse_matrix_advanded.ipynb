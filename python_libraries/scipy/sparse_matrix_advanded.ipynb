{
 "cells": [
  {
   "cell_type": "markdown",
   "id": "3e18f6ea",
   "metadata": {},
   "source": [
    "# Sorting values in an sparse matrix\n",
    "\n",
    "https://matteding.github.io/2019/04/25/sparse-matrices/\n",
    "\n",
    "Sorting values in an sparse matrix is not trivial, we want to know how to efficiently have the equivalents of `np.sort` and `np.argsort`"
   ]
  },
  {
   "cell_type": "code",
   "execution_count": 1,
   "id": "1aea1ac8",
   "metadata": {},
   "outputs": [],
   "source": [
    "import scipy.sparse as sp\n",
    "import numpy as np"
   ]
  },
  {
   "cell_type": "markdown",
   "id": "1d24ec56",
   "metadata": {},
   "source": [
    "Let us consider the following example,"
   ]
  },
  {
   "cell_type": "code",
   "execution_count": 7,
   "id": "4e62f726",
   "metadata": {},
   "outputs": [],
   "source": [
    "np.random.seed(123)\n",
    "import scipy.sparse as sp\n",
    "n_samples = 20_000_000\n",
    "x = sp.random(1, n_samples, density=0.01, format='csr')"
   ]
  },
  {
   "cell_type": "code",
   "execution_count": 8,
   "id": "d0583688",
   "metadata": {},
   "outputs": [
    {
     "data": {
      "text/plain": [
       "array([0.62885824, 0.36998987, 0.01654456, ..., 0.79507112, 0.55035835,\n",
       "       0.2160247 ])"
      ]
     },
     "execution_count": 8,
     "metadata": {},
     "output_type": "execute_result"
    }
   ],
   "source": [
    "x.data"
   ]
  },
  {
   "cell_type": "code",
   "execution_count": 9,
   "id": "041f19d4",
   "metadata": {},
   "outputs": [
    {
     "data": {
      "text/plain": [
       "array([     113,      137,      245, ..., 19999745, 19999843, 19999883],\n",
       "      dtype=int32)"
      ]
     },
     "execution_count": 9,
     "metadata": {},
     "output_type": "execute_result"
    }
   ],
   "source": [
    "x.indices"
   ]
  },
  {
   "cell_type": "code",
   "execution_count": 10,
   "id": "401dcdb7",
   "metadata": {},
   "outputs": [
    {
     "data": {
      "text/plain": [
       "0.6288582392500274"
      ]
     },
     "execution_count": 10,
     "metadata": {},
     "output_type": "execute_result"
    }
   ],
   "source": [
    "x[0, x.indices[0]] "
   ]
  },
  {
   "cell_type": "markdown",
   "id": "06701c40",
   "metadata": {},
   "source": [
    "## Generating eficiently a sparse vector\n",
    "\n",
    "In many applications we might want to cast one row or column of a sparse vector as a dense vector. This can be done with `todense()`,  `ravel()` and `flatten()`."
   ]
  },
  {
   "cell_type": "code",
   "execution_count": 11,
   "id": "b861a164",
   "metadata": {},
   "outputs": [
    {
     "name": "stdout",
     "output_type": "stream",
     "text": [
      "CPU times: user 22.9 ms, sys: 26.2 ms, total: 49.1 ms\n",
      "Wall time: 47.3 ms\n"
     ]
    }
   ],
   "source": [
    "%%time\n",
    "x_dense = np.asarray(x.todense()).flatten()"
   ]
  },
  {
   "cell_type": "code",
   "execution_count": 12,
   "id": "2fc5b1cf",
   "metadata": {},
   "outputs": [
    {
     "name": "stdout",
     "output_type": "stream",
     "text": [
      "CPU times: user 7 ms, sys: 1.08 ms, total: 8.08 ms\n",
      "Wall time: 6.52 ms\n"
     ]
    }
   ],
   "source": [
    "%%time\n",
    "x_dense = np.asarray(x.todense()).ravel()"
   ]
  },
  {
   "cell_type": "code",
   "execution_count": 13,
   "id": "ccd005c4",
   "metadata": {},
   "outputs": [
    {
     "name": "stdout",
     "output_type": "stream",
     "text": [
      "5.59 ms ± 96 µs per loop (mean ± std. dev. of 7 runs, 100 loops each)\n"
     ]
    }
   ],
   "source": [
    "%%timeit\n",
    "x.todense()"
   ]
  },
  {
   "cell_type": "markdown",
   "id": "7e8ca9c9",
   "metadata": {},
   "source": [
    "**Note that to convert the 2d matrix to a 1d vector `.ravel` is faster than `.flatten()` (with equal output vector)**"
   ]
  },
  {
   "cell_type": "code",
   "execution_count": 14,
   "id": "83321652",
   "metadata": {},
   "outputs": [
    {
     "name": "stdout",
     "output_type": "stream",
     "text": [
      "11.6 ms ± 195 µs per loop (mean ± std. dev. of 7 runs, 100 loops each)\n"
     ]
    }
   ],
   "source": [
    "%%timeit\n",
    "x.toarray().flatten()"
   ]
  },
  {
   "cell_type": "code",
   "execution_count": 15,
   "id": "f38fd175",
   "metadata": {},
   "outputs": [
    {
     "name": "stdout",
     "output_type": "stream",
     "text": [
      "5.52 ms ± 15.4 µs per loop (mean ± std. dev. of 7 runs, 100 loops each)\n"
     ]
    }
   ],
   "source": [
    "%%timeit\n",
    "x.toarray().ravel()"
   ]
  },
  {
   "cell_type": "code",
   "execution_count": 16,
   "id": "b9bd9df2",
   "metadata": {},
   "outputs": [],
   "source": [
    "x_ravel = x.toarray().ravel()\n",
    "x_flatten = x.toarray().flatten()\n",
    "\n",
    "np.testing.assert_almost_equal(x_ravel, x_flatten)"
   ]
  },
  {
   "cell_type": "markdown",
   "id": "7d16d0b2",
   "metadata": {},
   "source": [
    "## Sorting top_k values efficiently a sparse vector (cast as dense)"
   ]
  },
  {
   "cell_type": "markdown",
   "id": "13c0a1b6",
   "metadata": {},
   "source": [
    "We can sort all indices of an array and get the positions of the `top_k`.\n",
    "This is slow"
   ]
  },
  {
   "cell_type": "code",
   "execution_count": 17,
   "id": "05107ea7",
   "metadata": {},
   "outputs": [],
   "source": [
    "top_k = 10"
   ]
  },
  {
   "cell_type": "code",
   "execution_count": 18,
   "id": "3b20ccb3",
   "metadata": {},
   "outputs": [
    {
     "name": "stdout",
     "output_type": "stream",
     "text": [
      "617 ms ± 7.42 ms per loop (mean ± std. dev. of 7 runs, 1 loop each)\n"
     ]
    }
   ],
   "source": [
    "%%timeit\n",
    "top_k_argsort =  x_dense.argsort()[-top_k:]"
   ]
  },
  {
   "cell_type": "markdown",
   "id": "c37e0614",
   "metadata": {},
   "source": [
    "We can sort only 10 of the indices of `-x`. Note that this is allocating `-x_dense` at runtime which is bad"
   ]
  },
  {
   "cell_type": "code",
   "execution_count": 19,
   "id": "12f8083e",
   "metadata": {},
   "outputs": [
    {
     "name": "stdout",
     "output_type": "stream",
     "text": [
      "355 ms ± 1.69 ms per loop (mean ± std. dev. of 7 runs, 1 loop each)\n"
     ]
    }
   ],
   "source": [
    "%%timeit\n",
    "top_k_argpartition_allocating = np.argpartition(-x_dense, range(top_k))[0:top_k][::-1]"
   ]
  },
  {
   "cell_type": "markdown",
   "id": "77cf9ac7",
   "metadata": {},
   "source": [
    "The best approach consist on using argpartition with a negative value"
   ]
  },
  {
   "cell_type": "code",
   "execution_count": 59,
   "id": "574300ad",
   "metadata": {},
   "outputs": [],
   "source": [
    "def get_top_k(x_dense, top_k):\n",
    "    top_k_argpartition = np.argpartition(x_dense, -top_k)[-top_k:]\n",
    "    return top_k_argpartition[np.argsort(x_dense[top_k_argpartition])][::-1]"
   ]
  },
  {
   "cell_type": "code",
   "execution_count": 21,
   "id": "96034ad2",
   "metadata": {},
   "outputs": [
    {
     "name": "stdout",
     "output_type": "stream",
     "text": [
      "107 ms ± 1.84 ms per loop (mean ± std. dev. of 7 runs, 10 loops each)\n"
     ]
    }
   ],
   "source": [
    "%%timeit\n",
    "top_k_argpartition = get_top_k(x_dense, top_k)"
   ]
  },
  {
   "cell_type": "markdown",
   "id": "b3f7bb90",
   "metadata": {},
   "source": [
    "We can see that all approaches actually return the same result"
   ]
  },
  {
   "cell_type": "code",
   "execution_count": 40,
   "id": "dbc970f8",
   "metadata": {},
   "outputs": [],
   "source": [
    "top_k_argsort =  x_dense.argsort()[-top_k:][::-1]\n",
    "top_k_argpartition_allocating = np.argpartition(-x_dense, range(top_k))[0:top_k]\n",
    "top_k_argpartition = get_top_k(x_dense, top_k)\n",
    "\n",
    "np.testing.assert_almost_equal(top_k_argsort, top_k_argpartition_allocating)\n",
    "np.testing.assert_almost_equal(top_k_argsort, top_k_argpartition)\n",
    "np.testing.assert_almost_equal(top_k_argpartition_allocating, top_k_argpartition)"
   ]
  },
  {
   "cell_type": "code",
   "execution_count": 43,
   "id": "646378fb",
   "metadata": {},
   "outputs": [
    {
     "data": {
      "text/plain": [
       "[<matplotlib.lines.Line2D at 0x7fb33057d8b0>]"
      ]
     },
     "execution_count": 43,
     "metadata": {},
     "output_type": "execute_result"
    },
    {
     "data": {
      "image/png": "[encoded data removed]",
      "text/plain": [
       "<Figure size 432x288 with 1 Axes>"
      ]
     },
     "metadata": {
      "needs_background": "light"
     },
     "output_type": "display_data"
    }
   ],
   "source": [
    "from matplotlib import pyplot as plt\n",
    "plt.plot(x_dense[top_k_argsort])\n",
    "plt.plot(x_dense[top_k_argpartition_allocating], '--')\n",
    "plt.plot(x_dense[top_k_argpartition], '.')"
   ]
  },
  {
   "cell_type": "markdown",
   "id": "48bdd5bf",
   "metadata": {},
   "source": [
    "## Sorting top_k values efficiently a sparse vector (no cast as dense)"
   ]
  },
  {
   "cell_type": "markdown",
   "id": "e0ad4d8c",
   "metadata": {},
   "source": [
    "Note that our previous implementation, the lowest time achieved does not capture the whole process, since it used a dense vector.\n",
    "\n",
    "We can rethink the solution getting the `top_k` indices without casting to dense"
   ]
  },
  {
   "cell_type": "code",
   "execution_count": 44,
   "id": "b92b482e",
   "metadata": {},
   "outputs": [
    {
     "name": "stdout",
     "output_type": "stream",
     "text": [
      "CPU times: user 133 ms, sys: 46.7 ms, total: 180 ms\n",
      "Wall time: 181 ms\n"
     ]
    }
   ],
   "source": [
    "%%time\n",
    "x_dense = np.asarray(x.todense()).flatten()\n",
    "top_k_argpartition = get_top_k(x_dense, top_k)"
   ]
  },
  {
   "cell_type": "markdown",
   "id": "a2873ab4",
   "metadata": {},
   "source": [
    "Note that `x.indices` contains the columns (positions since this `x` is a row vector) in which the nonzero data is.\n",
    "\n",
    "Thefore, we can find the indices of  `x` with highest values (argsort x) and then use those indices to know which features from `x` contain the highest values looking at `x.indices`."
   ]
  },
  {
   "cell_type": "code",
   "execution_count": 45,
   "id": "4a4b58cf",
   "metadata": {},
   "outputs": [
    {
     "data": {
      "text/plain": [
       "matrix([[0.        , 0.        , 0.        , 0.        , 0.        ,\n",
       "         0.        , 0.        , 0.        , 0.        , 0.        ,\n",
       "         0.        , 0.        , 0.        , 0.62885824, 0.        ,\n",
       "         0.        , 0.        , 0.        , 0.        , 0.        ]])"
      ]
     },
     "execution_count": 45,
     "metadata": {},
     "output_type": "execute_result"
    }
   ],
   "source": [
    "x[0,100:120].todense()"
   ]
  },
  {
   "cell_type": "code",
   "execution_count": 46,
   "id": "b027d5b2",
   "metadata": {},
   "outputs": [
    {
     "data": {
      "text/plain": [
       "array([     113,      137,      245, ..., 19999745, 19999843, 19999883],\n",
       "      dtype=int32)"
      ]
     },
     "execution_count": 46,
     "metadata": {},
     "output_type": "execute_result"
    }
   ],
   "source": [
    "x.indices"
   ]
  },
  {
   "cell_type": "code",
   "execution_count": 47,
   "id": "2c69718d",
   "metadata": {},
   "outputs": [
    {
     "data": {
      "text/plain": [
       "0.6288582392500274"
      ]
     },
     "execution_count": 47,
     "metadata": {},
     "output_type": "execute_result"
    }
   ],
   "source": [
    "x[0,113]"
   ]
  },
  {
   "cell_type": "markdown",
   "id": "c71cc40c",
   "metadata": {},
   "source": [
    "We can reuse `get_top_k` method to get the column indices from the nonzero values with highest values"
   ]
  },
  {
   "cell_type": "code",
   "execution_count": 48,
   "id": "86bcceb1",
   "metadata": {},
   "outputs": [
    {
     "data": {
      "text/plain": [
       "array([ 30927,  88535,  11038, 151744, 166040,  37437, 113607, 137501,\n",
       "        45389,  26679])"
      ]
     },
     "execution_count": 48,
     "metadata": {},
     "output_type": "execute_result"
    }
   ],
   "source": [
    "get_top_k(x.data, top_k)"
   ]
  },
  {
   "cell_type": "markdown",
   "id": "2772a657",
   "metadata": {},
   "source": [
    "now we need to know which are the original column indices using the previous indicies to select the correct indices from `x.indices` and store them in `indices_from_x`.\n",
    "\n",
    "Then we also need to verify that the indices that we found out without creating a dense vector are actually the same that we found before."
   ]
  },
  {
   "cell_type": "code",
   "execution_count": 49,
   "id": "b23687a1",
   "metadata": {},
   "outputs": [],
   "source": [
    "indices_from_x_data = get_top_k(x.data, top_k)\n",
    "indices_from_x = x.indices[indices_from_x_data]\n",
    "\n",
    "np.testing.assert_almost_equal(top_k_argpartition,indices_from_x)"
   ]
  },
  {
   "cell_type": "code",
   "execution_count": 61,
   "id": "c9f9c813",
   "metadata": {},
   "outputs": [],
   "source": [
    "def get_top_k_indices(x_sparse, top_k):\n",
    "    indices_from_x_data = get_top_k(x_sparse.data, top_k)\n",
    "    indices_from_x = x.indices[indices_from_x_data]\n",
    "    return indices_from_x"
   ]
  },
  {
   "cell_type": "code",
   "execution_count": 62,
   "id": "b95537a2",
   "metadata": {},
   "outputs": [
    {
     "data": {
      "text/plain": [
       "[<matplotlib.lines.Line2D at 0x7fb351793070>]"
      ]
     },
     "execution_count": 62,
     "metadata": {},
     "output_type": "execute_result"
    },
    {
     "data": {
      "image/png": "[encoded data removed]",
      "text/plain": [
       "<Figure size 432x288 with 1 Axes>"
      ]
     },
     "metadata": {
      "needs_background": "light"
     },
     "output_type": "display_data"
    }
   ],
   "source": [
    "plt.plot(x[0,get_top_k_indices(x, top_k)].toarray().ravel())"
   ]
  },
  {
   "cell_type": "code",
   "execution_count": 58,
   "id": "e055fbe0",
   "metadata": {
    "scrolled": true
   },
   "outputs": [
    {
     "name": "stdout",
     "output_type": "stream",
     "text": [
      "2.01 ms ± 27.5 µs per loop (mean ± std. dev. of 7 runs, 100 loops each)\n"
     ]
    }
   ],
   "source": [
    "%%timeit \n",
    "get_top_k_indices(x, top_k)"
   ]
  },
  {
   "cell_type": "code",
   "execution_count": 57,
   "id": "91003416",
   "metadata": {},
   "outputs": [
    {
     "data": {
      "text/plain": [
       "[<matplotlib.lines.Line2D at 0x7fb330640910>]"
      ]
     },
     "execution_count": 57,
     "metadata": {},
     "output_type": "execute_result"
    },
    {
     "data": {
      "image/png": "[encoded data removed]",
      "text/plain": [
       "<Figure size 432x288 with 1 Axes>"
      ]
     },
     "metadata": {
      "needs_background": "light"
     },
     "output_type": "display_data"
    }
   ],
   "source": [
    "plt.plot(x[0,get_top_k_indices(x, top_k)].toarray().ravel())"
   ]
  },
  {
   "cell_type": "code",
   "execution_count": null,
   "id": "5d126871",
   "metadata": {},
   "outputs": [],
   "source": []
  },
  {
   "cell_type": "markdown",
   "id": "df03a44e",
   "metadata": {},
   "source": [
    "## Computing efficiently the mean/sum over rows of a sparse matrix"
   ]
  },
  {
   "cell_type": "code",
   "execution_count": 3,
   "id": "84def842",
   "metadata": {},
   "outputs": [],
   "source": [
    "np.random.seed(123)\n",
    "import scipy.sparse as sp\n",
    "n_features = 100_000\n",
    "n_samples = 100\n",
    "\n",
    "X = sp.random(n_samples, n_features, density=0.01, format='csr')"
   ]
  },
  {
   "cell_type": "code",
   "execution_count": 5,
   "id": "010f62b0",
   "metadata": {},
   "outputs": [
    {
     "data": {
      "text/plain": [
       "<100x100000 sparse matrix of type '<class 'numpy.float64'>'\n",
       "\twith 100000 stored elements in Compressed Sparse Row format>"
      ]
     },
     "execution_count": 5,
     "metadata": {},
     "output_type": "execute_result"
    }
   ],
   "source": [
    "X"
   ]
  },
  {
   "cell_type": "code",
   "execution_count": 13,
   "id": "88c76d44",
   "metadata": {},
   "outputs": [
    {
     "name": "stdout",
     "output_type": "stream",
     "text": [
      "1.21 ms ± 4.65 µs per loop (mean ± std. dev. of 7 runs, 1,000 loops each)\n"
     ]
    }
   ],
   "source": [
    "%%timeit\n",
    "s = sp.csr_matrix(X.sum(axis=0, dtype=np.int32))"
   ]
  },
  {
   "cell_type": "markdown",
   "id": "9be47154",
   "metadata": {},
   "source": [
    "We can do the sum over rows in a more intelligent way, using the nonzero indices"
   ]
  },
  {
   "cell_type": "code",
   "execution_count": 21,
   "id": "6d8be1d7",
   "metadata": {},
   "outputs": [],
   "source": [
    "aux = sp.csr_matrix([[1,0,0,0,2],[3,0,0,2,0]])"
   ]
  },
  {
   "cell_type": "code",
   "execution_count": 24,
   "id": "534eb44f",
   "metadata": {},
   "outputs": [
    {
     "data": {
      "text/plain": [
       "array([[1, 0, 0, 0, 2],\n",
       "       [3, 0, 0, 2, 0]])"
      ]
     },
     "execution_count": 24,
     "metadata": {},
     "output_type": "execute_result"
    }
   ],
   "source": [
    "aux.toarray()"
   ]
  },
  {
   "cell_type": "code",
   "execution_count": 27,
   "id": "7d545788",
   "metadata": {},
   "outputs": [
    {
     "data": {
      "text/plain": [
       "array([1, 2, 3, 2])"
      ]
     },
     "execution_count": 27,
     "metadata": {},
     "output_type": "execute_result"
    }
   ],
   "source": [
    "aux.data"
   ]
  },
  {
   "cell_type": "code",
   "execution_count": 54,
   "id": "3b492274",
   "metadata": {},
   "outputs": [
    {
     "data": {
      "text/plain": [
       "array([0, 4, 0, 3], dtype=int32)"
      ]
     },
     "execution_count": 54,
     "metadata": {},
     "output_type": "execute_result"
    }
   ],
   "source": [
    "aux.indices"
   ]
  },
  {
   "cell_type": "code",
   "execution_count": 55,
   "id": "f23c8d0f",
   "metadata": {},
   "outputs": [
    {
     "data": {
      "text/plain": [
       "array([0, 2, 4], dtype=int32)"
      ]
     },
     "execution_count": 55,
     "metadata": {},
     "output_type": "execute_result"
    }
   ],
   "source": [
    "aux.indptr"
   ]
  },
  {
   "cell_type": "markdown",
   "id": "acebbc54",
   "metadata": {},
   "source": [
    "Note that the resulting matrix of aggregating the nonzero values will have at index K the sum of all values in `.data`\n",
    "that have index K."
   ]
  },
  {
   "cell_type": "code",
   "execution_count": 45,
   "id": "f3de243e",
   "metadata": {},
   "outputs": [
    {
     "data": {
      "text/plain": [
       "array([0, 3, 4], dtype=int32)"
      ]
     },
     "execution_count": 45,
     "metadata": {},
     "output_type": "execute_result"
    }
   ],
   "source": [
    "unique_indices = np.unique(aux.indices)\n",
    "unique_indices"
   ]
  },
  {
   "cell_type": "markdown",
   "id": "e3ad2811",
   "metadata": {},
   "source": [
    "We can simply sum the values of the nonzero indices and create a sparse array with those sums"
   ]
  },
  {
   "cell_type": "code",
   "execution_count": 47,
   "id": "f437ca8e",
   "metadata": {},
   "outputs": [],
   "source": [
    "new_data = []\n",
    "for k in unique_indices:\n",
    "    val = aux.data[aux.indices==k].sum()\n",
    "    new_data.append(val)"
   ]
  },
  {
   "cell_type": "code",
   "execution_count": 49,
   "id": "37bde31b",
   "metadata": {},
   "outputs": [
    {
     "data": {
      "text/plain": [
       "[4, 2, 2]"
      ]
     },
     "execution_count": 49,
     "metadata": {},
     "output_type": "execute_result"
    }
   ],
   "source": [
    "new_data"
   ]
  },
  {
   "cell_type": "code",
   "execution_count": 60,
   "id": "0e892e39",
   "metadata": {},
   "outputs": [
    {
     "data": {
      "text/plain": [
       "<1x5 sparse matrix of type '<class 'numpy.int64'>'\n",
       "\twith 3 stored elements in Compressed Sparse Row format>"
      ]
     },
     "execution_count": 60,
     "metadata": {},
     "output_type": "execute_result"
    }
   ],
   "source": [
    "#csr_matrix((data, indices, indptr), [shape=(M, N)])\n",
    "aux_mean = sp.csr_matrix((new_data, unique_indices, [0,len(new_data)]))\n",
    "aux_mean"
   ]
  },
  {
   "cell_type": "code",
   "execution_count": 62,
   "id": "0371a6b4",
   "metadata": {},
   "outputs": [
    {
     "data": {
      "text/plain": [
       "array([[4, 0, 0, 2, 2]])"
      ]
     },
     "execution_count": 62,
     "metadata": {},
     "output_type": "execute_result"
    }
   ],
   "source": [
    "aux_mean.toarray()"
   ]
  },
  {
   "cell_type": "code",
   "execution_count": 44,
   "id": "c246a575",
   "metadata": {},
   "outputs": [
    {
     "data": {
      "text/plain": [
       "matrix([[4, 0, 0, 2, 2]])"
      ]
     },
     "execution_count": 44,
     "metadata": {},
     "output_type": "execute_result"
    }
   ],
   "source": [
    "aux.sum(axis=0)"
   ]
  },
  {
   "cell_type": "code",
   "execution_count": 63,
   "id": "63aa1e1c",
   "metadata": {},
   "outputs": [],
   "source": [
    "def efficient_mean_over_rows(X_sparse):\n",
    "    new_data = []\n",
    "    unique_indices = np.unique(X_sparse.indices)\n",
    "    for k in unique_indices:\n",
    "        val = X_sparse.data[aux.indices==k].sum()\n",
    "        new_data.append(val)\n",
    "        \n",
    "    X_sum = sp.csr_matrix((new_data, unique_indices, [0,len(new_data)]))\n",
    "    return X_sum"
   ]
  },
  {
   "cell_type": "code",
   "execution_count": 66,
   "id": "86f14560",
   "metadata": {},
   "outputs": [
    {
     "name": "stdout",
     "output_type": "stream",
     "text": [
      "51 µs ± 1.46 µs per loop (mean ± std. dev. of 7 runs, 10,000 loops each)\n"
     ]
    }
   ],
   "source": [
    "%%timeit\n",
    "efficient_mean_over_rows(aux)"
   ]
  },
  {
   "cell_type": "code",
   "execution_count": 67,
   "id": "c28fbe48",
   "metadata": {},
   "outputs": [
    {
     "name": "stdout",
     "output_type": "stream",
     "text": [
      "1.21 ms ± 7.51 µs per loop (mean ± std. dev. of 7 runs, 1,000 loops each)\n"
     ]
    }
   ],
   "source": [
    "%%timeit\n",
    "s = sp.csr_matrix(X.sum(axis=0, dtype=np.int32))"
   ]
  },
  {
   "cell_type": "code",
   "execution_count": null,
   "id": "f7364369",
   "metadata": {},
   "outputs": [],
   "source": []
  },
  {
   "cell_type": "code",
   "execution_count": null,
   "id": "05b4d11c",
   "metadata": {},
   "outputs": [],
   "source": []
  }
 ],
 "metadata": {
  "kernelspec": {
   "display_name": "Python 3 (ipykernel)",
   "language": "python",
   "name": "python3"
  },
  "language_info": {
   "codemirror_mode": {
    "name": "ipython",
    "version": 3
   },
   "file_extension": ".py",
   "mimetype": "text/x-python",
   "name": "python",
   "nbconvert_exporter": "python",
   "pygments_lexer": "ipython3",
   "version": "3.9.12"
  }
 },
 "nbformat": 4,
 "nbformat_minor": 5
}

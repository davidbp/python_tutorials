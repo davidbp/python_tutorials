{
 "cells": [
  {
   "cell_type": "markdown",
   "id": "3e18f6ea",
   "metadata": {},
   "source": [
    "# Sorting values in an sparse matrix\n",
    "\n",
    "\n",
    "Sorting values in an sparse matrix is not trivial, we want to know how to efficiently have the equivalents of `np.sort` and `np.argsort`"
   ]
  },
  {
   "cell_type": "code",
   "execution_count": 13,
   "id": "1aea1ac8",
   "metadata": {},
   "outputs": [],
   "source": [
    "import scipy.sparse as sp\n",
    "import numpy as np"
   ]
  },
  {
   "cell_type": "markdown",
   "id": "1d24ec56",
   "metadata": {},
   "source": [
    "Let us consider the following example,"
   ]
  },
  {
   "cell_type": "code",
   "execution_count": 35,
   "id": "4e62f726",
   "metadata": {},
   "outputs": [],
   "source": [
    "np.random.seed(123)\n",
    "import scipy.sparse as sp\n",
    "n_samples = 20_000_000\n",
    "x = sp.random(1, n_samples, density=0.01, format='csr')"
   ]
  },
  {
   "cell_type": "code",
   "execution_count": 36,
   "id": "d0583688",
   "metadata": {},
   "outputs": [
    {
     "data": {
      "text/plain": [
       "array([0.62885824, 0.36998987, 0.01654456, ..., 0.79507112, 0.55035835,\n",
       "       0.2160247 ])"
      ]
     },
     "execution_count": 36,
     "metadata": {},
     "output_type": "execute_result"
    }
   ],
   "source": [
    "x.data"
   ]
  },
  {
   "cell_type": "code",
   "execution_count": 37,
   "id": "041f19d4",
   "metadata": {},
   "outputs": [
    {
     "data": {
      "text/plain": [
       "array([     113,      137,      245, ..., 19999745, 19999843, 19999883],\n",
       "      dtype=int32)"
      ]
     },
     "execution_count": 37,
     "metadata": {},
     "output_type": "execute_result"
    }
   ],
   "source": [
    "x.indices"
   ]
  },
  {
   "cell_type": "code",
   "execution_count": 38,
   "id": "401dcdb7",
   "metadata": {},
   "outputs": [
    {
     "data": {
      "text/plain": [
       "0.6288582392500274"
      ]
     },
     "execution_count": 38,
     "metadata": {},
     "output_type": "execute_result"
    }
   ],
   "source": [
    "x[0, x.indices[0]] "
   ]
  },
  {
   "cell_type": "markdown",
   "id": "06701c40",
   "metadata": {},
   "source": [
    "## Generating eficiently a sparse vector\n",
    "\n",
    "In many applications we might want to cast one row or column of a sparse vector as a dense vector. This can be done with `todense()`,  `ravel()` and `flatten()`."
   ]
  },
  {
   "cell_type": "code",
   "execution_count": 86,
   "id": "b861a164",
   "metadata": {},
   "outputs": [
    {
     "name": "stdout",
     "output_type": "stream",
     "text": [
      "CPU times: user 46 ms, sys: 52.6 ms, total: 98.6 ms\n",
      "Wall time: 113 ms\n"
     ]
    }
   ],
   "source": [
    "%%time\n",
    "x_dense = np.asarray(x.todense()).flatten()"
   ]
  },
  {
   "cell_type": "code",
   "execution_count": 98,
   "id": "2fc5b1cf",
   "metadata": {},
   "outputs": [
    {
     "name": "stdout",
     "output_type": "stream",
     "text": [
      "CPU times: user 15.9 ms, sys: 3.17 ms, total: 19.1 ms\n",
      "Wall time: 19.7 ms\n"
     ]
    }
   ],
   "source": [
    "%%time\n",
    "x_dense = np.asarray(x.todense()).ravel()"
   ]
  },
  {
   "cell_type": "code",
   "execution_count": 106,
   "id": "ccd005c4",
   "metadata": {},
   "outputs": [
    {
     "name": "stdout",
     "output_type": "stream",
     "text": [
      "5.81 ms ± 115 µs per loop (mean ± std. dev. of 7 runs, 100 loops each)\n"
     ]
    }
   ],
   "source": [
    "%%timeit\n",
    "x.todense()"
   ]
  },
  {
   "cell_type": "markdown",
   "id": "7e8ca9c9",
   "metadata": {},
   "source": [
    "**Note that to convert the 2d matrix to a 1d vector `.ravel` is faster than `.flatten()` (with equal output vector)**"
   ]
  },
  {
   "cell_type": "code",
   "execution_count": 109,
   "id": "83321652",
   "metadata": {},
   "outputs": [
    {
     "name": "stdout",
     "output_type": "stream",
     "text": [
      "11.5 ms ± 31.4 µs per loop (mean ± std. dev. of 7 runs, 100 loops each)\n"
     ]
    }
   ],
   "source": [
    "%%timeit\n",
    "x.toarray().flatten()"
   ]
  },
  {
   "cell_type": "code",
   "execution_count": 110,
   "id": "f38fd175",
   "metadata": {},
   "outputs": [
    {
     "name": "stdout",
     "output_type": "stream",
     "text": [
      "5.49 ms ± 14.6 µs per loop (mean ± std. dev. of 7 runs, 100 loops each)\n"
     ]
    }
   ],
   "source": [
    "%%timeit\n",
    "x.toarray().ravel()"
   ]
  },
  {
   "cell_type": "code",
   "execution_count": 158,
   "id": "b9bd9df2",
   "metadata": {},
   "outputs": [],
   "source": [
    "x_ravel = x.toarray().ravel()\n",
    "x_flatten = x.toarray().flatten()\n",
    "\n",
    "np.testing.assert_almost_equal(x_ravel, x_flatten)"
   ]
  },
  {
   "cell_type": "markdown",
   "id": "7d16d0b2",
   "metadata": {},
   "source": [
    "## Sorting top_k values efficiently a sparse vector (cast as dense)"
   ]
  },
  {
   "cell_type": "markdown",
   "id": "13c0a1b6",
   "metadata": {},
   "source": [
    "We can sort all indices of an array and get the positions of the `top_k`.\n",
    "This is slow"
   ]
  },
  {
   "cell_type": "code",
   "execution_count": 290,
   "id": "05107ea7",
   "metadata": {},
   "outputs": [],
   "source": [
    "top_k = 10"
   ]
  },
  {
   "cell_type": "code",
   "execution_count": 246,
   "id": "3b20ccb3",
   "metadata": {},
   "outputs": [
    {
     "name": "stdout",
     "output_type": "stream",
     "text": [
      "600 ms ± 1.21 ms per loop (mean ± std. dev. of 7 runs, 1 loop each)\n"
     ]
    }
   ],
   "source": [
    "%%timeit\n",
    "top_k_argsort =  x_dense.argsort()[-top_k:]"
   ]
  },
  {
   "cell_type": "markdown",
   "id": "c37e0614",
   "metadata": {},
   "source": [
    "We can sort only 10 of the indices of `-x`. Note that this is allocating `-x_dense` at runtime which is bad"
   ]
  },
  {
   "cell_type": "code",
   "execution_count": 279,
   "id": "12f8083e",
   "metadata": {},
   "outputs": [
    {
     "name": "stdout",
     "output_type": "stream",
     "text": [
      "345 ms ± 298 µs per loop (mean ± std. dev. of 7 runs, 1 loop each)\n"
     ]
    }
   ],
   "source": [
    "%%timeit\n",
    "top_k_argpartition_allocating = np.argpartition(-x_dense, range(top_k))[0:top_k][::-1]"
   ]
  },
  {
   "cell_type": "markdown",
   "id": "77cf9ac7",
   "metadata": {},
   "source": [
    "The best approach consist on using argpartition with a negative value"
   ]
  },
  {
   "cell_type": "code",
   "execution_count": 350,
   "id": "574300ad",
   "metadata": {},
   "outputs": [],
   "source": [
    "def get_top_k(x_dense, top_k):\n",
    "    top_k_argpartition = np.argpartition(x_dense, -top_k)[-top_k:]\n",
    "    return top_k_argpartition[np.argsort(x_dense[top_k_argpartition])]"
   ]
  },
  {
   "cell_type": "code",
   "execution_count": 351,
   "id": "96034ad2",
   "metadata": {},
   "outputs": [
    {
     "name": "stdout",
     "output_type": "stream",
     "text": [
      "101 ms ± 411 µs per loop (mean ± std. dev. of 7 runs, 10 loops each)\n"
     ]
    }
   ],
   "source": [
    "%%timeit\n",
    "top_k_argpartition = get_top_k(x_dense, top_k)"
   ]
  },
  {
   "cell_type": "markdown",
   "id": "b3f7bb90",
   "metadata": {},
   "source": [
    "We can see that all approaches actually return the same result"
   ]
  },
  {
   "cell_type": "code",
   "execution_count": 352,
   "id": "dbc970f8",
   "metadata": {},
   "outputs": [],
   "source": [
    "top_k_argsort =  x_dense.argsort()[-top_k:]\n",
    "top_k_argpartition_allocating = np.argpartition(-x_dense, range(top_k))[0:top_k][::-1]\n",
    "top_k_argpartition = get_top_k(x_dense, top_k)\n",
    "\n",
    "np.testing.assert_almost_equal(top_k_argsort, top_k_argpartition_allocating)\n",
    "np.testing.assert_almost_equal(top_k_argsort, top_k_argpartition)\n",
    "np.testing.assert_almost_equal(top_k_argpartition_allocating, top_k_argpartition)"
   ]
  },
  {
   "cell_type": "markdown",
   "id": "48bdd5bf",
   "metadata": {},
   "source": [
    "## Sorting top_k values efficiently a sparse vector (no cast as dense)"
   ]
  },
  {
   "cell_type": "markdown",
   "id": "e0ad4d8c",
   "metadata": {},
   "source": [
    "Note that our previous implementation, the lowest time achieved does not capture the whole process, since it used a dense vector.\n",
    "\n",
    "We can rethink the solution getting the `top_k` indices without casting to dense"
   ]
  },
  {
   "cell_type": "code",
   "execution_count": 353,
   "id": "b92b482e",
   "metadata": {},
   "outputs": [
    {
     "name": "stdout",
     "output_type": "stream",
     "text": [
      "CPU times: user 138 ms, sys: 77.3 ms, total: 216 ms\n",
      "Wall time: 212 ms\n"
     ]
    }
   ],
   "source": [
    "%%time\n",
    "x_dense = np.asarray(x.todense()).flatten()\n",
    "top_k_argpartition = get_top_k(x_dense, top_k)"
   ]
  },
  {
   "cell_type": "markdown",
   "id": "a2873ab4",
   "metadata": {},
   "source": [
    "Note that `x.indices` contains the columns (positions since this `x` is a row vector) in which the nonzero data is.\n",
    "\n",
    "Thefore, we can find the indices of  `x` with highest values (argsort x) and then use those indices to know which features from `x` contain the highest values looking at `x.indices`."
   ]
  },
  {
   "cell_type": "code",
   "execution_count": 377,
   "id": "4a4b58cf",
   "metadata": {},
   "outputs": [
    {
     "data": {
      "text/plain": [
       "matrix([[0.        , 0.        , 0.        , 0.        , 0.        ,\n",
       "         0.        , 0.        , 0.        , 0.        , 0.        ,\n",
       "         0.        , 0.        , 0.        , 0.62885824, 0.        ,\n",
       "         0.        , 0.        , 0.        , 0.        , 0.        ]])"
      ]
     },
     "execution_count": 377,
     "metadata": {},
     "output_type": "execute_result"
    }
   ],
   "source": [
    "x[0,100:120].todense()"
   ]
  },
  {
   "cell_type": "code",
   "execution_count": 379,
   "id": "b027d5b2",
   "metadata": {},
   "outputs": [
    {
     "data": {
      "text/plain": [
       "array([     113,      137,      245, ..., 19999745, 19999843, 19999883],\n",
       "      dtype=int32)"
      ]
     },
     "execution_count": 379,
     "metadata": {},
     "output_type": "execute_result"
    }
   ],
   "source": [
    "x.indices"
   ]
  },
  {
   "cell_type": "code",
   "execution_count": 383,
   "id": "2c69718d",
   "metadata": {},
   "outputs": [
    {
     "data": {
      "text/plain": [
       "0.6288582392500274"
      ]
     },
     "execution_count": 383,
     "metadata": {},
     "output_type": "execute_result"
    }
   ],
   "source": [
    "x[0,113]"
   ]
  },
  {
   "cell_type": "markdown",
   "id": "c71cc40c",
   "metadata": {},
   "source": [
    "We can reuse `get_top_k` method to get the column indices from the nonzero values with highest values"
   ]
  },
  {
   "cell_type": "code",
   "execution_count": 387,
   "id": "86bcceb1",
   "metadata": {},
   "outputs": [
    {
     "data": {
      "text/plain": [
       "array([ 26679,  45389, 137501, 113607,  37437, 166040, 151744,  11038,\n",
       "        88535,  30927])"
      ]
     },
     "execution_count": 387,
     "metadata": {},
     "output_type": "execute_result"
    }
   ],
   "source": [
    "get_top_k(x.data, top_k)"
   ]
  },
  {
   "cell_type": "markdown",
   "id": "2772a657",
   "metadata": {},
   "source": [
    "now we need to know which are the original column indices using the previous indicies to select the correct indices from `x.indices` and store them in `indices_from_x`.\n",
    "\n",
    "Then we also need to verify that the indices that we found out without creating a dense vector are actually the same that we found before."
   ]
  },
  {
   "cell_type": "code",
   "execution_count": 405,
   "id": "b23687a1",
   "metadata": {},
   "outputs": [],
   "source": [
    "indices_from_x_data = get_top_k(x.data, top_k)\n",
    "indices_from_x = x.indices[indices_from_x_data]\n",
    "\n",
    "np.testing.assert_almost_equal(top_k_argpartition,indices_from_x)"
   ]
  },
  {
   "cell_type": "code",
   "execution_count": 406,
   "id": "c9f9c813",
   "metadata": {},
   "outputs": [],
   "source": [
    "def get_top_k_indices(x_sparse, top_k):\n",
    "    indices_from_x_data = get_top_k(x_sparse.data, top_k)\n",
    "    indices_from_x = x.indices[indices_from_x_data]\n",
    "    return indices_from_x"
   ]
  },
  {
   "cell_type": "code",
   "execution_count": 407,
   "id": "e055fbe0",
   "metadata": {
    "scrolled": true
   },
   "outputs": [
    {
     "name": "stdout",
     "output_type": "stream",
     "text": [
      "2.01 ms ± 10.1 µs per loop (mean ± std. dev. of 7 runs, 100 loops each)\n"
     ]
    }
   ],
   "source": [
    "%%timeit \n",
    "get_top_k_indices(x, top_k)"
   ]
  },
  {
   "cell_type": "code",
   "execution_count": null,
   "id": "5d126871",
   "metadata": {},
   "outputs": [],
   "source": []
  }
 ],
 "metadata": {
  "kernelspec": {
   "display_name": "Python 3 (ipykernel)",
   "language": "python",
   "name": "python3"
  },
  "language_info": {
   "codemirror_mode": {
    "name": "ipython",
    "version": 3
   },
   "file_extension": ".py",
   "mimetype": "text/x-python",
   "name": "python",
   "nbconvert_exporter": "python",
   "pygments_lexer": "ipython3",
   "version": "3.9.12"
  }
 },
 "nbformat": 4,
 "nbformat_minor": 5
}

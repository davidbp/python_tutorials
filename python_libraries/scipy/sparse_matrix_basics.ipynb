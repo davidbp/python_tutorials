{
 "cells": [
  {
   "cell_type": "markdown",
   "id": "003138c0",
   "metadata": {},
   "source": [
    "# Basics of Sparse Matrices"
   ]
  },
  {
   "cell_type": "code",
   "execution_count": 294,
   "id": "f156a19f",
   "metadata": {},
   "outputs": [],
   "source": [
    "import scipy.sparse as sp\n",
    "import numpy as np\n",
    "import sklearn"
   ]
  },
  {
   "cell_type": "markdown",
   "id": "44673a75",
   "metadata": {},
   "source": [
    "## coo matrix\n",
    "\n",
    "\n",
    "Sparse matrices can be used in arithmetic operations: they support\n",
    "addition, subtraction, multiplication, division, and matrix power.\n",
    "\n",
    "- Advantages of the COO format\n",
    "    - facilitates fast conversion among sparse formats\n",
    "    - permits duplicate entries (see example)\n",
    "    - very fast conversion to and from CSR/CSC formats\n",
    "\n",
    "- Disadvantages of the COO format\n",
    "    - does not directly support:\n",
    "        + arithmetic operations\n",
    "        + slicing\n",
    "\n",
    "- Intended Usage\n",
    "    - COO is a fast format for constructing sparse matrices\n",
    "    - Once a matrix has been constructed, convert to CSR or\n",
    "      CSC format for fast arithmetic and matrix vector operations\n",
    "    - By default when converting to CSR or CSC format, duplicate (i,j)\n",
    "      entries will be summed together.  This facilitates efficient\n",
    "      construction of finite element matrices and the like. (see example)\n"
   ]
  },
  {
   "cell_type": "code",
   "execution_count": 299,
   "id": "5098cc4a",
   "metadata": {},
   "outputs": [],
   "source": [
    "X_coo = sp.coo_matrix([[0, 2, 0],\n",
    "                       [0, 0, 3],\n",
    "                       [0, 0, 0],\n",
    "                       [7, 6, 0]],\n",
    "                       dtype=np.float64)"
   ]
  },
  {
   "cell_type": "code",
   "execution_count": 300,
   "id": "bcde5e22",
   "metadata": {},
   "outputs": [
    {
     "name": "stdout",
     "output_type": "stream",
     "text": [
      "[2. 3. 7. 6.]\n",
      "[0 1 3 3]\n",
      "[1 2 0 1]\n"
     ]
    }
   ],
   "source": [
    "print(X_coo.data)\n",
    "print(X_coo.row)\n",
    "print(X_coo.col)"
   ]
  },
  {
   "cell_type": "markdown",
   "id": "b3f269ff",
   "metadata": {},
   "source": [
    "## lil matrix\n",
    "\n",
    "\n",
    "In the .help method of lil matrix we find the following\n",
    "\n",
    "\n",
    "Sparse matrices can be used in arithmetic operations: they support\n",
    "addition, subtraction, multiplication, division, and matrix power.\n",
    "\n",
    "- Advantages of the LIL format\n",
    "    - supports flexible slicing\n",
    "    - changes to the matrix sparsity structure are efficient\n",
    "\n",
    "- Disadvantages of the LIL format\n",
    "    - arithmetic operations LIL + LIL are slow (consider CSR or CSC)\n",
    "    - slow column slicing (consider CSC)\n",
    "    - slow matrix vector products (consider CSR or CSC)\n",
    "\n",
    "- Intended Usage\n",
    "    - LIL is a convenient format for constructing sparse matrices\n",
    "    - once a matrix has been constructed, convert to CSR or\n",
    "      CSC format for fast arithmetic and matrix vector operations\n",
    "    - consider using the COO format when constructing large matrices\n",
    "\n",
    "- Data Structure\n",
    "    - An array (``self.rows``) of rows, each of which is a sorted\n",
    "      list of column indices of non-zero elements.\n",
    "    - The corresponding nonzero values are stored in similar\n",
    "\n"
   ]
  },
  {
   "cell_type": "code",
   "execution_count": 275,
   "id": "e8a7ac04",
   "metadata": {},
   "outputs": [],
   "source": [
    "X_lil = sp.lil_matrix([[0, 2, 0],\n",
    "                       [0, 0, 3],\n",
    "                       [0, 0, 0],\n",
    "                       [7, 6, 0]],\n",
    "                       dtype=np.float64)"
   ]
  },
  {
   "cell_type": "markdown",
   "id": "2cecd784",
   "metadata": {},
   "source": [
    "A lil matrix stores the elements in the matrix in:\n",
    "- `.data`: Iterable of Iterables containing the non-zero values of each row.\n",
    "- `.rows`: Iterable of Iterables containing the non-zero indices (column indices).\n"
   ]
  },
  {
   "cell_type": "code",
   "execution_count": 276,
   "id": "b2c84319",
   "metadata": {},
   "outputs": [
    {
     "name": "stdout",
     "output_type": "stream",
     "text": [
      "[list([2.0]) list([3.0]) list([]) list([7.0, 6.0])]\n",
      "[list([1]) list([2]) list([]) list([0, 1])]\n"
     ]
    }
   ],
   "source": [
    "print(X_lil.data)\n",
    "print(X_lil.rows)"
   ]
  },
  {
   "cell_type": "markdown",
   "id": "9788c593",
   "metadata": {},
   "source": [
    "One can access row or col `k`  with `.getrow(k)` or  `.getcol(k)`  respectively."
   ]
  },
  {
   "cell_type": "code",
   "execution_count": 277,
   "id": "b34f55f6",
   "metadata": {},
   "outputs": [
    {
     "data": {
      "text/plain": [
       "matrix([[0., 0., 3.]])"
      ]
     },
     "execution_count": 277,
     "metadata": {},
     "output_type": "execute_result"
    }
   ],
   "source": [
    "X_lil.getrow(1).todense()"
   ]
  },
  {
   "cell_type": "code",
   "execution_count": 279,
   "id": "1a2e6bdf",
   "metadata": {},
   "outputs": [
    {
     "data": {
      "text/plain": [
       "matrix([[2.],\n",
       "        [0.],\n",
       "        [0.],\n",
       "        [6.]])"
      ]
     },
     "execution_count": 279,
     "metadata": {},
     "output_type": "execute_result"
    }
   ],
   "source": [
    "X_lil.getcol(1).todense()"
   ]
  },
  {
   "cell_type": "code",
   "execution_count": 282,
   "id": "99f3bdf2",
   "metadata": {},
   "outputs": [],
   "source": [
    "data = X_lil.data\n",
    "rows = X_lil.rows"
   ]
  },
  {
   "cell_type": "markdown",
   "id": "8afae349",
   "metadata": {},
   "source": [
    "## CSR Matrix\n",
    "\n",
    "In the .help method of csr matrix we find the following\n",
    "\n",
    "Sparse matrices can be used in arithmetic operations: they support\n",
    "addition, subtraction, multiplication, division, and matrix power.\n",
    "\n",
    "- Advantages of the CSR format\n",
    "  - efficient arithmetic operations CSR + CSR, CSR * CSR, etc.\n",
    "  - efficient row slicing\n",
    "  - fast matrix vector products\n",
    "\n",
    "- Disadvantages of the CSR format\n",
    "  - slow column slicing operations (consider CSC)\n",
    "  - changes to the sparsity structure are expensive (consider LIL or DOK)"
   ]
  },
  {
   "cell_type": "code",
   "execution_count": 257,
   "id": "609290e2",
   "metadata": {},
   "outputs": [],
   "source": [
    "X_csr = sp.csr_matrix([[0, 2, 0],\n",
    "                       [0, 0, 3],\n",
    "                       [0, 0, 0],\n",
    "                       [7, 6, 0]],\n",
    "                       dtype=np.float64)"
   ]
  },
  {
   "cell_type": "markdown",
   "id": "7453e7db",
   "metadata": {},
   "source": [
    "A CSR matrix stores the data in:\n",
    "\n",
    "- `.data`: Iterable containing all non-zero values.\n",
    "- `.indices`: Iterable containing all indices (column indices) of the non-zero values.\n",
    "- `.indptr`: Iterable containing the boundaries from `.data` that define each row.\n"
   ]
  },
  {
   "cell_type": "code",
   "execution_count": 258,
   "id": "3bec78f1",
   "metadata": {},
   "outputs": [
    {
     "name": "stdout",
     "output_type": "stream",
     "text": [
      "[2. 3. 7. 6.]\n",
      "[1 2 0 1]\n",
      "[0 1 2 2 4]\n"
     ]
    }
   ],
   "source": [
    "print(X_csr.data)\n",
    "print(X_csr.indices)\n",
    "print(X_csr.indptr)"
   ]
  },
  {
   "cell_type": "markdown",
   "id": "ed69a7f7",
   "metadata": {},
   "source": [
    "The natural way to index in a CSR matrix is by row"
   ]
  },
  {
   "cell_type": "code",
   "execution_count": 267,
   "id": "68ad1207",
   "metadata": {
    "scrolled": false
   },
   "outputs": [
    {
     "data": {
      "text/plain": [
       "array([[0., 2., 0.]])"
      ]
     },
     "execution_count": 267,
     "metadata": {},
     "output_type": "execute_result"
    }
   ],
   "source": [
    "X_csr[0].toarray()"
   ]
  },
  {
   "cell_type": "markdown",
   "id": "e0754c00",
   "metadata": {},
   "source": [
    "A csr matrix can be populated from `data`, `indices`, `indptr`"
   ]
  },
  {
   "cell_type": "code",
   "execution_count": 266,
   "id": "8e2ff92b",
   "metadata": {},
   "outputs": [
    {
     "data": {
      "text/plain": [
       "matrix([[0., 2., 0.],\n",
       "        [0., 0., 3.],\n",
       "        [0., 0., 0.],\n",
       "        [7., 6., 0.]])"
      ]
     },
     "execution_count": 266,
     "metadata": {},
     "output_type": "execute_result"
    }
   ],
   "source": [
    "data = X_csr.data\n",
    "indices = X_csr.indices\n",
    "indptr = X_csr.indptr\n",
    "\n",
    "sp.csr_matrix((data, indices, indptr)).todense()"
   ]
  },
  {
   "cell_type": "markdown",
   "id": "bc982d97",
   "metadata": {},
   "source": [
    "## CSC Matrix\n",
    "\n",
    "\n",
    "In the .help method of csr matrix we find the following:\n",
    "\n",
    "Sparse matrices can be used in arithmetic operations: they support\n",
    "addition, subtraction, multiplication, division, and matrix power.\n",
    "\n",
    "- Advantages of the CSC format\n",
    "    - efficient arithmetic operations CSC + CSC, CSC * CSC, etc.\n",
    "    - efficient column slicing\n",
    "    - fast matrix vector products (CSR, BSR may be faster)\n",
    "\n",
    "- Disadvantages of the CSC format\n",
    "  - slow row slicing operations (consider CSR)\n",
    "  - changes to the sparsity structure are expensive (consider LIL or DOK)\n",
    "\n"
   ]
  },
  {
   "cell_type": "code",
   "execution_count": 270,
   "id": "6775d93a",
   "metadata": {},
   "outputs": [],
   "source": [
    "X_csc = sp.csc_matrix([[0, 2, 0],\n",
    "                       [0, 0, 3],\n",
    "                       [0, 0, 0],\n",
    "                       [7, 6, 0]],\n",
    "                       dtype=np.float64)"
   ]
  },
  {
   "cell_type": "code",
   "execution_count": 271,
   "id": "4de366aa",
   "metadata": {},
   "outputs": [
    {
     "name": "stdout",
     "output_type": "stream",
     "text": [
      "[7. 2. 6. 3.]\n",
      "[3 0 3 1]\n",
      "[0 1 3 4]\n"
     ]
    }
   ],
   "source": [
    "print(X_csc.data)\n",
    "print(X_csc.indices)\n",
    "print(X_csc.indptr)"
   ]
  },
  {
   "cell_type": "markdown",
   "id": "377acf11",
   "metadata": {},
   "source": [
    "The natural way to index in a CSC matrix is by col"
   ]
  },
  {
   "cell_type": "code",
   "execution_count": 272,
   "id": "c3c846f4",
   "metadata": {
    "scrolled": true
   },
   "outputs": [
    {
     "data": {
      "text/plain": [
       "array([[0.],\n",
       "       [0.],\n",
       "       [0.],\n",
       "       [7.]])"
      ]
     },
     "execution_count": 272,
     "metadata": {},
     "output_type": "execute_result"
    }
   ],
   "source": [
    "X_csc[:,0].toarray()"
   ]
  },
  {
   "cell_type": "markdown",
   "id": "29660fe8",
   "metadata": {},
   "source": [
    "A csc matrix can be populated from `data`, `indices`, `indptr`\n"
   ]
  },
  {
   "cell_type": "code",
   "execution_count": 273,
   "id": "76068f34",
   "metadata": {},
   "outputs": [
    {
     "data": {
      "text/plain": [
       "matrix([[0., 2., 0.],\n",
       "        [0., 0., 3.],\n",
       "        [0., 0., 0.],\n",
       "        [7., 6., 0.]])"
      ]
     },
     "execution_count": 273,
     "metadata": {},
     "output_type": "execute_result"
    }
   ],
   "source": [
    "data = X_csc.data\n",
    "indices = X_csc.indices\n",
    "indptr = X_csc.indptr\n",
    "\n",
    "sp.csc_matrix((data, indices, indptr)).todense()"
   ]
  },
  {
   "cell_type": "markdown",
   "id": "daed2050",
   "metadata": {},
   "source": [
    "## Getting data from a sparse matrix"
   ]
  },
  {
   "cell_type": "markdown",
   "id": "2947d34c",
   "metadata": {},
   "source": [
    "One can get rows/columns of a a sparse matrix with:\n",
    "    \n",
    "    - integers (including negative integers for 'starting from the end')\n",
    "    - slice\n",
    "    - List of row indices\n",
    "    - Boolean list"
   ]
  },
  {
   "cell_type": "code",
   "execution_count": 210,
   "id": "74319c3f",
   "metadata": {
    "scrolled": true
   },
   "outputs": [
    {
     "name": "stdout",
     "output_type": "stream",
     "text": [
      "[[0. 2. 0.]]\n",
      "[[0. 2. 0.]]\n",
      "[[0. 2. 0.]]\n",
      "[[7. 6. 0.]]\n",
      "[[7. 6. 0.]]\n",
      "[[7. 6. 0.]]\n"
     ]
    }
   ],
   "source": [
    "idx = 0\n",
    "print(X_lil[idx].toarray())\n",
    "print(X_csr[idx].toarray())\n",
    "print(X_csc[idx].toarray())\n",
    "\n",
    "idx = -1\n",
    "print(X_lil[idx].toarray())\n",
    "print(X_csr[idx].toarray())\n",
    "print(X_csc[idx].toarray())"
   ]
  },
  {
   "cell_type": "code",
   "execution_count": 215,
   "id": "52eb6c8d",
   "metadata": {
    "scrolled": true
   },
   "outputs": [
    {
     "name": "stdout",
     "output_type": "stream",
     "text": [
      "[[0. 2. 0.]\n",
      " [0. 0. 3.]]\n",
      "[[0. 2. 0.]\n",
      " [0. 0. 3.]]\n",
      "[[0. 2. 0.]\n",
      " [0. 0. 3.]]\n"
     ]
    }
   ],
   "source": [
    "idx = slice(0,2)\n",
    "print(X_lil[idx].toarray())\n",
    "print(X_csr[idx].toarray())\n",
    "print(X_csc[idx].toarray())"
   ]
  },
  {
   "cell_type": "code",
   "execution_count": 206,
   "id": "591ae0e6",
   "metadata": {},
   "outputs": [
    {
     "name": "stdout",
     "output_type": "stream",
     "text": [
      "[[0. 0. 3.]\n",
      " [7. 6. 0.]]\n",
      "[[0. 0. 3.]\n",
      " [7. 6. 0.]]\n",
      "[[0. 0. 3.]\n",
      " [7. 6. 0.]]\n"
     ]
    }
   ],
   "source": [
    "idx = [1,3]\n",
    "print(X_lil[idx].toarray())\n",
    "print(X_csr[idx].toarray())\n",
    "print(X_csc[idx].toarray())"
   ]
  },
  {
   "cell_type": "code",
   "execution_count": 208,
   "id": "d52ff533",
   "metadata": {
    "scrolled": true
   },
   "outputs": [
    {
     "name": "stdout",
     "output_type": "stream",
     "text": [
      "[[0. 2. 0.]\n",
      " [0. 0. 3.]\n",
      " [7. 6. 0.]]\n",
      "[[0. 2. 0.]\n",
      " [0. 0. 3.]\n",
      " [7. 6. 0.]]\n",
      "[[0. 2. 0.]\n",
      " [0. 0. 3.]\n",
      " [7. 6. 0.]]\n"
     ]
    }
   ],
   "source": [
    "idx = [True, True, False, True]\n",
    "print(X_lil[idx].toarray())\n",
    "print(X_csr[idx].toarray())\n",
    "print(X_csc[idx].toarray())"
   ]
  },
  {
   "cell_type": "markdown",
   "id": "3babfa5c",
   "metadata": {},
   "source": [
    "## Slicing benchmarks\n",
    "\n",
    "Not all operations to get data from an sparse matrix have the same cost"
   ]
  },
  {
   "cell_type": "code",
   "execution_count": 165,
   "id": "b30aa658",
   "metadata": {},
   "outputs": [],
   "source": [
    "from sklearn import datasets\n",
    "\n",
    "X = datasets.fetch_20newsgroups_vectorized()['data']"
   ]
  },
  {
   "cell_type": "code",
   "execution_count": 301,
   "id": "a3ee8b14",
   "metadata": {},
   "outputs": [],
   "source": [
    "X_csc = sp.csc_matrix(X)\n",
    "X_csr = sp.csr_matrix(X)\n",
    "X_lil = sp.lil_matrix(X)\n",
    "X_coo = sp.coo_matrix(X)"
   ]
  },
  {
   "cell_type": "markdown",
   "id": "20426d6e",
   "metadata": {},
   "source": [
    "Note you can't doo `X_coo[1]`"
   ]
  },
  {
   "cell_type": "markdown",
   "id": "17666f8b",
   "metadata": {},
   "source": [
    "Here we can see:\n",
    "- CSC excels in speed when retrieving columns.\n",
    "- CSR excels in speed when retrieving rows.\n"
   ]
  },
  {
   "cell_type": "code",
   "execution_count": 308,
   "id": "cfadfeba",
   "metadata": {
    "scrolled": false
   },
   "outputs": [
    {
     "name": "stdout",
     "output_type": "stream",
     "text": [
      "2.27 ms ± 9.07 µs per loop (mean ± std. dev. of 7 runs, 100 loops each)\n",
      "55.7 µs ± 339 ns per loop (mean ± std. dev. of 7 runs, 10,000 loops each)\n",
      "27.1 µs ± 124 ns per loop (mean ± std. dev. of 7 runs, 10,000 loops each)\n",
      "53.3 µs ± 438 ns per loop (mean ± std. dev. of 7 runs, 10,000 loops each)\n",
      "2.04 ms ± 16.5 µs per loop (mean ± std. dev. of 7 runs, 100 loops each)\n",
      "8.47 ms ± 234 µs per loop (mean ± std. dev. of 7 runs, 100 loops each)\n"
     ]
    }
   ],
   "source": [
    "idx = [1, 2, 100]\n",
    "\n",
    "t_csc_row = %timeit -o  aux = X_csc[idx]\n",
    "t_csr_row = %timeit -o  aux = X_csr[idx]\n",
    "t_lil_row = %timeit -o  aux = X_lil[idx]\n",
    "\n",
    "t_csc_col = %timeit -o  aux = X_csc[:,idx]\n",
    "t_csr_col = %timeit -o  aux = X_csr[:,idx]\n",
    "t_lil_col = %timeit -o  aux = X_lil[:,idx]"
   ]
  },
  {
   "cell_type": "code",
   "execution_count": 244,
   "id": "beed3698",
   "metadata": {
    "scrolled": false
   },
   "outputs": [
    {
     "name": "stdout",
     "output_type": "stream",
     "text": [
      "Get rows\n",
      "\t X_csr[idx]  --> 5.6e-05\n",
      "\t X_csc[idx]  --> 0.002266\n",
      "\t X_lil[idx]  --> 2.7e-05\n",
      "Get cols\n",
      "\t t_csr_col = 0.002036\n",
      "\t t_csc_col = 5.4e-05\n",
      "\t t_lil_col = 0.008042\n"
     ]
    }
   ],
   "source": [
    "print('Get rows')\n",
    "print(f'\\t X_csr[idx]  --> {round(t_csr_row.average,6)}')\n",
    "print(f'\\t X_csc[idx]  --> {round(t_csc_row.average,6)}')\n",
    "print(f'\\t X_lil[idx]  --> {round(t_lil_row.average,6)}')\n",
    "print(f'\\t X_coo[idx]  --> {round(t__row.average,6)}')\n",
    "\n",
    "\n",
    "print('Get cols')\n",
    "print(f'\\t t_csr_col = {round(t_csr_col.average,6)}')\n",
    "print(f'\\t t_csc_col = {round(t_csc_col.average,6)}')\n",
    "print(f'\\t t_lil_col = {round(t_lil_col.average,6)}')"
   ]
  },
  {
   "cell_type": "code",
   "execution_count": null,
   "id": "4f1327da",
   "metadata": {},
   "outputs": [],
   "source": []
  }
 ],
 "metadata": {
  "kernelspec": {
   "display_name": "Python 3 (ipykernel)",
   "language": "python",
   "name": "python3"
  },
  "language_info": {
   "codemirror_mode": {
    "name": "ipython",
    "version": 3
   },
   "file_extension": ".py",
   "mimetype": "text/x-python",
   "name": "python",
   "nbconvert_exporter": "python",
   "pygments_lexer": "ipython3",
   "version": "3.9.12"
  }
 },
 "nbformat": 4,
 "nbformat_minor": 5
}

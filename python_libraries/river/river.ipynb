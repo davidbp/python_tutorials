{
 "cells": [
  {
   "cell_type": "code",
   "execution_count": 23,
   "id": "9679ecc6",
   "metadata": {},
   "outputs": [],
   "source": [
    "import random\n",
    "import string\n",
    "\n",
    "\n",
    "import river\n",
    "from river import preprocessing\n",
    "from pprint import pprint\n",
    "import pandas as pd"
   ]
  },
  {
   "cell_type": "code",
   "execution_count": 24,
   "id": "fc8d9246",
   "metadata": {},
   "outputs": [
    {
     "name": "stdout",
     "output_type": "stream",
     "text": [
      "[{'c1': 'u', 'c2': 'd'},\n",
      " {'c1': 'a', 'c2': 'x'},\n",
      " {'c1': 'i', 'c2': 'h'},\n",
      " {'c1': 'h', 'c2': 'e'}]\n"
     ]
    }
   ],
   "source": [
    "\n",
    "random.seed(42)\n",
    "alphabet = list(string.ascii_lowercase)\n",
    "X = [\n",
    "    {\n",
    "        'c1': random.choice(alphabet),\n",
    "        'c2': random.choice(alphabet),\n",
    "    }\n",
    "    for _ in range(4)\n",
    "]\n",
    "pprint(X)"
   ]
  },
  {
   "cell_type": "code",
   "execution_count": 41,
   "id": "70f2843a",
   "metadata": {},
   "outputs": [
    {
     "name": "stdout",
     "output_type": "stream",
     "text": [
      "defaultdict(<class 'set'>, {})\n",
      "defaultdict(<class 'set'>, {'c1': {'u'}, 'c2': {'d'}})\n",
      "defaultdict(<class 'set'>, {'c1': {'u', 'a'}, 'c2': {'x', 'd'}})\n",
      "defaultdict(<class 'set'>, {'c1': {'i', 'u', 'a'}, 'c2': {'h', 'x', 'd'}})\n"
     ]
    }
   ],
   "source": [
    "\n",
    "oh = preprocessing.OneHotEncoder(sparse=True)\n",
    "for x in X:\n",
    "    print(oh.values)\n",
    "    oh = oh.learn_one(x)"
   ]
  },
  {
   "cell_type": "code",
   "execution_count": 26,
   "id": "72e6364b",
   "metadata": {},
   "outputs": [
    {
     "data": {
      "text/plain": [
       "defaultdict(set, {'c1': {'a', 'h', 'i', 'u'}, 'c2': {'d', 'e', 'h', 'x'}})"
      ]
     },
     "execution_count": 26,
     "metadata": {},
     "output_type": "execute_result"
    }
   ],
   "source": [
    "oh.values"
   ]
  },
  {
   "cell_type": "code",
   "execution_count": 71,
   "id": "6ac64c2e",
   "metadata": {},
   "outputs": [
    {
     "data": {
      "text/html": [
       "<div>\n",
       "<style scoped>\n",
       "    .dataframe tbody tr th:only-of-type {\n",
       "        vertical-align: middle;\n",
       "    }\n",
       "\n",
       "    .dataframe tbody tr th {\n",
       "        vertical-align: top;\n",
       "    }\n",
       "\n",
       "    .dataframe thead th {\n",
       "        text-align: right;\n",
       "    }\n",
       "</style>\n",
       "<table border=\"1\" class=\"dataframe\">\n",
       "  <thead>\n",
       "    <tr style=\"text-align: right;\">\n",
       "      <th></th>\n",
       "      <th>c1</th>\n",
       "      <th>c2</th>\n",
       "    </tr>\n",
       "  </thead>\n",
       "  <tbody>\n",
       "    <tr>\n",
       "      <th>0</th>\n",
       "      <td>a</td>\n",
       "      <td>c</td>\n",
       "    </tr>\n",
       "    <tr>\n",
       "      <th>1</th>\n",
       "      <td>b</td>\n",
       "      <td>d</td>\n",
       "    </tr>\n",
       "    <tr>\n",
       "      <th>2</th>\n",
       "      <td>a</td>\n",
       "      <td>e</td>\n",
       "    </tr>\n",
       "  </tbody>\n",
       "</table>\n",
       "</div>"
      ],
      "text/plain": [
       "  c1 c2\n",
       "0  a  c\n",
       "1  b  d\n",
       "2  a  e"
      ]
     },
     "metadata": {},
     "output_type": "display_data"
    },
    {
     "data": {
      "text/html": [
       "<div>\n",
       "<style scoped>\n",
       "    .dataframe tbody tr th:only-of-type {\n",
       "        vertical-align: middle;\n",
       "    }\n",
       "\n",
       "    .dataframe tbody tr th {\n",
       "        vertical-align: top;\n",
       "    }\n",
       "\n",
       "    .dataframe thead th {\n",
       "        text-align: right;\n",
       "    }\n",
       "</style>\n",
       "<table border=\"1\" class=\"dataframe\">\n",
       "  <thead>\n",
       "    <tr style=\"text-align: right;\">\n",
       "      <th></th>\n",
       "      <th>c1_a</th>\n",
       "      <th>c2_e</th>\n",
       "      <th>c2_d</th>\n",
       "    </tr>\n",
       "  </thead>\n",
       "  <tbody>\n",
       "    <tr>\n",
       "      <th>0</th>\n",
       "      <td>1</td>\n",
       "      <td>0</td>\n",
       "      <td>0</td>\n",
       "    </tr>\n",
       "    <tr>\n",
       "      <th>1</th>\n",
       "      <td>0</td>\n",
       "      <td>0</td>\n",
       "      <td>1</td>\n",
       "    </tr>\n",
       "    <tr>\n",
       "      <th>2</th>\n",
       "      <td>1</td>\n",
       "      <td>1</td>\n",
       "      <td>0</td>\n",
       "    </tr>\n",
       "  </tbody>\n",
       "</table>\n",
       "</div>"
      ],
      "text/plain": [
       "   c1_a  c2_e  c2_d\n",
       "0     1     0     0\n",
       "1     0     0     1\n",
       "2     1     1     0"
      ]
     },
     "execution_count": 71,
     "metadata": {},
     "output_type": "execute_result"
    }
   ],
   "source": [
    "df_ = pd.DataFrame([{'c1':'a', 'c2':'c'},{'c1':'b', 'c2':'d'},{'c1':'a', 'c2':'e'} ])\n",
    "display(df_)\n",
    "oh.transform_many(df_)"
   ]
  },
  {
   "cell_type": "code",
   "execution_count": 72,
   "id": "187f5479",
   "metadata": {},
   "outputs": [
    {
     "data": {
      "text/plain": [
       "Index(['c1', 'c2'], dtype='object')"
      ]
     },
     "execution_count": 72,
     "metadata": {},
     "output_type": "execute_result"
    }
   ],
   "source": [
    "df_.columns"
   ]
  },
  {
   "cell_type": "code",
   "execution_count": 73,
   "id": "3bdd4859",
   "metadata": {
    "scrolled": false
   },
   "outputs": [
    {
     "data": {
      "text/plain": [
       "<bound method OneHotEncoder.transform_many of OneHotEncoder (\n",
       "  sparse=True\n",
       ")>"
      ]
     },
     "execution_count": 73,
     "metadata": {},
     "output_type": "execute_result"
    }
   ],
   "source": [
    "oh.transform_many"
   ]
  },
  {
   "cell_type": "markdown",
   "id": "dab1853e",
   "metadata": {},
   "source": [
    "#### One hot encoding in sklearn"
   ]
  },
  {
   "cell_type": "code",
   "execution_count": 74,
   "id": "d4e91aaf",
   "metadata": {},
   "outputs": [],
   "source": [
    "import sklearn\n",
    "from sklearn import preprocessing\n",
    "oh_sk = sklearn.preprocessing.OneHotEncoder()"
   ]
  },
  {
   "cell_type": "code",
   "execution_count": 75,
   "id": "def44fa2",
   "metadata": {},
   "outputs": [
    {
     "data": {
      "text/plain": [
       "OneHotEncoder()"
      ]
     },
     "execution_count": 75,
     "metadata": {},
     "output_type": "execute_result"
    }
   ],
   "source": [
    "oh_sk.fit(df_)"
   ]
  },
  {
   "cell_type": "code",
   "execution_count": 76,
   "id": "f526a240",
   "metadata": {},
   "outputs": [
    {
     "data": {
      "text/plain": [
       "[array(['a', 'b'], dtype=object), array(['c', 'd', 'e'], dtype=object)]"
      ]
     },
     "execution_count": 76,
     "metadata": {},
     "output_type": "execute_result"
    }
   ],
   "source": [
    "oh_sk.categories_"
   ]
  },
  {
   "cell_type": "code",
   "execution_count": 79,
   "id": "ff184872",
   "metadata": {},
   "outputs": [
    {
     "data": {
      "text/plain": [
       "<3x5 sparse matrix of type '<class 'numpy.float64'>'\n",
       "\twith 6 stored elements in Compressed Sparse Row format>"
      ]
     },
     "execution_count": 79,
     "metadata": {},
     "output_type": "execute_result"
    }
   ],
   "source": [
    "oh_sk.transform(df_)"
   ]
  },
  {
   "cell_type": "code",
   "execution_count": 81,
   "id": "0208cf6d",
   "metadata": {},
   "outputs": [
    {
     "data": {
      "text/plain": [
       "array(['c1', 'c2'], dtype=object)"
      ]
     },
     "execution_count": 81,
     "metadata": {},
     "output_type": "execute_result"
    }
   ],
   "source": [
    "oh_sk.feature_names_in_"
   ]
  },
  {
   "cell_type": "code",
   "execution_count": 82,
   "id": "65e09747",
   "metadata": {},
   "outputs": [
    {
     "data": {
      "text/plain": [
       "array(['c1_a', 'c1_b', 'c2_c', 'c2_d', 'c2_e'], dtype=object)"
      ]
     },
     "execution_count": 82,
     "metadata": {},
     "output_type": "execute_result"
    }
   ],
   "source": [
    "oh_sk.get_feature_names_out()"
   ]
  },
  {
   "cell_type": "code",
   "execution_count": null,
   "id": "d4df9e66",
   "metadata": {},
   "outputs": [],
   "source": []
  }
 ],
 "metadata": {
  "kernelspec": {
   "display_name": "Python 3 (ipykernel)",
   "language": "python",
   "name": "python3"
  },
  "language_info": {
   "codemirror_mode": {
    "name": "ipython",
    "version": 3
   },
   "file_extension": ".py",
   "mimetype": "text/x-python",
   "name": "python",
   "nbconvert_exporter": "python",
   "pygments_lexer": "ipython3",
   "version": "3.9.12"
  }
 },
 "nbformat": 4,
 "nbformat_minor": 5
}

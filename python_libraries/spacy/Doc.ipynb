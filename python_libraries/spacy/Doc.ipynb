{
 "cells": [
  {
   "cell_type": "code",
   "execution_count": 1,
   "id": "4a9913fc",
   "metadata": {
    "ExecuteTime": {
     "end_time": "2022-03-06T09:40:45.531721Z",
     "start_time": "2022-03-06T09:40:45.527850Z"
    }
   },
   "outputs": [],
   "source": [
    "# `Doc`"
   ]
  },
  {
   "cell_type": "code",
   "execution_count": 2,
   "id": "22217150",
   "metadata": {
    "ExecuteTime": {
     "end_time": "2022-03-06T09:40:50.655075Z",
     "start_time": "2022-03-06T09:40:46.348340Z"
    }
   },
   "outputs": [],
   "source": [
    "import spacy"
   ]
  },
  {
   "cell_type": "code",
   "execution_count": 3,
   "id": "572e26cd",
   "metadata": {
    "ExecuteTime": {
     "end_time": "2022-03-06T09:41:03.552269Z",
     "start_time": "2022-03-06T09:41:03.385024Z"
    }
   },
   "outputs": [],
   "source": [
    "from spacy.lang.en import English\n",
    "nlp = English()"
   ]
  },
  {
   "cell_type": "code",
   "execution_count": 32,
   "id": "3e4531a2",
   "metadata": {
    "ExecuteTime": {
     "end_time": "2022-03-06T09:46:38.272368Z",
     "start_time": "2022-03-06T09:46:38.266685Z"
    }
   },
   "outputs": [
    {
     "name": "stdout",
     "output_type": "stream",
     "text": [
      "<class 'spacy.tokens.doc.Doc'>\n",
      "I went running to the room, it was empty\n"
     ]
    }
   ],
   "source": [
    "d = nlp('I went running to the room, it was empty')\n",
    "print(type(d))\n",
    "print(d)"
   ]
  },
  {
   "cell_type": "markdown",
   "id": "0059f3ed",
   "metadata": {
    "ExecuteTime": {
     "end_time": "2022-03-06T09:42:02.323958Z",
     "start_time": "2022-03-06T09:42:02.318407Z"
    }
   },
   "source": [
    "Note that a `Doc` has a length that equals the number of tokens"
   ]
  },
  {
   "cell_type": "code",
   "execution_count": 33,
   "id": "94c5458e",
   "metadata": {
    "ExecuteTime": {
     "end_time": "2022-03-06T09:46:39.091507Z",
     "start_time": "2022-03-06T09:46:39.085501Z"
    }
   },
   "outputs": [
    {
     "data": {
      "text/plain": [
       "10"
      ]
     },
     "execution_count": 33,
     "metadata": {},
     "output_type": "execute_result"
    }
   ],
   "source": [
    "len(d)"
   ]
  },
  {
   "cell_type": "code",
   "execution_count": 41,
   "id": "e666b6e2",
   "metadata": {
    "ExecuteTime": {
     "end_time": "2022-03-06T09:47:48.781376Z",
     "start_time": "2022-03-06T09:47:48.775246Z"
    }
   },
   "outputs": [
    {
     "data": {
      "text/plain": [
       "running"
      ]
     },
     "execution_count": 41,
     "metadata": {},
     "output_type": "execute_result"
    }
   ],
   "source": [
    "d[2]"
   ]
  },
  {
   "cell_type": "markdown",
   "id": "24b9777c",
   "metadata": {},
   "source": [
    "# Spacy"
   ]
  },
  {
   "cell_type": "code",
   "execution_count": 47,
   "id": "6b05d948",
   "metadata": {
    "ExecuteTime": {
     "end_time": "2022-03-06T09:51:57.322159Z",
     "start_time": "2022-03-06T09:51:56.807001Z"
    }
   },
   "outputs": [
    {
     "name": "stdout",
     "output_type": "stream",
     "text": [
      "can I do batch\n"
     ]
    }
   ],
   "source": [
    "import spacy\n",
    "\n",
    "nlp = spacy.load('en_core_web_sm', disable=['parser', 'ner'])\n",
    "doc = nlp('Can I do batching')\n",
    "print (\" \".join([token.lemma_ for token in doc]))"
   ]
  },
  {
   "cell_type": "code",
   "execution_count": 51,
   "id": "feeeded4",
   "metadata": {
    "ExecuteTime": {
     "end_time": "2022-03-06T09:52:42.257014Z",
     "start_time": "2022-03-06T09:52:32.022454Z"
    }
   },
   "outputs": [
    {
     "name": "stdout",
     "output_type": "stream",
     "text": [
      "1.27 µs ± 25.3 ns per loop (mean ± std. dev. of 7 runs, 1000000 loops each)\n"
     ]
    }
   ],
   "source": [
    "%%timeit\n",
    "[token.lemma_ for token in doc]"
   ]
  },
  {
   "cell_type": "code",
   "execution_count": null,
   "id": "bcb75889",
   "metadata": {},
   "outputs": [],
   "source": []
  },
  {
   "cell_type": "code",
   "execution_count": null,
   "id": "5f4db1fd",
   "metadata": {},
   "outputs": [],
   "source": []
  },
  {
   "cell_type": "code",
   "execution_count": null,
   "id": "10899913",
   "metadata": {},
   "outputs": [],
   "source": []
  },
  {
   "cell_type": "code",
   "execution_count": null,
   "id": "f984fd53",
   "metadata": {},
   "outputs": [],
   "source": []
  }
 ],
 "metadata": {
  "kernelspec": {
   "display_name": "Python 3 (ipykernel)",
   "language": "python",
   "name": "python3"
  },
  "language_info": {
   "codemirror_mode": {
    "name": "ipython",
    "version": 3
   },
   "file_extension": ".py",
   "mimetype": "text/x-python",
   "name": "python",
   "nbconvert_exporter": "python",
   "pygments_lexer": "ipython3",
   "version": "3.8.12"
  },
  "toc": {
   "base_numbering": 1,
   "nav_menu": {},
   "number_sections": true,
   "sideBar": true,
   "skip_h1_title": false,
   "title_cell": "Table of Contents",
   "title_sidebar": "Contents",
   "toc_cell": false,
   "toc_position": {},
   "toc_section_display": true,
   "toc_window_display": false
  }
 },
 "nbformat": 4,
 "nbformat_minor": 5
}

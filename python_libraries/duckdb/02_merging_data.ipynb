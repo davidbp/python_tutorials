{
 "cells": [
  {
   "cell_type": "code",
   "execution_count": 4,
   "id": "37d9e23c",
   "metadata": {},
   "outputs": [],
   "source": [
    "import pandas as pd\n",
    "import duckdb\n",
    "import os\n",
    "from pathlib import Path\n",
    "import numpy as np\n",
    "import glob"
   ]
  },
  {
   "cell_type": "markdown",
   "id": "94750495",
   "metadata": {},
   "source": [
    "## Merging data sources\n",
    "\n",
    "Let us consider we have different datasources that we want to join by a given column.\n",
    "For example the two following csv files"
   ]
  },
  {
   "cell_type": "code",
   "execution_count": 23,
   "id": "a3d548fc",
   "metadata": {},
   "outputs": [
    {
     "data": {
      "text/plain": [
       "┌────────────┬────────────────┬─────────────────┐\n",
       "│ FlightDate │ OriginCityName │  DestCityName   │\n",
       "│    date    │    varchar     │     varchar     │\n",
       "├────────────┼────────────────┼─────────────────┤\n",
       "│ 1988-01-01 │ New York, NY   │ Los Angeles, CA │\n",
       "│ 1988-01-02 │ New York, NY   │ Los Angeles, CA │\n",
       "└────────────┴────────────────┴─────────────────┘"
      ]
     },
     "execution_count": 23,
     "metadata": {},
     "output_type": "execute_result"
    }
   ],
   "source": [
    "duckdb.read_csv('./data/flights3.csv')"
   ]
  },
  {
   "cell_type": "code",
   "execution_count": 28,
   "id": "4c8cc063",
   "metadata": {},
   "outputs": [
    {
     "data": {
      "text/plain": [
       "┌────────────┬───────────────┬────────────────┬─────────────────┐\n",
       "│ FlightDate │ UniqueCarrier │ OriginCityName │  DestCityName   │\n",
       "│    date    │    varchar    │    varchar     │     varchar     │\n",
       "├────────────┼───────────────┼────────────────┼─────────────────┤\n",
       "│ 1988-01-03 │ AA            │ New York, NY   │ Los Angeles, CA │\n",
       "└────────────┴───────────────┴────────────────┴─────────────────┘"
      ]
     },
     "execution_count": 28,
     "metadata": {},
     "output_type": "execute_result"
    }
   ],
   "source": [
    "duckdb.read_csv('./data/flights4.csv')"
   ]
  },
  {
   "cell_type": "markdown",
   "id": "48cd3fa7",
   "metadata": {},
   "source": [
    "We can use the following query to join the two csv files"
   ]
  },
  {
   "cell_type": "code",
   "execution_count": 62,
   "id": "657a305d",
   "metadata": {},
   "outputs": [
    {
     "data": {
      "text/plain": [
       "┌────────────┬────────────────┬─────────────────┬───────────────┐\n",
       "│ FlightDate │ OriginCityName │  DestCityName   │ UniqueCarrier │\n",
       "│    date    │    varchar     │     varchar     │    varchar    │\n",
       "├────────────┼────────────────┼─────────────────┼───────────────┤\n",
       "│ 1988-01-01 │ New York, NY   │ Los Angeles, CA │ NULL          │\n",
       "│ 1988-01-02 │ New York, NY   │ Los Angeles, CA │ NULL          │\n",
       "│ 1988-01-03 │ New York, NY   │ Los Angeles, CA │ AA            │\n",
       "└────────────┴────────────────┴─────────────────┴───────────────┘"
      ]
     },
     "execution_count": 62,
     "metadata": {},
     "output_type": "execute_result"
    }
   ],
   "source": [
    "query_str = \"SELECT * FROM read_csv(['./data/flights3.csv', './data/flights4.csv'], union_by_name = true, AUTO_DETECT=TRUE);\"\n",
    "df = duckdb.query(query_str)\n",
    "df"
   ]
  },
  {
   "cell_type": "markdown",
   "id": "de0e70ad",
   "metadata": {},
   "source": [
    "We can store the relation table to disk"
   ]
  },
  {
   "cell_type": "code",
   "execution_count": 61,
   "id": "996db5df",
   "metadata": {},
   "outputs": [],
   "source": [
    "df.to_csv('./data/merge_flights3_flights4.csv', header=True)"
   ]
  },
  {
   "cell_type": "markdown",
   "id": "eb3a473a",
   "metadata": {},
   "source": [
    "And we can read it later (in pandas for example)"
   ]
  },
  {
   "cell_type": "code",
   "execution_count": 60,
   "id": "cb00e012",
   "metadata": {},
   "outputs": [
    {
     "data": {
      "text/html": [
       "<div>\n",
       "<style scoped>\n",
       "    .dataframe tbody tr th:only-of-type {\n",
       "        vertical-align: middle;\n",
       "    }\n",
       "\n",
       "    .dataframe tbody tr th {\n",
       "        vertical-align: top;\n",
       "    }\n",
       "\n",
       "    .dataframe thead th {\n",
       "        text-align: right;\n",
       "    }\n",
       "</style>\n",
       "<table border=\"1\" class=\"dataframe\">\n",
       "  <thead>\n",
       "    <tr style=\"text-align: right;\">\n",
       "      <th></th>\n",
       "      <th>FlightDate</th>\n",
       "      <th>OriginCityName</th>\n",
       "      <th>DestCityName</th>\n",
       "      <th>UniqueCarrier</th>\n",
       "    </tr>\n",
       "  </thead>\n",
       "  <tbody>\n",
       "    <tr>\n",
       "      <th>0</th>\n",
       "      <td>1988-01-01</td>\n",
       "      <td>New York, NY</td>\n",
       "      <td>Los Angeles, CA</td>\n",
       "      <td>NaN</td>\n",
       "    </tr>\n",
       "    <tr>\n",
       "      <th>1</th>\n",
       "      <td>1988-01-02</td>\n",
       "      <td>New York, NY</td>\n",
       "      <td>Los Angeles, CA</td>\n",
       "      <td>NaN</td>\n",
       "    </tr>\n",
       "    <tr>\n",
       "      <th>2</th>\n",
       "      <td>1988-01-03</td>\n",
       "      <td>New York, NY</td>\n",
       "      <td>Los Angeles, CA</td>\n",
       "      <td>AA</td>\n",
       "    </tr>\n",
       "  </tbody>\n",
       "</table>\n",
       "</div>"
      ],
      "text/plain": [
       "   FlightDate OriginCityName     DestCityName UniqueCarrier\n",
       "0  1988-01-01   New York, NY  Los Angeles, CA           NaN\n",
       "1  1988-01-02   New York, NY  Los Angeles, CA           NaN\n",
       "2  1988-01-03   New York, NY  Los Angeles, CA            AA"
      ]
     },
     "execution_count": 60,
     "metadata": {},
     "output_type": "execute_result"
    }
   ],
   "source": [
    "pd.read_csv('./data/merge_flights3_flights4.csv')"
   ]
  },
  {
   "cell_type": "markdown",
   "id": "7bb6d39a",
   "metadata": {},
   "source": [
    "#### Merging parquet files, selecting only some columns\n",
    "\n",
    "Let us consider we want to do the same as before but merging columns"
   ]
  },
  {
   "cell_type": "code",
   "execution_count": 68,
   "id": "b02ee304",
   "metadata": {},
   "outputs": [],
   "source": [
    "duckdb.read_csv('./data/flights3.csv').to_parquet('./data/flights3.parquet')"
   ]
  },
  {
   "cell_type": "code",
   "execution_count": 72,
   "id": "5fcccd89",
   "metadata": {},
   "outputs": [],
   "source": [
    "duckdb.read_csv('./data/flights4.csv').to_parquet('./data/flights4.parquet')"
   ]
  },
  {
   "cell_type": "markdown",
   "id": "0dcfd7aa",
   "metadata": {},
   "source": [
    "We can do the same we did of joining the different parquet files"
   ]
  },
  {
   "cell_type": "code",
   "execution_count": 76,
   "id": "888918f3",
   "metadata": {},
   "outputs": [],
   "source": [
    "query_str = \"SELECT * FROM read_parquet(['./data/flights3.parquet', './data/flights4.parquet'], union_by_name = true);\"\n",
    "df = duckdb.query(query_str)"
   ]
  },
  {
   "cell_type": "code",
   "execution_count": 77,
   "id": "836be614",
   "metadata": {},
   "outputs": [
    {
     "data": {
      "text/plain": [
       "┌────────────┬────────────────┬─────────────────┬───────────────┐\n",
       "│ FlightDate │ OriginCityName │  DestCityName   │ UniqueCarrier │\n",
       "│    date    │    varchar     │     varchar     │    varchar    │\n",
       "├────────────┼────────────────┼─────────────────┼───────────────┤\n",
       "│ 1988-01-01 │ New York, NY   │ Los Angeles, CA │ NULL          │\n",
       "│ 1988-01-02 │ New York, NY   │ Los Angeles, CA │ NULL          │\n",
       "│ 1988-01-03 │ New York, NY   │ Los Angeles, CA │ AA            │\n",
       "└────────────┴────────────────┴─────────────────┴───────────────┘"
      ]
     },
     "execution_count": 77,
     "metadata": {},
     "output_type": "execute_result"
    }
   ],
   "source": [
    "df"
   ]
  },
  {
   "cell_type": "code",
   "execution_count": 83,
   "id": "2c100a9a",
   "metadata": {},
   "outputs": [],
   "source": [
    "duckdb.read_csv('./data/merge_flights3_flights4.csv').to_parquet('./data/merge_flights3_flights4.parquet')"
   ]
  },
  {
   "cell_type": "code",
   "execution_count": 85,
   "id": "d92e2e32",
   "metadata": {},
   "outputs": [
    {
     "name": "stdout",
     "output_type": "stream",
     "text": [
      "flights3.csv                     flights4.parquet\r\n",
      "flights3.parquet                 merge_flights3_flights4.csv\r\n",
      "flights4.csv                     merge_flights3_flights4.parquet\r\n"
     ]
    }
   ],
   "source": [
    "ls data"
   ]
  },
  {
   "cell_type": "markdown",
   "id": "d07a332b",
   "metadata": {},
   "source": [
    "We can read more than 2 files"
   ]
  },
  {
   "cell_type": "code",
   "execution_count": 96,
   "id": "60a709ce",
   "metadata": {},
   "outputs": [],
   "source": [
    "query_str = \"SELECT FlightDate, OriginCityName',  FROM read_parquet(['./data/flights3.parquet', './data/flights4.parquet', './data/merge_flights3_flights4.parquet'], union_by_name = true);\"\n",
    "df = duckdb.query(query_str)"
   ]
  },
  {
   "cell_type": "code",
   "execution_count": 97,
   "id": "1848aace",
   "metadata": {},
   "outputs": [
    {
     "data": {
      "text/plain": [
       "┌────────────┬────────────────┐\n",
       "│ FlightDate │ OriginCityName │\n",
       "│    date    │    varchar     │\n",
       "├────────────┼────────────────┤\n",
       "│ 1988-01-01 │ New York, NY   │\n",
       "│ 1988-01-02 │ New York, NY   │\n",
       "│ 1988-01-03 │ New York, NY   │\n",
       "│ 1988-01-01 │ New York, NY   │\n",
       "│ 1988-01-02 │ New York, NY   │\n",
       "│ 1988-01-03 │ New York, NY   │\n",
       "└────────────┴────────────────┘"
      ]
     },
     "execution_count": 97,
     "metadata": {},
     "output_type": "execute_result"
    }
   ],
   "source": [
    "df"
   ]
  },
  {
   "cell_type": "code",
   "execution_count": null,
   "id": "10b99ae5",
   "metadata": {},
   "outputs": [],
   "source": []
  },
  {
   "cell_type": "code",
   "execution_count": null,
   "id": "f5d41e5e",
   "metadata": {},
   "outputs": [],
   "source": []
  },
  {
   "cell_type": "code",
   "execution_count": 98,
   "id": "0cc92a4a",
   "metadata": {},
   "outputs": [
    {
     "name": "stdout",
     "output_type": "stream",
     "text": [
      "01_intro_ducdb.ipynb     \u001b[34mdata\u001b[m\u001b[m/                    requirements.txt\r\n",
      "02_merging_data.ipynb    diary_asin_tagger.ipynb  test.csv\r\n"
     ]
    }
   ],
   "source": []
  },
  {
   "cell_type": "code",
   "execution_count": null,
   "id": "04f9dc92",
   "metadata": {},
   "outputs": [],
   "source": []
  },
  {
   "cell_type": "code",
   "execution_count": null,
   "id": "6cc6b83f",
   "metadata": {},
   "outputs": [],
   "source": []
  },
  {
   "cell_type": "code",
   "execution_count": null,
   "id": "efc6550f",
   "metadata": {},
   "outputs": [],
   "source": []
  }
 ],
 "metadata": {
  "kernelspec": {
   "display_name": "Python 3 (ipykernel)",
   "language": "python",
   "name": "python3"
  },
  "language_info": {
   "codemirror_mode": {
    "name": "ipython",
    "version": 3
   },
   "file_extension": ".py",
   "mimetype": "text/x-python",
   "name": "python",
   "nbconvert_exporter": "python",
   "pygments_lexer": "ipython3",
   "version": "3.9.12"
  }
 },
 "nbformat": 4,
 "nbformat_minor": 5
}

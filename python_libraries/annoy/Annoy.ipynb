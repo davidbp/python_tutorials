{
 "cells": [
  {
   "cell_type": "markdown",
   "metadata": {
    "toc": true
   },
   "source": [
    "<h1>Table of Contents<span class=\"tocSkip\"></span></h1>\n",
    "<div class=\"toc\"><ul class=\"toc-item\"><li><span><a href=\"#ANNOY-library\" data-toc-modified-id=\"ANNOY-library-1\"><span class=\"toc-item-num\">1&nbsp;&nbsp;</span>ANNOY library</a></span></li><li><span><a href=\"#Full-Python-API\" data-toc-modified-id=\"Full-Python-API-2\"><span class=\"toc-item-num\">2&nbsp;&nbsp;</span>Full Python API</a></span></li><li><span><a href=\"#Note:--Sparse-matrices-are-not-supported\" data-toc-modified-id=\"Note:--Sparse-matrices-are-not-supported-3\"><span class=\"toc-item-num\">3&nbsp;&nbsp;</span>Note:  Sparse matrices are not supported</a></span></li><li><span><a href=\"#Example-with-20newsgroups-dataset\" data-toc-modified-id=\"Example-with-20newsgroups-dataset-4\"><span class=\"toc-item-num\">4&nbsp;&nbsp;</span>Example with 20newsgroups dataset</a></span><ul class=\"toc-item\"><li><span><a href=\"#Function-to-test-the-quality-of-the-Approximate-Nearest-Neighbors\" data-toc-modified-id=\"Function-to-test-the-quality-of-the-Approximate-Nearest-Neighbors-4.1\"><span class=\"toc-item-num\">4.1&nbsp;&nbsp;</span>Function to test the quality of the Approximate Nearest Neighbors</a></span></li><li><span><a href=\"#Evaluating-quality-of-the-retrieval-of-the-K-NN\" data-toc-modified-id=\"Evaluating-quality-of-the-retrieval-of-the-K-NN-4.2\"><span class=\"toc-item-num\">4.2&nbsp;&nbsp;</span>Evaluating quality of the retrieval of the K NN</a></span></li><li><span><a href=\"#Evaluating-performance\" data-toc-modified-id=\"Evaluating-performance-4.3\"><span class=\"toc-item-num\">4.3&nbsp;&nbsp;</span>Evaluating performance</a></span></li></ul></li></ul></div>"
   ]
  },
  {
   "cell_type": "markdown",
   "metadata": {},
   "source": [
    "## ANNOY library\n",
    "\n",
    "\n",
    "Full Python API\n",
    "---------------\n",
    "\n",
    "* ``AnnoyIndex(f, metric)`` returns a new index that's read-write and stores vector of ``f`` dimensions. Metric can be ``\"angular\"``, ``\"euclidean\"``, ``\"manhattan\"``, ``\"hamming\"``, or ``\"dot\"``.\n",
    "\n",
    "\n",
    "* ``a.add_item(i, v)`` adds item ``i`` (any nonnegative integer) with vector ``v``. Note that it will allocate memory for ``max(i)+1`` items.\n",
    "\n",
    "\n",
    "* ``a.build(n_trees, n_jobs=-1)`` builds a forest of ``n_trees`` trees. More trees gives higher precision when querying. After calling ``build``, no more items can be added. ``n_jobs`` specifies the number of threads used to build the trees. ``n_jobs=-1`` uses all available CPU cores.\n",
    "\n",
    "\n",
    "* ``a.save(fn, prefault=False)`` saves the index to disk and loads it (see next function). After saving, no more items can be added.\n",
    "\n",
    "\n",
    "* ``a.load(fn, prefault=False)`` loads (mmaps) an index from disk. If `prefault` is set to `True`, it will pre-read the entire file into memory (using mmap with `MAP_POPULATE`). Default is `False`.\n",
    "\n",
    "\n",
    "* ``a.unload()`` unloads.\n",
    "\n",
    "\n",
    "* ``a.get_nns_by_item(i, n, search_k=-1, include_distances=False)`` returns the ``n`` closest items. During the query it will inspect up to ``search_k`` nodes which defaults to ``n_trees * n`` if not provided. ``search_k`` gives you a run-time tradeoff between better accuracy and speed. If you set ``include_distances`` to ``True``, it will return a 2 element tuple with two lists in it: the second one containing all corresponding distances.\n",
    "\n",
    "\n",
    "* ``a.get_nns_by_vector(v, n, search_k=-1, include_distances=False)`` same but query by vector ``v``.\n",
    "\n",
    "\n",
    "* ``a.get_item_vector(i)`` returns the vector for item ``i`` that was previously added.\n",
    "\n",
    "\n",
    "* ``a.get_distance(i, j)`` returns the distance between items ``i`` and ``j``. NOTE: this used to return the *squared* distance, but has been changed as of Aug 2016.\n",
    "\n",
    "\n",
    "* ``a.get_n_items()`` returns the number of items in the index.\n",
    "\n",
    "\n",
    "* ``a.get_n_trees()`` returns the number of trees in the index.\n",
    "\n",
    "\n",
    "* ``a.on_disk_build(fn)`` prepares annoy to build the index in the specified file instead of RAM (execute before adding items, no need to save after build)\n",
    "\n",
    "\n",
    "* ``a.set_seed(seed)`` will initialize the random number generator with the given seed.  Only used for building up the tree, i. e. only necessary to pass this before adding the items.  Will have no effect after calling `a.build(n_trees)` or `a.load(fn)`.\n",
    "\n"
   ]
  },
  {
   "cell_type": "code",
   "execution_count": 1,
   "metadata": {
    "ExecuteTime": {
     "end_time": "2021-02-02T21:14:18.246743Z",
     "start_time": "2021-02-02T21:14:18.215874Z"
    }
   },
   "outputs": [],
   "source": [
    "from annoy import AnnoyIndex\n",
    "import random\n",
    "\n",
    "f = 40\n",
    "t = AnnoyIndex(f, 'angular')  # Length of item vector that will be indexed\n",
    "for i in range(1000):\n",
    "#    import pdb;pdb.set_trace()\n",
    "    v = [random.gauss(0, 1) for z in range(f)]\n",
    "    t.add_item(i, v)\n"
   ]
  },
  {
   "cell_type": "code",
   "execution_count": 2,
   "metadata": {
    "ExecuteTime": {
     "end_time": "2021-02-02T21:14:18.265386Z",
     "start_time": "2021-02-02T21:14:18.256969Z"
    },
    "scrolled": false
   },
   "outputs": [
    {
     "data": {
      "text/plain": [
       "annoy.Annoy"
      ]
     },
     "execution_count": 2,
     "metadata": {},
     "output_type": "execute_result"
    }
   ],
   "source": [
    "type(t)"
   ]
  },
  {
   "cell_type": "code",
   "execution_count": 3,
   "metadata": {
    "ExecuteTime": {
     "end_time": "2021-02-02T21:14:18.657609Z",
     "start_time": "2021-02-02T21:14:18.650747Z"
    }
   },
   "outputs": [
    {
     "data": {
      "text/plain": [
       "True"
      ]
     },
     "execution_count": 3,
     "metadata": {},
     "output_type": "execute_result"
    }
   ],
   "source": [
    "t.build(n_trees = 10)\n",
    "t.save('test.ann')"
   ]
  },
  {
   "cell_type": "code",
   "execution_count": 4,
   "metadata": {
    "ExecuteTime": {
     "end_time": "2021-02-02T21:14:19.445727Z",
     "start_time": "2021-02-02T21:14:19.442021Z"
    }
   },
   "outputs": [
    {
     "name": "stdout",
     "output_type": "stream",
     "text": [
      "[0, 39, 234, 474, 368, 798, 35, 307, 439, 922, 799, 841, 847, 301, 667, 873, 614, 987, 826, 861, 726, 535, 777, 137, 845, 904, 712, 690, 480, 643, 881, 268, 700, 247, 298, 634, 461, 916, 925, 563, 53, 456, 16, 81, 884, 688, 828, 579, 741, 498, 330, 772, 13, 350, 846, 364, 43, 159, 440, 735, 42, 7, 236, 293, 400, 184, 755, 973, 534, 729, 937, 852, 857, 201, 475, 112, 895, 198, 244, 919, 304, 523, 871, 547, 918, 129, 717, 367, 565, 842, 935, 780, 964, 142, 627, 968, 263, 527, 944, 47]\n"
     ]
    }
   ],
   "source": [
    "u = AnnoyIndex(f, 'angular')\n",
    "\n",
    "# super fast, will just mmap the file\n",
    "u.load('test.ann')\n",
    "\n",
    "# will find the 1000 nearest neighbors\n",
    "print(u.get_nns_by_item(0, 100)) \n"
   ]
  },
  {
   "cell_type": "markdown",
   "metadata": {},
   "source": [
    "## Note:  Sparse matrices are not supported"
   ]
  },
  {
   "cell_type": "code",
   "execution_count": 6,
   "metadata": {
    "ExecuteTime": {
     "end_time": "2021-02-02T21:14:27.018093Z",
     "start_time": "2021-02-02T21:14:26.970412Z"
    }
   },
   "outputs": [
    {
     "name": "stdout",
     "output_type": "stream",
     "text": [
      "Input <class 'numpy.ndarray'> it is iterable\n",
      "Input <class 'scipy.sparse.csr.csr_matrix'> it is iterable\n",
      "Building annoy index with data type <class 'numpy.ndarray'>\n"
     ]
    }
   ],
   "source": [
    "import scipy\n",
    "from scipy import sparse\n",
    "from collections.abc import Iterable\n",
    "\n",
    "def check_iterable(input_vec):\n",
    "    if isinstance(input_vec, Iterable):\n",
    "        print(f\"Input {type(input_vec)} it is iterable\")\n",
    "\n",
    "X_dense = np.random.rand(100,1000)        \n",
    "X_sp = scipy.sparse.csr_matrix(X_dense)\n",
    "\n",
    "check_iterable(X_dense)\n",
    "check_iterable(X_sp)\n",
    "\n",
    "def build_annoy_index(data, n_trees):\n",
    "    print(f\"Building annoy index with data type {type(data)}\")\n",
    "    n_examples, n_features = data.shape\n",
    "    t = AnnoyIndex(n_features, 'angular')  \n",
    "    \n",
    "    for m,x in enumerate(range(n_examples)):\n",
    "        t.add_item(m, data[m,:])\n",
    "\n",
    "    t.build(n_trees = n_trees) # 10 trees\n",
    "    t.save(f'AIndex_Nexamples={n_examples}=_Ntrees={n_trees}.ann')\n",
    "\n",
    "\n",
    "n_trees = 10\n",
    "build_annoy_index(X_dense[0:20], n_trees)\n",
    "\n",
    "# The following example with X_sp does not work\n",
    "#build_annoy_index(X_sp[0:20], n_trees)"
   ]
  },
  {
   "cell_type": "markdown",
   "metadata": {
    "ExecuteTime": {
     "end_time": "2021-02-02T10:51:56.917125Z",
     "start_time": "2021-02-02T10:51:56.915424Z"
    }
   },
   "source": [
    "## Example with 20newsgroups dataset"
   ]
  },
  {
   "cell_type": "code",
   "execution_count": 77,
   "metadata": {
    "ExecuteTime": {
     "end_time": "2021-02-02T21:23:50.513503Z",
     "start_time": "2021-02-02T21:23:47.904104Z"
    }
   },
   "outputs": [
    {
     "name": "stdout",
     "output_type": "stream",
     "text": [
      "Number of examples: 11314\n",
      "Data shape: (11314, 1000)\n"
     ]
    }
   ],
   "source": [
    "from sklearn.datasets import fetch_20newsgroups\n",
    "from sklearn.feature_extraction.text import CountVectorizer\n",
    "\n",
    "n_features = 1000\n",
    "newsgroups_train = fetch_20newsgroups(subset='train')\n",
    "print(f'Number of examples: {len(newsgroups_train.data)}')\n",
    "\n",
    "\n",
    "document_embedding = CountVectorizer(max_features=n_features)\n",
    "X_tr = document_embedding.fit_transform(newsgroups_train.data)\n",
    "X_tr_dense = X_tr.toarray()\n",
    "print(f'Data shape: {X_tr_dense.shape}')"
   ]
  },
  {
   "cell_type": "markdown",
   "metadata": {},
   "source": [
    "We want to measure the percentage of true K-NN when we do approximate KNN when we change the parameter `n_trees`.\n"
   ]
  },
  {
   "cell_type": "code",
   "execution_count": 114,
   "metadata": {
    "ExecuteTime": {
     "end_time": "2021-02-02T21:29:21.121088Z",
     "start_time": "2021-02-02T21:29:21.117856Z"
    }
   },
   "outputs": [],
   "source": [
    "def build_annoy_index(data, n_trees, metric='euclidean', save=True):\n",
    "    \n",
    "    n_examples, n_features = data.shape    \n",
    "    t = AnnoyIndex(n_features, metric)  \n",
    "    \n",
    "    for m,x in enumerate(range(n_examples)):\n",
    "        t.add_item(m, data[m,:])\n",
    "\n",
    "    t.build(n_trees = n_trees) # 10 trees\n",
    "    if save:\n",
    "        filename = f'AIndex_Nexamples={n_examples}_Nfeatures={n_features}_Ntrees={n_trees}_Metric={metric}.ann'\n",
    "        print(f'Annoy file saved in {filename}')\n",
    "        t.save(filename)\n",
    "    else:\n",
    "        return t"
   ]
  },
  {
   "cell_type": "code",
   "execution_count": 79,
   "metadata": {
    "ExecuteTime": {
     "end_time": "2021-02-02T21:23:53.303042Z",
     "start_time": "2021-02-02T21:23:51.877993Z"
    }
   },
   "outputs": [
    {
     "name": "stdout",
     "output_type": "stream",
     "text": [
      "Annoy file saved in AIndex_Nexamples=11314_Nfeatures=1000_Ntrees=10_Metric=euclidean.ann\n"
     ]
    }
   ],
   "source": [
    "n_trees = 10\n",
    "build_annoy_index(X_tr_dense, n_trees)"
   ]
  },
  {
   "cell_type": "markdown",
   "metadata": {
    "ExecuteTime": {
     "end_time": "2021-02-02T11:41:48.884386Z",
     "start_time": "2021-02-02T11:41:48.882638Z"
    }
   },
   "source": [
    "### Function to test the quality of the Approximate Nearest Neighbors"
   ]
  },
  {
   "cell_type": "markdown",
   "metadata": {},
   "source": [
    "There are two approaches for querying the nearest neighbors of a vector:\n",
    "\n",
    "- `u.get_nns_by_vector(v,K)`: Given a vector `v` and an integer `K` returns the indices of the `K` nn.\n",
    "\n",
    "\n",
    "- `u.get_nns_by_item(v,K)`: Given an index `i` and an integer `K` returns the indices of the `K` nn from the fitted data.\n",
    "\n"
   ]
  },
  {
   "cell_type": "code",
   "execution_count": 85,
   "metadata": {
    "ExecuteTime": {
     "end_time": "2021-02-02T21:24:02.768478Z",
     "start_time": "2021-02-02T21:24:02.766330Z"
    }
   },
   "outputs": [],
   "source": [
    "n_features = 1000\n",
    "K=20"
   ]
  },
  {
   "cell_type": "code",
   "execution_count": 88,
   "metadata": {
    "ExecuteTime": {
     "end_time": "2021-02-02T21:24:09.833916Z",
     "start_time": "2021-02-02T21:24:09.830615Z"
    }
   },
   "outputs": [
    {
     "data": {
      "text/plain": [
       "True"
      ]
     },
     "execution_count": 88,
     "metadata": {},
     "output_type": "execute_result"
    }
   ],
   "source": [
    "annoy_file = 'AIndex_Nexamples=11314_Nfeatures=1000_Ntrees=10_metric=euclidean.ann'\n",
    "u = AnnoyIndex(n_features, 'euclidean')\n",
    "\n",
    "# super fast, will just mmap the file\n",
    "u.load(annoy_file)"
   ]
  },
  {
   "cell_type": "code",
   "execution_count": 89,
   "metadata": {
    "ExecuteTime": {
     "end_time": "2021-02-02T21:24:10.267518Z",
     "start_time": "2021-02-02T21:24:10.262695Z"
    },
    "scrolled": true
   },
   "outputs": [
    {
     "data": {
      "text/plain": [
       "[0, 1224, 1834, 1965, 7494, 564, 3131, 4973, 9480, 9342]"
      ]
     },
     "execution_count": 89,
     "metadata": {},
     "output_type": "execute_result"
    }
   ],
   "source": [
    "u.get_nns_by_vector(X_tr_dense[0],10)"
   ]
  },
  {
   "cell_type": "code",
   "execution_count": 90,
   "metadata": {
    "ExecuteTime": {
     "end_time": "2021-02-02T21:24:10.623859Z",
     "start_time": "2021-02-02T21:24:10.619811Z"
    }
   },
   "outputs": [
    {
     "data": {
      "text/plain": [
       "[0, 1224, 1834, 1965, 7494, 564, 3131, 4973, 9480, 9342]"
      ]
     },
     "execution_count": 90,
     "metadata": {},
     "output_type": "execute_result"
    }
   ],
   "source": [
    "u.get_nns_by_item(0,10)"
   ]
  },
  {
   "cell_type": "code",
   "execution_count": 91,
   "metadata": {
    "ExecuteTime": {
     "end_time": "2021-02-02T21:24:10.946771Z",
     "start_time": "2021-02-02T21:24:10.944421Z"
    }
   },
   "outputs": [],
   "source": [
    "def find_knn(q, X, K, dist):\n",
    "    distances = dist(q, X)\n",
    "    idx_sorted = np.argsort(distances)\n",
    "    return idx_sorted[0:K]"
   ]
  },
  {
   "cell_type": "code",
   "execution_count": 92,
   "metadata": {
    "ExecuteTime": {
     "end_time": "2021-02-02T21:24:11.409759Z",
     "start_time": "2021-02-02T21:24:11.406452Z"
    }
   },
   "outputs": [],
   "source": [
    "def euclidean_dist(q, X):\n",
    "    return np.linalg.norm(q-X,axis=1)\n",
    "\n",
    "def sorted_distances(q, X, d, K):\n",
    "    return np.sort(d(q,X))[0:K]\n",
    "\n",
    "def sorted_indices(q, X, d, K):\n",
    "    return np.argsort(d(q,X))[0:K]"
   ]
  },
  {
   "cell_type": "code",
   "execution_count": 93,
   "metadata": {
    "ExecuteTime": {
     "end_time": "2021-02-02T21:24:11.925284Z",
     "start_time": "2021-02-02T21:24:11.778075Z"
    }
   },
   "outputs": [
    {
     "data": {
      "text/plain": [
       "array([   10,  6536,  1807,  9281, 10235,  2062,  5101, 10801,   360,\n",
       "        1378,  7592,  1893,  2862,  5575,  8881,  4776,    64,  5148,\n",
       "        7654,  1151])"
      ]
     },
     "execution_count": 93,
     "metadata": {},
     "output_type": "execute_result"
    }
   ],
   "source": [
    "m = 10\n",
    "q = X_tr_dense[m,:]\n",
    "find_knn(q,X_tr_dense,K=20,dist=euclidean_dist)"
   ]
  },
  {
   "cell_type": "code",
   "execution_count": 94,
   "metadata": {
    "ExecuteTime": {
     "end_time": "2021-02-02T21:24:12.341152Z",
     "start_time": "2021-02-02T21:24:12.269487Z"
    }
   },
   "outputs": [
    {
     "data": {
      "text/plain": [
       "array([ 0.        , 10.67707825, 10.81665383, 10.86278049, 10.86278049,\n",
       "       10.95445115, 10.95445115, 10.95445115, 10.95445115, 11.        ,\n",
       "       11.        , 11.        , 11.        , 11.04536102, 11.04536102,\n",
       "       11.04536102, 11.09053651, 11.09053651, 11.09053651, 11.09053651])"
      ]
     },
     "execution_count": 94,
     "metadata": {},
     "output_type": "execute_result"
    }
   ],
   "source": [
    "sorted_distances(q, X_tr_dense, euclidean_dist, K)"
   ]
  },
  {
   "cell_type": "markdown",
   "metadata": {},
   "source": [
    "### Evaluating quality of the retrieval of the K NN"
   ]
  },
  {
   "cell_type": "code",
   "execution_count": 95,
   "metadata": {
    "ExecuteTime": {
     "end_time": "2021-02-02T21:24:12.864200Z",
     "start_time": "2021-02-02T21:24:12.862193Z"
    }
   },
   "outputs": [],
   "source": [
    "def jaccard_similarity(s1,s2):\n",
    "    return len(s1.intersection(s2))/len(s1)"
   ]
  },
  {
   "cell_type": "code",
   "execution_count": 96,
   "metadata": {
    "ExecuteTime": {
     "end_time": "2021-02-02T21:24:13.248772Z",
     "start_time": "2021-02-02T21:24:13.245907Z"
    }
   },
   "outputs": [],
   "source": [
    "np.random.seed(1234)\n",
    "n_items = 100\n",
    "items = np.random.randint(0, n_examples, n_items)"
   ]
  },
  {
   "cell_type": "code",
   "execution_count": 97,
   "metadata": {
    "ExecuteTime": {
     "end_time": "2021-02-02T21:24:19.977217Z",
     "start_time": "2021-02-02T21:24:13.592092Z"
    }
   },
   "outputs": [],
   "source": [
    "K = 20\n",
    "jaccard_similarities =  []\n",
    "for m in items:\n",
    "    q = X_tr_dense[m,:]\n",
    "    nn_ids = find_knn(q,X_tr_dense, K, dist=euclidean_dist)\n",
    "    approx_nn_ids = np.array(u.get_nns_by_item(m,K))\n",
    "    jaccard_sim = jaccard_similarity(set(nn_ids.tolist()), set(approx_nn_ids.tolist()))\n",
    "    jaccard_similarities.append( jaccard_sim)"
   ]
  },
  {
   "cell_type": "code",
   "execution_count": 98,
   "metadata": {
    "ExecuteTime": {
     "end_time": "2021-02-02T21:24:20.334549Z",
     "start_time": "2021-02-02T21:24:20.331458Z"
    }
   },
   "outputs": [
    {
     "data": {
      "text/plain": [
       "0.3"
      ]
     },
     "execution_count": 98,
     "metadata": {},
     "output_type": "execute_result"
    }
   ],
   "source": [
    "np.mean(jaccard_similarities)"
   ]
  },
  {
   "cell_type": "markdown",
   "metadata": {},
   "source": [
    "Since the previous loop is too long, we can use a KDTree to speed up our experiments"
   ]
  },
  {
   "cell_type": "code",
   "execution_count": 99,
   "metadata": {
    "ExecuteTime": {
     "end_time": "2021-02-02T21:24:21.808566Z",
     "start_time": "2021-02-02T21:24:20.695327Z"
    }
   },
   "outputs": [],
   "source": [
    "import sklearn\n",
    "from sklearn import neighbors\n",
    "\n",
    "kd_tree =  sklearn.neighbors.KDTree(X_tr_dense, p=2,leaf_size=2)"
   ]
  },
  {
   "cell_type": "code",
   "execution_count": 100,
   "metadata": {
    "ExecuteTime": {
     "end_time": "2021-02-02T21:24:22.204881Z",
     "start_time": "2021-02-02T21:24:22.148274Z"
    }
   },
   "outputs": [],
   "source": [
    "kdtree_distances, kdtree_nnids = kd_tree.query(np.array([q]), 20)"
   ]
  },
  {
   "cell_type": "code",
   "execution_count": 101,
   "metadata": {
    "ExecuteTime": {
     "end_time": "2021-02-02T21:24:22.654165Z",
     "start_time": "2021-02-02T21:24:22.554523Z"
    },
    "scrolled": true
   },
   "outputs": [],
   "source": [
    "nn_distances = sorted_distances(q,X_tr_dense,euclidean_dist,K)"
   ]
  },
  {
   "cell_type": "code",
   "execution_count": 102,
   "metadata": {
    "ExecuteTime": {
     "end_time": "2021-02-02T21:24:22.985624Z",
     "start_time": "2021-02-02T21:24:22.982030Z"
    }
   },
   "outputs": [
    {
     "data": {
      "text/plain": [
       "array([[ True,  True,  True,  True,  True,  True,  True,  True,  True,\n",
       "         True,  True,  True,  True,  True,  True,  True,  True,  True,\n",
       "         True,  True]])"
      ]
     },
     "execution_count": 102,
     "metadata": {},
     "output_type": "execute_result"
    }
   ],
   "source": [
    "nn_distances == kdtree_distances"
   ]
  },
  {
   "cell_type": "markdown",
   "metadata": {},
   "source": [
    "We will also get the same result with the indices"
   ]
  },
  {
   "cell_type": "code",
   "execution_count": 103,
   "metadata": {
    "ExecuteTime": {
     "end_time": "2021-02-02T21:24:23.385616Z",
     "start_time": "2021-02-02T21:24:23.329874Z"
    }
   },
   "outputs": [
    {
     "data": {
      "text/plain": [
       "array([[    0,   958,  1224,  1834,  1965,  7494,  2807,  8382,   564,\n",
       "         5429,  4799, 11226,  3821,  8576,  8679,  4939,  2167,  4937,\n",
       "          318,  4973]])"
      ]
     },
     "execution_count": 103,
     "metadata": {},
     "output_type": "execute_result"
    }
   ],
   "source": [
    "kdtree_nn_ids = kd_tree.query(np.array([q]), K)[1]\n",
    "kdtree_nn_ids"
   ]
  },
  {
   "cell_type": "code",
   "execution_count": 104,
   "metadata": {
    "ExecuteTime": {
     "end_time": "2021-02-02T21:24:23.820532Z",
     "start_time": "2021-02-02T21:24:23.744856Z"
    }
   },
   "outputs": [
    {
     "data": {
      "text/plain": [
       "array([    0,   958,  1224,  1834,  1965,  7494,  2807,  8382,   564,\n",
       "        5429, 11226,  4799,  3821,  8576,  8679,  2167,  4939,  4937,\n",
       "       10199,   318])"
      ]
     },
     "execution_count": 104,
     "metadata": {},
     "output_type": "execute_result"
    }
   ],
   "source": [
    "nn_ids = find_knn(q,X_tr_dense, K=K, dist=euclidean_dist)\n",
    "nn_ids"
   ]
  },
  {
   "cell_type": "code",
   "execution_count": 105,
   "metadata": {
    "ExecuteTime": {
     "end_time": "2021-02-02T21:24:24.173335Z",
     "start_time": "2021-02-02T21:24:24.170323Z"
    }
   },
   "outputs": [
    {
     "data": {
      "text/plain": [
       "array([[ True,  True,  True,  True,  True,  True,  True,  True,  True,\n",
       "         True, False, False,  True,  True,  True, False, False,  True,\n",
       "        False, False]])"
      ]
     },
     "execution_count": 105,
     "metadata": {},
     "output_type": "execute_result"
    }
   ],
   "source": [
    "kdtree_nn_ids == nn_ids"
   ]
  },
  {
   "cell_type": "code",
   "execution_count": 106,
   "metadata": {
    "ExecuteTime": {
     "end_time": "2021-02-02T21:24:24.527786Z",
     "start_time": "2021-02-02T21:24:24.523672Z"
    }
   },
   "outputs": [
    {
     "data": {
      "text/plain": [
       "0.7"
      ]
     },
     "execution_count": 106,
     "metadata": {},
     "output_type": "execute_result"
    }
   ],
   "source": [
    "np.mean(kdtree_nn_ids == nn_ids)"
   ]
  },
  {
   "cell_type": "markdown",
   "metadata": {},
   "source": [
    "Because of the order matters in the previous example (and we don't want this) we can use the jaccard similarity"
   ]
  },
  {
   "cell_type": "code",
   "execution_count": 107,
   "metadata": {
    "ExecuteTime": {
     "end_time": "2021-02-02T21:24:24.864608Z",
     "start_time": "2021-02-02T21:24:24.862092Z"
    }
   },
   "outputs": [],
   "source": [
    "s1 = set(kdtree_nn_ids.tolist()[0])\n",
    "s2 = set(nn_ids.tolist())"
   ]
  },
  {
   "cell_type": "code",
   "execution_count": 108,
   "metadata": {
    "ExecuteTime": {
     "end_time": "2021-02-02T21:24:25.205927Z",
     "start_time": "2021-02-02T21:24:25.202450Z"
    }
   },
   "outputs": [
    {
     "data": {
      "text/plain": [
       "0.95"
      ]
     },
     "execution_count": 108,
     "metadata": {},
     "output_type": "execute_result"
    }
   ],
   "source": [
    "jaccard_similarity(s1,s2)"
   ]
  },
  {
   "cell_type": "markdown",
   "metadata": {},
   "source": [
    "Note that the ids are not the same because if there are several examples within the same distance there both methods select the closest example differently"
   ]
  },
  {
   "cell_type": "code",
   "execution_count": 109,
   "metadata": {
    "ExecuteTime": {
     "end_time": "2021-02-02T21:24:25.534517Z",
     "start_time": "2021-02-02T21:24:25.530425Z"
    }
   },
   "outputs": [
    {
     "data": {
      "text/plain": [
       "(13, 20)"
      ]
     },
     "execution_count": 109,
     "metadata": {},
     "output_type": "execute_result"
    }
   ],
   "source": [
    "len(set(nn_distances)), len(nn_distances)"
   ]
  },
  {
   "cell_type": "markdown",
   "metadata": {},
   "source": [
    "We can repeat the exepriment now with the KDTree"
   ]
  },
  {
   "cell_type": "code",
   "execution_count": 110,
   "metadata": {
    "ExecuteTime": {
     "end_time": "2021-02-02T21:24:30.946874Z",
     "start_time": "2021-02-02T21:24:25.867222Z"
    }
   },
   "outputs": [],
   "source": [
    "K = 20\n",
    "jaccard_similarities =  []\n",
    "for m in items:\n",
    "    q = X_tr_dense[[m],:]\n",
    "    kdtree_nn_ids = kd_tree.query(q, K)[1]\n",
    "    approx_nn_ids = np.array(u.get_nns_by_item(m,K))\n",
    "    jaccard_sim = jaccard_similarity(set(kdtree_nn_ids.tolist()[0]), set(approx_nn_ids.tolist()))\n",
    "    jaccard_similarities.append( jaccard_sim)"
   ]
  },
  {
   "cell_type": "code",
   "execution_count": 111,
   "metadata": {
    "ExecuteTime": {
     "end_time": "2021-02-02T21:24:31.291699Z",
     "start_time": "2021-02-02T21:24:31.286795Z"
    },
    "scrolled": true
   },
   "outputs": [
    {
     "data": {
      "text/plain": [
       "0.3500000000000001"
      ]
     },
     "execution_count": 111,
     "metadata": {},
     "output_type": "execute_result"
    }
   ],
   "source": [
    "np.mean(jaccard_similarities)"
   ]
  },
  {
   "cell_type": "markdown",
   "metadata": {},
   "source": [
    "### Evaluating performance"
   ]
  },
  {
   "cell_type": "code",
   "execution_count": 155,
   "metadata": {
    "ExecuteTime": {
     "end_time": "2021-02-02T21:41:07.205743Z",
     "start_time": "2021-02-02T21:41:07.202549Z"
    }
   },
   "outputs": [],
   "source": [
    "n_examples, n_features = X_tr_dense.shape\n",
    "np.random.seed(1234)\n",
    "n_items = 100\n",
    "items = np.random.randint(0, n_examples, n_items)\n",
    "n_trees_list = [5,10,20,30,50,100,150,300,500,1000]\n",
    "K = 20"
   ]
  },
  {
   "cell_type": "code",
   "execution_count": 147,
   "metadata": {
    "ExecuteTime": {
     "end_time": "2021-02-02T21:37:54.028365Z",
     "start_time": "2021-02-02T21:37:54.025213Z"
    }
   },
   "outputs": [
    {
     "data": {
      "text/plain": [
       "(11314, 1000, 20)"
      ]
     },
     "execution_count": 147,
     "metadata": {},
     "output_type": "execute_result"
    }
   ],
   "source": [
    "n_examples, n_features, K"
   ]
  },
  {
   "cell_type": "code",
   "execution_count": 205,
   "metadata": {
    "ExecuteTime": {
     "end_time": "2021-02-02T21:54:00.781569Z",
     "start_time": "2021-02-02T21:50:50.494548Z"
    }
   },
   "outputs": [
    {
     "name": "stdout",
     "output_type": "stream",
     "text": [
      "Computing with K=20, n_trees=5, n_examples=11314, n_features=1000\n",
      "147 µs ± 6.18 µs per loop (mean ± std. dev. of 7 runs, 10000 loops each)\n",
      "Computing with K=20, n_trees=10, n_examples=11314, n_features=1000\n",
      "202 µs ± 8.33 µs per loop (mean ± std. dev. of 7 runs, 10000 loops each)\n",
      "Computing with K=20, n_trees=20, n_examples=11314, n_features=1000\n",
      "192 µs ± 9.76 µs per loop (mean ± std. dev. of 7 runs, 10000 loops each)\n",
      "Computing with K=20, n_trees=30, n_examples=11314, n_features=1000\n",
      "129 µs ± 2.46 µs per loop (mean ± std. dev. of 7 runs, 10000 loops each)\n",
      "Computing with K=20, n_trees=50, n_examples=11314, n_features=1000\n",
      "400 µs ± 43.2 µs per loop (mean ± std. dev. of 7 runs, 1000 loops each)\n",
      "Computing with K=20, n_trees=100, n_examples=11314, n_features=1000\n",
      "595 µs ± 27 µs per loop (mean ± std. dev. of 7 runs, 1000 loops each)\n",
      "Computing with K=20, n_trees=150, n_examples=11314, n_features=1000\n",
      "846 µs ± 49.2 µs per loop (mean ± std. dev. of 7 runs, 1000 loops each)\n",
      "Computing with K=20, n_trees=300, n_examples=11314, n_features=1000\n",
      "1.32 ms ± 53.2 µs per loop (mean ± std. dev. of 7 runs, 1000 loops each)\n",
      "Computing with K=20, n_trees=500, n_examples=11314, n_features=1000\n",
      "1.82 ms ± 48.1 µs per loop (mean ± std. dev. of 7 runs, 1000 loops each)\n",
      "Computing with K=20, n_trees=1000, n_examples=11314, n_features=1000\n",
      "3.25 ms ± 129 µs per loop (mean ± std. dev. of 7 runs, 100 loops each)\n"
     ]
    }
   ],
   "source": [
    "jaccard_similarities = {}\n",
    "query_times = {}\n",
    "\n",
    "for n_trees in n_trees_list:\n",
    "    print(f\"Computing with K={K}, n_trees={n_trees}, n_examples={n_examples}, n_features={n_features}\")\n",
    "    annoy_knn = build_annoy_index(X_tr_dense, n_trees, metric='euclidean', save=False)\n",
    "    jaccard_sims = []\n",
    "    \n",
    "    # time the approximate nearest neighbors retrieval \n",
    "    q_time = %timeit -o annoy_knn.get_nns_by_item(items[0],K)\n",
    "    query_times[n_trees] = q_time.average\n",
    "    \n",
    "    for m in items:\n",
    "        q = X_tr_dense[m,:]\n",
    "        nn_ids = find_knn(q, X_tr_dense, K, dist=euclidean_dist)\n",
    "        approx_nn_ids = np.array(annoy_knn.get_nns_by_item(m,K))\n",
    "        jaccard_sim = jaccard_similarity(set(nn_ids.tolist()), set(approx_nn_ids.tolist()))\n",
    "        jaccard_sims.append(jaccard_sim)\n",
    "\n",
    "    jaccard_similarities[n_trees] = np.mean(jaccard_sims)"
   ]
  },
  {
   "cell_type": "code",
   "execution_count": 215,
   "metadata": {
    "ExecuteTime": {
     "end_time": "2021-02-02T21:55:03.605900Z",
     "start_time": "2021-02-02T21:55:03.602868Z"
    }
   },
   "outputs": [],
   "source": [
    "import pandas as pd\n",
    "df_results = pd.DataFrame([query_times,jaccard_similarities]).T"
   ]
  },
  {
   "cell_type": "code",
   "execution_count": 256,
   "metadata": {
    "ExecuteTime": {
     "end_time": "2021-02-02T22:04:14.879077Z",
     "start_time": "2021-02-02T22:04:14.871788Z"
    }
   },
   "outputs": [
    {
     "data": {
      "text/html": [
       "<div>\n",
       "<style scoped>\n",
       "    .dataframe tbody tr th:only-of-type {\n",
       "        vertical-align: middle;\n",
       "    }\n",
       "\n",
       "    .dataframe tbody tr th {\n",
       "        vertical-align: top;\n",
       "    }\n",
       "\n",
       "    .dataframe thead th {\n",
       "        text-align: right;\n",
       "    }\n",
       "</style>\n",
       "<table border=\"1\" class=\"dataframe\">\n",
       "  <thead>\n",
       "    <tr style=\"text-align: right;\">\n",
       "      <th></th>\n",
       "      <th>query_time_K</th>\n",
       "      <th>jaccard_similarity_top_K</th>\n",
       "    </tr>\n",
       "    <tr>\n",
       "      <th>n_trees</th>\n",
       "      <th></th>\n",
       "      <th></th>\n",
       "    </tr>\n",
       "  </thead>\n",
       "  <tbody>\n",
       "    <tr>\n",
       "      <th>5</th>\n",
       "      <td>0.000147</td>\n",
       "      <td>0.4255</td>\n",
       "    </tr>\n",
       "    <tr>\n",
       "      <th>10</th>\n",
       "      <td>0.000202</td>\n",
       "      <td>0.4250</td>\n",
       "    </tr>\n",
       "    <tr>\n",
       "      <th>20</th>\n",
       "      <td>0.000192</td>\n",
       "      <td>0.4600</td>\n",
       "    </tr>\n",
       "    <tr>\n",
       "      <th>30</th>\n",
       "      <td>0.000129</td>\n",
       "      <td>0.4700</td>\n",
       "    </tr>\n",
       "    <tr>\n",
       "      <th>50</th>\n",
       "      <td>0.000400</td>\n",
       "      <td>0.5685</td>\n",
       "    </tr>\n",
       "    <tr>\n",
       "      <th>100</th>\n",
       "      <td>0.000595</td>\n",
       "      <td>0.6475</td>\n",
       "    </tr>\n",
       "    <tr>\n",
       "      <th>150</th>\n",
       "      <td>0.000846</td>\n",
       "      <td>0.6795</td>\n",
       "    </tr>\n",
       "    <tr>\n",
       "      <th>300</th>\n",
       "      <td>0.001321</td>\n",
       "      <td>0.7465</td>\n",
       "    </tr>\n",
       "    <tr>\n",
       "      <th>500</th>\n",
       "      <td>0.001820</td>\n",
       "      <td>0.7910</td>\n",
       "    </tr>\n",
       "    <tr>\n",
       "      <th>1000</th>\n",
       "      <td>0.003246</td>\n",
       "      <td>0.8320</td>\n",
       "    </tr>\n",
       "  </tbody>\n",
       "</table>\n",
       "</div>"
      ],
      "text/plain": [
       "         query_time_K  jaccard_similarity_top_K\n",
       "n_trees                                        \n",
       "5            0.000147                    0.4255\n",
       "10           0.000202                    0.4250\n",
       "20           0.000192                    0.4600\n",
       "30           0.000129                    0.4700\n",
       "50           0.000400                    0.5685\n",
       "100          0.000595                    0.6475\n",
       "150          0.000846                    0.6795\n",
       "300          0.001321                    0.7465\n",
       "500          0.001820                    0.7910\n",
       "1000         0.003246                    0.8320"
      ]
     },
     "execution_count": 256,
     "metadata": {},
     "output_type": "execute_result"
    }
   ],
   "source": [
    "df_results.columns = [\"query_time_K\", \"jaccard_similarity_top_K\"]\n",
    "df_results.index.name = ('n_trees')\n",
    "df_results"
   ]
  },
  {
   "cell_type": "code",
   "execution_count": 258,
   "metadata": {
    "ExecuteTime": {
     "end_time": "2021-02-02T22:04:21.447728Z",
     "start_time": "2021-02-02T22:04:21.343083Z"
    }
   },
   "outputs": [
    {
     "data": {
      "text/plain": [
       "<AxesSubplot:title={'center':'query time (ms)'}, xlabel='Number trees'>"
      ]
     },
     "execution_count": 258,
     "metadata": {},
     "output_type": "execute_result"
    },
    {
     "data": {
      "image/png": "[encoded data removed]",
      "text/plain": [
       "<Figure size 432x288 with 1 Axes>"
      ]
     },
     "metadata": {
      "needs_background": "light"
     },
     "output_type": "display_data"
    }
   ],
   "source": [
    "df_results[\"query_time_K\"].plot(title=\"query time (ms)\",xlabel=\"Number trees\")"
   ]
  },
  {
   "cell_type": "code",
   "execution_count": 259,
   "metadata": {
    "ExecuteTime": {
     "end_time": "2021-02-02T22:04:21.863613Z",
     "start_time": "2021-02-02T22:04:21.752132Z"
    },
    "scrolled": false
   },
   "outputs": [
    {
     "data": {
      "text/plain": [
       "<AxesSubplot:title={'center':'Jaccard agreement top K'}, xlabel='Number trees'>"
      ]
     },
     "execution_count": 259,
     "metadata": {},
     "output_type": "execute_result"
    },
    {
     "data": {
      "image/png": "[encoded data removed]",
      "text/plain": [
       "<Figure size 432x288 with 1 Axes>"
      ]
     },
     "metadata": {
      "needs_background": "light"
     },
     "output_type": "display_data"
    }
   ],
   "source": [
    "df_results[\"jaccard_similarity_top_K\"].plot(title=\"Jaccard agreement top K\",xlabel=\"Number trees\")"
   ]
  },
  {
   "cell_type": "code",
   "execution_count": null,
   "metadata": {},
   "outputs": [],
   "source": []
  },
  {
   "cell_type": "code",
   "execution_count": null,
   "metadata": {},
   "outputs": [],
   "source": []
  },
  {
   "cell_type": "code",
   "execution_count": null,
   "metadata": {},
   "outputs": [],
   "source": []
  },
  {
   "cell_type": "code",
   "execution_count": null,
   "metadata": {},
   "outputs": [],
   "source": []
  }
 ],
 "metadata": {
  "kernelspec": {
   "display_name": "Python 3",
   "language": "python",
   "name": "python3"
  },
  "language_info": {
   "codemirror_mode": {
    "name": "ipython",
    "version": 3
   },
   "file_extension": ".py",
   "mimetype": "text/x-python",
   "name": "python",
   "nbconvert_exporter": "python",
   "pygments_lexer": "ipython3",
   "version": "3.7.6"
  },
  "toc": {
   "base_numbering": 1,
   "nav_menu": {},
   "number_sections": true,
   "sideBar": true,
   "skip_h1_title": false,
   "title_cell": "Table of Contents",
   "title_sidebar": "Contents",
   "toc_cell": true,
   "toc_position": {},
   "toc_section_display": true,
   "toc_window_display": true
  },
  "varInspector": {
   "cols": {
    "lenName": 16,
    "lenType": 16,
    "lenVar": 40
   },
   "kernels_config": {
    "python": {
     "delete_cmd_postfix": "",
     "delete_cmd_prefix": "del ",
     "library": "var_list.py",
     "varRefreshCmd": "print(var_dic_list())"
    },
    "r": {
     "delete_cmd_postfix": ") ",
     "delete_cmd_prefix": "rm(",
     "library": "var_list.r",
     "varRefreshCmd": "cat(var_dic_list()) "
    }
   },
   "types_to_exclude": [
    "module",
    "function",
    "builtin_function_or_method",
    "instance",
    "_Feature"
   ],
   "window_display": false
  }
 },
 "nbformat": 4,
 "nbformat_minor": 4
}

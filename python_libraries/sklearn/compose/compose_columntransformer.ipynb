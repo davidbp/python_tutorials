{
 "cells": [
  {
   "cell_type": "markdown",
   "metadata": {},
   "source": [
    "\n",
    "# Column transformers: `sklearn.compose.ColumnTransformer`\n",
    "\n",
    "The ColumnTransformer helps performing different transformations for different columns of the data, within a `Pipeline` that is safe from data leakage and that can be parametrized. \n",
    "\n",
    "- `ColumnTransformer` works on **arrays**, **sparse matrices**, and **pandas DataFrames**.\n",
    "\n"
   ]
  },
  {
   "cell_type": "code",
   "execution_count": 8,
   "metadata": {
    "ExecuteTime": {
     "end_time": "2020-01-10T09:31:11.752869Z",
     "start_time": "2020-01-10T09:31:11.748843Z"
    }
   },
   "outputs": [],
   "source": [
    "import pandas as pd\n",
    "import numpy as np\n",
    "import sklearn"
   ]
  },
  {
   "cell_type": "code",
   "execution_count": 9,
   "metadata": {
    "ExecuteTime": {
     "end_time": "2020-01-10T09:31:12.592271Z",
     "start_time": "2020-01-10T09:31:12.582750Z"
    }
   },
   "outputs": [],
   "source": [
    "df = pd.DataFrame(\n",
    "    {'city': ['London', 'London', 'Paris', 'Sallisaw'],\n",
    "     'title': [\"His Last Bow\", \"How Watson Learned the Trick\",\n",
    "               \"A Moveable Feast\", \"The Grapes of Wrath\"],\n",
    "     'expert_rating': [5, 3, 4, 5],\n",
    "     'user_rating': [4, 5, 4, 3]})"
   ]
  },
  {
   "cell_type": "code",
   "execution_count": 21,
   "metadata": {
    "ExecuteTime": {
     "end_time": "2020-01-10T09:37:01.136564Z",
     "start_time": "2020-01-10T09:37:01.103737Z"
    },
    "scrolled": true
   },
   "outputs": [
    {
     "data": {
      "text/html": [
       "<div>\n",
       "<style scoped>\n",
       "    .dataframe tbody tr th:only-of-type {\n",
       "        vertical-align: middle;\n",
       "    }\n",
       "\n",
       "    .dataframe tbody tr th {\n",
       "        vertical-align: top;\n",
       "    }\n",
       "\n",
       "    .dataframe thead th {\n",
       "        text-align: right;\n",
       "    }\n",
       "</style>\n",
       "<table border=\"1\" class=\"dataframe\">\n",
       "  <thead>\n",
       "    <tr style=\"text-align: right;\">\n",
       "      <th></th>\n",
       "      <th>city</th>\n",
       "      <th>title</th>\n",
       "      <th>expert_rating</th>\n",
       "      <th>user_rating</th>\n",
       "    </tr>\n",
       "  </thead>\n",
       "  <tbody>\n",
       "    <tr>\n",
       "      <th>0</th>\n",
       "      <td>London</td>\n",
       "      <td>His Last Bow</td>\n",
       "      <td>5</td>\n",
       "      <td>4</td>\n",
       "    </tr>\n",
       "    <tr>\n",
       "      <th>1</th>\n",
       "      <td>London</td>\n",
       "      <td>How Watson Learned the Trick</td>\n",
       "      <td>3</td>\n",
       "      <td>5</td>\n",
       "    </tr>\n",
       "    <tr>\n",
       "      <th>2</th>\n",
       "      <td>Paris</td>\n",
       "      <td>A Moveable Feast</td>\n",
       "      <td>4</td>\n",
       "      <td>4</td>\n",
       "    </tr>\n",
       "    <tr>\n",
       "      <th>3</th>\n",
       "      <td>Sallisaw</td>\n",
       "      <td>The Grapes of Wrath</td>\n",
       "      <td>5</td>\n",
       "      <td>3</td>\n",
       "    </tr>\n",
       "  </tbody>\n",
       "</table>\n",
       "</div>"
      ],
      "text/plain": [
       "       city                         title  expert_rating  user_rating\n",
       "0    London                  His Last Bow              5            4\n",
       "1    London  How Watson Learned the Trick              3            5\n",
       "2     Paris              A Moveable Feast              4            4\n",
       "3  Sallisaw           The Grapes of Wrath              5            3"
      ]
     },
     "execution_count": 21,
     "metadata": {},
     "output_type": "execute_result"
    }
   ],
   "source": [
    "df"
   ]
  },
  {
   "cell_type": "markdown",
   "metadata": {},
   "source": [
    "Here we have a dataframe where `city` column can be treated as a categorical variable.\n",
    "\n",
    "The column `title` is reasonable to be treated in a bag of words vector.\n",
    "\n",
    "The `sklearn.compose.ColumnTransformer` can be used to process differently different columns of a dataframe and join the information into a single output Array."
   ]
  },
  {
   "cell_type": "code",
   "execution_count": 53,
   "metadata": {
    "ExecuteTime": {
     "end_time": "2020-01-10T09:50:17.659746Z",
     "start_time": "2020-01-10T09:50:17.652864Z"
    }
   },
   "outputs": [],
   "source": [
    "from sklearn.compose import ColumnTransformer\n",
    "from sklearn.feature_extraction.text import CountVectorizer\n",
    "from sklearn.preprocessing import OneHotEncoder\n",
    "\n",
    "column_trans = ColumnTransformer(\n",
    "    [('city_category', OneHotEncoder(dtype='int'),['city']),\n",
    "     ('title_bow', CountVectorizer(), 'title')],\n",
    "    remainder='drop',\n",
    "    sparse_threshold=0.3)"
   ]
  },
  {
   "cell_type": "code",
   "execution_count": 54,
   "metadata": {
    "ExecuteTime": {
     "end_time": "2020-01-10T09:50:18.561363Z",
     "start_time": "2020-01-10T09:50:18.551265Z"
    }
   },
   "outputs": [
    {
     "data": {
      "text/plain": [
       "[('city_category',\n",
       "  OneHotEncoder(categorical_features=None, categories=None, drop=None,\n",
       "                dtype='int', handle_unknown='error', n_values=None, sparse=True),\n",
       "  ['city']),\n",
       " ('title_bow',\n",
       "  CountVectorizer(analyzer='word', binary=False, decode_error='strict',\n",
       "                  dtype=<class 'numpy.int64'>, encoding='utf-8', input='content',\n",
       "                  lowercase=True, max_df=1.0, max_features=None, min_df=1,\n",
       "                  ngram_range=(1, 1), preprocessor=None, stop_words=None,\n",
       "                  strip_accents=None, token_pattern='(?u)\\\\b\\\\w\\\\w+\\\\b',\n",
       "                  tokenizer=None, vocabulary=None),\n",
       "  'title')]"
      ]
     },
     "execution_count": 54,
     "metadata": {},
     "output_type": "execute_result"
    }
   ],
   "source": [
    "column_trans.transformers"
   ]
  },
  {
   "cell_type": "markdown",
   "metadata": {},
   "source": [
    "The `column_transformer` defined above has two parts. \n",
    "\n",
    "- `city_category` is a  `OneHotEncoder` object that takes the column `city` and performs the one hot encoding.\n",
    "\n",
    "\n",
    "- `title_bow` is a  `CountVectorizer` object that takes the column `title` and performs a \"bag of words\" (bog) vector.\n",
    "\n",
    "The previous transformations are performed once a `column_trans.transform` is called.\n",
    "\n"
   ]
  },
  {
   "cell_type": "code",
   "execution_count": 55,
   "metadata": {
    "ExecuteTime": {
     "end_time": "2020-01-10T09:50:19.918454Z",
     "start_time": "2020-01-10T09:50:19.888801Z"
    }
   },
   "outputs": [
    {
     "data": {
      "text/plain": [
       "ColumnTransformer(n_jobs=None, remainder='drop', sparse_threshold=0.3,\n",
       "                  transformer_weights=None,\n",
       "                  transformers=[('city_category',\n",
       "                                 OneHotEncoder(categorical_features=None,\n",
       "                                               categories=None, drop=None,\n",
       "                                               dtype='int',\n",
       "                                               handle_unknown='error',\n",
       "                                               n_values=None, sparse=True),\n",
       "                                 ['city']),\n",
       "                                ('title_bow',\n",
       "                                 CountVectorizer(analyzer='word', binary=False,\n",
       "                                                 decode_error='strict',\n",
       "                                                 dtype=<class 'numpy.int64'>,\n",
       "                                                 encoding='utf-8',\n",
       "                                                 input='content',\n",
       "                                                 lowercase=True, max_df=1.0,\n",
       "                                                 max_features=None, min_df=1,\n",
       "                                                 ngram_range=(1, 1),\n",
       "                                                 preprocessor=None,\n",
       "                                                 stop_words=None,\n",
       "                                                 strip_accents=None,\n",
       "                                                 token_pattern='(?u)\\\\b\\\\w\\\\w+\\\\b',\n",
       "                                                 tokenizer=None,\n",
       "                                                 vocabulary=None),\n",
       "                                 'title')],\n",
       "                  verbose=False)"
      ]
     },
     "execution_count": 55,
     "metadata": {},
     "output_type": "execute_result"
    }
   ],
   "source": [
    "column_trans.fit(df)"
   ]
  },
  {
   "cell_type": "markdown",
   "metadata": {},
   "source": [
    "Notice that the output of the transform is a dense matrix:"
   ]
  },
  {
   "cell_type": "code",
   "execution_count": 56,
   "metadata": {
    "ExecuteTime": {
     "end_time": "2020-01-10T09:50:21.371104Z",
     "start_time": "2020-01-10T09:50:21.352152Z"
    }
   },
   "outputs": [
    {
     "data": {
      "text/plain": [
       "<4x16 sparse matrix of type '<class 'numpy.int64'>'\n",
       "\twith 18 stored elements in Compressed Sparse Row format>"
      ]
     },
     "execution_count": 56,
     "metadata": {},
     "output_type": "execute_result"
    }
   ],
   "source": [
    "X = column_trans.transform(df)\n",
    "X"
   ]
  },
  {
   "cell_type": "markdown",
   "metadata": {},
   "source": [
    "This happens because, by default, `column_trans` has a field named `sparse_threshold` set to `0.3`.\n",
    "\n",
    "```\n",
    "sparse_threshold : float, default = 0.3\n",
    " |      If the output of the different transformers contains sparse matrices,\n",
    " |      these will be stacked as a sparse matrix if the overall density is\n",
    " |      lower than this value. Use ``sparse_threshold=0`` to always return\n",
    " |      dense.  When the transformed output consists of all dense data, the\n",
    " |      stacked result will be dense, and this keyword will be ignored\n",
    " ```"
   ]
  },
  {
   "cell_type": "code",
   "execution_count": 58,
   "metadata": {
    "ExecuteTime": {
     "end_time": "2020-01-10T09:50:26.628442Z",
     "start_time": "2020-01-10T09:50:26.620234Z"
    }
   },
   "outputs": [
    {
     "data": {
      "text/plain": [
       "(0.3, True)"
      ]
     },
     "execution_count": 58,
     "metadata": {},
     "output_type": "execute_result"
    }
   ],
   "source": [
    "column_trans.sparse_threshold, column_trans.sparse_output_"
   ]
  },
  {
   "cell_type": "markdown",
   "metadata": {
    "ExecuteTime": {
     "end_time": "2020-01-10T09:52:50.943024Z",
     "start_time": "2020-01-10T09:52:50.936198Z"
    }
   },
   "source": [
    "The transformers can be accessed with `.named_transformers_`"
   ]
  },
  {
   "cell_type": "code",
   "execution_count": 66,
   "metadata": {
    "ExecuteTime": {
     "end_time": "2020-01-10T09:52:52.441052Z",
     "start_time": "2020-01-10T09:52:52.430255Z"
    },
    "scrolled": true
   },
   "outputs": [
    {
     "data": {
      "text/plain": [
       "{'city_category': OneHotEncoder(categorical_features=None, categories=None, drop=None,\n",
       "               dtype='int', handle_unknown='error', n_values=None, sparse=True),\n",
       " 'title_bow': CountVectorizer(analyzer='word', binary=False, decode_error='strict',\n",
       "                 dtype=<class 'numpy.int64'>, encoding='utf-8', input='content',\n",
       "                 lowercase=True, max_df=1.0, max_features=None, min_df=1,\n",
       "                 ngram_range=(1, 1), preprocessor=None, stop_words=None,\n",
       "                 strip_accents=None, token_pattern='(?u)\\\\b\\\\w\\\\w+\\\\b',\n",
       "                 tokenizer=None, vocabulary=None),\n",
       " 'remainder': 'drop'}"
      ]
     },
     "execution_count": 66,
     "metadata": {},
     "output_type": "execute_result"
    }
   ],
   "source": [
    "column_trans.named_transformers_"
   ]
  },
  {
   "cell_type": "markdown",
   "metadata": {},
   "source": [
    "The names of the features (created by by the transformers) can be accessed with `.feature_names()`"
   ]
  },
  {
   "cell_type": "code",
   "execution_count": 69,
   "metadata": {
    "ExecuteTime": {
     "end_time": "2020-01-10T10:01:46.889264Z",
     "start_time": "2020-01-10T10:01:46.861139Z"
    }
   },
   "outputs": [
    {
     "data": {
      "text/plain": [
       "['city_category__x0_London',\n",
       " 'city_category__x0_Paris',\n",
       " 'city_category__x0_Sallisaw',\n",
       " 'title_bow__bow',\n",
       " 'title_bow__feast',\n",
       " 'title_bow__grapes',\n",
       " 'title_bow__his',\n",
       " 'title_bow__how',\n",
       " 'title_bow__last',\n",
       " 'title_bow__learned',\n",
       " 'title_bow__moveable',\n",
       " 'title_bow__of',\n",
       " 'title_bow__the',\n",
       " 'title_bow__trick',\n",
       " 'title_bow__watson',\n",
       " 'title_bow__wrath']"
      ]
     },
     "execution_count": 69,
     "metadata": {},
     "output_type": "execute_result"
    }
   ],
   "source": [
    "column_trans.get_feature_names()"
   ]
  },
  {
   "cell_type": "code",
   "execution_count": 70,
   "metadata": {
    "ExecuteTime": {
     "end_time": "2020-01-10T10:01:47.371517Z",
     "start_time": "2020-01-10T10:01:47.335345Z"
    }
   },
   "outputs": [
    {
     "data": {
      "text/html": [
       "<div>\n",
       "<style scoped>\n",
       "    .dataframe tbody tr th:only-of-type {\n",
       "        vertical-align: middle;\n",
       "    }\n",
       "\n",
       "    .dataframe tbody tr th {\n",
       "        vertical-align: top;\n",
       "    }\n",
       "\n",
       "    .dataframe thead th {\n",
       "        text-align: right;\n",
       "    }\n",
       "</style>\n",
       "<table border=\"1\" class=\"dataframe\">\n",
       "  <thead>\n",
       "    <tr style=\"text-align: right;\">\n",
       "      <th></th>\n",
       "      <th>city</th>\n",
       "      <th>title</th>\n",
       "      <th>expert_rating</th>\n",
       "      <th>user_rating</th>\n",
       "    </tr>\n",
       "  </thead>\n",
       "  <tbody>\n",
       "    <tr>\n",
       "      <th>0</th>\n",
       "      <td>London</td>\n",
       "      <td>His Last Bow</td>\n",
       "      <td>5</td>\n",
       "      <td>4</td>\n",
       "    </tr>\n",
       "    <tr>\n",
       "      <th>1</th>\n",
       "      <td>London</td>\n",
       "      <td>How Watson Learned the Trick</td>\n",
       "      <td>3</td>\n",
       "      <td>5</td>\n",
       "    </tr>\n",
       "    <tr>\n",
       "      <th>2</th>\n",
       "      <td>Paris</td>\n",
       "      <td>A Moveable Feast</td>\n",
       "      <td>4</td>\n",
       "      <td>4</td>\n",
       "    </tr>\n",
       "    <tr>\n",
       "      <th>3</th>\n",
       "      <td>Sallisaw</td>\n",
       "      <td>The Grapes of Wrath</td>\n",
       "      <td>5</td>\n",
       "      <td>3</td>\n",
       "    </tr>\n",
       "  </tbody>\n",
       "</table>\n",
       "</div>"
      ],
      "text/plain": [
       "       city                         title  expert_rating  user_rating\n",
       "0    London                  His Last Bow              5            4\n",
       "1    London  How Watson Learned the Trick              3            5\n",
       "2     Paris              A Moveable Feast              4            4\n",
       "3  Sallisaw           The Grapes of Wrath              5            3"
      ]
     },
     "execution_count": 70,
     "metadata": {},
     "output_type": "execute_result"
    }
   ],
   "source": [
    "df"
   ]
  },
  {
   "cell_type": "markdown",
   "metadata": {},
   "source": [
    "## The `remainder` argument\n",
    "\n",
    "Notice that all features start with `city_` or `title_` because the `column_transformers_` but the original dataframe had as columns:\n",
    "\n",
    "```\n",
    "    'city', 'title', 'expert_rating', 'user_rating'\n",
    "```\n",
    "\n",
    "this happens because we set up `remainder='drop'`, if we change it\n",
    "\n",
    "```\n",
    " |  remainder : {'drop', 'passthrough'} or estimator, default 'drop'\n",
    " |      By default, only the specified columns in `transformers` are\n",
    " |      transformed and combined in the output, and the non-specified\n",
    " |      columns are dropped. (default of ``'drop'``).\n",
    " |      By specifying ``remainder='passthrough'``, all remaining columns that\n",
    " |      were not specified in `transformers` will be automatically passed\n",
    " |      through. This subset of columns is concatenated with the output of\n",
    " |      the transformers.\n",
    " |      By setting ``remainder`` to be an estimator, the remaining\n",
    " |      non-specified columns will use the ``remainder`` estimator. The\n",
    " |      estimator must support :term:`fit` and :term:`transform`.\n",
    " |      Note that using this feature requires that the DataFrame columns\n",
    " |      input at :term:`fit` and :term:`transform` have identical order.\n",
    " ```"
   ]
  },
  {
   "cell_type": "code",
   "execution_count": 96,
   "metadata": {
    "ExecuteTime": {
     "end_time": "2020-01-10T10:07:33.358803Z",
     "start_time": "2020-01-10T10:07:33.343220Z"
    }
   },
   "outputs": [],
   "source": [
    "column_trans = ColumnTransformer(\n",
    "    [('city_category', OneHotEncoder(dtype='int'),['city']),\n",
    "     ('title_bow', CountVectorizer(), 'title')],\n",
    "    remainder='passthrough',\n",
    "    sparse_threshold=0.2)\n",
    "\n",
    "# features 'city' and 'title' are transformed, the others are just copied\n",
    "column_trans.fit(df);"
   ]
  },
  {
   "cell_type": "code",
   "execution_count": 103,
   "metadata": {
    "ExecuteTime": {
     "end_time": "2020-01-10T10:08:09.616566Z",
     "start_time": "2020-01-10T10:08:09.602421Z"
    }
   },
   "outputs": [
    {
     "data": {
      "text/plain": [
       "array([[1, 0, 0, 1, 0, 0, 1, 0, 1, 0, 0, 0, 0, 0, 0, 0, 5, 4],\n",
       "       [1, 0, 0, 0, 0, 0, 0, 1, 0, 1, 0, 0, 1, 1, 1, 0, 3, 5],\n",
       "       [0, 1, 0, 0, 1, 0, 0, 0, 0, 0, 1, 0, 0, 0, 0, 0, 4, 4],\n",
       "       [0, 0, 1, 0, 0, 1, 0, 0, 0, 0, 0, 1, 1, 0, 0, 1, 5, 3]])"
      ]
     },
     "execution_count": 103,
     "metadata": {},
     "output_type": "execute_result"
    }
   ],
   "source": [
    "column_trans.transform(df)"
   ]
  },
  {
   "cell_type": "markdown",
   "metadata": {},
   "source": [
    "Notice the last two columns correspond to the values of `expert_rating` and `user_rating` columns.\n",
    "\n",
    "Now we `column_trans.transform(df)` has two more columns than when it was fitted with `remainder=drop`."
   ]
  },
  {
   "cell_type": "code",
   "execution_count": 106,
   "metadata": {
    "ExecuteTime": {
     "end_time": "2020-01-10T10:30:41.984089Z",
     "start_time": "2020-01-10T10:30:41.933186Z"
    }
   },
   "outputs": [
    {
     "data": {
      "text/html": [
       "<div>\n",
       "<style scoped>\n",
       "    .dataframe tbody tr th:only-of-type {\n",
       "        vertical-align: middle;\n",
       "    }\n",
       "\n",
       "    .dataframe tbody tr th {\n",
       "        vertical-align: top;\n",
       "    }\n",
       "\n",
       "    .dataframe thead th {\n",
       "        text-align: right;\n",
       "    }\n",
       "</style>\n",
       "<table border=\"1\" class=\"dataframe\">\n",
       "  <thead>\n",
       "    <tr style=\"text-align: right;\">\n",
       "      <th></th>\n",
       "      <th>expert_rating</th>\n",
       "      <th>user_rating</th>\n",
       "    </tr>\n",
       "  </thead>\n",
       "  <tbody>\n",
       "    <tr>\n",
       "      <th>0</th>\n",
       "      <td>5</td>\n",
       "      <td>4</td>\n",
       "    </tr>\n",
       "    <tr>\n",
       "      <th>1</th>\n",
       "      <td>3</td>\n",
       "      <td>5</td>\n",
       "    </tr>\n",
       "    <tr>\n",
       "      <th>2</th>\n",
       "      <td>4</td>\n",
       "      <td>4</td>\n",
       "    </tr>\n",
       "    <tr>\n",
       "      <th>3</th>\n",
       "      <td>5</td>\n",
       "      <td>3</td>\n",
       "    </tr>\n",
       "  </tbody>\n",
       "</table>\n",
       "</div>"
      ],
      "text/plain": [
       "   expert_rating  user_rating\n",
       "0              5            4\n",
       "1              3            5\n",
       "2              4            4\n",
       "3              5            3"
      ]
     },
     "execution_count": 106,
     "metadata": {},
     "output_type": "execute_result"
    }
   ],
   "source": [
    "df[['expert_rating','user_rating']]"
   ]
  },
  {
   "cell_type": "code",
   "execution_count": null,
   "metadata": {},
   "outputs": [],
   "source": []
  },
  {
   "cell_type": "code",
   "execution_count": 110,
   "metadata": {
    "ExecuteTime": {
     "end_time": "2020-01-10T10:35:04.424060Z",
     "start_time": "2020-01-10T10:35:04.418905Z"
    }
   },
   "outputs": [],
   "source": []
  },
  {
   "cell_type": "code",
   "execution_count": 125,
   "metadata": {
    "ExecuteTime": {
     "end_time": "2020-01-10T10:36:11.035189Z",
     "start_time": "2020-01-10T10:36:11.009047Z"
    }
   },
   "outputs": [
    {
     "data": {
      "text/plain": [
       "(4, 10)"
      ]
     },
     "execution_count": 125,
     "metadata": {},
     "output_type": "execute_result"
    }
   ],
   "source": [
    "from sklearn import neural_network\n",
    "rbm = sklearn.neural_network.BernoulliRBM(n_components=10)\n",
    "rbm.fit(column_trans.transform(df))\n",
    "rbm.transform(column_trans.transform(df)).shape"
   ]
  },
  {
   "cell_type": "code",
   "execution_count": null,
   "metadata": {},
   "outputs": [],
   "source": []
  },
  {
   "cell_type": "code",
   "execution_count": null,
   "metadata": {},
   "outputs": [],
   "source": []
  },
  {
   "cell_type": "code",
   "execution_count": null,
   "metadata": {},
   "outputs": [],
   "source": []
  },
  {
   "cell_type": "code",
   "execution_count": null,
   "metadata": {},
   "outputs": [],
   "source": []
  }
 ],
 "metadata": {
  "kernelspec": {
   "display_name": "Python 3",
   "language": "python",
   "name": "python3"
  },
  "language_info": {
   "codemirror_mode": {
    "name": "ipython",
    "version": 3
   },
   "file_extension": ".py",
   "mimetype": "text/x-python",
   "name": "python",
   "nbconvert_exporter": "python",
   "pygments_lexer": "ipython3",
   "version": "3.7.3"
  },
  "toc": {
   "base_numbering": 1,
   "nav_menu": {},
   "number_sections": true,
   "sideBar": true,
   "skip_h1_title": false,
   "title_cell": "Table of Contents",
   "title_sidebar": "Contents",
   "toc_cell": false,
   "toc_position": {},
   "toc_section_display": true,
   "toc_window_display": false
  }
 },
 "nbformat": 4,
 "nbformat_minor": 2
}

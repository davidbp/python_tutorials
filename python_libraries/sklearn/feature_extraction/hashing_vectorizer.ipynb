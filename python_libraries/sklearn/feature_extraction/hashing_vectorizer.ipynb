{
 "cells": [
  {
   "cell_type": "markdown",
   "id": "0409fae5",
   "metadata": {},
   "source": [
    "### The hashing trick"
   ]
  },
  {
   "cell_type": "code",
   "execution_count": 6,
   "id": "325b22de",
   "metadata": {},
   "outputs": [],
   "source": [
    "import sys\n",
    "import string\n",
    "import nltk\n",
    "import numpy as np\n",
    "\n",
    "import sklearn\n",
    "from sklearn.feature_selection import SelectKBest, VarianceThreshold\n",
    "from sklearn.feature_selection import chi2\n",
    "\n",
    "import sklearn.linear_model\n",
    "import sklearn.model_selection\n",
    "import sklearn.pipeline\n",
    "import sklearn.feature_extraction\n",
    "import sklearn.datasets\n",
    "import scipy\n",
    "import scipy.sparse as sp\n",
    "\n",
    "from sklearn.feature_extraction.text import CountVectorizer"
   ]
  },
  {
   "cell_type": "code",
   "execution_count": 7,
   "id": "2fcc440c",
   "metadata": {},
   "outputs": [],
   "source": [
    "X = sklearn.datasets.fetch_20newsgroups()\n",
    "\n",
    "X_train = sklearn.datasets.fetch_20newsgroups(subset=\"train\").data\n",
    "y_train = sklearn.datasets.fetch_20newsgroups(subset=\"train\").target\n",
    "X_test  = sklearn.datasets.fetch_20newsgroups(subset=\"test\").data\n",
    "y_test  = sklearn.datasets.fetch_20newsgroups(subset=\"test\").target"
   ]
  },
  {
   "cell_type": "code",
   "execution_count": 17,
   "id": "d34395b5",
   "metadata": {},
   "outputs": [],
   "source": [
    "hashvectorizer = sklearn.feature_extraction.text.HashingVectorizer(ngram_range=(1,2))\n",
    "\n",
    "logistic = sklearn.linear_model.LogisticRegression()\n",
    "model_pipe_hash = sklearn.pipeline.Pipeline([(\"hashvectorizer\", hashvectorizer),\n",
    "                                             (\"logisticregression\", logistic)] ) "
   ]
  },
  {
   "cell_type": "code",
   "execution_count": 18,
   "id": "34d9983f",
   "metadata": {},
   "outputs": [
    {
     "name": "stderr",
     "output_type": "stream",
     "text": [
      "/Users/davidbuchaca/opt/anaconda3/lib/python3.8/site-packages/sklearn/linear_model/_logistic.py:763: ConvergenceWarning: lbfgs failed to converge (status=1):\n",
      "STOP: TOTAL NO. of ITERATIONS REACHED LIMIT.\n",
      "\n",
      "Increase the number of iterations (max_iter) or scale the data as shown in:\n",
      "    https://scikit-learn.org/stable/modules/preprocessing.html\n",
      "Please also refer to the documentation for alternative solver options:\n",
      "    https://scikit-learn.org/stable/modules/linear_model.html#logistic-regression\n",
      "  n_iter_i = _check_optimize_result(\n"
     ]
    },
    {
     "data": {
      "text/plain": [
       "Pipeline(steps=[('hashvectorizer', HashingVectorizer()),\n",
       "                ('logisticregression', LogisticRegression())])"
      ]
     },
     "execution_count": 18,
     "metadata": {},
     "output_type": "execute_result"
    }
   ],
   "source": [
    "model_pipe_hash.fit(X_train, y_train)"
   ]
  },
  {
   "cell_type": "code",
   "execution_count": 19,
   "id": "1401d2a9",
   "metadata": {},
   "outputs": [
    {
     "data": {
      "text/plain": [
       "0.894908962347534"
      ]
     },
     "execution_count": 19,
     "metadata": {},
     "output_type": "execute_result"
    }
   ],
   "source": [
    "np.mean(model_pipe_hash.predict(X_train) == y_train)"
   ]
  },
  {
   "cell_type": "code",
   "execution_count": 20,
   "id": "792028b3",
   "metadata": {},
   "outputs": [
    {
     "data": {
      "text/plain": [
       "0.7267657992565055"
      ]
     },
     "execution_count": 20,
     "metadata": {},
     "output_type": "execute_result"
    }
   ],
   "source": [
    "np.mean(model_pipe_hash.predict(X_test) == y_test)"
   ]
  },
  {
   "cell_type": "markdown",
   "id": "6e04b8fb",
   "metadata": {},
   "source": [
    "### Hashing Pipeline (no normalization)\n",
    "We can try the hashing pipeline without normalization"
   ]
  },
  {
   "cell_type": "code",
   "execution_count": 27,
   "id": "7d321b21",
   "metadata": {},
   "outputs": [
    {
     "name": "stderr",
     "output_type": "stream",
     "text": [
      "/Users/davidbuchaca/opt/anaconda3/lib/python3.8/site-packages/sklearn/linear_model/_logistic.py:763: ConvergenceWarning: lbfgs failed to converge (status=1):\n",
      "STOP: TOTAL NO. of ITERATIONS REACHED LIMIT.\n",
      "\n",
      "Increase the number of iterations (max_iter) or scale the data as shown in:\n",
      "    https://scikit-learn.org/stable/modules/preprocessing.html\n",
      "Please also refer to the documentation for alternative solver options:\n",
      "    https://scikit-learn.org/stable/modules/linear_model.html#logistic-regression\n",
      "  n_iter_i = _check_optimize_result(\n"
     ]
    },
    {
     "data": {
      "text/plain": [
       "Pipeline(steps=[('hashvectorizer',\n",
       "                 HashingVectorizer(ngram_range=(1, 2), norm=None)),\n",
       "                ('logisticregression', LogisticRegression())])"
      ]
     },
     "execution_count": 27,
     "metadata": {},
     "output_type": "execute_result"
    }
   ],
   "source": [
    "hashvectorizer = sklearn.feature_extraction.text.HashingVectorizer(ngram_range=(1,2),\n",
    "                                                                   norm=None)\n",
    "\n",
    "logistic = sklearn.linear_model.LogisticRegression()\n",
    "model_pipe_hash2 = sklearn.pipeline.Pipeline([(\"hashvectorizer\", hashvectorizer),\n",
    "                                              (\"logisticregression\", logistic)] ) \n",
    "\n",
    "model_pipe_hash2.fit(X_train, y_train)"
   ]
  },
  {
   "cell_type": "code",
   "execution_count": 28,
   "id": "f90e58b3",
   "metadata": {},
   "outputs": [
    {
     "data": {
      "text/plain": [
       "0.9999116139296447"
      ]
     },
     "execution_count": 28,
     "metadata": {},
     "output_type": "execute_result"
    }
   ],
   "source": [
    "np.mean(model_pipe_hash2.predict(X_train) == y_train)"
   ]
  },
  {
   "cell_type": "code",
   "execution_count": 29,
   "id": "6add2885",
   "metadata": {},
   "outputs": [
    {
     "data": {
      "text/plain": [
       "0.7966011683483802"
      ]
     },
     "execution_count": 29,
     "metadata": {},
     "output_type": "execute_result"
    }
   ],
   "source": [
    "np.mean(model_pipe_hash2.predict(X_test) == y_test)"
   ]
  },
  {
   "cell_type": "markdown",
   "id": "2e5daec6",
   "metadata": {},
   "source": [
    "### Logistic Pipeline"
   ]
  },
  {
   "cell_type": "code",
   "execution_count": 22,
   "id": "f71b0636",
   "metadata": {},
   "outputs": [
    {
     "name": "stderr",
     "output_type": "stream",
     "text": [
      "/Users/davidbuchaca/opt/anaconda3/lib/python3.8/site-packages/sklearn/linear_model/_logistic.py:763: ConvergenceWarning: lbfgs failed to converge (status=1):\n",
      "STOP: TOTAL NO. of ITERATIONS REACHED LIMIT.\n",
      "\n",
      "Increase the number of iterations (max_iter) or scale the data as shown in:\n",
      "    https://scikit-learn.org/stable/modules/preprocessing.html\n",
      "Please also refer to the documentation for alternative solver options:\n",
      "    https://scikit-learn.org/stable/modules/linear_model.html#logistic-regression\n",
      "  n_iter_i = _check_optimize_result(\n"
     ]
    },
    {
     "data": {
      "text/plain": [
       "Pipeline(steps=[('count_vec', CountVectorizer(ngram_range=(1, 2))),\n",
       "                ('logisticregression', LogisticRegression())])"
      ]
     },
     "execution_count": 22,
     "metadata": {},
     "output_type": "execute_result"
    }
   ],
   "source": [
    "logistic = sklearn.linear_model.LogisticRegression()\n",
    "model_pipe = sklearn.pipeline.Pipeline([(\"count_vec\", CountVectorizer(ngram_range=(1,2))),\n",
    "                                        (\"logisticregression\", logistic)] )\n",
    "model_pipe.fit(X_train, y_train)"
   ]
  },
  {
   "cell_type": "code",
   "execution_count": 23,
   "id": "beae409e",
   "metadata": {},
   "outputs": [
    {
     "data": {
      "text/plain": [
       "0.9999116139296447"
      ]
     },
     "execution_count": 23,
     "metadata": {},
     "output_type": "execute_result"
    }
   ],
   "source": [
    "np.mean(model_pipe.predict(X_train) == y_train)"
   ]
  },
  {
   "cell_type": "code",
   "execution_count": 24,
   "id": "3dc5a17b",
   "metadata": {},
   "outputs": [
    {
     "data": {
      "text/plain": [
       "0.7979288369622942"
      ]
     },
     "execution_count": 24,
     "metadata": {},
     "output_type": "execute_result"
    }
   ],
   "source": [
    "np.mean(model_pipe.predict(X_test) == y_test)"
   ]
  },
  {
   "cell_type": "code",
   "execution_count": null,
   "id": "7c3193ce",
   "metadata": {},
   "outputs": [],
   "source": []
  }
 ],
 "metadata": {
  "kernelspec": {
   "display_name": "Python 3",
   "language": "python",
   "name": "python3"
  },
  "language_info": {
   "codemirror_mode": {
    "name": "ipython",
    "version": 3
   },
   "file_extension": ".py",
   "mimetype": "text/x-python",
   "name": "python",
   "nbconvert_exporter": "python",
   "pygments_lexer": "ipython3",
   "version": "3.8.8"
  }
 },
 "nbformat": 4,
 "nbformat_minor": 5
}

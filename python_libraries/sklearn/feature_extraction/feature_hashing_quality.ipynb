{
 "cells": [
  {
   "cell_type": "markdown",
   "id": "0409fae5",
   "metadata": {},
   "source": [
    "### The hashing trick"
   ]
  },
  {
   "cell_type": "code",
   "execution_count": 1,
   "id": "325b22de",
   "metadata": {},
   "outputs": [],
   "source": [
    "import sys\n",
    "import string\n",
    "import nltk\n",
    "import numpy as np\n",
    "\n",
    "import sklearn\n",
    "from sklearn.feature_selection import SelectKBest, VarianceThreshold\n",
    "from sklearn.feature_selection import chi2\n",
    "\n",
    "import sklearn.linear_model\n",
    "import sklearn.model_selection\n",
    "import sklearn.pipeline\n",
    "import sklearn.feature_extraction\n",
    "import sklearn.datasets\n",
    "import scipy\n",
    "import scipy.sparse as sp\n",
    "\n",
    "from sklearn.feature_extraction.text import CountVectorizer"
   ]
  },
  {
   "cell_type": "markdown",
   "id": "02a0a0f6",
   "metadata": {},
   "source": [
    "## Dataset loading"
   ]
  },
  {
   "cell_type": "code",
   "execution_count": 2,
   "id": "2fcc440c",
   "metadata": {},
   "outputs": [],
   "source": [
    "X = sklearn.datasets.fetch_20newsgroups()\n",
    "\n",
    "X_train = sklearn.datasets.fetch_20newsgroups(subset=\"train\").data\n",
    "y_train = sklearn.datasets.fetch_20newsgroups(subset=\"train\").target\n",
    "X_test  = sklearn.datasets.fetch_20newsgroups(subset=\"test\").data\n",
    "y_test  = sklearn.datasets.fetch_20newsgroups(subset=\"test\").target"
   ]
  },
  {
   "cell_type": "markdown",
   "id": "d0279f4b",
   "metadata": {},
   "source": [
    "## Hash vectors"
   ]
  },
  {
   "cell_type": "code",
   "execution_count": 3,
   "id": "d34395b5",
   "metadata": {},
   "outputs": [],
   "source": [
    "hashvectorizer = sklearn.feature_extraction.text.HashingVectorizer(ngram_range=(1,2))\n",
    "\n",
    "logistic = sklearn.linear_model.LogisticRegression()\n",
    "model_pipe_hash = sklearn.pipeline.Pipeline([(\"hashvectorizer\", hashvectorizer),\n",
    "                                             (\"logisticregression\", logistic)] ) "
   ]
  },
  {
   "cell_type": "code",
   "execution_count": 4,
   "id": "1401d2a9",
   "metadata": {},
   "outputs": [
    {
     "name": "stderr",
     "output_type": "stream",
     "text": [
      "/Users/dbuchaca/opt/anaconda3/lib/python3.9/site-packages/sklearn/linear_model/_logistic.py:814: ConvergenceWarning: lbfgs failed to converge (status=1):\n",
      "STOP: TOTAL NO. of ITERATIONS REACHED LIMIT.\n",
      "\n",
      "Increase the number of iterations (max_iter) or scale the data as shown in:\n",
      "    https://scikit-learn.org/stable/modules/preprocessing.html\n",
      "Please also refer to the documentation for alternative solver options:\n",
      "    https://scikit-learn.org/stable/modules/linear_model.html#logistic-regression\n",
      "  n_iter_i = _check_optimize_result(\n"
     ]
    },
    {
     "name": "stdout",
     "output_type": "stream",
     "text": [
      "train_accuray = 0.9284956690825525\n",
      "test_accuray = 0.7327403080191184\n",
      "CPU times: user 4min 49s, sys: 54.4 s, total: 5min 44s\n",
      "Wall time: 3min 14s\n"
     ]
    }
   ],
   "source": [
    "%%time\n",
    "model_pipe_hash.fit(X_train, y_train)\n",
    "train_accuray = np.mean(model_pipe_hash.predict(X_train) == y_train)\n",
    "test_accuracy = np.mean(model_pipe_hash.predict(X_test) == y_test)\n",
    "print(f'train_accuray = {train_accuray}')\n",
    "print(f'test_accuray = {test_accuracy}')"
   ]
  },
  {
   "cell_type": "markdown",
   "id": "6e04b8fb",
   "metadata": {},
   "source": [
    "## Hashing Pipeline (no normalization)\n",
    "\n",
    "We can try the hashing pipeline without normalization, which tends to help overfitting document classification"
   ]
  },
  {
   "cell_type": "code",
   "execution_count": 7,
   "id": "7d321b21",
   "metadata": {},
   "outputs": [],
   "source": [
    "hashvectorizer = sklearn.feature_extraction.text.HashingVectorizer(ngram_range=(1,2),\n",
    "                                                                   norm=None)\n",
    "\n",
    "logistic = sklearn.linear_model.LogisticRegression()\n",
    "model_pipe_hash2 = sklearn.pipeline.Pipeline([(\"hashvectorizer\", hashvectorizer),\n",
    "                                              (\"logisticregression\", logistic)] ) \n"
   ]
  },
  {
   "cell_type": "code",
   "execution_count": 8,
   "id": "7c3193ce",
   "metadata": {},
   "outputs": [
    {
     "name": "stderr",
     "output_type": "stream",
     "text": [
      "/Users/dbuchaca/opt/anaconda3/lib/python3.9/site-packages/sklearn/linear_model/_logistic.py:814: ConvergenceWarning: lbfgs failed to converge (status=1):\n",
      "STOP: TOTAL NO. of ITERATIONS REACHED LIMIT.\n",
      "\n",
      "Increase the number of iterations (max_iter) or scale the data as shown in:\n",
      "    https://scikit-learn.org/stable/modules/preprocessing.html\n",
      "Please also refer to the documentation for alternative solver options:\n",
      "    https://scikit-learn.org/stable/modules/linear_model.html#logistic-regression\n",
      "  n_iter_i = _check_optimize_result(\n"
     ]
    },
    {
     "name": "stdout",
     "output_type": "stream",
     "text": [
      "train_accuray = 0.9999116139296447\n",
      "test_accuray = 0.7968667020711631\n",
      "CPU times: user 5min 19s, sys: 55.1 s, total: 6min 14s\n",
      "Wall time: 3min 16s\n"
     ]
    }
   ],
   "source": [
    "%%time\n",
    "model_pipe_hash2.fit(X_train, y_train)\n",
    "train_accuray = np.mean(model_pipe_hash2.predict(X_train) == y_train)\n",
    "test_accuracy = np.mean(model_pipe_hash2.predict(X_test) == y_test)\n",
    "print(f'train_accuray = {train_accuray}')\n",
    "print(f'test_accuray = {test_accuracy}')"
   ]
  },
  {
   "cell_type": "markdown",
   "id": "bcc01d48",
   "metadata": {},
   "source": [
    "## Hash vectors vs Count Vectors\n",
    "\n",
    "Count vectors in this example improve quality with respect to hash vectors without normalizing but the result is very marginal (third digit) `0.796` vs `0.799`."
   ]
  },
  {
   "cell_type": "code",
   "execution_count": 9,
   "id": "da11306b",
   "metadata": {},
   "outputs": [],
   "source": [
    "import sklearn\n",
    "from sklearn import neural_network\n",
    "clf = sklearn.neural_network.MLPClassifier()"
   ]
  },
  {
   "cell_type": "code",
   "execution_count": 5,
   "id": "792028b3",
   "metadata": {},
   "outputs": [],
   "source": [
    "countvectorizer = sklearn.feature_extraction.text.CountVectorizer(ngram_range=(1,2))\n",
    "\n",
    "logistic = sklearn.linear_model.LogisticRegression()\n",
    "model_pipe_count = sklearn.pipeline.Pipeline([(\"countvectorizer\", countvectorizer),\n",
    "                                              (\"classifer\", clf)] ) "
   ]
  },
  {
   "cell_type": "code",
   "execution_count": 6,
   "id": "b7779c94",
   "metadata": {
    "scrolled": true
   },
   "outputs": [
    {
     "name": "stderr",
     "output_type": "stream",
     "text": [
      "/Users/dbuchaca/opt/anaconda3/lib/python3.9/site-packages/sklearn/linear_model/_logistic.py:814: ConvergenceWarning: lbfgs failed to converge (status=1):\n",
      "STOP: TOTAL NO. of ITERATIONS REACHED LIMIT.\n",
      "\n",
      "Increase the number of iterations (max_iter) or scale the data as shown in:\n",
      "    https://scikit-learn.org/stable/modules/preprocessing.html\n",
      "Please also refer to the documentation for alternative solver options:\n",
      "    https://scikit-learn.org/stable/modules/linear_model.html#logistic-regression\n",
      "  n_iter_i = _check_optimize_result(\n"
     ]
    },
    {
     "name": "stdout",
     "output_type": "stream",
     "text": [
      "train_accuray = 0.9999116139296447\n",
      "test_accuray = 0.7993892724375996\n",
      "CPU times: user 5min 16s, sys: 53.2 s, total: 6min 9s\n",
      "Wall time: 3min 32s\n"
     ]
    }
   ],
   "source": [
    "%%time\n",
    "for xbatch, y_batch in get_batches(X_train, y_batch)\n",
    "    model_pipe_count.partial_fit(xbatch, y_batch)\n",
    "    \n",
    "train_accuray = np.mean(model_pipe_count.predict(X_train) == y_train)\n",
    "test_accuracy = np.mean(model_pipe_count.predict(X_test) == y_test)\n",
    "print(f'train_accuray = {train_accuray}')\n",
    "print(f'test_accuray = {test_accuracy}')"
   ]
  }
 ],
 "metadata": {
  "kernelspec": {
   "display_name": "Python 3 (ipykernel)",
   "language": "python",
   "name": "python3"
  },
  "language_info": {
   "codemirror_mode": {
    "name": "ipython",
    "version": 3
   },
   "file_extension": ".py",
   "mimetype": "text/x-python",
   "name": "python",
   "nbconvert_exporter": "python",
   "pygments_lexer": "ipython3",
   "version": "3.9.12"
  }
 },
 "nbformat": 4,
 "nbformat_minor": 5
}

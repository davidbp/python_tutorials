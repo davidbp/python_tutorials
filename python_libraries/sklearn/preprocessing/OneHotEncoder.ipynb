{
 "cells": [
  {
   "cell_type": "code",
   "execution_count": 345,
   "id": "e9974ded",
   "metadata": {},
   "outputs": [],
   "source": [
    "import collections\n",
    "\n",
    "import sklearn\n",
    "import pandas as pd\n",
    "from sklearn import preprocessing"
   ]
  },
  {
   "cell_type": "markdown",
   "id": "52ccb477",
   "metadata": {},
   "source": [
    "## One hot encoder sklearn"
   ]
  },
  {
   "cell_type": "code",
   "execution_count": 408,
   "id": "1be9314c",
   "metadata": {},
   "outputs": [
    {
     "data": {
      "text/html": [
       "<div>\n",
       "<style scoped>\n",
       "    .dataframe tbody tr th:only-of-type {\n",
       "        vertical-align: middle;\n",
       "    }\n",
       "\n",
       "    .dataframe tbody tr th {\n",
       "        vertical-align: top;\n",
       "    }\n",
       "\n",
       "    .dataframe thead th {\n",
       "        text-align: right;\n",
       "    }\n",
       "</style>\n",
       "<table border=\"1\" class=\"dataframe\">\n",
       "  <thead>\n",
       "    <tr style=\"text-align: right;\">\n",
       "      <th></th>\n",
       "      <th>c1</th>\n",
       "      <th>c2</th>\n",
       "    </tr>\n",
       "  </thead>\n",
       "  <tbody>\n",
       "    <tr>\n",
       "      <th>0</th>\n",
       "      <td>a</td>\n",
       "      <td>c</td>\n",
       "    </tr>\n",
       "    <tr>\n",
       "      <th>1</th>\n",
       "      <td>b</td>\n",
       "      <td>d</td>\n",
       "    </tr>\n",
       "    <tr>\n",
       "      <th>2</th>\n",
       "      <td>a</td>\n",
       "      <td>e</td>\n",
       "    </tr>\n",
       "  </tbody>\n",
       "</table>\n",
       "</div>"
      ],
      "text/plain": [
       "  c1 c2\n",
       "0  a  c\n",
       "1  b  d\n",
       "2  a  e"
      ]
     },
     "execution_count": 408,
     "metadata": {},
     "output_type": "execute_result"
    }
   ],
   "source": [
    "df_ = pd.DataFrame([{'c1':'a', 'c2':'c'},{'c1':'b', 'c2':'d'},{'c1':'a', 'c2':'e'} ])\n",
    "df_"
   ]
  },
  {
   "cell_type": "code",
   "execution_count": 409,
   "id": "7746bfe8",
   "metadata": {},
   "outputs": [],
   "source": [
    "oh_sk = sklearn.preprocessing.OneHotEncoder()"
   ]
  },
  {
   "cell_type": "code",
   "execution_count": 410,
   "id": "888904f6",
   "metadata": {},
   "outputs": [
    {
     "data": {
      "text/plain": [
       "OneHotEncoder()"
      ]
     },
     "execution_count": 410,
     "metadata": {},
     "output_type": "execute_result"
    }
   ],
   "source": [
    "oh_sk.fit(df_)"
   ]
  },
  {
   "cell_type": "code",
   "execution_count": 411,
   "id": "5beab3fe",
   "metadata": {},
   "outputs": [
    {
     "data": {
      "text/plain": [
       "[array(['a', 'b'], dtype=object), array(['c', 'd', 'e'], dtype=object)]"
      ]
     },
     "execution_count": 411,
     "metadata": {},
     "output_type": "execute_result"
    }
   ],
   "source": [
    "oh_sk.categories_"
   ]
  },
  {
   "cell_type": "code",
   "execution_count": 412,
   "id": "1e2580ee",
   "metadata": {},
   "outputs": [
    {
     "data": {
      "text/plain": [
       "<3x5 sparse matrix of type '<class 'numpy.float64'>'\n",
       "\twith 6 stored elements in Compressed Sparse Row format>"
      ]
     },
     "execution_count": 412,
     "metadata": {},
     "output_type": "execute_result"
    }
   ],
   "source": [
    "oh_sk.transform(df_)"
   ]
  },
  {
   "cell_type": "code",
   "execution_count": 413,
   "id": "f0debccc",
   "metadata": {},
   "outputs": [
    {
     "data": {
      "text/plain": [
       "array(['c1', 'c2'], dtype=object)"
      ]
     },
     "execution_count": 413,
     "metadata": {},
     "output_type": "execute_result"
    }
   ],
   "source": [
    "oh_sk.feature_names_in_"
   ]
  },
  {
   "cell_type": "code",
   "execution_count": 414,
   "id": "373cbc65",
   "metadata": {},
   "outputs": [
    {
     "data": {
      "text/plain": [
       "array(['c1_a', 'c1_b', 'c2_c', 'c2_d', 'c2_e'], dtype=object)"
      ]
     },
     "execution_count": 414,
     "metadata": {},
     "output_type": "execute_result"
    }
   ],
   "source": [
    "oh_sk.get_feature_names_out()"
   ]
  },
  {
   "cell_type": "markdown",
   "id": "504fa478",
   "metadata": {},
   "source": [
    "## One hot encoder in column transformer"
   ]
  },
  {
   "cell_type": "code",
   "execution_count": 426,
   "id": "6a5cd23c",
   "metadata": {},
   "outputs": [],
   "source": [
    "df_ = pd.DataFrame([{'c1':'a', 'c2':'c', 'c3':2.32},\n",
    "                    {'c1':'b', 'c2':'d', 'c3':1.1},\n",
    "                    {'c1':'a', 'c2':'e', 'c3':1.1} ])\n"
   ]
  },
  {
   "cell_type": "code",
   "execution_count": 427,
   "id": "2f90cee0",
   "metadata": {},
   "outputs": [
    {
     "data": {
      "text/html": [
       "<div>\n",
       "<style scoped>\n",
       "    .dataframe tbody tr th:only-of-type {\n",
       "        vertical-align: middle;\n",
       "    }\n",
       "\n",
       "    .dataframe tbody tr th {\n",
       "        vertical-align: top;\n",
       "    }\n",
       "\n",
       "    .dataframe thead th {\n",
       "        text-align: right;\n",
       "    }\n",
       "</style>\n",
       "<table border=\"1\" class=\"dataframe\">\n",
       "  <thead>\n",
       "    <tr style=\"text-align: right;\">\n",
       "      <th></th>\n",
       "      <th>c1</th>\n",
       "      <th>c2</th>\n",
       "      <th>c3</th>\n",
       "    </tr>\n",
       "  </thead>\n",
       "  <tbody>\n",
       "    <tr>\n",
       "      <th>0</th>\n",
       "      <td>a</td>\n",
       "      <td>c</td>\n",
       "      <td>2.32</td>\n",
       "    </tr>\n",
       "    <tr>\n",
       "      <th>1</th>\n",
       "      <td>b</td>\n",
       "      <td>d</td>\n",
       "      <td>1.10</td>\n",
       "    </tr>\n",
       "    <tr>\n",
       "      <th>2</th>\n",
       "      <td>a</td>\n",
       "      <td>e</td>\n",
       "      <td>1.10</td>\n",
       "    </tr>\n",
       "  </tbody>\n",
       "</table>\n",
       "</div>"
      ],
      "text/plain": [
       "  c1 c2    c3\n",
       "0  a  c  2.32\n",
       "1  b  d  1.10\n",
       "2  a  e  1.10"
      ]
     },
     "execution_count": 427,
     "metadata": {},
     "output_type": "execute_result"
    }
   ],
   "source": [
    "df_"
   ]
  },
  {
   "cell_type": "code",
   "execution_count": 417,
   "id": "2a71aa31",
   "metadata": {},
   "outputs": [],
   "source": [
    "from sklearn.compose import ColumnTransformer\n",
    "from sklearn.preprocessing import OneHotEncoder\n",
    "\n",
    "column_trans = ColumnTransformer(\n",
    "    [('onehot', OneHotEncoder(dtype='int'),['c1','c2'])],\n",
    "    remainder='passthrough',\n",
    "    sparse_threshold=1.)"
   ]
  },
  {
   "cell_type": "code",
   "execution_count": 418,
   "id": "bf327aa3",
   "metadata": {},
   "outputs": [
    {
     "data": {
      "text/plain": [
       "ColumnTransformer(remainder='passthrough', sparse_threshold=1.0,\n",
       "                  transformers=[('onehot', OneHotEncoder(dtype='int'),\n",
       "                                 ['c1', 'c2'])])"
      ]
     },
     "execution_count": 418,
     "metadata": {},
     "output_type": "execute_result"
    }
   ],
   "source": [
    "column_trans.fit(df_)"
   ]
  },
  {
   "cell_type": "code",
   "execution_count": 420,
   "id": "fdc54792",
   "metadata": {},
   "outputs": [
    {
     "data": {
      "text/plain": [
       "<3x6 sparse matrix of type '<class 'numpy.float64'>'\n",
       "\twith 9 stored elements in Compressed Sparse Row format>"
      ]
     },
     "execution_count": 420,
     "metadata": {},
     "output_type": "execute_result"
    }
   ],
   "source": [
    "X_encoded = column_trans.transform(df_)\n",
    "X_encoded"
   ]
  },
  {
   "cell_type": "code",
   "execution_count": 91,
   "id": "10419d4a",
   "metadata": {},
   "outputs": [
    {
     "data": {
      "text/plain": [
       "matrix([[1.  , 0.  , 1.  , 0.  , 0.  , 2.32],\n",
       "        [0.  , 1.  , 0.  , 1.  , 0.  , 1.1 ],\n",
       "        [1.  , 0.  , 0.  , 0.  , 1.  , 1.1 ]])"
      ]
     },
     "execution_count": 91,
     "metadata": {},
     "output_type": "execute_result"
    }
   ],
   "source": [
    "column_trans.transform(df_).todense()"
   ]
  },
  {
   "cell_type": "code",
   "execution_count": 89,
   "id": "7cea50f3",
   "metadata": {},
   "outputs": [
    {
     "data": {
      "text/plain": [
       "array(['onehot__c1_a', 'onehot__c1_b', 'onehot__c2_c', 'onehot__c2_d',\n",
       "       'onehot__c2_e', 'remainder__c3'], dtype=object)"
      ]
     },
     "execution_count": 89,
     "metadata": {},
     "output_type": "execute_result"
    }
   ],
   "source": [
    "column_trans.get_feature_names_out()"
   ]
  },
  {
   "cell_type": "code",
   "execution_count": 92,
   "id": "08464e10",
   "metadata": {},
   "outputs": [
    {
     "data": {
      "text/plain": [
       "[('onehot', OneHotEncoder(dtype='int'), ['c1', 'c2']),\n",
       " ('remainder', 'passthrough', [2])]"
      ]
     },
     "execution_count": 92,
     "metadata": {},
     "output_type": "execute_result"
    }
   ],
   "source": [
    "column_trans.transformers_"
   ]
  },
  {
   "cell_type": "code",
   "execution_count": 96,
   "id": "f53ca75e",
   "metadata": {},
   "outputs": [
    {
     "data": {
      "text/html": [
       "<div>\n",
       "<style scoped>\n",
       "    .dataframe tbody tr th:only-of-type {\n",
       "        vertical-align: middle;\n",
       "    }\n",
       "\n",
       "    .dataframe tbody tr th {\n",
       "        vertical-align: top;\n",
       "    }\n",
       "\n",
       "    .dataframe thead th {\n",
       "        text-align: right;\n",
       "    }\n",
       "</style>\n",
       "<table border=\"1\" class=\"dataframe\">\n",
       "  <thead>\n",
       "    <tr style=\"text-align: right;\">\n",
       "      <th></th>\n",
       "      <th>c1</th>\n",
       "      <th>c2</th>\n",
       "    </tr>\n",
       "  </thead>\n",
       "  <tbody>\n",
       "    <tr>\n",
       "      <th>0</th>\n",
       "      <td>a</td>\n",
       "      <td>c</td>\n",
       "    </tr>\n",
       "    <tr>\n",
       "      <th>1</th>\n",
       "      <td>b</td>\n",
       "      <td>d</td>\n",
       "    </tr>\n",
       "    <tr>\n",
       "      <th>2</th>\n",
       "      <td>a</td>\n",
       "      <td>e</td>\n",
       "    </tr>\n",
       "  </tbody>\n",
       "</table>\n",
       "</div>"
      ],
      "text/plain": [
       "  c1 c2\n",
       "0  a  c\n",
       "1  b  d\n",
       "2  a  e"
      ]
     },
     "execution_count": 96,
     "metadata": {},
     "output_type": "execute_result"
    }
   ],
   "source": [
    "\n",
    "df_[['c1','c2']]"
   ]
  },
  {
   "cell_type": "markdown",
   "id": "2d3fecd6",
   "metadata": {},
   "source": [
    "## StreamOnehotencoder with partial fit\n",
    "\n",
    "We could implement a `StreamOneHot` class with a `partial_fit` that keeps updating a dict with the found values."
   ]
  },
  {
   "cell_type": "code",
   "execution_count": 365,
   "id": "a3139237",
   "metadata": {},
   "outputs": [],
   "source": [
    "categories = collections.defaultdict(set)\n",
    "categories['c1'].update(['b','b','a','c'])\n",
    "categories['c2'].update(['a','b','c','d','e','f'])"
   ]
  },
  {
   "cell_type": "code",
   "execution_count": 366,
   "id": "0d64b480",
   "metadata": {},
   "outputs": [
    {
     "data": {
      "text/plain": [
       "defaultdict(set, {'c1': {'a', 'b', 'c'}, 'c2': {'a', 'b', 'c', 'd', 'e', 'f'}})"
      ]
     },
     "execution_count": 366,
     "metadata": {},
     "output_type": "execute_result"
    }
   ],
   "source": [
    "categories"
   ]
  },
  {
   "cell_type": "code",
   "execution_count": 367,
   "id": "4bcb2bd8",
   "metadata": {},
   "outputs": [],
   "source": [
    "for col in categories.keys():\n",
    "    categories_col = list(categories[col])\n",
    "    #categories_col.sort()\n",
    "    categories[col]= categories_col\n",
    "    \n",
    "encoders = []\n",
    "for k,v in categories.items():\n",
    "    encoder = OneHotEncoder()\n",
    "    encoder.fit(pd.DataFrame({k:v}))\n",
    "    encoders.append(encoder)"
   ]
  },
  {
   "cell_type": "code",
   "execution_count": 368,
   "id": "ee73e2c4",
   "metadata": {},
   "outputs": [
    {
     "name": "stdout",
     "output_type": "stream",
     "text": [
      "['c1_a' 'c1_b' 'c1_c']\n",
      "['c2_a' 'c2_b' 'c2_c' 'c2_d' 'c2_e' 'c2_f']\n"
     ]
    }
   ],
   "source": [
    "print(encoders[0].get_feature_names_out())\n",
    "print(encoders[1].get_feature_names_out())"
   ]
  },
  {
   "cell_type": "code",
   "execution_count": 371,
   "id": "ed3129f0",
   "metadata": {},
   "outputs": [
    {
     "name": "stdout",
     "output_type": "stream",
     "text": [
      "[array(['a', 'b', 'c'], dtype=object)]\n",
      "[array(['a', 'b', 'c', 'd', 'e', 'f'], dtype=object)]\n"
     ]
    }
   ],
   "source": [
    "print(encoders[0].categories_)\n",
    "print(encoders[1].categories_)"
   ]
  },
  {
   "cell_type": "code",
   "execution_count": 481,
   "id": "a23ef511",
   "metadata": {},
   "outputs": [],
   "source": [
    "from sklearn.base import TransformerMixin\n",
    "import scipy.sparse as sp\n",
    "\n",
    "class StreamOneHotEncoding(TransformerMixin):\n",
    "    \n",
    "    def __init__(self, columns=None):\n",
    "        self.columns = columns\n",
    "        self.categories_per_col = collections.defaultdict(set)\n",
    "\n",
    "    def _initialize_cols(self, X):\n",
    "        \n",
    "        for col in self.columns:\n",
    "            self.categories_per_col = categories_per_col\n",
    "    \n",
    "    def partial_fit(self, X, y=None):\n",
    "        if self.columns is None:\n",
    "            if isinstance(X, pd.DataFrame):\n",
    "                self.columns = list(X.columns)\n",
    "                \n",
    "        for col in self.columns:\n",
    "            self.categories_per_col[col].update(X[col])\n",
    "        \n",
    "    def _prepare_onehotencoders(self):            \n",
    "        self.onehotencoders_ = {}\n",
    "        for col,values in self.categories_per_col.items():\n",
    "            encoder = OneHotEncoder()\n",
    "            encoder.fit(pd.DataFrame({col: list(values)}))\n",
    "            self.onehotencoders_[col] = encoder\n",
    "            \n",
    "    def transform(self, X):\n",
    "        if 'onehotencoders_' not in self.__dict__:\n",
    "            self._prepare_onehotencoders()\n",
    "        \n",
    "        results = []\n",
    "        for col in self.columns:\n",
    "            res = self.onehotencoders_[col].transform(X[[col]])\n",
    "            results.append(res)\n",
    "        \n",
    "        return sp.hstack(results)\n",
    "    \n",
    "    def get_feature_names_out(self):\n",
    "        names = []\n",
    "        for col in self.columns:\n",
    "            names.extend(self.onehotencoders_[col].get_feature_names_out())\n",
    "\n",
    "        return np.array(names)\n",
    "            "
   ]
  },
  {
   "cell_type": "code",
   "execution_count": 482,
   "id": "59530e48",
   "metadata": {},
   "outputs": [
    {
     "name": "stdout",
     "output_type": "stream",
     "text": [
      "defaultdict(<class 'set'>, {'c1': {'a'}, 'c2': {'c'}})\n",
      "defaultdict(<class 'set'>, {'c1': {'b', 'a'}, 'c2': {'d', 'c'}})\n",
      "defaultdict(<class 'set'>, {'c1': {'b', 'a'}, 'c2': {'e', 'd', 'c'}})\n"
     ]
    }
   ],
   "source": [
    "soh = StreamOneHotEncoding(columns=['c1','c2'])\n",
    "\n",
    "n_rows = df_.shape[0]\n",
    "\n",
    "for i in range(n_rows):\n",
    "    soh.partial_fit(df_.iloc[[i]])\n",
    "    print(soh.categories_per_col)\n"
   ]
  },
  {
   "cell_type": "code",
   "execution_count": 483,
   "id": "d4530c57",
   "metadata": {},
   "outputs": [
    {
     "data": {
      "text/plain": [
       "<3x5 sparse matrix of type '<class 'numpy.float64'>'\n",
       "\twith 6 stored elements in Compressed Sparse Row format>"
      ]
     },
     "execution_count": 483,
     "metadata": {},
     "output_type": "execute_result"
    }
   ],
   "source": [
    "soh.transform(df_)"
   ]
  },
  {
   "cell_type": "code",
   "execution_count": 484,
   "id": "4d4851bd",
   "metadata": {},
   "outputs": [
    {
     "data": {
      "text/plain": [
       "defaultdict(set, {'c1': {'a', 'b'}, 'c2': {'c', 'd', 'e'}})"
      ]
     },
     "execution_count": 484,
     "metadata": {},
     "output_type": "execute_result"
    }
   ],
   "source": [
    "soh.categories_per_col"
   ]
  },
  {
   "cell_type": "code",
   "execution_count": 486,
   "id": "6e9bba4a",
   "metadata": {},
   "outputs": [
    {
     "data": {
      "text/plain": [
       "array(['c1_a', 'c1_b', 'c2_c', 'c2_d', 'c2_e'], dtype='<U4')"
      ]
     },
     "execution_count": 486,
     "metadata": {},
     "output_type": "execute_result"
    }
   ],
   "source": [
    "soh.get_feature_names_out()"
   ]
  },
  {
   "cell_type": "markdown",
   "id": "b8313970",
   "metadata": {},
   "source": [
    "## StreamColumnTransformer with partial fit\n",
    "\n",
    "We could implement a `StreamOneHot` class with a `partial_fit` that keeps updating a dict with the found values."
   ]
  },
  {
   "cell_type": "code",
   "execution_count": 297,
   "id": "763bc92d",
   "metadata": {},
   "outputs": [],
   "source": [
    "column_trans = ColumnTransformer(\n",
    "    [('onehotc1', OneHotEncoder(dtype='int'),['c1']),\n",
    "     ('onehotc2', OneHotEncoder(dtype='int'),['c2'])    \n",
    "    ],\n",
    "    remainder='passthrough',\n",
    "    sparse_threshold=1.)"
   ]
  },
  {
   "cell_type": "markdown",
   "id": "2f4b03d6",
   "metadata": {},
   "source": [
    "We can iterate over transformers and partial fit them in the column of data we care about, which is given by the column provided"
   ]
  },
  {
   "cell_type": "code",
   "execution_count": 299,
   "id": "08d26a29",
   "metadata": {},
   "outputs": [
    {
     "data": {
      "text/plain": [
       "('onehotc1', OneHotEncoder(dtype='int'), ['c1'])"
      ]
     },
     "execution_count": 299,
     "metadata": {},
     "output_type": "execute_result"
    }
   ],
   "source": [
    "column_trans.transformers[0]"
   ]
  },
  {
   "cell_type": "code",
   "execution_count": 300,
   "id": "3e17392c",
   "metadata": {},
   "outputs": [
    {
     "data": {
      "text/plain": [
       "('onehotc2', OneHotEncoder(dtype='int'), ['c2'])"
      ]
     },
     "execution_count": 300,
     "metadata": {},
     "output_type": "execute_result"
    }
   ],
   "source": [
    "column_trans.transformers[1]"
   ]
  },
  {
   "cell_type": "code",
   "execution_count": null,
   "id": "c18a9f83",
   "metadata": {},
   "outputs": [],
   "source": []
  },
  {
   "cell_type": "code",
   "execution_count": null,
   "id": "fd0ee3a8",
   "metadata": {},
   "outputs": [],
   "source": []
  }
 ],
 "metadata": {
  "kernelspec": {
   "display_name": "Python 3 (ipykernel)",
   "language": "python",
   "name": "python3"
  },
  "language_info": {
   "codemirror_mode": {
    "name": "ipython",
    "version": 3
   },
   "file_extension": ".py",
   "mimetype": "text/x-python",
   "name": "python",
   "nbconvert_exporter": "python",
   "pygments_lexer": "ipython3",
   "version": "3.9.12"
  }
 },
 "nbformat": 4,
 "nbformat_minor": 5
}

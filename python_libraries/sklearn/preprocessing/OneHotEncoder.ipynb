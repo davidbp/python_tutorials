{
 "cells": [
  {
   "cell_type": "code",
   "execution_count": 1,
   "id": "88108cdc",
   "metadata": {},
   "outputs": [],
   "source": [
    "%load_ext autoreload\n",
    "%autoreload 2\n",
    "    \n",
    "import collections\n",
    "\n",
    "import sklearn\n",
    "import pandas as pd\n",
    "from sklearn import preprocessing\n",
    "import numpy as np"
   ]
  },
  {
   "cell_type": "markdown",
   "id": "6fb54bca",
   "metadata": {},
   "source": [
    "## One hot encoder sklearn"
   ]
  },
  {
   "cell_type": "code",
   "execution_count": 2,
   "id": "40483547",
   "metadata": {},
   "outputs": [
    {
     "data": {
      "text/html": [
       "<div>\n",
       "<style scoped>\n",
       "    .dataframe tbody tr th:only-of-type {\n",
       "        vertical-align: middle;\n",
       "    }\n",
       "\n",
       "    .dataframe tbody tr th {\n",
       "        vertical-align: top;\n",
       "    }\n",
       "\n",
       "    .dataframe thead th {\n",
       "        text-align: right;\n",
       "    }\n",
       "</style>\n",
       "<table border=\"1\" class=\"dataframe\">\n",
       "  <thead>\n",
       "    <tr style=\"text-align: right;\">\n",
       "      <th></th>\n",
       "      <th>c1</th>\n",
       "      <th>c2</th>\n",
       "    </tr>\n",
       "  </thead>\n",
       "  <tbody>\n",
       "    <tr>\n",
       "      <th>0</th>\n",
       "      <td>a</td>\n",
       "      <td>c</td>\n",
       "    </tr>\n",
       "    <tr>\n",
       "      <th>1</th>\n",
       "      <td>b</td>\n",
       "      <td>d</td>\n",
       "    </tr>\n",
       "    <tr>\n",
       "      <th>2</th>\n",
       "      <td>a</td>\n",
       "      <td>e</td>\n",
       "    </tr>\n",
       "  </tbody>\n",
       "</table>\n",
       "</div>"
      ],
      "text/plain": [
       "  c1 c2\n",
       "0  a  c\n",
       "1  b  d\n",
       "2  a  e"
      ]
     },
     "execution_count": 2,
     "metadata": {},
     "output_type": "execute_result"
    }
   ],
   "source": [
    "df_ = pd.DataFrame([{'c1':'a', 'c2':'c'},{'c1':'b', 'c2':'d'},{'c1':'a', 'c2':'e'} ])\n",
    "df_"
   ]
  },
  {
   "cell_type": "code",
   "execution_count": 3,
   "id": "65bc51e9",
   "metadata": {},
   "outputs": [],
   "source": [
    "oh_sk = sklearn.preprocessing.OneHotEncoder()"
   ]
  },
  {
   "cell_type": "code",
   "execution_count": 4,
   "id": "a6f378cc",
   "metadata": {},
   "outputs": [
    {
     "data": {
      "text/plain": [
       "OneHotEncoder()"
      ]
     },
     "execution_count": 4,
     "metadata": {},
     "output_type": "execute_result"
    }
   ],
   "source": [
    "oh_sk.fit(df_)"
   ]
  },
  {
   "cell_type": "code",
   "execution_count": 5,
   "id": "bcb39e19",
   "metadata": {},
   "outputs": [
    {
     "data": {
      "text/plain": [
       "[array(['a', 'b'], dtype=object), array(['c', 'd', 'e'], dtype=object)]"
      ]
     },
     "execution_count": 5,
     "metadata": {},
     "output_type": "execute_result"
    }
   ],
   "source": [
    "oh_sk.categories_"
   ]
  },
  {
   "cell_type": "code",
   "execution_count": 6,
   "id": "52b42814",
   "metadata": {},
   "outputs": [
    {
     "data": {
      "text/plain": [
       "<3x5 sparse matrix of type '<class 'numpy.float64'>'\n",
       "\twith 6 stored elements in Compressed Sparse Row format>"
      ]
     },
     "execution_count": 6,
     "metadata": {},
     "output_type": "execute_result"
    }
   ],
   "source": [
    "oh_sk.transform(df_)"
   ]
  },
  {
   "cell_type": "code",
   "execution_count": 7,
   "id": "bdfe36a3",
   "metadata": {},
   "outputs": [
    {
     "data": {
      "text/plain": [
       "array(['c1', 'c2'], dtype=object)"
      ]
     },
     "execution_count": 7,
     "metadata": {},
     "output_type": "execute_result"
    }
   ],
   "source": [
    "oh_sk.feature_names_in_"
   ]
  },
  {
   "cell_type": "code",
   "execution_count": 8,
   "id": "158ecbfc",
   "metadata": {},
   "outputs": [
    {
     "data": {
      "text/plain": [
       "array(['c1_a', 'c1_b', 'c2_c', 'c2_d', 'c2_e'], dtype=object)"
      ]
     },
     "execution_count": 8,
     "metadata": {},
     "output_type": "execute_result"
    }
   ],
   "source": [
    "oh_sk.get_feature_names_out()"
   ]
  },
  {
   "cell_type": "markdown",
   "id": "8276bb86",
   "metadata": {},
   "source": [
    "## One hot encoder in column transformer"
   ]
  },
  {
   "cell_type": "code",
   "execution_count": 9,
   "id": "6c655d70",
   "metadata": {},
   "outputs": [],
   "source": [
    "df_ = pd.DataFrame([{'c1':'a', 'c2':'c', 'c3':2.32},\n",
    "                    {'c1':'b', 'c2':'d', 'c3':1.1},\n",
    "                    {'c1':'a', 'c2':'e', 'c3':1.1} ])\n"
   ]
  },
  {
   "cell_type": "code",
   "execution_count": 10,
   "id": "18ec976e",
   "metadata": {},
   "outputs": [
    {
     "data": {
      "text/html": [
       "<div>\n",
       "<style scoped>\n",
       "    .dataframe tbody tr th:only-of-type {\n",
       "        vertical-align: middle;\n",
       "    }\n",
       "\n",
       "    .dataframe tbody tr th {\n",
       "        vertical-align: top;\n",
       "    }\n",
       "\n",
       "    .dataframe thead th {\n",
       "        text-align: right;\n",
       "    }\n",
       "</style>\n",
       "<table border=\"1\" class=\"dataframe\">\n",
       "  <thead>\n",
       "    <tr style=\"text-align: right;\">\n",
       "      <th></th>\n",
       "      <th>c1</th>\n",
       "      <th>c2</th>\n",
       "      <th>c3</th>\n",
       "    </tr>\n",
       "  </thead>\n",
       "  <tbody>\n",
       "    <tr>\n",
       "      <th>0</th>\n",
       "      <td>a</td>\n",
       "      <td>c</td>\n",
       "      <td>2.32</td>\n",
       "    </tr>\n",
       "    <tr>\n",
       "      <th>1</th>\n",
       "      <td>b</td>\n",
       "      <td>d</td>\n",
       "      <td>1.10</td>\n",
       "    </tr>\n",
       "    <tr>\n",
       "      <th>2</th>\n",
       "      <td>a</td>\n",
       "      <td>e</td>\n",
       "      <td>1.10</td>\n",
       "    </tr>\n",
       "  </tbody>\n",
       "</table>\n",
       "</div>"
      ],
      "text/plain": [
       "  c1 c2    c3\n",
       "0  a  c  2.32\n",
       "1  b  d  1.10\n",
       "2  a  e  1.10"
      ]
     },
     "execution_count": 10,
     "metadata": {},
     "output_type": "execute_result"
    }
   ],
   "source": [
    "df_"
   ]
  },
  {
   "cell_type": "code",
   "execution_count": 11,
   "id": "b81514d9",
   "metadata": {},
   "outputs": [],
   "source": [
    "from sklearn.compose import ColumnTransformer\n",
    "from sklearn.preprocessing import OneHotEncoder\n",
    "\n",
    "column_trans = ColumnTransformer(\n",
    "    [('onehot', OneHotEncoder(dtype='int'),['c1','c2'])],\n",
    "    remainder='passthrough',\n",
    "    sparse_threshold=1.)"
   ]
  },
  {
   "cell_type": "code",
   "execution_count": 12,
   "id": "5c1d8f24",
   "metadata": {},
   "outputs": [
    {
     "data": {
      "text/plain": [
       "ColumnTransformer(remainder='passthrough', sparse_threshold=1.0,\n",
       "                  transformers=[('onehot', OneHotEncoder(dtype='int'),\n",
       "                                 ['c1', 'c2'])])"
      ]
     },
     "execution_count": 12,
     "metadata": {},
     "output_type": "execute_result"
    }
   ],
   "source": [
    "column_trans.fit(df_)"
   ]
  },
  {
   "cell_type": "code",
   "execution_count": 13,
   "id": "8279e4ab",
   "metadata": {},
   "outputs": [
    {
     "data": {
      "text/plain": [
       "<3x6 sparse matrix of type '<class 'numpy.float64'>'\n",
       "\twith 9 stored elements in Compressed Sparse Row format>"
      ]
     },
     "execution_count": 13,
     "metadata": {},
     "output_type": "execute_result"
    }
   ],
   "source": [
    "X_encoded = column_trans.transform(df_)\n",
    "X_encoded"
   ]
  },
  {
   "cell_type": "code",
   "execution_count": 14,
   "id": "4005d1ee",
   "metadata": {},
   "outputs": [
    {
     "data": {
      "text/plain": [
       "matrix([[1.  , 0.  , 1.  , 0.  , 0.  , 2.32],\n",
       "        [0.  , 1.  , 0.  , 1.  , 0.  , 1.1 ],\n",
       "        [1.  , 0.  , 0.  , 0.  , 1.  , 1.1 ]])"
      ]
     },
     "execution_count": 14,
     "metadata": {},
     "output_type": "execute_result"
    }
   ],
   "source": [
    "column_trans.transform(df_).todense()"
   ]
  },
  {
   "cell_type": "code",
   "execution_count": 15,
   "id": "cd5046ea",
   "metadata": {},
   "outputs": [
    {
     "data": {
      "text/plain": [
       "array(['onehot__c1_a', 'onehot__c1_b', 'onehot__c2_c', 'onehot__c2_d',\n",
       "       'onehot__c2_e', 'remainder__c3'], dtype=object)"
      ]
     },
     "execution_count": 15,
     "metadata": {},
     "output_type": "execute_result"
    }
   ],
   "source": [
    "column_trans.get_feature_names_out()"
   ]
  },
  {
   "cell_type": "code",
   "execution_count": 16,
   "id": "8d7fdafe",
   "metadata": {},
   "outputs": [
    {
     "data": {
      "text/plain": [
       "[('onehot', OneHotEncoder(dtype='int'), ['c1', 'c2']),\n",
       " ('remainder', 'passthrough', [2])]"
      ]
     },
     "execution_count": 16,
     "metadata": {},
     "output_type": "execute_result"
    }
   ],
   "source": [
    "column_trans.transformers_"
   ]
  },
  {
   "cell_type": "code",
   "execution_count": 17,
   "id": "0e9c8cf8",
   "metadata": {},
   "outputs": [
    {
     "data": {
      "text/html": [
       "<div>\n",
       "<style scoped>\n",
       "    .dataframe tbody tr th:only-of-type {\n",
       "        vertical-align: middle;\n",
       "    }\n",
       "\n",
       "    .dataframe tbody tr th {\n",
       "        vertical-align: top;\n",
       "    }\n",
       "\n",
       "    .dataframe thead th {\n",
       "        text-align: right;\n",
       "    }\n",
       "</style>\n",
       "<table border=\"1\" class=\"dataframe\">\n",
       "  <thead>\n",
       "    <tr style=\"text-align: right;\">\n",
       "      <th></th>\n",
       "      <th>c1</th>\n",
       "      <th>c2</th>\n",
       "    </tr>\n",
       "  </thead>\n",
       "  <tbody>\n",
       "    <tr>\n",
       "      <th>0</th>\n",
       "      <td>a</td>\n",
       "      <td>c</td>\n",
       "    </tr>\n",
       "    <tr>\n",
       "      <th>1</th>\n",
       "      <td>b</td>\n",
       "      <td>d</td>\n",
       "    </tr>\n",
       "    <tr>\n",
       "      <th>2</th>\n",
       "      <td>a</td>\n",
       "      <td>e</td>\n",
       "    </tr>\n",
       "  </tbody>\n",
       "</table>\n",
       "</div>"
      ],
      "text/plain": [
       "  c1 c2\n",
       "0  a  c\n",
       "1  b  d\n",
       "2  a  e"
      ]
     },
     "execution_count": 17,
     "metadata": {},
     "output_type": "execute_result"
    }
   ],
   "source": [
    "\n",
    "df_[['c1','c2']]"
   ]
  },
  {
   "cell_type": "markdown",
   "id": "bc97dbba",
   "metadata": {},
   "source": [
    "## StreamOnehotencoder with partial fit\n",
    "\n",
    "We could implement a `StreamOneHot` class with a `partial_fit` that keeps updating a dict with the found values."
   ]
  },
  {
   "cell_type": "code",
   "execution_count": 18,
   "id": "13f82b1c",
   "metadata": {},
   "outputs": [],
   "source": [
    "categories = collections.defaultdict(set)\n",
    "categories['c1'].update(['b','b','a','c'])\n",
    "categories['c2'].update(['a','b','c','d','e','f'])"
   ]
  },
  {
   "cell_type": "code",
   "execution_count": 19,
   "id": "7909a3d2",
   "metadata": {},
   "outputs": [
    {
     "data": {
      "text/plain": [
       "defaultdict(set, {'c1': {'a', 'b', 'c'}, 'c2': {'a', 'b', 'c', 'd', 'e', 'f'}})"
      ]
     },
     "execution_count": 19,
     "metadata": {},
     "output_type": "execute_result"
    }
   ],
   "source": [
    "categories"
   ]
  },
  {
   "cell_type": "code",
   "execution_count": 20,
   "id": "59a13ed6",
   "metadata": {},
   "outputs": [],
   "source": [
    "for col in categories.keys():\n",
    "    categories_col = list(categories[col])\n",
    "    #categories_col.sort()\n",
    "    categories[col]= categories_col\n",
    "    \n",
    "encoders = []\n",
    "for k,v in categories.items():\n",
    "    encoder = OneHotEncoder()\n",
    "    encoder.fit(pd.DataFrame({k:v}))\n",
    "    encoders.append(encoder)"
   ]
  },
  {
   "cell_type": "code",
   "execution_count": 21,
   "id": "2d41772d",
   "metadata": {},
   "outputs": [
    {
     "name": "stdout",
     "output_type": "stream",
     "text": [
      "['c1_a' 'c1_b' 'c1_c']\n",
      "['c2_a' 'c2_b' 'c2_c' 'c2_d' 'c2_e' 'c2_f']\n"
     ]
    }
   ],
   "source": [
    "print(encoders[0].get_feature_names_out())\n",
    "print(encoders[1].get_feature_names_out())"
   ]
  },
  {
   "cell_type": "code",
   "execution_count": 22,
   "id": "337916c9",
   "metadata": {},
   "outputs": [
    {
     "name": "stdout",
     "output_type": "stream",
     "text": [
      "[array(['a', 'b', 'c'], dtype=object)]\n",
      "[array(['a', 'b', 'c', 'd', 'e', 'f'], dtype=object)]\n"
     ]
    }
   ],
   "source": [
    "print(encoders[0].categories_)\n",
    "print(encoders[1].categories_)"
   ]
  },
  {
   "cell_type": "code",
   "execution_count": 23,
   "id": "73cf249c",
   "metadata": {},
   "outputs": [],
   "source": [
    "a = 4"
   ]
  },
  {
   "cell_type": "code",
   "execution_count": 24,
   "id": "6296a229",
   "metadata": {},
   "outputs": [
    {
     "data": {
      "text/plain": [
       "4"
      ]
     },
     "execution_count": 24,
     "metadata": {},
     "output_type": "execute_result"
    }
   ],
   "source": [
    "a if a>2 else 123"
   ]
  },
  {
   "cell_type": "code",
   "execution_count": 25,
   "id": "49b0cb1d",
   "metadata": {},
   "outputs": [],
   "source": [
    "from sklearn.base import TransformerMixin, BaseEstimator\n",
    "\n",
    "import scipy.sparse as sp\n",
    "\n",
    "class StreamOneHotEncoder(TransformerMixin, BaseEstimator):\n",
    "    \n",
    "    def __init__(self, columns=None):\n",
    "        self.columns = columns\n",
    "        \n",
    "    def _initialize_cols(self):\n",
    "        if 'categories_per_col_' not in self.__dict__:\n",
    "            self.categories_per_col_ = collections.defaultdict(set)\n",
    "    \n",
    "    def fit(self,X,y=None):\n",
    "        self._initialize_cols()\n",
    "        \n",
    "        self.partial_fit(X,y)\n",
    "    \n",
    "    def fit_transform(self, X, y=None):\n",
    "        self.fit(X,y)\n",
    "        return self.transform(X)\n",
    "    \n",
    "    def partial_fit(self, X, y=None):\n",
    "        self._initialize_cols()\n",
    "        \n",
    "        if self.columns is None:\n",
    "            if isinstance(X, pd.DataFrame):\n",
    "                self.columns = list(X.columns)\n",
    "                \n",
    "        for col in self.columns:\n",
    "            self.categories_per_col_[col].update(X[col])\n",
    "        \n",
    "    def _prepare_onehotencoders(self):            \n",
    "        self.onehotencoders_ = {}\n",
    "        for col,values in self.categories_per_col_.items():\n",
    "            encoder = OneHotEncoder()\n",
    "            encoder.fit(pd.DataFrame({col: list(values)}))\n",
    "            self.onehotencoders_[col] = encoder\n",
    "            \n",
    "    def transform(self, X):\n",
    "        if 'onehotencoders_' not in self.__dict__:\n",
    "            self._prepare_onehotencoders()\n",
    "        \n",
    "        results = []\n",
    "        for col in self.columns:\n",
    "            res = self.onehotencoders_[col].transform(X[[col]])\n",
    "            results.append(res)\n",
    "        \n",
    "        return sp.hstack(results)\n",
    "    \n",
    "    def get_feature_names_out(self):\n",
    "        if 'onehotencoders_' not in self.__dict__:\n",
    "            self._prepare_onehotencoders()\n",
    "\n",
    "        names = []\n",
    "        for col in self.columns:\n",
    "            names.extend(self.onehotencoders_[col].get_feature_names_out())\n",
    "\n",
    "        return np.array(names)\n",
    "            "
   ]
  },
  {
   "cell_type": "markdown",
   "id": "5658c36f",
   "metadata": {},
   "source": [
    "One can use .fit"
   ]
  },
  {
   "cell_type": "code",
   "execution_count": 26,
   "id": "4a83bd6d",
   "metadata": {},
   "outputs": [],
   "source": [
    "soh = StreamOneHotEncoder(columns=['c1','c2'])\n",
    "soh.partial_fit(df_)"
   ]
  },
  {
   "cell_type": "code",
   "execution_count": 27,
   "id": "02d19edf",
   "metadata": {},
   "outputs": [
    {
     "name": "stdout",
     "output_type": "stream",
     "text": [
      "defaultdict(<class 'set'>, {'c1': {'b', 'a'}, 'c2': {'e', 'd', 'c'}})\n"
     ]
    }
   ],
   "source": [
    "print(soh.categories_per_col_)"
   ]
  },
  {
   "cell_type": "code",
   "execution_count": 28,
   "id": "3899a5f1",
   "metadata": {},
   "outputs": [
    {
     "name": "stdout",
     "output_type": "stream",
     "text": [
      "['c1_a' 'c1_b' 'c2_c' 'c2_d' 'c2_e']\n"
     ]
    }
   ],
   "source": [
    "print(soh.get_feature_names_out())"
   ]
  },
  {
   "cell_type": "code",
   "execution_count": 29,
   "id": "80a6feea",
   "metadata": {},
   "outputs": [
    {
     "name": "stdout",
     "output_type": "stream",
     "text": [
      "defaultdict(<class 'set'>, {'c1': {'b', 'a'}, 'c2': {'e', 'd', 'c'}})\n",
      "['c1_a' 'c1_b' 'c2_c' 'c2_d' 'c2_e']\n"
     ]
    },
    {
     "data": {
      "text/plain": [
       "{'columns': ['c1', 'c2'],\n",
       " 'categories_per_col_': defaultdict(set,\n",
       "             {'c1': {'a', 'b'}, 'c2': {'c', 'd', 'e'}}),\n",
       " 'onehotencoders_': {'c1': OneHotEncoder(), 'c2': OneHotEncoder()}}"
      ]
     },
     "metadata": {},
     "output_type": "display_data"
    }
   ],
   "source": [
    "print(soh.categories_per_col_)\n",
    "print(soh.get_feature_names_out())\n",
    "display(soh.__dict__)"
   ]
  },
  {
   "cell_type": "markdown",
   "id": "dbd08ef1",
   "metadata": {},
   "source": [
    "One can also use partial fit"
   ]
  },
  {
   "cell_type": "code",
   "execution_count": 30,
   "id": "4ec0c793",
   "metadata": {},
   "outputs": [
    {
     "data": {
      "text/plain": [
       "{'columns': ['c1', 'c0']}"
      ]
     },
     "execution_count": 30,
     "metadata": {},
     "output_type": "execute_result"
    }
   ],
   "source": [
    "soh = StreamOneHotEncoder(columns=['c1','c0'])\n",
    "\n",
    "soh.__dict__"
   ]
  },
  {
   "cell_type": "code",
   "execution_count": 31,
   "id": "f35ea559",
   "metadata": {},
   "outputs": [
    {
     "name": "stdout",
     "output_type": "stream",
     "text": [
      "defaultdict(<class 'set'>, {'c1': {'a'}, 'c2': {'c'}})\n",
      "defaultdict(<class 'set'>, {'c1': {'b', 'a'}, 'c2': {'d', 'c'}})\n",
      "defaultdict(<class 'set'>, {'c1': {'b', 'a'}, 'c2': {'e', 'd', 'c'}})\n"
     ]
    }
   ],
   "source": [
    "soh = StreamOneHotEncoder(columns=['c1','c2'])\n",
    "\n",
    "n_rows = df_.shape[0]\n",
    "\n",
    "for i in range(n_rows):\n",
    "    soh.partial_fit(df_.iloc[[i]])\n",
    "    print(soh.categories_per_col_)"
   ]
  },
  {
   "cell_type": "code",
   "execution_count": 32,
   "id": "c4e6a595",
   "metadata": {},
   "outputs": [
    {
     "data": {
      "text/plain": [
       "<3x5 sparse matrix of type '<class 'numpy.float64'>'\n",
       "\twith 6 stored elements in Compressed Sparse Row format>"
      ]
     },
     "execution_count": 32,
     "metadata": {},
     "output_type": "execute_result"
    }
   ],
   "source": [
    "soh.transform(df_)"
   ]
  },
  {
   "cell_type": "code",
   "execution_count": 33,
   "id": "784bd7fd",
   "metadata": {},
   "outputs": [
    {
     "data": {
      "text/plain": [
       "array(['c1_a', 'c1_b', 'c2_c', 'c2_d', 'c2_e'], dtype='<U4')"
      ]
     },
     "execution_count": 33,
     "metadata": {},
     "output_type": "execute_result"
    }
   ],
   "source": [
    "soh.get_feature_names_out()"
   ]
  },
  {
   "cell_type": "markdown",
   "id": "d6bc43ad",
   "metadata": {},
   "source": [
    "We can also instanciate a new object from a previous set of hyperparameters"
   ]
  },
  {
   "cell_type": "code",
   "execution_count": 34,
   "id": "cabbac5e",
   "metadata": {},
   "outputs": [],
   "source": [
    "soh_from_params = StreamOneHotEncoder(soh.get_params())"
   ]
  },
  {
   "cell_type": "code",
   "execution_count": 35,
   "id": "9791abf0",
   "metadata": {},
   "outputs": [
    {
     "data": {
      "text/plain": [
       "{'columns': {'columns': ['c1', 'c2']}}"
      ]
     },
     "execution_count": 35,
     "metadata": {},
     "output_type": "execute_result"
    }
   ],
   "source": [
    "soh_from_params.get_params()"
   ]
  },
  {
   "cell_type": "code",
   "execution_count": 36,
   "id": "075f25c6",
   "metadata": {},
   "outputs": [
    {
     "data": {
      "text/plain": [
       "{'columns': ['c1', 'c2']}"
      ]
     },
     "execution_count": 36,
     "metadata": {},
     "output_type": "execute_result"
    }
   ],
   "source": [
    "soh_from_params.columns"
   ]
  },
  {
   "cell_type": "code",
   "execution_count": 37,
   "id": "c93a4792",
   "metadata": {},
   "outputs": [
    {
     "data": {
      "text/plain": [
       "StreamOneHotEncoder(columns={'columns': ['c1', 'c2']})"
      ]
     },
     "execution_count": 37,
     "metadata": {},
     "output_type": "execute_result"
    }
   ],
   "source": [
    "soh_from_params"
   ]
  },
  {
   "cell_type": "markdown",
   "id": "3d924cc0",
   "metadata": {},
   "source": [
    "## ColumnTransformer with fit  \n",
    "\n"
   ]
  },
  {
   "cell_type": "code",
   "execution_count": 38,
   "id": "c4399e0b",
   "metadata": {},
   "outputs": [],
   "source": [
    "column_trans = ColumnTransformer(\n",
    "    [('onehotc1', StreamOneHotEncoder(),['c1']),\n",
    "     ('onehotc2', StreamOneHotEncoder(),['c2'])    \n",
    "    ],\n",
    "    remainder='passthrough',\n",
    "    sparse_threshold=1.)"
   ]
  },
  {
   "cell_type": "markdown",
   "id": "7ce9744a",
   "metadata": {},
   "source": [
    "We can iterate over transformers and partial fit them in the column of data we care about, which is given by the column provided"
   ]
  },
  {
   "cell_type": "code",
   "execution_count": 39,
   "id": "81862164",
   "metadata": {
    "scrolled": true
   },
   "outputs": [
    {
     "name": "stdout",
     "output_type": "stream",
     "text": [
      "('onehotc1', StreamOneHotEncoder(), ['c1'])\n",
      "('onehotc2', StreamOneHotEncoder(), ['c2'])\n"
     ]
    }
   ],
   "source": [
    "print(column_trans.transformers[0])\n",
    "print(column_trans.transformers[1])"
   ]
  },
  {
   "cell_type": "code",
   "execution_count": 40,
   "id": "29e8c561",
   "metadata": {},
   "outputs": [],
   "source": [
    "#column_trans.transformers[1][1].fit_transform(df_[['c1']])"
   ]
  },
  {
   "cell_type": "code",
   "execution_count": 41,
   "id": "d2f79052",
   "metadata": {},
   "outputs": [
    {
     "data": {
      "text/plain": [
       "ColumnTransformer(remainder='passthrough', sparse_threshold=1.0,\n",
       "                  transformers=[('onehotc1', StreamOneHotEncoder(), ['c1']),\n",
       "                                ('onehotc2', StreamOneHotEncoder(), ['c2'])])"
      ]
     },
     "execution_count": 41,
     "metadata": {},
     "output_type": "execute_result"
    }
   ],
   "source": [
    "column_trans.fit(df_)"
   ]
  },
  {
   "cell_type": "code",
   "execution_count": 42,
   "id": "84dee633",
   "metadata": {},
   "outputs": [
    {
     "data": {
      "text/html": [
       "<div>\n",
       "<style scoped>\n",
       "    .dataframe tbody tr th:only-of-type {\n",
       "        vertical-align: middle;\n",
       "    }\n",
       "\n",
       "    .dataframe tbody tr th {\n",
       "        vertical-align: top;\n",
       "    }\n",
       "\n",
       "    .dataframe thead th {\n",
       "        text-align: right;\n",
       "    }\n",
       "</style>\n",
       "<table border=\"1\" class=\"dataframe\">\n",
       "  <thead>\n",
       "    <tr style=\"text-align: right;\">\n",
       "      <th></th>\n",
       "      <th>c1</th>\n",
       "      <th>c2</th>\n",
       "      <th>c3</th>\n",
       "    </tr>\n",
       "  </thead>\n",
       "  <tbody>\n",
       "    <tr>\n",
       "      <th>0</th>\n",
       "      <td>a</td>\n",
       "      <td>c</td>\n",
       "      <td>2.32</td>\n",
       "    </tr>\n",
       "    <tr>\n",
       "      <th>1</th>\n",
       "      <td>b</td>\n",
       "      <td>d</td>\n",
       "      <td>1.10</td>\n",
       "    </tr>\n",
       "    <tr>\n",
       "      <th>2</th>\n",
       "      <td>a</td>\n",
       "      <td>e</td>\n",
       "      <td>1.10</td>\n",
       "    </tr>\n",
       "  </tbody>\n",
       "</table>\n",
       "</div>"
      ],
      "text/plain": [
       "  c1 c2    c3\n",
       "0  a  c  2.32\n",
       "1  b  d  1.10\n",
       "2  a  e  1.10"
      ]
     },
     "execution_count": 42,
     "metadata": {},
     "output_type": "execute_result"
    }
   ],
   "source": [
    "df_"
   ]
  },
  {
   "cell_type": "code",
   "execution_count": 43,
   "id": "f955b8c0",
   "metadata": {},
   "outputs": [
    {
     "data": {
      "text/plain": [
       "<3x6 sparse matrix of type '<class 'numpy.float64'>'\n",
       "\twith 9 stored elements in Compressed Sparse Row format>"
      ]
     },
     "execution_count": 43,
     "metadata": {},
     "output_type": "execute_result"
    }
   ],
   "source": [
    "column_trans.transform(df_)"
   ]
  },
  {
   "cell_type": "markdown",
   "id": "cce2187b",
   "metadata": {},
   "source": [
    "#### See equivalence with OneHotEncoder"
   ]
  },
  {
   "cell_type": "code",
   "execution_count": 44,
   "id": "78c42a5b",
   "metadata": {},
   "outputs": [],
   "source": [
    "from sklearn.preprocessing import OneHotEncoder\n",
    "column_trans = ColumnTransformer(\n",
    "    [('onehotc1', OneHotEncoder(),['c1']),\n",
    "     ('onehotc2', OneHotEncoder(),['c2'])    \n",
    "    ],\n",
    "    remainder='passthrough',\n",
    "    sparse_threshold=1.)"
   ]
  },
  {
   "cell_type": "code",
   "execution_count": 45,
   "id": "af5dac12",
   "metadata": {},
   "outputs": [
    {
     "data": {
      "text/plain": [
       "ColumnTransformer(remainder='passthrough', sparse_threshold=1.0,\n",
       "                  transformers=[('onehotc1', OneHotEncoder(), ['c1']),\n",
       "                                ('onehotc2', OneHotEncoder(), ['c2'])])"
      ]
     },
     "execution_count": 45,
     "metadata": {},
     "output_type": "execute_result"
    }
   ],
   "source": [
    "column_trans.fit(df_)"
   ]
  },
  {
   "cell_type": "code",
   "execution_count": 46,
   "id": "06a0bf2c",
   "metadata": {
    "scrolled": true
   },
   "outputs": [
    {
     "data": {
      "text/plain": [
       "<3x6 sparse matrix of type '<class 'numpy.float64'>'\n",
       "\twith 9 stored elements in Compressed Sparse Row format>"
      ]
     },
     "execution_count": 46,
     "metadata": {},
     "output_type": "execute_result"
    }
   ],
   "source": [
    "column_trans.transform(df_)"
   ]
  },
  {
   "cell_type": "markdown",
   "id": "a91f4598",
   "metadata": {},
   "source": [
    "## StreamColumnTransformer with fit  partial fit\n",
    "\n",
    "We could implement a `StreamOneHot` class with a `partial_fit` that keeps updating a dict with the found values."
   ]
  },
  {
   "cell_type": "code",
   "execution_count": 55,
   "id": "87df8b10",
   "metadata": {},
   "outputs": [],
   "source": [
    "from stream_column_transformer import StreamColumnTransformer"
   ]
  },
  {
   "cell_type": "code",
   "execution_count": 59,
   "id": "150ff5aa",
   "metadata": {},
   "outputs": [],
   "source": [
    "column_trans = StreamColumnTransformer(\n",
    "    [('StOneHot', StreamOneHotEncoder(),['c1']),\n",
    "     ('StOneHot', StreamOneHotEncoder(),['c2'])    \n",
    "    ],\n",
    "    remainder='passthrough',\n",
    "    sparse_threshold=1.)"
   ]
  },
  {
   "cell_type": "code",
   "execution_count": 60,
   "id": "084454e2",
   "metadata": {},
   "outputs": [
    {
     "data": {
      "text/html": [
       "<div>\n",
       "<style scoped>\n",
       "    .dataframe tbody tr th:only-of-type {\n",
       "        vertical-align: middle;\n",
       "    }\n",
       "\n",
       "    .dataframe tbody tr th {\n",
       "        vertical-align: top;\n",
       "    }\n",
       "\n",
       "    .dataframe thead th {\n",
       "        text-align: right;\n",
       "    }\n",
       "</style>\n",
       "<table border=\"1\" class=\"dataframe\">\n",
       "  <thead>\n",
       "    <tr style=\"text-align: right;\">\n",
       "      <th></th>\n",
       "      <th>c1</th>\n",
       "      <th>c2</th>\n",
       "      <th>c3</th>\n",
       "    </tr>\n",
       "  </thead>\n",
       "  <tbody>\n",
       "    <tr>\n",
       "      <th>0</th>\n",
       "      <td>a</td>\n",
       "      <td>c</td>\n",
       "      <td>2.32</td>\n",
       "    </tr>\n",
       "  </tbody>\n",
       "</table>\n",
       "</div>"
      ],
      "text/plain": [
       "  c1 c2    c3\n",
       "0  a  c  2.32"
      ]
     },
     "metadata": {},
     "output_type": "display_data"
    },
    {
     "name": "stdout",
     "output_type": "stream",
     "text": [
      "None \n",
      "defaultdict(<class 'set'>, {'c1': {'a'}})\n",
      "defaultdict(<class 'set'>, {'c2': {'c'}})\n"
     ]
    },
    {
     "data": {
      "text/html": [
       "<div>\n",
       "<style scoped>\n",
       "    .dataframe tbody tr th:only-of-type {\n",
       "        vertical-align: middle;\n",
       "    }\n",
       "\n",
       "    .dataframe tbody tr th {\n",
       "        vertical-align: top;\n",
       "    }\n",
       "\n",
       "    .dataframe thead th {\n",
       "        text-align: right;\n",
       "    }\n",
       "</style>\n",
       "<table border=\"1\" class=\"dataframe\">\n",
       "  <thead>\n",
       "    <tr style=\"text-align: right;\">\n",
       "      <th></th>\n",
       "      <th>c1</th>\n",
       "      <th>c2</th>\n",
       "      <th>c3</th>\n",
       "    </tr>\n",
       "  </thead>\n",
       "  <tbody>\n",
       "    <tr>\n",
       "      <th>1</th>\n",
       "      <td>b</td>\n",
       "      <td>d</td>\n",
       "      <td>1.1</td>\n",
       "    </tr>\n",
       "  </tbody>\n",
       "</table>\n",
       "</div>"
      ],
      "text/plain": [
       "  c1 c2   c3\n",
       "1  b  d  1.1"
      ]
     },
     "metadata": {},
     "output_type": "display_data"
    },
    {
     "name": "stdout",
     "output_type": "stream",
     "text": [
      "None \n",
      "defaultdict(<class 'set'>, {'c1': {'b', 'a'}})\n",
      "defaultdict(<class 'set'>, {'c2': {'d', 'c'}})\n"
     ]
    },
    {
     "data": {
      "text/html": [
       "<div>\n",
       "<style scoped>\n",
       "    .dataframe tbody tr th:only-of-type {\n",
       "        vertical-align: middle;\n",
       "    }\n",
       "\n",
       "    .dataframe tbody tr th {\n",
       "        vertical-align: top;\n",
       "    }\n",
       "\n",
       "    .dataframe thead th {\n",
       "        text-align: right;\n",
       "    }\n",
       "</style>\n",
       "<table border=\"1\" class=\"dataframe\">\n",
       "  <thead>\n",
       "    <tr style=\"text-align: right;\">\n",
       "      <th></th>\n",
       "      <th>c1</th>\n",
       "      <th>c2</th>\n",
       "      <th>c3</th>\n",
       "    </tr>\n",
       "  </thead>\n",
       "  <tbody>\n",
       "    <tr>\n",
       "      <th>2</th>\n",
       "      <td>a</td>\n",
       "      <td>e</td>\n",
       "      <td>1.1</td>\n",
       "    </tr>\n",
       "  </tbody>\n",
       "</table>\n",
       "</div>"
      ],
      "text/plain": [
       "  c1 c2   c3\n",
       "2  a  e  1.1"
      ]
     },
     "metadata": {},
     "output_type": "display_data"
    },
    {
     "name": "stdout",
     "output_type": "stream",
     "text": [
      "None \n",
      "defaultdict(<class 'set'>, {'c1': {'b', 'a'}})\n",
      "defaultdict(<class 'set'>, {'c2': {'e', 'd', 'c'}})\n"
     ]
    }
   ],
   "source": [
    "\n",
    "n_rows = df_.shape[0]\n",
    "\n",
    "for i in range(n_rows):\n",
    "    print(f'{display(df_.iloc[[i]])} ')\n",
    "    column_trans.partial_fit(df_.iloc[[i]])\n",
    "    print(column_trans.transformers[0][1].categories_per_col_)\n",
    "    print(column_trans.transformers[1][1].categories_per_col_)"
   ]
  },
  {
   "cell_type": "code",
   "execution_count": 61,
   "id": "2e59b873",
   "metadata": {},
   "outputs": [
    {
     "data": {
      "text/plain": [
       "array(['StOneHot__c1_a', 'StOneHot__c1_b', 'StOneHot__c2_c',\n",
       "       'StOneHot__c2_d', 'StOneHot__c2_e'], dtype=object)"
      ]
     },
     "execution_count": 61,
     "metadata": {},
     "output_type": "execute_result"
    }
   ],
   "source": [
    "column_trans.get_feature_names_out()"
   ]
  },
  {
   "cell_type": "code",
   "execution_count": null,
   "id": "7d33a101",
   "metadata": {},
   "outputs": [],
   "source": []
  },
  {
   "cell_type": "code",
   "execution_count": null,
   "id": "99f6b6f8",
   "metadata": {},
   "outputs": [],
   "source": []
  }
 ],
 "metadata": {
  "kernelspec": {
   "display_name": "Python 3 (ipykernel)",
   "language": "python",
   "name": "python3"
  },
  "language_info": {
   "codemirror_mode": {
    "name": "ipython",
    "version": 3
   },
   "file_extension": ".py",
   "mimetype": "text/x-python",
   "name": "python",
   "nbconvert_exporter": "python",
   "pygments_lexer": "ipython3",
   "version": "3.9.12"
  }
 },
 "nbformat": 4,
 "nbformat_minor": 5
}

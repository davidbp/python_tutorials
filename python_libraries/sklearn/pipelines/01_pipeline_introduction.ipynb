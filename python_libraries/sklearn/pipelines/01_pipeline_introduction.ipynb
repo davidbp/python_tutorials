{
 "cells": [
  {
   "cell_type": "markdown",
   "metadata": {},
   "source": [
    "## Sklearn pipelines\n",
    "\n",
    "Pipelines are containers of steps. A step can be one of the following:\n",
    "\n",
    "- Transformer\n",
    "- Estimator\n",
    "- Pipeline\n",
    "- FeatureUnion\n",
    "\n",
    "Pipelines are specially usefull to package the preprocessing of the data and model fitting in a single (serializable) object.\n",
    "\n",
    "\n",
    "\n",
    "From the help of the PipeLine object:\n",
    "```\n",
    "Sequentially apply a list of transforms and a final estimator.\n",
    "Intermediate steps of the pipeline must be 'transforms', that is, they\n",
    "must implement fit and transform methods.\n",
    "The final estimator only needs to implement fit.\n",
    "\n",
    "\n",
    "The purpose of the pipeline is to assemble several steps that can be\n",
    "cross-validated together while setting different parameters.\n",
    "For this, it enables setting parameters of the various steps using their\n",
    "names and the parameter name separated by a '__', as in the example below.\n",
    "A step's estimator may be replaced entirely by setting the parameter\n",
    "with its name to another estimator, or a transformer removed by setting\n",
    "to None.\n",
    "```"
   ]
  },
  {
   "cell_type": "code",
   "execution_count": 1,
   "metadata": {
    "ExecuteTime": {
     "end_time": "2021-02-28T18:43:44.363466Z",
     "start_time": "2021-02-28T18:43:43.676828Z"
    }
   },
   "outputs": [],
   "source": [
    "import sklearn\n",
    "from sklearn import pipeline"
   ]
  },
  {
   "cell_type": "code",
   "execution_count": 2,
   "metadata": {
    "ExecuteTime": {
     "end_time": "2021-02-28T18:43:44.907492Z",
     "start_time": "2021-02-28T18:43:44.754341Z"
    }
   },
   "outputs": [
    {
     "name": "stderr",
     "output_type": "stream",
     "text": [
      "/Users/davidbuchaca1/opt/anaconda3/lib/python3.8/site-packages/sklearn/utils/deprecation.py:143: FutureWarning: The sklearn.datasets.samples_generator module is  deprecated in version 0.22 and will be removed in version 0.24. The corresponding classes / functions should instead be imported from sklearn.datasets. Anything that cannot be imported from sklearn.datasets is now part of the private API.\n",
      "  warnings.warn(message, FutureWarning)\n"
     ]
    }
   ],
   "source": [
    "from sklearn import svm\n",
    "from sklearn.datasets import samples_generator\n",
    "from sklearn.feature_selection import SelectKBest\n",
    "from sklearn.feature_selection import f_regression\n",
    "from sklearn.pipeline import Pipeline\n",
    "\n",
    "# generate some data to play with\n",
    "X, y = samples_generator.make_classification(\n",
    "    n_informative=5, n_redundant=0, random_state=42)\n",
    "\n",
    "# ANOVA SVM-C\n",
    "anova_filter = SelectKBest(f_regression, k=5)\n",
    "clf = svm.SVC(kernel='linear')\n",
    "svmpipe = Pipeline([('anova', anova_filter), ('svc', clf)])"
   ]
  },
  {
   "cell_type": "markdown",
   "metadata": {},
   "source": [
    "### Inspecting first part transformation"
   ]
  },
  {
   "cell_type": "code",
   "execution_count": 3,
   "metadata": {
    "ExecuteTime": {
     "end_time": "2021-02-28T18:43:45.100508Z",
     "start_time": "2021-02-28T18:43:45.092854Z"
    }
   },
   "outputs": [
    {
     "data": {
      "text/plain": [
       "(100, 20)"
      ]
     },
     "execution_count": 3,
     "metadata": {},
     "output_type": "execute_result"
    }
   ],
   "source": [
    "X.shape"
   ]
  },
  {
   "cell_type": "code",
   "execution_count": 4,
   "metadata": {
    "ExecuteTime": {
     "end_time": "2021-02-28T18:43:45.275174Z",
     "start_time": "2021-02-28T18:43:45.270917Z"
    }
   },
   "outputs": [
    {
     "data": {
      "text/plain": [
       "SelectKBest(k=5, score_func=<function f_regression at 0x7f8f007e8c10>)"
      ]
     },
     "execution_count": 4,
     "metadata": {},
     "output_type": "execute_result"
    }
   ],
   "source": [
    "svmpipe.steps[0][1].fit(X,y)"
   ]
  },
  {
   "cell_type": "code",
   "execution_count": 5,
   "metadata": {
    "ExecuteTime": {
     "end_time": "2021-02-28T18:43:46.129732Z",
     "start_time": "2021-02-28T18:43:46.126137Z"
    }
   },
   "outputs": [
    {
     "data": {
      "text/plain": [
       "(100, 5)"
      ]
     },
     "execution_count": 5,
     "metadata": {},
     "output_type": "execute_result"
    }
   ],
   "source": [
    "svmpipe.steps[0][1].transform(X).shape"
   ]
  },
  {
   "cell_type": "code",
   "execution_count": 6,
   "metadata": {
    "ExecuteTime": {
     "end_time": "2021-02-28T18:43:47.436713Z",
     "start_time": "2021-02-28T18:43:47.431988Z"
    }
   },
   "outputs": [
    {
     "data": {
      "text/plain": [
       "{'score_func': <function sklearn.feature_selection._univariate_selection.f_regression(X, y, *, center=True)>,\n",
       " 'k': 5,\n",
       " 'n_features_in_': 20,\n",
       " 'scores_': array([1.23977183e-01, 2.54349641e-01, 4.38691648e+00, 8.50993664e+00,\n",
       "        3.05588566e-01, 3.05419416e-01, 7.24129592e-01, 2.22731093e+01,\n",
       "        1.01372597e-01, 2.14898175e+01, 5.56918995e-03, 1.09088355e+01,\n",
       "        7.25814092e-01, 4.85637398e-01, 2.00376966e+00, 4.91894354e-01,\n",
       "        7.69678969e-01, 9.48327951e-01, 3.33672446e-01, 2.58987004e-01]),\n",
       " 'pvalues_': array([7.25516352e-01, 6.15160920e-01, 3.87954258e-02, 4.37964905e-03,\n",
       "        5.81658683e-01, 5.81763072e-01, 3.96867119e-01, 7.86760605e-06,\n",
       "        7.50866172e-01, 1.09815358e-05, 9.40663608e-01, 1.33672777e-03,\n",
       "        3.96320524e-01, 4.87529621e-01, 1.60078717e-01, 4.84745633e-01,\n",
       "        3.82462045e-01, 3.32542871e-01, 5.64829416e-01, 6.11960827e-01])}"
      ]
     },
     "execution_count": 6,
     "metadata": {},
     "output_type": "execute_result"
    }
   ],
   "source": [
    "svmpipe.steps[0][1].__dict__"
   ]
  },
  {
   "cell_type": "markdown",
   "metadata": {},
   "source": [
    "### Accessing pipeline attributes with part__fieldname"
   ]
  },
  {
   "cell_type": "code",
   "execution_count": 7,
   "metadata": {
    "ExecuteTime": {
     "end_time": "2021-02-28T18:43:51.013852Z",
     "start_time": "2021-02-28T18:43:51.010490Z"
    }
   },
   "outputs": [
    {
     "data": {
      "text/plain": [
       "[('anova',\n",
       "  SelectKBest(k=5, score_func=<function f_regression at 0x7f8f007e8c10>)),\n",
       " ('svc', SVC(kernel='linear'))]"
      ]
     },
     "execution_count": 7,
     "metadata": {},
     "output_type": "execute_result"
    }
   ],
   "source": [
    "svmpipe.steps"
   ]
  },
  {
   "cell_type": "code",
   "execution_count": 8,
   "metadata": {
    "ExecuteTime": {
     "end_time": "2021-02-28T18:43:51.873021Z",
     "start_time": "2021-02-28T18:43:51.867320Z"
    },
    "scrolled": true
   },
   "outputs": [
    {
     "data": {
      "text/plain": [
       "Pipeline(steps=[('anova',\n",
       "                 SelectKBest(k=5,\n",
       "                             score_func=<function f_regression at 0x7f8f007e8c10>)),\n",
       "                ('svc', SVC(C=0.3, kernel='linear'))])"
      ]
     },
     "execution_count": 8,
     "metadata": {},
     "output_type": "execute_result"
    }
   ],
   "source": [
    "svmpipe.set_params(svc__C=0.3)"
   ]
  },
  {
   "cell_type": "markdown",
   "metadata": {},
   "source": [
    "### Fitting the pipeline"
   ]
  },
  {
   "cell_type": "code",
   "execution_count": 9,
   "metadata": {
    "ExecuteTime": {
     "end_time": "2021-02-28T18:43:52.263316Z",
     "start_time": "2021-02-28T18:43:52.258165Z"
    }
   },
   "outputs": [
    {
     "data": {
      "text/plain": [
       "Pipeline(steps=[('anova',\n",
       "                 SelectKBest(k=7,\n",
       "                             score_func=<function f_regression at 0x7f8f007e8c10>)),\n",
       "                ('svc', SVC(C=0.1, kernel='linear'))])"
      ]
     },
     "execution_count": 9,
     "metadata": {},
     "output_type": "execute_result"
    }
   ],
   "source": [
    "svmpipe.set_params(anova__k=7, svc__C=.1)"
   ]
  },
  {
   "cell_type": "code",
   "execution_count": 10,
   "metadata": {
    "ExecuteTime": {
     "end_time": "2021-02-28T18:43:52.434589Z",
     "start_time": "2021-02-28T18:43:52.427402Z"
    }
   },
   "outputs": [
    {
     "data": {
      "text/plain": [
       "Pipeline(steps=[('anova',\n",
       "                 SelectKBest(k=7,\n",
       "                             score_func=<function f_regression at 0x7f8f007e8c10>)),\n",
       "                ('svc', SVC(C=0.1, kernel='linear'))])"
      ]
     },
     "execution_count": 10,
     "metadata": {},
     "output_type": "execute_result"
    }
   ],
   "source": [
    "svmpipe.fit(X, y)"
   ]
  },
  {
   "cell_type": "code",
   "execution_count": 11,
   "metadata": {
    "ExecuteTime": {
     "end_time": "2021-02-28T18:43:53.216207Z",
     "start_time": "2021-02-28T18:43:53.213820Z"
    }
   },
   "outputs": [],
   "source": [
    "prediction = svmpipe.predict(X)"
   ]
  },
  {
   "cell_type": "code",
   "execution_count": 12,
   "metadata": {
    "ExecuteTime": {
     "end_time": "2021-02-28T18:43:53.464794Z",
     "start_time": "2021-02-28T18:43:53.461229Z"
    }
   },
   "outputs": [
    {
     "data": {
      "text/plain": [
       "0.82"
      ]
     },
     "execution_count": 12,
     "metadata": {},
     "output_type": "execute_result"
    }
   ],
   "source": [
    "svmpipe.score(X, y) "
   ]
  },
  {
   "cell_type": "code",
   "execution_count": 13,
   "metadata": {
    "ExecuteTime": {
     "end_time": "2021-02-28T18:43:53.814029Z",
     "start_time": "2021-02-28T18:43:53.810982Z"
    }
   },
   "outputs": [
    {
     "data": {
      "text/plain": [
       "array([False, False,  True,  True, False, False, False,  True, False,\n",
       "        True, False,  True, False, False,  True, False, False,  True,\n",
       "       False, False])"
      ]
     },
     "execution_count": 13,
     "metadata": {},
     "output_type": "execute_result"
    }
   ],
   "source": [
    "svmpipe.named_steps['anova'].get_support()"
   ]
  },
  {
   "cell_type": "code",
   "execution_count": 14,
   "metadata": {
    "ExecuteTime": {
     "end_time": "2021-02-28T18:43:54.133328Z",
     "start_time": "2021-02-28T18:43:54.130273Z"
    }
   },
   "outputs": [
    {
     "data": {
      "text/plain": [
       "array([False, False,  True,  True, False, False, False,  True, False,\n",
       "        True, False,  True, False, False,  True, False, False,  True,\n",
       "       False, False])"
      ]
     },
     "execution_count": 14,
     "metadata": {},
     "output_type": "execute_result"
    }
   ],
   "source": [
    "svmpipe.named_steps.anova.get_support()"
   ]
  },
  {
   "cell_type": "markdown",
   "metadata": {},
   "source": [
    "### Direct svm"
   ]
  },
  {
   "cell_type": "code",
   "execution_count": 15,
   "metadata": {
    "ExecuteTime": {
     "end_time": "2021-02-28T18:43:54.846827Z",
     "start_time": "2021-02-28T18:43:54.844991Z"
    }
   },
   "outputs": [],
   "source": [
    "clf = svm.SVC(kernel='linear')"
   ]
  },
  {
   "cell_type": "code",
   "execution_count": 16,
   "metadata": {
    "ExecuteTime": {
     "end_time": "2021-02-28T18:43:55.052874Z",
     "start_time": "2021-02-28T18:43:55.047509Z"
    },
    "scrolled": true
   },
   "outputs": [
    {
     "data": {
      "text/plain": [
       "SVC(kernel='linear')"
      ]
     },
     "execution_count": 16,
     "metadata": {},
     "output_type": "execute_result"
    }
   ],
   "source": [
    "clf.fit(X, y)"
   ]
  },
  {
   "cell_type": "code",
   "execution_count": 17,
   "metadata": {
    "ExecuteTime": {
     "end_time": "2021-02-28T18:43:55.715853Z",
     "start_time": "2021-02-28T18:43:55.712047Z"
    }
   },
   "outputs": [
    {
     "data": {
      "text/plain": [
       "0.9"
      ]
     },
     "execution_count": 17,
     "metadata": {},
     "output_type": "execute_result"
    }
   ],
   "source": [
    "clf.score(X, y) "
   ]
  },
  {
   "cell_type": "code",
   "execution_count": null,
   "metadata": {},
   "outputs": [],
   "source": []
  },
  {
   "cell_type": "markdown",
   "metadata": {},
   "source": [
    "## Example"
   ]
  },
  {
   "cell_type": "code",
   "execution_count": 30,
   "metadata": {
    "ExecuteTime": {
     "end_time": "2021-02-28T18:46:04.154219Z",
     "start_time": "2021-02-28T18:46:04.151247Z"
    }
   },
   "outputs": [],
   "source": [
    "%matplotlib inline"
   ]
  },
  {
   "cell_type": "code",
   "execution_count": 31,
   "metadata": {
    "ExecuteTime": {
     "end_time": "2021-02-28T18:46:18.208050Z",
     "start_time": "2021-02-28T18:46:18.206192Z"
    }
   },
   "outputs": [],
   "source": [
    "import matplotlib.pyplot as plt"
   ]
  },
  {
   "cell_type": "code",
   "execution_count": 73,
   "metadata": {
    "ExecuteTime": {
     "end_time": "2021-02-28T18:50:05.810636Z",
     "start_time": "2021-02-28T18:50:05.808191Z"
    }
   },
   "outputs": [],
   "source": [
    "X = np.linspace(0,10,100) \n",
    "Y = 10*np.sin(X)+ np.array(range(100))\n",
    "X = np.array([X]).T"
   ]
  },
  {
   "cell_type": "code",
   "execution_count": 74,
   "metadata": {
    "ExecuteTime": {
     "end_time": "2021-02-28T18:50:06.304089Z",
     "start_time": "2021-02-28T18:50:06.190975Z"
    },
    "scrolled": true
   },
   "outputs": [
    {
     "data": {
      "text/plain": [
       "<matplotlib.collections.PathCollection at 0x7f8f0167dfd0>"
      ]
     },
     "execution_count": 74,
     "metadata": {},
     "output_type": "execute_result"
    },
    {
     "data": {
      "image/png": "[encoded data removed]",
      "text/plain": [
       "<Figure size 432x288 with 1 Axes>"
      ]
     },
     "metadata": {
      "needs_background": "light"
     },
     "output_type": "display_data"
    }
   ],
   "source": [
    "plt.scatter(X,Y)"
   ]
  },
  {
   "cell_type": "code",
   "execution_count": 119,
   "metadata": {
    "ExecuteTime": {
     "end_time": "2021-02-28T18:57:21.935047Z",
     "start_time": "2021-02-28T18:57:21.933152Z"
    }
   },
   "outputs": [],
   "source": [
    "import copy\n",
    "Y_obs = copy.deepcopy(Y)\n",
    "Y_obs = np.array([Y_obs]).T"
   ]
  },
  {
   "cell_type": "code",
   "execution_count": 120,
   "metadata": {
    "ExecuteTime": {
     "end_time": "2021-02-28T18:57:22.701232Z",
     "start_time": "2021-02-28T18:57:22.699276Z"
    }
   },
   "outputs": [],
   "source": [
    "Y_obs[10]= 1000\n",
    "Y_obs[30]= 100\n",
    "\n"
   ]
  },
  {
   "cell_type": "code",
   "execution_count": 121,
   "metadata": {
    "ExecuteTime": {
     "end_time": "2021-02-28T18:57:23.475821Z",
     "start_time": "2021-02-28T18:57:23.351856Z"
    }
   },
   "outputs": [
    {
     "data": {
      "text/plain": [
       "<matplotlib.collections.PathCollection at 0x7f8f0a37b2b0>"
      ]
     },
     "execution_count": 121,
     "metadata": {},
     "output_type": "execute_result"
    },
    {
     "data": {
      "image/png": "[encoded data removed]",
      "text/plain": [
       "<Figure size 432x288 with 1 Axes>"
      ]
     },
     "metadata": {
      "needs_background": "light"
     },
     "output_type": "display_data"
    }
   ],
   "source": [
    "plt.scatter(X,Y_obs)"
   ]
  },
  {
   "cell_type": "code",
   "execution_count": 122,
   "metadata": {
    "ExecuteTime": {
     "end_time": "2021-02-28T18:57:25.356318Z",
     "start_time": "2021-02-28T18:57:25.353931Z"
    }
   },
   "outputs": [],
   "source": [
    "lin_reg = sklearn.linear_model.LinearRegression()"
   ]
  },
  {
   "cell_type": "code",
   "execution_count": 123,
   "metadata": {
    "ExecuteTime": {
     "end_time": "2021-02-28T18:57:25.784648Z",
     "start_time": "2021-02-28T18:57:25.780710Z"
    }
   },
   "outputs": [
    {
     "data": {
      "text/plain": [
       "LinearRegression()"
      ]
     },
     "execution_count": 123,
     "metadata": {},
     "output_type": "execute_result"
    }
   ],
   "source": [
    "lin_reg.fit(X,Y_obs)"
   ]
  },
  {
   "cell_type": "markdown",
   "metadata": {
    "ExecuteTime": {
     "end_time": "2021-02-28T18:51:18.048529Z",
     "start_time": "2021-02-28T18:51:18.046466Z"
    }
   },
   "source": [
    "Fitting without a pipeline"
   ]
  },
  {
   "cell_type": "markdown",
   "metadata": {
    "ExecuteTime": {
     "end_time": "2021-02-28T18:55:51.306240Z",
     "start_time": "2021-02-28T18:55:51.304408Z"
    }
   },
   "source": [
    "### NO Pipeline: Model"
   ]
  },
  {
   "cell_type": "code",
   "execution_count": 210,
   "metadata": {
    "ExecuteTime": {
     "end_time": "2021-02-28T19:07:31.367437Z",
     "start_time": "2021-02-28T19:07:31.243560Z"
    }
   },
   "outputs": [
    {
     "data": {
      "text/plain": [
       "GridSearchCV(cv=10, estimator=Lasso(),\n",
       "             param_grid={'alpha': array([1.        , 1.11111111, 1.22222222, 1.33333333, 1.44444444,\n",
       "       1.55555556, 1.66666667, 1.77777778, 1.88888889, 2.        ])})"
      ]
     },
     "execution_count": 210,
     "metadata": {},
     "output_type": "execute_result"
    }
   ],
   "source": [
    "lasso = sklearn.linear_model.Lasso()\n",
    "lasso_cv = sklearn.model_selection.GridSearchCV(lasso, \n",
    "                                                cv=10, \n",
    "                                                param_grid={'alpha':np.linspace(1,2,10)})\n",
    "lasso_cv.fit(X, Y_obs)"
   ]
  },
  {
   "cell_type": "code",
   "execution_count": 212,
   "metadata": {
    "ExecuteTime": {
     "end_time": "2021-02-28T19:07:53.615401Z",
     "start_time": "2021-02-28T19:07:53.520176Z"
    }
   },
   "outputs": [
    {
     "data": {
      "text/plain": [
       "[<matplotlib.lines.Line2D at 0x7f8ef13d54c0>]"
      ]
     },
     "execution_count": 212,
     "metadata": {},
     "output_type": "execute_result"
    },
    {
     "data": {
      "image/png": "[encoded data removed]",
      "text/plain": [
       "<Figure size 432x288 with 1 Axes>"
      ]
     },
     "metadata": {
      "needs_background": "light"
     },
     "output_type": "display_data"
    }
   ],
   "source": [
    "Y_hat = lasso_cv.predict(X)\n",
    "idx = Y_obs<100\n",
    "plt.plot(X[idx],Y_obs[idx])\n",
    "plt.plot(X,Y_hat)"
   ]
  },
  {
   "cell_type": "markdown",
   "metadata": {},
   "source": [
    "### Pipeline: Model + TransformedTargetRegressor"
   ]
  },
  {
   "cell_type": "code",
   "execution_count": 286,
   "metadata": {
    "ExecuteTime": {
     "end_time": "2021-02-28T19:28:49.782589Z",
     "start_time": "2021-02-28T19:28:49.780384Z"
    }
   },
   "outputs": [],
   "source": [
    "from sklearn.preprocessing import MinMaxScaler\n",
    "from sklearn.compose import TransformedTargetRegressor\n",
    "from sklearn.model_selection import GridSearchCV\n",
    "from sklearn.model_selection import KFold\n",
    "from sklearn.model_selection import cross_val_score\n"
   ]
  },
  {
   "cell_type": "code",
   "execution_count": 249,
   "metadata": {
    "ExecuteTime": {
     "end_time": "2021-02-28T19:16:04.331412Z",
     "start_time": "2021-02-28T19:16:04.329335Z"
    }
   },
   "outputs": [],
   "source": [
    "lasso = sklearn.linear_model.Lasso()\n",
    "\n",
    "lasso_tt = TransformedTargetRegressor(regressor = lasso, \n",
    "                                      func = np.log,\n",
    "                                      inverse_func = np.exp)"
   ]
  },
  {
   "cell_type": "code",
   "execution_count": 250,
   "metadata": {
    "ExecuteTime": {
     "end_time": "2021-02-28T19:16:05.130174Z",
     "start_time": "2021-02-28T19:16:05.127739Z"
    }
   },
   "outputs": [],
   "source": [
    "model_pipe = Pipeline([\n",
    "    ('model', TransformedTargetRegressor(lasso))\n",
    "])\n",
    "\n",
    "model_pipe = GridSearchCV(model_pipe, \n",
    "                          param_grid= {'model__regressor__alpha':np.linspace(1,2,10)})"
   ]
  },
  {
   "cell_type": "code",
   "execution_count": 251,
   "metadata": {
    "ExecuteTime": {
     "end_time": "2021-02-28T19:16:05.653668Z",
     "start_time": "2021-02-28T19:16:05.532974Z"
    }
   },
   "outputs": [
    {
     "data": {
      "text/plain": [
       "GridSearchCV(estimator=Pipeline(steps=[('model',\n",
       "                                        TransformedTargetRegressor(regressor=Lasso()))]),\n",
       "             param_grid={'model__regressor__alpha': array([1.        , 1.11111111, 1.22222222, 1.33333333, 1.44444444,\n",
       "       1.55555556, 1.66666667, 1.77777778, 1.88888889, 2.        ])})"
      ]
     },
     "execution_count": 251,
     "metadata": {},
     "output_type": "execute_result"
    }
   ],
   "source": [
    "model_pipe.fit(X,Y_obs)"
   ]
  },
  {
   "cell_type": "code",
   "execution_count": 252,
   "metadata": {
    "ExecuteTime": {
     "end_time": "2021-02-28T19:16:06.163712Z",
     "start_time": "2021-02-28T19:16:06.050721Z"
    }
   },
   "outputs": [
    {
     "data": {
      "text/plain": [
       "[<matplotlib.lines.Line2D at 0x7f8ef163a610>]"
      ]
     },
     "execution_count": 252,
     "metadata": {},
     "output_type": "execute_result"
    },
    {
     "data": {
      "image/png": "[encoded data removed]",
      "text/plain": [
       "<Figure size 432x288 with 1 Axes>"
      ]
     },
     "metadata": {
      "needs_background": "light"
     },
     "output_type": "display_data"
    }
   ],
   "source": [
    "Y_hat = model_pipe.predict(X)\n",
    "idx = Y_obs<100\n",
    "plt.plot(X[idx],Y_obs[idx])\n",
    "plt.plot(X,Y_hat)"
   ]
  },
  {
   "cell_type": "markdown",
   "metadata": {},
   "source": [
    "## Pipeline: Model + scaler\n",
    "\n",
    "\n",
    "https://stackoverflow.com/questions/61859341/does-including-a-scaler-in-sklearns-pipeline-scale-the-target-variable"
   ]
  },
  {
   "cell_type": "code",
   "execution_count": 277,
   "metadata": {
    "ExecuteTime": {
     "end_time": "2021-02-28T19:21:00.990556Z",
     "start_time": "2021-02-28T19:21:00.671049Z"
    }
   },
   "outputs": [
    {
     "name": "stderr",
     "output_type": "stream",
     "text": [
      "/Users/davidbuchaca1/opt/anaconda3/lib/python3.8/site-packages/sklearn/utils/validation.py:67: FutureWarning: Pass transformer=StandardScaler() as keyword args. From version 0.25 passing these as positional arguments will result in an error\n",
      "  warnings.warn(\"Pass {} as keyword args. From version 0.25 \"\n"
     ]
    },
    {
     "data": {
      "text/plain": [
       "GridSearchCV(cv=12,\n",
       "             estimator=Pipeline(steps=[('model',\n",
       "                                        TransformedTargetRegressor(regressor=Lasso(),\n",
       "                                                                   transformer=StandardScaler()))]),\n",
       "             param_grid={'model__regressor__alpha': array([1.        , 1.11111111, 1.22222222, 1.33333333, 1.44444444,\n",
       "       1.55555556, 1.66666667, 1.77777778, 1.88888889, 2.        ])})"
      ]
     },
     "execution_count": 277,
     "metadata": {},
     "output_type": "execute_result"
    }
   ],
   "source": [
    "scaler = MinMaxScaler()\n",
    "scaler = sklearn.preprocessing.StandardScaler()\n",
    "lasso = sklearn.linear_model.Lasso()\n",
    "\n",
    "model_pipe = Pipeline([\n",
    "    ('model', TransformedTargetRegressor(lasso, scaler))\n",
    "])\n",
    "\n",
    "model_pipe = GridSearchCV(model_pipe,\n",
    "                          cv=12,\n",
    "                          param_grid= {'model__regressor__alpha':np.linspace(1,2,10)})\n",
    "\n",
    "model_pipe.fit(X,Y_obs)"
   ]
  },
  {
   "cell_type": "code",
   "execution_count": 278,
   "metadata": {
    "ExecuteTime": {
     "end_time": "2021-02-28T19:21:01.195047Z",
     "start_time": "2021-02-28T19:21:01.088777Z"
    }
   },
   "outputs": [
    {
     "data": {
      "text/plain": [
       "[<matplotlib.lines.Line2D at 0x7f8ef1576280>]"
      ]
     },
     "execution_count": 278,
     "metadata": {},
     "output_type": "execute_result"
    },
    {
     "data": {
      "image/png": "[encoded data removed]",
      "text/plain": [
       "<Figure size 432x288 with 1 Axes>"
      ]
     },
     "metadata": {
      "needs_background": "light"
     },
     "output_type": "display_data"
    }
   ],
   "source": [
    "Y_hat = model_pipe.predict(X)\n",
    "idx = Y_obs<100\n",
    "plt.plot(X[idx],Y_obs[idx])\n",
    "plt.plot(X,Y_hat)"
   ]
  },
  {
   "cell_type": "markdown",
   "metadata": {},
   "source": [
    "### Pipeline: Model + Scaler"
   ]
  },
  {
   "cell_type": "code",
   "execution_count": 287,
   "metadata": {
    "ExecuteTime": {
     "end_time": "2021-02-28T19:28:53.859903Z",
     "start_time": "2021-02-28T19:28:52.176978Z"
    }
   },
   "outputs": [],
   "source": [
    "pipeline = Pipeline(steps=[('normalize', MinMaxScaler()),\n",
    "                           ('model', sklearn.linear_model.Lasso())])\n",
    "\n",
    "model = TransformedTargetRegressor(regressor=pipeline, transformer=MinMaxScaler())\n",
    "\n",
    "cv = KFold(n_splits=10, shuffle=True, random_state=1)\n",
    "\n",
    "\n",
    "\n",
    "scores = cross_val_score(model, X, Y_obs, \n",
    "                         scoring='neg_mean_absolute_error', \n",
    "                         cv=cv,\n",
    "                         n_jobs=-1)"
   ]
  },
  {
   "cell_type": "code",
   "execution_count": 294,
   "metadata": {
    "ExecuteTime": {
     "end_time": "2021-02-28T19:32:05.951702Z",
     "start_time": "2021-02-28T19:32:05.949077Z"
    }
   },
   "outputs": [
    {
     "data": {
      "text/plain": [
       "array([ -26.65509954, -112.78256889,  -29.72883539,  -24.17968789,\n",
       "        -28.94445211,  -31.06540684,  -29.02051161,  -24.6976484 ,\n",
       "        -32.89155603,  -34.00526053])"
      ]
     },
     "execution_count": 294,
     "metadata": {},
     "output_type": "execute_result"
    }
   ],
   "source": [
    "scores"
   ]
  },
  {
   "cell_type": "code",
   "execution_count": 322,
   "metadata": {
    "ExecuteTime": {
     "end_time": "2021-02-28T19:38:23.635384Z",
     "start_time": "2021-02-28T19:38:23.414700Z"
    }
   },
   "outputs": [
    {
     "data": {
      "text/plain": [
       "GridSearchCV(cv=KFold(n_splits=10, random_state=1, shuffle=True),\n",
       "             estimator=Pipeline(steps=[('model',\n",
       "                                        TransformedTargetRegressor(regressor=Lasso(),\n",
       "                                                                   transformer=MinMaxScaler()))]),\n",
       "             param_grid={'model__regressor__alpha': array([1.        , 1.11111111, 1.22222222, 1.33333333, 1.44444444,\n",
       "       1.55555556, 1.66666667, 1.77777778, 1.88888889, 2.        ])})"
      ]
     },
     "execution_count": 322,
     "metadata": {},
     "output_type": "execute_result"
    }
   ],
   "source": [
    "\n",
    "model = TransformedTargetRegressor(regressor=lasso, \n",
    "                                   transformer=MinMaxScaler())\n",
    "\n",
    "model_pipe = Pipeline(steps=[('model', model)])\n",
    "\n",
    "cv = KFold(n_splits=10, shuffle=True, random_state=1)\n",
    "\n",
    "pipe_cv = GridSearchCV(model_pipe,\n",
    "                          cv=cv,\n",
    "                          param_grid= {'model__regressor__alpha':np.linspace(1,2,10)})\n",
    "\n",
    "pipe_cv.fit(X,Y_obs)"
   ]
  },
  {
   "cell_type": "code",
   "execution_count": 323,
   "metadata": {
    "ExecuteTime": {
     "end_time": "2021-02-28T19:38:24.674698Z",
     "start_time": "2021-02-28T19:38:24.587421Z"
    }
   },
   "outputs": [
    {
     "data": {
      "text/plain": [
       "[<matplotlib.lines.Line2D at 0x7f8f01fd58e0>]"
      ]
     },
     "execution_count": 323,
     "metadata": {},
     "output_type": "execute_result"
    },
    {
     "data": {
      "image/png": "[encoded data removed]",
      "text/plain": [
       "<Figure size 432x288 with 1 Axes>"
      ]
     },
     "metadata": {
      "needs_background": "light"
     },
     "output_type": "display_data"
    }
   ],
   "source": [
    "Y_hat = pipe_cv.predict(X)\n",
    "idx = Y_obs<100\n",
    "plt.plot(X[idx],Y_obs[idx])\n",
    "plt.plot(X,Y_hat)"
   ]
  },
  {
   "cell_type": "code",
   "execution_count": 325,
   "metadata": {
    "ExecuteTime": {
     "end_time": "2021-02-28T19:38:30.654726Z",
     "start_time": "2021-02-28T19:38:30.649099Z"
    },
    "scrolled": false
   },
   "outputs": [
    {
     "data": {
      "text/plain": [
       "{'mean_fit_time': array([0.00102475, 0.00099988, 0.00146246, 0.00099831, 0.00095606,\n",
       "        0.00097468, 0.00089033, 0.00087233, 0.00089176, 0.00089812]),\n",
       " 'std_fit_time': array([1.21705221e-04, 9.91212906e-05, 3.62981305e-04, 1.11899966e-04,\n",
       "        1.20705937e-04, 1.33745022e-04, 4.21868926e-05, 1.08299786e-05,\n",
       "        2.71575507e-05, 5.76203992e-05]),\n",
       " 'mean_score_time': array([0.00033574, 0.00029724, 0.00050144, 0.00032914, 0.00029585,\n",
       "        0.00030334, 0.00028746, 0.00026979, 0.00027778, 0.00027673]),\n",
       " 'std_score_time': array([7.31764687e-05, 1.89416171e-05, 2.04334926e-04, 9.01259599e-05,\n",
       "        3.75420242e-05, 3.92570580e-05, 4.50092413e-05, 1.14440918e-06,\n",
       "        5.61722470e-06, 8.83697105e-06]),\n",
       " 'param_model__regressor__alpha': masked_array(data=[1.0, 1.1111111111111112, 1.2222222222222223,\n",
       "                    1.3333333333333333, 1.4444444444444444,\n",
       "                    1.5555555555555556, 1.6666666666666665,\n",
       "                    1.7777777777777777, 1.8888888888888888, 2.0],\n",
       "              mask=[False, False, False, False, False, False, False, False,\n",
       "                    False, False],\n",
       "        fill_value='?',\n",
       "             dtype=object),\n",
       " 'params': [{'model__regressor__alpha': 1.0},\n",
       "  {'model__regressor__alpha': 1.1111111111111112},\n",
       "  {'model__regressor__alpha': 1.2222222222222223},\n",
       "  {'model__regressor__alpha': 1.3333333333333333},\n",
       "  {'model__regressor__alpha': 1.4444444444444444},\n",
       "  {'model__regressor__alpha': 1.5555555555555556},\n",
       "  {'model__regressor__alpha': 1.6666666666666665},\n",
       "  {'model__regressor__alpha': 1.7777777777777777},\n",
       "  {'model__regressor__alpha': 1.8888888888888888},\n",
       "  {'model__regressor__alpha': 2.0}],\n",
       " 'split0_test_score': array([-0.08691609, -0.08691609, -0.08691609, -0.08691609, -0.08691609,\n",
       "        -0.08691609, -0.08691609, -0.08691609, -0.08691609, -0.08691609]),\n",
       " 'split1_test_score': array([-0.10330141, -0.10330141, -0.10330141, -0.10330141, -0.10330141,\n",
       "        -0.10330141, -0.10330141, -0.10330141, -0.10330141, -0.10330141]),\n",
       " 'split2_test_score': array([-0.22241899, -0.22241899, -0.22241899, -0.22241899, -0.22241899,\n",
       "        -0.22241899, -0.22241899, -0.22241899, -0.22241899, -0.22241899]),\n",
       " 'split3_test_score': array([-0.01936761, -0.01936761, -0.01936761, -0.01936761, -0.01936761,\n",
       "        -0.01936761, -0.01936761, -0.01936761, -0.01936761, -0.01936761]),\n",
       " 'split4_test_score': array([-0.00109163, -0.00109163, -0.00109163, -0.00109163, -0.00109163,\n",
       "        -0.00109163, -0.00109163, -0.00109163, -0.00109163, -0.00109163]),\n",
       " 'split5_test_score': array([-0.62691257, -0.62691257, -0.62691257, -0.62691257, -0.62691257,\n",
       "        -0.62691257, -0.62691257, -0.62691257, -0.62691257, -0.62691257]),\n",
       " 'split6_test_score': array([-0.01935122, -0.01935122, -0.01935122, -0.01935122, -0.01935122,\n",
       "        -0.01935122, -0.01935122, -0.01935122, -0.01935122, -0.01935122]),\n",
       " 'split7_test_score': array([-0.14042475, -0.14042475, -0.14042475, -0.14042475, -0.14042475,\n",
       "        -0.14042475, -0.14042475, -0.14042475, -0.14042475, -0.14042475]),\n",
       " 'split8_test_score': array([-1.24683679, -1.24683679, -1.24683679, -1.24683679, -1.24683679,\n",
       "        -1.24683679, -1.24683679, -1.24683679, -1.24683679, -1.24683679]),\n",
       " 'split9_test_score': array([-0.44449909, -0.44449909, -0.44449909, -0.44449909, -0.44449909,\n",
       "        -0.44449909, -0.44449909, -0.44449909, -0.44449909, -0.44449909]),\n",
       " 'mean_test_score': array([-0.29111202, -0.29111202, -0.29111202, -0.29111202, -0.29111202,\n",
       "        -0.29111202, -0.29111202, -0.29111202, -0.29111202, -0.29111202]),\n",
       " 'std_test_score': array([0.37227737, 0.37227737, 0.37227737, 0.37227737, 0.37227737,\n",
       "        0.37227737, 0.37227737, 0.37227737, 0.37227737, 0.37227737]),\n",
       " 'rank_test_score': array([1, 1, 1, 1, 1, 1, 1, 1, 1, 1], dtype=int32)}"
      ]
     },
     "execution_count": 325,
     "metadata": {},
     "output_type": "execute_result"
    }
   ],
   "source": [
    "pipe_cv.cv_results_"
   ]
  },
  {
   "cell_type": "code",
   "execution_count": null,
   "metadata": {},
   "outputs": [],
   "source": []
  },
  {
   "cell_type": "code",
   "execution_count": null,
   "metadata": {},
   "outputs": [],
   "source": []
  },
  {
   "cell_type": "code",
   "execution_count": null,
   "metadata": {},
   "outputs": [],
   "source": []
  },
  {
   "cell_type": "code",
   "execution_count": null,
   "metadata": {},
   "outputs": [],
   "source": []
  },
  {
   "cell_type": "code",
   "execution_count": null,
   "metadata": {},
   "outputs": [],
   "source": [
    "pipeline = Pipeline(steps=[('normalize', MinMaxScaler()),\n",
    "                           ('model', sklearn.linear_model.Lasso())])\n",
    "\n",
    "model = TransformedTargetRegressor(regressor=pipeline, transformer=MinMaxScaler())\n",
    "\n",
    "cv = KFold(n_splits=10, shuffle=True, random_state=1)\n",
    "scores = cross_val_score(model, X, Y_obs, \n",
    "                         scoring='neg_mean_absolute_error', \n",
    "                         cv=cv,\n",
    "                         n_jobs=-1)"
   ]
  },
  {
   "cell_type": "code",
   "execution_count": null,
   "metadata": {},
   "outputs": [],
   "source": []
  },
  {
   "cell_type": "code",
   "execution_count": null,
   "metadata": {},
   "outputs": [],
   "source": []
  },
  {
   "cell_type": "code",
   "execution_count": null,
   "metadata": {},
   "outputs": [],
   "source": []
  },
  {
   "cell_type": "code",
   "execution_count": null,
   "metadata": {},
   "outputs": [],
   "source": []
  },
  {
   "cell_type": "code",
   "execution_count": null,
   "metadata": {},
   "outputs": [],
   "source": []
  }
 ],
 "metadata": {
  "kernelspec": {
   "display_name": "Python 3",
   "language": "python",
   "name": "python3"
  },
  "language_info": {
   "codemirror_mode": {
    "name": "ipython",
    "version": 3
   },
   "file_extension": ".py",
   "mimetype": "text/x-python",
   "name": "python",
   "nbconvert_exporter": "python",
   "pygments_lexer": "ipython3",
   "version": "3.8.5"
  },
  "toc": {
   "base_numbering": 1,
   "nav_menu": {},
   "number_sections": true,
   "sideBar": true,
   "skip_h1_title": false,
   "title_cell": "Table of Contents",
   "title_sidebar": "Contents",
   "toc_cell": false,
   "toc_position": {
    "height": "calc(100% - 180px)",
    "left": "10px",
    "top": "150px",
    "width": "165px"
   },
   "toc_section_display": true,
   "toc_window_display": true
  },
  "varInspector": {
   "cols": {
    "lenName": 16,
    "lenType": 16,
    "lenVar": 40
   },
   "kernels_config": {
    "python": {
     "delete_cmd_postfix": "",
     "delete_cmd_prefix": "del ",
     "library": "var_list.py",
     "varRefreshCmd": "print(var_dic_list())"
    },
    "r": {
     "delete_cmd_postfix": ") ",
     "delete_cmd_prefix": "rm(",
     "library": "var_list.r",
     "varRefreshCmd": "cat(var_dic_list()) "
    }
   },
   "types_to_exclude": [
    "module",
    "function",
    "builtin_function_or_method",
    "instance",
    "_Feature"
   ],
   "window_display": false
  }
 },
 "nbformat": 4,
 "nbformat_minor": 2
}

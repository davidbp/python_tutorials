{
 "cells": [
  {
   "cell_type": "code",
   "execution_count": null,
   "id": "ddd7f469",
   "metadata": {},
   "outputs": [],
   "source": []
  },
  {
   "cell_type": "code",
   "execution_count": 3,
   "id": "88179e24",
   "metadata": {},
   "outputs": [],
   "source": [
    "import numpy as np\n",
    "import sklearn\n",
    "from sklearn import neighbors, datasets"
   ]
  },
  {
   "cell_type": "code",
   "execution_count": 4,
   "id": "1169a711",
   "metadata": {},
   "outputs": [],
   "source": [
    "?sklearn.datasets.make_blobs"
   ]
  },
  {
   "cell_type": "code",
   "execution_count": 20,
   "id": "5f6b6269",
   "metadata": {},
   "outputs": [
    {
     "data": {
      "text/plain": [
       "(1000000, 25)"
      ]
     },
     "execution_count": 20,
     "metadata": {},
     "output_type": "execute_result"
    }
   ],
   "source": [
    "X.shape"
   ]
  },
  {
   "cell_type": "code",
   "execution_count": 24,
   "id": "b88aa9f5",
   "metadata": {},
   "outputs": [],
   "source": [
    "clf = sklearn.neighbors.KNeighborsClassifier(algorithm='kd_tree', n_neighbors=1)"
   ]
  },
  {
   "cell_type": "code",
   "execution_count": 25,
   "id": "a4334f18",
   "metadata": {},
   "outputs": [
    {
     "data": {
      "text/plain": [
       "KNeighborsClassifier(algorithm='kd_tree', n_neighbors=1)"
      ]
     },
     "execution_count": 25,
     "metadata": {},
     "output_type": "execute_result"
    }
   ],
   "source": [
    "clf.fit(X,y)"
   ]
  },
  {
   "cell_type": "code",
   "execution_count": 37,
   "id": "a676167f",
   "metadata": {},
   "outputs": [
    {
     "name": "stdout",
     "output_type": "stream",
     "text": [
      "CPU times: user 2.52 ms, sys: 1.42 ms, total: 3.94 ms\n",
      "Wall time: 5.99 ms\n"
     ]
    },
    {
     "name": "stderr",
     "output_type": "stream",
     "text": [
      "/Users/dbuchaca/opt/anaconda3/lib/python3.9/site-packages/sklearn/neighbors/_classification.py:228: FutureWarning: Unlike other reduction functions (e.g. `skew`, `kurtosis`), the default behavior of `mode` typically preserves the axis it acts along. In SciPy 1.11.0, this behavior will change: the default value of `keepdims` will become False, the `axis` over which the statistic is taken will be eliminated, and the value None will no longer be accepted. Set `keepdims` to True or False to avoid this warning.\n",
      "  mode, _ = stats.mode(_y[neigh_ind, k], axis=1)\n"
     ]
    },
    {
     "data": {
      "text/plain": [
       "array([15])"
      ]
     },
     "execution_count": 37,
     "metadata": {},
     "output_type": "execute_result"
    }
   ],
   "source": [
    "x = X[1:2,:]\n",
    "%time clf.predict(x)"
   ]
  },
  {
   "cell_type": "code",
   "execution_count": 52,
   "id": "085ad9d8",
   "metadata": {},
   "outputs": [
    {
     "name": "stdout",
     "output_type": "stream",
     "text": [
      "CPU times: user 10 µs, sys: 51 µs, total: 61 µs\n",
      "Wall time: 114 µs\n"
     ]
    },
    {
     "data": {
      "text/plain": [
       "(25,)"
      ]
     },
     "execution_count": 52,
     "metadata": {},
     "output_type": "execute_result"
    }
   ],
   "source": [
    "%time\n",
    "np.sum((X - x)**2,axis=0).shape"
   ]
  },
  {
   "cell_type": "code",
   "execution_count": 81,
   "id": "6e59b645",
   "metadata": {},
   "outputs": [],
   "source": [
    "n_examples = 3_000_000\n",
    "n_features = 25\n",
    "\n",
    "X,y = sklearn.datasets.make_blobs(n_examples, n_features, centers=30, random_state=123)\n",
    "x = X[0:1]"
   ]
  },
  {
   "cell_type": "code",
   "execution_count": 82,
   "id": "4c26e4da",
   "metadata": {},
   "outputs": [
    {
     "data": {
      "text/plain": [
       "<sklearn.neighbors._kd_tree.KDTree at 0x7fa1778e9810>"
      ]
     },
     "execution_count": 82,
     "metadata": {},
     "output_type": "execute_result"
    }
   ],
   "source": [
    "kdtree = sklearn.neighbors.KDTree(X)\n",
    "kdtree"
   ]
  },
  {
   "cell_type": "code",
   "execution_count": 83,
   "id": "a64e575a",
   "metadata": {},
   "outputs": [
    {
     "name": "stdout",
     "output_type": "stream",
     "text": [
      "33.1 µs ± 220 ns per loop (mean ± std. dev. of 7 runs, 10,000 loops each)\n"
     ]
    }
   ],
   "source": [
    "%timeit kdtree.query(x, return_distance=False)"
   ]
  },
  {
   "cell_type": "code",
   "execution_count": 84,
   "id": "d52bcc26",
   "metadata": {},
   "outputs": [
    {
     "name": "stdout",
     "output_type": "stream",
     "text": [
      "301 ms ± 9.49 ms per loop (mean ± std. dev. of 7 runs, 1 loop each)\n"
     ]
    }
   ],
   "source": [
    "%timeit closest_match = np.argpartition(np.sum((X - x)**2,axis=1),1)[0]"
   ]
  },
  {
   "cell_type": "code",
   "execution_count": 85,
   "id": "a16e35fe",
   "metadata": {},
   "outputs": [
    {
     "data": {
      "text/plain": [
       "array([[0]])"
      ]
     },
     "execution_count": 85,
     "metadata": {},
     "output_type": "execute_result"
    }
   ],
   "source": [
    "kdtree.query(x, return_distance=False)"
   ]
  },
  {
   "cell_type": "code",
   "execution_count": 86,
   "id": "4cb7e376",
   "metadata": {},
   "outputs": [
    {
     "data": {
      "text/plain": [
       "0"
      ]
     },
     "execution_count": 86,
     "metadata": {},
     "output_type": "execute_result"
    }
   ],
   "source": [
    "np.argpartition(np.sum((X - x)**2,axis=1),1)[0]"
   ]
  },
  {
   "cell_type": "code",
   "execution_count": 87,
   "id": "915289cb",
   "metadata": {},
   "outputs": [],
   "source": [
    "n_examples = 3_000_000\n",
    "n_features = 200\n",
    "\n",
    "X,y = sklearn.datasets.make_blobs(n_examples, n_features, centers=30, random_state=123)\n",
    "x = X[0:1]"
   ]
  },
  {
   "cell_type": "code",
   "execution_count": 88,
   "id": "54a5d49e",
   "metadata": {},
   "outputs": [
    {
     "data": {
      "text/plain": [
       "<sklearn.neighbors._kd_tree.KDTree at 0x7fa15011fe10>"
      ]
     },
     "execution_count": 88,
     "metadata": {},
     "output_type": "execute_result"
    }
   ],
   "source": [
    "kdtree = sklearn.neighbors.KDTree(X)\n",
    "kdtree"
   ]
  },
  {
   "cell_type": "code",
   "execution_count": 89,
   "id": "f88d8cac",
   "metadata": {},
   "outputs": [
    {
     "name": "stdout",
     "output_type": "stream",
     "text": [
      "71.3 µs ± 284 ns per loop (mean ± std. dev. of 7 runs, 10,000 loops each)\n"
     ]
    }
   ],
   "source": [
    "%timeit kdtree.query(x, return_distance=False)"
   ]
  },
  {
   "cell_type": "code",
   "execution_count": 90,
   "id": "50169175",
   "metadata": {},
   "outputs": [
    {
     "name": "stdout",
     "output_type": "stream",
     "text": [
      "2.08 s ± 386 ms per loop (mean ± std. dev. of 7 runs, 1 loop each)\n"
     ]
    }
   ],
   "source": [
    "%timeit closest_match = np.argpartition(np.sum((X - x)**2,axis=1),1)[0]"
   ]
  },
  {
   "cell_type": "code",
   "execution_count": null,
   "id": "f6e368c1",
   "metadata": {},
   "outputs": [],
   "source": []
  }
 ],
 "metadata": {
  "kernelspec": {
   "display_name": "Python 3 (ipykernel)",
   "language": "python",
   "name": "python3"
  },
  "language_info": {
   "codemirror_mode": {
    "name": "ipython",
    "version": 3
   },
   "file_extension": ".py",
   "mimetype": "text/x-python",
   "name": "python",
   "nbconvert_exporter": "python",
   "pygments_lexer": "ipython3",
   "version": "3.9.12"
  }
 },
 "nbformat": 4,
 "nbformat_minor": 5
}

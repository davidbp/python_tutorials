{
 "cells": [
  {
   "cell_type": "markdown",
   "metadata": {
    "toc": true
   },
   "source": [
    "<h1>Table of Contents<span class=\"tocSkip\"></span></h1>\n",
    "<div class=\"toc\"><ul class=\"toc-item\"><li><span><a href=\"#model-selection\" data-toc-modified-id=\"model-selection-1\"><span class=\"toc-item-num\">1&nbsp;&nbsp;</span>model selection</a></span><ul class=\"toc-item\"><li><span><a href=\"#Finding-the-indices-for-KFold\" data-toc-modified-id=\"Finding-the-indices-for-KFold-1.1\"><span class=\"toc-item-num\">1.1&nbsp;&nbsp;</span>Finding the indices for <code>KFold</code></a></span></li><li><span><a href=\"#LeaveOneGroupOut\" data-toc-modified-id=\"LeaveOneGroupOut-1.2\"><span class=\"toc-item-num\">1.2&nbsp;&nbsp;</span><code>LeaveOneGroupOut</code></a></span></li></ul></li><li><span><a href=\"#Training-models-in-crosvalidation-using-GridsearchCV\" data-toc-modified-id=\"Training-models-in-crosvalidation-using-GridsearchCV-2\"><span class=\"toc-item-num\">2&nbsp;&nbsp;</span>Training models in crosvalidation using GridsearchCV</a></span><ul class=\"toc-item\"><li><span><a href=\"#Saved-metrics-in-a-GridSearchCV-object\" data-toc-modified-id=\"Saved-metrics-in-a-GridSearchCV-object-2.1\"><span class=\"toc-item-num\">2.1&nbsp;&nbsp;</span>Saved metrics in a <code>GridSearchCV</code> object</a></span><ul class=\"toc-item\"><li><span><a href=\"#Configurations-of--Hyperparameters-tested\" data-toc-modified-id=\"Configurations-of--Hyperparameters-tested-2.1.1\"><span class=\"toc-item-num\">2.1.1&nbsp;&nbsp;</span>Configurations of  Hyperparameters tested</a></span></li></ul></li></ul></li><li><span><a href=\"#Generating-all-possible-combinations-of-hyperparameters\" data-toc-modified-id=\"Generating-all-possible-combinations-of-hyperparameters-3\"><span class=\"toc-item-num\">3&nbsp;&nbsp;</span>Generating all possible combinations of hyperparameters</a></span><ul class=\"toc-item\"><li><span><a href=\"#Ranking-results-of-the-crossvalidation-process\" data-toc-modified-id=\"Ranking-results-of-the-crossvalidation-process-3.1\"><span class=\"toc-item-num\">3.1&nbsp;&nbsp;</span>Ranking results of the crossvalidation process</a></span></li><li><span><a href=\"#Creating-your-own-GridSearchCV\" data-toc-modified-id=\"Creating-your-own-GridSearchCV-3.2\"><span class=\"toc-item-num\">3.2&nbsp;&nbsp;</span>Creating your own <code>GridSearchCV</code></a></span><ul class=\"toc-item\"><li><span><a href=\"#Training-using-crosvalidation-a-given-model\" data-toc-modified-id=\"Training-using-crosvalidation-a-given-model-3.2.1\"><span class=\"toc-item-num\">3.2.1&nbsp;&nbsp;</span>Training using crosvalidation a given model</a></span></li><li><span><a href=\"#TODO:-Make-a-function-that-given-cv_results_df-and-path_folder...\" data-toc-modified-id=\"TODO:-Make-a-function-that-given-cv_results_df-and-path_folder...-3.2.2\"><span class=\"toc-item-num\">3.2.2&nbsp;&nbsp;</span>TODO: Make a function that given cv_results_df and path_folder...</a></span></li></ul></li></ul></li><li><span><a href=\"#Finding-indices-with-GroupKFold\" data-toc-modified-id=\"Finding-indices-with-GroupKFold-4\"><span class=\"toc-item-num\">4&nbsp;&nbsp;</span>Finding indices with <code>GroupKFold</code></a></span></li></ul></div>"
   ]
  },
  {
   "cell_type": "markdown",
   "metadata": {},
   "source": [
    "# model selection\n"
   ]
  },
  {
   "cell_type": "code",
   "execution_count": 1,
   "metadata": {
    "ExecuteTime": {
     "end_time": "2020-01-10T13:10:02.687259Z",
     "start_time": "2020-01-10T13:10:00.442866Z"
    }
   },
   "outputs": [],
   "source": [
    "import sklearn\n",
    "import numpy as np\n",
    "import pandas as pd"
   ]
  },
  {
   "cell_type": "markdown",
   "metadata": {},
   "source": [
    "\n",
    "## Finding the indices for `KFold`\n",
    "\n",
    "The class `KFold` allows us to generate the train and validation indicies for performing training and validation indicies with different parts of our data.\n"
   ]
  },
  {
   "cell_type": "code",
   "execution_count": 2,
   "metadata": {
    "ExecuteTime": {
     "end_time": "2020-01-10T13:10:03.435400Z",
     "start_time": "2020-01-10T13:10:02.691512Z"
    }
   },
   "outputs": [
    {
     "data": {
      "text/plain": [
       "(100, 4)"
      ]
     },
     "execution_count": 2,
     "metadata": {},
     "output_type": "execute_result"
    }
   ],
   "source": [
    "from sklearn.model_selection import KFold\n",
    "X = np.random.randn(100,4)\n",
    "X.shape"
   ]
  },
  {
   "cell_type": "code",
   "execution_count": 3,
   "metadata": {
    "ExecuteTime": {
     "end_time": "2020-01-10T13:10:03.453700Z",
     "start_time": "2020-01-10T13:10:03.439530Z"
    }
   },
   "outputs": [
    {
     "name": "stdout",
     "output_type": "stream",
     "text": [
      "0 [0 1 2 3 4 5 6 7 8 9]\n",
      "1 [10 11 12 13 14 15 16 17 18 19]\n",
      "2 [20 21 22 23 24 25 26 27 28 29]\n",
      "3 [30 31 32 33 34 35 36 37 38 39]\n",
      "4 [40 41 42 43 44 45 46 47 48 49]\n",
      "5 [50 51 52 53 54 55 56 57 58 59]\n",
      "6 [60 61 62 63 64 65 66 67 68 69]\n",
      "7 [70 71 72 73 74 75 76 77 78 79]\n",
      "8 [80 81 82 83 84 85 86 87 88 89]\n",
      "9 [90 91 92 93 94 95 96 97 98 99]\n"
     ]
    }
   ],
   "source": [
    "folds = KFold(10,shuffle=False)\n",
    "splits = folds.split(X)\n",
    "for fold, (tr_ind,va_ind) in enumerate(splits):\n",
    "    print(fold, va_ind)"
   ]
  },
  {
   "cell_type": "markdown",
   "metadata": {},
   "source": [
    "If shuffle is true then we sample all rows from our dataset randomly"
   ]
  },
  {
   "cell_type": "code",
   "execution_count": 4,
   "metadata": {
    "ExecuteTime": {
     "end_time": "2020-01-10T13:10:03.471601Z",
     "start_time": "2020-01-10T13:10:03.457816Z"
    },
    "scrolled": true
   },
   "outputs": [
    {
     "name": "stdout",
     "output_type": "stream",
     "text": [
      "[ 5 19 27 69 70 71 72 75 76 78]\n",
      "[ 0  3  7 22 26 29 63 73 74 90]\n",
      "[18 35 43 48 52 65 77 81 83 92]\n",
      "[ 8 11 13 24 34 36 39 57 84 97]\n",
      "[15 16 20 21 31 33 44 62 98 99]\n",
      "[ 9 10 45 47 53 58 60 87 93 96]\n",
      "[ 1  2 12 28 38 55 59 61 66 86]\n",
      "[14 42 49 50 51 54 64 80 88 95]\n",
      "[ 4  6 23 30 46 68 82 89 91 94]\n",
      "[17 25 32 37 40 41 56 67 79 85]\n"
     ]
    }
   ],
   "source": [
    "\n",
    "folds = KFold(10,shuffle=True)\n",
    "splits = folds.split(X)\n",
    "for tr_ind,va_ind in splits:\n",
    "    print(va_ind)"
   ]
  },
  {
   "cell_type": "markdown",
   "metadata": {},
   "source": [
    "##  `LeaveOneGroupOut`\n",
    "\n",
    "- Provides train/test indices to split data according to a third-party provided group. \n",
    "\n",
    "- This group information can be used to encode arbitrary domain specific stratifications of the samples as integers.\n",
    "\n",
    "\n",
    "Now let us load the boston dataset and make a group that we will call `not_24`\n"
   ]
  },
  {
   "cell_type": "code",
   "execution_count": 5,
   "metadata": {
    "ExecuteTime": {
     "end_time": "2020-01-10T13:10:03.540978Z",
     "start_time": "2020-01-10T13:10:03.475905Z"
    }
   },
   "outputs": [],
   "source": [
    "from sklearn import datasets\n",
    "dataset = sklearn.datasets.load_boston()"
   ]
  },
  {
   "cell_type": "code",
   "execution_count": 6,
   "metadata": {
    "ExecuteTime": {
     "end_time": "2020-01-10T13:10:03.551816Z",
     "start_time": "2020-01-10T13:10:03.546100Z"
    }
   },
   "outputs": [],
   "source": [
    "X = dataset.data\n",
    "y = dataset.target\n",
    "X_df = pd.DataFrame(X)"
   ]
  },
  {
   "cell_type": "code",
   "execution_count": 7,
   "metadata": {
    "ExecuteTime": {
     "end_time": "2020-01-10T13:10:03.593585Z",
     "start_time": "2020-01-10T13:10:03.555489Z"
    }
   },
   "outputs": [
    {
     "data": {
      "text/html": [
       "<div>\n",
       "<style scoped>\n",
       "    .dataframe tbody tr th:only-of-type {\n",
       "        vertical-align: middle;\n",
       "    }\n",
       "\n",
       "    .dataframe tbody tr th {\n",
       "        vertical-align: top;\n",
       "    }\n",
       "\n",
       "    .dataframe thead th {\n",
       "        text-align: right;\n",
       "    }\n",
       "</style>\n",
       "<table border=\"1\" class=\"dataframe\">\n",
       "  <thead>\n",
       "    <tr style=\"text-align: right;\">\n",
       "      <th></th>\n",
       "      <th>0</th>\n",
       "      <th>1</th>\n",
       "      <th>2</th>\n",
       "      <th>3</th>\n",
       "      <th>4</th>\n",
       "      <th>5</th>\n",
       "      <th>6</th>\n",
       "      <th>7</th>\n",
       "      <th>8</th>\n",
       "      <th>9</th>\n",
       "      <th>10</th>\n",
       "      <th>11</th>\n",
       "      <th>12</th>\n",
       "    </tr>\n",
       "  </thead>\n",
       "  <tbody>\n",
       "    <tr>\n",
       "      <th>0</th>\n",
       "      <td>0.00632</td>\n",
       "      <td>18.0</td>\n",
       "      <td>2.31</td>\n",
       "      <td>0.0</td>\n",
       "      <td>0.538</td>\n",
       "      <td>6.575</td>\n",
       "      <td>65.2</td>\n",
       "      <td>4.0900</td>\n",
       "      <td>1.0</td>\n",
       "      <td>296.0</td>\n",
       "      <td>15.3</td>\n",
       "      <td>396.90</td>\n",
       "      <td>4.98</td>\n",
       "    </tr>\n",
       "    <tr>\n",
       "      <th>1</th>\n",
       "      <td>0.02731</td>\n",
       "      <td>0.0</td>\n",
       "      <td>7.07</td>\n",
       "      <td>0.0</td>\n",
       "      <td>0.469</td>\n",
       "      <td>6.421</td>\n",
       "      <td>78.9</td>\n",
       "      <td>4.9671</td>\n",
       "      <td>2.0</td>\n",
       "      <td>242.0</td>\n",
       "      <td>17.8</td>\n",
       "      <td>396.90</td>\n",
       "      <td>9.14</td>\n",
       "    </tr>\n",
       "    <tr>\n",
       "      <th>2</th>\n",
       "      <td>0.02729</td>\n",
       "      <td>0.0</td>\n",
       "      <td>7.07</td>\n",
       "      <td>0.0</td>\n",
       "      <td>0.469</td>\n",
       "      <td>7.185</td>\n",
       "      <td>61.1</td>\n",
       "      <td>4.9671</td>\n",
       "      <td>2.0</td>\n",
       "      <td>242.0</td>\n",
       "      <td>17.8</td>\n",
       "      <td>392.83</td>\n",
       "      <td>4.03</td>\n",
       "    </tr>\n",
       "    <tr>\n",
       "      <th>3</th>\n",
       "      <td>0.03237</td>\n",
       "      <td>0.0</td>\n",
       "      <td>2.18</td>\n",
       "      <td>0.0</td>\n",
       "      <td>0.458</td>\n",
       "      <td>6.998</td>\n",
       "      <td>45.8</td>\n",
       "      <td>6.0622</td>\n",
       "      <td>3.0</td>\n",
       "      <td>222.0</td>\n",
       "      <td>18.7</td>\n",
       "      <td>394.63</td>\n",
       "      <td>2.94</td>\n",
       "    </tr>\n",
       "    <tr>\n",
       "      <th>4</th>\n",
       "      <td>0.06905</td>\n",
       "      <td>0.0</td>\n",
       "      <td>2.18</td>\n",
       "      <td>0.0</td>\n",
       "      <td>0.458</td>\n",
       "      <td>7.147</td>\n",
       "      <td>54.2</td>\n",
       "      <td>6.0622</td>\n",
       "      <td>3.0</td>\n",
       "      <td>222.0</td>\n",
       "      <td>18.7</td>\n",
       "      <td>396.90</td>\n",
       "      <td>5.33</td>\n",
       "    </tr>\n",
       "  </tbody>\n",
       "</table>\n",
       "</div>"
      ],
      "text/plain": [
       "         0     1     2    3      4      5     6       7    8      9    10  \\\n",
       "0  0.00632  18.0  2.31  0.0  0.538  6.575  65.2  4.0900  1.0  296.0  15.3   \n",
       "1  0.02731   0.0  7.07  0.0  0.469  6.421  78.9  4.9671  2.0  242.0  17.8   \n",
       "2  0.02729   0.0  7.07  0.0  0.469  7.185  61.1  4.9671  2.0  242.0  17.8   \n",
       "3  0.03237   0.0  2.18  0.0  0.458  6.998  45.8  6.0622  3.0  222.0  18.7   \n",
       "4  0.06905   0.0  2.18  0.0  0.458  7.147  54.2  6.0622  3.0  222.0  18.7   \n",
       "\n",
       "       11    12  \n",
       "0  396.90  4.98  \n",
       "1  396.90  9.14  \n",
       "2  392.83  4.03  \n",
       "3  394.63  2.94  \n",
       "4  396.90  5.33  "
      ]
     },
     "execution_count": 7,
     "metadata": {},
     "output_type": "execute_result"
    }
   ],
   "source": [
    "X_df.head()"
   ]
  },
  {
   "cell_type": "code",
   "execution_count": 8,
   "metadata": {
    "ExecuteTime": {
     "end_time": "2020-01-10T13:10:03.611015Z",
     "start_time": "2020-01-10T13:10:03.598724Z"
    }
   },
   "outputs": [
    {
     "data": {
      "text/plain": [
       "array([ 1.,  2.,  3.,  5.,  4.,  8.,  6.,  7., 24.])"
      ]
     },
     "execution_count": 8,
     "metadata": {},
     "output_type": "execute_result"
    }
   ],
   "source": [
    "X_df[8].unique()"
   ]
  },
  {
   "cell_type": "code",
   "execution_count": 9,
   "metadata": {
    "ExecuteTime": {
     "end_time": "2020-01-10T13:10:03.623626Z",
     "start_time": "2020-01-10T13:10:03.614919Z"
    }
   },
   "outputs": [
    {
     "data": {
      "text/plain": [
       "(506, 13)"
      ]
     },
     "execution_count": 9,
     "metadata": {},
     "output_type": "execute_result"
    }
   ],
   "source": [
    "X_df.shape"
   ]
  },
  {
   "cell_type": "markdown",
   "metadata": {},
   "source": [
    "Let us consider a case where we might want the train splits to be divided in two groups A and B\n",
    "\n",
    "- A: examples which at column 8 have values in `[1,  2,  3,  4,  5,  6,  7,  8]` \n",
    "- B: examples at which column 9 takes value  `24`.\n",
    "\n"
   ]
  },
  {
   "cell_type": "code",
   "execution_count": 10,
   "metadata": {
    "ExecuteTime": {
     "end_time": "2020-01-10T13:10:03.635746Z",
     "start_time": "2020-01-10T13:10:03.626606Z"
    }
   },
   "outputs": [],
   "source": [
    "not_24 = X_df[8] != 24\n",
    "not_24 = np.array(not_24.values, dtype=\"int\")"
   ]
  },
  {
   "cell_type": "code",
   "execution_count": 11,
   "metadata": {
    "ExecuteTime": {
     "end_time": "2020-01-10T13:10:04.199359Z",
     "start_time": "2020-01-10T13:10:04.189609Z"
    }
   },
   "outputs": [
    {
     "data": {
      "text/plain": [
       "((506, 13), (506,))"
      ]
     },
     "execution_count": 11,
     "metadata": {},
     "output_type": "execute_result"
    }
   ],
   "source": [
    "X.shape, not_24.shape"
   ]
  },
  {
   "cell_type": "code",
   "execution_count": 12,
   "metadata": {
    "ExecuteTime": {
     "end_time": "2020-01-10T13:10:04.318694Z",
     "start_time": "2020-01-10T13:10:04.307433Z"
    }
   },
   "outputs": [
    {
     "data": {
      "text/plain": [
       "array([1, 1, 1, 1, 1, 1, 1, 1, 1, 1, 1, 1, 1, 1, 1, 1, 1, 1, 1, 1, 1, 1,\n",
       "       1, 1, 1, 1, 1, 1, 1, 1, 1, 1, 1, 1, 1, 1, 1, 1, 1, 1, 1, 1, 1, 1,\n",
       "       1, 1, 1, 1, 1, 1, 1, 1, 1, 1, 1, 1, 1, 1, 1, 1, 1, 1, 1, 1, 1, 1,\n",
       "       1, 1, 1, 1, 1, 1, 1, 1, 1, 1, 1, 1, 1, 1, 1, 1, 1, 1, 1, 1, 1, 1,\n",
       "       1, 1, 1, 1, 1, 1, 1, 1, 1, 1, 1, 1, 1, 1, 1, 1, 1, 1, 1, 1, 1, 1,\n",
       "       1, 1, 1, 1, 1, 1, 1, 1, 1, 1, 1, 1, 1, 1, 1, 1, 1, 1, 1, 1, 1, 1,\n",
       "       1, 1, 1, 1, 1, 1, 1, 1, 1, 1, 1, 1, 1, 1, 1, 1, 1, 1, 1, 1, 1, 1,\n",
       "       1, 1, 1, 1, 1, 1, 1, 1, 1, 1, 1, 1, 1, 1, 1, 1, 1, 1, 1, 1, 1, 1,\n",
       "       1, 1, 1, 1, 1, 1, 1, 1, 1, 1, 1, 1, 1, 1, 1, 1, 1, 1, 1, 1, 1, 1,\n",
       "       1, 1, 1, 1, 1, 1, 1, 1, 1, 1, 1, 1, 1, 1, 1, 1, 1, 1, 1, 1, 1, 1,\n",
       "       1, 1, 1, 1, 1, 1, 1, 1, 1, 1, 1, 1, 1, 1, 1, 1, 1, 1, 1, 1, 1, 1,\n",
       "       1, 1, 1, 1, 1, 1, 1, 1, 1, 1, 1, 1, 1, 1, 1, 1, 1, 1, 1, 1, 1, 1,\n",
       "       1, 1, 1, 1, 1, 1, 1, 1, 1, 1, 1, 1, 1, 1, 1, 1, 1, 1, 1, 1, 1, 1,\n",
       "       1, 1, 1, 1, 1, 1, 1, 1, 1, 1, 1, 1, 1, 1, 1, 1, 1, 1, 1, 1, 1, 1,\n",
       "       1, 1, 1, 1, 1, 1, 1, 1, 1, 1, 1, 1, 1, 1, 1, 1, 1, 1, 1, 1, 1, 1,\n",
       "       1, 1, 1, 1, 1, 1, 1, 1, 1, 1, 1, 1, 1, 1, 1, 1, 1, 1, 1, 1, 1, 1,\n",
       "       1, 1, 1, 1, 0, 0, 0, 0, 0, 0, 0, 0, 0, 0, 0, 0, 0, 0, 0, 0, 0, 0,\n",
       "       0, 0, 0, 0, 0, 0, 0, 0, 0, 0, 0, 0, 0, 0, 0, 0, 0, 0, 0, 0, 0, 0,\n",
       "       0, 0, 0, 0, 0, 0, 0, 0, 0, 0, 0, 0, 0, 0, 0, 0, 0, 0, 0, 0, 0, 0,\n",
       "       0, 0, 0, 0, 0, 0, 0, 0, 0, 0, 0, 0, 0, 0, 0, 0, 0, 0, 0, 0, 0, 0,\n",
       "       0, 0, 0, 0, 0, 0, 0, 0, 0, 0, 0, 0, 0, 0, 0, 0, 0, 0, 0, 0, 0, 0,\n",
       "       0, 0, 0, 0, 0, 0, 0, 0, 0, 0, 0, 0, 0, 0, 0, 0, 0, 0, 0, 0, 0, 0,\n",
       "       0, 0, 0, 0, 1, 1, 1, 1, 1, 1, 1, 1, 1, 1, 1, 1, 1, 1, 1, 1, 1, 1])"
      ]
     },
     "execution_count": 12,
     "metadata": {},
     "output_type": "execute_result"
    }
   ],
   "source": [
    "not_24"
   ]
  },
  {
   "cell_type": "code",
   "execution_count": 13,
   "metadata": {
    "ExecuteTime": {
     "end_time": "2020-01-10T13:10:06.442590Z",
     "start_time": "2020-01-10T13:10:04.705333Z"
    }
   },
   "outputs": [
    {
     "data": {
      "text/plain": [
       "GridSearchCV(cv=LeaveOneGroupOut(), error_score='raise-deprecating',\n",
       "             estimator=LinearRegression(copy_X=True, fit_intercept=True,\n",
       "                                        n_jobs=None, normalize=False),\n",
       "             iid=True, n_jobs=-1, param_grid={}, pre_dispatch='2*n_jobs',\n",
       "             refit=True, return_train_score=True, scoring=None, verbose=0)"
      ]
     },
     "execution_count": 13,
     "metadata": {},
     "output_type": "execute_result"
    }
   ],
   "source": [
    "from sklearn import linear_model\n",
    "from sklearn import neural_network\n",
    "\n",
    "cv   = sklearn.model_selection.LeaveOneGroupOut()\n",
    "clf  = sklearn.linear_model.LinearRegression()\n",
    "grid = sklearn.model_selection.GridSearchCV(clf, \n",
    "                                            param_grid={},\n",
    "                                            cv=cv, \n",
    "                                            return_train_score=True, iid=True, n_jobs=-1)\n",
    "\n",
    "grid.fit(X,y, groups=not_24)"
   ]
  },
  {
   "cell_type": "code",
   "execution_count": 14,
   "metadata": {
    "ExecuteTime": {
     "end_time": "2020-01-10T13:10:06.454714Z",
     "start_time": "2020-01-10T13:10:06.445855Z"
    },
    "scrolled": true
   },
   "outputs": [
    {
     "data": {
      "text/plain": [
       "{'mean_fit_time': array([0.0500716]),\n",
       " 'std_fit_time': array([0.00098145]),\n",
       " 'mean_score_time': array([0.00226498]),\n",
       " 'std_score_time': array([5.00679016e-06]),\n",
       " 'params': [{}],\n",
       " 'split0_test_score': array([-6.59688586]),\n",
       " 'split1_test_score': array([-6.75857278e+19]),\n",
       " 'mean_test_score': array([-4.99546684e+19]),\n",
       " 'std_test_score': array([2.96774953e+19]),\n",
       " 'rank_test_score': array([1], dtype=int32),\n",
       " 'split0_train_score': array([0.86686183]),\n",
       " 'split1_train_score': array([0.68323554]),\n",
       " 'mean_train_score': array([0.77504868]),\n",
       " 'std_train_score': array([0.09181314])}"
      ]
     },
     "execution_count": 14,
     "metadata": {},
     "output_type": "execute_result"
    }
   ],
   "source": [
    "grid.cv_results_"
   ]
  },
  {
   "cell_type": "code",
   "execution_count": 15,
   "metadata": {
    "ExecuteTime": {
     "end_time": "2020-01-10T13:10:06.468418Z",
     "start_time": "2020-01-10T13:10:06.458698Z"
    }
   },
   "outputs": [
    {
     "data": {
      "text/plain": [
       "(array([0.86686183]), array([-6.75857278e+19]))"
      ]
     },
     "execution_count": 15,
     "metadata": {},
     "output_type": "execute_result"
    }
   ],
   "source": [
    "grid.cv_results_['split0_train_score'], grid.cv_results_['split1_test_score'] "
   ]
  },
  {
   "cell_type": "markdown",
   "metadata": {},
   "source": [
    "Notice that one of the errors (the one in split1) is huge. \n",
    "\n",
    "This happens because one of the experiments in the GridSearchCV will consist on taking the examples  from B as training set (and it is very small) and then use the values in A as validation set (which is very big).\n",
    "\n"
   ]
  },
  {
   "cell_type": "code",
   "execution_count": 16,
   "metadata": {
    "ExecuteTime": {
     "end_time": "2020-01-10T13:10:09.855561Z",
     "start_time": "2020-01-10T13:10:07.494745Z"
    },
    "scrolled": true
   },
   "outputs": [
    {
     "data": {
      "text/plain": [
       "GridSearchCV(cv=LeaveOneGroupOut(), error_score='raise-deprecating',\n",
       "             estimator=LinearRegression(copy_X=True, fit_intercept=True,\n",
       "                                        n_jobs=None, normalize=False),\n",
       "             iid=True, n_jobs=-1, param_grid={}, pre_dispatch='2*n_jobs',\n",
       "             refit=True, return_train_score=True, scoring=None, verbose=0)"
      ]
     },
     "execution_count": 16,
     "metadata": {},
     "output_type": "execute_result"
    }
   ],
   "source": [
    "from sklearn import linear_model\n",
    "from sklearn import neural_network\n",
    "\n",
    "cv   = sklearn.model_selection.LeaveOneGroupOut()\n",
    "clf  = sklearn.linear_model.LinearRegression()\n",
    "grid = sklearn.model_selection.GridSearchCV(clf, param_grid={}, cv=cv, \n",
    "                                            return_train_score=True, iid=True, n_jobs=-1)\n",
    "\n",
    "values_in_col8 = np.array(X_df[8].values, dtype=\"int\")\n",
    "\n",
    "grid.fit(X,y, groups=values_in_col8)"
   ]
  },
  {
   "cell_type": "code",
   "execution_count": 17,
   "metadata": {
    "ExecuteTime": {
     "end_time": "2020-01-10T13:10:09.872455Z",
     "start_time": "2020-01-10T13:10:09.858980Z"
    },
    "scrolled": false
   },
   "outputs": [
    {
     "data": {
      "text/plain": [
       "{'mean_fit_time': array([0.0049252]),\n",
       " 'std_fit_time': array([0.00366666]),\n",
       " 'mean_score_time': array([0.00155658]),\n",
       " 'std_score_time': array([0.00077298]),\n",
       " 'params': [{}],\n",
       " 'split0_test_score': array([0.70028178]),\n",
       " 'split1_test_score': array([0.77076574]),\n",
       " 'split2_test_score': array([0.64766753]),\n",
       " 'split3_test_score': array([0.70385404]),\n",
       " 'split4_test_score': array([0.64780526]),\n",
       " 'split5_test_score': array([-1.95031015]),\n",
       " 'split6_test_score': array([0.3699049]),\n",
       " 'split7_test_score': array([0.69561196]),\n",
       " 'split8_test_score': array([-6.59688586]),\n",
       " 'mean_test_score': array([-1.36260276]),\n",
       " 'std_test_score': array([3.16246777]),\n",
       " 'rank_test_score': array([1], dtype=int32),\n",
       " 'split0_train_score': array([0.74100996]),\n",
       " 'split1_train_score': array([0.73639286]),\n",
       " 'split2_train_score': array([0.7369053]),\n",
       " 'split3_train_score': array([0.73722303]),\n",
       " 'split4_train_score': array([0.71793616]),\n",
       " 'split5_train_score': array([0.74817225]),\n",
       " 'split6_train_score': array([0.74326855]),\n",
       " 'split7_train_score': array([0.73115118]),\n",
       " 'split8_train_score': array([0.86686183]),\n",
       " 'mean_train_score': array([0.75099123]),\n",
       " 'std_train_score': array([0.04174068])}"
      ]
     },
     "execution_count": 17,
     "metadata": {},
     "output_type": "execute_result"
    }
   ],
   "source": [
    "grid.cv_results_"
   ]
  },
  {
   "cell_type": "markdown",
   "metadata": {},
   "source": [
    "# Training models in crosvalidation using GridsearchCV"
   ]
  },
  {
   "cell_type": "code",
   "execution_count": 18,
   "metadata": {
    "ExecuteTime": {
     "end_time": "2020-01-10T13:10:09.882258Z",
     "start_time": "2020-01-10T13:10:09.877025Z"
    }
   },
   "outputs": [],
   "source": [
    "from sklearn.model_selection import GridSearchCV\n",
    "from sklearn import datasets\n",
    "from sklearn.datasets import *"
   ]
  },
  {
   "cell_type": "code",
   "execution_count": 19,
   "metadata": {
    "ExecuteTime": {
     "end_time": "2020-01-10T13:10:10.049823Z",
     "start_time": "2020-01-10T13:10:09.885529Z"
    }
   },
   "outputs": [],
   "source": [
    "dataset = sklearn.datasets.california_housing.fetch_california_housing()"
   ]
  },
  {
   "cell_type": "code",
   "execution_count": 20,
   "metadata": {
    "ExecuteTime": {
     "end_time": "2020-01-10T13:10:10.060918Z",
     "start_time": "2020-01-10T13:10:10.052716Z"
    }
   },
   "outputs": [
    {
     "data": {
      "text/plain": [
       "((20640, 8), (20640,))"
      ]
     },
     "execution_count": 20,
     "metadata": {},
     "output_type": "execute_result"
    }
   ],
   "source": [
    "X = dataset.data\n",
    "y = dataset.target\n",
    "\n",
    "X.shape, y.shape"
   ]
  },
  {
   "cell_type": "code",
   "execution_count": 21,
   "metadata": {
    "ExecuteTime": {
     "end_time": "2020-01-10T13:10:10.077256Z",
     "start_time": "2020-01-10T13:10:10.063810Z"
    }
   },
   "outputs": [
    {
     "data": {
      "text/plain": [
       "((15480, 8), (15480,), (5160, 8), (5160,))"
      ]
     },
     "execution_count": 21,
     "metadata": {},
     "output_type": "execute_result"
    }
   ],
   "source": [
    "X_tr, X_te, y_tr, y_te = sklearn.model_selection.train_test_split(X,y, random_state=1234)\n",
    "\n",
    "X_tr.shape, y_tr.shape, X_te.shape, y_te.shape"
   ]
  },
  {
   "cell_type": "code",
   "execution_count": 22,
   "metadata": {
    "ExecuteTime": {
     "end_time": "2020-01-10T13:10:10.236733Z",
     "start_time": "2020-01-10T13:10:10.080531Z"
    }
   },
   "outputs": [],
   "source": [
    "from sklearn import ensemble\n",
    "from sklearn.ensemble import *\n",
    "\n",
    "rf = sklearn.ensemble.RandomForestRegressor()\n",
    "\n",
    "param_grid = {\"max_depth\":[5,None,10], \"max_features\":[\"auto\",0.5]}"
   ]
  },
  {
   "cell_type": "code",
   "execution_count": 23,
   "metadata": {
    "ExecuteTime": {
     "end_time": "2020-01-10T13:10:10.261051Z",
     "start_time": "2020-01-10T13:10:10.255511Z"
    }
   },
   "outputs": [],
   "source": [
    "rf_grid = sklearn.model_selection.GridSearchCV(rf, \n",
    "                                               param_grid=param_grid,\n",
    "                                               cv=4,\n",
    "                                               n_jobs=-1)"
   ]
  },
  {
   "cell_type": "code",
   "execution_count": 24,
   "metadata": {
    "ExecuteTime": {
     "end_time": "2020-01-10T13:10:18.390765Z",
     "start_time": "2020-01-10T13:10:10.837367Z"
    }
   },
   "outputs": [
    {
     "name": "stderr",
     "output_type": "stream",
     "text": [
      "/Users/david/anaconda3/lib/python3.7/site-packages/sklearn/ensemble/forest.py:245: FutureWarning: The default value of n_estimators will change from 10 in version 0.20 to 100 in 0.22.\n",
      "  \"10 in version 0.20 to 100 in 0.22.\", FutureWarning)\n"
     ]
    },
    {
     "data": {
      "text/plain": [
       "GridSearchCV(cv=4, error_score='raise-deprecating',\n",
       "             estimator=RandomForestRegressor(bootstrap=True, criterion='mse',\n",
       "                                             max_depth=None,\n",
       "                                             max_features='auto',\n",
       "                                             max_leaf_nodes=None,\n",
       "                                             min_impurity_decrease=0.0,\n",
       "                                             min_impurity_split=None,\n",
       "                                             min_samples_leaf=1,\n",
       "                                             min_samples_split=2,\n",
       "                                             min_weight_fraction_leaf=0.0,\n",
       "                                             n_estimators='warn', n_jobs=None,\n",
       "                                             oob_score=False, random_state=None,\n",
       "                                             verbose=0, warm_start=False),\n",
       "             iid='warn', n_jobs=-1,\n",
       "             param_grid={'max_depth': [5, None, 10],\n",
       "                         'max_features': ['auto', 0.5]},\n",
       "             pre_dispatch='2*n_jobs', refit=True, return_train_score=False,\n",
       "             scoring=None, verbose=0)"
      ]
     },
     "execution_count": 24,
     "metadata": {},
     "output_type": "execute_result"
    }
   ],
   "source": [
    "rf_grid.fit(X_tr, y_tr)"
   ]
  },
  {
   "cell_type": "code",
   "execution_count": 25,
   "metadata": {
    "ExecuteTime": {
     "end_time": "2020-01-10T13:10:18.404167Z",
     "start_time": "2020-01-10T13:10:18.394382Z"
    }
   },
   "outputs": [
    {
     "data": {
      "text/plain": [
       "RandomForestRegressor(bootstrap=True, criterion='mse', max_depth=None,\n",
       "                      max_features=0.5, max_leaf_nodes=None,\n",
       "                      min_impurity_decrease=0.0, min_impurity_split=None,\n",
       "                      min_samples_leaf=1, min_samples_split=2,\n",
       "                      min_weight_fraction_leaf=0.0, n_estimators=10,\n",
       "                      n_jobs=None, oob_score=False, random_state=None,\n",
       "                      verbose=0, warm_start=False)"
      ]
     },
     "execution_count": 25,
     "metadata": {},
     "output_type": "execute_result"
    }
   ],
   "source": [
    "rf_grid.best_estimator_"
   ]
  },
  {
   "cell_type": "markdown",
   "metadata": {},
   "source": [
    "## Saved metrics in a `GridSearchCV` object\n",
    "\n",
    "After fitting a `GridsearchCV` object we can inspect the information saved during crossvalidation inside the field `.cv_results_`."
   ]
  },
  {
   "cell_type": "code",
   "execution_count": 26,
   "metadata": {
    "ExecuteTime": {
     "end_time": "2020-01-10T13:10:18.418368Z",
     "start_time": "2020-01-10T13:10:18.409058Z"
    }
   },
   "outputs": [
    {
     "data": {
      "text/plain": [
       "['mean_fit_time',\n",
       " 'std_fit_time',\n",
       " 'mean_score_time',\n",
       " 'std_score_time',\n",
       " 'param_max_depth',\n",
       " 'param_max_features',\n",
       " 'params',\n",
       " 'split0_test_score',\n",
       " 'split1_test_score',\n",
       " 'split2_test_score',\n",
       " 'split3_test_score',\n",
       " 'mean_test_score',\n",
       " 'std_test_score',\n",
       " 'rank_test_score']"
      ]
     },
     "execution_count": 26,
     "metadata": {},
     "output_type": "execute_result"
    }
   ],
   "source": [
    "list(rf_grid.cv_results_.keys())"
   ]
  },
  {
   "cell_type": "markdown",
   "metadata": {},
   "source": [
    "###  Configurations of  Hyperparameters tested\n",
    "\n",
    "All the combinations of parameters tested are kept in `'params'`"
   ]
  },
  {
   "cell_type": "code",
   "execution_count": 27,
   "metadata": {
    "ExecuteTime": {
     "end_time": "2020-01-10T13:10:21.823805Z",
     "start_time": "2020-01-10T13:10:21.814517Z"
    }
   },
   "outputs": [
    {
     "data": {
      "text/plain": [
       "[{'max_depth': 5, 'max_features': 'auto'},\n",
       " {'max_depth': 5, 'max_features': 0.5},\n",
       " {'max_depth': None, 'max_features': 'auto'},\n",
       " {'max_depth': None, 'max_features': 0.5},\n",
       " {'max_depth': 10, 'max_features': 'auto'},\n",
       " {'max_depth': 10, 'max_features': 0.5}]"
      ]
     },
     "execution_count": 27,
     "metadata": {},
     "output_type": "execute_result"
    }
   ],
   "source": [
    "rf_grid.cv_results_[\"params\"]"
   ]
  },
  {
   "cell_type": "markdown",
   "metadata": {},
   "source": [
    "The different scores for each of the CV splits are found in `splitsK_test_score`.\n",
    "\n",
    "In this case we have 4 arrays because we used `cv=4` when we instanciated `rf_grid`.\n",
    "\n",
    "```\n",
    "'split0_test_score'\n",
    "'split1_test_score'\n",
    "'split2_test_score'\n",
    "'split3_test_score'\n",
    " ```\n",
    " \n",
    " Each array contains  possition `k` the test results of the k'th combination of hyperparameters."
   ]
  },
  {
   "cell_type": "code",
   "execution_count": 28,
   "metadata": {
    "ExecuteTime": {
     "end_time": "2020-01-10T13:10:23.033708Z",
     "start_time": "2020-01-10T13:10:23.027608Z"
    }
   },
   "outputs": [
    {
     "data": {
      "text/plain": [
       "4"
      ]
     },
     "execution_count": 28,
     "metadata": {},
     "output_type": "execute_result"
    }
   ],
   "source": [
    "rf_grid.n_splits_"
   ]
  },
  {
   "cell_type": "code",
   "execution_count": 29,
   "metadata": {
    "ExecuteTime": {
     "end_time": "2020-01-10T13:10:23.250432Z",
     "start_time": "2020-01-10T13:10:23.239016Z"
    }
   },
   "outputs": [
    {
     "data": {
      "text/plain": [
       "[array([0.67252297, 0.69078351, 0.7875498 , 0.79336746, 0.76635207,\n",
       "        0.77253906]),\n",
       " array([0.65211501, 0.64603259, 0.77528091, 0.78702763, 0.75597663,\n",
       "        0.77191017]),\n",
       " array([0.65956146, 0.66037908, 0.77395936, 0.78176884, 0.76153541,\n",
       "        0.76974942]),\n",
       " array([0.65125066, 0.66191977, 0.78400208, 0.79228301, 0.77446017,\n",
       "        0.77307928])]"
      ]
     },
     "execution_count": 29,
     "metadata": {},
     "output_type": "execute_result"
    }
   ],
   "source": [
    "all_scores = [rf_grid.cv_results_[f\"split{i}_test_score\" ] for i in range(4)]\n",
    "all_scores"
   ]
  },
  {
   "cell_type": "code",
   "execution_count": 30,
   "metadata": {
    "ExecuteTime": {
     "end_time": "2020-01-10T13:10:23.531535Z",
     "start_time": "2020-01-10T13:10:23.525774Z"
    }
   },
   "outputs": [
    {
     "data": {
      "text/plain": [
       "0.7886117316641134"
      ]
     },
     "execution_count": 30,
     "metadata": {},
     "output_type": "execute_result"
    }
   ],
   "source": [
    "rf_grid.best_score_"
   ]
  },
  {
   "cell_type": "markdown",
   "metadata": {},
   "source": [
    "Notice that `rf_grid.best_score_` is different than `np.max(all_scores)`.\n",
    "\n",
    "The best score is found using the mean value of the crossvalidation scores.\n",
    "\n",
    "Therefore `rf_grid.best_score_= np.max(rf_grid.cv_results_[\"mean_test_score\"])`"
   ]
  },
  {
   "cell_type": "code",
   "execution_count": 31,
   "metadata": {
    "ExecuteTime": {
     "end_time": "2020-01-10T13:10:46.032343Z",
     "start_time": "2020-01-10T13:10:46.023911Z"
    }
   },
   "outputs": [
    {
     "data": {
      "text/plain": [
       "(0.7886117316641134, 0.7886117316641134)"
      ]
     },
     "execution_count": 31,
     "metadata": {},
     "output_type": "execute_result"
    }
   ],
   "source": [
    "np.max(rf_grid.cv_results_[\"mean_test_score\"]), rf_grid.best_score_"
   ]
  },
  {
   "cell_type": "code",
   "execution_count": 32,
   "metadata": {
    "ExecuteTime": {
     "end_time": "2020-01-10T13:10:46.178253Z",
     "start_time": "2020-01-10T13:10:46.172848Z"
    }
   },
   "outputs": [
    {
     "data": {
      "text/plain": [
       "array([0.65886253, 0.66477874, 0.78019804, 0.78861173, 0.76458107,\n",
       "       0.77181948])"
      ]
     },
     "execution_count": 32,
     "metadata": {},
     "output_type": "execute_result"
    }
   ],
   "source": [
    "rf_grid.cv_results_[\"mean_test_score\"]"
   ]
  },
  {
   "cell_type": "markdown",
   "metadata": {},
   "source": [
    "Notice that we can compute `mean_test_score` simpy computing the mean\n",
    "over the different results in the different splits of the crossvalidation process."
   ]
  },
  {
   "cell_type": "code",
   "execution_count": 33,
   "metadata": {
    "ExecuteTime": {
     "end_time": "2020-01-10T13:10:47.551913Z",
     "start_time": "2020-01-10T13:10:47.544872Z"
    }
   },
   "outputs": [
    {
     "data": {
      "text/plain": [
       "array([0.65886253, 0.66477874, 0.78019804, 0.78861173, 0.76458107,\n",
       "       0.77181948])"
      ]
     },
     "execution_count": 33,
     "metadata": {},
     "output_type": "execute_result"
    }
   ],
   "source": [
    "np.array(all_scores).mean(axis=0)"
   ]
  },
  {
   "cell_type": "markdown",
   "metadata": {},
   "source": [
    "# Generating all possible combinations of hyperparameters"
   ]
  },
  {
   "cell_type": "code",
   "execution_count": 34,
   "metadata": {
    "ExecuteTime": {
     "end_time": "2020-01-10T13:10:47.972810Z",
     "start_time": "2020-01-10T13:10:47.969178Z"
    }
   },
   "outputs": [],
   "source": [
    "from itertools import product"
   ]
  },
  {
   "cell_type": "code",
   "execution_count": 35,
   "metadata": {
    "ExecuteTime": {
     "end_time": "2020-01-10T13:10:48.242203Z",
     "start_time": "2020-01-10T13:10:48.235907Z"
    }
   },
   "outputs": [
    {
     "data": {
      "text/plain": [
       "{'max_depth': [5, None, 10], 'max_features': ['auto', 0.5]}"
      ]
     },
     "execution_count": 35,
     "metadata": {},
     "output_type": "execute_result"
    }
   ],
   "source": [
    "param_grid"
   ]
  },
  {
   "cell_type": "markdown",
   "metadata": {},
   "source": [
    "The function product can take as input several iterators and it will generate\n",
    "all the combinations of the values in the iterators"
   ]
  },
  {
   "cell_type": "code",
   "execution_count": 36,
   "metadata": {
    "ExecuteTime": {
     "end_time": "2020-01-10T13:10:50.016240Z",
     "start_time": "2020-01-10T13:10:50.008236Z"
    }
   },
   "outputs": [
    {
     "data": {
      "text/plain": [
       "[('a', 1), ('a', 2), ('b', 1), ('b', 2), ('c', 1), ('c', 2)]"
      ]
     },
     "execution_count": 36,
     "metadata": {},
     "output_type": "execute_result"
    }
   ],
   "source": [
    "[x for x in product([\"a\",\"b\",\"c\"],[1,2])]"
   ]
  },
  {
   "cell_type": "markdown",
   "metadata": {},
   "source": [
    "We can use it to generate the combinations of different hyperparamaters"
   ]
  },
  {
   "cell_type": "code",
   "execution_count": 37,
   "metadata": {
    "ExecuteTime": {
     "end_time": "2020-01-10T13:10:51.051568Z",
     "start_time": "2020-01-10T13:10:51.044626Z"
    },
    "scrolled": true
   },
   "outputs": [
    {
     "data": {
      "text/plain": [
       "[(5, 'auto'), (5, 0.5), (None, 'auto'), (None, 0.5), (10, 'auto'), (10, 0.5)]"
      ]
     },
     "execution_count": 37,
     "metadata": {},
     "output_type": "execute_result"
    }
   ],
   "source": [
    "[x for x in product(param_grid[\"max_depth\"], param_grid[\"max_features\"])]"
   ]
  },
  {
   "cell_type": "markdown",
   "metadata": {},
   "source": [
    "the `*` notation allows us to generate a correctly formated input for `product`"
   ]
  },
  {
   "cell_type": "code",
   "execution_count": 38,
   "metadata": {
    "ExecuteTime": {
     "end_time": "2020-01-10T13:10:51.751647Z",
     "start_time": "2020-01-10T13:10:51.744770Z"
    }
   },
   "outputs": [
    {
     "data": {
      "text/plain": [
       "[(5, 'auto'), (5, 0.5), (None, 'auto'), (None, 0.5), (10, 'auto'), (10, 0.5)]"
      ]
     },
     "execution_count": 38,
     "metadata": {},
     "output_type": "execute_result"
    }
   ],
   "source": [
    "combination_params_values = [x for x in product(*param_grid.values())]\n",
    "combination_params_values"
   ]
  },
  {
   "cell_type": "markdown",
   "metadata": {},
   "source": [
    "Notice that we can then write the name of the param for each component"
   ]
  },
  {
   "cell_type": "code",
   "execution_count": 39,
   "metadata": {
    "ExecuteTime": {
     "end_time": "2020-01-10T13:10:51.976488Z",
     "start_time": "2020-01-10T13:10:51.968277Z"
    }
   },
   "outputs": [
    {
     "name": "stdout",
     "output_type": "stream",
     "text": [
      "{'max_depth': 5, 'max_features': 'auto'}\n",
      "{'max_depth': 5, 'max_features': 0.5}\n",
      "{'max_depth': None, 'max_features': 'auto'}\n",
      "{'max_depth': None, 'max_features': 0.5}\n",
      "{'max_depth': 10, 'max_features': 'auto'}\n",
      "{'max_depth': 10, 'max_features': 0.5}\n"
     ]
    }
   ],
   "source": [
    "params_keys = list(param_grid.keys())\n",
    "\n",
    "for values in combination_params_values:\n",
    "    print(dict(zip(param_grid.keys(),values)))"
   ]
  },
  {
   "cell_type": "markdown",
   "metadata": {},
   "source": [
    "We can do all this in a single function that will generate the list with the combinations we want to explore given an space of hyperparameter values."
   ]
  },
  {
   "cell_type": "code",
   "execution_count": 40,
   "metadata": {
    "ExecuteTime": {
     "end_time": "2020-01-10T13:10:53.940679Z",
     "start_time": "2020-01-10T13:10:53.934613Z"
    }
   },
   "outputs": [],
   "source": [
    "def generate_params(param_grid):\n",
    "    combination_params_values = [x for x in product(*param_grid.values())]\n",
    "    params = []\n",
    "    for values in combination_params_values:\n",
    "        params.append(dict(zip(param_grid.keys(),values)))\n",
    "    return params"
   ]
  },
  {
   "cell_type": "code",
   "execution_count": 41,
   "metadata": {
    "ExecuteTime": {
     "end_time": "2020-01-10T13:10:54.145996Z",
     "start_time": "2020-01-10T13:10:54.139783Z"
    }
   },
   "outputs": [
    {
     "data": {
      "text/plain": [
       "[{'max_depth': 5, 'max_features': 'auto'},\n",
       " {'max_depth': 5, 'max_features': 0.5},\n",
       " {'max_depth': None, 'max_features': 'auto'},\n",
       " {'max_depth': None, 'max_features': 0.5},\n",
       " {'max_depth': 10, 'max_features': 'auto'},\n",
       " {'max_depth': 10, 'max_features': 0.5}]"
      ]
     },
     "execution_count": 41,
     "metadata": {},
     "output_type": "execute_result"
    }
   ],
   "source": [
    "generate_params(param_grid)"
   ]
  },
  {
   "cell_type": "markdown",
   "metadata": {},
   "source": [
    "Notice that this is the same as "
   ]
  },
  {
   "cell_type": "code",
   "execution_count": 42,
   "metadata": {
    "ExecuteTime": {
     "end_time": "2020-01-10T13:10:55.159353Z",
     "start_time": "2020-01-10T13:10:55.151124Z"
    },
    "scrolled": true
   },
   "outputs": [
    {
     "data": {
      "text/plain": [
       "[{'max_depth': 5, 'max_features': 'auto'},\n",
       " {'max_depth': 5, 'max_features': 0.5},\n",
       " {'max_depth': None, 'max_features': 'auto'},\n",
       " {'max_depth': None, 'max_features': 0.5},\n",
       " {'max_depth': 10, 'max_features': 'auto'},\n",
       " {'max_depth': 10, 'max_features': 0.5}]"
      ]
     },
     "execution_count": 42,
     "metadata": {},
     "output_type": "execute_result"
    }
   ],
   "source": [
    "rf_grid.cv_results_[\"params\"]"
   ]
  },
  {
   "cell_type": "markdown",
   "metadata": {},
   "source": [
    "## Ranking results of the crossvalidation process"
   ]
  },
  {
   "cell_type": "markdown",
   "metadata": {},
   "source": [
    "All combinations of hyperparameters are stored in **`.cv_results_[\"params\"]`**\n",
    "\n",
    "We can visuallize in a single dataframe the differnet pa"
   ]
  },
  {
   "cell_type": "code",
   "execution_count": 43,
   "metadata": {
    "ExecuteTime": {
     "end_time": "2020-01-10T13:10:56.247874Z",
     "start_time": "2020-01-10T13:10:56.239008Z"
    }
   },
   "outputs": [],
   "source": [
    "results = pd.DataFrame({\"params\": rf_grid.cv_results_[\"params\"], \n",
    "                        \"std_test_score\": rf_grid.cv_results_[\"std_test_score\"],\n",
    "                        \"mean_test_score\": rf_grid.cv_results_[\"mean_test_score\"],\n",
    "                       })"
   ]
  },
  {
   "cell_type": "code",
   "execution_count": 44,
   "metadata": {
    "ExecuteTime": {
     "end_time": "2020-01-10T13:10:56.463538Z",
     "start_time": "2020-01-10T13:10:56.439507Z"
    }
   },
   "outputs": [
    {
     "data": {
      "text/html": [
       "<div>\n",
       "<style scoped>\n",
       "    .dataframe tbody tr th:only-of-type {\n",
       "        vertical-align: middle;\n",
       "    }\n",
       "\n",
       "    .dataframe tbody tr th {\n",
       "        vertical-align: top;\n",
       "    }\n",
       "\n",
       "    .dataframe thead th {\n",
       "        text-align: right;\n",
       "    }\n",
       "</style>\n",
       "<table border=\"1\" class=\"dataframe\">\n",
       "  <thead>\n",
       "    <tr style=\"text-align: right;\">\n",
       "      <th></th>\n",
       "      <th>params</th>\n",
       "      <th>std_test_score</th>\n",
       "      <th>mean_test_score</th>\n",
       "    </tr>\n",
       "  </thead>\n",
       "  <tbody>\n",
       "    <tr>\n",
       "      <th>3</th>\n",
       "      <td>{'max_depth': None, 'max_features': 0.5}</td>\n",
       "      <td>0.004621</td>\n",
       "      <td>0.788612</td>\n",
       "    </tr>\n",
       "    <tr>\n",
       "      <th>2</th>\n",
       "      <td>{'max_depth': None, 'max_features': 'auto'}</td>\n",
       "      <td>0.005736</td>\n",
       "      <td>0.780198</td>\n",
       "    </tr>\n",
       "    <tr>\n",
       "      <th>5</th>\n",
       "      <td>{'max_depth': 10, 'max_features': 0.5}</td>\n",
       "      <td>0.001265</td>\n",
       "      <td>0.771819</td>\n",
       "    </tr>\n",
       "    <tr>\n",
       "      <th>4</th>\n",
       "      <td>{'max_depth': 10, 'max_features': 'auto'}</td>\n",
       "      <td>0.006783</td>\n",
       "      <td>0.764581</td>\n",
       "    </tr>\n",
       "    <tr>\n",
       "      <th>1</th>\n",
       "      <td>{'max_depth': 5, 'max_features': 0.5}</td>\n",
       "      <td>0.016242</td>\n",
       "      <td>0.664779</td>\n",
       "    </tr>\n",
       "    <tr>\n",
       "      <th>0</th>\n",
       "      <td>{'max_depth': 5, 'max_features': 'auto'}</td>\n",
       "      <td>0.008523</td>\n",
       "      <td>0.658863</td>\n",
       "    </tr>\n",
       "  </tbody>\n",
       "</table>\n",
       "</div>"
      ],
      "text/plain": [
       "                                        params  std_test_score  \\\n",
       "3     {'max_depth': None, 'max_features': 0.5}        0.004621   \n",
       "2  {'max_depth': None, 'max_features': 'auto'}        0.005736   \n",
       "5       {'max_depth': 10, 'max_features': 0.5}        0.001265   \n",
       "4    {'max_depth': 10, 'max_features': 'auto'}        0.006783   \n",
       "1        {'max_depth': 5, 'max_features': 0.5}        0.016242   \n",
       "0     {'max_depth': 5, 'max_features': 'auto'}        0.008523   \n",
       "\n",
       "   mean_test_score  \n",
       "3         0.788612  \n",
       "2         0.780198  \n",
       "5         0.771819  \n",
       "4         0.764581  \n",
       "1         0.664779  \n",
       "0         0.658863  "
      ]
     },
     "execution_count": 44,
     "metadata": {},
     "output_type": "execute_result"
    }
   ],
   "source": [
    "results = results.sort_values(by=[\"mean_test_score\"], ascending=False)\n",
    "results"
   ]
  },
  {
   "cell_type": "markdown",
   "metadata": {},
   "source": [
    "We can also see the order (rank) of each parameter configuration in **`.cv_results_[\"rank_test_score\"]`**."
   ]
  },
  {
   "cell_type": "code",
   "execution_count": 45,
   "metadata": {
    "ExecuteTime": {
     "end_time": "2020-01-10T13:10:57.059050Z",
     "start_time": "2020-01-10T13:10:57.050035Z"
    }
   },
   "outputs": [
    {
     "data": {
      "text/plain": [
       "array([6, 5, 2, 1, 4, 3], dtype=int32)"
      ]
     },
     "execution_count": 45,
     "metadata": {},
     "output_type": "execute_result"
    }
   ],
   "source": [
    "rank_test_score = rf_grid.cv_results_[\"rank_test_score\"]\n",
    "rank_test_score"
   ]
  },
  {
   "cell_type": "markdown",
   "metadata": {},
   "source": [
    "Notice that **results of the grid search are sorted by `rf_grid.cv_results_[\"rank_test_score\"]`.**"
   ]
  },
  {
   "cell_type": "code",
   "execution_count": 46,
   "metadata": {
    "ExecuteTime": {
     "end_time": "2020-01-10T13:10:57.265501Z",
     "start_time": "2020-01-10T13:10:57.256418Z"
    }
   },
   "outputs": [
    {
     "data": {
      "text/plain": [
       "[{'max_depth': 10, 'max_features': 0.5},\n",
       " {'max_depth': 10, 'max_features': 'auto'},\n",
       " {'max_depth': 5, 'max_features': 0.5},\n",
       " {'max_depth': 5, 'max_features': 'auto'},\n",
       " {'max_depth': None, 'max_features': 0.5},\n",
       " {'max_depth': None, 'max_features': 'auto'}]"
      ]
     },
     "execution_count": 46,
     "metadata": {},
     "output_type": "execute_result"
    }
   ],
   "source": [
    "[rf_grid.cv_results_[\"params\"][k-1] for k in rank_test_score]"
   ]
  },
  {
   "cell_type": "markdown",
   "metadata": {},
   "source": [
    "##### Ranking the results of crossvalidation: 1:best result, 2:second best result etc..."
   ]
  },
  {
   "cell_type": "markdown",
   "metadata": {},
   "source": [
    "We can find in `rank_test_score` a ranking of the best (1) to the worst (6) results"
   ]
  },
  {
   "cell_type": "code",
   "execution_count": 47,
   "metadata": {
    "ExecuteTime": {
     "end_time": "2020-01-10T13:10:57.979483Z",
     "start_time": "2020-01-10T13:10:57.973704Z"
    }
   },
   "outputs": [
    {
     "data": {
      "text/plain": [
       "array([6, 5, 2, 1, 4, 3], dtype=int32)"
      ]
     },
     "execution_count": 47,
     "metadata": {},
     "output_type": "execute_result"
    }
   ],
   "source": [
    "rf_grid.cv_results_[\"rank_test_score\"]"
   ]
  },
  {
   "cell_type": "markdown",
   "metadata": {},
   "source": [
    "We can generate this vector using `scipy.stats.rankdata` in order to rank the solutions according to `mean_test_score`"
   ]
  },
  {
   "cell_type": "code",
   "execution_count": 48,
   "metadata": {
    "ExecuteTime": {
     "end_time": "2020-01-10T13:10:58.585383Z",
     "start_time": "2020-01-10T13:10:58.570740Z"
    }
   },
   "outputs": [
    {
     "data": {
      "text/plain": [
       "array([6, 5, 2, 1, 4, 3])"
      ]
     },
     "execution_count": 48,
     "metadata": {},
     "output_type": "execute_result"
    }
   ],
   "source": [
    "import scipy\n",
    "rank = scipy.stats.rankdata(-rf_grid.cv_results_[\"mean_test_score\"],method='ordinal')\n",
    "rank"
   ]
  },
  {
   "cell_type": "markdown",
   "metadata": {},
   "source": [
    "## Creating your own `GridSearchCV` "
   ]
  },
  {
   "cell_type": "code",
   "execution_count": 49,
   "metadata": {
    "ExecuteTime": {
     "end_time": "2020-01-10T13:10:59.253022Z",
     "start_time": "2020-01-10T13:10:59.247400Z"
    }
   },
   "outputs": [],
   "source": [
    "param_grid = {\"max_depth\":[5,None,10], \"max_features\":[\"auto\",0.5]}"
   ]
  },
  {
   "cell_type": "code",
   "execution_count": 50,
   "metadata": {
    "ExecuteTime": {
     "end_time": "2020-01-10T13:10:59.480703Z",
     "start_time": "2020-01-10T13:10:59.473358Z"
    }
   },
   "outputs": [
    {
     "data": {
      "text/plain": [
       "[{'max_depth': 5, 'max_features': 'auto'},\n",
       " {'max_depth': 5, 'max_features': 0.5},\n",
       " {'max_depth': None, 'max_features': 'auto'},\n",
       " {'max_depth': None, 'max_features': 0.5},\n",
       " {'max_depth': 10, 'max_features': 'auto'},\n",
       " {'max_depth': 10, 'max_features': 0.5}]"
      ]
     },
     "execution_count": 50,
     "metadata": {},
     "output_type": "execute_result"
    }
   ],
   "source": [
    "generate_params(param_grid)"
   ]
  },
  {
   "cell_type": "code",
   "execution_count": 51,
   "metadata": {
    "ExecuteTime": {
     "end_time": "2020-01-10T13:10:59.673035Z",
     "start_time": "2020-01-10T13:10:59.665932Z"
    }
   },
   "outputs": [],
   "source": [
    "rf = sklearn.ensemble.RandomForestRegressor()"
   ]
  },
  {
   "cell_type": "markdown",
   "metadata": {},
   "source": [
    "### Training using crosvalidation a given model\n",
    "\n",
    "We want to have code that can train for each combination in `param_grid` we would like to train `cv` models and save the scores\n",
    "of the different fitted models."
   ]
  },
  {
   "cell_type": "code",
   "execution_count": 52,
   "metadata": {
    "ExecuteTime": {
     "end_time": "2020-01-10T13:11:00.183592Z",
     "start_time": "2020-01-10T13:11:00.173660Z"
    },
    "scrolled": true
   },
   "outputs": [
    {
     "data": {
      "text/plain": [
       "{'max_depth': [5, None, 10], 'max_features': ['auto', 0.5]}"
      ]
     },
     "execution_count": 52,
     "metadata": {},
     "output_type": "execute_result"
    }
   ],
   "source": [
    "param_grid"
   ]
  },
  {
   "cell_type": "code",
   "execution_count": 53,
   "metadata": {
    "ExecuteTime": {
     "end_time": "2020-01-10T13:11:00.459414Z",
     "start_time": "2020-01-10T13:11:00.450531Z"
    }
   },
   "outputs": [
    {
     "data": {
      "text/plain": [
       "RandomForestRegressor(bootstrap=True, criterion='mse', max_depth=None,\n",
       "                      max_features='auto', max_leaf_nodes=None,\n",
       "                      min_impurity_decrease=0.0, min_impurity_split=None,\n",
       "                      min_samples_leaf=1, min_samples_split=2,\n",
       "                      min_weight_fraction_leaf=0.0, n_estimators='warn',\n",
       "                      n_jobs=None, oob_score=False, random_state=None,\n",
       "                      verbose=0, warm_start=False)"
      ]
     },
     "execution_count": 53,
     "metadata": {},
     "output_type": "execute_result"
    }
   ],
   "source": [
    "rf"
   ]
  },
  {
   "cell_type": "code",
   "execution_count": 54,
   "metadata": {
    "ExecuteTime": {
     "end_time": "2020-01-10T13:11:00.670002Z",
     "start_time": "2020-01-10T13:11:00.664414Z"
    }
   },
   "outputs": [],
   "source": [
    "def model_str(model, cv, params_combination):\n",
    "\n",
    "    final_name = type(model).__name__ + \"__fold{:02d}\".format(cv)\n",
    "    for item in params_combination.items():\n",
    "        final_name += \"__\"\n",
    "        final_name += item[0]+\"=\" +str(item[1])\n",
    "        \n",
    "    return final_name + \".joblib\"\n"
   ]
  },
  {
   "cell_type": "code",
   "execution_count": 55,
   "metadata": {
    "ExecuteTime": {
     "end_time": "2020-01-10T13:11:00.901502Z",
     "start_time": "2020-01-10T13:11:00.894918Z"
    }
   },
   "outputs": [
    {
     "data": {
      "text/plain": [
       "'RandomForestRegressor__fold02__max_depth=5__max_features=auto.joblib'"
      ]
     },
     "execution_count": 55,
     "metadata": {},
     "output_type": "execute_result"
    }
   ],
   "source": [
    "params_combinations = generate_params(param_grid)\n",
    "model_str(rf,2, params_combinations[0])"
   ]
  },
  {
   "cell_type": "code",
   "execution_count": 56,
   "metadata": {
    "ExecuteTime": {
     "end_time": "2020-01-10T13:11:01.337561Z",
     "start_time": "2020-01-10T13:11:01.327889Z"
    }
   },
   "outputs": [
    {
     "data": {
      "text/plain": [
       "['.ipynb_checkpoints',\n",
       " 'generating_validation_indices.ipynb',\n",
       " 'gridsearch_cv.ipynb']"
      ]
     },
     "execution_count": 56,
     "metadata": {},
     "output_type": "execute_result"
    }
   ],
   "source": [
    "import os\n",
    "os.listdir(\"./\")"
   ]
  },
  {
   "cell_type": "code",
   "execution_count": 57,
   "metadata": {
    "ExecuteTime": {
     "end_time": "2020-01-10T13:11:01.584445Z",
     "start_time": "2020-01-10T13:11:01.542815Z"
    }
   },
   "outputs": [],
   "source": [
    "from copy import deepcopy\n",
    "import joblib\n",
    "from joblib import dump, load\n",
    "from pathlib import Path\n",
    "from sklearn.metrics import roc_auc_score\n",
    "import datetime\n",
    "\n",
    "\n",
    "def CVfit(X, y, model, cv, param_grid, scorer, path_folder=\"\",\n",
    "          save_models=False, save_summary=True, add_time=False, verbose=0):\n",
    "    \n",
    "    \"\"\"\n",
    "    \n",
    "    Important notes:\n",
    "    \n",
    "    - By default this method uses the model.score function to score the test results.\n",
    "    \n",
    "    - If `scorer=\"roc_auc_score\"` or `scorer=sklearn.metrics.roc_auc_score` then the method uses \n",
    "    `model.predict_proba` instead of `model.predict` when scoring the predictions.\n",
    "    \n",
    "    \"\"\"\n",
    "    \n",
    "    cv_results_params = generate_params(param_grid)\n",
    "    folds = KFold(cv,shuffle=False)\n",
    "    cv_results_ = {}\n",
    "    cv_results_[\"params\"] = cv_results_params\n",
    "    \n",
    "    if add_time:\n",
    "        now = datetime.datetime.now()\n",
    "        time_id = f\"__{now.hour}:{now.minute}:{now.second}__{now.day}-{now.month}-{now.year}\"\n",
    "        path_folder = path_folder +  time_id       \n",
    "    \n",
    "    for fold in range(cv):\n",
    "        cv_results_[f\"split{fold}_test_score\"] = np.array([])\n",
    "    \n",
    "    # Create target Directory if don't exist\n",
    "    if not os.path.exists(path_folder):\n",
    "        os.mkdir(path_folder)\n",
    "        print(\"Directory \" , path_folder ,  \" Created \")\n",
    "    else:    \n",
    "        print(\"WARNING: Directory \" , path_folder ,  \" already exists\")\n",
    "\n",
    "    \n",
    "    cvfit_log_file = open(os.path.join(path_folder, 'cvfit_log.txt'), \"w\")\n",
    "\n",
    "        \n",
    "    for param_combination in cv_results_params:\n",
    "        splits = folds.split(X)\n",
    "        model_current = model.__class__(**param_combination)\n",
    "        \n",
    "        for fold, (tr_ind, va_ind) in enumerate(splits):\n",
    "            fold_str = f\"split{fold}_test_score\"\n",
    "            name = model_str(model_current, fold, param_combination)\n",
    "                \n",
    "            model_current.fit(X[tr_ind], y[tr_ind])\n",
    "            \n",
    "            if scorer:\n",
    "                if scorer.__name__ ==  \"roc_auc_score\":\n",
    "                    test_score_fold = scorer(model_current.predict_proba(X[va_ind]), y[va_ind])\n",
    "                elif scorer == \"roc_auc_score\":\n",
    "                    test_score_fold = roc_auc_score(model_current.predict_proba(X[va_ind]), y[va_ind])\n",
    "                else:\n",
    "                    test_score_fold = scorer(model_current.predict(X[va_ind]), y[va_ind])\n",
    "            else:\n",
    "                test_score_fold       = model_current.score(X[va_ind], y[va_ind])\n",
    "            \n",
    "            cv_results_[fold_str] = np.append(cv_results_[fold_str], test_score_fold) \n",
    "            \n",
    "            line_for_log = name + f\" --> test_score={test_score_fold}\"\n",
    "            cvfit_log_file.write(line_for_log + \"\\n\")\n",
    "            \n",
    "            if save_models:\n",
    "                file_path = os.path.join(path_folder, name) \n",
    "                fileName = Path(file_path)\n",
    "            \n",
    "                if fileName.is_file():\n",
    "                    print(\"WARNING: An exact model with the same hyperparameters is trying to be saved\")\n",
    "                    print(f\"file {file_path} already exists\")\n",
    "                    return None\n",
    "                else:\n",
    "                    joblib.dump(model_current, file_path) \n",
    "            \n",
    "               \n",
    "            if verbose ==1:\n",
    "                print(name,f\" --> test_score={test_score_fold}\")\n",
    "            \n",
    "    cvfit_log_file.close()\n",
    "    test_scores = [cv_results_[f\"split{i}_test_score\"] for i in range(4)]\n",
    "    test_scores_arr = np.array(test_scores)\n",
    "    \n",
    "    #cv_results_[\"best_test_score\"] = np.max(test_scores_arr)\n",
    "    cv_results_[\"mean_test_score\"] = test_scores_arr.mean(axis=0)\n",
    "    cv_results_[\"std_test_score\"] = test_scores_arr.mean(axis=0)\n",
    "\n",
    "    rank = scipy.stats.rankdata(-cv_results_[\"mean_test_score\"], method='ordinal')\n",
    "    cv_results_[\"rank_test_score\"] = rank\n",
    "    # Save in key \"best_params\" the best combination of hyperparams found\n",
    "    # index_best  = np.argmax(rf_grid.cv_results_[\"mean_test_score\"])\n",
    "    # best_params = rf_grid.cv_results_[\"params\"][ind_best]\n",
    "    # cv_results_[\"best_params\"] = best_params\n",
    "\n",
    "    if save_summary:\n",
    "        cv_results_df = pd.DataFrame(cv_results_).sort_values([\"rank_test_score\"])\n",
    "        cv_results_df.to_csv( os.path.join(path_folder, \"cv_results_df.csv\"),index=False)\n",
    "        \n",
    "    return cv_results_ "
   ]
  },
  {
   "cell_type": "code",
   "execution_count": 58,
   "metadata": {
    "ExecuteTime": {
     "end_time": "2020-01-10T13:11:22.313411Z",
     "start_time": "2020-01-10T13:11:01.701303Z"
    }
   },
   "outputs": [
    {
     "name": "stdout",
     "output_type": "stream",
     "text": [
      "Directory  ./saved_models  Created \n"
     ]
    },
    {
     "name": "stderr",
     "output_type": "stream",
     "text": [
      "/Users/david/anaconda3/lib/python3.7/site-packages/sklearn/ensemble/forest.py:245: FutureWarning: The default value of n_estimators will change from 10 in version 0.20 to 100 in 0.22.\n",
      "  \"10 in version 0.20 to 100 in 0.22.\", FutureWarning)\n"
     ]
    },
    {
     "name": "stdout",
     "output_type": "stream",
     "text": [
      "RandomForestRegressor__fold00__max_depth=5__max_features=auto.joblib  --> test_score=0.5330377763177943\n",
      "RandomForestRegressor__fold01__max_depth=5__max_features=auto.joblib  --> test_score=0.6399112735269173\n",
      "RandomForestRegressor__fold02__max_depth=5__max_features=auto.joblib  --> test_score=0.5222067443053595\n",
      "RandomForestRegressor__fold03__max_depth=5__max_features=auto.joblib  --> test_score=0.47601071757564184\n"
     ]
    },
    {
     "name": "stderr",
     "output_type": "stream",
     "text": [
      "/Users/david/anaconda3/lib/python3.7/site-packages/sklearn/ensemble/forest.py:245: FutureWarning: The default value of n_estimators will change from 10 in version 0.20 to 100 in 0.22.\n",
      "  \"10 in version 0.20 to 100 in 0.22.\", FutureWarning)\n"
     ]
    },
    {
     "name": "stdout",
     "output_type": "stream",
     "text": [
      "RandomForestRegressor__fold00__max_depth=5__max_features=0.5.joblib  --> test_score=0.4606569463355764\n",
      "RandomForestRegressor__fold01__max_depth=5__max_features=0.5.joblib  --> test_score=0.599632584300654\n",
      "RandomForestRegressor__fold02__max_depth=5__max_features=0.5.joblib  --> test_score=0.5179928435599687\n",
      "RandomForestRegressor__fold03__max_depth=5__max_features=0.5.joblib  --> test_score=0.46375031633979513\n"
     ]
    },
    {
     "name": "stderr",
     "output_type": "stream",
     "text": [
      "/Users/david/anaconda3/lib/python3.7/site-packages/sklearn/ensemble/forest.py:245: FutureWarning: The default value of n_estimators will change from 10 in version 0.20 to 100 in 0.22.\n",
      "  \"10 in version 0.20 to 100 in 0.22.\", FutureWarning)\n"
     ]
    },
    {
     "name": "stdout",
     "output_type": "stream",
     "text": [
      "RandomForestRegressor__fold00__max_depth=None__max_features=auto.joblib  --> test_score=0.5247570322610484\n",
      "RandomForestRegressor__fold01__max_depth=None__max_features=auto.joblib  --> test_score=0.7202141014459633\n",
      "RandomForestRegressor__fold02__max_depth=None__max_features=auto.joblib  --> test_score=0.599081367417376\n",
      "RandomForestRegressor__fold03__max_depth=None__max_features=auto.joblib  --> test_score=0.6010311839168737\n"
     ]
    },
    {
     "name": "stderr",
     "output_type": "stream",
     "text": [
      "/Users/david/anaconda3/lib/python3.7/site-packages/sklearn/ensemble/forest.py:245: FutureWarning: The default value of n_estimators will change from 10 in version 0.20 to 100 in 0.22.\n",
      "  \"10 in version 0.20 to 100 in 0.22.\", FutureWarning)\n"
     ]
    },
    {
     "name": "stdout",
     "output_type": "stream",
     "text": [
      "RandomForestRegressor__fold00__max_depth=None__max_features=0.5.joblib  --> test_score=0.5474184006015956\n",
      "RandomForestRegressor__fold01__max_depth=None__max_features=0.5.joblib  --> test_score=0.7013116201508998\n",
      "RandomForestRegressor__fold02__max_depth=None__max_features=0.5.joblib  --> test_score=0.6043965742745478\n",
      "RandomForestRegressor__fold03__max_depth=None__max_features=0.5.joblib  --> test_score=0.5369266095731109\n"
     ]
    },
    {
     "name": "stderr",
     "output_type": "stream",
     "text": [
      "/Users/david/anaconda3/lib/python3.7/site-packages/sklearn/ensemble/forest.py:245: FutureWarning: The default value of n_estimators will change from 10 in version 0.20 to 100 in 0.22.\n",
      "  \"10 in version 0.20 to 100 in 0.22.\", FutureWarning)\n"
     ]
    },
    {
     "name": "stdout",
     "output_type": "stream",
     "text": [
      "RandomForestRegressor__fold00__max_depth=10__max_features=auto.joblib  --> test_score=0.5183564042822679\n",
      "RandomForestRegressor__fold01__max_depth=10__max_features=auto.joblib  --> test_score=0.7211539072873407\n",
      "RandomForestRegressor__fold02__max_depth=10__max_features=auto.joblib  --> test_score=0.5959197231643528\n",
      "RandomForestRegressor__fold03__max_depth=10__max_features=auto.joblib  --> test_score=0.610742878893817\n"
     ]
    },
    {
     "name": "stderr",
     "output_type": "stream",
     "text": [
      "/Users/david/anaconda3/lib/python3.7/site-packages/sklearn/ensemble/forest.py:245: FutureWarning: The default value of n_estimators will change from 10 in version 0.20 to 100 in 0.22.\n",
      "  \"10 in version 0.20 to 100 in 0.22.\", FutureWarning)\n"
     ]
    },
    {
     "name": "stdout",
     "output_type": "stream",
     "text": [
      "RandomForestRegressor__fold00__max_depth=10__max_features=0.5.joblib  --> test_score=0.49945039083206033\n",
      "RandomForestRegressor__fold01__max_depth=10__max_features=0.5.joblib  --> test_score=0.7205516572163669\n",
      "RandomForestRegressor__fold02__max_depth=10__max_features=0.5.joblib  --> test_score=0.6074610911124074\n",
      "RandomForestRegressor__fold03__max_depth=10__max_features=0.5.joblib  --> test_score=0.5731898778110219\n"
     ]
    }
   ],
   "source": [
    "cv = 4\n",
    "rf = sklearn.ensemble.RandomForestRegressor()\n",
    "path_models = \"./saved_models\"\n",
    "cv_results_ = CVfit(X, y, rf, cv, param_grid, scorer=None, \n",
    "                    path_folder=path_models, \n",
    "                    save_models=True, add_time=False, save_summary=True, verbose=1)"
   ]
  },
  {
   "cell_type": "markdown",
   "metadata": {},
   "source": [
    "\n",
    "This function returns a dict `cv_results` containing the evaluation metrics of the crossvalidation process"
   ]
  },
  {
   "cell_type": "code",
   "execution_count": 59,
   "metadata": {
    "ExecuteTime": {
     "end_time": "2020-01-10T13:11:31.799778Z",
     "start_time": "2020-01-10T13:11:31.791912Z"
    }
   },
   "outputs": [
    {
     "data": {
      "text/plain": [
       "dict_keys(['params', 'split0_test_score', 'split1_test_score', 'split2_test_score', 'split3_test_score', 'mean_test_score', 'std_test_score', 'rank_test_score'])"
      ]
     },
     "execution_count": 59,
     "metadata": {},
     "output_type": "execute_result"
    }
   ],
   "source": [
    "cv_results_.keys()"
   ]
  },
  {
   "cell_type": "code",
   "execution_count": 60,
   "metadata": {
    "ExecuteTime": {
     "end_time": "2020-01-10T13:11:33.006245Z",
     "start_time": "2020-01-10T13:11:32.998735Z"
    }
   },
   "outputs": [
    {
     "data": {
      "text/plain": [
       "dict_keys(['mean_fit_time', 'std_fit_time', 'mean_score_time', 'std_score_time', 'param_max_depth', 'param_max_features', 'params', 'split0_test_score', 'split1_test_score', 'split2_test_score', 'split3_test_score', 'mean_test_score', 'std_test_score', 'rank_test_score'])"
      ]
     },
     "execution_count": 60,
     "metadata": {},
     "output_type": "execute_result"
    }
   ],
   "source": [
    "rf_grid.cv_results_.keys()"
   ]
  },
  {
   "cell_type": "code",
   "execution_count": 61,
   "metadata": {
    "ExecuteTime": {
     "end_time": "2020-01-10T13:11:33.502577Z",
     "start_time": "2020-01-10T13:11:33.495143Z"
    }
   },
   "outputs": [
    {
     "data": {
      "text/plain": [
       "['.ipynb_checkpoints',\n",
       " 'generating_validation_indices.ipynb',\n",
       " 'gridsearch_cv.ipynb',\n",
       " 'saved_models']"
      ]
     },
     "execution_count": 61,
     "metadata": {},
     "output_type": "execute_result"
    }
   ],
   "source": [
    "os.listdir()"
   ]
  },
  {
   "cell_type": "markdown",
   "metadata": {},
   "source": [
    "Since we executed with `save_summary=True` we will have `cv_results_df.csv` inside the folder where the models are saved."
   ]
  },
  {
   "cell_type": "code",
   "execution_count": 62,
   "metadata": {
    "ExecuteTime": {
     "end_time": "2020-01-10T13:11:35.100062Z",
     "start_time": "2020-01-10T13:11:35.083197Z"
    }
   },
   "outputs": [],
   "source": [
    "cv_results_df = pd.read_csv( os.path.join(path_models,\"cv_results_df.csv\"))"
   ]
  },
  {
   "cell_type": "code",
   "execution_count": 63,
   "metadata": {
    "ExecuteTime": {
     "end_time": "2020-01-10T13:11:35.411627Z",
     "start_time": "2020-01-10T13:11:35.384286Z"
    },
    "scrolled": true
   },
   "outputs": [
    {
     "data": {
      "text/html": [
       "<div>\n",
       "<style scoped>\n",
       "    .dataframe tbody tr th:only-of-type {\n",
       "        vertical-align: middle;\n",
       "    }\n",
       "\n",
       "    .dataframe tbody tr th {\n",
       "        vertical-align: top;\n",
       "    }\n",
       "\n",
       "    .dataframe thead th {\n",
       "        text-align: right;\n",
       "    }\n",
       "</style>\n",
       "<table border=\"1\" class=\"dataframe\">\n",
       "  <thead>\n",
       "    <tr style=\"text-align: right;\">\n",
       "      <th></th>\n",
       "      <th>params</th>\n",
       "      <th>split0_test_score</th>\n",
       "      <th>split1_test_score</th>\n",
       "      <th>split2_test_score</th>\n",
       "      <th>split3_test_score</th>\n",
       "      <th>mean_test_score</th>\n",
       "      <th>std_test_score</th>\n",
       "      <th>rank_test_score</th>\n",
       "    </tr>\n",
       "  </thead>\n",
       "  <tbody>\n",
       "    <tr>\n",
       "      <th>0</th>\n",
       "      <td>{'max_depth': 10, 'max_features': 'auto'}</td>\n",
       "      <td>0.518356</td>\n",
       "      <td>0.721154</td>\n",
       "      <td>0.595920</td>\n",
       "      <td>0.610743</td>\n",
       "      <td>0.611543</td>\n",
       "      <td>0.611543</td>\n",
       "      <td>1</td>\n",
       "    </tr>\n",
       "    <tr>\n",
       "      <th>1</th>\n",
       "      <td>{'max_depth': None, 'max_features': 'auto'}</td>\n",
       "      <td>0.524757</td>\n",
       "      <td>0.720214</td>\n",
       "      <td>0.599081</td>\n",
       "      <td>0.601031</td>\n",
       "      <td>0.611271</td>\n",
       "      <td>0.611271</td>\n",
       "      <td>2</td>\n",
       "    </tr>\n",
       "    <tr>\n",
       "      <th>2</th>\n",
       "      <td>{'max_depth': 10, 'max_features': 0.5}</td>\n",
       "      <td>0.499450</td>\n",
       "      <td>0.720552</td>\n",
       "      <td>0.607461</td>\n",
       "      <td>0.573190</td>\n",
       "      <td>0.600163</td>\n",
       "      <td>0.600163</td>\n",
       "      <td>3</td>\n",
       "    </tr>\n",
       "    <tr>\n",
       "      <th>3</th>\n",
       "      <td>{'max_depth': None, 'max_features': 0.5}</td>\n",
       "      <td>0.547418</td>\n",
       "      <td>0.701312</td>\n",
       "      <td>0.604397</td>\n",
       "      <td>0.536927</td>\n",
       "      <td>0.597513</td>\n",
       "      <td>0.597513</td>\n",
       "      <td>4</td>\n",
       "    </tr>\n",
       "    <tr>\n",
       "      <th>4</th>\n",
       "      <td>{'max_depth': 5, 'max_features': 'auto'}</td>\n",
       "      <td>0.533038</td>\n",
       "      <td>0.639911</td>\n",
       "      <td>0.522207</td>\n",
       "      <td>0.476011</td>\n",
       "      <td>0.542792</td>\n",
       "      <td>0.542792</td>\n",
       "      <td>5</td>\n",
       "    </tr>\n",
       "    <tr>\n",
       "      <th>5</th>\n",
       "      <td>{'max_depth': 5, 'max_features': 0.5}</td>\n",
       "      <td>0.460657</td>\n",
       "      <td>0.599633</td>\n",
       "      <td>0.517993</td>\n",
       "      <td>0.463750</td>\n",
       "      <td>0.510508</td>\n",
       "      <td>0.510508</td>\n",
       "      <td>6</td>\n",
       "    </tr>\n",
       "  </tbody>\n",
       "</table>\n",
       "</div>"
      ],
      "text/plain": [
       "                                        params  split0_test_score  \\\n",
       "0    {'max_depth': 10, 'max_features': 'auto'}           0.518356   \n",
       "1  {'max_depth': None, 'max_features': 'auto'}           0.524757   \n",
       "2       {'max_depth': 10, 'max_features': 0.5}           0.499450   \n",
       "3     {'max_depth': None, 'max_features': 0.5}           0.547418   \n",
       "4     {'max_depth': 5, 'max_features': 'auto'}           0.533038   \n",
       "5        {'max_depth': 5, 'max_features': 0.5}           0.460657   \n",
       "\n",
       "   split1_test_score  split2_test_score  split3_test_score  mean_test_score  \\\n",
       "0           0.721154           0.595920           0.610743         0.611543   \n",
       "1           0.720214           0.599081           0.601031         0.611271   \n",
       "2           0.720552           0.607461           0.573190         0.600163   \n",
       "3           0.701312           0.604397           0.536927         0.597513   \n",
       "4           0.639911           0.522207           0.476011         0.542792   \n",
       "5           0.599633           0.517993           0.463750         0.510508   \n",
       "\n",
       "   std_test_score  rank_test_score  \n",
       "0        0.611543                1  \n",
       "1        0.611271                2  \n",
       "2        0.600163                3  \n",
       "3        0.597513                4  \n",
       "4        0.542792                5  \n",
       "5        0.510508                6  "
      ]
     },
     "execution_count": 63,
     "metadata": {},
     "output_type": "execute_result"
    }
   ],
   "source": [
    "cv_results_df"
   ]
  },
  {
   "cell_type": "markdown",
   "metadata": {},
   "source": [
    "We can also inspect the log of the cvfit and see the information that is printed when verbose=1"
   ]
  },
  {
   "cell_type": "code",
   "execution_count": 64,
   "metadata": {
    "ExecuteTime": {
     "end_time": "2020-01-10T13:11:57.287487Z",
     "start_time": "2020-01-10T13:11:57.137383Z"
    }
   },
   "outputs": [
    {
     "name": "stdout",
     "output_type": "stream",
     "text": [
      "RandomForestRegressor__fold00__max_depth=5__max_features=auto.joblib --> test_score=0.5330377763177943\r\n",
      "RandomForestRegressor__fold01__max_depth=5__max_features=auto.joblib --> test_score=0.6399112735269173\r\n",
      "RandomForestRegressor__fold02__max_depth=5__max_features=auto.joblib --> test_score=0.5222067443053595\r\n",
      "RandomForestRegressor__fold03__max_depth=5__max_features=auto.joblib --> test_score=0.47601071757564184\r\n",
      "RandomForestRegressor__fold00__max_depth=5__max_features=0.5.joblib --> test_score=0.4606569463355764\r\n",
      "RandomForestRegressor__fold01__max_depth=5__max_features=0.5.joblib --> test_score=0.599632584300654\r\n",
      "RandomForestRegressor__fold02__max_depth=5__max_features=0.5.joblib --> test_score=0.5179928435599687\r\n",
      "RandomForestRegressor__fold03__max_depth=5__max_features=0.5.joblib --> test_score=0.46375031633979513\r\n",
      "RandomForestRegressor__fold00__max_depth=None__max_features=auto.joblib --> test_score=0.5247570322610484\r\n",
      "RandomForestRegressor__fold01__max_depth=None__max_features=auto.joblib --> test_score=0.7202141014459633\r\n",
      "RandomForestRegressor__fold02__max_depth=None__max_features=auto.joblib --> test_score=0.599081367417376\r\n",
      "RandomForestRegressor__fold03__max_depth=None__max_features=auto.joblib --> test_score=0.6010311839168737\r\n",
      "RandomForestRegressor__fold00__max_depth=None__max_features=0.5.joblib --> test_score=0.5474184006015956\r\n",
      "RandomForestRegressor__fold01__max_depth=None__max_features=0.5.joblib --> test_score=0.7013116201508998\r\n",
      "RandomForestRegressor__fold02__max_depth=None__max_features=0.5.joblib --> test_score=0.6043965742745478\r\n",
      "RandomForestRegressor__fold03__max_depth=None__max_features=0.5.joblib --> test_score=0.5369266095731109\r\n",
      "RandomForestRegressor__fold00__max_depth=10__max_features=auto.joblib --> test_score=0.5183564042822679\r\n",
      "RandomForestRegressor__fold01__max_depth=10__max_features=auto.joblib --> test_score=0.7211539072873407\r\n",
      "RandomForestRegressor__fold02__max_depth=10__max_features=auto.joblib --> test_score=0.5959197231643528\r\n",
      "RandomForestRegressor__fold03__max_depth=10__max_features=auto.joblib --> test_score=0.610742878893817\r\n",
      "RandomForestRegressor__fold00__max_depth=10__max_features=0.5.joblib --> test_score=0.49945039083206033\r\n",
      "RandomForestRegressor__fold01__max_depth=10__max_features=0.5.joblib --> test_score=0.7205516572163669\r\n",
      "RandomForestRegressor__fold02__max_depth=10__max_features=0.5.joblib --> test_score=0.6074610911124074\r\n",
      "RandomForestRegressor__fold03__max_depth=10__max_features=0.5.joblib --> test_score=0.5731898778110219\r\n"
     ]
    }
   ],
   "source": [
    "\n",
    "!cat saved_models/cvfit_log.txt"
   ]
  },
  {
   "cell_type": "markdown",
   "metadata": {},
   "source": [
    "### TODO: Make a function that given cv_results_df and path_folder...\n",
    "\n",
    "- Loads different models (topK) and creates a \"metamodel\". To do so I need to create a new MetaModel class.\n",
    "\n",
    "    - The metamodel is essentially a list of models: `[m1,m2,m3,...]`\n",
    "    \n",
    "    - The metamodel.predict(X) simply does `np.mean(m1.predict(X), m2.predict(X),....)`\n",
    "    \n",
    "    - The metamodel should have a weighted average prediction method. \n",
    "    \n",
    "          - The `mean_test_score` could be used to assign a weight into the average\n",
    "          - The `std_test_score` could be used to assign a confidence of the prediction of the metamodel\n",
    "      "
   ]
  },
  {
   "cell_type": "markdown",
   "metadata": {},
   "source": [
    "The models will be saved in `path_folder`"
   ]
  },
  {
   "cell_type": "code",
   "execution_count": 65,
   "metadata": {
    "ExecuteTime": {
     "end_time": "2020-01-10T13:12:15.995858Z",
     "start_time": "2020-01-10T13:12:15.981306Z"
    }
   },
   "outputs": [
    {
     "data": {
      "text/plain": [
       "['cv_results_df.csv',\n",
       " 'cvfit_log.txt',\n",
       " 'RandomForestRegressor__fold00__max_depth=10__max_features=0.5.joblib',\n",
       " 'RandomForestRegressor__fold00__max_depth=10__max_features=auto.joblib',\n",
       " 'RandomForestRegressor__fold00__max_depth=5__max_features=0.5.joblib',\n",
       " 'RandomForestRegressor__fold00__max_depth=5__max_features=auto.joblib',\n",
       " 'RandomForestRegressor__fold00__max_depth=None__max_features=0.5.joblib',\n",
       " 'RandomForestRegressor__fold00__max_depth=None__max_features=auto.joblib',\n",
       " 'RandomForestRegressor__fold01__max_depth=10__max_features=0.5.joblib',\n",
       " 'RandomForestRegressor__fold01__max_depth=10__max_features=auto.joblib',\n",
       " 'RandomForestRegressor__fold01__max_depth=5__max_features=0.5.joblib',\n",
       " 'RandomForestRegressor__fold01__max_depth=5__max_features=auto.joblib',\n",
       " 'RandomForestRegressor__fold01__max_depth=None__max_features=0.5.joblib',\n",
       " 'RandomForestRegressor__fold01__max_depth=None__max_features=auto.joblib',\n",
       " 'RandomForestRegressor__fold02__max_depth=10__max_features=0.5.joblib',\n",
       " 'RandomForestRegressor__fold02__max_depth=10__max_features=auto.joblib',\n",
       " 'RandomForestRegressor__fold02__max_depth=5__max_features=0.5.joblib',\n",
       " 'RandomForestRegressor__fold02__max_depth=5__max_features=auto.joblib',\n",
       " 'RandomForestRegressor__fold02__max_depth=None__max_features=0.5.joblib',\n",
       " 'RandomForestRegressor__fold02__max_depth=None__max_features=auto.joblib',\n",
       " 'RandomForestRegressor__fold03__max_depth=10__max_features=0.5.joblib',\n",
       " 'RandomForestRegressor__fold03__max_depth=10__max_features=auto.joblib',\n",
       " 'RandomForestRegressor__fold03__max_depth=5__max_features=0.5.joblib',\n",
       " 'RandomForestRegressor__fold03__max_depth=5__max_features=auto.joblib',\n",
       " 'RandomForestRegressor__fold03__max_depth=None__max_features=0.5.joblib',\n",
       " 'RandomForestRegressor__fold03__max_depth=None__max_features=auto.joblib']"
      ]
     },
     "execution_count": 65,
     "metadata": {},
     "output_type": "execute_result"
    }
   ],
   "source": [
    "models = os.listdir(path_models)\n",
    "models"
   ]
  },
  {
   "cell_type": "markdown",
   "metadata": {},
   "source": [
    "We can load a model from disk using **`joblib.load`**"
   ]
  },
  {
   "cell_type": "code",
   "execution_count": 66,
   "metadata": {
    "ExecuteTime": {
     "end_time": "2020-01-10T13:12:18.982315Z",
     "start_time": "2020-01-10T13:12:18.500991Z"
    }
   },
   "outputs": [
    {
     "ename": "ValueError",
     "evalue": "invalid literal for int() with base 10: b'arams,split0_test_score,split1_test_score,split2_test_score,split3_test_score,mean_test_score,std_test_score,rank_test_score'",
     "output_type": "error",
     "traceback": [
      "\u001b[0;31m---------------------------------------------------------------------------\u001b[0m",
      "\u001b[0;31mValueError\u001b[0m                                Traceback (most recent call last)",
      "\u001b[0;32m<ipython-input-66-ea33c8648f29>\u001b[0m in \u001b[0;36m<module>\u001b[0;34m\u001b[0m\n\u001b[0;32m----> 1\u001b[0;31m \u001b[0mmodel\u001b[0m \u001b[0;34m=\u001b[0m \u001b[0mjoblib\u001b[0m\u001b[0;34m.\u001b[0m\u001b[0mload\u001b[0m\u001b[0;34m(\u001b[0m\u001b[0mos\u001b[0m\u001b[0;34m.\u001b[0m\u001b[0mpath\u001b[0m\u001b[0;34m.\u001b[0m\u001b[0mjoin\u001b[0m\u001b[0;34m(\u001b[0m\u001b[0mpath_models\u001b[0m\u001b[0;34m,\u001b[0m \u001b[0mmodels\u001b[0m\u001b[0;34m[\u001b[0m\u001b[0;36m0\u001b[0m\u001b[0;34m]\u001b[0m\u001b[0;34m)\u001b[0m\u001b[0;34m)\u001b[0m\u001b[0;34m\u001b[0m\u001b[0;34m\u001b[0m\u001b[0m\n\u001b[0m\u001b[1;32m      2\u001b[0m \u001b[0mmodel\u001b[0m\u001b[0;34m\u001b[0m\u001b[0;34m\u001b[0m\u001b[0m\n",
      "\u001b[0;32m~/anaconda3/lib/python3.7/site-packages/joblib/numpy_pickle.py\u001b[0m in \u001b[0;36mload\u001b[0;34m(filename, mmap_mode)\u001b[0m\n\u001b[1;32m    603\u001b[0m                     \u001b[0;32mreturn\u001b[0m \u001b[0mload_compatibility\u001b[0m\u001b[0;34m(\u001b[0m\u001b[0mfobj\u001b[0m\u001b[0;34m)\u001b[0m\u001b[0;34m\u001b[0m\u001b[0;34m\u001b[0m\u001b[0m\n\u001b[1;32m    604\u001b[0m \u001b[0;34m\u001b[0m\u001b[0m\n\u001b[0;32m--> 605\u001b[0;31m                 \u001b[0mobj\u001b[0m \u001b[0;34m=\u001b[0m \u001b[0m_unpickle\u001b[0m\u001b[0;34m(\u001b[0m\u001b[0mfobj\u001b[0m\u001b[0;34m,\u001b[0m \u001b[0mfilename\u001b[0m\u001b[0;34m,\u001b[0m \u001b[0mmmap_mode\u001b[0m\u001b[0;34m)\u001b[0m\u001b[0;34m\u001b[0m\u001b[0;34m\u001b[0m\u001b[0m\n\u001b[0m\u001b[1;32m    606\u001b[0m \u001b[0;34m\u001b[0m\u001b[0m\n\u001b[1;32m    607\u001b[0m     \u001b[0;32mreturn\u001b[0m \u001b[0mobj\u001b[0m\u001b[0;34m\u001b[0m\u001b[0;34m\u001b[0m\u001b[0m\n",
      "\u001b[0;32m~/anaconda3/lib/python3.7/site-packages/joblib/numpy_pickle.py\u001b[0m in \u001b[0;36m_unpickle\u001b[0;34m(fobj, filename, mmap_mode)\u001b[0m\n\u001b[1;32m    527\u001b[0m     \u001b[0mobj\u001b[0m \u001b[0;34m=\u001b[0m \u001b[0;32mNone\u001b[0m\u001b[0;34m\u001b[0m\u001b[0;34m\u001b[0m\u001b[0m\n\u001b[1;32m    528\u001b[0m     \u001b[0;32mtry\u001b[0m\u001b[0;34m:\u001b[0m\u001b[0;34m\u001b[0m\u001b[0;34m\u001b[0m\u001b[0m\n\u001b[0;32m--> 529\u001b[0;31m         \u001b[0mobj\u001b[0m \u001b[0;34m=\u001b[0m \u001b[0munpickler\u001b[0m\u001b[0;34m.\u001b[0m\u001b[0mload\u001b[0m\u001b[0;34m(\u001b[0m\u001b[0;34m)\u001b[0m\u001b[0;34m\u001b[0m\u001b[0;34m\u001b[0m\u001b[0m\n\u001b[0m\u001b[1;32m    530\u001b[0m         \u001b[0;32mif\u001b[0m \u001b[0munpickler\u001b[0m\u001b[0;34m.\u001b[0m\u001b[0mcompat_mode\u001b[0m\u001b[0;34m:\u001b[0m\u001b[0;34m\u001b[0m\u001b[0;34m\u001b[0m\u001b[0m\n\u001b[1;32m    531\u001b[0m             warnings.warn(\"The file '%s' has been generated with a \"\n",
      "\u001b[0;32m~/anaconda3/lib/python3.7/pickle.py\u001b[0m in \u001b[0;36mload\u001b[0;34m(self)\u001b[0m\n\u001b[1;32m   1083\u001b[0m                     \u001b[0;32mraise\u001b[0m \u001b[0mEOFError\u001b[0m\u001b[0;34m\u001b[0m\u001b[0;34m\u001b[0m\u001b[0m\n\u001b[1;32m   1084\u001b[0m                 \u001b[0;32massert\u001b[0m \u001b[0misinstance\u001b[0m\u001b[0;34m(\u001b[0m\u001b[0mkey\u001b[0m\u001b[0;34m,\u001b[0m \u001b[0mbytes_types\u001b[0m\u001b[0;34m)\u001b[0m\u001b[0;34m\u001b[0m\u001b[0;34m\u001b[0m\u001b[0m\n\u001b[0;32m-> 1085\u001b[0;31m                 \u001b[0mdispatch\u001b[0m\u001b[0;34m[\u001b[0m\u001b[0mkey\u001b[0m\u001b[0;34m[\u001b[0m\u001b[0;36m0\u001b[0m\u001b[0;34m]\u001b[0m\u001b[0;34m]\u001b[0m\u001b[0;34m(\u001b[0m\u001b[0mself\u001b[0m\u001b[0;34m)\u001b[0m\u001b[0;34m\u001b[0m\u001b[0;34m\u001b[0m\u001b[0m\n\u001b[0m\u001b[1;32m   1086\u001b[0m         \u001b[0;32mexcept\u001b[0m \u001b[0m_Stop\u001b[0m \u001b[0;32mas\u001b[0m \u001b[0mstopinst\u001b[0m\u001b[0;34m:\u001b[0m\u001b[0;34m\u001b[0m\u001b[0;34m\u001b[0m\u001b[0m\n\u001b[1;32m   1087\u001b[0m             \u001b[0;32mreturn\u001b[0m \u001b[0mstopinst\u001b[0m\u001b[0;34m.\u001b[0m\u001b[0mvalue\u001b[0m\u001b[0;34m\u001b[0m\u001b[0;34m\u001b[0m\u001b[0m\n",
      "\u001b[0;32m~/anaconda3/lib/python3.7/pickle.py\u001b[0m in \u001b[0;36mload_put\u001b[0;34m(self)\u001b[0m\n\u001b[1;32m   1465\u001b[0m \u001b[0;34m\u001b[0m\u001b[0m\n\u001b[1;32m   1466\u001b[0m     \u001b[0;32mdef\u001b[0m \u001b[0mload_put\u001b[0m\u001b[0;34m(\u001b[0m\u001b[0mself\u001b[0m\u001b[0;34m)\u001b[0m\u001b[0;34m:\u001b[0m\u001b[0;34m\u001b[0m\u001b[0;34m\u001b[0m\u001b[0m\n\u001b[0;32m-> 1467\u001b[0;31m         \u001b[0mi\u001b[0m \u001b[0;34m=\u001b[0m \u001b[0mint\u001b[0m\u001b[0;34m(\u001b[0m\u001b[0mself\u001b[0m\u001b[0;34m.\u001b[0m\u001b[0mreadline\u001b[0m\u001b[0;34m(\u001b[0m\u001b[0;34m)\u001b[0m\u001b[0;34m[\u001b[0m\u001b[0;34m:\u001b[0m\u001b[0;34m-\u001b[0m\u001b[0;36m1\u001b[0m\u001b[0;34m]\u001b[0m\u001b[0;34m)\u001b[0m\u001b[0;34m\u001b[0m\u001b[0;34m\u001b[0m\u001b[0m\n\u001b[0m\u001b[1;32m   1468\u001b[0m         \u001b[0;32mif\u001b[0m \u001b[0mi\u001b[0m \u001b[0;34m<\u001b[0m \u001b[0;36m0\u001b[0m\u001b[0;34m:\u001b[0m\u001b[0;34m\u001b[0m\u001b[0;34m\u001b[0m\u001b[0m\n\u001b[1;32m   1469\u001b[0m             \u001b[0;32mraise\u001b[0m \u001b[0mValueError\u001b[0m\u001b[0;34m(\u001b[0m\u001b[0;34m\"negative PUT argument\"\u001b[0m\u001b[0;34m)\u001b[0m\u001b[0;34m\u001b[0m\u001b[0;34m\u001b[0m\u001b[0m\n",
      "\u001b[0;31mValueError\u001b[0m: invalid literal for int() with base 10: b'arams,split0_test_score,split1_test_score,split2_test_score,split3_test_score,mean_test_score,std_test_score,rank_test_score'"
     ]
    }
   ],
   "source": [
    "model = joblib.load(os.path.join(path_models, models[0]))\n",
    "model"
   ]
  },
  {
   "cell_type": "markdown",
   "metadata": {},
   "source": [
    "\n",
    "# Finding indices with `GroupKFold`"
   ]
  },
  {
   "cell_type": "code",
   "execution_count": 67,
   "metadata": {
    "ExecuteTime": {
     "end_time": "2020-01-10T13:12:24.879460Z",
     "start_time": "2020-01-10T13:12:24.870662Z"
    }
   },
   "outputs": [
    {
     "data": {
      "text/plain": [
       "2"
      ]
     },
     "execution_count": 67,
     "metadata": {},
     "output_type": "execute_result"
    }
   ],
   "source": [
    "from sklearn.model_selection import GroupKFold\n",
    "\n",
    "X = np.array([[1, 2], [3, 4], [5, 6], [7, 8]])\n",
    "y = np.array([1, 2, 3, 4])\n",
    "groups = np.array([0, 0, 5, 5])\n",
    "group_kfold = GroupKFold(n_splits=2)\n",
    "group_kfold.get_n_splits(X, y, groups)"
   ]
  },
  {
   "cell_type": "code",
   "execution_count": 68,
   "metadata": {
    "ExecuteTime": {
     "end_time": "2020-01-10T13:12:25.919019Z",
     "start_time": "2020-01-10T13:12:25.915168Z"
    }
   },
   "outputs": [
    {
     "name": "stdout",
     "output_type": "stream",
     "text": [
      "GroupKFold(n_splits=2)\n"
     ]
    }
   ],
   "source": [
    "print(group_kfold)"
   ]
  },
  {
   "cell_type": "code",
   "execution_count": 69,
   "metadata": {
    "ExecuteTime": {
     "end_time": "2020-01-10T13:12:26.119959Z",
     "start_time": "2020-01-10T13:12:26.103691Z"
    },
    "scrolled": true
   },
   "outputs": [
    {
     "name": "stdout",
     "output_type": "stream",
     "text": [
      "TRAIN: [0 1] TEST: [2 3]\n",
      "[[1 2]\n",
      " [3 4]] [[5 6]\n",
      " [7 8]] [1 2] [3 4]\n",
      "\n",
      "\n",
      "TRAIN: [2 3] TEST: [0 1]\n",
      "[[5 6]\n",
      " [7 8]] [[1 2]\n",
      " [3 4]] [3 4] [1 2]\n",
      "\n",
      "\n"
     ]
    }
   ],
   "source": [
    "for train_index, test_index in group_kfold.split(X, y, groups):\n",
    "    print(\"TRAIN:\", train_index, \"TEST:\", test_index)\n",
    "    X_train, X_test = X[train_index], X[test_index]\n",
    "    y_train, y_test = y[train_index], y[test_index]\n",
    "    print(X_train, X_test, y_train, y_test)\n",
    "    print(\"\\n\")"
   ]
  },
  {
   "cell_type": "code",
   "execution_count": null,
   "metadata": {},
   "outputs": [],
   "source": []
  },
  {
   "cell_type": "code",
   "execution_count": 70,
   "metadata": {
    "ExecuteTime": {
     "end_time": "2020-01-10T13:12:26.765474Z",
     "start_time": "2020-01-10T13:12:26.739230Z"
    }
   },
   "outputs": [
    {
     "ename": "ValueError",
     "evalue": "Found input variables with inconsistent numbers of samples: [4, 4, 506]",
     "output_type": "error",
     "traceback": [
      "\u001b[0;31m---------------------------------------------------------------------------\u001b[0m",
      "\u001b[0;31mValueError\u001b[0m                                Traceback (most recent call last)",
      "\u001b[0;32m<ipython-input-70-176da69b991a>\u001b[0m in \u001b[0;36m<module>\u001b[0;34m\u001b[0m\n\u001b[1;32m      9\u001b[0m \u001b[0mvalues_in_col8\u001b[0m \u001b[0;34m=\u001b[0m \u001b[0mnp\u001b[0m\u001b[0;34m.\u001b[0m\u001b[0marray\u001b[0m\u001b[0;34m(\u001b[0m\u001b[0mX_df\u001b[0m\u001b[0;34m[\u001b[0m\u001b[0;36m8\u001b[0m\u001b[0;34m]\u001b[0m\u001b[0;34m.\u001b[0m\u001b[0mvalues\u001b[0m\u001b[0;34m,\u001b[0m \u001b[0mdtype\u001b[0m\u001b[0;34m=\u001b[0m\u001b[0;34m\"int\"\u001b[0m\u001b[0;34m)\u001b[0m\u001b[0;34m\u001b[0m\u001b[0;34m\u001b[0m\u001b[0m\n\u001b[1;32m     10\u001b[0m \u001b[0;34m\u001b[0m\u001b[0m\n\u001b[0;32m---> 11\u001b[0;31m \u001b[0mgrid\u001b[0m\u001b[0;34m.\u001b[0m\u001b[0mfit\u001b[0m\u001b[0;34m(\u001b[0m\u001b[0mX\u001b[0m\u001b[0;34m,\u001b[0m\u001b[0my\u001b[0m\u001b[0;34m,\u001b[0m \u001b[0mgroups\u001b[0m\u001b[0;34m=\u001b[0m\u001b[0mvalues_in_col8\u001b[0m\u001b[0;34m)\u001b[0m\u001b[0;34m\u001b[0m\u001b[0;34m\u001b[0m\u001b[0m\n\u001b[0m",
      "\u001b[0;32m~/anaconda3/lib/python3.7/site-packages/sklearn/model_selection/_search.py\u001b[0m in \u001b[0;36mfit\u001b[0;34m(self, X, y, groups, **fit_params)\u001b[0m\n\u001b[1;32m    628\u001b[0m             \u001b[0mrefit_metric\u001b[0m \u001b[0;34m=\u001b[0m \u001b[0;34m'score'\u001b[0m\u001b[0;34m\u001b[0m\u001b[0;34m\u001b[0m\u001b[0m\n\u001b[1;32m    629\u001b[0m \u001b[0;34m\u001b[0m\u001b[0m\n\u001b[0;32m--> 630\u001b[0;31m         \u001b[0mX\u001b[0m\u001b[0;34m,\u001b[0m \u001b[0my\u001b[0m\u001b[0;34m,\u001b[0m \u001b[0mgroups\u001b[0m \u001b[0;34m=\u001b[0m \u001b[0mindexable\u001b[0m\u001b[0;34m(\u001b[0m\u001b[0mX\u001b[0m\u001b[0;34m,\u001b[0m \u001b[0my\u001b[0m\u001b[0;34m,\u001b[0m \u001b[0mgroups\u001b[0m\u001b[0;34m)\u001b[0m\u001b[0;34m\u001b[0m\u001b[0;34m\u001b[0m\u001b[0m\n\u001b[0m\u001b[1;32m    631\u001b[0m         \u001b[0mn_splits\u001b[0m \u001b[0;34m=\u001b[0m \u001b[0mcv\u001b[0m\u001b[0;34m.\u001b[0m\u001b[0mget_n_splits\u001b[0m\u001b[0;34m(\u001b[0m\u001b[0mX\u001b[0m\u001b[0;34m,\u001b[0m \u001b[0my\u001b[0m\u001b[0;34m,\u001b[0m \u001b[0mgroups\u001b[0m\u001b[0;34m)\u001b[0m\u001b[0;34m\u001b[0m\u001b[0;34m\u001b[0m\u001b[0m\n\u001b[1;32m    632\u001b[0m \u001b[0;34m\u001b[0m\u001b[0m\n",
      "\u001b[0;32m~/anaconda3/lib/python3.7/site-packages/sklearn/utils/validation.py\u001b[0m in \u001b[0;36mindexable\u001b[0;34m(*iterables)\u001b[0m\n\u001b[1;32m    228\u001b[0m         \u001b[0;32melse\u001b[0m\u001b[0;34m:\u001b[0m\u001b[0;34m\u001b[0m\u001b[0;34m\u001b[0m\u001b[0m\n\u001b[1;32m    229\u001b[0m             \u001b[0mresult\u001b[0m\u001b[0;34m.\u001b[0m\u001b[0mappend\u001b[0m\u001b[0;34m(\u001b[0m\u001b[0mnp\u001b[0m\u001b[0;34m.\u001b[0m\u001b[0marray\u001b[0m\u001b[0;34m(\u001b[0m\u001b[0mX\u001b[0m\u001b[0;34m)\u001b[0m\u001b[0;34m)\u001b[0m\u001b[0;34m\u001b[0m\u001b[0;34m\u001b[0m\u001b[0m\n\u001b[0;32m--> 230\u001b[0;31m     \u001b[0mcheck_consistent_length\u001b[0m\u001b[0;34m(\u001b[0m\u001b[0;34m*\u001b[0m\u001b[0mresult\u001b[0m\u001b[0;34m)\u001b[0m\u001b[0;34m\u001b[0m\u001b[0;34m\u001b[0m\u001b[0m\n\u001b[0m\u001b[1;32m    231\u001b[0m     \u001b[0;32mreturn\u001b[0m \u001b[0mresult\u001b[0m\u001b[0;34m\u001b[0m\u001b[0;34m\u001b[0m\u001b[0m\n\u001b[1;32m    232\u001b[0m \u001b[0;34m\u001b[0m\u001b[0m\n",
      "\u001b[0;32m~/anaconda3/lib/python3.7/site-packages/sklearn/utils/validation.py\u001b[0m in \u001b[0;36mcheck_consistent_length\u001b[0;34m(*arrays)\u001b[0m\n\u001b[1;32m    203\u001b[0m     \u001b[0;32mif\u001b[0m \u001b[0mlen\u001b[0m\u001b[0;34m(\u001b[0m\u001b[0muniques\u001b[0m\u001b[0;34m)\u001b[0m \u001b[0;34m>\u001b[0m \u001b[0;36m1\u001b[0m\u001b[0;34m:\u001b[0m\u001b[0;34m\u001b[0m\u001b[0;34m\u001b[0m\u001b[0m\n\u001b[1;32m    204\u001b[0m         raise ValueError(\"Found input variables with inconsistent numbers of\"\n\u001b[0;32m--> 205\u001b[0;31m                          \" samples: %r\" % [int(l) for l in lengths])\n\u001b[0m\u001b[1;32m    206\u001b[0m \u001b[0;34m\u001b[0m\u001b[0m\n\u001b[1;32m    207\u001b[0m \u001b[0;34m\u001b[0m\u001b[0m\n",
      "\u001b[0;31mValueError\u001b[0m: Found input variables with inconsistent numbers of samples: [4, 4, 506]"
     ]
    }
   ],
   "source": [
    "from sklearn import linear_model\n",
    "from sklearn import neural_network\n",
    "\n",
    "cv   = sklearn.model_selection.LeaveOneGroupOut()\n",
    "clf  = sklearn.linear_model.LinearRegression()\n",
    "grid = sklearn.model_selection.GridSearchCV(clf, param_grid={}, cv=cv, \n",
    "                                            return_train_score=True, iid=True, n_jobs=-1)\n",
    "\n",
    "values_in_col8 = np.array(X_df[8].values, dtype=\"int\")\n",
    "\n",
    "grid.fit(X,y, groups=values_in_col8)\n"
   ]
  },
  {
   "cell_type": "code",
   "execution_count": null,
   "metadata": {},
   "outputs": [],
   "source": []
  },
  {
   "cell_type": "code",
   "execution_count": null,
   "metadata": {},
   "outputs": [],
   "source": []
  }
 ],
 "metadata": {
  "kernelspec": {
   "display_name": "Python 3",
   "language": "python",
   "name": "python3"
  },
  "language_info": {
   "codemirror_mode": {
    "name": "ipython",
    "version": 3
   },
   "file_extension": ".py",
   "mimetype": "text/x-python",
   "name": "python",
   "nbconvert_exporter": "python",
   "pygments_lexer": "ipython3",
   "version": "3.7.3"
  },
  "toc": {
   "base_numbering": 1,
   "nav_menu": {},
   "number_sections": true,
   "sideBar": true,
   "skip_h1_title": false,
   "title_cell": "Table of Contents",
   "title_sidebar": "Contents",
   "toc_cell": true,
   "toc_position": {},
   "toc_section_display": true,
   "toc_window_display": false
  }
 },
 "nbformat": 4,
 "nbformat_minor": 2
}

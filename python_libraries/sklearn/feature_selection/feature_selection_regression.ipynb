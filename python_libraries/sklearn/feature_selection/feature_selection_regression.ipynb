{
 "cells": [
  {
   "cell_type": "code",
   "execution_count": 1,
   "metadata": {
    "ExecuteTime": {
     "end_time": "2020-01-07T09:33:38.873632Z",
     "start_time": "2020-01-07T09:33:35.876635Z"
    }
   },
   "outputs": [],
   "source": [
    "import pandas as pd\n",
    "import numpy as np\n",
    "import sklearn\n",
    "from sklearn import *"
   ]
  },
  {
   "cell_type": "code",
   "execution_count": 2,
   "metadata": {
    "ExecuteTime": {
     "end_time": "2020-01-07T09:33:38.881001Z",
     "start_time": "2020-01-07T09:33:38.875986Z"
    }
   },
   "outputs": [],
   "source": [
    "def warn(*args, **kwargs):\n",
    "    pass\n",
    "import warnings\n",
    "warnings.warn = warn"
   ]
  },
  {
   "cell_type": "markdown",
   "metadata": {
    "ExecuteTime": {
     "end_time": "2020-01-03T15:55:02.495484Z",
     "start_time": "2020-01-03T15:55:02.492593Z"
    }
   },
   "source": [
    "# Feature selection for regression"
   ]
  },
  {
   "cell_type": "code",
   "execution_count": 3,
   "metadata": {
    "ExecuteTime": {
     "end_time": "2020-01-07T09:33:38.899829Z",
     "start_time": "2020-01-07T09:33:38.883486Z"
    }
   },
   "outputs": [
    {
     "name": "stdout",
     "output_type": "stream",
     "text": [
      "(379, 13) (127, 13)\n"
     ]
    }
   ],
   "source": [
    "from sklearn.datasets import load_boston\n",
    "\n",
    "\n",
    "X, y = load_boston(return_X_y=True)\n",
    "X_tr, X_te, y_tr, y_te = sklearn.model_selection.train_test_split(X,y)\n",
    "\n",
    "print(X_tr.shape, X_te.shape)"
   ]
  },
  {
   "cell_type": "code",
   "execution_count": 4,
   "metadata": {
    "ExecuteTime": {
     "end_time": "2020-01-07T09:33:38.907075Z",
     "start_time": "2020-01-07T09:33:38.903241Z"
    }
   },
   "outputs": [],
   "source": [
    "scorer_mse = sklearn.metrics.mean_squared_error"
   ]
  },
  {
   "cell_type": "markdown",
   "metadata": {
    "ExecuteTime": {
     "end_time": "2020-01-03T15:55:52.666728Z",
     "start_time": "2020-01-03T15:55:52.663740Z"
    }
   },
   "source": [
    "## Univariate Feautre selection for regression"
   ]
  },
  {
   "cell_type": "code",
   "execution_count": 5,
   "metadata": {
    "ExecuteTime": {
     "end_time": "2020-01-07T09:33:38.913318Z",
     "start_time": "2020-01-07T09:33:38.909427Z"
    }
   },
   "outputs": [],
   "source": [
    "from sklearn.feature_selection import f_regression"
   ]
  },
  {
   "cell_type": "code",
   "execution_count": 6,
   "metadata": {
    "ExecuteTime": {
     "end_time": "2020-01-07T09:33:38.966864Z",
     "start_time": "2020-01-07T09:33:38.916764Z"
    }
   },
   "outputs": [
    {
     "data": {
      "text/plain": [
       "(379, 10)"
      ]
     },
     "execution_count": 6,
     "metadata": {},
     "output_type": "execute_result"
    }
   ],
   "source": [
    "select_k_fregression = sklearn.feature_selection.SelectKBest(f_regression, k=10).fit(X_tr, y_tr)\n",
    "select_k_fregression.transform(X_tr).shape"
   ]
  },
  {
   "cell_type": "markdown",
   "metadata": {},
   "source": [
    "First let us try with a model without feature selection"
   ]
  },
  {
   "cell_type": "code",
   "execution_count": 7,
   "metadata": {
    "ExecuteTime": {
     "end_time": "2020-01-07T09:33:41.220019Z",
     "start_time": "2020-01-07T09:33:38.970554Z"
    },
    "scrolled": true
   },
   "outputs": [
    {
     "name": "stdout",
     "output_type": "stream",
     "text": [
      "No Feature Selection -> train mse: 22.95567346030943, test mse: 23.500933759073195\n"
     ]
    }
   ],
   "source": [
    "model = sklearn.neural_network.MLPRegressor(hidden_layer_sizes=[250,250])\n",
    "model.fit(X_tr, y_tr)\n",
    "tr_score = scorer_mse(model.predict(X_tr), y_tr)\n",
    "te_score = scorer_mse(model.predict(X_te), y_te)\n",
    "\n",
    "print(f\"No Feature Selection -> train mse: {tr_score}, test mse: {te_score}\")"
   ]
  },
  {
   "cell_type": "markdown",
   "metadata": {},
   "source": [
    "Now let us select some of the columns"
   ]
  },
  {
   "cell_type": "code",
   "execution_count": 8,
   "metadata": {
    "ExecuteTime": {
     "end_time": "2020-01-07T09:33:43.359462Z",
     "start_time": "2020-01-07T09:33:41.223962Z"
    }
   },
   "outputs": [
    {
     "name": "stdout",
     "output_type": "stream",
     "text": [
      "Feature Selection -> train mse: 17.50010416563155, test mse: 18.741457965819734\n"
     ]
    }
   ],
   "source": [
    "select_k_fregression = sklearn.feature_selection.SelectKBest(f_regression, k=12).fit(X_tr, y_tr)\n",
    "\n",
    "X_tr_new = select_k_fregression.transform(X_tr)\n",
    "X_te_new = select_k_fregression.transform(X_te)\n",
    "\n",
    "model = sklearn.neural_network.MLPRegressor(hidden_layer_sizes=[250,250])\n",
    "\n",
    "model.fit(X_tr_new, y_tr)\n",
    "tr_score = scorer_mse(model.predict(X_tr_new), y_tr)\n",
    "te_score = scorer_mse(model.predict(X_te_new), y_te)\n",
    "\n",
    "print(f\"Feature Selection -> train mse: {tr_score}, test mse: {te_score}\")"
   ]
  },
  {
   "cell_type": "markdown",
   "metadata": {},
   "source": [
    "Notice that the results in train improved but not in test.\n",
    "\n",
    "How can we select the best `k` value ?  We can simply try many"
   ]
  },
  {
   "cell_type": "code",
   "execution_count": 9,
   "metadata": {
    "ExecuteTime": {
     "end_time": "2020-01-07T09:33:43.370451Z",
     "start_time": "2020-01-07T09:33:43.362226Z"
    }
   },
   "outputs": [],
   "source": [
    "from sklearn.metrics import make_scorer as make_scorer\n",
    "\n",
    "def mean_absolute_percentage_error(y_true, y_pred): \n",
    "    y_true, y_pred = np.array(y_true), np.array(y_pred)\n",
    "    return np.mean(np.abs((y_true - y_pred) / y_true))  * 100\n",
    "\n",
    "scoring_dict = {\"MSE\":  make_scorer(sklearn.metrics.mean_squared_error),\n",
    "                \"MAE\":  make_scorer(sklearn.metrics.mean_absolute_error),\n",
    "                \"MAPE\": make_scorer(mean_absolute_percentage_error),\n",
    "                \"R2\":   make_scorer(sklearn.metrics.r2_score)}\n",
    "\n"
   ]
  },
  {
   "cell_type": "code",
   "execution_count": 10,
   "metadata": {
    "ExecuteTime": {
     "end_time": "2020-01-07T09:33:43.385207Z",
     "start_time": "2020-01-07T09:33:43.373686Z"
    }
   },
   "outputs": [
    {
     "data": {
      "text/plain": [
       "MLPRegressor(activation='relu', alpha=0.0001, batch_size='auto', beta_1=0.9,\n",
       "             beta_2=0.999, early_stopping=False, epsilon=1e-08,\n",
       "             hidden_layer_sizes=[250, 250], learning_rate='constant',\n",
       "             learning_rate_init=0.001, max_iter=200, momentum=0.9,\n",
       "             n_iter_no_change=10, nesterovs_momentum=True, power_t=0.5,\n",
       "             random_state=None, shuffle=True, solver='adam', tol=0.0001,\n",
       "             validation_fraction=0.1, verbose=False, warm_start=False)"
      ]
     },
     "execution_count": 10,
     "metadata": {},
     "output_type": "execute_result"
    }
   ],
   "source": [
    "model"
   ]
  },
  {
   "cell_type": "code",
   "execution_count": 11,
   "metadata": {
    "ExecuteTime": {
     "end_time": "2020-01-07T09:35:30.721176Z",
     "start_time": "2020-01-07T09:33:43.388342Z"
    }
   },
   "outputs": [
    {
     "data": {
      "text/plain": [
       "GridSearchCV(cv=5, error_score='raise-deprecating',\n",
       "             estimator=Pipeline(memory=None,\n",
       "                                steps=[('feature_selector',\n",
       "                                        SelectKBest(k=10,\n",
       "                                                    score_func=<function f_regression at 0x1a1ee97488>)),\n",
       "                                       ('model',\n",
       "                                        MLPRegressor(activation='relu',\n",
       "                                                     alpha=0.0001,\n",
       "                                                     batch_size='auto',\n",
       "                                                     beta_1=0.9, beta_2=0.999,\n",
       "                                                     early_stopping=False,\n",
       "                                                     epsilon=1e-08,\n",
       "                                                     hidden_layer_sizes=[250,\n",
       "                                                                         250],\n",
       "                                                     learning_rate='c...\n",
       "             iid='warn', n_jobs=None,\n",
       "             param_grid={'feature_selector__k': [2, 3, 4, 5, 6, 7, 8, 9, 10, 11,\n",
       "                                                 12],\n",
       "                         'model__hidden_layer_sizes': [[250, 250]]},\n",
       "             pre_dispatch='2*n_jobs', refit='R2', return_train_score=True,\n",
       "             scoring={'MAE': make_scorer(mean_absolute_error),\n",
       "                      'MAPE': make_scorer(mean_absolute_percentage_error),\n",
       "                      'MSE': make_scorer(mean_squared_error),\n",
       "                      'R2': make_scorer(r2_score)},\n",
       "             verbose=0)"
      ]
     },
     "execution_count": 11,
     "metadata": {},
     "output_type": "execute_result"
    }
   ],
   "source": [
    "select_k_fregression = sklearn.feature_selection.SelectKBest(f_regression)\n",
    "model = sklearn.neural_network.MLPRegressor(hidden_layer_sizes=[250,250])\n",
    "n_features = X_tr.shape[1]\n",
    "\n",
    "pipe_model = sklearn.pipeline.Pipeline([(\"feature_selector\", select_k_fregression), \n",
    "                                         (\"model\", model)])\n",
    "\n",
    "pipe_grid = {\"feature_selector__k\":list(range(2,13)),\n",
    "             \"model__hidden_layer_sizes\":[[250,250]]}\n",
    "\n",
    "pipe_gridsearchcv = sklearn.model_selection.GridSearchCV(estimator=pipe_model,\n",
    "                                                         cv=5,\n",
    "                                                         param_grid=pipe_grid,\n",
    "                                                         scoring=scoring_dict,\n",
    "                                                         refit=\"R2\",\n",
    "                                                         return_train_score=True)\n",
    "\n",
    "pipe_gridsearchcv.fit(X_tr, y_tr)"
   ]
  },
  {
   "cell_type": "code",
   "execution_count": 12,
   "metadata": {
    "ExecuteTime": {
     "end_time": "2020-01-07T09:35:30.768784Z",
     "start_time": "2020-01-07T09:35:30.725458Z"
    }
   },
   "outputs": [],
   "source": [
    "def result_df(gridsearchcv, target_sortby=\"mean_test_score\", metrics=[]):\n",
    "\n",
    "    if len(metrics)==0:\n",
    "        df = pd.concat([\n",
    "                     pd.DataFrame(gridsearchcv.cv_results_[\"params\"]),\n",
    "                     pd.DataFrame({target_sortby: gridsearchcv.cv_results_[target_sortby]})\n",
    "                  ],axis=1)\n",
    "    else:\n",
    "        # do this properly\n",
    "        df = pd.concat([\n",
    "                       pd.DataFrame(gridsearchcv.cv_results_[\"params\"]),\n",
    "                       pd.DataFrame(gridsearchcv.cv_results_[metrics]),\n",
    "                       pd.DataFrame({target_sortby: gridsearchcv.cv_results_[target_sortby]})\n",
    "                  ],axis=1)\n",
    "        \n",
    "    df.sort_values(by=target_sortby, ascending=False, inplace=True)\n",
    "    df.reset_index(drop=True, inplace=True)\n",
    "    return df\n",
    "\n",
    "\n",
    "res_df = result_df(pipe_gridsearchcv, target_sortby=\"mean_test_R2\")\n",
    "\n",
    "#res_df = res_df.sort_values(by=\"mean_test_score\", ascending=False)"
   ]
  },
  {
   "cell_type": "code",
   "execution_count": 13,
   "metadata": {
    "ExecuteTime": {
     "end_time": "2020-01-07T09:35:30.801848Z",
     "start_time": "2020-01-07T09:35:30.771472Z"
    },
    "scrolled": true
   },
   "outputs": [
    {
     "data": {
      "text/html": [
       "<div>\n",
       "<style scoped>\n",
       "    .dataframe tbody tr th:only-of-type {\n",
       "        vertical-align: middle;\n",
       "    }\n",
       "\n",
       "    .dataframe tbody tr th {\n",
       "        vertical-align: top;\n",
       "    }\n",
       "\n",
       "    .dataframe thead th {\n",
       "        text-align: right;\n",
       "    }\n",
       "</style>\n",
       "<table border=\"1\" class=\"dataframe\">\n",
       "  <thead>\n",
       "    <tr style=\"text-align: right;\">\n",
       "      <th></th>\n",
       "      <th>feature_selector__k</th>\n",
       "      <th>model__hidden_layer_sizes</th>\n",
       "      <th>mean_test_R2</th>\n",
       "    </tr>\n",
       "  </thead>\n",
       "  <tbody>\n",
       "    <tr>\n",
       "      <th>0</th>\n",
       "      <td>4</td>\n",
       "      <td>[250, 250]</td>\n",
       "      <td>0.738731</td>\n",
       "    </tr>\n",
       "    <tr>\n",
       "      <th>1</th>\n",
       "      <td>3</td>\n",
       "      <td>[250, 250]</td>\n",
       "      <td>0.724248</td>\n",
       "    </tr>\n",
       "    <tr>\n",
       "      <th>2</th>\n",
       "      <td>2</td>\n",
       "      <td>[250, 250]</td>\n",
       "      <td>0.706576</td>\n",
       "    </tr>\n",
       "    <tr>\n",
       "      <th>3</th>\n",
       "      <td>6</td>\n",
       "      <td>[250, 250]</td>\n",
       "      <td>0.628101</td>\n",
       "    </tr>\n",
       "    <tr>\n",
       "      <th>4</th>\n",
       "      <td>11</td>\n",
       "      <td>[250, 250]</td>\n",
       "      <td>0.621085</td>\n",
       "    </tr>\n",
       "    <tr>\n",
       "      <th>5</th>\n",
       "      <td>12</td>\n",
       "      <td>[250, 250]</td>\n",
       "      <td>0.618198</td>\n",
       "    </tr>\n",
       "    <tr>\n",
       "      <th>6</th>\n",
       "      <td>7</td>\n",
       "      <td>[250, 250]</td>\n",
       "      <td>0.612776</td>\n",
       "    </tr>\n",
       "    <tr>\n",
       "      <th>7</th>\n",
       "      <td>8</td>\n",
       "      <td>[250, 250]</td>\n",
       "      <td>0.591045</td>\n",
       "    </tr>\n",
       "    <tr>\n",
       "      <th>8</th>\n",
       "      <td>10</td>\n",
       "      <td>[250, 250]</td>\n",
       "      <td>0.589061</td>\n",
       "    </tr>\n",
       "    <tr>\n",
       "      <th>9</th>\n",
       "      <td>5</td>\n",
       "      <td>[250, 250]</td>\n",
       "      <td>0.564396</td>\n",
       "    </tr>\n",
       "    <tr>\n",
       "      <th>10</th>\n",
       "      <td>9</td>\n",
       "      <td>[250, 250]</td>\n",
       "      <td>0.561701</td>\n",
       "    </tr>\n",
       "  </tbody>\n",
       "</table>\n",
       "</div>"
      ],
      "text/plain": [
       "    feature_selector__k model__hidden_layer_sizes  mean_test_R2\n",
       "0                     4                [250, 250]      0.738731\n",
       "1                     3                [250, 250]      0.724248\n",
       "2                     2                [250, 250]      0.706576\n",
       "3                     6                [250, 250]      0.628101\n",
       "4                    11                [250, 250]      0.621085\n",
       "5                    12                [250, 250]      0.618198\n",
       "6                     7                [250, 250]      0.612776\n",
       "7                     8                [250, 250]      0.591045\n",
       "8                    10                [250, 250]      0.589061\n",
       "9                     5                [250, 250]      0.564396\n",
       "10                    9                [250, 250]      0.561701"
      ]
     },
     "execution_count": 13,
     "metadata": {},
     "output_type": "execute_result"
    }
   ],
   "source": [
    "res_df"
   ]
  },
  {
   "cell_type": "markdown",
   "metadata": {
    "ExecuteTime": {
     "end_time": "2020-01-03T16:38:11.115726Z",
     "start_time": "2020-01-03T16:38:11.109876Z"
    }
   },
   "source": [
    "we can see that the best result was achieved with 3 features"
   ]
  },
  {
   "cell_type": "code",
   "execution_count": 14,
   "metadata": {
    "ExecuteTime": {
     "end_time": "2020-01-07T09:35:30.820855Z",
     "start_time": "2020-01-07T09:35:30.804965Z"
    }
   },
   "outputs": [
    {
     "name": "stdout",
     "output_type": "stream",
     "text": [
      "Feature Selection pipe -> train mse: 15.238384898850386, test mse: 13.322557651609241\n"
     ]
    }
   ],
   "source": [
    "tr_score = scorer_mse(pipe_gridsearchcv.predict(X_tr), y_tr)\n",
    "te_score = scorer_mse(pipe_gridsearchcv.predict(X_te), y_te)\n",
    "\n",
    "print(f\"Feature Selection pipe -> train mse: {tr_score}, test mse: {te_score}\")"
   ]
  },
  {
   "cell_type": "markdown",
   "metadata": {},
   "source": [
    "# Performing feature selection on a subset of features\n",
    "\n",
    "Let us consider a use case where we have to include some features from the data but we have the freedom to use or not use the other features.\n",
    "\n",
    "\n",
    "For example, let us consider we have to include features 0 and 1 but we might want to do feature selection in the features 2 to 12. Then we can do the following. We first define a list of optional features.\n",
    "\n",
    "```\n",
    "optional_features = list(range(2,13))\n",
    "```\n",
    "\n",
    "Then we create a `sklearn.compose.ColumnTransformer` that performs a feature selection process to only `optional_features`.\n",
    "\n"
   ]
  },
  {
   "cell_type": "code",
   "execution_count": 50,
   "metadata": {
    "ExecuteTime": {
     "end_time": "2020-01-07T09:56:08.095208Z",
     "start_time": "2020-01-07T09:56:08.089766Z"
    }
   },
   "outputs": [
    {
     "data": {
      "text/plain": [
       "[2, 3, 4, 5, 6, 7, 8, 9, 10, 11, 12]"
      ]
     },
     "execution_count": 50,
     "metadata": {},
     "output_type": "execute_result"
    }
   ],
   "source": [
    "optional_features = list(range(2,13))\n",
    "optional_features"
   ]
  },
  {
   "cell_type": "code",
   "execution_count": 51,
   "metadata": {
    "ExecuteTime": {
     "end_time": "2020-01-07T09:56:08.325640Z",
     "start_time": "2020-01-07T09:56:08.305443Z"
    },
    "scrolled": true
   },
   "outputs": [
    {
     "data": {
      "text/html": [
       "<div>\n",
       "<style scoped>\n",
       "    .dataframe tbody tr th:only-of-type {\n",
       "        vertical-align: middle;\n",
       "    }\n",
       "\n",
       "    .dataframe tbody tr th {\n",
       "        vertical-align: top;\n",
       "    }\n",
       "\n",
       "    .dataframe thead th {\n",
       "        text-align: right;\n",
       "    }\n",
       "</style>\n",
       "<table border=\"1\" class=\"dataframe\">\n",
       "  <thead>\n",
       "    <tr style=\"text-align: right;\">\n",
       "      <th></th>\n",
       "      <th>0</th>\n",
       "      <th>1</th>\n",
       "      <th>2</th>\n",
       "      <th>3</th>\n",
       "      <th>4</th>\n",
       "      <th>5</th>\n",
       "      <th>6</th>\n",
       "      <th>7</th>\n",
       "      <th>8</th>\n",
       "      <th>9</th>\n",
       "      <th>10</th>\n",
       "      <th>11</th>\n",
       "      <th>12</th>\n",
       "    </tr>\n",
       "  </thead>\n",
       "  <tbody>\n",
       "    <tr>\n",
       "      <th>0</th>\n",
       "      <td>0.02055</td>\n",
       "      <td>85.0</td>\n",
       "      <td>0.74</td>\n",
       "      <td>0.0</td>\n",
       "      <td>0.410</td>\n",
       "      <td>6.383</td>\n",
       "      <td>35.7</td>\n",
       "      <td>9.1876</td>\n",
       "      <td>2.0</td>\n",
       "      <td>313.0</td>\n",
       "      <td>17.3</td>\n",
       "      <td>396.90</td>\n",
       "      <td>5.77</td>\n",
       "    </tr>\n",
       "    <tr>\n",
       "      <th>1</th>\n",
       "      <td>0.19073</td>\n",
       "      <td>22.0</td>\n",
       "      <td>5.86</td>\n",
       "      <td>0.0</td>\n",
       "      <td>0.431</td>\n",
       "      <td>6.718</td>\n",
       "      <td>17.5</td>\n",
       "      <td>7.8265</td>\n",
       "      <td>7.0</td>\n",
       "      <td>330.0</td>\n",
       "      <td>19.1</td>\n",
       "      <td>393.74</td>\n",
       "      <td>6.56</td>\n",
       "    </tr>\n",
       "    <tr>\n",
       "      <th>2</th>\n",
       "      <td>0.21409</td>\n",
       "      <td>22.0</td>\n",
       "      <td>5.86</td>\n",
       "      <td>0.0</td>\n",
       "      <td>0.431</td>\n",
       "      <td>6.438</td>\n",
       "      <td>8.9</td>\n",
       "      <td>7.3967</td>\n",
       "      <td>7.0</td>\n",
       "      <td>330.0</td>\n",
       "      <td>19.1</td>\n",
       "      <td>377.07</td>\n",
       "      <td>3.59</td>\n",
       "    </tr>\n",
       "    <tr>\n",
       "      <th>3</th>\n",
       "      <td>0.38735</td>\n",
       "      <td>0.0</td>\n",
       "      <td>25.65</td>\n",
       "      <td>0.0</td>\n",
       "      <td>0.581</td>\n",
       "      <td>5.613</td>\n",
       "      <td>95.6</td>\n",
       "      <td>1.7572</td>\n",
       "      <td>2.0</td>\n",
       "      <td>188.0</td>\n",
       "      <td>19.1</td>\n",
       "      <td>359.29</td>\n",
       "      <td>27.26</td>\n",
       "    </tr>\n",
       "    <tr>\n",
       "      <th>4</th>\n",
       "      <td>0.25915</td>\n",
       "      <td>0.0</td>\n",
       "      <td>21.89</td>\n",
       "      <td>0.0</td>\n",
       "      <td>0.624</td>\n",
       "      <td>5.693</td>\n",
       "      <td>96.0</td>\n",
       "      <td>1.7883</td>\n",
       "      <td>4.0</td>\n",
       "      <td>437.0</td>\n",
       "      <td>21.2</td>\n",
       "      <td>392.11</td>\n",
       "      <td>17.19</td>\n",
       "    </tr>\n",
       "  </tbody>\n",
       "</table>\n",
       "</div>"
      ],
      "text/plain": [
       "         0     1      2    3      4      5     6       7    8      9    10  \\\n",
       "0  0.02055  85.0   0.74  0.0  0.410  6.383  35.7  9.1876  2.0  313.0  17.3   \n",
       "1  0.19073  22.0   5.86  0.0  0.431  6.718  17.5  7.8265  7.0  330.0  19.1   \n",
       "2  0.21409  22.0   5.86  0.0  0.431  6.438   8.9  7.3967  7.0  330.0  19.1   \n",
       "3  0.38735   0.0  25.65  0.0  0.581  5.613  95.6  1.7572  2.0  188.0  19.1   \n",
       "4  0.25915   0.0  21.89  0.0  0.624  5.693  96.0  1.7883  4.0  437.0  21.2   \n",
       "\n",
       "       11     12  \n",
       "0  396.90   5.77  \n",
       "1  393.74   6.56  \n",
       "2  377.07   3.59  \n",
       "3  359.29  27.26  \n",
       "4  392.11  17.19  "
      ]
     },
     "execution_count": 51,
     "metadata": {},
     "output_type": "execute_result"
    }
   ],
   "source": [
    "X_tr_df = pd.DataFrame(X_tr)\n",
    "X_tr_df.head()"
   ]
  },
  {
   "cell_type": "code",
   "execution_count": 67,
   "metadata": {
    "ExecuteTime": {
     "end_time": "2020-01-07T09:57:00.710928Z",
     "start_time": "2020-01-07T09:57:00.705805Z"
    }
   },
   "outputs": [],
   "source": [
    "from sklearn.compose import ColumnTransformer\n",
    "\n",
    "select_k_fregression = sklearn.feature_selection.SelectKBest(f_regression,k=3)\n",
    "\n",
    "column_trans = ColumnTransformer(\n",
    "    [('feature_selection_subset', select_k_fregression, optional_features)],\n",
    "    remainder='passthrough')"
   ]
  },
  {
   "cell_type": "code",
   "execution_count": 123,
   "metadata": {
    "ExecuteTime": {
     "end_time": "2020-01-07T10:58:52.041389Z",
     "start_time": "2020-01-07T10:58:52.028042Z"
    }
   },
   "outputs": [
    {
     "data": {
      "text/plain": [
       "ColumnTransformer(n_jobs=None, remainder='passthrough', sparse_threshold=0.3,\n",
       "                  transformer_weights=None,\n",
       "                  transformers=[('select_k',\n",
       "                                 SelectKBest(k=10,\n",
       "                                             score_func=<function f_regression at 0x1a1ee97488>),\n",
       "                                 [2, 3, 4, 5, 6, 7, 8, 9, 10, 11, 12])],\n",
       "                  verbose=False)"
      ]
     },
     "execution_count": 123,
     "metadata": {},
     "output_type": "execute_result"
    }
   ],
   "source": [
    "column_trans.fit(X_tr_df, y_tr)"
   ]
  },
  {
   "cell_type": "code",
   "execution_count": 76,
   "metadata": {
    "ExecuteTime": {
     "end_time": "2020-01-07T10:01:32.539021Z",
     "start_time": "2020-01-07T10:01:32.529627Z"
    }
   },
   "outputs": [
    {
     "data": {
      "text/plain": [
       "((379, 13), (379, 5))"
      ]
     },
     "execution_count": 76,
     "metadata": {},
     "output_type": "execute_result"
    }
   ],
   "source": [
    "X_df_tr_transformed = column_trans.transform(X_tr_df)\n",
    "X_tr_df.shape, X_df_tr_transformed.shape"
   ]
  },
  {
   "cell_type": "code",
   "execution_count": 78,
   "metadata": {
    "ExecuteTime": {
     "end_time": "2020-01-07T10:01:40.822078Z",
     "start_time": "2020-01-07T10:01:40.753235Z"
    }
   },
   "outputs": [],
   "source": [
    "?column_trans.transform"
   ]
  },
  {
   "cell_type": "markdown",
   "metadata": {},
   "source": [
    "Notice that `X_df_tr_transformed` has 5 columns even though we set `select_k_fregression` with k=3.\n",
    "This is precisely what we want, since we have selected 3 columns form `optional_features`, leaving the 2 remaining columns intact.\n",
    "\n",
    "Notice that now columns 0 and 1 have become 3 and 4 respectively and the data of those collumns remains intact  because the ColumnTransformer has  `remainder='passthrough'`."
   ]
  },
  {
   "cell_type": "code",
   "execution_count": 75,
   "metadata": {
    "ExecuteTime": {
     "end_time": "2020-01-07T09:59:21.446193Z",
     "start_time": "2020-01-07T09:59:21.433151Z"
    }
   },
   "outputs": [
    {
     "data": {
      "text/html": [
       "<div>\n",
       "<style scoped>\n",
       "    .dataframe tbody tr th:only-of-type {\n",
       "        vertical-align: middle;\n",
       "    }\n",
       "\n",
       "    .dataframe tbody tr th {\n",
       "        vertical-align: top;\n",
       "    }\n",
       "\n",
       "    .dataframe thead th {\n",
       "        text-align: right;\n",
       "    }\n",
       "</style>\n",
       "<table border=\"1\" class=\"dataframe\">\n",
       "  <thead>\n",
       "    <tr style=\"text-align: right;\">\n",
       "      <th></th>\n",
       "      <th>0</th>\n",
       "      <th>1</th>\n",
       "      <th>2</th>\n",
       "      <th>3</th>\n",
       "      <th>4</th>\n",
       "    </tr>\n",
       "  </thead>\n",
       "  <tbody>\n",
       "    <tr>\n",
       "      <th>0</th>\n",
       "      <td>6.383</td>\n",
       "      <td>17.3</td>\n",
       "      <td>5.77</td>\n",
       "      <td>0.02055</td>\n",
       "      <td>85.0</td>\n",
       "    </tr>\n",
       "    <tr>\n",
       "      <th>1</th>\n",
       "      <td>6.718</td>\n",
       "      <td>19.1</td>\n",
       "      <td>6.56</td>\n",
       "      <td>0.19073</td>\n",
       "      <td>22.0</td>\n",
       "    </tr>\n",
       "    <tr>\n",
       "      <th>2</th>\n",
       "      <td>6.438</td>\n",
       "      <td>19.1</td>\n",
       "      <td>3.59</td>\n",
       "      <td>0.21409</td>\n",
       "      <td>22.0</td>\n",
       "    </tr>\n",
       "    <tr>\n",
       "      <th>3</th>\n",
       "      <td>5.613</td>\n",
       "      <td>19.1</td>\n",
       "      <td>27.26</td>\n",
       "      <td>0.38735</td>\n",
       "      <td>0.0</td>\n",
       "    </tr>\n",
       "    <tr>\n",
       "      <th>4</th>\n",
       "      <td>5.693</td>\n",
       "      <td>21.2</td>\n",
       "      <td>17.19</td>\n",
       "      <td>0.25915</td>\n",
       "      <td>0.0</td>\n",
       "    </tr>\n",
       "  </tbody>\n",
       "</table>\n",
       "</div>"
      ],
      "text/plain": [
       "       0     1      2        3     4\n",
       "0  6.383  17.3   5.77  0.02055  85.0\n",
       "1  6.718  19.1   6.56  0.19073  22.0\n",
       "2  6.438  19.1   3.59  0.21409  22.0\n",
       "3  5.613  19.1  27.26  0.38735   0.0\n",
       "4  5.693  21.2  17.19  0.25915   0.0"
      ]
     },
     "execution_count": 75,
     "metadata": {},
     "output_type": "execute_result"
    }
   ],
   "source": [
    "pd.DataFrame(X_df_tr_transformed).head()"
   ]
  },
  {
   "cell_type": "markdown",
   "metadata": {},
   "source": [
    "# Performing feature selection on a subset of features inside a Pipeline.\n",
    "\n",
    "\n",
    "Let us consider we want to train a model (and the hyperparameters of the model) with the following requirement:\n",
    "\n",
    "- All the features on the input dataframe have to be used, with the exception of the columns in `optional_features`.\n",
    "\n",
    "In the example from the first section in this notebook we defined the `pipe_grid` as follows:\n",
    "\n",
    "```\n",
    "pipe_model = sklearn.pipeline.Pipeline([(\"feature_selector\", select_k_fregression), \n",
    "                                        (\"model\", model)])\n",
    "                                         \n",
    "pipe_grid = {\"feature_selector__k\":list(range(2,13)),\n",
    "             \"model__hidden_layer_sizes\":[[250,250]]}\n",
    "```\n",
    "\n",
    "with this definition the feature selection can choose to omit any feature. Therefore, this is not meeting the criteria that we specified before. \n",
    "\n",
    "We can enforce the feature selection to be done in the set of `optional_features` using a `ColumnTransformer` passing the `optional_features` as input and settig `remainder='passthorugh'` to make sure all the other features that are not in `optional_features` are used.\n",
    "\n",
    "\n",
    "```\n",
    "select_k_fregression = sklearn.feature_selection.SelectKBest(f_regression,k=3)\n",
    "\n",
    "column_trans = ColumnTransformer(\n",
    "    [('feature_selection_subset', select_k_fregression, optional_features)],\n",
    "    remainder='passthrough')\n",
    " ```"
   ]
  },
  {
   "cell_type": "code",
   "execution_count": 140,
   "metadata": {
    "ExecuteTime": {
     "end_time": "2020-01-07T13:09:30.093324Z",
     "start_time": "2020-01-07T13:09:30.086100Z"
    }
   },
   "outputs": [],
   "source": [
    "# put the feature selection inside a ColumnTransformer with the optional_features\n",
    "select_k_fregression = sklearn.feature_selection.SelectKBest(f_regression)\n",
    "column_trans = ColumnTransformer([('select_k', select_k_fregression, optional_features)],\n",
    "                                   remainder='passthrough')\n",
    "\n",
    "model = sklearn.neural_network.MLPRegressor(hidden_layer_sizes=[250,250])\n",
    "\n",
    "pipe_model = sklearn.pipeline.Pipeline([(\"featselect\", column_trans), \n",
    "                                         (\"model\", model)])\n",
    "\n",
    "optional_features = list(range(2,13))\n",
    "\n",
    "# this grid will test feature selection from 3 up to all the optional_features.\n",
    "pipe_grid = {\"featselect__select_k__k\":list(range(3,len(optional_features))),\n",
    "             \"model__hidden_layer_sizes\":[[250,250]]}\n",
    "\n",
    "pipe_gridsearchcv = sklearn.model_selection.GridSearchCV(estimator=pipe_model,\n",
    "                                                         cv=5,\n",
    "                                                         param_grid=pipe_grid,\n",
    "                                                         scoring=scoring_dict,\n",
    "                                                         refit=\"R2\",\n",
    "                                                         return_train_score=True)\n"
   ]
  },
  {
   "cell_type": "code",
   "execution_count": 149,
   "metadata": {
    "ExecuteTime": {
     "end_time": "2020-01-07T13:13:12.996391Z",
     "start_time": "2020-01-07T13:13:12.985810Z"
    }
   },
   "outputs": [
    {
     "data": {
      "text/plain": [
       "[3, 4, 5, 6, 7, 8, 9, 10]"
      ]
     },
     "execution_count": 149,
     "metadata": {},
     "output_type": "execute_result"
    }
   ],
   "source": [
    "pipe_grid[\"featselect__select_k__k\"]"
   ]
  },
  {
   "cell_type": "code",
   "execution_count": 145,
   "metadata": {
    "ExecuteTime": {
     "end_time": "2020-01-07T13:11:58.617607Z",
     "start_time": "2020-01-07T13:11:58.601028Z"
    }
   },
   "outputs": [
    {
     "data": {
      "text/html": [
       "<div>\n",
       "<style scoped>\n",
       "    .dataframe tbody tr th:only-of-type {\n",
       "        vertical-align: middle;\n",
       "    }\n",
       "\n",
       "    .dataframe tbody tr th {\n",
       "        vertical-align: top;\n",
       "    }\n",
       "\n",
       "    .dataframe thead th {\n",
       "        text-align: right;\n",
       "    }\n",
       "</style>\n",
       "<table border=\"1\" class=\"dataframe\">\n",
       "  <thead>\n",
       "    <tr style=\"text-align: right;\">\n",
       "      <th></th>\n",
       "      <th>0</th>\n",
       "      <th>1</th>\n",
       "      <th>2</th>\n",
       "      <th>3</th>\n",
       "      <th>4</th>\n",
       "      <th>5</th>\n",
       "      <th>6</th>\n",
       "      <th>7</th>\n",
       "      <th>8</th>\n",
       "      <th>9</th>\n",
       "      <th>10</th>\n",
       "      <th>11</th>\n",
       "      <th>12</th>\n",
       "    </tr>\n",
       "  </thead>\n",
       "  <tbody>\n",
       "    <tr>\n",
       "      <th>0</th>\n",
       "      <td>0.02055</td>\n",
       "      <td>85.0</td>\n",
       "      <td>0.74</td>\n",
       "      <td>0.0</td>\n",
       "      <td>0.410</td>\n",
       "      <td>6.383</td>\n",
       "      <td>35.7</td>\n",
       "      <td>9.1876</td>\n",
       "      <td>2.0</td>\n",
       "      <td>313.0</td>\n",
       "      <td>17.3</td>\n",
       "      <td>396.90</td>\n",
       "      <td>5.77</td>\n",
       "    </tr>\n",
       "    <tr>\n",
       "      <th>1</th>\n",
       "      <td>0.19073</td>\n",
       "      <td>22.0</td>\n",
       "      <td>5.86</td>\n",
       "      <td>0.0</td>\n",
       "      <td>0.431</td>\n",
       "      <td>6.718</td>\n",
       "      <td>17.5</td>\n",
       "      <td>7.8265</td>\n",
       "      <td>7.0</td>\n",
       "      <td>330.0</td>\n",
       "      <td>19.1</td>\n",
       "      <td>393.74</td>\n",
       "      <td>6.56</td>\n",
       "    </tr>\n",
       "    <tr>\n",
       "      <th>2</th>\n",
       "      <td>0.21409</td>\n",
       "      <td>22.0</td>\n",
       "      <td>5.86</td>\n",
       "      <td>0.0</td>\n",
       "      <td>0.431</td>\n",
       "      <td>6.438</td>\n",
       "      <td>8.9</td>\n",
       "      <td>7.3967</td>\n",
       "      <td>7.0</td>\n",
       "      <td>330.0</td>\n",
       "      <td>19.1</td>\n",
       "      <td>377.07</td>\n",
       "      <td>3.59</td>\n",
       "    </tr>\n",
       "    <tr>\n",
       "      <th>3</th>\n",
       "      <td>0.38735</td>\n",
       "      <td>0.0</td>\n",
       "      <td>25.65</td>\n",
       "      <td>0.0</td>\n",
       "      <td>0.581</td>\n",
       "      <td>5.613</td>\n",
       "      <td>95.6</td>\n",
       "      <td>1.7572</td>\n",
       "      <td>2.0</td>\n",
       "      <td>188.0</td>\n",
       "      <td>19.1</td>\n",
       "      <td>359.29</td>\n",
       "      <td>27.26</td>\n",
       "    </tr>\n",
       "    <tr>\n",
       "      <th>4</th>\n",
       "      <td>0.25915</td>\n",
       "      <td>0.0</td>\n",
       "      <td>21.89</td>\n",
       "      <td>0.0</td>\n",
       "      <td>0.624</td>\n",
       "      <td>5.693</td>\n",
       "      <td>96.0</td>\n",
       "      <td>1.7883</td>\n",
       "      <td>4.0</td>\n",
       "      <td>437.0</td>\n",
       "      <td>21.2</td>\n",
       "      <td>392.11</td>\n",
       "      <td>17.19</td>\n",
       "    </tr>\n",
       "  </tbody>\n",
       "</table>\n",
       "</div>"
      ],
      "text/plain": [
       "         0     1      2    3      4      5     6       7    8      9    10  \\\n",
       "0  0.02055  85.0   0.74  0.0  0.410  6.383  35.7  9.1876  2.0  313.0  17.3   \n",
       "1  0.19073  22.0   5.86  0.0  0.431  6.718  17.5  7.8265  7.0  330.0  19.1   \n",
       "2  0.21409  22.0   5.86  0.0  0.431  6.438   8.9  7.3967  7.0  330.0  19.1   \n",
       "3  0.38735   0.0  25.65  0.0  0.581  5.613  95.6  1.7572  2.0  188.0  19.1   \n",
       "4  0.25915   0.0  21.89  0.0  0.624  5.693  96.0  1.7883  4.0  437.0  21.2   \n",
       "\n",
       "       11     12  \n",
       "0  396.90   5.77  \n",
       "1  393.74   6.56  \n",
       "2  377.07   3.59  \n",
       "3  359.29  27.26  \n",
       "4  392.11  17.19  "
      ]
     },
     "execution_count": 145,
     "metadata": {},
     "output_type": "execute_result"
    }
   ],
   "source": [
    "X_tr_df.head()"
   ]
  },
  {
   "cell_type": "code",
   "execution_count": 146,
   "metadata": {
    "ExecuteTime": {
     "end_time": "2020-01-07T13:12:06.468033Z",
     "start_time": "2020-01-07T13:12:06.461564Z"
    }
   },
   "outputs": [
    {
     "data": {
      "text/plain": [
       "[('featselect',\n",
       "  ColumnTransformer(n_jobs=None, remainder='passthrough', sparse_threshold=0.3,\n",
       "                    transformer_weights=None,\n",
       "                    transformers=[('select_k',\n",
       "                                   SelectKBest(k=10,\n",
       "                                               score_func=<function f_regression at 0x1a1ee97488>),\n",
       "                                   [2, 3, 4, 5, 6, 7, 8, 9, 10, 11, 12])],\n",
       "                    verbose=False)),\n",
       " ('model',\n",
       "  MLPRegressor(activation='relu', alpha=0.0001, batch_size='auto', beta_1=0.9,\n",
       "               beta_2=0.999, early_stopping=False, epsilon=1e-08,\n",
       "               hidden_layer_sizes=[250, 250], learning_rate='constant',\n",
       "               learning_rate_init=0.001, max_iter=200, momentum=0.9,\n",
       "               n_iter_no_change=10, nesterovs_momentum=True, power_t=0.5,\n",
       "               random_state=None, shuffle=True, solver='adam', tol=0.0001,\n",
       "               validation_fraction=0.1, verbose=False, warm_start=False))]"
      ]
     },
     "execution_count": 146,
     "metadata": {},
     "output_type": "execute_result"
    }
   ],
   "source": [
    "pipe_gridsearchcv.estimator.s"
   ]
  },
  {
   "cell_type": "code",
   "execution_count": 143,
   "metadata": {
    "ExecuteTime": {
     "end_time": "2020-01-07T13:10:47.631660Z",
     "start_time": "2020-01-07T13:09:30.917951Z"
    }
   },
   "outputs": [
    {
     "data": {
      "text/plain": [
       "GridSearchCV(cv=5, error_score='raise-deprecating',\n",
       "             estimator=Pipeline(memory=None,\n",
       "                                steps=[('featselect',\n",
       "                                        ColumnTransformer(n_jobs=None,\n",
       "                                                          remainder='passthrough',\n",
       "                                                          sparse_threshold=0.3,\n",
       "                                                          transformer_weights=None,\n",
       "                                                          transformers=[('select_k',\n",
       "                                                                         SelectKBest(k=10,\n",
       "                                                                                     score_func=<function f_regression at 0x1a1ee97488>),\n",
       "                                                                         [2, 3,\n",
       "                                                                          4, 5,\n",
       "                                                                          6, 7,\n",
       "                                                                          8, 9,\n",
       "                                                                          10,\n",
       "                                                                          11,\n",
       "                                                                          12])],\n",
       "                                                          verbose=False)),\n",
       "                                       ('model',\n",
       "                                        ML...\n",
       "             iid='warn', n_jobs=None,\n",
       "             param_grid={'featselect__select_k__k': [3, 4, 5, 6, 7, 8, 9, 10],\n",
       "                         'model__hidden_layer_sizes': [[250, 250]]},\n",
       "             pre_dispatch='2*n_jobs', refit='R2', return_train_score=True,\n",
       "             scoring={'MAE': make_scorer(mean_absolute_error),\n",
       "                      'MAPE': make_scorer(mean_absolute_percentage_error),\n",
       "                      'MSE': make_scorer(mean_squared_error),\n",
       "                      'R2': make_scorer(r2_score)},\n",
       "             verbose=0)"
      ]
     },
     "execution_count": 143,
     "metadata": {},
     "output_type": "execute_result"
    }
   ],
   "source": [
    "pipe_gridsearchcv.fit(X_tr_df, y_tr)"
   ]
  },
  {
   "cell_type": "code",
   "execution_count": 144,
   "metadata": {
    "ExecuteTime": {
     "end_time": "2020-01-07T13:10:47.649610Z",
     "start_time": "2020-01-07T13:10:47.634554Z"
    }
   },
   "outputs": [
    {
     "name": "stdout",
     "output_type": "stream",
     "text": [
      "Feature Selection pipe -> train mse: 12.768274078151013, test mse: 12.984042753994713\n"
     ]
    }
   ],
   "source": [
    "tr_score = scorer_mse(pipe_gridsearchcv.predict(X_tr), y_tr)\n",
    "te_score = scorer_mse(pipe_gridsearchcv.predict(X_te), y_te)\n",
    "\n",
    "print(f\"Feature Selection pipe -> train mse: {tr_score}, test mse: {te_score}\")"
   ]
  },
  {
   "cell_type": "code",
   "execution_count": 125,
   "metadata": {
    "ExecuteTime": {
     "end_time": "2020-01-07T13:07:17.149823Z",
     "start_time": "2020-01-07T13:07:17.140840Z"
    }
   },
   "outputs": [
    {
     "data": {
      "text/plain": [
       "[('featselect',\n",
       "  ColumnTransformer(n_jobs=None, remainder='passthrough', sparse_threshold=0.3,\n",
       "                    transformer_weights=None,\n",
       "                    transformers=[('select_k',\n",
       "                                   SelectKBest(k=10,\n",
       "                                               score_func=<function f_regression at 0x1a1ee97488>),\n",
       "                                   [2, 3, 4, 5, 6, 7, 8, 9, 10, 11, 12])],\n",
       "                    verbose=False)),\n",
       " ('model',\n",
       "  MLPRegressor(activation='relu', alpha=0.0001, batch_size='auto', beta_1=0.9,\n",
       "               beta_2=0.999, early_stopping=False, epsilon=1e-08,\n",
       "               hidden_layer_sizes=[250, 250], learning_rate='constant',\n",
       "               learning_rate_init=0.001, max_iter=200, momentum=0.9,\n",
       "               n_iter_no_change=10, nesterovs_momentum=True, power_t=0.5,\n",
       "               random_state=None, shuffle=True, solver='adam', tol=0.0001,\n",
       "               validation_fraction=0.1, verbose=False, warm_start=False))]"
      ]
     },
     "execution_count": 125,
     "metadata": {},
     "output_type": "execute_result"
    }
   ],
   "source": [
    "pipe_gridsearchcv.estimator.steps"
   ]
  },
  {
   "cell_type": "markdown",
   "metadata": {
    "ExecuteTime": {
     "end_time": "2020-01-07T13:16:10.697336Z",
     "start_time": "2020-01-07T13:16:10.692435Z"
    }
   },
   "source": [
    "###### Keeping all features even if feature selection is in the pipeline\n",
    "\n",
    "We can use all the features (do not perform feature selection by stating `featselect__select_k__k=\"all\"`)"
   ]
  },
  {
   "cell_type": "code",
   "execution_count": 224,
   "metadata": {
    "ExecuteTime": {
     "end_time": "2020-01-07T13:25:56.507838Z",
     "start_time": "2020-01-07T13:25:56.503517Z"
    }
   },
   "outputs": [],
   "source": [
    "# put the feature selection inside a ColumnTransformer with the optional_features\n",
    "select_k_fregression = sklearn.feature_selection.SelectKBest(f_regression)\n",
    "column_trans = ColumnTransformer([('select_k', select_k_fregression, optional_features)],\n",
    "                                   remainder='passthrough')\n",
    "\n",
    "model = sklearn.neural_network.MLPRegressor(hidden_layer_sizes=[200])\n",
    "\n",
    "pipe_model = sklearn.pipeline.Pipeline([(\"featselect\", column_trans), \n",
    "                                         (\"model\", model)])"
   ]
  },
  {
   "cell_type": "code",
   "execution_count": 225,
   "metadata": {
    "ExecuteTime": {
     "end_time": "2020-01-07T13:25:57.782807Z",
     "start_time": "2020-01-07T13:25:57.778654Z"
    }
   },
   "outputs": [],
   "source": [
    "\n",
    "# this grid will test feature selection from 3 up to all the optional_features.\n",
    "pipe_grid = {\"featselect__select_k__k\":[\"all\"],\n",
    "             \"model__hidden_layer_sizes\":[[20,20]]}\n",
    "\n",
    "pipe_gridsearchcv_david = sklearn.model_selection.GridSearchCV(estimator=pipe_model,\n",
    "                                                         cv=5,\n",
    "                                                         param_grid=pipe_grid,\n",
    "                                                         scoring=scoring_dict,\n",
    "                                                         refit=\"R2\",\n",
    "                                                         return_train_score=True,\n",
    "                                                         )"
   ]
  },
  {
   "cell_type": "code",
   "execution_count": 234,
   "metadata": {
    "ExecuteTime": {
     "end_time": "2020-01-07T13:26:06.607466Z",
     "start_time": "2020-01-07T13:26:06.600864Z"
    }
   },
   "outputs": [],
   "source": [
    "X_tr_trans = pipe_gridsearchcv_david.best_estimator_.steps[0][1].transform(X_tr)"
   ]
  },
  {
   "cell_type": "code",
   "execution_count": 235,
   "metadata": {
    "ExecuteTime": {
     "end_time": "2020-01-07T13:26:06.790705Z",
     "start_time": "2020-01-07T13:26:06.766659Z"
    }
   },
   "outputs": [
    {
     "data": {
      "text/html": [
       "<div>\n",
       "<style scoped>\n",
       "    .dataframe tbody tr th:only-of-type {\n",
       "        vertical-align: middle;\n",
       "    }\n",
       "\n",
       "    .dataframe tbody tr th {\n",
       "        vertical-align: top;\n",
       "    }\n",
       "\n",
       "    .dataframe thead th {\n",
       "        text-align: right;\n",
       "    }\n",
       "</style>\n",
       "<table border=\"1\" class=\"dataframe\">\n",
       "  <thead>\n",
       "    <tr style=\"text-align: right;\">\n",
       "      <th></th>\n",
       "      <th>0</th>\n",
       "      <th>1</th>\n",
       "      <th>2</th>\n",
       "      <th>3</th>\n",
       "      <th>4</th>\n",
       "      <th>5</th>\n",
       "      <th>6</th>\n",
       "      <th>7</th>\n",
       "      <th>8</th>\n",
       "      <th>9</th>\n",
       "      <th>10</th>\n",
       "      <th>11</th>\n",
       "      <th>12</th>\n",
       "    </tr>\n",
       "  </thead>\n",
       "  <tbody>\n",
       "    <tr>\n",
       "      <th>0</th>\n",
       "      <td>0.02055</td>\n",
       "      <td>85.0</td>\n",
       "      <td>0.74</td>\n",
       "      <td>0.0</td>\n",
       "      <td>0.410</td>\n",
       "      <td>6.383</td>\n",
       "      <td>35.7</td>\n",
       "      <td>9.1876</td>\n",
       "      <td>2.0</td>\n",
       "      <td>313.0</td>\n",
       "      <td>17.3</td>\n",
       "      <td>396.90</td>\n",
       "      <td>5.77</td>\n",
       "    </tr>\n",
       "    <tr>\n",
       "      <th>1</th>\n",
       "      <td>0.19073</td>\n",
       "      <td>22.0</td>\n",
       "      <td>5.86</td>\n",
       "      <td>0.0</td>\n",
       "      <td>0.431</td>\n",
       "      <td>6.718</td>\n",
       "      <td>17.5</td>\n",
       "      <td>7.8265</td>\n",
       "      <td>7.0</td>\n",
       "      <td>330.0</td>\n",
       "      <td>19.1</td>\n",
       "      <td>393.74</td>\n",
       "      <td>6.56</td>\n",
       "    </tr>\n",
       "    <tr>\n",
       "      <th>2</th>\n",
       "      <td>0.21409</td>\n",
       "      <td>22.0</td>\n",
       "      <td>5.86</td>\n",
       "      <td>0.0</td>\n",
       "      <td>0.431</td>\n",
       "      <td>6.438</td>\n",
       "      <td>8.9</td>\n",
       "      <td>7.3967</td>\n",
       "      <td>7.0</td>\n",
       "      <td>330.0</td>\n",
       "      <td>19.1</td>\n",
       "      <td>377.07</td>\n",
       "      <td>3.59</td>\n",
       "    </tr>\n",
       "    <tr>\n",
       "      <th>3</th>\n",
       "      <td>0.38735</td>\n",
       "      <td>0.0</td>\n",
       "      <td>25.65</td>\n",
       "      <td>0.0</td>\n",
       "      <td>0.581</td>\n",
       "      <td>5.613</td>\n",
       "      <td>95.6</td>\n",
       "      <td>1.7572</td>\n",
       "      <td>2.0</td>\n",
       "      <td>188.0</td>\n",
       "      <td>19.1</td>\n",
       "      <td>359.29</td>\n",
       "      <td>27.26</td>\n",
       "    </tr>\n",
       "    <tr>\n",
       "      <th>4</th>\n",
       "      <td>0.25915</td>\n",
       "      <td>0.0</td>\n",
       "      <td>21.89</td>\n",
       "      <td>0.0</td>\n",
       "      <td>0.624</td>\n",
       "      <td>5.693</td>\n",
       "      <td>96.0</td>\n",
       "      <td>1.7883</td>\n",
       "      <td>4.0</td>\n",
       "      <td>437.0</td>\n",
       "      <td>21.2</td>\n",
       "      <td>392.11</td>\n",
       "      <td>17.19</td>\n",
       "    </tr>\n",
       "    <tr>\n",
       "      <th>...</th>\n",
       "      <td>...</td>\n",
       "      <td>...</td>\n",
       "      <td>...</td>\n",
       "      <td>...</td>\n",
       "      <td>...</td>\n",
       "      <td>...</td>\n",
       "      <td>...</td>\n",
       "      <td>...</td>\n",
       "      <td>...</td>\n",
       "      <td>...</td>\n",
       "      <td>...</td>\n",
       "      <td>...</td>\n",
       "      <td>...</td>\n",
       "    </tr>\n",
       "    <tr>\n",
       "      <th>374</th>\n",
       "      <td>4.54192</td>\n",
       "      <td>0.0</td>\n",
       "      <td>18.10</td>\n",
       "      <td>0.0</td>\n",
       "      <td>0.770</td>\n",
       "      <td>6.398</td>\n",
       "      <td>88.0</td>\n",
       "      <td>2.5182</td>\n",
       "      <td>24.0</td>\n",
       "      <td>666.0</td>\n",
       "      <td>20.2</td>\n",
       "      <td>374.56</td>\n",
       "      <td>7.79</td>\n",
       "    </tr>\n",
       "    <tr>\n",
       "      <th>375</th>\n",
       "      <td>0.07896</td>\n",
       "      <td>0.0</td>\n",
       "      <td>12.83</td>\n",
       "      <td>0.0</td>\n",
       "      <td>0.437</td>\n",
       "      <td>6.273</td>\n",
       "      <td>6.0</td>\n",
       "      <td>4.2515</td>\n",
       "      <td>5.0</td>\n",
       "      <td>398.0</td>\n",
       "      <td>18.7</td>\n",
       "      <td>394.92</td>\n",
       "      <td>6.78</td>\n",
       "    </tr>\n",
       "    <tr>\n",
       "      <th>376</th>\n",
       "      <td>0.09164</td>\n",
       "      <td>0.0</td>\n",
       "      <td>10.81</td>\n",
       "      <td>0.0</td>\n",
       "      <td>0.413</td>\n",
       "      <td>6.065</td>\n",
       "      <td>7.8</td>\n",
       "      <td>5.2873</td>\n",
       "      <td>4.0</td>\n",
       "      <td>305.0</td>\n",
       "      <td>19.2</td>\n",
       "      <td>390.91</td>\n",
       "      <td>5.52</td>\n",
       "    </tr>\n",
       "    <tr>\n",
       "      <th>377</th>\n",
       "      <td>0.26938</td>\n",
       "      <td>0.0</td>\n",
       "      <td>9.90</td>\n",
       "      <td>0.0</td>\n",
       "      <td>0.544</td>\n",
       "      <td>6.266</td>\n",
       "      <td>82.8</td>\n",
       "      <td>3.2628</td>\n",
       "      <td>4.0</td>\n",
       "      <td>304.0</td>\n",
       "      <td>18.4</td>\n",
       "      <td>393.39</td>\n",
       "      <td>7.90</td>\n",
       "    </tr>\n",
       "    <tr>\n",
       "      <th>378</th>\n",
       "      <td>0.05360</td>\n",
       "      <td>21.0</td>\n",
       "      <td>5.64</td>\n",
       "      <td>0.0</td>\n",
       "      <td>0.439</td>\n",
       "      <td>6.511</td>\n",
       "      <td>21.1</td>\n",
       "      <td>6.8147</td>\n",
       "      <td>4.0</td>\n",
       "      <td>243.0</td>\n",
       "      <td>16.8</td>\n",
       "      <td>396.90</td>\n",
       "      <td>5.28</td>\n",
       "    </tr>\n",
       "  </tbody>\n",
       "</table>\n",
       "<p>379 rows × 13 columns</p>\n",
       "</div>"
      ],
      "text/plain": [
       "           0     1      2    3      4      5     6       7     8      9    10  \\\n",
       "0    0.02055  85.0   0.74  0.0  0.410  6.383  35.7  9.1876   2.0  313.0  17.3   \n",
       "1    0.19073  22.0   5.86  0.0  0.431  6.718  17.5  7.8265   7.0  330.0  19.1   \n",
       "2    0.21409  22.0   5.86  0.0  0.431  6.438   8.9  7.3967   7.0  330.0  19.1   \n",
       "3    0.38735   0.0  25.65  0.0  0.581  5.613  95.6  1.7572   2.0  188.0  19.1   \n",
       "4    0.25915   0.0  21.89  0.0  0.624  5.693  96.0  1.7883   4.0  437.0  21.2   \n",
       "..       ...   ...    ...  ...    ...    ...   ...     ...   ...    ...   ...   \n",
       "374  4.54192   0.0  18.10  0.0  0.770  6.398  88.0  2.5182  24.0  666.0  20.2   \n",
       "375  0.07896   0.0  12.83  0.0  0.437  6.273   6.0  4.2515   5.0  398.0  18.7   \n",
       "376  0.09164   0.0  10.81  0.0  0.413  6.065   7.8  5.2873   4.0  305.0  19.2   \n",
       "377  0.26938   0.0   9.90  0.0  0.544  6.266  82.8  3.2628   4.0  304.0  18.4   \n",
       "378  0.05360  21.0   5.64  0.0  0.439  6.511  21.1  6.8147   4.0  243.0  16.8   \n",
       "\n",
       "         11     12  \n",
       "0    396.90   5.77  \n",
       "1    393.74   6.56  \n",
       "2    377.07   3.59  \n",
       "3    359.29  27.26  \n",
       "4    392.11  17.19  \n",
       "..      ...    ...  \n",
       "374  374.56   7.79  \n",
       "375  394.92   6.78  \n",
       "376  390.91   5.52  \n",
       "377  393.39   7.90  \n",
       "378  396.90   5.28  \n",
       "\n",
       "[379 rows x 13 columns]"
      ]
     },
     "execution_count": 235,
     "metadata": {},
     "output_type": "execute_result"
    }
   ],
   "source": [
    "pd.DataFrame(X_tr_trans)"
   ]
  },
  {
   "cell_type": "code",
   "execution_count": 236,
   "metadata": {
    "ExecuteTime": {
     "end_time": "2020-01-07T13:26:07.814914Z",
     "start_time": "2020-01-07T13:26:07.785862Z"
    }
   },
   "outputs": [
    {
     "data": {
      "text/html": [
       "<div>\n",
       "<style scoped>\n",
       "    .dataframe tbody tr th:only-of-type {\n",
       "        vertical-align: middle;\n",
       "    }\n",
       "\n",
       "    .dataframe tbody tr th {\n",
       "        vertical-align: top;\n",
       "    }\n",
       "\n",
       "    .dataframe thead th {\n",
       "        text-align: right;\n",
       "    }\n",
       "</style>\n",
       "<table border=\"1\" class=\"dataframe\">\n",
       "  <thead>\n",
       "    <tr style=\"text-align: right;\">\n",
       "      <th></th>\n",
       "      <th>0</th>\n",
       "      <th>1</th>\n",
       "      <th>2</th>\n",
       "      <th>3</th>\n",
       "      <th>4</th>\n",
       "      <th>5</th>\n",
       "      <th>6</th>\n",
       "      <th>7</th>\n",
       "      <th>8</th>\n",
       "      <th>9</th>\n",
       "      <th>10</th>\n",
       "      <th>11</th>\n",
       "      <th>12</th>\n",
       "    </tr>\n",
       "  </thead>\n",
       "  <tbody>\n",
       "    <tr>\n",
       "      <th>0</th>\n",
       "      <td>0.02055</td>\n",
       "      <td>85.0</td>\n",
       "      <td>0.74</td>\n",
       "      <td>0.0</td>\n",
       "      <td>0.410</td>\n",
       "      <td>6.383</td>\n",
       "      <td>35.7</td>\n",
       "      <td>9.1876</td>\n",
       "      <td>2.0</td>\n",
       "      <td>313.0</td>\n",
       "      <td>17.3</td>\n",
       "      <td>396.90</td>\n",
       "      <td>5.77</td>\n",
       "    </tr>\n",
       "    <tr>\n",
       "      <th>1</th>\n",
       "      <td>0.19073</td>\n",
       "      <td>22.0</td>\n",
       "      <td>5.86</td>\n",
       "      <td>0.0</td>\n",
       "      <td>0.431</td>\n",
       "      <td>6.718</td>\n",
       "      <td>17.5</td>\n",
       "      <td>7.8265</td>\n",
       "      <td>7.0</td>\n",
       "      <td>330.0</td>\n",
       "      <td>19.1</td>\n",
       "      <td>393.74</td>\n",
       "      <td>6.56</td>\n",
       "    </tr>\n",
       "    <tr>\n",
       "      <th>2</th>\n",
       "      <td>0.21409</td>\n",
       "      <td>22.0</td>\n",
       "      <td>5.86</td>\n",
       "      <td>0.0</td>\n",
       "      <td>0.431</td>\n",
       "      <td>6.438</td>\n",
       "      <td>8.9</td>\n",
       "      <td>7.3967</td>\n",
       "      <td>7.0</td>\n",
       "      <td>330.0</td>\n",
       "      <td>19.1</td>\n",
       "      <td>377.07</td>\n",
       "      <td>3.59</td>\n",
       "    </tr>\n",
       "    <tr>\n",
       "      <th>3</th>\n",
       "      <td>0.38735</td>\n",
       "      <td>0.0</td>\n",
       "      <td>25.65</td>\n",
       "      <td>0.0</td>\n",
       "      <td>0.581</td>\n",
       "      <td>5.613</td>\n",
       "      <td>95.6</td>\n",
       "      <td>1.7572</td>\n",
       "      <td>2.0</td>\n",
       "      <td>188.0</td>\n",
       "      <td>19.1</td>\n",
       "      <td>359.29</td>\n",
       "      <td>27.26</td>\n",
       "    </tr>\n",
       "    <tr>\n",
       "      <th>4</th>\n",
       "      <td>0.25915</td>\n",
       "      <td>0.0</td>\n",
       "      <td>21.89</td>\n",
       "      <td>0.0</td>\n",
       "      <td>0.624</td>\n",
       "      <td>5.693</td>\n",
       "      <td>96.0</td>\n",
       "      <td>1.7883</td>\n",
       "      <td>4.0</td>\n",
       "      <td>437.0</td>\n",
       "      <td>21.2</td>\n",
       "      <td>392.11</td>\n",
       "      <td>17.19</td>\n",
       "    </tr>\n",
       "    <tr>\n",
       "      <th>...</th>\n",
       "      <td>...</td>\n",
       "      <td>...</td>\n",
       "      <td>...</td>\n",
       "      <td>...</td>\n",
       "      <td>...</td>\n",
       "      <td>...</td>\n",
       "      <td>...</td>\n",
       "      <td>...</td>\n",
       "      <td>...</td>\n",
       "      <td>...</td>\n",
       "      <td>...</td>\n",
       "      <td>...</td>\n",
       "      <td>...</td>\n",
       "    </tr>\n",
       "    <tr>\n",
       "      <th>374</th>\n",
       "      <td>4.54192</td>\n",
       "      <td>0.0</td>\n",
       "      <td>18.10</td>\n",
       "      <td>0.0</td>\n",
       "      <td>0.770</td>\n",
       "      <td>6.398</td>\n",
       "      <td>88.0</td>\n",
       "      <td>2.5182</td>\n",
       "      <td>24.0</td>\n",
       "      <td>666.0</td>\n",
       "      <td>20.2</td>\n",
       "      <td>374.56</td>\n",
       "      <td>7.79</td>\n",
       "    </tr>\n",
       "    <tr>\n",
       "      <th>375</th>\n",
       "      <td>0.07896</td>\n",
       "      <td>0.0</td>\n",
       "      <td>12.83</td>\n",
       "      <td>0.0</td>\n",
       "      <td>0.437</td>\n",
       "      <td>6.273</td>\n",
       "      <td>6.0</td>\n",
       "      <td>4.2515</td>\n",
       "      <td>5.0</td>\n",
       "      <td>398.0</td>\n",
       "      <td>18.7</td>\n",
       "      <td>394.92</td>\n",
       "      <td>6.78</td>\n",
       "    </tr>\n",
       "    <tr>\n",
       "      <th>376</th>\n",
       "      <td>0.09164</td>\n",
       "      <td>0.0</td>\n",
       "      <td>10.81</td>\n",
       "      <td>0.0</td>\n",
       "      <td>0.413</td>\n",
       "      <td>6.065</td>\n",
       "      <td>7.8</td>\n",
       "      <td>5.2873</td>\n",
       "      <td>4.0</td>\n",
       "      <td>305.0</td>\n",
       "      <td>19.2</td>\n",
       "      <td>390.91</td>\n",
       "      <td>5.52</td>\n",
       "    </tr>\n",
       "    <tr>\n",
       "      <th>377</th>\n",
       "      <td>0.26938</td>\n",
       "      <td>0.0</td>\n",
       "      <td>9.90</td>\n",
       "      <td>0.0</td>\n",
       "      <td>0.544</td>\n",
       "      <td>6.266</td>\n",
       "      <td>82.8</td>\n",
       "      <td>3.2628</td>\n",
       "      <td>4.0</td>\n",
       "      <td>304.0</td>\n",
       "      <td>18.4</td>\n",
       "      <td>393.39</td>\n",
       "      <td>7.90</td>\n",
       "    </tr>\n",
       "    <tr>\n",
       "      <th>378</th>\n",
       "      <td>0.05360</td>\n",
       "      <td>21.0</td>\n",
       "      <td>5.64</td>\n",
       "      <td>0.0</td>\n",
       "      <td>0.439</td>\n",
       "      <td>6.511</td>\n",
       "      <td>21.1</td>\n",
       "      <td>6.8147</td>\n",
       "      <td>4.0</td>\n",
       "      <td>243.0</td>\n",
       "      <td>16.8</td>\n",
       "      <td>396.90</td>\n",
       "      <td>5.28</td>\n",
       "    </tr>\n",
       "  </tbody>\n",
       "</table>\n",
       "<p>379 rows × 13 columns</p>\n",
       "</div>"
      ],
      "text/plain": [
       "           0     1      2    3      4      5     6       7     8      9    10  \\\n",
       "0    0.02055  85.0   0.74  0.0  0.410  6.383  35.7  9.1876   2.0  313.0  17.3   \n",
       "1    0.19073  22.0   5.86  0.0  0.431  6.718  17.5  7.8265   7.0  330.0  19.1   \n",
       "2    0.21409  22.0   5.86  0.0  0.431  6.438   8.9  7.3967   7.0  330.0  19.1   \n",
       "3    0.38735   0.0  25.65  0.0  0.581  5.613  95.6  1.7572   2.0  188.0  19.1   \n",
       "4    0.25915   0.0  21.89  0.0  0.624  5.693  96.0  1.7883   4.0  437.0  21.2   \n",
       "..       ...   ...    ...  ...    ...    ...   ...     ...   ...    ...   ...   \n",
       "374  4.54192   0.0  18.10  0.0  0.770  6.398  88.0  2.5182  24.0  666.0  20.2   \n",
       "375  0.07896   0.0  12.83  0.0  0.437  6.273   6.0  4.2515   5.0  398.0  18.7   \n",
       "376  0.09164   0.0  10.81  0.0  0.413  6.065   7.8  5.2873   4.0  305.0  19.2   \n",
       "377  0.26938   0.0   9.90  0.0  0.544  6.266  82.8  3.2628   4.0  304.0  18.4   \n",
       "378  0.05360  21.0   5.64  0.0  0.439  6.511  21.1  6.8147   4.0  243.0  16.8   \n",
       "\n",
       "         11     12  \n",
       "0    396.90   5.77  \n",
       "1    393.74   6.56  \n",
       "2    377.07   3.59  \n",
       "3    359.29  27.26  \n",
       "4    392.11  17.19  \n",
       "..      ...    ...  \n",
       "374  374.56   7.79  \n",
       "375  394.92   6.78  \n",
       "376  390.91   5.52  \n",
       "377  393.39   7.90  \n",
       "378  396.90   5.28  \n",
       "\n",
       "[379 rows x 13 columns]"
      ]
     },
     "execution_count": 236,
     "metadata": {},
     "output_type": "execute_result"
    }
   ],
   "source": [
    "pd.DataFrame(X_tr)"
   ]
  },
  {
   "cell_type": "code",
   "execution_count": null,
   "metadata": {},
   "outputs": [],
   "source": []
  }
 ],
 "metadata": {
  "kernelspec": {
   "display_name": "Python 3",
   "language": "python",
   "name": "python3"
  },
  "language_info": {
   "codemirror_mode": {
    "name": "ipython",
    "version": 3
   },
   "file_extension": ".py",
   "mimetype": "text/x-python",
   "name": "python",
   "nbconvert_exporter": "python",
   "pygments_lexer": "ipython3",
   "version": "3.7.3"
  },
  "toc": {
   "base_numbering": 1,
   "nav_menu": {},
   "number_sections": true,
   "sideBar": true,
   "skip_h1_title": false,
   "title_cell": "Table of Contents",
   "title_sidebar": "Contents",
   "toc_cell": false,
   "toc_position": {},
   "toc_section_display": true,
   "toc_window_display": false
  }
 },
 "nbformat": 4,
 "nbformat_minor": 2
}

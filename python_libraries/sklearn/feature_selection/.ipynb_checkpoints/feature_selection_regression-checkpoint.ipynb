{
 "cells": [
  {
   "cell_type": "code",
   "execution_count": 9,
   "metadata": {
    "ExecuteTime": {
     "end_time": "2020-01-03T17:20:46.052984Z",
     "start_time": "2020-01-03T17:20:46.048206Z"
    }
   },
   "outputs": [],
   "source": [
    "import pandas as pd\n",
    "import numpy as np\n",
    "import sklearn\n",
    "from sklearn import *"
   ]
  },
  {
   "cell_type": "code",
   "execution_count": 10,
   "metadata": {
    "ExecuteTime": {
     "end_time": "2020-01-03T17:20:46.063478Z",
     "start_time": "2020-01-03T17:20:46.057047Z"
    }
   },
   "outputs": [],
   "source": [
    "def warn(*args, **kwargs):\n",
    "    pass\n",
    "import warnings\n",
    "warnings.warn = warn"
   ]
  },
  {
   "cell_type": "markdown",
   "metadata": {
    "ExecuteTime": {
     "end_time": "2020-01-03T15:55:02.495484Z",
     "start_time": "2020-01-03T15:55:02.492593Z"
    }
   },
   "source": [
    "# Feature selection for regression"
   ]
  },
  {
   "cell_type": "code",
   "execution_count": 11,
   "metadata": {
    "ExecuteTime": {
     "end_time": "2020-01-03T17:20:46.084922Z",
     "start_time": "2020-01-03T17:20:46.066474Z"
    }
   },
   "outputs": [
    {
     "name": "stdout",
     "output_type": "stream",
     "text": [
      "(379, 13) (127, 13)\n"
     ]
    }
   ],
   "source": [
    "from sklearn.datasets import load_boston\n",
    "\n",
    "\n",
    "X, y = load_boston(return_X_y=True)\n",
    "X_tr, X_te, y_tr, y_te = sklearn.model_selection.train_test_split(X,y)\n",
    "\n",
    "print(X_tr.shape, X_te.shape)"
   ]
  },
  {
   "cell_type": "code",
   "execution_count": 12,
   "metadata": {
    "ExecuteTime": {
     "end_time": "2020-01-03T17:20:46.095592Z",
     "start_time": "2020-01-03T17:20:46.087752Z"
    }
   },
   "outputs": [],
   "source": [
    "scorer_mse = sklearn.metrics.mean_squared_error"
   ]
  },
  {
   "cell_type": "markdown",
   "metadata": {
    "ExecuteTime": {
     "end_time": "2020-01-03T15:55:52.666728Z",
     "start_time": "2020-01-03T15:55:52.663740Z"
    }
   },
   "source": [
    "## Univariate Feautre selection for regression"
   ]
  },
  {
   "cell_type": "code",
   "execution_count": 13,
   "metadata": {
    "ExecuteTime": {
     "end_time": "2020-01-03T17:20:46.104527Z",
     "start_time": "2020-01-03T17:20:46.099249Z"
    }
   },
   "outputs": [],
   "source": [
    "from sklearn.feature_selection import f_regression"
   ]
  },
  {
   "cell_type": "code",
   "execution_count": 14,
   "metadata": {
    "ExecuteTime": {
     "end_time": "2020-01-03T17:20:46.122654Z",
     "start_time": "2020-01-03T17:20:46.107475Z"
    }
   },
   "outputs": [
    {
     "data": {
      "text/plain": [
       "(379, 10)"
      ]
     },
     "execution_count": 14,
     "metadata": {},
     "output_type": "execute_result"
    }
   ],
   "source": [
    "select_k_fregression = sklearn.feature_selection.SelectKBest(f_regression, k=10).fit(X_tr, y_tr)\n",
    "select_k_fregression.transform(X_tr).shape"
   ]
  },
  {
   "cell_type": "markdown",
   "metadata": {},
   "source": [
    "First let us try with a model without feature selection"
   ]
  },
  {
   "cell_type": "code",
   "execution_count": 15,
   "metadata": {
    "ExecuteTime": {
     "end_time": "2020-01-03T17:20:49.840134Z",
     "start_time": "2020-01-03T17:20:46.127882Z"
    },
    "scrolled": true
   },
   "outputs": [
    {
     "name": "stdout",
     "output_type": "stream",
     "text": [
      "No Feature Selection -> train mse: 19.652610098868312, test mse: 28.437278050507192\n"
     ]
    }
   ],
   "source": [
    "model = sklearn.neural_network.MLPRegressor(hidden_layer_sizes=[250,250])\n",
    "model.fit(X_tr, y_tr)\n",
    "tr_score = scorer_mse(model.predict(X_tr), y_tr)\n",
    "te_score = scorer_mse(model.predict(X_te), y_te)\n",
    "\n",
    "print(f\"No Feature Selection -> train mse: {tr_score}, test mse: {te_score}\")"
   ]
  },
  {
   "cell_type": "markdown",
   "metadata": {},
   "source": [
    "Now let us select some of the columns"
   ]
  },
  {
   "cell_type": "code",
   "execution_count": 16,
   "metadata": {
    "ExecuteTime": {
     "end_time": "2020-01-03T17:20:53.205969Z",
     "start_time": "2020-01-03T17:20:49.845057Z"
    }
   },
   "outputs": [
    {
     "name": "stdout",
     "output_type": "stream",
     "text": [
      "Feature Selection -> train mse: 18.685450536300294, test mse: 23.730383531118655\n"
     ]
    }
   ],
   "source": [
    "select_k_fregression = sklearn.feature_selection.SelectKBest(f_regression, k=12).fit(X_tr, y_tr)\n",
    "\n",
    "X_tr_new = select_k_fregression.transform(X_tr)\n",
    "X_te_new = select_k_fregression.transform(X_te)\n",
    "\n",
    "model = sklearn.neural_network.MLPRegressor(hidden_layer_sizes=[250,250])\n",
    "\n",
    "model.fit(X_tr_new, y_tr)\n",
    "tr_score = scorer_mse(model.predict(X_tr_new), y_tr)\n",
    "te_score = scorer_mse(model.predict(X_te_new), y_te)\n",
    "\n",
    "print(f\"Feature Selection -> train mse: {tr_score}, test mse: {te_score}\")"
   ]
  },
  {
   "cell_type": "markdown",
   "metadata": {},
   "source": [
    "Notice that the results in train improved but not in test.\n",
    "\n",
    "How can we select the best `k` value ?  We can simply try many"
   ]
  },
  {
   "cell_type": "code",
   "execution_count": 29,
   "metadata": {
    "ExecuteTime": {
     "end_time": "2020-01-03T17:21:39.498054Z",
     "start_time": "2020-01-03T17:21:39.491310Z"
    }
   },
   "outputs": [],
   "source": [
    "from sklearn.metrics import make_scorer as make_scorer\n",
    "\n",
    "def mean_absolute_percentage_error(y_true, y_pred): \n",
    "    y_true, y_pred = np.array(y_true), np.array(y_pred)\n",
    "    return np.mean(np.abs((y_true - y_pred) / y_true))  * 100\n",
    "\n",
    "scoring_dict = {\"MSE\":  make_scorer(sklearn.metrics.mean_squared_error),\n",
    "                \"MAE\":  make_scorer(sklearn.metrics.mean_absolute_error),\n",
    "                \"MAPE\": make_scorer(mean_absolute_percentage_error),\n",
    "                \"R2\":   make_scorer(sklearn.metrics.r2_score)}"
   ]
  },
  {
   "cell_type": "code",
   "execution_count": 30,
   "metadata": {
    "ExecuteTime": {
     "end_time": "2020-01-03T17:21:40.575152Z",
     "start_time": "2020-01-03T17:21:40.569360Z"
    }
   },
   "outputs": [
    {
     "data": {
      "text/plain": [
       "MLPRegressor(activation='relu', alpha=0.0001, batch_size='auto', beta_1=0.9,\n",
       "             beta_2=0.999, early_stopping=False, epsilon=1e-08,\n",
       "             hidden_layer_sizes=[250, 250], learning_rate='constant',\n",
       "             learning_rate_init=0.001, max_fun=15000, max_iter=200,\n",
       "             momentum=0.9, n_iter_no_change=10, nesterovs_momentum=True,\n",
       "             power_t=0.5, random_state=None, shuffle=True, solver='adam',\n",
       "             tol=0.0001, validation_fraction=0.1, verbose=False,\n",
       "             warm_start=False)"
      ]
     },
     "execution_count": 30,
     "metadata": {},
     "output_type": "execute_result"
    }
   ],
   "source": [
    "model"
   ]
  },
  {
   "cell_type": "code",
   "execution_count": 31,
   "metadata": {
    "ExecuteTime": {
     "end_time": "2020-01-03T17:25:09.901963Z",
     "start_time": "2020-01-03T17:22:47.431881Z"
    }
   },
   "outputs": [
    {
     "data": {
      "text/plain": [
       "GridSearchCV(cv=None, error_score=nan,\n",
       "             estimator=Pipeline(memory=None,\n",
       "                                steps=[('feature_selector',\n",
       "                                        SelectKBest(k=10,\n",
       "                                                    score_func=<function f_regression at 0x11e93de18>)),\n",
       "                                       ('model',\n",
       "                                        MLPRegressor(activation='relu',\n",
       "                                                     alpha=0.0001,\n",
       "                                                     batch_size='auto',\n",
       "                                                     beta_1=0.9, beta_2=0.999,\n",
       "                                                     early_stopping=False,\n",
       "                                                     epsilon=1e-08,\n",
       "                                                     hidden_layer_sizes=[250,\n",
       "                                                                         250],\n",
       "                                                     learning_rate='constant',\n",
       "                                                     learn...\n",
       "             iid='deprecated', n_jobs=None,\n",
       "             param_grid={'feature_selector__k': [2, 3, 4, 5, 6, 7, 8, 9, 10, 11,\n",
       "                                                 12],\n",
       "                         'model__hidden_layer_sizes': [[250, 250]]},\n",
       "             pre_dispatch='2*n_jobs', refit='R2', return_train_score=True,\n",
       "             scoring={'MAE': make_scorer(mean_absolute_error),\n",
       "                      'MAPE': make_scorer(mean_absolute_percentage_error),\n",
       "                      'MSE': make_scorer(mean_squared_error),\n",
       "                      'R2': make_scorer(r2_score)},\n",
       "             verbose=0)"
      ]
     },
     "execution_count": 31,
     "metadata": {},
     "output_type": "execute_result"
    }
   ],
   "source": [
    "select_k_fregression = sklearn.feature_selection.SelectKBest(f_regression)\n",
    "model = sklearn.neural_network.MLPRegressor(hidden_layer_sizes=[250,250])\n",
    "n_features = X_tr.shape[1]\n",
    "\n",
    "pipe_model = sklearn.pipeline.Pipeline([(\"feature_selector\", select_k_fregression), \n",
    "                                         (\"model\", model)])\n",
    "\n",
    "pipe_grid = {\"feature_selector__k\":list(range(2,13)),\n",
    "             \"model__hidden_layer_sizes\":[[250,250]]}\n",
    "\n",
    "pipe_gridsearchcv = sklearn.model_selection.GridSearchCV(estimator=pipe_model,\n",
    "                                                         cv=5,\n",
    "                                                         param_grid=pipe_grid,\n",
    "                                                         scoring=scoring_dict,\n",
    "                                                         refit=\"R2\",\n",
    "                                                         return_train_score=True)\n",
    "\n",
    "pipe_gridsearchcv.fit(X_tr, y_tr)"
   ]
  },
  {
   "cell_type": "code",
   "execution_count": 52,
   "metadata": {
    "ExecuteTime": {
     "end_time": "2020-01-03T17:41:39.010384Z",
     "start_time": "2020-01-03T17:41:38.999510Z"
    }
   },
   "outputs": [],
   "source": [
    "def result_df(gridsearchcv, target_sortby=\"mean_test_score\", metrics=[]):\n",
    "\n",
    "    if len(metrics)==0:\n",
    "        df = pd.concat([\n",
    "                     pd.DataFrame(gridsearchcv.cv_results_[\"params\"]),\n",
    "                     pd.DataFrame({target_sortby: gridsearchcv.cv_results_[target_sortby]})\n",
    "                  ],axis=1)\n",
    "    else:\n",
    "        # do this properly\n",
    "        df = pd.concat([\n",
    "                       pd.DataFrame(gridsearchcv.cv_results_[\"params\"]),\n",
    "                       pd.DataFrame(gridsearchcv.cv_results_[metrics]),\n",
    "                     pd.DataFrame({target_sortby: gridsearchcv.cv_results_[target_sortby]})\n",
    "                  ],axis=1)\n",
    "        \n",
    "    df.sort_values(by=target_sortby, ascending=False, inplace=True)\n",
    "    df.reset_index(drop=True, inplace=True)\n",
    "    return df\n",
    "\n",
    "\n",
    "res_df = result_df(pipe_gridsearchcv, target_sortby=\"mean_test_R2\")\n",
    "\n",
    "#res_df = res_df.sort_values(by=\"mean_test_score\", ascending=False)"
   ]
  },
  {
   "cell_type": "code",
   "execution_count": 51,
   "metadata": {
    "ExecuteTime": {
     "end_time": "2020-01-03T17:41:31.438611Z",
     "start_time": "2020-01-03T17:41:31.420897Z"
    },
    "scrolled": true
   },
   "outputs": [
    {
     "data": {
      "text/html": [
       "<div>\n",
       "<style scoped>\n",
       "    .dataframe tbody tr th:only-of-type {\n",
       "        vertical-align: middle;\n",
       "    }\n",
       "\n",
       "    .dataframe tbody tr th {\n",
       "        vertical-align: top;\n",
       "    }\n",
       "\n",
       "    .dataframe thead th {\n",
       "        text-align: right;\n",
       "    }\n",
       "</style>\n",
       "<table border=\"1\" class=\"dataframe\">\n",
       "  <thead>\n",
       "    <tr style=\"text-align: right;\">\n",
       "      <th></th>\n",
       "      <th>feature_selector__k</th>\n",
       "      <th>model__hidden_layer_sizes</th>\n",
       "      <th>mean_test_R2</th>\n",
       "    </tr>\n",
       "  </thead>\n",
       "  <tbody>\n",
       "    <tr>\n",
       "      <th>0</th>\n",
       "      <td>4</td>\n",
       "      <td>[250, 250]</td>\n",
       "      <td>0.709597</td>\n",
       "    </tr>\n",
       "    <tr>\n",
       "      <th>1</th>\n",
       "      <td>3</td>\n",
       "      <td>[250, 250]</td>\n",
       "      <td>0.688117</td>\n",
       "    </tr>\n",
       "    <tr>\n",
       "      <th>2</th>\n",
       "      <td>2</td>\n",
       "      <td>[250, 250]</td>\n",
       "      <td>0.661144</td>\n",
       "    </tr>\n",
       "    <tr>\n",
       "      <th>3</th>\n",
       "      <td>5</td>\n",
       "      <td>[250, 250]</td>\n",
       "      <td>0.610854</td>\n",
       "    </tr>\n",
       "    <tr>\n",
       "      <th>4</th>\n",
       "      <td>12</td>\n",
       "      <td>[250, 250]</td>\n",
       "      <td>0.599200</td>\n",
       "    </tr>\n",
       "    <tr>\n",
       "      <th>5</th>\n",
       "      <td>9</td>\n",
       "      <td>[250, 250]</td>\n",
       "      <td>0.593779</td>\n",
       "    </tr>\n",
       "    <tr>\n",
       "      <th>6</th>\n",
       "      <td>11</td>\n",
       "      <td>[250, 250]</td>\n",
       "      <td>0.593178</td>\n",
       "    </tr>\n",
       "    <tr>\n",
       "      <th>7</th>\n",
       "      <td>6</td>\n",
       "      <td>[250, 250]</td>\n",
       "      <td>0.589985</td>\n",
       "    </tr>\n",
       "    <tr>\n",
       "      <th>8</th>\n",
       "      <td>8</td>\n",
       "      <td>[250, 250]</td>\n",
       "      <td>0.557692</td>\n",
       "    </tr>\n",
       "    <tr>\n",
       "      <th>9</th>\n",
       "      <td>7</td>\n",
       "      <td>[250, 250]</td>\n",
       "      <td>0.539281</td>\n",
       "    </tr>\n",
       "    <tr>\n",
       "      <th>10</th>\n",
       "      <td>10</td>\n",
       "      <td>[250, 250]</td>\n",
       "      <td>0.460803</td>\n",
       "    </tr>\n",
       "  </tbody>\n",
       "</table>\n",
       "</div>"
      ],
      "text/plain": [
       "    feature_selector__k model__hidden_layer_sizes  mean_test_R2\n",
       "0                     4                [250, 250]      0.709597\n",
       "1                     3                [250, 250]      0.688117\n",
       "2                     2                [250, 250]      0.661144\n",
       "3                     5                [250, 250]      0.610854\n",
       "4                    12                [250, 250]      0.599200\n",
       "5                     9                [250, 250]      0.593779\n",
       "6                    11                [250, 250]      0.593178\n",
       "7                     6                [250, 250]      0.589985\n",
       "8                     8                [250, 250]      0.557692\n",
       "9                     7                [250, 250]      0.539281\n",
       "10                   10                [250, 250]      0.460803"
      ]
     },
     "execution_count": 51,
     "metadata": {},
     "output_type": "execute_result"
    }
   ],
   "source": [
    "res_df"
   ]
  },
  {
   "cell_type": "markdown",
   "metadata": {
    "ExecuteTime": {
     "end_time": "2020-01-03T16:38:11.115726Z",
     "start_time": "2020-01-03T16:38:11.109876Z"
    }
   },
   "source": [
    "we can see that the best result was achieved with 3 features"
   ]
  },
  {
   "cell_type": "code",
   "execution_count": 44,
   "metadata": {
    "ExecuteTime": {
     "end_time": "2020-01-03T17:27:05.870592Z",
     "start_time": "2020-01-03T17:27:05.855725Z"
    }
   },
   "outputs": [
    {
     "name": "stdout",
     "output_type": "stream",
     "text": [
      "Feature Selection pipe -> train mse: 14.970142487665388, test mse: 12.820463022240668\n"
     ]
    }
   ],
   "source": [
    "tr_score = scorer_mse(pipe_gridsearchcv.predict(X_tr), y_tr)\n",
    "te_score = scorer_mse(pipe_gridsearchcv.predict(X_te), y_te)\n",
    "\n",
    "print(f\"Feature Selection pipe -> train mse: {tr_score}, test mse: {te_score}\")"
   ]
  },
  {
   "cell_type": "code",
   "execution_count": null,
   "metadata": {},
   "outputs": [],
   "source": []
  },
  {
   "cell_type": "code",
   "execution_count": null,
   "metadata": {},
   "outputs": [],
   "source": []
  },
  {
   "cell_type": "code",
   "execution_count": null,
   "metadata": {},
   "outputs": [],
   "source": []
  }
 ],
 "metadata": {
  "kernelspec": {
   "display_name": "Python 3",
   "language": "python",
   "name": "python3"
  },
  "language_info": {
   "codemirror_mode": {
    "name": "ipython",
    "version": 3
   },
   "file_extension": ".py",
   "mimetype": "text/x-python",
   "name": "python",
   "nbconvert_exporter": "python",
   "pygments_lexer": "ipython3",
   "version": "3.6.9"
  },
  "toc": {
   "base_numbering": 1,
   "nav_menu": {},
   "number_sections": true,
   "sideBar": true,
   "skip_h1_title": false,
   "title_cell": "Table of Contents",
   "title_sidebar": "Contents",
   "toc_cell": false,
   "toc_position": {},
   "toc_section_display": true,
   "toc_window_display": false
  }
 },
 "nbformat": 4,
 "nbformat_minor": 2
}

{
 "cells": [
  {
   "cell_type": "markdown",
   "id": "8569db06",
   "metadata": {},
   "source": [
    "### Distance computations\n",
    "\n",
    "\n",
    "Given two matrices `X` and `Y` we want to compute the distance between every row of `X` and every row of `Y`."
   ]
  },
  {
   "cell_type": "code",
   "execution_count": 2,
   "id": "8f2e4106",
   "metadata": {},
   "outputs": [],
   "source": [
    "import numpy as np"
   ]
  },
  {
   "cell_type": "code",
   "execution_count": 22,
   "id": "928dba75",
   "metadata": {},
   "outputs": [],
   "source": [
    "n_X = 100\n",
    "n_Y = 200\n",
    "n_features = 100\n",
    "\n",
    "\n",
    "X = np.random.random((n_X, n_features))\n",
    "Y = np.random.random((n_Y, n_features))"
   ]
  },
  {
   "cell_type": "markdown",
   "id": "3db53eb3",
   "metadata": {},
   "source": [
    "What we are want to do (but much faster)"
   ]
  },
  {
   "cell_type": "code",
   "execution_count": 23,
   "id": "980f7d64",
   "metadata": {},
   "outputs": [],
   "source": [
    "def euclidean(X,Y):\n",
    "    n_X = X.shape[0] # 200\n",
    "    n_Y = Y.shape[0] # 500\n",
    "    dists = np.zeros((n_X, n_Y))\n",
    "    for i in range(n_X):\n",
    "        dists[i, :] = np.sum((Y - X[i, :])**2, axis=1)\n",
    "    return np.sqrt(dists)\n"
   ]
  },
  {
   "cell_type": "code",
   "execution_count": 24,
   "id": "a51a7f0e",
   "metadata": {},
   "outputs": [],
   "source": [
    "euclidean_naive = euclidean(X,Y)"
   ]
  },
  {
   "cell_type": "code",
   "execution_count": 25,
   "id": "e72d78fd",
   "metadata": {},
   "outputs": [
    {
     "data": {
      "text/plain": [
       "4.019007349143067e-18"
      ]
     },
     "execution_count": 25,
     "metadata": {},
     "output_type": "execute_result"
    }
   ],
   "source": [
    "from scipy.spatial.distance import cdist\n",
    "cdist_euclidean = cdist(X, Y,'euclidean')\n",
    "np.mean(euclidean_naive - cdist_euclidean)"
   ]
  },
  {
   "cell_type": "markdown",
   "id": "0ab5b0dd",
   "metadata": {},
   "source": [
    "#### Han current solution\n",
    "\n",
    "This code is present in both hello world and numpy indexer and it is heavily explained here\n",
    "\n",
    "https://hanxiao.io/2020/09/21/Numpy-Tricks-and-A-Strong-Baseline-for-Vector-Index/\n",
    "\n"
   ]
  },
  {
   "cell_type": "code",
   "execution_count": 26,
   "id": "1cc0a8ec",
   "metadata": {},
   "outputs": [],
   "source": [
    "def _get_ones(x, y):\n",
    "    return np.ones((x, y))\n",
    "\n",
    "def _ext_A(A):\n",
    "    nA, dim = A.shape\n",
    "    A_ext = _get_ones(nA, dim * 3)\n",
    "    A_ext[:, dim : 2 * dim] = A\n",
    "    A_ext[:, 2 * dim :] = A ** 2\n",
    "    return A_ext\n",
    "\n",
    "def _ext_B(B):\n",
    "    nB, dim = B.shape\n",
    "    B_ext = _get_ones(dim * 3, nB)\n",
    "    B_ext[:dim] = (B ** 2).T\n",
    "    B_ext[dim : 2 * dim] = -2.0 * B.T\n",
    "    del B\n",
    "    return B_ext\n",
    "\n",
    "def _euclidean(A_ext, B_ext):\n",
    "    sqdist = A_ext.dot(B_ext).clip(min=0)\n",
    "    return np.sqrt(sqdist)\n",
    "\n",
    "def _norm(A):\n",
    "    return A / np.linalg.norm(A, ord=2, axis=1, keepdims=True)\n",
    "\n",
    "def _cosine(A_norm_ext, B_norm_ext):\n",
    "    return A_norm_ext.dot(B_norm_ext).clip(min=0) / 2"
   ]
  },
  {
   "cell_type": "code",
   "execution_count": 27,
   "id": "5f6fca85",
   "metadata": {},
   "outputs": [],
   "source": [
    "X_ext = _ext_A(X)\n",
    "Y_ext = _ext_B(Y)\n",
    "dists_han = _euclidean(X_ext, Y_ext)"
   ]
  },
  {
   "cell_type": "code",
   "execution_count": 28,
   "id": "d34cdccd",
   "metadata": {},
   "outputs": [
    {
     "data": {
      "text/plain": [
       "3.0109248427834245e-17"
      ]
     },
     "execution_count": 28,
     "metadata": {},
     "output_type": "execute_result"
    }
   ],
   "source": [
    "np.mean(dists_han - cdist_euclidean) "
   ]
  },
  {
   "cell_type": "code",
   "execution_count": 29,
   "id": "9a2293f8",
   "metadata": {},
   "outputs": [],
   "source": [
    "def han_euclidean(X,Y):\n",
    "    X_ext = _ext_A(X)\n",
    "    Y_ext = _ext_B(Y)\n",
    "    return _euclidean(X_ext, Y_ext)"
   ]
  },
  {
   "cell_type": "markdown",
   "id": "cc5ff1ae",
   "metadata": {},
   "source": [
    "### Buchaca proposal"
   ]
  },
  {
   "cell_type": "code",
   "execution_count": 30,
   "id": "6bde9a48",
   "metadata": {},
   "outputs": [
    {
     "name": "stdout",
     "output_type": "stream",
     "text": [
      "X_n=100, Y_n=200\n",
      "\n",
      "np.sum(Y**2, axis=1).shape = (200,)\n",
      "\n",
      "np.sum(X**2, axis=1)[:, np.newaxis] = (100, 1)\n"
     ]
    }
   ],
   "source": [
    "print(f'X_n={X.shape[0]}, Y_n={Y.shape[0]}')\n",
    "\n",
    "# Creates a row vector of shape 200\n",
    "print(f'\\nnp.sum(Y**2, axis=1).shape = {np.sum(Y**2, axis=1).shape}')\n",
    "\n",
    "# Note that vec[:, np.newaxis] puts vec with a superior ndim\n",
    "# This creates a column vector of shape 200\n",
    "print(f'\\nnp.sum(X**2, axis=1)[:, np.newaxis] = {np.sum(X**2, axis=1)[:, np.newaxis].shape}')"
   ]
  },
  {
   "cell_type": "markdown",
   "id": "3fd73abd",
   "metadata": {},
   "source": [
    "When row_vec + col_vec is computed in numpy the vectors are copied as many times as needed to make an elementwise operation valid.\n",
    "\n",
    "For example, if a row vector has 10 elements and a column vector has 20 the vector\n",
    "is "
   ]
  },
  {
   "cell_type": "code",
   "execution_count": 31,
   "id": "3f988410",
   "metadata": {},
   "outputs": [
    {
     "data": {
      "text/plain": [
       "(20, 10)"
      ]
     },
     "execution_count": 31,
     "metadata": {},
     "output_type": "execute_result"
    }
   ],
   "source": [
    "row_vec = np.random.rand(10)\n",
    "col_vec = np.random.rand(20,1)\n",
    "(row_vec + col_vec).shape"
   ]
  },
  {
   "cell_type": "code",
   "execution_count": 32,
   "id": "fabf2415",
   "metadata": {},
   "outputs": [],
   "source": [
    "def buch_euclidean(X, Y):\n",
    "    dists = np.sum(Y**2, axis=1) + np.sum(X**2, axis=1)[:, np.newaxis] -2*np.dot(X, Y.T)\n",
    "    return dists"
   ]
  },
  {
   "cell_type": "code",
   "execution_count": 33,
   "id": "556f97da",
   "metadata": {},
   "outputs": [],
   "source": [
    "def buch_euclidean_squared(X, Y):\n",
    "    dists = np.sum(Y**2, axis=1) + np.sum(X**2, axis=1)[:, np.newaxis] -2*np.dot(X, Y.T)\n",
    "    return np.sqrt(dists)"
   ]
  },
  {
   "cell_type": "code",
   "execution_count": 34,
   "id": "39218d9d",
   "metadata": {},
   "outputs": [
    {
     "data": {
      "text/plain": [
       "1.7494894422043218e-16"
      ]
     },
     "execution_count": 34,
     "metadata": {},
     "output_type": "execute_result"
    }
   ],
   "source": [
    "dists_han = han_euclidean(X, Y)\n",
    "dists_buch = buch_euclidean_squared(X, Y)\n",
    "np.mean(dists_han - dists_buch) "
   ]
  },
  {
   "cell_type": "code",
   "execution_count": 35,
   "id": "04ff9f94",
   "metadata": {},
   "outputs": [
    {
     "name": "stdout",
     "output_type": "stream",
     "text": [
      "309 µs ± 17.5 µs per loop (mean ± std. dev. of 7 runs, 1000 loops each)\n"
     ]
    }
   ],
   "source": [
    "%%timeit\n",
    "dists_han = han_euclidean(X, Y)"
   ]
  },
  {
   "cell_type": "code",
   "execution_count": 36,
   "id": "8b4a35b4",
   "metadata": {},
   "outputs": [
    {
     "name": "stdout",
     "output_type": "stream",
     "text": [
      "139 µs ± 4.02 µs per loop (mean ± std. dev. of 7 runs, 10000 loops each)\n"
     ]
    }
   ],
   "source": [
    "%%timeit\n",
    "dists_buch = buch_euclidean(X, Y)"
   ]
  },
  {
   "cell_type": "code",
   "execution_count": 37,
   "id": "9fca85b7",
   "metadata": {},
   "outputs": [
    {
     "name": "stdout",
     "output_type": "stream",
     "text": [
      "159 µs ± 3.49 µs per loop (mean ± std. dev. of 7 runs, 10000 loops each)\n"
     ]
    }
   ],
   "source": [
    "%%timeit\n",
    "dists_buch = buch_euclidean_squared(X, Y)"
   ]
  },
  {
   "cell_type": "markdown",
   "id": "81f78ac1",
   "metadata": {},
   "source": [
    "We can also do something similar for the cosine distance"
   ]
  },
  {
   "cell_type": "code",
   "execution_count": 38,
   "id": "e07d491f",
   "metadata": {},
   "outputs": [],
   "source": [
    "def buch_cosine_similarity(X, Y):\n",
    "    dists = np.dot(X, Y.T)/np.outer(np.linalg.norm(X, ord=2, axis=1),np.linalg.norm(Y, ord=2, axis=1))\n",
    "    return dists\n",
    "\n",
    "def buch_cosine_distance(X, Y):\n",
    "    dists = 1- np.dot(X, Y.T)/np.outer(np.linalg.norm(X, ord=2, axis=1),np.linalg.norm(Y, ord=2, axis=1))\n",
    "    return dists"
   ]
  },
  {
   "cell_type": "code",
   "execution_count": 39,
   "id": "c72c0620",
   "metadata": {},
   "outputs": [
    {
     "data": {
      "text/plain": [
       "array([[0.77177385, 0.73774092, 0.73089505, ..., 0.79648348, 0.7110453 ,\n",
       "        0.7271093 ],\n",
       "       [0.75280515, 0.69961514, 0.72725627, ..., 0.7674045 , 0.70421417,\n",
       "        0.75367441],\n",
       "       [0.77081983, 0.71682104, 0.74690078, ..., 0.80442634, 0.77912576,\n",
       "        0.75469284],\n",
       "       ...,\n",
       "       [0.75471001, 0.667707  , 0.7192179 , ..., 0.75338295, 0.76200319,\n",
       "        0.73534841],\n",
       "       [0.74930071, 0.78665022, 0.77064414, ..., 0.80151832, 0.77284409,\n",
       "        0.76188978],\n",
       "       [0.73295346, 0.69427336, 0.700622  , ..., 0.75357708, 0.74543188,\n",
       "        0.7040662 ]])"
      ]
     },
     "execution_count": 39,
     "metadata": {},
     "output_type": "execute_result"
    }
   ],
   "source": [
    "buch_cosine_similarity(X,Y)"
   ]
  },
  {
   "cell_type": "code",
   "execution_count": 40,
   "id": "39464633",
   "metadata": {},
   "outputs": [],
   "source": [
    "import sklearn\n",
    "from sklearn.metrics.pairwise import cosine_similarity, cosine_distances"
   ]
  },
  {
   "cell_type": "code",
   "execution_count": 41,
   "id": "faf1a88d",
   "metadata": {},
   "outputs": [
    {
     "data": {
      "text/plain": [
       "-1.6459056340067945e-17"
      ]
     },
     "execution_count": 41,
     "metadata": {},
     "output_type": "execute_result"
    }
   ],
   "source": [
    "np.mean(cosine_similarity(X,Y) - buch_cosine_similarity(X,Y))"
   ]
  },
  {
   "cell_type": "code",
   "execution_count": null,
   "id": "39ae4177",
   "metadata": {},
   "outputs": [],
   "source": []
  }
 ],
 "metadata": {
  "kernelspec": {
   "display_name": "Python 3",
   "language": "python",
   "name": "python3"
  },
  "language_info": {
   "codemirror_mode": {
    "name": "ipython",
    "version": 3
   },
   "file_extension": ".py",
   "mimetype": "text/x-python",
   "name": "python",
   "nbconvert_exporter": "python",
   "pygments_lexer": "ipython3",
   "version": "3.8.8"
  }
 },
 "nbformat": 4,
 "nbformat_minor": 5
}

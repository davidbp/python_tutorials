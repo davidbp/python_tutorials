{
 "cells": [
  {
   "cell_type": "markdown",
   "metadata": {
    "toc": true
   },
   "source": [
    "<h1>Table of Contents<span class=\"tocSkip\"></span></h1>\n",
    "<div class=\"toc\"><ul class=\"toc-item\"><li><span><a href=\"#Sort-a-list-with-numpy\" data-toc-modified-id=\"Sort-a-list-with-numpy-1\"><span class=\"toc-item-num\">1&nbsp;&nbsp;</span>Sort a list with numpy</a></span></li><li><span><a href=\"#Sorting-a-list-of-tuples-(id,-score)\" data-toc-modified-id=\"Sorting-a-list-of-tuples-(id,-score)-2\"><span class=\"toc-item-num\">2&nbsp;&nbsp;</span>Sorting a list of tuples (id, score)</a></span></li><li><span><a href=\"#Sorting-top-K-elements-from-a-list-of-tuples-(id,-score)\" data-toc-modified-id=\"Sorting-top-K-elements-from-a-list-of-tuples-(id,-score)-3\"><span class=\"toc-item-num\">3&nbsp;&nbsp;</span>Sorting top K elements from a list of tuples (id, score)</a></span></li></ul></div>"
   ]
  },
  {
   "cell_type": "code",
   "execution_count": 162,
   "metadata": {
    "ExecuteTime": {
     "end_time": "2021-03-05T14:39:20.106035Z",
     "start_time": "2021-03-05T14:39:20.103794Z"
    }
   },
   "outputs": [
    {
     "name": "stdout",
     "output_type": "stream",
     "text": [
      "The line_profiler extension is already loaded. To reload it, use:\n",
      "  %reload_ext line_profiler\n"
     ]
    }
   ],
   "source": [
    "%load_ext line_profiler"
   ]
  },
  {
   "cell_type": "code",
   "execution_count": 164,
   "metadata": {
    "ExecuteTime": {
     "end_time": "2021-03-05T14:39:36.155780Z",
     "start_time": "2021-03-05T14:39:36.153902Z"
    }
   },
   "outputs": [],
   "source": [
    "import matplotlib.pyplot as plt\n",
    "import memory_profiler\n",
    "import pandas as pd\n",
    "import numpy as np"
   ]
  },
  {
   "cell_type": "markdown",
   "metadata": {},
   "source": [
    "## Sort a list with numpy\n",
    "\n",
    "We want to sort so that the first element is the biggest\n"
   ]
  },
  {
   "cell_type": "code",
   "execution_count": 2,
   "metadata": {
    "ExecuteTime": {
     "end_time": "2021-03-05T12:51:35.526169Z",
     "start_time": "2021-03-05T12:51:35.523931Z"
    }
   },
   "outputs": [],
   "source": [
    "np.random.seed()\n",
    "r = np.random.rand(10000)"
   ]
  },
  {
   "cell_type": "code",
   "execution_count": 3,
   "metadata": {
    "ExecuteTime": {
     "end_time": "2021-03-05T12:51:36.583554Z",
     "start_time": "2021-03-05T12:51:36.581522Z"
    }
   },
   "outputs": [],
   "source": [
    "def sort1(x: np.ndarray):\n",
    "    return np.sort(x)[::-1] "
   ]
  },
  {
   "cell_type": "code",
   "execution_count": 4,
   "metadata": {
    "ExecuteTime": {
     "end_time": "2021-03-05T12:51:40.932591Z",
     "start_time": "2021-03-05T12:51:37.133324Z"
    }
   },
   "outputs": [
    {
     "name": "stdout",
     "output_type": "stream",
     "text": [
      "468 µs ± 4.74 µs per loop (mean ± std. dev. of 7 runs, 1000 loops each)\n"
     ]
    }
   ],
   "source": [
    "%%timeit \n",
    "sort1(r)"
   ]
  },
  {
   "cell_type": "code",
   "execution_count": 5,
   "metadata": {
    "ExecuteTime": {
     "end_time": "2021-03-05T12:51:40.945051Z",
     "start_time": "2021-03-05T12:51:40.942469Z"
    }
   },
   "outputs": [],
   "source": [
    "def sort2(x: np.ndarray):\n",
    "    aux = np.copy(x)\n",
    "    aux[::-1].sort()\n",
    "    return aux"
   ]
  },
  {
   "cell_type": "code",
   "execution_count": 6,
   "metadata": {
    "ExecuteTime": {
     "end_time": "2021-03-05T12:51:44.842062Z",
     "start_time": "2021-03-05T12:51:40.954858Z"
    }
   },
   "outputs": [
    {
     "name": "stdout",
     "output_type": "stream",
     "text": [
      "476 µs ± 3.17 µs per loop (mean ± std. dev. of 7 runs, 1000 loops each)\n"
     ]
    }
   ],
   "source": [
    "%%timeit \n",
    "sort2(r)"
   ]
  },
  {
   "cell_type": "code",
   "execution_count": 7,
   "metadata": {
    "ExecuteTime": {
     "end_time": "2021-03-05T12:51:44.857105Z",
     "start_time": "2021-03-05T12:51:44.852365Z"
    }
   },
   "outputs": [
    {
     "data": {
      "text/plain": [
       "True"
      ]
     },
     "execution_count": 7,
     "metadata": {},
     "output_type": "execute_result"
    }
   ],
   "source": [
    "np.array_equal(sort1(r), sort2(r))"
   ]
  },
  {
   "cell_type": "markdown",
   "metadata": {},
   "source": [
    "## Sorting a list of tuples (id, score)\n",
    "\n",
    "\n",
    "Let us consider we want to code a function with the following input and output:\n",
    "\n",
    "- INPUT: `r`, type `(List[Tuple[Any, Any]])`\n",
    "    - List of Tuples with document id and score\n",
    "\n",
    "\n",
    "- OUTPUT: `A`, type `(np.ndarray)`\n",
    "    - Array of shape `[N x 2]`, where `N` in the length of the input list `r`.\n"
   ]
  },
  {
   "cell_type": "code",
   "execution_count": 8,
   "metadata": {
    "ExecuteTime": {
     "end_time": "2021-03-05T12:51:44.872357Z",
     "start_time": "2021-03-05T12:51:44.867411Z"
    },
    "scrolled": true
   },
   "outputs": [
    {
     "data": {
      "text/plain": [
       "(array([ 1,  3,  5, 23], dtype=int32), array([ 2,  4,  4, 90], dtype=int32))"
      ]
     },
     "execution_count": 8,
     "metadata": {},
     "output_type": "execute_result"
    }
   ],
   "source": [
    "x = np.array([(1,2),(3,4),(5,4),(23,90)],dtype=[('c1','<i4'),('c2','<i4')])\n",
    "x['c1'],x['c2']"
   ]
  },
  {
   "cell_type": "code",
   "execution_count": 45,
   "metadata": {
    "ExecuteTime": {
     "end_time": "2021-03-05T12:55:59.920252Z",
     "start_time": "2021-03-05T12:55:59.915285Z"
    }
   },
   "outputs": [],
   "source": [
    "def get_data(n):\n",
    "    ids = np.random.permutation(n)\n",
    "    scores = np.random.rand(n)\n",
    "    r = [(i,s) for i,s in zip(ids,scores)]\n",
    "    return r\n",
    "\n",
    "r = get_data(n = 10000)"
   ]
  },
  {
   "cell_type": "code",
   "execution_count": 46,
   "metadata": {
    "ExecuteTime": {
     "end_time": "2021-03-05T12:56:00.366516Z",
     "start_time": "2021-03-05T12:56:00.364238Z"
    }
   },
   "outputs": [],
   "source": [
    "def sort_by_score_1(r):\n",
    "    r = np.array(r,dtype=[('ids',np.int),('scores',np.float64)])\n",
    "    return np.sort(r, order='scores')[::-1]"
   ]
  },
  {
   "cell_type": "code",
   "execution_count": 47,
   "metadata": {
    "ExecuteTime": {
     "end_time": "2021-03-05T12:56:04.406186Z",
     "start_time": "2021-03-05T12:56:00.733777Z"
    }
   },
   "outputs": [
    {
     "name": "stdout",
     "output_type": "stream",
     "text": [
      "4.5 ms ± 37.2 µs per loop (mean ± std. dev. of 7 runs, 100 loops each)\n"
     ]
    }
   ],
   "source": [
    "%%timeit\n",
    "sort_by_score_1(r)"
   ]
  },
  {
   "cell_type": "code",
   "execution_count": 48,
   "metadata": {
    "ExecuteTime": {
     "end_time": "2021-03-05T12:56:04.442560Z",
     "start_time": "2021-03-05T12:56:04.439860Z"
    }
   },
   "outputs": [],
   "source": [
    "def sort_by_score_2(r: [(any,any)]):\n",
    "    \n",
    "    scores = np.array([r_k[1] for r_k in r])\n",
    "    sorted_ids = scores.argsort()[::-1]\n",
    "    r_sorted_np = np.array([r[i] for i in sorted_ids],\n",
    "                           dtype=[('ids',np.int),('scores',np.float64)])\n",
    "    return r_sorted_np"
   ]
  },
  {
   "cell_type": "code",
   "execution_count": 49,
   "metadata": {
    "ExecuteTime": {
     "end_time": "2021-03-05T12:56:07.212932Z",
     "start_time": "2021-03-05T12:56:04.478935Z"
    }
   },
   "outputs": [
    {
     "name": "stdout",
     "output_type": "stream",
     "text": [
      "3.34 ms ± 36.7 µs per loop (mean ± std. dev. of 7 runs, 100 loops each)\n"
     ]
    }
   ],
   "source": [
    "%%timeit\n",
    "sort_by_score_2(r)"
   ]
  },
  {
   "cell_type": "markdown",
   "metadata": {},
   "source": [
    "We can verify that both functions return the same output"
   ]
  },
  {
   "cell_type": "code",
   "execution_count": 167,
   "metadata": {
    "ExecuteTime": {
     "end_time": "2021-03-05T14:40:47.873945Z",
     "start_time": "2021-03-05T14:40:47.749223Z"
    },
    "scrolled": true
   },
   "outputs": [
    {
     "data": {
      "text/plain": [
       "True"
      ]
     },
     "execution_count": 167,
     "metadata": {},
     "output_type": "execute_result"
    }
   ],
   "source": [
    "np.array_equal(sort_by_score_1(r), sort_by_score_2(r))"
   ]
  },
  {
   "cell_type": "markdown",
   "metadata": {},
   "source": [
    "##### Benchmarking `sort_by_score_1` and `sort_by_score_2`"
   ]
  },
  {
   "cell_type": "code",
   "execution_count": 115,
   "metadata": {
    "ExecuteTime": {
     "end_time": "2021-03-05T14:25:45.222745Z",
     "start_time": "2021-03-05T14:25:45.218129Z"
    }
   },
   "outputs": [
    {
     "name": "stdout",
     "output_type": "stream",
     "text": [
      "\n",
      "*** Profile printout saved to text file 'profiling_results/sort_by_score_2.txt'. \n"
     ]
    }
   ],
   "source": [
    "#%lprun -T profiling_results/sort_by_score_2.txt -D profiling_results/sort_by_score_2.lprof -f sort_by_score_2 sort_by_score_2(r)\n",
    "%lprun -T profiling_results/sort_by_score_2.txt -f sort_by_score_2 sort_by_score_2(r)"
   ]
  },
  {
   "cell_type": "markdown",
   "metadata": {},
   "source": [
    "We can benchmark with different input lengths"
   ]
  },
  {
   "cell_type": "code",
   "execution_count": 148,
   "metadata": {
    "ExecuteTime": {
     "end_time": "2021-03-05T14:36:24.784881Z",
     "start_time": "2021-03-05T14:34:31.034640Z"
    }
   },
   "outputs": [
    {
     "name": "stdout",
     "output_type": "stream",
     "text": [
      "373 µs ± 1.93 µs per loop (mean ± std. dev. of 7 runs, 1000 loops each)\n",
      "306 µs ± 5.54 µs per loop (mean ± std. dev. of 7 runs, 1000 loops each)\n",
      "747 µs ± 1.79 µs per loop (mean ± std. dev. of 7 runs, 1000 loops each)\n",
      "743 µs ± 116 µs per loop (mean ± std. dev. of 7 runs, 1000 loops each)\n",
      "1.24 ms ± 39.9 µs per loop (mean ± std. dev. of 7 runs, 1000 loops each)\n",
      "982 µs ± 25.5 µs per loop (mean ± std. dev. of 7 runs, 1000 loops each)\n",
      "1.62 ms ± 8.5 µs per loop (mean ± std. dev. of 7 runs, 1000 loops each)\n",
      "1.3 ms ± 7.98 µs per loop (mean ± std. dev. of 7 runs, 1000 loops each)\n",
      "2.12 ms ± 41.2 µs per loop (mean ± std. dev. of 7 runs, 100 loops each)\n",
      "1.62 ms ± 21.1 µs per loop (mean ± std. dev. of 7 runs, 1000 loops each)\n",
      "2.54 ms ± 31.8 µs per loop (mean ± std. dev. of 7 runs, 100 loops each)\n",
      "1.94 ms ± 13.6 µs per loop (mean ± std. dev. of 7 runs, 1000 loops each)\n",
      "3.23 ms ± 91.2 µs per loop (mean ± std. dev. of 7 runs, 100 loops each)\n",
      "2.31 ms ± 29.8 µs per loop (mean ± std. dev. of 7 runs, 100 loops each)\n",
      "3.45 ms ± 10.6 µs per loop (mean ± std. dev. of 7 runs, 100 loops each)\n",
      "2.68 ms ± 44.1 µs per loop (mean ± std. dev. of 7 runs, 100 loops each)\n",
      "4.09 ms ± 60.3 µs per loop (mean ± std. dev. of 7 runs, 100 loops each)\n",
      "2.98 ms ± 41.9 µs per loop (mean ± std. dev. of 7 runs, 100 loops each)\n",
      "4.52 ms ± 43.2 µs per loop (mean ± std. dev. of 7 runs, 100 loops each)\n",
      "3.27 ms ± 23.4 µs per loop (mean ± std. dev. of 7 runs, 100 loops each)\n"
     ]
    }
   ],
   "source": [
    "n_values = np.array(np.linspace(1000,10000,10), dtype=int)\n",
    "\n",
    "results_func1 = []\n",
    "results_func2 = []\n",
    "\n",
    "for n in n_values:\n",
    "    r = get_data(n)\n",
    "    \n",
    "    r1 = %timeit -o sort_by_score_1(r)\n",
    "    r2 = %timeit -o sort_by_score_2(r)\n",
    "    \n",
    "    results_func1.append(r1.average)\n",
    "    results_func2.append(r2.average)\n",
    "    "
   ]
  },
  {
   "cell_type": "code",
   "execution_count": 158,
   "metadata": {
    "ExecuteTime": {
     "end_time": "2021-03-05T14:37:35.588124Z",
     "start_time": "2021-03-05T14:37:35.447149Z"
    }
   },
   "outputs": [
    {
     "data": {
      "text/plain": [
       "<AxesSubplot:xlabel='n_values'>"
      ]
     },
     "execution_count": 158,
     "metadata": {},
     "output_type": "execute_result"
    },
    {
     "data": {
      "image/png": "[encoded data removed]",
      "text/plain": [
       "<Figure size 432x288 with 1 Axes>"
      ]
     },
     "metadata": {
      "needs_background": "light"
     },
     "output_type": "display_data"
    }
   ],
   "source": [
    "df_sort_by_score = pd.DataFrame({'sort_by_score_1':results_func1,\n",
    "                                 'sort_by_score_2':results_func2,\n",
    "                                 'n_values':n_values})\n",
    "\n",
    "df = df_sort_by_score.set_index('n_values')\n",
    "df.plot(kind='bar')"
   ]
  },
  {
   "cell_type": "markdown",
   "metadata": {},
   "source": [
    "If the list is very big method 1 is also faster"
   ]
  },
  {
   "cell_type": "code",
   "execution_count": 168,
   "metadata": {
    "ExecuteTime": {
     "end_time": "2021-03-05T14:41:43.743469Z",
     "start_time": "2021-03-05T14:41:32.600729Z"
    },
    "scrolled": true
   },
   "outputs": [
    {
     "name": "stdout",
     "output_type": "stream",
     "text": [
      "653 ms ± 8.02 ms per loop (mean ± std. dev. of 7 runs, 1 loop each)\n",
      "704 ms ± 6.07 ms per loop (mean ± std. dev. of 7 runs, 1 loop each)\n"
     ]
    }
   ],
   "source": [
    "r = get_data(n = 1_000_000)\n",
    "r1 = %timeit -o sort_by_score_1(r)\n",
    "r2 = %timeit -o sort_by_score_2(r)"
   ]
  },
  {
   "cell_type": "markdown",
   "metadata": {},
   "source": [
    "## Sorting top K elements from a list of tuples (id, score)\n",
    "\n",
    "Sometimes we do not need to sort all elements within a list, we simply care about the K highest values."
   ]
  },
  {
   "cell_type": "code",
   "execution_count": 187,
   "metadata": {
    "ExecuteTime": {
     "end_time": "2021-03-05T14:47:53.998395Z",
     "start_time": "2021-03-05T14:47:53.995643Z"
    }
   },
   "outputs": [],
   "source": [
    "def sort_by_topk_1(r: [(any,any)], k=50):\n",
    "    scores = np.array([r_k[1] for r_k in r])\n",
    "    sorted_ids =  np.argpartition(scores,-k)[-k:]\n",
    "    r_sorted_np = np.array([r[i] for i in reversed(sorted_ids)],\n",
    "                           dtype=[('ids',np.int),('scores',np.float64)])\n",
    "    return r_sorted_np\n"
   ]
  },
  {
   "cell_type": "code",
   "execution_count": 188,
   "metadata": {
    "ExecuteTime": {
     "end_time": "2021-03-05T14:48:05.295768Z",
     "start_time": "2021-03-05T14:47:56.119437Z"
    }
   },
   "outputs": [
    {
     "name": "stdout",
     "output_type": "stream",
     "text": [
      "113 ms ± 787 µs per loop (mean ± std. dev. of 7 runs, 10 loops each)\n"
     ]
    }
   ],
   "source": [
    "%%timeit\n",
    "sort_by_topk_1(r,10)"
   ]
  },
  {
   "cell_type": "code",
   "execution_count": 189,
   "metadata": {
    "ExecuteTime": {
     "end_time": "2021-03-05T14:48:07.508291Z",
     "start_time": "2021-03-05T14:48:07.390051Z"
    }
   },
   "outputs": [
    {
     "data": {
      "text/plain": [
       "array([( 89183, 0.99999731), (866239, 0.99999579), (551298, 0.99999394)],\n",
       "      dtype=[('ids', '<i8'), ('scores', '<f8')])"
      ]
     },
     "execution_count": 189,
     "metadata": {},
     "output_type": "execute_result"
    }
   ],
   "source": [
    "sort_by_topk_1(r,3)"
   ]
  },
  {
   "cell_type": "code",
   "execution_count": 190,
   "metadata": {
    "ExecuteTime": {
     "end_time": "2021-03-05T14:48:12.544536Z",
     "start_time": "2021-03-05T14:48:11.875544Z"
    }
   },
   "outputs": [
    {
     "data": {
      "text/plain": [
       "array([( 89183, 0.99999731), (866239, 0.99999579), (551298, 0.99999394)],\n",
       "      dtype=[('ids', '<i8'), ('scores', '<f8')])"
      ]
     },
     "execution_count": 190,
     "metadata": {},
     "output_type": "execute_result"
    }
   ],
   "source": [
    "sort_by_score_1(r)[0:3]"
   ]
  },
  {
   "cell_type": "code",
   "execution_count": null,
   "metadata": {},
   "outputs": [],
   "source": []
  },
  {
   "cell_type": "code",
   "execution_count": null,
   "metadata": {},
   "outputs": [],
   "source": []
  },
  {
   "cell_type": "code",
   "execution_count": null,
   "metadata": {},
   "outputs": [],
   "source": []
  }
 ],
 "metadata": {
  "kernelspec": {
   "display_name": "Python 3",
   "language": "python",
   "name": "python3"
  },
  "language_info": {
   "codemirror_mode": {
    "name": "ipython",
    "version": 3
   },
   "file_extension": ".py",
   "mimetype": "text/x-python",
   "name": "python",
   "nbconvert_exporter": "python",
   "pygments_lexer": "ipython3",
   "version": "3.8.5"
  },
  "toc": {
   "base_numbering": 1,
   "nav_menu": {},
   "number_sections": true,
   "sideBar": true,
   "skip_h1_title": false,
   "title_cell": "Table of Contents",
   "title_sidebar": "Contents",
   "toc_cell": true,
   "toc_position": {},
   "toc_section_display": true,
   "toc_window_display": true
  },
  "varInspector": {
   "cols": {
    "lenName": 16,
    "lenType": 16,
    "lenVar": 40
   },
   "kernels_config": {
    "python": {
     "delete_cmd_postfix": "",
     "delete_cmd_prefix": "del ",
     "library": "var_list.py",
     "varRefreshCmd": "print(var_dic_list())"
    },
    "r": {
     "delete_cmd_postfix": ") ",
     "delete_cmd_prefix": "rm(",
     "library": "var_list.r",
     "varRefreshCmd": "cat(var_dic_list()) "
    }
   },
   "types_to_exclude": [
    "module",
    "function",
    "builtin_function_or_method",
    "instance",
    "_Feature"
   ],
   "window_display": false
  }
 },
 "nbformat": 4,
 "nbformat_minor": 4
}

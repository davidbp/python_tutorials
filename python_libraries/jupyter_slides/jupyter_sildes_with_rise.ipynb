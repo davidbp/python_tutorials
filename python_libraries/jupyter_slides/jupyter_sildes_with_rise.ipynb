{
 "cells": [
  {
   "cell_type": "markdown",
   "metadata": {
    "collapsed": true,
    "slideshow": {
     "slide_type": "slide"
    }
   },
   "source": [
    "# Slides from a jupyter notebook\n",
    "\n",
    "\n",
    "The package RISE is needed in otder to add this functionality.\n",
    "\n",
    "You can install RISE in conda with:\n",
    "\n",
    "```\n",
    "conda install -c damianavila82 rise\n",
    "```\n"
   ]
  },
  {
   "cell_type": "markdown",
   "metadata": {
    "slideshow": {
     "slide_type": "slide"
    }
   },
   "source": [
    "Once installed you should be able to see a new icon into the toolbar with a histogram.\n",
    "\n",
    "\n",
    "<img src=./images/rise_icon.png>"
   ]
  },
  {
   "cell_type": "markdown",
   "metadata": {
    "slideshow": {
     "slide_type": "slide"
    }
   },
   "source": [
    "After clicking the `Enter/Exit Slideshow` button you can move from one slide to another with the left right arrow keys.\n",
    "\n",
    "You can move from one `Slide` to `Sub-Slides` with `fn` + `up/down` keys.\n"
   ]
  },
  {
   "cell_type": "markdown",
   "metadata": {
    "slideshow": {
     "slide_type": "slide"
    }
   },
   "source": [
    "\n",
    "In order to edit the slides\n",
    "\n",
    "<img src=./images/slideshow.png>"
   ]
  },
  {
   "cell_type": "markdown",
   "metadata": {
    "slideshow": {
     "slide_type": "subslide"
    }
   },
   "source": [
    "After the `Slideshow` is activated each cell in the jupyter notebook can have a tag.\n",
    "\n",
    "The image below shows that this cell is tagged as a `Sub-slide`.\n",
    "\n",
    "`Sub-slides` are accessible with the upper/lower keys from within a slide.\n",
    "\n",
    "This example shows that this cell has the number `3.2`\n",
    "\n",
    "<img src=./images/sub_slide.png>"
   ]
  },
  {
   "cell_type": "markdown",
   "metadata": {
    "slideshow": {
     "slide_type": "skip"
    }
   },
   "source": [
    "\n",
    "#### Making slides from the notebook\n",
    "\n",
    "Slides can be added with **Slide Type = Slide**  \n",
    "\n",
    "- `Slide`: Generates a new slide (Adds a new page to the slides)\n",
    "\n",
    "\n",
    "- `Sub-slide`: Generates a subslide (Adds a new subslide: X.2, X.3, X.4 ....)\n",
    "\n",
    "\n",
    "- `Fragment`: \n",
    "\n",
    "\n",
    "- `Skip`: The cell is ommited from the presentation\n",
    "\n",
    "\n",
    "- `Notes`: Notes are omitted from the presentation\n",
    "\n",
    "\n"
   ]
  },
  {
   "cell_type": "markdown",
   "metadata": {
    "slideshow": {
     "slide_type": "notes"
    }
   },
   "source": [
    "This is a note cell it is not shown in the slides."
   ]
  },
  {
   "cell_type": "code",
   "execution_count": 13,
   "metadata": {
    "slideshow": {
     "slide_type": "subslide"
    }
   },
   "outputs": [
    {
     "name": "stdout",
     "output_type": "stream",
     "text": [
      "23\n"
     ]
    }
   ],
   "source": [
    "# We can execute arbitrary code in a slide\n",
    "a = 23\n",
    "print(a)"
   ]
  },
  {
   "cell_type": "markdown",
   "metadata": {
    "slideshow": {
     "slide_type": "slide"
    }
   },
   "source": [
    "# Making html slides from notebook\n",
    "\n",
    "\n",
    "The following terminal command:\n",
    "\n",
    "```\n",
    "jupyter-nbconvert --to slides jupyter_sildes_with_rise.ipynb\n",
    "```\n",
    "\n",
    "can be used to generate `jupyter_sildes_with_rise.slides.html` which you can open in any browser.\n",
    "\n"
   ]
  }
 ],
 "metadata": {
  "celltoolbar": "Slideshow",
  "kernelspec": {
   "display_name": "Python 3",
   "language": "python",
   "name": "python3"
  },
  "language_info": {
   "codemirror_mode": {
    "name": "ipython",
    "version": 3
   },
   "file_extension": ".py",
   "mimetype": "text/x-python",
   "name": "python",
   "nbconvert_exporter": "python",
   "pygments_lexer": "ipython3",
   "version": "3.7.4"
  }
 },
 "nbformat": 4,
 "nbformat_minor": 1
}

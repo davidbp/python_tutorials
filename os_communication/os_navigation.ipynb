{
 "cells": [
  {
   "cell_type": "markdown",
   "metadata": {},
   "source": [
    "# Navigating inside the os\n",
    "\n",
    "\n",
    "\n",
    "Nice explanations:\n",
    "- https://www.pythonlearn.com/html-008/cfbook017.html\n",
    "\n",
    "#### Relevant functions in `os`\n",
    "\n",
    "- **`os.getcwd()`** returns a string wit the path of the current working directory.\n",
    "\n",
    "\n",
    "- **`os.listdir()`** returns a list containing all files and folders in the current directory.\n",
    "\n",
    "\n",
    "- **`os.mkdir(dirname)`** creates a directory with name `dirname`.\n",
    "\n",
    "\n",
    "- **`os.makedirs(dirname)`** creates a directory with name `dirname`. If `dirname` if dirname contains several levels of directories they will also be created (this does not happen with `os.mkdir`).\n",
    "\n",
    "\n",
    "- **`os.rmdir(dirname)`** deletes the directory.\n",
    "\n",
    "\n",
    "- **`os.removedirs(dirname)`** deletes the directory and all intermediate directories.\n",
    "\n",
    "\n",
    "-  **`os.rename(filename1, filename2)`** renames `filename1` with `filename2`.\n",
    "\n",
    "\n",
    "- **`os.stat(filename)`** returns information about `filename` such as the file size.\n",
    "\n",
    "\n",
    "- **`os.walk()`** returns a `generator` used to navigate throghout the filesystem tree. The generator yeilds a tuple of 3 values. The 3 values correspond to the dirpath, dirnames (inside dirpath), filenames (inside dirpath).\n",
    "\n",
    "\n",
    "- **`os.environ`** returns a `os._Environ` type  cotaining information about the environment variables. For example, `os.environ.get('HOME')` will return the home directory."
   ]
  },
  {
   "cell_type": "code",
   "execution_count": 1,
   "metadata": {
    "collapsed": true
   },
   "outputs": [],
   "source": [
    "import os"
   ]
  },
  {
   "cell_type": "code",
   "execution_count": 2,
   "metadata": {},
   "outputs": [
    {
     "data": {
      "text/plain": [
       "'/Users/david/Documents/git_stuff/python_tutorials/os_communication'"
      ]
     },
     "execution_count": 2,
     "metadata": {},
     "output_type": "execute_result"
    }
   ],
   "source": [
    "os.getcwd()"
   ]
  },
  {
   "cell_type": "code",
   "execution_count": 3,
   "metadata": {},
   "outputs": [
    {
     "data": {
      "text/plain": [
       "['.DS_Store', '.ipynb_checkpoints', 'folder_for_tests', 'os_navigation.ipynb']"
      ]
     },
     "execution_count": 3,
     "metadata": {},
     "output_type": "execute_result"
    }
   ],
   "source": [
    "os.listdir()"
   ]
  },
  {
   "cell_type": "code",
   "execution_count": 4,
   "metadata": {},
   "outputs": [
    {
     "name": "stdout",
     "output_type": "stream",
     "text": [
      "['.DS_Store', '.ipynb_checkpoints', 'folder_for_tests', 'os_navigation.ipynb']\n"
     ]
    }
   ],
   "source": [
    "# Look all that is inside the path\n",
    "path = \"./\"\n",
    "print(os.listdir(path))"
   ]
  },
  {
   "cell_type": "code",
   "execution_count": 5,
   "metadata": {
    "collapsed": true
   },
   "outputs": [],
   "source": [
    "os.mkdir('created_by_me')"
   ]
  },
  {
   "cell_type": "code",
   "execution_count": 6,
   "metadata": {},
   "outputs": [
    {
     "data": {
      "text/plain": [
       "['.DS_Store',\n",
       " '.ipynb_checkpoints',\n",
       " 'created_by_me',\n",
       " 'folder_for_tests',\n",
       " 'os_navigation.ipynb']"
      ]
     },
     "execution_count": 6,
     "metadata": {},
     "output_type": "execute_result"
    }
   ],
   "source": [
    "os.listdir()"
   ]
  },
  {
   "cell_type": "code",
   "execution_count": 7,
   "metadata": {},
   "outputs": [
    {
     "ename": "FileNotFoundError",
     "evalue": "[Errno 2] No such file or directory: 'created_by_me/A/B'",
     "output_type": "error",
     "traceback": [
      "\u001b[0;31m--------------------------------------------------------------------------\u001b[0m",
      "\u001b[0;31mFileNotFoundError\u001b[0m                        Traceback (most recent call last)",
      "\u001b[0;32m<ipython-input-7-fc2fe6119a79>\u001b[0m in \u001b[0;36m<module>\u001b[0;34m()\u001b[0m\n\u001b[1;32m      1\u001b[0m \u001b[0;31m# This will not work since B is created in A\u001b[0m\u001b[0;34m\u001b[0m\u001b[0;34m\u001b[0m\u001b[0m\n\u001b[1;32m      2\u001b[0m \u001b[0;31m# and A does not exit\u001b[0m\u001b[0;34m\u001b[0m\u001b[0;34m\u001b[0m\u001b[0m\n\u001b[0;32m----> 3\u001b[0;31m \u001b[0mos\u001b[0m\u001b[0;34m.\u001b[0m\u001b[0mmkdir\u001b[0m\u001b[0;34m(\u001b[0m\u001b[0;34m'created_by_me/A/B'\u001b[0m\u001b[0;34m)\u001b[0m\u001b[0;34m\u001b[0m\u001b[0m\n\u001b[0m",
      "\u001b[0;31mFileNotFoundError\u001b[0m: [Errno 2] No such file or directory: 'created_by_me/A/B'"
     ]
    }
   ],
   "source": [
    "# This will not work since B is created in A\n",
    "# and A does not exit\n",
    "os.mkdir('created_by_me/A/B')"
   ]
  },
  {
   "cell_type": "code",
   "execution_count": 8,
   "metadata": {},
   "outputs": [],
   "source": [
    "os.makedirs('created_by_me/A/B')"
   ]
  },
  {
   "cell_type": "code",
   "execution_count": 9,
   "metadata": {},
   "outputs": [
    {
     "data": {
      "text/plain": [
       "['.DS_Store',\n",
       " '.ipynb_checkpoints',\n",
       " 'created_by_me',\n",
       " 'folder_for_tests',\n",
       " 'os_navigation.ipynb']"
      ]
     },
     "execution_count": 9,
     "metadata": {},
     "output_type": "execute_result"
    }
   ],
   "source": [
    "os.listdir()"
   ]
  },
  {
   "cell_type": "code",
   "execution_count": 10,
   "metadata": {
    "collapsed": true
   },
   "outputs": [],
   "source": [
    "os.removedirs('created_by_me/A/B')"
   ]
  },
  {
   "cell_type": "code",
   "execution_count": 11,
   "metadata": {
    "scrolled": true
   },
   "outputs": [
    {
     "data": {
      "text/plain": [
       "['.DS_Store', '.ipynb_checkpoints', 'folder_for_tests', 'os_navigation.ipynb']"
      ]
     },
     "execution_count": 11,
     "metadata": {},
     "output_type": "execute_result"
    }
   ],
   "source": [
    "os.listdir()"
   ]
  },
  {
   "cell_type": "code",
   "execution_count": 12,
   "metadata": {},
   "outputs": [
    {
     "data": {
      "text/plain": [
       "os.stat_result(st_mode=33188, st_ino=19316662, st_dev=16777220, st_nlink=1, st_uid=502, st_gid=20, st_size=16, st_atime=1514394462, st_mtime=1514394462, st_ctime=1514394462)"
      ]
     },
     "execution_count": 12,
     "metadata": {},
     "output_type": "execute_result"
    }
   ],
   "source": [
    "filename = './folder_for_tests/A_txt_files/f1.txt'\n",
    "os.stat(filename)"
   ]
  },
  {
   "cell_type": "code",
   "execution_count": 13,
   "metadata": {},
   "outputs": [
    {
     "name": "stdout",
     "output_type": "stream",
     "text": [
      "Size of the file in bytes: 16\n"
     ]
    }
   ],
   "source": [
    "print(\"Size of the file in bytes:\", os.stat(filename).st_size)"
   ]
  },
  {
   "cell_type": "code",
   "execution_count": 14,
   "metadata": {},
   "outputs": [
    {
     "name": "stdout",
     "output_type": "stream",
     "text": [
      "The file was modified in: 2017-12-27 18:07:42\n"
     ]
    }
   ],
   "source": [
    "from datetime import datetime\n",
    "modification_time = os.stat(filename).st_mtime\n",
    "print(\"The file was modified in:\", \n",
    "      datetime.fromtimestamp(modification_time))"
   ]
  },
  {
   "cell_type": "code",
   "execution_count": 15,
   "metadata": {},
   "outputs": [
    {
     "data": {
      "text/plain": [
       "'/Users/david'"
      ]
     },
     "execution_count": 15,
     "metadata": {},
     "output_type": "execute_result"
    }
   ],
   "source": [
    "os.environ.get('HOME')"
   ]
  },
  {
   "cell_type": "markdown",
   "metadata": {},
   "source": [
    "#### About os.path"
   ]
  },
  {
   "cell_type": "code",
   "execution_count": 16,
   "metadata": {},
   "outputs": [
    {
     "data": {
      "text/plain": [
       "'/Users/david/some_file_.txt'"
      ]
     },
     "execution_count": 16,
     "metadata": {},
     "output_type": "execute_result"
    }
   ],
   "source": [
    "filepath=os.path.join(os.environ.get('HOME'), 'some_file_.txt')\n",
    "filepath"
   ]
  },
  {
   "cell_type": "code",
   "execution_count": 17,
   "metadata": {},
   "outputs": [
    {
     "data": {
      "text/plain": [
       "'f.txt'"
      ]
     },
     "execution_count": 17,
     "metadata": {},
     "output_type": "execute_result"
    }
   ],
   "source": [
    "os.path.basename('inventedpath/another_invented/f.txt')"
   ]
  },
  {
   "cell_type": "code",
   "execution_count": 18,
   "metadata": {},
   "outputs": [
    {
     "data": {
      "text/plain": [
       "'inventedpath/another_invented'"
      ]
     },
     "execution_count": 18,
     "metadata": {},
     "output_type": "execute_result"
    }
   ],
   "source": [
    "os.path.dirname('inventedpath/another_invented/f.txt')"
   ]
  },
  {
   "cell_type": "code",
   "execution_count": 19,
   "metadata": {},
   "outputs": [
    {
     "data": {
      "text/plain": [
       "('inventedpath/another_invented', 'f.txt')"
      ]
     },
     "execution_count": 19,
     "metadata": {},
     "output_type": "execute_result"
    }
   ],
   "source": [
    "os.path.split('inventedpath/another_invented/f.txt')"
   ]
  },
  {
   "cell_type": "code",
   "execution_count": 20,
   "metadata": {},
   "outputs": [
    {
     "data": {
      "text/plain": [
       "False"
      ]
     },
     "execution_count": 20,
     "metadata": {},
     "output_type": "execute_result"
    }
   ],
   "source": [
    "os.path.exists('inventedpath/another_invented/f.txt')"
   ]
  },
  {
   "cell_type": "code",
   "execution_count": 21,
   "metadata": {},
   "outputs": [
    {
     "data": {
      "text/plain": [
       "False"
      ]
     },
     "execution_count": 21,
     "metadata": {},
     "output_type": "execute_result"
    }
   ],
   "source": [
    "os.path.isdir('inventedpath/another_invented/f.txt')"
   ]
  },
  {
   "cell_type": "code",
   "execution_count": 22,
   "metadata": {},
   "outputs": [
    {
     "data": {
      "text/plain": [
       "False"
      ]
     },
     "execution_count": 22,
     "metadata": {},
     "output_type": "execute_result"
    }
   ],
   "source": [
    "os.path.isfile('inventedpath/another_invented/f.txt')"
   ]
  },
  {
   "cell_type": "code",
   "execution_count": 23,
   "metadata": {},
   "outputs": [
    {
     "data": {
      "text/plain": [
       "('inventedpath/another_invented/f', '.txt')"
      ]
     },
     "execution_count": 23,
     "metadata": {},
     "output_type": "execute_result"
    }
   ],
   "source": [
    "## root and extension\n",
    "os.path.splitext('inventedpath/another_invented/f.txt')"
   ]
  },
  {
   "cell_type": "markdown",
   "metadata": {},
   "source": [
    "\n",
    "## Navigating the filesystem"
   ]
  },
  {
   "cell_type": "markdown",
   "metadata": {},
   "source": [
    "We can walk over all the folders and subfolders of a a given `path` using the **`os.walk(path)`**. The `os.walk` method returns a `generator`.\n",
    "\n",
    "Let us use this function to print all subfolders of `folder_for_tests` which is a folder containing several subfolders that we will use to test the different functions in `os`."
   ]
  },
  {
   "cell_type": "code",
   "execution_count": 24,
   "metadata": {},
   "outputs": [
    {
     "data": {
      "text/plain": [
       "generator"
      ]
     },
     "execution_count": 24,
     "metadata": {},
     "output_type": "execute_result"
    }
   ],
   "source": [
    "type(os.walk(path))"
   ]
  },
  {
   "cell_type": "code",
   "execution_count": 25,
   "metadata": {},
   "outputs": [
    {
     "name": "stdout",
     "output_type": "stream",
     "text": [
      "Current path: ./folder_for_tests/\n",
      "Directories: ['A_txt_files', 'B_txt_files']\n",
      "Files: ['.DS_Store']\n",
      "\n",
      "Current path: ./folder_for_tests/A_txt_files\n",
      "Directories: []\n",
      "Files: ['f1.txt', 'f2.txt']\n",
      "\n",
      "Current path: ./folder_for_tests/B_txt_files\n",
      "Directories: ['A_2_txt_files']\n",
      "Files: ['.DS_Store', 'f3.txt', 'f4.txt', 'f5.txt']\n",
      "\n",
      "Current path: ./folder_for_tests/B_txt_files/A_2_txt_files\n",
      "Directories: []\n",
      "Files: ['f6.txt', 'f7.txt']\n",
      "\n"
     ]
    }
   ],
   "source": [
    "path = './folder_for_tests/'\n",
    "for dirpath, dirnames, filenames in os.walk(path):\n",
    "    print('Current path:', dirpath)\n",
    "    print('Directories:', dirnames)\n",
    "    print('Files:', filenames)\n",
    "    print()"
   ]
  },
  {
   "cell_type": "markdown",
   "metadata": {},
   "source": [
    "#### Gathering filenames, and folders\n",
    "\n",
    "Print the names of all folders inside `path` (or inside folders that are inside path)."
   ]
  },
  {
   "cell_type": "code",
   "execution_count": 26,
   "metadata": {},
   "outputs": [
    {
     "name": "stdout",
     "output_type": "stream",
     "text": [
      "folder name: A_txt_files\n",
      "folder name: B_txt_files\n",
      "folder name: A_2_txt_files\n"
     ]
    }
   ],
   "source": [
    "path = './folder_for_tests/'\n",
    "for dirpath, dirnames, filenames in os.walk(path):\n",
    "    for directory in dirnames:\n",
    "        print('folder name:', directory)"
   ]
  },
  {
   "cell_type": "markdown",
   "metadata": {},
   "source": [
    "Print the full path of all previous folders. The path will start in `path`"
   ]
  },
  {
   "cell_type": "code",
   "execution_count": 27,
   "metadata": {},
   "outputs": [
    {
     "name": "stdout",
     "output_type": "stream",
     "text": [
      "folder path: ./folder_for_tests/\n",
      "folder path: ./folder_for_tests/A_txt_files\n",
      "folder path: ./folder_for_tests/B_txt_files\n",
      "folder path: ./folder_for_tests/B_txt_files/A_2_txt_files\n"
     ]
    }
   ],
   "source": [
    "for dirpath, dirnames, filenames in os.walk(path):\n",
    "    print(\"folder path:\", dirpath)"
   ]
  },
  {
   "cell_type": "markdown",
   "metadata": {},
   "source": [
    "Print all `.txt` files inside all subfolders contained in `path` "
   ]
  },
  {
   "cell_type": "code",
   "execution_count": 28,
   "metadata": {},
   "outputs": [
    {
     "name": "stdout",
     "output_type": "stream",
     "text": [
      "File: f1.txt\n",
      "File: f2.txt\n",
      "File: f3.txt\n",
      "File: f4.txt\n",
      "File: f5.txt\n",
      "File: f6.txt\n",
      "File: f7.txt\n"
     ]
    }
   ],
   "source": [
    "path = './folder_for_tests/'\n",
    "for dirpath, dirnames, filenames in os.walk(path):\n",
    "    for f in filenames:\n",
    "        if f.endswith('.txt'):\n",
    "            print('File:', f)"
   ]
  },
  {
   "cell_type": "markdown",
   "metadata": {},
   "source": [
    "#### find all (.mkv or .mp4 or .avi ) files in the home directory"
   ]
  },
  {
   "cell_type": "code",
   "execution_count": 29,
   "metadata": {},
   "outputs": [],
   "source": [
    "def find_movie_files():\n",
    "    path = os.environ.get('HOME')\n",
    "    files = []\n",
    "    for dirpath, dirnames, filenames in os.walk(path):\n",
    "        for f in filenames:\n",
    "            if f.endswith('.mkv') or f.endswith('.avi') or f.endswith('.mp4'):\n",
    "                #print('File:', f)\n",
    "                files.append(f)\n",
    "                \n",
    "    return files"
   ]
  },
  {
   "cell_type": "code",
   "execution_count": null,
   "metadata": {
    "collapsed": true
   },
   "outputs": [],
   "source": [
    "movie_files = find_movie_files()"
   ]
  },
  {
   "cell_type": "code",
   "execution_count": null,
   "metadata": {},
   "outputs": [],
   "source": [
    "len(movie_files)"
   ]
  },
  {
   "cell_type": "code",
   "execution_count": 56,
   "metadata": {
    "collapsed": true
   },
   "outputs": [],
   "source": [
    "def retrieve_movie_data():\n",
    "    path = os.environ.get('HOME')\n",
    "    files = []\n",
    "    sizes = []\n",
    "    for dirpath, dirnames, filenames in os.walk(path):\n",
    "        for f in filenames:\n",
    "            fpath = os.path.join(dirpath, f)\n",
    "            \n",
    "            if fpath.endswith('.mkv') or fpath.endswith('.avi') or fpath.endswith('.mp4'):\n",
    "                #print('File:', f)\n",
    "                files.append(fpath)\n",
    "                sizes.append(os.stat(fpath).st_size*10**(-8)) # size in GigaBytes\n",
    "                \n",
    "    return files,sizes"
   ]
  },
  {
   "cell_type": "code",
   "execution_count": 36,
   "metadata": {},
   "outputs": [],
   "source": [
    "filenames, sizes_GB = retrieve_movie_data()"
   ]
  },
  {
   "cell_type": "code",
   "execution_count": 40,
   "metadata": {},
   "outputs": [],
   "source": [
    "movie_files = [os.path.basename(f) for f in filenames]"
   ]
  },
  {
   "cell_type": "code",
   "execution_count": 58,
   "metadata": {
    "scrolled": false
   },
   "outputs": [],
   "source": [
    "## Print movie files sorted\n",
    "# sorted by size (decreasingly)\n",
    "import numpy as np\n",
    "[movie_files[x] for x in np.argsort(sizes_GB)[::-1]]"
   ]
  },
  {
   "cell_type": "code",
   "execution_count": 57,
   "metadata": {},
   "outputs": [],
   "source": [
    "#np.sort(sizes_GB)[::-1]"
   ]
  },
  {
   "cell_type": "code",
   "execution_count": null,
   "metadata": {
    "collapsed": true
   },
   "outputs": [],
   "source": []
  }
 ],
 "metadata": {
  "kernelspec": {
   "display_name": "Python 3",
   "language": "python",
   "name": "python3"
  },
  "language_info": {
   "codemirror_mode": {
    "name": "ipython",
    "version": 3
   },
   "file_extension": ".py",
   "mimetype": "text/x-python",
   "name": "python",
   "nbconvert_exporter": "python",
   "pygments_lexer": "ipython3",
   "version": "3.5.4"
  }
 },
 "nbformat": 4,
 "nbformat_minor": 1
}

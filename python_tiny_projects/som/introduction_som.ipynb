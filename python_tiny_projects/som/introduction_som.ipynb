{
 "cells": [
  {
   "cell_type": "code",
   "execution_count": 1,
   "id": "34164789",
   "metadata": {},
   "outputs": [],
   "source": [
    "%matplotlib inline"
   ]
  },
  {
   "cell_type": "code",
   "execution_count": 2,
   "id": "69a81f0d",
   "metadata": {},
   "outputs": [],
   "source": [
    "import numpy as np\n",
    "from matplotlib import pyplot as plt"
   ]
  },
  {
   "cell_type": "markdown",
   "id": "2cfb78a3",
   "metadata": {},
   "source": [
    "### Introduction to SOM algorithm\n",
    "\n",
    "\n",
    "A self organizing map is composed of a grid of neurons that are learned with an unsupervised algorithm. The neurons will learn a prototype and a relative position to other neurons in the embedding space.\n",
    "\n",
    "We will be working with 2D maps. That means that our SOM map will be `n_row * n_col * n_feat`.\n",
    "\n",
    "Where \n",
    "\n",
    "- `n_row` is the number of rows in the feature map\n",
    "- `n_col` is the number of cols in the feature map\n",
    "- `n_feat` is the number of features used to represent the input vectors of the SOM map.\n",
    "\n"
   ]
  },
  {
   "cell_type": "code",
   "execution_count": 3,
   "id": "6239baaa",
   "metadata": {},
   "outputs": [
    {
     "data": {
      "text/plain": [
       "(32, 32, 3)"
      ]
     },
     "execution_count": 3,
     "metadata": {},
     "output_type": "execute_result"
    }
   ],
   "source": [
    "n_row = 32\n",
    "n_col = 32\n",
    "n_feat = 3\n",
    "np.random.seed(123)\n",
    "node_vectors = np.random.rand(n_row, n_col, n_feat) \n",
    "node_vectors.shape"
   ]
  },
  {
   "cell_type": "markdown",
   "id": "4bff2a37",
   "metadata": {},
   "source": [
    "### Mapping the best match into a 2d grid\n",
    "\n",
    "We want to define a bijection between 2d coordinates in a matrix and a single vector.\n",
    "\n",
    "We want to do this for two main reasons:\n",
    "\n",
    "- we might want to use a distance function build to compute pairwise distances between two matrices, hence, we need our data to be organized as a 2D matrix, instead of a 3D matrix.\n",
    "\n",
    "- We want to be able to map a row index from the 2D matrix containing all prototypes as rows to a 2D plane of prototypes, to be able to define a neighbourhood.\n",
    "\n",
    "#### Example\n",
    "\n",
    "We want to map this:\n",
    "```\n",
    "[0,0] [0,1] [0,2] \n",
    "[1,0] [1,1] [1,2]\n",
    "```\n",
    "To `np.array([0,1,2,3,4,5]).T`\n",
    "\n",
    "Note that\n",
    "\n",
    "```\n",
    "0      1     2  \n",
    "[0,0] [0,1] [0,2] \n",
    "3      4     5\n",
    "[1,0] [1,1] [1,2]\n",
    "```\n",
    "\n",
    "If we know that the array is `[2,3]` then given an index such as `i`\n",
    "we can do "
   ]
  },
  {
   "cell_type": "code",
   "execution_count": 4,
   "id": "cb45954e",
   "metadata": {},
   "outputs": [],
   "source": [
    "def onedim_index_to_twodim(index, n_row, n_col):\n",
    "    x = index // n_col\n",
    "    y = index % n_col\n",
    "    return (x,y)"
   ]
  },
  {
   "cell_type": "code",
   "execution_count": 5,
   "id": "186e28a2",
   "metadata": {},
   "outputs": [],
   "source": [
    "def twodim_index_to_onedim(row, col, len_row):\n",
    "    one_dim_index = (row * len_row) + col\n",
    "    return one_dim_index "
   ]
  },
  {
   "cell_type": "code",
   "execution_count": 6,
   "id": "b400d781",
   "metadata": {},
   "outputs": [
    {
     "name": "stdout",
     "output_type": "stream",
     "text": [
      "(0,0) --> 0\n",
      "(0,1) --> 1\n",
      "(0,2) --> 2\n",
      "(1,0) --> 3\n",
      "(1,1) --> 4\n",
      "(1,2) --> 5\n"
     ]
    }
   ],
   "source": [
    "for i in range(2):\n",
    "    for j in range(3):\n",
    "        print(f'({i},{j}) --> {twodim_index_to_onedim(i,j,3)}')"
   ]
  },
  {
   "cell_type": "code",
   "execution_count": 7,
   "id": "e1ac2f74",
   "metadata": {},
   "outputs": [
    {
     "name": "stdout",
     "output_type": "stream",
     "text": [
      "0 --> (0, 0)\n",
      "1 --> (0, 1)\n",
      "2 --> (0, 2)\n",
      "3 --> (1, 0)\n",
      "4 --> (1, 1)\n",
      "5 --> (1, 2)\n"
     ]
    }
   ],
   "source": [
    "n_row = 2\n",
    "n_col = 3 \n",
    "\n",
    "for i in range(6):\n",
    "    print(f'{i} --> {onedim_index_to_twodim(i,2,3)}')"
   ]
  },
  {
   "cell_type": "markdown",
   "id": "ad10217c",
   "metadata": {},
   "source": [
    "### Finding the best prototype neuron\n",
    "\n",
    "Given an input vector to the som we want to know which prototype is the best match, the one with lowest distance.\n",
    "\n",
    "We have a function `euclidean` that is capable to compute, given two matrices, the pairwise distance between the rows of both input matrices."
   ]
  },
  {
   "cell_type": "code",
   "execution_count": 8,
   "id": "dd5aa9b7",
   "metadata": {},
   "outputs": [],
   "source": [
    "from utils import euclidean"
   ]
  },
  {
   "cell_type": "code",
   "execution_count": 9,
   "id": "ae42a0b5",
   "metadata": {},
   "outputs": [
    {
     "data": {
      "text/plain": [
       "((1, 3), (32, 32, 3))"
      ]
     },
     "execution_count": 9,
     "metadata": {},
     "output_type": "execute_result"
    }
   ],
   "source": [
    "n_row = 32\n",
    "n_col = 32\n",
    "n_features = 3\n",
    "\n",
    "x = np.array([[0.25, 0.25, 0.25]])\n",
    "x.shape, node_vectors.shape"
   ]
  },
  {
   "cell_type": "code",
   "execution_count": 10,
   "id": "56d4187d",
   "metadata": {},
   "outputs": [
    {
     "data": {
      "text/plain": [
       "(1024, 3)"
      ]
     },
     "execution_count": 10,
     "metadata": {},
     "output_type": "execute_result"
    }
   ],
   "source": [
    "node_vectors_mat = node_vectors.reshape(n_row * n_col, n_features)\n",
    "node_vectors_mat.shape"
   ]
  },
  {
   "cell_type": "markdown",
   "id": "d23955ed",
   "metadata": {},
   "source": [
    "We can compute the distance between `x` and `node_vectors_mat` as follows"
   ]
  },
  {
   "cell_type": "code",
   "execution_count": 11,
   "id": "68035e84",
   "metadata": {},
   "outputs": [
    {
     "data": {
      "text/plain": [
       "(1, 1024)"
      ]
     },
     "execution_count": 11,
     "metadata": {},
     "output_type": "execute_result"
    }
   ],
   "source": [
    "distances = euclidean(x, node_vectors_mat)\n",
    "distances.shape"
   ]
  },
  {
   "cell_type": "markdown",
   "id": "6a100d3b",
   "metadata": {},
   "source": [
    "Finding the closest prototype from `node_vectors_mat`"
   ]
  },
  {
   "cell_type": "code",
   "execution_count": 12,
   "id": "1795718f",
   "metadata": {},
   "outputs": [
    {
     "data": {
      "text/plain": [
       "array([[0.44852719, 0.58408694, 0.88114854, ..., 0.58104996, 0.91759821,\n",
       "        0.73372179]])"
      ]
     },
     "execution_count": 12,
     "metadata": {},
     "output_type": "execute_result"
    }
   ],
   "source": [
    "distances"
   ]
  },
  {
   "cell_type": "code",
   "execution_count": 13,
   "id": "62444705",
   "metadata": {},
   "outputs": [],
   "source": [
    "best_match_index = np.argmin(distances)"
   ]
  },
  {
   "cell_type": "code",
   "execution_count": 14,
   "id": "974fd9ca",
   "metadata": {},
   "outputs": [
    {
     "data": {
      "text/plain": [
       "452"
      ]
     },
     "execution_count": 14,
     "metadata": {},
     "output_type": "execute_result"
    }
   ],
   "source": [
    "best_match_index"
   ]
  },
  {
   "cell_type": "code",
   "execution_count": 15,
   "id": "864294e7",
   "metadata": {},
   "outputs": [],
   "source": [
    "best_match_2d_pos = onedim_index_to_twodim(best_match_index, n_row, n_col)"
   ]
  },
  {
   "cell_type": "code",
   "execution_count": 16,
   "id": "c16c926c",
   "metadata": {},
   "outputs": [],
   "source": [
    "def grid_neurons(n_row, n_col):\n",
    "    points = []\n",
    "    for i in range(n_row):\n",
    "        for j in range(n_col):\n",
    "            points.append((i,j))\n",
    "    \n",
    "    points = np.array(points)\n",
    "    return points\n",
    "\n",
    "def plot_grid(n_row, n_col, grid_neurons, best_match_pos=None):\n",
    "    plt.figure(figsize=(6,6))\n",
    "    \n",
    "    plt.scatter(grid_neurons[:,0], grid_neurons[:,1])\n",
    "    if best_match_pos is not None:\n",
    "        plt.scatter(best_match_pos[0],best_match_pos[1], color='red')"
   ]
  },
  {
   "cell_type": "code",
   "execution_count": 17,
   "id": "8ddbd017",
   "metadata": {
    "scrolled": false
   },
   "outputs": [
    {
     "data": {
      "image/png": "[encoded data removed]",
      "text/plain": [
       "<Figure size 432x432 with 1 Axes>"
      ]
     },
     "metadata": {
      "needs_background": "light"
     },
     "output_type": "display_data"
    }
   ],
   "source": [
    "grid = grid_neurons(n_row, n_col)\n",
    "plot_grid(n_row, n_col, grid,  best_match_2d_pos)"
   ]
  },
  {
   "cell_type": "markdown",
   "id": "4faa06e9",
   "metadata": {},
   "source": [
    "### Finding the neighbors of the best prototype\n",
    "\n",
    "Assuming that we have found the best prototype in the grid, we want to know who are its neighbors\n"
   ]
  },
  {
   "cell_type": "code",
   "execution_count": 18,
   "id": "e058a14b",
   "metadata": {},
   "outputs": [],
   "source": [
    "def find_neighbours(best_match_pos, grid_3d, n_neighbors):\n",
    "    x, y  = best_match_pos\n",
    "    selected_points = np.vstack(grid_3d[max(x - n_neighbors,0):x + n_neighbors+1,\n",
    "                                        max(y - n_neighbors,0):y + n_neighbors+1])\n",
    "    return selected_points\n"
   ]
  },
  {
   "cell_type": "code",
   "execution_count": 19,
   "id": "0149ece1",
   "metadata": {},
   "outputs": [],
   "source": [
    "def plot_neighbours(best_match_pos, grid_3d, n_neighbors):\n",
    "    \"\"\"\n",
    "    Neighbors\n",
    "    \"\"\"\n",
    "    assert grid_3d.ndim == 3, f'grid_3d expects ndim to be 2 but it recieved an array of ndim {grid_3d.ndim} '\n",
    "    \n",
    "    selected_points = find_neighbours(best_match_pos, grid_3d, n_neighbors)\n",
    "    \n",
    "    plt.figure(figsize=(6,6))\n",
    "    \n",
    "    grid = np.vstack(grid_3d)\n",
    "    plt.scatter(grid[:,0], grid[:,1])\n",
    "    \n",
    "    grid_neighbours_2d= np.vstack(selected_points)\n",
    "    plt.scatter(grid_neighbours_2d[:,0], grid_neighbours_2d[:,1], color = 'pink')\n",
    "\n",
    "    if best_match_pos is not None:\n",
    "        plt.scatter(best_match_pos[0],best_match_pos[1], color='red')\n",
    "    "
   ]
  },
  {
   "cell_type": "code",
   "execution_count": 20,
   "id": "3dfc90ac",
   "metadata": {},
   "outputs": [
    {
     "data": {
      "image/png": "[encoded data removed]",
      "text/plain": [
       "<Figure size 432x432 with 1 Axes>"
      ]
     },
     "metadata": {
      "needs_background": "light"
     },
     "output_type": "display_data"
    }
   ],
   "source": [
    "grid_3d = grid.reshape(n_row, n_col, 2)\n",
    "plot_neighbours(best_match_2d_pos, grid_3d, n_neighbors=3)"
   ]
  },
  {
   "cell_type": "code",
   "execution_count": 21,
   "id": "9a6bc4a0",
   "metadata": {},
   "outputs": [
    {
     "data": {
      "image/png": "[encoded data removed]",
      "text/plain": [
       "<Figure size 432x432 with 1 Axes>"
      ]
     },
     "metadata": {
      "needs_background": "light"
     },
     "output_type": "display_data"
    }
   ],
   "source": [
    "plot_neighbours((0,0), grid_3d, n_neighbors=2)"
   ]
  },
  {
   "cell_type": "markdown",
   "id": "ccbc776e",
   "metadata": {},
   "source": [
    "#### Optimizing finding neighbours\n",
    "\n",
    "\n",
    "Note that there is no need to keep in memory `grid_3d` in order to get the nearby elements of coordinate"
   ]
  },
  {
   "cell_type": "code",
   "execution_count": 22,
   "id": "7937dc96",
   "metadata": {},
   "outputs": [],
   "source": [
    "def find_neighbours_fast(point, n_neighbours, n_row, n_col):\n",
    "    x, y = point\n",
    "    \n",
    "    points = []\n",
    "    weights = []\n",
    "    for i in range(max(x-n_neighbours,0),min(x+n_neighbours+1,n_col)):\n",
    "        for j in range(max(y-n_neighbours,0),min(y+n_neighbours+1,n_col)):\n",
    "            points.append((i,j))\n",
    "            weights.append( 1/(abs(x-i) + abs(y-j)+1) )\n",
    "            \n",
    "    return points, np.array(weights)"
   ]
  },
  {
   "cell_type": "code",
   "execution_count": 23,
   "id": "c17a6085",
   "metadata": {},
   "outputs": [
    {
     "name": "stdout",
     "output_type": "stream",
     "text": [
      "10.8 µs ± 108 ns per loop (mean ± std. dev. of 7 runs, 100000 loops each)\n"
     ]
    }
   ],
   "source": [
    "%timeit find_neighbours_fast((10,10),n_neighbours=2,n_row=32,n_col=32)"
   ]
  },
  {
   "cell_type": "code",
   "execution_count": 24,
   "id": "94dfbec8",
   "metadata": {},
   "outputs": [
    {
     "name": "stdout",
     "output_type": "stream",
     "text": [
      "8.06 µs ± 394 ns per loop (mean ± std. dev. of 7 runs, 100000 loops each)\n"
     ]
    }
   ],
   "source": [
    "%timeit find_neighbours((10,10),grid_3d,2)"
   ]
  },
  {
   "cell_type": "code",
   "execution_count": 25,
   "id": "6a444872",
   "metadata": {},
   "outputs": [],
   "source": [
    "res1,weights = find_neighbours_fast((10,10),n_neighbours=2,n_row=32,n_col=32)\n",
    "res2 = find_neighbours((10,10),grid_3d,2)"
   ]
  },
  {
   "cell_type": "code",
   "execution_count": 26,
   "id": "b3eaadf1",
   "metadata": {
    "scrolled": true
   },
   "outputs": [],
   "source": [
    "np.testing.assert_almost_equal(res1, res2)"
   ]
  },
  {
   "cell_type": "code",
   "execution_count": 27,
   "id": "93fa4179",
   "metadata": {},
   "outputs": [
    {
     "data": {
      "text/plain": [
       "<matplotlib.image.AxesImage at 0x7fbd5f6432e0>"
      ]
     },
     "execution_count": 27,
     "metadata": {},
     "output_type": "execute_result"
    },
    {
     "data": {
      "image/png": "[encoded data removed]",
      "text/plain": [
       "<Figure size 432x288 with 1 Axes>"
      ]
     },
     "metadata": {
      "needs_background": "light"
     },
     "output_type": "display_data"
    }
   ],
   "source": [
    "plt.imshow(weights.reshape((5,5)), cmap=\"gray\")"
   ]
  },
  {
   "cell_type": "markdown",
   "id": "de57a699",
   "metadata": {},
   "source": [
    "#### Plot neighborhood with weighted colors\n",
    "\n",
    "The SOM algorithm updates more neurons that are closer to the winning neuron.\n",
    "Therfore our previous plot of neighbors is does not show this information.\n",
    "\n",
    "Let us plot it."
   ]
  },
  {
   "cell_type": "code",
   "execution_count": 28,
   "id": "2bb867c7",
   "metadata": {},
   "outputs": [],
   "source": [
    "def plot_neighbours(best_match_pos, grid_3d, n_neighbors):\n",
    "    \"\"\"\n",
    "    Neighbors\n",
    "    \"\"\"\n",
    "    assert grid_3d.ndim == 3, f'grid_3d expects ndim to be 2 but it recieved an array of ndim {grid_3d.ndim} '\n",
    "    \n",
    "    selected_points, weights = find_neighbours_fast(best_match_pos, \n",
    "                                                    n_neighbours=n_neighbors,\n",
    "                                                    n_row=32,\n",
    "                                                    n_col=32)\n",
    "\n",
    "    plt.figure(figsize=(6,6))\n",
    "    \n",
    "    grid = np.vstack(grid_3d)\n",
    "    plt.scatter(grid[:,0], grid[:,1], alpha=0.1)\n",
    "    \n",
    "    #grid_neighbours_2d = np.vstack(selected_points)\n",
    "    weights = weights.flatten()\n",
    "    for xy, w in zip(selected_points, weights):\n",
    "        plt.scatter(xy[0], xy[1],alpha=w, color = 'pink')\n"
   ]
  },
  {
   "cell_type": "code",
   "execution_count": 29,
   "id": "0028a3c7",
   "metadata": {},
   "outputs": [
    {
     "data": {
      "image/png": "[encoded data removed]",
      "text/plain": [
       "<Figure size 432x432 with 1 Axes>"
      ]
     },
     "metadata": {
      "needs_background": "light"
     },
     "output_type": "display_data"
    }
   ],
   "source": [
    "plot_neighbours(best_match_2d_pos, grid_3d, n_neighbors=3)"
   ]
  },
  {
   "cell_type": "markdown",
   "id": "3cc8183a",
   "metadata": {},
   "source": [
    "## Updating neuron weights\n",
    "\n",
    "\n",
    "https://en.wikipedia.org/wiki/Self-organizing_map\n",
    "\n"
   ]
  },
  {
   "cell_type": "code",
   "execution_count": 30,
   "id": "212375aa",
   "metadata": {},
   "outputs": [],
   "source": [
    "n_row = 32\n",
    "n_col = 32\n",
    "n_features = 3\n",
    "\n",
    "x = np.array([[0.25, 0.25, 0.25]])"
   ]
  },
  {
   "cell_type": "code",
   "execution_count": 31,
   "id": "06f6b13e",
   "metadata": {},
   "outputs": [
    {
     "data": {
      "text/plain": [
       "(1024, 3)"
      ]
     },
     "execution_count": 31,
     "metadata": {},
     "output_type": "execute_result"
    }
   ],
   "source": [
    "node_vectors_mat.shape"
   ]
  },
  {
   "cell_type": "code",
   "execution_count": 32,
   "id": "1f62823e",
   "metadata": {},
   "outputs": [],
   "source": [
    "def fit(X, node_vectors_mat, n_epochs, n_neighbors, n_row=32, n_col=32, n_print = 100):\n",
    "    \n",
    "    n_samples, n_features = X.shape\n",
    "    \n",
    "    lr = 0.01\n",
    "    total_dist = 0\n",
    "    distance_evol = []\n",
    "    \n",
    "    for epoch in range(n_epochs):\n",
    "        perm = np.random.permutation(n_samples)\n",
    "        for i in perm:\n",
    "            x = X[[i],:]\n",
    "            distances = euclidean(x, node_vectors_mat)\n",
    "            best_match_index = np.argmin(distances)\n",
    "            best_prototype = node_vectors_mat[best_match_index]\n",
    "            #best_prototype = node_vectors_mat[[best_match_index]]\n",
    "            best_match_2d_pos = onedim_index_to_twodim(best_match_index, n_row, n_col)\n",
    "\n",
    "            selected_points, weights = find_neighbours_fast(best_match_2d_pos, \n",
    "                                                            n_neighbours=n_neighbors,\n",
    "                                                            n_row=n_row,\n",
    "                                                            n_col=n_col)\n",
    "            weights = weights.reshape(-1,1)\n",
    "            total_dist += distances[0,best_match_index]\n",
    "            \n",
    "            # Update single wining neuron\n",
    "            #node_vectors_mat[best_match_index,:] += lr * (x.flatten() - best_prototype)\n",
    "            \n",
    "            # Update whole neighborhood\n",
    "            selected_points_1d = [twodim_index_to_onedim(p[0],p[1],n_col) for p in selected_points]\n",
    "            node_vectors_mat[selected_points_1d,:] += weights * lr * (x-best_prototype)\n",
    "            \n",
    "            # Update whole neighborhood with \n",
    "            #selected_points_1d = [twodim_index_to_onedim(p[0],p[1],n_col) for p in selected_points]\n",
    "            #update = weights * lr * (x-node_vectors_mat[selected_points_1d,:] )\n",
    "            #node_vectors_mat[selected_points_1d,:] += update\n",
    "            \n",
    "        distance_evol.append(total_dist)\n",
    "        \n",
    "        if epoch % n_print == 0:\n",
    "            print(f'\\repoch={epoch}, distance={total_dist}', end=\" \")\n",
    "            total_dist = 0\n",
    "        \n",
    "    return distance_evol"
   ]
  },
  {
   "cell_type": "markdown",
   "id": "b5d496f9",
   "metadata": {},
   "source": [
    "We can start a learning process with neurons located in a square of heigh and width of 0.5 and see what happens as learning progresses."
   ]
  },
  {
   "cell_type": "code",
   "execution_count": 33,
   "id": "12e9bf38",
   "metadata": {},
   "outputs": [],
   "source": [
    "n_row = 15\n",
    "n_col = 15\n",
    "np.random.seed(1234)\n",
    "node_vectors_mat = np.random.random((n_row*n_col, n_features))*0.5\n",
    "\n",
    "X = np.vstack( [np.random.random((1000,3))*2+2,np.random.random((1000,3))])"
   ]
  },
  {
   "cell_type": "code",
   "execution_count": 34,
   "id": "61fbf5d7",
   "metadata": {},
   "outputs": [
    {
     "data": {
      "text/plain": [
       "<matplotlib.collections.PathCollection at 0x7fbd5f88ab50>"
      ]
     },
     "execution_count": 34,
     "metadata": {},
     "output_type": "execute_result"
    },
    {
     "data": {
      "image/png": "[encoded data removed]",
      "text/plain": [
       "<Figure size 432x288 with 1 Axes>"
      ]
     },
     "metadata": {
      "needs_background": "light"
     },
     "output_type": "display_data"
    }
   ],
   "source": [
    "plt.scatter(X[:,0],X[:,1])\n",
    "plt.scatter(node_vectors_mat[:,0],node_vectors_mat[:,1], color = 'red')"
   ]
  },
  {
   "cell_type": "code",
   "execution_count": 35,
   "id": "70feff93",
   "metadata": {},
   "outputs": [
    {
     "name": "stdout",
     "output_type": "stream",
     "text": [
      "epoch=99, distance=480.6737952253339  "
     ]
    }
   ],
   "source": [
    "distance_evol = fit(X,\n",
    "                    node_vectors_mat,\n",
    "                    n_epochs=100, \n",
    "                    n_neighbors=4,\n",
    "                    n_row=n_row, \n",
    "                    n_col=n_col,\n",
    "                    n_print=1)"
   ]
  },
  {
   "cell_type": "markdown",
   "id": "fe2af899",
   "metadata": {},
   "source": [
    "We can see in the following plot that as during learning prototypes tend to occupy the upper box of the feature space that was not represented at the start of the learning procedure."
   ]
  },
  {
   "cell_type": "code",
   "execution_count": 36,
   "id": "a527bd6a",
   "metadata": {},
   "outputs": [
    {
     "data": {
      "text/plain": [
       "<matplotlib.collections.PathCollection at 0x7fbd5f9f1ac0>"
      ]
     },
     "execution_count": 36,
     "metadata": {},
     "output_type": "execute_result"
    },
    {
     "data": {
      "image/png": "[encoded data removed]",
      "text/plain": [
       "<Figure size 432x288 with 1 Axes>"
      ]
     },
     "metadata": {
      "needs_background": "light"
     },
     "output_type": "display_data"
    }
   ],
   "source": [
    "plt.scatter(X[:,0],X[:,1])\n",
    "plt.scatter(node_vectors_mat[:,0],node_vectors_mat[:,1], color = 'red')"
   ]
  },
  {
   "cell_type": "code",
   "execution_count": 37,
   "id": "b32edfee",
   "metadata": {},
   "outputs": [
    {
     "data": {
      "text/plain": [
       "[<matplotlib.lines.Line2D at 0x7fbd5fae2340>]"
      ]
     },
     "execution_count": 37,
     "metadata": {},
     "output_type": "execute_result"
    },
    {
     "data": {
      "image/png": "[encoded data removed]",
      "text/plain": [
       "<Figure size 432x288 with 1 Axes>"
      ]
     },
     "metadata": {
      "needs_background": "light"
     },
     "output_type": "display_data"
    }
   ],
   "source": [
    "plt.plot(distance_evol)"
   ]
  },
  {
   "cell_type": "code",
   "execution_count": null,
   "id": "0c02dd35",
   "metadata": {},
   "outputs": [
    {
     "name": "stdout",
     "output_type": "stream",
     "text": [
      "epoch=1014, distance=378.4009423739838  "
     ]
    }
   ],
   "source": [
    "distance_evol2 = fit(X,\n",
    "                    node_vectors_mat,\n",
    "                    n_epochs=2000, \n",
    "                    n_neighbors=2,\n",
    "                    n_row=n_row, \n",
    "                    n_col=n_col,\n",
    "                    n_print=1)"
   ]
  },
  {
   "cell_type": "code",
   "execution_count": null,
   "id": "f6ca247a",
   "metadata": {},
   "outputs": [],
   "source": [
    "plt.scatter(X[:,0],X[:,1])\n",
    "plt.scatter(node_vectors_mat[:,0],node_vectors_mat[:,1], color = 'red')"
   ]
  },
  {
   "cell_type": "code",
   "execution_count": null,
   "id": "5bcee9b1",
   "metadata": {},
   "outputs": [],
   "source": [
    "plt.plot(distance_evol2)"
   ]
  }
 ],
 "metadata": {
  "kernelspec": {
   "display_name": "Python 3 (ipykernel)",
   "language": "python",
   "name": "python3"
  },
  "language_info": {
   "codemirror_mode": {
    "name": "ipython",
    "version": 3
   },
   "file_extension": ".py",
   "mimetype": "text/x-python",
   "name": "python",
   "nbconvert_exporter": "python",
   "pygments_lexer": "ipython3",
   "version": "3.8.8"
  }
 },
 "nbformat": 4,
 "nbformat_minor": 5
}

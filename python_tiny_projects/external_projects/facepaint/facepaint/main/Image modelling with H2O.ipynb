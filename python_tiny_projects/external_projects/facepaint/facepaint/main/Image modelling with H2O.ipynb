{
 "cells": [
  {
   "cell_type": "code",
   "execution_count": 3,
   "metadata": {},
   "outputs": [
    {
     "name": "stdout",
     "output_type": "stream",
     "text": [
      "Checking whether there is an H2O instance running at http://localhost:54321..... not found.\n",
      "Attempting to start a local H2O server...\n",
      "; Picked up _JAVA_OPTIONS: -Djava.net.preferIPv4Stack=trueed mode)\n",
      "  Starting server from C:\\ProgramData\\Miniconda3\\lib\\site-packages\\h2o\\backend\\bin\\h2o.jar\n",
      "  Ice root: C:\\Users\\edwarddi\\AppData\\Local\\Temp\\tmp1of40oys\n",
      "  JVM stdout: C:\\Users\\edwarddi\\AppData\\Local\\Temp\\tmp1of40oys\\h2o_edwarddi_started_from_python.out\n",
      "  JVM stderr: C:\\Users\\edwarddi\\AppData\\Local\\Temp\\tmp1of40oys\\h2o_edwarddi_started_from_python.err\n",
      "  Server is running at http://127.0.0.1:54321\n",
      "Connecting to H2O server at http://127.0.0.1:54321... successful.\n"
     ]
    },
    {
     "data": {
      "text/html": [
       "<div style=\"overflow:auto\"><table style=\"width:50%\"><tr><td>H2O cluster uptime:</td>\n",
       "<td>06 secs</td></tr>\n",
       "<tr><td>H2O cluster timezone:</td>\n",
       "<td>Europe/London</td></tr>\n",
       "<tr><td>H2O data parsing timezone:</td>\n",
       "<td>UTC</td></tr>\n",
       "<tr><td>H2O cluster version:</td>\n",
       "<td>3.20.0.10</td></tr>\n",
       "<tr><td>H2O cluster version age:</td>\n",
       "<td>5 days </td></tr>\n",
       "<tr><td>H2O cluster name:</td>\n",
       "<td>H2O_from_python_edwarddi_eerjqv</td></tr>\n",
       "<tr><td>H2O cluster total nodes:</td>\n",
       "<td>1</td></tr>\n",
       "<tr><td>H2O cluster free memory:</td>\n",
       "<td>3.531 Gb</td></tr>\n",
       "<tr><td>H2O cluster total cores:</td>\n",
       "<td>4</td></tr>\n",
       "<tr><td>H2O cluster allowed cores:</td>\n",
       "<td>4</td></tr>\n",
       "<tr><td>H2O cluster status:</td>\n",
       "<td>accepting new members, healthy</td></tr>\n",
       "<tr><td>H2O connection url:</td>\n",
       "<td>http://127.0.0.1:54321</td></tr>\n",
       "<tr><td>H2O connection proxy:</td>\n",
       "<td>None</td></tr>\n",
       "<tr><td>H2O internal security:</td>\n",
       "<td>False</td></tr>\n",
       "<tr><td>H2O API Extensions:</td>\n",
       "<td>Algos, AutoML, Core V3, Core V4</td></tr>\n",
       "<tr><td>Python version:</td>\n",
       "<td>3.7.0 final</td></tr></table></div>"
      ],
      "text/plain": [
       "--------------------------  -------------------------------\n",
       "H2O cluster uptime:         06 secs\n",
       "H2O cluster timezone:       Europe/London\n",
       "H2O data parsing timezone:  UTC\n",
       "H2O cluster version:        3.20.0.10\n",
       "H2O cluster version age:    5 days\n",
       "H2O cluster name:           H2O_from_python_edwarddi_eerjqv\n",
       "H2O cluster total nodes:    1\n",
       "H2O cluster free memory:    3.531 Gb\n",
       "H2O cluster total cores:    4\n",
       "H2O cluster allowed cores:  4\n",
       "H2O cluster status:         accepting new members, healthy\n",
       "H2O connection url:         http://127.0.0.1:54321\n",
       "H2O connection proxy:\n",
       "H2O internal security:      False\n",
       "H2O API Extensions:         Algos, AutoML, Core V3, Core V4\n",
       "Python version:             3.7.0 final\n",
       "--------------------------  -------------------------------"
      ]
     },
     "metadata": {},
     "output_type": "display_data"
    },
    {
     "name": "stdout",
     "output_type": "stream",
     "text": [
      "Parse progress: |█████████████████████████████████████████████████████████| 100%\n"
     ]
    }
   ],
   "source": [
    "import h2o\n",
    "h2o.init()\n",
    "data = h2o.import_file(\"towerbridge.csv\")"
   ]
  },
  {
   "cell_type": "markdown",
   "metadata": {},
   "source": [
    "### Our Data\n",
    "To use it with H2O modelling, we've converted our raster image (a grid of colour values) to a list of tuples, mapping the pixel coordinates to the colour values."
   ]
  },
  {
   "cell_type": "code",
   "execution_count": 4,
   "metadata": {},
   "outputs": [
    {
     "data": {
      "text/html": [
       "<table>\n",
       "<thead>\n",
       "<tr><th style=\"text-align: right;\">  C1</th><th style=\"text-align: right;\">  b</th><th style=\"text-align: right;\">  g</th><th style=\"text-align: right;\">  r</th><th style=\"text-align: right;\">         x</th><th style=\"text-align: right;\">         y</th></tr>\n",
       "</thead>\n",
       "<tbody>\n",
       "<tr><td style=\"text-align: right;\">   0</td><td style=\"text-align: right;\"> 96</td><td style=\"text-align: right;\"> 28</td><td style=\"text-align: right;\">  0</td><td style=\"text-align: right;\">-0.0233463</td><td style=\"text-align: right;\">-0.0233463</td></tr>\n",
       "<tr><td style=\"text-align: right;\">   1</td><td style=\"text-align: right;\"> 94</td><td style=\"text-align: right;\"> 28</td><td style=\"text-align: right;\">  0</td><td style=\"text-align: right;\">-0.0231632</td><td style=\"text-align: right;\">-0.0233463</td></tr>\n",
       "<tr><td style=\"text-align: right;\">   2</td><td style=\"text-align: right;\"> 94</td><td style=\"text-align: right;\"> 28</td><td style=\"text-align: right;\">  0</td><td style=\"text-align: right;\">-0.0229801</td><td style=\"text-align: right;\">-0.0233463</td></tr>\n",
       "<tr><td style=\"text-align: right;\">   3</td><td style=\"text-align: right;\"> 93</td><td style=\"text-align: right;\"> 29</td><td style=\"text-align: right;\">  0</td><td style=\"text-align: right;\">-0.022797 </td><td style=\"text-align: right;\">-0.0233463</td></tr>\n",
       "<tr><td style=\"text-align: right;\">   4</td><td style=\"text-align: right;\"> 94</td><td style=\"text-align: right;\"> 30</td><td style=\"text-align: right;\">  0</td><td style=\"text-align: right;\">-0.0226139</td><td style=\"text-align: right;\">-0.0233463</td></tr>\n",
       "<tr><td style=\"text-align: right;\">   5</td><td style=\"text-align: right;\"> 95</td><td style=\"text-align: right;\"> 29</td><td style=\"text-align: right;\">  0</td><td style=\"text-align: right;\">-0.0224308</td><td style=\"text-align: right;\">-0.0233463</td></tr>\n",
       "<tr><td style=\"text-align: right;\">   6</td><td style=\"text-align: right;\"> 96</td><td style=\"text-align: right;\"> 29</td><td style=\"text-align: right;\">  0</td><td style=\"text-align: right;\">-0.0222477</td><td style=\"text-align: right;\">-0.0233463</td></tr>\n",
       "<tr><td style=\"text-align: right;\">   7</td><td style=\"text-align: right;\"> 97</td><td style=\"text-align: right;\"> 29</td><td style=\"text-align: right;\">  0</td><td style=\"text-align: right;\">-0.0220645</td><td style=\"text-align: right;\">-0.0233463</td></tr>\n",
       "<tr><td style=\"text-align: right;\">   8</td><td style=\"text-align: right;\"> 99</td><td style=\"text-align: right;\"> 28</td><td style=\"text-align: right;\">  0</td><td style=\"text-align: right;\">-0.0218814</td><td style=\"text-align: right;\">-0.0233463</td></tr>\n",
       "<tr><td style=\"text-align: right;\">   9</td><td style=\"text-align: right;\">101</td><td style=\"text-align: right;\"> 28</td><td style=\"text-align: right;\">  0</td><td style=\"text-align: right;\">-0.0216983</td><td style=\"text-align: right;\">-0.0233463</td></tr>\n",
       "</tbody>\n",
       "</table>"
      ]
     },
     "metadata": {},
     "output_type": "display_data"
    },
    {
     "data": {
      "text/plain": []
     },
     "execution_count": 4,
     "metadata": {},
     "output_type": "execute_result"
    }
   ],
   "source": [
    "data"
   ]
  },
  {
   "cell_type": "code",
   "execution_count": 70,
   "metadata": {},
   "outputs": [
    {
     "name": "stdout",
     "output_type": "stream",
     "text": [
      "deeplearning Model Build progress: |██████████████████████████████████████| 100%\n",
      "Model Details\n",
      "=============\n",
      "H2ODeepLearningEstimator :  Deep Learning\n",
      "Model Key:  DL_defaults\n",
      "\n",
      "\n",
      "ModelMetricsRegression: deeplearning\n",
      "** Reported on train data. **\n",
      "\n",
      "MSE: 818.3317409616558\n",
      "RMSE: 28.606498229627054\n",
      "MAE: 16.85053289810434\n",
      "RMSLE: 0.45929856503195216\n",
      "Mean Residual Deviance: 818.3317409616558\n",
      "Scoring History: \n"
     ]
    },
    {
     "data": {
      "text/html": [
       "<div style=\"overflow:auto\"><table style=\"width:50%\"><tr><td><b></b></td>\n",
       "<td><b>timestamp</b></td>\n",
       "<td><b>duration</b></td>\n",
       "<td><b>training_speed</b></td>\n",
       "<td><b>epochs</b></td>\n",
       "<td><b>iterations</b></td>\n",
       "<td><b>samples</b></td>\n",
       "<td><b>training_rmse</b></td>\n",
       "<td><b>training_deviance</b></td>\n",
       "<td><b>training_mae</b></td>\n",
       "<td><b>training_r2</b></td></tr>\n",
       "<tr><td></td>\n",
       "<td>2018-10-23 14:07:20</td>\n",
       "<td> 0.000 sec</td>\n",
       "<td>None</td>\n",
       "<td>0.0</td>\n",
       "<td>0</td>\n",
       "<td>0.0</td>\n",
       "<td>nan</td>\n",
       "<td>nan</td>\n",
       "<td>nan</td>\n",
       "<td>nan</td></tr>\n",
       "<tr><td></td>\n",
       "<td>2018-10-23 14:07:24</td>\n",
       "<td> 4.055 sec</td>\n",
       "<td>25656 obs/sec</td>\n",
       "<td>2.0400821</td>\n",
       "<td>1</td>\n",
       "<td>100370.0</td>\n",
       "<td>49.9216761</td>\n",
       "<td>2492.1737447</td>\n",
       "<td>33.9943668</td>\n",
       "<td>0.2032764</td></tr>\n",
       "<tr><td></td>\n",
       "<td>2018-10-23 14:07:33</td>\n",
       "<td>12.633 sec</td>\n",
       "<td>24348 obs/sec</td>\n",
       "<td>6.1049818</td>\n",
       "<td>3</td>\n",
       "<td>300359.0</td>\n",
       "<td>48.7674719</td>\n",
       "<td>2378.2663124</td>\n",
       "<td>34.4528501</td>\n",
       "<td>0.2396915</td></tr>\n",
       "<tr><td></td>\n",
       "<td>2018-10-23 14:07:41</td>\n",
       "<td>21.055 sec</td>\n",
       "<td>24239 obs/sec</td>\n",
       "<td>10.1750239</td>\n",
       "<td>5</td>\n",
       "<td>500601.0</td>\n",
       "<td>53.7137558</td>\n",
       "<td>2885.1675592</td>\n",
       "<td>33.9820562</td>\n",
       "<td>0.0776401</td></tr>\n",
       "<tr><td></td>\n",
       "<td>2018-10-23 14:07:49</td>\n",
       "<td>29.279 sec</td>\n",
       "<td>24372 obs/sec</td>\n",
       "<td>14.2462042</td>\n",
       "<td>7</td>\n",
       "<td>700899.0</td>\n",
       "<td>41.1229139</td>\n",
       "<td>1691.0940451</td>\n",
       "<td>25.7103928</td>\n",
       "<td>0.4593737</td></tr>\n",
       "<tr><td>---</td>\n",
       "<td>---</td>\n",
       "<td>---</td>\n",
       "<td>---</td>\n",
       "<td>---</td>\n",
       "<td>---</td>\n",
       "<td>---</td>\n",
       "<td>---</td>\n",
       "<td>---</td>\n",
       "<td>---</td>\n",
       "<td>---</td></tr>\n",
       "<tr><td></td>\n",
       "<td>2018-10-23 14:10:42</td>\n",
       "<td> 3 min 21.381 sec</td>\n",
       "<td>22560 obs/sec</td>\n",
       "<td>89.4626517</td>\n",
       "<td>44</td>\n",
       "<td>4401473.0</td>\n",
       "<td>29.5796900</td>\n",
       "<td>874.9580592</td>\n",
       "<td>17.8693990</td>\n",
       "<td>0.7202844</td></tr>\n",
       "<tr><td></td>\n",
       "<td>2018-10-23 14:10:51</td>\n",
       "<td> 3 min 30.742 sec</td>\n",
       "<td>22536 obs/sec</td>\n",
       "<td>93.5312100</td>\n",
       "<td>46</td>\n",
       "<td>4601642.0</td>\n",
       "<td>30.0171724</td>\n",
       "<td>901.0306370</td>\n",
       "<td>17.9926054</td>\n",
       "<td>0.7119493</td></tr>\n",
       "<tr><td></td>\n",
       "<td>2018-10-23 14:11:00</td>\n",
       "<td> 3 min 40.157 sec</td>\n",
       "<td>22495 obs/sec</td>\n",
       "<td>97.6032846</td>\n",
       "<td>48</td>\n",
       "<td>4801984.0</td>\n",
       "<td>30.7153207</td>\n",
       "<td>943.4309268</td>\n",
       "<td>18.2815089</td>\n",
       "<td>0.6983943</td></tr>\n",
       "<tr><td></td>\n",
       "<td>2018-10-23 14:11:10</td>\n",
       "<td> 3 min 49.618 sec</td>\n",
       "<td>22450 obs/sec</td>\n",
       "<td>101.6675136</td>\n",
       "<td>50</td>\n",
       "<td>5001940.0</td>\n",
       "<td>29.3901406</td>\n",
       "<td>863.7803663</td>\n",
       "<td>18.3810432</td>\n",
       "<td>0.7238578</td></tr>\n",
       "<tr><td></td>\n",
       "<td>2018-10-23 14:11:10</td>\n",
       "<td> 3 min 49.739 sec</td>\n",
       "<td>22449 obs/sec</td>\n",
       "<td>101.6675136</td>\n",
       "<td>50</td>\n",
       "<td>5001940.0</td>\n",
       "<td>28.6064982</td>\n",
       "<td>818.3317410</td>\n",
       "<td>16.8505329</td>\n",
       "<td>0.7383873</td></tr></table></div>"
      ],
      "text/plain": [
       "     timestamp            duration          training_speed    epochs              iterations    samples    training_rmse       training_deviance    training_mae        training_r2\n",
       "---  -------------------  ----------------  ----------------  ------------------  ------------  ---------  ------------------  -------------------  ------------------  -------------------\n",
       "     2018-10-23 14:07:20  0.000 sec                           0.0                 0             0.0        nan                 nan                  nan                 nan\n",
       "     2018-10-23 14:07:24  4.055 sec         25656 obs/sec     2.040082115490152   1             100370.0   49.92167610089167   2492.173744722339    33.994366835999635  0.20327636355499112\n",
       "     2018-10-23 14:07:33  12.633 sec        24348 obs/sec     6.104981808573345   3             300359.0   48.76747186776086   2378.266312372847    34.452850059801655  0.23969145857466523\n",
       "     2018-10-23 14:07:41  21.055 sec        24239 obs/sec     10.17502388259924   5             500601.0   53.713755772536565  2885.1675591917055   33.98205622578848   0.0776400745011101\n",
       "     2018-10-23 14:07:49  29.279 sec        24372 obs/sec     14.246204191142096  7             700899.0   41.12291386892978   1691.094045071417    25.71039278423104   0.4593737294548419\n",
       "---  ---                  ---               ---               ---                 ---           ---        ---                 ---                  ---                 ---\n",
       "     2018-10-23 14:10:42  3 min 21.381 sec  22560 obs/sec     89.4626516799122    44            4401473.0  29.579689978196136  874.9580592061968    17.869399003880257  0.7202844431918631\n",
       "     2018-10-23 14:10:51  3 min 30.742 sec  22536 obs/sec     93.53120998394276   46            4601642.0  30.017172368979868  901.0306370290484    17.992605373612363  0.7119492943851204\n",
       "     2018-10-23 14:11:00  3 min 40.157 sec  22495 obs/sec     97.60328461960609   48            4801984.0  30.715320718461037  943.4309268379219    18.28150894695623   0.6983943353240252\n",
       "     2018-10-23 14:11:10  3 min 49.618 sec  22450 obs/sec     101.66751356734893  50            5001940.0  29.39014063014907   863.7803662599392    18.38104319143179   0.7238578425947207\n",
       "     2018-10-23 14:11:10  3 min 49.739 sec  22449 obs/sec     101.66751356734893  50            5001940.0  28.606498229627054  818.3317409616558    16.85053289810434   0.738387324776995"
      ]
     },
     "metadata": {},
     "output_type": "display_data"
    },
    {
     "name": "stdout",
     "output_type": "stream",
     "text": [
      "\n",
      "See the whole table with table.as_data_frame()\n",
      "Variable Importances: \n"
     ]
    },
    {
     "data": {
      "text/html": [
       "<div style=\"overflow:auto\"><table style=\"width:50%\"><tr><td><b>variable</b></td>\n",
       "<td><b>relative_importance</b></td>\n",
       "<td><b>scaled_importance</b></td>\n",
       "<td><b>percentage</b></td></tr>\n",
       "<tr><td>y</td>\n",
       "<td>1.0</td>\n",
       "<td>1.0</td>\n",
       "<td>0.5408878</td></tr>\n",
       "<tr><td>x</td>\n",
       "<td>0.8488121</td>\n",
       "<td>0.8488121</td>\n",
       "<td>0.4591122</td></tr></table></div>"
      ],
      "text/plain": [
       "variable    relative_importance    scaled_importance    percentage\n",
       "----------  ---------------------  -------------------  ------------\n",
       "y           1                      1                    0.540888\n",
       "x           0.848812               0.848812             0.459112"
      ]
     },
     "metadata": {},
     "output_type": "display_data"
    },
    {
     "data": {
      "text/plain": []
     },
     "execution_count": 70,
     "metadata": {},
     "output_type": "execute_result"
    }
   ],
   "source": [
    "y = \"b\"\n",
    "x = [\"x\",\"y\"]\n",
    "\n",
    "train, valid, test = data.split_frame([0.75, 0.15])\n",
    "\n",
    "from h2o.estimators import H2ODeepLearningEstimator\n",
    "m = H2ODeepLearningEstimator(model_id=\"DL_defaults\", hidden=[20,20,20,20,20,20,20,20,20,20], activation='tanh',epochs=10000)\n",
    "m.train(x,y,train)\n",
    "m"
   ]
  },
  {
   "cell_type": "markdown",
   "metadata": {},
   "source": [
    "## Rendering our results\n",
    "To see our model's output, we need to feed it the coordinates of the pixels we want rendered"
   ]
  },
  {
   "cell_type": "code",
   "execution_count": 86,
   "metadata": {},
   "outputs": [
    {
     "name": "stdout",
     "output_type": "stream",
     "text": [
      "Parse progress: |█████████████████████████████████████████████████████████| 100%\n",
      "deeplearning prediction progress: |███████████████████████████████████████| 100%\n"
     ]
    },
    {
     "name": "stderr",
     "output_type": "stream",
     "text": [
      "C:\\ProgramData\\Miniconda3\\lib\\site-packages\\ipykernel_launcher.py:68: FutureWarning: Method .as_matrix will be removed in a future version. Use .values instead.\n"
     ]
    }
   ],
   "source": [
    "import numpy as np\n",
    "import pandas as pd\n",
    "from h2o.frame import H2OFrame\n",
    "from PIL import Image\n",
    "\n",
    "IM_SIZE = 256\n",
    "IM_CHANNELS = 1\n",
    "\n",
    "def save_pixels(path_to_image_file, image_array, mode):\n",
    "    im_out = Image.fromarray(image_array, mode )\n",
    "    im_out.save(path_to_image_file)\n",
    "\n",
    "\n",
    "# Takes care of clipping, casting to int8, etc.\n",
    "def save_ndarray(path_to_outfile, x, width = IM_SIZE, height = IM_SIZE, channels = IM_CHANNELS):\n",
    "\n",
    "    out_arr = np.clip(x, 0, 255)\n",
    "    \n",
    "    if channels == 3:\n",
    "        out_arr = np.reshape(out_arr, (width, height, channels), 1)\n",
    "    else:\n",
    "        assert(channels == 1)\n",
    "        out_arr = np.reshape(out_arr, (width, height), 1)\n",
    "        \n",
    "    out_arr = np.rot90(out_arr, k=3)\n",
    "    out_arr = np.fliplr(out_arr)\n",
    "    \n",
    "    if channels == 3:\n",
    "        save_pixels(path_to_outfile, out_arr.astype(np.int8), 'RGB')\n",
    "    else:\n",
    "        save_pixels(path_to_outfile, out_arr.astype(np.int8), 'L')\n",
    "\n",
    "\n",
    "# Create suitable training matrix\n",
    "def gen_input_tuples(pixels_width, pixels_height, scale, translate_x, translate_y):\n",
    "\n",
    "    image_height = pixels_height\n",
    "    image_width = pixels_width\n",
    "\n",
    "    # One row per pixel\n",
    "    X = np.zeros((image_width * image_height, 2))\n",
    "\n",
    "    # Fill in y values\n",
    "    X[:,1] = np.repeat(range(0, image_height), image_width, 0)\n",
    "\n",
    "    # Fill in x values\n",
    "    X[:,0] = np.tile(range(0, image_width), image_height)\n",
    "\n",
    "    # Normalize X\n",
    "    X = X - X.mean()\n",
    "    X = X / X.var()\n",
    "\n",
    "    X[:,0] += translate_x\n",
    "    X[:,1] += translate_y\n",
    "    \n",
    "    X = X / scale\n",
    "\n",
    "    return (X)\n",
    "    \n",
    "def render(mdl, image_size, scale, tx, ty, outfile):\n",
    "    pixel_coords = gen_input_tuples(image_size, image_size, scale, tx, ty)\n",
    "    df_pixels_to_render = pd.DataFrame({'x':pixel_coords[:,0], 'y':pixel_coords[:,1]})\n",
    "    h2o_pixels = H2OFrame(df_pixels_to_render)\n",
    "    pixel_intensities = m.predict(h2o_pixels)\n",
    "    save_ndarray(outfile, pixel_intensities.as_data_frame().as_matrix(), image_size, image_size, 1)\n",
    "    \n",
    "render(m, IM_SIZE, 1, 0, 0, \"modelled_tower_bridge.png\")"
   ]
  },
  {
   "cell_type": "markdown",
   "metadata": {},
   "source": [
    "![modelled_tower_bridge.png](modelled_tower_bridge.png)"
   ]
  },
  {
   "cell_type": "code",
   "execution_count": 89,
   "metadata": {},
   "outputs": [
    {
     "name": "stdout",
     "output_type": "stream",
     "text": [
      "Parse progress: |█████████████████████████████████████████████████████████| 100%\n",
      "deeplearning prediction progress: |███████████████████████████████████████| 100%\n"
     ]
    },
    {
     "name": "stderr",
     "output_type": "stream",
     "text": [
      "C:\\ProgramData\\Miniconda3\\lib\\site-packages\\ipykernel_launcher.py:68: FutureWarning: Method .as_matrix will be removed in a future version. Use .values instead.\n"
     ]
    }
   ],
   "source": [
    "render(m, 1024, 1/8, 0, 0, \"modelled_tower_bridge_x2.png\")"
   ]
  },
  {
   "cell_type": "code",
   "execution_count": null,
   "metadata": {},
   "outputs": [],
   "source": []
  }
 ],
 "metadata": {
  "kernelspec": {
   "display_name": "Python 3",
   "language": "python",
   "name": "python3"
  },
  "language_info": {
   "codemirror_mode": {
    "name": "ipython",
    "version": 3
   },
   "file_extension": ".py",
   "mimetype": "text/x-python",
   "name": "python",
   "nbconvert_exporter": "python",
   "pygments_lexer": "ipython3",
   "version": "3.7.0"
  }
 },
 "nbformat": 4,
 "nbformat_minor": 2
}

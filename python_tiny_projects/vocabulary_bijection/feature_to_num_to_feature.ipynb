{
 "cells": [
  {
   "cell_type": "markdown",
   "id": "3f83c209",
   "metadata": {},
   "source": [
    "## Problem statement\n",
    "\n",
    "Given a set of symbols, we want to encode a list of symbols (a word) in to unique integer. Moreover we want to be able to decode the list of symbols from the integer to the corresponding word used to generate the integer.\n",
    "\n",
    "For example given ['cat','dog']. We want to assign an integer to both, such as \n",
    "\n",
    "```\n",
    "'cat' -> 11\n",
    "'dog' -> 22\n",
    "```\n",
    "\n",
    "And given 11 we want to fetch 'cat', and given 22 we want to fetch 'dog'. But we don't want to store a dictionary of all possible words and integers\n"
   ]
  },
  {
   "cell_type": "code",
   "execution_count": 47,
   "id": "7a63f115",
   "metadata": {},
   "outputs": [],
   "source": [
    "import math\n",
    "from math import log as log"
   ]
  },
  {
   "cell_type": "code",
   "execution_count": 48,
   "id": "647e94f3",
   "metadata": {},
   "outputs": [],
   "source": [
    "symbol_to_num = {0:0, 'a':1, 'b':2, 'c':3, 'd': 4}\n",
    "\n",
    "data = ['a','b','c','d', 'aa','ab','ac','ad','ba','bb',\n",
    "        'bc','bd','ca','cb','cc','cd','da','db','dc','dd','aaa', 'abc', 'ddd']"
   ]
  },
  {
   "cell_type": "code",
   "execution_count": 49,
   "id": "573c2497",
   "metadata": {},
   "outputs": [
    {
     "data": {
      "text/plain": [
       "True"
      ]
     },
     "execution_count": 49,
     "metadata": {},
     "output_type": "execute_result"
    }
   ],
   "source": [
    "40**12 < 2**64-1 + 2**63-1 + 2**62-1  + 2**61-1 + 2**60-1"
   ]
  },
  {
   "cell_type": "code",
   "execution_count": 53,
   "id": "5cd41621",
   "metadata": {},
   "outputs": [],
   "source": [
    "def map_str_to_num(word, symbol_to_num):\n",
    "    res = 0\n",
    "    for i,c in enumerate(word[::-1]):\n",
    "        res += (symbol_to_num[c]) * len(symbol_to_num)**i\n",
    "    return res"
   ]
  },
  {
   "cell_type": "code",
   "execution_count": 51,
   "id": "8b4ddf91",
   "metadata": {},
   "outputs": [
    {
     "data": {
      "text/plain": [
       "5"
      ]
     },
     "execution_count": 51,
     "metadata": {},
     "output_type": "execute_result"
    }
   ],
   "source": [
    "math.ceil(math.log(125,3))"
   ]
  },
  {
   "cell_type": "code",
   "execution_count": 52,
   "id": "b586b32e",
   "metadata": {},
   "outputs": [
    {
     "data": {
      "text/plain": [
       "<function __main__.map_str_to_num(word, symbol_to_num)>"
      ]
     },
     "execution_count": 52,
     "metadata": {},
     "output_type": "execute_result"
    }
   ],
   "source": [
    "map_str_to_num"
   ]
  },
  {
   "cell_type": "code",
   "execution_count": 29,
   "id": "6dd0dfe5",
   "metadata": {},
   "outputs": [
    {
     "name": "stdout",
     "output_type": "stream",
     "text": [
      "a 1\n",
      "b 2\n",
      "c 3\n",
      "d 4\n",
      "aa 6\n",
      "ab 7\n",
      "ac 8\n",
      "ad 9\n",
      "ba 11\n",
      "bb 12\n",
      "bc 13\n",
      "bd 14\n",
      "ca 16\n",
      "cb 17\n",
      "cc 18\n",
      "cd 19\n",
      "da 21\n",
      "db 22\n",
      "dc 23\n",
      "dd 24\n",
      "aaa 31\n",
      "abc 38\n",
      "ddd 124\n"
     ]
    }
   ],
   "source": [
    "for d in data:\n",
    "    print(d,map_str_to_num(d, symbol_to_num))"
   ]
  },
  {
   "cell_type": "markdown",
   "id": "b4b06d82",
   "metadata": {},
   "source": [
    "Now we want to map numbers to strings"
   ]
  },
  {
   "cell_type": "code",
   "execution_count": 30,
   "id": "7388e23a",
   "metadata": {},
   "outputs": [],
   "source": [
    "def num_to_symbol(n, symbol_to_num):\n",
    "    for k,v in symbol_to_num.items():\n",
    "        if v==n:\n",
    "            return k"
   ]
  },
  {
   "cell_type": "code",
   "execution_count": 31,
   "id": "019b73cd",
   "metadata": {},
   "outputs": [
    {
     "name": "stdout",
     "output_type": "stream",
     "text": [
      "feat = 1 ---> a\n",
      "feat = 2 ---> b\n",
      "feat = 3 ---> c\n",
      "feat = 4 ---> d\n"
     ]
    }
   ],
   "source": [
    "for i in range(1,5):\n",
    "    print( f\"feat = {i} ---> {num_to_symbol(i, symbol_to_num)}\")"
   ]
  },
  {
   "cell_type": "code",
   "execution_count": 32,
   "id": "22c2deb8",
   "metadata": {},
   "outputs": [],
   "source": [
    "def map_num_to_coeff(num, symbol_to_num):\n",
    "    b = len(symbol_to_num)\n",
    "    assert num >=0, \"num goes from 0 to n_features\"\n",
    "    if num == 0:\n",
    "        symbol = num_to_symbol(num, symbol_to_num) \n",
    "        return num_to_symbol(num, symbol_to_num),[num]\n",
    "    digits = []\n",
    "    while num:\n",
    "        digits.append(int(num % b))        \n",
    "        num //= b\n",
    "    digits = [x for x in digits]\n",
    "    return digits[::-1]"
   ]
  },
  {
   "cell_type": "code",
   "execution_count": 33,
   "id": "eaf47bce",
   "metadata": {},
   "outputs": [
    {
     "data": {
      "text/plain": [
       "(0, [0])"
      ]
     },
     "execution_count": 33,
     "metadata": {},
     "output_type": "execute_result"
    }
   ],
   "source": [
    "map_num_to_coeff(0, symbol_to_num)"
   ]
  },
  {
   "cell_type": "code",
   "execution_count": 34,
   "id": "46c3e631",
   "metadata": {},
   "outputs": [
    {
     "name": "stdout",
     "output_type": "stream",
     "text": [
      "a 1 [1]\n",
      "b 2 [2]\n",
      "c 3 [3]\n",
      "d 4 [4]\n",
      "aa 6 [1, 1]\n",
      "ab 7 [1, 2]\n",
      "ac 8 [1, 3]\n",
      "ad 9 [1, 4]\n",
      "ba 11 [2, 1]\n",
      "bb 12 [2, 2]\n",
      "bc 13 [2, 3]\n",
      "bd 14 [2, 4]\n",
      "ca 16 [3, 1]\n",
      "cb 17 [3, 2]\n",
      "cc 18 [3, 3]\n",
      "cd 19 [3, 4]\n",
      "da 21 [4, 1]\n",
      "db 22 [4, 2]\n",
      "dc 23 [4, 3]\n",
      "dd 24 [4, 4]\n",
      "aaa 31 [1, 1, 1]\n",
      "abc 38 [1, 2, 3]\n",
      "ddd 124 [4, 4, 4]\n"
     ]
    }
   ],
   "source": [
    "for d in data:\n",
    "    d_num = map_str_to_num(d, symbol_to_num)\n",
    "    d_coeff = map_num_to_coeff(d_num, symbol_to_num)\n",
    "    \n",
    "    print(d,d_num, d_coeff)"
   ]
  },
  {
   "cell_type": "code",
   "execution_count": 35,
   "id": "29e6223f",
   "metadata": {},
   "outputs": [],
   "source": [
    "def coeffs_to_str(coeffs, symbol_to_num):\n",
    "    return \"\".join([num_to_symbol(x, symbol_to_num) for x in coeffs])"
   ]
  },
  {
   "cell_type": "code",
   "execution_count": 36,
   "id": "f115ab75",
   "metadata": {},
   "outputs": [
    {
     "data": {
      "text/plain": [
       "'ddd'"
      ]
     },
     "execution_count": 36,
     "metadata": {},
     "output_type": "execute_result"
    }
   ],
   "source": [
    "coeffs_to_str([4,4,4],symbol_to_num)"
   ]
  },
  {
   "cell_type": "code",
   "execution_count": 37,
   "id": "6bbc9ea1",
   "metadata": {},
   "outputs": [
    {
     "name": "stdout",
     "output_type": "stream",
     "text": [
      "input word to encode = a, hash value assigned = 1, coeeficients = [1], decoded_string_from_number=a)\n",
      "input word to encode = b, hash value assigned = 2, coeeficients = [2], decoded_string_from_number=b)\n",
      "input word to encode = c, hash value assigned = 3, coeeficients = [3], decoded_string_from_number=c)\n",
      "input word to encode = d, hash value assigned = 4, coeeficients = [4], decoded_string_from_number=d)\n",
      "input word to encode = aa, hash value assigned = 6, coeeficients = [1, 1], decoded_string_from_number=aa)\n",
      "input word to encode = ab, hash value assigned = 7, coeeficients = [1, 2], decoded_string_from_number=ab)\n",
      "input word to encode = ac, hash value assigned = 8, coeeficients = [1, 3], decoded_string_from_number=ac)\n",
      "input word to encode = ad, hash value assigned = 9, coeeficients = [1, 4], decoded_string_from_number=ad)\n",
      "input word to encode = ba, hash value assigned = 11, coeeficients = [2, 1], decoded_string_from_number=ba)\n",
      "input word to encode = bb, hash value assigned = 12, coeeficients = [2, 2], decoded_string_from_number=bb)\n",
      "input word to encode = bc, hash value assigned = 13, coeeficients = [2, 3], decoded_string_from_number=bc)\n",
      "input word to encode = bd, hash value assigned = 14, coeeficients = [2, 4], decoded_string_from_number=bd)\n",
      "input word to encode = ca, hash value assigned = 16, coeeficients = [3, 1], decoded_string_from_number=ca)\n",
      "input word to encode = cb, hash value assigned = 17, coeeficients = [3, 2], decoded_string_from_number=cb)\n",
      "input word to encode = cc, hash value assigned = 18, coeeficients = [3, 3], decoded_string_from_number=cc)\n",
      "input word to encode = cd, hash value assigned = 19, coeeficients = [3, 4], decoded_string_from_number=cd)\n",
      "input word to encode = da, hash value assigned = 21, coeeficients = [4, 1], decoded_string_from_number=da)\n",
      "input word to encode = db, hash value assigned = 22, coeeficients = [4, 2], decoded_string_from_number=db)\n",
      "input word to encode = dc, hash value assigned = 23, coeeficients = [4, 3], decoded_string_from_number=dc)\n",
      "input word to encode = dd, hash value assigned = 24, coeeficients = [4, 4], decoded_string_from_number=dd)\n",
      "input word to encode = aaa, hash value assigned = 31, coeeficients = [1, 1, 1], decoded_string_from_number=aaa)\n",
      "input word to encode = abc, hash value assigned = 38, coeeficients = [1, 2, 3], decoded_string_from_number=abc)\n",
      "input word to encode = ddd, hash value assigned = 124, coeeficients = [4, 4, 4], decoded_string_from_number=ddd)\n"
     ]
    }
   ],
   "source": [
    "for d in data:\n",
    "    d_num = map_str_to_num(d, symbol_to_num)\n",
    "    d_coeff = map_num_to_coeff(d_num, symbol_to_num)\n",
    "    d_str = coeffs_to_str(d_coeff, symbol_to_num)\n",
    "    \n",
    "    print(f'input word to encode = {d}, hash value assigned = {d_num}, coeeficients = {d_coeff}, decoded_string_from_number={d_str})')"
   ]
  },
  {
   "cell_type": "markdown",
   "id": "fa7b3e44",
   "metadata": {},
   "source": [
    "## Using a bigger dictionary"
   ]
  },
  {
   "cell_type": "code",
   "execution_count": 38,
   "id": "161e8436",
   "metadata": {},
   "outputs": [],
   "source": [
    "symbols = 'abcdefghijklmnopqrstuxywzñç-'"
   ]
  },
  {
   "cell_type": "code",
   "execution_count": 39,
   "id": "bb563d81",
   "metadata": {
    "scrolled": false
   },
   "outputs": [
    {
     "data": {
      "text/plain": [
       "{0: 0,\n",
       " 'a': 1,\n",
       " 'b': 2,\n",
       " 'c': 3,\n",
       " 'd': 4,\n",
       " 'e': 5,\n",
       " 'f': 6,\n",
       " 'g': 7,\n",
       " 'h': 8,\n",
       " 'i': 9,\n",
       " 'j': 10,\n",
       " 'k': 11,\n",
       " 'l': 12,\n",
       " 'm': 13,\n",
       " 'n': 14,\n",
       " 'o': 15,\n",
       " 'p': 16,\n",
       " 'q': 17,\n",
       " 'r': 18,\n",
       " 's': 19,\n",
       " 't': 20,\n",
       " 'u': 21,\n",
       " 'x': 22,\n",
       " 'y': 23,\n",
       " 'w': 24,\n",
       " 'z': 25,\n",
       " 'ñ': 26,\n",
       " 'ç': 27,\n",
       " '-': 28}"
      ]
     },
     "execution_count": 39,
     "metadata": {},
     "output_type": "execute_result"
    }
   ],
   "source": [
    "symbol_to_num = {0:0, **{c:i+1 for i,c in enumerate(symbols)}}\n",
    "symbol_to_num"
   ]
  },
  {
   "cell_type": "code",
   "execution_count": 40,
   "id": "daf2ca7c",
   "metadata": {},
   "outputs": [],
   "source": [
    "data = ['professionals', 'lightweight', 'veterinarians', 'castañera']"
   ]
  },
  {
   "cell_type": "code",
   "execution_count": 41,
   "id": "0132b6b1",
   "metadata": {},
   "outputs": [
    {
     "data": {
      "text/plain": [
       "5887046198922477792"
      ]
     },
     "execution_count": 41,
     "metadata": {},
     "output_type": "execute_result"
    }
   ],
   "source": [
    "num = map_str_to_num(data[0],symbol_to_num)\n",
    "num"
   ]
  },
  {
   "cell_type": "code",
   "execution_count": 42,
   "id": "dd3be917",
   "metadata": {},
   "outputs": [
    {
     "data": {
      "text/plain": [
       "'professionals'"
      ]
     },
     "execution_count": 42,
     "metadata": {},
     "output_type": "execute_result"
    }
   ],
   "source": [
    "d_coeff = map_num_to_coeff(num, symbol_to_num)\n",
    "d_str = coeffs_to_str(d_coeff, symbol_to_num)\n",
    "d_str"
   ]
  },
  {
   "cell_type": "code",
   "execution_count": 43,
   "id": "1c85b725",
   "metadata": {},
   "outputs": [
    {
     "data": {
      "text/plain": [
       "1529702327394"
      ]
     },
     "execution_count": 43,
     "metadata": {},
     "output_type": "execute_result"
    }
   ],
   "source": [
    "map_str_to_num(data[-1], symbol_to_num)"
   ]
  },
  {
   "cell_type": "code",
   "execution_count": 44,
   "id": "c20d632d",
   "metadata": {},
   "outputs": [
    {
     "data": {
      "text/plain": [
       "10260628712958602188"
      ]
     },
     "execution_count": 44,
     "metadata": {},
     "output_type": "execute_result"
    }
   ],
   "source": [
    "map_str_to_num('-------------', symbol_to_num)"
   ]
  },
  {
   "cell_type": "code",
   "execution_count": 46,
   "id": "1b5eafc7",
   "metadata": {},
   "outputs": [
    {
     "data": {
      "text/plain": [
       "True"
      ]
     },
     "execution_count": 46,
     "metadata": {},
     "output_type": "execute_result"
    }
   ],
   "source": [
    "12260628712958602188 < 18446744073709551615"
   ]
  },
  {
   "cell_type": "markdown",
   "id": "780e839c",
   "metadata": {},
   "source": [
    "### Ngram Creation\n",
    "\n",
    "Now let's assume we want to handle ngrams and be able to hash them without having collissions"
   ]
  },
  {
   "cell_type": "code",
   "execution_count": null,
   "id": "00492e08",
   "metadata": {},
   "outputs": [],
   "source": []
  },
  {
   "cell_type": "code",
   "execution_count": null,
   "id": "212e2421",
   "metadata": {},
   "outputs": [],
   "source": []
  },
  {
   "cell_type": "code",
   "execution_count": null,
   "id": "26f85fc7",
   "metadata": {},
   "outputs": [],
   "source": []
  },
  {
   "cell_type": "code",
   "execution_count": null,
   "id": "aeb271cb",
   "metadata": {},
   "outputs": [],
   "source": []
  },
  {
   "cell_type": "code",
   "execution_count": null,
   "id": "a026dd0d",
   "metadata": {},
   "outputs": [],
   "source": []
  },
  {
   "cell_type": "code",
   "execution_count": null,
   "id": "c075cb2f",
   "metadata": {},
   "outputs": [],
   "source": []
  },
  {
   "cell_type": "code",
   "execution_count": null,
   "id": "51c61ad6",
   "metadata": {},
   "outputs": [],
   "source": []
  },
  {
   "cell_type": "code",
   "execution_count": null,
   "id": "fae48dd3",
   "metadata": {},
   "outputs": [],
   "source": []
  },
  {
   "cell_type": "markdown",
   "id": "1e94a91d",
   "metadata": {},
   "source": [
    "### Check memory usage "
   ]
  },
  {
   "cell_type": "code",
   "execution_count": 1470,
   "id": "8993b216",
   "metadata": {},
   "outputs": [],
   "source": [
    "from pympler import asizeof\n",
    "from sys import getsizeof"
   ]
  },
  {
   "cell_type": "code",
   "execution_count": 1471,
   "id": "739ebe5d",
   "metadata": {},
   "outputs": [
    {
     "data": {
      "text/plain": [
       "(56, 50)"
      ]
     },
     "execution_count": 1471,
     "metadata": {},
     "output_type": "execute_result"
    }
   ],
   "source": [
    "x = 'p'\n",
    "asizeof.asizeof(x), getsizeof(x)"
   ]
  },
  {
   "cell_type": "code",
   "execution_count": 1477,
   "id": "857a7c92",
   "metadata": {
    "scrolled": true
   },
   "outputs": [
    {
     "data": {
      "text/plain": [
       "(32, 32)"
      ]
     },
     "execution_count": 1477,
     "metadata": {},
     "output_type": "execute_result"
    }
   ],
   "source": [
    "x = 1529702327394\n",
    "asizeof.asizeof(x), getsizeof(x)"
   ]
  },
  {
   "cell_type": "code",
   "execution_count": 1479,
   "id": "8b41baa7",
   "metadata": {},
   "outputs": [
    {
     "data": {
      "text/plain": [
       "(576, 232)"
      ]
     },
     "execution_count": 1479,
     "metadata": {},
     "output_type": "execute_result"
    }
   ],
   "source": [
    "x = {'the': 0, 'cat':1, 'is':2, 'big':3}\n",
    "asizeof.asizeof(x), getsizeof(x)"
   ]
  },
  {
   "cell_type": "code",
   "execution_count": 1482,
   "id": "68e02b09",
   "metadata": {},
   "outputs": [
    {
     "data": {
      "text/plain": [
       "(344, 216)"
      ]
     },
     "execution_count": 1482,
     "metadata": {},
     "output_type": "execute_result"
    }
   ],
   "source": [
    "x = {map_str_to_num(w, symbol_to_num) for w in ['the','cat','is','big'] }\n",
    "asizeof.asizeof(x), getsizeof(x)"
   ]
  },
  {
   "cell_type": "code",
   "execution_count": 1487,
   "id": "e7afbf5c",
   "metadata": {},
   "outputs": [],
   "source": [
    "#x = {map_str_to_num(w, symbol_to_num) for w in ['the','cat','is','big'] }\n",
    "#asizeof.asizeof(x), getsizeof(x)"
   ]
  },
  {
   "cell_type": "code",
   "execution_count": null,
   "id": "bb1ed59a",
   "metadata": {},
   "outputs": [],
   "source": []
  },
  {
   "cell_type": "code",
   "execution_count": null,
   "id": "c86c980e",
   "metadata": {},
   "outputs": [],
   "source": []
  }
 ],
 "metadata": {
  "kernelspec": {
   "display_name": "Python 3 (ipykernel)",
   "language": "python",
   "name": "python3"
  },
  "language_info": {
   "codemirror_mode": {
    "name": "ipython",
    "version": 3
   },
   "file_extension": ".py",
   "mimetype": "text/x-python",
   "name": "python",
   "nbconvert_exporter": "python",
   "pygments_lexer": "ipython3",
   "version": "3.9.12"
  }
 },
 "nbformat": 4,
 "nbformat_minor": 5
}

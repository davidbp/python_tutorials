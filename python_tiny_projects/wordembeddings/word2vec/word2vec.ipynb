{
 "cells": [
  {
   "cell_type": "markdown",
   "id": "3ffb9ddb-ed51-4400-8d7a-01d75f8ff7b9",
   "metadata": {},
   "source": [
    "# Word2vec Basics"
   ]
  },
  {
   "cell_type": "code",
   "execution_count": 10,
   "id": "2262c097",
   "metadata": {
    "ExecuteTime": {
     "end_time": "2024-07-12T12:44:59.784239Z",
     "start_time": "2024-07-12T12:44:59.781801Z"
    }
   },
   "outputs": [],
   "source": [
    "import numpy as np\n",
    "import re"
   ]
  },
  {
   "cell_type": "code",
   "execution_count": 11,
   "id": "308ac4e8",
   "metadata": {
    "ExecuteTime": {
     "end_time": "2024-07-12T12:45:00.902606Z",
     "start_time": "2024-07-12T12:45:00.898611Z"
    }
   },
   "outputs": [],
   "source": [
    "with open('../Datasets/data.txt') as f:\n",
    "    text = f.read()"
   ]
  },
  {
   "cell_type": "code",
   "execution_count": 25,
   "id": "9146bd21",
   "metadata": {
    "ExecuteTime": {
     "end_time": "2024-07-12T12:47:25.670355Z",
     "start_time": "2024-07-12T12:47:25.666455Z"
    }
   },
   "outputs": [
    {
     "name": "stdout",
     "output_type": "stream",
     "text": [
      "len(words) = 274\n"
     ]
    }
   ],
   "source": [
    "# Pre-processament del text per obtenir el nostre vocabulari (tokenitzacio)\n",
    "text = re.sub(r'[^\\w\\s]', '', text)\n",
    "text = text.lower()\n",
    "words = sorted(list(set(text.split())))\n",
    "vocab_size = len(words)\n",
    "\n",
    "print(f'len(words) = {len(words)}')"
   ]
  },
  {
   "cell_type": "code",
   "execution_count": 27,
   "id": "ab1ac7fe",
   "metadata": {
    "ExecuteTime": {
     "end_time": "2024-07-12T12:48:01.974102Z",
     "start_time": "2024-07-12T12:48:01.968487Z"
    }
   },
   "outputs": [],
   "source": [
    "def build_word_to_pos(words):\n",
    "    token_to_idx = {}\n",
    "    idx_to_token = {}\n",
    "\n",
    "    for i, token in enumerate(words):\n",
    "        token_to_idx[token] = i\n",
    "        idx_to_token[i] = token\n",
    "    return token_to_idx, idx_to_token"
   ]
  },
  {
   "cell_type": "code",
   "execution_count": 32,
   "id": "5fa0c70f",
   "metadata": {
    "ExecuteTime": {
     "end_time": "2024-07-12T12:48:42.816453Z",
     "start_time": "2024-07-12T12:48:42.811504Z"
    }
   },
   "outputs": [
    {
     "name": "stdout",
     "output_type": "stream",
     "text": [
      "len(token_to_idx) = 274\n"
     ]
    }
   ],
   "source": [
    "token_to_idx, idx_to_token = build_word_to_pos(words)\n",
    "print(f'len(token_to_idx) = {len(token_to_idx)}')"
   ]
  },
  {
   "cell_type": "code",
   "execution_count": 103,
   "id": "b36e9188",
   "metadata": {
    "ExecuteTime": {
     "end_time": "2024-07-12T12:58:55.782572Z",
     "start_time": "2024-07-12T12:58:55.779758Z"
    }
   },
   "outputs": [],
   "source": [
    "encode = lambda s: [token_to_idx[c] for c in s.split()]\n",
    "decode = lambda l: ''.join([idx_to_token[i]+ \" \" for i in l])"
   ]
  },
  {
   "cell_type": "code",
   "execution_count": 104,
   "id": "937744a4-44fc-43d5-a6f8-8972023bae84",
   "metadata": {
    "ExecuteTime": {
     "end_time": "2024-07-12T12:58:56.008169Z",
     "start_time": "2024-07-12T12:58:55.980435Z"
    }
   },
   "outputs": [
    {
     "name": "stdout",
     "output_type": "stream",
     "text": [
      "(3386, 274)\n",
      "(3386, 274)\n"
     ]
    }
   ],
   "source": [
    "def one_hot_encode(token, size):\n",
    "    vec = np.zeros(size)\n",
    "    vec[token] = 1\n",
    "    return vec\n",
    "\n",
    "# Obtenim les dades preparades per entrenar\n",
    "# Retorna la llista x, el token actual, i la llista y, el context\n",
    "def get_train_data(text, window_size):\n",
    "    data = encode(text)\n",
    "    x = []\n",
    "    y = []\n",
    "    for i in range(len(data)):\n",
    "        for j in range(1, window_size+1):\n",
    "            if i - j >= 0:\n",
    "                x.append(one_hot_encode(data[i], vocab_size))\n",
    "                y.append(one_hot_encode(data[i - j], vocab_size))\n",
    "            if i + j < len(data):\n",
    "                x.append(one_hot_encode(data[i], vocab_size))\n",
    "                y.append(one_hot_encode(data[i + j], vocab_size))\n",
    "    return np.asarray(x), np.asarray(y)\n",
    "\n",
    "X, Y = get_train_data(text, 2)\n",
    "print(X.shape)\n",
    "print(Y.shape)\n"
   ]
  },
  {
   "cell_type": "code",
   "execution_count": 105,
   "id": "0695d7e4-dc3d-4d46-ae9f-d784c22d0203",
   "metadata": {
    "ExecuteTime": {
     "end_time": "2024-07-12T12:58:56.176039Z",
     "start_time": "2024-07-12T12:58:56.158983Z"
    }
   },
   "outputs": [
    {
     "name": "stdout",
     "output_type": "stream",
     "text": [
      "274\n"
     ]
    }
   ],
   "source": [
    "# Inicalitzem el model\n",
    "def initialitze_model(n_embd):\n",
    "    model = {\n",
    "        \"w1\": np.random.randn(vocab_size, n_embd),\n",
    "        \"w2\": np.random.randn(n_embd, vocab_size)\n",
    "    }\n",
    "    return model\n",
    "\n",
    "def softmax(X):\n",
    "    exps = np.exp(X - np.max(X, axis=-1, keepdims=True))\n",
    "    return exps / np.sum(exps, axis=-1, keepdims=True)\n",
    "\n",
    "def forward_pass(model, input):\n",
    "    state = {}\n",
    "    \n",
    "    state[\"first_layer\"] = input @ model[\"w1\"]\n",
    "    state[\"second_layer\"] = state[\"first_layer\"] @ model[\"w2\"]\n",
    "    state[\"z\"] = softmax(state[\"second_layer\"])\n",
    "    return state\n",
    "\n",
    "model = initialitze_model(20)\n",
    "print(len(forward_pass(model, X)[\"z\"][0]))"
   ]
  },
  {
   "cell_type": "code",
   "execution_count": 106,
   "id": "ece767b0",
   "metadata": {
    "ExecuteTime": {
     "end_time": "2024-07-12T12:58:56.864487Z",
     "start_time": "2024-07-12T12:58:56.857484Z"
    }
   },
   "outputs": [
    {
     "data": {
      "text/plain": [
       "(3386, 274)"
      ]
     },
     "execution_count": 106,
     "metadata": {},
     "output_type": "execute_result"
    }
   ],
   "source": [
    "X.shape"
   ]
  },
  {
   "cell_type": "code",
   "execution_count": 107,
   "id": "7e341e02",
   "metadata": {
    "ExecuteTime": {
     "end_time": "2024-07-12T12:58:57.042345Z",
     "start_time": "2024-07-12T12:58:57.037863Z"
    }
   },
   "outputs": [
    {
     "data": {
      "text/plain": [
       "dict_keys(['w1', 'w2'])"
      ]
     },
     "execution_count": 107,
     "metadata": {},
     "output_type": "execute_result"
    }
   ],
   "source": [
    "model.keys()"
   ]
  },
  {
   "cell_type": "code",
   "execution_count": 108,
   "id": "57a21b86",
   "metadata": {
    "ExecuteTime": {
     "end_time": "2024-07-12T12:58:57.214182Z",
     "start_time": "2024-07-12T12:58:57.209850Z"
    }
   },
   "outputs": [
    {
     "data": {
      "text/plain": [
       "((20, 274), (274, 20))"
      ]
     },
     "execution_count": 108,
     "metadata": {},
     "output_type": "execute_result"
    }
   ],
   "source": [
    "model['w2'].shape, model['w1'].shape"
   ]
  },
  {
   "cell_type": "markdown",
   "id": "2714606b",
   "metadata": {},
   "source": [
    "Note that the forward pass computes the first layer embedding with `input @ model[\"w1\"]`\n",
    "This is very wastefull since we know by contruction that input vectors have all components but 1 with 0 values. Hence multiplying by a 0 anything will be zero, so there is not need to compute it.\n"
   ]
  },
  {
   "cell_type": "code",
   "execution_count": 146,
   "id": "54481d22",
   "metadata": {
    "ExecuteTime": {
     "end_time": "2024-07-12T13:04:32.110774Z",
     "start_time": "2024-07-12T13:04:32.107670Z"
    }
   },
   "outputs": [],
   "source": [
    "Xbatch = X[0:10]"
   ]
  },
  {
   "cell_type": "markdown",
   "id": "b8a6b1f8",
   "metadata": {},
   "source": [
    "What we can do is work with Xsp and Ysp as sparse representations of the vectors"
   ]
  },
  {
   "cell_type": "code",
   "execution_count": 110,
   "id": "8c0b530f",
   "metadata": {
    "ExecuteTime": {
     "end_time": "2024-07-12T12:59:19.812853Z",
     "start_time": "2024-07-12T12:59:19.805461Z"
    }
   },
   "outputs": [
    {
     "name": "stdout",
     "output_type": "stream",
     "text": [
      "(3386,)\n",
      "(3386,)\n"
     ]
    }
   ],
   "source": [
    "def get_train_data_sparse(text, window_size):\n",
    "    data = encode(text)\n",
    "    x = []\n",
    "    y = []\n",
    "    for i in range(len(data)):\n",
    "        for j in range(1, window_size+1):\n",
    "            if i - j >= 0:\n",
    "                x.append(data[i])\n",
    "                y.append(data[i - j])\n",
    "            if i + j < len(data):\n",
    "                x.append(data[i])\n",
    "                y.append(data[i + j])\n",
    "    return np.asarray(x), np.asarray(y)\n",
    "\n",
    "Xsp, Ysp = get_train_data_sparse(text, 2)\n",
    "print(Xsp.shape)\n",
    "print(Ysp.shape)"
   ]
  },
  {
   "cell_type": "code",
   "execution_count": 114,
   "id": "7e4e5cc2",
   "metadata": {
    "ExecuteTime": {
     "end_time": "2024-07-12T12:59:55.029318Z",
     "start_time": "2024-07-12T12:59:55.023226Z"
    }
   },
   "outputs": [
    {
     "data": {
      "text/plain": [
       "'lamine yamal '"
      ]
     },
     "execution_count": 114,
     "metadata": {},
     "output_type": "execute_result"
    }
   ],
   "source": [
    "decode([Xsp[0], Ysp[0]])"
   ]
  },
  {
   "cell_type": "code",
   "execution_count": 117,
   "id": "47904c0e",
   "metadata": {
    "ExecuteTime": {
     "end_time": "2024-07-12T13:00:20.180142Z",
     "start_time": "2024-07-12T13:00:20.174266Z"
    }
   },
   "outputs": [
    {
     "data": {
      "text/plain": [
       "((10, 274), (274, 20))"
      ]
     },
     "execution_count": 117,
     "metadata": {},
     "output_type": "execute_result"
    }
   ],
   "source": [
    "Xbatch.shape, model['w1'].shape"
   ]
  },
  {
   "cell_type": "code",
   "execution_count": 128,
   "id": "6e7b1515",
   "metadata": {
    "ExecuteTime": {
     "end_time": "2024-07-12T13:01:58.357610Z",
     "start_time": "2024-07-12T13:01:58.352891Z"
    }
   },
   "outputs": [],
   "source": [
    "def sparse_Xsp_times_model_weights(Xsp, w):\n",
    "    return model['w1'][Xspbatch]"
   ]
  },
  {
   "cell_type": "code",
   "execution_count": 139,
   "id": "56fb3bdf",
   "metadata": {
    "ExecuteTime": {
     "end_time": "2024-07-12T13:03:06.505522Z",
     "start_time": "2024-07-12T13:03:06.502821Z"
    }
   },
   "outputs": [],
   "source": [
    "X_l1_sp = sparse_Xsp_times_model_weights(Xbatch, model['w1'])\n",
    "X_l1 = Xbatch @ model['w1']"
   ]
  },
  {
   "cell_type": "markdown",
   "id": "de1d8d20",
   "metadata": {},
   "source": [
    "Let us try that both implementations yield the same hidden layer weight activation"
   ]
  },
  {
   "cell_type": "code",
   "execution_count": 142,
   "id": "a24c3b7d",
   "metadata": {
    "ExecuteTime": {
     "end_time": "2024-07-12T13:03:45.612798Z",
     "start_time": "2024-07-12T13:03:45.607819Z"
    }
   },
   "outputs": [],
   "source": [
    "# No AssertionError is printed so they are the same\n",
    "np.testing.assert_almost_equal(X_l1_sp, X_l1)"
   ]
  },
  {
   "cell_type": "code",
   "execution_count": 148,
   "id": "027946b7",
   "metadata": {
    "ExecuteTime": {
     "end_time": "2024-07-12T13:05:26.182611Z",
     "start_time": "2024-07-12T13:05:15.615593Z"
    }
   },
   "outputs": [
    {
     "name": "stdout",
     "output_type": "stream",
     "text": [
      "1.31 ms ± 108 µs per loop (mean ± std. dev. of 7 runs, 1000 loops each)\n"
     ]
    }
   ],
   "source": [
    "time = %timeit -o X @ model[\"w1\"]"
   ]
  },
  {
   "cell_type": "code",
   "execution_count": 149,
   "id": "77788d7d",
   "metadata": {
    "ExecuteTime": {
     "end_time": "2024-07-12T13:05:27.626859Z",
     "start_time": "2024-07-12T13:05:26.185310Z"
    }
   },
   "outputs": [
    {
     "name": "stdout",
     "output_type": "stream",
     "text": [
      "1.71 µs ± 57 ns per loop (mean ± std. dev. of 7 runs, 100000 loops each)\n"
     ]
    }
   ],
   "source": [
    "time_sp = %timeit -o sparse_Xsp_times_model_weights(Xsp, model[\"w1\"])"
   ]
  },
  {
   "cell_type": "code",
   "execution_count": 154,
   "id": "f746fe87",
   "metadata": {
    "ExecuteTime": {
     "end_time": "2024-07-12T13:05:59.850913Z",
     "start_time": "2024-07-12T13:05:59.848265Z"
    }
   },
   "outputs": [],
   "source": [
    "speedup = time.average / time_sp.average"
   ]
  },
  {
   "cell_type": "code",
   "execution_count": 157,
   "id": "ed6acaac",
   "metadata": {
    "ExecuteTime": {
     "end_time": "2024-07-12T13:06:59.371056Z",
     "start_time": "2024-07-12T13:06:59.366795Z"
    }
   },
   "outputs": [
    {
     "name": "stdout",
     "output_type": "stream",
     "text": [
      "the sparse version is 767x faster\n"
     ]
    }
   ],
   "source": [
    "print(f'the sparse version is {round(speedup)}x faster')"
   ]
  },
  {
   "cell_type": "markdown",
   "id": "c9aba505",
   "metadata": {
    "ExecuteTime": {
     "end_time": "2024-07-12T13:06:38.959894Z",
     "start_time": "2024-07-12T13:06:38.956431Z"
    }
   },
   "source": [
    "### Down below: To be continued"
   ]
  },
  {
   "cell_type": "code",
   "execution_count": null,
   "id": "6360e77f",
   "metadata": {},
   "outputs": [],
   "source": []
  },
  {
   "cell_type": "code",
   "execution_count": 43,
   "id": "dd775a40-816d-40cf-a286-2413267b8dbd",
   "metadata": {
    "ExecuteTime": {
     "end_time": "2024-07-12T12:50:17.458769Z",
     "start_time": "2024-07-12T12:50:17.417347Z"
    }
   },
   "outputs": [
    {
     "name": "stdout",
     "output_type": "stream",
     "text": [
      "44936.16129878538\n"
     ]
    }
   ],
   "source": [
    "# Backpropagation\n",
    "def cross_entropy(pred, target):\n",
    "    epsilon = 1e-12  # small constant to avoid log(0)\n",
    "    pred = np.clip(pred, epsilon, 1. - epsilon)\n",
    "    return - np.sum(target * np.log(pred))\n",
    "\n",
    "def backpropagation(model, input, target, learning_rate):\n",
    "    state = forward_pass(model, input)\n",
    "    da2 = state[\"z\"] - target\n",
    "    dw2 = state[\"first_layer\"].T @ da2\n",
    "    da1 = da2 @ model[\"w2\"].T\n",
    "    dw1 = input.T @ da1\n",
    "    model[\"w1\"] -= learning_rate * dw1\n",
    "    model[\"w2\"] -= learning_rate * dw2\n",
    "    return cross_entropy(state[\"z\"], target)\n",
    "\n",
    "print(backpropagation(model, X, Y, 0.01))"
   ]
  },
  {
   "cell_type": "code",
   "execution_count": 46,
   "id": "761712db-aeea-4532-a81b-d4fa3a2d0ddb",
   "metadata": {
    "ExecuteTime": {
     "end_time": "2024-07-12T12:51:01.520771Z",
     "start_time": "2024-07-12T12:50:59.084263Z"
    }
   },
   "outputs": [
    {
     "name": "stdout",
     "output_type": "stream",
     "text": [
      "Iteration 0: Loss = 9427.88735864216\n"
     ]
    },
    {
     "data": {
      "image/png": "[encoded data removed]",
      "text/plain": [
       "<Figure size 432x288 with 1 Axes>"
      ]
     },
     "metadata": {
      "needs_background": "light"
     },
     "output_type": "display_data"
    },
    {
     "name": "stdout",
     "output_type": "stream",
     "text": [
      "Final Loss: 9372.259002845349\n"
     ]
    }
   ],
   "source": [
    "import matplotlib.pyplot as plt\n",
    "\n",
    "n_iter = 100\n",
    "learning_rate = 0.001\n",
    "losses = []\n",
    "\n",
    "for i in range(n_iter):\n",
    "    loss = backpropagation(model, X, Y, learning_rate)\n",
    "    losses.append(loss)\n",
    "    if i % 100 == 0:\n",
    "        print(f\"Iteration {i}: Loss = {loss}\")\n",
    "\n",
    "plt.plot(range(len(losses)), losses)\n",
    "plt.xlabel('Iteration')\n",
    "plt.ylabel('Loss')\n",
    "plt.title('Training Loss over Iterations')\n",
    "plt.show()\n",
    "\n",
    "print(f\"Final Loss: {losses[-1]}\")"
   ]
  },
  {
   "cell_type": "code",
   "execution_count": null,
   "id": "86826fee-8a91-49be-a67d-4da7db1c8de8",
   "metadata": {
    "ExecuteTime": {
     "end_time": "2024-07-12T12:50:47.870102Z",
     "start_time": "2024-07-12T12:50:47.870082Z"
    }
   },
   "outputs": [],
   "source": [
    "def get_skipgram_embedding(model, word):\n",
    "    vec = one_hot_encode(token_to_idx[word], len(token_to_idx))\n",
    "    return vec @ model[\"w1\"] \n",
    "\n",
    "lamine_embedding = get_skipgram_embedding(model, \"lamine\")\n",
    "yamal_embedding = get_skipgram_embedding(model, \"yamal\")\n",
    "principis_embedding = get_skipgram_embedding(model, \"principis\")\n",
    "\n",
    "# Cosine similarity com a aproximació per veure la similitud entre els vectors\n",
    "def cosine_similarity(a, b):\n",
    "    dot_product = np.dot(a, b)\n",
    "    norm_a = np.linalg.norm(a)\n",
    "    norm_b = np.linalg.norm(b)\n",
    "    return dot_product / (norm_a * norm_b)\n",
    "\n",
    "print(lamine_embedding)\n",
    "print(yamal_embedding)\n",
    "print(principis_embedding)\n",
    "\n",
    "print(\"Similitud entre lamine i yamal: \", cosine_similarity(lamine_embedding, yamal_embedding))\n",
    "print(\"Similitud entre lamine i principis: \", cosine_similarity(lamine_embedding, principis_embedding))"
   ]
  },
  {
   "cell_type": "code",
   "execution_count": null,
   "id": "1a230eee-a919-479b-848f-ee287278c1c3",
   "metadata": {
    "ExecuteTime": {
     "end_time": "2024-07-12T12:50:47.872373Z",
     "start_time": "2024-07-12T12:50:47.872344Z"
    }
   },
   "outputs": [],
   "source": [
    "yamal = one_hot_encode(token_to_idx[\"yamal\"], len(token_to_idx))\n",
    "result = forward_pass(model, [lamine])\n",
    "result = result[\"z\"]\n",
    "words = []\n",
    "for word in (idx_to_token[id] for id in np.argsort(result)[::-1][0]):\n",
    "    words.append(word)\n",
    "\n",
    "print(\"Les 5 paraules més probables d'estar en el context de yamal son: \", words[::-1][:5])"
   ]
  },
  {
   "cell_type": "code",
   "execution_count": null,
   "id": "7bb77e50-4241-4ca2-a1bd-42e774675e2b",
   "metadata": {},
   "outputs": [],
   "source": []
  },
  {
   "cell_type": "code",
   "execution_count": null,
   "id": "b3281166",
   "metadata": {},
   "outputs": [],
   "source": []
  },
  {
   "cell_type": "code",
   "execution_count": null,
   "id": "aab81a6b",
   "metadata": {},
   "outputs": [],
   "source": []
  },
  {
   "cell_type": "code",
   "execution_count": null,
   "id": "0ac872d5",
   "metadata": {},
   "outputs": [],
   "source": []
  }
 ],
 "metadata": {
  "kernelspec": {
   "display_name": "Python 3 (ipykernel)",
   "language": "python",
   "name": "python3"
  },
  "language_info": {
   "codemirror_mode": {
    "name": "ipython",
    "version": 3
   },
   "file_extension": ".py",
   "mimetype": "text/x-python",
   "name": "python",
   "nbconvert_exporter": "python",
   "pygments_lexer": "ipython3",
   "version": "3.8.12"
  },
  "toc": {
   "base_numbering": 1,
   "nav_menu": {},
   "number_sections": true,
   "sideBar": true,
   "skip_h1_title": false,
   "title_cell": "Table of Contents",
   "title_sidebar": "Contents",
   "toc_cell": false,
   "toc_position": {},
   "toc_section_display": true,
   "toc_window_display": false
  }
 },
 "nbformat": 4,
 "nbformat_minor": 5
}

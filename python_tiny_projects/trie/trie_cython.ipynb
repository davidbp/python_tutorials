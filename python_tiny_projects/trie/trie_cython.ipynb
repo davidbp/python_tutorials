{
 "cells": [
  {
   "cell_type": "code",
   "execution_count": 1,
   "metadata": {
    "ExecuteTime": {
     "end_time": "2021-10-11T22:04:55.809836Z",
     "start_time": "2021-10-11T22:04:55.296190Z"
    }
   },
   "outputs": [],
   "source": [
    "%load_ext Cython"
   ]
  },
  {
   "cell_type": "code",
   "execution_count": null,
   "metadata": {
    "ExecuteTime": {
     "start_time": "2021-10-11T22:42:51.015Z"
    }
   },
   "outputs": [],
   "source": [
    "%%cython\n",
    "cdef class TrieNode():\n",
    "    \"\"\"\n",
    "    Trie node \n",
    "    \"\"\"\n",
    "    cdef: \n",
    "        public str letter\n",
    "        public list children \n",
    "        public bint is_word\n",
    "        public long counter\n",
    "\n",
    "    def __init__(self, letter):\n",
    "        self.letter = letter\n",
    "        self.children = []\n",
    "        self.is_word = False\n",
    "        self.counter = 1\n"
   ]
  },
  {
   "cell_type": "code",
   "execution_count": 5,
   "metadata": {
    "ExecuteTime": {
     "end_time": "2021-10-11T22:05:17.221520Z",
     "start_time": "2021-10-11T22:05:17.217606Z"
    }
   },
   "outputs": [],
   "source": [
    "node = TrieNode('a')"
   ]
  },
  {
   "cell_type": "code",
   "execution_count": 6,
   "metadata": {
    "ExecuteTime": {
     "end_time": "2021-10-11T22:05:17.651477Z",
     "start_time": "2021-10-11T22:05:17.644981Z"
    }
   },
   "outputs": [
    {
     "data": {
      "text/plain": [
       "('a', [], False, 1)"
      ]
     },
     "execution_count": 6,
     "metadata": {},
     "output_type": "execute_result"
    }
   ],
   "source": [
    "node.letter, node.children, node.is_word, node.counter"
   ]
  },
  {
   "cell_type": "code",
   "execution_count": 7,
   "metadata": {
    "ExecuteTime": {
     "end_time": "2021-10-11T22:05:22.355123Z",
     "start_time": "2021-10-11T22:05:18.352337Z"
    }
   },
   "outputs": [
    {
     "name": "stdout",
     "output_type": "stream",
     "text": [
      "49.6 ns ± 1.96 ns per loop (mean ± std. dev. of 7 runs, 10000000 loops each)\n"
     ]
    }
   ],
   "source": [
    "%timeit node.counter"
   ]
  },
  {
   "cell_type": "code",
   "execution_count": 77,
   "metadata": {
    "ExecuteTime": {
     "end_time": "2021-10-11T22:32:57.990434Z",
     "start_time": "2021-10-11T22:32:55.904545Z"
    }
   },
   "outputs": [],
   "source": [
    "%%cython\n",
    "\n",
    "cdef class TrieNode:\n",
    "    \"\"\"\n",
    "    Trie node \n",
    "    \"\"\"\n",
    "    cdef: \n",
    "        readonly str letter\n",
    "        public list children \n",
    "        public bint is_word\n",
    "        public long counter\n",
    "\n",
    "    def __init__(self, letter):\n",
    "        self.letter = letter\n",
    "        self.children = []\n",
    "        self.is_word = False\n",
    "        self.counter = 1\n",
    "\n",
    "        \n",
    "class Trie(object):\n",
    "\n",
    "    def __init__(self):\n",
    "        self.is_trained = False \n",
    "        self.root = TrieNode('*')\n",
    "\n",
    "    @property\n",
    "    def words(self):\n",
    "        words = []        \n",
    "        node = self.root\n",
    "        self._iterate_until_leave(node, prefix='', words=words)\n",
    "        return words\n",
    "\n",
    "    def fit(self, words):\n",
    "        for word in words:\n",
    "            self.add_word(word)\n",
    "\n",
    "    def add_word(self, word):\n",
    "        node = self.root\n",
    "        for char in word:\n",
    "            found_in_children, node = self.__char_in_children_update(char, node)\n",
    "            if not found_in_children:\n",
    "                new_node = TrieNode(char)\n",
    "                node.children.append(new_node)\n",
    "                node = new_node\n",
    "\n",
    "        node.is_word = True\n",
    "\n",
    "    def word_count(self, word: str):\n",
    "        \"\"\"Check if a word is in a trie\n",
    "        \"\"\"\n",
    "        node = self.root\n",
    "        word_counts = 0\n",
    "        word_finished = False\n",
    "        for letter in word:\n",
    "            found_in_children, node = self._check_letter_in_children(letter, node)\n",
    "            word_counts = node.counter\n",
    "            word_finished = node.is_word        \n",
    "            if not found_in_children:\n",
    "                return 0\n",
    "            \n",
    "        return word_counts * word_finished\n",
    "\n",
    "\n",
    "    def find_words_with_prefix(self, prefix):\n",
    "        words = []\n",
    "        root_pref = self._prefix_node_in_trie(self.root, prefix)\n",
    "        if root_pref:\n",
    "            self._iterate_until_leave(root_pref, prefix, words)\n",
    "        \n",
    "        return words\n",
    "\n",
    "    def _iterate_until_leave(self, node, prefix, words):\n",
    "        if node.is_word:\n",
    "            words.append(prefix)\n",
    "        for child in node.children:\n",
    "            self._iterate_until_leave(child, prefix + child.letter, words)\n",
    "\n",
    "    def _prefix_node_in_trie(self, root, word: str):\n",
    "        \"\"\"find node that matches a prefix\n",
    "        \"\"\"\n",
    "        node = root\n",
    "        for letter in word:\n",
    "            found_in_children, node = self._check_letter_in_children(letter, node)\n",
    "            if not found_in_children:\n",
    "                return False\n",
    "            \n",
    "        return node\n",
    "\n",
    "    def _check_letter_in_children(self, letter, node):\n",
    "        \"\"\"Update `node` and `found_in_children` flag variable and return them.\n",
    "        \n",
    "        If `char` is in a children of `node` return the matching node and  `found_in_children=True`.\n",
    "        Otherwise, return the incoming node and `found_in_children=False`\n",
    "        \"\"\"\n",
    "        found_in_children = False\n",
    "        for node_children in node.children:\n",
    "            if node_children.letter == letter:\n",
    "                node = node_children         # modifies node\n",
    "                found_in_children = True\n",
    "                break\n",
    "        return found_in_children, node\n",
    "\n",
    "    def __char_in_children_update(self, letter, node):\n",
    "        \"\"\"Update `node` and `found_in_children` flag variable and return them.\n",
    "        \n",
    "        If `letter` is in a children of `node` return the matching node and  `found_in_children=True`.\n",
    "        Otherwise, return the incoming node and `found_in_children=False`\n",
    "        \"\"\"\n",
    "        found_in_children = False\n",
    "        for node_children in node.children:\n",
    "            if node_children.letter == letter:\n",
    "                node_children.counter += 1\n",
    "                node = node_children         # modifies node\n",
    "                found_in_children = True\n",
    "                break\n",
    "        return found_in_children, node\n"
   ]
  },
  {
   "cell_type": "code",
   "execution_count": 9,
   "metadata": {
    "ExecuteTime": {
     "end_time": "2021-10-11T22:05:22.400913Z",
     "start_time": "2021-10-11T22:05:22.397080Z"
    }
   },
   "outputs": [],
   "source": [
    "words = [\"have\", 'has', 'money', 'have', 'having', 'havana']"
   ]
  },
  {
   "cell_type": "code",
   "execution_count": 10,
   "metadata": {
    "ExecuteTime": {
     "end_time": "2021-10-11T22:05:22.416367Z",
     "start_time": "2021-10-11T22:05:22.406510Z"
    }
   },
   "outputs": [
    {
     "data": {
      "text/plain": [
       "['have', 'having', 'havana', 'has', 'money']"
      ]
     },
     "execution_count": 10,
     "metadata": {},
     "output_type": "execute_result"
    }
   ],
   "source": [
    "autocompleter = Trie()\n",
    "autocompleter.fit(words)\n",
    "autocompleter.words"
   ]
  },
  {
   "cell_type": "code",
   "execution_count": 11,
   "metadata": {
    "ExecuteTime": {
     "end_time": "2021-10-11T22:05:24.994461Z",
     "start_time": "2021-10-11T22:05:22.577909Z"
    }
   },
   "outputs": [
    {
     "name": "stdout",
     "output_type": "stream",
     "text": [
      "2.85 µs ± 307 ns per loop (mean ± std. dev. of 7 runs, 100000 loops each)\n"
     ]
    }
   ],
   "source": [
    "%timeit autocompleter.find_words_with_prefix('hav')"
   ]
  },
  {
   "cell_type": "code",
   "execution_count": 12,
   "metadata": {
    "ExecuteTime": {
     "end_time": "2021-10-11T22:05:35.222619Z",
     "start_time": "2021-10-11T22:05:33.641414Z"
    }
   },
   "outputs": [
    {
     "name": "stderr",
     "output_type": "stream",
     "text": [
      "/Users/david/anaconda3/lib/python3.7/site-packages/sklearn/utils/deprecation.py:144: FutureWarning: The sklearn.datasets.base module is  deprecated in version 0.22 and will be removed in version 0.24. The corresponding classes / functions should instead be imported from sklearn.datasets. Anything that cannot be imported from sklearn.datasets is now part of the private API.\n",
      "  warnings.warn(message, FutureWarning)\n"
     ]
    }
   ],
   "source": [
    "import sklearn\n",
    "\n",
    "from sklearn.datasets import fetch_20newsgroups\n",
    "\n",
    "dataset = fetch_20newsgroups()\n",
    "\n",
    "import re\n",
    "token_pattern = r\"(?u)\\b\\w\\w+\\b\"\n",
    "token_pattern = re.compile(token_pattern)\n",
    "\n",
    "autocompleter = Trie()\n"
   ]
  },
  {
   "cell_type": "code",
   "execution_count": 13,
   "metadata": {
    "ExecuteTime": {
     "end_time": "2021-10-11T22:05:48.604533Z",
     "start_time": "2021-10-11T22:05:35.225920Z"
    }
   },
   "outputs": [
    {
     "name": "stdout",
     "output_type": "stream",
     "text": [
      "CPU times: user 13.1 s, sys: 127 ms, total: 13.2 s\n",
      "Wall time: 13.4 s\n"
     ]
    }
   ],
   "source": [
    "%%time\n",
    "for doc in dataset.data:\n",
    "    words = token_pattern.findall(doc)\n",
    "    autocompleter.fit(words)"
   ]
  },
  {
   "cell_type": "code",
   "execution_count": 14,
   "metadata": {
    "ExecuteTime": {
     "end_time": "2021-10-11T22:05:48.812129Z",
     "start_time": "2021-10-11T22:05:48.607383Z"
    }
   },
   "outputs": [
    {
     "name": "stdout",
     "output_type": "stream",
     "text": [
      "CPU times: user 182 ms, sys: 12.1 ms, total: 194 ms\n",
      "Wall time: 197 ms\n"
     ]
    },
    {
     "data": {
      "text/plain": [
       "155448"
      ]
     },
     "execution_count": 14,
     "metadata": {},
     "output_type": "execute_result"
    }
   ],
   "source": [
    "%%time\n",
    "len(autocompleter.words)"
   ]
  },
  {
   "cell_type": "code",
   "execution_count": 15,
   "metadata": {
    "ExecuteTime": {
     "end_time": "2021-10-11T22:05:50.618534Z",
     "start_time": "2021-10-11T22:05:48.818193Z"
    }
   },
   "outputs": [
    {
     "name": "stdout",
     "output_type": "stream",
     "text": [
      "22.2 µs ± 1.58 µs per loop (mean ± std. dev. of 7 runs, 10000 loops each)\n"
     ]
    }
   ],
   "source": [
    "%timeit aux = autocompleter.find_words_with_prefix('hou')"
   ]
  },
  {
   "cell_type": "markdown",
   "metadata": {},
   "source": [
    "### Cythonizing the Trie class\n",
    "\n",
    "Note that the previous Trie did not specify almost anything in Cython, now let's type the code\n",
    "and see that we can make `autocompleter.find_words_with_prefix` 4x faster"
   ]
  },
  {
   "cell_type": "code",
   "execution_count": 78,
   "metadata": {
    "ExecuteTime": {
     "end_time": "2021-10-11T22:33:42.916135Z",
     "start_time": "2021-10-11T22:33:41.311369Z"
    }
   },
   "outputs": [],
   "source": [
    "%%cython\n",
    "\n",
    "cdef class TrieNode:\n",
    "    \"\"\"\n",
    "    Trie node \n",
    "    \"\"\"\n",
    "    cdef: \n",
    "        str letter\n",
    "        list children \n",
    "        bint is_word\n",
    "        long counter\n",
    "\n",
    "    def __init__(self, letter):\n",
    "        self.letter = letter\n",
    "        self.children = []\n",
    "        self.is_word = False\n",
    "        self.counter = 1\n",
    "\n",
    "        \n",
    "cdef class Trie01(object):\n",
    "    cdef:\n",
    "        public bint is_trained\n",
    "        public TrieNode root\n",
    "        \n",
    "    def __init__(self):\n",
    "        self.is_trained = False \n",
    "        self.root = TrieNode('*')\n",
    "\n",
    "    @property\n",
    "    def words(self):\n",
    "        words = []        \n",
    "        node = self.root\n",
    "        self._iterate_until_leave(node, prefix='', words=words)\n",
    "        return words\n",
    "\n",
    "    cpdef fit(self, list words):\n",
    "        cdef unicode word\n",
    "        \n",
    "        for word in words:\n",
    "            self.add_word(word)\n",
    "\n",
    "    cpdef add_word(self, unicode word):\n",
    "        cdef:\n",
    "            TrieNode node, new_node\n",
    "            unicode char\n",
    "            bint found_in_children\n",
    "            \n",
    "        node = self.root\n",
    "        for char in word:\n",
    "            found_in_children, node = self.__char_in_children_update(char, node)\n",
    "            if not found_in_children:\n",
    "                new_node = TrieNode(char)\n",
    "                node.children.append(new_node)\n",
    "                node = new_node\n",
    "\n",
    "        node.is_word = True\n",
    "\n",
    "    cpdef word_count(self, word: str):\n",
    "        \"\"\"\n",
    "        Check how many times a word is in the Trie.\n",
    "        \"\"\"\n",
    "        cdef:\n",
    "            TrieNode new_node, node=self.root\n",
    "            bint found_in_children, word_finished=False\n",
    "            long word_counts = 0\n",
    "            unicode letter\n",
    "\n",
    "        for letter in word:\n",
    "            found_in_children, node = self._check_letter_in_children(letter, node)\n",
    "            word_counts = node.counter\n",
    "            word_finished = node.is_word        \n",
    "            if not found_in_children:\n",
    "                return 0\n",
    "            \n",
    "        return word_counts * word_finished\n",
    "\n",
    "\n",
    "    cpdef find_words_with_prefix(self, unicode prefix):\n",
    "        cdef:\n",
    "            list words = []\n",
    "            TrieNode eroot_pref\n",
    "            bint found_in_children\n",
    "            \n",
    "        root_pref, found_in_children = self._prefix_node_in_trie(self.root, prefix)\n",
    "            \n",
    "        if found_in_children == True:\n",
    "            self._iterate_until_leave(root_pref, prefix, words)\n",
    "        \n",
    "        return words\n",
    "\n",
    "    cdef inline _iterate_until_leave(self, TrieNode node, unicode prefix,list words):\n",
    "        cdef TrieNode child \n",
    "        \n",
    "        if node.is_word:\n",
    "            words.append(prefix)\n",
    "        for child in node.children:\n",
    "            self._iterate_until_leave(child, prefix + child.letter, words)\n",
    "\n",
    "    cdef inline _prefix_node_in_trie(self, TrieNode root, unicode word):\n",
    "        \"\"\"find node that matches a prefix\n",
    "        \"\"\"\n",
    "        cdef:\n",
    "            bint found_in_children\n",
    "            TrieNode node = root\n",
    "\n",
    "        for letter in word:\n",
    "            found_in_children, node = self._check_letter_in_children(letter, node)\n",
    "            if found_in_children == False:\n",
    "                return node, found_in_children\n",
    "            \n",
    "        return node, found_in_children\n",
    "\n",
    "    cdef inline _check_letter_in_children(self, unicode letter, TrieNode node):\n",
    "        \"\"\"Update `node` and `found_in_children` flag variable and return them.\n",
    "        \n",
    "        If `char` is in a children of `node` return the matching node and  `found_in_children=True`.\n",
    "        Otherwise, return the incoming node and `found_in_children=False`\n",
    "        \"\"\"\n",
    "        cdef:\n",
    "            bint found_in_children = False\n",
    "            TrieNode node_children\n",
    "\n",
    "        for node_children in node.children:\n",
    "            if node_children.letter == letter:\n",
    "                node = node_children         # modifies node\n",
    "                found_in_children = True\n",
    "                break\n",
    "        return found_in_children, node\n",
    "\n",
    "    cdef inline __char_in_children_update(self, unicode letter, TrieNode node):\n",
    "        \"\"\"Update `node` and `found_in_children` flag variable and return them.\n",
    "        \n",
    "        If `letter` is in a children of `node` return the matching node and  `found_in_children=True`.\n",
    "        Otherwise, return the incoming node and `found_in_children=False`\n",
    "        \"\"\"\n",
    "        cdef:\n",
    "            bint found_in_children = False\n",
    "            TrieNode node_children\n",
    "\n",
    "\n",
    "        found_in_children = False\n",
    "        for node_children in node.children:\n",
    "            if node_children.letter == letter:\n",
    "                node_children.counter += 1\n",
    "                node = node_children         # modifies node\n",
    "                found_in_children = True\n",
    "                break\n",
    "        return found_in_children, node"
   ]
  },
  {
   "cell_type": "code",
   "execution_count": 79,
   "metadata": {
    "ExecuteTime": {
     "end_time": "2021-10-11T22:33:43.341340Z",
     "start_time": "2021-10-11T22:33:43.174956Z"
    }
   },
   "outputs": [
    {
     "data": {
      "text/plain": [
       "['have', 'having', 'havana', 'has', 'money']"
      ]
     },
     "execution_count": 79,
     "metadata": {},
     "output_type": "execute_result"
    }
   ],
   "source": [
    "autocompleter = Trie01()\n",
    "words = [\"have\", 'has', 'money', 'have', 'having', 'havana']\n",
    "autocompleter.fit(words)\n",
    "autocompleter.words"
   ]
  },
  {
   "cell_type": "code",
   "execution_count": 80,
   "metadata": {
    "ExecuteTime": {
     "end_time": "2021-10-11T22:33:49.816066Z",
     "start_time": "2021-10-11T22:33:44.772659Z"
    }
   },
   "outputs": [
    {
     "name": "stdout",
     "output_type": "stream",
     "text": [
      "CPU times: user 4.97 s, sys: 47.2 ms, total: 5.02 s\n",
      "Wall time: 5.04 s\n"
     ]
    }
   ],
   "source": [
    "%%time\n",
    "for doc in dataset.data:\n",
    "    words = token_pattern.findall(doc)\n",
    "    autocompleter.fit(words)"
   ]
  },
  {
   "cell_type": "code",
   "execution_count": 81,
   "metadata": {
    "ExecuteTime": {
     "end_time": "2021-10-11T22:33:55.849773Z",
     "start_time": "2021-10-11T22:33:51.230567Z"
    }
   },
   "outputs": [
    {
     "name": "stdout",
     "output_type": "stream",
     "text": [
      "5.68 µs ± 157 ns per loop (mean ± std. dev. of 7 runs, 100000 loops each)\n"
     ]
    }
   ],
   "source": [
    "%timeit aux = autocompleter.find_words_with_prefix('hou')"
   ]
  },
  {
   "cell_type": "code",
   "execution_count": 83,
   "metadata": {
    "ExecuteTime": {
     "end_time": "2021-10-11T22:34:53.102258Z",
     "start_time": "2021-10-11T22:34:53.095415Z"
    }
   },
   "outputs": [
    {
     "data": {
      "text/plain": [
       "['hou',\n",
       " 'hour',\n",
       " 'hours',\n",
       " 'hourglass',\n",
       " 'hourly',\n",
       " 'house',\n",
       " 'housekeeping',\n",
       " 'housed',\n",
       " 'houses',\n",
       " 'household',\n",
       " 'households',\n",
       " 'housewares',\n",
       " 'housewarming',\n",
       " 'housewives',\n",
       " 'houselights',\n",
       " 'housing',\n",
       " 'housings',\n",
       " 'houston',\n",
       " 'houghton',\n",
       " 'hougen',\n",
       " 'hould',\n",
       " 'hoult',\n",
       " 'hou281',\n",
       " 'hound',\n",
       " 'hounds',\n",
       " 'hounding',\n",
       " 'hounded',\n",
       " 'houxa']"
      ]
     },
     "execution_count": 83,
     "metadata": {},
     "output_type": "execute_result"
    }
   ],
   "source": [
    "autocompleter.find_words_with_prefix('hou')"
   ]
  },
  {
   "cell_type": "code",
   "execution_count": null,
   "metadata": {},
   "outputs": [],
   "source": []
  },
  {
   "cell_type": "code",
   "execution_count": null,
   "metadata": {},
   "outputs": [],
   "source": []
  },
  {
   "cell_type": "code",
   "execution_count": null,
   "metadata": {},
   "outputs": [],
   "source": []
  }
 ],
 "metadata": {
  "kernelspec": {
   "display_name": "Python 3",
   "language": "python",
   "name": "python3"
  },
  "language_info": {
   "codemirror_mode": {
    "name": "ipython",
    "version": 3
   },
   "file_extension": ".py",
   "mimetype": "text/x-python",
   "name": "python",
   "nbconvert_exporter": "python",
   "pygments_lexer": "ipython3",
   "version": "3.7.3"
  },
  "toc": {
   "base_numbering": 1,
   "nav_menu": {},
   "number_sections": true,
   "sideBar": true,
   "skip_h1_title": false,
   "title_cell": "Table of Contents",
   "title_sidebar": "Contents",
   "toc_cell": false,
   "toc_position": {},
   "toc_section_display": true,
   "toc_window_display": false
  }
 },
 "nbformat": 4,
 "nbformat_minor": 4
}

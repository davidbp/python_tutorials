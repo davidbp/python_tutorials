{
 "cells": [
  {
   "cell_type": "markdown",
   "id": "ffe66a02",
   "metadata": {},
   "source": [
    "# TRIE\n",
    "\n",
    "A Trie (or prefix tree) is a tree data structure where that each node stores \n",
    "\n",
    "- A character\n",
    "- A variable storing a subtree \n",
    "- A flag capturing whether a node marks the termination of a word.\n",
    "\n",
    "Additionally other information can be stored, such as:\n",
    "\n",
    "- Counter of character appearance\n",
    "\n",
    "\n",
    "\n",
    "#### Related work\n",
    "\n",
    "- https://towardsdatascience.com/implementing-a-trie-data-structure-in-python-in-less-than-100-lines-of-code-a877ea23c1a1\n",
    "\n",
    "\n",
    "- https://www.aleksandrhovhannisyan.com/blog/trie-data-structure-implementation-in-python/"
   ]
  },
  {
   "cell_type": "code",
   "execution_count": 40,
   "id": "a2f7ad45",
   "metadata": {},
   "outputs": [],
   "source": [
    "class TrieNode(object):\n",
    "    \"\"\"Trie node implementation\n",
    "    \"\"\"\n",
    "    def __init__(self, char: str):\n",
    "        self.char = char\n",
    "        self.children = []\n",
    "        self.word_finished = False\n",
    "        self.counter = 1"
   ]
  },
  {
   "cell_type": "markdown",
   "id": "79932e6e",
   "metadata": {},
   "source": [
    "Let us consider the Trie construction process.\n",
    "\n",
    "Let us assume we start from a root node '*' and the words `have` and `has` are presented to be added to the tree. After adding both words we should have the following tree stored:\n",
    "\n",
    "\n",
    "```\n",
    "* ----> h  ----> a ----> v ----> e\n",
    "                 |\n",
    "                 └-----> s\n",
    "```\n",
    "\n",
    "Actually each node would store `char/flag` pair. Therefore the tree might be better captured as follows:\n",
    "\n",
    "```\n",
    "* ----> h/F  ----> a/F ----> v/F ----> e/T\n",
    "                    |\n",
    "                    └-----> s/T\n",
    "```\n",
    "\n",
    "What do we need to take into account when we add a word to a trie?\n",
    "\n",
    "##### Add word `'have'`\n",
    "\n",
    "We start from the root node and iterate over each charater of  `word = 'have'`.\n",
    "\n",
    "- Add character `h`\n",
    "\n",
    "    ```\n",
    "    * ----> h\n",
    "    ```\n",
    "    - Is `h` is in `current_node.children`?       \n",
    "       - No\n",
    "            - `node = NodeTrie(char=h, termination=False)`\n",
    "            - `current_node.children.append(node)`\n",
    "            - `current_node = node`\n",
    "\n",
    "\n",
    "- Add character `a`\n",
    "\n",
    "    ```\n",
    "    * ----> h  ----> a\n",
    "    ```\n",
    "    - Is `a` is in `current_node.children`?       \n",
    "       - No\n",
    "            - `node = NodeTrie(char=a, termination=False)`\n",
    "            - `current_node.children.append(node)`\n",
    "            - `current_node = node`\n",
    "\n",
    "\n",
    "\n",
    "- Add character `v`\n",
    "\n",
    "    ```\n",
    "    * ----> h  ----> a ----> v \n",
    "    ```\n",
    "    - Is `v` is in `current_node.children`?       \n",
    "       - No\n",
    "            - `node = NodeTrie(char=v, termination=False)`\n",
    "            - `current_node.children.append(node)`\n",
    "            - `current_node = node`\n",
    "\n",
    "\n",
    "\n",
    "- Add character `e`\n",
    "\n",
    "    ```\n",
    "    * ----> h  ----> a ----> v ----> e\n",
    "    ```\n",
    "    - Is `v` is in `current_node.children`?       \n",
    "       - No\n",
    "            - `node = NodeTrie(char=e, termination=False)`\n",
    "            - `current_node.children.append(node)`\n",
    "            - `current_node = node`\n",
    "\n",
    "\n",
    "\n",
    "##### Add word `'has'`\n",
    "\n",
    "We start from the root node and iterate over each charater of  `word = 'has'`.\n",
    "\n",
    "\n",
    "- Add character `h`\n",
    "\n",
    "    ```\n",
    "    * ----> h  ----> a ----> v ----> e\n",
    "    ```\n",
    "    - Is `h` is in `current_node.children`?       \n",
    "       - Yes\n",
    "            - `current_node = node_with_current_char` where  `node_with_current_char.char==h`\n",
    "\n",
    "\n",
    "- Add character `a`\n",
    "\n",
    "    ```\n",
    "    * ----> h  ----> a ----> v ----> e\n",
    "    ```\n",
    "    - Is `a` is in `current_node.children`?       \n",
    "       - Yes\n",
    "            - `current_node = node_with_current_char` where  `node_with_current_char.char==a`\n",
    "\n",
    "- Add character `s`\n",
    "\n",
    "    ```\n",
    "    * ----> h  ----> a ----> v ----> e\n",
    "                     |\n",
    "                     └-----> s\n",
    "    ```\n",
    "    - Is `s` is in `current_node.children`?       \n",
    "       - NO\n",
    "            - `node = NodeTrie(char=s, termination=True)`\n",
    "            - `current_node.children.append(node)`\n",
    "            - `current_node = node`\n",
    "\n",
    "\n",
    "\n",
    "\n"
   ]
  },
  {
   "cell_type": "code",
   "execution_count": 276,
   "id": "576ed05b",
   "metadata": {},
   "outputs": [],
   "source": [
    "\n",
    "def _check_char_in_children_and_update(char, node):\n",
    "    \"\"\"Update `node` and `found_in_children` flag variable and return them.\n",
    "    \n",
    "    If `char` is in a children of `node` return the matching node and  `found_in_children=True`.\n",
    "    Otherwise, return the incoming node and `found_in_children=False`\n",
    "    \"\"\"\n",
    "    found_in_children = False\n",
    "    for node_children in node.children:\n",
    "        if node_children.char == char:\n",
    "            node_children.counter += 1\n",
    "            node = node_children         # modifies node\n",
    "            found_in_children = True\n",
    "            break\n",
    "    return found_in_children, node\n",
    "    \n",
    "\n",
    "def add(root, word: str):\n",
    "    \"\"\"Add operation of a Trie.\n",
    "    \"\"\"\n",
    "    node = root\n",
    "    for char in word:\n",
    "        found_in_children, node = _check_char_in_children_and_update(char, node)\n",
    "        if not found_in_children:\n",
    "            new_node = TrieNode(char)\n",
    "            node.children.append(new_node)\n",
    "            node = new_node\n",
    "\n",
    "    node.word_finished = True"
   ]
  },
  {
   "cell_type": "code",
   "execution_count": 277,
   "id": "d6801679",
   "metadata": {},
   "outputs": [],
   "source": [
    "root = TrieNode('*')\n",
    "add(root, \"have\")\n",
    "add(root, 'has')\n",
    "add(root, 'money')\n",
    "add(root, 'have')\n",
    "add(root, 'having')\n",
    "add(root, 'havana')"
   ]
  },
  {
   "cell_type": "code",
   "execution_count": 278,
   "id": "804c3e1a",
   "metadata": {},
   "outputs": [
    {
     "data": {
      "text/plain": [
       "{'char': '*',\n",
       " 'children': [<__main__.TrieNode at 0x7fb7171baa60>,\n",
       "  <__main__.TrieNode at 0x7fb7170a7be0>],\n",
       " 'word_finished': False,\n",
       " 'counter': 1}"
      ]
     },
     "execution_count": 278,
     "metadata": {},
     "output_type": "execute_result"
    }
   ],
   "source": [
    "root.__dict__"
   ]
  },
  {
   "cell_type": "code",
   "execution_count": 279,
   "id": "72f34f99",
   "metadata": {},
   "outputs": [
    {
     "data": {
      "text/plain": [
       "'*'"
      ]
     },
     "execution_count": 279,
     "metadata": {},
     "output_type": "execute_result"
    }
   ],
   "source": [
    "root.char"
   ]
  },
  {
   "cell_type": "code",
   "execution_count": 280,
   "id": "bb2cc0e7",
   "metadata": {},
   "outputs": [
    {
     "data": {
      "text/plain": [
       "['h', 'm']"
      ]
     },
     "execution_count": 280,
     "metadata": {},
     "output_type": "execute_result"
    }
   ],
   "source": [
    "[r.char for r in root.children]"
   ]
  },
  {
   "cell_type": "markdown",
   "id": "732b557a",
   "metadata": {},
   "source": [
    "## Check if a word is in a trie"
   ]
  },
  {
   "cell_type": "code",
   "execution_count": 281,
   "id": "96b1b85e",
   "metadata": {},
   "outputs": [],
   "source": [
    "\n",
    "def _check_char_in_children(char, node):\n",
    "    \"\"\"Update `node` and `found_in_children` flag variable and return them.\n",
    "    \n",
    "    If `char` is in a children of `node` return the matching node and  `found_in_children=True`.\n",
    "    Otherwise, return the incoming node and `found_in_children=False`\n",
    "    \"\"\"\n",
    "    found_in_children = False\n",
    "    for node_children in node.children:\n",
    "        if node_children.char == char:\n",
    "            node = node_children         # modifies node\n",
    "            found_in_children = True\n",
    "            break\n",
    "    return found_in_children, node\n",
    "    "
   ]
  },
  {
   "cell_type": "code",
   "execution_count": 282,
   "id": "fc729ca1",
   "metadata": {},
   "outputs": [],
   "source": [
    "def word_in_trie(root, word: str):\n",
    "    \"\"\"Check if a word is in a trie\n",
    "    \"\"\"\n",
    "    node = root\n",
    "    word_finished = False\n",
    "    for char in word:\n",
    "        found_in_children, node = _check_char_in_children(char, node)\n",
    "        word_finished = node.word_finished\n",
    "        if not found_in_children:\n",
    "            return False\n",
    "        \n",
    "    return word_finished"
   ]
  },
  {
   "cell_type": "code",
   "execution_count": 283,
   "id": "7ad500f7",
   "metadata": {},
   "outputs": [
    {
     "name": "stdout",
     "output_type": "stream",
     "text": [
      "False\n",
      "True\n",
      "True\n"
     ]
    }
   ],
   "source": [
    "print(word_in_trie(root,'ha'))\n",
    "print(word_in_trie(root,'has'))\n",
    "print(word_in_trie(root,'have'))"
   ]
  },
  {
   "cell_type": "code",
   "execution_count": 284,
   "id": "f4723b0b",
   "metadata": {},
   "outputs": [],
   "source": [
    "def wordcounts_in_trie(root, word: str):\n",
    "    \"\"\"Check if a word is in a trie\n",
    "    \"\"\"\n",
    "    node = root\n",
    "    word_counts = 0\n",
    "    word_finished = False\n",
    "    for char in word:\n",
    "        found_in_children, node = _check_char_in_children(char, node)\n",
    "        word_counts = node.counter\n",
    "        word_finished = node.word_finished        \n",
    "        if not found_in_children:\n",
    "            return 0\n",
    "        \n",
    "    return word_counts * word_finished"
   ]
  },
  {
   "cell_type": "code",
   "execution_count": 285,
   "id": "8e085967",
   "metadata": {},
   "outputs": [
    {
     "name": "stdout",
     "output_type": "stream",
     "text": [
      "0\n",
      "1\n",
      "2\n"
     ]
    }
   ],
   "source": [
    "print(wordcounts_in_trie(root, 'ha'))\n",
    "print(wordcounts_in_trie(root, 'has'))\n",
    "print(wordcounts_in_trie(root, 'have'))"
   ]
  },
  {
   "cell_type": "markdown",
   "id": "681b8d80",
   "metadata": {},
   "source": [
    "## Check if a prefix is in a trie"
   ]
  },
  {
   "cell_type": "code",
   "execution_count": 286,
   "id": "4964a2da",
   "metadata": {},
   "outputs": [],
   "source": [
    "def prefix_in_trie(root, word: str):\n",
    "    \"\"\"Add operation of a Trie.\n",
    "    \"\"\"\n",
    "    node = root\n",
    "    for char in word:\n",
    "        found_in_children, node = _check_char_in_children(char, node)\n",
    "        if not found_in_children:\n",
    "            return False\n",
    "        \n",
    "    return True"
   ]
  },
  {
   "cell_type": "code",
   "execution_count": 287,
   "id": "6f511061",
   "metadata": {},
   "outputs": [
    {
     "name": "stdout",
     "output_type": "stream",
     "text": [
      "True\n",
      "True\n",
      "True\n"
     ]
    }
   ],
   "source": [
    "print(prefix_in_trie(root,'ha'))\n",
    "print(prefix_in_trie(root,'has'))\n",
    "print(prefix_in_trie(root,'have'))"
   ]
  },
  {
   "cell_type": "markdown",
   "id": "d0ebbcee",
   "metadata": {},
   "source": [
    "## Return all nodes (if any) that begin with a given string prefix.\n",
    "\n",
    "This problem is the classical 'autocomplete' problem"
   ]
  },
  {
   "cell_type": "code",
   "execution_count": 315,
   "id": "38276c17",
   "metadata": {},
   "outputs": [],
   "source": [
    "def prefix_node_in_trie(root, word: str):\n",
    "    \"\"\"find node that matches a prefix\n",
    "    \"\"\"\n",
    "    node = root\n",
    "    for char in word:\n",
    "        found_in_children, node = _check_char_in_children(char, node)\n",
    "        if not found_in_children:\n",
    "            return False\n",
    "        \n",
    "    return node"
   ]
  },
  {
   "cell_type": "code",
   "execution_count": 316,
   "id": "d9c965db",
   "metadata": {},
   "outputs": [],
   "source": [
    "prefix = 'hav'\n",
    "root_pref = prefix_node_in_trie(root,prefix)"
   ]
  },
  {
   "cell_type": "code",
   "execution_count": 317,
   "id": "353b9093",
   "metadata": {},
   "outputs": [],
   "source": [
    "def iterate_until_leave(node, prefix, words):\n",
    "    if node.word_finished:\n",
    "        words.append(prefix)\n",
    "    for child in node.children:\n",
    "        iterate_until_leave(child, prefix + child.char, words)"
   ]
  },
  {
   "cell_type": "code",
   "execution_count": 321,
   "id": "c861327d",
   "metadata": {},
   "outputs": [
    {
     "data": {
      "text/plain": [
       "['have', 'having', 'havana']"
      ]
     },
     "execution_count": 321,
     "metadata": {},
     "output_type": "execute_result"
    }
   ],
   "source": [
    "prefix = 'hav'\n",
    "words = []\n",
    "iterate_until_leave(root_pref, prefix, words)\n",
    "words"
   ]
  },
  {
   "cell_type": "code",
   "execution_count": 326,
   "id": "7e22a8e6",
   "metadata": {},
   "outputs": [
    {
     "data": {
      "text/plain": [
       "['have', 'having', 'havana', 'has']"
      ]
     },
     "execution_count": 326,
     "metadata": {},
     "output_type": "execute_result"
    }
   ],
   "source": [
    "prefix = 'ha'\n",
    "words = []\n",
    "root_pref = prefix_node_in_trie(root, prefix)\n",
    "iterate_until_leave(root_pref, prefix, words)\n",
    "words"
   ]
  },
  {
   "cell_type": "markdown",
   "id": "5326c758",
   "metadata": {},
   "source": [
    "## Printing all words in a trie\n",
    "\n",
    "We want to iterate over all paths from the root node of the tree until a leave (a leave is a node with `termination=True`.\n",
    "\n",
    "This process will generate all words stored in the trie."
   ]
  },
  {
   "cell_type": "code",
   "execution_count": 327,
   "id": "4fd7ff00",
   "metadata": {},
   "outputs": [],
   "source": [
    "words = []\n",
    "\n",
    "prefix = ''\n",
    "def iterate_until_leave(node, prefix, words):\n",
    "    if node.word_finished:\n",
    "        words.append(prefix)\n",
    "    for child in node.children:\n",
    "        iterate_until_leave(child, prefix + child.char, words)"
   ]
  },
  {
   "cell_type": "code",
   "execution_count": 338,
   "id": "ed7a7c4f",
   "metadata": {},
   "outputs": [
    {
     "name": "stdout",
     "output_type": "stream",
     "text": [
      "3.5 µs ± 70.2 ns per loop (mean ± std. dev. of 7 runs, 100000 loops each)\n"
     ]
    }
   ],
   "source": [
    "%%timeit\n",
    "words = []\n",
    "iterate_until_leave(root, prefix, words)\n",
    "words"
   ]
  },
  {
   "cell_type": "markdown",
   "id": "c2cd60df",
   "metadata": {},
   "source": [
    "## Find Prefix"
   ]
  },
  {
   "cell_type": "code",
   "execution_count": 228,
   "id": "b7b0146f",
   "metadata": {},
   "outputs": [],
   "source": [
    "from typing import Tuple\n",
    "\n",
    "\n",
    "def find_prefix(root, prefix: str) -> Tuple[bool, int]:\n",
    "    \"\"\"\n",
    "    Check and return \n",
    "      1. If the prefix exsists in any of the words we added so far\n",
    "      2. If yes then how may words actually have the prefix\n",
    "    \"\"\"\n",
    "    node = root\n",
    "    # If the root node has no children, then return False.\n",
    "    # Because it means we are trying to search in an empty trie\n",
    "    if not root.children:\n",
    "        return False, 0\n",
    "    for char in prefix:\n",
    "        char_not_found = True\n",
    "        # Search through all the children of the present `node`\n",
    "        for child in node.children:\n",
    "            if child.char == char:\n",
    "                # We found the char existing in the child.\n",
    "                char_not_found = False\n",
    "                # Assign node as the child containing the char and break\n",
    "                node = child\n",
    "                break\n",
    "        # Return False anyway when we did not find a char.\n",
    "        if char_not_found:\n",
    "            return False, 0\n",
    "    # Well, we are here means we have found the prefix. Return true to indicate that\n",
    "    # And also the counter of the last node. This indicates how many words have this\n",
    "    # prefix\n",
    "    return True, node.counter"
   ]
  },
  {
   "cell_type": "code",
   "execution_count": 238,
   "id": "9edfc55c",
   "metadata": {},
   "outputs": [
    {
     "name": "stdout",
     "output_type": "stream",
     "text": [
      "(True, 2)\n"
     ]
    }
   ],
   "source": [
    "print(find_prefix(root, 'hav'))"
   ]
  },
  {
   "cell_type": "code",
   "execution_count": null,
   "id": "2239cd74",
   "metadata": {},
   "outputs": [],
   "source": []
  }
 ],
 "metadata": {
  "kernelspec": {
   "display_name": "Python 3",
   "language": "python",
   "name": "python3"
  },
  "language_info": {
   "codemirror_mode": {
    "name": "ipython",
    "version": 3
   },
   "file_extension": ".py",
   "mimetype": "text/x-python",
   "name": "python",
   "nbconvert_exporter": "python",
   "pygments_lexer": "ipython3",
   "version": "3.8.8"
  }
 },
 "nbformat": 4,
 "nbformat_minor": 5
}

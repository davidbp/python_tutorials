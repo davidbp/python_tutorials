{
 "cells": [
  {
   "cell_type": "code",
   "execution_count": 1,
   "id": "1d69bcbe",
   "metadata": {
    "scrolled": false
   },
   "outputs": [],
   "source": [
    "%load_ext autoreload\n",
    "%autoreload 2"
   ]
  },
  {
   "cell_type": "code",
   "execution_count": 2,
   "id": "5e60c956",
   "metadata": {},
   "outputs": [],
   "source": [
    "import prefixcompleter\n",
    "from prefixcompleter import Trie"
   ]
  },
  {
   "cell_type": "code",
   "execution_count": 3,
   "id": "2077439f",
   "metadata": {},
   "outputs": [],
   "source": [
    "words = [\"have\", 'has', 'money', 'have', 'having', 'havana']"
   ]
  },
  {
   "cell_type": "code",
   "execution_count": 4,
   "id": "d246c76c",
   "metadata": {},
   "outputs": [
    {
     "data": {
      "text/plain": [
       "['have', 'having', 'havana', 'has', 'money']"
      ]
     },
     "execution_count": 4,
     "metadata": {},
     "output_type": "execute_result"
    }
   ],
   "source": [
    "autocompleter = Trie()\n",
    "autocompleter.fit(words)\n",
    "autocompleter.words"
   ]
  },
  {
   "cell_type": "markdown",
   "id": "55ea7d62",
   "metadata": {},
   "source": [
    "Show all words that have prefix 'hav'"
   ]
  },
  {
   "cell_type": "code",
   "execution_count": 5,
   "id": "644d9f1f",
   "metadata": {},
   "outputs": [
    {
     "data": {
      "text/plain": [
       "['have', 'having', 'havana']"
      ]
     },
     "execution_count": 5,
     "metadata": {},
     "output_type": "execute_result"
    }
   ],
   "source": [
    "autocompleter.find_words_with_prefix('hav')"
   ]
  },
  {
   "cell_type": "code",
   "execution_count": 6,
   "id": "fac57497",
   "metadata": {},
   "outputs": [
    {
     "data": {
      "text/plain": [
       "[]"
      ]
     },
     "execution_count": 6,
     "metadata": {},
     "output_type": "execute_result"
    }
   ],
   "source": [
    "autocompleter.find_words_with_prefix('x')"
   ]
  },
  {
   "cell_type": "markdown",
   "id": "8c70b8e2",
   "metadata": {},
   "source": [
    "Count how many times a word has been observed"
   ]
  },
  {
   "cell_type": "code",
   "execution_count": 7,
   "id": "bb2c135c",
   "metadata": {},
   "outputs": [
    {
     "name": "stdout",
     "output_type": "stream",
     "text": [
      "0\n",
      "1\n",
      "2\n"
     ]
    }
   ],
   "source": [
    "print(autocompleter.word_count('ha'))\n",
    "print(autocompleter.word_count('has'))\n",
    "print(autocompleter.word_count('have'))"
   ]
  },
  {
   "cell_type": "markdown",
   "id": "54638b6b",
   "metadata": {},
   "source": [
    "#### Bigger example"
   ]
  },
  {
   "cell_type": "code",
   "execution_count": 8,
   "id": "b728f3e4",
   "metadata": {},
   "outputs": [],
   "source": [
    "import sklearn"
   ]
  },
  {
   "cell_type": "code",
   "execution_count": 9,
   "id": "69137a46",
   "metadata": {},
   "outputs": [],
   "source": [
    "from sklearn.datasets import fetch_20newsgroups"
   ]
  },
  {
   "cell_type": "code",
   "execution_count": 10,
   "id": "6b557798",
   "metadata": {},
   "outputs": [],
   "source": [
    "dataset = fetch_20newsgroups()"
   ]
  },
  {
   "cell_type": "code",
   "execution_count": 17,
   "id": "1e53a13c",
   "metadata": {},
   "outputs": [],
   "source": [
    "import re\n",
    "token_pattern = r\"(?u)\\b\\w\\w+\\b\"\n",
    "token_pattern = re.compile(token_pattern)"
   ]
  },
  {
   "cell_type": "code",
   "execution_count": 18,
   "id": "ea251703",
   "metadata": {},
   "outputs": [],
   "source": [
    "autocompleter = Trie()"
   ]
  },
  {
   "cell_type": "code",
   "execution_count": 19,
   "id": "9ffe983a",
   "metadata": {},
   "outputs": [
    {
     "name": "stdout",
     "output_type": "stream",
     "text": [
      "CPU times: user 16.9 s, sys: 117 ms, total: 17 s\n",
      "Wall time: 17.1 s\n"
     ]
    }
   ],
   "source": [
    "%%time\n",
    "for doc in dataset.data:\n",
    "    words = token_pattern.findall(doc)\n",
    "    autocompleter.fit(words)"
   ]
  },
  {
   "cell_type": "code",
   "execution_count": 23,
   "id": "11f298e2",
   "metadata": {},
   "outputs": [
    {
     "name": "stdout",
     "output_type": "stream",
     "text": [
      "CPU times: user 181 ms, sys: 10.6 ms, total: 192 ms\n",
      "Wall time: 193 ms\n"
     ]
    },
    {
     "data": {
      "text/plain": [
       "155448"
      ]
     },
     "execution_count": 23,
     "metadata": {},
     "output_type": "execute_result"
    }
   ],
   "source": [
    "%%time\n",
    "len(autocompleter.words)"
   ]
  },
  {
   "cell_type": "code",
   "execution_count": 25,
   "id": "7ebebf4d",
   "metadata": {},
   "outputs": [
    {
     "name": "stdout",
     "output_type": "stream",
     "text": [
      "CPU times: user 55 µs, sys: 1 µs, total: 56 µs\n",
      "Wall time: 56.7 µs\n"
     ]
    },
    {
     "data": {
      "text/plain": [
       "['hou',\n",
       " 'hour',\n",
       " 'hours',\n",
       " 'hourglass',\n",
       " 'hourly',\n",
       " 'house',\n",
       " 'housekeeping',\n",
       " 'housed',\n",
       " 'houses',\n",
       " 'household',\n",
       " 'households',\n",
       " 'housewares',\n",
       " 'housewarming',\n",
       " 'housewives',\n",
       " 'houselights',\n",
       " 'housing',\n",
       " 'housings',\n",
       " 'houston',\n",
       " 'houghton',\n",
       " 'hougen',\n",
       " 'hould',\n",
       " 'hoult',\n",
       " 'hou281',\n",
       " 'hound',\n",
       " 'hounds',\n",
       " 'hounding',\n",
       " 'hounded',\n",
       " 'houxa']"
      ]
     },
     "execution_count": 25,
     "metadata": {},
     "output_type": "execute_result"
    }
   ],
   "source": [
    "%%time\n",
    "autocompleter.find_words_with_prefix('hou')"
   ]
  },
  {
   "cell_type": "code",
   "execution_count": null,
   "id": "6a877fd6",
   "metadata": {},
   "outputs": [],
   "source": []
  }
 ],
 "metadata": {
  "kernelspec": {
   "display_name": "Python 3",
   "language": "python",
   "name": "python3"
  },
  "language_info": {
   "codemirror_mode": {
    "name": "ipython",
    "version": 3
   },
   "file_extension": ".py",
   "mimetype": "text/x-python",
   "name": "python",
   "nbconvert_exporter": "python",
   "pygments_lexer": "ipython3",
   "version": "3.8.8"
  }
 },
 "nbformat": 4,
 "nbformat_minor": 5
}

{
 "cells": [
  {
   "cell_type": "markdown",
   "metadata": {
    "toc": true
   },
   "source": [
    "<h1>Table of Contents<span class=\"tocSkip\"></span></h1>\n",
    "<div class=\"toc\"><ul class=\"toc-item\"><li><ul class=\"toc-item\"><li><span><a href=\"#Using-bigger-data\" data-toc-modified-id=\"Using-bigger-data-0.1\"><span class=\"toc-item-num\">0.1&nbsp;&nbsp;</span>Using bigger data</a></span><ul class=\"toc-item\"><li><span><a href=\"#Training-data\" data-toc-modified-id=\"Training-data-0.1.1\"><span class=\"toc-item-num\">0.1.1&nbsp;&nbsp;</span>Training data</a></span></li></ul></li></ul></li><li><span><a href=\"#Using-bktree\" data-toc-modified-id=\"Using-bktree-1\"><span class=\"toc-item-num\">1&nbsp;&nbsp;</span>Using bktree</a></span></li><li><span><a href=\"#No-bktree\" data-toc-modified-id=\"No-bktree-2\"><span class=\"toc-item-num\">2&nbsp;&nbsp;</span>No bktree</a></span></li></ul></div>"
   ]
  },
  {
   "cell_type": "code",
   "execution_count": 1,
   "metadata": {
    "ExecuteTime": {
     "end_time": "2021-05-02T18:09:16.191756Z",
     "start_time": "2021-05-02T18:09:16.171221Z"
    }
   },
   "outputs": [],
   "source": [
    "%load_ext autoreload\n",
    "%autoreload 2"
   ]
  },
  {
   "cell_type": "code",
   "execution_count": 2,
   "metadata": {
    "ExecuteTime": {
     "end_time": "2021-05-02T18:09:16.461590Z",
     "start_time": "2021-05-02T18:09:16.335683Z"
    }
   },
   "outputs": [
    {
     "name": "stdout",
     "output_type": "stream",
     "text": [
      "__init__.py   \u001b[1m\u001b[34mdata\u001b[m\u001b[m/         \u001b[1m\u001b[34mnotebooks\u001b[m\u001b[m/    \u001b[1m\u001b[34mpyngramspell\u001b[m\u001b[m/\r\n"
     ]
    }
   ],
   "source": [
    "ls .."
   ]
  },
  {
   "cell_type": "code",
   "execution_count": 3,
   "metadata": {
    "ExecuteTime": {
     "end_time": "2021-05-02T18:09:17.159504Z",
     "start_time": "2021-05-02T18:09:17.147422Z"
    }
   },
   "outputs": [],
   "source": [
    "import os,sys,inspect\n",
    "currentdir = os.path.dirname(os.path.abspath(inspect.getfile(inspect.currentframe())))\n",
    "parentdir = os.path.dirname(currentdir)\n",
    "sys.path.insert(0,parentdir) "
   ]
  },
  {
   "cell_type": "code",
   "execution_count": 4,
   "metadata": {
    "ExecuteTime": {
     "end_time": "2021-05-02T18:09:18.360138Z",
     "start_time": "2021-05-02T18:09:17.461226Z"
    }
   },
   "outputs": [],
   "source": [
    "import data\n",
    "from data import utils\n",
    "\n",
    "train, test = utils.get_evaluation()\n",
    "\n",
    "X_tr = [x['original'] for x in train]\n",
    "y_tr = [x['corrected'] for x in train]\n",
    "X_te = [x['original'] for x in test]\n",
    "y_te = [x['corrected'] for x in test]\n",
    "\n",
    "train_data = [' '.join(x) for x in y_tr]"
   ]
  },
  {
   "cell_type": "code",
   "execution_count": 5,
   "metadata": {
    "ExecuteTime": {
     "end_time": "2021-05-02T18:09:18.905839Z",
     "start_time": "2021-05-02T18:09:18.885903Z"
    }
   },
   "outputs": [],
   "source": [
    "import pyngramspell\n",
    "speller = pyngramspell.PyNgramSpell()"
   ]
  },
  {
   "cell_type": "code",
   "execution_count": 6,
   "metadata": {
    "ExecuteTime": {
     "end_time": "2021-05-02T18:09:19.274294Z",
     "start_time": "2021-05-02T18:09:19.215683Z"
    },
    "scrolled": true
   },
   "outputs": [],
   "source": [
    "speller.fit(train_data)"
   ]
  },
  {
   "cell_type": "code",
   "execution_count": 7,
   "metadata": {
    "ExecuteTime": {
     "end_time": "2021-05-02T18:09:19.494675Z",
     "start_time": "2021-05-02T18:09:19.470931Z"
    }
   },
   "outputs": [
    {
     "data": {
      "text/plain": [
       "['the', 'man', 'went', 'to', 'the', 'store']"
      ]
     },
     "execution_count": 7,
     "metadata": {},
     "output_type": "execute_result"
    }
   ],
   "source": [
    "speller.transform('the maan went to the store')"
   ]
  },
  {
   "cell_type": "code",
   "execution_count": 8,
   "metadata": {
    "ExecuteTime": {
     "end_time": "2021-05-02T18:09:19.684610Z",
     "start_time": "2021-05-02T18:09:19.665692Z"
    }
   },
   "outputs": [
    {
     "data": {
      "text/plain": [
       "['red', 'shirtt']"
      ]
     },
     "execution_count": 8,
     "metadata": {},
     "output_type": "execute_result"
    }
   ],
   "source": [
    "speller.transform('red shirtt')"
   ]
  },
  {
   "cell_type": "code",
   "execution_count": 9,
   "metadata": {
    "ExecuteTime": {
     "end_time": "2021-05-02T18:09:31.689420Z",
     "start_time": "2021-05-02T18:09:31.666413Z"
    }
   },
   "outputs": [
    {
     "name": "stdout",
     "output_type": "stream",
     "text": [
      "CPU times: user 194 µs, sys: 25 µs, total: 219 µs\n",
      "Wall time: 236 µs\n"
     ]
    },
    {
     "data": {
      "text/plain": [
       "['red', 'shirtt']"
      ]
     },
     "execution_count": 9,
     "metadata": {},
     "output_type": "execute_result"
    }
   ],
   "source": [
    "%%time \n",
    "speller.transform('red shirtt')"
   ]
  },
  {
   "cell_type": "markdown",
   "metadata": {},
   "source": [
    "### Using bigger data"
   ]
  },
  {
   "cell_type": "markdown",
   "metadata": {},
   "source": [
    "#### Training data\n",
    "\n",
    "\n",
    "The dataset used to train the model comes from  https://jmcauley.ucsd.edu/data/amazon/\n",
    "\n",
    "The `Video_Games_5.json` can be downloaded from \n",
    "http://snap.stanford.edu/data/amazon/productGraph/categoryFiles/reviews_Video_Games_5.json.gz"
   ]
  },
  {
   "cell_type": "code",
   "execution_count": 10,
   "metadata": {
    "ExecuteTime": {
     "end_time": "2021-05-02T18:09:33.811113Z",
     "start_time": "2021-05-02T18:09:33.540949Z"
    }
   },
   "outputs": [],
   "source": [
    "import pandas as pd\n",
    "from os.path import expanduser\n",
    "home = expanduser(\"~\")"
   ]
  },
  {
   "cell_type": "code",
   "execution_count": 11,
   "metadata": {
    "ExecuteTime": {
     "end_time": "2021-05-02T18:09:36.810534Z",
     "start_time": "2021-05-02T18:09:33.877943Z"
    }
   },
   "outputs": [],
   "source": [
    "dataset_path = os.path.join(home,'Datasets/amazon_product_data/reviews_Video_Games_5.json')\n",
    "df = pd.read_json(dataset_path, lines=True)"
   ]
  },
  {
   "cell_type": "code",
   "execution_count": 12,
   "metadata": {
    "ExecuteTime": {
     "end_time": "2021-05-02T18:09:36.921699Z",
     "start_time": "2021-05-02T18:09:36.888033Z"
    }
   },
   "outputs": [
    {
     "data": {
      "text/html": [
       "<div>\n",
       "<style scoped>\n",
       "    .dataframe tbody tr th:only-of-type {\n",
       "        vertical-align: middle;\n",
       "    }\n",
       "\n",
       "    .dataframe tbody tr th {\n",
       "        vertical-align: top;\n",
       "    }\n",
       "\n",
       "    .dataframe thead th {\n",
       "        text-align: right;\n",
       "    }\n",
       "</style>\n",
       "<table border=\"1\" class=\"dataframe\">\n",
       "  <thead>\n",
       "    <tr style=\"text-align: right;\">\n",
       "      <th></th>\n",
       "      <th>reviewerID</th>\n",
       "      <th>asin</th>\n",
       "      <th>reviewerName</th>\n",
       "      <th>helpful</th>\n",
       "      <th>reviewText</th>\n",
       "      <th>overall</th>\n",
       "      <th>summary</th>\n",
       "      <th>unixReviewTime</th>\n",
       "      <th>reviewTime</th>\n",
       "    </tr>\n",
       "  </thead>\n",
       "  <tbody>\n",
       "    <tr>\n",
       "      <th>0</th>\n",
       "      <td>A2HD75EMZR8QLN</td>\n",
       "      <td>0700099867</td>\n",
       "      <td>123</td>\n",
       "      <td>[8, 12]</td>\n",
       "      <td>Installing the game was a struggle (because of...</td>\n",
       "      <td>1</td>\n",
       "      <td>Pay to unlock content? I don't think so.</td>\n",
       "      <td>1341792000</td>\n",
       "      <td>07 9, 2012</td>\n",
       "    </tr>\n",
       "    <tr>\n",
       "      <th>1</th>\n",
       "      <td>A3UR8NLLY1ZHCX</td>\n",
       "      <td>0700099867</td>\n",
       "      <td>Alejandro Henao \"Electronic Junky\"</td>\n",
       "      <td>[0, 0]</td>\n",
       "      <td>If you like rally cars get this game you will ...</td>\n",
       "      <td>4</td>\n",
       "      <td>Good rally game</td>\n",
       "      <td>1372550400</td>\n",
       "      <td>06 30, 2013</td>\n",
       "    </tr>\n",
       "    <tr>\n",
       "      <th>2</th>\n",
       "      <td>A1INA0F5CWW3J4</td>\n",
       "      <td>0700099867</td>\n",
       "      <td>Amazon Shopper \"Mr.Repsol\"</td>\n",
       "      <td>[0, 0]</td>\n",
       "      <td>1st shipment received a book instead of the ga...</td>\n",
       "      <td>1</td>\n",
       "      <td>Wrong key</td>\n",
       "      <td>1403913600</td>\n",
       "      <td>06 28, 2014</td>\n",
       "    </tr>\n",
       "    <tr>\n",
       "      <th>3</th>\n",
       "      <td>A1DLMTOTHQ4AST</td>\n",
       "      <td>0700099867</td>\n",
       "      <td>ampgreen</td>\n",
       "      <td>[7, 10]</td>\n",
       "      <td>I got this version instead of the PS3 version,...</td>\n",
       "      <td>3</td>\n",
       "      <td>awesome game, if it did not crash frequently !!</td>\n",
       "      <td>1315958400</td>\n",
       "      <td>09 14, 2011</td>\n",
       "    </tr>\n",
       "    <tr>\n",
       "      <th>4</th>\n",
       "      <td>A361M14PU2GUEG</td>\n",
       "      <td>0700099867</td>\n",
       "      <td>Angry Ryan \"Ryan A. Forrest\"</td>\n",
       "      <td>[2, 2]</td>\n",
       "      <td>I had Dirt 2 on Xbox 360 and it was an okay ga...</td>\n",
       "      <td>4</td>\n",
       "      <td>DIRT 3</td>\n",
       "      <td>1308009600</td>\n",
       "      <td>06 14, 2011</td>\n",
       "    </tr>\n",
       "  </tbody>\n",
       "</table>\n",
       "</div>"
      ],
      "text/plain": [
       "       reviewerID        asin                        reviewerName  helpful  \\\n",
       "0  A2HD75EMZR8QLN  0700099867                                 123  [8, 12]   \n",
       "1  A3UR8NLLY1ZHCX  0700099867  Alejandro Henao \"Electronic Junky\"   [0, 0]   \n",
       "2  A1INA0F5CWW3J4  0700099867          Amazon Shopper \"Mr.Repsol\"   [0, 0]   \n",
       "3  A1DLMTOTHQ4AST  0700099867                            ampgreen  [7, 10]   \n",
       "4  A361M14PU2GUEG  0700099867        Angry Ryan \"Ryan A. Forrest\"   [2, 2]   \n",
       "\n",
       "                                          reviewText  overall  \\\n",
       "0  Installing the game was a struggle (because of...        1   \n",
       "1  If you like rally cars get this game you will ...        4   \n",
       "2  1st shipment received a book instead of the ga...        1   \n",
       "3  I got this version instead of the PS3 version,...        3   \n",
       "4  I had Dirt 2 on Xbox 360 and it was an okay ga...        4   \n",
       "\n",
       "                                           summary  unixReviewTime  \\\n",
       "0         Pay to unlock content? I don't think so.      1341792000   \n",
       "1                                  Good rally game      1372550400   \n",
       "2                                        Wrong key      1403913600   \n",
       "3  awesome game, if it did not crash frequently !!      1315958400   \n",
       "4                                           DIRT 3      1308009600   \n",
       "\n",
       "    reviewTime  \n",
       "0   07 9, 2012  \n",
       "1  06 30, 2013  \n",
       "2  06 28, 2014  \n",
       "3  09 14, 2011  \n",
       "4  06 14, 2011  "
      ]
     },
     "execution_count": 12,
     "metadata": {},
     "output_type": "execute_result"
    }
   ],
   "source": [
    "df.head()"
   ]
  },
  {
   "cell_type": "code",
   "execution_count": 13,
   "metadata": {
    "ExecuteTime": {
     "end_time": "2021-05-02T18:09:37.053634Z",
     "start_time": "2021-05-02T18:09:37.001960Z"
    }
   },
   "outputs": [],
   "source": [
    "train_data = list(df['reviewText'])"
   ]
  },
  {
   "cell_type": "markdown",
   "metadata": {},
   "source": [
    "## Using bktree"
   ]
  },
  {
   "cell_type": "code",
   "execution_count": 14,
   "metadata": {
    "ExecuteTime": {
     "end_time": "2021-05-02T18:11:17.195366Z",
     "start_time": "2021-05-02T18:09:39.650907Z"
    }
   },
   "outputs": [],
   "source": [
    "import pyngramspell\n",
    "speller_bktree = pyngramspell.PyNgramSpell(min_freq=20,\n",
    "                                           bktree=True)\n",
    "\n",
    "speller_bktree.fit(train_data)"
   ]
  },
  {
   "cell_type": "code",
   "execution_count": 15,
   "metadata": {
    "ExecuteTime": {
     "end_time": "2021-05-02T18:11:19.883852Z",
     "start_time": "2021-05-02T18:11:19.860033Z"
    }
   },
   "outputs": [
    {
     "data": {
      "text/plain": [
       "26484"
      ]
     },
     "execution_count": 15,
     "metadata": {},
     "output_type": "execute_result"
    }
   ],
   "source": [
    "len(speller_bktree.vocabulary)"
   ]
  },
  {
   "cell_type": "code",
   "execution_count": 16,
   "metadata": {
    "ExecuteTime": {
     "end_time": "2021-05-02T18:11:22.606575Z",
     "start_time": "2021-05-02T18:11:22.573593Z"
    },
    "scrolled": true
   },
   "outputs": [
    {
     "data": {
      "text/plain": [
       "['xbox', '360', 'collector', 'edition']"
      ]
     },
     "execution_count": 16,
     "metadata": {},
     "output_type": "execute_result"
    }
   ],
   "source": [
    "speller_bktree.transform('xboj 360 colector edition')"
   ]
  },
  {
   "cell_type": "code",
   "execution_count": 17,
   "metadata": {
    "ExecuteTime": {
     "end_time": "2021-05-02T18:11:25.713498Z",
     "start_time": "2021-05-02T18:11:25.271501Z"
    }
   },
   "outputs": [
    {
     "data": {
      "text/plain": [
       "['psp', 'black', 'edition']"
      ]
     },
     "execution_count": 17,
     "metadata": {},
     "output_type": "execute_result"
    }
   ],
   "source": [
    "speller_bktree.transform('pssp blac edition')"
   ]
  },
  {
   "cell_type": "code",
   "execution_count": 18,
   "metadata": {
    "ExecuteTime": {
     "end_time": "2021-05-02T18:11:29.227956Z",
     "start_time": "2021-05-02T18:11:28.346494Z"
    }
   },
   "outputs": [
    {
     "data": {
      "text/plain": [
       "['new', 'playstation', 'game', 'batman']"
      ]
     },
     "execution_count": 18,
     "metadata": {},
     "output_type": "execute_result"
    }
   ],
   "source": [
    "speller_bktree.transform('new playstation game batmen')"
   ]
  },
  {
   "cell_type": "code",
   "execution_count": 19,
   "metadata": {
    "ExecuteTime": {
     "end_time": "2021-05-02T18:11:31.972898Z",
     "start_time": "2021-05-02T18:11:31.927044Z"
    }
   },
   "outputs": [
    {
     "data": {
      "text/plain": [
       "['playstion',\n",
       " 'levitation',\n",
       " 'playstaion',\n",
       " 'playstation',\n",
       " 'playstation3',\n",
       " 'playstation2',\n",
       " 'playstations']"
      ]
     },
     "execution_count": 19,
     "metadata": {},
     "output_type": "execute_result"
    }
   ],
   "source": [
    " speller_bktree.get_candidates(\"pleystation\", max_dist=3)"
   ]
  },
  {
   "cell_type": "code",
   "execution_count": 20,
   "metadata": {
    "ExecuteTime": {
     "end_time": "2021-05-02T18:11:45.941947Z",
     "start_time": "2021-05-02T18:11:34.663351Z"
    }
   },
   "outputs": [
    {
     "name": "stdout",
     "output_type": "stream",
     "text": [
      "13.8 ms ± 80.7 µs per loop (mean ± std. dev. of 7 runs, 100 loops each)\n"
     ]
    }
   ],
   "source": [
    "%%timeit\n",
    "speller_bktree.get_candidates(\"pleystation\", max_dist=3)"
   ]
  },
  {
   "cell_type": "code",
   "execution_count": 34,
   "metadata": {
    "ExecuteTime": {
     "end_time": "2021-05-02T18:17:21.257021Z",
     "start_time": "2021-05-02T18:17:21.228887Z"
    }
   },
   "outputs": [],
   "source": [
    "ind_longest = np.argmax([x for x in map(len,list(speller_bktree.vocabulary))])"
   ]
  },
  {
   "cell_type": "code",
   "execution_count": 37,
   "metadata": {
    "ExecuteTime": {
     "end_time": "2021-05-02T18:17:43.692883Z",
     "start_time": "2021-05-02T18:17:43.669953Z"
    }
   },
   "outputs": [
    {
     "data": {
      "text/plain": [
       "'multiplayeroverall'"
      ]
     },
     "execution_count": 37,
     "metadata": {},
     "output_type": "execute_result"
    }
   ],
   "source": [
    "list(speller_bktree.vocabulary)[ind_longest]"
   ]
  },
  {
   "cell_type": "code",
   "execution_count": 38,
   "metadata": {
    "ExecuteTime": {
     "end_time": "2021-05-02T18:18:07.814095Z",
     "start_time": "2021-05-02T18:18:05.960678Z"
    }
   },
   "outputs": [
    {
     "name": "stdout",
     "output_type": "stream",
     "text": [
      "225 µs ± 1.33 µs per loop (mean ± std. dev. of 7 runs, 1000 loops each)\n"
     ]
    }
   ],
   "source": [
    "%%timeit\n",
    "speller_bktree.get_candidates(\"multyplayeroveral\", max_dist=3)"
   ]
  },
  {
   "cell_type": "markdown",
   "metadata": {},
   "source": [
    "## No bktree"
   ]
  },
  {
   "cell_type": "code",
   "execution_count": 22,
   "metadata": {
    "ExecuteTime": {
     "end_time": "2021-05-02T18:14:27.669823Z",
     "start_time": "2021-05-02T18:12:46.747410Z"
    }
   },
   "outputs": [],
   "source": [
    "speller_nobktree = pyngramspell.PyNgramSpell(min_freq=20,\n",
    "                                           bktree=False)\n",
    "\n",
    "speller_nobktree.fit(train_data)"
   ]
  },
  {
   "cell_type": "code",
   "execution_count": 23,
   "metadata": {
    "ExecuteTime": {
     "end_time": "2021-05-02T18:14:30.472280Z",
     "start_time": "2021-05-02T18:14:30.343749Z"
    }
   },
   "outputs": [
    {
     "data": {
      "text/plain": [
       "['xbox', '360', 'collector', 'edition']"
      ]
     },
     "execution_count": 23,
     "metadata": {},
     "output_type": "execute_result"
    }
   ],
   "source": [
    "speller_nobktree.transform('xboj 360 colector edition')"
   ]
  },
  {
   "cell_type": "code",
   "execution_count": 24,
   "metadata": {
    "ExecuteTime": {
     "end_time": "2021-05-02T18:14:33.701652Z",
     "start_time": "2021-05-02T18:14:33.150782Z"
    }
   },
   "outputs": [
    {
     "data": {
      "text/plain": [
       "['psp', 'black', 'edition']"
      ]
     },
     "execution_count": 24,
     "metadata": {},
     "output_type": "execute_result"
    }
   ],
   "source": [
    "speller_nobktree.transform('pssp blac edition')"
   ]
  },
  {
   "cell_type": "code",
   "execution_count": 25,
   "metadata": {
    "ExecuteTime": {
     "end_time": "2021-05-02T18:14:37.295664Z",
     "start_time": "2021-05-02T18:14:36.379810Z"
    }
   },
   "outputs": [
    {
     "data": {
      "text/plain": [
       "['new', 'playstation', 'game', 'batman']"
      ]
     },
     "execution_count": 25,
     "metadata": {},
     "output_type": "execute_result"
    }
   ],
   "source": [
    "speller_nobktree.transform('new playstation game batmen')"
   ]
  },
  {
   "cell_type": "code",
   "execution_count": 26,
   "metadata": {
    "ExecuteTime": {
     "end_time": "2021-05-02T18:14:39.932131Z",
     "start_time": "2021-05-02T18:14:39.852417Z"
    }
   },
   "outputs": [
    {
     "data": {
      "text/plain": [
       "['playstion',\n",
       " 'playstaion',\n",
       " 'playstation3',\n",
       " 'levitation',\n",
       " 'playstation',\n",
       " 'playstation2',\n",
       " 'playstations']"
      ]
     },
     "execution_count": 26,
     "metadata": {},
     "output_type": "execute_result"
    }
   ],
   "source": [
    " speller_nobktree.get_candidates(\"pleystation\", max_dist=3)"
   ]
  },
  {
   "cell_type": "code",
   "execution_count": 27,
   "metadata": {
    "ExecuteTime": {
     "end_time": "2021-05-02T18:14:47.100059Z",
     "start_time": "2021-05-02T18:14:42.500971Z"
    }
   },
   "outputs": [
    {
     "name": "stdout",
     "output_type": "stream",
     "text": [
      "56.5 ms ± 445 µs per loop (mean ± std. dev. of 7 runs, 10 loops each)\n"
     ]
    }
   ],
   "source": [
    "%%timeit\n",
    "speller_nobktree.get_candidates(\"pleystation\", max_dist=3)"
   ]
  },
  {
   "cell_type": "code",
   "execution_count": 39,
   "metadata": {
    "ExecuteTime": {
     "end_time": "2021-05-02T18:18:32.198128Z",
     "start_time": "2021-05-02T18:18:27.261380Z"
    }
   },
   "outputs": [
    {
     "name": "stdout",
     "output_type": "stream",
     "text": [
      "60.5 ms ± 659 µs per loop (mean ± std. dev. of 7 runs, 10 loops each)\n"
     ]
    }
   ],
   "source": [
    "%%timeit\n",
    "speller_nobktree.get_candidates(\"multyplayeroveral\", max_dist=3)"
   ]
  }
 ],
 "metadata": {
  "kernelspec": {
   "display_name": "Python 3",
   "language": "python",
   "name": "python3"
  },
  "language_info": {
   "codemirror_mode": {
    "name": "ipython",
    "version": 3
   },
   "file_extension": ".py",
   "mimetype": "text/x-python",
   "name": "python",
   "nbconvert_exporter": "python",
   "pygments_lexer": "ipython3",
   "version": "3.8.5"
  },
  "toc": {
   "base_numbering": 1,
   "nav_menu": {},
   "number_sections": true,
   "sideBar": true,
   "skip_h1_title": false,
   "title_cell": "Table of Contents",
   "title_sidebar": "Contents",
   "toc_cell": true,
   "toc_position": {},
   "toc_section_display": true,
   "toc_window_display": true
  },
  "varInspector": {
   "cols": {
    "lenName": 16,
    "lenType": 16,
    "lenVar": 40
   },
   "kernels_config": {
    "python": {
     "delete_cmd_postfix": "",
     "delete_cmd_prefix": "del ",
     "library": "var_list.py",
     "varRefreshCmd": "print(var_dic_list())"
    },
    "r": {
     "delete_cmd_postfix": ") ",
     "delete_cmd_prefix": "rm(",
     "library": "var_list.r",
     "varRefreshCmd": "cat(var_dic_list()) "
    }
   },
   "types_to_exclude": [
    "module",
    "function",
    "builtin_function_or_method",
    "instance",
    "_Feature"
   ],
   "window_display": false
  }
 },
 "nbformat": 4,
 "nbformat_minor": 4
}

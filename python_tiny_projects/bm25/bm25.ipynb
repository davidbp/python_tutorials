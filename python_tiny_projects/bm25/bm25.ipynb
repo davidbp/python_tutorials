{
 "cells": [
  {
   "cell_type": "markdown",
   "metadata": {
    "toc": true
   },
   "source": [
    "<h1>Table of Contents<span class=\"tocSkip\"></span></h1>\n",
    "<div class=\"toc\"><ul class=\"toc-item\"><li><span><a href=\"#Material\" data-toc-modified-id=\"Material-1\"><span class=\"toc-item-num\">1&nbsp;&nbsp;</span>Material</a></span></li><li><span><a href=\"#tfidf\" data-toc-modified-id=\"tfidf-2\"><span class=\"toc-item-num\">2&nbsp;&nbsp;</span>tfidf</a></span></li><li><span><a href=\"#bm25\" data-toc-modified-id=\"bm25-3\"><span class=\"toc-item-num\">3&nbsp;&nbsp;</span>bm25</a></span></li><li><span><a href=\"#bm25-vs-tfidf\" data-toc-modified-id=\"bm25-vs-tfidf-4\"><span class=\"toc-item-num\">4&nbsp;&nbsp;</span>bm25 vs tfidf</a></span></li></ul></div>"
   ]
  },
  {
   "cell_type": "markdown",
   "metadata": {
    "ExecuteTime": {
     "end_time": "2022-06-02T17:13:11.267855Z",
     "start_time": "2022-06-02T17:13:11.264966Z"
    }
   },
   "source": [
    "## Material\n",
    "\n",
    "https://www.pinecone.io/learn/semantic-search/"
   ]
  },
  {
   "cell_type": "markdown",
   "metadata": {},
   "source": [
    "## tfidf"
   ]
  },
  {
   "cell_type": "code",
   "execution_count": 7,
   "metadata": {
    "ExecuteTime": {
     "end_time": "2022-06-02T17:01:01.153732Z",
     "start_time": "2022-06-02T17:01:01.151474Z"
    }
   },
   "outputs": [],
   "source": [
    "import numpy as np"
   ]
  },
  {
   "cell_type": "code",
   "execution_count": 11,
   "metadata": {
    "ExecuteTime": {
     "end_time": "2022-06-02T17:02:14.853773Z",
     "start_time": "2022-06-02T17:02:14.851177Z"
    }
   },
   "outputs": [],
   "source": [
    "a = 'purple is the best city in the forest'.split()\n",
    "b = 'there is an art to getting in your way and throwing bananas on the street is not it'.split()\n",
    "c = 'it is not often you find soggy bananas on the street'.split()\n",
    "\n",
    "docs = [a,b,c]"
   ]
  },
  {
   "cell_type": "code",
   "execution_count": 15,
   "metadata": {
    "ExecuteTime": {
     "end_time": "2022-06-02T17:02:22.053815Z",
     "start_time": "2022-06-02T17:02:22.050916Z"
    }
   },
   "outputs": [],
   "source": [
    "def tfidf(word, sentence, docs):\n",
    "    tf = sentence.count(word) / len(sentence)\n",
    "    idf = np.log10( len(docs)/sum([1 for doc in docs if word in doc]) )\n",
    "    return round(tf*idf, 4)"
   ]
  },
  {
   "cell_type": "code",
   "execution_count": 20,
   "metadata": {
    "ExecuteTime": {
     "end_time": "2022-06-02T17:02:35.239325Z",
     "start_time": "2022-06-02T17:02:35.236053Z"
    }
   },
   "outputs": [
    {
     "data": {
      "text/plain": [
       "0.0"
      ]
     },
     "execution_count": 20,
     "metadata": {},
     "output_type": "execute_result"
    }
   ],
   "source": [
    "tfidf('is',a, docs)"
   ]
  },
  {
   "cell_type": "code",
   "execution_count": 21,
   "metadata": {
    "ExecuteTime": {
     "end_time": "2022-06-02T17:02:35.421349Z",
     "start_time": "2022-06-02T17:02:35.417967Z"
    }
   },
   "outputs": [
    {
     "data": {
      "text/plain": [
       "0.0596"
      ]
     },
     "execution_count": 21,
     "metadata": {},
     "output_type": "execute_result"
    }
   ],
   "source": [
    "tfidf('forest',a, docs)"
   ]
  },
  {
   "cell_type": "code",
   "execution_count": 23,
   "metadata": {
    "ExecuteTime": {
     "end_time": "2022-06-02T17:03:09.362364Z",
     "start_time": "2022-06-02T17:03:09.360250Z"
    }
   },
   "outputs": [],
   "source": [
    "vocab = set(a + b + c)"
   ]
  },
  {
   "cell_type": "code",
   "execution_count": 47,
   "metadata": {
    "ExecuteTime": {
     "end_time": "2022-06-02T17:09:43.610677Z",
     "start_time": "2022-06-02T17:09:43.608062Z"
    },
    "scrolled": true
   },
   "outputs": [],
   "source": [
    "def build_tfidf(x, docs, vocab):\n",
    "    vec = []\n",
    "    for word in vocab:\n",
    "        vec.append(tfidf(word,a,docs))\n",
    "    return np.array(vec)"
   ]
  },
  {
   "cell_type": "code",
   "execution_count": 48,
   "metadata": {
    "ExecuteTime": {
     "end_time": "2022-06-02T17:09:55.124859Z",
     "start_time": "2022-06-02T17:09:43.822018Z"
    }
   },
   "outputs": [
    {
     "name": "stdout",
     "output_type": "stream",
     "text": [
      "139 µs ± 1.7 µs per loop (mean ± std. dev. of 7 runs, 10000 loops each)\n"
     ]
    }
   ],
   "source": [
    "%timeit vec_a = build_tfidf(a, docs, vocab)"
   ]
  },
  {
   "cell_type": "code",
   "execution_count": 49,
   "metadata": {
    "ExecuteTime": {
     "end_time": "2022-06-02T17:09:55.141136Z",
     "start_time": "2022-06-02T17:09:55.137503Z"
    }
   },
   "outputs": [],
   "source": [
    "word_to_pos = {w:i for i,w in enumerate(vocab)}\n",
    "\n",
    "def build_tfidf_efficient(x, docs, len_vocab):\n",
    "    vec = np.zeros(len_vocab)\n",
    "    \n",
    "    for w in x:\n",
    "        vec[word_to_pos[w]] = tfidf(w, x, docs)\n",
    "    return vec"
   ]
  },
  {
   "cell_type": "code",
   "execution_count": 50,
   "metadata": {
    "ExecuteTime": {
     "end_time": "2022-06-02T17:10:00.919407Z",
     "start_time": "2022-06-02T17:09:57.311191Z"
    },
    "scrolled": true
   },
   "outputs": [
    {
     "name": "stdout",
     "output_type": "stream",
     "text": [
      "44.3 µs ± 191 ns per loop (mean ± std. dev. of 7 runs, 10000 loops each)\n"
     ]
    }
   ],
   "source": [
    "%timeit vec_a_efficient = build_tfidf_efficient(a, docs, len(vocab))"
   ]
  },
  {
   "cell_type": "markdown",
   "metadata": {},
   "source": [
    "## bm25"
   ]
  },
  {
   "cell_type": "code",
   "execution_count": 151,
   "metadata": {
    "ExecuteTime": {
     "end_time": "2022-06-02T17:27:23.253972Z",
     "start_time": "2022-06-02T17:27:23.250854Z"
    }
   },
   "outputs": [],
   "source": [
    "a = \"purple is the best city in the forest\".split()\n",
    "a2 = \"purple is the best city in the purple forest\".split()\n",
    "a3 = \"purple is the best purple city in the purple forest\".split()\n",
    "a10 = \"purple is the best purple city in the purple purple purple purple purple purple purple purple forest\".split()\n",
    "b = \"there is an art to getting your way and throwing bananas on to the street is not it\".split()\n",
    "c = \"it is not often you find soggy bananas on the street\".split()\n",
    "d = \"green should have smelled more tranquil but somehow it just tasted rotten\".split()\n",
    "e = \"joyce enjoyed eating pancakes with ketchup\".split()\n",
    "f = \"as the asteroid hurtled toward earth becky was upset her dentist appointment had been canceled\".split()\n",
    "\n",
    "\n",
    "q = 'a long blue dress' ->'a big blue dress', 'a tall blue dress',  'a tall turqoise dress'\n",
    "q = 'a playstation' -> delta_minimizer*'an xbox'\n",
    "\n",
    "q = 'computer' \n",
    "\n"
   ]
  },
  {
   "cell_type": "code",
   "execution_count": 161,
   "metadata": {
    "ExecuteTime": {
     "end_time": "2022-06-02T17:27:59.233917Z",
     "start_time": "2022-06-02T17:27:59.229859Z"
    }
   },
   "outputs": [],
   "source": [
    "import numpy as np\n",
    "\n",
    "avgdl = sum(len(sentence) for sentence in [a,b,c,d,e,f]) / len(docs)\n",
    "N = len(docs)\n",
    "\n",
    "def bm25(word, sentence, k=2, b=0.75):\n",
    "    freq = sentence.count(word)  # or f(q,D) - freq of query in Doc\n",
    "    tf = (freq * (k + 1)) / (freq + k * (1 - b + b * len(sentence) / avgdl))\n",
    "    N_q = sum([1 for doc in docs if word in doc])  # number of docs that contain the word\n",
    "    idf = np.log(((N - N_q + 0.5) / (N_q + 0.5)) + 1)\n",
    "    return round(tf*idf, 4)"
   ]
  },
  {
   "cell_type": "code",
   "execution_count": 162,
   "metadata": {
    "ExecuteTime": {
     "end_time": "2022-06-02T17:27:59.430255Z",
     "start_time": "2022-06-02T17:27:59.426623Z"
    }
   },
   "outputs": [
    {
     "data": {
      "text/plain": [
       "(1.3415, 1.6303, 1.7564, 1.9696)"
      ]
     },
     "execution_count": 162,
     "metadata": {},
     "output_type": "execute_result"
    }
   ],
   "source": [
    "bm25('purple', a), bm25('purple', a2),  bm25('purple', a3), bm25('purple', a10)"
   ]
  },
  {
   "cell_type": "code",
   "execution_count": 163,
   "metadata": {
    "ExecuteTime": {
     "end_time": "2022-06-02T17:27:59.602117Z",
     "start_time": "2022-06-02T17:27:59.598811Z"
    }
   },
   "outputs": [
    {
     "data": {
      "text/plain": [
       "0.0"
      ]
     },
     "execution_count": 163,
     "metadata": {},
     "output_type": "execute_result"
    }
   ],
   "source": [
    "bm25('purple', b)"
   ]
  },
  {
   "cell_type": "code",
   "execution_count": 164,
   "metadata": {
    "ExecuteTime": {
     "end_time": "2022-06-02T17:27:59.774891Z",
     "start_time": "2022-06-02T17:27:59.771670Z"
    }
   },
   "outputs": [
    {
     "data": {
      "text/plain": [
       "0.5185"
      ]
     },
     "execution_count": 164,
     "metadata": {},
     "output_type": "execute_result"
    }
   ],
   "source": [
    "bm25('bananas', b)"
   ]
  },
  {
   "cell_type": "code",
   "execution_count": 165,
   "metadata": {
    "ExecuteTime": {
     "end_time": "2022-06-02T17:27:59.950881Z",
     "start_time": "2022-06-02T17:27:59.947587Z"
    }
   },
   "outputs": [
    {
     "data": {
      "text/plain": [
       "0.5997"
      ]
     },
     "execution_count": 165,
     "metadata": {},
     "output_type": "execute_result"
    }
   ],
   "source": [
    "# c scores higher than b because len(c) < len(b)\n",
    "bm25('bananas', c)"
   ]
  },
  {
   "cell_type": "markdown",
   "metadata": {},
   "source": [
    "## bm25 vs tfidf\n",
    "\n",
    "\n",
    "\n",
    "\n"
   ]
  },
  {
   "cell_type": "code",
   "execution_count": null,
   "metadata": {},
   "outputs": [],
   "source": [
    "def tfidf(word, sentence, docs):\n",
    "    tf = sentence.count(word) / len(sentence)\n",
    "    idf = np.log10( len(docs)/sum([1 for doc in docs if word in doc]) )\n",
    "    return round(tf*idf, 4)"
   ]
  },
  {
   "cell_type": "code",
   "execution_count": 185,
   "metadata": {
    "ExecuteTime": {
     "end_time": "2022-06-02T17:51:00.990035Z",
     "start_time": "2022-06-02T17:51:00.825254Z"
    }
   },
   "outputs": [],
   "source": [
    "def tfidf_viz(w, s, n_t):\n",
    "    tf = w / s\n",
    "    idf = np.log10(len(docs) / n_t)\n",
    "    return tf, idf\n",
    "\n",
    "def bm25_viz(w, s, N_t, k=2.2, b=0.75):\n",
    "    tf = (w * (k + 1)) / (w + k * (1 - b + b * (s / avgdl)))\n",
    "    idf = np.log10(((N - N_t + 0.5) / (N_t + 0.5)) + 1)\n",
    "    return tf, idf\n",
    "\n",
    "tfidf_scores = []\n",
    "bm25_scores = []\n",
    "\n",
    "for i in range(20):\n",
    "    tfidf_scores.append(tfidf_viz(i, avgdl, 2))\n",
    "    bm25_scores.append(bm25_viz(i, avgdl, 2))\n",
    "    \n",
    "tfidf_tf  = [x[0] for x in tfidf_scores]\n",
    "tfidf_idf = [x[1] for x in tfidf_scores]\n",
    "\n",
    "bm25_tf  = [x[0] for x in bm25_scores]\n",
    "bm25_idf = [x[1] for x in bm25_scores]"
   ]
  },
  {
   "cell_type": "code",
   "execution_count": 192,
   "metadata": {
    "ExecuteTime": {
     "end_time": "2022-06-02T17:52:08.143764Z",
     "start_time": "2022-06-02T17:52:08.022353Z"
    }
   },
   "outputs": [
    {
     "data": {
      "text/plain": [
       "[<matplotlib.lines.Line2D at 0x7fd8b8ac7a30>]"
      ]
     },
     "execution_count": 192,
     "metadata": {},
     "output_type": "execute_result"
    },
    {
     "data": {
      "image/png": "[encoded data removed]",
      "text/plain": [
       "<Figure size 360x360 with 1 Axes>"
      ]
     },
     "metadata": {
      "needs_background": "light"
     },
     "output_type": "display_data"
    }
   ],
   "source": [
    "plt.figure(figsize=(5, 5))\n",
    "\n",
    "plt.plot(list(range(1, len(tfidf_tf) + 1)), tfidf_tf, color='red')\n",
    "plt.plot(list(range(1, len(bm25_tf) + 1)), bm25_tf, color='blue')"
   ]
  },
  {
   "cell_type": "code",
   "execution_count": 193,
   "metadata": {
    "ExecuteTime": {
     "end_time": "2022-06-02T17:52:10.479835Z",
     "start_time": "2022-06-02T17:52:10.338747Z"
    }
   },
   "outputs": [
    {
     "data": {
      "text/plain": [
       "[<matplotlib.lines.Line2D at 0x7fd8d860aaf0>]"
      ]
     },
     "execution_count": 193,
     "metadata": {},
     "output_type": "execute_result"
    },
    {
     "data": {
      "image/png": "[encoded data removed]",
      "text/plain": [
       "<Figure size 864x576 with 1 Axes>"
      ]
     },
     "metadata": {
      "needs_background": "light"
     },
     "output_type": "display_data"
    }
   ],
   "source": [
    "# calculate full tf*idf\n",
    "tfidf_tfidf = [tf * idf for tf, idf in zip(tfidf_tf, tfidf_idf)]\n",
    "bm25_tfidf  = [tf * idf for tf, idf in zip(bm25_tf, bm25_idf)]\n",
    "\n",
    "plt.figure(figsize=(12, 8))\n",
    "\n",
    "plt.plot(list(range(1, len(tfidf_tfidf) + 1)), tfidf_tfidf, 'red')\n",
    "plt.plot(list(range(1, len(bm25_tfidf) + 1)), bm25_tfidf, 'blue')"
   ]
  },
  {
   "cell_type": "code",
   "execution_count": null,
   "metadata": {},
   "outputs": [],
   "source": []
  },
  {
   "cell_type": "code",
   "execution_count": null,
   "metadata": {},
   "outputs": [],
   "source": []
  },
  {
   "cell_type": "code",
   "execution_count": null,
   "metadata": {},
   "outputs": [],
   "source": []
  }
 ],
 "metadata": {
  "kernelspec": {
   "display_name": "Python 3 (ipykernel)",
   "language": "python",
   "name": "python3"
  },
  "language_info": {
   "codemirror_mode": {
    "name": "ipython",
    "version": 3
   },
   "file_extension": ".py",
   "mimetype": "text/x-python",
   "name": "python",
   "nbconvert_exporter": "python",
   "pygments_lexer": "ipython3",
   "version": "3.8.5"
  },
  "toc": {
   "base_numbering": 1,
   "nav_menu": {},
   "number_sections": true,
   "sideBar": true,
   "skip_h1_title": false,
   "title_cell": "Table of Contents",
   "title_sidebar": "Contents",
   "toc_cell": true,
   "toc_position": {},
   "toc_section_display": true,
   "toc_window_display": true
  },
  "varInspector": {
   "cols": {
    "lenName": 16,
    "lenType": 16,
    "lenVar": 40
   },
   "kernels_config": {
    "python": {
     "delete_cmd_postfix": "",
     "delete_cmd_prefix": "del ",
     "library": "var_list.py",
     "varRefreshCmd": "print(var_dic_list())"
    },
    "r": {
     "delete_cmd_postfix": ") ",
     "delete_cmd_prefix": "rm(",
     "library": "var_list.r",
     "varRefreshCmd": "cat(var_dic_list()) "
    }
   },
   "types_to_exclude": [
    "module",
    "function",
    "builtin_function_or_method",
    "instance",
    "_Feature"
   ],
   "window_display": false
  }
 },
 "nbformat": 4,
 "nbformat_minor": 4
}

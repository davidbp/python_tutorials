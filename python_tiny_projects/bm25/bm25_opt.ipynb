{
 "cells": [
  {
   "cell_type": "markdown",
   "id": "7e374dab",
   "metadata": {},
   "source": [
    "# BM25 from the ground up\n",
    "\n",
    "BM25 definition. Let ${\\bf X}$ be a corpus of documents. Let ${\\bf x} \\in {\\bf X}$ be a document. Let ${\\bf q}$ be a query.\n",
    "\n",
    "$$\n",
    "bm25({\\bf q}, {\\bf x}; {\\bf X}) = \n",
    "\\sum_{i=1}^{\\vert {\\bf q} \\vert} IDF(q_i; {\\bf X}) \\frac{f(q_i; {\\bf x}) \\cdot (k_1 +1)}{f(q_i; {\\bf x}) + k_1\\cdot \\left( 1  - b + b\\frac{ \\vert{\\bf x} \\vert}{ {\\bf \\hat{X}} } \\right) }\n",
    "$$\n",
    "\n",
    "In this formula we have\n",
    "\n",
    "- $q_i$ is the i´th query term.\n",
    "   \n",
    "- $IDF(q_i)$ is the inverse document frequency of the query term $q_i$.\n",
    "   - The IDF component measures how often a term occurs in all of the documents and “penalizes” terms that are common. The actual formula Lucene/BM25 uses for this part is:\n",
    "    $$\n",
    "    log\\left(1 + \\frac{  \\vert{\\bf X} \\vert- |X_{q_i}| + 0.5}{|X_{q_i}|  + 0.5} \\right)\n",
    "    $$\n",
    "    \n",
    "      - $docCount$: is the total number of documents that have a value for the field in the shard (across shards, if you’re using search_type=dfs_query_then_fetch) \n",
    "      - $|X_{q_i}|$ is the number of documents which contain the ith query term. \n",
    "      \n",
    "      \n",
    "- $FL / avgFL$: how long a document is relative to the average document length.\n",
    "\n",
    "- $b$ regularization coeficient of the ratio of the field length. If $b$ is bigger, the effects of the length of the document compared to the average length are more amplified. If $b$ to 0, the effect of the length ratio would be completely nullified and the length of the document would have no bearing on the score. By default, $b$ has a value of 0.75 in Elasticsearch.\n",
    "\n",
    "\n",
    "- $f(q_i,D)$ is “how many times does the ith query term occur in document D?” \n"
   ]
  },
  {
   "cell_type": "code",
   "execution_count": 45,
   "id": "725a78ca",
   "metadata": {
    "ExecuteTime": {
     "end_time": "2022-04-17T21:27:43.510595Z",
     "start_time": "2022-04-17T21:27:43.503820Z"
    }
   },
   "outputs": [
    {
     "data": {
      "text/plain": [
       "{'a': 0, 'b': 1, 'f': 2}"
      ]
     },
     "execution_count": 45,
     "metadata": {},
     "output_type": "execute_result"
    }
   ],
   "source": [
    "l = {}\n",
    "l['a'] = 0\n",
    "l['b'] = 1\n",
    "w = 'f'\n",
    "l[w] = l.get(w, len(l))\n",
    "l"
   ]
  },
  {
   "cell_type": "code",
   "execution_count": null,
   "id": "80b03f2f",
   "metadata": {},
   "outputs": [],
   "source": []
  },
  {
   "cell_type": "code",
   "execution_count": 2,
   "id": "4085f4f0",
   "metadata": {
    "ExecuteTime": {
     "end_time": "2022-04-17T14:18:13.467733Z",
     "start_time": "2022-04-17T14:18:13.457569Z"
    }
   },
   "outputs": [
    {
     "data": {
      "text/plain": [
       "[['human', 'interface', 'computer'],\n",
       " ['user', 'computer', 'system', 'response', 'time'],\n",
       " ['eps', 'user', 'interface', 'system'],\n",
       " ['system', 'human', 'system', 'eps'],\n",
       " ['user', 'response', 'time'],\n",
       " ['trees'],\n",
       " ['graph', 'trees'],\n",
       " ['graph', 'minors', 'trees'],\n",
       " ['graph', 'minors']]"
      ]
     },
     "execution_count": 2,
     "metadata": {},
     "output_type": "execute_result"
    }
   ],
   "source": [
    "# we'll generate some fake texts to experiment with\n",
    "corpus = [\n",
    "    'Human machine interface for lab abc computer applications',\n",
    "    'A survcey of user opinion of computer system response time',\n",
    "    'The EPS user interface management system',\n",
    "    'System and human system engineering testing of EPS',\n",
    "    'Relation of user perceived response time to error measurement',\n",
    "    'The generation of random binary unordered trees',\n",
    "    'The intersection graph of paths in trees',\n",
    "    'Graph minors IV Widths of trees and well quasi ordering',\n",
    "    'Graph minors A survey'\n",
    "]\n",
    "\n",
    "# remove stop words and tokenize them (we probably want to do some more\n",
    "# preprocessing with our text in a real world setting, but we'll keep\n",
    "# it simple here)\n",
    "stopwords = set(['for', 'a', 'of', 'the', 'and', 'to', 'in'])\n",
    "texts = [\n",
    "    [word for word in document.lower().split() if word not in stopwords]\n",
    "    for document in corpus\n",
    "]\n",
    "\n",
    "# build a word count dictionary so we can remove words that appear only once\n",
    "word_count_dict = {}\n",
    "for text in texts:\n",
    "    for token in text:\n",
    "        word_count = word_count_dict.get(token, 0) + 1\n",
    "        word_count_dict[token] = word_count\n",
    "\n",
    "texts = [[token for token in text if word_count_dict[token] > 1] for text in texts]\n",
    "texts"
   ]
  },
  {
   "cell_type": "code",
   "execution_count": 86,
   "id": "363bd9b8",
   "metadata": {
    "ExecuteTime": {
     "end_time": "2022-04-18T07:51:23.164288Z",
     "start_time": "2022-04-18T07:51:23.154741Z"
    }
   },
   "outputs": [],
   "source": [
    "import math\n",
    "\n",
    "class BM25:\n",
    "    \"\"\"\n",
    "    Best Match 25.\n",
    "\n",
    "    Parameters\n",
    "    ----------\n",
    "    k1 : float, default 1.5\n",
    "\n",
    "    b : float, default 0.75\n",
    "\n",
    "    Attributes\n",
    "    ----------\n",
    "    tf_ : list[dict[str, int]]\n",
    "        Term Frequency per document. So [{'hi': 1}] means\n",
    "        the first document contains the term 'hi' 1 time.\n",
    "\n",
    "    df_ : dict[str, int]\n",
    "        Document Frequency per term. i.e. Number of documents in the\n",
    "        corpus that contains the term.\n",
    "\n",
    "    idf_ : dict[str, float]\n",
    "        Inverse Document Frequency per term.\n",
    "\n",
    "    doc_len_ : list[int]\n",
    "        Number of terms per document. So [3] means the first\n",
    "        document contains 3 terms.\n",
    "\n",
    "    corpus_ : list[list[str]]\n",
    "        The input corpus.\n",
    "\n",
    "    corpus_size_ : int\n",
    "        Number of documents in the corpus.\n",
    "\n",
    "    avg_doc_len_ : float\n",
    "        Average number of terms for documents in the corpus.\n",
    "    \"\"\"\n",
    "\n",
    "    def __init__(self, k1=1.5, b=0.75):\n",
    "        self.b = b\n",
    "        self.k1 = k1\n",
    "\n",
    "    def fit(self, corpus):\n",
    "        \"\"\"\n",
    "        Fit the various statistics that are required to calculate BM25 ranking\n",
    "        score using the corpus given.\n",
    "\n",
    "        Parameters\n",
    "        ----------\n",
    "        corpus : list[list[str]]\n",
    "            Each element in the list represents a document, and each document\n",
    "            is a list of the terms.\n",
    "\n",
    "        Returns\n",
    "        -------\n",
    "        self\n",
    "        \"\"\"\n",
    "        tf = []\n",
    "        df = {}\n",
    "        idf = {}\n",
    "        doc_len = []\n",
    "        corpus_size = 0\n",
    "        vocabulary = {}\n",
    "        \n",
    "        for document in corpus:\n",
    "            corpus_size += 1\n",
    "            doc_len.append(len(document))\n",
    "            \n",
    "            # compute tf (term frequency) per document\n",
    "            frequencies = {}\n",
    "            for term in document:\n",
    "                vocabulary[term] = vocabulary.get(term, len(vocabulary))\n",
    "                vocab_id = vocabulary[term]\n",
    "                term_count = frequencies.get(vocab_id, 0) + 1\n",
    "                frequencies[vocab_id] = term_count\n",
    "            tf.append(frequencies)\n",
    "\n",
    "            # compute df (document frequency) per term\n",
    "            for term, _ in frequencies.items():\n",
    "                df_count = df.get(term, 0) + 1\n",
    "                df[term] = df_count\n",
    "\n",
    "        for term, freq in df.items():\n",
    "            idf[term] = math.log(1 + (corpus_size - freq + 0.5) / (freq + 0.5))\n",
    "\n",
    "        self.tf_ = tf\n",
    "        self.df_ = df\n",
    "        self.idf_ = idf\n",
    "        self.doc_len_ = doc_len\n",
    "        self.corpus_ = corpus\n",
    "        self.corpus_size_ = corpus_size\n",
    "        self.avg_doc_len_ = sum(doc_len) / corpus_size\n",
    "        self.vocabulary = vocabulary\n",
    "        return self\n",
    "\n",
    "    def search(self, query):\n",
    "        scores = [self._score(query, index) for index in range(self.corpus_size_)]\n",
    "        return scores\n",
    "\n",
    "    def _score(self, query, index):\n",
    "        score = 0.0\n",
    "\n",
    "        doc_len = self.doc_len_[index]\n",
    "        frequencies = self.tf_[index]\n",
    "        for term in query:\n",
    "            \n",
    "            if term not in frequencies:\n",
    "                continue\n",
    "\n",
    "            freq = frequencies[term]\n",
    "            numerator = self.idf_[term] * freq * (self.k1 + 1)\n",
    "            denominator = freq + self.k1 * (1 - self.b + self.b * doc_len / self.avg_doc_len_)\n",
    "            score += (numerator / denominator)\n",
    "\n",
    "        return score\n"
   ]
  },
  {
   "cell_type": "code",
   "execution_count": 88,
   "id": "311fa903",
   "metadata": {
    "ExecuteTime": {
     "end_time": "2022-04-18T07:51:47.400910Z",
     "start_time": "2022-04-18T07:51:47.391422Z"
    }
   },
   "outputs": [
    {
     "name": "stdout",
     "output_type": "stream",
     "text": [
      "0.0\tHuman machine interface for lab abc computer applications\n",
      "0.0\tA survcey of user opinion of computer system response time\n",
      "0.0\tThe EPS user interface management system\n",
      "0.0\tSystem and human system engineering testing of EPS\n",
      "0.0\tRelation of user perceived response time to error measurement\n",
      "0.0\tThe generation of random binary unordered trees\n",
      "0.0\tThe intersection graph of paths in trees\n",
      "0.0\tGraph minors IV Widths of trees and well quasi ordering\n",
      "0.0\tGraph minors A survey\n"
     ]
    }
   ],
   "source": [
    "query = 'The intersection of graph survey and trees'\n",
    "query = [word for word in query.lower().split() if word not in stopwords]\n",
    "\n",
    "bm25 = BM25()\n",
    "bm25.fit(texts)\n",
    "scores = bm25.search(query)\n",
    "\n",
    "for score, doc in zip(scores, corpus):\n",
    "    score = round(score, 3)\n",
    "    print(str(score) + '\\t' + doc)"
   ]
  },
  {
   "cell_type": "code",
   "execution_count": 65,
   "id": "9e8196bc",
   "metadata": {
    "ExecuteTime": {
     "end_time": "2022-04-18T07:48:29.869070Z",
     "start_time": "2022-04-18T07:48:29.862701Z"
    }
   },
   "outputs": [
    {
     "data": {
      "text/plain": [
       "[{0: 1, 1: 1, 2: 1},\n",
       " {3: 1, 2: 1, 4: 1, 5: 1, 6: 1},\n",
       " {7: 1, 3: 1, 1: 1, 4: 1},\n",
       " {4: 2, 0: 1, 7: 1},\n",
       " {3: 1, 5: 1, 6: 1},\n",
       " {8: 1},\n",
       " {9: 1, 8: 1},\n",
       " {9: 1, 10: 1, 8: 1},\n",
       " {9: 1, 10: 1}]"
      ]
     },
     "execution_count": 65,
     "metadata": {},
     "output_type": "execute_result"
    }
   ],
   "source": [
    "bm25.tf_"
   ]
  },
  {
   "cell_type": "code",
   "execution_count": 66,
   "id": "31367376",
   "metadata": {
    "ExecuteTime": {
     "end_time": "2022-04-18T07:48:30.073229Z",
     "start_time": "2022-04-18T07:48:30.063924Z"
    }
   },
   "outputs": [
    {
     "data": {
      "text/plain": [
       "{'b': 0.75,\n",
       " 'k1': 1.5,\n",
       " 'tf_': [{0: 1, 1: 1, 2: 1},\n",
       "  {3: 1, 2: 1, 4: 1, 5: 1, 6: 1},\n",
       "  {7: 1, 3: 1, 1: 1, 4: 1},\n",
       "  {4: 2, 0: 1, 7: 1},\n",
       "  {3: 1, 5: 1, 6: 1},\n",
       "  {8: 1},\n",
       "  {9: 1, 8: 1},\n",
       "  {9: 1, 10: 1, 8: 1},\n",
       "  {9: 1, 10: 1}],\n",
       " 'df_': {0: 2, 1: 2, 2: 2, 3: 3, 4: 3, 5: 2, 6: 2, 7: 2, 8: 3, 9: 3, 10: 2},\n",
       " 'idf_': {0: 1.3862943611198906,\n",
       "  1: 1.3862943611198906,\n",
       "  2: 1.3862943611198906,\n",
       "  3: 1.0498221244986776,\n",
       "  4: 1.0498221244986776,\n",
       "  5: 1.3862943611198906,\n",
       "  6: 1.3862943611198906,\n",
       "  7: 1.3862943611198906,\n",
       "  8: 1.0498221244986776,\n",
       "  9: 1.0498221244986776,\n",
       "  10: 1.3862943611198906},\n",
       " 'doc_len_': [3, 5, 4, 4, 3, 1, 2, 3, 2],\n",
       " 'corpus_': [['human', 'interface', 'computer'],\n",
       "  ['user', 'computer', 'system', 'response', 'time'],\n",
       "  ['eps', 'user', 'interface', 'system'],\n",
       "  ['system', 'human', 'system', 'eps'],\n",
       "  ['user', 'response', 'time'],\n",
       "  ['trees'],\n",
       "  ['graph', 'trees'],\n",
       "  ['graph', 'minors', 'trees'],\n",
       "  ['graph', 'minors']],\n",
       " 'corpus_size_': 9,\n",
       " 'avg_doc_len_': 3.0,\n",
       " 'vocabulary': {'human': 0,\n",
       "  'interface': 1,\n",
       "  'computer': 2,\n",
       "  'user': 3,\n",
       "  'system': 4,\n",
       "  'response': 5,\n",
       "  'time': 6,\n",
       "  'eps': 7,\n",
       "  'trees': 8,\n",
       "  'graph': 9,\n",
       "  'minors': 10}}"
      ]
     },
     "execution_count": 66,
     "metadata": {},
     "output_type": "execute_result"
    }
   ],
   "source": [
    "bm25.__dict__"
   ]
  },
  {
   "cell_type": "code",
   "execution_count": 67,
   "id": "5e5ca64e",
   "metadata": {
    "ExecuteTime": {
     "end_time": "2022-04-18T07:48:30.407482Z",
     "start_time": "2022-04-18T07:48:30.402444Z"
    }
   },
   "outputs": [
    {
     "data": {
      "text/plain": [
       "'System and human system engineering testing of EPS'"
      ]
     },
     "execution_count": 67,
     "metadata": {},
     "output_type": "execute_result"
    }
   ],
   "source": [
    "corpus[3]"
   ]
  },
  {
   "cell_type": "code",
   "execution_count": 68,
   "id": "b5565eed",
   "metadata": {
    "ExecuteTime": {
     "end_time": "2022-04-18T07:48:30.619979Z",
     "start_time": "2022-04-18T07:48:30.609435Z"
    }
   },
   "outputs": [
    {
     "ename": "TypeError",
     "evalue": "unhashable type: 'list'",
     "output_type": "error",
     "traceback": [
      "\u001b[0;31m---------------------------------------------------------------------------\u001b[0m",
      "\u001b[0;31mTypeError\u001b[0m                                 Traceback (most recent call last)",
      "\u001b[0;32m/var/folders/lh/njnz5hj934d2js334v28z1x00000gn/T/ipykernel_11740/2101237815.py\u001b[0m in \u001b[0;36m<module>\u001b[0;34m\u001b[0m\n\u001b[1;32m      2\u001b[0m \u001b[0mquery\u001b[0m \u001b[0;34m=\u001b[0m \u001b[0;34m[\u001b[0m\u001b[0mword\u001b[0m \u001b[0;32mfor\u001b[0m \u001b[0mword\u001b[0m \u001b[0;32min\u001b[0m \u001b[0mquery\u001b[0m\u001b[0;34m.\u001b[0m\u001b[0mlower\u001b[0m\u001b[0;34m(\u001b[0m\u001b[0;34m)\u001b[0m\u001b[0;34m.\u001b[0m\u001b[0msplit\u001b[0m\u001b[0;34m(\u001b[0m\u001b[0;34m)\u001b[0m \u001b[0;32mif\u001b[0m \u001b[0mword\u001b[0m \u001b[0;32mnot\u001b[0m \u001b[0;32min\u001b[0m \u001b[0mstopwords\u001b[0m\u001b[0;34m]\u001b[0m\u001b[0;34m\u001b[0m\u001b[0;34m\u001b[0m\u001b[0m\n\u001b[1;32m      3\u001b[0m \u001b[0;34m\u001b[0m\u001b[0m\n\u001b[0;32m----> 4\u001b[0;31m \u001b[0mscores\u001b[0m \u001b[0;34m=\u001b[0m \u001b[0mbm25\u001b[0m\u001b[0;34m.\u001b[0m\u001b[0m_score\u001b[0m\u001b[0;34m(\u001b[0m\u001b[0;34m[\u001b[0m\u001b[0mquery\u001b[0m\u001b[0;34m]\u001b[0m\u001b[0;34m,\u001b[0m \u001b[0;36m8\u001b[0m\u001b[0;34m)\u001b[0m\u001b[0;34m\u001b[0m\u001b[0;34m\u001b[0m\u001b[0m\n\u001b[0m\u001b[1;32m      5\u001b[0m \u001b[0mscores\u001b[0m\u001b[0;34m\u001b[0m\u001b[0;34m\u001b[0m\u001b[0m\n",
      "\u001b[0;32m/var/folders/lh/njnz5hj934d2js334v28z1x00000gn/T/ipykernel_11740/934326192.py\u001b[0m in \u001b[0;36m_score\u001b[0;34m(self, query, index)\u001b[0m\n\u001b[1;32m    105\u001b[0m         \u001b[0mfrequencies\u001b[0m \u001b[0;34m=\u001b[0m \u001b[0mself\u001b[0m\u001b[0;34m.\u001b[0m\u001b[0mtf_\u001b[0m\u001b[0;34m[\u001b[0m\u001b[0mindex\u001b[0m\u001b[0;34m]\u001b[0m\u001b[0;34m\u001b[0m\u001b[0;34m\u001b[0m\u001b[0m\n\u001b[1;32m    106\u001b[0m         \u001b[0;32mfor\u001b[0m \u001b[0mterm\u001b[0m \u001b[0;32min\u001b[0m \u001b[0mquery\u001b[0m\u001b[0;34m:\u001b[0m\u001b[0;34m\u001b[0m\u001b[0;34m\u001b[0m\u001b[0m\n\u001b[0;32m--> 107\u001b[0;31m             \u001b[0;32mif\u001b[0m \u001b[0mterm\u001b[0m \u001b[0;32mnot\u001b[0m \u001b[0;32min\u001b[0m \u001b[0mfrequencies\u001b[0m\u001b[0;34m:\u001b[0m\u001b[0;34m\u001b[0m\u001b[0;34m\u001b[0m\u001b[0m\n\u001b[0m\u001b[1;32m    108\u001b[0m                 \u001b[0;32mcontinue\u001b[0m\u001b[0;34m\u001b[0m\u001b[0;34m\u001b[0m\u001b[0m\n\u001b[1;32m    109\u001b[0m \u001b[0;34m\u001b[0m\u001b[0m\n",
      "\u001b[0;31mTypeError\u001b[0m: unhashable type: 'list'"
     ]
    }
   ],
   "source": [
    "query = 'The intersection of graph survey and trees'\n",
    "query = [word for word in query.lower().split() if word not in stopwords]\n",
    "\n",
    "scores = bm25._score([query], 8)\n",
    "scores"
   ]
  },
  {
   "cell_type": "code",
   "execution_count": 69,
   "id": "1caea0ca",
   "metadata": {
    "ExecuteTime": {
     "end_time": "2022-04-18T07:48:30.821504Z",
     "start_time": "2022-04-18T07:48:30.814690Z"
    }
   },
   "outputs": [
    {
     "ename": "AttributeError",
     "evalue": "'BM25' object has no attribute 'vocab_'",
     "output_type": "error",
     "traceback": [
      "\u001b[0;31m---------------------------------------------------------------------------\u001b[0m",
      "\u001b[0;31mAttributeError\u001b[0m                            Traceback (most recent call last)",
      "\u001b[0;32m/var/folders/lh/njnz5hj934d2js334v28z1x00000gn/T/ipykernel_11740/3691381653.py\u001b[0m in \u001b[0;36m<module>\u001b[0;34m\u001b[0m\n\u001b[0;32m----> 1\u001b[0;31m \u001b[0mbm25\u001b[0m\u001b[0;34m.\u001b[0m\u001b[0mvocab_\u001b[0m\u001b[0;34m\u001b[0m\u001b[0;34m\u001b[0m\u001b[0m\n\u001b[0m",
      "\u001b[0;31mAttributeError\u001b[0m: 'BM25' object has no attribute 'vocab_'"
     ]
    }
   ],
   "source": [
    "bm25.vocab_"
   ]
  },
  {
   "cell_type": "code",
   "execution_count": null,
   "id": "07131118",
   "metadata": {},
   "outputs": [],
   "source": []
  }
 ],
 "metadata": {
  "kernelspec": {
   "display_name": "Python 3 (ipykernel)",
   "language": "python",
   "name": "python3"
  },
  "language_info": {
   "codemirror_mode": {
    "name": "ipython",
    "version": 3
   },
   "file_extension": ".py",
   "mimetype": "text/x-python",
   "name": "python",
   "nbconvert_exporter": "python",
   "pygments_lexer": "ipython3",
   "version": "3.8.12"
  },
  "toc": {
   "base_numbering": 1,
   "nav_menu": {},
   "number_sections": true,
   "sideBar": true,
   "skip_h1_title": false,
   "title_cell": "Table of Contents",
   "title_sidebar": "Contents",
   "toc_cell": false,
   "toc_position": {},
   "toc_section_display": true,
   "toc_window_display": false
  }
 },
 "nbformat": 4,
 "nbformat_minor": 5
}

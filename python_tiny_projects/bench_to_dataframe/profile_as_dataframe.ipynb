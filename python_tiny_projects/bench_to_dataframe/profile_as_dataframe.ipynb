{
 "cells": [
  {
   "cell_type": "code",
   "execution_count": 4,
   "id": "c83ae425",
   "metadata": {},
   "outputs": [
    {
     "name": "stdout",
     "output_type": "stream",
     "text": [
      "The autoreload extension is already loaded. To reload it, use:\n",
      "  %reload_ext autoreload\n"
     ]
    }
   ],
   "source": [
    "%load_ext autoreload\n",
    "%autoreload 2"
   ]
  },
  {
   "cell_type": "code",
   "execution_count": 5,
   "id": "0d803722",
   "metadata": {},
   "outputs": [],
   "source": [
    "from benchmarker import profile_as_dataframe, plot_profile\n",
    "import numpy as np\n",
    "from jina import Document, DocumentArray"
   ]
  },
  {
   "cell_type": "code",
   "execution_count": 6,
   "id": "5e9c1431",
   "metadata": {},
   "outputs": [],
   "source": [
    "\n",
    "def match_func(da_1, da_2):\n",
    "    da_1.match(da_2, metric='euclidean',  limit=3)\n",
    "\n",
    "def create_arrays(n_1, n_2, n_features):\n",
    "    x_mat_1 = np.random.random((n_1, n_features))\n",
    "    da_1 = DocumentArray([Document(embedding=x) for x in x_mat_1])\n",
    "\n",
    "    np.random.seed(1234)\n",
    "    x_mat = np.random.random((n_2, n_features))\n",
    "    da_2 = DocumentArray([Document(embedding=x) for x in x_mat])\n",
    "    return da_1, da_2\n",
    "    \n",
    "n_1 = 10\n",
    "n_2 = 100_000\n",
    "n_features = 256"
   ]
  },
  {
   "cell_type": "code",
   "execution_count": 7,
   "id": "b533d14c",
   "metadata": {},
   "outputs": [
    {
     "name": "stdout",
     "output_type": "stream",
     "text": [
      "Timer unit: 1e-06 s\n",
      "\n",
      "Total time: 6.3546 s\n",
      "File: <ipython-input-6-1dab34e619ac>\n",
      "Function: create_arrays at line 4\n",
      "\n",
      "Line #      Hits         Time  Per Hit   % Time  Line Contents\n",
      "==============================================================\n",
      "     4                                           def create_arrays(n_1, n_2, n_features): \t def create_arrays(n_1, n_2, n_features):\n",
      "     5         1         72.0     72.0      0.0      x_mat_1 = np.random.random((n_1, n_features)) \t     x_mat_1 = np.random.random((n_1, n_features))\n",
      "     6         1       3336.0   3336.0      0.1      da_1 = DocumentArray([Document(embedding=x) for x in x_mat_1]) \t     da_1 = DocumentArray([Document(embedding=x) for x in x_mat_1])\n",
      "     7                                            \t \n",
      "     8         1         29.0     29.0      0.0      np.random.seed(1234) \t     np.random.seed(1234)\n",
      "     9         1     279781.0 279781.0      4.4      x_mat = np.random.random((n_2, n_features)) \t     x_mat = np.random.random((n_2, n_features))\n",
      "    10         1    6071379.0 6071379.0     95.5      da_2 = DocumentArray([Document(embedding=x) for x in x_mat]) \t     da_2 = DocumentArray([Document(embedding=x) for x in x_mat])\n",
      "    11         1          2.0      2.0      0.0      return da_1, da_2 \t     return da_1, da_2\n",
      " \t \n"
     ]
    }
   ],
   "source": [
    "df_result = profile_as_dataframe(create_arrays, n_1, n_2, n_features)"
   ]
  },
  {
   "cell_type": "code",
   "execution_count": 8,
   "id": "c7e453c9",
   "metadata": {},
   "outputs": [
    {
     "data": {
      "text/html": [
       "<div>\n",
       "<style scoped>\n",
       "    .dataframe tbody tr th:only-of-type {\n",
       "        vertical-align: middle;\n",
       "    }\n",
       "\n",
       "    .dataframe tbody tr th {\n",
       "        vertical-align: top;\n",
       "    }\n",
       "\n",
       "    .dataframe thead th {\n",
       "        text-align: right;\n",
       "    }\n",
       "</style>\n",
       "<table border=\"1\" class=\"dataframe\">\n",
       "  <thead>\n",
       "    <tr style=\"text-align: right;\">\n",
       "      <th></th>\n",
       "      <th>Line #</th>\n",
       "      <th>Hits</th>\n",
       "      <th>Time</th>\n",
       "      <th>Per Hit</th>\n",
       "      <th>% Time</th>\n",
       "      <th>Line Contents</th>\n",
       "    </tr>\n",
       "  </thead>\n",
       "  <tbody>\n",
       "    <tr>\n",
       "      <th>0</th>\n",
       "      <td>4.0</td>\n",
       "      <td>0.0</td>\n",
       "      <td>0.0</td>\n",
       "      <td>0.0</td>\n",
       "      <td>0.0</td>\n",
       "      <td>def create_arrays(n_1, n_2, n_features):</td>\n",
       "    </tr>\n",
       "    <tr>\n",
       "      <th>1</th>\n",
       "      <td>5.0</td>\n",
       "      <td>1.0</td>\n",
       "      <td>72.0</td>\n",
       "      <td>72.0</td>\n",
       "      <td>0.0</td>\n",
       "      <td>x_mat_1 = np.random.random((n_1, n_features))</td>\n",
       "    </tr>\n",
       "    <tr>\n",
       "      <th>2</th>\n",
       "      <td>6.0</td>\n",
       "      <td>1.0</td>\n",
       "      <td>3336.0</td>\n",
       "      <td>3336.0</td>\n",
       "      <td>0.1</td>\n",
       "      <td>da_1 = DocumentArray([Document(embedding=x...</td>\n",
       "    </tr>\n",
       "    <tr>\n",
       "      <th>3</th>\n",
       "      <td>7.0</td>\n",
       "      <td>0.0</td>\n",
       "      <td>0.0</td>\n",
       "      <td>0.0</td>\n",
       "      <td>0.0</td>\n",
       "      <td></td>\n",
       "    </tr>\n",
       "    <tr>\n",
       "      <th>4</th>\n",
       "      <td>8.0</td>\n",
       "      <td>1.0</td>\n",
       "      <td>29.0</td>\n",
       "      <td>29.0</td>\n",
       "      <td>0.0</td>\n",
       "      <td>np.random.seed(1234)</td>\n",
       "    </tr>\n",
       "    <tr>\n",
       "      <th>5</th>\n",
       "      <td>9.0</td>\n",
       "      <td>1.0</td>\n",
       "      <td>279781.0</td>\n",
       "      <td>279781.0</td>\n",
       "      <td>4.4</td>\n",
       "      <td>x_mat = np.random.random((n_2, n_features))</td>\n",
       "    </tr>\n",
       "    <tr>\n",
       "      <th>6</th>\n",
       "      <td>10.0</td>\n",
       "      <td>1.0</td>\n",
       "      <td>6071379.0</td>\n",
       "      <td>6071379.0</td>\n",
       "      <td>95.5</td>\n",
       "      <td>da_2 = DocumentArray([Document(embedding=x...</td>\n",
       "    </tr>\n",
       "    <tr>\n",
       "      <th>7</th>\n",
       "      <td>11.0</td>\n",
       "      <td>1.0</td>\n",
       "      <td>2.0</td>\n",
       "      <td>2.0</td>\n",
       "      <td>0.0</td>\n",
       "      <td>return da_1, da_2</td>\n",
       "    </tr>\n",
       "  </tbody>\n",
       "</table>\n",
       "</div>"
      ],
      "text/plain": [
       "   Line #  Hits       Time    Per Hit  % Time  \\\n",
       "0     4.0   0.0        0.0        0.0     0.0   \n",
       "1     5.0   1.0       72.0       72.0     0.0   \n",
       "2     6.0   1.0     3336.0     3336.0     0.1   \n",
       "3     7.0   0.0        0.0        0.0     0.0   \n",
       "4     8.0   1.0       29.0       29.0     0.0   \n",
       "5     9.0   1.0   279781.0   279781.0     4.4   \n",
       "6    10.0   1.0  6071379.0  6071379.0    95.5   \n",
       "7    11.0   1.0        2.0        2.0     0.0   \n",
       "\n",
       "                                       Line Contents  \n",
       "0           def create_arrays(n_1, n_2, n_features):  \n",
       "1      x_mat_1 = np.random.random((n_1, n_features))  \n",
       "2      da_1 = DocumentArray([Document(embedding=x...  \n",
       "3                                                     \n",
       "4                               np.random.seed(1234)  \n",
       "5        x_mat = np.random.random((n_2, n_features))  \n",
       "6      da_2 = DocumentArray([Document(embedding=x...  \n",
       "7                                  return da_1, da_2  "
      ]
     },
     "execution_count": 8,
     "metadata": {},
     "output_type": "execute_result"
    }
   ],
   "source": [
    "df_result"
   ]
  },
  {
   "cell_type": "code",
   "execution_count": 10,
   "id": "b5167c6b",
   "metadata": {},
   "outputs": [
    {
     "data": {
      "image/png": "[encoded data removed]",
      "text/plain": [
       "<Figure size 432x288 with 1 Axes>"
      ]
     },
     "metadata": {
      "needs_background": "light"
     },
     "output_type": "display_data"
    }
   ],
   "source": [
    "plot_profile(df_result)"
   ]
  },
  {
   "cell_type": "code",
   "execution_count": null,
   "id": "22e6bfcd",
   "metadata": {},
   "outputs": [],
   "source": []
  }
 ],
 "metadata": {
  "kernelspec": {
   "display_name": "Python 3",
   "language": "python",
   "name": "python3"
  },
  "language_info": {
   "codemirror_mode": {
    "name": "ipython",
    "version": 3
   },
   "file_extension": ".py",
   "mimetype": "text/x-python",
   "name": "python",
   "nbconvert_exporter": "python",
   "pygments_lexer": "ipython3",
   "version": "3.8.8"
  }
 },
 "nbformat": 4,
 "nbformat_minor": 5
}

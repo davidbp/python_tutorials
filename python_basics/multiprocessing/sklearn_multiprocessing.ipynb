{
 "cells": [
  {
   "cell_type": "markdown",
   "metadata": {},
   "source": [
    "## Sklearn inside a Process\n",
    "\n",
    "\n",
    "Sklearn gridsearch memory\n",
    "\n",
    "- https://stackoverflow.com/questions/24406937/scikit-learn-joblib-bug-multiprocessing-pool-self-value-out-of-range-for-i-fo/24411581#24411581\n",
    "\n",
    "\n",
    "Working with numerical data in shared memory (memmaping)\n",
    "- https://pythonhosted.org/joblib/parallel.html#working-with-numerical-data-in-shared-memory-memmaping\n",
    "\n",
    "Set number cpus julia\n",
    "- https://stackoverflow.com/questions/27931026/obtain-the-number-of-cpu-cores-in-julia"
   ]
  },
  {
   "cell_type": "code",
   "execution_count": 1,
   "metadata": {
    "collapsed": true
   },
   "outputs": [],
   "source": [
    "import sklearn\n",
    "import multiprocessing as mp\n",
    "import numpy as np\n",
    "import pandas as pd\n",
    "from sklearn import linear_model"
   ]
  },
  {
   "cell_type": "code",
   "execution_count": 2,
   "metadata": {
    "collapsed": true
   },
   "outputs": [],
   "source": [
    "MNIST_path = \"/home/david/Datasets/MNIST/train_mnist.csv\""
   ]
  },
  {
   "cell_type": "code",
   "execution_count": 3,
   "metadata": {
    "collapsed": true
   },
   "outputs": [],
   "source": [
    "X_tr = pd.read_csv(\"/home/david/Datasets/MNIST/train_mnist.csv\", header=None)\n",
    "X_tr = X_tr.as_matrix()\n",
    "y_tr = X_tr[:,0]\n",
    "X_tr = X_tr[:,1:]\n",
    "\n",
    "X_te = pd.read_csv(\"/home/david/Datasets/MNIST/test_mnist.csv\", header=None)\n",
    "X_te = X_te.as_matrix()\n",
    "y_te = X_te[:,0]\n",
    "X_te = X_te[:,1:]"
   ]
  },
  {
   "cell_type": "code",
   "execution_count": 4,
   "metadata": {},
   "outputs": [
    {
     "data": {
      "text/plain": [
       "((60000, 784), (10000, 784))"
      ]
     },
     "execution_count": 4,
     "metadata": {},
     "output_type": "execute_result"
    }
   ],
   "source": [
    "X_tr.shape, X_te.shape"
   ]
  },
  {
   "cell_type": "markdown",
   "metadata": {},
   "source": [
    "### Spawn a single Process\n",
    "\n",
    "Infor about the multiprocessing module\n",
    "- https://docs.python.org/2/library/multiprocessing.html"
   ]
  },
  {
   "cell_type": "code",
   "execution_count": 5,
   "metadata": {},
   "outputs": [
    {
     "data": {
      "text/plain": [
       "Perceptron(alpha=0.0001, class_weight=None, eta0=1.0, fit_intercept=True,\n",
       "      n_iter=5, n_jobs=1, penalty=None, random_state=0, shuffle=True,\n",
       "      verbose=0, warm_start=False)"
      ]
     },
     "execution_count": 5,
     "metadata": {},
     "output_type": "execute_result"
    }
   ],
   "source": [
    "sklearn.linear_model.Perceptron()"
   ]
  },
  {
   "cell_type": "code",
   "execution_count": 6,
   "metadata": {
    "collapsed": true
   },
   "outputs": [],
   "source": [
    "m1 = linear_model.Perceptron(n_jobs=2)"
   ]
  },
  {
   "cell_type": "markdown",
   "metadata": {},
   "source": [
    "The following code snippet prints true because the main Python process, the one executing the notebook is not blocked by the spawned process `p`."
   ]
  },
  {
   "cell_type": "code",
   "execution_count": 7,
   "metadata": {},
   "outputs": [
    {
     "data": {
      "text/plain": [
       "True"
      ]
     },
     "execution_count": 7,
     "metadata": {},
     "output_type": "execute_result"
    }
   ],
   "source": [
    "p = mp.Process(target=m1.fit, args=(X_tr, y_tr))\n",
    "p.start()\n",
    "p.is_alive() "
   ]
  },
  {
   "cell_type": "markdown",
   "metadata": {},
   "source": [
    "The following code snippet prints False because the `p.join()` blocks the Python process, the one executing the notebook, until  `p` ends."
   ]
  },
  {
   "cell_type": "code",
   "execution_count": 8,
   "metadata": {},
   "outputs": [
    {
     "data": {
      "text/plain": [
       "False"
      ]
     },
     "execution_count": 8,
     "metadata": {},
     "output_type": "execute_result"
    }
   ],
   "source": [
    "p = mp.Process(target=m1.fit, args=(X_tr, y_tr))\n",
    "p.start()\n",
    "p.join()\n",
    "p.is_alive() "
   ]
  },
  {
   "cell_type": "markdown",
   "metadata": {},
   "source": [
    "### Spawn multiple processes in parallel\n",
    "\n",
    "We can define several Python Process objects and start them in parallel. "
   ]
  },
  {
   "cell_type": "code",
   "execution_count": 9,
   "metadata": {
    "collapsed": true
   },
   "outputs": [],
   "source": [
    "m1 = linear_model.Perceptron(n_jobs=1)\n",
    "m2 = linear_model.LogisticRegression(n_jobs=1)"
   ]
  },
  {
   "cell_type": "code",
   "execution_count": 10,
   "metadata": {
    "collapsed": true
   },
   "outputs": [],
   "source": [
    "p1 = mp.Process(target=m1.fit, args=(X_tr, y_tr))\n",
    "p2 = mp.Process(target=m2.fit, args=(X_tr, y_tr))"
   ]
  },
  {
   "cell_type": "code",
   "execution_count": 11,
   "metadata": {
    "collapsed": true
   },
   "outputs": [],
   "source": [
    "p1.start()\n",
    "p2.start()"
   ]
  },
  {
   "cell_type": "code",
   "execution_count": 12,
   "metadata": {},
   "outputs": [
    {
     "data": {
      "text/plain": [
       "True"
      ]
     },
     "execution_count": 12,
     "metadata": {},
     "output_type": "execute_result"
    }
   ],
   "source": [
    "p1.is_alive()"
   ]
  },
  {
   "cell_type": "code",
   "execution_count": 13,
   "metadata": {},
   "outputs": [
    {
     "data": {
      "text/plain": [
       "True"
      ]
     },
     "execution_count": 13,
     "metadata": {},
     "output_type": "execute_result"
    }
   ],
   "source": [
    "p2.is_alive()"
   ]
  },
  {
   "cell_type": "markdown",
   "metadata": {},
   "source": [
    "### Measure Time execution time of a process"
   ]
  },
  {
   "cell_type": "code",
   "execution_count": 14,
   "metadata": {
    "collapsed": true
   },
   "outputs": [],
   "source": [
    "m1 = linear_model.Perceptron(n_jobs=1, n_iter=30)\n",
    "m2 = linear_model.Perceptron(n_jobs=1, n_iter=30)\n",
    "m3 = linear_model.Perceptron(n_jobs=1, n_iter=30)\n",
    "m4 = linear_model.Perceptron(n_jobs=1, n_iter=30)\n",
    "\n",
    "p1 = mp.Process(target=m1.fit, args=(X_tr, y_tr))\n",
    "p2 = mp.Process(target=m2.fit, args=(X_tr, y_tr))\n",
    "p3 = mp.Process(target=m3.fit, args=(X_tr, y_tr))\n",
    "p4 = mp.Process(target=m4.fit, args=(X_tr, y_tr))"
   ]
  },
  {
   "cell_type": "code",
   "execution_count": 15,
   "metadata": {},
   "outputs": [
    {
     "name": "stdout",
     "output_type": "stream",
     "text": [
      "CPU times: user 4 ms, sys: 64 ms, total: 68 ms\n",
      "Wall time: 58.6 s\n"
     ]
    }
   ],
   "source": [
    "%%time\n",
    "p1.start()\n",
    "p2.start()\n",
    "p3.start()\n",
    "p4.start()\n",
    "p1.join()\n",
    "p2.join()\n",
    "p3.join()\n",
    "p4.join()"
   ]
  },
  {
   "cell_type": "code",
   "execution_count": 16,
   "metadata": {
    "collapsed": true
   },
   "outputs": [],
   "source": [
    "m1 = linear_model.Perceptron(n_jobs=2, n_iter=30)\n",
    "m2 = linear_model.Perceptron(n_jobs=2, n_iter=30)\n",
    "m3 = linear_model.Perceptron(n_jobs=2, n_iter=30)\n",
    "m4 = linear_model.Perceptron(n_jobs=2, n_iter=30)\n",
    "\n",
    "p1 = mp.Process(target=m1.fit, args=(X_tr, y_tr))\n",
    "p2 = mp.Process(target=m2.fit, args=(X_tr, y_tr))\n",
    "p3 = mp.Process(target=m3.fit, args=(X_tr, y_tr))\n",
    "p4 = mp.Process(target=m4.fit, args=(X_tr, y_tr))"
   ]
  },
  {
   "cell_type": "code",
   "execution_count": 17,
   "metadata": {},
   "outputs": [
    {
     "name": "stdout",
     "output_type": "stream",
     "text": [
      "CPU times: user 0 ns, sys: 72 ms, total: 72 ms\n",
      "Wall time: 1min\n"
     ]
    }
   ],
   "source": [
    "%%time\n",
    "p1.start()\n",
    "p2.start()\n",
    "p1.join()\n",
    "p2.join()\n",
    "p3.start()\n",
    "p4.start()\n",
    "p3.join()\n",
    "p4.join()"
   ]
  },
  {
   "cell_type": "code",
   "execution_count": 18,
   "metadata": {
    "collapsed": true
   },
   "outputs": [],
   "source": [
    "m1 = linear_model.Perceptron(n_jobs=4, n_iter=30)\n",
    "m2 = linear_model.Perceptron(n_jobs=4, n_iter=30)\n",
    "m3 = linear_model.Perceptron(n_jobs=4, n_iter=30)\n",
    "m4 = linear_model.Perceptron(n_jobs=4, n_iter=30)\n",
    "\n",
    "p1 = mp.Process(target=m1.fit, args=(X_tr, y_tr))\n",
    "p2 = mp.Process(target=m2.fit, args=(X_tr, y_tr))\n",
    "p3 = mp.Process(target=m3.fit, args=(X_tr, y_tr))\n",
    "p4 = mp.Process(target=m4.fit, args=(X_tr, y_tr))"
   ]
  },
  {
   "cell_type": "code",
   "execution_count": 19,
   "metadata": {},
   "outputs": [
    {
     "name": "stdout",
     "output_type": "stream",
     "text": [
      "CPU times: user 0 ns, sys: 64 ms, total: 64 ms\n",
      "Wall time: 1min\n"
     ]
    }
   ],
   "source": [
    "%%time\n",
    "p1.start()\n",
    "p1.join()\n",
    "p2.start()\n",
    "p2.join()\n",
    "p3.start()\n",
    "p3.join()\n",
    "p4.start()\n",
    "p4.join()"
   ]
  },
  {
   "cell_type": "code",
   "execution_count": 20,
   "metadata": {
    "collapsed": true
   },
   "outputs": [],
   "source": [
    "m1 = linear_model.Perceptron(n_jobs=3, n_iter=30)\n",
    "m2 = linear_model.Perceptron(n_jobs=1, n_iter=30)\n",
    "m3 = linear_model.Perceptron(n_jobs=3, n_iter=30)\n",
    "m4 = linear_model.Perceptron(n_jobs=1, n_iter=30)\n",
    "\n",
    "p1 = mp.Process(target=m1.fit, args=(X_tr, y_tr))\n",
    "p2 = mp.Process(target=m2.fit, args=(X_tr, y_tr))\n",
    "p3 = mp.Process(target=m3.fit, args=(X_tr, y_tr))\n",
    "p4 = mp.Process(target=m4.fit, args=(X_tr, y_tr))"
   ]
  },
  {
   "cell_type": "code",
   "execution_count": 21,
   "metadata": {},
   "outputs": [
    {
     "name": "stdout",
     "output_type": "stream",
     "text": [
      "CPU times: user 8 ms, sys: 64 ms, total: 72 ms\n",
      "Wall time: 1min 16s\n"
     ]
    }
   ],
   "source": [
    "%%time\n",
    "p1.start()\n",
    "p2.start()\n",
    "p1.join()\n",
    "p2.join()\n",
    "p3.start()\n",
    "p4.start()\n",
    "p3.join()\n",
    "p4.join()"
   ]
  },
  {
   "cell_type": "markdown",
   "metadata": {},
   "source": [
    "#### Timing individually"
   ]
  },
  {
   "cell_type": "code",
   "execution_count": 22,
   "metadata": {},
   "outputs": [
    {
     "name": "stdout",
     "output_type": "stream",
     "text": [
      "CPU times: user 8 ms, sys: 12 ms, total: 20 ms\n",
      "Wall time: 15.8 s\n"
     ]
    }
   ],
   "source": [
    "%%time\n",
    "m1 = linear_model.Perceptron(n_jobs=4, n_iter=30)\n",
    "p1 = mp.Process(target=m1.fit, args=(X_tr, y_tr))\n",
    "p1.start()\n",
    "p1.join()"
   ]
  },
  {
   "cell_type": "code",
   "execution_count": 23,
   "metadata": {},
   "outputs": [
    {
     "name": "stdout",
     "output_type": "stream",
     "text": [
      "CPU times: user 8 ms, sys: 4 ms, total: 12 ms\n",
      "Wall time: 16.1 s\n"
     ]
    }
   ],
   "source": [
    "%%time\n",
    "m1 = linear_model.Perceptron(n_jobs=3, n_iter=30)\n",
    "p1 = mp.Process(target=m1.fit, args=(X_tr, y_tr))\n",
    "p1.start()\n",
    "p1.join()"
   ]
  },
  {
   "cell_type": "code",
   "execution_count": 24,
   "metadata": {
    "scrolled": true
   },
   "outputs": [
    {
     "name": "stdout",
     "output_type": "stream",
     "text": [
      "CPU times: user 0 ns, sys: 16 ms, total: 16 ms\n",
      "Wall time: 17.8 s\n"
     ]
    }
   ],
   "source": [
    "%%time\n",
    "m1 = linear_model.Perceptron(n_jobs=2, n_iter=30)\n",
    "p1 = mp.Process(target=m1.fit, args=(X_tr, y_tr))\n",
    "p1.start()\n",
    "p1.join()"
   ]
  },
  {
   "cell_type": "code",
   "execution_count": 10,
   "metadata": {},
   "outputs": [
    {
     "name": "stdout",
     "output_type": "stream",
     "text": [
      "CPU times: user 8 ms, sys: 8 ms, total: 16 ms\n",
      "Wall time: 19.4 s\n"
     ]
    }
   ],
   "source": [
    "%%time\n",
    "m1 = linear_model.Perceptron(n_jobs=1, n_iter=30)\n",
    "p1 = mp.Process(target=m1.fit, args=(X_tr, y_tr))\n",
    "p1.start()\n",
    "p1.join()"
   ]
  },
  {
   "cell_type": "markdown",
   "metadata": {},
   "source": [
    "#### Two at a time"
   ]
  },
  {
   "cell_type": "code",
   "execution_count": 12,
   "metadata": {
    "scrolled": true
   },
   "outputs": [
    {
     "name": "stdout",
     "output_type": "stream",
     "text": [
      "CPU times: user 0 ns, sys: 32 ms, total: 32 ms\n",
      "Wall time: 24.5 s\n"
     ]
    }
   ],
   "source": [
    "%%time\n",
    "m1 = linear_model.Perceptron(n_jobs=1, n_iter=30)\n",
    "p1 = mp.Process(target=m1.fit, args=(X_tr, y_tr))\n",
    "m2 = linear_model.Perceptron(n_jobs=1, n_iter=30)\n",
    "p2 = mp.Process(target=m1.fit, args=(X_tr, y_tr))\n",
    "p1.start()\n",
    "p2.start()\n",
    "p2.join()\n",
    "p1.join()"
   ]
  },
  {
   "cell_type": "code",
   "execution_count": 17,
   "metadata": {},
   "outputs": [
    {
     "name": "stdout",
     "output_type": "stream",
     "text": [
      "CPU times: user 8 ms, sys: 68 ms, total: 76 ms\n",
      "Wall time: 53.7 s\n"
     ]
    }
   ],
   "source": [
    "%%time\n",
    "\n",
    "m1 = linear_model.Perceptron(n_jobs=1, n_iter=30)\n",
    "p1 = mp.Process(target=m1.fit, args=(X_tr, y_tr))\n",
    "m2 = linear_model.Perceptron(n_jobs=1, n_iter=30)\n",
    "p2 = mp.Process(target=m1.fit, args=(X_tr, y_tr))\n",
    "m3 = linear_model.Perceptron(n_jobs=1, n_iter=30)\n",
    "p3 = mp.Process(target=m1.fit, args=(X_tr, y_tr))\n",
    "m4 = linear_model.Perceptron(n_jobs=1, n_iter=30)\n",
    "p4 = mp.Process(target=m1.fit, args=(X_tr, y_tr))\n",
    "\n",
    "p1.start()\n",
    "p2.start()\n",
    "p2.join()\n",
    "p1.join()\n",
    "p3.start()\n",
    "p4.start()\n",
    "p3.join()\n",
    "p4.join()"
   ]
  },
  {
   "cell_type": "code",
   "execution_count": 25,
   "metadata": {},
   "outputs": [
    {
     "name": "stdout",
     "output_type": "stream",
     "text": [
      "CPU times: user 4 ms, sys: 88 ms, total: 92 ms\n",
      "Wall time: 38.8 s\n"
     ]
    }
   ],
   "source": [
    "%%time\n",
    "\n",
    "m1 = linear_model.Perceptron(n_jobs=1, n_iter=30)\n",
    "p1 = mp.Process(target=m1.fit, args=(X_tr, y_tr))\n",
    "m2 = linear_model.Perceptron(n_jobs=1, n_iter=30)\n",
    "p2 = mp.Process(target=m1.fit, args=(X_tr, y_tr))\n",
    "m3 = linear_model.Perceptron(n_jobs=1, n_iter=30)\n",
    "p3 = mp.Process(target=m1.fit, args=(X_tr, y_tr))\n",
    "m4 = linear_model.Perceptron(n_jobs=1, n_iter=30)\n",
    "p4 = mp.Process(target=m1.fit, args=(X_tr, y_tr))\n",
    "\n",
    "p1.start()\n",
    "p2.start()\n",
    "p3.start()\n",
    "p4.start()\n",
    "p2.join()\n",
    "p1.join()\n",
    "p3.join()\n",
    "p4.join()"
   ]
  },
  {
   "cell_type": "markdown",
   "metadata": {},
   "source": [
    "#### More applications than resources"
   ]
  },
  {
   "cell_type": "code",
   "execution_count": 20,
   "metadata": {},
   "outputs": [
    {
     "name": "stdout",
     "output_type": "stream",
     "text": [
      "CPU times: user 8 ms, sys: 144 ms, total: 152 ms\n",
      "Wall time: 59 s\n"
     ]
    }
   ],
   "source": [
    "%%time\n",
    "\n",
    "m1 = linear_model.Perceptron(n_jobs=1, n_iter=30)\n",
    "p1 = mp.Process(target=m1.fit, args=(X_tr, y_tr))\n",
    "m2 = linear_model.Perceptron(n_jobs=1, n_iter=30)\n",
    "p2 = mp.Process(target=m2.fit, args=(X_tr, y_tr))\n",
    "m3 = linear_model.Perceptron(n_jobs=1, n_iter=30)\n",
    "p3 = mp.Process(target=m3.fit, args=(X_tr, y_tr))\n",
    "m4 = linear_model.Perceptron(n_jobs=1, n_iter=30)\n",
    "p4 = mp.Process(target=m4.fit, args=(X_tr, y_tr))\n",
    "m5 = linear_model.Perceptron(n_jobs=1, n_iter=30)\n",
    "p5 = mp.Process(target=m5.fit, args=(X_tr, y_tr))\n",
    "m6 = linear_model.Perceptron(n_jobs=1, n_iter=30)\n",
    "p6 = mp.Process(target=m6.fit, args=(X_tr, y_tr))\n",
    "\n",
    "p1.start()\n",
    "p2.start()\n",
    "p3.start()\n",
    "p4.start()\n",
    "p5.start()\n",
    "p6.start()\n",
    "\n",
    "p2.join()\n",
    "p1.join()\n",
    "p3.join()\n",
    "p4.join()\n",
    "p5.join()\n",
    "p6.join()"
   ]
  },
  {
   "cell_type": "code",
   "execution_count": 24,
   "metadata": {},
   "outputs": [
    {
     "name": "stdout",
     "output_type": "stream",
     "text": [
      "CPU times: user 8 ms, sys: 112 ms, total: 120 ms\n",
      "Wall time: 58.3 s\n"
     ]
    }
   ],
   "source": [
    "%%time\n",
    "m1 = linear_model.Perceptron(n_jobs=2, n_iter=30)\n",
    "p1 = mp.Process(target=m1.fit, args=(X_tr, y_tr))\n",
    "m2 = linear_model.Perceptron(n_jobs=1, n_iter=30)\n",
    "p2 = mp.Process(target=m2.fit, args=(X_tr, y_tr))\n",
    "m3 = linear_model.Perceptron(n_jobs=1, n_iter=30)\n",
    "p3 = mp.Process(target=m3.fit, args=(X_tr, y_tr))\n",
    "m4 = linear_model.Perceptron(n_jobs=1, n_iter=30)\n",
    "p4 = mp.Process(target=m4.fit, args=(X_tr, y_tr))\n",
    "m5 = linear_model.Perceptron(n_jobs=2, n_iter=30)\n",
    "p5 = mp.Process(target=m5.fit, args=(X_tr, y_tr))\n",
    "m6 = linear_model.Perceptron(n_jobs=2, n_iter=30)\n",
    "p6 = mp.Process(target=m6.fit, args=(X_tr, y_tr))\n",
    "\n",
    "p1.start()\n",
    "p2.start()\n",
    "p3.start()\n",
    "p4.start()\n",
    "p2.join()\n",
    "p5.start()\n",
    "p6.start()\n",
    "p1.join()\n",
    "p3.join()\n",
    "p4.join()\n",
    "p5.join()\n",
    "p6.join()"
   ]
  },
  {
   "cell_type": "markdown",
   "metadata": {},
   "source": [
    "#### Without the join.()"
   ]
  },
  {
   "cell_type": "code",
   "execution_count": 26,
   "metadata": {
    "collapsed": true
   },
   "outputs": [],
   "source": [
    "m1 = linear_model.Perceptron(n_jobs=2, n_iter=30)\n",
    "m2 = linear_model.Perceptron(n_jobs=2, n_iter=30)\n",
    "m3 = linear_model.Perceptron(n_jobs=2, n_iter=30)\n",
    "m4 = linear_model.Perceptron(n_jobs=2, n_iter=30)\n",
    "\n",
    "p1 = mp.Process(target=m1.fit, args=(X_tr, y_tr))\n",
    "p2 = mp.Process(target=m2.fit, args=(X_tr, y_tr))\n",
    "p3 = mp.Process(target=m3.fit, args=(X_tr, y_tr))\n",
    "p4 = mp.Process(target=m4.fit, args=(X_tr, y_tr))"
   ]
  },
  {
   "cell_type": "code",
   "execution_count": 27,
   "metadata": {},
   "outputs": [
    {
     "name": "stdout",
     "output_type": "stream",
     "text": [
      "CPU times: user 16 ms, sys: 52 ms, total: 68 ms\n",
      "Wall time: 50.6 s\n"
     ]
    }
   ],
   "source": [
    "%%time\n",
    "p1.start()\n",
    "p2.start()\n",
    "p3.start()\n",
    "p4.start()\n",
    "\n",
    "p1.join()\n",
    "p2.join()\n",
    "p3.join()\n",
    "p4.join()"
   ]
  },
  {
   "cell_type": "markdown",
   "metadata": {},
   "source": [
    "#### With joblib\n",
    "\n",
    "\n",
    "- https://machinelearningmastery.com/save-load-machine-learning-models-python-scikit-learn/"
   ]
  },
  {
   "cell_type": "code",
   "execution_count": null,
   "metadata": {
    "collapsed": true
   },
   "outputs": [],
   "source": [
    "import joblib\n",
    "from joblib import Memory"
   ]
  },
  {
   "cell_type": "code",
   "execution_count": null,
   "metadata": {
    "collapsed": true
   },
   "outputs": [],
   "source": [
    "mem = Memory(cachedir=\"/tmp/joblib\")"
   ]
  },
  {
   "cell_type": "code",
   "execution_count": null,
   "metadata": {
    "collapsed": true
   },
   "outputs": [],
   "source": [
    "from joblib import Parallel, delayed"
   ]
  },
  {
   "cell_type": "code",
   "execution_count": null,
   "metadata": {
    "collapsed": true
   },
   "outputs": [],
   "source": [
    "m1 = linear_model.Perceptron(n_jobs=1, n_iter=30)\n",
    "m2 = linear_model.Perceptron(n_jobs=1, n_iter=30)\n",
    "m3 = linear_model.Perceptron(n_jobs=1, n_iter=30)\n",
    "m4 = linear_model.Perceptron(n_jobs=1, n_iter=30)\n",
    "\n",
    "models = [m1, m2, m3, m4]"
   ]
  },
  {
   "cell_type": "markdown",
   "metadata": {},
   "source": [
    "### Control resource usage\n",
    "- https://docs.python.org/2/library/resource.html#module-resource"
   ]
  },
  {
   "cell_type": "markdown",
   "metadata": {},
   "source": [
    "## Scheduling  processes/resources\n",
    "\n",
    "We would like to, given a set of models to train, control what resources each model is going to use.\n",
    "\n",
    "#### n_jobs\n",
    "\n",
    "    Number of jobs to run in parallel.\n",
    "\n",
    "\n",
    "Some models have the argument `n_jobs` which allows the implementation to use `n_jobs` jobs in parallel using `n_jobs` CPU threads. Not all models have the  `n_jobs`  parameter. \n",
    "\n",
    "#### pre_dispatch\n",
    "\n",
    "```\n",
    "Controls the number of jobs that get dispatched during parallel execution.\n",
    "\n",
    "Reducing this number can be useful to avoid an explosion of memory consumption when more jobs get dispatched than CPUs can process. This parameter can be:\n",
    "    \n",
    "    - None, in which case all the jobs are immediately created and spawned. Use this for lightweight and fast-running jobs, to avoid delays due to on-demand spawning of the jobs\n",
    "    - An int, giving the exact number of total jobs that are spawned\n",
    "    - A string, giving an expression as a function of n_jobs, as in ‘2*n_jobs’\n",
    "```\n",
    "\n",
    "Some functions like `sklearn.model_selection.GridSearchCV` \n",
    "    "
   ]
  },
  {
   "cell_type": "code",
   "execution_count": null,
   "metadata": {
    "collapsed": true
   },
   "outputs": [],
   "source": []
  },
  {
   "cell_type": "code",
   "execution_count": null,
   "metadata": {
    "collapsed": true
   },
   "outputs": [],
   "source": []
  },
  {
   "cell_type": "code",
   "execution_count": null,
   "metadata": {
    "collapsed": true
   },
   "outputs": [],
   "source": []
  },
  {
   "cell_type": "code",
   "execution_count": null,
   "metadata": {
    "collapsed": true
   },
   "outputs": [],
   "source": []
  },
  {
   "cell_type": "code",
   "execution_count": null,
   "metadata": {
    "collapsed": true
   },
   "outputs": [],
   "source": []
  },
  {
   "cell_type": "code",
   "execution_count": null,
   "metadata": {
    "collapsed": true
   },
   "outputs": [],
   "source": []
  },
  {
   "cell_type": "code",
   "execution_count": null,
   "metadata": {
    "collapsed": true
   },
   "outputs": [],
   "source": []
  },
  {
   "cell_type": "code",
   "execution_count": null,
   "metadata": {
    "collapsed": true
   },
   "outputs": [],
   "source": []
  },
  {
   "cell_type": "code",
   "execution_count": null,
   "metadata": {
    "collapsed": true
   },
   "outputs": [],
   "source": []
  },
  {
   "cell_type": "code",
   "execution_count": null,
   "metadata": {
    "collapsed": true
   },
   "outputs": [],
   "source": []
  },
  {
   "cell_type": "code",
   "execution_count": null,
   "metadata": {
    "collapsed": true
   },
   "outputs": [],
   "source": []
  }
 ],
 "metadata": {
  "kernelspec": {
   "display_name": "Python [conda env:tensorflow]",
   "language": "python",
   "name": "conda-env-tensorflow-py"
  },
  "language_info": {
   "codemirror_mode": {
    "name": "ipython",
    "version": 3
   },
   "file_extension": ".py",
   "mimetype": "text/x-python",
   "name": "python",
   "nbconvert_exporter": "python",
   "pygments_lexer": "ipython3",
   "version": "3.6.1"
  }
 },
 "nbformat": 4,
 "nbformat_minor": 2
}

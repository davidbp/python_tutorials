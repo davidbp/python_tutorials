{
 "cells": [
  {
   "cell_type": "code",
   "execution_count": 2,
   "metadata": {
    "collapsed": true
   },
   "outputs": [],
   "source": [
    "import time\n",
    "import multiprocessing"
   ]
  },
  {
   "cell_type": "markdown",
   "metadata": {},
   "source": [
    "# Multiprocessing module\n",
    "\n",
    "The **`multiprocessing`** module allows us to open different threads and do independent computations (at the same time) in different cpu cores.\n",
    "\n",
    "- **`multiprocessing.Process`**: creates a new process identifier. This can be used to start a task that runs as an independent child process in the operating sstem. \n",
    "\n",
    "- **`multiprocessing.Pool`**: creates a pool of workkers that share a chunk of work and return an agretated result.\n",
    "\n",
    "- **`multiprocessing.Queue`**: A FIFO queue allowing multiple producers and consumers.\n",
    "\n",
    "- **`multiprocessing.Pipe`**: A uni- or bidirectional communication channel between two processes.\n",
    "\n",
    "- **`multiprocessing.Manager`**: A high-level managed interface to share Python objects between processes.\n",
    "\n",
    "\n",
    "### Some interesting urls\n",
    "- https://www.youtube.com/watch?v=s1SkCYMnfbY\n",
    "- https://pymotw.com/2/multiprocessing/basics.html\n",
    "- https://www.youtube.com/watch?v=s1SkCYMnfbY\n",
    "- http://joshuagoings.com/2015/08/31/embarassingly-parallel-tasks-in-python/\n",
    "- http://chriskiehl.com/article/parallelism-in-one-line/\n",
    "- https://www.ibm.com/developerworks/aix/library/au-threadingpython/\n",
    "\n",
    "#### BLAS and multiprocessing\n",
    "\n",
    "- https://github.com/obspy/obspy/wiki/Notes-on-Parallel-Processing-with-Python-and-ObsPy\n",
    "\n",
    "#### Joblib\n",
    "- http://www.admin-magazine.com/HPC/Articles/Parallel-Python-with-Joblib\n",
    "\n",
    "## Setting number of threads\n",
    "\n",
    "Setting the number of threads for a given program execution\n",
    "- https://stackoverflow.com/questions/39381974/how-to-set-the-max-thread-a-python-script-could-use-when-calling-from-shell\n",
    "\n",
    "Setting the number of threads for openBLAS/MKL\n",
    "- https://stackoverflow.com/questions/19257070/unintented-multithreading-in-python-scikit-learn\n",
    "\n",
    "Some solutions\n",
    "\n",
    "    python some_program.py --nthread=2"
   ]
  },
  {
   "cell_type": "code",
   "execution_count": 3,
   "metadata": {},
   "outputs": [
    {
     "data": {
      "text/plain": [
       "multiprocessing.context.Process"
      ]
     },
     "execution_count": 3,
     "metadata": {},
     "output_type": "execute_result"
    }
   ],
   "source": [
    "multiprocessing.Process"
   ]
  },
  {
   "cell_type": "code",
   "execution_count": 4,
   "metadata": {},
   "outputs": [
    {
     "data": {
      "text/plain": [
       "<bound method BaseContext.Manager of <multiprocessing.context.DefaultContext object at 0x7f15eae3c358>>"
      ]
     },
     "execution_count": 4,
     "metadata": {},
     "output_type": "execute_result"
    }
   ],
   "source": [
    "multiprocessing.Manager"
   ]
  },
  {
   "cell_type": "markdown",
   "metadata": {},
   "source": [
    "### Example 1: multiprocessing.pool\n",
    "\n",
    "Pool object which offers a convenient means of parallelizing the execution of a function across multiple input values, distributing the input data across processes (data parallelism). \n",
    " \n",
    "Easy way to split a computation that is embarrasinly parallel on a set of parallel processes.\n",
    "\n",
    "    pool = multiprocessing.Pool(processes=n_parallel_processess)\n",
    "    pool.map(some_function, arguments_for_some_function)\n",
    "\n",
    "Important: You cannot use pool.map inside the interpreter. You need to run it as a script inside `if __name__ == '__main__'`\n",
    "\n",
    "\n"
   ]
  },
  {
   "cell_type": "code",
   "execution_count": 5,
   "metadata": {
    "collapsed": true
   },
   "outputs": [],
   "source": [
    "import numpy\n",
    "import numpy.random as random"
   ]
  },
  {
   "cell_type": "code",
   "execution_count": 6,
   "metadata": {
    "collapsed": true
   },
   "outputs": [],
   "source": [
    "def calculate_pi(nbr_estimates):\n",
    "    steps = range(int(nbr_estimates))\n",
    "    nbr_trials_in_unit_circle = 0\n",
    "    for step in steps:\n",
    "        x = random.uniform(0, 1)\n",
    "        y = random.uniform(0, 1)\n",
    "        is_in_unit_circle = x * x + y * y <= 1.0\n",
    "        nbr_trials_in_unit_circle += is_in_unit_circle\n",
    "    return nbr_trials_in_unit_circle"
   ]
  },
  {
   "cell_type": "code",
   "execution_count": 7,
   "metadata": {
    "collapsed": true
   },
   "outputs": [],
   "source": [
    "def estimate_nbr_points_in_quarter_circle(nbr_estimates):\n",
    "    nbr_trials_in_quarter_unit_circle = 0\n",
    "    for step in range(int(nbr_estimates)):\n",
    "        x = random.uniform(0, 1)\n",
    "        y = random.uniform(0, 1)\n",
    "        is_in_unit_circle = x * x + y * y <= 1.0\n",
    "        nbr_trials_in_quarter_unit_circle += is_in_unit_circle\n",
    "        \n",
    "    return nbr_trials_in_quarter_unit_circle"
   ]
  },
  {
   "cell_type": "code",
   "execution_count": 8,
   "metadata": {},
   "outputs": [
    {
     "name": "stdout",
     "output_type": "stream",
     "text": [
      "Making 25000.0 samples per worker\n",
      "Estimated pi 3.14064\n",
      "Delta: 0.16458439826965332\n"
     ]
    }
   ],
   "source": [
    "nbr_samples_in_total = 1e5\n",
    "nbr_parallel_blocks = 4\n",
    "pool = multiprocessing.Pool(processes=nbr_parallel_blocks)\n",
    "nbr_samples_per_worker = nbr_samples_in_total / nbr_parallel_blocks\n",
    "print(\"Making {} samples per worker\".format(nbr_samples_per_worker))\n",
    "nbr_trials_per_process = [nbr_samples_per_worker] * nbr_parallel_blocks\n",
    "t1 = time.time()\n",
    "nbr_in_unit_circles = pool.map(calculate_pi, nbr_trials_per_process)\n",
    "pi_estimate = sum(nbr_in_unit_circles) * 4 / nbr_samples_in_total\n",
    "print(\"Estimated pi\", pi_estimate)\n",
    "print(\"Delta:\", time.time() - t1)"
   ]
  },
  {
   "cell_type": "markdown",
   "metadata": {},
   "source": [
    "### Example 2: Multiprocess.Process\n",
    "\n",
    "We can create a python process doing  `multiprocessing.Process`. \n",
    "\n",
    "        p = multiprocessing.Process(target=function, args=tuple_args_for_function)\n",
    "        p.start()\n",
    "        # Good practize to do\n",
    "        p.join()\n",
    "        \n",
    " \n",
    " \n",
    "run()\n",
    "\n",
    "    Method representing the process’s activity.\n",
    "\n",
    "    You may override this method in a subclass. The standard run() method invokes the callable object passed to the object’s constructor as the target argument, if any, with sequential and keyword arguments taken from the args and kwargs arguments, respectively.\n",
    "\n"
   ]
  },
  {
   "cell_type": "code",
   "execution_count": 24,
   "metadata": {
    "collapsed": true
   },
   "outputs": [],
   "source": [
    "import time\n",
    "from time import sleep"
   ]
  },
  {
   "cell_type": "code",
   "execution_count": 49,
   "metadata": {
    "scrolled": true
   },
   "outputs": [
    {
     "name": "stdout",
     "output_type": "stream",
     "text": [
      "Worker  0\n",
      "Worker  1\n",
      "Worker  2\n",
      "Worker  3\n",
      "Worker  4\n",
      "Worker  5\n",
      "Worker  6\n",
      "Worker  8\n",
      "Worker  7\n",
      "Worker  9\n",
      "Worker  2\n",
      "Worker  0\n",
      "Worker  1\n",
      "Worker  3\n",
      "Worker  4\n",
      "Worker  5\n",
      "Worker  6\n",
      "Worker  7\n",
      "Worker  8\n",
      "Worker  9\n",
      "Worker  2\n",
      "Worker  1\n",
      "Worker  0\n",
      "Worker  3\n",
      "Worker  4\n",
      "Worker  6\n",
      "Worker  5\n",
      "Worker  7\n",
      "Worker  8\n",
      "Worker  9\n"
     ]
    }
   ],
   "source": [
    "import multiprocessing\n",
    "\n",
    "def worker(n):\n",
    "    \"\"\"worker function\"\"\"\n",
    "    for i in range(3):\n",
    "        sleep(2)\n",
    "        print('Worker ', n)\n",
    "    return\n",
    "\n",
    "if __name__ == '__main__':\n",
    "    jobs = []\n",
    "    for i in range(10):\n",
    "        p = multiprocessing.Process(target=worker, args=(i, ))\n",
    "        jobs.append(p)\n",
    "        p.start()"
   ]
  },
  {
   "cell_type": "markdown",
   "metadata": {},
   "source": [
    "### Example 3"
   ]
  },
  {
   "cell_type": "code",
   "execution_count": 45,
   "metadata": {},
   "outputs": [
    {
     "name": "stdout",
     "output_type": "stream",
     "text": [
      "worker 1 Starting\n",
      "my_service Starting\n",
      "Process-110 Starting\n",
      "worker 1 Exiting\n",
      "Process-110 Exiting\n",
      "my_service Exiting\n"
     ]
    }
   ],
   "source": [
    "import multiprocessing\n",
    "import time\n",
    "\n",
    "def worker():\n",
    "    name = multiprocessing.current_process().name\n",
    "    print (name, 'Starting')\n",
    "    time.sleep(2)\n",
    "    print (name, 'Exiting')\n",
    "\n",
    "def my_service():\n",
    "    name = multiprocessing.current_process().name\n",
    "    print (name, 'Starting')\n",
    "    time.sleep(3)\n",
    "    print (name, 'Exiting')\n",
    "\n",
    "service  = multiprocessing.Process(name='my_service', target=my_service)\n",
    "worker_1 = multiprocessing.Process(name='worker 1', target=worker)\n",
    "worker_2 = multiprocessing.Process(target=worker) # use default name\n",
    "\n",
    "worker_1.start()\n",
    "worker_2.start()\n",
    "service.start()"
   ]
  },
  {
   "cell_type": "markdown",
   "metadata": {},
   "source": [
    "### Example 3"
   ]
  },
  {
   "cell_type": "code",
   "execution_count": 9,
   "metadata": {
    "collapsed": true
   },
   "outputs": [],
   "source": [
    "square_result = []\n",
    "\n",
    "def calc_square(numbers):\n",
    "    global squared_result\n",
    "    for n in numbers:\n",
    "        square_result.append(n*n)"
   ]
  },
  {
   "cell_type": "code",
   "execution_count": 10,
   "metadata": {
    "collapsed": true
   },
   "outputs": [],
   "source": [
    "arr = [2 for i in range(10**5)]"
   ]
  },
  {
   "cell_type": "code",
   "execution_count": 11,
   "metadata": {
    "collapsed": true
   },
   "outputs": [],
   "source": [
    "p1 = multiprocessing.Process(target = calc_square, args= (arr,) ) "
   ]
  },
  {
   "cell_type": "code",
   "execution_count": 12,
   "metadata": {
    "collapsed": true
   },
   "outputs": [],
   "source": [
    "p1.start()\n",
    "p1.join()"
   ]
  },
  {
   "cell_type": "code",
   "execution_count": 13,
   "metadata": {},
   "outputs": [
    {
     "data": {
      "text/plain": [
       "[]"
      ]
     },
     "execution_count": 13,
     "metadata": {},
     "output_type": "execute_result"
    }
   ],
   "source": [
    "square_result"
   ]
  },
  {
   "cell_type": "markdown",
   "metadata": {},
   "source": [
    "Why is squared result empty?\n",
    "\n",
    "The reason is because the new process has its own adress space (virtual memory). Therefore program variables are not shared between two processes. Interprocess communication (IPC) is needed to share data between two processes.\n"
   ]
  },
  {
   "cell_type": "markdown",
   "metadata": {},
   "source": [
    "### Example 3: Share data between processes\n",
    "\n",
    "\n",
    "- multiprocessing.Array\n",
    "- multiprocessing.Value\n",
    "\n"
   ]
  },
  {
   "cell_type": "code",
   "execution_count": 14,
   "metadata": {
    "collapsed": true
   },
   "outputs": [],
   "source": [
    "def calc_square(numbers, result):\n",
    "    # this does not work\n",
    "    #for n in numbers:\n",
    "    #    result.append(n*n) \n",
    "    for idx, n in enumerate(numbers):\n",
    "        result[idx] = n*n\n",
    "\n",
    "numbers = [2,3,4,5,6,7]\n",
    "result = multiprocessing.Array(\"i\", len(numbers))"
   ]
  },
  {
   "cell_type": "code",
   "execution_count": 15,
   "metadata": {},
   "outputs": [
    {
     "data": {
      "text/plain": [
       "[0, 0, 0, 0, 0, 0]"
      ]
     },
     "execution_count": 15,
     "metadata": {},
     "output_type": "execute_result"
    }
   ],
   "source": [
    "result[:]"
   ]
  },
  {
   "cell_type": "code",
   "execution_count": 16,
   "metadata": {
    "collapsed": true
   },
   "outputs": [],
   "source": [
    "p = multiprocessing.Process(target=calc_square, args=(numbers, result))\n",
    "p.start()\n",
    "p.join()"
   ]
  },
  {
   "cell_type": "code",
   "execution_count": 17,
   "metadata": {},
   "outputs": [
    {
     "data": {
      "text/plain": [
       "[4, 9, 16, 25, 36, 49]"
      ]
     },
     "execution_count": 17,
     "metadata": {},
     "output_type": "execute_result"
    }
   ],
   "source": [
    "result[:]"
   ]
  },
  {
   "cell_type": "code",
   "execution_count": null,
   "metadata": {
    "collapsed": true
   },
   "outputs": [],
   "source": []
  },
  {
   "cell_type": "markdown",
   "metadata": {},
   "source": [
    "## Defining and executing processes\n",
    "\n",
    "http://sebastianraschka.com/Articles/2014_multiprocessing.html"
   ]
  },
  {
   "cell_type": "code",
   "execution_count": null,
   "metadata": {
    "collapsed": true
   },
   "outputs": [],
   "source": []
  },
  {
   "cell_type": "code",
   "execution_count": null,
   "metadata": {
    "collapsed": true
   },
   "outputs": [],
   "source": []
  },
  {
   "cell_type": "code",
   "execution_count": null,
   "metadata": {
    "collapsed": true
   },
   "outputs": [],
   "source": []
  },
  {
   "cell_type": "code",
   "execution_count": null,
   "metadata": {
    "collapsed": true
   },
   "outputs": [],
   "source": []
  },
  {
   "cell_type": "code",
   "execution_count": null,
   "metadata": {
    "collapsed": true
   },
   "outputs": [],
   "source": []
  }
 ],
 "metadata": {
  "kernelspec": {
   "display_name": "Python [default]",
   "language": "python",
   "name": "python3"
  },
  "language_info": {
   "codemirror_mode": {
    "name": "ipython",
    "version": 3
   },
   "file_extension": ".py",
   "mimetype": "text/x-python",
   "name": "python",
   "nbconvert_exporter": "python",
   "pygments_lexer": "ipython3",
   "version": "3.6.1"
  }
 },
 "nbformat": 4,
 "nbformat_minor": 1
}

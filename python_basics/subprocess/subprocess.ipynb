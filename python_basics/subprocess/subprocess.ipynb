{
 "cells": [
  {
   "cell_type": "code",
   "execution_count": 150,
   "metadata": {},
   "outputs": [],
   "source": [
    "import subprocess"
   ]
  },
  {
   "cell_type": "markdown",
   "metadata": {},
   "source": [
    "# Subprocess\n",
    "\n",
    "The module `subprocess` lets you spawn new processes, connect to their input/error/output pipes, and acquire their return codes. \n"
   ]
  },
  {
   "cell_type": "markdown",
   "metadata": {},
   "source": [
    "\n",
    "## `subprocess.call`\n",
    "\n",
    "\n",
    "The method `subprocess.call()` returnes an integer stating whether the command was executed (0) or crashed (1).\n",
    "\n",
    "\n"
   ]
  },
  {
   "cell_type": "code",
   "execution_count": 216,
   "metadata": {},
   "outputs": [
    {
     "data": {
      "text/plain": [
       "(int, 0)"
      ]
     },
     "execution_count": 216,
     "metadata": {},
     "output_type": "execute_result"
    }
   ],
   "source": [
    "out = subprocess.call('ls -l',shell=True)\n",
    "type(out), out"
   ]
  },
  {
   "cell_type": "code",
   "execution_count": 217,
   "metadata": {},
   "outputs": [
    {
     "data": {
      "text/plain": [
       "(int, 1)"
      ]
     },
     "execution_count": 217,
     "metadata": {},
     "output_type": "execute_result"
    }
   ],
   "source": [
    "out = subprocess.call('ls unexpected',shell=True)\n",
    "type(out), out"
   ]
  },
  {
   "cell_type": "markdown",
   "metadata": {},
   "source": [
    "## `subprocess.run`\n",
    "\n",
    "\n",
    "The method `subprocess.run()` does the same as  `subproces.call()` but returns a `CompletedProcess` instance.\n",
    "\n",
    "\n",
    "\n",
    "`subprocess.run` was added in Python 3.5 as a simplification over `subprocess.Popen` when you just want to execute a command and wait until it finishes, but you don't want to do anything else meanwhile. For other cases, you still need to use `subprocess.Popen`.\n",
    "\n",
    "The method `subprocess.run` can be used to run a shell command inside python.\n",
    "\n",
    "Notice that if do not specify an output what returns is empty."
   ]
  },
  {
   "cell_type": "code",
   "execution_count": 339,
   "metadata": {},
   "outputs": [
    {
     "name": "stdout",
     "output_type": "stream",
     "text": [
      "proc_stdout:\n",
      "\n",
      "None\n",
      "\n",
      "\n",
      "proc_stderr:\n",
      "\n",
      "None\n",
      "\n",
      "\n",
      "returncode:0\n"
     ]
    }
   ],
   "source": [
    "completed_process = subprocess.run([\"ls\", \"../\"], stdout=True)\n",
    "print(\"proc_stdout:\\n\\n{}\\n\\n\".format(completed_process.stdout))\n",
    "print(\"proc_stderr:\\n\\n{}\\n\\n\".format(completed_process.stderr))\n",
    "print(\"returncode:{}\".format(completed_process.returncode))"
   ]
  },
  {
   "cell_type": "code",
   "execution_count": 157,
   "metadata": {},
   "outputs": [
    {
     "data": {
      "text/plain": [
       "subprocess.CompletedProcess"
      ]
     },
     "execution_count": 157,
     "metadata": {},
     "output_type": "execute_result"
    }
   ],
   "source": [
    "type(completed_process)"
   ]
  },
  {
   "cell_type": "code",
   "execution_count": 121,
   "metadata": {},
   "outputs": [
    {
     "name": "stdout",
     "output_type": "stream",
     "text": [
      "None\n",
      "None\n"
     ]
    }
   ],
   "source": [
    "print(completed_process.stdout)\n",
    "print(completed_process.stderr)"
   ]
  },
  {
   "cell_type": "markdown",
   "metadata": {},
   "source": [
    "Notice that since we did not specify to capture the output (stdout/stderr) of the shell command then we get an object `completed_process` with nothing inside `completed_process.stdout` or `completed_process.stderr`.\n",
    "\n",
    "- **`capture_output`**`= True` allows us to get stdout/stderr in the returned object.\n",
    "- **`capture_output`**`= False` does not capture  stdout/stderr in the returned object.\n",
    "\n",
    "\n",
    "\n",
    "- **`test`**`= True` makes fields `.stdout` and `.stderr` in the returned object a `str`.\n",
    "- **`test`**`= False` makes fields `.stdout` and `.stderr` in the returned object a `byte`.\n",
    "\n",
    "\n",
    "\n"
   ]
  },
  {
   "cell_type": "code",
   "execution_count": 341,
   "metadata": {},
   "outputs": [
    {
     "name": "stdout",
     "output_type": "stream",
     "text": [
      "proc_stdout:\n",
      "\n",
      "b'async\\nconcurrent_execution\\nio\\nos_communication\\nstrings\\nsubprocess\\nsys\\n'\n",
      "\n",
      "\n",
      "proc_stderr:\n",
      "\n",
      "b''\n",
      "\n",
      "\n",
      "returncode:0\n"
     ]
    }
   ],
   "source": [
    "completed_process = subprocess.run([\"ls ../\"], shell=True, capture_output=True, text=False)\n",
    "print(\"proc_stdout:\\n\\n{}\\n\\n\".format(completed_process.stdout))\n",
    "print(\"proc_stderr:\\n\\n{}\\n\\n\".format(completed_process.stderr))\n",
    "print(\"returncode:{}\".format(completed_process.returncode))"
   ]
  },
  {
   "cell_type": "markdown",
   "metadata": {},
   "source": [
    "#### Runing example"
   ]
  },
  {
   "cell_type": "code",
   "execution_count": 342,
   "metadata": {},
   "outputs": [
    {
     "name": "stdout",
     "output_type": "stream",
     "text": [
      "proc_stdout:\n",
      "\n",
      "async\n",
      "concurrent_execution\n",
      "io\n",
      "os_communication\n",
      "strings\n",
      "subprocess\n",
      "sys\n",
      "\n",
      "\n",
      "\n",
      "proc_stderr:\n",
      "\n",
      "\n",
      "\n",
      "\n",
      "returncode:0\n"
     ]
    }
   ],
   "source": [
    "cmd = [\"ls ../\"]\n",
    "completed_process = subprocess.run(cmd, shell=True, capture_output=True, text=True)\n",
    "print(\"proc_stdout:\\n\\n{}\\n\\n\".format(completed_process.stdout))\n",
    "print(\"proc_stderr:\\n\\n{}\\n\\n\".format(completed_process.stderr))\n",
    "print(\"returncode:{}\".format(completed_process.returncode))"
   ]
  },
  {
   "cell_type": "markdown",
   "metadata": {},
   "source": [
    "Notice that `completed_process.stderr` is empty because there was no error in the execution of the command."
   ]
  },
  {
   "cell_type": "markdown",
   "metadata": {},
   "source": [
    "#### Crashing example\n",
    "\n",
    "On the contrary, if a command breaks then we will have something in `.stderr`"
   ]
  },
  {
   "cell_type": "code",
   "execution_count": 344,
   "metadata": {},
   "outputs": [
    {
     "name": "stdout",
     "output_type": "stream",
     "text": [
      "proc_stdout:\n",
      "\n",
      "\n",
      "\n",
      "\n",
      "proc_stderr:\n",
      "\n",
      "ls: unexpected: No such file or directory\n",
      "\n",
      "\n",
      "\n",
      "returncode:1\n"
     ]
    }
   ],
   "source": [
    "cmd = [\"ls unexpected\"]\n",
    "completed_process = subprocess.run(cmd, shell=True, capture_output=True, text=True)\n",
    "print(\"proc_stdout:\\n\\n{}\\n\\n\".format(completed_process.stdout))\n",
    "print(\"proc_stderr:\\n\\n{}\\n\\n\".format(completed_process.stderr))\n",
    "print(\"returncode:{}\".format(completed_process.returncode))"
   ]
  },
  {
   "cell_type": "markdown",
   "metadata": {},
   "source": [
    "## `subprocess.Popen`\n",
    "\n",
    "The main difference is that `subprocess.run` executes a command and waits for it to finish, while with `subprocess.Popen` you can continue doing your stuff while the process finishes and then just repeatedly call `subprocess.communicate` yourself to pass and receive data to your process.\n",
    "\n",
    "Note that, what `subprocess.run` is actually doing is invoking for you the `Popen` and `communicate`, so you don't need to make a loop to pass/receive data nor wait for the process to finish.\n",
    "\n"
   ]
  },
  {
   "cell_type": "markdown",
   "metadata": {},
   "source": [
    "#### Running example"
   ]
  },
  {
   "cell_type": "code",
   "execution_count": 346,
   "metadata": {},
   "outputs": [
    {
     "name": "stdout",
     "output_type": "stream",
     "text": [
      "proc_stdout:\n",
      "\n",
      "async\n",
      "concurrent_execution\n",
      "io\n",
      "os_communication\n",
      "strings\n",
      "subprocess\n",
      "sys\n",
      "\n",
      "\n",
      "\n",
      "proc_stderr:\n",
      "\n",
      "\n",
      "\n",
      "\n",
      "returncode:1\n"
     ]
    }
   ],
   "source": [
    "cmd = [\"ls ../\"]\n",
    "proc = subprocess.Popen(cmd, shell=True,  stdout=subprocess.PIPE, stderr=subprocess.PIPE, text=True)\n",
    "proc_stdout, proc_stderr = proc.communicate()\n",
    "print(\"proc_stdout:\\n\\n{}\\n\\n\".format(proc_stdout))\n",
    "print(\"proc_stderr:\\n\\n{}\\n\\n\".format(proc_stderr))\n",
    "print(\"returncode:{}\".format(completed_process.returncode))"
   ]
  },
  {
   "cell_type": "markdown",
   "metadata": {},
   "source": [
    "#### Crashing example\n"
   ]
  },
  {
   "cell_type": "code",
   "execution_count": 347,
   "metadata": {},
   "outputs": [
    {
     "name": "stdout",
     "output_type": "stream",
     "text": [
      "proc_stdout:\n",
      "\n",
      "\n",
      "\n",
      "\n",
      "proc_stderr:\n",
      "\n",
      "ls: unexpected: No such file or directory\n",
      "\n",
      "\n",
      "\n",
      "returncode:1\n"
     ]
    }
   ],
   "source": [
    "cmd = [\"ls unexpected\"]\n",
    "proc = subprocess.Popen(cmd, shell=True,  stdout=subprocess.PIPE, stderr=subprocess.PIPE, text=True)\n",
    "proc_stdout, proc_stderr = proc.communicate()\n",
    "print(\"proc_stdout:\\n\\n{}\\n\\n\".format(proc_stdout))\n",
    "print(\"proc_stderr:\\n\\n{}\\n\\n\".format(proc_stderr))\n",
    "print(\"returncode:{}\".format(completed_process.returncode))"
   ]
  },
  {
   "cell_type": "markdown",
   "metadata": {},
   "source": [
    "## `subprocess.check_output`"
   ]
  },
  {
   "cell_type": "markdown",
   "metadata": {},
   "source": [
    "We can use `subprocess.check_output(cmd,shell=True)` to excute a command `cmd` to the shell."
   ]
  },
  {
   "cell_type": "code",
   "execution_count": 333,
   "metadata": {},
   "outputs": [],
   "source": [
    "output = subprocess.check_output(\"ls ../\", shell=True)"
   ]
  },
  {
   "cell_type": "code",
   "execution_count": 334,
   "metadata": {
    "scrolled": true
   },
   "outputs": [
    {
     "data": {
      "text/plain": [
       "bytes"
      ]
     },
     "execution_count": 334,
     "metadata": {},
     "output_type": "execute_result"
    }
   ],
   "source": [
    "type(output)"
   ]
  },
  {
   "cell_type": "code",
   "execution_count": 335,
   "metadata": {
    "scrolled": false
   },
   "outputs": [
    {
     "name": "stdout",
     "output_type": "stream",
     "text": [
      "async\n",
      "concurrent_execution\n",
      "io\n",
      "os_communication\n",
      "strings\n",
      "subprocess\n",
      "sys\n",
      "\n"
     ]
    }
   ],
   "source": [
    "print(output.decode())"
   ]
  }
 ],
 "metadata": {
  "kernelspec": {
   "display_name": "Python 3",
   "language": "python",
   "name": "python3"
  },
  "language_info": {
   "codemirror_mode": {
    "name": "ipython",
    "version": 3
   },
   "file_extension": ".py",
   "mimetype": "text/x-python",
   "name": "python",
   "nbconvert_exporter": "python",
   "pygments_lexer": "ipython3",
   "version": "3.7.3"
  }
 },
 "nbformat": 4,
 "nbformat_minor": 2
}

{
 "cells": [
  {
   "cell_type": "markdown",
   "metadata": {},
   "source": [
    "# Navigating inside the os\n",
    "\n",
    "\n",
    "\n",
    "Nice explanations:\n",
    "- https://www.pythonlearn.com/html-008/cfbook017.html\n",
    "\n",
    "#### Relevant functions in `os`\n",
    "\n",
    "- **`os.getcwd()`** returns a string with the path of the current working directory.\n",
    "\n",
    "- **`os.path.abspath(file)`** returns a string with the absolute path of the file.\n",
    "\n",
    "- **`os.listdir()`** returns a list containing all files and folders in the current directory.\n",
    "\n",
    "\n",
    "- **`os.mkdir(dirname)`** creates a directory with name `dirname`.\n",
    "\n",
    "\n",
    "- **`os.makedirs(dirname)`** creates a directory with name `dirname`. If `dirname` if dirname contains several levels of directories they will also be created (this does not happen with `os.mkdir`).\n",
    "\n",
    "\n",
    "- **`os.rmdir(dirname)`** deletes the directory.\n",
    "\n",
    "\n",
    "- **`os.removedirs(dirname)`** deletes the directory and all intermediate directories.\n",
    "\n",
    "\n",
    "-  **`os.rename(filename1, filename2)`** renames `filename1` with `filename2`.\n",
    "\n",
    "\n",
    "- **`os.stat(filename)`** returns information about `filename` such as the file size.\n",
    "\n",
    "\n",
    "- **`os.walk()`** returns a `generator` used to navigate throghout the filesystem tree. The generator yeilds a tuple of 3 values. The 3 values correspond to the dirpath, dirnames (inside dirpath), filenames (inside dirpath).\n",
    "\n",
    "\n",
    "- **`os.environ`** returns a `os._Environ` type  cotaining information about the environment variables. For example, `os.environ.get('HOME')` will return the home directory."
   ]
  },
  {
   "cell_type": "code",
   "execution_count": 1,
   "metadata": {
    "collapsed": true
   },
   "outputs": [],
   "source": [
    "import os"
   ]
  },
  {
   "cell_type": "code",
   "execution_count": 2,
   "metadata": {},
   "outputs": [
    {
     "data": {
      "text/plain": [
       "'/Users/david/Documents/git_stuff/python_tutorials/os_communication'"
      ]
     },
     "execution_count": 2,
     "metadata": {},
     "output_type": "execute_result"
    }
   ],
   "source": [
    "os.getcwd()"
   ]
  },
  {
   "cell_type": "code",
   "execution_count": 3,
   "metadata": {},
   "outputs": [
    {
     "data": {
      "text/plain": [
       "['.DS_Store',\n",
       " '.ipynb_checkpoints',\n",
       " 'folder_for_tests',\n",
       " 'os_navigation.ipynb',\n",
       " 'test.txt']"
      ]
     },
     "execution_count": 3,
     "metadata": {},
     "output_type": "execute_result"
    }
   ],
   "source": [
    "os.listdir()"
   ]
  },
  {
   "cell_type": "code",
   "execution_count": 4,
   "metadata": {},
   "outputs": [
    {
     "data": {
      "text/plain": [
       "'/Users/david/Documents/git_stuff/python_tutorials/os_communication/test.txt'"
      ]
     },
     "execution_count": 4,
     "metadata": {},
     "output_type": "execute_result"
    }
   ],
   "source": [
    "os.path.abspath('test.txt')"
   ]
  },
  {
   "cell_type": "code",
   "execution_count": 5,
   "metadata": {},
   "outputs": [
    {
     "data": {
      "text/plain": [
       "'/Users/david/Documents/git_stuff/python_tutorials/os_communication'"
      ]
     },
     "execution_count": 5,
     "metadata": {},
     "output_type": "execute_result"
    }
   ],
   "source": [
    "os.path.abspath('')"
   ]
  },
  {
   "cell_type": "code",
   "execution_count": 6,
   "metadata": {},
   "outputs": [
    {
     "name": "stdout",
     "output_type": "stream",
     "text": [
      "['.DS_Store', '.ipynb_checkpoints', 'folder_for_tests', 'os_navigation.ipynb', 'test.txt']\n"
     ]
    }
   ],
   "source": [
    "# Look all that is inside the path\n",
    "path = \"./\"\n",
    "print(os.listdir(path))"
   ]
  },
  {
   "cell_type": "code",
   "execution_count": 7,
   "metadata": {
    "collapsed": true
   },
   "outputs": [],
   "source": [
    "os.mkdir('created_by_me')"
   ]
  },
  {
   "cell_type": "code",
   "execution_count": 8,
   "metadata": {},
   "outputs": [
    {
     "data": {
      "text/plain": [
       "['.DS_Store',\n",
       " '.ipynb_checkpoints',\n",
       " 'created_by_me',\n",
       " 'folder_for_tests',\n",
       " 'os_navigation.ipynb',\n",
       " 'test.txt']"
      ]
     },
     "execution_count": 8,
     "metadata": {},
     "output_type": "execute_result"
    }
   ],
   "source": [
    "os.listdir()"
   ]
  },
  {
   "cell_type": "code",
   "execution_count": 9,
   "metadata": {},
   "outputs": [
    {
     "ename": "FileNotFoundError",
     "evalue": "[Errno 2] No such file or directory: 'created_by_me/A/B'",
     "output_type": "error",
     "traceback": [
      "\u001b[0;31m--------------------------------------------------------------------------\u001b[0m",
      "\u001b[0;31mFileNotFoundError\u001b[0m                        Traceback (most recent call last)",
      "\u001b[0;32m<ipython-input-9-fc2fe6119a79>\u001b[0m in \u001b[0;36m<module>\u001b[0;34m()\u001b[0m\n\u001b[1;32m      1\u001b[0m \u001b[0;31m# This will not work since B is created in A\u001b[0m\u001b[0;34m\u001b[0m\u001b[0;34m\u001b[0m\u001b[0m\n\u001b[1;32m      2\u001b[0m \u001b[0;31m# and A does not exit\u001b[0m\u001b[0;34m\u001b[0m\u001b[0;34m\u001b[0m\u001b[0m\n\u001b[0;32m----> 3\u001b[0;31m \u001b[0mos\u001b[0m\u001b[0;34m.\u001b[0m\u001b[0mmkdir\u001b[0m\u001b[0;34m(\u001b[0m\u001b[0;34m'created_by_me/A/B'\u001b[0m\u001b[0;34m)\u001b[0m\u001b[0;34m\u001b[0m\u001b[0m\n\u001b[0m",
      "\u001b[0;31mFileNotFoundError\u001b[0m: [Errno 2] No such file or directory: 'created_by_me/A/B'"
     ]
    }
   ],
   "source": [
    "# This will not work since B is created in A\n",
    "# and A does not exit\n",
    "os.mkdir('created_by_me/A/B')"
   ]
  },
  {
   "cell_type": "code",
   "execution_count": 10,
   "metadata": {
    "collapsed": true
   },
   "outputs": [],
   "source": [
    "os.makedirs('created_by_me/A/B')"
   ]
  },
  {
   "cell_type": "code",
   "execution_count": 11,
   "metadata": {},
   "outputs": [
    {
     "data": {
      "text/plain": [
       "['.DS_Store',\n",
       " '.ipynb_checkpoints',\n",
       " 'created_by_me',\n",
       " 'folder_for_tests',\n",
       " 'os_navigation.ipynb',\n",
       " 'test.txt']"
      ]
     },
     "execution_count": 11,
     "metadata": {},
     "output_type": "execute_result"
    }
   ],
   "source": [
    "os.listdir()"
   ]
  },
  {
   "cell_type": "code",
   "execution_count": 12,
   "metadata": {
    "collapsed": true
   },
   "outputs": [],
   "source": [
    "os.removedirs('created_by_me/A/B')"
   ]
  },
  {
   "cell_type": "code",
   "execution_count": 13,
   "metadata": {
    "scrolled": true
   },
   "outputs": [
    {
     "data": {
      "text/plain": [
       "['.DS_Store',\n",
       " '.ipynb_checkpoints',\n",
       " 'folder_for_tests',\n",
       " 'os_navigation.ipynb',\n",
       " 'test.txt']"
      ]
     },
     "execution_count": 13,
     "metadata": {},
     "output_type": "execute_result"
    }
   ],
   "source": [
    "os.listdir()"
   ]
  },
  {
   "cell_type": "code",
   "execution_count": 14,
   "metadata": {},
   "outputs": [
    {
     "data": {
      "text/plain": [
       "os.stat_result(st_mode=33188, st_ino=19316662, st_dev=16777220, st_nlink=1, st_uid=502, st_gid=20, st_size=16, st_atime=1514416427, st_mtime=1514394462, st_ctime=1514394462)"
      ]
     },
     "execution_count": 14,
     "metadata": {},
     "output_type": "execute_result"
    }
   ],
   "source": [
    "filename = './folder_for_tests/A_txt_files/f1.txt'\n",
    "os.stat(filename)"
   ]
  },
  {
   "cell_type": "code",
   "execution_count": 15,
   "metadata": {},
   "outputs": [
    {
     "name": "stdout",
     "output_type": "stream",
     "text": [
      "Size of the file in bytes: 16\n"
     ]
    }
   ],
   "source": [
    "print(\"Size of the file in bytes:\", os.stat(filename).st_size)"
   ]
  },
  {
   "cell_type": "code",
   "execution_count": 16,
   "metadata": {},
   "outputs": [
    {
     "name": "stdout",
     "output_type": "stream",
     "text": [
      "The file was modified in: 2017-12-27 18:07:42\n"
     ]
    }
   ],
   "source": [
    "from datetime import datetime\n",
    "modification_time = os.stat(filename).st_mtime\n",
    "print(\"The file was modified in:\", \n",
    "      datetime.fromtimestamp(modification_time))"
   ]
  },
  {
   "cell_type": "code",
   "execution_count": 17,
   "metadata": {},
   "outputs": [
    {
     "data": {
      "text/plain": [
       "'/Users/david'"
      ]
     },
     "execution_count": 17,
     "metadata": {},
     "output_type": "execute_result"
    }
   ],
   "source": [
    "os.environ.get('HOME')"
   ]
  },
  {
   "cell_type": "markdown",
   "metadata": {},
   "source": [
    "#### About os.path"
   ]
  },
  {
   "cell_type": "code",
   "execution_count": 18,
   "metadata": {},
   "outputs": [
    {
     "data": {
      "text/plain": [
       "'/Users/david/some_file_.txt'"
      ]
     },
     "execution_count": 18,
     "metadata": {},
     "output_type": "execute_result"
    }
   ],
   "source": [
    "filepath=os.path.join(os.environ.get('HOME'), 'some_file_.txt')\n",
    "filepath"
   ]
  },
  {
   "cell_type": "code",
   "execution_count": 19,
   "metadata": {},
   "outputs": [
    {
     "data": {
      "text/plain": [
       "'f.txt'"
      ]
     },
     "execution_count": 19,
     "metadata": {},
     "output_type": "execute_result"
    }
   ],
   "source": [
    "os.path.basename('inventedpath/another_invented/f.txt')"
   ]
  },
  {
   "cell_type": "code",
   "execution_count": 20,
   "metadata": {},
   "outputs": [
    {
     "data": {
      "text/plain": [
       "'inventedpath/another_invented'"
      ]
     },
     "execution_count": 20,
     "metadata": {},
     "output_type": "execute_result"
    }
   ],
   "source": [
    "os.path.dirname('inventedpath/another_invented/f.txt')"
   ]
  },
  {
   "cell_type": "code",
   "execution_count": 21,
   "metadata": {},
   "outputs": [
    {
     "data": {
      "text/plain": [
       "('inventedpath/another_invented', 'f.txt')"
      ]
     },
     "execution_count": 21,
     "metadata": {},
     "output_type": "execute_result"
    }
   ],
   "source": [
    "os.path.split('inventedpath/another_invented/f.txt')"
   ]
  },
  {
   "cell_type": "code",
   "execution_count": 22,
   "metadata": {},
   "outputs": [
    {
     "data": {
      "text/plain": [
       "False"
      ]
     },
     "execution_count": 22,
     "metadata": {},
     "output_type": "execute_result"
    }
   ],
   "source": [
    "os.path.exists('inventedpath/another_invented/f.txt')"
   ]
  },
  {
   "cell_type": "code",
   "execution_count": 23,
   "metadata": {},
   "outputs": [
    {
     "data": {
      "text/plain": [
       "False"
      ]
     },
     "execution_count": 23,
     "metadata": {},
     "output_type": "execute_result"
    }
   ],
   "source": [
    "os.path.isdir('inventedpath/another_invented/f.txt')"
   ]
  },
  {
   "cell_type": "code",
   "execution_count": 24,
   "metadata": {},
   "outputs": [
    {
     "data": {
      "text/plain": [
       "False"
      ]
     },
     "execution_count": 24,
     "metadata": {},
     "output_type": "execute_result"
    }
   ],
   "source": [
    "os.path.isfile('inventedpath/another_invented/f.txt')"
   ]
  },
  {
   "cell_type": "code",
   "execution_count": 25,
   "metadata": {},
   "outputs": [
    {
     "data": {
      "text/plain": [
       "('inventedpath/another_invented/f', '.txt')"
      ]
     },
     "execution_count": 25,
     "metadata": {},
     "output_type": "execute_result"
    }
   ],
   "source": [
    "## root and extension\n",
    "os.path.splitext('inventedpath/another_invented/f.txt')"
   ]
  },
  {
   "cell_type": "markdown",
   "metadata": {},
   "source": [
    "#### copy files\n",
    "\n",
    "We can use the `shutil` library from the standard python library to move and copy files"
   ]
  },
  {
   "cell_type": "code",
   "execution_count": 26,
   "metadata": {
    "collapsed": true
   },
   "outputs": [],
   "source": [
    "import shutil"
   ]
  },
  {
   "cell_type": "code",
   "execution_count": 27,
   "metadata": {},
   "outputs": [
    {
     "data": {
      "text/plain": [
       "['.DS_Store',\n",
       " '.ipynb_checkpoints',\n",
       " 'folder_for_tests',\n",
       " 'os_navigation.ipynb',\n",
       " 'test.txt']"
      ]
     },
     "execution_count": 27,
     "metadata": {},
     "output_type": "execute_result"
    }
   ],
   "source": [
    "os.listdir()"
   ]
  },
  {
   "cell_type": "code",
   "execution_count": 28,
   "metadata": {},
   "outputs": [
    {
     "data": {
      "text/plain": [
       "['.DS_Store', 'A_txt_files', 'B_txt_files', 'test.txt']"
      ]
     },
     "execution_count": 28,
     "metadata": {},
     "output_type": "execute_result"
    }
   ],
   "source": [
    "os.listdir('folder_for_tests/')"
   ]
  },
  {
   "cell_type": "code",
   "execution_count": 29,
   "metadata": {},
   "outputs": [
    {
     "data": {
      "text/plain": [
       "'./folder_for_tests/test.txt'"
      ]
     },
     "execution_count": 29,
     "metadata": {},
     "output_type": "execute_result"
    }
   ],
   "source": [
    "# copies test.txt from the main folder to /folder_for_tests/\n",
    "shutil.copy2('test.txt', './folder_for_tests/test.txt')"
   ]
  },
  {
   "cell_type": "code",
   "execution_count": 30,
   "metadata": {},
   "outputs": [
    {
     "data": {
      "text/plain": [
       "['.DS_Store', 'A_txt_files', 'B_txt_files', 'test.txt']"
      ]
     },
     "execution_count": 30,
     "metadata": {},
     "output_type": "execute_result"
    }
   ],
   "source": [
    "os.listdir('folder_for_tests/')"
   ]
  },
  {
   "cell_type": "markdown",
   "metadata": {},
   "source": [
    "\n",
    "## Navigating the filesystem"
   ]
  },
  {
   "cell_type": "markdown",
   "metadata": {},
   "source": [
    "We can walk over all the folders and subfolders of a a given `path` using the **`os.walk(path)`**. The `os.walk` method returns a `generator`.\n",
    "\n",
    "Let us use this function to print all subfolders of `folder_for_tests` which is a folder containing several subfolders that we will use to test the different functions in `os`."
   ]
  },
  {
   "cell_type": "code",
   "execution_count": 31,
   "metadata": {},
   "outputs": [
    {
     "data": {
      "text/plain": [
       "generator"
      ]
     },
     "execution_count": 31,
     "metadata": {},
     "output_type": "execute_result"
    }
   ],
   "source": [
    "type(os.walk(path))"
   ]
  },
  {
   "cell_type": "code",
   "execution_count": 32,
   "metadata": {},
   "outputs": [
    {
     "name": "stdout",
     "output_type": "stream",
     "text": [
      "Current path: ./folder_for_tests/\n",
      "Directories: ['A_txt_files', 'B_txt_files']\n",
      "Files: ['.DS_Store', 'test.txt']\n",
      "\n",
      "Current path: ./folder_for_tests/A_txt_files\n",
      "Directories: []\n",
      "Files: ['f1.txt', 'f2.txt']\n",
      "\n",
      "Current path: ./folder_for_tests/B_txt_files\n",
      "Directories: ['A_2_txt_files']\n",
      "Files: ['.DS_Store', 'f3.txt', 'f4.txt', 'f5.txt']\n",
      "\n",
      "Current path: ./folder_for_tests/B_txt_files/A_2_txt_files\n",
      "Directories: []\n",
      "Files: ['f6.txt', 'f7.txt']\n",
      "\n"
     ]
    }
   ],
   "source": [
    "path = './folder_for_tests/'\n",
    "for dirpath, dirnames, filenames in os.walk(path):\n",
    "    print('Current path:', dirpath)\n",
    "    print('Directories:', dirnames)\n",
    "    print('Files:', filenames)\n",
    "    print()"
   ]
  },
  {
   "cell_type": "markdown",
   "metadata": {},
   "source": [
    "#### Gathering filenames, and folders\n",
    "\n",
    "Print the names of all folders inside `path` (or inside folders that are inside path)."
   ]
  },
  {
   "cell_type": "code",
   "execution_count": 33,
   "metadata": {},
   "outputs": [
    {
     "name": "stdout",
     "output_type": "stream",
     "text": [
      "folder name: A_txt_files\n",
      "folder name: B_txt_files\n",
      "folder name: A_2_txt_files\n"
     ]
    }
   ],
   "source": [
    "path = './folder_for_tests/'\n",
    "for dirpath, dirnames, filenames in os.walk(path):\n",
    "    for directory in dirnames:\n",
    "        print('folder name:', directory)"
   ]
  },
  {
   "cell_type": "markdown",
   "metadata": {},
   "source": [
    "Print the full path of all previous folders. The path will start in `path`"
   ]
  },
  {
   "cell_type": "code",
   "execution_count": 34,
   "metadata": {},
   "outputs": [
    {
     "name": "stdout",
     "output_type": "stream",
     "text": [
      "folder path: ./folder_for_tests/\n",
      "folder path: ./folder_for_tests/A_txt_files\n",
      "folder path: ./folder_for_tests/B_txt_files\n",
      "folder path: ./folder_for_tests/B_txt_files/A_2_txt_files\n"
     ]
    }
   ],
   "source": [
    "for dirpath, dirnames, filenames in os.walk(path):\n",
    "    print(\"folder path:\", dirpath)"
   ]
  },
  {
   "cell_type": "markdown",
   "metadata": {},
   "source": [
    "Print all `.txt` files inside all subfolders contained in `path` "
   ]
  },
  {
   "cell_type": "code",
   "execution_count": 35,
   "metadata": {},
   "outputs": [
    {
     "name": "stdout",
     "output_type": "stream",
     "text": [
      "File: test.txt\n",
      "File: f1.txt\n",
      "File: f2.txt\n",
      "File: f3.txt\n",
      "File: f4.txt\n",
      "File: f5.txt\n",
      "File: f6.txt\n",
      "File: f7.txt\n"
     ]
    }
   ],
   "source": [
    "path = './folder_for_tests/'\n",
    "for dirpath, dirnames, filenames in os.walk(path):\n",
    "    for f in filenames:\n",
    "        if f.endswith('.txt'):\n",
    "            print('File:', f)"
   ]
  },
  {
   "cell_type": "markdown",
   "metadata": {},
   "source": [
    "## Application for video search \n",
    "\n",
    "Now we will apply the previously seen functions to find all videos in a given folder and subfolders.\n",
    "\n",
    "#### find all (.mkv or .mp4 or .avi ) files in the home directory"
   ]
  },
  {
   "cell_type": "code",
   "execution_count": 29,
   "metadata": {
    "collapsed": true
   },
   "outputs": [],
   "source": [
    "def find_movie_files():\n",
    "    path = os.environ.get('HOME')\n",
    "    files = []\n",
    "    \n",
    "    for dirpath, dirnames, filenames in os.walk(path):\n",
    "        for f in filenames:\n",
    "            if f.endswith('.mkv') or f.endswith('.avi') or f.endswith('.mp4'):\n",
    "                #print('File:', f)\n",
    "                files.append(f)\n",
    "                \n",
    "    return files"
   ]
  },
  {
   "cell_type": "code",
   "execution_count": null,
   "metadata": {
    "collapsed": true
   },
   "outputs": [],
   "source": [
    "movie_files = find_movie_files()"
   ]
  },
  {
   "cell_type": "code",
   "execution_count": null,
   "metadata": {
    "collapsed": true
   },
   "outputs": [],
   "source": [
    "len(movie_files)"
   ]
  },
  {
   "cell_type": "code",
   "execution_count": 36,
   "metadata": {
    "collapsed": true
   },
   "outputs": [],
   "source": [
    "def retrieve_movie_data():\n",
    "    path = os.environ.get('HOME')\n",
    "    files = []\n",
    "    sizes = []\n",
    "    for dirpath, dirnames, filenames in os.walk(path):\n",
    "        for f in filenames:\n",
    "            fpath = os.path.join(dirpath, f)\n",
    "            if fpath.endswith('.mkv') or fpath.endswith('.avi') or fpath.endswith('.mp4'):\n",
    "                #print('File:', f)\n",
    "                files.append(fpath)\n",
    "                sizes.append(os.stat(fpath).st_size*10**(-8)) # size in GigaBytes\n",
    "                \n",
    "    return files,sizes"
   ]
  },
  {
   "cell_type": "code",
   "execution_count": 37,
   "metadata": {
    "collapsed": true
   },
   "outputs": [],
   "source": [
    "filenames, sizes_GB = retrieve_movie_data()"
   ]
  },
  {
   "cell_type": "code",
   "execution_count": 38,
   "metadata": {
    "collapsed": true
   },
   "outputs": [],
   "source": [
    "movie_files = [os.path.basename(f) for f in filenames]"
   ]
  },
  {
   "cell_type": "code",
   "execution_count": 63,
   "metadata": {
    "collapsed": true,
    "scrolled": false
   },
   "outputs": [],
   "source": [
    "## Print movie files sorted\n",
    "# sorted by size (decreasingly)\n",
    "import numpy as np\n",
    "[movie_files[x] for x in np.argsort(sizes_GB)[::-1]]"
   ]
  },
  {
   "cell_type": "code",
   "execution_count": 68,
   "metadata": {
    "collapsed": true
   },
   "outputs": [],
   "source": [
    "np.sort(sizes_GB)[::-1]"
   ]
  },
  {
   "cell_type": "code",
   "execution_count": 39,
   "metadata": {
    "collapsed": true
   },
   "outputs": [],
   "source": [
    "import pandas as pd"
   ]
  },
  {
   "cell_type": "code",
   "execution_count": 47,
   "metadata": {},
   "outputs": [],
   "source": [
    "movies = pd.DataFrame({'movie': movie_files,\n",
    "                       'size': sizes_GB})"
   ]
  },
  {
   "cell_type": "code",
   "execution_count": 48,
   "metadata": {
    "scrolled": false
   },
   "outputs": [
    {
     "data": {
      "text/html": [
       "<div>\n",
       "<table border=\"1\" class=\"dataframe\">\n",
       "  <thead>\n",
       "    <tr style=\"text-align: right;\">\n",
       "      <th></th>\n",
       "      <th>movie</th>\n",
       "      <th>size</th>\n",
       "    </tr>\n",
       "  </thead>\n",
       "  <tbody>\n",
       "    <tr>\n",
       "      <th>13</th>\n",
       "      <td>General's Handbook 2017 First Impressions _ Di...</td>\n",
       "      <td>7.819975</td>\n",
       "    </tr>\n",
       "    <tr>\n",
       "      <th>17</th>\n",
       "      <td>20160204_223947.mp4</td>\n",
       "      <td>3.106053</td>\n",
       "    </tr>\n",
       "    <tr>\n",
       "      <th>893</th>\n",
       "      <td>Dijkstra's Algorithm - Computerphile-GazC3A4OQ...</td>\n",
       "      <td>2.928348</td>\n",
       "    </tr>\n",
       "    <tr>\n",
       "      <th>12</th>\n",
       "      <td>CS231n  Lecture 10 - Recurrent Neural Networks...</td>\n",
       "      <td>2.357576</td>\n",
       "    </tr>\n",
       "    <tr>\n",
       "      <th>315</th>\n",
       "      <td>Crazy4TV.com - The.100.S04E04.720p.HDTV.x265.H...</td>\n",
       "      <td>2.347317</td>\n",
       "    </tr>\n",
       "    <tr>\n",
       "      <th>321</th>\n",
       "      <td>Crazy4TV.com - The.100.S04E10.720p.HDTV.x265.H...</td>\n",
       "      <td>1.850020</td>\n",
       "    </tr>\n",
       "    <tr>\n",
       "      <th>324</th>\n",
       "      <td>Crazy4TV.com - The.100.S04E13.720p.HDTV.x265.H...</td>\n",
       "      <td>1.808183</td>\n",
       "    </tr>\n",
       "    <tr>\n",
       "      <th>312</th>\n",
       "      <td>Crazy4TV.com - The.100.S04E01.720p.HDTV.x265.H...</td>\n",
       "      <td>1.750956</td>\n",
       "    </tr>\n",
       "    <tr>\n",
       "      <th>316</th>\n",
       "      <td>Crazy4TV.com - The.100.S04E05.720p.HDTV.x265.H...</td>\n",
       "      <td>1.743190</td>\n",
       "    </tr>\n",
       "    <tr>\n",
       "      <th>313</th>\n",
       "      <td>Crazy4TV.com - The.100.S04E02.720p.HDTV.x265.H...</td>\n",
       "      <td>1.729259</td>\n",
       "    </tr>\n",
       "    <tr>\n",
       "      <th>317</th>\n",
       "      <td>Crazy4TV.com - The.100.S04E06.720p.HDTV.x265.H...</td>\n",
       "      <td>1.707584</td>\n",
       "    </tr>\n",
       "    <tr>\n",
       "      <th>318</th>\n",
       "      <td>Crazy4TV.com - The.100.S04E07.720p.HDTV.x265.H...</td>\n",
       "      <td>1.543618</td>\n",
       "    </tr>\n",
       "    <tr>\n",
       "      <th>319</th>\n",
       "      <td>Crazy4TV.com - The.100.S04E08.720p.HDTV.x265.H...</td>\n",
       "      <td>1.416195</td>\n",
       "    </tr>\n",
       "    <tr>\n",
       "      <th>314</th>\n",
       "      <td>Crazy4TV.com - The.100.S04E03.720p.HDTV.x265.H...</td>\n",
       "      <td>1.393477</td>\n",
       "    </tr>\n",
       "    <tr>\n",
       "      <th>320</th>\n",
       "      <td>Crazy4TV.com - The.100.S04E09.720p.HDTV.x265.H...</td>\n",
       "      <td>1.225548</td>\n",
       "    </tr>\n",
       "    <tr>\n",
       "      <th>323</th>\n",
       "      <td>Crazy4TV.com - The.100.S04E12.720p.HDTV.x265.H...</td>\n",
       "      <td>1.192003</td>\n",
       "    </tr>\n",
       "    <tr>\n",
       "      <th>230</th>\n",
       "      <td>The Inclusion-Exclusion principle-segLUjsh-g0.mp4</td>\n",
       "      <td>1.188287</td>\n",
       "    </tr>\n",
       "    <tr>\n",
       "      <th>26</th>\n",
       "      <td>Deep Learning Courses - Environment Setup-Fm1o...</td>\n",
       "      <td>1.113403</td>\n",
       "    </tr>\n",
       "    <tr>\n",
       "      <th>303</th>\n",
       "      <td>Vector Cross Product in 3D-ppi1xnnsqlo.mp4</td>\n",
       "      <td>1.073055</td>\n",
       "    </tr>\n",
       "    <tr>\n",
       "      <th>91</th>\n",
       "      <td>Conditional Probability-5Iqnw7nNeks.mp4</td>\n",
       "      <td>1.061141</td>\n",
       "    </tr>\n",
       "    <tr>\n",
       "      <th>322</th>\n",
       "      <td>Crazy4TV.com - The.100.S04E11.720p.HDTV.x265.H...</td>\n",
       "      <td>1.036476</td>\n",
       "    </tr>\n",
       "    <tr>\n",
       "      <th>98</th>\n",
       "      <td>Continuous Random Variables-toyO3msGZMU.mp4</td>\n",
       "      <td>1.035736</td>\n",
       "    </tr>\n",
       "    <tr>\n",
       "      <th>18</th>\n",
       "      <td>video-20160809_114556.mp4</td>\n",
       "      <td>0.910338</td>\n",
       "    </tr>\n",
       "    <tr>\n",
       "      <th>154</th>\n",
       "      <td>Introduction to Random Variables Part 3-e9xVZk...</td>\n",
       "      <td>0.890179</td>\n",
       "    </tr>\n",
       "    <tr>\n",
       "      <th>152</th>\n",
       "      <td>Introduction to Random Variables Part 1-wHvvTz...</td>\n",
       "      <td>0.849643</td>\n",
       "    </tr>\n",
       "    <tr>\n",
       "      <th>180</th>\n",
       "      <td>Probability density function of an Order Stati...</td>\n",
       "      <td>0.844761</td>\n",
       "    </tr>\n",
       "    <tr>\n",
       "      <th>207</th>\n",
       "      <td>The Connection between the Gamma and Beta Dist...</td>\n",
       "      <td>0.801890</td>\n",
       "    </tr>\n",
       "    <tr>\n",
       "      <th>301</th>\n",
       "      <td>Variance, standard Deviation and the LOTUS-fQI...</td>\n",
       "      <td>0.801418</td>\n",
       "    </tr>\n",
       "    <tr>\n",
       "      <th>100</th>\n",
       "      <td>Convolution of two Independent Gamma Distribut...</td>\n",
       "      <td>0.783961</td>\n",
       "    </tr>\n",
       "    <tr>\n",
       "      <th>243</th>\n",
       "      <td>The Matching Problem-s9yrU_KAmOQ.mp4</td>\n",
       "      <td>0.765059</td>\n",
       "    </tr>\n",
       "    <tr>\n",
       "      <th>...</th>\n",
       "      <td>...</td>\n",
       "      <td>...</td>\n",
       "    </tr>\n",
       "    <tr>\n",
       "      <th>448</th>\n",
       "      <td>^30368C6C0040841D4CF94EC59E0ADBA1B3135C0187A65...</td>\n",
       "      <td>0.000750</td>\n",
       "    </tr>\n",
       "    <tr>\n",
       "      <th>888</th>\n",
       "      <td>^FF3F9F13048AF276CB8EA25D2514CEE3B8F094EE5BCF1...</td>\n",
       "      <td>0.000746</td>\n",
       "    </tr>\n",
       "    <tr>\n",
       "      <th>749</th>\n",
       "      <td>^C2168CCF1007420F3B6FC78584FF4778D00AEDDDF2863...</td>\n",
       "      <td>0.000735</td>\n",
       "    </tr>\n",
       "    <tr>\n",
       "      <th>707</th>\n",
       "      <td>^ACE700F4964756220BD980A066286C9E5F21820AF5882...</td>\n",
       "      <td>0.000730</td>\n",
       "    </tr>\n",
       "    <tr>\n",
       "      <th>470</th>\n",
       "      <td>^3A4AE32DB286C11D91F7B67A94DFF87D5ABD4FFA5CBFD...</td>\n",
       "      <td>0.000723</td>\n",
       "    </tr>\n",
       "    <tr>\n",
       "      <th>368</th>\n",
       "      <td>^0A8FD056019FBD27A34DFCDBF49A279647FF674B5DDBC...</td>\n",
       "      <td>0.000717</td>\n",
       "    </tr>\n",
       "    <tr>\n",
       "      <th>386</th>\n",
       "      <td>^111E71C2E90F6562E4E3040491B4396F4FB7DC7E8FE81...</td>\n",
       "      <td>0.000716</td>\n",
       "    </tr>\n",
       "    <tr>\n",
       "      <th>702</th>\n",
       "      <td>^A8AE5D4D379D0EA06B2AF2C5C75AC0B9D579B63DB2CEC...</td>\n",
       "      <td>0.000715</td>\n",
       "    </tr>\n",
       "    <tr>\n",
       "      <th>750</th>\n",
       "      <td>^C2AAEFF3624EB843FD21EC15118F5355DDC9D10896B8F...</td>\n",
       "      <td>0.000713</td>\n",
       "    </tr>\n",
       "    <tr>\n",
       "      <th>565</th>\n",
       "      <td>^6987631CEFBF1DBE2EA896DF8150281F34A22EA07EC38...</td>\n",
       "      <td>0.000712</td>\n",
       "    </tr>\n",
       "    <tr>\n",
       "      <th>634</th>\n",
       "      <td>^82B383A93D1F2D079F333CC8B405546767E3F41268E53...</td>\n",
       "      <td>0.000705</td>\n",
       "    </tr>\n",
       "    <tr>\n",
       "      <th>572</th>\n",
       "      <td>^6CB4FBA553D0AC3B0C8FF275015BF9E251C7E816891A5...</td>\n",
       "      <td>0.000701</td>\n",
       "    </tr>\n",
       "    <tr>\n",
       "      <th>548</th>\n",
       "      <td>^629528E40ACF9A9678BF5346948D43154B431B53B77D5...</td>\n",
       "      <td>0.000700</td>\n",
       "    </tr>\n",
       "    <tr>\n",
       "      <th>859</th>\n",
       "      <td>^F2878251B8FB76846D98B75F7EA7177FEAA868FFD6F7E...</td>\n",
       "      <td>0.000697</td>\n",
       "    </tr>\n",
       "    <tr>\n",
       "      <th>777</th>\n",
       "      <td>^CC539D80D9AFF5C4A357B51B6C8A9252E5BFB6C65A327...</td>\n",
       "      <td>0.000678</td>\n",
       "    </tr>\n",
       "    <tr>\n",
       "      <th>774</th>\n",
       "      <td>^CB34B996BEBCDCAC298A6865E8CCF8C542810C795A172...</td>\n",
       "      <td>0.000671</td>\n",
       "    </tr>\n",
       "    <tr>\n",
       "      <th>655</th>\n",
       "      <td>^8CFCC5B0C6B5CD13E9B39CF6D4D59EC1B3B2D0B613255...</td>\n",
       "      <td>0.000658</td>\n",
       "    </tr>\n",
       "    <tr>\n",
       "      <th>732</th>\n",
       "      <td>^BA18A49B62C4059FC626030E319F1876B07DCA0CB2286...</td>\n",
       "      <td>0.000636</td>\n",
       "    </tr>\n",
       "    <tr>\n",
       "      <th>657</th>\n",
       "      <td>^8E0B8BE50109ECD5B2410B1CB88E97BECDE646A35BE27...</td>\n",
       "      <td>0.000633</td>\n",
       "    </tr>\n",
       "    <tr>\n",
       "      <th>441</th>\n",
       "      <td>^2D14A47137E11EF01F7DFC8E6CA4DD228285FA94B6804...</td>\n",
       "      <td>0.000620</td>\n",
       "    </tr>\n",
       "    <tr>\n",
       "      <th>527</th>\n",
       "      <td>^59FC89A5592B5C643BD19E486BB353873E5E0B7119DF7...</td>\n",
       "      <td>0.000616</td>\n",
       "    </tr>\n",
       "    <tr>\n",
       "      <th>624</th>\n",
       "      <td>^7CAC4B35F8B6C0C1FB81DF05AEF8CD7C98893EF35510F...</td>\n",
       "      <td>0.000592</td>\n",
       "    </tr>\n",
       "    <tr>\n",
       "      <th>721</th>\n",
       "      <td>^B55618E92AD81DF87AB04840E433B5BC46546D7CDD425...</td>\n",
       "      <td>0.000582</td>\n",
       "    </tr>\n",
       "    <tr>\n",
       "      <th>803</th>\n",
       "      <td>^D9839BE407F026C5E9F57A974768E354C0441885F38D8...</td>\n",
       "      <td>0.000558</td>\n",
       "    </tr>\n",
       "    <tr>\n",
       "      <th>757</th>\n",
       "      <td>^C4A925C0B7840699710EC5412B69DFC102C2B36961987...</td>\n",
       "      <td>0.000558</td>\n",
       "    </tr>\n",
       "    <tr>\n",
       "      <th>643</th>\n",
       "      <td>^86C2AF4918D4C028D82777293259138C576EAB8EF7FFF...</td>\n",
       "      <td>0.000547</td>\n",
       "    </tr>\n",
       "    <tr>\n",
       "      <th>850</th>\n",
       "      <td>^EEE4B880DF29F72D7DEAAF21A364B319C08B8BCADBDA8...</td>\n",
       "      <td>0.000541</td>\n",
       "    </tr>\n",
       "    <tr>\n",
       "      <th>706</th>\n",
       "      <td>^AB0BA708CA859497590993E196D352D62A6E578D59F1F...</td>\n",
       "      <td>0.000532</td>\n",
       "    </tr>\n",
       "    <tr>\n",
       "      <th>720</th>\n",
       "      <td>^B5383DCF05E4D8CFFBAE0556EF0A2818F390CE68DEEA5...</td>\n",
       "      <td>0.000530</td>\n",
       "    </tr>\n",
       "    <tr>\n",
       "      <th>545</th>\n",
       "      <td>^618FFB47340C417CE7E4D102E93CF997BDACAB80738E7...</td>\n",
       "      <td>0.000525</td>\n",
       "    </tr>\n",
       "  </tbody>\n",
       "</table>\n",
       "<p>895 rows × 2 columns</p>\n",
       "</div>"
      ],
      "text/plain": [
       "                                                 movie      size\n",
       "13   General's Handbook 2017 First Impressions _ Di...  7.819975\n",
       "17                                 20160204_223947.mp4  3.106053\n",
       "893  Dijkstra's Algorithm - Computerphile-GazC3A4OQ...  2.928348\n",
       "12   CS231n  Lecture 10 - Recurrent Neural Networks...  2.357576\n",
       "315  Crazy4TV.com - The.100.S04E04.720p.HDTV.x265.H...  2.347317\n",
       "321  Crazy4TV.com - The.100.S04E10.720p.HDTV.x265.H...  1.850020\n",
       "324  Crazy4TV.com - The.100.S04E13.720p.HDTV.x265.H...  1.808183\n",
       "312  Crazy4TV.com - The.100.S04E01.720p.HDTV.x265.H...  1.750956\n",
       "316  Crazy4TV.com - The.100.S04E05.720p.HDTV.x265.H...  1.743190\n",
       "313  Crazy4TV.com - The.100.S04E02.720p.HDTV.x265.H...  1.729259\n",
       "317  Crazy4TV.com - The.100.S04E06.720p.HDTV.x265.H...  1.707584\n",
       "318  Crazy4TV.com - The.100.S04E07.720p.HDTV.x265.H...  1.543618\n",
       "319  Crazy4TV.com - The.100.S04E08.720p.HDTV.x265.H...  1.416195\n",
       "314  Crazy4TV.com - The.100.S04E03.720p.HDTV.x265.H...  1.393477\n",
       "320  Crazy4TV.com - The.100.S04E09.720p.HDTV.x265.H...  1.225548\n",
       "323  Crazy4TV.com - The.100.S04E12.720p.HDTV.x265.H...  1.192003\n",
       "230  The Inclusion-Exclusion principle-segLUjsh-g0.mp4  1.188287\n",
       "26   Deep Learning Courses - Environment Setup-Fm1o...  1.113403\n",
       "303         Vector Cross Product in 3D-ppi1xnnsqlo.mp4  1.073055\n",
       "91             Conditional Probability-5Iqnw7nNeks.mp4  1.061141\n",
       "322  Crazy4TV.com - The.100.S04E11.720p.HDTV.x265.H...  1.036476\n",
       "98         Continuous Random Variables-toyO3msGZMU.mp4  1.035736\n",
       "18                           video-20160809_114556.mp4  0.910338\n",
       "154  Introduction to Random Variables Part 3-e9xVZk...  0.890179\n",
       "152  Introduction to Random Variables Part 1-wHvvTz...  0.849643\n",
       "180  Probability density function of an Order Stati...  0.844761\n",
       "207  The Connection between the Gamma and Beta Dist...  0.801890\n",
       "301  Variance, standard Deviation and the LOTUS-fQI...  0.801418\n",
       "100  Convolution of two Independent Gamma Distribut...  0.783961\n",
       "243               The Matching Problem-s9yrU_KAmOQ.mp4  0.765059\n",
       "..                                                 ...       ...\n",
       "448  ^30368C6C0040841D4CF94EC59E0ADBA1B3135C0187A65...  0.000750\n",
       "888  ^FF3F9F13048AF276CB8EA25D2514CEE3B8F094EE5BCF1...  0.000746\n",
       "749  ^C2168CCF1007420F3B6FC78584FF4778D00AEDDDF2863...  0.000735\n",
       "707  ^ACE700F4964756220BD980A066286C9E5F21820AF5882...  0.000730\n",
       "470  ^3A4AE32DB286C11D91F7B67A94DFF87D5ABD4FFA5CBFD...  0.000723\n",
       "368  ^0A8FD056019FBD27A34DFCDBF49A279647FF674B5DDBC...  0.000717\n",
       "386  ^111E71C2E90F6562E4E3040491B4396F4FB7DC7E8FE81...  0.000716\n",
       "702  ^A8AE5D4D379D0EA06B2AF2C5C75AC0B9D579B63DB2CEC...  0.000715\n",
       "750  ^C2AAEFF3624EB843FD21EC15118F5355DDC9D10896B8F...  0.000713\n",
       "565  ^6987631CEFBF1DBE2EA896DF8150281F34A22EA07EC38...  0.000712\n",
       "634  ^82B383A93D1F2D079F333CC8B405546767E3F41268E53...  0.000705\n",
       "572  ^6CB4FBA553D0AC3B0C8FF275015BF9E251C7E816891A5...  0.000701\n",
       "548  ^629528E40ACF9A9678BF5346948D43154B431B53B77D5...  0.000700\n",
       "859  ^F2878251B8FB76846D98B75F7EA7177FEAA868FFD6F7E...  0.000697\n",
       "777  ^CC539D80D9AFF5C4A357B51B6C8A9252E5BFB6C65A327...  0.000678\n",
       "774  ^CB34B996BEBCDCAC298A6865E8CCF8C542810C795A172...  0.000671\n",
       "655  ^8CFCC5B0C6B5CD13E9B39CF6D4D59EC1B3B2D0B613255...  0.000658\n",
       "732  ^BA18A49B62C4059FC626030E319F1876B07DCA0CB2286...  0.000636\n",
       "657  ^8E0B8BE50109ECD5B2410B1CB88E97BECDE646A35BE27...  0.000633\n",
       "441  ^2D14A47137E11EF01F7DFC8E6CA4DD228285FA94B6804...  0.000620\n",
       "527  ^59FC89A5592B5C643BD19E486BB353873E5E0B7119DF7...  0.000616\n",
       "624  ^7CAC4B35F8B6C0C1FB81DF05AEF8CD7C98893EF35510F...  0.000592\n",
       "721  ^B55618E92AD81DF87AB04840E433B5BC46546D7CDD425...  0.000582\n",
       "803  ^D9839BE407F026C5E9F57A974768E354C0441885F38D8...  0.000558\n",
       "757  ^C4A925C0B7840699710EC5412B69DFC102C2B36961987...  0.000558\n",
       "643  ^86C2AF4918D4C028D82777293259138C576EAB8EF7FFF...  0.000547\n",
       "850  ^EEE4B880DF29F72D7DEAAF21A364B319C08B8BCADBDA8...  0.000541\n",
       "706  ^AB0BA708CA859497590993E196D352D62A6E578D59F1F...  0.000532\n",
       "720  ^B5383DCF05E4D8CFFBAE0556EF0A2818F390CE68DEEA5...  0.000530\n",
       "545  ^618FFB47340C417CE7E4D102E93CF997BDACAB80738E7...  0.000525\n",
       "\n",
       "[895 rows x 2 columns]"
      ]
     },
     "execution_count": 48,
     "metadata": {},
     "output_type": "execute_result"
    }
   ],
   "source": [
    "movies.sort_values('size', ascending=False)"
   ]
  },
  {
   "cell_type": "code",
   "execution_count": null,
   "metadata": {
    "collapsed": true
   },
   "outputs": [],
   "source": []
  }
 ],
 "metadata": {
  "kernelspec": {
   "display_name": "Python 3",
   "language": "python",
   "name": "python3"
  },
  "language_info": {
   "codemirror_mode": {
    "name": "ipython",
    "version": 3
   },
   "file_extension": ".py",
   "mimetype": "text/x-python",
   "name": "python",
   "nbconvert_exporter": "python",
   "pygments_lexer": "ipython3",
   "version": "3.5.4"
  }
 },
 "nbformat": 4,
 "nbformat_minor": 1
}

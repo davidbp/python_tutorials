{
 "cells": [
  {
   "cell_type": "markdown",
   "metadata": {},
   "source": [
    "# Navigating inside the os\n",
    "\n",
    "\n",
    "\n",
    "Nice explanations:\n",
    "- https://www.pythonlearn.com/html-008/cfbook017.html\n",
    "\n",
    "#### Relevant functions in `os`\n",
    "\n",
    "- **`os.getcwd()`** returns a string with the path of the current working directory.\n",
    "\n",
    "- **`os.path.abspath(file)`** returns a string with the absolute path of the file.\n",
    "\n",
    "- **`os.listdir()`** returns a list containing all files and folders in the current directory.\n",
    "\n",
    "\n",
    "- **`os.mkdir(dirname)`** creates a directory with name `dirname`.\n",
    "\n",
    "\n",
    "- **`os.makedirs(dirname)`** creates a directory with name `dirname`. If `dirname` if dirname contains several levels of directories they will also be created (this does not happen with `os.mkdir`).\n",
    "\n",
    "\n",
    "- **`os.rmdir(dirname)`** deletes the directory.\n",
    "\n",
    "\n",
    "- **`os.removedirs(dirname)`** deletes the directory and all intermediate directories.\n",
    "\n",
    "\n",
    "-  **`os.rename(filename1, filename2)`** renames `filename1` with `filename2`.\n",
    "\n",
    "\n",
    "- **`os.stat(filename)`** returns information about `filename` such as the file size.\n",
    "\n",
    "\n",
    "- **`os.walk()`** returns a `generator` used to navigate throghout the filesystem tree. The generator yeilds a tuple of 3 values. The 3 values correspond to the dirpath, dirnames (inside dirpath), filenames (inside dirpath).\n",
    "\n",
    "\n",
    "- **`os.environ`** returns a `os._Environ` type  cotaining information about the environment variables. For example, `os.environ.get('HOME')` will return the home directory."
   ]
  },
  {
   "cell_type": "code",
   "execution_count": 6,
   "metadata": {
    "collapsed": true
   },
   "outputs": [],
   "source": [
    "import os"
   ]
  },
  {
   "cell_type": "code",
   "execution_count": 7,
   "metadata": {},
   "outputs": [
    {
     "data": {
      "text/plain": [
       "'/Users/davidbuchacagmail.com/Documents/git_stuff/python_tutorials/os_communication'"
      ]
     },
     "execution_count": 7,
     "metadata": {},
     "output_type": "execute_result"
    }
   ],
   "source": [
    "os.getcwd()"
   ]
  },
  {
   "cell_type": "code",
   "execution_count": 8,
   "metadata": {},
   "outputs": [
    {
     "data": {
      "text/plain": [
       "['.DS_Store',\n",
       " 'os_navigation.ipynb',\n",
       " 'folder_for_tests',\n",
       " 'test.txt',\n",
       " '.ipynb_checkpoints']"
      ]
     },
     "execution_count": 8,
     "metadata": {},
     "output_type": "execute_result"
    }
   ],
   "source": [
    "os.listdir()"
   ]
  },
  {
   "cell_type": "code",
   "execution_count": 9,
   "metadata": {},
   "outputs": [
    {
     "data": {
      "text/plain": [
       "'/Users/davidbuchacagmail.com/Documents/git_stuff/python_tutorials/os_communication/test.txt'"
      ]
     },
     "execution_count": 9,
     "metadata": {},
     "output_type": "execute_result"
    }
   ],
   "source": [
    "os.path.abspath('test.txt')"
   ]
  },
  {
   "cell_type": "code",
   "execution_count": 10,
   "metadata": {},
   "outputs": [
    {
     "data": {
      "text/plain": [
       "'/Users/davidbuchacagmail.com/Documents/git_stuff/python_tutorials/os_communication'"
      ]
     },
     "execution_count": 10,
     "metadata": {},
     "output_type": "execute_result"
    }
   ],
   "source": [
    "os.path.abspath('')"
   ]
  },
  {
   "cell_type": "code",
   "execution_count": 11,
   "metadata": {},
   "outputs": [
    {
     "name": "stdout",
     "output_type": "stream",
     "text": [
      "['.DS_Store', 'os_navigation.ipynb', 'folder_for_tests', 'test.txt', '.ipynb_checkpoints']\n"
     ]
    }
   ],
   "source": [
    "# Look all that is inside the path\n",
    "path = \"./\"\n",
    "print(os.listdir(path))"
   ]
  },
  {
   "cell_type": "code",
   "execution_count": 12,
   "metadata": {
    "collapsed": true
   },
   "outputs": [],
   "source": [
    "os.mkdir('created_by_me')"
   ]
  },
  {
   "cell_type": "code",
   "execution_count": 13,
   "metadata": {},
   "outputs": [
    {
     "data": {
      "text/plain": [
       "['created_by_me',\n",
       " '.DS_Store',\n",
       " 'os_navigation.ipynb',\n",
       " 'folder_for_tests',\n",
       " 'test.txt',\n",
       " '.ipynb_checkpoints']"
      ]
     },
     "execution_count": 13,
     "metadata": {},
     "output_type": "execute_result"
    }
   ],
   "source": [
    "os.listdir()"
   ]
  },
  {
   "cell_type": "code",
   "execution_count": 14,
   "metadata": {},
   "outputs": [
    {
     "ename": "FileNotFoundError",
     "evalue": "[Errno 2] No such file or directory: 'created_by_me/A/B'",
     "output_type": "error",
     "traceback": [
      "\u001b[0;31m---------------------------------------------------------------------------\u001b[0m",
      "\u001b[0;31mFileNotFoundError\u001b[0m                         Traceback (most recent call last)",
      "\u001b[0;32m<ipython-input-14-fc2fe6119a79>\u001b[0m in \u001b[0;36m<module>\u001b[0;34m()\u001b[0m\n\u001b[1;32m      1\u001b[0m \u001b[0;31m# This will not work since B is created in A\u001b[0m\u001b[0;34m\u001b[0m\u001b[0;34m\u001b[0m\u001b[0m\n\u001b[1;32m      2\u001b[0m \u001b[0;31m# and A does not exit\u001b[0m\u001b[0;34m\u001b[0m\u001b[0;34m\u001b[0m\u001b[0m\n\u001b[0;32m----> 3\u001b[0;31m \u001b[0mos\u001b[0m\u001b[0;34m.\u001b[0m\u001b[0mmkdir\u001b[0m\u001b[0;34m(\u001b[0m\u001b[0;34m'created_by_me/A/B'\u001b[0m\u001b[0;34m)\u001b[0m\u001b[0;34m\u001b[0m\u001b[0m\n\u001b[0m",
      "\u001b[0;31mFileNotFoundError\u001b[0m: [Errno 2] No such file or directory: 'created_by_me/A/B'"
     ]
    }
   ],
   "source": [
    "# This will not work since B is created in A\n",
    "# and A does not exit\n",
    "os.mkdir('created_by_me/A/B')"
   ]
  },
  {
   "cell_type": "code",
   "execution_count": 15,
   "metadata": {
    "collapsed": true
   },
   "outputs": [],
   "source": [
    "os.makedirs('created_by_me/A/B')"
   ]
  },
  {
   "cell_type": "code",
   "execution_count": 16,
   "metadata": {},
   "outputs": [
    {
     "data": {
      "text/plain": [
       "['created_by_me',\n",
       " '.DS_Store',\n",
       " 'os_navigation.ipynb',\n",
       " 'folder_for_tests',\n",
       " 'test.txt',\n",
       " '.ipynb_checkpoints']"
      ]
     },
     "execution_count": 16,
     "metadata": {},
     "output_type": "execute_result"
    }
   ],
   "source": [
    "os.listdir()"
   ]
  },
  {
   "cell_type": "code",
   "execution_count": 17,
   "metadata": {
    "collapsed": true
   },
   "outputs": [],
   "source": [
    "os.removedirs('created_by_me/A/B')"
   ]
  },
  {
   "cell_type": "code",
   "execution_count": 18,
   "metadata": {
    "scrolled": true
   },
   "outputs": [
    {
     "data": {
      "text/plain": [
       "['.DS_Store',\n",
       " 'os_navigation.ipynb',\n",
       " 'folder_for_tests',\n",
       " 'test.txt',\n",
       " '.ipynb_checkpoints']"
      ]
     },
     "execution_count": 18,
     "metadata": {},
     "output_type": "execute_result"
    }
   ],
   "source": [
    "os.listdir()"
   ]
  },
  {
   "cell_type": "code",
   "execution_count": 19,
   "metadata": {},
   "outputs": [
    {
     "data": {
      "text/plain": [
       "os.stat_result(st_mode=33188, st_ino=6514416, st_dev=16777220, st_nlink=1, st_uid=501, st_gid=20, st_size=16, st_atime=1514652219, st_mtime=1514652218, st_ctime=1514652218)"
      ]
     },
     "execution_count": 19,
     "metadata": {},
     "output_type": "execute_result"
    }
   ],
   "source": [
    "filename = './folder_for_tests/A_txt_files/f1.txt'\n",
    "os.stat(filename)"
   ]
  },
  {
   "cell_type": "code",
   "execution_count": 20,
   "metadata": {},
   "outputs": [
    {
     "name": "stdout",
     "output_type": "stream",
     "text": [
      "Size of the file in bytes: 16\n"
     ]
    }
   ],
   "source": [
    "print(\"Size of the file in bytes:\", os.stat(filename).st_size)"
   ]
  },
  {
   "cell_type": "code",
   "execution_count": 21,
   "metadata": {},
   "outputs": [
    {
     "name": "stdout",
     "output_type": "stream",
     "text": [
      "The file was modified in: 2017-12-30 17:43:38.912361\n"
     ]
    }
   ],
   "source": [
    "from datetime import datetime\n",
    "modification_time = os.stat(filename).st_mtime\n",
    "print(\"The file was modified in:\", \n",
    "      datetime.fromtimestamp(modification_time))"
   ]
  },
  {
   "cell_type": "code",
   "execution_count": 22,
   "metadata": {},
   "outputs": [
    {
     "data": {
      "text/plain": [
       "'/Users/davidbuchacagmail.com'"
      ]
     },
     "execution_count": 22,
     "metadata": {},
     "output_type": "execute_result"
    }
   ],
   "source": [
    "os.environ.get('HOME')"
   ]
  },
  {
   "cell_type": "markdown",
   "metadata": {},
   "source": [
    "#### About os.path"
   ]
  },
  {
   "cell_type": "code",
   "execution_count": 23,
   "metadata": {},
   "outputs": [
    {
     "data": {
      "text/plain": [
       "'/Users/davidbuchacagmail.com/some_file_.txt'"
      ]
     },
     "execution_count": 23,
     "metadata": {},
     "output_type": "execute_result"
    }
   ],
   "source": [
    "filepath=os.path.join(os.environ.get('HOME'), 'some_file_.txt')\n",
    "filepath"
   ]
  },
  {
   "cell_type": "code",
   "execution_count": 24,
   "metadata": {},
   "outputs": [
    {
     "data": {
      "text/plain": [
       "'f.txt'"
      ]
     },
     "execution_count": 24,
     "metadata": {},
     "output_type": "execute_result"
    }
   ],
   "source": [
    "os.path.basename('inventedpath/another_invented/f.txt')"
   ]
  },
  {
   "cell_type": "code",
   "execution_count": 25,
   "metadata": {},
   "outputs": [
    {
     "data": {
      "text/plain": [
       "'inventedpath/another_invented'"
      ]
     },
     "execution_count": 25,
     "metadata": {},
     "output_type": "execute_result"
    }
   ],
   "source": [
    "os.path.dirname('inventedpath/another_invented/f.txt')"
   ]
  },
  {
   "cell_type": "code",
   "execution_count": 26,
   "metadata": {},
   "outputs": [
    {
     "data": {
      "text/plain": [
       "('inventedpath/another_invented', 'f.txt')"
      ]
     },
     "execution_count": 26,
     "metadata": {},
     "output_type": "execute_result"
    }
   ],
   "source": [
    "os.path.split('inventedpath/another_invented/f.txt')"
   ]
  },
  {
   "cell_type": "code",
   "execution_count": 107,
   "metadata": {},
   "outputs": [
    {
     "data": {
      "text/plain": [
       "False"
      ]
     },
     "execution_count": 107,
     "metadata": {},
     "output_type": "execute_result"
    }
   ],
   "source": [
    "os.path.exists('inventedpath/another_invented/f.txt')"
   ]
  },
  {
   "cell_type": "code",
   "execution_count": 28,
   "metadata": {},
   "outputs": [
    {
     "data": {
      "text/plain": [
       "False"
      ]
     },
     "execution_count": 28,
     "metadata": {},
     "output_type": "execute_result"
    }
   ],
   "source": [
    "os.path.isdir('inventedpath/another_invented/f.txt')"
   ]
  },
  {
   "cell_type": "code",
   "execution_count": 111,
   "metadata": {},
   "outputs": [
    {
     "data": {
      "text/plain": [
       "False"
      ]
     },
     "execution_count": 111,
     "metadata": {},
     "output_type": "execute_result"
    }
   ],
   "source": [
    "os.path.isfile('inventedpath/another_invented/f.txt')"
   ]
  },
  {
   "cell_type": "code",
   "execution_count": 113,
   "metadata": {},
   "outputs": [
    {
     "data": {
      "text/plain": [
       "True"
      ]
     },
     "execution_count": 113,
     "metadata": {},
     "output_type": "execute_result"
    }
   ],
   "source": [
    "os.path.exists('./folder_for_tests/test.txt')"
   ]
  },
  {
   "cell_type": "code",
   "execution_count": 109,
   "metadata": {},
   "outputs": [
    {
     "data": {
      "text/plain": [
       "('inventedpath/another_invented/f', '.txt')"
      ]
     },
     "execution_count": 109,
     "metadata": {},
     "output_type": "execute_result"
    }
   ],
   "source": [
    "## root and extension\n",
    "os.path.splitext('inventedpath/another_invented/f.txt')"
   ]
  },
  {
   "cell_type": "markdown",
   "metadata": {},
   "source": [
    "## copy files: `shutil` library\n",
    "\n",
    "We can use the `shutil` library from the standard python library to move and copy files.\n",
    "\n",
    "The following table summarizes the different functions for copying files and the main differences between them.\n",
    "\n",
    "\n",
    "```\n",
    "---------------------------------------------------------------------------\n",
    "| Function          |Copies Metadata|Copies Permissions|Can Specify Buffer|\n",
    "---------------------------------------------------------------------------\n",
    "| shutil.copy       |      No       |        Yes       |        No        |\n",
    "---------------------------------------------------------------------------\n",
    "| shutil.copyfile   |      No       |         No       |        No        |\n",
    "---------------------------------------------------------------------------\n",
    "| shutil.copy2      |     Yes       |        Yes       |        No        |\n",
    "---------------------------------------------------------------------------\n",
    "| shutil.copyfileobj|      No       |         No       |       Yes        |\n",
    "---------------------------------------------------------------------------\n",
    "```\n",
    "\n",
    "\n",
    "- **`shutil.copy2(A,B)`**: copies `A` into `B`.\n",
    "- **`shutil.disk_usage(path)`**: checks total, used and free space in a disk.\n"
   ]
  },
  {
   "cell_type": "code",
   "execution_count": 33,
   "metadata": {
    "collapsed": true
   },
   "outputs": [],
   "source": [
    "import shutil"
   ]
  },
  {
   "cell_type": "code",
   "execution_count": 34,
   "metadata": {},
   "outputs": [
    {
     "data": {
      "text/plain": [
       "['.DS_Store',\n",
       " 'os_navigation.ipynb',\n",
       " 'folder_for_tests',\n",
       " 'test.txt',\n",
       " '.ipynb_checkpoints']"
      ]
     },
     "execution_count": 34,
     "metadata": {},
     "output_type": "execute_result"
    }
   ],
   "source": [
    "os.listdir()"
   ]
  },
  {
   "cell_type": "code",
   "execution_count": 35,
   "metadata": {},
   "outputs": [
    {
     "data": {
      "text/plain": [
       "['.DS_Store', 'A_txt_files', 'test.txt', 'B_txt_files']"
      ]
     },
     "execution_count": 35,
     "metadata": {},
     "output_type": "execute_result"
    }
   ],
   "source": [
    "os.listdir('folder_for_tests/')"
   ]
  },
  {
   "cell_type": "code",
   "execution_count": 29,
   "metadata": {},
   "outputs": [
    {
     "data": {
      "text/plain": [
       "'./folder_for_tests/test.txt'"
      ]
     },
     "execution_count": 29,
     "metadata": {},
     "output_type": "execute_result"
    }
   ],
   "source": [
    "# copies test.txt from the main folder to /folder_for_tests/\n",
    "shutil.copy2('test.txt', './folder_for_tests/test.txt')"
   ]
  },
  {
   "cell_type": "code",
   "execution_count": 37,
   "metadata": {},
   "outputs": [
    {
     "data": {
      "text/plain": [
       "['.DS_Store', 'A_txt_files', 'test.txt', 'B_txt_files']"
      ]
     },
     "execution_count": 37,
     "metadata": {},
     "output_type": "execute_result"
    }
   ],
   "source": [
    "os.listdir('folder_for_tests/')"
   ]
  },
  {
   "cell_type": "code",
   "execution_count": 46,
   "metadata": {},
   "outputs": [
    {
     "data": {
      "text/plain": [
       "usage(total=499963170816, used=304449593344, free=192672837632)"
      ]
     },
     "execution_count": 46,
     "metadata": {},
     "output_type": "execute_result"
    }
   ],
   "source": [
    "## Check space in a drive (total, used, free space)\n",
    "shutil.disk_usage(\"/\")"
   ]
  },
  {
   "cell_type": "markdown",
   "metadata": {},
   "source": [
    "\n",
    "## Navigating the filesystem"
   ]
  },
  {
   "cell_type": "markdown",
   "metadata": {},
   "source": [
    "We can walk over all the folders and subfolders of a a given `path` using the **`os.walk(path)`**. The `os.walk` method returns a `generator`.\n",
    "\n",
    "Let us use this function to print all subfolders of `folder_for_tests` which is a folder containing several subfolders that we will use to test the different functions in `os`."
   ]
  },
  {
   "cell_type": "code",
   "execution_count": 31,
   "metadata": {},
   "outputs": [
    {
     "data": {
      "text/plain": [
       "generator"
      ]
     },
     "execution_count": 31,
     "metadata": {},
     "output_type": "execute_result"
    }
   ],
   "source": [
    "type(os.walk(path))"
   ]
  },
  {
   "cell_type": "code",
   "execution_count": 32,
   "metadata": {},
   "outputs": [
    {
     "name": "stdout",
     "output_type": "stream",
     "text": [
      "Current path: ./folder_for_tests/\n",
      "Directories: ['A_txt_files', 'B_txt_files']\n",
      "Files: ['.DS_Store', 'test.txt']\n",
      "\n",
      "Current path: ./folder_for_tests/A_txt_files\n",
      "Directories: []\n",
      "Files: ['f1.txt', 'f2.txt']\n",
      "\n",
      "Current path: ./folder_for_tests/B_txt_files\n",
      "Directories: ['A_2_txt_files']\n",
      "Files: ['f5.txt', 'f4.txt', '.DS_Store', 'f3.txt']\n",
      "\n",
      "Current path: ./folder_for_tests/B_txt_files/A_2_txt_files\n",
      "Directories: []\n",
      "Files: ['f6.txt', 'f7.txt']\n",
      "\n"
     ]
    }
   ],
   "source": [
    "path = './folder_for_tests/'\n",
    "for dirpath, dirnames, filenames in os.walk(path):\n",
    "    print('Current path:', dirpath)\n",
    "    print('Directories:', dirnames)\n",
    "    print('Files:', filenames)\n",
    "    print()"
   ]
  },
  {
   "cell_type": "markdown",
   "metadata": {},
   "source": [
    "#### Gathering filenames, and folders\n",
    "\n",
    "Print the names of all folders inside `path` (or inside folders that are inside path)."
   ]
  },
  {
   "cell_type": "code",
   "execution_count": 33,
   "metadata": {},
   "outputs": [
    {
     "name": "stdout",
     "output_type": "stream",
     "text": [
      "folder name: A_txt_files\n",
      "folder name: B_txt_files\n",
      "folder name: A_2_txt_files\n"
     ]
    }
   ],
   "source": [
    "path = './folder_for_tests/'\n",
    "for dirpath, dirnames, filenames in os.walk(path):\n",
    "    for directory in dirnames:\n",
    "        print('folder name:', directory)"
   ]
  },
  {
   "cell_type": "markdown",
   "metadata": {},
   "source": [
    "Print the full path of all previous folders. The path will start in `path`"
   ]
  },
  {
   "cell_type": "code",
   "execution_count": 34,
   "metadata": {},
   "outputs": [
    {
     "name": "stdout",
     "output_type": "stream",
     "text": [
      "folder path: ./folder_for_tests/\n",
      "folder path: ./folder_for_tests/A_txt_files\n",
      "folder path: ./folder_for_tests/B_txt_files\n",
      "folder path: ./folder_for_tests/B_txt_files/A_2_txt_files\n"
     ]
    }
   ],
   "source": [
    "for dirpath, dirnames, filenames in os.walk(path):\n",
    "    print(\"folder path:\", dirpath)"
   ]
  },
  {
   "cell_type": "markdown",
   "metadata": {},
   "source": [
    "Print all `.txt` files inside all subfolders contained in `path` "
   ]
  },
  {
   "cell_type": "code",
   "execution_count": 36,
   "metadata": {
    "scrolled": true
   },
   "outputs": [
    {
     "name": "stdout",
     "output_type": "stream",
     "text": [
      "File: test.txt\n",
      "File: f1.txt\n",
      "File: f2.txt\n",
      "File: f5.txt\n",
      "File: f4.txt\n",
      "File: f3.txt\n",
      "File: f6.txt\n",
      "File: f7.txt\n"
     ]
    }
   ],
   "source": [
    "path = './folder_for_tests/'\n",
    "for dirpath, dirnames, filenames in os.walk(path):\n",
    "    for f in filenames:\n",
    "        if f.endswith('.txt'):\n",
    "            print('File:', f)"
   ]
  },
  {
   "cell_type": "markdown",
   "metadata": {},
   "source": [
    "## Application for video search \n",
    "\n",
    "Now we will apply the previously seen functions to find all videos in a given folder and subfolders.\n",
    "\n",
    "#### find all (.mkv or .mp4 or .avi ) files in the home directory"
   ]
  },
  {
   "cell_type": "code",
   "execution_count": 53,
   "metadata": {
    "collapsed": true
   },
   "outputs": [],
   "source": [
    "def find_movie_files():\n",
    "    path = os.environ.get('HOME')\n",
    "    files = []\n",
    "    files_full_path = []\n",
    "    \n",
    "    for dirpath, dirnames, filenames in os.walk(path):\n",
    "        for f in filenames:\n",
    "            if f.endswith('.mkv') or f.endswith('.avi') or f.endswith('.mp4'):\n",
    "                fpath = os.path.join(dirpath, f)\n",
    "                files.append(f)\n",
    "                files_full_path.append(fpath)\n",
    "                \n",
    "    return files, files_full_path"
   ]
  },
  {
   "cell_type": "code",
   "execution_count": 54,
   "metadata": {},
   "outputs": [],
   "source": [
    "movie_files, full_path = find_movie_files()"
   ]
  },
  {
   "cell_type": "code",
   "execution_count": 61,
   "metadata": {},
   "outputs": [
    {
     "data": {
      "text/plain": [
       "24"
      ]
     },
     "execution_count": 61,
     "metadata": {},
     "output_type": "execute_result"
    }
   ],
   "source": [
    "len(movie_files)"
   ]
  },
  {
   "cell_type": "code",
   "execution_count": 91,
   "metadata": {
    "collapsed": true
   },
   "outputs": [],
   "source": [
    "def retrieve_movie_data():\n",
    "    path = os.environ.get('HOME')\n",
    "    files = []\n",
    "    sizes = []\n",
    "    for dirpath, dirnames, filenames in os.walk(path):\n",
    "        for f in filenames:\n",
    "            fpath = os.path.join(dirpath, f)\n",
    "            if fpath.endswith('.mkv') or fpath.endswith('.avi') or fpath.endswith('.mp4'):\n",
    "                #print('File:', f)\n",
    "                files.append(fpath)\n",
    "                sizes.append(os.stat(fpath).st_size*10**(-9)) # size in GigaBytes\n",
    "                \n",
    "    return files,sizes"
   ]
  },
  {
   "cell_type": "code",
   "execution_count": 92,
   "metadata": {
    "collapsed": true
   },
   "outputs": [],
   "source": [
    "filenames, sizes_GB = retrieve_movie_data()"
   ]
  },
  {
   "cell_type": "code",
   "execution_count": 93,
   "metadata": {
    "collapsed": true
   },
   "outputs": [],
   "source": [
    "movie_files = [os.path.basename(f) for f in filenames]"
   ]
  },
  {
   "cell_type": "code",
   "execution_count": 100,
   "metadata": {
    "scrolled": false
   },
   "outputs": [],
   "source": [
    "## Print movie files sorted\n",
    "# sorted by size (decreasingly)\n",
    "import numpy as np\n",
    "[movie_files[x] for x in np.argsort(sizes_GB)[::-1]]"
   ]
  },
  {
   "cell_type": "code",
   "execution_count": 101,
   "metadata": {},
   "outputs": [],
   "source": [
    "np.sort(sizes_GB)[::-1]"
   ]
  },
  {
   "cell_type": "markdown",
   "metadata": {
    "collapsed": true
   },
   "source": [
    "### Make function more general"
   ]
  },
  {
   "cell_type": "code",
   "execution_count": 102,
   "metadata": {
    "collapsed": true
   },
   "outputs": [],
   "source": [
    "\n",
    "def find_files_with_provided_extension(source_path, file_extension):\n",
    "    #path = os.environ.get('HOME')\n",
    "    files = []\n",
    "    files_full_path = []\n",
    "    file_sizes_GB = []\n",
    "    \n",
    "    for dirpath, dirnames, filenames in os.walk(source_path):\n",
    "        for f in filenames:\n",
    "            if f.endswith(file_extension):\n",
    "                fpath = os.path.join(dirpath, f)\n",
    "                files.append(f)\n",
    "                files_full_path.append(fpath)\n",
    "                file_sizes_GB.append(os.stat(fpath).st_size*10**(-9)) \n",
    "\n",
    "    return files, files_full_path, file_sizes_GB\n"
   ]
  },
  {
   "cell_type": "code",
   "execution_count": 103,
   "metadata": {},
   "outputs": [],
   "source": [
    "path = os.environ.get('HOME')\n",
    "\n",
    "files, pathfiles, file_sizes_GB = find_files_with_provided_extension(path, 'mp3')"
   ]
  },
  {
   "cell_type": "code",
   "execution_count": 117,
   "metadata": {},
   "outputs": [
    {
     "data": {
      "text/plain": [
       "'50 Countdown.mp3'"
      ]
     },
     "execution_count": 117,
     "metadata": {},
     "output_type": "execute_result"
    }
   ],
   "source": [
    "os.path.split(pathfiles[0])[1]"
   ]
  },
  {
   "cell_type": "code",
   "execution_count": null,
   "metadata": {
    "collapsed": true
   },
   "outputs": [],
   "source": []
  }
 ],
 "metadata": {
  "kernelspec": {
   "display_name": "Python 3",
   "language": "python",
   "name": "python3"
  },
  "language_info": {
   "codemirror_mode": {
    "name": "ipython",
    "version": 3
   },
   "file_extension": ".py",
   "mimetype": "text/x-python",
   "name": "python",
   "nbconvert_exporter": "python",
   "pygments_lexer": "ipython3",
   "version": "3.6.3"
  }
 },
 "nbformat": 4,
 "nbformat_minor": 1
}

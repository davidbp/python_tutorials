{
 "cells": [
  {
   "cell_type": "markdown",
   "id": "3a5b92c2",
   "metadata": {},
   "source": [
    "# Functools\n",
    "\n",
    "\n",
    "The functools module is for higher-order functions: functions that act on or return other functions. In general, any callable object can be treated as a function for the purposes of this module.\n",
    "\n",
    "\n",
    "Let us show an example, Imagine you want to clean some text removing non \"alfabetical\" characters such as ```['!', '%', '.', ';',... ] ```. One can use a regex, compile it and use `.sub`. Let us see how to do this:\n",
    "\n"
   ]
  },
  {
   "cell_type": "code",
   "execution_count": 18,
   "id": "93e19778",
   "metadata": {},
   "outputs": [
    {
     "data": {
      "text/plain": [
       "'I had an amazing weekend  what about you  I think you where a bit ill  right '"
      ]
     },
     "execution_count": 18,
     "metadata": {},
     "output_type": "execute_result"
    }
   ],
   "source": [
    "import re\n",
    "\n",
    "doc_cleaner_pattern=r\"[^\\sa-zA-Z0-9à-ú_]\"\n",
    "clean_doc_pattern = re.compile(doc_cleaner_pattern)\n",
    "doc_clean = clean_doc_pattern.sub\n",
    "s = 'I had an amazing weekend! what about you? I think you where a bit ill, right?' \n",
    "doc_clean(' ', s)"
   ]
  },
  {
   "cell_type": "markdown",
   "id": "66cfc705",
   "metadata": {},
   "source": [
    "Note  though that we need to use  `doc_clean(' ', s)` what if we allways want to use `' '` as the first input of `doc_clean`? Whe han simply create a new function `doc_clean_(x)` that returns `doc_clean(' ', x)` but where the user does not need to write every time the first argument"
   ]
  },
  {
   "cell_type": "code",
   "execution_count": 31,
   "id": "41ce6f3f",
   "metadata": {},
   "outputs": [
    {
     "data": {
      "text/plain": [
       "'I had an amazing weekend  what about you  I think you where a bit ill  right '"
      ]
     },
     "execution_count": 31,
     "metadata": {},
     "output_type": "execute_result"
    }
   ],
   "source": [
    "from functools import partial\n",
    "doc_clean_ = partial(doc_clean, ' ')\n",
    "doc_clean_(s)"
   ]
  },
  {
   "cell_type": "code",
   "execution_count": null,
   "id": "2e3b4d7c",
   "metadata": {},
   "outputs": [],
   "source": []
  },
  {
   "cell_type": "code",
   "execution_count": null,
   "id": "b8e39498",
   "metadata": {},
   "outputs": [],
   "source": []
  }
 ],
 "metadata": {
  "kernelspec": {
   "display_name": "Python 3 (ipykernel)",
   "language": "python",
   "name": "python3"
  },
  "language_info": {
   "codemirror_mode": {
    "name": "ipython",
    "version": 3
   },
   "file_extension": ".py",
   "mimetype": "text/x-python",
   "name": "python",
   "nbconvert_exporter": "python",
   "pygments_lexer": "ipython3",
   "version": "3.9.12"
  }
 },
 "nbformat": 4,
 "nbformat_minor": 5
}

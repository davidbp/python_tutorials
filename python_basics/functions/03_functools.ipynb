{
 "cells": [
  {
   "cell_type": "markdown",
   "id": "3a5b92c2",
   "metadata": {},
   "source": [
    "# Functools\n",
    "\n",
    "\n",
    "The functools module is for higher-order functions: functions that act on or return other functions. In general, any callable object can be treated as a function for the purposes of this module.\n",
    "\n",
    "## functools.partial\n",
    "\n",
    "Partial functions allow us to fix a bunch of function arguments and generate a new function with the fixed arguments\n",
    "\n",
    "```python \n",
    "def f(a, b, c):\n",
    "    return 1*a + 10*b + 100*c \n",
    "\n",
    "# A partial function that calls f with 'b' and 'c' arguments fixed\n",
    "g = partial(f, 1, 1)\n",
    "print(g(5))\n",
    "```\n",
    "\n"
   ]
  },
  {
   "cell_type": "code",
   "execution_count": 18,
   "id": "8ead06b4",
   "metadata": {},
   "outputs": [
    {
     "name": "stdout",
     "output_type": "stream",
     "text": [
      "511\n"
     ]
    }
   ],
   "source": [
    "def f(a, b, c):\n",
    "    return 1*a + 10*b + 100*c \n",
    "\n",
    "# A partial function that calls f with 'b' and 'c' arguments fixed\n",
    "g = partial(f, 1, 1)\n",
    "print(g(5))"
   ]
  },
  {
   "cell_type": "markdown",
   "id": "f19fdf69",
   "metadata": {},
   "source": [
    "\n",
    "Let us show an example, Imagine you want to clean some text removing non \"alfabetical\" characters such as ```['!', '%', '.', ';',... ] ```. One can use a regex, compile it and use `.sub`. Let us see how to do this:\n",
    "\n"
   ]
  },
  {
   "cell_type": "code",
   "execution_count": 1,
   "id": "93e19778",
   "metadata": {},
   "outputs": [
    {
     "data": {
      "text/plain": [
       "'I had an amazing weekend  what about you  I think you where a bit ill  right '"
      ]
     },
     "execution_count": 1,
     "metadata": {},
     "output_type": "execute_result"
    }
   ],
   "source": [
    "import re\n",
    "\n",
    "doc_cleaner_pattern=r\"[^\\sa-zA-Z0-9à-ú_]\"\n",
    "clean_doc_pattern = re.compile(doc_cleaner_pattern)\n",
    "doc_clean = clean_doc_pattern.sub\n",
    "s = 'I had an amazing weekend! what about you? I think you where a bit ill, right?' \n",
    "doc_clean(' ', s)"
   ]
  },
  {
   "cell_type": "markdown",
   "id": "66cfc705",
   "metadata": {},
   "source": [
    "Note  though that we need to use  `doc_clean(' ', s)` what if we allways want to use `' '` as the first input of `doc_clean`? Whe han simply create a new function `doc_clean_(x)` that returns `doc_clean(' ', x)` but where the user does not need to write every time the first argument"
   ]
  },
  {
   "cell_type": "code",
   "execution_count": 5,
   "id": "41ce6f3f",
   "metadata": {
    "scrolled": true
   },
   "outputs": [
    {
     "name": "stdout",
     "output_type": "stream",
     "text": [
      "I had an amazing weekend! what about you? I think you where a bit ill, right?\n",
      "I had an amazing weekend  what about you  I think you where a bit ill  right \n"
     ]
    }
   ],
   "source": [
    "from functools import partial\n",
    "print(s)\n",
    "preprocess = partial(doc_clean, ' ')\n",
    "print(preprocess(s))"
   ]
  },
  {
   "cell_type": "markdown",
   "id": "e6481d98",
   "metadata": {},
   "source": [
    "\n",
    "Example of where partial is used:\n",
    "\n",
    "https://github.com/scikit-learn/scikit-learn/blob/36958fb24/sklearn/feature_extraction/text.py#L321\n",
    "\n",
    "Note that in the previous url `_preprocess(doc, accent_function=None, lower=False)` simply 'fixes/clamps down' some input arguments\n",
    "\n",
    "```python\n",
    "def _preprocess(doc, accent_function=None, lower=False):\n",
    "    if lower:\n",
    "        doc = doc.lower()\n",
    "    if accent_function is not None:\n",
    "        doc = accent_function(doc)\n",
    "    return doc\n",
    "```"
   ]
  },
  {
   "cell_type": "code",
   "execution_count": null,
   "id": "86e371a7",
   "metadata": {},
   "outputs": [],
   "source": []
  }
 ],
 "metadata": {
  "kernelspec": {
   "display_name": "Python 3 (ipykernel)",
   "language": "python",
   "name": "python3"
  },
  "language_info": {
   "codemirror_mode": {
    "name": "ipython",
    "version": 3
   },
   "file_extension": ".py",
   "mimetype": "text/x-python",
   "name": "python",
   "nbconvert_exporter": "python",
   "pygments_lexer": "ipython3",
   "version": "3.9.12"
  }
 },
 "nbformat": 4,
 "nbformat_minor": 5
}

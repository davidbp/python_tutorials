{
 "cells": [
  {
   "cell_type": "markdown",
   "id": "3a5b92c2",
   "metadata": {},
   "source": [
    "# Functools\n",
    "\n",
    "\n",
    "The functools module is for higher-order functions: functions that act on or return other functions. In general, any callable object can be treated as a function for the purposes of this module.\n",
    "\n",
    "## functools.partial\n",
    "\n",
    "Partial functions allow us to fix a bunch of function arguments and generate a new function with the fixed arguments\n",
    "\n",
    "```python \n",
    "def f(a, b, c):\n",
    "    return 1*a + 10*b + 100*c \n",
    "\n",
    "# A partial function that calls f with 'b' and 'c' arguments fixed\n",
    "g = partial(f, 1, 1)\n",
    "print(g(5))\n",
    "```\n",
    "\n"
   ]
  },
  {
   "cell_type": "code",
   "execution_count": 23,
   "id": "0bab36b9",
   "metadata": {},
   "outputs": [
    {
     "name": "stdout",
     "output_type": "stream",
     "text": [
      "115\n"
     ]
    }
   ],
   "source": [
    "def f(a, b, c):\n",
    "    return 1*a + 10*b + 100*c \n",
    "\n",
    "# A partial function that calls f with 'b' and 'c' arguments fixed\n",
    "g = partial(f, b=1, c=1)\n",
    "print(g(5))"
   ]
  },
  {
   "cell_type": "markdown",
   "id": "905a7e99",
   "metadata": {},
   "source": [
    "Note that if no keyarguments are used the two parguments passed to `partial` will be treated in order.\n",
    "In the following snippet `partial(f, 1, 1)` refers to create a function from f where the first argument `a` is set to 1\n",
    "and the second argument `b` is set to 1, then the free variable `c` is not set. Therefore, in this example `g(5)` computes\n",
    "`1*1 + 1*10 + 100*5`."
   ]
  },
  {
   "cell_type": "code",
   "execution_count": 24,
   "id": "b811fc6f",
   "metadata": {},
   "outputs": [
    {
     "name": "stdout",
     "output_type": "stream",
     "text": [
      "511\n"
     ]
    }
   ],
   "source": [
    "g = partial(f, 1, 1)\n",
    "print(g(5))"
   ]
  },
  {
   "cell_type": "markdown",
   "id": "66f25ec2",
   "metadata": {},
   "source": [
    "\n",
    "Let us show an example, Imagine you want to clean some text removing non \"alfabetical\" characters such as ```['!', '%', '.', ';',... ] ```. One can use a regex, compile it and use `.sub`. Let us see how to do this:\n",
    "\n"
   ]
  },
  {
   "cell_type": "code",
   "execution_count": 1,
   "id": "93e19778",
   "metadata": {},
   "outputs": [
    {
     "data": {
      "text/plain": [
       "'I had an amazing weekend  what about you  I think you where a bit ill  right '"
      ]
     },
     "execution_count": 1,
     "metadata": {},
     "output_type": "execute_result"
    }
   ],
   "source": [
    "import re\n",
    "\n",
    "doc_cleaner_pattern=r\"[^\\sa-zA-Z0-9à-ú_]\"\n",
    "clean_doc_pattern = re.compile(doc_cleaner_pattern)\n",
    "doc_clean = clean_doc_pattern.sub\n",
    "s = 'I had an amazing weekend! what about you? I think you where a bit ill, right?' \n",
    "doc_clean(' ', s)"
   ]
  },
  {
   "cell_type": "markdown",
   "id": "66cfc705",
   "metadata": {},
   "source": [
    "Note  though that we need to use  `doc_clean(' ', s)` what if we allways want to use `' '` as the first input of `doc_clean`? Whe han simply create a new function `doc_clean_(x)` that returns `doc_clean(' ', x)` but where the user does not need to write every time the first argument"
   ]
  },
  {
   "cell_type": "code",
   "execution_count": 5,
   "id": "41ce6f3f",
   "metadata": {
    "scrolled": true
   },
   "outputs": [
    {
     "name": "stdout",
     "output_type": "stream",
     "text": [
      "I had an amazing weekend! what about you? I think you where a bit ill, right?\n",
      "I had an amazing weekend  what about you  I think you where a bit ill  right \n"
     ]
    }
   ],
   "source": [
    "from functools import partial\n",
    "print(s)\n",
    "preprocess = partial(doc_clean, ' ')\n",
    "print(preprocess(s))"
   ]
  },
  {
   "cell_type": "markdown",
   "id": "c09fe312",
   "metadata": {},
   "source": [
    "\n",
    "Example of where partial is used:\n",
    "\n",
    "https://github.com/scikit-learn/scikit-learn/blob/36958fb24/sklearn/feature_extraction/text.py#L321\n",
    "\n",
    "Note that in the previous url `_preprocess(doc, accent_function=None, lower=False)` simply 'fixes/clamps down' some input arguments\n",
    "\n",
    "```python\n",
    "# Code from sklearn (link above)\n",
    "\n",
    "def _preprocess(doc, accent_function=None, lower=False):\n",
    "    if lower:\n",
    "        doc = doc.lower()\n",
    "    if accent_function is not None:\n",
    "        doc = accent_function(doc)\n",
    "    return doc\n",
    "\n",
    "def build_preprocessor(self):\n",
    "    \"\"\"Return a function to preprocess the text before tokenization.\n",
    "    Returns\n",
    "    -------\n",
    "    preprocessor: callable\n",
    "          A function to preprocess the text before tokenization.\n",
    "    \"\"\"\n",
    "    if self.preprocessor is not None:\n",
    "        return self.preprocessor\n",
    "    # accent stripping\n",
    "    if not self.strip_accents:\n",
    "        strip_accents = None\n",
    "    elif callable(self.strip_accents):\n",
    "        strip_accents = self.strip_accents\n",
    "    elif self.strip_accents == \"ascii\":\n",
    "        strip_accents = strip_accents_ascii\n",
    "    elif self.strip_accents == \"unicode\":\n",
    "        strip_accents = strip_accents_unicode\n",
    "    else:\n",
    "        raise ValueError(\n",
    "            'Invalid value for \"strip_accents\": %s' % self.strip_accents\n",
    "        )\n",
    "    return partial(_preprocess, accent_function=strip_accents, lower=self.lowercase)\n",
    "```"
   ]
  },
  {
   "cell_type": "code",
   "execution_count": null,
   "id": "5dfe9617",
   "metadata": {},
   "outputs": [],
   "source": []
  }
 ],
 "metadata": {
  "kernelspec": {
   "display_name": "Python 3 (ipykernel)",
   "language": "python",
   "name": "python3"
  },
  "language_info": {
   "codemirror_mode": {
    "name": "ipython",
    "version": 3
   },
   "file_extension": ".py",
   "mimetype": "text/x-python",
   "name": "python",
   "nbconvert_exporter": "python",
   "pygments_lexer": "ipython3",
   "version": "3.9.12"
  }
 },
 "nbformat": 4,
 "nbformat_minor": 5
}

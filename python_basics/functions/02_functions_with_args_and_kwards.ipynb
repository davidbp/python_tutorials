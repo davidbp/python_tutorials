{
 "cells": [
  {
   "cell_type": "markdown",
   "metadata": {},
   "source": [
    "# Unbounded arguments in functions"
   ]
  },
  {
   "cell_type": "markdown",
   "metadata": {},
   "source": [
    "A standard function in python has a number of arguments that the user has to specify in order to be able to call the function. For example, the following `foo` function has two arguments that need to be specified in order to use the funtion.\n"
   ]
  },
  {
   "cell_type": "code",
   "execution_count": 121,
   "metadata": {
    "ExecuteTime": {
     "end_time": "2020-03-07T16:43:51.666915Z",
     "start_time": "2020-03-07T16:43:51.664851Z"
    }
   },
   "outputs": [],
   "source": [
    "def foo(a,b):\n",
    "    return a+b"
   ]
  },
  {
   "cell_type": "code",
   "execution_count": 122,
   "metadata": {
    "ExecuteTime": {
     "end_time": "2020-03-07T16:43:51.814647Z",
     "start_time": "2020-03-07T16:43:51.811209Z"
    }
   },
   "outputs": [
    {
     "data": {
      "text/plain": [
       "3"
      ]
     },
     "execution_count": 122,
     "metadata": {},
     "output_type": "execute_result"
    }
   ],
   "source": [
    "foo(1,2)"
   ]
  },
  {
   "cell_type": "markdown",
   "metadata": {},
   "source": [
    "Functions accept keyword arguments"
   ]
  },
  {
   "cell_type": "code",
   "execution_count": 123,
   "metadata": {
    "ExecuteTime": {
     "end_time": "2020-03-07T16:43:52.127875Z",
     "start_time": "2020-03-07T16:43:52.126013Z"
    }
   },
   "outputs": [],
   "source": [
    "def foo_2(a,b=2):\n",
    "    return a+b"
   ]
  },
  {
   "cell_type": "code",
   "execution_count": 124,
   "metadata": {
    "ExecuteTime": {
     "end_time": "2020-03-07T16:43:52.264302Z",
     "start_time": "2020-03-07T16:43:52.260846Z"
    }
   },
   "outputs": [
    {
     "data": {
      "text/plain": [
       "(3, 4)"
      ]
     },
     "execution_count": 124,
     "metadata": {},
     "output_type": "execute_result"
    }
   ],
   "source": [
    "foo_2(1), foo_2(1,3)"
   ]
  },
  {
   "cell_type": "markdown",
   "metadata": {},
   "source": [
    "## `*args` and  `**kwargs`"
   ]
  },
  {
   "cell_type": "markdown",
   "metadata": {
    "ExecuteTime": {
     "end_time": "2020-03-07T16:06:11.724869Z",
     "start_time": "2020-03-07T16:06:11.721330Z"
    }
   },
   "source": [
    "### Functions  with  `*args` \n",
    "\n",
    "Sometimes we don't know how many inputs a function should accept.\n",
    "\n",
    "We can create functions that accept an unbounded number of inputs using `*args`.\n",
    "\n",
    "Internally `*args` is a tuple."
   ]
  },
  {
   "cell_type": "code",
   "execution_count": 105,
   "metadata": {
    "ExecuteTime": {
     "end_time": "2020-03-07T16:25:10.794270Z",
     "start_time": "2020-03-07T16:25:10.792034Z"
    }
   },
   "outputs": [],
   "source": [
    "def foo_3(a,*args):\n",
    "    print(a)\n",
    "    if args:\n",
    "        print(\"\\nHere are the args:\")\n",
    "        print(args)\n",
    "        print(type(args))"
   ]
  },
  {
   "cell_type": "code",
   "execution_count": 106,
   "metadata": {
    "ExecuteTime": {
     "end_time": "2020-03-07T16:25:11.176509Z",
     "start_time": "2020-03-07T16:25:11.174297Z"
    }
   },
   "outputs": [
    {
     "name": "stdout",
     "output_type": "stream",
     "text": [
      "1\n"
     ]
    }
   ],
   "source": [
    "foo_3(1)"
   ]
  },
  {
   "cell_type": "markdown",
   "metadata": {},
   "source": [
    "We can optionally call the function with  more arguments"
   ]
  },
  {
   "cell_type": "code",
   "execution_count": 107,
   "metadata": {
    "ExecuteTime": {
     "end_time": "2020-03-07T16:25:11.918806Z",
     "start_time": "2020-03-07T16:25:11.916499Z"
    }
   },
   "outputs": [
    {
     "name": "stdout",
     "output_type": "stream",
     "text": [
      "1\n",
      "\n",
      "Here are the args:\n",
      "(2,)\n",
      "<class 'tuple'>\n"
     ]
    }
   ],
   "source": [
    "foo_3(1,2)"
   ]
  },
  {
   "cell_type": "markdown",
   "metadata": {
    "ExecuteTime": {
     "end_time": "2020-03-07T16:07:02.787399Z",
     "start_time": "2020-03-07T16:07:02.784826Z"
    }
   },
   "source": [
    "Note that we can use more than 2 arguments in the function even if it seems that `foo_3`\n",
    "only accepts as argument `a` and `*args`."
   ]
  },
  {
   "cell_type": "code",
   "execution_count": 61,
   "metadata": {
    "ExecuteTime": {
     "end_time": "2020-03-07T16:07:14.947850Z",
     "start_time": "2020-03-07T16:07:14.945578Z"
    }
   },
   "outputs": [
    {
     "name": "stdout",
     "output_type": "stream",
     "text": [
      "1\n",
      "\n",
      "Here are the args:\n",
      "(2, 3)\n"
     ]
    }
   ],
   "source": [
    "foo_3(1,2,3)"
   ]
  },
  {
   "cell_type": "markdown",
   "metadata": {},
   "source": [
    "This arguments are general and we can put as many as we want"
   ]
  },
  {
   "cell_type": "code",
   "execution_count": 108,
   "metadata": {
    "ExecuteTime": {
     "end_time": "2020-03-07T16:25:15.732950Z",
     "start_time": "2020-03-07T16:25:15.730322Z"
    }
   },
   "outputs": [
    {
     "name": "stdout",
     "output_type": "stream",
     "text": [
      "1\n",
      "\n",
      "Here are the args:\n",
      "(2, 3, 'hi', [2, 3, 4])\n",
      "<class 'tuple'>\n"
     ]
    }
   ],
   "source": [
    "foo_3(1,2,3,\"hi\",[2,3,4])"
   ]
  },
  {
   "cell_type": "markdown",
   "metadata": {
    "ExecuteTime": {
     "end_time": "2020-03-07T16:08:40.629333Z",
     "start_time": "2020-03-07T16:08:40.627476Z"
    }
   },
   "source": [
    "### Functions  with  `**kwargs` \n",
    "\n",
    "The argument `**kwargs` allows us to call functions with keyword arguments that do not exist in the definition of the function.\n",
    "\n",
    "Internally  `kwargs`  is simply a dictionary, therefore, we can add inside the function new (key,value) pairs to `kwargs` or even change values for some of the keys already set in `kwargs`."
   ]
  },
  {
   "cell_type": "code",
   "execution_count": 102,
   "metadata": {
    "ExecuteTime": {
     "end_time": "2020-03-07T16:23:09.889062Z",
     "start_time": "2020-03-07T16:23:09.886668Z"
    }
   },
   "outputs": [],
   "source": [
    "def foo_4(a,*args, **kwargs):\n",
    "    print(a)\n",
    "    if args:\n",
    "        print(\"\\nHere are the args:\")\n",
    "        print(args)\n",
    "        print(type(args))\n",
    "    if kwargs:\n",
    "        print(\"\\nHere are the kwargs:\")\n",
    "        print(kwargs)\n",
    "        print(type(kwargs))\n"
   ]
  },
  {
   "cell_type": "code",
   "execution_count": 103,
   "metadata": {
    "ExecuteTime": {
     "end_time": "2020-03-07T16:23:10.518540Z",
     "start_time": "2020-03-07T16:23:10.516128Z"
    }
   },
   "outputs": [
    {
     "name": "stdout",
     "output_type": "stream",
     "text": [
      "1\n",
      "\n",
      "Here are the args:\n",
      "(2, 3, 4)\n",
      "<class 'tuple'>\n"
     ]
    }
   ],
   "source": [
    "foo_4(1,2,3,4)"
   ]
  },
  {
   "cell_type": "markdown",
   "metadata": {},
   "source": [
    "notice we can call the function with ` new_argument_1=\"one\"` even if `new_argument_1` is not defined in the function definition"
   ]
  },
  {
   "cell_type": "code",
   "execution_count": 104,
   "metadata": {
    "ExecuteTime": {
     "end_time": "2020-03-07T16:23:12.803349Z",
     "start_time": "2020-03-07T16:23:12.800440Z"
    }
   },
   "outputs": [
    {
     "name": "stdout",
     "output_type": "stream",
     "text": [
      "a\n",
      "\n",
      "Here are the args:\n",
      "(23, 24)\n",
      "<class 'tuple'>\n",
      "\n",
      "Here are the kwargs:\n",
      "{'new_argument_1': 'one', 'new_argument_2': 'sec'}\n",
      "<class 'dict'>\n"
     ]
    }
   ],
   "source": [
    "foo_4(\"a\", 23,24, new_argument_1=\"one\", new_argument_2=\"sec\")"
   ]
  },
  {
   "cell_type": "markdown",
   "metadata": {
    "ExecuteTime": {
     "end_time": "2020-03-07T16:16:57.812467Z",
     "start_time": "2020-03-07T16:16:57.809638Z"
    }
   },
   "source": [
    "If we try to do this with `foo_3` it will not work"
   ]
  },
  {
   "cell_type": "code",
   "execution_count": 100,
   "metadata": {
    "ExecuteTime": {
     "end_time": "2020-03-07T16:21:51.047650Z",
     "start_time": "2020-03-07T16:21:51.045674Z"
    }
   },
   "outputs": [],
   "source": [
    "# foo_3(1,2,new_argument_1=\"hi\")\n",
    "# TypeError: foo_3() got an unexpected keyword argument 'new_argument_1'"
   ]
  },
  {
   "cell_type": "code",
   "execution_count": null,
   "metadata": {},
   "outputs": [],
   "source": []
  }
 ],
 "metadata": {
  "kernelspec": {
   "display_name": "Python 3",
   "language": "python",
   "name": "python3"
  },
  "language_info": {
   "codemirror_mode": {
    "name": "ipython",
    "version": 3
   },
   "file_extension": ".py",
   "mimetype": "text/x-python",
   "name": "python",
   "nbconvert_exporter": "python",
   "pygments_lexer": "ipython3",
   "version": "3.6.7"
  },
  "toc": {
   "base_numbering": 1,
   "nav_menu": {},
   "number_sections": true,
   "sideBar": true,
   "skip_h1_title": false,
   "title_cell": "Table of Contents",
   "title_sidebar": "Contents",
   "toc_cell": false,
   "toc_position": {},
   "toc_section_display": true,
   "toc_window_display": false
  }
 },
 "nbformat": 4,
 "nbformat_minor": 2
}

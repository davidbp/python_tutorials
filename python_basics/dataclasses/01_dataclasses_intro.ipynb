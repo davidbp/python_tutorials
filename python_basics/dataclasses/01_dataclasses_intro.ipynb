{
 "cells": [
  {
   "cell_type": "markdown",
   "id": "d31ac630",
   "metadata": {},
   "source": [
    "# Introduction to the `dataclasses` module\n",
    "\n",
    "The `dataclasses` module is a module introduced in python 3.7. The main feature of the module is the introduction of the `dataclass` decorator."
   ]
  },
  {
   "cell_type": "code",
   "execution_count": 127,
   "id": "55c4991b",
   "metadata": {},
   "outputs": [],
   "source": [
    "from dataclasses import dataclass, field"
   ]
  },
  {
   "cell_type": "code",
   "execution_count": 14,
   "id": "8f3751f8",
   "metadata": {},
   "outputs": [
    {
     "name": "stdout",
     "output_type": "stream",
     "text": [
      "Help on function dataclass in module dataclasses:\n",
      "\n",
      "dataclass(cls=None, /, *, init=True, repr=True, eq=True, order=False, unsafe_hash=False, frozen=False)\n",
      "    Returns the same class as was passed in, with dunder methods\n",
      "    added based on the fields defined in the class.\n",
      "    \n",
      "    Examines PEP 526 __annotations__ to determine fields.\n",
      "    \n",
      "    If init is true, an __init__() method is added to the class. If\n",
      "    repr is true, a __repr__() method is added. If order is true, rich\n",
      "    comparison dunder methods are added. If unsafe_hash is true, a\n",
      "    __hash__() method function is added. If frozen is true, fields may\n",
      "    not be assigned to after instance creation.\n",
      "\n",
      "None\n"
     ]
    }
   ],
   "source": [
    "print(help(dataclass))"
   ]
  },
  {
   "cell_type": "markdown",
   "id": "4477eeda",
   "metadata": {},
   "source": [
    "### Example: Defining a class around a Dataset\n",
    "\n",
    "Consider you want to create a class to keep track of information about companies. \n",
    "\n"
   ]
  },
  {
   "cell_type": "code",
   "execution_count": 284,
   "id": "24c7556d",
   "metadata": {},
   "outputs": [],
   "source": [
    "\n",
    "import pandas as pd\n",
    "\n",
    "class Company:\n",
    "    name: str = ''\n",
    "    profits: float = 0.\n",
    "    id: str"
   ]
  },
  {
   "cell_type": "code",
   "execution_count": 285,
   "id": "2c57fe3b",
   "metadata": {},
   "outputs": [
    {
     "name": "stdout",
     "output_type": "stream",
     "text": [
      "<__main__.Company object at 0x7fc60b2ef7c0>\n"
     ]
    }
   ],
   "source": [
    "print(Company())"
   ]
  },
  {
   "cell_type": "markdown",
   "id": "e70f156b",
   "metadata": {},
   "source": [
    "We can see that adding `@dataclass` we get for free a nice `__str__` method that shows the contents of the instance"
   ]
  },
  {
   "cell_type": "code",
   "execution_count": 407,
   "id": "662320df",
   "metadata": {},
   "outputs": [],
   "source": [
    "@dataclass\n",
    "class Company:\n",
    "    name: str = ''\n",
    "    profits: float = 0. \n",
    "    id: str = ''"
   ]
  },
  {
   "cell_type": "code",
   "execution_count": 408,
   "id": "8da61fba",
   "metadata": {},
   "outputs": [
    {
     "name": "stdout",
     "output_type": "stream",
     "text": [
      "Company(name='', profits=0.0, id='')\n"
     ]
    }
   ],
   "source": [
    "print(Company())"
   ]
  },
  {
   "cell_type": "markdown",
   "id": "245e2f18",
   "metadata": {},
   "source": [
    "This class has some potentiall problems. For example, the user can set an id for each company"
   ]
  },
  {
   "cell_type": "code",
   "execution_count": 409,
   "id": "e810eb01",
   "metadata": {},
   "outputs": [
    {
     "data": {
      "text/plain": [
       "Company(name='', profits=0.0, id='1234')"
      ]
     },
     "execution_count": 409,
     "metadata": {},
     "output_type": "execute_result"
    }
   ],
   "source": [
    "c1 = Company(id='1234')\n",
    "c1"
   ]
  },
  {
   "cell_type": "markdown",
   "id": "8fa9e97e",
   "metadata": {},
   "source": [
    "\n",
    "#### Forbid users to set up an attribute using  `field` with  `init=False`.\n",
    "\n",
    "We can forbid users to set up the `id` setting a `field` with  `init=False`."
   ]
  },
  {
   "cell_type": "code",
   "execution_count": 413,
   "id": "126d24da",
   "metadata": {},
   "outputs": [],
   "source": [
    "import uuid\n",
    "\n",
    "def generate_uuid4():\n",
    "    return str(uuid.uuid4())\n",
    "\n",
    "@dataclass\n",
    "class Company:\n",
    "    name: str = ''\n",
    "    profits: float = 0. \n",
    "    id: str = field(init=False, default_factory=generate_uuid4)"
   ]
  },
  {
   "cell_type": "markdown",
   "id": "656ad2f9",
   "metadata": {},
   "source": [
    "This will raise an error when trying to set up the `id` field."
   ]
  },
  {
   "cell_type": "code",
   "execution_count": 414,
   "id": "c97756c8",
   "metadata": {},
   "outputs": [
    {
     "ename": "TypeError",
     "evalue": "__init__() got an unexpected keyword argument 'id'",
     "output_type": "error",
     "traceback": [
      "\u001b[0;31m---------------------------------------------------------------------------\u001b[0m",
      "\u001b[0;31mTypeError\u001b[0m                                 Traceback (most recent call last)",
      "Cell \u001b[0;32mIn[414], line 1\u001b[0m\n\u001b[0;32m----> 1\u001b[0m c1 \u001b[38;5;241m=\u001b[39m \u001b[43mCompany\u001b[49m\u001b[43m(\u001b[49m\u001b[38;5;28;43mid\u001b[39;49m\u001b[38;5;241;43m=\u001b[39;49m\u001b[38;5;124;43m'\u001b[39;49m\u001b[38;5;124;43m1234\u001b[39;49m\u001b[38;5;124;43m'\u001b[39;49m\u001b[43m)\u001b[49m\n\u001b[1;32m      2\u001b[0m c1\n",
      "\u001b[0;31mTypeError\u001b[0m: __init__() got an unexpected keyword argument 'id'"
     ]
    }
   ],
   "source": [
    "c1 = Company(id='1234')\n",
    "c1"
   ]
  },
  {
   "cell_type": "markdown",
   "id": "0134aa83",
   "metadata": {},
   "source": [
    "But it will work flawlessly if the `id` is not specified by the user."
   ]
  },
  {
   "cell_type": "code",
   "execution_count": 415,
   "id": "0ff4ebda",
   "metadata": {},
   "outputs": [
    {
     "data": {
      "text/plain": [
       "Company(name='Intel', profits=100, id='5c304230-8701-4e3e-a36a-bcefce1378be')"
      ]
     },
     "execution_count": 415,
     "metadata": {},
     "output_type": "execute_result"
    }
   ],
   "source": [
    "c1 = Company(name='Intel', profits=100)\n",
    "c1"
   ]
  },
  {
   "cell_type": "markdown",
   "id": "561e7944",
   "metadata": {},
   "source": [
    "#### Exclude attributes beein printed of a `field` with `repr=False`\n",
    "\n",
    "Consider the case were there is internal information that even though accesible might not be interesting to users when printing a variable. One can use `field(repr=False)` to avoid printing it."
   ]
  },
  {
   "cell_type": "code",
   "execution_count": 432,
   "id": "0118e46d",
   "metadata": {},
   "outputs": [
    {
     "data": {
      "text/plain": [
       "Company(name='Intel', profits=100)"
      ]
     },
     "execution_count": 432,
     "metadata": {},
     "output_type": "execute_result"
    }
   ],
   "source": [
    "import uuid\n",
    "\n",
    "def generate_uuid4():\n",
    "    return str(uuid.uuid4())\n",
    "\n",
    "@dataclass\n",
    "class Company:\n",
    "    name: str = ''\n",
    "    profits: float = 0. \n",
    "    id: str = field(init=False, default_factory=generate_uuid4, repr=False)\n",
    "        \n",
    "c1 = Company(name='Intel', profits=100)\n",
    "c1"
   ]
  },
  {
   "cell_type": "markdown",
   "id": "4ac1e8c3",
   "metadata": {},
   "source": [
    "Consider thought the problem that information of a DataClass is subject to mutation.\n",
    "We could change the name of `c1` and this might be an undesired behaviour."
   ]
  },
  {
   "cell_type": "code",
   "execution_count": 434,
   "id": "6d5f27b3",
   "metadata": {},
   "outputs": [
    {
     "name": "stdout",
     "output_type": "stream",
     "text": [
      "Company(name='ACS', profits=100)\n"
     ]
    }
   ],
   "source": [
    "c1.name = 'ACS'\n",
    "print(c1)"
   ]
  },
  {
   "cell_type": "markdown",
   "id": "3d8d5f47",
   "metadata": {},
   "source": [
    "#### Freeze a Dataclass using `frozen=True` in the dataclass decorator\n"
   ]
  },
  {
   "cell_type": "code",
   "execution_count": 435,
   "id": "b17a49c8",
   "metadata": {},
   "outputs": [
    {
     "data": {
      "text/plain": [
       "Company(name='Intel', profits=100)"
      ]
     },
     "execution_count": 435,
     "metadata": {},
     "output_type": "execute_result"
    }
   ],
   "source": [
    "import uuid\n",
    "\n",
    "def generate_uuid4():\n",
    "    return str(uuid.uuid4())\n",
    "\n",
    "@dataclass(frozen=True)\n",
    "class Company:\n",
    "    name: str = ''\n",
    "    profits: float = 0. \n",
    "    id: str = field(init=False, default_factory=generate_uuid4, repr=False)\n",
    "        \n",
    "c1 = Company(name='Intel', profits=100)\n",
    "c1"
   ]
  },
  {
   "cell_type": "markdown",
   "id": "be0b5ed0",
   "metadata": {},
   "source": [
    "Now we will not be available to mutate attribtes of an instance "
   ]
  },
  {
   "cell_type": "code",
   "execution_count": 437,
   "id": "01f01e8b",
   "metadata": {},
   "outputs": [
    {
     "ename": "FrozenInstanceError",
     "evalue": "cannot assign to field 'name'",
     "output_type": "error",
     "traceback": [
      "\u001b[0;31m---------------------------------------------------------------------------\u001b[0m",
      "\u001b[0;31mFrozenInstanceError\u001b[0m                       Traceback (most recent call last)",
      "Cell \u001b[0;32mIn[437], line 1\u001b[0m\n\u001b[0;32m----> 1\u001b[0m c1\u001b[38;5;241m.\u001b[39mname \u001b[38;5;241m=\u001b[39m \u001b[38;5;124m'\u001b[39m\u001b[38;5;124mACS\u001b[39m\u001b[38;5;124m'\u001b[39m\n",
      "File \u001b[0;32m<string>:4\u001b[0m, in \u001b[0;36m__setattr__\u001b[0;34m(self, name, value)\u001b[0m\n",
      "\u001b[0;31mFrozenInstanceError\u001b[0m: cannot assign to field 'name'"
     ]
    }
   ],
   "source": [
    "c1.name = 'ACS'"
   ]
  },
  {
   "cell_type": "markdown",
   "id": "ef430c21",
   "metadata": {},
   "source": [
    "#### Forcing users to specify keyword arguments with  `kw_only=True`"
   ]
  },
  {
   "cell_type": "markdown",
   "id": "92808d83",
   "metadata": {},
   "source": [
    "We can create a `Company` instance without specifying keyword arguments. In some cases we might want users to specify it, to avoid mistakes when defining instances."
   ]
  },
  {
   "cell_type": "code",
   "execution_count": 445,
   "id": "62cf2952",
   "metadata": {},
   "outputs": [
    {
     "data": {
      "text/plain": [
       "Company(name='Intel', profits=100)"
      ]
     },
     "execution_count": 445,
     "metadata": {},
     "output_type": "execute_result"
    }
   ],
   "source": [
    "c1 = Company('Intel', 100)\n",
    "c1"
   ]
  },
  {
   "cell_type": "code",
   "execution_count": 444,
   "id": "108a2706",
   "metadata": {},
   "outputs": [
    {
     "data": {
      "text/plain": [
       "'3.9.12 (main, Apr  5 2022, 01:53:17) \\n[Clang 12.0.0 ]'"
      ]
     },
     "execution_count": 444,
     "metadata": {},
     "output_type": "execute_result"
    }
   ],
   "source": [
    "# feature only available for python > 3.10 \n",
    "import sys\n",
    "sys.version"
   ]
  },
  {
   "cell_type": "code",
   "execution_count": 447,
   "id": "e4b11a8f",
   "metadata": {},
   "outputs": [
    {
     "ename": "TypeError",
     "evalue": "dataclass() got an unexpected keyword argument 'kw_only'",
     "output_type": "error",
     "traceback": [
      "\u001b[0;31m---------------------------------------------------------------------------\u001b[0m",
      "\u001b[0;31mTypeError\u001b[0m                                 Traceback (most recent call last)",
      "Cell \u001b[0;32mIn[447], line 6\u001b[0m\n\u001b[1;32m      3\u001b[0m \u001b[38;5;28;01mdef\u001b[39;00m \u001b[38;5;21mgenerate_uuid4\u001b[39m():\n\u001b[1;32m      4\u001b[0m     \u001b[38;5;28;01mreturn\u001b[39;00m \u001b[38;5;28mstr\u001b[39m(uuid\u001b[38;5;241m.\u001b[39muuid4())\n\u001b[0;32m----> 6\u001b[0m \u001b[38;5;129m@dataclass\u001b[39m\u001b[43m(\u001b[49m\u001b[43mkw_only\u001b[49m\u001b[38;5;241;43m=\u001b[39;49m\u001b[38;5;28;43;01mTrue\u001b[39;49;00m\u001b[43m)\u001b[49m\n\u001b[1;32m      7\u001b[0m \u001b[38;5;28;01mclass\u001b[39;00m \u001b[38;5;21;01mCompany\u001b[39;00m:\n\u001b[1;32m      8\u001b[0m     name: \u001b[38;5;28mstr\u001b[39m \u001b[38;5;241m=\u001b[39m \u001b[38;5;124m'\u001b[39m\u001b[38;5;124m'\u001b[39m\n\u001b[1;32m      9\u001b[0m     profits: \u001b[38;5;28mfloat\u001b[39m \u001b[38;5;241m=\u001b[39m \u001b[38;5;241m0.\u001b[39m \n",
      "\u001b[0;31mTypeError\u001b[0m: dataclass() got an unexpected keyword argument 'kw_only'"
     ]
    }
   ],
   "source": [
    "import uuid\n",
    "\n",
    "def generate_uuid4():\n",
    "    return str(uuid.uuid4())\n",
    "\n",
    "@dataclass(kw_only=True)\n",
    "class Company:\n",
    "    name: str = ''\n",
    "    profits: float = 0. \n",
    "    id: str = field(init=False, default_factory=generate_uuid4, repr=False)\n",
    "        \n",
    "# this will not work since kw_only=True\n",
    "c1 = Company('Intel', 100)\n",
    "c1"
   ]
  },
  {
   "cell_type": "markdown",
   "id": "d0b5d811",
   "metadata": {},
   "source": [
    "####  @dataclass(`match_args=True`)"
   ]
  },
  {
   "cell_type": "code",
   "execution_count": 523,
   "id": "4ce83642",
   "metadata": {},
   "outputs": [
    {
     "data": {
      "text/plain": [
       "Company(name='Intel', profits=100)"
      ]
     },
     "execution_count": 523,
     "metadata": {},
     "output_type": "execute_result"
    }
   ],
   "source": [
    "import uuid\n",
    "\n",
    "def generate_uuid4():\n",
    "    return str(uuid.uuid4())\n",
    "\n",
    "#@dataclass(match_args=True) # python >= 3.10\n",
    "@dataclass\n",
    "class Company:\n",
    "    name: str = ''\n",
    "    profits: float = 0. \n",
    "    id: str = field(init=False, default_factory=generate_uuid4, repr=False)\n",
    "        \n",
    "# this will not work since kw_only=True\n",
    "c1 = Company('Intel', 100)\n",
    "c1"
   ]
  },
  {
   "cell_type": "markdown",
   "id": "f72062b7",
   "metadata": {},
   "source": [
    "####  @dataclass(`match_args=True`)\n",
    "\n",
    "When creating a python object there is a `company.__dict__` "
   ]
  },
  {
   "cell_type": "code",
   "execution_count": null,
   "id": "5c5354ff",
   "metadata": {},
   "outputs": [],
   "source": []
  },
  {
   "cell_type": "markdown",
   "id": "dc52b6d3",
   "metadata": {},
   "source": [
    "#### @dataclass(slots=True): Using slots instead of `__dict__`\n",
    "\n",
    "We can have instances with faster access time to attriburtes using slots instead of the standard `__dict__` where attributes are stored. \n",
    "Be carefull, slots can break multiple inheritence.\n",
    "\n",
    "This can be done as follows:"
   ]
  },
  {
   "cell_type": "code",
   "execution_count": 453,
   "id": "ea7f66d9",
   "metadata": {},
   "outputs": [
    {
     "ename": "TypeError",
     "evalue": "dataclass() got an unexpected keyword argument 'slots'",
     "output_type": "error",
     "traceback": [
      "\u001b[0;31m---------------------------------------------------------------------------\u001b[0m",
      "\u001b[0;31mTypeError\u001b[0m                                 Traceback (most recent call last)",
      "Cell \u001b[0;32mIn[453], line 6\u001b[0m\n\u001b[1;32m      3\u001b[0m \u001b[38;5;28;01mdef\u001b[39;00m \u001b[38;5;21mgenerate_uuid4\u001b[39m():\n\u001b[1;32m      4\u001b[0m     \u001b[38;5;28;01mreturn\u001b[39;00m \u001b[38;5;28mstr\u001b[39m(uuid\u001b[38;5;241m.\u001b[39muuid4())\n\u001b[0;32m----> 6\u001b[0m \u001b[38;5;129m@dataclass\u001b[39m\u001b[43m(\u001b[49m\u001b[43mslots\u001b[49m\u001b[38;5;241;43m=\u001b[39;49m\u001b[38;5;28;43;01mTrue\u001b[39;49;00m\u001b[43m)\u001b[49m\n\u001b[1;32m      7\u001b[0m \u001b[38;5;28;01mclass\u001b[39;00m \u001b[38;5;21;01mCompany\u001b[39;00m:\n\u001b[1;32m      8\u001b[0m     name: \u001b[38;5;28mstr\u001b[39m \u001b[38;5;241m=\u001b[39m \u001b[38;5;124m'\u001b[39m\u001b[38;5;124m'\u001b[39m\n\u001b[1;32m      9\u001b[0m     profits: \u001b[38;5;28mfloat\u001b[39m \u001b[38;5;241m=\u001b[39m \u001b[38;5;241m0.\u001b[39m \n",
      "\u001b[0;31mTypeError\u001b[0m: dataclass() got an unexpected keyword argument 'slots'"
     ]
    }
   ],
   "source": [
    "import uuid\n",
    "\n",
    "def generate_uuid4():\n",
    "    return str(uuid.uuid4())\n",
    "\n",
    "@dataclass(slots=True)\n",
    "class Company:\n",
    "    name: str = ''\n",
    "    profits: float = 0. \n",
    "    id: str = field(init=False, default_factory=generate_uuid4, repr=False)\n",
    "        \n",
    "# this will not work since kw_only=True\n",
    "c1 = Company('Intel', 100)\n",
    "c1"
   ]
  },
  {
   "cell_type": "markdown",
   "id": "b04e4174",
   "metadata": {},
   "source": [
    "### Example: Creating a DataClass for a Dataset.\n",
    "\n",
    "Consider you want to wrap a pandas dataframe into a class `Dataset` containing:    \n",
    "\n",
    "- **name**: a name for the dataset\n",
    "- **version**: A version identifier of the dataset (just in case the dataset changes over time)\n",
    "- **dataframe**: The dataframe associated with the dataset\n",
    "- **hash**: A hash of the dataframe to compare whether two `Dataset` objects are the same"
   ]
  },
  {
   "cell_type": "code",
   "execution_count": 387,
   "id": "7b0cca7b",
   "metadata": {},
   "outputs": [],
   "source": [
    "from hashlib import sha256\n",
    "\n",
    "def hash_df(df):\n",
    "    s = str(df.columns) + str(df.index) + str(df.values)\n",
    "    return sha256(s.encode()).hexdigest()\n",
    "\n",
    "@dataclass\n",
    "class Dataset:\n",
    "    name: str = ''\n",
    "    version: int = 0\n",
    "    dataframe: pd.DataFrame = field(default_factory=pd.DataFrame) \n",
    "    hash: str = field(init=False)\n",
    "        \n",
    "    def __post_init__(self) -> None:\n",
    "        self.hash = hash_df(self.dataframe)"
   ]
  },
  {
   "cell_type": "markdown",
   "id": "2eaffe19",
   "metadata": {},
   "source": [
    "Now let's create two `Dataset` objects in which the `.dataframe` is the same but only the `name` changes slightly"
   ]
  },
  {
   "cell_type": "code",
   "execution_count": 389,
   "id": "d36ffe9a",
   "metadata": {},
   "outputs": [
    {
     "name": "stdout",
     "output_type": "stream",
     "text": [
      "Dataset(name='clients', version=1, dataframe=    name  age\n",
      "0   John   52\n",
      "1  David   20, hash='93524f2aff2f443700f6116f143f7ed99e24852d4b73827c863b26133c8f06b0') Dataset(name='clientes', version=1, dataframe=    name  age\n",
      "0   John   52\n",
      "1  David   20, hash='93524f2aff2f443700f6116f143f7ed99e24852d4b73827c863b26133c8f06b0')\n",
      "\n",
      "Equal Datasets = False\n"
     ]
    }
   ],
   "source": [
    "df1 = pd.DataFrame({'name':['John','David'], 'age':[52,20]})\n",
    "d1 = Dataset('clients', version=1, dataframe = df1)\n",
    "d2 = Dataset('clientes', version=1, dataframe = df1)\n",
    "\n",
    "print(d1, d2)\n",
    "\n",
    "print(f'\\nEqual Datasets = {d1 == d2}')"
   ]
  },
  {
   "cell_type": "markdown",
   "id": "abaefde6",
   "metadata": {},
   "source": [
    "We can see that the `Dataset` objects evaluated to not beeing equal. If we only care about `dataframe` to decide whether two `Dataset` objects are the same we can define an `__eq__` method in the class to ensure they are considered equal if the hashes of their data are the same."
   ]
  },
  {
   "cell_type": "code",
   "execution_count": 405,
   "id": "90fe56d4",
   "metadata": {},
   "outputs": [],
   "source": [
    "\n",
    "@dataclass\n",
    "class Dataset:\n",
    "    name: str = ''\n",
    "    version: int = 0\n",
    "    dataframe: pd.DataFrame = field(default_factory=pd.DataFrame) \n",
    "    hash: str = field(init=False)\n",
    "        \n",
    "    def __post_init__(self) -> None:\n",
    "        self.hash = hash_df(self.dataframe)\n",
    "        \n",
    "    def __eq__(self, dataset) -> bool:\n",
    "        return hash_df(self.dataframe) == hash_df(dataset.dataframe)"
   ]
  },
  {
   "cell_type": "code",
   "execution_count": 406,
   "id": "11bd0245",
   "metadata": {
    "scrolled": true
   },
   "outputs": [
    {
     "name": "stdout",
     "output_type": "stream",
     "text": [
      "Dataset(name='clients', version=1, dataframe=    name  age\n",
      "0   John   52\n",
      "1  David   20, hash='93524f2aff2f443700f6116f143f7ed99e24852d4b73827c863b26133c8f06b0') Dataset(name='clientes', version=1, dataframe=    name  age\n",
      "0   John   52\n",
      "1  David   20, hash='93524f2aff2f443700f6116f143f7ed99e24852d4b73827c863b26133c8f06b0')\n",
      "\n",
      "Equal Datasets = True\n"
     ]
    }
   ],
   "source": [
    "df1 = pd.DataFrame({'name':['John','David'], 'age':[52,20]})\n",
    "\n",
    "d1 = Dataset('clients', version=1, dataframe = df1)\n",
    "d2 = Dataset('clientes', version=1, dataframe = df1)\n",
    "\n",
    "print(d1, d2)\n",
    "\n",
    "print(f'\\nEqual Datasets = {d1 == d2}')"
   ]
  },
  {
   "cell_type": "code",
   "execution_count": 514,
   "id": "5e72279c",
   "metadata": {},
   "outputs": [
    {
     "data": {
      "text/plain": [
       "{'name': 'clients',\n",
       " 'version': 1,\n",
       " 'dataframe':     name  age\n",
       " 0   John   52\n",
       " 1  David   20,\n",
       " 'hash': '93524f2aff2f443700f6116f143f7ed99e24852d4b73827c863b26133c8f06b0'}"
      ]
     },
     "execution_count": 514,
     "metadata": {},
     "output_type": "execute_result"
    }
   ],
   "source": [
    "d1.__dict__"
   ]
  },
  {
   "cell_type": "code",
   "execution_count": 480,
   "id": "452fa213",
   "metadata": {},
   "outputs": [
    {
     "data": {
      "text/plain": [
       "dict_keys(['name', 'version', 'dataframe', 'hash'])"
      ]
     },
     "execution_count": 480,
     "metadata": {},
     "output_type": "execute_result"
    }
   ],
   "source": [
    "d1.__dataclass_fields__.keys()"
   ]
  },
  {
   "cell_type": "code",
   "execution_count": 493,
   "id": "e88506d3",
   "metadata": {},
   "outputs": [
    {
     "data": {
      "text/plain": [
       "dataclasses.Field"
      ]
     },
     "execution_count": 493,
     "metadata": {},
     "output_type": "execute_result"
    }
   ],
   "source": [
    "type(d1.__dataclass_fields__['version'])"
   ]
  },
  {
   "cell_type": "code",
   "execution_count": 510,
   "id": "90ba7319",
   "metadata": {},
   "outputs": [
    {
     "data": {
      "text/plain": [
       "Field(name='version',type=<class 'int'>,default=0,default_factory=<dataclasses._MISSING_TYPE object at 0x7fc5e83f57c0>,init=True,repr=True,hash=None,compare=True,metadata=mappingproxy({}),_field_type=_FIELD)"
      ]
     },
     "execution_count": 510,
     "metadata": {},
     "output_type": "execute_result"
    }
   ],
   "source": [
    "d1.__dataclass_fields__['version']"
   ]
  },
  {
   "cell_type": "code",
   "execution_count": 513,
   "id": "80838fef",
   "metadata": {
    "scrolled": false
   },
   "outputs": [
    {
     "data": {
      "text/plain": [
       "_DataclassParams(init=True,repr=True,eq=True,order=False,unsafe_hash=False,frozen=False)"
      ]
     },
     "execution_count": 513,
     "metadata": {},
     "output_type": "execute_result"
    }
   ],
   "source": [
    "d1.__dataclass_params__"
   ]
  },
  {
   "cell_type": "code",
   "execution_count": null,
   "id": "333ec492",
   "metadata": {},
   "outputs": [],
   "source": []
  },
  {
   "cell_type": "code",
   "execution_count": null,
   "id": "234306c7",
   "metadata": {},
   "outputs": [],
   "source": []
  }
 ],
 "metadata": {
  "kernelspec": {
   "display_name": "Python 3 (ipykernel)",
   "language": "python",
   "name": "python3"
  },
  "language_info": {
   "codemirror_mode": {
    "name": "ipython",
    "version": 3
   },
   "file_extension": ".py",
   "mimetype": "text/x-python",
   "name": "python",
   "nbconvert_exporter": "python",
   "pygments_lexer": "ipython3",
   "version": "3.9.12"
  }
 },
 "nbformat": 4,
 "nbformat_minor": 5
}

{
 "cells": [
  {
   "cell_type": "markdown",
   "metadata": {
    "toc": true
   },
   "source": [
    "<h1>Table of Contents<span class=\"tocSkip\"></span></h1>\n",
    "<div class=\"toc\"><ul class=\"toc-item\"></ul></div>"
   ]
  },
  {
   "cell_type": "code",
   "execution_count": null,
   "metadata": {},
   "outputs": [],
   "source": [
    "Let us assume we have "
   ]
  },
  {
   "cell_type": "code",
   "execution_count": 98,
   "metadata": {
    "ExecuteTime": {
     "end_time": "2022-01-13T18:49:22.403390Z",
     "start_time": "2022-01-13T18:49:22.400367Z"
    }
   },
   "outputs": [],
   "source": [
    "words = ['store','supermarket']\n",
    "sep = 'x'*16\n",
    "x = [f'the man went to the {w}' for w in words*1000 ]\n",
    "stream = sep + sep.join(x)"
   ]
  },
  {
   "cell_type": "code",
   "execution_count": 100,
   "metadata": {
    "ExecuteTime": {
     "end_time": "2022-01-13T18:49:24.573380Z",
     "start_time": "2022-01-13T18:49:24.570290Z"
    }
   },
   "outputs": [
    {
     "data": {
      "text/plain": [
       "88000"
      ]
     },
     "execution_count": 100,
     "metadata": {},
     "output_type": "execute_result"
    }
   ],
   "source": [
    "len(stream)"
   ]
  },
  {
   "cell_type": "markdown",
   "metadata": {
    "ExecuteTime": {
     "end_time": "2022-01-13T17:58:32.569889Z",
     "start_time": "2022-01-13T17:58:32.566091Z"
    }
   },
   "source": [
    "we can store the stream to disc"
   ]
  },
  {
   "cell_type": "code",
   "execution_count": 101,
   "metadata": {
    "ExecuteTime": {
     "end_time": "2022-01-13T18:49:25.280652Z",
     "start_time": "2022-01-13T18:49:25.277743Z"
    }
   },
   "outputs": [],
   "source": [
    "f = open('stream.bin', 'wb')\n",
    "f.write(str.encode(stream))\n",
    "f.close()"
   ]
  },
  {
   "cell_type": "code",
   "execution_count": 102,
   "metadata": {
    "ExecuteTime": {
     "end_time": "2022-01-13T18:49:27.020381Z",
     "start_time": "2022-01-13T18:49:26.897707Z"
    }
   },
   "outputs": [
    {
     "name": "stdout",
     "output_type": "stream",
     "text": [
      "Untitled.ipynb stream.bin\r\n"
     ]
    }
   ],
   "source": [
    "!ls"
   ]
  },
  {
   "cell_type": "markdown",
   "metadata": {
    "ExecuteTime": {
     "end_time": "2022-01-13T17:58:54.091441Z",
     "start_time": "2022-01-13T17:58:53.956109Z"
    }
   },
   "source": [
    "Now we want to load it in chunks"
   ]
  },
  {
   "cell_type": "code",
   "execution_count": 103,
   "metadata": {
    "ExecuteTime": {
     "end_time": "2022-01-13T18:49:27.778661Z",
     "start_time": "2022-01-13T18:49:27.776136Z"
    }
   },
   "outputs": [],
   "source": [
    "f = open('stream.bin')"
   ]
  },
  {
   "cell_type": "code",
   "execution_count": 106,
   "metadata": {
    "ExecuteTime": {
     "end_time": "2022-01-13T18:54:04.646200Z",
     "start_time": "2022-01-13T18:54:04.643540Z"
    }
   },
   "outputs": [],
   "source": [
    "delimiter = None\n",
    "len_chunk = 256\n",
    "\n",
    "#delimiter = f.read(len_uuid)\n",
    "#for chunk in f.read(len_chunk):   "
   ]
  },
  {
   "cell_type": "code",
   "execution_count": null,
   "metadata": {
    "ExecuteTime": {
     "end_time": "2022-01-13T18:46:13.499720Z",
     "start_time": "2022-01-13T18:46:13.496167Z"
    }
   },
   "outputs": [],
   "source": []
  },
  {
   "cell_type": "code",
   "execution_count": null,
   "metadata": {},
   "outputs": [],
   "source": []
  }
 ],
 "metadata": {
  "kernelspec": {
   "display_name": "Python 3 (ipykernel)",
   "language": "python",
   "name": "python3"
  },
  "language_info": {
   "codemirror_mode": {
    "name": "ipython",
    "version": 3
   },
   "file_extension": ".py",
   "mimetype": "text/x-python",
   "name": "python",
   "nbconvert_exporter": "python",
   "pygments_lexer": "ipython3",
   "version": "3.8.5"
  },
  "toc": {
   "base_numbering": 1,
   "nav_menu": {},
   "number_sections": true,
   "sideBar": true,
   "skip_h1_title": false,
   "title_cell": "Table of Contents",
   "title_sidebar": "Contents",
   "toc_cell": true,
   "toc_position": {},
   "toc_section_display": true,
   "toc_window_display": true
  },
  "varInspector": {
   "cols": {
    "lenName": 16,
    "lenType": 16,
    "lenVar": 40
   },
   "kernels_config": {
    "python": {
     "delete_cmd_postfix": "",
     "delete_cmd_prefix": "del ",
     "library": "var_list.py",
     "varRefreshCmd": "print(var_dic_list())"
    },
    "r": {
     "delete_cmd_postfix": ") ",
     "delete_cmd_prefix": "rm(",
     "library": "var_list.r",
     "varRefreshCmd": "cat(var_dic_list()) "
    }
   },
   "types_to_exclude": [
    "module",
    "function",
    "builtin_function_or_method",
    "instance",
    "_Feature"
   ],
   "window_display": false
  }
 },
 "nbformat": 4,
 "nbformat_minor": 4
}

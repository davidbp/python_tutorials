{
 "cells": [
  {
   "cell_type": "markdown",
   "id": "899be582",
   "metadata": {},
   "source": [
    "\n",
    "### Join two dicts summing the counts of the same key"
   ]
  },
  {
   "cell_type": "code",
   "execution_count": 118,
   "id": "978d204e",
   "metadata": {},
   "outputs": [],
   "source": [
    "from collections import defaultdict\n",
    "import doctest"
   ]
  },
  {
   "cell_type": "code",
   "execution_count": 119,
   "id": "71859048",
   "metadata": {},
   "outputs": [],
   "source": [
    "def update_dict_counts(old_dict, new_dict):\n",
    "    \"\"\"\n",
    "    Reduces two dicts into a new dict containing the sum of the values sharing the same keys\n",
    "    >>> old_dict = {1: 2, 3: 3, 4: 2}\n",
    "    >>> new_dict = {1: 6, 3: 7}\n",
    "    >>> update_dict_counts(old_dict, new_dict)\n",
    "    {1: 8, 3: 10, 4: 2}\n",
    "    \"\"\"\n",
    "    merged_dict = defaultdict(int)\n",
    "\n",
    "    for key, value in list(old_dict.items()) + list(new_dict.items()):\n",
    "        merged_dict[key] += value\n",
    "        \n",
    "    merged_dict = dict(merged_dict)        \n",
    "    return merged_dict"
   ]
  },
  {
   "cell_type": "code",
   "execution_count": 120,
   "id": "15d9ba3d",
   "metadata": {},
   "outputs": [],
   "source": [
    "old_dict = {1: 2, 3: 3, 4: 2}\n",
    "new_dict = {1: 6, 3: 7}\n",
    "mer_dict = update_dict_counts(old_dict, new_dict)"
   ]
  },
  {
   "cell_type": "code",
   "execution_count": 121,
   "id": "67cf0d32",
   "metadata": {},
   "outputs": [
    {
     "data": {
      "text/plain": [
       "{1: 8, 3: 10, 4: 2}"
      ]
     },
     "execution_count": 121,
     "metadata": {},
     "output_type": "execute_result"
    }
   ],
   "source": [
    "mer_dict"
   ]
  },
  {
   "cell_type": "code",
   "execution_count": 123,
   "id": "5e995d44",
   "metadata": {},
   "outputs": [
    {
     "data": {
      "text/plain": [
       "TestResults(failed=0, attempted=3)"
      ]
     },
     "execution_count": 123,
     "metadata": {},
     "output_type": "execute_result"
    }
   ],
   "source": [
    "doctest.testmod()"
   ]
  },
  {
   "cell_type": "code",
   "execution_count": null,
   "id": "3f5e1638",
   "metadata": {},
   "outputs": [],
   "source": []
  },
  {
   "cell_type": "code",
   "execution_count": null,
   "id": "3d6e54a0",
   "metadata": {},
   "outputs": [],
   "source": []
  }
 ],
 "metadata": {
  "kernelspec": {
   "display_name": "Python 3 (ipykernel)",
   "language": "python",
   "name": "python3"
  },
  "language_info": {
   "codemirror_mode": {
    "name": "ipython",
    "version": 3
   },
   "file_extension": ".py",
   "mimetype": "text/x-python",
   "name": "python",
   "nbconvert_exporter": "python",
   "pygments_lexer": "ipython3",
   "version": "3.9.12"
  }
 },
 "nbformat": 4,
 "nbformat_minor": 5
}

{
 "cells": [
  {
   "cell_type": "markdown",
   "id": "899be582",
   "metadata": {},
   "source": [
    "\n",
    "### Join two dicts summing the counts of the same key"
   ]
  },
  {
   "cell_type": "code",
   "execution_count": 1,
   "id": "978d204e",
   "metadata": {},
   "outputs": [],
   "source": [
    "from collections import defaultdict\n",
    "import doctest"
   ]
  },
  {
   "cell_type": "code",
   "execution_count": 2,
   "id": "71859048",
   "metadata": {},
   "outputs": [],
   "source": [
    "def update_dict_counts(old_dict, new_dict):\n",
    "    \"\"\"\n",
    "    Reduces two dicts into a new dict containing the sum of the values sharing the same keys\n",
    "    >>> old_dict = {1: 2, 3: 3, 4: 2}\n",
    "    >>> new_dict = {1: 6, 3: 7}\n",
    "    >>> update_dict_counts(old_dict, new_dict)\n",
    "    {1: 8, 3: 10, 4: 2}\n",
    "    \"\"\"\n",
    "    merged_dict = defaultdict(int)\n",
    "\n",
    "    for key, value in list(old_dict.items()) + list(new_dict.items()):\n",
    "        merged_dict[key] += value\n",
    "        \n",
    "    merged_dict = dict(merged_dict)        \n",
    "    return merged_dict"
   ]
  },
  {
   "cell_type": "code",
   "execution_count": 3,
   "id": "15d9ba3d",
   "metadata": {},
   "outputs": [],
   "source": [
    "old_dict = {1: 2, 3: 3, 4: 2}\n",
    "new_dict = {1: 6, 3: 7}\n",
    "mer_dict = update_dict_counts(old_dict, new_dict)"
   ]
  },
  {
   "cell_type": "code",
   "execution_count": 4,
   "id": "67cf0d32",
   "metadata": {},
   "outputs": [
    {
     "data": {
      "text/plain": [
       "{1: 8, 3: 10, 4: 2}"
      ]
     },
     "execution_count": 4,
     "metadata": {},
     "output_type": "execute_result"
    }
   ],
   "source": [
    "mer_dict"
   ]
  },
  {
   "cell_type": "code",
   "execution_count": 5,
   "id": "5e995d44",
   "metadata": {},
   "outputs": [
    {
     "data": {
      "text/plain": [
       "TestResults(failed=0, attempted=3)"
      ]
     },
     "execution_count": 5,
     "metadata": {},
     "output_type": "execute_result"
    }
   ],
   "source": [
    "doctest.testmod()"
   ]
  },
  {
   "cell_type": "markdown",
   "id": "04877d8b",
   "metadata": {},
   "source": [
    "### Remove from a dict elements that verify a condition stored in an array\n",
    "\n",
    "Consider you have a dict mapping words to positions, and you want a new dict containing only the words that appeared at lest `infimum` times.\n",
    "\n",
    "You store in an array the counts of each word in the dict, based on the position of each word.\n"
   ]
  },
  {
   "cell_type": "code",
   "execution_count": 244,
   "id": "3d6e54a0",
   "metadata": {},
   "outputs": [
    {
     "name": "stdout",
     "output_type": "stream",
     "text": [
      "The memory_profiler extension is already loaded. To reload it, use:\n",
      "  %reload_ext memory_profiler\n"
     ]
    }
   ],
   "source": [
    "%load_ext memory_profiler\n",
    "\n",
    "import numpy as np\n",
    "import string\n",
    "import random\n",
    "import copy \n",
    "import timeit\n",
    "\n",
    "def get_random_string(length,letters = string.ascii_lowercase):\n",
    "    result_str = ''.join(random.choice(letters) for i in range(length))\n",
    "    return result_str\n",
    "\n",
    "s_len = 8\n",
    "n_strings = 1_000_000\n",
    "d = {get_random_string(s_len):k for k in range(n_strings)}\n",
    "counts = np.random.randint(1,100,n_strings)\n",
    "infimum = 20"
   ]
  },
  {
   "cell_type": "code",
   "execution_count": 267,
   "id": "9eea88c7",
   "metadata": {},
   "outputs": [],
   "source": [
    "def remove_lower_than_infimum_1(d, infimum, counts):\n",
    "    len_original_d = len(d)\n",
    "    new_counts = []\n",
    "    for word in list(d):\n",
    "        pos = d[word]\n",
    "        count = counts[pos]\n",
    "        if count < infimum:\n",
    "            del d[word]\n",
    "        else:\n",
    "            new_counts.append(count)\n",
    "\n",
    "    d = {w:p for p,w in enumerate(d)}\n",
    "    print(f'{len_original_d}/{len(d)}/{round(100*len(d)/len_original_d,2)}% (original, new, percentage of original)')\n",
    "    return d, np.array(new_counts)"
   ]
  },
  {
   "cell_type": "code",
   "execution_count": 268,
   "id": "35d39803",
   "metadata": {
    "scrolled": true
   },
   "outputs": [
    {
     "name": "stdout",
     "output_type": "stream",
     "text": [
      "999995/807897/80.79% (original, new, percentage of original)\n",
      "CPU times: user 485 ms, sys: 7.13 ms, total: 493 ms\n",
      "Wall time: 494 ms\n"
     ]
    }
   ],
   "source": [
    "d_copy = copy.deepcopy(d)\n",
    "%time d_new1, new_counts1 = remove_lower_than_infimum_1(d_copy, infimum, counts)"
   ]
  },
  {
   "cell_type": "code",
   "execution_count": 273,
   "id": "1a8eaf51",
   "metadata": {},
   "outputs": [],
   "source": [
    "def remove_lower_than_infimum_2(d, infimum, counts):\n",
    "    len_original_d = len(d)\n",
    "\n",
    "    new_counts = []\n",
    "    d_new = {}\n",
    "    for word,pos in d.items():\n",
    "        count = counts[pos]\n",
    "        if count >= infimum:\n",
    "            new_counts.append(count)\n",
    "            d_new[word] = len(d_new)\n",
    "        \n",
    "    del d\n",
    "    print(f'{len_original_d}/{len(d_new)}/{round(100*len(d_new)/len_original_d,2)}% (original, new, percentage of original)')\n",
    "    \n",
    "    return d_new, np.array(new_counts)"
   ]
  },
  {
   "cell_type": "code",
   "execution_count": 274,
   "id": "7b4f86a8",
   "metadata": {
    "scrolled": true
   },
   "outputs": [
    {
     "name": "stdout",
     "output_type": "stream",
     "text": [
      "999995/807897/80.79% (original, new, percentage of original)\n",
      "CPU times: user 323 ms, sys: 5.92 ms, total: 329 ms\n",
      "Wall time: 330 ms\n"
     ]
    }
   ],
   "source": [
    "d_copy = copy.deepcopy(d)\n",
    "%time d_new2, new_counts2 = remove_lower_than_infimum_2(d_copy, infimum, counts)"
   ]
  },
  {
   "cell_type": "markdown",
   "id": "d54d7b42",
   "metadata": {},
   "source": [
    "What about memory ?\n",
    "\n",
    "Almost all options use more or less the same"
   ]
  },
  {
   "cell_type": "code",
   "execution_count": 241,
   "id": "c25c7b21",
   "metadata": {},
   "outputs": [
    {
     "name": "stdout",
     "output_type": "stream",
     "text": [
      "999998/807897/80.79% (original, new, percentage of original)\n",
      "peak memory: 1324.57 MiB, increment: 5.20 MiB\n"
     ]
    }
   ],
   "source": [
    "%memit remove_lower_than_infimum_1(d_copy, infimum, counts)"
   ]
  },
  {
   "cell_type": "code",
   "execution_count": 242,
   "id": "9492f376",
   "metadata": {},
   "outputs": [
    {
     "name": "stdout",
     "output_type": "stream",
     "text": [
      "807897/807897/100.0% (original, new, percentage of original)\n",
      "peak memory: 1319.25 MiB, increment: 0.03 MiB\n"
     ]
    }
   ],
   "source": [
    "%memit remove_lower_than_infimum_2(d_copy, infimum, counts)"
   ]
  },
  {
   "cell_type": "code",
   "execution_count": null,
   "id": "877cc61a",
   "metadata": {},
   "outputs": [],
   "source": []
  },
  {
   "cell_type": "code",
   "execution_count": null,
   "id": "aa4e0546",
   "metadata": {},
   "outputs": [],
   "source": []
  },
  {
   "cell_type": "code",
   "execution_count": null,
   "id": "2b1ebe68",
   "metadata": {},
   "outputs": [],
   "source": []
  }
 ],
 "metadata": {
  "kernelspec": {
   "display_name": "Python 3 (ipykernel)",
   "language": "python",
   "name": "python3"
  },
  "language_info": {
   "codemirror_mode": {
    "name": "ipython",
    "version": 3
   },
   "file_extension": ".py",
   "mimetype": "text/x-python",
   "name": "python",
   "nbconvert_exporter": "python",
   "pygments_lexer": "ipython3",
   "version": "3.9.12"
  }
 },
 "nbformat": 4,
 "nbformat_minor": 5
}

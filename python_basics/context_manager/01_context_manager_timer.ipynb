{
 "cells": [
  {
   "cell_type": "markdown",
   "id": "c053fde3",
   "metadata": {},
   "source": [
    "# How to create a context manager\n",
    "\n",
    "A context manager is a class that needs to have at least two methods:\n",
    "\n",
    "- **`__enter__`**: executed when the interpreter enters the context block.\n",
    "\n",
    "\n",
    "- **`__exit__`**: executed allways either after the last line in the context block OR if an error happens.\n",
    "\n",
    "\n",
    "### Example: Context manager to print execution time \n",
    "\n",
    "Let us create a context manager that tells us the execution time of the code within it.\n",
    "\n",
    "To make it more useful let us print also a user defined string to faciliate knowing what we are timing, in the event we want to time more than one line in a piece of code. "
   ]
  },
  {
   "cell_type": "code",
   "execution_count": 14,
   "id": "35fb1490",
   "metadata": {},
   "outputs": [],
   "source": [
    "import time\n",
    "from time import sleep\n",
    "\n",
    "class timer():\n",
    "\n",
    "    def __init__(self, name = ''):\n",
    "        self.start = time.time()\n",
    "        self.name = name\n",
    "\n",
    "    def __enter__(self):\n",
    "        pass\n",
    "\n",
    "    def __exit__(self, *args):\n",
    "        print(f'time {self.name}  {round(time.time() - self.start,6)} sec')"
   ]
  },
  {
   "cell_type": "code",
   "execution_count": 24,
   "id": "c04fe165",
   "metadata": {},
   "outputs": [
    {
     "name": "stdout",
     "output_type": "stream",
     "text": [
      "time par for  0.205038 sec\n"
     ]
    }
   ],
   "source": [
    "with timer('par for'):\n",
    "    sleep(0.2)"
   ]
  },
  {
   "cell_type": "markdown",
   "id": "7f0e1f69",
   "metadata": {},
   "source": [
    "Note that the execution time is printed even if there is an error"
   ]
  },
  {
   "cell_type": "code",
   "execution_count": 26,
   "id": "77a696f1",
   "metadata": {},
   "outputs": [
    {
     "name": "stdout",
     "output_type": "stream",
     "text": [
      "time non existing file  0.000449 sec\n"
     ]
    },
    {
     "ename": "FileNotFoundError",
     "evalue": "[Errno 2] No such file or directory: 'does_not_exists.md'",
     "output_type": "error",
     "traceback": [
      "\u001b[0;31m---------------------------------------------------------------------------\u001b[0m",
      "\u001b[0;31mFileNotFoundError\u001b[0m                         Traceback (most recent call last)",
      "Cell \u001b[0;32mIn[26], line 2\u001b[0m\n\u001b[1;32m      1\u001b[0m \u001b[38;5;28;01mwith\u001b[39;00m timer(\u001b[38;5;124m'\u001b[39m\u001b[38;5;124mnon existing file\u001b[39m\u001b[38;5;124m'\u001b[39m):\n\u001b[0;32m----> 2\u001b[0m     \u001b[38;5;28;43mopen\u001b[39;49m\u001b[43m(\u001b[49m\u001b[38;5;124;43m\"\u001b[39;49m\u001b[38;5;124;43mdoes_not_exists.md\u001b[39;49m\u001b[38;5;124;43m\"\u001b[39;49m\u001b[43m,\u001b[49m\u001b[43m \u001b[49m\u001b[38;5;124;43m'\u001b[39;49m\u001b[38;5;124;43mr\u001b[39;49m\u001b[38;5;124;43m'\u001b[39;49m\u001b[43m)\u001b[49m\n",
      "File \u001b[0;32m~/opt/anaconda3/lib/python3.9/site-packages/IPython/core/interactiveshell.py:284\u001b[0m, in \u001b[0;36m_modified_open\u001b[0;34m(file, *args, **kwargs)\u001b[0m\n\u001b[1;32m    277\u001b[0m \u001b[38;5;28;01mif\u001b[39;00m file \u001b[38;5;129;01min\u001b[39;00m {\u001b[38;5;241m0\u001b[39m, \u001b[38;5;241m1\u001b[39m, \u001b[38;5;241m2\u001b[39m}:\n\u001b[1;32m    278\u001b[0m     \u001b[38;5;28;01mraise\u001b[39;00m \u001b[38;5;167;01mValueError\u001b[39;00m(\n\u001b[1;32m    279\u001b[0m         \u001b[38;5;124mf\u001b[39m\u001b[38;5;124m\"\u001b[39m\u001b[38;5;124mIPython won\u001b[39m\u001b[38;5;124m'\u001b[39m\u001b[38;5;124mt let you open fd=\u001b[39m\u001b[38;5;132;01m{\u001b[39;00mfile\u001b[38;5;132;01m}\u001b[39;00m\u001b[38;5;124m by default \u001b[39m\u001b[38;5;124m\"\u001b[39m\n\u001b[1;32m    280\u001b[0m         \u001b[38;5;124m\"\u001b[39m\u001b[38;5;124mas it is likely to crash IPython. If you know what you are doing, \u001b[39m\u001b[38;5;124m\"\u001b[39m\n\u001b[1;32m    281\u001b[0m         \u001b[38;5;124m\"\u001b[39m\u001b[38;5;124myou can use builtins\u001b[39m\u001b[38;5;124m'\u001b[39m\u001b[38;5;124m open.\u001b[39m\u001b[38;5;124m\"\u001b[39m\n\u001b[1;32m    282\u001b[0m     )\n\u001b[0;32m--> 284\u001b[0m \u001b[38;5;28;01mreturn\u001b[39;00m \u001b[43mio_open\u001b[49m\u001b[43m(\u001b[49m\u001b[43mfile\u001b[49m\u001b[43m,\u001b[49m\u001b[43m \u001b[49m\u001b[38;5;241;43m*\u001b[39;49m\u001b[43margs\u001b[49m\u001b[43m,\u001b[49m\u001b[43m \u001b[49m\u001b[38;5;241;43m*\u001b[39;49m\u001b[38;5;241;43m*\u001b[39;49m\u001b[43mkwargs\u001b[49m\u001b[43m)\u001b[49m\n",
      "\u001b[0;31mFileNotFoundError\u001b[0m: [Errno 2] No such file or directory: 'does_not_exists.md'"
     ]
    }
   ],
   "source": [
    "with timer('non existing file'):\n",
    "    open(\"does_not_exists.md\", 'r')"
   ]
  },
  {
   "cell_type": "markdown",
   "id": "7cfe5478",
   "metadata": {},
   "source": [
    "THere is another way to create such context manager, which is using contextlib.contextmanager"
   ]
  },
  {
   "cell_type": "code",
   "execution_count": 13,
   "id": "5bc668ac",
   "metadata": {},
   "outputs": [],
   "source": [
    "from contextlib import contextmanager\n",
    "import time\n",
    "\n",
    "@contextmanager\n",
    "def timer(name=''):\n",
    "    start = time.time()\n",
    "    yield\n",
    "    end = time.time()\n",
    "    print(f\"Time needed for {name}: {end-start} sec\")"
   ]
  },
  {
   "cell_type": "code",
   "execution_count": 14,
   "id": "22a71fe3",
   "metadata": {},
   "outputs": [
    {
     "name": "stdout",
     "output_type": "stream",
     "text": [
      "Time needed for sum: 3.0994415283203125e-06 sec\n"
     ]
    }
   ],
   "source": [
    "import requests\n",
    "\n",
    "with timer('sum'):\n",
    "    2*3"
   ]
  }
 ],
 "metadata": {
  "kernelspec": {
   "display_name": "Python 3 (ipykernel)",
   "language": "python",
   "name": "python3"
  },
  "language_info": {
   "codemirror_mode": {
    "name": "ipython",
    "version": 3
   },
   "file_extension": ".py",
   "mimetype": "text/x-python",
   "name": "python",
   "nbconvert_exporter": "python",
   "pygments_lexer": "ipython3",
   "version": "3.9.12"
  }
 },
 "nbformat": 4,
 "nbformat_minor": 5
}

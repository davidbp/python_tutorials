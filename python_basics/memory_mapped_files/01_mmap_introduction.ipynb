{
 "cells": [
  {
   "cell_type": "markdown",
   "id": "df236c31",
   "metadata": {},
   "source": [
    "# Memory Mapped files (mmap files) in Python\n",
    "\n",
    "\n",
    "Memory mapping refers to the ability to load a file directly into computer memory. It can speed up file I/O performance with respect to other techniques.\n",
    "\n",
    "To understand memory mapping one needs to have some basic understanding of diferent types of computer memory:\n",
    "\n",
    "- **Physical memory**: Amount of volatile memory available to your programs shile running. This is not \"storage\" (once a program is shut down the memory is freed).\n",
    "\n",
    "\n",
    "- **Virtual memory**: Is a layer of abstraction over the physical memory, so that the programmer does not need to worry about accessing concrete parts of the physical memory and programs might use more memory than what it might be physically available. To do this, operating systems use algorithms to map virtual memory adresses to physical ones, using a data structure called a page table.\n",
    "\n",
    "    - **mmap** uses virtual memory to make it appear that the coder has loaded a larger file than it might even fit in physical memory.\n",
    "\n",
    "\n",
    "- **Shared memory**: Is a technique used by  the operating system to allow multiple programs to access the same data in diferent cores."
   ]
  },
  {
   "cell_type": "markdown",
   "id": "bb4fd0da",
   "metadata": {},
   "source": [
    "## 1) Create, read, append a mmap file\n",
    "\n",
    "mmap files must be mapped to an existing file. Let us first create a memory mapped file as follows with the first line containing \"VOCABULARY\"."
   ]
  },
  {
   "cell_type": "code",
   "execution_count": 458,
   "id": "0ba87383",
   "metadata": {},
   "outputs": [],
   "source": [
    "def create_vocabulary_file(filepath):\n",
    "    # create file object using open function call\n",
    "    with open(filepath, mode=\"w\", encoding=\"utf8\") as file_object:\n",
    "        file_object.write('VOCABULARY\\ncastaña\\nthe\\ncat\\nwas\\nnot\\na\\ncaterpilar\\n')\n",
    "        file_object.close()\n",
    "                \n",
    "# define filepath\n",
    "filepath=\"./vocab.txt\"\n",
    "create_vocabulary_file(filepath)"
   ]
  },
  {
   "cell_type": "code",
   "execution_count": 459,
   "id": "b3234d46",
   "metadata": {},
   "outputs": [
    {
     "name": "stdout",
     "output_type": "stream",
     "text": [
      "VOCABULARY\r\n",
      "castaña\r\n",
      "the\r\n",
      "cat\r\n",
      "was\r\n",
      "not\r\n",
      "a\r\n",
      "caterpilar\r\n"
     ]
    }
   ],
   "source": [
    "cat vocab.txt"
   ]
  },
  {
   "cell_type": "markdown",
   "id": "5c852063",
   "metadata": {},
   "source": [
    "Now we want keep adding words to the mmap file"
   ]
  },
  {
   "cell_type": "code",
   "execution_count": 460,
   "id": "1551a617",
   "metadata": {},
   "outputs": [],
   "source": [
    "file_object = open(filepath, mode=\"r+\", encoding=\"utf8\") "
   ]
  },
  {
   "cell_type": "code",
   "execution_count": 461,
   "id": "7b972d18",
   "metadata": {
    "scrolled": true
   },
   "outputs": [
    {
     "name": "stdout",
     "output_type": "stream",
     "text": [
      "Data read from file in byte format is:\n",
      "b'VOCABULARY\\ncasta\\xc3\\xb1a\\nthe\\ncat\\nwas\\nnot\\na\\ncaterpilar\\n'\n",
      "Text data is:\n",
      "VOCABULARY\n",
      "castaña\n",
      "the\n",
      "cat\n",
      "was\n",
      "not\n",
      "a\n",
      "caterpilar\n",
      "\n"
     ]
    }
   ],
   "source": [
    "#file_object = open(filepath, mode=\"rw\", encoding=\"utf8\") \n",
    "\n",
    "#import module\n",
    "import mmap\n",
    "\n",
    "#create an mmap object using mmap function call\n",
    "mmap_object= mmap.mmap(file_object.fileno(), length=0, access=mmap.ACCESS_WRITE, offset=0)\n",
    " \n",
    "#read data from mmap object\n",
    "txt = mmap_object.read()\n",
    " \n",
    "#print the data\n",
    "print(\"Data read from file in byte format is:\")\n",
    "print(txt)\n",
    "print(\"Text data is:\")\n",
    "print(txt.decode())"
   ]
  },
  {
   "cell_type": "markdown",
   "id": "3d4c3f51",
   "metadata": {},
   "source": [
    "### Get a slice of the mmap file\n",
    "\n",
    "We can get an slice of the mmap file as if it was an array"
   ]
  },
  {
   "cell_type": "code",
   "execution_count": 462,
   "id": "ce2a158d",
   "metadata": {},
   "outputs": [
    {
     "data": {
      "text/plain": [
       "(b'VOCA', b'VOCABULARY\\ncasta\\xc3\\xb1a\\nthe\\ncat\\nwas\\nnot\\na\\ncaterpilar\\n')"
      ]
     },
     "execution_count": 462,
     "metadata": {},
     "output_type": "execute_result"
    }
   ],
   "source": [
    "mmap_object[0:4], mmap_object[0:]"
   ]
  },
  {
   "cell_type": "code",
   "execution_count": 463,
   "id": "23e844bb",
   "metadata": {
    "scrolled": true
   },
   "outputs": [
    {
     "name": "stdout",
     "output_type": "stream",
     "text": [
      "b'casta\\xc3\\xb1a\\n'\n",
      "castaña\n",
      "\n"
     ]
    }
   ],
   "source": [
    "print(mmap_object[11:20])\n",
    "print(mmap_object[11:20].decode('utf8'))"
   ]
  },
  {
   "cell_type": "markdown",
   "id": "dc42689f",
   "metadata": {},
   "source": [
    "### Read line by line of a mmapfile\n"
   ]
  },
  {
   "cell_type": "code",
   "execution_count": 464,
   "id": "d83383ef",
   "metadata": {},
   "outputs": [
    {
     "name": "stdout",
     "output_type": "stream",
     "text": [
      "<mmap.mmap closed=False, access=ACCESS_READ, length=49, pos=0, offset=0>\n"
     ]
    }
   ],
   "source": [
    "# Load mmap object\n",
    "mmap_object= mmap.mmap(file_object.fileno(), length=0, access=mmap.ACCESS_READ, offset=0)\n",
    "# Note `pos=0` is the initial pointer position to the data in the file\n",
    "print(mmap_object)"
   ]
  },
  {
   "cell_type": "markdown",
   "id": "53ea8cac",
   "metadata": {},
   "source": [
    "We can read line by line of a mmap file iterating over each linen until the last line is found."
   ]
  },
  {
   "cell_type": "code",
   "execution_count": 465,
   "id": "509ad282",
   "metadata": {},
   "outputs": [],
   "source": [
    "def print_line_by_line_mmap(mmap_object):\n",
    "    line = True\n",
    "    while line:\n",
    "        print('\\t', mmap_object)\n",
    "        line = mmap_object.readline()\n",
    "        print(line)"
   ]
  },
  {
   "cell_type": "markdown",
   "id": "49443b88",
   "metadata": {},
   "source": [
    "Note that the `pos` attribute in the mmap file keeps track of the position pointer to the data."
   ]
  },
  {
   "cell_type": "code",
   "execution_count": 466,
   "id": "2a4e25a4",
   "metadata": {},
   "outputs": [
    {
     "name": "stdout",
     "output_type": "stream",
     "text": [
      "\t <mmap.mmap closed=False, access=ACCESS_READ, length=49, pos=0, offset=0>\n",
      "b'VOCABULARY\\n'\n",
      "\t <mmap.mmap closed=False, access=ACCESS_READ, length=49, pos=11, offset=0>\n",
      "b'casta\\xc3\\xb1a\\n'\n",
      "\t <mmap.mmap closed=False, access=ACCESS_READ, length=49, pos=20, offset=0>\n",
      "b'the\\n'\n",
      "\t <mmap.mmap closed=False, access=ACCESS_READ, length=49, pos=24, offset=0>\n",
      "b'cat\\n'\n",
      "\t <mmap.mmap closed=False, access=ACCESS_READ, length=49, pos=28, offset=0>\n",
      "b'was\\n'\n",
      "\t <mmap.mmap closed=False, access=ACCESS_READ, length=49, pos=32, offset=0>\n",
      "b'not\\n'\n",
      "\t <mmap.mmap closed=False, access=ACCESS_READ, length=49, pos=36, offset=0>\n",
      "b'a\\n'\n",
      "\t <mmap.mmap closed=False, access=ACCESS_READ, length=49, pos=38, offset=0>\n",
      "b'caterpilar\\n'\n",
      "\t <mmap.mmap closed=False, access=ACCESS_READ, length=49, pos=49, offset=0>\n",
      "b''\n"
     ]
    }
   ],
   "source": [
    "mmap_object= mmap.mmap(file_object.fileno(), length=0, access=mmap.ACCESS_READ, offset=0)\n",
    "print_line_by_line_mmap(mmap_object)"
   ]
  },
  {
   "cell_type": "markdown",
   "id": "29abf3d7",
   "metadata": {},
   "source": [
    "### Get number of lines of a mmap file\n"
   ]
  },
  {
   "cell_type": "code",
   "execution_count": 467,
   "id": "11433e3c",
   "metadata": {},
   "outputs": [],
   "source": [
    "def get_len(mmap_object):\n",
    "    n_lines = 0\n",
    "    line = True\n",
    "    while line:\n",
    "        line = mmap_object.readline()\n",
    "        n_lines += 1\n",
    "    return n_lines"
   ]
  },
  {
   "cell_type": "code",
   "execution_count": 468,
   "id": "d6f33c86",
   "metadata": {},
   "outputs": [
    {
     "data": {
      "text/plain": [
       "9"
      ]
     },
     "execution_count": 468,
     "metadata": {},
     "output_type": "execute_result"
    }
   ],
   "source": [
    "mmap_object = mmap.mmap(file_object.fileno(), length=0, access=mmap.ACCESS_READ, offset=0)\n",
    "get_len(mmap_object)"
   ]
  },
  {
   "cell_type": "markdown",
   "id": "d62da2c5",
   "metadata": {},
   "source": [
    "### Search the first position at which a particular substring appears"
   ]
  },
  {
   "cell_type": "code",
   "execution_count": 469,
   "id": "ae1aefa4",
   "metadata": {},
   "outputs": [
    {
     "name": "stdout",
     "output_type": "stream",
     "text": [
      "start position for b'cat' is 24\n",
      "b'cat'\n"
     ]
    }
   ],
   "source": [
    "word = b'cat'\n",
    "mmap_object = mmap.mmap(file_object.fileno(), length=0, access=mmap.ACCESS_READ, offset=0)\n",
    "start_position_word = mmap_object.find(word)\n",
    "\n",
    "print(f'start position for {word} is {start_position_word}')\n",
    "print(mmap_object[start_position_word:start_position_word+3])"
   ]
  },
  {
   "cell_type": "code",
   "execution_count": 470,
   "id": "10d832e3",
   "metadata": {},
   "outputs": [
    {
     "data": {
      "text/plain": [
       "<mmap.mmap closed=False, access=ACCESS_READ, length=49, pos=0, offset=0>"
      ]
     },
     "execution_count": 470,
     "metadata": {},
     "output_type": "execute_result"
    }
   ],
   "source": [
    "mmap_object"
   ]
  },
  {
   "cell_type": "markdown",
   "id": "039c9843",
   "metadata": {},
   "source": [
    "### Update a slice of a mmap file\n",
    "\n",
    "We can get update a slice of the mmap file as if it was an array"
   ]
  },
  {
   "cell_type": "code",
   "execution_count": 471,
   "id": "410cfd20",
   "metadata": {},
   "outputs": [
    {
     "name": "stdout",
     "output_type": "stream",
     "text": [
      "b'XXXABULARY\\ncasta\\xc3\\xb1a\\nthe\\ncat\\nwas\\nnot\\na\\ncaterpilar\\n'\n"
     ]
    }
   ],
   "source": [
    "mmap_object = mmap.mmap(file_object.fileno(), length=0, access=mmap.ACCESS_WRITE, offset=0)\n",
    "mmap_object[0:3] = b\"XXX\"\n",
    "print(mmap_object[0:])\n",
    "mmap_object.flush()"
   ]
  },
  {
   "cell_type": "markdown",
   "id": "0fa41284",
   "metadata": {},
   "source": [
    "We can see that the update is present on the file"
   ]
  },
  {
   "cell_type": "code",
   "execution_count": 472,
   "id": "f7e38514",
   "metadata": {
    "scrolled": true
   },
   "outputs": [
    {
     "name": "stdout",
     "output_type": "stream",
     "text": [
      "XXXABULARY\r\n",
      "castaña\r\n",
      "the\r\n",
      "cat\r\n",
      "was\r\n",
      "not\r\n",
      "a\r\n",
      "caterpilar\r\n"
     ]
    }
   ],
   "source": [
    "cat vocab.txt"
   ]
  },
  {
   "cell_type": "markdown",
   "id": "4cb0c53e",
   "metadata": {},
   "source": [
    "### Update a line of a mmap file\n",
    "\n",
    "Consider the case you want to "
   ]
  },
  {
   "cell_type": "code",
   "execution_count": 473,
   "id": "90824f37",
   "metadata": {},
   "outputs": [
    {
     "name": "stdout",
     "output_type": "stream",
     "text": [
      "b'XXXABULARY\\ncasta\\xc3\\xb1a\\nthe\\ncat\\nwas\\nnot\\na\\ncaterpilar\\n'\n"
     ]
    }
   ],
   "source": [
    "mmap_object = mmap.mmap(file_object.fileno(), length=0, access=mmap.ACCESS_WRITE, offset=0)\n",
    "mmap_object[0:3] = b\"XXX\"\n",
    "print(mmap_object[0:])"
   ]
  },
  {
   "cell_type": "markdown",
   "id": "113dfc4f",
   "metadata": {},
   "source": [
    "### Append to a file\n",
    "\n",
    "We can write to a file as follows (this is read not as a mmemap but as a regular file)"
   ]
  },
  {
   "cell_type": "code",
   "execution_count": 474,
   "id": "175c5869",
   "metadata": {},
   "outputs": [],
   "source": [
    "with open(filepath, mode=\"a\", encoding=\"utf8\") as file_object:\n",
    "    new_words = ['dog', 'house','sheep','conjuración']\n",
    "    for w in new_words:\n",
    "        file_object.write(w+'\\n')"
   ]
  },
  {
   "cell_type": "code",
   "execution_count": 475,
   "id": "bd0701d1",
   "metadata": {},
   "outputs": [
    {
     "data": {
      "text/plain": [
       "['XXXABULARY\\n',\n",
       " 'castaña\\n',\n",
       " 'the\\n',\n",
       " 'cat\\n',\n",
       " 'was\\n',\n",
       " 'not\\n',\n",
       " 'a\\n',\n",
       " 'caterpilar\\n',\n",
       " 'dog\\n',\n",
       " 'house\\n',\n",
       " 'sheep\\n',\n",
       " 'conjuración\\n']"
      ]
     },
     "execution_count": 475,
     "metadata": {},
     "output_type": "execute_result"
    }
   ],
   "source": [
    "file_object = open(filepath, mode=\"r\", encoding=\"utf8\") \n",
    "file_object.readlines()"
   ]
  },
  {
   "cell_type": "code",
   "execution_count": null,
   "id": "a3daf7a8",
   "metadata": {},
   "outputs": [],
   "source": []
  },
  {
   "cell_type": "code",
   "execution_count": null,
   "id": "94898084",
   "metadata": {},
   "outputs": [],
   "source": []
  }
 ],
 "metadata": {
  "kernelspec": {
   "display_name": "Python 3 (ipykernel)",
   "language": "python",
   "name": "python3"
  },
  "language_info": {
   "codemirror_mode": {
    "name": "ipython",
    "version": 3
   },
   "file_extension": ".py",
   "mimetype": "text/x-python",
   "name": "python",
   "nbconvert_exporter": "python",
   "pygments_lexer": "ipython3",
   "version": "3.9.12"
  }
 },
 "nbformat": 4,
 "nbformat_minor": 5
}

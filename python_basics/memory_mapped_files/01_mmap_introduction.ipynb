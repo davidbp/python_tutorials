{
 "cells": [
  {
   "cell_type": "markdown",
   "id": "1d7cb907",
   "metadata": {},
   "source": [
    "# Memory Mapped files (mmap files) in Python\n",
    "\n",
    "\n",
    "Memory mapping refers to the ability to load a file directly into computer memory. It can speed up file I/O performance with respect to other techniques.\n",
    "\n",
    "To understand memory mapping one needs to have some basic understanding of diferent types of computer memory:\n",
    "\n",
    "- **Physical memory**: Amount of volatile memory available to your programs shile running. This is not \"storage\" (once a program is shut down the memory is freed).\n",
    "\n",
    "\n",
    "- **Virtual memory**: Is a layer of abstraction over the physical memory, so that the programmer does not need to worry about accessing concrete parts of the physical memory and programs might use more memory than what it might be physically available. To do this, operating systems use algorithms to map virtual memory adresses to physical ones, using a data structure called a page table.\n",
    "\n",
    "    - **mmap** uses virtual memory to make it appear that the coder has loaded a larger file than it might even fit in physical memory.\n",
    "\n",
    "\n",
    "- **Shared memory**: Is a technique used by  the operating system to allow multiple programs to access the same data in diferent cores."
   ]
  },
  {
   "cell_type": "markdown",
   "id": "c442f040",
   "metadata": {},
   "source": [
    "## 1) Create, read, append a mmap file\n",
    "\n",
    "mmap files must be mapped to an existing file. Let us first create a memory mapped file as follows with the first line containing \"VOCABULARY\"."
   ]
  },
  {
   "cell_type": "code",
   "execution_count": 556,
   "id": "c71d2218",
   "metadata": {},
   "outputs": [],
   "source": [
    "def create_vocabulary_file(filepath):\n",
    "    # create file object using open function call\n",
    "    with open(filepath, mode=\"w\", encoding=\"utf8\") as file_object:\n",
    "        file_object.write('VOCABULARY\\ncastaña\\nthe\\ncat\\nwas\\nnot\\na\\ncaterpilar\\n')\n",
    "        file_object.close()\n",
    "                \n",
    "# define filepath\n",
    "filepath=\"./vocab.txt\"\n",
    "create_vocabulary_file(filepath)"
   ]
  },
  {
   "cell_type": "code",
   "execution_count": 557,
   "id": "3af2e48b",
   "metadata": {},
   "outputs": [
    {
     "name": "stdout",
     "output_type": "stream",
     "text": [
      "VOCABULARY\r\n",
      "castaña\r\n",
      "the\r\n",
      "cat\r\n",
      "was\r\n",
      "not\r\n",
      "a\r\n",
      "caterpilar\r\n"
     ]
    }
   ],
   "source": [
    "cat vocab.txt"
   ]
  },
  {
   "cell_type": "markdown",
   "id": "e82fb86d",
   "metadata": {},
   "source": [
    "Now we want keep adding words to the mmap file"
   ]
  },
  {
   "cell_type": "code",
   "execution_count": 558,
   "id": "35b77d7a",
   "metadata": {},
   "outputs": [],
   "source": [
    "file_object = open(filepath, mode=\"r+\", encoding=\"utf8\") "
   ]
  },
  {
   "cell_type": "code",
   "execution_count": 559,
   "id": "60720c89",
   "metadata": {
    "scrolled": true
   },
   "outputs": [
    {
     "name": "stdout",
     "output_type": "stream",
     "text": [
      "Data read from file in byte format is:\n",
      "b'VOCABULARY\\ncasta\\xc3\\xb1a\\nthe\\ncat\\nwas\\nnot\\na\\ncaterpilar\\n'\n",
      "Text data is:\n",
      "VOCABULARY\n",
      "castaña\n",
      "the\n",
      "cat\n",
      "was\n",
      "not\n",
      "a\n",
      "caterpilar\n",
      "\n"
     ]
    }
   ],
   "source": [
    "#file_object = open(filepath, mode=\"rw\", encoding=\"utf8\") \n",
    "\n",
    "#import module\n",
    "import mmap\n",
    "\n",
    "#create an mmap object using mmap function call\n",
    "mmap_object= mmap.mmap(file_object.fileno(), length=0, access=mmap.ACCESS_WRITE, offset=0)\n",
    " \n",
    "#read data from mmap object\n",
    "txt = mmap_object.read()\n",
    " \n",
    "#print the data\n",
    "print(\"Data read from file in byte format is:\")\n",
    "print(txt)\n",
    "print(\"Text data is:\")\n",
    "print(txt.decode())"
   ]
  },
  {
   "cell_type": "markdown",
   "id": "090af2b7",
   "metadata": {},
   "source": [
    "### Get a slice of the mmap file\n",
    "\n",
    "We can get an slice of the mmap file as if it was an array"
   ]
  },
  {
   "cell_type": "code",
   "execution_count": 560,
   "id": "99761873",
   "metadata": {},
   "outputs": [
    {
     "data": {
      "text/plain": [
       "(b'VOCA', b'VOCABULARY\\ncasta\\xc3\\xb1a\\nthe\\ncat\\nwas\\nnot\\na\\ncaterpilar\\n')"
      ]
     },
     "execution_count": 560,
     "metadata": {},
     "output_type": "execute_result"
    }
   ],
   "source": [
    "mmap_object[0:4], mmap_object[0:]"
   ]
  },
  {
   "cell_type": "code",
   "execution_count": 561,
   "id": "43318ee3",
   "metadata": {
    "scrolled": true
   },
   "outputs": [
    {
     "name": "stdout",
     "output_type": "stream",
     "text": [
      "b'casta\\xc3\\xb1a\\n'\n",
      "castaña\n",
      "\n"
     ]
    }
   ],
   "source": [
    "print(mmap_object[11:20])\n",
    "print(mmap_object[11:20].decode('utf8'))"
   ]
  },
  {
   "cell_type": "markdown",
   "id": "7bc440f0",
   "metadata": {},
   "source": [
    "### Read line by line of a mmapfile\n"
   ]
  },
  {
   "cell_type": "code",
   "execution_count": 562,
   "id": "2c4fbd75",
   "metadata": {},
   "outputs": [
    {
     "name": "stdout",
     "output_type": "stream",
     "text": [
      "<mmap.mmap closed=False, access=ACCESS_READ, length=49, pos=0, offset=0>\n"
     ]
    }
   ],
   "source": [
    "# Load mmap object\n",
    "mmap_object= mmap.mmap(file_object.fileno(), length=0, access=mmap.ACCESS_READ, offset=0)\n",
    "# Note `pos=0` is the initial pointer position to the data in the file\n",
    "print(mmap_object)"
   ]
  },
  {
   "cell_type": "markdown",
   "id": "15c09002",
   "metadata": {},
   "source": [
    "We can read line by line of a mmap file iterating over each linen until the last line is found."
   ]
  },
  {
   "cell_type": "code",
   "execution_count": 563,
   "id": "499e30ec",
   "metadata": {},
   "outputs": [],
   "source": [
    "def print_line_by_line_mmap(mmap_object):\n",
    "    line = True\n",
    "    while line:\n",
    "        print('\\t', mmap_object)\n",
    "        line = mmap_object.readline()\n",
    "        print(line)"
   ]
  },
  {
   "cell_type": "markdown",
   "id": "69cb1372",
   "metadata": {},
   "source": [
    "Note that the `pos` attribute in the mmap file keeps track of the position pointer to the data."
   ]
  },
  {
   "cell_type": "code",
   "execution_count": 564,
   "id": "4f22ee5d",
   "metadata": {},
   "outputs": [
    {
     "name": "stdout",
     "output_type": "stream",
     "text": [
      "\t <mmap.mmap closed=False, access=ACCESS_READ, length=49, pos=0, offset=0>\n",
      "b'VOCABULARY\\n'\n",
      "\t <mmap.mmap closed=False, access=ACCESS_READ, length=49, pos=11, offset=0>\n",
      "b'casta\\xc3\\xb1a\\n'\n",
      "\t <mmap.mmap closed=False, access=ACCESS_READ, length=49, pos=20, offset=0>\n",
      "b'the\\n'\n",
      "\t <mmap.mmap closed=False, access=ACCESS_READ, length=49, pos=24, offset=0>\n",
      "b'cat\\n'\n",
      "\t <mmap.mmap closed=False, access=ACCESS_READ, length=49, pos=28, offset=0>\n",
      "b'was\\n'\n",
      "\t <mmap.mmap closed=False, access=ACCESS_READ, length=49, pos=32, offset=0>\n",
      "b'not\\n'\n",
      "\t <mmap.mmap closed=False, access=ACCESS_READ, length=49, pos=36, offset=0>\n",
      "b'a\\n'\n",
      "\t <mmap.mmap closed=False, access=ACCESS_READ, length=49, pos=38, offset=0>\n",
      "b'caterpilar\\n'\n",
      "\t <mmap.mmap closed=False, access=ACCESS_READ, length=49, pos=49, offset=0>\n",
      "b''\n"
     ]
    }
   ],
   "source": [
    "mmap_object= mmap.mmap(file_object.fileno(), length=0, access=mmap.ACCESS_READ, offset=0)\n",
    "print_line_by_line_mmap(mmap_object)"
   ]
  },
  {
   "cell_type": "markdown",
   "id": "06abcacd",
   "metadata": {},
   "source": [
    "### Get number of lines of a mmap file\n"
   ]
  },
  {
   "cell_type": "code",
   "execution_count": 565,
   "id": "54cc95b5",
   "metadata": {},
   "outputs": [],
   "source": [
    "def get_len(mmap_object):\n",
    "    n_lines = 0\n",
    "    line = True\n",
    "    while line:\n",
    "        line = mmap_object.readline()\n",
    "        n_lines += 1\n",
    "    return n_lines"
   ]
  },
  {
   "cell_type": "code",
   "execution_count": 566,
   "id": "7dc4add8",
   "metadata": {},
   "outputs": [
    {
     "data": {
      "text/plain": [
       "9"
      ]
     },
     "execution_count": 566,
     "metadata": {},
     "output_type": "execute_result"
    }
   ],
   "source": [
    "mmap_object = mmap.mmap(file_object.fileno(), length=0, access=mmap.ACCESS_READ, offset=0)\n",
    "get_len(mmap_object)"
   ]
  },
  {
   "cell_type": "markdown",
   "id": "525fd27e",
   "metadata": {},
   "source": [
    "### Search the first position at which a particular substring appears"
   ]
  },
  {
   "cell_type": "code",
   "execution_count": 567,
   "id": "a47f3065",
   "metadata": {},
   "outputs": [
    {
     "name": "stdout",
     "output_type": "stream",
     "text": [
      "start position for b'cat' is 24\n",
      "b'cat'\n"
     ]
    }
   ],
   "source": [
    "word = b'cat'\n",
    "mmap_object = mmap.mmap(file_object.fileno(), length=0, access=mmap.ACCESS_READ, offset=0)\n",
    "start_position_word = mmap_object.find(word)\n",
    "\n",
    "print(f'start position for {word} is {start_position_word}')\n",
    "print(mmap_object[start_position_word:start_position_word+3])"
   ]
  },
  {
   "cell_type": "code",
   "execution_count": 568,
   "id": "947b84da",
   "metadata": {},
   "outputs": [
    {
     "data": {
      "text/plain": [
       "<mmap.mmap closed=False, access=ACCESS_READ, length=49, pos=0, offset=0>"
      ]
     },
     "execution_count": 568,
     "metadata": {},
     "output_type": "execute_result"
    }
   ],
   "source": [
    "mmap_object"
   ]
  },
  {
   "cell_type": "markdown",
   "id": "4def07c0",
   "metadata": {},
   "source": [
    "### Update a slice of a mmap file\n",
    "\n",
    "We can get update a slice of the mmap file as if it was an array"
   ]
  },
  {
   "cell_type": "code",
   "execution_count": 569,
   "id": "cad6a65f",
   "metadata": {},
   "outputs": [
    {
     "name": "stdout",
     "output_type": "stream",
     "text": [
      "b'XXXABULARY\\ncasta\\xc3\\xb1a\\nthe\\ncat\\nwas\\nnot\\na\\ncaterpilar\\n'\n"
     ]
    }
   ],
   "source": [
    "mmap_object = mmap.mmap(file_object.fileno(), length=0, access=mmap.ACCESS_WRITE, offset=0)\n",
    "mmap_object[0:3] = b\"XXX\"\n",
    "print(mmap_object[0:])\n",
    "mmap_object.flush()"
   ]
  },
  {
   "cell_type": "markdown",
   "id": "1e87413d",
   "metadata": {},
   "source": [
    "We can see that the update is present on the file"
   ]
  },
  {
   "cell_type": "code",
   "execution_count": 570,
   "id": "6a72276a",
   "metadata": {
    "scrolled": true
   },
   "outputs": [
    {
     "name": "stdout",
     "output_type": "stream",
     "text": [
      "XXXABULARY\r\n",
      "castaña\r\n",
      "the\r\n",
      "cat\r\n",
      "was\r\n",
      "not\r\n",
      "a\r\n",
      "caterpilar\r\n"
     ]
    }
   ],
   "source": [
    "cat vocab.txt"
   ]
  },
  {
   "cell_type": "markdown",
   "id": "3ce23009",
   "metadata": {},
   "source": [
    "### Update a line of a mmap file\n",
    "\n",
    "Consider the case you want to "
   ]
  },
  {
   "cell_type": "code",
   "execution_count": 571,
   "id": "dbb16efa",
   "metadata": {},
   "outputs": [
    {
     "name": "stdout",
     "output_type": "stream",
     "text": [
      "b'XXXABULARY\\ncasta\\xc3\\xb1a\\nthe\\ncat\\nwas\\nnot\\na\\ncaterpilar\\n'\n"
     ]
    }
   ],
   "source": [
    "mmap_object = mmap.mmap(file_object.fileno(), length=0, access=mmap.ACCESS_WRITE, offset=0)\n",
    "mmap_object[0:3] = b\"XXX\"\n",
    "print(mmap_object[0:])"
   ]
  },
  {
   "cell_type": "markdown",
   "id": "2653451e",
   "metadata": {},
   "source": [
    "### Append to a file\n",
    "\n",
    "We can write to a file as follows (this is read not as a mmemap but as a regular file)"
   ]
  },
  {
   "cell_type": "code",
   "execution_count": 572,
   "id": "73efd18f",
   "metadata": {},
   "outputs": [],
   "source": [
    "file_object = open(filepath, mode=\"a\", encoding=\"utf8\") "
   ]
  },
  {
   "cell_type": "code",
   "execution_count": 573,
   "id": "4758f37c",
   "metadata": {},
   "outputs": [],
   "source": [
    "with open(filepath, mode=\"a\", encoding=\"utf8\") as file_object:\n",
    "    new_words = ['dog', 'house','sheep','conjuración']\n",
    "    for w in new_words:\n",
    "        file_object.write(w+'\\n')"
   ]
  },
  {
   "cell_type": "code",
   "execution_count": 574,
   "id": "1c11a6f6",
   "metadata": {},
   "outputs": [
    {
     "name": "stdout",
     "output_type": "stream",
     "text": [
      "XXXABULARY\r\n",
      "castaña\r\n",
      "the\r\n",
      "cat\r\n",
      "was\r\n",
      "not\r\n",
      "a\r\n",
      "caterpilar\r\n",
      "dog\r\n",
      "house\r\n",
      "sheep\r\n",
      "conjuración\r\n"
     ]
    }
   ],
   "source": [
    "cat vocab.txt"
   ]
  },
  {
   "cell_type": "markdown",
   "id": "a2ddd5ae",
   "metadata": {},
   "source": [
    "### Modify a file without opening and closing it many times\n",
    "\n",
    "Note that if a file has to be constantly modified, for example, adding new words to it, it might be worth to keep it open, since the cost of opening and closing is much more expensive than writting to it"
   ]
  },
  {
   "cell_type": "code",
   "execution_count": 592,
   "id": "a8c19c35",
   "metadata": {},
   "outputs": [
    {
     "name": "stdout",
     "output_type": "stream",
     "text": [
      "30.9 µs ± 2.52 µs per loop (mean ± std. dev. of 7 runs, 10,000 loops each)\n"
     ]
    }
   ],
   "source": [
    "%%timeit\n",
    "with open(filepath, mode=\"a\", encoding=\"utf8\") as file_object:\n",
    "    new_words = ['dog', 'house','sheep','conjuración']\n",
    "    for w in new_words:\n",
    "        file_object.write(w+'\\n')"
   ]
  },
  {
   "cell_type": "code",
   "execution_count": 595,
   "id": "774808d0",
   "metadata": {},
   "outputs": [
    {
     "name": "stdout",
     "output_type": "stream",
     "text": [
      "31.9 µs ± 752 ns per loop (mean ± std. dev. of 7 runs, 10,000 loops each)\n"
     ]
    }
   ],
   "source": [
    "%%timeit\n",
    "file_object = open(filepath, mode=\"a\", encoding=\"utf8\")\n",
    "new_words = ['dog', 'house','sheep','conjuración']\n",
    "for w in new_words:\n",
    "    file_object.write(w+'\\n')"
   ]
  },
  {
   "cell_type": "markdown",
   "id": "6a24f31e",
   "metadata": {},
   "source": [
    "### Compare string presence: file VS mmap file\n",
    "\n",
    "If you want to check if a string\n",
    "Imagine you want to write to disk all words you find in a huge corpus, and you can't have in memory a set containing all the visited terms"
   ]
  },
  {
   "cell_type": "code",
   "execution_count": 596,
   "id": "23e792aa",
   "metadata": {},
   "outputs": [],
   "source": [
    "file_object = open(filepath, mode=\"r\", encoding=\"utf8\")"
   ]
  },
  {
   "cell_type": "code",
   "execution_count": 597,
   "id": "2d5335b7",
   "metadata": {},
   "outputs": [
    {
     "name": "stdout",
     "output_type": "stream",
     "text": [
      "CPU times: user 5.85 ms, sys: 6.71 ms, total: 12.6 ms\n",
      "Wall time: 13.2 ms\n"
     ]
    },
    {
     "data": {
      "text/plain": [
       "True"
      ]
     },
     "execution_count": 597,
     "metadata": {},
     "output_type": "execute_result"
    }
   ],
   "source": [
    "%%time\n",
    "'cat' in file_object.read()"
   ]
  },
  {
   "cell_type": "code",
   "execution_count": 619,
   "id": "68858b60",
   "metadata": {},
   "outputs": [
    {
     "name": "stdout",
     "output_type": "stream",
     "text": [
      "CPU times: user 12 µs, sys: 16 µs, total: 28 µs\n",
      "Wall time: 33.1 µs\n"
     ]
    }
   ],
   "source": [
    "word = b'cat'\n",
    "mmap_object = mmap.mmap(file_object.fileno(), length=0, access=mmap.ACCESS_READ, offset=0)\n",
    "\n",
    "%time start_position_word = mmap_object.find(word)"
   ]
  },
  {
   "cell_type": "markdown",
   "id": "6ee04387",
   "metadata": {},
   "source": [
    "### Working with opened files and mmaped files at the same time\n",
    "\n",
    "One might want to append data to a file and at the same time check if the file contains some information."
   ]
  },
  {
   "cell_type": "code",
   "execution_count": null,
   "id": "f152eccd",
   "metadata": {},
   "outputs": [],
   "source": []
  },
  {
   "cell_type": "code",
   "execution_count": null,
   "id": "6f978204",
   "metadata": {},
   "outputs": [],
   "source": []
  },
  {
   "cell_type": "code",
   "execution_count": null,
   "id": "32143af2",
   "metadata": {},
   "outputs": [],
   "source": []
  },
  {
   "cell_type": "code",
   "execution_count": null,
   "id": "84825ab8",
   "metadata": {},
   "outputs": [],
   "source": []
  }
 ],
 "metadata": {
  "kernelspec": {
   "display_name": "Python 3 (ipykernel)",
   "language": "python",
   "name": "python3"
  },
  "language_info": {
   "codemirror_mode": {
    "name": "ipython",
    "version": 3
   },
   "file_extension": ".py",
   "mimetype": "text/x-python",
   "name": "python",
   "nbconvert_exporter": "python",
   "pygments_lexer": "ipython3",
   "version": "3.9.12"
  }
 },
 "nbformat": 4,
 "nbformat_minor": 5
}

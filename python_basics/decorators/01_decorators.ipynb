{
 "cells": [
  {
   "cell_type": "markdown",
   "metadata": {
    "toc": true
   },
   "source": [
    "<h1>Table of Contents<span class=\"tocSkip\"></span></h1>\n",
    "<div class=\"toc\"><ul class=\"toc-item\"><li><span><a href=\"#Python-Decorators\" data-toc-modified-id=\"Python-Decorators-1\"><span class=\"toc-item-num\">1&nbsp;&nbsp;</span>Python Decorators</a></span><ul class=\"toc-item\"><li><span><a href=\"#Timer-decorator\" data-toc-modified-id=\"Timer-decorator-1.1\"><span class=\"toc-item-num\">1.1&nbsp;&nbsp;</span>Timer decorator</a></span></li><li><span><a href=\"#Python-matrix-iterator-decorator\" data-toc-modified-id=\"Python-matrix-iterator-decorator-1.2\"><span class=\"toc-item-num\">1.2&nbsp;&nbsp;</span>Python matrix iterator decorator</a></span></li></ul></li></ul></div>"
   ]
  },
  {
   "cell_type": "markdown",
   "metadata": {},
   "source": [
    "# Python Decorators \n",
    "\n",
    "A decorator is a design pattern in Python that allows a user to add new code to an existing function, method, or class without directly impacting subclasses or impacting the source code of a function beeing decorated."
   ]
  },
  {
   "cell_type": "code",
   "execution_count": 1,
   "metadata": {
    "ExecuteTime": {
     "end_time": "2021-04-13T09:37:36.770655Z",
     "start_time": "2021-04-13T09:37:36.768059Z"
    }
   },
   "outputs": [],
   "source": [
    "def my_decorator(func):\n",
    "    def wrapper():\n",
    "        print(\"Logic before func is called.\")\n",
    "        func()\n",
    "        print(\"Logic after func is called.\")\n",
    "    return wrapper\n",
    "\n",
    "def my_func():\n",
    "    print(\"my_func is executed\")\n",
    "\n",
    "deco_my_func = my_decorator(my_func)"
   ]
  },
  {
   "cell_type": "code",
   "execution_count": 2,
   "metadata": {
    "ExecuteTime": {
     "end_time": "2021-04-13T09:37:37.869895Z",
     "start_time": "2021-04-13T09:37:37.867775Z"
    }
   },
   "outputs": [
    {
     "name": "stdout",
     "output_type": "stream",
     "text": [
      "Logic before func is called.\n",
      "my_func is executed\n",
      "Logic after func is called.\n"
     ]
    }
   ],
   "source": [
    "deco_my_func()"
   ]
  },
  {
   "cell_type": "markdown",
   "metadata": {},
   "source": [
    "The function decoration happens when calling `deco_my_func = my_decorator(my_func)`.\n",
    "\n",
    "Note that `my_decorator` returns a function. The function that returns is a wrapper to the input function `func`  that `my_decorator` recieves.\n",
    "\n",
    "Instead of writting\n",
    "\n",
    "```\n",
    "deco_my_func = my_decorator(my_func)\n",
    "```\n",
    "\n",
    "if a function is not meant to be used without the modification done by a decorator  there is the option of define a function with the decorator already in place using the notation `@my_decorator`."
   ]
  },
  {
   "cell_type": "code",
   "execution_count": 3,
   "metadata": {
    "ExecuteTime": {
     "end_time": "2021-04-13T09:37:38.353792Z",
     "start_time": "2021-04-13T09:37:38.351615Z"
    }
   },
   "outputs": [],
   "source": [
    "@my_decorator\n",
    "def my_func():\n",
    "    print(\"my_func is executed\")"
   ]
  },
  {
   "cell_type": "code",
   "execution_count": 4,
   "metadata": {
    "ExecuteTime": {
     "end_time": "2021-04-13T09:37:39.433982Z",
     "start_time": "2021-04-13T09:37:39.431640Z"
    }
   },
   "outputs": [
    {
     "name": "stdout",
     "output_type": "stream",
     "text": [
      "Logic before func is called.\n",
      "my_func is executed\n",
      "Logic after func is called.\n"
     ]
    }
   ],
   "source": [
    "my_func()"
   ]
  },
  {
   "cell_type": "markdown",
   "metadata": {},
   "source": [
    "## Timer decorator"
   ]
  },
  {
   "cell_type": "code",
   "execution_count": 16,
   "metadata": {
    "ExecuteTime": {
     "end_time": "2022-04-07T08:41:36.968386Z",
     "start_time": "2022-04-07T08:41:36.964189Z"
    }
   },
   "outputs": [],
   "source": [
    "import time\n",
    "\n",
    "def timefunc(func):\n",
    "    \"\"\"Print the runtime of the decorated function\"\"\"\n",
    "    def wrapper(*args, **kwargs):\n",
    "        start_time = time.perf_counter()   \n",
    "        value = func(*args, **kwargs)\n",
    "        end_time = time.perf_counter()     \n",
    "        run_time = end_time - start_time   \n",
    "        print(f\"{func.__name__!r} takes {run_time:.4f} secs\")\n",
    "        return value\n",
    "    return wrapper\n",
    "\n",
    "def my_func(n):\n",
    "    aux = []\n",
    "    for _ in range(n):\n",
    "        r = sum([i**2 for i in range(n)])\n",
    "        aux.append(r)\n",
    "    return sum(aux)"
   ]
  },
  {
   "cell_type": "code",
   "execution_count": 17,
   "metadata": {
    "ExecuteTime": {
     "end_time": "2022-04-07T08:41:37.194978Z",
     "start_time": "2022-04-07T08:41:37.188558Z"
    },
    "scrolled": true
   },
   "outputs": [
    {
     "data": {
      "text/plain": [
       "32835000"
      ]
     },
     "execution_count": 17,
     "metadata": {},
     "output_type": "execute_result"
    }
   ],
   "source": [
    "my_func(100)"
   ]
  },
  {
   "cell_type": "markdown",
   "metadata": {},
   "source": [
    "We can time a function using\n",
    "\n",
    "```\n",
    "timefunc(some_function)(some_function_arguments)\n",
    "```\n"
   ]
  },
  {
   "cell_type": "code",
   "execution_count": 22,
   "metadata": {
    "ExecuteTime": {
     "end_time": "2022-04-07T08:41:47.947340Z",
     "start_time": "2022-04-07T08:41:47.876488Z"
    }
   },
   "outputs": [
    {
     "name": "stdout",
     "output_type": "stream",
     "text": [
      "'my_func' takes 0.0670 secs\n"
     ]
    },
    {
     "data": {
      "text/plain": [
       "20770875000"
      ]
     },
     "execution_count": 22,
     "metadata": {},
     "output_type": "execute_result"
    }
   ],
   "source": [
    "result = timefunc(my_func)(500)\n",
    "result"
   ]
  },
  {
   "cell_type": "markdown",
   "metadata": {
    "ExecuteTime": {
     "end_time": "2022-04-07T08:41:37.789031Z",
     "start_time": "2022-04-07T08:41:37.785556Z"
    }
   },
   "source": [
    "or we can simply do "
   ]
  },
  {
   "cell_type": "code",
   "execution_count": 23,
   "metadata": {
    "ExecuteTime": {
     "end_time": "2022-04-07T08:42:04.800584Z",
     "start_time": "2022-04-07T08:42:04.797386Z"
    }
   },
   "outputs": [],
   "source": [
    "@timefunc\n",
    "def my_func(n):\n",
    "    aux = []\n",
    "    for _ in range(n):\n",
    "        r = sum([i**2 for i in range(n)])\n",
    "        aux.append(r)\n",
    "    return sum(aux)"
   ]
  },
  {
   "cell_type": "code",
   "execution_count": 24,
   "metadata": {
    "ExecuteTime": {
     "end_time": "2022-04-07T08:42:07.975496Z",
     "start_time": "2022-04-07T08:42:07.969209Z"
    }
   },
   "outputs": [
    {
     "name": "stdout",
     "output_type": "stream",
     "text": [
      "'my_func' takes 0.0023 secs\n"
     ]
    },
    {
     "data": {
      "text/plain": [
       "32835000"
      ]
     },
     "execution_count": 24,
     "metadata": {},
     "output_type": "execute_result"
    }
   ],
   "source": [
    "my_func(100)"
   ]
  },
  {
   "cell_type": "markdown",
   "metadata": {
    "ExecuteTime": {
     "end_time": "2021-04-13T09:38:01.764266Z",
     "start_time": "2021-04-13T09:38:01.762740Z"
    }
   },
   "source": [
    "## Python matrix iterator decorator"
   ]
  },
  {
   "cell_type": "code",
   "execution_count": 122,
   "metadata": {
    "ExecuteTime": {
     "end_time": "2021-04-13T10:07:55.371290Z",
     "start_time": "2021-04-13T10:07:54.869870Z"
    }
   },
   "outputs": [],
   "source": [
    "import numpy as np\n",
    "import scipy.sparse as sp\n",
    "import tensorflow as tf\n",
    "import torch"
   ]
  },
  {
   "cell_type": "markdown",
   "metadata": {
    "ExecuteTime": {
     "end_time": "2021-04-13T09:39:08.660480Z",
     "start_time": "2021-04-13T09:39:08.655813Z"
    }
   },
   "source": [
    "Different matrices allow different `slicing mechanisms` or iterator mechanisms.\n",
    "\n",
    "Imagine you want to iterate over rows of an `array` and print each row.\n",
    "\n",
    "Different types of arrays might access differently the rows. Let us see an example"
   ]
  },
  {
   "cell_type": "code",
   "execution_count": 125,
   "metadata": {
    "ExecuteTime": {
     "end_time": "2021-04-13T10:08:02.690612Z",
     "start_time": "2021-04-13T10:08:02.688493Z"
    }
   },
   "outputs": [],
   "source": [
    "def print_rows(X):\n",
    "    n_rows = X.shape[0]\n",
    "    for i in range(n_rows):\n",
    "        print(f'row {i} is {X[i]}')"
   ]
  },
  {
   "cell_type": "code",
   "execution_count": 126,
   "metadata": {
    "ExecuteTime": {
     "end_time": "2021-04-13T10:08:02.904295Z",
     "start_time": "2021-04-13T10:08:02.901825Z"
    },
    "scrolled": true
   },
   "outputs": [
    {
     "name": "stdout",
     "output_type": "stream",
     "text": [
      "row 0 is [0.69646919 0.28613933]\n",
      "row 1 is [0.22685145 0.55131477]\n",
      "row 2 is [0.71946897 0.42310646]\n"
     ]
    }
   ],
   "source": [
    "print_rows(X_np)"
   ]
  },
  {
   "cell_type": "code",
   "execution_count": 135,
   "metadata": {
    "ExecuteTime": {
     "end_time": "2021-04-13T10:08:45.407947Z",
     "start_time": "2021-04-13T10:08:45.405455Z"
    },
    "scrolled": false
   },
   "outputs": [
    {
     "name": "stdout",
     "output_type": "stream",
     "text": [
      "row 0 is   (0, 0)\t0.6964691855978616\n",
      "  (0, 1)\t0.28613933495037946\n",
      "row 1 is   (0, 0)\t0.2268514535642031\n",
      "  (0, 1)\t0.5513147690828912\n",
      "row 2 is   (0, 0)\t0.7194689697855631\n",
      "  (0, 1)\t0.42310646012446096\n"
     ]
    }
   ],
   "source": [
    "print_rows(X_csr)"
   ]
  },
  {
   "cell_type": "code",
   "execution_count": 144,
   "metadata": {
    "ExecuteTime": {
     "end_time": "2021-04-13T10:09:39.801790Z",
     "start_time": "2021-04-13T10:09:39.800195Z"
    }
   },
   "outputs": [],
   "source": [
    "#torch.sparse.FloatTensor(X_csr.indices,X_csr.data)"
   ]
  },
  {
   "cell_type": "code",
   "execution_count": 124,
   "metadata": {
    "ExecuteTime": {
     "end_time": "2021-04-13T10:08:01.847851Z",
     "start_time": "2021-04-13T10:08:01.845030Z"
    }
   },
   "outputs": [],
   "source": [
    "np.random.seed(123)\n",
    "X_np = np.random.rand(3,2)\n",
    "X_coo = sp.coo_matrix(X_np)\n",
    "X_csr = sp.csr_matrix(X_np)\n",
    "X_tf = tf.constant(X_np)\n",
    "X_pytorch = torch.tensor(X_np)"
   ]
  },
  {
   "cell_type": "code",
   "execution_count": 128,
   "metadata": {
    "ExecuteTime": {
     "end_time": "2021-04-13T10:08:03.815884Z",
     "start_time": "2021-04-13T10:08:03.813246Z"
    }
   },
   "outputs": [],
   "source": [
    "import scipy\n",
    "\n",
    "def matrix_iterator(X):\n",
    "    n_rows = X.shape[0]\n",
    "    for i in range(n_rows):\n",
    "        if scipy.sparse.issparse(X):\n",
    "            yield X.getrow(i)\n",
    "        else:\n",
    "            yield X[i]"
   ]
  },
  {
   "cell_type": "code",
   "execution_count": 129,
   "metadata": {
    "ExecuteTime": {
     "end_time": "2021-04-13T10:08:03.984655Z",
     "start_time": "2021-04-13T10:08:03.982149Z"
    }
   },
   "outputs": [
    {
     "name": "stdout",
     "output_type": "stream",
     "text": [
      "row 0 from X = [0.69646919 0.28613933]\n",
      "row 1 from X = [0.22685145 0.55131477]\n",
      "row 2 from X = [0.71946897 0.42310646]\n"
     ]
    }
   ],
   "source": [
    "for i,x in enumerate(matrix_iterator(X_np)):\n",
    "    print(f'row {i} from X = {x}')"
   ]
  },
  {
   "cell_type": "code",
   "execution_count": 130,
   "metadata": {
    "ExecuteTime": {
     "end_time": "2021-04-13T10:08:04.154578Z",
     "start_time": "2021-04-13T10:08:04.151697Z"
    }
   },
   "outputs": [
    {
     "name": "stdout",
     "output_type": "stream",
     "text": [
      "row 0 from X =   (0, 0)\t0.6964691855978616\n",
      "  (0, 1)\t0.28613933495037946\n",
      "row 1 from X =   (0, 0)\t0.2268514535642031\n",
      "  (0, 1)\t0.5513147690828912\n",
      "row 2 from X =   (0, 0)\t0.7194689697855631\n",
      "  (0, 1)\t0.42310646012446096\n"
     ]
    }
   ],
   "source": [
    "for i,x in enumerate(matrix_iterator(X_csr)):\n",
    "    print(f'row {i} from X = {x}')"
   ]
  },
  {
   "cell_type": "code",
   "execution_count": 131,
   "metadata": {
    "ExecuteTime": {
     "end_time": "2021-04-13T10:08:04.402254Z",
     "start_time": "2021-04-13T10:08:04.398547Z"
    }
   },
   "outputs": [
    {
     "name": "stdout",
     "output_type": "stream",
     "text": [
      "row 0 from X =   (0, 1)\t0.28613933495037946\n",
      "  (0, 0)\t0.6964691855978616\n",
      "row 1 from X =   (0, 1)\t0.5513147690828912\n",
      "  (0, 0)\t0.2268514535642031\n",
      "row 2 from X =   (0, 1)\t0.42310646012446096\n",
      "  (0, 0)\t0.7194689697855631\n"
     ]
    }
   ],
   "source": [
    "for i,x in enumerate(matrix_iterator(X_coo)):\n",
    "    print(f'row {i} from X = {x}')"
   ]
  },
  {
   "cell_type": "code",
   "execution_count": 133,
   "metadata": {
    "ExecuteTime": {
     "end_time": "2021-04-13T10:08:07.451060Z",
     "start_time": "2021-04-13T10:08:07.447837Z"
    }
   },
   "outputs": [
    {
     "name": "stdout",
     "output_type": "stream",
     "text": [
      "row 0 from X = [0.69646919 0.28613933]\n",
      "row 1 from X = [0.22685145 0.55131477]\n",
      "row 2 from X = [0.71946897 0.42310646]\n"
     ]
    }
   ],
   "source": [
    "for i,x in enumerate(matrix_iterator(X_tf)):\n",
    "    print(f'row {i} from X = {x}')"
   ]
  },
  {
   "cell_type": "code",
   "execution_count": 157,
   "metadata": {
    "ExecuteTime": {
     "end_time": "2021-04-13T13:58:23.713778Z",
     "start_time": "2021-04-13T13:58:23.708815Z"
    }
   },
   "outputs": [
    {
     "name": "stdout",
     "output_type": "stream",
     "text": [
      "row 0 from X = tensor([0.6965, 0.2861], dtype=torch.float64)\n",
      "row 1 from X = tensor([0.2269, 0.5513], dtype=torch.float64)\n",
      "row 2 from X = tensor([0.7195, 0.4231], dtype=torch.float64)\n"
     ]
    }
   ],
   "source": [
    "for i,x in enumerate(matrix_iterator(X_pytorch)):\n",
    "    print(f'row {i} from X = {x}')"
   ]
  },
  {
   "cell_type": "code",
   "execution_count": 159,
   "metadata": {
    "ExecuteTime": {
     "end_time": "2021-04-13T13:58:35.771811Z",
     "start_time": "2021-04-13T13:58:35.768719Z"
    }
   },
   "outputs": [],
   "source": [
    "np.random.seed(123)\n",
    "X_np = np.random.rand(3,2)\n",
    "X_coo = sp.coo_matrix(X_np)\n",
    "X_csr = sp.csr_matrix(X_np)"
   ]
  },
  {
   "cell_type": "code",
   "execution_count": 160,
   "metadata": {
    "ExecuteTime": {
     "end_time": "2021-04-13T13:58:37.887301Z",
     "start_time": "2021-04-13T13:58:37.884939Z"
    }
   },
   "outputs": [
    {
     "data": {
      "text/plain": [
       "(3, 2)"
      ]
     },
     "execution_count": 160,
     "metadata": {},
     "output_type": "execute_result"
    }
   ],
   "source": [
    "X_csr.shape"
   ]
  },
  {
   "cell_type": "code",
   "execution_count": 154,
   "metadata": {
    "ExecuteTime": {
     "end_time": "2021-04-13T13:57:59.221519Z",
     "start_time": "2021-04-13T13:57:59.217478Z"
    }
   },
   "outputs": [
    {
     "data": {
      "text/plain": [
       "<4x2 sparse matrix of type '<class 'numpy.float64'>'\n",
       "\twith 8 stored elements in Compressed Sparse Row format>"
      ]
     },
     "execution_count": 154,
     "metadata": {},
     "output_type": "execute_result"
    }
   ],
   "source": [
    "scipy.sparse.vstack((X_csr,X_csr[1,:]))"
   ]
  },
  {
   "cell_type": "code",
   "execution_count": null,
   "metadata": {},
   "outputs": [],
   "source": []
  },
  {
   "cell_type": "code",
   "execution_count": null,
   "metadata": {},
   "outputs": [],
   "source": []
  }
 ],
 "metadata": {
  "kernelspec": {
   "display_name": "Python 3 (ipykernel)",
   "language": "python",
   "name": "python3"
  },
  "language_info": {
   "codemirror_mode": {
    "name": "ipython",
    "version": 3
   },
   "file_extension": ".py",
   "mimetype": "text/x-python",
   "name": "python",
   "nbconvert_exporter": "python",
   "pygments_lexer": "ipython3",
   "version": "3.8.5"
  },
  "toc": {
   "base_numbering": 1,
   "nav_menu": {},
   "number_sections": true,
   "sideBar": true,
   "skip_h1_title": false,
   "title_cell": "Table of Contents",
   "title_sidebar": "Contents",
   "toc_cell": true,
   "toc_position": {},
   "toc_section_display": true,
   "toc_window_display": true
  },
  "varInspector": {
   "cols": {
    "lenName": 16,
    "lenType": 16,
    "lenVar": 40
   },
   "kernels_config": {
    "python": {
     "delete_cmd_postfix": "",
     "delete_cmd_prefix": "del ",
     "library": "var_list.py",
     "varRefreshCmd": "print(var_dic_list())"
    },
    "r": {
     "delete_cmd_postfix": ") ",
     "delete_cmd_prefix": "rm(",
     "library": "var_list.r",
     "varRefreshCmd": "cat(var_dic_list()) "
    }
   },
   "types_to_exclude": [
    "module",
    "function",
    "builtin_function_or_method",
    "instance",
    "_Feature"
   ],
   "window_display": false
  }
 },
 "nbformat": 4,
 "nbformat_minor": 5
}

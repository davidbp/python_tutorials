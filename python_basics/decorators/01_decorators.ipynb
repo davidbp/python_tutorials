{
 "cells": [
  {
   "cell_type": "markdown",
   "id": "nearby-graphic",
   "metadata": {},
   "source": [
    "# Python Decorators "
   ]
  },
  {
   "cell_type": "code",
   "execution_count": 81,
   "id": "analyzed-plymouth",
   "metadata": {},
   "outputs": [],
   "source": [
    "def my_decorator(func):\n",
    "    def wrapper():\n",
    "        print(\"Logic before func is called.\")\n",
    "        func()\n",
    "        print(\"Logic after func is called.\")\n",
    "    return wrapper\n",
    "\n",
    "def my_func():\n",
    "    print(\"my_func is executed\")\n",
    "\n",
    "deco_my_func = my_decorator(my_func)"
   ]
  },
  {
   "cell_type": "code",
   "execution_count": 82,
   "id": "bored-airport",
   "metadata": {},
   "outputs": [
    {
     "name": "stdout",
     "output_type": "stream",
     "text": [
      "Logic before func is called.\n",
      "my_func is executed\n",
      "Logic after func is called.\n"
     ]
    }
   ],
   "source": [
    "deco_my_func()"
   ]
  },
  {
   "cell_type": "markdown",
   "id": "clear-billion",
   "metadata": {},
   "source": [
    "The function decoration happens when calling `deco_my_func = my_decorator(my_func)`.\n",
    "\n",
    "Note that `my_decorator` returns a function. The function that returns is a wrapper to the input function `func`  that `my_decorator` recieves.\n"
   ]
  },
  {
   "cell_type": "code",
   "execution_count": 83,
   "id": "chubby-subdivision",
   "metadata": {},
   "outputs": [],
   "source": [
    "@my_decorator\n",
    "def my_func():\n",
    "    print(\"my_func is executed\")"
   ]
  },
  {
   "cell_type": "markdown",
   "id": "synthetic-shirt",
   "metadata": {},
   "source": [
    "Instead of writting\n",
    "\n",
    "```\n",
    "deco_my_func = my_decorator(my_func)\n",
    "```\n",
    "\n",
    "if a function is not meant to be used without the modification done by a decorator  there is the option of define a function with the decorator already in place using the notation `@my_decorator`."
   ]
  },
  {
   "cell_type": "code",
   "execution_count": 84,
   "id": "fossil-fantasy",
   "metadata": {},
   "outputs": [
    {
     "name": "stdout",
     "output_type": "stream",
     "text": [
      "Logic before func is called.\n",
      "my_func is executed\n",
      "Logic after func is called.\n"
     ]
    }
   ],
   "source": [
    "my_func()"
   ]
  },
  {
   "cell_type": "markdown",
   "id": "european-concrete",
   "metadata": {},
   "source": [
    "## Timer decorator"
   ]
  },
  {
   "cell_type": "code",
   "execution_count": 92,
   "id": "outer-soundtrack",
   "metadata": {},
   "outputs": [],
   "source": [
    "import time\n",
    "\n",
    "def timefunc(func):\n",
    "    \"\"\"Print the runtime of the decorated function\"\"\"\n",
    "    def wrapper(*args, **kwargs):\n",
    "        start_time = time.perf_counter()   \n",
    "        value = func(*args, **kwargs)\n",
    "        end_time = time.perf_counter()     \n",
    "        run_time = end_time - start_time   \n",
    "        print(f\"Finished {func.__name__!r} in {run_time:.4f} secs\")\n",
    "        return value\n",
    "    return wrapper\n",
    "\n",
    "\n",
    "def my_func(n):\n",
    "    aux = []\n",
    "    for _ in range(n):\n",
    "        r = sum([i**2 for i in range(n)])\n",
    "        aux.append(r)\n",
    "    return sum(aux)"
   ]
  },
  {
   "cell_type": "code",
   "execution_count": 99,
   "id": "celtic-reader",
   "metadata": {
    "scrolled": true
   },
   "outputs": [
    {
     "data": {
      "text/plain": [
       "32835000"
      ]
     },
     "execution_count": 99,
     "metadata": {},
     "output_type": "execute_result"
    }
   ],
   "source": [
    "my_func(100)"
   ]
  },
  {
   "cell_type": "markdown",
   "id": "fatal-twenty",
   "metadata": {},
   "source": [
    "We can time a function using\n",
    "\n",
    "```\n",
    "timefunc(some_function)(some_function_arguments)\n",
    "```\n"
   ]
  },
  {
   "cell_type": "code",
   "execution_count": 108,
   "id": "alternate-theater",
   "metadata": {},
   "outputs": [
    {
     "name": "stdout",
     "output_type": "stream",
     "text": [
      "Finished 'my_func' in 0.0981 secs\n"
     ]
    }
   ],
   "source": [
    "result = timefunc(my_func)(500)"
   ]
  },
  {
   "cell_type": "code",
   "execution_count": 111,
   "id": "sensitive-confusion",
   "metadata": {},
   "outputs": [
    {
     "data": {
      "text/plain": [
       "20770875000"
      ]
     },
     "execution_count": 111,
     "metadata": {},
     "output_type": "execute_result"
    }
   ],
   "source": [
    "result"
   ]
  },
  {
   "cell_type": "code",
   "execution_count": null,
   "id": "likely-fleece",
   "metadata": {},
   "outputs": [],
   "source": []
  },
  {
   "cell_type": "code",
   "execution_count": null,
   "id": "romantic-parallel",
   "metadata": {},
   "outputs": [],
   "source": []
  },
  {
   "cell_type": "code",
   "execution_count": null,
   "id": "fitting-laugh",
   "metadata": {},
   "outputs": [],
   "source": []
  },
  {
   "cell_type": "code",
   "execution_count": null,
   "id": "outdoor-dryer",
   "metadata": {},
   "outputs": [],
   "source": []
  },
  {
   "cell_type": "code",
   "execution_count": null,
   "id": "increased-joseph",
   "metadata": {},
   "outputs": [],
   "source": []
  },
  {
   "cell_type": "code",
   "execution_count": null,
   "id": "first-mexico",
   "metadata": {},
   "outputs": [],
   "source": []
  },
  {
   "cell_type": "code",
   "execution_count": null,
   "id": "honest-headquarters",
   "metadata": {},
   "outputs": [],
   "source": []
  }
 ],
 "metadata": {
  "kernelspec": {
   "display_name": "Python 3",
   "language": "python",
   "name": "python3"
  },
  "language_info": {
   "codemirror_mode": {
    "name": "ipython",
    "version": 3
   },
   "file_extension": ".py",
   "mimetype": "text/x-python",
   "name": "python",
   "nbconvert_exporter": "python",
   "pygments_lexer": "ipython3",
   "version": "3.9.2"
  }
 },
 "nbformat": 4,
 "nbformat_minor": 5
}

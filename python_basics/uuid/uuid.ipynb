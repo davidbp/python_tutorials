{
 "cells": [
  {
   "cell_type": "code",
   "execution_count": 49,
   "metadata": {
    "ExecuteTime": {
     "end_time": "2021-10-15T16:31:06.552857Z",
     "start_time": "2021-10-15T16:31:06.549432Z"
    }
   },
   "outputs": [],
   "source": [
    "import uuid"
   ]
  },
  {
   "cell_type": "markdown",
   "metadata": {},
   "source": [
    "\n",
    "# UUID \n",
    "\n",
    "A UUID is a universally unique identifier that is composed by a 128 bit label that is represented by 32 hexadecimal characters separated by  4 hyphens. That is, a string of the form `8-4-4-4-12` where the number represents the amount of hexadecimal numbers in each position.\n",
    "\n",
    "\n",
    " There are 5 standard UUID variants all of which follow the notation: ```xxxxxxxx-xxxx-Mxxx-Nxxx-xxxxxxxxxxxx``` where:\n",
    "- `M`  and `N` tell us the UUID type that is used.\n",
    "\n",
    "Depending on the variant the hexadecimals represented by `x` are generated differently.\n",
    "\n",
    "\n",
    "###### Note on hexadecimal numbers\n",
    "Recall that a hexadecimal is a base 16 number (or hex number) usually coded with symbols `0,1,2,3,4,5,6,7,8,9,a,b,c,d,e,f` for representing the numbers `0,1,2,3,4,5,6,7,8,9,10,11,12,13,14,15`. \n",
    "\n",
    "Note that each hexadecimal digit needs 4 bits to be represented. Therefore, a UUID that is composed of 32 hexadecimal numbers requires 128 (or 32*4) bits to be encoded.\n",
    "\n",
    "\n",
    "###### Types of UUIDs\n",
    "\n",
    "\n",
    "The different variants are\n",
    "\n",
    "- UUID1 (or UUID version 1) date-time and MAC adress\n",
    "\n",
    "\n",
    "- UUID2 (or UUID version 2) date-time and MAC address, DCE security version\n",
    "\n",
    "\n",
    "- UUID3 (or UUID version 3) namespace name-based\n",
    "\n",
    "\n",
    "- UUID4 (or UUID version 4) random\n",
    "\n",
    "\n",
    "- UUID5 (or UUID version 5) namespace name-based\n",
    "\n",
    "\n"
   ]
  },
  {
   "cell_type": "markdown",
   "metadata": {},
   "source": [
    "## uuid1"
   ]
  },
  {
   "cell_type": "code",
   "execution_count": 224,
   "metadata": {
    "ExecuteTime": {
     "end_time": "2021-10-15T17:39:12.834103Z",
     "start_time": "2021-10-15T17:39:12.829208Z"
    }
   },
   "outputs": [],
   "source": [
    "u1_1 = uuid.uuid1()\n",
    "u1_2 = uuid.uuid1()\n",
    "u1_3 = uuid.uuid1()"
   ]
  },
  {
   "cell_type": "code",
   "execution_count": 225,
   "metadata": {
    "ExecuteTime": {
     "end_time": "2021-10-15T17:39:13.015032Z",
     "start_time": "2021-10-15T17:39:13.009327Z"
    }
   },
   "outputs": [
    {
     "name": "stdout",
     "output_type": "stream",
     "text": [
      "cf76fff6-2dde-11ec-bb77-ac87a314bdf2\n",
      "cf77047e-2dde-11ec-bb77-ac87a314bdf2\n",
      "cf77082a-2dde-11ec-bb77-ac87a314bdf2\n"
     ]
    }
   ],
   "source": [
    "print(u1_1)\n",
    "print(u1_2)\n",
    "print(u1_3)"
   ]
  },
  {
   "cell_type": "markdown",
   "metadata": {},
   "source": [
    "##### Different UUID1 parts\n",
    "\n",
    "\n",
    "- Note that there first part of the UUID1 changes in all examples there is a part of the identifier and a change part, represented below with `c` and `f` respectively.\n",
    "\n",
    "     ```ccccccccc-ffff-ffff-ffff-ffffffffffff```\n",
    "\n",
    "    "
   ]
  },
  {
   "cell_type": "markdown",
   "metadata": {},
   "source": [
    "## uuid4"
   ]
  },
  {
   "cell_type": "code",
   "execution_count": 226,
   "metadata": {
    "ExecuteTime": {
     "end_time": "2021-10-15T17:44:39.993558Z",
     "start_time": "2021-10-15T17:44:39.987789Z"
    }
   },
   "outputs": [
    {
     "name": "stdout",
     "output_type": "stream",
     "text": [
      "1bb96b39-9c11-4ede-8d9c-b2b0cb31843a\n",
      "c7c4d657-4f0c-4e17-8e43-20a4b69d83c2\n",
      "c482ceeb-a17c-4474-9895-2213ed673a66\n",
      "9b65edb8-939f-476e-a2f9-12da80587c86\n",
      "76412a5a-a6c4-4cb8-a561-19929520ebac\n"
     ]
    }
   ],
   "source": [
    "for i in range(5):\n",
    "    print(uuid.uuid4())"
   ]
  },
  {
   "cell_type": "markdown",
   "metadata": {},
   "source": [
    "# Building UUIDs from scratch"
   ]
  },
  {
   "cell_type": "code",
   "execution_count": 227,
   "metadata": {
    "ExecuteTime": {
     "end_time": "2021-10-15T17:45:06.655429Z",
     "start_time": "2021-10-15T17:45:06.650466Z"
    }
   },
   "outputs": [
    {
     "data": {
      "text/plain": [
       "32"
      ]
     },
     "execution_count": 227,
     "metadata": {},
     "output_type": "execute_result"
    }
   ],
   "source": [
    "a = '00000000000040008000000000000000'\n",
    "len(a)"
   ]
  },
  {
   "cell_type": "code",
   "execution_count": null,
   "metadata": {},
   "outputs": [],
   "source": []
  },
  {
   "cell_type": "code",
   "execution_count": null,
   "metadata": {},
   "outputs": [],
   "source": []
  },
  {
   "cell_type": "code",
   "execution_count": null,
   "metadata": {},
   "outputs": [],
   "source": []
  },
  {
   "cell_type": "code",
   "execution_count": null,
   "metadata": {},
   "outputs": [],
   "source": []
  },
  {
   "cell_type": "code",
   "execution_count": null,
   "metadata": {},
   "outputs": [],
   "source": []
  }
 ],
 "metadata": {
  "kernelspec": {
   "display_name": "Python 3",
   "language": "python",
   "name": "python3"
  },
  "language_info": {
   "codemirror_mode": {
    "name": "ipython",
    "version": 3
   },
   "file_extension": ".py",
   "mimetype": "text/x-python",
   "name": "python",
   "nbconvert_exporter": "python",
   "pygments_lexer": "ipython3",
   "version": "3.7.3"
  },
  "toc": {
   "base_numbering": 1,
   "nav_menu": {},
   "number_sections": true,
   "sideBar": true,
   "skip_h1_title": false,
   "title_cell": "Table of Contents",
   "title_sidebar": "Contents",
   "toc_cell": false,
   "toc_position": {},
   "toc_section_display": true,
   "toc_window_display": false
  }
 },
 "nbformat": 4,
 "nbformat_minor": 4
}

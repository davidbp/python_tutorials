{
 "cells": [
  {
   "cell_type": "markdown",
   "id": "f396e2c0",
   "metadata": {},
   "source": [
    "## Binary data"
   ]
  },
  {
   "cell_type": "markdown",
   "id": "f54d75aa",
   "metadata": {},
   "source": [
    "We can convert a number to it´s binary representation using **`bin`**"
   ]
  },
  {
   "cell_type": "code",
   "execution_count": 1,
   "id": "df22a06b",
   "metadata": {
    "scrolled": true
   },
   "outputs": [
    {
     "data": {
      "text/plain": [
       "5"
      ]
     },
     "execution_count": 1,
     "metadata": {},
     "output_type": "execute_result"
    }
   ],
   "source": [
    "int(0b101)"
   ]
  },
  {
   "cell_type": "code",
   "execution_count": 273,
   "id": "ee2ee518",
   "metadata": {},
   "outputs": [
    {
     "data": {
      "text/plain": [
       "'0b110'"
      ]
     },
     "execution_count": 273,
     "metadata": {},
     "output_type": "execute_result"
    }
   ],
   "source": [
    "bin(6)"
   ]
  },
  {
   "cell_type": "markdown",
   "id": "99dc1092",
   "metadata": {},
   "source": [
    "We can use operations at bit level. For example the following operation takes the binary representation of a 6 and computes and AND operation with 10.\n",
    "\n",
    "That is 110 AND 010 = 010 which is 2"
   ]
  },
  {
   "cell_type": "code",
   "execution_count": 283,
   "id": "af960f7b",
   "metadata": {},
   "outputs": [
    {
     "data": {
      "text/plain": [
       "(2, 5)"
      ]
     },
     "execution_count": 283,
     "metadata": {},
     "output_type": "execute_result"
    }
   ],
   "source": [
    "6 & 0b010, 7 & 0b101"
   ]
  },
  {
   "cell_type": "code",
   "execution_count": 500,
   "id": "c7e14c6b",
   "metadata": {},
   "outputs": [
    {
     "data": {
      "text/plain": [
       "'0b10000'"
      ]
     },
     "execution_count": 500,
     "metadata": {},
     "output_type": "execute_result"
    }
   ],
   "source": [
    "bin(1 << 4)"
   ]
  },
  {
   "cell_type": "code",
   "execution_count": 502,
   "id": "106b172f",
   "metadata": {},
   "outputs": [
    {
     "data": {
      "text/plain": [
       "('0b111', '0b1110', '0b11100', '0b111000')"
      ]
     },
     "execution_count": 502,
     "metadata": {},
     "output_type": "execute_result"
    }
   ],
   "source": [
    "bin(0x8 << 4) \n",
    "bin(0x7 << 0), bin(0x7 << 1), bin(0x7 << 2), bin(0x7 << 3)"
   ]
  },
  {
   "cell_type": "markdown",
   "id": "ac9444c1",
   "metadata": {},
   "source": [
    "### Bitarray\n",
    "\n",
    "https://pypi.org/project/bitarray/"
   ]
  },
  {
   "cell_type": "code",
   "execution_count": 4,
   "id": "2d33f5bd",
   "metadata": {},
   "outputs": [],
   "source": [
    "from bitarray import bitarray"
   ]
  },
  {
   "cell_type": "code",
   "execution_count": 5,
   "id": "50b4e244",
   "metadata": {},
   "outputs": [
    {
     "data": {
      "text/plain": [
       "bitarray('10100')"
      ]
     },
     "execution_count": 5,
     "metadata": {},
     "output_type": "execute_result"
    }
   ],
   "source": [
    "x = bitarray(5)\n",
    "x"
   ]
  },
  {
   "cell_type": "code",
   "execution_count": 6,
   "id": "3038104d",
   "metadata": {},
   "outputs": [
    {
     "data": {
      "text/plain": [
       "bitarray('1010')"
      ]
     },
     "execution_count": 6,
     "metadata": {},
     "output_type": "execute_result"
    }
   ],
   "source": [
    "a = bitarray('1010')\n",
    "a"
   ]
  },
  {
   "cell_type": "code",
   "execution_count": 7,
   "id": "b55afd79",
   "metadata": {},
   "outputs": [
    {
     "name": "stdout",
     "output_type": "stream",
     "text": [
      "bitarray('00000110')\n",
      "b'\\x06'\n"
     ]
    }
   ],
   "source": [
    "a = bitarray(8)\n",
    "a.setall(0)\n",
    "a[5] = 1\n",
    "a[6] = 1\n",
    "print(a)\n",
    "print(a.tobytes())"
   ]
  },
  {
   "cell_type": "code",
   "execution_count": 8,
   "id": "91c58f2c",
   "metadata": {},
   "outputs": [
    {
     "name": "stdout",
     "output_type": "stream",
     "text": [
      "bitarray('10100000')\n",
      "b'\\xa0'\n"
     ]
    }
   ],
   "source": [
    "a = bitarray(8)\n",
    "a.setall(0)\n",
    "a[2] = 1\n",
    "a[0] = 1\n",
    "print(a)\n",
    "print(a.tobytes())"
   ]
  },
  {
   "cell_type": "markdown",
   "id": "a9ae7fe3",
   "metadata": {},
   "source": [
    "## Bytes"
   ]
  },
  {
   "cell_type": "code",
   "execution_count": 9,
   "id": "b5b4fe1b",
   "metadata": {},
   "outputs": [
    {
     "name": "stdout",
     "output_type": "stream",
     "text": [
      "b'\\x00\\x00'\n",
      "len(b)= 2\n"
     ]
    }
   ],
   "source": [
    "b = bytes(2)\n",
    "print(b)\n",
    "print('len(b)=', len(b))"
   ]
  },
  {
   "cell_type": "code",
   "execution_count": 10,
   "id": "d652e7fe",
   "metadata": {},
   "outputs": [
    {
     "name": "stdout",
     "output_type": "stream",
     "text": [
      "b'\\x01\\x0b\\x03\\xfe'\n",
      "len(b)= 4\n"
     ]
    }
   ],
   "source": [
    "b = bytes([1, 11, 3, 254])\n",
    "print(b)\n",
    "print('len(b)=', len(b))"
   ]
  },
  {
   "cell_type": "code",
   "execution_count": 11,
   "id": "c32f1615",
   "metadata": {
    "scrolled": true
   },
   "outputs": [
    {
     "data": {
      "text/plain": [
       "b'\\x0b\\x01\\x02\\x03\\x04\\x05\\x06\\x07\\x08\\t\\n\\x0b\\x0c\\r\\x0e\\x0f'"
      ]
     },
     "execution_count": 11,
     "metadata": {},
     "output_type": "execute_result"
    }
   ],
   "source": [
    "import uuid\n",
    "x = uuid.UUID('{0b010203-0405-0607-0809-0a0b0c0d0e0f}')\n",
    "x.bytes"
   ]
  },
  {
   "cell_type": "markdown",
   "id": "be2a6b42",
   "metadata": {},
   "source": [
    "The function random.randbytes (included in python 3.9) allows us to generate random bytes"
   ]
  },
  {
   "cell_type": "code",
   "execution_count": 12,
   "id": "202481d5",
   "metadata": {},
   "outputs": [
    {
     "ename": "ImportError",
     "evalue": "cannot import name 'randbytes' from 'random' (/Users/davidbuchaca/opt/anaconda3/lib/python3.8/random.py)",
     "output_type": "error",
     "traceback": [
      "\u001b[0;31m---------------------------------------------------------------------------\u001b[0m",
      "\u001b[0;31mImportError\u001b[0m                               Traceback (most recent call last)",
      "\u001b[0;32m<ipython-input-12-080f1e4433c2>\u001b[0m in \u001b[0;36m<module>\u001b[0;34m\u001b[0m\n\u001b[0;32m----> 1\u001b[0;31m \u001b[0;32mfrom\u001b[0m \u001b[0mrandom\u001b[0m \u001b[0;32mimport\u001b[0m \u001b[0mrandbytes\u001b[0m\u001b[0;34m\u001b[0m\u001b[0;34m\u001b[0m\u001b[0m\n\u001b[0m\u001b[1;32m      2\u001b[0m \u001b[0;34m\u001b[0m\u001b[0m\n\u001b[1;32m      3\u001b[0m \u001b[0mrandbytes\u001b[0m\u001b[0;34m(\u001b[0m\u001b[0;36m16\u001b[0m\u001b[0;34m)\u001b[0m\u001b[0;34m\u001b[0m\u001b[0;34m\u001b[0m\u001b[0m\n",
      "\u001b[0;31mImportError\u001b[0m: cannot import name 'randbytes' from 'random' (/Users/davidbuchaca/opt/anaconda3/lib/python3.8/random.py)"
     ]
    }
   ],
   "source": [
    "from random import randbytes\n",
    "\n",
    "randbytes(16)"
   ]
  },
  {
   "cell_type": "code",
   "execution_count": 406,
   "id": "a472331f",
   "metadata": {},
   "outputs": [
    {
     "name": "stdout",
     "output_type": "stream",
     "text": [
      "2.01 µs ± 58.5 ns per loop (mean ± std. dev. of 7 runs, 100000 loops each)\n"
     ]
    }
   ],
   "source": [
    "import os\n",
    "%timeit os.urandom(10)\n"
   ]
  },
  {
   "cell_type": "code",
   "execution_count": 13,
   "id": "d8108f35",
   "metadata": {},
   "outputs": [
    {
     "data": {
      "text/plain": [
       "157"
      ]
     },
     "execution_count": 13,
     "metadata": {},
     "output_type": "execute_result"
    }
   ],
   "source": [
    "import random\n",
    "random.getrandbits(8)"
   ]
  },
  {
   "cell_type": "code",
   "execution_count": 14,
   "id": "24338a85",
   "metadata": {},
   "outputs": [],
   "source": [
    "import random\n",
    "N = 100000\n",
    "bits = random.getrandbits(N)"
   ]
  },
  {
   "cell_type": "code",
   "execution_count": 15,
   "id": "11a3477d",
   "metadata": {},
   "outputs": [
    {
     "name": "stdout",
     "output_type": "stream",
     "text": [
      "1.9 µs ± 131 ns per loop (mean ± std. dev. of 7 runs, 100000 loops each)\n"
     ]
    }
   ],
   "source": [
    "%timeit bytearray((random.getrandbits(8) for i in range(16)))"
   ]
  },
  {
   "cell_type": "code",
   "execution_count": 16,
   "id": "0fb9ea7d",
   "metadata": {},
   "outputs": [
    {
     "name": "stdout",
     "output_type": "stream",
     "text": [
      "112 ns ± 3.66 ns per loop (mean ± std. dev. of 7 runs, 10000000 loops each)\n"
     ]
    }
   ],
   "source": [
    "%timeit random.getrandbits(128)"
   ]
  },
  {
   "cell_type": "code",
   "execution_count": 17,
   "id": "b5ce9aa3",
   "metadata": {},
   "outputs": [
    {
     "data": {
      "text/plain": [
       "'0b10011101111110011110111000110100001011111010000111100010111010010100001000001000010001000000000110110011000110110111100100100111'"
      ]
     },
     "execution_count": 17,
     "metadata": {},
     "output_type": "execute_result"
    }
   ],
   "source": [
    "bin(random.getrandbits(128))"
   ]
  },
  {
   "cell_type": "code",
   "execution_count": 18,
   "id": "33ce7fe4",
   "metadata": {},
   "outputs": [],
   "source": [
    "?random.getrandbits"
   ]
  },
  {
   "cell_type": "code",
   "execution_count": 19,
   "id": "a1bed77b",
   "metadata": {},
   "outputs": [
    {
     "data": {
      "text/plain": [
       "60918683762361551615632537392054648668"
      ]
     },
     "execution_count": 19,
     "metadata": {},
     "output_type": "execute_result"
    }
   ],
   "source": [
    "i = random.getrandbits(128)\n",
    "i"
   ]
  },
  {
   "cell_type": "code",
   "execution_count": 73,
   "id": "02730a32",
   "metadata": {},
   "outputs": [
    {
     "data": {
      "text/plain": [
       "'  111101010011101000001001001010101110111100100110110111110001000100001010001111101100100001000010111011110110011001000010111101'"
      ]
     },
     "execution_count": 73,
     "metadata": {},
     "output_type": "execute_result"
    }
   ],
   "source": [
    "format(i, '128b')"
   ]
  },
  {
   "cell_type": "markdown",
   "id": "ed56ad30",
   "metadata": {},
   "source": [
    "We can get an array of bytes representing an integer `i` using `i.to_bytes()`"
   ]
  },
  {
   "cell_type": "code",
   "execution_count": 90,
   "id": "78fdc524",
   "metadata": {},
   "outputs": [
    {
     "data": {
      "text/plain": [
       "16"
      ]
     },
     "execution_count": 90,
     "metadata": {},
     "output_type": "execute_result"
    }
   ],
   "source": [
    "zero_one_string = format(i, '128b')\n",
    "n_bytes = (len(zero_one_string) + 7) // 8\n",
    "barray = int(zero_one_string, 2).to_bytes(n_bytes, byteorder='big')\n",
    "len(barray)"
   ]
  },
  {
   "cell_type": "markdown",
   "id": "f4b31a18",
   "metadata": {},
   "source": [
    "Here byteorder states he byte order used to represent the integer. \n",
    "- If byteorder is `'big'`, the most significant byte is at the beginning of the byte array. \n",
    "\n",
    "- If byteorder is `'little'`, the most significant byte is at the end of the\n",
    "  byte array.  "
   ]
  },
  {
   "cell_type": "code",
   "execution_count": 173,
   "id": "1d38758f",
   "metadata": {},
   "outputs": [
    {
     "name": "stdout",
     "output_type": "stream",
     "text": [
      "b'\\x01\\x18'\n",
      "b'\\x18\\x01'\n"
     ]
    }
   ],
   "source": [
    "i = 280\n",
    "\n",
    "x_big = i.to_bytes(2, 'big')\n",
    "x_little = i.to_bytes(2, 'little')\n",
    "\n",
    "print(x_big)\n",
    "print(x_little)"
   ]
  },
  {
   "cell_type": "code",
   "execution_count": 174,
   "id": "0a3b68dd",
   "metadata": {},
   "outputs": [
    {
     "data": {
      "text/plain": [
       "b'\\x18\\x01'"
      ]
     },
     "execution_count": 174,
     "metadata": {},
     "output_type": "execute_result"
    }
   ],
   "source": [
    "x_little"
   ]
  },
  {
   "cell_type": "markdown",
   "id": "1024b5ae",
   "metadata": {},
   "source": [
    "We can interpret bytes as ints with `int.from_bytes`"
   ]
  },
  {
   "cell_type": "code",
   "execution_count": 177,
   "id": "44108a38",
   "metadata": {},
   "outputs": [
    {
     "name": "stdout",
     "output_type": "stream",
     "text": [
      "280\n",
      "280\n"
     ]
    }
   ],
   "source": [
    "print(int.from_bytes(x_big, byteorder='big'))\n",
    "print(int.from_bytes(x_little, byteorder='little'))"
   ]
  },
  {
   "cell_type": "markdown",
   "id": "08c19726",
   "metadata": {},
   "source": [
    "Note that if we don´t pass the correct byteorder the results might not be what we expect"
   ]
  },
  {
   "cell_type": "code",
   "execution_count": 135,
   "id": "0726c136",
   "metadata": {},
   "outputs": [
    {
     "name": "stdout",
     "output_type": "stream",
     "text": [
      "6145\n",
      "6145\n"
     ]
    }
   ],
   "source": [
    "print(int.from_bytes(x_big, byteorder='little'))\n",
    "print(int.from_bytes(x_little, byteorder='big'))"
   ]
  },
  {
   "cell_type": "markdown",
   "id": "f5ef35f2",
   "metadata": {},
   "source": [
    "What is happening here?\n",
    "\n",
    "The bytes are interpretted differently depending on the byteorder."
   ]
  },
  {
   "cell_type": "code",
   "execution_count": 182,
   "id": "b23b4433",
   "metadata": {},
   "outputs": [
    {
     "name": "stdout",
     "output_type": "stream",
     "text": [
      "b'\\x01\\x18'\n",
      "280\n",
      "280\n"
     ]
    }
   ],
   "source": [
    "print(x_big)\n",
    "\n",
    "# Here * indicates the most significant bit (the one in the left because it´s big)\n",
    "#     *\n",
    "# b'\\x01\\x18'\n",
    "\n",
    "# from right to the left\n",
    "print(8*16**0 + 1*16**1 + 1*16**2 + 0*16**3)\n",
    "\n",
    "# from left to right\n",
    "print(0*16**3 + 1*16**2 + 1*16**1 + 8*16**0)"
   ]
  },
  {
   "cell_type": "code",
   "execution_count": 187,
   "id": "68ff2062",
   "metadata": {},
   "outputs": [
    {
     "name": "stdout",
     "output_type": "stream",
     "text": [
      "b'\\x18\\x01'\n",
      "4225\n",
      "6145\n"
     ]
    }
   ],
   "source": [
    "print(x_little)\n",
    "\n",
    "# Here * indicates the most significant bit (the one in the left because it´s little)\n",
    "#          *\n",
    "# b'\\x18\\x01'\n",
    "\n",
    "# from right to left coef\n",
    "print(1*16**0 + 8*16**1 + 0*16**2 + 1*16**3)\n",
    "\n",
    "# from left to right coef\n",
    "print(1*16**3 + 8*16**2+ 0*16**1 + 1*16**0)"
   ]
  },
  {
   "cell_type": "code",
   "execution_count": 23,
   "id": "402ac84e",
   "metadata": {},
   "outputs": [],
   "source": [
    "def create_random_bytes():\n",
    "    i = random.getrandbits(128)\n",
    "    zero_one_string = format(i, '128b')\n",
    "    barray = int(zero_one_string, 2).to_bytes((len(zero_one_string) + 7) // 8, 'big')\n",
    "    return barray"
   ]
  },
  {
   "cell_type": "code",
   "execution_count": 24,
   "id": "4690d20f",
   "metadata": {},
   "outputs": [
    {
     "name": "stdout",
     "output_type": "stream",
     "text": [
      "1.04 µs ± 31.1 ns per loop (mean ± std. dev. of 7 runs, 1000000 loops each)\n"
     ]
    }
   ],
   "source": [
    "%timeit create_random_bytes()"
   ]
  },
  {
   "cell_type": "code",
   "execution_count": 200,
   "id": "b0ce87af",
   "metadata": {},
   "outputs": [],
   "source": [
    "def create_random_bytes2():\n",
    "    random.seed(123)\n",
    "    i = random.getrandbits(128)\n",
    "    barray = i.to_bytes((128 + 7) // 8, 'big')\n",
    "    return barray"
   ]
  },
  {
   "cell_type": "code",
   "execution_count": 26,
   "id": "90f11ad2",
   "metadata": {},
   "outputs": [
    {
     "name": "stdout",
     "output_type": "stream",
     "text": [
      "275 ns ± 2.82 ns per loop (mean ± std. dev. of 7 runs, 1000000 loops each)\n"
     ]
    }
   ],
   "source": [
    "%timeit create_random_bytes2()"
   ]
  },
  {
   "cell_type": "code",
   "execution_count": 201,
   "id": "44213c3c",
   "metadata": {},
   "outputs": [],
   "source": [
    "x = create_random_bytes2()"
   ]
  },
  {
   "cell_type": "code",
   "execution_count": 202,
   "id": "3ec47600",
   "metadata": {},
   "outputs": [],
   "source": [
    "# [hex(x_k) for x_k in x]"
   ]
  },
  {
   "cell_type": "code",
   "execution_count": 198,
   "id": "20834b49",
   "metadata": {},
   "outputs": [],
   "source": [
    "def create_random_bytes3():\n",
    "    random.seed(123)\n",
    "    i = random.getrandbits(128)\n",
    "    barray = i.to_bytes((128 + 7) // 8, 'big')\n",
    "    return bytearray(barray)"
   ]
  },
  {
   "cell_type": "code",
   "execution_count": 199,
   "id": "9c2a1eb4",
   "metadata": {},
   "outputs": [
    {
     "data": {
      "text/plain": [
       "bytearray(b'\\xc4\\xdaS|\\x16Q\\xdd\\xaeD\\x86}\\xb3\\rg\\xb3f')"
      ]
     },
     "execution_count": 199,
     "metadata": {},
     "output_type": "execute_result"
    }
   ],
   "source": [
    "create_random_bytes3()"
   ]
  },
  {
   "cell_type": "code",
   "execution_count": 42,
   "id": "2d7b33f5",
   "metadata": {},
   "outputs": [
    {
     "name": "stdout",
     "output_type": "stream",
     "text": [
      "409 ns ± 8.04 ns per loop (mean ± std. dev. of 7 runs, 1000000 loops each)\n"
     ]
    }
   ],
   "source": [
    "%timeit create_random_bytes3()"
   ]
  },
  {
   "cell_type": "markdown",
   "id": "41e6fbed",
   "metadata": {},
   "source": [
    "We can modify a byte from a bytearray "
   ]
  },
  {
   "cell_type": "code",
   "execution_count": 299,
   "id": "bc7379ed",
   "metadata": {
    "scrolled": true
   },
   "outputs": [
    {
     "name": "stdout",
     "output_type": "stream",
     "text": [
      "c4da537c-1651-ddae-4486-7db30d67b366\n",
      "c4da537c-1651-40ae-4486-7db30d67b366\n"
     ]
    }
   ],
   "source": [
    "# hexadecimal format uuid: 8-4-4-4-12\n",
    "# byte format uuid: 4-2-2-2-8\n",
    "\n",
    "x = bytearray(create_random_bytes2())\n",
    "print(uuid.UUID(bytes = bytes(x)))\n",
    "\n",
    "x = bytearray(create_random_bytes2())\n",
    "x[6:7] = b'\\x40'\n",
    "print(uuid.UUID(bytes = bytes(x)))"
   ]
  },
  {
   "cell_type": "markdown",
   "id": "1e822ec2",
   "metadata": {},
   "source": [
    "What if we want to modify only the upper part of a byte?\n",
    "\n",
    "Note that to generate a UUID of version 4 we only want to modify the first hexadecimal in the first part of the byte from position 7. Nevertheless, we can´t do this directly at bytearray level."
   ]
  },
  {
   "cell_type": "code",
   "execution_count": 319,
   "id": "e9035c72",
   "metadata": {},
   "outputs": [
    {
     "name": "stdout",
     "output_type": "stream",
     "text": [
      "bytearray(b'\\xff\\xff')\n",
      "bytearray(b'\\x00\\xff')\n"
     ]
    }
   ],
   "source": [
    "x = bytearray(b'\\xff\\xff')\n",
    "print(x)\n",
    "x[0] = 0\n",
    "print(x)"
   ]
  },
  {
   "cell_type": "code",
   "execution_count": 345,
   "id": "87fd216f",
   "metadata": {},
   "outputs": [
    {
     "data": {
      "text/plain": [
       "255"
      ]
     },
     "execution_count": 345,
     "metadata": {},
     "output_type": "execute_result"
    }
   ],
   "source": [
    "int.from_bytes(b'\\xff', byteorder=\"little\") "
   ]
  },
  {
   "cell_type": "markdown",
   "id": "4445c12a",
   "metadata": {},
   "source": [
    "Modify nibble (hex characters) from byte: https://stackoverflow.com/questions/52535980/how-to-set-bits-within-a-bytes-object-that-represents-hex-symbols-in-python?rq=1\n",
    "\n",
    "https://stackoverflow.com/questions/42896154/python-split-byte-into-high-low-nibbles\n",
    "\n",
    "\n",
    "The following cell shows how the first byte from the bytearray is modified in a way that only the first nibble (first halve of the byte) is modified. The bytearray initially contains `[ff,bb]` and we convert it to `[af,bb]`, modifying only the first nibble of the first byte."
   ]
  },
  {
   "cell_type": "code",
   "execution_count": 407,
   "id": "8e309e82",
   "metadata": {},
   "outputs": [
    {
     "data": {
      "text/plain": [
       "bytearray(b'\\xaf\\xbb')"
      ]
     },
     "execution_count": 407,
     "metadata": {},
     "output_type": "execute_result"
    }
   ],
   "source": [
    "x = bytearray(b'\\xff\\xbb')\n",
    "x[0] = (0xa << 4) | (x[0] & 0xf) \n",
    "x"
   ]
  },
  {
   "cell_type": "code",
   "execution_count": 408,
   "id": "ef3d71ff",
   "metadata": {},
   "outputs": [
    {
     "data": {
      "text/plain": [
       "'0b10101111'"
      ]
     },
     "execution_count": 408,
     "metadata": {},
     "output_type": "execute_result"
    }
   ],
   "source": [
    "bin((0xa << 4) + (x[0] & 0xf))"
   ]
  },
  {
   "cell_type": "code",
   "execution_count": 409,
   "id": "c063549b",
   "metadata": {},
   "outputs": [
    {
     "data": {
      "text/plain": [
       "'0b10101111'"
      ]
     },
     "execution_count": 409,
     "metadata": {},
     "output_type": "execute_result"
    }
   ],
   "source": [
    "bin((0xa << 4) | (x[0] & 0xf))"
   ]
  },
  {
   "cell_type": "code",
   "execution_count": 418,
   "id": "baaf33de",
   "metadata": {},
   "outputs": [
    {
     "data": {
      "text/plain": [
       "'0b10100000'"
      ]
     },
     "execution_count": 418,
     "metadata": {},
     "output_type": "execute_result"
    }
   ],
   "source": [
    "bin((0xa << 4))"
   ]
  },
  {
   "cell_type": "markdown",
   "id": "b997eeb0",
   "metadata": {},
   "source": [
    "Using this trick we can modify the first nibble of the first byte in the third block of a UUID to state the UUID version to 4 (for example)."
   ]
  },
  {
   "cell_type": "code",
   "execution_count": 426,
   "id": "302b0ad2",
   "metadata": {},
   "outputs": [
    {
     "name": "stdout",
     "output_type": "stream",
     "text": [
      "c4da537c-1651-ddae-4486-7db30d67b366\n",
      "c4da537c-1651-4dae-4486-7db30d67b366\n"
     ]
    }
   ],
   "source": [
    "# hexadecimal format uuid: 8-4-4-4-12\n",
    "# byte format uuid: 4-2-2-2-8\n",
    "\n",
    "x = bytearray(create_random_bytes2())\n",
    "print(uuid.UUID(bytes = bytes(x)))\n",
    "\n",
    "x = bytearray(create_random_bytes2())\n",
    "x[6] = (0x4 << 4) | (x[6] & 0xf) \n",
    "print(uuid.UUID(bytes = bytes(x)))"
   ]
  },
  {
   "cell_type": "code",
   "execution_count": 443,
   "id": "05b69302",
   "metadata": {},
   "outputs": [
    {
     "name": "stdout",
     "output_type": "stream",
     "text": [
      "0xff 0xf 0xaf\n"
     ]
    }
   ],
   "source": [
    "byte = int('ff', 16)\n",
    "high, low = byte >> 4, byte & 0xaF\n",
    "print(hex(byte), hex(high), hex(low))"
   ]
  },
  {
   "cell_type": "markdown",
   "id": "ec1e6da0",
   "metadata": {},
   "source": [
    "set the two most significant bits of the 9th byte to 10'B, \n",
    "so the high nibble will be one of `{8,9,A,B}`.\n",
    "\n",
    "abData[8] = 0x80 | (abData[8] & 0x3f);"
   ]
  },
  {
   "cell_type": "code",
   "execution_count": 503,
   "id": "0a4d6a63",
   "metadata": {},
   "outputs": [
    {
     "name": "stdout",
     "output_type": "stream",
     "text": [
      "5a6d0c82-364d-469c-be05-89cf06b0cb7d\n"
     ]
    }
   ],
   "source": [
    "def create_random_bytes2(seed):\n",
    "    random.seed(seed)\n",
    "    i = random.getrandbits(128)\n",
    "    barray = i.to_bytes((128 + 7) // 8, 'big')\n",
    "    return barray\n",
    "\n",
    "x = bytearray(create_random_bytes2(1238))\n",
    "x[6] = (0x4 << 4) | (x[6] & 0xf) \n",
    "x[8] = (0x8 << 4) | (x[8] & 0x3f) \n",
    "print(uuid.UUID(bytes = bytes(x)))"
   ]
  },
  {
   "cell_type": "markdown",
   "id": "8050f2b5",
   "metadata": {},
   "source": [
    "#### Creating a UUID4 from scratch"
   ]
  },
  {
   "cell_type": "code",
   "execution_count": 510,
   "id": "361c0469",
   "metadata": {},
   "outputs": [],
   "source": [
    "def create_random_bytes_for_uuid_4(seed):\n",
    "    random.seed(seed)\n",
    "    i = random.getrandbits(128)\n",
    "    barray = bytearray(i.to_bytes((128 + 7) // 8, 'big'))\n",
    "    barray[6] = (0x4 << 4) | (barray[6] & 0xf) \n",
    "    barray[8] = (0x8 << 4) | (barray[8] & 0x3f) \n",
    "    return barray\n"
   ]
  },
  {
   "cell_type": "code",
   "execution_count": 518,
   "id": "0183cc5d",
   "metadata": {},
   "outputs": [
    {
     "name": "stdout",
     "output_type": "stream",
     "text": [
      "7.88 µs ± 353 ns per loop (mean ± std. dev. of 7 runs, 100000 loops each)\n"
     ]
    }
   ],
   "source": [
    "%timeit r = create_random_bytes_for_uuid_4(12)"
   ]
  },
  {
   "cell_type": "code",
   "execution_count": 547,
   "id": "2349d8b5",
   "metadata": {},
   "outputs": [],
   "source": [
    "import binascii\n",
    "r = create_random_bytes_for_uuid_4(12)\n",
    "r_str = binascii.hexlify(r).decode('ascii')"
   ]
  },
  {
   "cell_type": "code",
   "execution_count": 548,
   "id": "d5bce184",
   "metadata": {},
   "outputs": [
    {
     "data": {
      "text/plain": [
       "'87751d4c-a850-4e2c-84dc-da6a797d76de'"
      ]
     },
     "execution_count": 548,
     "metadata": {},
     "output_type": "execute_result"
    }
   ],
   "source": [
    "res = r_str[0:8] + '-' +r_str[8:12] + '-' + r_str[12:16] + '-' + r_str[16:20]+ '-' + r_str[20:]\n",
    "res"
   ]
  },
  {
   "cell_type": "code",
   "execution_count": 549,
   "id": "58a8c94f",
   "metadata": {},
   "outputs": [],
   "source": [
    "def create_uuid_4(seed):\n",
    "    barray = create_random_bytes_for_uuid_4(seed)\n",
    "    r_str = binascii.hexlify(barray).decode('ascii')\n",
    "    return r_str[0:8] + '-' +r_str[8:12] + '-' + r_str[12:16] + '-' + r_str[16:20]+ '-' + r_str[20:]\n"
   ]
  },
  {
   "cell_type": "code",
   "execution_count": 551,
   "id": "01e89241",
   "metadata": {},
   "outputs": [
    {
     "name": "stdout",
     "output_type": "stream",
     "text": [
      "9.57 µs ± 316 ns per loop (mean ± std. dev. of 7 runs, 100000 loops each)\n"
     ]
    }
   ],
   "source": [
    "%timeit create_uuid_4(12)"
   ]
  },
  {
   "cell_type": "markdown",
   "id": "821da730",
   "metadata": {},
   "source": [
    "### Speed up create uuid 4 with cython"
   ]
  },
  {
   "cell_type": "code",
   "execution_count": null,
   "id": "91d6bae9",
   "metadata": {},
   "outputs": [],
   "source": []
  },
  {
   "cell_type": "code",
   "execution_count": null,
   "id": "00b97006",
   "metadata": {},
   "outputs": [],
   "source": []
  },
  {
   "cell_type": "code",
   "execution_count": null,
   "id": "2a712e38",
   "metadata": {},
   "outputs": [],
   "source": []
  },
  {
   "cell_type": "code",
   "execution_count": null,
   "id": "c6c52750",
   "metadata": {},
   "outputs": [],
   "source": []
  },
  {
   "cell_type": "markdown",
   "id": "342b93d6",
   "metadata": {},
   "source": [
    "## Bytearray"
   ]
  },
  {
   "cell_type": "code",
   "execution_count": 188,
   "id": "0f6310b1",
   "metadata": {},
   "outputs": [
    {
     "name": "stdout",
     "output_type": "stream",
     "text": [
      "bytearray(b'\\x00\\x00\\x00')\n",
      "len(b)= 3\n"
     ]
    }
   ],
   "source": [
    "b = bytearray(3)\n",
    "print(b)\n",
    "print('len(b)=', len(b))"
   ]
  },
  {
   "cell_type": "code",
   "execution_count": 194,
   "id": "400ab7d9",
   "metadata": {},
   "outputs": [
    {
     "data": {
      "text/plain": [
       "bytearray(b'\\xff\\x00\\x00')"
      ]
     },
     "execution_count": 194,
     "metadata": {},
     "output_type": "execute_result"
    }
   ],
   "source": [
    "b = bytearray(3)\n",
    "b[0]=255\n",
    "b"
   ]
  },
  {
   "cell_type": "code",
   "execution_count": 197,
   "id": "40376e6d",
   "metadata": {},
   "outputs": [
    {
     "data": {
      "text/plain": [
       "bytearray(b'\\x00\\x00\\xff')"
      ]
     },
     "execution_count": 197,
     "metadata": {},
     "output_type": "execute_result"
    }
   ],
   "source": [
    "b = bytearray(3)\n",
    "b[2]=255\n",
    "b"
   ]
  },
  {
   "cell_type": "code",
   "execution_count": 201,
   "id": "9c426ac8",
   "metadata": {},
   "outputs": [
    {
     "name": "stdout",
     "output_type": "stream",
     "text": [
      "bytearray(b'\\x00\\x00\\x00')\n",
      "bytearray(b'\\x00\\x00\\x00\\x05')\n"
     ]
    }
   ],
   "source": [
    "b = bytearray(3)\n",
    "print(b)\n",
    "b.append(5)\n",
    "print(b)"
   ]
  },
  {
   "cell_type": "code",
   "execution_count": 249,
   "id": "e404f00f",
   "metadata": {
    "scrolled": true
   },
   "outputs": [
    {
     "name": "stdout",
     "output_type": "stream",
     "text": [
      "bytearray(b'\\x00\\x00A')\n"
     ]
    }
   ],
   "source": [
    "b = bytearray(3)\n",
    "b[2:3] = b'\\x41'\n",
    "print(b)"
   ]
  },
  {
   "cell_type": "markdown",
   "id": "90a14471",
   "metadata": {},
   "source": [
    "There are objects, such as a UUID, that can be created from bytes data"
   ]
  },
  {
   "cell_type": "code",
   "execution_count": 383,
   "id": "35ffd4b1",
   "metadata": {},
   "outputs": [
    {
     "name": "stdout",
     "output_type": "stream",
     "text": [
      "995 ns ± 12.7 ns per loop (mean ± std. dev. of 7 runs, 1000000 loops each)\n"
     ]
    }
   ],
   "source": [
    "%timeit uuid.UUID(bytes=b'\\x0b\\x01\\x02\\x03\\x04\\x05\\x06\\x07\\x08\\t\\n\\x0b\\x0c\\r\\x0e\\x0f')"
   ]
  },
  {
   "cell_type": "code",
   "execution_count": 388,
   "id": "2a33c6b8",
   "metadata": {},
   "outputs": [
    {
     "name": "stdout",
     "output_type": "stream",
     "text": [
      "3.75 µs ± 43 ns per loop (mean ± std. dev. of 7 runs, 100000 loops each)\n"
     ]
    }
   ],
   "source": [
    "%timeit uuid.uuid4()"
   ]
  },
  {
   "cell_type": "code",
   "execution_count": 389,
   "id": "26c83e66",
   "metadata": {},
   "outputs": [
    {
     "data": {
      "text/plain": [
       "16"
      ]
     },
     "execution_count": 389,
     "metadata": {},
     "output_type": "execute_result"
    }
   ],
   "source": [
    "len(b'\\x0b\\x01\\x02\\x03\\x04\\x05\\x06\\x07\\x08\\t\\n\\x0b\\x0c\\r\\x0e\\x0f')"
   ]
  },
  {
   "cell_type": "code",
   "execution_count": null,
   "id": "2e48c90e",
   "metadata": {},
   "outputs": [],
   "source": []
  },
  {
   "cell_type": "markdown",
   "id": "f5f1081d",
   "metadata": {},
   "source": [
    "## Hexadecimal"
   ]
  },
  {
   "cell_type": "code",
   "execution_count": 64,
   "id": "15bdc544",
   "metadata": {},
   "outputs": [
    {
     "data": {
      "text/plain": [
       "(255, 32, 10)"
      ]
     },
     "execution_count": 64,
     "metadata": {},
     "output_type": "execute_result"
    }
   ],
   "source": [
    "int('0xff', 16), int('0x20', 16), int('0x0a', 16)"
   ]
  },
  {
   "cell_type": "code",
   "execution_count": 68,
   "id": "7723392e",
   "metadata": {},
   "outputs": [
    {
     "data": {
      "text/plain": [
       "'0b10000'"
      ]
     },
     "execution_count": 68,
     "metadata": {},
     "output_type": "execute_result"
    }
   ],
   "source": []
  },
  {
   "cell_type": "code",
   "execution_count": null,
   "id": "b1f98cac",
   "metadata": {},
   "outputs": [],
   "source": []
  },
  {
   "cell_type": "code",
   "execution_count": null,
   "id": "2848e6da",
   "metadata": {},
   "outputs": [],
   "source": []
  },
  {
   "cell_type": "markdown",
   "id": "fa4c9b1c",
   "metadata": {},
   "source": [
    "## Bits\n",
    "\n",
    "\n",
    "```\n",
    "Transformations Summary\n",
    "\n",
    "Strings to Integers:\n",
    "\n",
    "\"1011101101\": int(str, 2)\n",
    "\"m\": ord(str)\n",
    "\"0xdecafbad\": int(str, 16) (known to work in Python 2.4)\n",
    "\"decafbad\": int(str, 16) (known to work in Python 2.4)\n",
    "Integers to Strings:\n",
    "\n",
    "\"1011101101\": built-in to Python 3 (see below)\n",
    "\"m\": chr(str)\n",
    "\"0xdecafbad\": hex(val)\n",
    "\"decafbad\": \"%x\" % val\n",
    "```"
   ]
  },
  {
   "cell_type": "code",
   "execution_count": 32,
   "id": "0ced1519",
   "metadata": {},
   "outputs": [
    {
     "name": "stdout",
     "output_type": "stream",
     "text": [
      "5\n"
     ]
    }
   ],
   "source": [
    "print(int('000101', 2))"
   ]
  },
  {
   "cell_type": "code",
   "execution_count": null,
   "id": "3233713a",
   "metadata": {},
   "outputs": [],
   "source": []
  },
  {
   "cell_type": "code",
   "execution_count": null,
   "id": "e33e95ea",
   "metadata": {},
   "outputs": [],
   "source": []
  },
  {
   "cell_type": "code",
   "execution_count": null,
   "id": "3c71cccd",
   "metadata": {},
   "outputs": [],
   "source": []
  },
  {
   "cell_type": "code",
   "execution_count": null,
   "id": "a38f4409",
   "metadata": {},
   "outputs": [],
   "source": []
  }
 ],
 "metadata": {
  "kernelspec": {
   "display_name": "Python 3",
   "language": "python",
   "name": "python3"
  },
  "language_info": {
   "codemirror_mode": {
    "name": "ipython",
    "version": 3
   },
   "file_extension": ".py",
   "mimetype": "text/x-python",
   "name": "python",
   "nbconvert_exporter": "python",
   "pygments_lexer": "ipython3",
   "version": "3.8.8"
  }
 },
 "nbformat": 4,
 "nbformat_minor": 5
}

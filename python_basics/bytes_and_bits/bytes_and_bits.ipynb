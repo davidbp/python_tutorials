{
 "cells": [
  {
   "cell_type": "markdown",
   "id": "f396e2c0",
   "metadata": {},
   "source": [
    "## Binary data"
   ]
  },
  {
   "cell_type": "markdown",
   "id": "f54d75aa",
   "metadata": {},
   "source": [
    "We can convert a number to it´s binary representation using **`bin`**"
   ]
  },
  {
   "cell_type": "code",
   "execution_count": 393,
   "id": "df22a06b",
   "metadata": {
    "scrolled": true
   },
   "outputs": [
    {
     "data": {
      "text/plain": [
       "5"
      ]
     },
     "execution_count": 393,
     "metadata": {},
     "output_type": "execute_result"
    }
   ],
   "source": [
    "int(0b101)"
   ]
  },
  {
   "cell_type": "code",
   "execution_count": 85,
   "id": "ee2ee518",
   "metadata": {},
   "outputs": [
    {
     "data": {
      "text/plain": [
       "'0b110'"
      ]
     },
     "execution_count": 85,
     "metadata": {},
     "output_type": "execute_result"
    }
   ],
   "source": [
    "bin(6)"
   ]
  },
  {
   "cell_type": "code",
   "execution_count": 390,
   "id": "c7e14c6b",
   "metadata": {},
   "outputs": [
    {
     "data": {
      "text/plain": [
       "'0b10000'"
      ]
     },
     "execution_count": 390,
     "metadata": {},
     "output_type": "execute_result"
    }
   ],
   "source": [
    "bin(1 << 4)"
   ]
  },
  {
   "cell_type": "markdown",
   "id": "ac9444c1",
   "metadata": {},
   "source": [
    "### Bitarray\n",
    "\n",
    "https://pypi.org/project/bitarray/"
   ]
  },
  {
   "cell_type": "code",
   "execution_count": 293,
   "id": "2d33f5bd",
   "metadata": {},
   "outputs": [],
   "source": [
    "from bitarray import bitarray"
   ]
  },
  {
   "cell_type": "code",
   "execution_count": 294,
   "id": "50b4e244",
   "metadata": {},
   "outputs": [
    {
     "data": {
      "text/plain": [
       "bitarray('11100')"
      ]
     },
     "execution_count": 294,
     "metadata": {},
     "output_type": "execute_result"
    }
   ],
   "source": [
    "x = bitarray(5)\n",
    "x"
   ]
  },
  {
   "cell_type": "code",
   "execution_count": 295,
   "id": "3038104d",
   "metadata": {},
   "outputs": [
    {
     "data": {
      "text/plain": [
       "bitarray('1010')"
      ]
     },
     "execution_count": 295,
     "metadata": {},
     "output_type": "execute_result"
    }
   ],
   "source": [
    "a = bitarray('1010')\n",
    "a"
   ]
  },
  {
   "cell_type": "code",
   "execution_count": 336,
   "id": "b55afd79",
   "metadata": {},
   "outputs": [
    {
     "name": "stdout",
     "output_type": "stream",
     "text": [
      "bitarray('00000110')\n",
      "b'\\x06'\n"
     ]
    }
   ],
   "source": [
    "a = bitarray(8)\n",
    "a.setall(0)\n",
    "a[5] = 1\n",
    "a[6] = 1\n",
    "print(a)\n",
    "print(a.tobytes())"
   ]
  },
  {
   "cell_type": "code",
   "execution_count": 337,
   "id": "91c58f2c",
   "metadata": {},
   "outputs": [
    {
     "name": "stdout",
     "output_type": "stream",
     "text": [
      "bitarray('10100000')\n",
      "b'\\xa0'\n"
     ]
    }
   ],
   "source": [
    "a = bitarray(8)\n",
    "a.setall(0)\n",
    "a[2] = 1\n",
    "a[0] = 1\n",
    "print(a)\n",
    "print(a.tobytes())"
   ]
  },
  {
   "cell_type": "markdown",
   "id": "a9ae7fe3",
   "metadata": {},
   "source": [
    "## Bytes"
   ]
  },
  {
   "cell_type": "code",
   "execution_count": 339,
   "id": "b5b4fe1b",
   "metadata": {},
   "outputs": [
    {
     "name": "stdout",
     "output_type": "stream",
     "text": [
      "b'\\x00\\x00'\n",
      "len(b)= 2\n"
     ]
    }
   ],
   "source": [
    "b = bytes(2)\n",
    "print(b)\n",
    "print('len(b)=', len(b))"
   ]
  },
  {
   "cell_type": "code",
   "execution_count": 355,
   "id": "d652e7fe",
   "metadata": {},
   "outputs": [
    {
     "name": "stdout",
     "output_type": "stream",
     "text": [
      "b'\\x01\\x0b\\x03\\xfe'\n",
      "len(b)= 4\n"
     ]
    }
   ],
   "source": [
    "b = bytes([1, 11, 3, 254])\n",
    "print(b)\n",
    "print('len(b)=', len(b))"
   ]
  },
  {
   "cell_type": "code",
   "execution_count": 401,
   "id": "c32f1615",
   "metadata": {
    "scrolled": true
   },
   "outputs": [
    {
     "data": {
      "text/plain": [
       "b'\\x0b\\x01\\x02\\x03\\x04\\x05\\x06\\x07\\x08\\t\\n\\x0b\\x0c\\r\\x0e\\x0f'"
      ]
     },
     "execution_count": 401,
     "metadata": {},
     "output_type": "execute_result"
    }
   ],
   "source": [
    "import uuid\n",
    "x = uuid.UUID('{0b010203-0405-0607-0809-0a0b0c0d0e0f}')\n",
    "x.bytes"
   ]
  },
  {
   "cell_type": "markdown",
   "id": "be2a6b42",
   "metadata": {},
   "source": [
    "The function random.randbytes (included in python 3.9) allows us to generate random bytes"
   ]
  },
  {
   "cell_type": "code",
   "execution_count": 404,
   "id": "202481d5",
   "metadata": {},
   "outputs": [
    {
     "ename": "ImportError",
     "evalue": "cannot import name 'randbytes' from 'random' (/Users/davidbuchaca/opt/anaconda3/lib/python3.8/random.py)",
     "output_type": "error",
     "traceback": [
      "\u001b[0;31m---------------------------------------------------------------------------\u001b[0m",
      "\u001b[0;31mImportError\u001b[0m                               Traceback (most recent call last)",
      "\u001b[0;32m<ipython-input-404-080f1e4433c2>\u001b[0m in \u001b[0;36m<module>\u001b[0;34m\u001b[0m\n\u001b[0;32m----> 1\u001b[0;31m \u001b[0;32mfrom\u001b[0m \u001b[0mrandom\u001b[0m \u001b[0;32mimport\u001b[0m \u001b[0mrandbytes\u001b[0m\u001b[0;34m\u001b[0m\u001b[0;34m\u001b[0m\u001b[0m\n\u001b[0m\u001b[1;32m      2\u001b[0m \u001b[0;34m\u001b[0m\u001b[0m\n\u001b[1;32m      3\u001b[0m \u001b[0mrandbytes\u001b[0m\u001b[0;34m(\u001b[0m\u001b[0;36m16\u001b[0m\u001b[0;34m)\u001b[0m\u001b[0;34m\u001b[0m\u001b[0;34m\u001b[0m\u001b[0m\n",
      "\u001b[0;31mImportError\u001b[0m: cannot import name 'randbytes' from 'random' (/Users/davidbuchaca/opt/anaconda3/lib/python3.8/random.py)"
     ]
    }
   ],
   "source": [
    "from random import randbytes\n",
    "\n",
    "randbytes(16)"
   ]
  },
  {
   "cell_type": "code",
   "execution_count": 406,
   "id": "a472331f",
   "metadata": {},
   "outputs": [
    {
     "name": "stdout",
     "output_type": "stream",
     "text": [
      "2.01 µs ± 58.5 ns per loop (mean ± std. dev. of 7 runs, 100000 loops each)\n"
     ]
    }
   ],
   "source": [
    "import os\n",
    "%timeit os.urandom(10)\n"
   ]
  },
  {
   "cell_type": "code",
   "execution_count": 412,
   "id": "d8108f35",
   "metadata": {},
   "outputs": [
    {
     "data": {
      "text/plain": [
       "134"
      ]
     },
     "execution_count": 412,
     "metadata": {},
     "output_type": "execute_result"
    }
   ],
   "source": [
    "import random\n",
    "random.getrandbits(8)"
   ]
  },
  {
   "cell_type": "code",
   "execution_count": 414,
   "id": "24338a85",
   "metadata": {},
   "outputs": [],
   "source": [
    "import random\n",
    "N = 100000\n",
    "bits = random.getrandbits(N)"
   ]
  },
  {
   "cell_type": "code",
   "execution_count": 421,
   "id": "11a3477d",
   "metadata": {},
   "outputs": [
    {
     "name": "stdout",
     "output_type": "stream",
     "text": [
      "1.91 µs ± 94.8 ns per loop (mean ± std. dev. of 7 runs, 100000 loops each)\n"
     ]
    }
   ],
   "source": [
    "%timeit bytearray((random.getrandbits(8) for i in range(16)))"
   ]
  },
  {
   "cell_type": "code",
   "execution_count": 422,
   "id": "0fb9ea7d",
   "metadata": {},
   "outputs": [
    {
     "name": "stdout",
     "output_type": "stream",
     "text": [
      "115 ns ± 3.66 ns per loop (mean ± std. dev. of 7 runs, 10000000 loops each)\n"
     ]
    }
   ],
   "source": [
    "%timeit random.getrandbits(128)"
   ]
  },
  {
   "cell_type": "code",
   "execution_count": 427,
   "id": "b5ce9aa3",
   "metadata": {},
   "outputs": [
    {
     "data": {
      "text/plain": [
       "'0b11010000111111011000010110000000010101001100110011000111110110110111101000100111010011010100001000011100000101001111110011101010'"
      ]
     },
     "execution_count": 427,
     "metadata": {},
     "output_type": "execute_result"
    }
   ],
   "source": [
    "bin(random.getrandbits(128))"
   ]
  },
  {
   "cell_type": "code",
   "execution_count": 434,
   "id": "33ce7fe4",
   "metadata": {},
   "outputs": [],
   "source": [
    "?random.getrandbits"
   ]
  },
  {
   "cell_type": "code",
   "execution_count": 458,
   "id": "a1bed77b",
   "metadata": {},
   "outputs": [
    {
     "data": {
      "text/plain": [
       "223182227144983171183124500473130324837"
      ]
     },
     "execution_count": 458,
     "metadata": {},
     "output_type": "execute_result"
    }
   ],
   "source": [
    "i = random.getrandbits(128)\n",
    "i"
   ]
  },
  {
   "cell_type": "code",
   "execution_count": 495,
   "id": "02730a32",
   "metadata": {},
   "outputs": [
    {
     "data": {
      "text/plain": [
       "'10100111111001110101010101011011110000011110000000100011111100101000100101110110010000111001100000011111101010010001001101100101'"
      ]
     },
     "execution_count": 495,
     "metadata": {},
     "output_type": "execute_result"
    }
   ],
   "source": [
    "format(i, '128b')"
   ]
  },
  {
   "cell_type": "code",
   "execution_count": 483,
   "id": "78fdc524",
   "metadata": {},
   "outputs": [
    {
     "data": {
      "text/plain": [
       "16"
      ]
     },
     "execution_count": 483,
     "metadata": {},
     "output_type": "execute_result"
    }
   ],
   "source": [
    "zero_one_string = format(i, '128b')\n",
    "barray = int(zero_one_string, 2).to_bytes((len(zero_one_string) + 7) // 8, 'big')\n",
    "len(barray)"
   ]
  },
  {
   "cell_type": "code",
   "execution_count": 484,
   "id": "8d0a2fe0",
   "metadata": {},
   "outputs": [
    {
     "data": {
      "text/plain": [
       "b'\\xa7\\xe7U[\\xc1\\xe0#\\xf2\\x89vC\\x98\\x1f\\xa9\\x13e'"
      ]
     },
     "execution_count": 484,
     "metadata": {},
     "output_type": "execute_result"
    }
   ],
   "source": [
    "barray"
   ]
  },
  {
   "cell_type": "code",
   "execution_count": 486,
   "id": "402ac84e",
   "metadata": {},
   "outputs": [],
   "source": [
    "def create_random_bytes():\n",
    "    i = random.getrandbits(128)\n",
    "    zero_one_string = format(i, '128b')\n",
    "    barray = int(zero_one_string, 2).to_bytes((len(zero_one_string) + 7) // 8, 'big')\n",
    "    return barray"
   ]
  },
  {
   "cell_type": "code",
   "execution_count": 488,
   "id": "4690d20f",
   "metadata": {},
   "outputs": [
    {
     "name": "stdout",
     "output_type": "stream",
     "text": [
      "948 ns ± 19.5 ns per loop (mean ± std. dev. of 7 runs, 1000000 loops each)\n"
     ]
    }
   ],
   "source": [
    "%timeit create_random_bytes()"
   ]
  },
  {
   "cell_type": "code",
   "execution_count": 498,
   "id": "b0ce87af",
   "metadata": {},
   "outputs": [],
   "source": [
    "def create_random_bytes2():\n",
    "    i = random.getrandbits(128)\n",
    "    barray = i.to_bytes((128 + 7) // 8, 'big')\n",
    "    return barray"
   ]
  },
  {
   "cell_type": "code",
   "execution_count": 499,
   "id": "90f11ad2",
   "metadata": {},
   "outputs": [
    {
     "name": "stdout",
     "output_type": "stream",
     "text": [
      "260 ns ± 14 ns per loop (mean ± std. dev. of 7 runs, 1000000 loops each)\n"
     ]
    }
   ],
   "source": [
    "%timeit create_random_bytes2()"
   ]
  },
  {
   "cell_type": "code",
   "execution_count": 519,
   "id": "20834b49",
   "metadata": {},
   "outputs": [],
   "source": [
    "def create_random_bytes2():\n",
    "    i = random.getrandbits(128)\n",
    "    barray = i.to_bytes((128 + 7) // 8, 'big')\n",
    "    return bytearray(barray)"
   ]
  },
  {
   "cell_type": "code",
   "execution_count": 523,
   "id": "9c2a1eb4",
   "metadata": {},
   "outputs": [
    {
     "data": {
      "text/plain": [
       "bytearray(b'\\x93],\\xa0\\xf7\\xa1g\\xc9\\xee-\\xd5?X;9\\xe6')"
      ]
     },
     "execution_count": 523,
     "metadata": {},
     "output_type": "execute_result"
    }
   ],
   "source": [
    "create_random_bytes2()"
   ]
  },
  {
   "cell_type": "code",
   "execution_count": 527,
   "id": "44213c3c",
   "metadata": {},
   "outputs": [],
   "source": [
    "x=create_random_bytes2()"
   ]
  },
  {
   "cell_type": "code",
   "execution_count": 534,
   "id": "3ec47600",
   "metadata": {},
   "outputs": [
    {
     "data": {
      "text/plain": [
       "['0x7a',\n",
       " '0x3b',\n",
       " '0xdc',\n",
       " '0xc5',\n",
       " '0xde',\n",
       " '0xc9',\n",
       " '0xa0',\n",
       " '0xf5',\n",
       " '0x9e',\n",
       " '0xa3',\n",
       " '0x8',\n",
       " '0x6f',\n",
       " '0x2c',\n",
       " '0x4b',\n",
       " '0x19',\n",
       " '0xe6']"
      ]
     },
     "execution_count": 534,
     "metadata": {},
     "output_type": "execute_result"
    }
   ],
   "source": [
    "[hex(x_k) for x_k in x]"
   ]
  },
  {
   "cell_type": "code",
   "execution_count": null,
   "id": "003c81ff",
   "metadata": {},
   "outputs": [],
   "source": []
  },
  {
   "cell_type": "code",
   "execution_count": null,
   "id": "6e52b1b2",
   "metadata": {},
   "outputs": [],
   "source": []
  },
  {
   "cell_type": "markdown",
   "id": "342b93d6",
   "metadata": {},
   "source": [
    "## Bytearray"
   ]
  },
  {
   "cell_type": "code",
   "execution_count": 188,
   "id": "0f6310b1",
   "metadata": {},
   "outputs": [
    {
     "name": "stdout",
     "output_type": "stream",
     "text": [
      "bytearray(b'\\x00\\x00\\x00')\n",
      "len(b)= 3\n"
     ]
    }
   ],
   "source": [
    "b = bytearray(3)\n",
    "print(b)\n",
    "print('len(b)=', len(b))"
   ]
  },
  {
   "cell_type": "code",
   "execution_count": 194,
   "id": "400ab7d9",
   "metadata": {},
   "outputs": [
    {
     "data": {
      "text/plain": [
       "bytearray(b'\\xff\\x00\\x00')"
      ]
     },
     "execution_count": 194,
     "metadata": {},
     "output_type": "execute_result"
    }
   ],
   "source": [
    "b = bytearray(3)\n",
    "b[0]=255\n",
    "b"
   ]
  },
  {
   "cell_type": "code",
   "execution_count": 197,
   "id": "40376e6d",
   "metadata": {},
   "outputs": [
    {
     "data": {
      "text/plain": [
       "bytearray(b'\\x00\\x00\\xff')"
      ]
     },
     "execution_count": 197,
     "metadata": {},
     "output_type": "execute_result"
    }
   ],
   "source": [
    "b = bytearray(3)\n",
    "b[2]=255\n",
    "b"
   ]
  },
  {
   "cell_type": "code",
   "execution_count": 201,
   "id": "9c426ac8",
   "metadata": {},
   "outputs": [
    {
     "name": "stdout",
     "output_type": "stream",
     "text": [
      "bytearray(b'\\x00\\x00\\x00')\n",
      "bytearray(b'\\x00\\x00\\x00\\x05')\n"
     ]
    }
   ],
   "source": [
    "b = bytearray(3)\n",
    "print(b)\n",
    "b.append(5)\n",
    "print(b)"
   ]
  },
  {
   "cell_type": "code",
   "execution_count": 249,
   "id": "e404f00f",
   "metadata": {
    "scrolled": true
   },
   "outputs": [
    {
     "name": "stdout",
     "output_type": "stream",
     "text": [
      "bytearray(b'\\x00\\x00A')\n"
     ]
    }
   ],
   "source": [
    "b = bytearray(3)\n",
    "b[2:3] = b'\\x41'\n",
    "print(b)"
   ]
  },
  {
   "cell_type": "markdown",
   "id": "90a14471",
   "metadata": {},
   "source": [
    "There are objects, such as a UUID, that can be created from bytes data"
   ]
  },
  {
   "cell_type": "code",
   "execution_count": 383,
   "id": "35ffd4b1",
   "metadata": {},
   "outputs": [
    {
     "name": "stdout",
     "output_type": "stream",
     "text": [
      "995 ns ± 12.7 ns per loop (mean ± std. dev. of 7 runs, 1000000 loops each)\n"
     ]
    }
   ],
   "source": [
    "%timeit uuid.UUID(bytes=b'\\x0b\\x01\\x02\\x03\\x04\\x05\\x06\\x07\\x08\\t\\n\\x0b\\x0c\\r\\x0e\\x0f')"
   ]
  },
  {
   "cell_type": "code",
   "execution_count": 388,
   "id": "2a33c6b8",
   "metadata": {},
   "outputs": [
    {
     "name": "stdout",
     "output_type": "stream",
     "text": [
      "3.75 µs ± 43 ns per loop (mean ± std. dev. of 7 runs, 100000 loops each)\n"
     ]
    }
   ],
   "source": [
    "%timeit uuid.uuid4()"
   ]
  },
  {
   "cell_type": "code",
   "execution_count": 389,
   "id": "26c83e66",
   "metadata": {},
   "outputs": [
    {
     "data": {
      "text/plain": [
       "16"
      ]
     },
     "execution_count": 389,
     "metadata": {},
     "output_type": "execute_result"
    }
   ],
   "source": [
    "len(b'\\x0b\\x01\\x02\\x03\\x04\\x05\\x06\\x07\\x08\\t\\n\\x0b\\x0c\\r\\x0e\\x0f')"
   ]
  },
  {
   "cell_type": "code",
   "execution_count": null,
   "id": "2e48c90e",
   "metadata": {},
   "outputs": [],
   "source": []
  },
  {
   "cell_type": "markdown",
   "id": "f5f1081d",
   "metadata": {},
   "source": [
    "## Hexadecimal"
   ]
  },
  {
   "cell_type": "code",
   "execution_count": 64,
   "id": "15bdc544",
   "metadata": {},
   "outputs": [
    {
     "data": {
      "text/plain": [
       "(255, 32, 10)"
      ]
     },
     "execution_count": 64,
     "metadata": {},
     "output_type": "execute_result"
    }
   ],
   "source": [
    "int('0xff', 16), int('0x20', 16), int('0x0a', 16)"
   ]
  },
  {
   "cell_type": "code",
   "execution_count": 68,
   "id": "7723392e",
   "metadata": {},
   "outputs": [
    {
     "data": {
      "text/plain": [
       "'0b10000'"
      ]
     },
     "execution_count": 68,
     "metadata": {},
     "output_type": "execute_result"
    }
   ],
   "source": []
  },
  {
   "cell_type": "code",
   "execution_count": null,
   "id": "b1f98cac",
   "metadata": {},
   "outputs": [],
   "source": []
  },
  {
   "cell_type": "code",
   "execution_count": null,
   "id": "2848e6da",
   "metadata": {},
   "outputs": [],
   "source": []
  },
  {
   "cell_type": "markdown",
   "id": "fa4c9b1c",
   "metadata": {},
   "source": [
    "## Bits\n",
    "\n",
    "\n",
    "```\n",
    "Transformations Summary\n",
    "\n",
    "Strings to Integers:\n",
    "\n",
    "\"1011101101\": int(str, 2)\n",
    "\"m\": ord(str)\n",
    "\"0xdecafbad\": int(str, 16) (known to work in Python 2.4)\n",
    "\"decafbad\": int(str, 16) (known to work in Python 2.4)\n",
    "Integers to Strings:\n",
    "\n",
    "\"1011101101\": built-in to Python 3 (see below)\n",
    "\"m\": chr(str)\n",
    "\"0xdecafbad\": hex(val)\n",
    "\"decafbad\": \"%x\" % val\n",
    "```"
   ]
  },
  {
   "cell_type": "code",
   "execution_count": 32,
   "id": "0ced1519",
   "metadata": {},
   "outputs": [
    {
     "name": "stdout",
     "output_type": "stream",
     "text": [
      "5\n"
     ]
    }
   ],
   "source": [
    "print(int('000101', 2))"
   ]
  },
  {
   "cell_type": "code",
   "execution_count": null,
   "id": "3233713a",
   "metadata": {},
   "outputs": [],
   "source": []
  },
  {
   "cell_type": "code",
   "execution_count": null,
   "id": "e33e95ea",
   "metadata": {},
   "outputs": [],
   "source": []
  },
  {
   "cell_type": "code",
   "execution_count": null,
   "id": "3c71cccd",
   "metadata": {},
   "outputs": [],
   "source": []
  },
  {
   "cell_type": "code",
   "execution_count": null,
   "id": "a38f4409",
   "metadata": {},
   "outputs": [],
   "source": []
  }
 ],
 "metadata": {
  "kernelspec": {
   "display_name": "Python 3",
   "language": "python",
   "name": "python3"
  },
  "language_info": {
   "codemirror_mode": {
    "name": "ipython",
    "version": 3
   },
   "file_extension": ".py",
   "mimetype": "text/x-python",
   "name": "python",
   "nbconvert_exporter": "python",
   "pygments_lexer": "ipython3",
   "version": "3.8.8"
  }
 },
 "nbformat": 4,
 "nbformat_minor": 5
}

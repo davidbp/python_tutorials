{
 "cells": [
  {
   "cell_type": "markdown",
   "metadata": {},
   "source": [
    "### Basic functions for detecting properties about strings\n",
    "\n",
    "```\n",
    "s.startswith(t)\n",
    "s.endswith(t)\n",
    "s.islower()\n",
    "s.isupper()\n",
    "s.isalpha()\n",
    "s.isalnum()\n",
    "s.isdigit()\n",
    "s.istitle()\n",
    "```\n",
    "\n",
    "```\n",
    "Test if s starts with t\n",
    "Test if s ends with t\n",
    "Test if t is contained inside s\n",
    "Test if all cased characters in s are lowercase\n",
    "Test if all cased characters in s are uppercase\n",
    "Test if all characters in s are alphabetic\n",
    "Test if all characters in s are alphanumeric\n",
    "Test if all characters in s are digits\n",
    "Test if s is titlecased (all words in s have initial capitals)\n",
    "```"
   ]
  },
  {
   "cell_type": "code",
   "execution_count": null,
   "metadata": {
    "collapsed": true
   },
   "outputs": [],
   "source": []
  },
  {
   "cell_type": "markdown",
   "metadata": {},
   "source": [
    "#### Get all the numbers from a sentence"
   ]
  },
  {
   "cell_type": "code",
   "execution_count": 1,
   "metadata": {
    "collapsed": true
   },
   "outputs": [],
   "source": [
    "sentence = 'The 5 programmers showed how to build better tools than \\\n",
    "            100 low payed programmmers'"
   ]
  },
  {
   "cell_type": "code",
   "execution_count": 3,
   "metadata": {},
   "outputs": [
    {
     "data": {
      "text/plain": [
       "['100', '5']"
      ]
     },
     "execution_count": 3,
     "metadata": {},
     "output_type": "execute_result"
    }
   ],
   "source": [
    "sorted([item for item in set(sentence.split()) if item.isdigit()])"
   ]
  },
  {
   "cell_type": "code",
   "execution_count": null,
   "metadata": {
    "collapsed": true
   },
   "outputs": [],
   "source": []
  }
 ],
 "metadata": {
  "kernelspec": {
   "display_name": "Python 3",
   "language": "python",
   "name": "python3"
  },
  "language_info": {
   "codemirror_mode": {
    "name": "ipython",
    "version": 3
   },
   "file_extension": ".py",
   "mimetype": "text/x-python",
   "name": "python",
   "nbconvert_exporter": "python",
   "pygments_lexer": "ipython3",
   "version": "3.5.4"
  }
 },
 "nbformat": 4,
 "nbformat_minor": 1
}

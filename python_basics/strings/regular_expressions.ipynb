{
 "cells": [
  {
   "cell_type": "markdown",
   "metadata": {
    "slideshow": {
     "slide_type": "slide"
    }
   },
   "source": [
    "## Raw strings\n",
    "\n",
    "A raw string is just a string prefixed with `r`.\n",
    "\n",
    "For example:\n",
    "\n",
    "- `a = r\"this is a \\n raw string\"`: `a` is a raw string.\n",
    "- `b = \"this is a \\n raw string\"`: `b` is not a raw string.\n",
    "\n"
   ]
  },
  {
   "cell_type": "code",
   "execution_count": 6,
   "metadata": {
    "ExecuteTime": {
     "end_time": "2020-02-11T11:39:08.559727Z",
     "start_time": "2020-02-11T11:39:08.547625Z"
    },
    "slideshow": {
     "slide_type": "-"
    }
   },
   "outputs": [
    {
     "name": "stdout",
     "output_type": "stream",
     "text": [
      "<class 'str'>\n",
      "<class 'str'>\n"
     ]
    },
    {
     "data": {
      "text/plain": [
       "(None, None)"
      ]
     },
     "execution_count": 6,
     "metadata": {},
     "output_type": "execute_result"
    }
   ],
   "source": [
    "a = r\"this is a \\n raw string\"\n",
    "b = \"this is a \\n raw string\"\n",
    "print(type(a)), print(type(b))"
   ]
  },
  {
   "cell_type": "markdown",
   "metadata": {
    "slideshow": {
     "slide_type": "slide"
    }
   },
   "source": [
    "A raw string is also a `str` object"
   ]
  },
  {
   "cell_type": "code",
   "execution_count": 32,
   "metadata": {
    "ExecuteTime": {
     "end_time": "2020-02-11T11:54:58.116838Z",
     "start_time": "2020-02-11T11:54:58.111035Z"
    },
    "slideshow": {
     "slide_type": "-"
    }
   },
   "outputs": [
    {
     "data": {
      "text/plain": [
       "(str, str)"
      ]
     },
     "execution_count": 32,
     "metadata": {},
     "output_type": "execute_result"
    }
   ],
   "source": [
    "type(a), type(b)"
   ]
  },
  {
   "cell_type": "code",
   "execution_count": 33,
   "metadata": {
    "ExecuteTime": {
     "end_time": "2020-02-11T11:54:59.183113Z",
     "start_time": "2020-02-11T11:54:59.178849Z"
    },
    "slideshow": {
     "slide_type": "-"
    }
   },
   "outputs": [
    {
     "name": "stdout",
     "output_type": "stream",
     "text": [
      "this is a \\n raw string\n",
      "this is a \n",
      " raw string\n"
     ]
    }
   ],
   "source": [
    "print(a) # The raw string does not print the \\n\n",
    "print(b) # The standard string understands \\n is a new line"
   ]
  },
  {
   "cell_type": "markdown",
   "metadata": {
    "slideshow": {
     "slide_type": "slide"
    }
   },
   "source": [
    "## Compiling Regular expressions\n",
    "\n",
    "We would like to get rellevant information from strings. For example\n",
    "we would like to parse phone numbers or urls."
   ]
  },
  {
   "cell_type": "code",
   "execution_count": 11,
   "metadata": {
    "ExecuteTime": {
     "end_time": "2020-02-11T11:44:34.783246Z",
     "start_time": "2020-02-11T11:44:34.780194Z"
    }
   },
   "outputs": [],
   "source": [
    "text = \"\"\"\n",
    "If you want this call me at 689878997.\n",
    "Mr Albert did not access www.piratetorrents.com\n",
    "Alba was upsed because eseOese.com was not working.\n",
    "\"\"\""
   ]
  },
  {
   "cell_type": "markdown",
   "metadata": {
    "slideshow": {
     "slide_type": "slide"
    }
   },
   "source": [
    "### findall\n",
    "\n",
    "#### `pattern=re.compile(regex)` and `pattern.findall`\n",
    "\n",
    "- Generate a regular expression using \n",
    "\n",
    "    - **`p = re.compile(r'our_regular_expression')`**.\n",
    "    - `p` will be a  `SRE_Pattern` object that we can apply to any string.\n",
    "\n",
    "\n",
    "- **`p.findall(s)`** returns a list containing all substrings within `s` that safisfy our regular expression.\n",
    "\n",
    "\n"
   ]
  },
  {
   "cell_type": "code",
   "execution_count": 105,
   "metadata": {
    "slideshow": {
     "slide_type": "fragment"
    }
   },
   "outputs": [],
   "source": [
    "## Ex: get all text that starts with \"Al\" until the end of the line\n",
    "\n",
    "# Albert did not access www.piratetorrents.com\n",
    "# Alba was upsed because eseOese.com was not working."
   ]
  },
  {
   "cell_type": "code",
   "execution_count": 12,
   "metadata": {
    "ExecuteTime": {
     "end_time": "2020-02-11T11:44:38.847459Z",
     "start_time": "2020-02-11T11:44:38.841351Z"
    },
    "slideshow": {
     "slide_type": "subslide"
    }
   },
   "outputs": [
    {
     "data": {
      "text/plain": [
       "['Albert did not access www.piratetorrents.com',\n",
       " 'Alba was upsed because eseOese.com was not working.']"
      ]
     },
     "execution_count": 12,
     "metadata": {},
     "output_type": "execute_result"
    }
   ],
   "source": [
    "import re\n",
    "pattern = re.compile(r'Alb.*')\n",
    "all_matches = pattern.findall(text)\n",
    "all_matches"
   ]
  },
  {
   "cell_type": "markdown",
   "metadata": {
    "slideshow": {
     "slide_type": "slide"
    }
   },
   "source": [
    "### finditer\n",
    "\n",
    "- **`p.finditer(s)`** returns a generator. Each element of the generator is a `SRE_Match`which contains \n",
    "    - **`span(x,y)`** indicating that the match starts at position `x` and ends in position `y` (of s).\n",
    "    - **`match='...'`** indicating the string that satisfies the regular expression.\n",
    "\n"
   ]
  },
  {
   "cell_type": "code",
   "execution_count": 13,
   "metadata": {
    "ExecuteTime": {
     "end_time": "2020-02-11T11:44:52.830631Z",
     "start_time": "2020-02-11T11:44:52.825881Z"
    },
    "slideshow": {
     "slide_type": "subslide"
    }
   },
   "outputs": [],
   "source": [
    "import re\n",
    "pattern = re.compile(r'Al')\n",
    "matches = pattern.finditer(text)\n",
    "matches = [x for x in matches]"
   ]
  },
  {
   "cell_type": "code",
   "execution_count": 14,
   "metadata": {
    "ExecuteTime": {
     "end_time": "2020-02-11T11:44:58.240971Z",
     "start_time": "2020-02-11T11:44:58.236025Z"
    },
    "scrolled": true,
    "slideshow": {
     "slide_type": "fragment"
    }
   },
   "outputs": [
    {
     "data": {
      "text/plain": [
       "[<re.Match object; span=(43, 45), match='Al'>,\n",
       " <re.Match object; span=(88, 90), match='Al'>]"
      ]
     },
     "execution_count": 14,
     "metadata": {},
     "output_type": "execute_result"
    }
   ],
   "source": [
    "matches"
   ]
  },
  {
   "cell_type": "code",
   "execution_count": 15,
   "metadata": {
    "ExecuteTime": {
     "end_time": "2020-02-11T11:45:01.177136Z",
     "start_time": "2020-02-11T11:45:01.172233Z"
    },
    "slideshow": {
     "slide_type": "fragment"
    }
   },
   "outputs": [
    {
     "data": {
      "text/plain": [
       "'Al'"
      ]
     },
     "execution_count": 15,
     "metadata": {},
     "output_type": "execute_result"
    }
   ],
   "source": [
    "beg, end = matches[0].span()\n",
    "text[beg:end]"
   ]
  },
  {
   "cell_type": "markdown",
   "metadata": {
    "slideshow": {
     "slide_type": "slide"
    }
   },
   "source": [
    "#### Substitution\n",
    "\n",
    "- **`p.sub(r'XXX', s)`** change all patterns by `XXX`\n",
    "\n"
   ]
  },
  {
   "cell_type": "markdown",
   "metadata": {
    "slideshow": {
     "slide_type": "slide"
    }
   },
   "source": [
    "\n",
    "\n",
    "## Regular expressions\n",
    "\n",
    "\n",
    "### Basic matching\n",
    "\n",
    "- **`.`** Matches any character except new line.\n",
    "\n",
    "\n",
    "- **`\\d`** Matches any digit (0-9). Equivalent to `[0-9]`.\n",
    "\n",
    "\n",
    "- **`\\D`** Matches any NON digit. Equivalent to `[^0-9]`.\n",
    "\n",
    "\n",
    "- **`\\w`** Matches any \"word character\". Equivalent to `[a-zA-Z0-9_]`\n",
    "\n",
    "\n",
    "- **`\\W`** Matches any NON alphanumeric character. Equivalent to `[^a-zA-Z0-9_]`\n",
    "\n",
    "\n",
    "- **`\\s`** Matches any whitespace (space, tab, newline). Equivalent to `[\\t\\n\\r\\f\\v]` \n",
    "\n",
    "\n",
    "- **`\\S`** Matches any NON whitespace (space, tab, newline). Equivalent to `[^ \\t\\n\\r\\f\\v]` \n"
   ]
  },
  {
   "cell_type": "code",
   "execution_count": 34,
   "metadata": {
    "ExecuteTime": {
     "end_time": "2020-02-11T12:44:17.428043Z",
     "start_time": "2020-02-11T12:44:17.418039Z"
    },
    "slideshow": {
     "slide_type": "slide"
    }
   },
   "outputs": [],
   "source": [
    "### Exercie: Find all words starting with \"Alb\"\n",
    "text = \"\"\"\n",
    "If you want this call me at 689878997.\n",
    "Mr Albert did not access www.piratetorrents.com\n",
    "Alba was upsed because eseOese.com was not working.\n",
    "\"\"\""
   ]
  },
  {
   "cell_type": "code",
   "execution_count": 90,
   "metadata": {
    "ExecuteTime": {
     "end_time": "2020-02-11T13:06:53.000824Z",
     "start_time": "2020-02-11T13:06:52.995194Z"
    },
    "slideshow": {
     "slide_type": "skip"
    }
   },
   "outputs": [
    {
     "data": {
      "text/plain": [
       "['Albert', 'Alba']"
      ]
     },
     "execution_count": 90,
     "metadata": {},
     "output_type": "execute_result"
    }
   ],
   "source": [
    "pattern     = re.compile(r'Alb\\w*')\n",
    "all_matches = pattern.findall(text)\n",
    "all_matches"
   ]
  },
  {
   "cell_type": "markdown",
   "metadata": {
    "ExecuteTime": {
     "end_time": "2020-02-11T13:06:51.213229Z",
     "start_time": "2020-02-11T13:06:51.207254Z"
    },
    "slideshow": {
     "slide_type": "slide"
    }
   },
   "source": [
    "Exercise: Find all words that start with \"a\" or \"A\""
   ]
  },
  {
   "cell_type": "code",
   "execution_count": 98,
   "metadata": {
    "ExecuteTime": {
     "end_time": "2020-02-11T13:08:32.943884Z",
     "start_time": "2020-02-11T13:08:32.940330Z"
    }
   },
   "outputs": [
    {
     "name": "stdout",
     "output_type": "stream",
     "text": [
      "\n",
      "If you want this call me at 689878997.\n",
      "Mr Albert did not access www.piratetorrents.com\n",
      "Alba was upsed because eseOese.com was not working.\n",
      "\n"
     ]
    }
   ],
   "source": [
    "print(text)"
   ]
  },
  {
   "cell_type": "code",
   "execution_count": 131,
   "metadata": {
    "ExecuteTime": {
     "end_time": "2020-02-11T13:10:51.598385Z",
     "start_time": "2020-02-11T13:10:51.593474Z"
    },
    "slideshow": {
     "slide_type": "fragment"
    }
   },
   "outputs": [
    {
     "data": {
      "text/plain": [
       "['ant this call me at 689878997.',\n",
       " 'access www.piratetorrents.com',\n",
       " 'a was upsed because eseOese.com was not working.']"
      ]
     },
     "execution_count": 131,
     "metadata": {},
     "output_type": "execute_result"
    }
   ],
   "source": [
    "pattern     = re.compile(r'a.*')\n",
    "all_matches = pattern.findall(text)\n",
    "all_matches"
   ]
  },
  {
   "cell_type": "code",
   "execution_count": 137,
   "metadata": {
    "ExecuteTime": {
     "end_time": "2020-02-11T13:16:09.327453Z",
     "start_time": "2020-02-11T13:16:09.322347Z"
    },
    "slideshow": {
     "slide_type": "notes"
    }
   },
   "outputs": [
    {
     "data": {
      "text/plain": [
       "[' at ', ' Albert ', ' access ', '\\nAlba ']"
      ]
     },
     "execution_count": 137,
     "metadata": {},
     "output_type": "execute_result"
    }
   ],
   "source": [
    "### Exercise find all words that start with \"a\" or \"A\" \n",
    "pattern     = re.compile(r'\\s[Aa]+.*?\\s')\n",
    "all_matches = pattern.findall(text)\n",
    "all_matches"
   ]
  },
  {
   "cell_type": "markdown",
   "metadata": {
    "ExecuteTime": {
     "end_time": "2020-02-11T12:52:54.334322Z",
     "start_time": "2020-02-11T12:52:54.325343Z"
    },
    "slideshow": {
     "slide_type": "slide"
    }
   },
   "source": [
    "### Quantifiers\n",
    "\n",
    "\n",
    "Quantifiers are operators that are applied to the preceding symbol.\n",
    "\n",
    "\n",
    "- **`*`** previous symbol appears 0 or more matches.\n",
    "\n",
    "\n",
    "- **`+`** previous symbol appears 1 or more matches.\n",
    "\n",
    "\n",
    "- **`?`** previous symbol appears at most one (0 or 1).\n",
    "\n",
    "\n",
    "- **`{k}`** previous symbol repeated k exact matches.\n",
    "\n",
    "\n",
    "- **`{min,max}`** previous symbol appears  any number between min and max. For example `{2,8}` would be between 2 and 8 matches\n",
    "\n",
    "\n",
    "For example:\n",
    "\n",
    "- `r'a.*'` the `*` refers to  `.` making this expression get trigerred when `a` is followed by any character.\n",
    "\n",
    "\n",
    "- `r'\\d{4}'` the `{4}` referes to `\\d` making this regular expression get triggered with 4 consecutive digits.\n"
   ]
  },
  {
   "cell_type": "markdown",
   "metadata": {
    "slideshow": {
     "slide_type": "slide"
    }
   },
   "source": [
    "### Character classes `[...]`\n",
    "\n",
    "Character classes `[...]` match any character in the brackets. For example, `[aeiou]` matches any vowel.\n"
   ]
  },
  {
   "cell_type": "code",
   "execution_count": 19,
   "metadata": {
    "ExecuteTime": {
     "end_time": "2020-02-11T11:45:19.324466Z",
     "start_time": "2020-02-11T11:45:19.318842Z"
    },
    "slideshow": {
     "slide_type": "fragment"
    }
   },
   "outputs": [
    {
     "data": {
      "text/plain": [
       "['oo', 'ie']"
      ]
     },
     "execution_count": 19,
     "metadata": {},
     "output_type": "execute_result"
    }
   ],
   "source": [
    "# find all consecutive pairs of vowels in the text\n",
    "text = \"The man that went to the moon was not following any hierarchy.\"\n",
    "pattern     = re.compile(r'[aeiou]{2}')\n",
    "all_matches = pattern.findall(text)\n",
    "all_matches"
   ]
  },
  {
   "cell_type": "code",
   "execution_count": 169,
   "metadata": {
    "ExecuteTime": {
     "end_time": "2020-02-11T13:20:42.697431Z",
     "start_time": "2020-02-11T13:20:42.692334Z"
    },
    "slideshow": {
     "slide_type": "notes"
    }
   },
   "outputs": [
    {
     "data": {
      "text/plain": [
       "['because']"
      ]
     },
     "execution_count": 169,
     "metadata": {},
     "output_type": "execute_result"
    }
   ],
   "source": [
    "# find all words that contain consecutive pairs of vowels in the text\n",
    "pattern     = re.compile(r'\\w+[aeiou]{2}\\w+')\n",
    "all_matches = pattern.findall(text)\n",
    "all_matches"
   ]
  },
  {
   "cell_type": "code",
   "execution_count": 21,
   "metadata": {
    "ExecuteTime": {
     "end_time": "2020-02-11T11:45:25.845899Z",
     "start_time": "2020-02-11T11:45:25.843078Z"
    },
    "slideshow": {
     "slide_type": "slide"
    }
   },
   "outputs": [],
   "source": [
    "### Exercie: Find all words starting with \"Alb\" and the next word, commas should not \n",
    "### be taken into account\n",
    "text = \"\"\"\n",
    "If you want this call me at 689878997.\n",
    "Albert, do not say more times you can't do it.\n",
    "Alba was upsed because eseOese.com was not working.\n",
    "\"\"\""
   ]
  },
  {
   "cell_type": "code",
   "execution_count": 22,
   "metadata": {
    "ExecuteTime": {
     "end_time": "2020-02-11T11:45:27.257279Z",
     "start_time": "2020-02-11T11:45:27.250128Z"
    },
    "slideshow": {
     "slide_type": "skip"
    }
   },
   "outputs": [
    {
     "data": {
      "text/plain": [
       "['Albert, do', 'Alba was']"
      ]
     },
     "execution_count": 22,
     "metadata": {},
     "output_type": "execute_result"
    }
   ],
   "source": [
    "pattern     = re.compile(r'Alb[\\w,:]*\\s\\w*')\n",
    "all_matches = pattern.findall(text)\n",
    "all_matches"
   ]
  },
  {
   "cell_type": "code",
   "execution_count": 23,
   "metadata": {
    "ExecuteTime": {
     "end_time": "2020-02-11T11:45:28.549982Z",
     "start_time": "2020-02-11T11:45:28.543307Z"
    },
    "slideshow": {
     "slide_type": "skip"
    }
   },
   "outputs": [
    {
     "data": {
      "text/plain": [
       "['Albert, do not', 'Alba was upsed']"
      ]
     },
     "execution_count": 23,
     "metadata": {},
     "output_type": "execute_result"
    }
   ],
   "source": [
    "### Exercie: Find all words starting with \"Alb\" and the two next word, commas should not \n",
    "### be taken into account\n",
    "\n",
    "pattern     = re.compile(r'Alb[\\w,:]*\\s\\w*\\s\\w*')\n",
    "all_matches = pattern.findall(text)\n",
    "all_matches"
   ]
  },
  {
   "cell_type": "code",
   "execution_count": 24,
   "metadata": {
    "ExecuteTime": {
     "end_time": "2020-02-11T11:45:29.896362Z",
     "start_time": "2020-02-11T11:45:29.893146Z"
    },
    "slideshow": {
     "slide_type": "skip"
    }
   },
   "outputs": [],
   "source": [
    "### Exercie: Find all words starting with \"Alb\" and the next word, commas should not \n",
    "### be taken into account\n",
    "text = \"\"\"\n",
    "If you want this call me at 689878997.\n",
    "Albert, Paco, come here and do not say more times you can't do it.\n",
    "Alba was upsed because eseOese.com was not working.\n",
    "\"\"\""
   ]
  },
  {
   "cell_type": "code",
   "execution_count": 25,
   "metadata": {
    "ExecuteTime": {
     "end_time": "2020-02-11T11:45:30.620133Z",
     "start_time": "2020-02-11T11:45:30.613769Z"
    },
    "slideshow": {
     "slide_type": "skip"
    }
   },
   "outputs": [
    {
     "data": {
      "text/plain": [
       "['Albert, Paco, come', 'Alba was upsed']"
      ]
     },
     "execution_count": 25,
     "metadata": {},
     "output_type": "execute_result"
    }
   ],
   "source": [
    "pattern     = re.compile(r'Alb[\\w,:]*\\s[\\w,:]*\\s\\w*')\n",
    "all_matches = pattern.findall(text)\n",
    "all_matches"
   ]
  },
  {
   "cell_type": "code",
   "execution_count": 30,
   "metadata": {
    "ExecuteTime": {
     "end_time": "2020-02-11T11:45:46.321289Z",
     "start_time": "2020-02-11T11:45:46.317765Z"
    },
    "slideshow": {
     "slide_type": "slide"
    }
   },
   "outputs": [],
   "source": [
    "### Exercie: Find all phone numbers (9 consecutive digits)\n",
    "text = \"\"\"\n",
    "If you want this call me at 689878997, do not call 911.\n",
    "Albert, Paco, come here and do not say more times you can't do it.\n",
    "Alba was upsed because eseOese.com was not working.\n",
    "\"\"\""
   ]
  },
  {
   "cell_type": "code",
   "execution_count": 31,
   "metadata": {
    "ExecuteTime": {
     "end_time": "2020-02-11T11:45:46.872228Z",
     "start_time": "2020-02-11T11:45:46.868728Z"
    },
    "slideshow": {
     "slide_type": "fragment"
    }
   },
   "outputs": [],
   "source": [
    "pattern     = re.compile(r'\\d')\n",
    "all_matches = pattern.findall(text)\n",
    "# all_matches"
   ]
  },
  {
   "cell_type": "markdown",
   "metadata": {
    "slideshow": {
     "slide_type": "slide"
    }
   },
   "source": [
    "#### Repetitions: `{p,q}`\n",
    "\n",
    "Repetitions of a regular expression can be taken into acount with `{}`.\n",
    "\n",
    "- ``` r'a{2,3}' ``` character `a` appears between 2 to 3 times"
   ]
  },
  {
   "cell_type": "code",
   "execution_count": 252,
   "metadata": {
    "slideshow": {
     "slide_type": "fragment"
    }
   },
   "outputs": [],
   "source": [
    "pattern     = re.compile(r'\\d{9}')\n",
    "all_matches = pattern.findall(text)\n",
    "#all_matchess"
   ]
  },
  {
   "cell_type": "code",
   "execution_count": 253,
   "metadata": {
    "slideshow": {
     "slide_type": "fragment"
    }
   },
   "outputs": [],
   "source": [
    "pattern     = re.compile(r'\\d\\d\\d\\d\\d\\d\\d\\d\\d')\n",
    "all_matches = pattern.findall(text)\n",
    "#all_matches"
   ]
  },
  {
   "cell_type": "markdown",
   "metadata": {
    "slideshow": {
     "slide_type": "slide"
    }
   },
   "source": [
    "\n",
    "##### Equivalent versions\n",
    "\n",
    "```\n",
    "Explicit Long         Short version\n",
    "(some_expr){0,1}      (some_expr)?\n",
    "(some_expr){1}        (some_expr)\n",
    "(some_expr){0,}       (some_expr)*\n",
    "(some_expr){1,}       (some_expr)+\n",
    "```\n"
   ]
  },
  {
   "cell_type": "markdown",
   "metadata": {
    "slideshow": {
     "slide_type": "slide"
    }
   },
   "source": [
    "#### Matching Special characters: `special_chars=[ '[', ']' ,'{' ,  '}' , '?' , '+' , '.' ]`\n",
    "\n",
    "In order to build regular expressions we use special characters such as  \n",
    "\n",
    "`special_chars=[ '[', ']' ,'{' ,  '}' , '?' , '+' , '.' ]`\n",
    "\n",
    "If we want to build a regular expression that matches one of this character we need to use the `'\\'` operator. For example `'\\?'` will match the `?` symbol.\n",
    "\n"
   ]
  },
  {
   "cell_type": "code",
   "execution_count": 292,
   "metadata": {},
   "outputs": [],
   "source": [
    "# Ex: find a word followed by `?`\n",
    "text = \"\"\"\n",
    "       Where is maria?\n",
    "       Who told you this class would be any good ?\n",
    "       \"\"\""
   ]
  },
  {
   "cell_type": "code",
   "execution_count": 311,
   "metadata": {
    "slideshow": {
     "slide_type": "skip"
    }
   },
   "outputs": [
    {
     "data": {
      "text/plain": [
       "['maria?', 'good ?']"
      ]
     },
     "execution_count": 311,
     "metadata": {},
     "output_type": "execute_result"
    }
   ],
   "source": [
    "pattern     = re.compile(r'\\w+[\\w\\s]\\?')\n",
    "all_matches = pattern.findall(text)\n",
    "all_matches"
   ]
  },
  {
   "cell_type": "markdown",
   "metadata": {
    "slideshow": {
     "slide_type": "slide"
    }
   },
   "source": [
    "\n",
    "#### Anchers\n",
    "\n",
    "Boundary characters are useful for \"anchoring\" patterns to some edge without selecting the characters themselves.\n",
    "\n",
    "- **`\\b`** Matches any word boundary.\n",
    "\n",
    "\n",
    "- **`\\B`** Matches any NON word boundary.\n",
    "\n",
    "\n",
    "- **`^`** Matches beginning of a string\n",
    "\n",
    "\n",
    "- **`[^a-e]`** negates the character set. That is matches any character outside `a-e`.\n",
    "\n",
    "\n",
    "- **`$`** Matches a position that is end of a string."
   ]
  },
  {
   "cell_type": "code",
   "execution_count": 338,
   "metadata": {},
   "outputs": [
    {
     "data": {
      "text/plain": [
       "(['cat'], ['cat', 'cat'])"
      ]
     },
     "execution_count": 338,
     "metadata": {},
     "output_type": "execute_result"
    }
   ],
   "source": [
    "# Ex: Find all occurences of the substring cat in the texts\n",
    "text1 = \"the cat sat in the mat\"\n",
    "text2 = \"the cat in the mat did not locate the food.\"\n",
    "pattern = re.compile(r'cat')\n",
    "all_matches_1 = pattern.findall(text1)\n",
    "all_matches_2 = pattern.findall(text2)\n",
    "all_matches_1, all_matches_2"
   ]
  },
  {
   "cell_type": "code",
   "execution_count": 339,
   "metadata": {
    "slideshow": {
     "slide_type": "slide"
    }
   },
   "outputs": [
    {
     "data": {
      "text/plain": [
       "(['cat'], ['cat'])"
      ]
     },
     "execution_count": 339,
     "metadata": {},
     "output_type": "execute_result"
    }
   ],
   "source": [
    "# Ex: Find all occurences of the the word cat in the text\n",
    "text1 = \"the cat sat in the mat\"\n",
    "text2 = \"the cat in the mat did not locate the food.\"\n",
    "pattern = re.compile(r'\\bcat')\n",
    "all_matches = pattern.findall(text2)\n",
    "all_matches_1 = pattern.findall(text1)\n",
    "all_matches_2 = pattern.findall(text2)\n",
    "all_matches_1, all_matches_2"
   ]
  },
  {
   "cell_type": "markdown",
   "metadata": {},
   "source": [
    "### String substitution"
   ]
  },
  {
   "cell_type": "code",
   "execution_count": 15,
   "metadata": {},
   "outputs": [],
   "source": [
    "exp = re.compile('car')\n",
    "sen_changed = re.sub(exp, 'auto', sen)"
   ]
  },
  {
   "cell_type": "code",
   "execution_count": 16,
   "metadata": {},
   "outputs": [
    {
     "data": {
      "text/plain": [
       "'The crashed auto was found in a crowed neighborood of Barcelona.'"
      ]
     },
     "execution_count": 16,
     "metadata": {},
     "output_type": "execute_result"
    }
   ],
   "source": [
    "sen_changed"
   ]
  },
  {
   "cell_type": "markdown",
   "metadata": {
    "collapsed": true
   },
   "source": [
    "## Text tokenization sklearn \n",
    "\n",
    "Regular expressions can be used to split strings into tokens\n",
    "\n",
    "https://datascience.stackexchange.com/questions/54904/how-to-avoid-tokenizing-w-sklearn-feature-extraction"
   ]
  },
  {
   "cell_type": "markdown",
   "metadata": {
    "slideshow": {
     "slide_type": "slide"
    }
   },
   "source": [
    "## Good Material \n",
    "\n",
    "- https://www.regular-expressions.info/anchors.html"
   ]
  },
  {
   "cell_type": "code",
   "execution_count": null,
   "metadata": {},
   "outputs": [],
   "source": []
  }
 ],
 "metadata": {
  "celltoolbar": "Slideshow",
  "kernelspec": {
   "display_name": "Python 3",
   "language": "python",
   "name": "python3"
  },
  "language_info": {
   "codemirror_mode": {
    "name": "ipython",
    "version": 3
   },
   "file_extension": ".py",
   "mimetype": "text/x-python",
   "name": "python",
   "nbconvert_exporter": "python",
   "pygments_lexer": "ipython3",
   "version": "3.7.3"
  },
  "toc": {
   "base_numbering": 1,
   "nav_menu": {},
   "number_sections": true,
   "sideBar": true,
   "skip_h1_title": false,
   "title_cell": "Table of Contents",
   "title_sidebar": "Contents",
   "toc_cell": false,
   "toc_position": {},
   "toc_section_display": true,
   "toc_window_display": false
  }
 },
 "nbformat": 4,
 "nbformat_minor": 1
}

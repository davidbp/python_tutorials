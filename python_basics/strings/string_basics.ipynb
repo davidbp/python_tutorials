{
 "cells": [
  {
   "cell_type": "markdown",
   "metadata": {},
   "source": [
    "# Strings\n",
    "\n",
    "https://pyformat.info\n",
    "\n",
    "\n",
    "Some relevant functions for stings. Let us conside the following string\n",
    "\n",
    "```python\n",
    "x = 'This is a string.'\n",
    "```\n",
    "\n",
    "- `x.split(sep=None)`\n",
    "  - If `sep` is not specified or is `None`, any\n",
    "    whitespace string is a separator and empty strings are\n",
    "    removed from the result.\n",
    "\n",
    "- `x.upper()`\n",
    "  - Returns the string `x` with all characters uppercase.\n",
    "\n",
    "- `x.lower()`\n",
    "  - Returns the string `x` with all characters in lowercase.\n"
   ]
  },
  {
   "cell_type": "code",
   "execution_count": 86,
   "metadata": {},
   "outputs": [
    {
     "data": {
      "text/plain": [
       "str"
      ]
     },
     "execution_count": 86,
     "metadata": {},
     "output_type": "execute_result"
    }
   ],
   "source": [
    "x = 'This is a string'\n",
    "type(x)"
   ]
  },
  {
   "cell_type": "code",
   "execution_count": 87,
   "metadata": {
    "scrolled": false
   },
   "outputs": [
    {
     "data": {
      "text/plain": [
       "['This', 'is', 'a', 'string']"
      ]
     },
     "execution_count": 87,
     "metadata": {},
     "output_type": "execute_result"
    }
   ],
   "source": [
    "words = x.split()\n",
    "words"
   ]
  },
  {
   "cell_type": "code",
   "execution_count": 88,
   "metadata": {},
   "outputs": [
    {
     "data": {
      "text/plain": [
       "['We', 'can', 'split', 'separate', 'sentences.', 'Using', 'sep', 'argument.']"
      ]
     },
     "execution_count": 88,
     "metadata": {},
     "output_type": "execute_result"
    }
   ],
   "source": [
    "# by default split uses blank space ' ' as separator\n",
    "x = 'We can split separate sentences. Using sep argument.'\n",
    "x.split()"
   ]
  },
  {
   "cell_type": "code",
   "execution_count": 90,
   "metadata": {},
   "outputs": [
    {
     "data": {
      "text/plain": [
       "['We can split separate sentences', ' Using sep argument']"
      ]
     },
     "execution_count": 90,
     "metadata": {},
     "output_type": "execute_result"
    }
   ],
   "source": [
    "# We can define custom separators\n",
    "\n",
    "x = 'We can split separate sentences. Using sep argument'\n",
    "x.split(sep=\".\")"
   ]
  },
  {
   "cell_type": "markdown",
   "metadata": {},
   "source": [
    "# Formatting strings\n",
    "\n",
    "We can format strings using the `x.format` method. This method allow us to introduce information inside the string x. We write placeholders `{}` inside the string `x` in the positions where we want to put certain information.\n",
    "\n",
    "Let us see some examples\n"
   ]
  },
  {
   "cell_type": "code",
   "execution_count": 34,
   "metadata": {},
   "outputs": [],
   "source": [
    "names = ['David', 'Jaquim', 'Michael']\n",
    "ages = [19, 30, 50]"
   ]
  },
  {
   "cell_type": "code",
   "execution_count": 35,
   "metadata": {},
   "outputs": [
    {
     "name": "stdout",
     "output_type": "stream",
     "text": [
      "name: David\t age: 19\n",
      "name: Jaquim\t age: 30\n",
      "name: Michael\t age: 50\n"
     ]
    }
   ],
   "source": [
    "for name,age in zip(names,ages):\n",
    "    print('name: {}\\t age: {}'.format(name,age))"
   ]
  },
  {
   "cell_type": "markdown",
   "metadata": {},
   "source": [
    "## Placeholders and digit formatting\n",
    "\n",
    "We can speficy the number of digits used when formatting a number, or the maximum number of decimals."
   ]
  },
  {
   "cell_type": "code",
   "execution_count": 36,
   "metadata": {},
   "outputs": [
    {
     "name": "stdout",
     "output_type": "stream",
     "text": [
      "big number 10000000000 hard to read\n"
     ]
    }
   ],
   "source": [
    "print('big number {} hard to read'.format(10**10))"
   ]
  },
  {
   "cell_type": "code",
   "execution_count": 37,
   "metadata": {},
   "outputs": [
    {
     "name": "stdout",
     "output_type": "stream",
     "text": [
      "big number 10,000,000,000 better with commas\n"
     ]
    }
   ],
   "source": [
    "print('big number {:,} better with commas'.format(10**10))"
   ]
  },
  {
   "cell_type": "code",
   "execution_count": 38,
   "metadata": {},
   "outputs": [
    {
     "name": "stdout",
     "output_type": "stream",
     "text": [
      "big number 10,000,000,000.000 also with decimal places\n"
     ]
    }
   ],
   "source": [
    "print('big number {:,.3f} also with decimal places'.format(10**10))"
   ]
  },
  {
   "cell_type": "code",
   "execution_count": 39,
   "metadata": {},
   "outputs": [
    {
     "name": "stdout",
     "output_type": "stream",
     "text": [
      "number 05\n",
      "number 06\n",
      "number 07\n",
      "number 08\n",
      "number 09\n",
      "number 10\n",
      "number 11\n",
      "number 12\n",
      "number 13\n",
      "number 14\n"
     ]
    }
   ],
   "source": [
    "for i in range(5,15):\n",
    "    print('number {:02}'.format(i))"
   ]
  },
  {
   "cell_type": "code",
   "execution_count": 40,
   "metadata": {},
   "outputs": [
    {
     "name": "stdout",
     "output_type": "stream",
     "text": [
      "number 2 dedimals 1.67\tnumber 3 decimals 1.667\n",
      "number 2 dedimals 2.00\tnumber 3 decimals 2.000\n",
      "number 2 dedimals 2.33\tnumber 3 decimals 2.333\n",
      "number 2 dedimals 2.67\tnumber 3 decimals 2.667\n",
      "number 2 dedimals 3.00\tnumber 3 decimals 3.000\n",
      "number 2 dedimals 3.33\tnumber 3 decimals 3.333\n",
      "number 2 dedimals 3.67\tnumber 3 decimals 3.667\n",
      "number 2 dedimals 4.00\tnumber 3 decimals 4.000\n",
      "number 2 dedimals 4.33\tnumber 3 decimals 4.333\n",
      "number 2 dedimals 4.67\tnumber 3 decimals 4.667\n"
     ]
    }
   ],
   "source": [
    "# Decide the number of decimals\n",
    "for i in range(5,15):\n",
    "    print('number 2 dedimals {:.2f}'.format(i/3.),end=\"\\t\")\n",
    "    print('number 3 decimals {:.3f}'.format(i/3.))"
   ]
  },
  {
   "cell_type": "markdown",
   "metadata": {},
   "source": [
    "## Placeholders with integer values \n",
    "We can also use placeholders with integers inside, this can be usefull in a variety of situations. For example, if we want to print a repetead value inside a string we don't need to pass it to the format method several times."
   ]
  },
  {
   "cell_type": "code",
   "execution_count": 91,
   "metadata": {},
   "outputs": [
    {
     "name": "stdout",
     "output_type": "stream",
     "text": [
      "name: David\t name again: David \t age: 19\n",
      "name: Jaquim\t name again: Jaquim \t age: 30\n",
      "name: Michael\t name again: Michael \t age: 50\n"
     ]
    }
   ],
   "source": [
    "# We don't need to do this\n",
    "for name,age in zip(names,ages):\n",
    "    print('name: {}\\t name again: {} \\t age: {}'.format(name, name, age))"
   ]
  },
  {
   "cell_type": "code",
   "execution_count": 92,
   "metadata": {},
   "outputs": [
    {
     "name": "stdout",
     "output_type": "stream",
     "text": [
      "name: David\t name again: David \t age: 19\n",
      "name: Jaquim\t name again: Jaquim \t age: 30\n",
      "name: Michael\t name again: Michael \t age: 50\n"
     ]
    }
   ],
   "source": [
    "# We can simply use placeholders with integers inside to refer\n",
    "# to the potition of the input of the format method.\n",
    "for name,age in zip(names,ages):\n",
    "    print('name: {0}\\t name again: {0} \\t age: {1}'.format(name,age))"
   ]
  },
  {
   "cell_type": "markdown",
   "metadata": {},
   "source": [
    "## Placeholders with keyword arguments\n",
    "\n",
    "We can also use keyword arguments inside the format method. By doing so we don't need to take into account the order at which the inputs of `forward` are sent.\n"
   ]
  },
  {
   "cell_type": "code",
   "execution_count": 93,
   "metadata": {},
   "outputs": [
    {
     "name": "stdout",
     "output_type": "stream",
     "text": [
      "name: David\t \t age: 19\n",
      "name: Jaquim\t \t age: 30\n",
      "name: Michael\t \t age: 50\n"
     ]
    }
   ],
   "source": [
    "for n,a in zip(names,ages):\n",
    "    print('name: {name}\\t \\t age: {age}'.format(age=a, name=n))"
   ]
  },
  {
   "cell_type": "markdown",
   "metadata": {},
   "source": [
    "## Placeholders with dictionary inputs\n",
    "\n",
    "We can pass dictionaries in the `format` method and use the keys of the dictionaries inside the placeholders."
   ]
  },
  {
   "cell_type": "code",
   "execution_count": 94,
   "metadata": {},
   "outputs": [],
   "source": [
    "names = ['David', 'Jaquim', 'Michael']\n",
    "ages = [19, 30, 50]\n",
    "\n",
    "d = []\n",
    "\n",
    "for n,a in zip(names,ages):\n",
    "    d.append({'name':n, 'age':a})"
   ]
  },
  {
   "cell_type": "code",
   "execution_count": 95,
   "metadata": {},
   "outputs": [
    {
     "name": "stdout",
     "output_type": "stream",
     "text": [
      "name: David\t \t age: 19\n",
      "name: Jaquim\t \t age: 30\n",
      "name: Michael\t \t age: 50\n"
     ]
    }
   ],
   "source": [
    "for d_k in d:\n",
    "    print('name: {name}\\t \\t age: {age}'.format(**d_k))"
   ]
  },
  {
   "cell_type": "markdown",
   "metadata": {},
   "source": [
    "# Date strings"
   ]
  },
  {
   "cell_type": "code",
   "execution_count": 96,
   "metadata": {},
   "outputs": [],
   "source": [
    "import datetime\n",
    "my_date = datetime.datetime(2017,10,5,10)"
   ]
  },
  {
   "cell_type": "code",
   "execution_count": 732,
   "metadata": {},
   "outputs": [
    {
     "data": {
      "text/plain": [
       "'The date was 5/10/2017'"
      ]
     },
     "execution_count": 732,
     "metadata": {},
     "output_type": "execute_result"
    }
   ],
   "source": [
    "'The date was {m.day}/{m.month}/{m.year}'.format(m=my_date)"
   ]
  },
  {
   "cell_type": "markdown",
   "metadata": {},
   "source": [
    "# Working with bytes\n",
    "\n",
    "Strings are internally encoded in lots of different ways but, for the most part, they end up beeing represented as a sequence of bytes.  Just like numbers, one need some extra information to understand the meaning of a sequence of bytes. If no context is provided `10` can be ten (in base 10) or two (in base 2) or sixteen (in base 16). \n",
    "\n",
    "In order to decode a sequence of bytes into a string we need to know how the sequence of bytes was encoded.\n",
    "\n",
    "\n",
    "It is rellevant then to know how to work with bytes in python.\n",
    "\n",
    "- **`bytes(k)`** creates a `bytes` object with `k` bytes.\n",
    "\n",
    "\n",
    "- In python bytes are represented by `b'0x##0x##...0x##'` where `##` are two hexadecimal numbers. \n",
    "\n",
    "\n",
    "- Recall that a bytes is 8 bits and a hexadecimal number is a numer from 0 to 15 represented as `1,2,...,9,a,b,c,d,e,f`. Therefore any byte, which allows us to represent values up to 255 (2^8-1) can be written as two hexadecimal numbers.\n",
    "    \n",
    "    - Hexadecimal numbers are represented with the prefix `0x`.\n",
    "      For example number 10 in hexadecimal is `0xa`\n",
    "    \n",
    "    - Example: `00000110` is represented as `0x06` in hexadecimal\n",
    "\n",
    "\n",
    "- The function **`hex`** can be used to optain the hexadecimal form of an integer in base 10\n",
    "\n",
    "    - Example: `hex(65)` is `0x41`, `hex(10)` is `0xa`\n",
    "\n",
    "\n",
    "- The function **`int(h,16)`** can be used to obtain the integer (in base 10) of the number in hexadecimal form `h`. More generally `int(n,b)` returns the integer (in base 10) of the number `n` passed as a string assuming `n` is represented in base `b`.\n",
    "\n",
    "    - Example: `int(\"101\",2)` is `5`\n",
    "    - Example: `int(\"101\",16)` is `257`.\n",
    "    - Example: `int(\"0xF,16)` is `15`\n",
    "\n",
    "\n",
    "##### `bytes` and `bytearrays`\n",
    "\n",
    "- The function **`bytearrays.fromhex`** can be used to create a `bytearrays` object from a string containing a list of hexadecimal digits.\n",
    "    \n",
    "    - Example:\n",
    "    ```\n",
    "    b_array = bytearray.fromhex(\"0f\")\n",
    "    b_array == b'\\x0f'\n",
    "    True\n",
    "    ```\n",
    "    Notice that  `bytearray.fromhex(\"f\")` will cause an error because two concatenated hexadecimal digits are needed to define a byte.\n"
   ]
  },
  {
   "cell_type": "markdown",
   "metadata": {},
   "source": [
    "In Python 3, `bytes` consists of sequences of 8-bit values, while str consists of sequences of Unicode characters. bytes and strcannot be used together with operators like > or +.\n",
    "\n"
   ]
  },
  {
   "cell_type": "code",
   "execution_count": 823,
   "metadata": {},
   "outputs": [
    {
     "data": {
      "text/plain": [
       "bytes"
      ]
     },
     "execution_count": 823,
     "metadata": {},
     "output_type": "execute_result"
    }
   ],
   "source": [
    "type(b'this is a byte string')"
   ]
  },
  {
   "cell_type": "code",
   "execution_count": 780,
   "metadata": {},
   "outputs": [
    {
     "data": {
      "text/plain": [
       "(10, '0xa')"
      ]
     },
     "execution_count": 780,
     "metadata": {},
     "output_type": "execute_result"
    }
   ],
   "source": [
    "0xA, hex(10)"
   ]
  },
  {
   "cell_type": "markdown",
   "metadata": {},
   "source": [
    "We can use `hex` to generate a hexadecimal representatio of the input, if no extra argument is passed the method assumes base 10"
   ]
  },
  {
   "cell_type": "code",
   "execution_count": 792,
   "metadata": {},
   "outputs": [
    {
     "data": {
      "text/plain": [
       "'0xa'"
      ]
     },
     "execution_count": 792,
     "metadata": {},
     "output_type": "execute_result"
    }
   ],
   "source": [
    "ten_base16 = hex(10)\n",
    "ten_base16"
   ]
  },
  {
   "cell_type": "markdown",
   "metadata": {},
   "source": [
    "You can get an integer from a string containing a hexadecimal number. You can use `int(n,b)` to convert `n` in base `b` to an integer in base 10."
   ]
  },
  {
   "cell_type": "code",
   "execution_count": 794,
   "metadata": {},
   "outputs": [
    {
     "data": {
      "text/plain": [
       "10"
      ]
     },
     "execution_count": 794,
     "metadata": {},
     "output_type": "execute_result"
    }
   ],
   "source": [
    "ten_base10 = int(ten_base16, 16)\n",
    "ten_base10"
   ]
  },
  {
   "cell_type": "markdown",
   "metadata": {},
   "source": [
    "This also works with other bases"
   ]
  },
  {
   "cell_type": "code",
   "execution_count": 795,
   "metadata": {},
   "outputs": [
    {
     "data": {
      "text/plain": [
       "(5, 257, 101)"
      ]
     },
     "execution_count": 795,
     "metadata": {},
     "output_type": "execute_result"
    }
   ],
   "source": [
    "int(\"101\",2), int(\"101\",16), int(\"101\",10)"
   ]
  },
  {
   "cell_type": "code",
   "execution_count": 811,
   "metadata": {},
   "outputs": [
    {
     "data": {
      "text/plain": [
       "(10, 15, 15)"
      ]
     },
     "execution_count": 811,
     "metadata": {},
     "output_type": "execute_result"
    }
   ],
   "source": [
    "int('0xa',16), int('0xF',16), int(b\"0x0f\",16)"
   ]
  },
  {
   "cell_type": "markdown",
   "metadata": {},
   "source": [
    "Notice the difference between `b'x00'` and `x00`."
   ]
  },
  {
   "cell_type": "code",
   "execution_count": 812,
   "metadata": {},
   "outputs": [
    {
     "data": {
      "text/plain": [
       "(bytes, str)"
      ]
     },
     "execution_count": 812,
     "metadata": {},
     "output_type": "execute_result"
    }
   ],
   "source": [
    "type(b'x00'), type('x00')"
   ]
  },
  {
   "cell_type": "markdown",
   "metadata": {},
   "source": [
    "Create a byte concatenating the hexadecimal numbers \"ab0c\""
   ]
  },
  {
   "cell_type": "code",
   "execution_count": 813,
   "metadata": {},
   "outputs": [
    {
     "data": {
      "text/plain": [
       "True"
      ]
     },
     "execution_count": 813,
     "metadata": {},
     "output_type": "execute_result"
    }
   ],
   "source": [
    "b'\\x0f' == bytearray.fromhex(\"0f\")"
   ]
  },
  {
   "cell_type": "code",
   "execution_count": 814,
   "metadata": {},
   "outputs": [],
   "source": [
    "my_byte_array = bytearray.fromhex(\"ab0c\")"
   ]
  },
  {
   "cell_type": "code",
   "execution_count": 815,
   "metadata": {},
   "outputs": [
    {
     "data": {
      "text/plain": [
       "bytearray(b'\\xab\\x0c')"
      ]
     },
     "execution_count": 815,
     "metadata": {},
     "output_type": "execute_result"
    }
   ],
   "source": [
    "my_byte_array"
   ]
  },
  {
   "cell_type": "code",
   "execution_count": 816,
   "metadata": {},
   "outputs": [
    {
     "data": {
      "text/plain": [
       "2"
      ]
     },
     "execution_count": 816,
     "metadata": {},
     "output_type": "execute_result"
    }
   ],
   "source": [
    "len(my_byte_array)"
   ]
  },
  {
   "cell_type": "code",
   "execution_count": 817,
   "metadata": {
    "scrolled": true
   },
   "outputs": [
    {
     "ename": "ValueError",
     "evalue": "non-hexadecimal number found in fromhex() arg at position 1",
     "output_type": "error",
     "traceback": [
      "\u001b[0;31m---------------------------------------------------------------------------\u001b[0m",
      "\u001b[0;31mValueError\u001b[0m                                Traceback (most recent call last)",
      "\u001b[0;32m<ipython-input-817-adefe63d0159>\u001b[0m in \u001b[0;36m<module>\u001b[0;34m\u001b[0m\n\u001b[1;32m      1\u001b[0m \u001b[0;31m# this should produce an error since two hexadecimals are needed to create a byte\u001b[0m\u001b[0;34m\u001b[0m\u001b[0;34m\u001b[0m\u001b[0;34m\u001b[0m\u001b[0m\n\u001b[0;32m----> 2\u001b[0;31m \u001b[0mbytearray\u001b[0m\u001b[0;34m.\u001b[0m\u001b[0mfromhex\u001b[0m\u001b[0;34m(\u001b[0m\u001b[0;34m\"f\"\u001b[0m\u001b[0;34m)\u001b[0m\u001b[0;34m\u001b[0m\u001b[0;34m\u001b[0m\u001b[0m\n\u001b[0m",
      "\u001b[0;31mValueError\u001b[0m: non-hexadecimal number found in fromhex() arg at position 1"
     ]
    }
   ],
   "source": [
    "# this should produce an error since two hexadecimals are needed to create a byte\n",
    "bytearray.fromhex(\"f\")"
   ]
  },
  {
   "cell_type": "markdown",
   "metadata": {},
   "source": [
    "Working with a bunch of bytes"
   ]
  },
  {
   "cell_type": "code",
   "execution_count": 590,
   "metadata": {},
   "outputs": [],
   "source": [
    "empty_bytes = bytes(1)"
   ]
  },
  {
   "cell_type": "code",
   "execution_count": 591,
   "metadata": {},
   "outputs": [
    {
     "data": {
      "text/plain": [
       "b'\\x00'"
      ]
     },
     "execution_count": 591,
     "metadata": {},
     "output_type": "execute_result"
    }
   ],
   "source": [
    "empty_bytes"
   ]
  },
  {
   "cell_type": "code",
   "execution_count": 538,
   "metadata": {},
   "outputs": [
    {
     "data": {
      "text/plain": [
       "'A'"
      ]
     },
     "execution_count": 538,
     "metadata": {},
     "output_type": "execute_result"
    }
   ],
   "source": [
    "\"\\x41\""
   ]
  },
  {
   "cell_type": "code",
   "execution_count": 529,
   "metadata": {},
   "outputs": [
    {
     "data": {
      "text/plain": [
       "str"
      ]
     },
     "execution_count": 529,
     "metadata": {},
     "output_type": "execute_result"
    }
   ],
   "source": [
    "type(\"\\x0A\")"
   ]
  },
  {
   "cell_type": "code",
   "execution_count": 530,
   "metadata": {},
   "outputs": [
    {
     "data": {
      "text/plain": [
       "'\\n'"
      ]
     },
     "execution_count": 530,
     "metadata": {},
     "output_type": "execute_result"
    }
   ],
   "source": [
    "\"\\x0A\""
   ]
  },
  {
   "cell_type": "markdown",
   "metadata": {},
   "source": [
    "# String Encodings\n",
    "\n",
    "\n",
    "- We can do **`b'cafe'`** to encode in binary.\n",
    "- We can do **`u'cafe'`** to encode in unicode.\n",
    "\n",
    "## Encoding in utf-8, utf-16, utf-32\n",
    "\n",
    "We can use `x.encode('utf-8')`, `x.encode('utf-16')`, `x.encode('utf-32')` to encode `x` in utf-8, utf-16 or utf-32 respectively.\n",
    "\n",
    "\n",
    "Table containing `utf-8` representation \n",
    "```\n",
    "Bytes Bits  Byte representation\n",
    "1     7      0xxxxxxx            \n",
    "2     11     110xxxxx    10xxxxxx        \n",
    "3     16     1110xxxx    10xxxxxx    10xxxxxx    \n",
    "4     21     11110xxx    10xxxxxx    10xxxxxx    10xxxxxx\n",
    "```\n"
   ]
  },
  {
   "cell_type": "markdown",
   "metadata": {},
   "source": [
    "We can encode a particular scring if we preceed it with:\n",
    "\n",
    "- `u` for unicode\n",
    "- `b` for binary (asciii)\n",
    "\n",
    "Notice that not all strings can be encoded as asciii\n"
   ]
  },
  {
   "cell_type": "code",
   "execution_count": 841,
   "metadata": {
    "scrolled": false
   },
   "outputs": [
    {
     "data": {
      "text/plain": [
       "'café'"
      ]
     },
     "execution_count": 841,
     "metadata": {},
     "output_type": "execute_result"
    }
   ],
   "source": [
    "u'café'"
   ]
  },
  {
   "cell_type": "code",
   "execution_count": 843,
   "metadata": {
    "scrolled": true
   },
   "outputs": [
    {
     "ename": "SyntaxError",
     "evalue": "bytes can only contain ASCII literal characters. (<ipython-input-843-eb49c049fc5c>, line 1)",
     "output_type": "error",
     "traceback": [
      "\u001b[0;36m  File \u001b[0;32m\"<ipython-input-843-eb49c049fc5c>\"\u001b[0;36m, line \u001b[0;32m1\u001b[0m\n\u001b[0;31m    b'café'\u001b[0m\n\u001b[0m           ^\u001b[0m\n\u001b[0;31mSyntaxError\u001b[0m\u001b[0;31m:\u001b[0m bytes can only contain ASCII literal characters.\n"
     ]
    }
   ],
   "source": [
    "b'café'"
   ]
  },
  {
   "cell_type": "code",
   "execution_count": 853,
   "metadata": {},
   "outputs": [
    {
     "data": {
      "text/plain": [
       "'a'"
      ]
     },
     "execution_count": 853,
     "metadata": {},
     "output_type": "execute_result"
    }
   ],
   "source": [
    "'\\u0061'"
   ]
  },
  {
   "cell_type": "markdown",
   "metadata": {},
   "source": [
    "Examples of encodings in `utf-8` and `utf-16`"
   ]
  },
  {
   "cell_type": "code",
   "execution_count": 100,
   "metadata": {},
   "outputs": [
    {
     "data": {
      "text/plain": [
       "b'caf\\xc3\\xa9'"
      ]
     },
     "execution_count": 100,
     "metadata": {},
     "output_type": "execute_result"
    }
   ],
   "source": [
    "cafe_utf8 = 'café'.encode('utf-8')\n",
    "cafe_utf8"
   ]
  },
  {
   "cell_type": "code",
   "execution_count": 101,
   "metadata": {},
   "outputs": [
    {
     "data": {
      "text/plain": [
       "'café'"
      ]
     },
     "execution_count": 101,
     "metadata": {},
     "output_type": "execute_result"
    }
   ],
   "source": [
    "cafe_utf8.decode('utf-8')"
   ]
  },
  {
   "cell_type": "code",
   "execution_count": 102,
   "metadata": {},
   "outputs": [
    {
     "data": {
      "text/plain": [
       "b'\\xff\\xfec\\x00a\\x00f\\x00\\xe9\\x00'"
      ]
     },
     "execution_count": 102,
     "metadata": {},
     "output_type": "execute_result"
    }
   ],
   "source": [
    "cafe_utf16 = 'café'.encode('utf-16')\n",
    "cafe_utf16"
   ]
  },
  {
   "cell_type": "code",
   "execution_count": 103,
   "metadata": {},
   "outputs": [
    {
     "data": {
      "text/plain": [
       "'café'"
      ]
     },
     "execution_count": 103,
     "metadata": {},
     "output_type": "execute_result"
    }
   ],
   "source": [
    "cafe_utf16.decode('utf-16')"
   ]
  },
  {
   "cell_type": "markdown",
   "metadata": {},
   "source": [
    "# ASCII ENCODING (American Standard Code for Information Interchange)\n",
    "\n",
    "A natural question might arise: Why do we have all this encoding options for strings?\n",
    "    \n",
    "Why don't we want to use allways unicode?\n",
    "\n",
    "It turns out that, for historical reasons (computers were developed mainly in USA) there was no need to use  many different characters  to represent english text.  ASCII is uses  7 bits to represent any character. Notice that 2^7 = 128. Therefore in ASCII we can represent up to \"128 different characters\". \n",
    "\n",
    "The bijection between `[0,127] <-> ASCII`  can be found in the following table:\n",
    "\n",
    "\n",
    "##### ASCII table\n",
    "\n",
    "\n",
    "```\n",
    "\n",
    "Dec  Char                           Dec  Char     Dec  Char     Dec  Char\n",
    "---------                           ---------     ---------     ----------\n",
    "  0  NUL (null)                      32  SPACE     64  @         96  `\n",
    "  1  SOH (start of heading)          33  !         65  A         97  a\n",
    "  2  STX (start of text)             34  \"         66  B         98  b\n",
    "  3  ETX (end of text)               35  #         67  C         99  c\n",
    "  4  EOT (end of transmission)       36  $         68  D        100  d\n",
    "  5  ENQ (enquiry)                   37  %         69  E        101  e\n",
    "  6  ACK (acknowledge)               38  &         70  F        102  f\n",
    "  7  BEL (bell)                      39  '         71  G        103  g\n",
    "  8  BS  (backspace)                 40  (         72  H        104  h\n",
    "  9  TAB (horizontal tab)            41  )         73  I        105  i\n",
    " 10  LF  (NL line feed, new line)    42  *         74  J        106  j\n",
    " 11  VT  (vertical tab)              43  +         75  K        107  k\n",
    " 12  FF  (NP form feed, new page)    44  ,         76  L        108  l\n",
    " 13  CR  (carriage return)           45  -         77  M        109  m\n",
    " 14  SO  (shift out)                 46  .         78  N        110  n\n",
    " 15  SI  (shift in)                  47  /         79  O        111  o\n",
    " 16  DLE (data link escape)          48  0         80  P        112  p\n",
    " 17  DC1 (device control 1)          49  1         81  Q        113  q\n",
    " 18  DC2 (device control 2)          50  2         82  R        114  r\n",
    " 19  DC3 (device control 3)          51  3         83  S        115  s\n",
    " 20  DC4 (device control 4)          52  4         84  T        116  t\n",
    " 21  NAK (negative acknowledge)      53  5         85  U        117  u\n",
    " 22  SYN (synchronous idle)          54  6         86  V        118  v\n",
    " 23  ETB (end of trans. block)       55  7         87  W        119  w\n",
    " 24  CAN (cancel)                    56  8         88  X        120  x\n",
    " 25  EM  (end of medium)             57  9         89  Y        121  y\n",
    " 26  SUB (substitute)                58  :         90  Z        122  z\n",
    " 27  ESC (escape)                    59  ;         91  [        123  {\n",
    " 28  FS  (file separator)            60  <         92  \\        124  |\n",
    " 29  GS  (group separator)           61  =         93  ]        125  }\n",
    " 30  RS  (record separator)          62  >         94  ^        126  ~\n",
    " 31  US  (unit separator)            63  ?         95  _        127  DEL\n",
    " ```\n",
    "\n",
    "\n",
    "We can encode a string `s` in `ASCII`  using `s.encode(\"ascii\")`"
   ]
  },
  {
   "cell_type": "code",
   "execution_count": 116,
   "metadata": {},
   "outputs": [],
   "source": [
    "s = \"this is a string\"\n",
    "s = s.encode(\"ascii\")"
   ]
  },
  {
   "cell_type": "code",
   "execution_count": 183,
   "metadata": {
    "scrolled": true
   },
   "outputs": [
    {
     "data": {
      "text/plain": [
       "49"
      ]
     },
     "execution_count": 183,
     "metadata": {},
     "output_type": "execute_result"
    }
   ],
   "source": [
    "sys.getsizeof(s)"
   ]
  },
  {
   "cell_type": "markdown",
   "metadata": {},
   "source": [
    "Remember that `sys.getsizeof(x)`  return the size of object `x` in bytes.\n"
   ]
  },
  {
   "cell_type": "code",
   "execution_count": 158,
   "metadata": {
    "scrolled": true
   },
   "outputs": [
    {
     "name": "stdout",
     "output_type": "stream",
     "text": [
      "size of a single char in ascii 34\n",
      "size of a single char in unicode 50\n"
     ]
    }
   ],
   "source": [
    "s_ascii   = \"t\".encode(\"ascii\")\n",
    "s_unicode = \"t\"\n",
    "\n",
    "print(\"size of a single char in ascii\",  sys.getsizeof(s_ascii)) \n",
    "print(\"size of a single char in unicode\",sys.getsizeof(s_unicode))"
   ]
  },
  {
   "cell_type": "markdown",
   "metadata": {},
   "source": [
    "Notice that the size we get in bytes for a simple `\"t\"` is much greater than 7 bits. This happens because python strings are \"python objects\" and use more memory than needed."
   ]
  },
  {
   "cell_type": "code",
   "execution_count": 159,
   "metadata": {},
   "outputs": [
    {
     "data": {
      "text/plain": [
       "34"
      ]
     },
     "execution_count": 159,
     "metadata": {},
     "output_type": "execute_result"
    }
   ],
   "source": [
    " sys.getsizeof(s_ascii)"
   ]
  },
  {
   "cell_type": "code",
   "execution_count": 184,
   "metadata": {},
   "outputs": [
    {
     "data": {
      "text/plain": [
       "34"
      ]
     },
     "execution_count": 184,
     "metadata": {},
     "output_type": "execute_result"
    }
   ],
   "source": [
    "sys.getsizeof(b\"t\")"
   ]
  },
  {
   "cell_type": "markdown",
   "metadata": {},
   "source": [
    "There are brilliant details in the encoding table of ascii. One of the most usefull things is that letters a,b,c,...\n",
    "can be recognized easily from the binary representation.\n",
    "\n",
    "- Capital letters start with `10`\n",
    "- Notice that in ascii `A` is 65, in binary is `01000001`\n",
    "- Notice that in ascii `B` is 66, in binary is `01000010`\n",
    "- Notice that in ascii `C` is 67, in binary is `01000011`\n",
    "\n",
    "\n",
    "- Non Capital letters start with `11`\n",
    "- Notice that in ascii `a` is 97, in binary is `01100001`\n",
    "- Notice that in ascii `b` is 66, in binary is `01100010`\n",
    "- Notice that in ascii `c` is 67, in binary is `01100011`\n",
    "\n",
    "\n",
    "\n",
    "\n"
   ]
  },
  {
   "cell_type": "code",
   "execution_count": 412,
   "metadata": {},
   "outputs": [],
   "source": [
    "char = \"t\".encode(\"ascii\")"
   ]
  },
  {
   "cell_type": "code",
   "execution_count": 414,
   "metadata": {},
   "outputs": [],
   "source": [
    "aux = bytearray(char)"
   ]
  },
  {
   "cell_type": "code",
   "execution_count": 416,
   "metadata": {},
   "outputs": [
    {
     "data": {
      "text/plain": [
       "bytearray(b't')"
      ]
     },
     "execution_count": 416,
     "metadata": {},
     "output_type": "execute_result"
    }
   ],
   "source": [
    "aux"
   ]
  },
  {
   "cell_type": "code",
   "execution_count": 31,
   "metadata": {},
   "outputs": [
    {
     "ename": "NameError",
     "evalue": "name 'aux' is not defined",
     "output_type": "error",
     "traceback": [
      "\u001b[0;31m---------------------------------------------------------------------------\u001b[0m",
      "\u001b[0;31mNameError\u001b[0m                                 Traceback (most recent call last)",
      "\u001b[0;32m<ipython-input-31-4b936c5706a9>\u001b[0m in \u001b[0;36m<module>\u001b[0;34m\u001b[0m\n\u001b[0;32m----> 1\u001b[0;31m \u001b[0maux\u001b[0m\u001b[0;34m[\u001b[0m\u001b[0;36m0\u001b[0m\u001b[0;34m]\u001b[0m\u001b[0;34m\u001b[0m\u001b[0;34m\u001b[0m\u001b[0m\n\u001b[0m",
      "\u001b[0;31mNameError\u001b[0m: name 'aux' is not defined"
     ]
    }
   ],
   "source": [
    "aux[0]"
   ]
  },
  {
   "cell_type": "markdown",
   "metadata": {},
   "source": [
    "##### doc_0.txt\n",
    "\n",
    "We can inspect `files/doc_0.txt` which only contains a single letter `a`.\n",
    "\n",
    "Using **`xxd`** we can inspect the binary document (the byte representation of the document).\n",
    "\n"
   ]
  },
  {
   "cell_type": "code",
   "execution_count": 83,
   "metadata": {},
   "outputs": [
    {
     "name": "stdout",
     "output_type": "stream",
     "text": [
      "a\r\n"
     ]
    }
   ],
   "source": [
    "!cat files/doc_0.txt"
   ]
  },
  {
   "cell_type": "code",
   "execution_count": 47,
   "metadata": {},
   "outputs": [
    {
     "name": "stdout",
     "output_type": "stream",
     "text": [
      "00000000: 610a                                     a.\r\n"
     ]
    }
   ],
   "source": [
    "!xxd ./files/doc_0.txt"
   ]
  },
  {
   "cell_type": "markdown",
   "metadata": {},
   "source": [
    "notice that the file is simply defined in a couple of  bytes: `610a`.\n",
    "\n",
    "We can see the unicodes characters that correspond to that information."
   ]
  },
  {
   "cell_type": "code",
   "execution_count": 35,
   "metadata": {},
   "outputs": [
    {
     "data": {
      "text/plain": [
       "('a', '\\n')"
      ]
     },
     "execution_count": 35,
     "metadata": {},
     "output_type": "execute_result"
    }
   ],
   "source": [
    "chr(0x61),chr(0x0a)"
   ]
  },
  {
   "cell_type": "markdown",
   "metadata": {},
   "source": [
    "##### doc_1.txt\n",
    "\n",
    "The file `.files/doc_1.txt` simply contiains\n",
    "\n",
    "```\n",
    "a dog eats.\n",
    "a dog can not fly.\n",
    "```\n",
    "\n",
    "We can inspect again the bytes that encode that information.\n"
   ]
  },
  {
   "cell_type": "code",
   "execution_count": 82,
   "metadata": {},
   "outputs": [
    {
     "name": "stdout",
     "output_type": "stream",
     "text": [
      "a dog eats.\r\n",
      "a dog can not fly.\r\n"
     ]
    }
   ],
   "source": [
    "!cat files/doc_1.txt"
   ]
  },
  {
   "cell_type": "code",
   "execution_count": 48,
   "metadata": {},
   "outputs": [
    {
     "name": "stdout",
     "output_type": "stream",
     "text": [
      "00000000: 6120 646f 6720 6561 7473 2e0a 6120 646f  a dog eats..a do\r\n",
      "00000010: 6720 6361 6e20 6e6f 7420 666c 792e 0a    g can not fly..\r\n"
     ]
    }
   ],
   "source": [
    "!xxd ./files/doc_1.txt"
   ]
  },
  {
   "cell_type": "markdown",
   "metadata": {},
   "source": [
    "We can inspect the different bytes and see that we can retrieve the text from the bytes."
   ]
  },
  {
   "cell_type": "code",
   "execution_count": 50,
   "metadata": {
    "scrolled": true
   },
   "outputs": [
    {
     "data": {
      "text/plain": [
       "('a', ' ', 'd', 'o', 'g', ' ')"
      ]
     },
     "execution_count": 50,
     "metadata": {},
     "output_type": "execute_result"
    }
   ],
   "source": [
    "chr(0x61),chr(0x20), chr(0x64), chr(0x6f), chr(0x67),  chr(0x20)"
   ]
  },
  {
   "cell_type": "markdown",
   "metadata": {},
   "source": [
    "##### doc_2.txt\n",
    "\n",
    "The file `.files/doc_2.txt` contains a single letter: `ñ`."
   ]
  },
  {
   "cell_type": "code",
   "execution_count": 77,
   "metadata": {},
   "outputs": [
    {
     "name": "stdout",
     "output_type": "stream",
     "text": [
      "ñ\r\n"
     ]
    }
   ],
   "source": [
    "!cat files/doc_2.txt"
   ]
  },
  {
   "cell_type": "code",
   "execution_count": 80,
   "metadata": {},
   "outputs": [
    {
     "name": "stdout",
     "output_type": "stream",
     "text": [
      "00000000: c3b1 0a                                  ...\r\n"
     ]
    }
   ],
   "source": [
    "!xxd ./files/doc_2.txt"
   ]
  },
  {
   "cell_type": "markdown",
   "metadata": {},
   "source": [
    "Notice though that now we don't see `ñ` using the same technique as before"
   ]
  },
  {
   "cell_type": "code",
   "execution_count": 81,
   "metadata": {},
   "outputs": [
    {
     "data": {
      "text/plain": [
       "'Ã'"
      ]
     },
     "execution_count": 81,
     "metadata": {},
     "output_type": "execute_result"
    }
   ],
   "source": [
    "chr(0xc3)"
   ]
  },
  {
   "cell_type": "markdown",
   "metadata": {},
   "source": [
    "In order to understand how to interpret the previous sequence of bytes we need to understand unicode and the different types of encodings that exist. "
   ]
  },
  {
   "cell_type": "markdown",
   "metadata": {},
   "source": [
    "# Unicode Encoding\n",
    "\n",
    "The Unicode standard is based on a dictionary where keys are characters and values are integers. For example `unicode(\"A\") = 65`.\n",
    "\n",
    "In python we have \n",
    "\n",
    "- the function **`ord`** which returns the Unicode code point for a given one-character string.\n",
    "- the function **`chr`** which returns the character string for a given code point. A code point can be passed as a Python integer or as a hexadecimal number.\n",
    "\n",
    "\n",
    "\n",
    "In reality, keys are characters and values are \"code points\". Each code point is simply an integer represented in the following format:`U+****`. \n",
    "\n",
    "For example, `unicode_codepoint(\"A\")=U+0041`. \n",
    "\n",
    "Notice that this dictionary says nothing about how `65` should be stored into Memory (RAM). There are different ways to encode strings to memory. The most revolutionary idea about unicode is the **separation between the mapping of characters-integers from the actual memory representation of the integers**.\n",
    "\n",
    "\n",
    "A nice table containing code points for different characters can be found here:\n",
    "\n",
    "https://pkg.julialang.org/docs/julia/THl1k/1.1.1/manual/unicode-input.html\n",
    "\n"
   ]
  },
  {
   "cell_type": "code",
   "execution_count": 323,
   "metadata": {
    "scrolled": true
   },
   "outputs": [
    {
     "name": "stdout",
     "output_type": "stream",
     "text": [
      "The symbol 'a' has code point associated 97 \n"
     ]
    }
   ],
   "source": [
    "print(\"The symbol '{}' has code point associated {} \".format(\"a\", ord(\"a\")))"
   ]
  },
  {
   "cell_type": "markdown",
   "metadata": {},
   "source": [
    "Notice `chr` can get as input hexadecimal numbers and integers"
   ]
  },
  {
   "cell_type": "code",
   "execution_count": 860,
   "metadata": {},
   "outputs": [
    {
     "data": {
      "text/plain": [
       "('A', 'A')"
      ]
     },
     "execution_count": 860,
     "metadata": {},
     "output_type": "execute_result"
    }
   ],
   "source": [
    "chr(0x41), chr(65)"
   ]
  },
  {
   "cell_type": "markdown",
   "metadata": {},
   "source": [
    "Also we can write unicode character in python writting \"\\uXXXX\""
   ]
  },
  {
   "cell_type": "code",
   "execution_count": 373,
   "metadata": {},
   "outputs": [
    {
     "name": "stdout",
     "output_type": "stream",
     "text": [
      "a\n"
     ]
    }
   ],
   "source": [
    "some_unicode_char = u'\\u0061'\n",
    "print(some_unicode_char)"
   ]
  },
  {
   "cell_type": "markdown",
   "metadata": {},
   "source": [
    "We can build the ascii table\n"
   ]
  },
  {
   "cell_type": "code",
   "execution_count": 347,
   "metadata": {},
   "outputs": [
    {
     "name": "stdout",
     "output_type": "stream",
     "text": [
      "0 \u0000\n",
      "1 \u0001\n",
      "2 \u0002\n",
      "3 \u0003\n",
      "4 \u0004\n",
      "5 \u0005\n",
      "6 \u0006\n",
      "7 \u0007\n",
      "8 \b\n",
      "9 \t\n",
      "10 \n",
      "\n",
      "11 \u000b",
      "\n",
      "12 \f",
      "\n",
      "13 \r\n",
      "14 \u000e\n",
      "15 \u000f\n",
      "16 \u0010\n",
      "17 \u0011\n",
      "18 \u0012\n",
      "19 \u0013\n",
      "20 \u0014\n",
      "21 \u0015\n",
      "22 \u0016\n",
      "23 \u0017\n",
      "24 \u0018\n",
      "25 \u0019\n",
      "26 \u001a\n",
      "27 \u001b\n",
      "28 \u001c",
      "\n",
      "29 \u001d",
      "\n",
      "30 \u001e",
      "\n",
      "31 \u001f\n",
      "32  \n",
      "33 !\n",
      "34 \"\n",
      "35 #\n",
      "36 $\n",
      "37 %\n",
      "38 &\n",
      "39 '\n",
      "40 (\n",
      "41 )\n",
      "42 *\n",
      "43 +\n",
      "44 ,\n",
      "45 -\n",
      "46 .\n",
      "47 /\n",
      "48 0\n",
      "49 1\n",
      "50 2\n",
      "51 3\n",
      "52 4\n",
      "53 5\n",
      "54 6\n",
      "55 7\n",
      "56 8\n",
      "57 9\n",
      "58 :\n",
      "59 ;\n",
      "60 <\n",
      "61 =\n",
      "62 >\n",
      "63 ?\n",
      "64 @\n",
      "65 A\n",
      "66 B\n",
      "67 C\n",
      "68 D\n",
      "69 E\n",
      "70 F\n",
      "71 G\n",
      "72 H\n",
      "73 I\n",
      "74 J\n",
      "75 K\n",
      "76 L\n",
      "77 M\n",
      "78 N\n",
      "79 O\n",
      "80 P\n",
      "81 Q\n",
      "82 R\n",
      "83 S\n",
      "84 T\n",
      "85 U\n",
      "86 V\n",
      "87 W\n",
      "88 X\n",
      "89 Y\n",
      "90 Z\n",
      "91 [\n",
      "92 \\\n",
      "93 ]\n",
      "94 ^\n",
      "95 _\n",
      "96 `\n",
      "97 a\n",
      "98 b\n",
      "99 c\n",
      "100 d\n",
      "101 e\n",
      "102 f\n",
      "103 g\n",
      "104 h\n",
      "105 i\n",
      "106 j\n",
      "107 k\n",
      "108 l\n",
      "109 m\n",
      "110 n\n",
      "111 o\n",
      "112 p\n",
      "113 q\n",
      "114 r\n",
      "115 s\n",
      "116 t\n",
      "117 u\n",
      "118 v\n",
      "119 w\n",
      "120 x\n",
      "121 y\n",
      "122 z\n",
      "123 {\n",
      "124 |\n",
      "125 }\n",
      "126 ~\n",
      "127 \n"
     ]
    }
   ],
   "source": [
    "for i in range(0,128):\n",
    "    print(i, chr(i), end=\"\\n\")"
   ]
  },
  {
   "cell_type": "markdown",
   "metadata": {},
   "source": [
    "We can also observe other characters..."
   ]
  },
  {
   "cell_type": "code",
   "execution_count": 299,
   "metadata": {},
   "outputs": [
    {
     "name": "stdout",
     "output_type": "stream",
     "text": [
      "2  3  4  5  6  7  8  9  :  ;  <  =  >  ?  @  A  B  C  D  E  F  G  H  I  J  K  L  M  N  O  P  Q  R  S  T  U  V  W  X  Y  Z  [  \\  ]  ^  _  `  a  b  c  d  e  f  g  h  i  j  k  l  m  n  o  p  q  r  s  t  u  v  w  x  y  z  {  |  }  ~              ",
      "                                                         ¡  ¢  £  ¤  ¥  ¦  §  ¨  ©  ª  «  ¬  ­  ®  ¯  °  ±  ²  ³  ´  µ  ¶  ·  ¸  ¹  º  »  ¼  ½  ¾  ¿  À  Á  Â  Ã  Ä  Å  Æ  Ç  È  É  Ê  Ë  Ì  Í  Î  Ï  Ð  Ñ  Ò  Ó  Ô  Õ  Ö  ×  Ø  Ù  Ú  Û  Ü  Ý  Þ  ß  à  á  â  ã  ä  å  æ  ç  è  é  ê  ë  ì  í  î  ï  ð  ñ  ò  ó  ô  õ  ö  ÷  ø  ù  ú  û  ü  ý  þ  ÿ  Ā  ā  Ă  ă  Ą  ą  Ć  ć  Ĉ  ĉ  Ċ  ċ  Č  č  Ď  ď  Đ  đ  Ē  ē  Ĕ  ĕ  Ė  ė  Ę  ę  Ě  ě  Ĝ  ĝ  Ğ  ğ  Ġ  ġ  Ģ  ģ  Ĥ  ĥ  Ħ  ħ  Ĩ  ĩ  Ī  ī  Ĭ  ĭ  Į  į  İ  ı  Ĳ  ĳ  Ĵ  ĵ  Ķ  ķ  ĸ  Ĺ  ĺ  Ļ  ļ  Ľ  ľ  Ŀ  ŀ  Ł  ł  Ń  ń  Ņ  ņ  Ň  ň  ŉ  Ŋ  ŋ  Ō  ō  Ŏ  ŏ  Ő  ő  Œ  œ  Ŕ  ŕ  Ŗ  ŗ  Ř  ř  Ś  ś  Ŝ  ŝ  Ş  ş  Š  š  Ţ  ţ  Ť  ť  Ŧ  ŧ  Ũ  ũ  Ū  ū  Ŭ  ŭ  Ů  ů  Ű  ű  Ų  ų  Ŵ  ŵ  Ŷ  ŷ  Ÿ  Ź  ź  Ż  ż  Ž  ž  ſ  ƀ  Ɓ  Ƃ  ƃ  Ƅ  ƅ  Ɔ  Ƈ  ƈ  Ɖ  Ɗ  Ƌ  ƌ  ƍ  Ǝ  Ə  Ɛ  Ƒ  ƒ  Ɠ  Ɣ  ƕ  Ɩ  Ɨ  Ƙ  ƙ  ƚ  ƛ  Ɯ  Ɲ  ƞ  Ɵ  Ơ  ơ  Ƣ  ƣ  Ƥ  ƥ  Ʀ  Ƨ  ƨ  Ʃ  ƪ  ƫ  Ƭ  ƭ  Ʈ  Ư  ư  Ʊ  Ʋ  Ƴ  ƴ  Ƶ  ƶ  Ʒ  Ƹ  ƹ  ƺ  ƻ  Ƽ  ƽ  ƾ  ƿ  ǀ  ǁ  ǂ  ǃ  Ǆ  ǅ  ǆ  Ǉ  ǈ  ǉ  Ǌ  ǋ  ǌ  Ǎ  ǎ  Ǐ  ǐ  Ǒ  ǒ  Ǔ  ǔ  Ǖ  ǖ  Ǘ  ǘ  Ǚ  ǚ  Ǜ  ǜ  ǝ  Ǟ  ǟ  Ǡ  ǡ  Ǣ  ǣ  Ǥ  ǥ  Ǧ  ǧ  Ǩ  ǩ  Ǫ  ǫ  Ǭ  ǭ  Ǯ  ǯ  ǰ  Ǳ  ǲ  ǳ  Ǵ  ǵ  Ƕ  Ƿ  Ǹ  ǹ  Ǻ  ǻ  Ǽ  ǽ  Ǿ  ǿ  Ȁ  ȁ  Ȃ  ȃ  Ȅ  ȅ  Ȇ  ȇ  Ȉ  ȉ  Ȋ  ȋ  Ȍ  ȍ  Ȏ  ȏ  Ȑ  ȑ  Ȓ  ȓ  Ȕ  ȕ  Ȗ  ȗ  Ș  ș  Ț  ț  Ȝ  ȝ  Ȟ  ȟ  Ƞ  ȡ  Ȣ  ȣ  Ȥ  ȥ  Ȧ  ȧ  Ȩ  ȩ  Ȫ  ȫ  Ȭ  ȭ  Ȯ  ȯ  Ȱ  ȱ  Ȳ  ȳ  ȴ  ȵ  ȶ  ȷ  ȸ  ȹ  Ⱥ  Ȼ  ȼ  Ƚ  Ⱦ  ȿ  ɀ  Ɂ  ɂ  Ƀ  Ʉ  Ʌ  Ɇ  ɇ  Ɉ  ɉ  Ɋ  ɋ  Ɍ  ɍ  Ɏ  ɏ  ɐ  ɑ  ɒ  ɓ  ɔ  ɕ  ɖ  ɗ  ɘ  ə  ɚ  ɛ  ɜ  ɝ  ɞ  ɟ  ɠ  ɡ  ɢ  ɣ  ɤ  ɥ  ɦ  ɧ  ɨ  ɩ  ɪ  ɫ  ɬ  ɭ  ɮ  ɯ  ɰ  ɱ  ɲ  ɳ  ɴ  ɵ  ɶ  ɷ  ɸ  ɹ  ɺ  ɻ  ɼ  ɽ  ɾ  ɿ  ʀ  ʁ  ʂ  ʃ  ʄ  ʅ  ʆ  ʇ  ʈ  ʉ  ʊ  ʋ  ʌ  ʍ  ʎ  ʏ  ʐ  ʑ  ʒ  ʓ  ʔ  ʕ  ʖ  ʗ  ʘ  ʙ  ʚ  ʛ  ʜ  ʝ  ʞ  ʟ  ʠ  ʡ  ʢ  ʣ  ʤ  ʥ  ʦ  ʧ  ʨ  ʩ  ʪ  ʫ  ʬ  ʭ  ʮ  ʯ  ʰ  ʱ  ʲ  ʳ  ʴ  ʵ  ʶ  ʷ  ʸ  ʹ  ʺ  ʻ  ʼ  ʽ  ʾ  ʿ  ˀ  ˁ  ˂  ˃  ˄  ˅  ˆ  ˇ  ˈ  ˉ  ˊ  ˋ  ˌ  ˍ  ˎ  ˏ  ː  ˑ  ˒  ˓  ˔  ˕  ˖  ˗  ˘  ˙  ˚  ˛  ˜  ˝  ˞  ˟  ˠ  ˡ  ˢ  ˣ  ˤ  ˥  ˦  ˧  ˨  ˩  ˪  ˫  ˬ  ˭  ˮ  ˯  ˰  ˱  ˲  ˳  ˴  ˵  ˶  ˷  ˸  ˹  ˺  ˻  ˼  ˽  ˾  ˿  ̀  ́  ̂  ̃  ̄  ̅  ̆  ̇  ̈  ̉  ̊  ̋  ̌  ̍  ̎  ̏  ̐  ̑  ̒  ̓  ̔  ̕  ̖  ̗  ̘  ̙  ̚  ̛  ̜  ̝  ̞  ̟  ̠  ̡  ̢  ̣  ̤  ̥  ̦  ̧  ̨  ̩  ̪  ̫  ̬  ̭  ̮  ̯  ̰  ̱  ̲  ̳  ̴  ̵  ̶  ̷  ̸  ̹  ̺  ̻  ̼  ̽  ̾  ̿  ̀  ́  ͂  ̓  ̈́  ͅ  ͆  ͇  ͈  ͉  ͊  ͋  ͌  ͍  ͎  ͏  ͐  ͑  ͒  ͓  ͔  ͕  ͖  ͗  ͘  ͙  ͚  ͛  ͜  ͝  ͞  ͟  ͠  ͡  ͢  ͣ  ͤ  ͥ  ͦ  ͧ  ͨ  ͩ  ͪ  ͫ  ͬ  ͭ  ͮ  ͯ  Ͱ  ͱ  Ͳ  ͳ  ʹ  ͵  Ͷ  ͷ  ͸  ͹  ͺ  ͻ  ͼ  ͽ  ;  Ϳ  ΀  ΁  ΂  ΃  ΄  ΅  Ά  ·  Έ  Ή  Ί  ΋  Ό  ΍  Ύ  Ώ  ΐ  Α  Β  Γ  Δ  Ε  Ζ  Η  Θ  Ι  Κ  Λ  Μ  Ν  Ξ  Ο  Π  Ρ  ΢  Σ  Τ  Υ  Φ  Χ  Ψ  Ω  Ϊ  Ϋ  ά  έ  ή  ί  ΰ  α  β  γ  δ  ε  ζ  η  θ  ι  κ  λ  μ  ν  ξ  ο  π  ρ  ς  σ  τ  υ  φ  χ  ψ  ω  ϊ  ϋ  ό  ύ  ώ  Ϗ  ϐ  ϑ  ϒ  ϓ  ϔ  ϕ  ϖ  ϗ  Ϙ  ϙ  Ϛ  ϛ  Ϝ  ϝ  Ϟ  ϟ  Ϡ  ϡ  Ϣ  ϣ  Ϥ  ϥ  Ϧ  ϧ  Ϩ  ϩ  Ϫ  ϫ  Ϭ  ϭ  Ϯ  ϯ  ϰ  ϱ  ϲ  ϳ  ϴ  ϵ  ϶  Ϸ  ϸ  Ϲ  Ϻ  ϻ  ϼ  Ͻ  Ͼ  Ͽ  Ѐ  Ё  Ђ  Ѓ  Є  Ѕ  І  Ї  Ј  Љ  Њ  Ћ  Ќ  Ѝ  Ў  Џ  А  Б  В  Г  Д  Е  Ж  З  И  Й  К  Л  М  Н  О  П  Р  С  Т  У  Ф  Х  Ц  Ч  Ш  Щ  Ъ  Ы  Ь  Э  Ю  Я  а  б  в  г  д  е  ж  з  и  й  к  л  м  н  о  п  р  с  т  у  ф  х  ц  ч  ш  щ  ъ  ы  "
     ]
    }
   ],
   "source": [
    "for i in range(50,1100):\n",
    "    print(chr(i),end=\"  \")"
   ]
  },
  {
   "cell_type": "code",
   "execution_count": 281,
   "metadata": {},
   "outputs": [
    {
     "data": {
      "text/plain": [
       "'䀅'"
      ]
     },
     "execution_count": 281,
     "metadata": {},
     "output_type": "execute_result"
    }
   ],
   "source": [
    "# https://www.compart.com/en/unicode/U+4005\n",
    "'\\u4005'"
   ]
  },
  {
   "cell_type": "code",
   "execution_count": 284,
   "metadata": {},
   "outputs": [
    {
     "data": {
      "text/plain": [
       "'♀'"
      ]
     },
     "execution_count": 284,
     "metadata": {},
     "output_type": "execute_result"
    }
   ],
   "source": [
    "\"\\u2640\""
   ]
  },
  {
   "cell_type": "code",
   "execution_count": 12,
   "metadata": {},
   "outputs": [
    {
     "data": {
      "text/plain": [
       "'龟'"
      ]
     },
     "execution_count": 12,
     "metadata": {},
     "output_type": "execute_result"
    }
   ],
   "source": [
    "chr(40863)"
   ]
  },
  {
   "cell_type": "code",
   "execution_count": 31,
   "metadata": {},
   "outputs": [
    {
     "data": {
      "text/plain": [
       "'0x9f9f'"
      ]
     },
     "execution_count": 31,
     "metadata": {},
     "output_type": "execute_result"
    }
   ],
   "source": [
    "turtle_hex = hex(40863)\n",
    "turtle_hex"
   ]
  },
  {
   "cell_type": "code",
   "execution_count": 41,
   "metadata": {},
   "outputs": [
    {
     "data": {
      "text/plain": [
       "'0x9f9f'"
      ]
     },
     "execution_count": 41,
     "metadata": {},
     "output_type": "execute_result"
    }
   ],
   "source": [
    "turtle_hex"
   ]
  },
  {
   "cell_type": "code",
   "execution_count": 26,
   "metadata": {},
   "outputs": [
    {
     "data": {
      "text/plain": [
       "'龟'"
      ]
     },
     "execution_count": 26,
     "metadata": {},
     "output_type": "execute_result"
    }
   ],
   "source": [
    "\"\\u9F9F\""
   ]
  },
  {
   "cell_type": "code",
   "execution_count": 86,
   "metadata": {},
   "outputs": [],
   "source": [
    "# Curiosity, It's a tibetanian character \"\\u0FD6\" ( I won't print it)"
   ]
  },
  {
   "cell_type": "markdown",
   "metadata": {},
   "source": [
    "##### Going back to `doc_2.txt` "
   ]
  },
  {
   "cell_type": "code",
   "execution_count": 89,
   "metadata": {},
   "outputs": [
    {
     "name": "stdout",
     "output_type": "stream",
     "text": [
      "ñ\r\n"
     ]
    }
   ],
   "source": [
    "!cat files/doc_2.txt"
   ]
  },
  {
   "cell_type": "code",
   "execution_count": 102,
   "metadata": {},
   "outputs": [
    {
     "name": "stdout",
     "output_type": "stream",
     "text": [
      "00000000: c3b1 0a                                  ...\r\n"
     ]
    }
   ],
   "source": [
    "!xxd files/doc_2.txt"
   ]
  },
  {
   "cell_type": "markdown",
   "metadata": {},
   "source": [
    "Notice that we can read a the previous file without specifying the encoding.\n",
    "That is because it was encoded as utf-8 which is the default encoding method used by python."
   ]
  },
  {
   "cell_type": "code",
   "execution_count": 145,
   "metadata": {},
   "outputs": [
    {
     "name": "stdout",
     "output_type": "stream",
     "text": [
      "ñ\n",
      "\n"
     ]
    }
   ],
   "source": [
    "with  open(\"./files/doc_2.txt\") as file:\n",
    "    print(file.read())"
   ]
  },
  {
   "cell_type": "markdown",
   "metadata": {},
   "source": [
    "We can see that in UTF-8, `ñ` corresponds to the byte `\\xc3\\xb1`."
   ]
  },
  {
   "cell_type": "code",
   "execution_count": 146,
   "metadata": {},
   "outputs": [
    {
     "data": {
      "text/plain": [
       "b'\\xc3\\xb1'"
      ]
     },
     "execution_count": 146,
     "metadata": {},
     "output_type": "execute_result"
    }
   ],
   "source": [
    "bytes('ñ','utf-8')"
   ]
  },
  {
   "cell_type": "markdown",
   "metadata": {},
   "source": [
    "Nevertheless with other encodings this is not the case"
   ]
  },
  {
   "cell_type": "code",
   "execution_count": 147,
   "metadata": {},
   "outputs": [
    {
     "data": {
      "text/plain": [
       "b'\\xf1'"
      ]
     },
     "execution_count": 147,
     "metadata": {},
     "output_type": "execute_result"
    }
   ],
   "source": [
    "bytes('ñ','latin-1')"
   ]
  },
  {
   "cell_type": "markdown",
   "metadata": {},
   "source": [
    "Now we will create a file containing the word `castaña` with encoding `latin-1`.\n",
    "\n",
    "We will see that this is not correctly interpretted if we try to read it without specifying an encoding"
   ]
  },
  {
   "cell_type": "code",
   "execution_count": 126,
   "metadata": {},
   "outputs": [],
   "source": [
    "with open(\"./files/my_doc.txt\", \"wb\") as file:\n",
    "    file.write(\"castaña\".encode(\"latin-1\"))"
   ]
  },
  {
   "cell_type": "code",
   "execution_count": 128,
   "metadata": {},
   "outputs": [
    {
     "name": "stdout",
     "output_type": "stream",
     "text": [
      "casta�a"
     ]
    }
   ],
   "source": [
    "!cat files/my_doc.txt"
   ]
  },
  {
   "cell_type": "markdown",
   "metadata": {},
   "source": [
    "If we don't specify the encoding python can't even read the file!"
   ]
  },
  {
   "cell_type": "code",
   "execution_count": 139,
   "metadata": {
    "scrolled": true
   },
   "outputs": [
    {
     "ename": "UnicodeDecodeError",
     "evalue": "'utf-8' codec can't decode byte 0xf1 in position 5: invalid continuation byte",
     "output_type": "error",
     "traceback": [
      "\u001b[0;31m---------------------------------------------------------------------------\u001b[0m",
      "\u001b[0;31mUnicodeDecodeError\u001b[0m                        Traceback (most recent call last)",
      "\u001b[0;32m<ipython-input-139-9446400b0398>\u001b[0m in \u001b[0;36m<module>\u001b[0;34m\u001b[0m\n\u001b[1;32m      1\u001b[0m \u001b[0;32mwith\u001b[0m \u001b[0mopen\u001b[0m\u001b[0;34m(\u001b[0m\u001b[0;34m\"./files/my_doc.txt\"\u001b[0m\u001b[0;34m)\u001b[0m \u001b[0;32mas\u001b[0m \u001b[0mfile\u001b[0m\u001b[0;34m:\u001b[0m\u001b[0;34m\u001b[0m\u001b[0;34m\u001b[0m\u001b[0m\n\u001b[0;32m----> 2\u001b[0;31m     \u001b[0maux\u001b[0m \u001b[0;34m=\u001b[0m \u001b[0mfile\u001b[0m\u001b[0;34m.\u001b[0m\u001b[0mread\u001b[0m\u001b[0;34m(\u001b[0m\u001b[0;34m)\u001b[0m\u001b[0;34m\u001b[0m\u001b[0;34m\u001b[0m\u001b[0m\n\u001b[0m\u001b[1;32m      3\u001b[0m     \u001b[0mprint\u001b[0m\u001b[0;34m(\u001b[0m\u001b[0maux\u001b[0m\u001b[0;34m)\u001b[0m\u001b[0;34m\u001b[0m\u001b[0;34m\u001b[0m\u001b[0m\n",
      "\u001b[0;32m/anaconda3/lib/python3.7/codecs.py\u001b[0m in \u001b[0;36mdecode\u001b[0;34m(self, input, final)\u001b[0m\n\u001b[1;32m    320\u001b[0m         \u001b[0;31m# decode input (taking the buffer into account)\u001b[0m\u001b[0;34m\u001b[0m\u001b[0;34m\u001b[0m\u001b[0;34m\u001b[0m\u001b[0m\n\u001b[1;32m    321\u001b[0m         \u001b[0mdata\u001b[0m \u001b[0;34m=\u001b[0m \u001b[0mself\u001b[0m\u001b[0;34m.\u001b[0m\u001b[0mbuffer\u001b[0m \u001b[0;34m+\u001b[0m \u001b[0minput\u001b[0m\u001b[0;34m\u001b[0m\u001b[0;34m\u001b[0m\u001b[0m\n\u001b[0;32m--> 322\u001b[0;31m         \u001b[0;34m(\u001b[0m\u001b[0mresult\u001b[0m\u001b[0;34m,\u001b[0m \u001b[0mconsumed\u001b[0m\u001b[0;34m)\u001b[0m \u001b[0;34m=\u001b[0m \u001b[0mself\u001b[0m\u001b[0;34m.\u001b[0m\u001b[0m_buffer_decode\u001b[0m\u001b[0;34m(\u001b[0m\u001b[0mdata\u001b[0m\u001b[0;34m,\u001b[0m \u001b[0mself\u001b[0m\u001b[0;34m.\u001b[0m\u001b[0merrors\u001b[0m\u001b[0;34m,\u001b[0m \u001b[0mfinal\u001b[0m\u001b[0;34m)\u001b[0m\u001b[0;34m\u001b[0m\u001b[0;34m\u001b[0m\u001b[0m\n\u001b[0m\u001b[1;32m    323\u001b[0m         \u001b[0;31m# keep undecoded input until the next call\u001b[0m\u001b[0;34m\u001b[0m\u001b[0;34m\u001b[0m\u001b[0;34m\u001b[0m\u001b[0m\n\u001b[1;32m    324\u001b[0m         \u001b[0mself\u001b[0m\u001b[0;34m.\u001b[0m\u001b[0mbuffer\u001b[0m \u001b[0;34m=\u001b[0m \u001b[0mdata\u001b[0m\u001b[0;34m[\u001b[0m\u001b[0mconsumed\u001b[0m\u001b[0;34m:\u001b[0m\u001b[0;34m]\u001b[0m\u001b[0;34m\u001b[0m\u001b[0;34m\u001b[0m\u001b[0m\n",
      "\u001b[0;31mUnicodeDecodeError\u001b[0m: 'utf-8' codec can't decode byte 0xf1 in position 5: invalid continuation byte"
     ]
    }
   ],
   "source": [
    "with open(\"./files/my_doc.txt\") as file:\n",
    "    aux = file.read()\n",
    "    print(aux)"
   ]
  },
  {
   "cell_type": "markdown",
   "metadata": {},
   "source": [
    "If we specify the encoding then it works as expected"
   ]
  },
  {
   "cell_type": "code",
   "execution_count": 142,
   "metadata": {},
   "outputs": [
    {
     "name": "stdout",
     "output_type": "stream",
     "text": [
      "castaña\n"
     ]
    }
   ],
   "source": [
    "with open(\"./files/my_doc.txt\", encoding=\"latin-1\") as file:\n",
    "    aux = file.read()\n",
    "    print(aux)"
   ]
  },
  {
   "cell_type": "markdown",
   "metadata": {},
   "source": [
    "\n",
    "##### Character representations\n",
    "\n",
    "There are 3 well known character representations for unicode codepoints: UTF-32, UTF-16, UTF-8.\n",
    "\n",
    "## UTF-32\n",
    "\n",
    "- The memory layout for a character `c` is simply the binary representation of `c` using 4 bytes.\n",
    "- UTF-32 needs for every character 4 bytes (32 bits). It is a fixed-size character encoding.\n",
    "- There are no markers inside bytes to define when a new character starts (there is no need, all characters are stored in memory using the same  number of bytes).\n",
    "\n",
    "Examples \n",
    "\n",
    "If we are given that `unicode(\"A\") = 65` and `unicode(\"B\") = 66`  then\n",
    "\n",
    "```\n",
    "encoding(A, utf-32) = [[0,0,0,0,0,0,0,0],[0,0,0,0,0,0,0,0],[0,0,0,0,0,0,0,0],[0,1,0,0,0,0,0,1]]\n",
    "```\n",
    "\n",
    "```\n",
    "encoding(B, utf-32) = [[0,0,0,0,0,0,0,0],[0,0,0,0,0,0,0,0],[0,0,0,0,0,0,0,0],[0,1,0,0,0,0,1,0]]\n",
    "```\n",
    "\n",
    "Notice that now all english text that could be encoded with 7 bits using ASCII now needs 4 times the amouunt of memory  needed for the same information is ASCII. This happens because  every character has 3 bytes that are 0 and then the last byte is simply the ASCII representation of the character. Therefore a lot of memory is \"wasted\" (simply full of zeros).\n",
    "\n",
    "A nice nemotechnic trick to remember how UTF-32 encodes the information is that it allways uses 4 bytes (32 bits) for any character.\n",
    "\n",
    "## UTF-16\n",
    "\n",
    "- The memory layout for a character `c` is simply the binary representation of `c` using 2 or 4 bytes.\n",
    "- UTF-16 uses  4 bytes (32 bits) or 2 bytes (16 bits) for every character. It is a variable-size character encoding.\n",
    "- There are markers at the beggining of a file in UTF-16 that define how the encoding is done (BE or LE more details below)\n",
    "\n",
    "The advantadge of UTF-16 over UTF-32 is that the size of a text file will not need 4 times the amount of space needed to store the same with ASCII (only twize the amount).\n",
    "\n",
    "Notice that a file containing only ASCII text, when converted to UTF-16 will result in a file size of double the original.\n",
    "\n",
    "###### BE and LE \n",
    "Notice that there are 2 ways to encode write an ASCII number into UTF-16, writting the zeros before or after.\n",
    "\n",
    "The \"big endian\" byte order stores the data in the most significant big first (the left most bit).\n",
    "\n",
    "The \"little endian\" byte order stores the data in the least significant byte first (the right position).\n",
    "\n",
    "If we are given that `unicode(\"A\") = 65` and `unicode(\"B\") = 66`  then\n",
    "\n",
    "\n",
    "```\n",
    "encoding(A, UTF-16BE) = [[0,0,0,0,0,0,0,0], [0,1,0,0,0,0,0,1]]\n",
    "```\n",
    "\n",
    "\n",
    "```\n",
    "encoding(A, UTF-16LE) = [[0,1,0,0,0,0,1,0], [0,0,0,0,0,0,0,0]]\n",
    "```\n",
    "\n",
    "How can we know if a file uses `BE` or `LE` ? \n",
    "\n",
    "A byte order mark was introduced. \n",
    "\n",
    "- Little Endian files starts with ```[1,1,1,1,1,1,1,1], [1,1,1,1,1,1,1,0]```.\n",
    "\n",
    "- Big Endian files starts with ```[1,1,1,1,1,1,1,0], [1,1,1,1,1,1,1,1] ```.\n",
    "\n",
    "\n",
    "Byte order marks are not mandatory, if not found a parser will assume one of the encodings and if it encounters and error will use the other encoding (and parse again).\n",
    "\n",
    "\n",
    "##  UTF-8\n",
    "\n",
    "- The memory layout for a character `c` is simply the binary representation of `c` in ASCII in 8 bits.\n",
    "- UTF-8 can use 1,2,3 or 4 bytes for a given character. It is a variable-size character encoding.\n",
    "\n",
    "\n",
    "- In order to parse a stream of bytes in UTF-8 there are some markers inside the bytes.\n",
    "- If a byte starts with 0 it means the character was encoded in a single byte (it's an ASCII char).\n",
    "- If a byte starts with 110 it means the character was encoded in 2 bytes.\n",
    "- If a byte starts with 1110 it means the character was encoded in 3 bytes.\n",
    "\n",
    "\n",
    "There are two types of marks.\n",
    "\n",
    "In the following example we have know a char uses 2 bytes because the first one starts with 110. The first mark is called the leading byte, the second one (10) is called the continuation byte.\n",
    "```\n",
    "110XXXX 10XXXXXX\n",
    "```\n",
    "\n",
    "\n"
   ]
  },
  {
   "cell_type": "markdown",
   "metadata": {},
   "source": [
    "Unicode can use more bits than ASCII, allowing more characters. For example we can check `café` cannot be encoded as `ascii`:\n"
   ]
  },
  {
   "cell_type": "code",
   "execution_count": 187,
   "metadata": {
    "scrolled": true
   },
   "outputs": [
    {
     "ename": "UnicodeEncodeError",
     "evalue": "'ascii' codec can't encode character '\\xe9' in position 3: ordinal not in range(128)",
     "output_type": "error",
     "traceback": [
      "\u001b[0;31m---------------------------------------------------------------------------\u001b[0m",
      "\u001b[0;31mUnicodeEncodeError\u001b[0m                        Traceback (most recent call last)",
      "\u001b[0;32m<ipython-input-187-c93c3a7cc2e1>\u001b[0m in \u001b[0;36m<module>\u001b[0;34m\u001b[0m\n\u001b[0;32m----> 1\u001b[0;31m \u001b[0;34m'café'\u001b[0m\u001b[0;34m.\u001b[0m\u001b[0mencode\u001b[0m\u001b[0;34m(\u001b[0m\u001b[0;34m'ascii'\u001b[0m\u001b[0;34m)\u001b[0m\u001b[0;34m\u001b[0m\u001b[0;34m\u001b[0m\u001b[0m\n\u001b[0m",
      "\u001b[0;31mUnicodeEncodeError\u001b[0m: 'ascii' codec can't encode character '\\xe9' in position 3: ordinal not in range(128)"
     ]
    }
   ],
   "source": [
    "'café'.encode('ascii')"
   ]
  },
  {
   "cell_type": "markdown",
   "metadata": {},
   "source": [
    "but there is no problem encoding it as `utf-8`"
   ]
  },
  {
   "cell_type": "code",
   "execution_count": 71,
   "metadata": {
    "scrolled": true
   },
   "outputs": [
    {
     "data": {
      "text/plain": [
       "b'caf\\xc3\\xa9'"
      ]
     },
     "execution_count": 71,
     "metadata": {},
     "output_type": "execute_result"
    }
   ],
   "source": [
    "'café'.encode('utf-8')"
   ]
  },
  {
   "cell_type": "markdown",
   "metadata": {},
   "source": [
    "##### utf-8 format\n",
    "\n",
    "\n",
    "- The utf-8 format several bytes to represent characters.\n",
    "\n",
    "- The number of bytes in utf-8 is **variable**.\n",
    "\n",
    "- The first bit of the byte tells us how many bytes were used to encode a value.\n",
    "\n",
    "- With 1 byte encodings we can represent numbers from `0` to `127=2**7-1` (the first bit tells us\n",
    "  we use a singly byte to represent the character).\n",
    "\n",
    "In order to facilitate reading bynary represenations of bytes we will mark the middle (4'th bit) with a vertical bar `|`.\n",
    "\n",
    "\n",
    "##### 1 byte encodings: \n",
    "\n",
    "1-byte encodings have the following form:\n",
    "\n",
    "`[0,*,*,* | *,*,*,*]`\n",
    "\n",
    "This is the same as ASCII\n",
    "\n",
    "##### 2 byte encodings: \n",
    "\n",
    " 2-byte encodings  have the following form: \n",
    "\n",
    "`[ [1,1,0,* | *,*,*,*], [1,0,*,* | *,*,*,*] ]`\n",
    "\n",
    "Notice\n",
    "\n",
    "- The first 3 bits of the first byte are set to `110`\n",
    "- The first 2 bits of the second byte are set to `10`\n",
    "- The remaining `11`  bits (`8*2 -3-2`) encode the actual character.\n",
    "\n",
    "\n",
    "\n",
    "##### 3 byte encodings: \n",
    "\n",
    "3-byte encodings  have the following form: \n",
    "\n",
    "`[ [1,1,1,0 | *,*,*,*], [1,0,*,* | *,*,*,*] ],  [1,0,*,* | *,*,*,*] ]`\n",
    "\n",
    "Notice\n",
    "\n",
    "- The first 4 bits of the first byte are set to `1110`\n",
    "- The first 2 bits of the second byte are set to `10`\n",
    "- The first 2 bits of the third byte are set to `10`\n",
    "- The remaining `16`  bits (`8*3 -4-2-2`) encode the actual character.\n",
    "\n",
    "\n",
    "##### 4 byte encodings: \n",
    "\n",
    "3-byte encodings  have the following form: \n",
    "\n",
    "`[ [1,1,1,1 | 0,*,*,*], [1,0,*,* | *,*,*,*] ],  [1,0,*,* | *,*,*,*] ],  [1,0,*,* | *,*,*,*] ]`\n",
    "\n",
    "Notice\n",
    "\n",
    "- The first 5 bits of the first byte are set to `11110`\n",
    "- The first 2 bits of the second byte are set to `10`\n",
    "- The first 2 bits of the third byte are set to `10`\n",
    "- The first 2 bits of the forth byte are set to `10`\n",
    "- The remaining `21`  bits (`8*4 -4-2-2-2`) encode the actual character.\n",
    "\n",
    "\n",
    "\n",
    "##### Binary, Decimal and Hexadecimal number representations\n",
    "\n",
    "```\n",
    "     Binary    Decimal    Hex    \n",
    "     0         0          0      \n",
    "     1         1          1      \n",
    "     10        2          2      \n",
    "     11        3          3      \n",
    "     100       4          4      \n",
    "     101       5          5      \n",
    "     110       6          6      \n",
    "     111       7          7      \n",
    "     1000      8          8      \n",
    "     1001      9          9      \n",
    "     1010      10         A      \n",
    "     1011      11         B      \n",
    "     1100      12         C      \n",
    "     1101      13         D      \n",
    "     1110      14         E      \n",
    "     1111      15         F      \n",
    "```"
   ]
  },
  {
   "cell_type": "markdown",
   "metadata": {},
   "source": [
    "If  you want to convert an integer to hexadecimal you can use `hex`.\n",
    "\n",
    "Remember that in hexadecimal we use symbols ` 0,1,2,3,4,5,6,7,8,9,A,B,C,D,E,F`"
   ]
  },
  {
   "cell_type": "code",
   "execution_count": 348,
   "metadata": {},
   "outputs": [
    {
     "data": {
      "text/plain": [
       "'0x41'"
      ]
     },
     "execution_count": 348,
     "metadata": {},
     "output_type": "execute_result"
    }
   ],
   "source": [
    "hex(65)"
   ]
  },
  {
   "cell_type": "code",
   "execution_count": 359,
   "metadata": {
    "collapsed": true
   },
   "outputs": [
    {
     "data": {
      "text/plain": [
       "'0x41'"
      ]
     },
     "execution_count": 359,
     "metadata": {},
     "output_type": "execute_result"
    }
   ],
   "source": [
    "hex(65)"
   ]
  },
  {
   "cell_type": "code",
   "execution_count": 367,
   "metadata": {},
   "outputs": [
    {
     "data": {
      "text/plain": [
       "65"
      ]
     },
     "execution_count": 367,
     "metadata": {},
     "output_type": "execute_result"
    }
   ],
   "source": [
    "# 0x41 to base 10\n",
    "4*16 + 1"
   ]
  },
  {
   "cell_type": "code",
   "execution_count": 369,
   "metadata": {},
   "outputs": [
    {
     "data": {
      "text/plain": [
       "'Ý'"
      ]
     },
     "execution_count": 369,
     "metadata": {},
     "output_type": "execute_result"
    }
   ],
   "source": [
    "chr(221)"
   ]
  },
  {
   "cell_type": "code",
   "execution_count": 371,
   "metadata": {},
   "outputs": [
    {
     "data": {
      "text/plain": [
       "'0xdd'"
      ]
     },
     "execution_count": 371,
     "metadata": {},
     "output_type": "execute_result"
    }
   ],
   "source": [
    "hex(221)"
   ]
  },
  {
   "cell_type": "code",
   "execution_count": 372,
   "metadata": {},
   "outputs": [
    {
     "data": {
      "text/plain": [
       "221"
      ]
     },
     "execution_count": 372,
     "metadata": {},
     "output_type": "execute_result"
    }
   ],
   "source": [
    "0xdd"
   ]
  },
  {
   "cell_type": "markdown",
   "metadata": {},
   "source": [
    "##### Memory requirements for different encodings"
   ]
  },
  {
   "cell_type": "code",
   "execution_count": 77,
   "metadata": {},
   "outputs": [
    {
     "data": {
      "text/plain": [
       "[38, 43, 53]"
      ]
     },
     "execution_count": 77,
     "metadata": {},
     "output_type": "execute_result"
    }
   ],
   "source": [
    "# Different encodings give different representations in binary\n",
    "# The different representations use a different amount of bytes\n",
    "import sys \n",
    "\n",
    "#xascci = 'café'.encode('ascii') accents are not present in ascii\n",
    "word_utf8  = 'café'.encode('utf-8')\n",
    "word_utf16 = 'café'.encode('utf-16')\n",
    "word_utf32 = 'café'.encode('utf-32')\n",
    "\n",
    "[sys.getsizeof(x) for x in [word_utf8,word_utf16,word_utf32]]"
   ]
  },
  {
   "cell_type": "code",
   "execution_count": 78,
   "metadata": {},
   "outputs": [
    {
     "data": {
      "text/plain": [
       "[b'caf\\xc3\\xa9',\n",
       " b'\\xff\\xfec\\x00a\\x00f\\x00\\xe9\\x00',\n",
       " b'\\xff\\xfe\\x00\\x00c\\x00\\x00\\x00a\\x00\\x00\\x00f\\x00\\x00\\x00\\xe9\\x00\\x00\\x00']"
      ]
     },
     "execution_count": 78,
     "metadata": {},
     "output_type": "execute_result"
    }
   ],
   "source": [
    "[x for x in [word_utf8,word_utf16,word_utf32]]"
   ]
  },
  {
   "cell_type": "code",
   "execution_count": 79,
   "metadata": {},
   "outputs": [
    {
     "data": {
      "text/plain": [
       "37"
      ]
     },
     "execution_count": 79,
     "metadata": {},
     "output_type": "execute_result"
    }
   ],
   "source": [
    "ex  = 'cafe'.encode('ascii')\n",
    "sys.getsizeof(ex)"
   ]
  },
  {
   "cell_type": "markdown",
   "metadata": {},
   "source": [
    "## Unicode data \n",
    "\n",
    "Unicode is a format for coding exadecimal numbers to symbols. Unicode supports over a million symbols (or characters). Each character is assigned a number, called a code point. Code points are written in Python as\\uXXXX, where XXXX is the number in four-digit hexadecimal form.\n",
    "\n",
    "A font (like the 'times new roman' for a particular character) is a mapping from an image to a symbol/glyph.\n",
    "\n",
    "We can manipulate unicode strings as 'normal' strings.\n",
    "\n",
    "Some  important things to consider:\n",
    "\n",
    "- When reading data from files, expect bytes and decode then with **`b.decode('utf-8')`**.\n",
    "\n",
    "- When writting data back to a file, encode it with **`b.encode('utf-8')`**.\n",
    "\n",
    "- Avoid using **`str()`** or  **`bytes()`** without an encoding to convert between types."
   ]
  },
  {
   "cell_type": "code",
   "execution_count": 217,
   "metadata": {},
   "outputs": [],
   "source": [
    "some_unicode_char = u'\\u0061'"
   ]
  },
  {
   "cell_type": "code",
   "execution_count": 218,
   "metadata": {
    "scrolled": true
   },
   "outputs": [
    {
     "data": {
      "text/plain": [
       "'a'"
      ]
     },
     "execution_count": 218,
     "metadata": {},
     "output_type": "execute_result"
    }
   ],
   "source": [
    "some_unicode_char "
   ]
  },
  {
   "cell_type": "code",
   "execution_count": 219,
   "metadata": {},
   "outputs": [
    {
     "name": "stdout",
     "output_type": "stream",
     "text": [
      "a\n"
     ]
    }
   ],
   "source": [
    "print(some_unicode_char)"
   ]
  },
  {
   "cell_type": "markdown",
   "metadata": {},
   "source": [
    "##### `ord` and `chr` functions\n",
    "\n"
   ]
  },
  {
   "cell_type": "code",
   "execution_count": 228,
   "metadata": {},
   "outputs": [],
   "source": [
    "?ord"
   ]
  },
  {
   "cell_type": "code",
   "execution_count": 223,
   "metadata": {},
   "outputs": [
    {
     "data": {
      "text/plain": [
       "1013"
      ]
     },
     "execution_count": 223,
     "metadata": {},
     "output_type": "execute_result"
    }
   ],
   "source": [
    "# \\epsilon + tap\n",
    "ord(\"ϵ\")"
   ]
  },
  {
   "cell_type": "code",
   "execution_count": 227,
   "metadata": {},
   "outputs": [
    {
     "data": {
      "text/plain": [
       "'ϵ'"
      ]
     },
     "execution_count": 227,
     "metadata": {},
     "output_type": "execute_result"
    }
   ],
   "source": [
    "# \\epsilon + tap\n",
    "chr(1013)"
   ]
  },
  {
   "cell_type": "markdown",
   "metadata": {},
   "source": [
    "## Checking properties of strings and characters\n",
    "\n"
   ]
  },
  {
   "cell_type": "code",
   "execution_count": 312,
   "metadata": {},
   "outputs": [
    {
     "data": {
      "text/plain": [
       "(True, False, False, True)"
      ]
     },
     "execution_count": 312,
     "metadata": {},
     "output_type": "execute_result"
    }
   ],
   "source": [
    "'A'.isupper(), 'a'.isupper(), 'a'.isdigit(), '1'.isdigit()"
   ]
  },
  {
   "cell_type": "markdown",
   "metadata": {
    "collapsed": true
   },
   "source": [
    "\n",
    "# String similarity with fuzzywuzzy"
   ]
  },
  {
   "cell_type": "code",
   "execution_count": 290,
   "metadata": {
    "collapsed": true
   },
   "outputs": [],
   "source": [
    "import fuzzywuzzy"
   ]
  },
  {
   "cell_type": "code",
   "execution_count": 293,
   "metadata": {
    "collapsed": true
   },
   "outputs": [],
   "source": [
    "from fuzzywuzzy import fuzz\n",
    "from fuzzywuzzy import process"
   ]
  },
  {
   "cell_type": "code",
   "execution_count": 302,
   "metadata": {
    "collapsed": true
   },
   "outputs": [],
   "source": [
    "x = 'this is a string'\n",
    "y = 'this is a string!'\n",
    "z = 'this is also an string'"
   ]
  },
  {
   "cell_type": "code",
   "execution_count": 311,
   "metadata": {},
   "outputs": [
    {
     "data": {
      "text/plain": [
       "(97, 84)"
      ]
     },
     "execution_count": 311,
     "metadata": {},
     "output_type": "execute_result"
    }
   ],
   "source": [
    "fuzz.ratio(x, y), fuzz.ratio(x, z)"
   ]
  },
  {
   "cell_type": "code",
   "execution_count": null,
   "metadata": {
    "collapsed": true
   },
   "outputs": [],
   "source": []
  },
  {
   "cell_type": "code",
   "execution_count": null,
   "metadata": {
    "collapsed": true
   },
   "outputs": [],
   "source": []
  },
  {
   "cell_type": "code",
   "execution_count": null,
   "metadata": {
    "collapsed": true
   },
   "outputs": [],
   "source": []
  },
  {
   "cell_type": "code",
   "execution_count": null,
   "metadata": {
    "collapsed": true
   },
   "outputs": [],
   "source": []
  },
  {
   "cell_type": "code",
   "execution_count": null,
   "metadata": {
    "collapsed": true
   },
   "outputs": [],
   "source": []
  }
 ],
 "metadata": {
  "kernelspec": {
   "display_name": "Python 3",
   "language": "python",
   "name": "python3"
  },
  "language_info": {
   "codemirror_mode": {
    "name": "ipython",
    "version": 3
   },
   "file_extension": ".py",
   "mimetype": "text/x-python",
   "name": "python",
   "nbconvert_exporter": "python",
   "pygments_lexer": "ipython3",
   "version": "3.7.3"
  },
  "toc": {
   "base_numbering": 1,
   "nav_menu": {},
   "number_sections": true,
   "sideBar": true,
   "skip_h1_title": false,
   "title_cell": "Table of Contents",
   "title_sidebar": "Contents",
   "toc_cell": false,
   "toc_position": {},
   "toc_section_display": true,
   "toc_window_display": false
  }
 },
 "nbformat": 4,
 "nbformat_minor": 1
}

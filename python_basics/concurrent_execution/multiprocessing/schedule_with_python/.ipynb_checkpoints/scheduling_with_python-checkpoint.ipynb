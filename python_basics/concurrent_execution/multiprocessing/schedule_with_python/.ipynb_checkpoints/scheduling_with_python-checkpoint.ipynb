{
 "cells": [
  {
   "cell_type": "markdown",
   "metadata": {},
   "source": [
    "#### schedule library\n",
    "\n",
    "- https://github.com/dbader/schedule\n",
    "- https://schedule.readthedocs.io/en/stable/\n",
    "\n",
    "\n",
    "FAQ:\n",
    "\n",
    "Frequently Asked Questions\n",
    "\n",
    "- How to execute jobs in parallel?\n",
    "- How to continuously run the scheduler without blocking the main thread?\n",
    "- Does schedule support timezones?\n",
    "- What if my task throws an exception?\n",
    "- How can I run a job only once?\n",
    "- How can I cancel several jobs at once?\n",
    "- I’m getting an AttributeError: 'module' object has no attribute 'every' when I try to use schedule. How can I fix this?\n",
    "\n",
    "\n",
    "#### optimization\n",
    "- https://github.com/JuliaOpt/NLopt.jl\n",
    "- https://github.com/mlubin/JuMPChance.jl (probabilistic constraints)"
   ]
  },
  {
   "cell_type": "code",
   "execution_count": 1,
   "metadata": {
    "collapsed": true
   },
   "outputs": [],
   "source": [
    "import schedule\n",
    "import time\n",
    "import datetime"
   ]
  },
  {
   "cell_type": "code",
   "execution_count": 2,
   "metadata": {},
   "outputs": [
    {
     "data": {
      "text/plain": [
       "[]"
      ]
     },
     "execution_count": 2,
     "metadata": {},
     "output_type": "execute_result"
    }
   ],
   "source": [
    "schedule.jobs"
   ]
  },
  {
   "cell_type": "code",
   "execution_count": 3,
   "metadata": {},
   "outputs": [
    {
     "data": {
      "text/plain": [
       "Every 1 minute do job() (last run: [never], next run: 2017-09-27 11:58:13)"
      ]
     },
     "execution_count": 3,
     "metadata": {},
     "output_type": "execute_result"
    }
   ],
   "source": [
    "def job():\n",
    "    print(\"I'm working... time: \", datetime.datetime.now().hour,\":\",\n",
    "          datetime.datetime.now().minute)\n",
    "\n",
    "schedule.every(1).minutes.do(job)"
   ]
  },
  {
   "cell_type": "code",
   "execution_count": 4,
   "metadata": {},
   "outputs": [
    {
     "data": {
      "text/plain": [
       "[Every 1 minute do job() (last run: [never], next run: 2017-09-27 11:58:13)]"
      ]
     },
     "execution_count": 4,
     "metadata": {},
     "output_type": "execute_result"
    }
   ],
   "source": [
    "schedule.jobs"
   ]
  },
  {
   "cell_type": "code",
   "execution_count": 5,
   "metadata": {},
   "outputs": [
    {
     "name": "stdout",
     "output_type": "stream",
     "text": [
      "I'm working... time:  11 : 58\n",
      "I'm working... time:  11 : 59\n",
      "I'm working... time:  12 : 0\n",
      "I'm working... time:  12 : 1\n"
     ]
    },
    {
     "ename": "KeyboardInterrupt",
     "evalue": "",
     "output_type": "error",
     "traceback": [
      "\u001b[0;31m---------------------------------------------------------------------------\u001b[0m",
      "\u001b[0;31mKeyboardInterrupt\u001b[0m                         Traceback (most recent call last)",
      "\u001b[0;32m<ipython-input-5-e958909b1ed1>\u001b[0m in \u001b[0;36m<module>\u001b[0;34m()\u001b[0m\n\u001b[1;32m      1\u001b[0m \u001b[0;32mwhile\u001b[0m \u001b[0;32mTrue\u001b[0m\u001b[0;34m:\u001b[0m\u001b[0;34m\u001b[0m\u001b[0m\n\u001b[1;32m      2\u001b[0m     \u001b[0mschedule\u001b[0m\u001b[0;34m.\u001b[0m\u001b[0mrun_pending\u001b[0m\u001b[0;34m(\u001b[0m\u001b[0;34m)\u001b[0m\u001b[0;34m\u001b[0m\u001b[0m\n\u001b[0;32m----> 3\u001b[0;31m     \u001b[0mtime\u001b[0m\u001b[0;34m.\u001b[0m\u001b[0msleep\u001b[0m\u001b[0;34m(\u001b[0m\u001b[0;36m1\u001b[0m\u001b[0;34m)\u001b[0m\u001b[0;34m\u001b[0m\u001b[0m\n\u001b[0m",
      "\u001b[0;31mKeyboardInterrupt\u001b[0m: "
     ]
    }
   ],
   "source": [
    "while True:\n",
    "    schedule.run_pending()\n",
    "    time.sleep(1)"
   ]
  },
  {
   "cell_type": "markdown",
   "metadata": {},
   "source": [
    "## Making non sequencial job executions\n",
    "\n",
    "\n",
    "By default, schedule executes all jobs serially. The reasoning behind this is that it would be difficult to find a model for parallel execution that makes everyone happy.\n",
    "\n",
    "You can work around this restriction by running each of the jobs in its own thread:\n",
    "\n",
    "```python\n",
    "import threading\n",
    "import time\n",
    "import schedule\n",
    "\n",
    "\n",
    "def job():\n",
    "    print(\"I'm running on thread %s\" % threading.current_thread())\n",
    "\n",
    "\n",
    "def run_threaded(job_func):\n",
    "    job_thread = threading.Thread(target=job_func)\n",
    "    job_thread.start()\n",
    "\n",
    "\n",
    "schedule.every(10).seconds.do(run_threaded, job)\n",
    "schedule.every(10).seconds.do(run_threaded, job)\n",
    "schedule.every(10).seconds.do(run_threaded, job)\n",
    "schedule.every(10).seconds.do(run_threaded, job)\n",
    "schedule.every(10).seconds.do(run_threaded, job)\n",
    "\n",
    "\n",
    "while 1:\n",
    "    schedule.run_pending()\n",
    "    time.sleep(1)\n",
    "```\n",
    "\n",
    "If you want tighter control on the number of threads use a shared jobqueue and one or more worker threads:\n",
    "\n",
    "```python\n",
    "import Queue\n",
    "import time\n",
    "import threading\n",
    "import schedule\n",
    "\n",
    "\n",
    "def job():\n",
    "    print(\"I'm working\")\n",
    "\n",
    "\n",
    "def worker_main():\n",
    "    while 1:\n",
    "        job_func = jobqueue.get()\n",
    "        job_func()\n",
    "        jobqueue.task_done()\n",
    "\n",
    "jobqueue = Queue.Queue()\n",
    "\n",
    "schedule.every(10).seconds.do(jobqueue.put, job)\n",
    "schedule.every(10).seconds.do(jobqueue.put, job)\n",
    "schedule.every(10).seconds.do(jobqueue.put, job)\n",
    "schedule.every(10).seconds.do(jobqueue.put, job)\n",
    "schedule.every(10).seconds.do(jobqueue.put, job)\n",
    "\n",
    "worker_thread = threading.Thread(target=worker_main)\n",
    "worker_thread.start()\n",
    "\n",
    "while 1:\n",
    "    schedule.run_pending()\n",
    "    time.sleep(1)\n",
    "```\n",
    "\n",
    "This model also makes sense for a distributed application where the workers are separate processes that receive jobs from a distributed work queue. I like using beanstalkd with the beanstalkc Python library."
   ]
  },
  {
   "cell_type": "code",
   "execution_count": null,
   "metadata": {
    "collapsed": true
   },
   "outputs": [],
   "source": []
  },
  {
   "cell_type": "code",
   "execution_count": null,
   "metadata": {
    "collapsed": true
   },
   "outputs": [],
   "source": []
  },
  {
   "cell_type": "code",
   "execution_count": null,
   "metadata": {
    "collapsed": true
   },
   "outputs": [],
   "source": []
  },
  {
   "cell_type": "code",
   "execution_count": null,
   "metadata": {
    "collapsed": true
   },
   "outputs": [],
   "source": []
  },
  {
   "cell_type": "code",
   "execution_count": null,
   "metadata": {
    "collapsed": true
   },
   "outputs": [],
   "source": []
  }
 ],
 "metadata": {
  "kernelspec": {
   "display_name": "Python 3",
   "language": "python",
   "name": "python3"
  },
  "language_info": {
   "codemirror_mode": {
    "name": "ipython",
    "version": 3
   },
   "file_extension": ".py",
   "mimetype": "text/x-python",
   "name": "python",
   "nbconvert_exporter": "python",
   "pygments_lexer": "ipython3",
   "version": "3.7.3"
  }
 },
 "nbformat": 4,
 "nbformat_minor": 2
}

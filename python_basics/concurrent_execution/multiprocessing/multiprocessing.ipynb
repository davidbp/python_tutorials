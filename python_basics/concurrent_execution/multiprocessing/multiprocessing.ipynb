{
 "cells": [
  {
   "cell_type": "markdown",
   "metadata": {
    "toc": true
   },
   "source": [
    "<h1>Table of Contents<span class=\"tocSkip\"></span></h1>\n",
    "<div class=\"toc\"><ul class=\"toc-item\"><li><span><a href=\"#Multiprocessing-module\" data-toc-modified-id=\"Multiprocessing-module-1\"><span class=\"toc-item-num\">1&nbsp;&nbsp;</span>Multiprocessing module</a></span><ul class=\"toc-item\"><li><ul class=\"toc-item\"><li><span><a href=\"#Some-interesting-urls\" data-toc-modified-id=\"Some-interesting-urls-1.0.1\"><span class=\"toc-item-num\">1.0.1&nbsp;&nbsp;</span>Some interesting urls</a></span><ul class=\"toc-item\"><li><span><a href=\"#BLAS-and-multiprocessing\" data-toc-modified-id=\"BLAS-and-multiprocessing-1.0.1.1\"><span class=\"toc-item-num\">1.0.1.1&nbsp;&nbsp;</span>BLAS and multiprocessing</a></span></li><li><span><a href=\"#Joblib\" data-toc-modified-id=\"Joblib-1.0.1.2\"><span class=\"toc-item-num\">1.0.1.2&nbsp;&nbsp;</span>Joblib</a></span></li></ul></li></ul></li><li><span><a href=\"#Setting-number-of-threads\" data-toc-modified-id=\"Setting-number-of-threads-1.1\"><span class=\"toc-item-num\">1.1&nbsp;&nbsp;</span>Setting number of threads</a></span><ul class=\"toc-item\"><li><span><a href=\"#Example-1:-multiprocessing.pool\" data-toc-modified-id=\"Example-1:-multiprocessing.pool-1.1.1\"><span class=\"toc-item-num\">1.1.1&nbsp;&nbsp;</span>Example 1: multiprocessing.pool</a></span></li><li><span><a href=\"#Example-2:-Multiprocess.Process\" data-toc-modified-id=\"Example-2:-Multiprocess.Process-1.1.2\"><span class=\"toc-item-num\">1.1.2&nbsp;&nbsp;</span>Example 2: Multiprocess.Process</a></span></li><li><span><a href=\"#Example-3\" data-toc-modified-id=\"Example-3-1.1.3\"><span class=\"toc-item-num\">1.1.3&nbsp;&nbsp;</span>Example 3</a></span></li><li><span><a href=\"#Example-3\" data-toc-modified-id=\"Example-3-1.1.4\"><span class=\"toc-item-num\">1.1.4&nbsp;&nbsp;</span>Example 3</a></span></li><li><span><a href=\"#Example-3:-Share-data-between-processes\" data-toc-modified-id=\"Example-3:-Share-data-between-processes-1.1.5\"><span class=\"toc-item-num\">1.1.5&nbsp;&nbsp;</span>Example 3: Share data between processes</a></span></li></ul></li><li><span><a href=\"#Defining-and-executing-processes\" data-toc-modified-id=\"Defining-and-executing-processes-1.2\"><span class=\"toc-item-num\">1.2&nbsp;&nbsp;</span>Defining and executing processes</a></span></li></ul></li></ul></div>"
   ]
  },
  {
   "cell_type": "code",
   "execution_count": 11,
   "metadata": {
    "ExecuteTime": {
     "end_time": "2020-11-17T12:34:32.325351Z",
     "start_time": "2020-11-17T12:34:32.323191Z"
    }
   },
   "outputs": [],
   "source": [
    "import time\n",
    "import multiprocessing"
   ]
  },
  {
   "cell_type": "markdown",
   "metadata": {},
   "source": [
    "# Multiprocessing module\n",
    "\n",
    "The **`multiprocessing`** module allows us to open different threads and do independent computations (at the same time) in different cpu cores.\n",
    "\n",
    "- **`multiprocessing.Process`**: creates a new process identifier. This can be used to start a task that runs as an independent child process in the operating sstem. \n",
    "\n",
    "- **`multiprocessing.Pool`**: creates a pool of workkers that share a chunk of work and return an agretated result.\n",
    "\n",
    "- **`multiprocessing.Queue`**: A FIFO queue allowing multiple producers and consumers.\n",
    "\n",
    "- **`multiprocessing.Pipe`**: A uni- or bidirectional communication channel between two processes.\n",
    "\n",
    "- **`multiprocessing.Manager`**: A high-level managed interface to share Python objects between processes.\n",
    "\n",
    "\n",
    "### Some interesting urls\n",
    "- https://www.youtube.com/watch?v=s1SkCYMnfbY\n",
    "- https://pymotw.com/2/multiprocessing/basics.html\n",
    "- https://www.youtube.com/watch?v=s1SkCYMnfbY\n",
    "- http://joshuagoings.com/2015/08/31/embarassingly-parallel-tasks-in-python/\n",
    "- http://chriskiehl.com/article/parallelism-in-one-line/\n",
    "- https://www.ibm.com/developerworks/aix/library/au-threadingpython/\n",
    "\n",
    "#### BLAS and multiprocessing\n",
    "\n",
    "- https://github.com/obspy/obspy/wiki/Notes-on-Parallel-Processing-with-Python-and-ObsPy\n",
    "\n",
    "#### Joblib\n",
    "- http://www.admin-magazine.com/HPC/Articles/Parallel-Python-with-Joblib\n",
    "\n",
    "## Setting number of threads\n",
    "\n",
    "Setting the number of threads for a given program execution\n",
    "- https://stackoverflow.com/questions/39381974/how-to-set-the-max-thread-a-python-script-could-use-when-calling-from-shell\n",
    "\n",
    "Setting the number of threads for openBLAS/MKL\n",
    "- https://stackoverflow.com/questions/19257070/unintented-multithreading-in-python-scikit-learn\n",
    "\n",
    "Some solutions\n",
    "\n",
    "    python some_program.py --nthread=2"
   ]
  },
  {
   "cell_type": "code",
   "execution_count": 12,
   "metadata": {
    "ExecuteTime": {
     "end_time": "2020-11-17T12:34:32.696346Z",
     "start_time": "2020-11-17T12:34:32.692214Z"
    }
   },
   "outputs": [
    {
     "data": {
      "text/plain": [
       "multiprocessing.context.Process"
      ]
     },
     "execution_count": 12,
     "metadata": {},
     "output_type": "execute_result"
    }
   ],
   "source": [
    "multiprocessing.Process"
   ]
  },
  {
   "cell_type": "code",
   "execution_count": 13,
   "metadata": {
    "ExecuteTime": {
     "end_time": "2020-11-17T12:34:32.886182Z",
     "start_time": "2020-11-17T12:34:32.882790Z"
    }
   },
   "outputs": [
    {
     "data": {
      "text/plain": [
       "<bound method BaseContext.Manager of <multiprocessing.context.DefaultContext object at 0x117efdf50>>"
      ]
     },
     "execution_count": 13,
     "metadata": {},
     "output_type": "execute_result"
    }
   ],
   "source": [
    "multiprocessing.Manager"
   ]
  },
  {
   "cell_type": "markdown",
   "metadata": {},
   "source": [
    "### Example 1: multiprocessing.pool\n",
    "\n",
    "Pool object which offers a convenient means of parallelizing the execution of a function across multiple input values, distributing the input data across processes (data parallelism). \n",
    " \n",
    "Easy way to split a computation that is embarrasinly parallel on a set of parallel processes.\n",
    "\n",
    "    pool = multiprocessing.Pool(processes=n_parallel_processess)\n",
    "    pool.map(some_function, arguments_for_some_function)\n",
    "\n",
    "Important: You cannot use pool.map inside the interpreter. You need to run it as a script inside `if __name__ == '__main__'`\n",
    "\n",
    "\n"
   ]
  },
  {
   "cell_type": "code",
   "execution_count": 18,
   "metadata": {
    "ExecuteTime": {
     "end_time": "2020-11-17T14:59:48.001902Z",
     "start_time": "2020-11-17T14:59:47.999481Z"
    }
   },
   "outputs": [],
   "source": [
    "import numpy\n",
    "import numpy.random as random"
   ]
  },
  {
   "cell_type": "code",
   "execution_count": 19,
   "metadata": {
    "ExecuteTime": {
     "end_time": "2020-11-17T14:59:48.924391Z",
     "start_time": "2020-11-17T14:59:48.921542Z"
    }
   },
   "outputs": [],
   "source": [
    "def calculate_pi(nbr_estimates):\n",
    "    steps = range(int(nbr_estimates))\n",
    "    nbr_trials_in_unit_circle = 0\n",
    "    for step in steps:\n",
    "        x = random.uniform(0, 1)\n",
    "        y = random.uniform(0, 1)\n",
    "        is_in_unit_circle = x * x + y * y <= 1.0\n",
    "        nbr_trials_in_unit_circle += is_in_unit_circle\n",
    "    return nbr_trials_in_unit_circle"
   ]
  },
  {
   "cell_type": "code",
   "execution_count": 20,
   "metadata": {
    "ExecuteTime": {
     "end_time": "2020-11-17T14:59:49.160754Z",
     "start_time": "2020-11-17T14:59:49.158030Z"
    }
   },
   "outputs": [],
   "source": [
    "def estimate_nbr_points_in_quarter_circle(nbr_estimates):\n",
    "    nbr_trials_in_quarter_unit_circle = 0\n",
    "    for step in range(int(nbr_estimates)):\n",
    "        x = random.uniform(0, 1)\n",
    "        y = random.uniform(0, 1)\n",
    "        is_in_unit_circle = x * x + y * y <= 1.0\n",
    "        nbr_trials_in_quarter_unit_circle += is_in_unit_circle\n",
    "        \n",
    "    return nbr_trials_in_quarter_unit_circle"
   ]
  },
  {
   "cell_type": "code",
   "execution_count": 21,
   "metadata": {
    "ExecuteTime": {
     "end_time": "2020-11-17T14:59:49.570635Z",
     "start_time": "2020-11-17T14:59:49.439141Z"
    }
   },
   "outputs": [
    {
     "name": "stdout",
     "output_type": "stream",
     "text": [
      "Making 25000.0 samples per worker\n",
      "Estimated pi 3.12464\n",
      "Delta: 0.11353302001953125\n"
     ]
    }
   ],
   "source": [
    "nbr_samples_in_total = 1e5\n",
    "nbr_parallel_blocks = 4\n",
    "pool = multiprocessing.Pool(processes=nbr_parallel_blocks)\n",
    "nbr_samples_per_worker = nbr_samples_in_total / nbr_parallel_blocks\n",
    "print(\"Making {} samples per worker\".format(nbr_samples_per_worker))\n",
    "nbr_trials_per_process = [nbr_samples_per_worker] * nbr_parallel_blocks\n",
    "t1 = time.time()\n",
    "nbr_in_unit_circles = pool.map(calculate_pi, nbr_trials_per_process)\n",
    "pi_estimate = sum(nbr_in_unit_circles) * 4 / nbr_samples_in_total\n",
    "print(\"Estimated pi\", pi_estimate)\n",
    "print(\"Delta:\", time.time() - t1)"
   ]
  },
  {
   "cell_type": "markdown",
   "metadata": {},
   "source": [
    "### Example 2: Multiprocess.Process\n",
    "\n",
    "We can create a python process doing  `multiprocessing.Process`. \n",
    "\n",
    "        p = multiprocessing.Process(target=function, args=tuple_args_for_function)\n",
    "        p.start()\n",
    "        # Good practize to do\n",
    "        p.join()\n",
    "        \n",
    " \n",
    " \n",
    "run()\n",
    "\n",
    "    Method representing the process’s activity.\n",
    "\n",
    "    You may override this method in a subclass. The standard run() method invokes the callable object passed to the object’s constructor as the target argument, if any, with sequential and keyword arguments taken from the args and kwargs arguments, respectively.\n",
    "\n"
   ]
  },
  {
   "cell_type": "code",
   "execution_count": 22,
   "metadata": {
    "ExecuteTime": {
     "end_time": "2020-11-17T14:59:52.422201Z",
     "start_time": "2020-11-17T14:59:52.420071Z"
    }
   },
   "outputs": [],
   "source": [
    "import time\n",
    "from time import sleep"
   ]
  },
  {
   "cell_type": "code",
   "execution_count": 23,
   "metadata": {
    "ExecuteTime": {
     "end_time": "2020-11-17T14:59:52.692951Z",
     "start_time": "2020-11-17T14:59:52.656723Z"
    },
    "scrolled": false
   },
   "outputs": [
    {
     "name": "stdout",
     "output_type": "stream",
     "text": [
      "Worker  Worker  01\n",
      "\n",
      "Worker  2\n",
      "Worker  3Worker \n",
      " 4Worker \n",
      " 5Worker \n",
      " 6Worker \n",
      " 7Worker  \n",
      "Worker 8 \n",
      "9\n",
      "Worker  Worker 0 \n",
      "1\n",
      "Worker  2Worker \n",
      " 3\n",
      "Worker  Worker 4\n",
      " 5Worker \n",
      " 6\n",
      "Worker  Worker 7 \n",
      "Worker 8\n",
      " 9\n",
      "Worker Worker   01\n",
      "\n",
      "Worker  Worker 2 \n",
      "3\n",
      "Worker  Worker 4 \n",
      "5Worker \n",
      " 6\n",
      "Worker  7Worker \n",
      " Worker 8\n",
      " 9\n"
     ]
    }
   ],
   "source": [
    "import multiprocessing\n",
    "\n",
    "def worker(n):\n",
    "    \"\"\"worker function\"\"\"\n",
    "    for i in range(3):\n",
    "        sleep(2)\n",
    "        print('Worker ', n)\n",
    "    return\n",
    "\n",
    "if __name__ == '__main__':\n",
    "    jobs = []\n",
    "    for i in range(10):\n",
    "        p = multiprocessing.Process(target=worker, args=(i, ))\n",
    "        jobs.append(p)\n",
    "        p.start()"
   ]
  },
  {
   "cell_type": "markdown",
   "metadata": {},
   "source": [
    "### Example 3"
   ]
  },
  {
   "cell_type": "code",
   "execution_count": 10,
   "metadata": {
    "ExecuteTime": {
     "end_time": "2020-11-17T09:23:33.599950Z",
     "start_time": "2020-11-17T09:23:33.581859Z"
    }
   },
   "outputs": [
    {
     "name": "stdout",
     "output_type": "stream",
     "text": [
      "worker 1 Process-17Starting \n",
      "Starting\n",
      "my_service Starting\n",
      "worker 1 ExitingProcess-17\n",
      " Exiting\n",
      "my_service Exiting\n"
     ]
    }
   ],
   "source": [
    "import multiprocessing\n",
    "import time\n",
    "\n",
    "def worker():\n",
    "    name = multiprocessing.current_process().name\n",
    "    print (name, 'Starting')\n",
    "    time.sleep(2)\n",
    "    print (name, 'Exiting')\n",
    "\n",
    "def my_service():\n",
    "    name = multiprocessing.current_process().name\n",
    "    print (name, 'Starting')\n",
    "    time.sleep(3)\n",
    "    print (name, 'Exiting')\n",
    "\n",
    "service  = multiprocessing.Process(name='my_service', target=my_service)\n",
    "worker_1 = multiprocessing.Process(name='worker 1', target=worker)\n",
    "worker_2 = multiprocessing.Process(target=worker) # use default name\n",
    "\n",
    "worker_1.start()\n",
    "worker_2.start()\n",
    "service.start()"
   ]
  },
  {
   "cell_type": "markdown",
   "metadata": {},
   "source": [
    "### Example 3"
   ]
  },
  {
   "cell_type": "code",
   "execution_count": 11,
   "metadata": {},
   "outputs": [],
   "source": [
    "square_result = []\n",
    "\n",
    "def calc_square(numbers):\n",
    "    global squared_result\n",
    "    for n in numbers:\n",
    "        square_result.append(n*n)"
   ]
  },
  {
   "cell_type": "code",
   "execution_count": 12,
   "metadata": {},
   "outputs": [],
   "source": [
    "arr = [2 for i in range(10**5)]"
   ]
  },
  {
   "cell_type": "code",
   "execution_count": 13,
   "metadata": {},
   "outputs": [],
   "source": [
    "p1 = multiprocessing.Process(target = calc_square, args= (arr,) ) "
   ]
  },
  {
   "cell_type": "code",
   "execution_count": 16,
   "metadata": {},
   "outputs": [
    {
     "ename": "AssertionError",
     "evalue": "cannot start a process twice",
     "output_type": "error",
     "traceback": [
      "\u001b[0;31m---------------------------------------------------------------------------\u001b[0m",
      "\u001b[0;31mAssertionError\u001b[0m                            Traceback (most recent call last)",
      "\u001b[0;32m<ipython-input-16-dd4ad466d56f>\u001b[0m in \u001b[0;36m<module>\u001b[0;34m\u001b[0m\n\u001b[0;32m----> 1\u001b[0;31m \u001b[0mp1\u001b[0m\u001b[0;34m.\u001b[0m\u001b[0mstart\u001b[0m\u001b[0;34m(\u001b[0m\u001b[0;34m)\u001b[0m\u001b[0;34m\u001b[0m\u001b[0;34m\u001b[0m\u001b[0m\n\u001b[0m\u001b[1;32m      2\u001b[0m \u001b[0mp1\u001b[0m\u001b[0;34m.\u001b[0m\u001b[0mjoin\u001b[0m\u001b[0;34m(\u001b[0m\u001b[0;34m)\u001b[0m\u001b[0;34m\u001b[0m\u001b[0;34m\u001b[0m\u001b[0m\n",
      "\u001b[0;32m~/anaconda/envs/py3/lib/python3.6/multiprocessing/process.py\u001b[0m in \u001b[0;36mstart\u001b[0;34m(self)\u001b[0m\n\u001b[1;32m     97\u001b[0m         \u001b[0mStart\u001b[0m \u001b[0mchild\u001b[0m \u001b[0mprocess\u001b[0m\u001b[0;34m\u001b[0m\u001b[0;34m\u001b[0m\u001b[0m\n\u001b[1;32m     98\u001b[0m         '''\n\u001b[0;32m---> 99\u001b[0;31m         \u001b[0;32massert\u001b[0m \u001b[0mself\u001b[0m\u001b[0;34m.\u001b[0m\u001b[0m_popen\u001b[0m \u001b[0;32mis\u001b[0m \u001b[0;32mNone\u001b[0m\u001b[0;34m,\u001b[0m \u001b[0;34m'cannot start a process twice'\u001b[0m\u001b[0;34m\u001b[0m\u001b[0;34m\u001b[0m\u001b[0m\n\u001b[0m\u001b[1;32m    100\u001b[0m         \u001b[0;32massert\u001b[0m \u001b[0mself\u001b[0m\u001b[0;34m.\u001b[0m\u001b[0m_parent_pid\u001b[0m \u001b[0;34m==\u001b[0m \u001b[0mos\u001b[0m\u001b[0;34m.\u001b[0m\u001b[0mgetpid\u001b[0m\u001b[0;34m(\u001b[0m\u001b[0;34m)\u001b[0m\u001b[0;34m,\u001b[0m\u001b[0;31m \u001b[0m\u001b[0;31m\\\u001b[0m\u001b[0;34m\u001b[0m\u001b[0;34m\u001b[0m\u001b[0m\n\u001b[1;32m    101\u001b[0m                \u001b[0;34m'can only start a process object created by current process'\u001b[0m\u001b[0;34m\u001b[0m\u001b[0;34m\u001b[0m\u001b[0m\n",
      "\u001b[0;31mAssertionError\u001b[0m: cannot start a process twice"
     ]
    }
   ],
   "source": [
    "p1.start()\n",
    "p1.join()"
   ]
  },
  {
   "cell_type": "code",
   "execution_count": 17,
   "metadata": {},
   "outputs": [
    {
     "data": {
      "text/plain": [
       "[]"
      ]
     },
     "execution_count": 17,
     "metadata": {},
     "output_type": "execute_result"
    }
   ],
   "source": [
    "square_result"
   ]
  },
  {
   "cell_type": "markdown",
   "metadata": {},
   "source": [
    "Why is squared result empty?\n",
    "\n",
    "The reason is because the new process has its own adress space (virtual memory). Therefore program variables are not shared between two processes. Interprocess communication (IPC) is needed to share data between two processes.\n"
   ]
  },
  {
   "cell_type": "markdown",
   "metadata": {},
   "source": [
    "### Example 3: Share data between processes\n",
    "\n",
    "\n",
    "- multiprocessing.Array\n",
    "- multiprocessing.Value\n",
    "\n"
   ]
  },
  {
   "cell_type": "code",
   "execution_count": 18,
   "metadata": {},
   "outputs": [],
   "source": [
    "def calc_square(numbers, result):\n",
    "    # this does not work\n",
    "    #for n in numbers:\n",
    "    #    result.append(n*n) \n",
    "    for idx, n in enumerate(numbers):\n",
    "        result[idx] = n*n\n",
    "\n",
    "numbers = [2,3,4,5,6,7]\n",
    "result = multiprocessing.Array(\"i\", len(numbers))"
   ]
  },
  {
   "cell_type": "code",
   "execution_count": 19,
   "metadata": {},
   "outputs": [
    {
     "data": {
      "text/plain": [
       "[0, 0, 0, 0, 0, 0]"
      ]
     },
     "execution_count": 19,
     "metadata": {},
     "output_type": "execute_result"
    }
   ],
   "source": [
    "result[:]"
   ]
  },
  {
   "cell_type": "code",
   "execution_count": 20,
   "metadata": {},
   "outputs": [],
   "source": [
    "p = multiprocessing.Process(target=calc_square, args=(numbers, result))\n",
    "p.start()\n",
    "p.join()"
   ]
  },
  {
   "cell_type": "code",
   "execution_count": 21,
   "metadata": {},
   "outputs": [
    {
     "data": {
      "text/plain": [
       "[4, 9, 16, 25, 36, 49]"
      ]
     },
     "execution_count": 21,
     "metadata": {},
     "output_type": "execute_result"
    }
   ],
   "source": [
    "result[:]"
   ]
  },
  {
   "cell_type": "code",
   "execution_count": null,
   "metadata": {},
   "outputs": [],
   "source": []
  },
  {
   "cell_type": "markdown",
   "metadata": {},
   "source": [
    "## Defining and executing processes\n",
    "\n",
    "http://sebastianraschka.com/Articles/2014_multiprocessing.html"
   ]
  },
  {
   "cell_type": "code",
   "execution_count": null,
   "metadata": {},
   "outputs": [],
   "source": []
  },
  {
   "cell_type": "code",
   "execution_count": null,
   "metadata": {},
   "outputs": [],
   "source": []
  },
  {
   "cell_type": "code",
   "execution_count": null,
   "metadata": {},
   "outputs": [],
   "source": [
    "MS   10.000\n",
    "S    20.000\n",
    "NS      5000\n",
    "      35000\n",
    "    \n",
    "P(NS) = 5000/35000"
   ]
  },
  {
   "cell_type": "code",
   "execution_count": 25,
   "metadata": {
    "ExecuteTime": {
     "end_time": "2020-11-17T16:20:55.732151Z",
     "start_time": "2020-11-17T16:20:55.727763Z"
    }
   },
   "outputs": [
    {
     "data": {
      "text/plain": [
       "0.14285714285714285"
      ]
     },
     "execution_count": 25,
     "metadata": {},
     "output_type": "execute_result"
    }
   ],
   "source": [
    "5000/35000"
   ]
  },
  {
   "cell_type": "code",
   "execution_count": null,
   "metadata": {},
   "outputs": [],
   "source": [
    "P(B|MS) = 100/900\n",
    "P(B|S) = 400/900\n",
    "P(B|NS) = 500/900"
   ]
  },
  {
   "cell_type": "code",
   "execution_count": 26,
   "metadata": {
    "ExecuteTime": {
     "end_time": "2020-11-17T16:21:48.910532Z",
     "start_time": "2020-11-17T16:21:48.907454Z"
    }
   },
   "outputs": [
    {
     "data": {
      "text/plain": [
       "0.5555555555555556"
      ]
     },
     "execution_count": 26,
     "metadata": {},
     "output_type": "execute_result"
    }
   ],
   "source": [
    "500/900"
   ]
  },
  {
   "cell_type": "code",
   "execution_count": null,
   "metadata": {},
   "outputs": [],
   "source": [
    "P(B)"
   ]
  }
 ],
 "metadata": {
  "kernelspec": {
   "display_name": "Python 3",
   "language": "python",
   "name": "python3"
  },
  "language_info": {
   "codemirror_mode": {
    "name": "ipython",
    "version": 3
   },
   "file_extension": ".py",
   "mimetype": "text/x-python",
   "name": "python",
   "nbconvert_exporter": "python",
   "pygments_lexer": "ipython3",
   "version": "3.7.7"
  },
  "toc": {
   "base_numbering": 1,
   "nav_menu": {},
   "number_sections": true,
   "sideBar": true,
   "skip_h1_title": false,
   "title_cell": "Table of Contents",
   "title_sidebar": "Contents",
   "toc_cell": true,
   "toc_position": {},
   "toc_section_display": true,
   "toc_window_display": false
  },
  "varInspector": {
   "cols": {
    "lenName": 16,
    "lenType": 16,
    "lenVar": 40
   },
   "kernels_config": {
    "python": {
     "delete_cmd_postfix": "",
     "delete_cmd_prefix": "del ",
     "library": "var_list.py",
     "varRefreshCmd": "print(var_dic_list())"
    },
    "r": {
     "delete_cmd_postfix": ") ",
     "delete_cmd_prefix": "rm(",
     "library": "var_list.r",
     "varRefreshCmd": "cat(var_dic_list()) "
    }
   },
   "types_to_exclude": [
    "module",
    "function",
    "builtin_function_or_method",
    "instance",
    "_Feature"
   ],
   "window_display": false
  }
 },
 "nbformat": 4,
 "nbformat_minor": 1
}

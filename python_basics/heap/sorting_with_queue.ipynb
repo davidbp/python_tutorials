{
 "cells": [
  {
   "cell_type": "markdown",
   "metadata": {
    "toc": true
   },
   "source": [
    "<h1>Table of Contents<span class=\"tocSkip\"></span></h1>\n",
    "<div class=\"toc\"><ul class=\"toc-item\"><li><span><a href=\"#Problem-statement\" data-toc-modified-id=\"Problem-statement-1\"><span class=\"toc-item-num\">1&nbsp;&nbsp;</span>Problem statement</a></span></li></ul></div>"
   ]
  },
  {
   "cell_type": "code",
   "execution_count": 1,
   "metadata": {
    "ExecuteTime": {
     "end_time": "2022-04-23T09:44:52.000084Z",
     "start_time": "2022-04-23T09:44:51.996614Z"
    }
   },
   "outputs": [],
   "source": [
    "import numpy as np"
   ]
  },
  {
   "cell_type": "code",
   "execution_count": 4,
   "metadata": {
    "ExecuteTime": {
     "end_time": "2022-04-23T09:45:40.520442Z",
     "start_time": "2022-04-23T09:45:40.516609Z"
    }
   },
   "outputs": [],
   "source": [
    "n = 100_000\n",
    "x = np.random.rand(n)"
   ]
  },
  {
   "cell_type": "code",
   "execution_count": 5,
   "metadata": {
    "ExecuteTime": {
     "end_time": "2022-04-23T09:45:40.865958Z",
     "start_time": "2022-04-23T09:45:40.853709Z"
    }
   },
   "outputs": [
    {
     "name": "stdout",
     "output_type": "stream",
     "text": [
      "CPU times: user 8.22 ms, sys: 1.28 ms, total: 9.5 ms\n",
      "Wall time: 7.99 ms\n"
     ]
    },
    {
     "data": {
      "text/plain": [
       "array([44812, 11689,  8420, ..., 16399, 78194, 19951])"
      ]
     },
     "execution_count": 5,
     "metadata": {},
     "output_type": "execute_result"
    }
   ],
   "source": [
    "%%time\n",
    "np.argsort(x)"
   ]
  },
  {
   "cell_type": "code",
   "execution_count": 15,
   "metadata": {
    "ExecuteTime": {
     "end_time": "2022-04-23T09:47:56.759633Z",
     "start_time": "2022-04-23T09:47:56.755649Z"
    }
   },
   "outputs": [],
   "source": [
    "import heapq\n",
    "from heapq import heappush, heappop\n",
    "\n",
    "def heapsort(iterable):\n",
    "    h = []\n",
    "    for value in iterable:\n",
    "        heappush(h, value)\n",
    "    return [heappop(h) for i in range(len(h))]"
   ]
  },
  {
   "cell_type": "code",
   "execution_count": 16,
   "metadata": {
    "ExecuteTime": {
     "end_time": "2022-04-23T09:47:56.992870Z",
     "start_time": "2022-04-23T09:47:56.990977Z"
    }
   },
   "outputs": [],
   "source": [
    "h = []"
   ]
  },
  {
   "cell_type": "code",
   "execution_count": 24,
   "metadata": {
    "ExecuteTime": {
     "end_time": "2022-04-23T09:50:50.514183Z",
     "start_time": "2022-04-23T09:50:50.390892Z"
    }
   },
   "outputs": [],
   "source": [
    "x_aux = heapsort(x)"
   ]
  },
  {
   "cell_type": "markdown",
   "metadata": {
    "ExecuteTime": {
     "end_time": "2022-04-23T09:51:32.379437Z",
     "start_time": "2022-04-23T09:51:32.376234Z"
    }
   },
   "source": [
    "### Problem statement\n",
    "\n",
    "- We are given a bunch of liststs and for each of those we want to get the smallest values.\n",
    "\n",
    "- We want to keep track of the `limit` smallest values acrosss all the lists that we visit.\n",
    "\n",
    "- Solution 1:\n",
    "  - gather all lists (concatenate) sort and get the `limit` smallest values.\n",
    "\n",
    "- Solution 2:\n",
    "  - Keep only `limit` elements in memory and update those\n",
    "\n"
   ]
  },
  {
   "cell_type": "code",
   "execution_count": 23,
   "metadata": {
    "ExecuteTime": {
     "end_time": "2022-04-23T09:50:48.999255Z",
     "start_time": "2022-04-23T09:50:48.994777Z"
    }
   },
   "outputs": [
    {
     "data": {
      "text/plain": [
       "array([0., 0., 0., 0., 0., 0., 0., 0., 0., 0., 0., 0., 0., 0., 0., 0., 0.,\n",
       "       0., 0., 0.])"
      ]
     },
     "execution_count": 23,
     "metadata": {},
     "output_type": "execute_result"
    }
   ],
   "source": [
    "limit = 20\n",
    "results = np.zeros(limit)\n",
    "results"
   ]
  },
  {
   "cell_type": "code",
   "execution_count": 60,
   "metadata": {
    "ExecuteTime": {
     "end_time": "2022-04-23T10:03:11.214802Z",
     "start_time": "2022-04-23T10:03:11.208871Z"
    }
   },
   "outputs": [
    {
     "data": {
      "text/plain": [
       "[1, 2]"
      ]
     },
     "execution_count": 60,
     "metadata": {},
     "output_type": "execute_result"
    }
   ],
   "source": [
    "x = [1,4,7,11]\n",
    "y = [2,3,9,13]\n",
    "aux = heapq.merge(x,y)\n",
    "top_k = [x for i,x in enumerate(aux) if i<=1]\n",
    "top_k"
   ]
  },
  {
   "cell_type": "code",
   "execution_count": 61,
   "metadata": {
    "ExecuteTime": {
     "end_time": "2022-04-23T10:03:19.082686Z",
     "start_time": "2022-04-23T10:03:19.068026Z"
    }
   },
   "outputs": [
    {
     "data": {
      "text/plain": [
       "[1, 2]"
      ]
     },
     "execution_count": 61,
     "metadata": {},
     "output_type": "execute_result"
    }
   ],
   "source": [
    "x = np.array([1,4,7,11])\n",
    "y = np.array([2,3,9,13])\n",
    "aux = heapq.merge(x,y)\n",
    "top_k = [x for i,x in enumerate(aux) if i<=1]\n",
    "top_k"
   ]
  },
  {
   "cell_type": "code",
   "execution_count": 138,
   "metadata": {
    "ExecuteTime": {
     "end_time": "2022-04-23T10:20:51.076165Z",
     "start_time": "2022-04-23T10:20:51.061924Z"
    }
   },
   "outputs": [],
   "source": [
    "n_cells = 100\n",
    "limit = 20\n",
    "n_elements = 1000\n",
    "partial_results = [np.sort(np.random.rand(n_elements)) for cell in range(n_cells)]\n"
   ]
  },
  {
   "cell_type": "code",
   "execution_count": 129,
   "metadata": {
    "ExecuteTime": {
     "end_time": "2022-04-23T10:18:26.152001Z",
     "start_time": "2022-04-23T10:18:26.145961Z"
    }
   },
   "outputs": [],
   "source": [
    "def sort_with_heapq(partial_results, limit=20):\n",
    "    sorted_results = partial_results[0]\n",
    "    for x in partial_results[1:]:\n",
    "        sorted_results = heapq.merge(sorted_results, x)\n",
    "\n",
    "    top_k_heap = [x for i,x in enumerate(sorted_results) if i<limit]\n",
    "    return top_k_heap"
   ]
  },
  {
   "cell_type": "code",
   "execution_count": 130,
   "metadata": {
    "ExecuteTime": {
     "end_time": "2022-04-23T10:18:28.789880Z",
     "start_time": "2022-04-23T10:18:26.501346Z"
    }
   },
   "outputs": [
    {
     "name": "stdout",
     "output_type": "stream",
     "text": [
      "28.3 ms ± 2 ms per loop (mean ± std. dev. of 7 runs, 10 loops each)\n"
     ]
    }
   ],
   "source": [
    "%%timeit\n",
    "top_k_heap = sort_with_heapq(partial_results)"
   ]
  },
  {
   "cell_type": "code",
   "execution_count": 131,
   "metadata": {
    "ExecuteTime": {
     "end_time": "2022-04-23T10:18:31.519500Z",
     "start_time": "2022-04-23T10:18:31.512048Z"
    }
   },
   "outputs": [],
   "source": [
    "def naive_sort(partial_results, limit=20):\n",
    "    all_results = np.hstack(partial_results)\n",
    "    return np.partition(all_results, limit)[0:limit]"
   ]
  },
  {
   "cell_type": "code",
   "execution_count": 132,
   "metadata": {
    "ExecuteTime": {
     "end_time": "2022-04-23T10:18:38.593682Z",
     "start_time": "2022-04-23T10:18:31.881240Z"
    }
   },
   "outputs": [
    {
     "name": "stdout",
     "output_type": "stream",
     "text": [
      "81.9 µs ± 7.85 µs per loop (mean ± std. dev. of 7 runs, 10000 loops each)\n"
     ]
    }
   ],
   "source": [
    "%%timeit\n",
    "top_k_naive = naive_sort(partial_results)"
   ]
  },
  {
   "cell_type": "code",
   "execution_count": 141,
   "metadata": {
    "ExecuteTime": {
     "end_time": "2022-04-23T10:21:05.705273Z",
     "start_time": "2022-04-23T10:21:05.701006Z"
    }
   },
   "outputs": [
    {
     "data": {
      "text/plain": [
       "array([0.00076741, 0.00216987, 0.00239313, 0.0031574 , 0.00407168,\n",
       "       0.0053202 , 0.00733216, 0.00836903, 0.00889813, 0.00920386,\n",
       "       0.01241766, 0.01301133, 0.01463368, 0.01534017, 0.01725357,\n",
       "       0.0173481 , 0.01976626, 0.0209453 , 0.02227847, 0.02581008])"
      ]
     },
     "execution_count": 141,
     "metadata": {},
     "output_type": "execute_result"
    }
   ],
   "source": [
    "top_limit = np.partition(partial_results[0],limit)[:limit]\n",
    "top_limit"
   ]
  },
  {
   "cell_type": "code",
   "execution_count": 161,
   "metadata": {
    "ExecuteTime": {
     "end_time": "2022-04-23T10:30:19.717653Z",
     "start_time": "2022-04-23T10:30:19.713215Z"
    }
   },
   "outputs": [],
   "source": [
    "def priority_queue_sorted(partial_results, limit):\n",
    "    for partial_res in partial_results[1:]:\n",
    "        for result in partial_res:\n",
    "            # top_limit[-1]\n",
    "            if result < top_limit[-1]:\n",
    "                # find position j to put it into the top_limit\n",
    "                for j in range(limit):\n",
    "                    if result < top_k[j]:\n",
    "                        break\n",
    "                #top_limit[j] has to be result\n",
    "                #top_limit[-1] se va a la calle\n",
    "                #top_limit[j:] se mueve a la derecha\n",
    "                top_limit[j+1:] = top_limit[j:-1]\n",
    "                top_limit[j] = result\n"
   ]
  },
  {
   "cell_type": "code",
   "execution_count": 164,
   "metadata": {
    "ExecuteTime": {
     "end_time": "2022-04-23T10:30:39.241392Z",
     "start_time": "2022-04-23T10:30:37.498865Z"
    }
   },
   "outputs": [
    {
     "name": "stdout",
     "output_type": "stream",
     "text": [
      "21.3 ms ± 1.94 ms per loop (mean ± std. dev. of 7 runs, 10 loops each)\n"
     ]
    }
   ],
   "source": [
    "%%timeit\n",
    "priority_queue_sorted(partial_results, limit)"
   ]
  },
  {
   "cell_type": "code",
   "execution_count": 159,
   "metadata": {
    "ExecuteTime": {
     "end_time": "2022-04-23T10:29:29.157940Z",
     "start_time": "2022-04-23T10:29:29.153951Z"
    }
   },
   "outputs": [
    {
     "data": {
      "text/plain": [
       "array([1.63230407e-05, 3.11500705e-05, 3.93326165e-05, 6.39855499e-05,\n",
       "       9.01607294e-05, 9.38105685e-05, 9.95556330e-05, 1.05528635e-04,\n",
       "       1.12312109e-04, 3.19490233e-04, 4.12880862e-04, 5.86107843e-04,\n",
       "       7.12944248e-04, 7.16127697e-04, 7.62111263e-04, 8.40066867e-04,\n",
       "       9.89657490e-04, 1.43738500e-03, 1.59005847e-03, 2.39598039e-03])"
      ]
     },
     "execution_count": 159,
     "metadata": {},
     "output_type": "execute_result"
    }
   ],
   "source": [
    "top_limit.sort()\n",
    "top_limit"
   ]
  },
  {
   "cell_type": "code",
   "execution_count": 156,
   "metadata": {
    "ExecuteTime": {
     "end_time": "2022-04-23T10:28:59.311216Z",
     "start_time": "2022-04-23T10:28:59.305748Z"
    }
   },
   "outputs": [],
   "source": [
    "top_k_naive = naive_sort(partial_results)"
   ]
  },
  {
   "cell_type": "code",
   "execution_count": 157,
   "metadata": {
    "ExecuteTime": {
     "end_time": "2022-04-23T10:29:02.186872Z",
     "start_time": "2022-04-23T10:29:02.181685Z"
    }
   },
   "outputs": [
    {
     "data": {
      "text/plain": [
       "array([1.63230407e-05, 6.39855499e-05, 6.84044883e-05, 9.38105685e-05,\n",
       "       5.16463262e-05, 9.69562463e-05, 9.68966784e-05, 9.01607294e-05,\n",
       "       9.95290097e-05, 3.93326165e-05, 4.19230420e-05, 3.11500705e-05,\n",
       "       9.95556330e-05, 1.14400970e-04, 1.05528635e-04, 1.31254954e-04,\n",
       "       1.12312109e-04, 1.32316435e-04, 1.33277191e-04, 1.36219991e-04])"
      ]
     },
     "execution_count": 157,
     "metadata": {},
     "output_type": "execute_result"
    }
   ],
   "source": [
    "top_k_naive"
   ]
  },
  {
   "cell_type": "code",
   "execution_count": null,
   "metadata": {},
   "outputs": [],
   "source": []
  },
  {
   "cell_type": "code",
   "execution_count": null,
   "metadata": {},
   "outputs": [],
   "source": []
  },
  {
   "cell_type": "code",
   "execution_count": null,
   "metadata": {},
   "outputs": [],
   "source": []
  },
  {
   "cell_type": "code",
   "execution_count": null,
   "metadata": {},
   "outputs": [],
   "source": [
    "\n"
   ]
  },
  {
   "cell_type": "code",
   "execution_count": null,
   "metadata": {},
   "outputs": [],
   "source": []
  },
  {
   "cell_type": "code",
   "execution_count": null,
   "metadata": {},
   "outputs": [],
   "source": []
  },
  {
   "cell_type": "code",
   "execution_count": null,
   "metadata": {},
   "outputs": [],
   "source": []
  }
 ],
 "metadata": {
  "kernelspec": {
   "display_name": "Python 3 (ipykernel)",
   "language": "python",
   "name": "python3"
  },
  "language_info": {
   "codemirror_mode": {
    "name": "ipython",
    "version": 3
   },
   "file_extension": ".py",
   "mimetype": "text/x-python",
   "name": "python",
   "nbconvert_exporter": "python",
   "pygments_lexer": "ipython3",
   "version": "3.8.5"
  },
  "toc": {
   "base_numbering": 1,
   "nav_menu": {},
   "number_sections": true,
   "sideBar": true,
   "skip_h1_title": false,
   "title_cell": "Table of Contents",
   "title_sidebar": "Contents",
   "toc_cell": true,
   "toc_position": {},
   "toc_section_display": true,
   "toc_window_display": true
  },
  "varInspector": {
   "cols": {
    "lenName": 16,
    "lenType": 16,
    "lenVar": 40
   },
   "kernels_config": {
    "python": {
     "delete_cmd_postfix": "",
     "delete_cmd_prefix": "del ",
     "library": "var_list.py",
     "varRefreshCmd": "print(var_dic_list())"
    },
    "r": {
     "delete_cmd_postfix": ") ",
     "delete_cmd_prefix": "rm(",
     "library": "var_list.r",
     "varRefreshCmd": "cat(var_dic_list()) "
    }
   },
   "types_to_exclude": [
    "module",
    "function",
    "builtin_function_or_method",
    "instance",
    "_Feature"
   ],
   "window_display": false
  }
 },
 "nbformat": 4,
 "nbformat_minor": 4
}

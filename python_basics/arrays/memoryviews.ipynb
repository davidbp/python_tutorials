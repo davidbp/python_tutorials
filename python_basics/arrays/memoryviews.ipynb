{
 "cells": [
  {
   "cell_type": "code",
   "execution_count": 15,
   "id": "1bd97eac",
   "metadata": {},
   "outputs": [],
   "source": [
    "import numpy as np"
   ]
  },
  {
   "cell_type": "code",
   "execution_count": 58,
   "id": "796acf98",
   "metadata": {},
   "outputs": [
    {
     "data": {
      "text/plain": [
       "array([0.69646919, 0.28613933, 0.22685145, 0.55131477, 0.71946897,\n",
       "       0.42310646, 0.9807642 , 0.68482974, 0.4809319 , 0.39211752])"
      ]
     },
     "execution_count": 58,
     "metadata": {},
     "output_type": "execute_result"
    }
   ],
   "source": [
    "np.random.seed(123)\n",
    "aux = np.random.random(10)\n",
    "aux"
   ]
  },
  {
   "cell_type": "code",
   "execution_count": 59,
   "id": "39920d2d",
   "metadata": {},
   "outputs": [],
   "source": [
    "vec_bytes = aux.tobytes()"
   ]
  },
  {
   "cell_type": "code",
   "execution_count": 46,
   "id": "7551ed2a",
   "metadata": {},
   "outputs": [
    {
     "name": "stdout",
     "output_type": "stream",
     "text": [
      "338 ns ± 3.56 ns per loop (mean ± std. dev. of 7 runs, 1000000 loops each)\n"
     ]
    }
   ],
   "source": [
    "%timeit np.frombuffer(vec_bytes)"
   ]
  },
  {
   "cell_type": "code",
   "execution_count": 60,
   "id": "812b6d99",
   "metadata": {},
   "outputs": [],
   "source": [
    "vec_view = memoryview(vec_bytes)"
   ]
  },
  {
   "cell_type": "code",
   "execution_count": 80,
   "id": "5ba5d349",
   "metadata": {},
   "outputs": [
    {
     "name": "stdout",
     "output_type": "stream",
     "text": [
      "317 ns ± 7.9 ns per loop (mean ± std. dev. of 7 runs, 1000000 loops each)\n"
     ]
    }
   ],
   "source": [
    "%timeit np.frombuffer(vec_view)"
   ]
  },
  {
   "cell_type": "code",
   "execution_count": null,
   "id": "d2f1fd92",
   "metadata": {},
   "outputs": [],
   "source": []
  },
  {
   "cell_type": "code",
   "execution_count": null,
   "id": "bac8448f",
   "metadata": {},
   "outputs": [],
   "source": []
  },
  {
   "cell_type": "code",
   "execution_count": 87,
   "id": "7bc94f1a",
   "metadata": {},
   "outputs": [
    {
     "name": "stdout",
     "output_type": "stream",
     "text": [
      "bytearray(b'row-10 bytes- your boat')\n"
     ]
    }
   ],
   "source": [
    "my_array = bytearray(b'row, row, row your boat')\n",
    "my_view = memoryview(my_array)\n",
    "write_view = my_view[3:13]\n",
    "write_view[:] = b'-10 bytes-'\n",
    "print(my_array)"
   ]
  },
  {
   "cell_type": "code",
   "execution_count": 88,
   "id": "08b7e959",
   "metadata": {},
   "outputs": [
    {
     "data": {
      "text/plain": [
       "bytearray(b'row-10 bytes- your boat')"
      ]
     },
     "execution_count": 88,
     "metadata": {},
     "output_type": "execute_result"
    }
   ],
   "source": [
    "my_array"
   ]
  },
  {
   "cell_type": "markdown",
   "id": "8b65803f",
   "metadata": {},
   "source": [
    "### Jina"
   ]
  },
  {
   "cell_type": "code",
   "execution_count": 89,
   "id": "d0e65d9d",
   "metadata": {},
   "outputs": [],
   "source": [
    "from jina import Document"
   ]
  },
  {
   "cell_type": "code",
   "execution_count": 91,
   "id": "b2792071",
   "metadata": {},
   "outputs": [],
   "source": [
    "d = Document(embedding = aux)"
   ]
  },
  {
   "cell_type": "code",
   "execution_count": 92,
   "id": "fb461272",
   "metadata": {},
   "outputs": [
    {
     "name": "stdout",
     "output_type": "stream",
     "text": [
      "6.31 µs ± 372 ns per loop (mean ± std. dev. of 7 runs, 100000 loops each)\n"
     ]
    }
   ],
   "source": [
    "%timeit d.embedding"
   ]
  },
  {
   "cell_type": "code",
   "execution_count": 99,
   "id": "1682359e",
   "metadata": {},
   "outputs": [
    {
     "name": "stdout",
     "output_type": "stream",
     "text": [
      "502 ns ± 22.1 ns per loop (mean ± std. dev. of 7 runs, 1000000 loops each)\n"
     ]
    }
   ],
   "source": [
    "%timeit np.frombuffer(d._pb_body.embedding.dense.buffer)"
   ]
  },
  {
   "cell_type": "code",
   "execution_count": 100,
   "id": "0ab04b92",
   "metadata": {},
   "outputs": [
    {
     "data": {
      "text/plain": [
       "array([0.69646919, 0.28613933, 0.22685145, 0.55131477, 0.71946897,\n",
       "       0.42310646, 0.9807642 , 0.68482974, 0.4809319 , 0.39211752])"
      ]
     },
     "execution_count": 100,
     "metadata": {},
     "output_type": "execute_result"
    }
   ],
   "source": [
    "np.frombuffer(d._pb_body.embedding.dense.buffer)"
   ]
  },
  {
   "cell_type": "code",
   "execution_count": 107,
   "id": "8d5db079",
   "metadata": {},
   "outputs": [
    {
     "data": {
      "text/plain": []
     },
     "execution_count": 107,
     "metadata": {},
     "output_type": "execute_result"
    }
   ],
   "source": [
    "d._pb_body.embedding.sparse"
   ]
  },
  {
   "cell_type": "code",
   "execution_count": 114,
   "id": "c4493be0",
   "metadata": {},
   "outputs": [],
   "source": [
    "\n",
    "def get_embedding(doc):\n",
    "    if d._pb_body.embedding.dense:\n",
    "        return np.frombuffer(d._pb_body.embedding.dense.buffer)"
   ]
  },
  {
   "cell_type": "code",
   "execution_count": 116,
   "id": "c381a36e",
   "metadata": {},
   "outputs": [
    {
     "name": "stdout",
     "output_type": "stream",
     "text": [
      "677 ns ± 23 ns per loop (mean ± std. dev. of 7 runs, 1000000 loops each)\n"
     ]
    }
   ],
   "source": [
    "%timeit get_embedding(d)"
   ]
  },
  {
   "cell_type": "code",
   "execution_count": 118,
   "id": "ddaffb46",
   "metadata": {},
   "outputs": [],
   "source": [
    "#stype = self._pb_body.WhichOneof('content')"
   ]
  },
  {
   "cell_type": "code",
   "execution_count": null,
   "id": "726d0c38",
   "metadata": {},
   "outputs": [],
   "source": []
  },
  {
   "cell_type": "code",
   "execution_count": null,
   "id": "0851864c",
   "metadata": {},
   "outputs": [],
   "source": []
  }
 ],
 "metadata": {
  "kernelspec": {
   "display_name": "Python 3",
   "language": "python",
   "name": "python3"
  },
  "language_info": {
   "codemirror_mode": {
    "name": "ipython",
    "version": 3
   },
   "file_extension": ".py",
   "mimetype": "text/x-python",
   "name": "python",
   "nbconvert_exporter": "python",
   "pygments_lexer": "ipython3",
   "version": "3.8.8"
  }
 },
 "nbformat": 4,
 "nbformat_minor": 5
}

{
 "cells": [
  {
   "cell_type": "markdown",
   "metadata": {
    "toc": true
   },
   "source": [
    "<h1>Table of Contents<span class=\"tocSkip\"></span></h1>\n",
    "<div class=\"toc\"><ul class=\"toc-item\"><li><span><a href=\"#Asynchronous-computations\" data-toc-modified-id=\"Asynchronous-computations-1\"><span class=\"toc-item-num\">1&nbsp;&nbsp;</span>Asynchronous computations</a></span><ul class=\"toc-item\"><li><ul class=\"toc-item\"><li><ul class=\"toc-item\"><li><span><a href=\"#Some-resources\" data-toc-modified-id=\"Some-resources-1.0.0.1\"><span class=\"toc-item-num\">1.0.0.1&nbsp;&nbsp;</span>Some resources</a></span></li><li><span><a href=\"#What-is-async-programming:\" data-toc-modified-id=\"What-is-async-programming:-1.0.0.2\"><span class=\"toc-item-num\">1.0.0.2&nbsp;&nbsp;</span>What is async programming:</a></span></li><li><span><a href=\"#What-you-need-for-asyncronous-computations-(1)-:-Suspend-and-Resume\" data-toc-modified-id=\"What-you-need-for-asyncronous-computations-(1)-:-Suspend-and-Resume-1.0.0.3\"><span class=\"toc-item-num\">1.0.0.3&nbsp;&nbsp;</span>What you need for asyncronous computations (1) : Suspend and Resume</a></span></li><li><span><a href=\"#What-you-need-for-asyncronous-computations-(2):-Schedulling-asynchronous-tasks\" data-toc-modified-id=\"What-you-need-for-asyncronous-computations-(2):-Schedulling-asynchronous-tasks-1.0.0.4\"><span class=\"toc-item-num\">1.0.0.4&nbsp;&nbsp;</span>What you need for asyncronous computations (2): Schedulling asynchronous tasks</a></span></li></ul></li><li><span><a href=\"#Making-the-for-loop-async\" data-toc-modified-id=\"Making-the-for-loop-async-1.0.1\"><span class=\"toc-item-num\">1.0.1&nbsp;&nbsp;</span>Making the for loop async</a></span><ul class=\"toc-item\"><li><span><a href=\"#async-def-syntax\" data-toc-modified-id=\"async-def-syntax-1.0.1.1\"><span class=\"toc-item-num\">1.0.1.1&nbsp;&nbsp;</span>async def syntax</a></span></li></ul></li></ul></li><li><span><a href=\"#CPU-heavy-tasks\" data-toc-modified-id=\"CPU-heavy-tasks-1.1\"><span class=\"toc-item-num\">1.1&nbsp;&nbsp;</span>CPU heavy tasks</a></span><ul class=\"toc-item\"><li><span><a href=\"#Example-1\" data-toc-modified-id=\"Example-1-1.1.1\"><span class=\"toc-item-num\">1.1.1&nbsp;&nbsp;</span>Example 1</a></span></li></ul></li></ul></li></ul></div>"
   ]
  },
  {
   "cell_type": "markdown",
   "metadata": {},
   "source": [
    "# Asynchronous computations\n",
    "\n",
    "\n",
    "#### Some resources\n",
    "\n",
    "- https://medium.freecodecamp.org/a-guide-to-asynchronous-programming-in-python-with-asyncio-232e2afa44f6\n",
    "- https://hackernoon.com/asynchronous-python-45df84b82434\n",
    "- https://www.youtube.com/watch?v=iG6fr81xHKA\n",
    "- https://www.youtube.com/watch?v=tSLDcRkgTsY\n",
    "- https://www.youtube.com/watch?v=b6z2VB1JU3U\n",
    "\n",
    "#### What is async programming:\n",
    "\n",
    "It's a style of concurrent programming in which tasks release the CPU during waiting periods, so that other tasks can use it.\n",
    "\n",
    "#### What you need for asyncronous computations (1) : Suspend and Resume\n",
    "\n",
    "- Asynchronous functions need the ability to **suspend** and **resume**\n",
    "- A function that is suspended can leave the CPU to another function. This is useful for example when a function enters a waiting period.\n",
    "\n",
    "There are several ways to implement suspend/resume in Python:\n",
    "\n",
    "- callback functions\n",
    "- Generator functions\n",
    "- Async/await (py 3.5+)\n",
    "\n",
    "#### What you need for asyncronous computations (2): Schedulling asynchronous tasks\n",
    "\n",
    "In order to benefit from functions beeing suspended and resumed (in a given thread) we need a way to call functions while other functions are suspended. \n",
    "\n",
    "We need adn scheduler that does the following:\n",
    "\n",
    "- The scheduler is usually called \"event loop\". \n",
    "- The loop keeps track of all the running tasks.\n",
    "- When a function is suspended, returns control to the loop, which then finds another function to start or resume. This is usually called cooperative multi-tasking."
   ]
  },
  {
   "cell_type": "code",
   "execution_count": 1,
   "metadata": {
    "ExecuteTime": {
     "end_time": "2020-11-14T18:55:05.127081Z",
     "start_time": "2020-11-14T18:55:05.124244Z"
    },
    "scrolled": true
   },
   "outputs": [
    {
     "name": "stdout",
     "output_type": "stream",
     "text": [
      "3.7.7\n"
     ]
    }
   ],
   "source": [
    "import platform\n",
    "import asyncio  \n",
    "import time  \n",
    "from datetime import datetime\n",
    "\n",
    "print(platform.python_version())"
   ]
  },
  {
   "cell_type": "markdown",
   "metadata": {},
   "source": [
    " We need to to call the following cell to be allowed to run `event_loop.run_until_complete` in a jupyter notebook. If we don't we will get `RuntimeError: This event loop is already running`\n"
   ]
  },
  {
   "cell_type": "code",
   "execution_count": 2,
   "metadata": {
    "ExecuteTime": {
     "end_time": "2020-11-14T18:55:05.554331Z",
     "start_time": "2020-11-14T18:55:05.551686Z"
    }
   },
   "outputs": [],
   "source": [
    "async def f_coroutine():  \n",
    "    print('starting!', datetime.now())\n",
    "    await asyncio.sleep(3)\n",
    "    print(\"finised!\")"
   ]
  },
  {
   "cell_type": "code",
   "execution_count": 3,
   "metadata": {
    "ExecuteTime": {
     "end_time": "2020-11-14T18:55:05.723290Z",
     "start_time": "2020-11-14T18:55:05.721223Z"
    }
   },
   "outputs": [],
   "source": [
    "event_loop = asyncio.get_event_loop()"
   ]
  },
  {
   "cell_type": "code",
   "execution_count": 4,
   "metadata": {
    "ExecuteTime": {
     "end_time": "2020-11-14T18:55:06.176100Z",
     "start_time": "2020-11-14T18:55:06.080093Z"
    }
   },
   "outputs": [
    {
     "ename": "RuntimeError",
     "evalue": "This event loop is already running",
     "output_type": "error",
     "traceback": [
      "\u001b[0;31m---------------------------------------------------------------------------\u001b[0m",
      "\u001b[0;31mRuntimeError\u001b[0m                              Traceback (most recent call last)",
      "\u001b[0;32m<ipython-input-4-eb6b906b1b65>\u001b[0m in \u001b[0;36m<module>\u001b[0;34m\u001b[0m\n\u001b[0;32m----> 1\u001b[0;31m \u001b[0mevent_loop\u001b[0m\u001b[0;34m.\u001b[0m\u001b[0mrun_until_complete\u001b[0m\u001b[0;34m(\u001b[0m\u001b[0mf_coroutine\u001b[0m\u001b[0;34m(\u001b[0m\u001b[0;34m)\u001b[0m\u001b[0;34m)\u001b[0m\u001b[0;34m\u001b[0m\u001b[0;34m\u001b[0m\u001b[0m\n\u001b[0m",
      "\u001b[0;32m/usr/local/Cellar/python/3.7.7/Frameworks/Python.framework/Versions/3.7/lib/python3.7/asyncio/base_events.py\u001b[0m in \u001b[0;36mrun_until_complete\u001b[0;34m(self, future)\u001b[0m\n\u001b[1;32m    561\u001b[0m         \"\"\"\n\u001b[1;32m    562\u001b[0m         \u001b[0mself\u001b[0m\u001b[0;34m.\u001b[0m\u001b[0m_check_closed\u001b[0m\u001b[0;34m(\u001b[0m\u001b[0;34m)\u001b[0m\u001b[0;34m\u001b[0m\u001b[0;34m\u001b[0m\u001b[0m\n\u001b[0;32m--> 563\u001b[0;31m         \u001b[0mself\u001b[0m\u001b[0;34m.\u001b[0m\u001b[0m_check_runnung\u001b[0m\u001b[0;34m(\u001b[0m\u001b[0;34m)\u001b[0m\u001b[0;34m\u001b[0m\u001b[0;34m\u001b[0m\u001b[0m\n\u001b[0m\u001b[1;32m    564\u001b[0m \u001b[0;34m\u001b[0m\u001b[0m\n\u001b[1;32m    565\u001b[0m         \u001b[0mnew_task\u001b[0m \u001b[0;34m=\u001b[0m \u001b[0;32mnot\u001b[0m \u001b[0mfutures\u001b[0m\u001b[0;34m.\u001b[0m\u001b[0misfuture\u001b[0m\u001b[0;34m(\u001b[0m\u001b[0mfuture\u001b[0m\u001b[0;34m)\u001b[0m\u001b[0;34m\u001b[0m\u001b[0;34m\u001b[0m\u001b[0m\n",
      "\u001b[0;32m/usr/local/Cellar/python/3.7.7/Frameworks/Python.framework/Versions/3.7/lib/python3.7/asyncio/base_events.py\u001b[0m in \u001b[0;36m_check_runnung\u001b[0;34m(self)\u001b[0m\n\u001b[1;32m    521\u001b[0m     \u001b[0;32mdef\u001b[0m \u001b[0m_check_runnung\u001b[0m\u001b[0;34m(\u001b[0m\u001b[0mself\u001b[0m\u001b[0;34m)\u001b[0m\u001b[0;34m:\u001b[0m\u001b[0;34m\u001b[0m\u001b[0;34m\u001b[0m\u001b[0m\n\u001b[1;32m    522\u001b[0m         \u001b[0;32mif\u001b[0m \u001b[0mself\u001b[0m\u001b[0;34m.\u001b[0m\u001b[0mis_running\u001b[0m\u001b[0;34m(\u001b[0m\u001b[0;34m)\u001b[0m\u001b[0;34m:\u001b[0m\u001b[0;34m\u001b[0m\u001b[0;34m\u001b[0m\u001b[0m\n\u001b[0;32m--> 523\u001b[0;31m             \u001b[0;32mraise\u001b[0m \u001b[0mRuntimeError\u001b[0m\u001b[0;34m(\u001b[0m\u001b[0;34m'This event loop is already running'\u001b[0m\u001b[0;34m)\u001b[0m\u001b[0;34m\u001b[0m\u001b[0;34m\u001b[0m\u001b[0m\n\u001b[0m\u001b[1;32m    524\u001b[0m         \u001b[0;32mif\u001b[0m \u001b[0mevents\u001b[0m\u001b[0;34m.\u001b[0m\u001b[0m_get_running_loop\u001b[0m\u001b[0;34m(\u001b[0m\u001b[0;34m)\u001b[0m \u001b[0;32mis\u001b[0m \u001b[0;32mnot\u001b[0m \u001b[0;32mNone\u001b[0m\u001b[0;34m:\u001b[0m\u001b[0;34m\u001b[0m\u001b[0;34m\u001b[0m\u001b[0m\n\u001b[1;32m    525\u001b[0m             raise RuntimeError(\n",
      "\u001b[0;31mRuntimeError\u001b[0m: This event loop is already running"
     ]
    }
   ],
   "source": [
    "event_loop.run_until_complete(f_coroutine())"
   ]
  },
  {
   "cell_type": "code",
   "execution_count": 5,
   "metadata": {
    "ExecuteTime": {
     "end_time": "2020-11-14T18:55:07.907413Z",
     "start_time": "2020-11-14T18:55:07.904527Z"
    }
   },
   "outputs": [],
   "source": [
    "import nest_asyncio\n",
    "nest_asyncio.apply()"
   ]
  },
  {
   "cell_type": "code",
   "execution_count": 7,
   "metadata": {
    "ExecuteTime": {
     "end_time": "2020-11-14T18:55:19.405025Z",
     "start_time": "2020-11-14T18:55:16.397727Z"
    }
   },
   "outputs": [
    {
     "name": "stdout",
     "output_type": "stream",
     "text": [
      "starting! 2020-11-14 19:55:16.398619\n",
      "finised!\n"
     ]
    }
   ],
   "source": [
    "event_loop = asyncio.get_event_loop()\n",
    "event_loop.run_until_complete(f_coroutine())"
   ]
  },
  {
   "cell_type": "code",
   "execution_count": null,
   "metadata": {},
   "outputs": [],
   "source": []
  },
  {
   "cell_type": "code",
   "execution_count": null,
   "metadata": {},
   "outputs": [],
   "source": []
  },
  {
   "cell_type": "code",
   "execution_count": null,
   "metadata": {},
   "outputs": [],
   "source": []
  },
  {
   "cell_type": "code",
   "execution_count": null,
   "metadata": {},
   "outputs": [],
   "source": []
  },
  {
   "cell_type": "code",
   "execution_count": 9,
   "metadata": {
    "ExecuteTime": {
     "end_time": "2020-11-14T18:55:32.443947Z",
     "start_time": "2020-11-14T18:55:32.440875Z"
    }
   },
   "outputs": [],
   "source": [
    "\n",
    "### Check\n",
    "async def custom_sleep():  \n",
    "    print('SLEEP', datetime.now())\n",
    "    time.sleep(1)\n",
    "    \n",
    "async def factorial(name, number):  \n",
    "    f = 1\n",
    "    for i in range(2, number+1):\n",
    "        print('Task {}: Compute factorial({})'.format(name, i))\n",
    "        await custom_sleep()\n",
    "        f *= i\n",
    "    print('Task {}: factorial({}) is {}\\n'.format(name, number, f))\n",
    "\n"
   ]
  },
  {
   "cell_type": "code",
   "execution_count": 13,
   "metadata": {
    "ExecuteTime": {
     "end_time": "2020-11-14T18:55:45.437393Z",
     "start_time": "2020-11-14T18:55:45.435237Z"
    }
   },
   "outputs": [],
   "source": [
    "start = time.time() \n",
    "loop = asyncio.new_event_loop()\n",
    "#tasks = [  \n",
    "#    asyncio.ensure_future(factorial(\"A\", 3)),\n",
    "#    asyncio.ensure_future(factorial(\"B\", 4)),\n",
    "#]\n",
    "#loop.run_until_complete(asyncio.wait(tasks))\n",
    "#loop.close()"
   ]
  },
  {
   "cell_type": "code",
   "execution_count": null,
   "metadata": {
    "ExecuteTime": {
     "end_time": "2020-11-14T18:46:12.358026Z",
     "start_time": "2020-11-14T18:46:12.354891Z"
    }
   },
   "outputs": [],
   "source": [
    "asyncio.new_event_loop"
   ]
  },
  {
   "cell_type": "code",
   "execution_count": null,
   "metadata": {
    "ExecuteTime": {
     "end_time": "2020-11-14T18:39:52.941141Z",
     "start_time": "2020-11-14T18:39:52.939340Z"
    }
   },
   "outputs": [],
   "source": [
    "#loop.run_until_complete(asyncio.wait(tasks))  \n",
    "loop.close()\n",
    "#end = time.time()  \n",
    "#print(\"Total time: {}\".format(end - start))"
   ]
  },
  {
   "cell_type": "code",
   "execution_count": null,
   "metadata": {
    "ExecuteTime": {
     "end_time": "2020-11-14T17:55:36.297093Z",
     "start_time": "2020-11-14T17:55:36.295094Z"
    }
   },
   "outputs": [],
   "source": [
    "def hello_world():  \n",
    "    print(\"Hi\")\n",
    "    time.sleep(2)\n",
    "    print(\"Bye\")"
   ]
  },
  {
   "cell_type": "code",
   "execution_count": null,
   "metadata": {
    "ExecuteTime": {
     "end_time": "2020-11-14T17:55:44.715770Z",
     "start_time": "2020-11-14T17:55:36.700270Z"
    }
   },
   "outputs": [],
   "source": [
    "%%time\n",
    "[hello_world() for i in range(4)]"
   ]
  },
  {
   "cell_type": "markdown",
   "metadata": {},
   "source": [
    "### Making the for loop async"
   ]
  },
  {
   "cell_type": "code",
   "execution_count": null,
   "metadata": {
    "ExecuteTime": {
     "end_time": "2020-11-14T18:17:34.669342Z",
     "start_time": "2020-11-14T18:17:34.666658Z"
    }
   },
   "outputs": [],
   "source": [
    "import asyncio\n",
    "\n",
    "@asyncio.coroutine\n",
    "def hello_world_sleep():  \n",
    "    print(\"Hi\")\n",
    "    yield from asyncio.sleep(2)\n",
    "    print(\"Bye\")   \n"
   ]
  },
  {
   "cell_type": "code",
   "execution_count": null,
   "metadata": {
    "ExecuteTime": {
     "end_time": "2020-11-14T18:17:35.700315Z",
     "start_time": "2020-11-14T18:17:35.691830Z"
    }
   },
   "outputs": [],
   "source": [
    "%%time\n",
    "loop = asyncio.new_event_loop()\n",
    "[loop.run_until_complete( hello_world_sleep()) for i in range(4)]"
   ]
  },
  {
   "cell_type": "code",
   "execution_count": null,
   "metadata": {},
   "outputs": [],
   "source": []
  },
  {
   "cell_type": "markdown",
   "metadata": {},
   "source": [
    "#### async def syntax"
   ]
  },
  {
   "cell_type": "code",
   "execution_count": null,
   "metadata": {
    "ExecuteTime": {
     "end_time": "2020-11-14T18:35:39.283202Z",
     "start_time": "2020-11-14T18:35:39.280624Z"
    }
   },
   "outputs": [],
   "source": [
    "loop = asyncio.get_event_loop()\n",
    "\n",
    "async def hello():\n",
    "    await asyncio.sleep(3)\n",
    "    print('Hello!')\n",
    "    \n"
   ]
  },
  {
   "cell_type": "code",
   "execution_count": null,
   "metadata": {
    "ExecuteTime": {
     "end_time": "2020-11-14T18:35:40.010018Z",
     "start_time": "2020-11-14T18:35:40.003484Z"
    }
   },
   "outputs": [],
   "source": [
    "loop.run_until_complete(hello())"
   ]
  },
  {
   "cell_type": "code",
   "execution_count": null,
   "metadata": {},
   "outputs": [],
   "source": []
  },
  {
   "cell_type": "code",
   "execution_count": null,
   "metadata": {
    "ExecuteTime": {
     "end_time": "2020-11-14T18:17:49.889121Z",
     "start_time": "2020-11-14T18:17:49.886986Z"
    }
   },
   "outputs": [],
   "source": [
    "import asyncio\n",
    "\n",
    "async def hello_world_sleep2():\n",
    "    print(\"Hi\")\n",
    "    await asyncio.sleep(2)\n",
    "    print(\"Bye\")   "
   ]
  },
  {
   "cell_type": "code",
   "execution_count": null,
   "metadata": {
    "ExecuteTime": {
     "end_time": "2020-11-14T18:17:50.414048Z",
     "start_time": "2020-11-14T18:17:50.404703Z"
    }
   },
   "outputs": [],
   "source": [
    "%%time\n",
    "loop = asyncio.new_event_loop()\n",
    "[loop.run_until_complete( hello_world_sleep()) for i in range(4)]"
   ]
  },
  {
   "cell_type": "markdown",
   "metadata": {},
   "source": [
    "## CPU heavy tasks\n",
    "\n",
    "- Long CPU intensive tasks must routinely release the CPU to avoid starving other tasks.\n",
    "- This can be done by \"sleeping\" periodically, such as once per loop iteration.\n",
    "- To tell the loop to return control back as soon as posible sleep for 0 seconds.\n",
    "- Example: `await asyncio.sleep(0)`"
   ]
  },
  {
   "cell_type": "markdown",
   "metadata": {},
   "source": [
    "### Example 1"
   ]
  },
  {
   "cell_type": "code",
   "execution_count": null,
   "metadata": {
    "ExecuteTime": {
     "end_time": "2020-11-14T18:30:12.129513Z",
     "start_time": "2020-11-14T18:30:12.127510Z"
    }
   },
   "outputs": [],
   "source": [
    "async def hello_world_async():   \n",
    "    print(\"Hi\")\n",
    "    time.sleep(2)\n",
    "    print(\"Bye\")"
   ]
  },
  {
   "cell_type": "code",
   "execution_count": null,
   "metadata": {
    "ExecuteTime": {
     "end_time": "2020-11-14T18:30:12.355975Z",
     "start_time": "2020-11-14T18:30:12.353163Z"
    }
   },
   "outputs": [],
   "source": [
    "hello_world_async()"
   ]
  },
  {
   "cell_type": "code",
   "execution_count": null,
   "metadata": {
    "ExecuteTime": {
     "end_time": "2020-11-14T18:30:12.556511Z",
     "start_time": "2020-11-14T18:30:12.554536Z"
    }
   },
   "outputs": [],
   "source": [
    "loop = asyncio.get_event_loop()"
   ]
  },
  {
   "cell_type": "code",
   "execution_count": null,
   "metadata": {
    "ExecuteTime": {
     "end_time": "2020-11-14T18:30:12.760309Z",
     "start_time": "2020-11-14T18:30:12.757221Z"
    }
   },
   "outputs": [],
   "source": [
    "loop"
   ]
  },
  {
   "cell_type": "code",
   "execution_count": null,
   "metadata": {
    "ExecuteTime": {
     "end_time": "2020-11-14T18:30:16.764202Z",
     "start_time": "2020-11-14T18:30:16.762599Z"
    }
   },
   "outputs": [],
   "source": [
    "#loop.run_until_complete(hello_world_async())"
   ]
  },
  {
   "cell_type": "code",
   "execution_count": null,
   "metadata": {},
   "outputs": [],
   "source": []
  },
  {
   "cell_type": "code",
   "execution_count": null,
   "metadata": {},
   "outputs": [],
   "source": []
  },
  {
   "cell_type": "code",
   "execution_count": null,
   "metadata": {
    "ExecuteTime": {
     "end_time": "2020-11-14T18:17:52.987541Z",
     "start_time": "2020-11-14T18:17:52.980728Z"
    }
   },
   "outputs": [],
   "source": [
    "loop.run_until_complete(hello_world_async)"
   ]
  },
  {
   "cell_type": "code",
   "execution_count": null,
   "metadata": {
    "ExecuteTime": {
     "end_time": "2020-11-14T18:17:53.212507Z",
     "start_time": "2020-11-14T18:17:53.205759Z"
    }
   },
   "outputs": [],
   "source": [
    "loop.close()\n"
   ]
  },
  {
   "cell_type": "code",
   "execution_count": null,
   "metadata": {
    "ExecuteTime": {
     "end_time": "2020-11-14T18:17:53.505314Z",
     "start_time": "2020-11-14T18:17:53.498342Z"
    }
   },
   "outputs": [],
   "source": [
    "\n",
    "import asyncio\n",
    "import aiohttp\n",
    "\n",
    "urls = ['http://www.google.com', 'http://www.yandex.ru', 'http://www.python.org']\n",
    "\n",
    "@asyncio.coroutine\n",
    "def call_url(url):\n",
    "    print('Starting {}'.format(url))\n",
    "    response = yield from aiohttp.get(url)\n",
    "    data = yield from response.text()\n",
    "    print('{}: {} bytes: {}'.format(url, len(data), data))\n",
    "    return data\n",
    "\n",
    "futures = [call_url(url) for url in urls]\n",
    "\n",
    "loop = asyncio.get_event_loop()\n",
    "loop.run_until_complete(asyncio.wait(futures))"
   ]
  },
  {
   "cell_type": "code",
   "execution_count": null,
   "metadata": {},
   "outputs": [],
   "source": []
  },
  {
   "cell_type": "code",
   "execution_count": null,
   "metadata": {},
   "outputs": [],
   "source": []
  },
  {
   "cell_type": "code",
   "execution_count": null,
   "metadata": {},
   "outputs": [],
   "source": []
  }
 ],
 "metadata": {
  "kernelspec": {
   "display_name": "Python 3",
   "language": "python",
   "name": "python3"
  },
  "language_info": {
   "codemirror_mode": {
    "name": "ipython",
    "version": 3
   },
   "file_extension": ".py",
   "mimetype": "text/x-python",
   "name": "python",
   "nbconvert_exporter": "python",
   "pygments_lexer": "ipython3",
   "version": "3.7.7"
  },
  "toc": {
   "base_numbering": 1,
   "nav_menu": {},
   "number_sections": true,
   "sideBar": true,
   "skip_h1_title": false,
   "title_cell": "Table of Contents",
   "title_sidebar": "Contents",
   "toc_cell": true,
   "toc_position": {},
   "toc_section_display": true,
   "toc_window_display": true
  },
  "varInspector": {
   "cols": {
    "lenName": 16,
    "lenType": 16,
    "lenVar": 40
   },
   "kernels_config": {
    "python": {
     "delete_cmd_postfix": "",
     "delete_cmd_prefix": "del ",
     "library": "var_list.py",
     "varRefreshCmd": "print(var_dic_list())"
    },
    "r": {
     "delete_cmd_postfix": ") ",
     "delete_cmd_prefix": "rm(",
     "library": "var_list.r",
     "varRefreshCmd": "cat(var_dic_list()) "
    }
   },
   "types_to_exclude": [
    "module",
    "function",
    "builtin_function_or_method",
    "instance",
    "_Feature"
   ],
   "window_display": false
  }
 },
 "nbformat": 4,
 "nbformat_minor": 1
}

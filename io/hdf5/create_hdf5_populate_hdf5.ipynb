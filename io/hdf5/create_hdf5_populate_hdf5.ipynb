{
 "cells": [
  {
   "cell_type": "code",
   "execution_count": 1,
   "metadata": {
    "collapsed": true
   },
   "outputs": [],
   "source": [
    "import h5py\n",
    "import os\n",
    "import tqdm\n",
    "import numpy as np"
   ]
  },
  {
   "cell_type": "code",
   "execution_count": 2,
   "metadata": {},
   "outputs": [],
   "source": [
    "data_hdf5 = h5py.File('/Users/david/data_hdf5/datafortesting.hdf5', \"w\")"
   ]
  },
  {
   "cell_type": "code",
   "execution_count": 3,
   "metadata": {
    "scrolled": true
   },
   "outputs": [
    {
     "data": {
      "text/plain": [
       "<HDF5 dataset \"data\": shape (10000000, 100), type \"<f8\">"
      ]
     },
     "execution_count": 3,
     "metadata": {},
     "output_type": "execute_result"
    }
   ],
   "source": [
    "nrow = 10_000_000\n",
    "ncol = 100\n",
    "\n",
    "data_hdf5.create_dataset(name='data', \n",
    "                        shape=(nrow, ncol),\n",
    "                        dtype='float64')"
   ]
  },
  {
   "cell_type": "code",
   "execution_count": 4,
   "metadata": {},
   "outputs": [
    {
     "name": "stdout",
     "output_type": "stream",
     "text": [
      "This in a np array would need 7.450580596923828 GB or RAM\n"
     ]
    }
   ],
   "source": [
    "bits_in_a_GB = 8589934592\n",
    "space_GB = 64 * nrow * ncol /bits_in_a_GB\n",
    "space_GB = 64 * nrow * ncol /bits_in_a_GB\n",
    "\n",
    "print(\"This in a np array would need {} GB or RAM\".format(space_GB))"
   ]
  },
  {
   "cell_type": "markdown",
   "metadata": {},
   "source": [
    "Access a particular dataset created"
   ]
  },
  {
   "cell_type": "code",
   "execution_count": 5,
   "metadata": {},
   "outputs": [
    {
     "data": {
      "text/plain": [
       "<HDF5 dataset \"data\": shape (10000000, 100), type \"<f8\">"
      ]
     },
     "execution_count": 5,
     "metadata": {},
     "output_type": "execute_result"
    }
   ],
   "source": [
    "data_hdf5[\"data\"]"
   ]
  },
  {
   "cell_type": "markdown",
   "metadata": {},
   "source": [
    "Access a particular row"
   ]
  },
  {
   "cell_type": "code",
   "execution_count": 6,
   "metadata": {},
   "outputs": [
    {
     "data": {
      "text/plain": [
       "array([ 0.,  0.,  0.,  0.,  0.,  0.,  0.,  0.,  0.,  0.,  0.,  0.,  0.,\n",
       "        0.,  0.,  0.,  0.,  0.,  0.,  0.,  0.,  0.,  0.,  0.,  0.,  0.,\n",
       "        0.,  0.,  0.,  0.,  0.,  0.,  0.,  0.,  0.,  0.,  0.,  0.,  0.,\n",
       "        0.,  0.,  0.,  0.,  0.,  0.,  0.,  0.,  0.,  0.,  0.,  0.,  0.,\n",
       "        0.,  0.,  0.,  0.,  0.,  0.,  0.,  0.,  0.,  0.,  0.,  0.,  0.,\n",
       "        0.,  0.,  0.,  0.,  0.,  0.,  0.,  0.,  0.,  0.,  0.,  0.,  0.,\n",
       "        0.,  0.,  0.,  0.,  0.,  0.,  0.,  0.,  0.,  0.,  0.,  0.,  0.,\n",
       "        0.,  0.,  0.,  0.,  0.,  0.,  0.,  0.,  0.])"
      ]
     },
     "execution_count": 6,
     "metadata": {},
     "output_type": "execute_result"
    }
   ],
   "source": [
    "data_hdf5[\"data\"][0]"
   ]
  },
  {
   "cell_type": "markdown",
   "metadata": {},
   "source": [
    "Populate the HDF5\n"
   ]
  },
  {
   "cell_type": "code",
   "execution_count": 7,
   "metadata": {},
   "outputs": [],
   "source": [
    "for i in range(100):\n",
    "    data_hdf5[\"data\"][i] = np.random.rand(ncol)"
   ]
  },
  {
   "cell_type": "code",
   "execution_count": 8,
   "metadata": {},
   "outputs": [
    {
     "data": {
      "text/plain": [
       "array([ 0.31262261,  0.03022743,  0.27821404,  0.76774505,  0.88276975,\n",
       "        0.13794163,  0.05965945,  0.22457976,  0.91683914,  0.59731464,\n",
       "        0.92469699,  0.79683431,  0.97698772,  0.81334548,  0.49545404,\n",
       "        0.44222664,  0.58653558,  0.70907556,  0.86608101,  0.37876244,\n",
       "        0.32465364,  0.76163289,  0.1714486 ,  0.69183989,  0.19388113,\n",
       "        0.68595124,  0.62946318,  0.0872274 ,  0.6577578 ,  0.16379461,\n",
       "        0.64370049,  0.01244382,  0.22321148,  0.06248972,  0.78440655,\n",
       "        0.03271333,  0.39349346,  0.12975651,  0.89221185,  0.02438032,\n",
       "        0.02191544,  0.67607075,  0.95111867,  0.61172489,  0.69748822,\n",
       "        0.97796075,  0.17785764,  0.34373029,  0.88304132,  0.42003888,\n",
       "        0.51834006,  0.15624873,  0.91370924,  0.77137149,  0.68130845,\n",
       "        0.5146007 ,  0.46337528,  0.33064001,  0.18824685,  0.10384578,\n",
       "        0.24667695,  0.92630511,  0.27107335,  0.85583331,  0.54931711,\n",
       "        0.58409736,  0.60663533,  0.27351372,  0.00335183,  0.45521856,\n",
       "        0.55931217,  0.30124633,  0.67926211,  0.62755088,  0.98874487,\n",
       "        0.11061947,  0.34845833,  0.14935946,  0.73338904,  0.71622644,\n",
       "        0.46191014,  0.91002923,  0.30065283,  0.08101327,  0.59078909,\n",
       "        0.90246047,  0.77630164,  0.33327873,  0.25092931,  0.65687881,\n",
       "        0.4342313 ,  0.33501492,  0.70277685,  0.69675185,  0.24284493,\n",
       "        0.03266589,  0.09813204,  0.8990931 ,  0.30422298,  0.42511956])"
      ]
     },
     "execution_count": 8,
     "metadata": {},
     "output_type": "execute_result"
    }
   ],
   "source": [
    "data_hdf5[\"data\"][0] "
   ]
  },
  {
   "cell_type": "markdown",
   "metadata": {},
   "source": [
    "After doing whatever we needed to we can close it "
   ]
  },
  {
   "cell_type": "code",
   "execution_count": 9,
   "metadata": {},
   "outputs": [],
   "source": [
    "data_hdf5.close()"
   ]
  },
  {
   "cell_type": "code",
   "execution_count": null,
   "metadata": {
    "collapsed": true
   },
   "outputs": [],
   "source": []
  },
  {
   "cell_type": "code",
   "execution_count": null,
   "metadata": {
    "collapsed": true
   },
   "outputs": [],
   "source": []
  },
  {
   "cell_type": "code",
   "execution_count": null,
   "metadata": {
    "collapsed": true
   },
   "outputs": [],
   "source": []
  },
  {
   "cell_type": "code",
   "execution_count": null,
   "metadata": {
    "collapsed": true
   },
   "outputs": [],
   "source": []
  }
 ],
 "metadata": {
  "kernelspec": {
   "display_name": "Python 3",
   "language": "python",
   "name": "python3"
  },
  "language_info": {
   "codemirror_mode": {
    "name": "ipython",
    "version": 3
   },
   "file_extension": ".py",
   "mimetype": "text/x-python",
   "name": "python",
   "nbconvert_exporter": "python",
   "pygments_lexer": "ipython3",
   "version": "3.6.3"
  }
 },
 "nbformat": 4,
 "nbformat_minor": 2
}

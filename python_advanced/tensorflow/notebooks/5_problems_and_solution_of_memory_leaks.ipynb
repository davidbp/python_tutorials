{
 "cells": [
  {
   "cell_type": "markdown",
   "metadata": {},
   "source": [
    "## Problems and solutions of memory leaks\n",
    "\n",
    "About resetting default graph:\n",
    "\n",
    "- https://stackoverflow.com/questions/33765336/remove-nodes-from-graph-or-fa-entire-default-graph\n",
    "- https://stackoverflow.com/documentation/tensorflow/3883/how-to-debug-a-memory-leak-in-tensorflow/13426/use-graph-finalize-to-catch-nodes-being-added-to-the-graph#t=201609011401186013951\n",
    "\n",
    "About copying values of a tensorflow variable to another tensorflow variable\n",
    "\n",
    "- https://stackoverflow.com/questions/33717772/how-can-i-copy-a-variable-in-tensorflow\n",
    "\n",
    "Print value tensorflow variable\n",
    "- https://stackoverflow.com/questions/33633370/how-to-print-the-value-of-a-tensor-object-in-tensorflow\n",
    "\n",
    "#### Let us beggin\n",
    "\n",
    "The most important rule for not increamenting a tf.graph is\n",
    "\n",
    "- Never do sess.run(tf.operation) for example sess.run(tf.assign) etc...\n",
    "\n",
    "Given two tensorflow variables `a` and `b` it's very different\n",
    "\n",
    "- `sess.run(tf.add(a,b))`\n",
    "\n",
    "than \n",
    "\n",
    "- `sess.run(add_a_and_b)`\n"
   ]
  },
  {
   "cell_type": "code",
   "execution_count": 79,
   "metadata": {
    "collapsed": true
   },
   "outputs": [],
   "source": [
    "import tensorflow as tf\n",
    "import numpy as np\n",
    "from pprint import pprint"
   ]
  },
  {
   "cell_type": "markdown",
   "metadata": {},
   "source": [
    "### Example 1: sess.run(tf.add(a, b)))\n",
    "\n",
    "This example adds nodes in the graph (see it ends up with 19 nodes)"
   ]
  },
  {
   "cell_type": "code",
   "execution_count": 94,
   "metadata": {},
   "outputs": [
    {
     "name": "stdout",
     "output_type": "stream",
     "text": [
      "[<tf.Operation 'a/initial_value' type=Const>,\n",
      " <tf.Operation 'a' type=VariableV2>,\n",
      " <tf.Operation 'a/Assign' type=Assign>,\n",
      " <tf.Operation 'a/read' type=Identity>]\n",
      "4\n"
     ]
    }
   ],
   "source": [
    "tf.reset_default_graph()\n",
    "a = tf.Variable(1, name='a')\n",
    "pprint(tf.get_default_graph().get_operations())\n",
    "print(len(tf.get_default_graph().get_operations()))"
   ]
  },
  {
   "cell_type": "code",
   "execution_count": 95,
   "metadata": {},
   "outputs": [
    {
     "name": "stdout",
     "output_type": "stream",
     "text": [
      "8\n"
     ]
    }
   ],
   "source": [
    "tf.reset_default_graph()\n",
    "a = tf.Variable(1, name='a')\n",
    "b = tf.Variable(2, name='b')\n",
    "print(len(tf.get_default_graph().get_operations()))"
   ]
  },
  {
   "cell_type": "code",
   "execution_count": 96,
   "metadata": {},
   "outputs": [
    {
     "name": "stdout",
     "output_type": "stream",
     "text": [
      "3 3 3 3 3 3 3 3 3 3 \n",
      "\n",
      "CPU times: user 24 ms, sys: 0 ns, total: 24 ms\n",
      "Wall time: 26.4 ms\n"
     ]
    }
   ],
   "source": [
    "%%time \n",
    "with tf.Session() as sess:\n",
    "    sess.run(tf.global_variables_initializer())\n",
    "    for _ in range(10):\n",
    "        print( sess.run(tf.add(a, b)), end=\" \")\n",
    "    print(\"\\n\")"
   ]
  },
  {
   "cell_type": "code",
   "execution_count": 97,
   "metadata": {},
   "outputs": [
    {
     "name": "stdout",
     "output_type": "stream",
     "text": [
      "19\n"
     ]
    }
   ],
   "source": [
    "print(len(tf.get_default_graph().get_operations()))"
   ]
  },
  {
   "cell_type": "code",
   "execution_count": 99,
   "metadata": {},
   "outputs": [
    {
     "data": {
      "text/plain": [
       "[<tf.Operation 'a/initial_value' type=Const>,\n",
       " <tf.Operation 'a' type=VariableV2>,\n",
       " <tf.Operation 'a/Assign' type=Assign>,\n",
       " <tf.Operation 'a/read' type=Identity>,\n",
       " <tf.Operation 'b/initial_value' type=Const>,\n",
       " <tf.Operation 'b' type=VariableV2>,\n",
       " <tf.Operation 'b/Assign' type=Assign>,\n",
       " <tf.Operation 'b/read' type=Identity>,\n",
       " <tf.Operation 'init' type=NoOp>,\n",
       " <tf.Operation 'Add' type=Add>,\n",
       " <tf.Operation 'Add_1' type=Add>,\n",
       " <tf.Operation 'Add_2' type=Add>,\n",
       " <tf.Operation 'Add_3' type=Add>,\n",
       " <tf.Operation 'Add_4' type=Add>,\n",
       " <tf.Operation 'Add_5' type=Add>,\n",
       " <tf.Operation 'Add_6' type=Add>,\n",
       " <tf.Operation 'Add_7' type=Add>,\n",
       " <tf.Operation 'Add_8' type=Add>,\n",
       " <tf.Operation 'Add_9' type=Add>]"
      ]
     },
     "execution_count": 99,
     "metadata": {},
     "output_type": "execute_result"
    }
   ],
   "source": [
    "# Look here there are multiple operations:\n",
    "# Add, Add_1, Add_2, .... Add_9 -> We only needed a single one!\n",
    "tf.get_default_graph().get_operations()"
   ]
  },
  {
   "cell_type": "markdown",
   "metadata": {},
   "source": [
    "### Example 1: sess.run(compute_addition_a_b)\n",
    "\n",
    "This example does not add nodes in the graph (well, only one, see it ends up with 10 nodes)."
   ]
  },
  {
   "cell_type": "code",
   "execution_count": 109,
   "metadata": {
    "collapsed": true
   },
   "outputs": [],
   "source": [
    "tf.reset_default_graph()\n",
    "a = tf.Variable(1, name='a')\n",
    "b = tf.Variable(2, name='b')\n",
    "compute_addition_a_b = tf.add(a, b)"
   ]
  },
  {
   "cell_type": "code",
   "execution_count": 110,
   "metadata": {},
   "outputs": [
    {
     "name": "stdout",
     "output_type": "stream",
     "text": [
      "9\n"
     ]
    }
   ],
   "source": [
    "print(len(tf.get_default_graph().get_operations()))"
   ]
  },
  {
   "cell_type": "code",
   "execution_count": 111,
   "metadata": {},
   "outputs": [
    {
     "name": "stdout",
     "output_type": "stream",
     "text": [
      "3 3 3 3 3 3 3 3 3 3 \n",
      "\n",
      "CPU times: user 12 ms, sys: 0 ns, total: 12 ms\n",
      "Wall time: 7.31 ms\n"
     ]
    }
   ],
   "source": [
    "%%time \n",
    "with tf.Session() as sess:\n",
    "    sess.run(tf.global_variables_initializer())\n",
    "    for _ in range(10):\n",
    "        print(sess.run(compute_addition_a_b), end=\" \")\n",
    "    print(\"\\n\")"
   ]
  },
  {
   "cell_type": "code",
   "execution_count": 113,
   "metadata": {},
   "outputs": [
    {
     "name": "stdout",
     "output_type": "stream",
     "text": [
      "10\n"
     ]
    }
   ],
   "source": [
    "print(len(tf.get_default_graph().get_operations()))"
   ]
  },
  {
   "cell_type": "code",
   "execution_count": 114,
   "metadata": {},
   "outputs": [
    {
     "data": {
      "text/plain": [
       "[<tf.Operation 'a/initial_value' type=Const>,\n",
       " <tf.Operation 'a' type=VariableV2>,\n",
       " <tf.Operation 'a/Assign' type=Assign>,\n",
       " <tf.Operation 'a/read' type=Identity>,\n",
       " <tf.Operation 'b/initial_value' type=Const>,\n",
       " <tf.Operation 'b' type=VariableV2>,\n",
       " <tf.Operation 'b/Assign' type=Assign>,\n",
       " <tf.Operation 'b/read' type=Identity>,\n",
       " <tf.Operation 'Add' type=Add>,\n",
       " <tf.Operation 'init' type=NoOp>]"
      ]
     },
     "execution_count": 114,
     "metadata": {},
     "output_type": "execute_result"
    }
   ],
   "source": [
    "tf.get_default_graph().get_operations()"
   ]
  },
  {
   "cell_type": "markdown",
   "metadata": {},
   "source": [
    "##  Example 2: sess.run(tf_variable.assign )\n",
    "\n",
    "\n",
    "running tf.variable.assign several times is quite ineficcient since every time tf_variable.assign is called the graph grows."
   ]
  },
  {
   "cell_type": "code",
   "execution_count": 161,
   "metadata": {
    "collapsed": true
   },
   "outputs": [],
   "source": [
    "tf.reset_default_graph()\n",
    "n_his = 400\n",
    "n_vis = 4\n",
    "\n",
    "tf.reset_default_graph()\n",
    "var_history = tf.get_variable(\"var_history\", \n",
    "                              dtype=np.float32, \n",
    "                              initializer=np.array([range(0,400)], \"float32\")) \n",
    "\n",
    "var_history_shift = tf.get_variable(\"var_history_shift\", \n",
    "                              dtype=np.float32, shape=(1, n_his-n_vis)) \n"
   ]
  },
  {
   "cell_type": "code",
   "execution_count": 162,
   "metadata": {},
   "outputs": [
    {
     "name": "stdout",
     "output_type": "stream",
     "text": [
      "15\n"
     ]
    }
   ],
   "source": [
    "print(len(tf.get_default_graph().get_operations()))"
   ]
  },
  {
   "cell_type": "code",
   "execution_count": 163,
   "metadata": {
    "scrolled": false
   },
   "outputs": [
    {
     "name": "stdout",
     "output_type": "stream",
     "text": [
      "[[  40.   41.   42.   43.   44.   45.   46.   47.   48.   49.   50.   51.\n",
      "    52.   53.   54.   55.   56.   57.   58.   59.   60.   61.   62.   63.\n",
      "    64.   65.   66.   67.   68.   69.   70.   71.   72.   73.   74.   75.\n",
      "    76.   77.   78.   79.   80.   81.   82.   83.   84.   85.   86.   87.\n",
      "    88.   89.   90.   91.   92.   93.   94.   95.   96.   97.   98.   99.\n",
      "   100.  101.  102.  103.  104.  105.  106.  107.  108.  109.  110.  111.\n",
      "   112.  113.  114.  115.  116.  117.  118.  119.  120.  121.  122.  123.\n",
      "   124.  125.  126.  127.  128.  129.  130.  131.  132.  133.  134.  135.\n",
      "   136.  137.  138.  139.  140.  141.  142.  143.  144.  145.  146.  147.\n",
      "   148.  149.  150.  151.  152.  153.  154.  155.  156.  157.  158.  159.\n",
      "   160.  161.  162.  163.  164.  165.  166.  167.  168.  169.  170.  171.\n",
      "   172.  173.  174.  175.  176.  177.  178.  179.  180.  181.  182.  183.\n",
      "   184.  185.  186.  187.  188.  189.  190.  191.  192.  193.  194.  195.\n",
      "   196.  197.  198.  199.  200.  201.  202.  203.  204.  205.  206.  207.\n",
      "   208.  209.  210.  211.  212.  213.  214.  215.  216.  217.  218.  219.\n",
      "   220.  221.  222.  223.  224.  225.  226.  227.  228.  229.  230.  231.\n",
      "   232.  233.  234.  235.  236.  237.  238.  239.  240.  241.  242.  243.\n",
      "   244.  245.  246.  247.  248.  249.  250.  251.  252.  253.  254.  255.\n",
      "   256.  257.  258.  259.  260.  261.  262.  263.  264.  265.  266.  267.\n",
      "   268.  269.  270.  271.  272.  273.  274.  275.  276.  277.  278.  279.\n",
      "   280.  281.  282.  283.  284.  285.  286.  287.  288.  289.  290.  291.\n",
      "   292.  293.  294.  295.  296.  297.  298.  299.  300.  301.  302.  303.\n",
      "   304.  305.  306.  307.  308.  309.  310.  311.  312.  313.  314.  315.\n",
      "   316.  317.  318.  319.  320.  321.  322.  323.  324.  325.  326.  327.\n",
      "   328.  329.  330.  331.  332.  333.  334.  335.  336.  337.  338.  339.\n",
      "   340.  341.  342.  343.  344.  345.  346.  347.  348.  349.  350.  351.\n",
      "   352.  353.  354.  355.  356.  357.  358.  359.  360.  361.  362.  363.\n",
      "   364.  365.  366.  367.  368.  369.  370.  371.  372.  373.  374.  375.\n",
      "   376.  377.  378.  379.  380.  381.  382.  383.  384.  385.  386.  387.\n",
      "   388.  389.  390.  391.  392.  393.  394.  395.  396.  397.  398.  399.\n",
      "     0.    0.    0.    0.    1.    1.    1.    1.    2.    2.    2.    2.\n",
      "     3.    3.    3.    3.    4.    4.    4.    4.    5.    5.    5.    5.\n",
      "     6.    6.    6.    6.    7.    7.    7.    7.    8.    8.    8.    8.\n",
      "     9.    9.    9.    9.]]\n",
      "CPU times: user 212 ms, sys: 4 ms, total: 216 ms\n",
      "Wall time: 220 ms\n"
     ]
    }
   ],
   "source": [
    "%%time \n",
    "with tf.Session() as sess:\n",
    "    sess.run(tf.global_variables_initializer())\n",
    "    # Graph is read-only after this statement. If uncommented then the code crashes\n",
    "    #sess.graph.finalize()  \n",
    "\n",
    "    for i in range(10):\n",
    "        sess.run(var_history_shift.assign(var_history[0:1, n_vis:n_his]))\n",
    "        sess.run(var_history[0:1, 0:n_his - n_vis].assign(var_history_shift))\n",
    "        current_vis_vec = np.array([[i,i,i,i]], dtype=\"float32\")\n",
    "        sess.run(var_history[0:1, n_his-n_vis:n_his].assign(current_vis_vec))       \n",
    "    print(sess.run(var_history))"
   ]
  },
  {
   "cell_type": "code",
   "execution_count": 156,
   "metadata": {},
   "outputs": [
    {
     "name": "stdout",
     "output_type": "stream",
     "text": [
      "176\n"
     ]
    }
   ],
   "source": [
    "print(len(tf.get_default_graph().get_operations()))"
   ]
  },
  {
   "cell_type": "markdown",
   "metadata": {},
   "source": [
    "##  Example 2: sess.run(tf_variable_assign)"
   ]
  },
  {
   "cell_type": "code",
   "execution_count": 167,
   "metadata": {
    "collapsed": true
   },
   "outputs": [],
   "source": [
    "tf.reset_default_graph()\n",
    "n_his = 400\n",
    "n_vis = 4\n",
    "\n",
    "var_history = tf.get_variable(\"var_history\", \n",
    "                              dtype=np.float32, \n",
    "                              initializer=np.array([range(0,n_his)], \"float32\")) \n",
    "\n",
    "var_visible = tf.get_variable(\"var_visible\", \n",
    "                              dtype=np.float32, \n",
    "                              initializer=np.array([[9,9,9,9]], \"float32\")) \n",
    "\n",
    "var_history_shift = tf.get_variable(\"var_history_shift\", \n",
    "                              dtype=np.float32, shape=(1, n_his-n_vis)) \n",
    "\n",
    "assign_var_history_shift  = var_history_shift.assign(var_history[0:1, n_vis:n_his])\n",
    "update_history_with_shift  = var_history[0:1, 0:n_his - n_vis].assign(var_history_shift)\n",
    "update_history_with_current_vis =  var_history[0:1, n_his-n_vis:n_his].assign(var_visible)\n"
   ]
  },
  {
   "cell_type": "code",
   "execution_count": 168,
   "metadata": {},
   "outputs": [
    {
     "name": "stdout",
     "output_type": "stream",
     "text": [
      "[[ 9.  9.  9.  9.]]\n",
      "[[   0.    1.    2.    3.    4.    5.    6.    7.    8.    9.   10.   11.\n",
      "    12.   13.   14.   15.   16.   17.   18.   19.   20.   21.   22.   23.\n",
      "    24.   25.   26.   27.   28.   29.   30.   31.   32.   33.   34.   35.\n",
      "    36.   37.   38.   39.   40.   41.   42.   43.   44.   45.   46.   47.\n",
      "    48.   49.   50.   51.   52.   53.   54.   55.   56.   57.   58.   59.\n",
      "    60.   61.   62.   63.   64.   65.   66.   67.   68.   69.   70.   71.\n",
      "    72.   73.   74.   75.   76.   77.   78.   79.   80.   81.   82.   83.\n",
      "    84.   85.   86.   87.   88.   89.   90.   91.   92.   93.   94.   95.\n",
      "    96.   97.   98.   99.  100.  101.  102.  103.  104.  105.  106.  107.\n",
      "   108.  109.  110.  111.  112.  113.  114.  115.  116.  117.  118.  119.\n",
      "   120.  121.  122.  123.  124.  125.  126.  127.  128.  129.  130.  131.\n",
      "   132.  133.  134.  135.  136.  137.  138.  139.  140.  141.  142.  143.\n",
      "   144.  145.  146.  147.  148.  149.  150.  151.  152.  153.  154.  155.\n",
      "   156.  157.  158.  159.  160.  161.  162.  163.  164.  165.  166.  167.\n",
      "   168.  169.  170.  171.  172.  173.  174.  175.  176.  177.  178.  179.\n",
      "   180.  181.  182.  183.  184.  185.  186.  187.  188.  189.  190.  191.\n",
      "   192.  193.  194.  195.  196.  197.  198.  199.  200.  201.  202.  203.\n",
      "   204.  205.  206.  207.  208.  209.  210.  211.  212.  213.  214.  215.\n",
      "   216.  217.  218.  219.  220.  221.  222.  223.  224.  225.  226.  227.\n",
      "   228.  229.  230.  231.  232.  233.  234.  235.  236.  237.  238.  239.\n",
      "   240.  241.  242.  243.  244.  245.  246.  247.  248.  249.  250.  251.\n",
      "   252.  253.  254.  255.  256.  257.  258.  259.  260.  261.  262.  263.\n",
      "   264.  265.  266.  267.  268.  269.  270.  271.  272.  273.  274.  275.\n",
      "   276.  277.  278.  279.  280.  281.  282.  283.  284.  285.  286.  287.\n",
      "   288.  289.  290.  291.  292.  293.  294.  295.  296.  297.  298.  299.\n",
      "   300.  301.  302.  303.  304.  305.  306.  307.  308.  309.  310.  311.\n",
      "   312.  313.  314.  315.  316.  317.  318.  319.  320.  321.  322.  323.\n",
      "   324.  325.  326.  327.  328.  329.  330.  331.  332.  333.  334.  335.\n",
      "   336.  337.  338.  339.  340.  341.  342.  343.  344.  345.  346.  347.\n",
      "   348.  349.  350.  351.  352.  353.  354.  355.  356.  357.  358.  359.\n",
      "   360.  361.  362.  363.  364.  365.  366.  367.  368.  369.  370.  371.\n",
      "   372.  373.  374.  375.  376.  377.  378.  379.  380.  381.  382.  383.\n",
      "   384.  385.  386.  387.  388.  389.  390.  391.  392.  393.  394.  395.\n",
      "   396.  397.  398.  399.]]\n",
      "[[   0.    1.    2.    3.    4.    5.    6.    7.    8.    9.   10.   11.\n",
      "    12.   13.   14.   15.   16.   17.   18.   19.   20.   21.   22.   23.\n",
      "    24.   25.   26.   27.   28.   29.   30.   31.   32.   33.   34.   35.\n",
      "    36.   37.   38.   39.   40.   41.   42.   43.   44.   45.   46.   47.\n",
      "    48.   49.   50.   51.   52.   53.   54.   55.   56.   57.   58.   59.\n",
      "    60.   61.   62.   63.   64.   65.   66.   67.   68.   69.   70.   71.\n",
      "    72.   73.   74.   75.   76.   77.   78.   79.   80.   81.   82.   83.\n",
      "    84.   85.   86.   87.   88.   89.   90.   91.   92.   93.   94.   95.\n",
      "    96.   97.   98.   99.  100.  101.  102.  103.  104.  105.  106.  107.\n",
      "   108.  109.  110.  111.  112.  113.  114.  115.  116.  117.  118.  119.\n",
      "   120.  121.  122.  123.  124.  125.  126.  127.  128.  129.  130.  131.\n",
      "   132.  133.  134.  135.  136.  137.  138.  139.  140.  141.  142.  143.\n",
      "   144.  145.  146.  147.  148.  149.  150.  151.  152.  153.  154.  155.\n",
      "   156.  157.  158.  159.  160.  161.  162.  163.  164.  165.  166.  167.\n",
      "   168.  169.  170.  171.  172.  173.  174.  175.  176.  177.  178.  179.\n",
      "   180.  181.  182.  183.  184.  185.  186.  187.  188.  189.  190.  191.\n",
      "   192.  193.  194.  195.  196.  197.  198.  199.  200.  201.  202.  203.\n",
      "   204.  205.  206.  207.  208.  209.  210.  211.  212.  213.  214.  215.\n",
      "   216.  217.  218.  219.  220.  221.  222.  223.  224.  225.  226.  227.\n",
      "   228.  229.  230.  231.  232.  233.  234.  235.  236.  237.  238.  239.\n",
      "   240.  241.  242.  243.  244.  245.  246.  247.  248.  249.  250.  251.\n",
      "   252.  253.  254.  255.  256.  257.  258.  259.  260.  261.  262.  263.\n",
      "   264.  265.  266.  267.  268.  269.  270.  271.  272.  273.  274.  275.\n",
      "   276.  277.  278.  279.  280.  281.  282.  283.  284.  285.  286.  287.\n",
      "   288.  289.  290.  291.  292.  293.  294.  295.  296.  297.  298.  299.\n",
      "   300.  301.  302.  303.  304.  305.  306.  307.  308.  309.  310.  311.\n",
      "   312.  313.  314.  315.  316.  317.  318.  319.  320.  321.  322.  323.\n",
      "   324.  325.  326.  327.  328.  329.  330.  331.  332.  333.  334.  335.\n",
      "   336.  337.  338.  339.  340.  341.  342.  343.  344.  345.  346.  347.\n",
      "   348.  349.  350.  351.  352.  353.  354.  355.  356.  357.  358.  359.\n",
      "   360.  361.  362.  363.  364.  365.  366.  367.  368.  369.  370.  371.\n",
      "   372.  373.  374.  375.  376.  377.  378.  379.  380.  381.  382.  383.\n",
      "   384.  385.  386.  387.  388.  389.  390.  391.  392.  393.  394.  395.\n",
      "     9.    9.    9.    9.]]\n",
      "CPU times: user 36 ms, sys: 0 ns, total: 36 ms\n",
      "Wall time: 42.1 ms\n"
     ]
    }
   ],
   "source": [
    "%%time\n",
    "with tf.Session() as sess:\n",
    "    sess.run(tf.global_variables_initializer())\n",
    "    sess.graph.finalize()  \n",
    "\n",
    "    print(sess.run(var_visible))\n",
    "    print(sess.run(var_history))\n",
    "    print(sess.run(update_history_with_current_vis ))"
   ]
  },
  {
   "cell_type": "code",
   "execution_count": 325,
   "metadata": {},
   "outputs": [
    {
     "name": "stdout",
     "output_type": "stream",
     "text": [
      "40\n"
     ]
    }
   ],
   "source": [
    "print(len(tf.get_default_graph().get_operations()))"
   ]
  },
  {
   "cell_type": "code",
   "execution_count": null,
   "metadata": {
    "collapsed": true
   },
   "outputs": [],
   "source": []
  },
  {
   "cell_type": "code",
   "execution_count": 324,
   "metadata": {},
   "outputs": [
    {
     "name": "stdout",
     "output_type": "stream",
     "text": [
      "[[  40.   41.   42.   43.   44.   45.   46.   47.   48.   49.   50.   51.\n",
      "    52.   53.   54.   55.   56.   57.   58.   59.   60.   61.   62.   63.\n",
      "    64.   65.   66.   67.   68.   69.   70.   71.   72.   73.   74.   75.\n",
      "    76.   77.   78.   79.   80.   81.   82.   83.   84.   85.   86.   87.\n",
      "    88.   89.   90.   91.   92.   93.   94.   95.   96.   97.   98.   99.\n",
      "   100.  101.  102.  103.  104.  105.  106.  107.  108.  109.  110.  111.\n",
      "   112.  113.  114.  115.  116.  117.  118.  119.  120.  121.  122.  123.\n",
      "   124.  125.  126.  127.  128.  129.  130.  131.  132.  133.  134.  135.\n",
      "   136.  137.  138.  139.  140.  141.  142.  143.  144.  145.  146.  147.\n",
      "   148.  149.  150.  151.  152.  153.  154.  155.  156.  157.  158.  159.\n",
      "   160.  161.  162.  163.  164.  165.  166.  167.  168.  169.  170.  171.\n",
      "   172.  173.  174.  175.  176.  177.  178.  179.  180.  181.  182.  183.\n",
      "   184.  185.  186.  187.  188.  189.  190.  191.  192.  193.  194.  195.\n",
      "   196.  197.  198.  199.  200.  201.  202.  203.  204.  205.  206.  207.\n",
      "   208.  209.  210.  211.  212.  213.  214.  215.  216.  217.  218.  219.\n",
      "   220.  221.  222.  223.  224.  225.  226.  227.  228.  229.  230.  231.\n",
      "   232.  233.  234.  235.  236.  237.  238.  239.  240.  241.  242.  243.\n",
      "   244.  245.  246.  247.  248.  249.  250.  251.  252.  253.  254.  255.\n",
      "   256.  257.  258.  259.  260.  261.  262.  263.  264.  265.  266.  267.\n",
      "   268.  269.  270.  271.  272.  273.  274.  275.  276.  277.  278.  279.\n",
      "   280.  281.  282.  283.  284.  285.  286.  287.  288.  289.  290.  291.\n",
      "   292.  293.  294.  295.  296.  297.  298.  299.  300.  301.  302.  303.\n",
      "   304.  305.  306.  307.  308.  309.  310.  311.  312.  313.  314.  315.\n",
      "   316.  317.  318.  319.  320.  321.  322.  323.  324.  325.  326.  327.\n",
      "   328.  329.  330.  331.  332.  333.  334.  335.  336.  337.  338.  339.\n",
      "   340.  341.  342.  343.  344.  345.  346.  347.  348.  349.  350.  351.\n",
      "   352.  353.  354.  355.  356.  357.  358.  359.  360.  361.  362.  363.\n",
      "   364.  365.  366.  367.  368.  369.  370.  371.  372.  373.  374.  375.\n",
      "   376.  377.  378.  379.  380.  381.  382.  383.  384.  385.  386.  387.\n",
      "   388.  389.  390.  391.  392.  393.  394.  395.  396.  397.  398.  399.\n",
      "     9.    9.    9.    9.    9.    9.    9.    9.    9.    9.    9.    9.\n",
      "     9.    9.    9.    9.    9.    9.    9.    9.    9.    9.    9.    9.\n",
      "     9.    9.    9.    9.    9.    9.    9.    9.    9.    9.    9.    9.\n",
      "     9.    9.    9.    9.]]\n",
      "CPU times: user 16 ms, sys: 8 ms, total: 24 ms\n",
      "Wall time: 19.5 ms\n"
     ]
    }
   ],
   "source": [
    "%%time \n",
    "with tf.Session() as sess:\n",
    "    sess.run(tf.global_variables_initializer())\n",
    "    for i in range(10):\n",
    "        #sess.run(var_history_shift.assign(var_history[0:1, n_vis:n_his]))\n",
    "        sess.run(assign_var_history_shift)\n",
    "        sess.run(update_history_with_shift)\n",
    "        sess.run(update_history_with_current_vis)\n",
    "        #current_vis_vec = np.array([[i,i,i,i]], dtype=\"float32\")\n",
    "    print(sess.run(var_history))"
   ]
  },
  {
   "cell_type": "code",
   "execution_count": 267,
   "metadata": {},
   "outputs": [
    {
     "name": "stdout",
     "output_type": "stream",
     "text": [
      "37\n"
     ]
    }
   ],
   "source": [
    "print(len(tf.get_default_graph().get_operations()))"
   ]
  },
  {
   "cell_type": "markdown",
   "metadata": {},
   "source": [
    "### Example 3: making the visible vector dynamic\n",
    "\n",
    "\n",
    "A tensorflow variable can be fed dynamically- This can be handy for example for changing at run time the values of some variables in our graph. An example:"
   ]
  },
  {
   "cell_type": "code",
   "execution_count": 328,
   "metadata": {},
   "outputs": [
    {
     "name": "stdout",
     "output_type": "stream",
     "text": [
      "5\n",
      "23\n"
     ]
    }
   ],
   "source": [
    "tf.reset_default_graph()\n",
    "a = tf.Variable(1)\n",
    "\n",
    "with tf.Session() as sess:\n",
    "    sess.run(tf.global_variables_initializer())\n",
    "    print(sess.run(a, feed_dict={a:5})) \n",
    "    print(sess.run(a, feed_dict={a:23}))"
   ]
  },
  {
   "cell_type": "code",
   "execution_count": 329,
   "metadata": {},
   "outputs": [
    {
     "name": "stdout",
     "output_type": "stream",
     "text": [
      "1\n"
     ]
    }
   ],
   "source": [
    "with tf.Session() as sess:\n",
    "    sess.run(tf.global_variables_initializer())\n",
    "    print(sess.run(a)) \n"
   ]
  },
  {
   "cell_type": "code",
   "execution_count": 120,
   "metadata": {
    "collapsed": true
   },
   "outputs": [],
   "source": [
    "tf.reset_default_graph()\n",
    "n_his = 400\n",
    "n_vis = 4\n",
    "\n",
    "var_history = tf.get_variable(\"var_history\", \n",
    "                              dtype=np.float32, \n",
    "                              initializer=np.array([range(0,n_his)], \"float32\")) \n",
    "\n",
    "var_visible = tf.get_variable(\"var_visible\", \n",
    "                              dtype=np.float32, \n",
    "                              initializer=np.array([[9,9,9,9]], \"float32\")) \n",
    "\n",
    "var_history_shift = tf.get_variable(\"var_history_shift\", \n",
    "                              dtype=np.float32, shape=(1, n_his-n_vis)) \n",
    "\n",
    "assign_var_history_shift  = var_history_shift.assign(var_history[0:1, n_vis:n_his])\n",
    "update_history_with_shift  = var_history[0:1, 0:n_his - n_vis].assign(var_history_shift)\n",
    "update_history_with_current_vis =  var_history[0:1, n_his-n_vis:n_his].assign(var_visible)\n"
   ]
  },
  {
   "cell_type": "code",
   "execution_count": 121,
   "metadata": {},
   "outputs": [
    {
     "name": "stdout",
     "output_type": "stream",
     "text": [
      "[[  40.   41.   42.   43.   44.   45.   46.   47.   48.   49.   50.   51.\n",
      "    52.   53.   54.   55.   56.   57.   58.   59.   60.   61.   62.   63.\n",
      "    64.   65.   66.   67.   68.   69.   70.   71.   72.   73.   74.   75.\n",
      "    76.   77.   78.   79.   80.   81.   82.   83.   84.   85.   86.   87.\n",
      "    88.   89.   90.   91.   92.   93.   94.   95.   96.   97.   98.   99.\n",
      "   100.  101.  102.  103.  104.  105.  106.  107.  108.  109.  110.  111.\n",
      "   112.  113.  114.  115.  116.  117.  118.  119.  120.  121.  122.  123.\n",
      "   124.  125.  126.  127.  128.  129.  130.  131.  132.  133.  134.  135.\n",
      "   136.  137.  138.  139.  140.  141.  142.  143.  144.  145.  146.  147.\n",
      "   148.  149.  150.  151.  152.  153.  154.  155.  156.  157.  158.  159.\n",
      "   160.  161.  162.  163.  164.  165.  166.  167.  168.  169.  170.  171.\n",
      "   172.  173.  174.  175.  176.  177.  178.  179.  180.  181.  182.  183.\n",
      "   184.  185.  186.  187.  188.  189.  190.  191.  192.  193.  194.  195.\n",
      "   196.  197.  198.  199.  200.  201.  202.  203.  204.  205.  206.  207.\n",
      "   208.  209.  210.  211.  212.  213.  214.  215.  216.  217.  218.  219.\n",
      "   220.  221.  222.  223.  224.  225.  226.  227.  228.  229.  230.  231.\n",
      "   232.  233.  234.  235.  236.  237.  238.  239.  240.  241.  242.  243.\n",
      "   244.  245.  246.  247.  248.  249.  250.  251.  252.  253.  254.  255.\n",
      "   256.  257.  258.  259.  260.  261.  262.  263.  264.  265.  266.  267.\n",
      "   268.  269.  270.  271.  272.  273.  274.  275.  276.  277.  278.  279.\n",
      "   280.  281.  282.  283.  284.  285.  286.  287.  288.  289.  290.  291.\n",
      "   292.  293.  294.  295.  296.  297.  298.  299.  300.  301.  302.  303.\n",
      "   304.  305.  306.  307.  308.  309.  310.  311.  312.  313.  314.  315.\n",
      "   316.  317.  318.  319.  320.  321.  322.  323.  324.  325.  326.  327.\n",
      "   328.  329.  330.  331.  332.  333.  334.  335.  336.  337.  338.  339.\n",
      "   340.  341.  342.  343.  344.  345.  346.  347.  348.  349.  350.  351.\n",
      "   352.  353.  354.  355.  356.  357.  358.  359.  360.  361.  362.  363.\n",
      "   364.  365.  366.  367.  368.  369.  370.  371.  372.  373.  374.  375.\n",
      "   376.  377.  378.  379.  380.  381.  382.  383.  384.  385.  386.  387.\n",
      "   388.  389.  390.  391.  392.  393.  394.  395.  396.  397.  398.  399.\n",
      "     9.    9.    9.    9.    9.    9.    9.    9.    9.    9.    9.    9.\n",
      "     9.    9.    9.    9.    9.    9.    9.    9.    9.    9.    9.    9.\n",
      "     9.    9.    9.    9.    9.    9.    9.    9.    9.    9.    9.    9.\n",
      "     9.    9.    9.    9.]]\n",
      "CPU times: user 32 ms, sys: 0 ns, total: 32 ms\n",
      "Wall time: 30.6 ms\n"
     ]
    }
   ],
   "source": [
    "%%time \n",
    "with tf.Session() as sess:\n",
    "    sess.run(tf.global_variables_initializer())\n",
    "    sess.graph.finalize()  # Graph is read-only after this statement.\n",
    "\n",
    "    for i in range(10):\n",
    "        #sess.run(var_history_shift.assign(var_history[0:1, n_vis:n_his]))\n",
    "        sess.run(assign_var_history_shift)\n",
    "        sess.run(var_history, feed_dict={var_visible: np.array([[i,i,i,i]], \"float32\")})\n",
    "        sess.run(update_history_with_shift)\n",
    "        sess.run(update_history_with_current_vis)\n",
    "        #current_vis_vec = np.array([[i,i,i,i]], dtype=\"float32\")\n",
    "    print(sess.run(var_history))"
   ]
  },
  {
   "cell_type": "code",
   "execution_count": 122,
   "metadata": {},
   "outputs": [
    {
     "name": "stdout",
     "output_type": "stream",
     "text": [
      "36\n"
     ]
    }
   ],
   "source": [
    "print(len(tf.get_default_graph().get_operations()))"
   ]
  },
  {
   "cell_type": "markdown",
   "metadata": {},
   "source": [
    "Notice that this procedure did not modigy `var_history` as we could have expected.\n",
    "We need to do an assign operation at runetime to do so."
   ]
  },
  {
   "cell_type": "code",
   "execution_count": 175,
   "metadata": {
    "collapsed": true
   },
   "outputs": [],
   "source": [
    "tf.reset_default_graph()\n",
    "n_his = 400\n",
    "n_vis = 4\n",
    "\n",
    "var_history = tf.get_variable(\"var_history\", \n",
    "                              dtype=np.float32, \n",
    "                              initializer=np.array([range(0,n_his)], \"float32\")) \n",
    "\n",
    "var_visible = tf.get_variable(\"var_visible\", \n",
    "                              dtype=np.float32, \n",
    "                              initializer=np.array([[9,9,9,9]], \"float32\")) \n",
    "\n",
    "placeholder_visible = tf.get_variable(name=\"placeholder_visible\", \n",
    "                                      shape=(1,n_vis),\n",
    "                                      dtype=np.float32) \n",
    "\n",
    "var_history_shift = tf.get_variable(\"var_history_shift\", \n",
    "                                    dtype=np.float32, shape=(1, n_his-n_vis)) \n",
    "\n",
    "assign_var_history_shift  = var_history_shift.assign(var_history[0:1, n_vis:n_his])\n",
    "update_history_with_shift  = var_history[0:1, 0:n_his - n_vis].assign(var_history_shift)\n",
    "update_history_with_current_vis =  var_history[0:1, n_his-n_vis:n_his].assign(var_visible)\n",
    "assign_var_visible = var_visible.assign(placeholder_visible)\n"
   ]
  },
  {
   "cell_type": "code",
   "execution_count": 176,
   "metadata": {},
   "outputs": [
    {
     "name": "stdout",
     "output_type": "stream",
     "text": [
      "[[  40.   41.   42.   43.   44.   45.   46.   47.   48.   49.   50.   51.\n",
      "    52.   53.   54.   55.   56.   57.   58.   59.   60.   61.   62.   63.\n",
      "    64.   65.   66.   67.   68.   69.   70.   71.   72.   73.   74.   75.\n",
      "    76.   77.   78.   79.   80.   81.   82.   83.   84.   85.   86.   87.\n",
      "    88.   89.   90.   91.   92.   93.   94.   95.   96.   97.   98.   99.\n",
      "   100.  101.  102.  103.  104.  105.  106.  107.  108.  109.  110.  111.\n",
      "   112.  113.  114.  115.  116.  117.  118.  119.  120.  121.  122.  123.\n",
      "   124.  125.  126.  127.  128.  129.  130.  131.  132.  133.  134.  135.\n",
      "   136.  137.  138.  139.  140.  141.  142.  143.  144.  145.  146.  147.\n",
      "   148.  149.  150.  151.  152.  153.  154.  155.  156.  157.  158.  159.\n",
      "   160.  161.  162.  163.  164.  165.  166.  167.  168.  169.  170.  171.\n",
      "   172.  173.  174.  175.  176.  177.  178.  179.  180.  181.  182.  183.\n",
      "   184.  185.  186.  187.  188.  189.  190.  191.  192.  193.  194.  195.\n",
      "   196.  197.  198.  199.  200.  201.  202.  203.  204.  205.  206.  207.\n",
      "   208.  209.  210.  211.  212.  213.  214.  215.  216.  217.  218.  219.\n",
      "   220.  221.  222.  223.  224.  225.  226.  227.  228.  229.  230.  231.\n",
      "   232.  233.  234.  235.  236.  237.  238.  239.  240.  241.  242.  243.\n",
      "   244.  245.  246.  247.  248.  249.  250.  251.  252.  253.  254.  255.\n",
      "   256.  257.  258.  259.  260.  261.  262.  263.  264.  265.  266.  267.\n",
      "   268.  269.  270.  271.  272.  273.  274.  275.  276.  277.  278.  279.\n",
      "   280.  281.  282.  283.  284.  285.  286.  287.  288.  289.  290.  291.\n",
      "   292.  293.  294.  295.  296.  297.  298.  299.  300.  301.  302.  303.\n",
      "   304.  305.  306.  307.  308.  309.  310.  311.  312.  313.  314.  315.\n",
      "   316.  317.  318.  319.  320.  321.  322.  323.  324.  325.  326.  327.\n",
      "   328.  329.  330.  331.  332.  333.  334.  335.  336.  337.  338.  339.\n",
      "   340.  341.  342.  343.  344.  345.  346.  347.  348.  349.  350.  351.\n",
      "   352.  353.  354.  355.  356.  357.  358.  359.  360.  361.  362.  363.\n",
      "   364.  365.  366.  367.  368.  369.  370.  371.  372.  373.  374.  375.\n",
      "   376.  377.  378.  379.  380.  381.  382.  383.  384.  385.  386.  387.\n",
      "   388.  389.  390.  391.  392.  393.  394.  395.  396.  397.  398.  399.\n",
      "     0.    0.    0.    0.    1.    1.    1.    1.    2.    2.    2.    2.\n",
      "     3.    3.    3.    3.    4.    4.    4.    4.    5.    5.    5.    5.\n",
      "     6.    6.    6.    6.    7.    7.    7.    7.    8.    8.    8.    8.\n",
      "     9.    9.    9.    9.]]\n",
      "CPU times: user 32 ms, sys: 0 ns, total: 32 ms\n",
      "Wall time: 30.6 ms\n"
     ]
    }
   ],
   "source": [
    "%%time \n",
    "with tf.Session() as sess:\n",
    "    sess.run(tf.global_variables_initializer())\n",
    "    sess.graph.finalize()  # Graph is read-only after this statement.\n",
    "\n",
    "    for i in range(10):\n",
    "        #sess.run(var_history_shift.assign(var_history[0:1, n_vis:n_his]))\n",
    "        sess.run(assign_var_history_shift)\n",
    "        sess.run([assign_var_visible], feed_dict={placeholder_visible: np.array([[i,i,i,i]], \"float32\")})\n",
    "        sess.run(update_history_with_shift)\n",
    "        sess.run(update_history_with_current_vis)\n",
    "        #current_vis_vec = np.array([[i,i,i,i]], dtype=\"float32\")\n",
    "    print(sess.run(var_history))"
   ]
  },
  {
   "cell_type": "code",
   "execution_count": 336,
   "metadata": {},
   "outputs": [
    {
     "name": "stdout",
     "output_type": "stream",
     "text": [
      "47\n"
     ]
    }
   ],
   "source": [
    "print(len(tf.get_default_graph().get_operations()))"
   ]
  },
  {
   "cell_type": "markdown",
   "metadata": {
    "collapsed": true
   },
   "source": [
    "### IMPORTANT\n",
    "### Use Graph.finalize() to avoid nodes being added to the graph\n",
    "\n",
    "\n",
    "The following comment is from - https://stackoverflow.com/documentation/tensorflow/3883/how-to-debug-a-memory-leak-in-tensorflow/13426/use-graph-finalize-to-catch-nodes-being-added-to-the-graph#t=201707170928086124668\n",
    "\n",
    "The most common mode of using TensorFlow involves first building a dataflow graph of TensorFlow operators (like tf.constant() and tf.matmul(), then running steps by calling the tf.Session.run() method in a loop (e.g. a training loop).\n",
    "\n",
    "**A common source of memory leaks is where the training loop contains calls that add nodes to the graph, and these run in every iteration, causing the graph to grow**. These may be obvious (e.g. a call to a TensorFlow operator like tf.square()), implicit (e.g. a call to a TensorFlow library function that creates operators like tf.train.Saver()), or subtle (e.g. a call to an overloaded operator on a tf.Tensor and a NumPy array, which implicitly calls tf.convert_to_tensor() and adds a new tf.constant() to the graph).\n",
    "\n",
    "The tf.Graph.finalize() method can help to catch leaks like this: it marks a graph as read-only, and raises an exception if anything is added to the graph. For example:\n",
    "\n",
    "```\n",
    "loss = ...\n",
    "train_op = tf.train.GradientDescentOptimizer(0.01).minimize(loss)\n",
    "init = tf.initialize_all_variables()\n",
    "\n",
    "with tf.Session() as sess:\n",
    "    sess.run(init)\n",
    "    sess.graph.finalize()  # Graph is read-only after this statement.\n",
    "\n",
    "    for _ in range(1000000):\n",
    "        sess.run(train_op)\n",
    "        loss_sq = tf.square(loss)  # Exception will be thrown here.\n",
    "        sess.run(loss_sq)\n",
    "```\n",
    "\n",
    "In this case, the overloaded * operator attempts to add new nodes to the graph:\n",
    "\n",
    "```\n",
    "loss = ...\n",
    "# ...\n",
    "with tf.Session() as sess:\n",
    "    # ...\n",
    "    sess.graph.finalize()  # Graph is read-only after this statement.\n",
    "    # ...\n",
    "    dbl_loss = loss * 2.0  # Exception will be thrown here\n",
    "```\n",
    "\n",
    "## Summary on using tf.Session(graph=g)\n",
    "```\n",
    "with tf.Session(graph=g) as sess:\n",
    "    sess.run(tf.train.Saver().restore(sess,\"saved_graph.ckpt\"))\n",
    "    sess.run(tf.global_variables_initializer())  # If you train the model for the first time\n",
    "    sess.graph.finalize()                        # Graph is read-only after this statement.\n",
    "```"
   ]
  },
  {
   "cell_type": "code",
   "execution_count": null,
   "metadata": {
    "collapsed": true
   },
   "outputs": [],
   "source": []
  }
 ],
 "metadata": {
  "kernelspec": {
   "display_name": "Python [conda env:tensorflow]",
   "language": "python",
   "name": "conda-env-tensorflow-py"
  },
  "language_info": {
   "codemirror_mode": {
    "name": "ipython",
    "version": 3
   },
   "file_extension": ".py",
   "mimetype": "text/x-python",
   "name": "python",
   "nbconvert_exporter": "python",
   "pygments_lexer": "ipython3",
   "version": "3.6.1"
  }
 },
 "nbformat": 4,
 "nbformat_minor": 2
}

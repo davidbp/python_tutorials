{
 "cells": [
  {
   "cell_type": "markdown",
   "metadata": {},
   "source": [
    "## Implement linear regression in tensorflow\n",
    "\n",
    "\n",
    "About loading models\n",
    "\n",
    "- https://github.com/Hvass-Labs/TensorFlow-Tutorials\n",
    "- https://kevincodeidea.wordpress.com/2016/08/02/tensorflow-save-and-load-a-model-in-a-serious-way-from-different-files/\n",
    "\n"
   ]
  },
  {
   "cell_type": "code",
   "execution_count": 1,
   "metadata": {},
   "outputs": [
    {
     "data": {
      "text/plain": [
       "('1.13.0', '1.2.0')"
      ]
     },
     "execution_count": 1,
     "metadata": {},
     "output_type": "execute_result"
    }
   ],
   "source": [
    "import tensorflow as tf\n",
    "from tensorflow.contrib import learn\n",
    "from tensorflow.contrib.learn.python.learn.estimators import model_fn as model_fn_lib\n",
    "    \n",
    "import numpy as np\n",
    "import matplotlib\n",
    "from matplotlib  import pyplot as plt\n",
    "import pprint\n",
    "%matplotlib inline\n",
    "np.__version__, tf.__version__"
   ]
  },
  {
   "cell_type": "code",
   "execution_count": 2,
   "metadata": {
    "scrolled": true
   },
   "outputs": [
    {
     "data": {
      "text/plain": [
       "[<matplotlib.lines.Line2D at 0x7f2aea732f28>]"
      ]
     },
     "execution_count": 2,
     "metadata": {},
     "output_type": "execute_result"
    },
    {
     "data": {
      "image/png": "[encoded data removed]",
      "text/plain": [
       "<matplotlib.figure.Figure at 0x7f2aedabd1d0>"
      ]
     },
     "metadata": {},
     "output_type": "display_data"
    }
   ],
   "source": [
    "x = np.arange(100, step=0.1)\n",
    "y = x + 3 * np.cos(x/5)  \n",
    "plt.plot(x, y)"
   ]
  },
  {
   "cell_type": "code",
   "execution_count": 3,
   "metadata": {
    "collapsed": true
   },
   "outputs": [],
   "source": [
    "n_samples = 1000\n",
    "batch_size = 10\n",
    "\n",
    "# rewrite as column vector\n",
    "x = np.reshape(x, (n_samples, 1))\n",
    "y = np.reshape(y, (n_samples, 1)) "
   ]
  },
  {
   "cell_type": "markdown",
   "metadata": {},
   "source": [
    "## Defining the graph for the linear regressor"
   ]
  },
  {
   "cell_type": "code",
   "execution_count": 4,
   "metadata": {},
   "outputs": [
    {
     "data": {
      "text/plain": [
       "(1000, 1)"
      ]
     },
     "execution_count": 4,
     "metadata": {},
     "output_type": "execute_result"
    }
   ],
   "source": [
    "x.shape"
   ]
  },
  {
   "cell_type": "code",
   "execution_count": 5,
   "metadata": {},
   "outputs": [
    {
     "name": "stdout",
     "output_type": "stream",
     "text": [
      "[ 3.5  5.5  6.5]\n"
     ]
    }
   ],
   "source": [
    "c = np.array([[3.,4], [5.,6], [6.,7]])\n",
    "print(np.mean(c,1))"
   ]
  },
  {
   "cell_type": "code",
   "execution_count": 6,
   "metadata": {},
   "outputs": [
    {
     "name": "stdout",
     "output_type": "stream",
     "text": [
      "[<tf.Variable 'weights:0' shape=(1, 1) dtype=float32_ref>,\n",
      " <tf.Variable 'bias:0' shape=(1,) dtype=float32_ref>]\n"
     ]
    }
   ],
   "source": [
    "tf.reset_default_graph()\n",
    "batch_size_ = 50\n",
    "n_features_ = 1\n",
    "linear_regression_graph = tf.Graph()\n",
    "seed_val = 123\n",
    "\n",
    "with linear_regression_graph.as_default():\n",
    "    batch_size = batch_size_\n",
    "    n_features = n_features_\n",
    "\n",
    "    pl_x = tf.placeholder(name=\"pl_x\", dtype=tf.float32, shape=(None, 1))\n",
    "    pl_y = tf.placeholder(name=\"pl_y\", dtype=tf.float32, shape=(None, 1))\n",
    "    W = tf.get_variable(\"weights\", (1,1), initializer=tf.random_normal_initializer(seed=seed_val))\n",
    "    b = tf.get_variable(\"bias\", (1,), initializer=tf.constant_initializer(0.))\n",
    "    y_pred = tf.matmul(pl_x, W) + b    \n",
    "    loss = tf.reduce_mean(((pl_y - y_pred)**2))/x.shape[0]\n",
    "    #loss = tf.reduce_sum(tf.pow(y_pred - pl_y, 2))/x.shape[0]\n",
    "    optimizer = tf.train.GradientDescentOptimizer(learning_rate=0.001).minimize(loss)\n",
    "    \n",
    "    # Add allways the  tf.global_variables_initializer() and tf.Saver() in the graph\n",
    "    init = tf.global_variables_initializer()   \n",
    "    saver = tf.train.Saver()\n",
    "    #saver.save(as_default, \"./saved_tests/linear_regression_saver.ckpt\")\n",
    "    pprint.pprint(tf.global_variables())\n"
   ]
  },
  {
   "cell_type": "code",
   "execution_count": 7,
   "metadata": {},
   "outputs": [
    {
     "data": {
      "text/plain": [
       "<tensorflow.python.framework.ops.Graph at 0x7f2aea6e6940>"
      ]
     },
     "execution_count": 7,
     "metadata": {},
     "output_type": "execute_result"
    }
   ],
   "source": [
    "linear_regression_graph"
   ]
  },
  {
   "cell_type": "markdown",
   "metadata": {},
   "source": [
    "### Saving a session with saver = tf.train.Saver()"
   ]
  },
  {
   "cell_type": "code",
   "execution_count": 8,
   "metadata": {},
   "outputs": [
    {
     "name": "stdout",
     "output_type": "stream",
     "text": [
      "\n",
      "Parameters before learning\n",
      "weights before training:  [array([[ 2.44353771]], dtype=float32)]\n",
      "bias before training:  [array([ 0.], dtype=float32)]\n"
     ]
    },
    {
     "data": {
      "text/plain": [
       "[<matplotlib.lines.Line2D at 0x7f2ae850f438>]"
      ]
     },
     "execution_count": 8,
     "metadata": {},
     "output_type": "execute_result"
    },
    {
     "data": {
      "image/png": "[encoded data removed]",
      "text/plain": [
       "<matplotlib.figure.Figure at 0x7f2aea7093c8>"
      ]
     },
     "metadata": {},
     "output_type": "display_data"
    }
   ],
   "source": [
    "with tf.Session(graph=linear_regression_graph) as sess:\n",
    "    sess.run(init)\n",
    "    print(\"\\nParameters before learning\")\n",
    "    print(\"weights before training: \",sess.run([W]))\n",
    "    print(\"bias before training: \",sess.run([b]))\n",
    "    y_hat = sess.run(y_pred, feed_dict={pl_x:x})\n",
    "    \n",
    "plt.title(\"Solution of the linear regressor BEFORE training\", color=\"red\")\n",
    "plt.plot(x, y_hat, color=\"red\")\n",
    "plt.plot(x, y,\"blue\")"
   ]
  },
  {
   "cell_type": "code",
   "execution_count": 17,
   "metadata": {
    "scrolled": false
   },
   "outputs": [
    {
     "name": "stdout",
     "output_type": "stream",
     "text": [
      "\n",
      "Parameters before learning\n",
      "weights before trainin:  [array([[ 2.44353771]], dtype=float32)]\n",
      "bias before trainin:  [array([ 0.], dtype=float32)]\n",
      "\n",
      "epoch:  0  loss:  29.4748\n",
      "epoch:  10  loss:  0.451189\n",
      "epoch:  20  loss:  0.451187\n",
      "epoch:  30  loss:  0.451184\n",
      "epoch:  40  loss:  0.451182\n",
      "epoch:  50  loss:  0.451179\n",
      "epoch:  60  loss:  0.451177\n",
      "epoch:  70  loss:  0.451175\n",
      "\n",
      "Parameters after learning\n",
      "weights after training:  [array([[ 1.01382041]], dtype=float32)]\n",
      "bias after training:  [array([-0.05821415], dtype=float32)]\n"
     ]
    }
   ],
   "source": [
    "n_epochs = 80\n",
    "batch_size = 50\n",
    "indices_batches = [ x for x in range(0, len(x) + 1, batch_size) ]\n",
    "print_every_k = 10\n",
    "\n",
    "with tf.Session(graph=linear_regression_graph) as sess:\n",
    "    sess.run(init)\n",
    "    print(\"\\nParameters before learning\")\n",
    "    print(\"weights before trainin: \",sess.run([W]))\n",
    "    print(\"bias before trainin: \",sess.run([b]))\n",
    "    print(\"\")\n",
    "    for epoch in range(n_epochs):\n",
    "        mean_loss = []\n",
    "            \n",
    "        for b_beg, b_end in zip(indices_batches[0:-1], indices_batches[1:]):\n",
    "            _, l = sess.run([optimizer, loss], feed_dict={pl_x: x[b_beg:b_end], \n",
    "                                                          pl_y: y[b_beg:b_end]})\n",
    "            mean_loss.append(l)\n",
    "        if epoch % print_every_k+1 ==1:\n",
    "            print(\"epoch: \", epoch, \" loss: \", np.mean(mean_loss))\n",
    "        #writer = tf.summary.FileWriter('./my_graph/linear_reg', sess.graph)\n",
    "    #saver.save(sess, \"./saved_tests/linear_regression.cpkt\")\n",
    "    \n",
    "    #saver.export_meta_graph(\"./saved_tests/linear_regression_saver.meta\")\n",
    "    print(\"\\nParameters after learning\")\n",
    "    print(\"weights after training: \",sess.run([W]))\n",
    "    print(\"bias after training: \",sess.run([b]))\n",
    "\n",
    "    ### This saves the graph in a file so we can load it later on\n",
    "    #saver.save(sess, \"./saved_tests/linear_regression.cpkt\")\n",
    "    saver.save(sess, \"./saved_tests/linear_regression_saver2.ckpt\")\n",
    "    \n",
    "    tf.train.export_meta_graph(\"./saved_tests/linear_regression.cpkt\")\n",
    "    #tf.train.export_meta_graph(\"./saved_tests/linear_regression.cpkt\")"
   ]
  },
  {
   "cell_type": "code",
   "execution_count": 18,
   "metadata": {},
   "outputs": [
    {
     "name": "stdout",
     "output_type": "stream",
     "text": [
      "INFO:tensorflow:Restoring parameters from ./saved_tests/linear_regression_saver2.ckpt\n",
      "\n",
      "Parameters after learning\n",
      "weights before training:  [array([[ 1.01382041]], dtype=float32)]\n",
      "bias before training:  [array([-0.05821415], dtype=float32)]\n"
     ]
    },
    {
     "data": {
      "text/plain": [
       "[<matplotlib.lines.Line2D at 0x7f2ae01750b8>]"
      ]
     },
     "execution_count": 18,
     "metadata": {},
     "output_type": "execute_result"
    },
    {
     "data": {
      "image/png": "[encoded data removed]",
      "text/plain": [
       "<matplotlib.figure.Figure at 0x7f2ae1f58f60>"
      ]
     },
     "metadata": {},
     "output_type": "display_data"
    }
   ],
   "source": [
    "\n",
    "with tf.Session(graph=linear_regression_graph) as sess:\n",
    "    saver.restore(sess,\"./saved_tests/linear_regression_saver2.ckpt\") \n",
    "    print(\"\\nParameters after learning\")\n",
    "    print(\"weights before training: \",sess.run([W]))\n",
    "    print(\"bias before training: \",sess.run([b]))\n",
    "    y_hat = sess.run(y_pred, feed_dict={pl_x:x})\n",
    "\n",
    "plt.title(\"Solution of the linear regressor AFTER training\", color=\"red\")\n",
    "plt.plot(x, y_hat, color=\"red\")\n",
    "plt.plot(x, y,\"blue\")\n"
   ]
  },
  {
   "cell_type": "markdown",
   "metadata": {},
   "source": [
    "### Retraining in a new session using a past saved session"
   ]
  },
  {
   "cell_type": "code",
   "execution_count": 19,
   "metadata": {},
   "outputs": [
    {
     "name": "stdout",
     "output_type": "stream",
     "text": [
      "[<tf.Variable 'weights:0' shape=(1, 1) dtype=float32_ref>,\n",
      " <tf.Variable 'bias:0' shape=(1,) dtype=float32_ref>]\n"
     ]
    }
   ],
   "source": [
    "tf.reset_default_graph()\n",
    "batch_size_ = 10\n",
    "n_features_ = 1\n",
    "linear_regression_graph = tf.Graph()\n",
    "seed_val = 123\n",
    "\n",
    "with linear_regression_graph.as_default():\n",
    "    batch_size = batch_size_\n",
    "    n_features = n_features_\n",
    "\n",
    "    pl_x = tf.placeholder(name=\"pl_x\", dtype=tf.float32, shape=(None, 1))\n",
    "    pl_y = tf.placeholder(name=\"pl_y\", dtype=tf.float32, shape=(None, 1))\n",
    "    W = tf.get_variable(\"weights\", (1,1), initializer=tf.random_normal_initializer(seed=seed_val))\n",
    "    b = tf.get_variable(\"bias\", (1,), initializer=tf.constant_initializer(0.))\n",
    "    y_pred = tf.matmul(pl_x, W) + b    \n",
    "    loss = tf.reduce_mean((pl_y - y_pred)**2/batch_size)\n",
    "    \n",
    "    optimizer = tf.train.GradientDescentOptimizer(learning_rate=0.001).minimize(loss)\n",
    "    \n",
    "    # Add allways the  tf.global_variables_initializer() and tf.Saver() in the graph\n",
    "    init = tf.global_variables_initializer()   \n",
    "    saver = tf.train.Saver()\n",
    "    #saver.save(as_default, \"./saved_tests/linear_regression_saver.ckpt\")\n",
    "    pprint.pprint(tf.global_variables())\n"
   ]
  },
  {
   "cell_type": "code",
   "execution_count": 20,
   "metadata": {},
   "outputs": [
    {
     "name": "stdout",
     "output_type": "stream",
     "text": [
      "INFO:tensorflow:Restoring parameters from ./saved_tests/linear_regression_saver2.ckpt\n",
      "\n",
      "\n",
      "Show me W and b\n",
      "weights after training:  [array([[ 1.01382041]], dtype=float32)]\n",
      "bias after training:  [array([-0.05821415], dtype=float32)] \n",
      "\n",
      "epoch:  0  loss:  0.647058\n",
      "epoch:  1  loss:  0.698808\n",
      "epoch:  2  loss:  0.69877\n",
      "epoch:  3  loss:  0.698744\n",
      "epoch:  4  loss:  0.698719\n",
      "epoch:  5  loss:  0.698692\n",
      "epoch:  6  loss:  0.698667\n",
      "epoch:  7  loss:  0.698641\n",
      "epoch:  8  loss:  0.698616\n",
      "epoch:  9  loss:  0.69859\n",
      "epoch:  10  loss:  0.698565\n",
      "epoch:  11  loss:  0.698539\n",
      "epoch:  12  loss:  0.698513\n",
      "epoch:  13  loss:  0.698487\n",
      "epoch:  14  loss:  0.698462\n",
      "epoch:  15  loss:  0.698437\n",
      "epoch:  16  loss:  0.698411\n",
      "epoch:  17  loss:  0.698386\n",
      "epoch:  18  loss:  0.69836\n",
      "epoch:  19  loss:  0.698335\n",
      "epoch:  20  loss:  0.698311\n",
      "epoch:  21  loss:  0.698284\n",
      "epoch:  22  loss:  0.698259\n",
      "epoch:  23  loss:  0.698234\n",
      "epoch:  24  loss:  0.69821\n",
      "epoch:  25  loss:  0.698184\n",
      "epoch:  26  loss:  0.698159\n",
      "epoch:  27  loss:  0.698134\n",
      "epoch:  28  loss:  0.69811\n",
      "epoch:  29  loss:  0.698084\n",
      "epoch:  30  loss:  0.698059\n",
      "epoch:  31  loss:  0.698035\n",
      "epoch:  32  loss:  0.69801\n",
      "epoch:  33  loss:  0.697985\n",
      "epoch:  34  loss:  0.69796\n",
      "epoch:  35  loss:  0.697936\n",
      "epoch:  36  loss:  0.697912\n",
      "epoch:  37  loss:  0.697886\n",
      "epoch:  38  loss:  0.697862\n",
      "epoch:  39  loss:  0.697837\n",
      "epoch:  40  loss:  0.697814\n",
      "epoch:  41  loss:  0.697789\n",
      "epoch:  42  loss:  0.697764\n",
      "epoch:  43  loss:  0.69774\n",
      "epoch:  44  loss:  0.697715\n",
      "epoch:  45  loss:  0.697691\n",
      "epoch:  46  loss:  0.697667\n",
      "epoch:  47  loss:  0.697643\n",
      "epoch:  48  loss:  0.697618\n",
      "epoch:  49  loss:  0.697595\n"
     ]
    }
   ],
   "source": [
    "tf.reset_default_graph()\n",
    "batch_size = 80\n",
    "n_epochs = 50\n",
    "indices_batches = [ x for x in range(0, len(x) + 1, batch_size) ]\n",
    "\n",
    "with tf.Session(graph=linear_regression_graph) as sess:\n",
    "    saver.restore(sess,\"./saved_tests/linear_regression_saver2.ckpt\") \n",
    "    #saver.import_meta_graph(\"./saved_tests/linear_regression_saver.meta\")\n",
    "    print(\"\\n\\nShow me W and b\")\n",
    "    print(\"weights after training: \",sess.run([W]))\n",
    "    print(\"bias after training: \",sess.run([b]), \"\\n\")\n",
    "    \n",
    "    for epoch in range(n_epochs):\n",
    "        mean_loss = []\n",
    "        for b_beg, b_end in zip(indices_batches[0:-1], indices_batches[1:]):\n",
    "            _, l = sess.run([optimizer, loss], feed_dict={pl_x: x[b_beg:b_end], \n",
    "                                                          pl_y: y[b_beg:b_end]})\n",
    "            mean_loss.append(l)\n",
    "        print(\"epoch: \", epoch, \" loss: \", np.mean(mean_loss))\n"
   ]
  },
  {
   "cell_type": "code",
   "execution_count": 21,
   "metadata": {
    "collapsed": true
   },
   "outputs": [],
   "source": [
    "#with tf.gfile.FastGFile(\"./saved_tests/linear_regression.cpkt\") as f:\n",
    "#    graph_def = tf.GraphDef()\n",
    "#    graph_def.ParseFromString(f.read())\n",
    "#    _ = tf.import_graph_def(graph_def, name=\"\")"
   ]
  },
  {
   "cell_type": "markdown",
   "metadata": {
    "collapsed": true
   },
   "source": [
    "### Export a MetaGraph\n",
    "\n",
    "A MetaGraph contains both a TensorFlow GraphDef as well as associated metadata necessary for running computation in a graph when crossing a process boundary. It can also be used for long term storage of graphs.\n",
    "\n",
    "The MetaGraph contains the information required to continue training, perform evaluation, or run inference on a previously trained graph.\n",
    "\n",
    "The APIs for exporting and importing the complete model are in the ``tf.train.Saver`` class: ``tf.train.export_meta_graph`` and ``tf.train.import_meta_graph``.\n",
    "\n",
    "#### Inside a metagraph\n",
    "\n",
    "The information contained in a MetaGraph is expressed as a MetaGraphDef protocol buffer. It contains the following fields:\n",
    "\n",
    "- **MetaInfoDef** for meta information, such as version and other user information.\n",
    "\n",
    "- **GraphDef** for describing the graph.\n",
    "\n",
    "- **SaverDef** for the saver.\n",
    "\n",
    "- **CollectionDef** map that further describes additional components of the model, such as ``Variables``, ``tf.train.QueueRunner``, etc. In order for a Python object to be serialized to and from MetaGraphDef, the Python class must implement ``to_proto()`` and ``from_proto()`` methods, and register them with the system using register_proto_function.\n"
   ]
  },
  {
   "cell_type": "code",
   "execution_count": null,
   "metadata": {
    "collapsed": true
   },
   "outputs": [],
   "source": []
  },
  {
   "cell_type": "code",
   "execution_count": null,
   "metadata": {
    "collapsed": true
   },
   "outputs": [],
   "source": []
  }
 ],
 "metadata": {
  "kernelspec": {
   "display_name": "Python [conda env:tensorflow]",
   "language": "python",
   "name": "conda-env-tensorflow-py"
  },
  "language_info": {
   "codemirror_mode": {
    "name": "ipython",
    "version": 3
   },
   "file_extension": ".py",
   "mimetype": "text/x-python",
   "name": "python",
   "nbconvert_exporter": "python",
   "pygments_lexer": "ipython3",
   "version": "3.6.1"
  }
 },
 "nbformat": 4,
 "nbformat_minor": 2
}

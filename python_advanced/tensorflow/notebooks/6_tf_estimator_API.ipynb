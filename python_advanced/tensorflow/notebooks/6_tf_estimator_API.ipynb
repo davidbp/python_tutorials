{
 "cells": [
  {
   "cell_type": "markdown",
   "metadata": {},
   "source": [
    "## Implement linear regression as a tf.estimator\n",
    "\n",
    "We will go over the code of the linear regression model again.\n",
    "\n",
    "Then we will build the linear regression code as explained in \n",
    "- https://www.tensorflow.org/api_docs/python/tf/estimator/Estimator\n",
    "\n",
    "\n",
    "### Modules\n",
    "\n",
    "- **`export`** module: Utility methods for exporting Estimator.\n",
    "- **`inputs`** module: Utility methods to create simple input_fns.\n",
    "\n",
    "### Relevant Classes for this notebook\n",
    "\n",
    "- class **`Estimator`**: Estimator class to train and evaluate TensorFlow models.\n",
    "- class **`RunConfig`** : This class specifies the configurations for an Estimator run\n",
    "\n",
    "### Other classes\n",
    "- class **`EstimatorSpec`** : Ops and objects returned from a model_fn and passed to Estimator.\n",
    "- class **`ModeKeys`** : Standard names for model modes.\n",
    "\n"
   ]
  },
  {
   "cell_type": "code",
   "execution_count": 12,
   "metadata": {},
   "outputs": [
    {
     "data": {
      "text/plain": [
       "('1.13.0', '1.2.0')"
      ]
     },
     "execution_count": 12,
     "metadata": {},
     "output_type": "execute_result"
    }
   ],
   "source": [
    "import tensorflow as tf\n",
    "from tensorflow.contrib import learn\n",
    "from tensorflow.contrib.learn.python.learn.estimators import model_fn as model_fn_lib\n",
    "\n",
    "import numpy as np\n",
    "import matplotlib\n",
    "from matplotlib  import pyplot as plt\n",
    "import pprint\n",
    "\n",
    "%matplotlib inline\n",
    "np.__version__, tf.__version__"
   ]
  },
  {
   "cell_type": "code",
   "execution_count": 13,
   "metadata": {},
   "outputs": [
    {
     "data": {
      "text/plain": [
       "[<matplotlib.lines.Line2D at 0x7f2f032d7a58>]"
      ]
     },
     "execution_count": 13,
     "metadata": {},
     "output_type": "execute_result"
    },
    {
     "data": {
      "image/png": "[encoded data removed]",
      "text/plain": [
       "<matplotlib.figure.Figure at 0x7f2f0345f400>"
      ]
     },
     "metadata": {},
     "output_type": "display_data"
    }
   ],
   "source": [
    "x = np.arange(100, step=0.1)\n",
    "y = x + 3 * np.cos(x/5)  \n",
    "plt.plot(x, y)"
   ]
  },
  {
   "cell_type": "code",
   "execution_count": 14,
   "metadata": {
    "collapsed": true
   },
   "outputs": [],
   "source": [
    "n_samples = 1000\n",
    "batch_size = 10\n",
    "\n",
    "# rewrite as column vector\n",
    "x = np.reshape(x, (n_samples, 1))\n",
    "y = np.reshape(y, (n_samples, 1)) "
   ]
  },
  {
   "cell_type": "markdown",
   "metadata": {},
   "source": [
    "## About a tf.contrib.learn.Estimator \n",
    "\n",
    "- **`class tf.contrib.learn.BaseEstimator`**\n",
    "    - Abstract BaseEstimator class to train and evaluate TensorFlow models. We will use BaseEstimator by defining Estimator objects which initialize a BaseEstimator instance.\n",
    "\n",
    "\n",
    "\n",
    "The **`tf.contrib.learn.Estimator`** object is the standard way to wrap a model in Tensorflow. \n",
    "In order to build an **`Estimator`** we need to specify:\n",
    "\n",
    "```python\n",
    "tf.contrib.learn.Estimator.__init__( model_fn=None,\n",
    "                                     model_dir=None,\n",
    "                                     config=None,\n",
    "                                     params=None,\n",
    "                                     feature_engineering_fn=None)\n",
    "```\n",
    "\n",
    "#### Overview of the parts \n",
    "\n",
    "- **`model_fn`** is a function that returns a `ModelFnOps` object which contains the information of the ops necesary to perform trainig, evaluation or predictions. \n",
    "   - Arguments of  `model_fn` function:\n",
    "      - **`features`**: **single Tensor or dict of Tensors** (depending on data passed to fit),\n",
    "      - **`labels`**: **Tensor or dict of Tensors **(for multi-head models). If mode is ModeKeys.INFER, labels=None will be passed. If the model_fn's signature does not accept mode, the model_fn must still be able to handle labels=None.\n",
    "      - **`mode`**: **Optional**. Specifies if this training, evaluation or prediction. See ModeKeys.\n",
    "      - **`params`**: **Optional** dict of hyperparameters. Will receive what is passed to Estimator in params parameter. This allows to configure Estimators from hyper parameter tuning.\n",
    "      - **`config`**: **Optional** configuration object. Will receive what is passed to Estimator in config parameter, or the default config. Allows updating things in your model_fn based on configuration such as num_ps_replicas.\n",
    "      - **`model_dir`**: **Optional** directory where model parameters, graph etc are saved. Will receive what is passed to Estimator in model_dir parameter, or the default model_dir. Allows updating things in your model_fn that expect model_dir, such as training hooks.\n",
    "      \n",
    "- **`model_dir`**: Directory to save model parameters, graph etc. This can also be used to load checkpoints from the directory into a estimator to continue training a previously saved model.\n",
    "\n",
    "- **`config`**: Configuration object\n",
    "\n",
    "- **`params`**: dictionary of hyper parameters that will be passed into model_fn. Keys are names of parameters, values are basic python types.\n",
    "\n",
    "- **`feature_engineering_fn`** : Feature engineering function. Takes features and labels which are the output of input_fn and returns features and labels which will be fed into model_fn. Please check model_fn for a definition of features and labels.\n",
    "\n",
    "Supports next three signatures for the function:\n",
    "\n",
    "    (features, labels) -> (predictions, loss, train_op)\n",
    "    (features, labels, mode) -> (predictions, loss, train_op)\n",
    "    (features, labels, mode, params) -> (predictions, loss, train_op)\n",
    "    (features, labels, mode, params, config) -> (predictions, loss, train_op)\n",
    "    (features, labels, mode, params, config, model_dir) -> (predictions, loss, train_op)\n",
    "\n",
    "\n"
   ]
  },
  {
   "cell_type": "code",
   "execution_count": 15,
   "metadata": {},
   "outputs": [
    {
     "name": "stdout",
     "output_type": "stream",
     "text": [
      "INFO:tensorflow:Using default config.\n",
      "WARNING:tensorflow:Using temporary folder as model directory: /tmp/tmplmumtn67\n",
      "INFO:tensorflow:Using config: {'_task_type': None, '_task_id': 0, '_cluster_spec': <tensorflow.python.training.server_lib.ClusterSpec object at 0x7f2f0359a0f0>, '_master': '', '_num_ps_replicas': 0, '_num_worker_replicas': 0, '_environment': 'local', '_is_chief': True, '_evaluation_master': '', '_tf_config': gpu_options {\n",
      "  per_process_gpu_memory_fraction: 1.0\n",
      "}\n",
      ", '_tf_random_seed': None, '_save_summary_steps': 100, '_save_checkpoints_secs': 600, '_session_config': None, '_save_checkpoints_steps': None, '_keep_checkpoint_max': 5, '_keep_checkpoint_every_n_hours': 10000, '_model_dir': '/tmp/tmplmumtn67'}\n"
     ]
    }
   ],
   "source": [
    "estimator = tf.contrib.learn.Estimator()"
   ]
  },
  {
   "cell_type": "code",
   "execution_count": 16,
   "metadata": {},
   "outputs": [
    {
     "name": "stdout",
     "output_type": "stream",
     "text": [
      "Help on method fit in module tensorflow.contrib.learn.python.learn.estimators.estimator:\n",
      "\n",
      "fit(x=None, y=None, input_fn=None, steps=None, batch_size=None, monitors=None, max_steps=None) method of tensorflow.contrib.learn.python.learn.estimators.estimator.Estimator instance\n",
      "    See `Trainable`. (deprecated arguments)\n",
      "    \n",
      "    SOME ARGUMENTS ARE DEPRECATED. They will be removed after 2016-12-01.\n",
      "    Instructions for updating:\n",
      "    Estimator is decoupled from Scikit Learn interface by moving into\n",
      "    separate class SKCompat. Arguments x, y and batch_size are only\n",
      "    available in the SKCompat class, Estimator will only accept input_fn.\n",
      "    Example conversion:\n",
      "      est = Estimator(...) -> est = SKCompat(Estimator(...))\n",
      "    \n",
      "    Raises:\n",
      "      ValueError: If `x` or `y` are not `None` while `input_fn` is not `None`.\n",
      "      ValueError: If both `steps` and `max_steps` are not `None`.\n",
      "\n"
     ]
    }
   ],
   "source": [
    "help(estimator.fit)"
   ]
  },
  {
   "cell_type": "markdown",
   "metadata": {},
   "source": [
    "## Defining the graph for the linear regressor"
   ]
  },
  {
   "cell_type": "code",
   "execution_count": 17,
   "metadata": {},
   "outputs": [
    {
     "data": {
      "text/plain": [
       "(1000, 1)"
      ]
     },
     "execution_count": 17,
     "metadata": {},
     "output_type": "execute_result"
    }
   ],
   "source": [
    "x.shape"
   ]
  },
  {
   "cell_type": "code",
   "execution_count": 18,
   "metadata": {},
   "outputs": [
    {
     "name": "stdout",
     "output_type": "stream",
     "text": [
      "[ 3.5  5.5  6.5]\n"
     ]
    }
   ],
   "source": [
    "c = np.array([[3.,4], [5.,6], [6.,7]])\n",
    "print(np.mean(c,1))"
   ]
  },
  {
   "cell_type": "code",
   "execution_count": 20,
   "metadata": {},
   "outputs": [
    {
     "name": "stdout",
     "output_type": "stream",
     "text": [
      "[<tf.Variable 'weights:0' shape=(1, 1) dtype=float32_ref>,\n",
      " <tf.Variable 'bias:0' shape=(1,) dtype=float32_ref>]\n"
     ]
    }
   ],
   "source": [
    "tf.reset_default_graph()\n",
    "batch_size_ = 50\n",
    "n_features_ = 1\n",
    "linear_regression_graph = tf.Graph()\n",
    "seed_val = 123\n",
    "\n",
    "with linear_regression_graph.as_default():\n",
    "    batch_size = batch_size_\n",
    "    n_features = n_features_\n",
    "\n",
    "    pl_x = tf.placeholder(name=\"pl_x\", dtype=tf.float32, shape=(None, 1))\n",
    "    pl_y = tf.placeholder(name=\"pl_y\", dtype=tf.float32, shape=(None, 1))\n",
    "    W = tf.get_variable(\"weights\", (1, 1), initializer=tf.random_normal_initializer(seed=seed_val))\n",
    "    b = tf.get_variable(\"bias\", (1, ), initializer=tf.constant_initializer(0.))\n",
    "    y_pred = tf.matmul(pl_x, W) + b    \n",
    "    loss = tf.reduce_mean(((pl_y - y_pred)**2))/x.shape[0]\n",
    "    #loss = tf.reduce_sum(tf.pow(y_pred - pl_y, 2))/x.shape[0]\n",
    "    optimizer = tf.train.GradientDescentOptimizer(learning_rate=0.001).minimize(loss)\n",
    "    \n",
    "    # Add allways the  tf.global_variables_initializer() and tf.Saver() in the graph\n",
    "    init = tf.global_variables_initializer()\n",
    "    saver = tf.train.Saver()\n",
    "    #saver.save(as_default, \"./saved_tests/linear_regression_saver.ckpt\")\n",
    "    pprint.pprint(tf.global_variables())\n"
   ]
  },
  {
   "cell_type": "code",
   "execution_count": 21,
   "metadata": {},
   "outputs": [
    {
     "data": {
      "text/plain": [
       "<tensorflow.python.framework.ops.Graph at 0x7f2f032257b8>"
      ]
     },
     "execution_count": 21,
     "metadata": {},
     "output_type": "execute_result"
    }
   ],
   "source": [
    "linear_regression_graph"
   ]
  },
  {
   "cell_type": "code",
   "execution_count": 22,
   "metadata": {},
   "outputs": [
    {
     "data": {
      "text/plain": [
       "'1.2.0'"
      ]
     },
     "execution_count": 22,
     "metadata": {},
     "output_type": "execute_result"
    }
   ],
   "source": [
    "tf.__version__"
   ]
  },
  {
   "cell_type": "code",
   "execution_count": 23,
   "metadata": {},
   "outputs": [
    {
     "name": "stdout",
     "output_type": "stream",
     "text": [
      "INFO:tensorflow:Using default config.\n",
      "WARNING:tensorflow:Using temporary folder as model directory: /tmp/tmpz6cdfupf\n",
      "INFO:tensorflow:Using config: {'_model_dir': '/tmp/tmpz6cdfupf', '_tf_random_seed': 1, '_save_summary_steps': 100, '_save_checkpoints_secs': 600, '_save_checkpoints_steps': None, '_session_config': None, '_keep_checkpoint_max': 5, '_keep_checkpoint_every_n_hours': 10000}\n"
     ]
    }
   ],
   "source": [
    "def update_model(features=x, labels = y):\n",
    "    return optimizer\n",
    "\n",
    "linear_regressor = tf.estimator.Estimator(update_model)"
   ]
  },
  {
   "cell_type": "code",
   "execution_count": 24,
   "metadata": {},
   "outputs": [
    {
     "data": {
      "text/plain": [
       "<tensorflow.python.estimator.estimator.Estimator at 0x7f2f03452a58>"
      ]
     },
     "execution_count": 24,
     "metadata": {},
     "output_type": "execute_result"
    }
   ],
   "source": [
    "linear_regressor"
   ]
  },
  {
   "cell_type": "code",
   "execution_count": 25,
   "metadata": {},
   "outputs": [
    {
     "name": "stdout",
     "output_type": "stream",
     "text": [
      "Help on method train in module tensorflow.python.estimator.estimator:\n",
      "\n",
      "train(input_fn, hooks=None, steps=None, max_steps=None) method of tensorflow.python.estimator.estimator.Estimator instance\n",
      "    Trains a model given training data input_fn.\n",
      "    \n",
      "    Args:\n",
      "      input_fn: Input function returning a tuple of:\n",
      "          features - `Tensor` or dictionary of string feature name to `Tensor`.\n",
      "          labels - `Tensor` or dictionary of `Tensor` with labels.\n",
      "      hooks: List of `SessionRunHook` subclass instances. Used for callbacks\n",
      "        inside the training loop.\n",
      "      steps: Number of steps for which to train model. If `None`, train forever\n",
      "        or train until input_fn generates the `OutOfRange` or `StopIteration`\n",
      "        error. 'steps' works incrementally. If you call two times\n",
      "        train(steps=10) then training occurs in total 20 steps. If `OutOfRange`\n",
      "        or `StopIteration` error occurs in the middle, training stops before 20\n",
      "        steps. If you don't want to have incremental behaviour please set\n",
      "        `max_steps` instead. If set, `max_steps` must be `None`.\n",
      "      max_steps: Number of total steps for which to train model. If `None`,\n",
      "        train forever or train until input_fn generates the `OutOfRange` or\n",
      "        `StopIteration` error. If set, `steps` must be `None`. If `OutOfRange`\n",
      "        or `StopIteration` error occurs in the middle, training stops before\n",
      "        `max_steps` steps.\n",
      "    \n",
      "        Two calls to `train(steps=100)` means 200 training\n",
      "        iterations. On the other hand, two calls to `train(max_steps=100)` means\n",
      "        that the second call will not do any iteration since first call did\n",
      "        all 100 steps.\n",
      "    \n",
      "    Returns:\n",
      "      `self`, for chaining.\n",
      "    \n",
      "    Raises:\n",
      "      ValueError: If both `steps` and `max_steps` are not `None`.\n",
      "      ValueError: If either `steps` or `max_steps` is <= 0.\n",
      "\n"
     ]
    }
   ],
   "source": [
    "help(linear_regressor.train)"
   ]
  },
  {
   "cell_type": "code",
   "execution_count": 26,
   "metadata": {},
   "outputs": [
    {
     "name": "stdout",
     "output_type": "stream",
     "text": [
      "Help on method evaluate in module tensorflow.python.estimator.estimator:\n",
      "\n",
      "evaluate(input_fn, steps=None, hooks=None, checkpoint_path=None, name=None) method of tensorflow.python.estimator.estimator.Estimator instance\n",
      "    Evaluates the model given evaluation data input_fn.\n",
      "    \n",
      "    For each step, calls `input_fn`, which returns one batch of data.\n",
      "    Evaluates until:\n",
      "    - `steps` batches are processed, or\n",
      "    - `input_fn` raises an end-of-input exception (`OutOfRangeError` or\n",
      "    `StopIteration`).\n",
      "    \n",
      "    Args:\n",
      "      input_fn: Input function returning a tuple of:\n",
      "          features - Dictionary of string feature name to `Tensor` or\n",
      "            `SparseTensor`.\n",
      "          labels - `Tensor` or dictionary of `Tensor` with labels.\n",
      "      steps: Number of steps for which to evaluate model. If `None`, evaluates\n",
      "        until `input_fn` raises an end-of-input exception.\n",
      "      hooks: List of `SessionRunHook` subclass instances. Used for callbacks\n",
      "        inside the evaluation call.\n",
      "      checkpoint_path: Path of a specific checkpoint to evaluate. If `None`, the\n",
      "        latest checkpoint in `model_dir` is used.\n",
      "      name: Name of the evaluation if user needs to run multiple evaluations on\n",
      "        different data sets, such as on training data vs test data. Metrics for\n",
      "        different evaluations are saved in separate folders, and appear\n",
      "        separately in tensorboard.\n",
      "    \n",
      "    Returns:\n",
      "      A dict containing the evaluation metrics specified in `model_fn` keyed by\n",
      "      name, as well as an entry `global_step` which contains the value of the\n",
      "      global step for which this evaluation was performed.\n",
      "    \n",
      "    Raises:\n",
      "      ValueError: If `steps <= 0`.\n",
      "      ValueError: If no model has been trained, namely `model_dir`, or the\n",
      "        given `checkpoint_path` is empty.\n",
      "\n"
     ]
    }
   ],
   "source": [
    "help(linear_regressor.evaluate)"
   ]
  },
  {
   "cell_type": "code",
   "execution_count": null,
   "metadata": {},
   "outputs": [],
   "source": []
  },
  {
   "cell_type": "markdown",
   "metadata": {},
   "source": [
    "## About learn module in tensorflow\n",
    "\n",
    "- http://terrytangyuan.github.io/2016/06/09/scikit-flow-v09/\n",
    "\n",
    "\n",
    "BaseEstimator is the abstract and base class for training and evaluating TensorFlow models. It provides the basic functionalities like `fit()`, `partial_fit()`, `evaluate()`, and `predict()` by utilizing detailed logics hidden in `graph_actions.py`."
   ]
  },
  {
   "cell_type": "code",
   "execution_count": 30,
   "metadata": {
    "collapsed": true
   },
   "outputs": [],
   "source": [
    "#### Using learnºº\n",
    "from tensorflow.contrib import learn\n",
    "from tensorflow.contrib.learn.python.learn.estimators import model_fn as model_fn_lib"
   ]
  },
  {
   "cell_type": "code",
   "execution_count": 33,
   "metadata": {},
   "outputs": [
    {
     "name": "stdout",
     "output_type": "stream",
     "text": [
      "Help on class ModelFnOps in module tensorflow.contrib.learn.python.learn.estimators.model_fn:\n",
      "\n",
      "class ModelFnOps(ModelFnOps)\n",
      " |  Ops returned from a model_fn.\n",
      " |  \n",
      " |  Method resolution order:\n",
      " |      ModelFnOps\n",
      " |      ModelFnOps\n",
      " |      builtins.tuple\n",
      " |      builtins.object\n",
      " |  \n",
      " |  Methods defined here:\n",
      " |  \n",
      " |  estimator_spec(self, default_serving_output_alternative_key=None)\n",
      " |      Creates an equivalent `EstimatorSpec`.\n",
      " |      \n",
      " |      Args:\n",
      " |        default_serving_output_alternative_key: Required for multiple heads. If\n",
      " |          you have multiple entries in `output_alternatives` dict (comparable to\n",
      " |          multiple heads), `EstimatorSpec` requires a default head that will be\n",
      " |          used if a Servo request does not explicitly mention which head to infer\n",
      " |          on. Pass the key of the output alternative here that you want to\n",
      " |          designate as default. A separate ExportOutpout for this default head\n",
      " |          wil be added to the export_outputs dict with the special key\n",
      " |          signature_constants.DEFAULT_SERVING_SIGNATURE_DEF_KEY, unless there is\n",
      " |          already an enry in output_alternatives with this special key.\n",
      " |      \n",
      " |      Returns:\n",
      " |        Instance of `EstimatorSpec` that is equivalent to this `ModelFnOps`\n",
      " |      \n",
      " |      Raises:\n",
      " |        ValueError: If problem type is unknown.\n",
      " |  \n",
      " |  ----------------------------------------------------------------------\n",
      " |  Static methods defined here:\n",
      " |  \n",
      " |  __new__(cls, mode, predictions=None, loss=None, train_op=None, eval_metric_ops=None, output_alternatives=None, training_chief_hooks=None, training_hooks=None, scaffold=None)\n",
      " |      Creates a validated `ModelFnOps` instance.\n",
      " |      \n",
      " |      For a multi-headed model, the predictions dict here will contain the outputs\n",
      " |      of all of the heads.  However: at serving time, requests will be made\n",
      " |      specifically for one or more heads, and the RPCs used for these requests may\n",
      " |      differ by problem type (i.e., regression, classification, other).  The\n",
      " |      purpose of the output_alternatives dict is to aid in exporting a SavedModel\n",
      " |      from which such head-specific queries can be served.  These\n",
      " |      output_alternatives will be combined with input_alternatives (see\n",
      " |      `saved_model_export_utils`) to produce a set of `SignatureDef`s specifying\n",
      " |      the valid requests that can be served from this model.\n",
      " |      \n",
      " |      For a single-headed model, it is still adviseable to provide\n",
      " |      output_alternatives with a single entry, because this is how the problem\n",
      " |      type is communicated for export and serving.  If output_alternatives is not\n",
      " |      given, the resulting SavedModel will support only one head of unspecified\n",
      " |      type.\n",
      " |      \n",
      " |      Args:\n",
      " |        mode: One of `ModeKeys`. Specifies if this training, evaluation or\n",
      " |          prediction.\n",
      " |        predictions: Predictions `Tensor` or dict of `Tensor`.\n",
      " |        loss: Training loss `Tensor`.\n",
      " |        train_op: Op for the training step.\n",
      " |        eval_metric_ops: Dict of metric results keyed by name. The values of the\n",
      " |          dict are the results of calling a metric function, such as `Tensor`.\n",
      " |        output_alternatives: a dict of\n",
      " |          `{submodel_name: (problem_type, {tensor_name: Tensor})}`, where\n",
      " |          `submodel_name` is a submodel identifier that should be consistent\n",
      " |          across the pipeline (here likely taken from the name of each `Head`,\n",
      " |          for models that use them), `problem_type` is a `ProblemType`,\n",
      " |          `tensor_name` is a symbolic name for an output Tensor possibly but not\n",
      " |          necessarily taken from `PredictionKey`, and `Tensor` is the\n",
      " |          corresponding output Tensor itself.\n",
      " |        training_chief_hooks: A list of `SessionRunHook` objects that will be\n",
      " |          run on the chief worker during training.\n",
      " |        training_hooks: A list of `SessionRunHook` objects that will be run on\n",
      " |          all workers during training.\n",
      " |        scaffold: A `tf.train.Scaffold` object that can be used to set\n",
      " |          initialization, saver, and more to be used in training.\n",
      " |      \n",
      " |      Returns:\n",
      " |        A validated `ModelFnOps` object.\n",
      " |      \n",
      " |      Raises:\n",
      " |        ValueError: If validation fails.\n",
      " |  \n",
      " |  ----------------------------------------------------------------------\n",
      " |  Data descriptors defined here:\n",
      " |  \n",
      " |  __dict__\n",
      " |      dictionary for instance variables (if defined)\n",
      " |  \n",
      " |  ----------------------------------------------------------------------\n",
      " |  Methods inherited from ModelFnOps:\n",
      " |  \n",
      " |  __getnewargs__(self)\n",
      " |      Return self as a plain tuple.  Used by copy and pickle.\n",
      " |  \n",
      " |  __repr__(self)\n",
      " |      Return a nicely formatted representation string\n",
      " |  \n",
      " |  _asdict(self)\n",
      " |      Return a new OrderedDict which maps field names to their values.\n",
      " |  \n",
      " |  _replace(_self, **kwds)\n",
      " |      Return a new ModelFnOps object replacing specified fields with new values\n",
      " |  \n",
      " |  ----------------------------------------------------------------------\n",
      " |  Class methods inherited from ModelFnOps:\n",
      " |  \n",
      " |  _make(iterable, new=<built-in method __new__ of type object at 0x7f2f468ad3c0>, len=<built-in function len>) from builtins.type\n",
      " |      Make a new ModelFnOps object from a sequence or iterable\n",
      " |  \n",
      " |  ----------------------------------------------------------------------\n",
      " |  Data descriptors inherited from ModelFnOps:\n",
      " |  \n",
      " |  predictions\n",
      " |      Alias for field number 0\n",
      " |  \n",
      " |  loss\n",
      " |      Alias for field number 1\n",
      " |  \n",
      " |  train_op\n",
      " |      Alias for field number 2\n",
      " |  \n",
      " |  eval_metric_ops\n",
      " |      Alias for field number 3\n",
      " |  \n",
      " |  output_alternatives\n",
      " |      Alias for field number 4\n",
      " |  \n",
      " |  training_chief_hooks\n",
      " |      Alias for field number 5\n",
      " |  \n",
      " |  training_hooks\n",
      " |      Alias for field number 6\n",
      " |  \n",
      " |  scaffold\n",
      " |      Alias for field number 7\n",
      " |  \n",
      " |  mode\n",
      " |      Alias for field number 8\n",
      " |  \n",
      " |  ----------------------------------------------------------------------\n",
      " |  Data and other attributes inherited from ModelFnOps:\n",
      " |  \n",
      " |  _fields = ('predictions', 'loss', 'train_op', 'eval_metric_ops', 'outp...\n",
      " |  \n",
      " |  _source = \"from builtins import property as _property, tupl..._itemget...\n",
      " |  \n",
      " |  ----------------------------------------------------------------------\n",
      " |  Methods inherited from builtins.tuple:\n",
      " |  \n",
      " |  __add__(self, value, /)\n",
      " |      Return self+value.\n",
      " |  \n",
      " |  __contains__(self, key, /)\n",
      " |      Return key in self.\n",
      " |  \n",
      " |  __eq__(self, value, /)\n",
      " |      Return self==value.\n",
      " |  \n",
      " |  __ge__(self, value, /)\n",
      " |      Return self>=value.\n",
      " |  \n",
      " |  __getattribute__(self, name, /)\n",
      " |      Return getattr(self, name).\n",
      " |  \n",
      " |  __getitem__(self, key, /)\n",
      " |      Return self[key].\n",
      " |  \n",
      " |  __gt__(self, value, /)\n",
      " |      Return self>value.\n",
      " |  \n",
      " |  __hash__(self, /)\n",
      " |      Return hash(self).\n",
      " |  \n",
      " |  __iter__(self, /)\n",
      " |      Implement iter(self).\n",
      " |  \n",
      " |  __le__(self, value, /)\n",
      " |      Return self<=value.\n",
      " |  \n",
      " |  __len__(self, /)\n",
      " |      Return len(self).\n",
      " |  \n",
      " |  __lt__(self, value, /)\n",
      " |      Return self<value.\n",
      " |  \n",
      " |  __mul__(self, value, /)\n",
      " |      Return self*value.n\n",
      " |  \n",
      " |  __ne__(self, value, /)\n",
      " |      Return self!=value.\n",
      " |  \n",
      " |  __rmul__(self, value, /)\n",
      " |      Return self*value.\n",
      " |  \n",
      " |  count(...)\n",
      " |      T.count(value) -> integer -- return number of occurrences of value\n",
      " |  \n",
      " |  index(...)\n",
      " |      T.index(value, [start, [stop]]) -> integer -- return first index of value.\n",
      " |      Raises ValueError if the value is not present.\n",
      "\n"
     ]
    }
   ],
   "source": [
    "help(model_fn_lib.ModelFnOps)"
   ]
  },
  {
   "cell_type": "code",
   "execution_count": 29,
   "metadata": {
    "collapsed": true
   },
   "outputs": [],
   "source": [
    "def model_fn(features, labels, mode):\n",
    "    \n",
    "    model_fn_lib.ModelFnOps(mode=mode,\n",
    "                            predictions=predictions,\n",
    "                            loss=loss,\n",
    "                            train_op=train_op)"
   ]
  },
  {
   "cell_type": "markdown",
   "metadata": {},
   "source": [
    "### Saving a session with saver = tf.train.Saver()"
   ]
  },
  {
   "cell_type": "code",
   "execution_count": null,
   "metadata": {
    "collapsed": true
   },
   "outputs": [],
   "source": [
    "with tf.Session(graph=linear_regression_graph) as sess:\n",
    "    sess.run(tf.global_variables_initializer())   # equivalently sess.run(init)\n",
    "    print(\"\\nParameters before learning\")\n",
    "    print(\"weights before training: \",sess.run([W]))\n",
    "    print(\"bias before training: \",sess.run([b]))\n",
    "    y_hat = sess.run(y_pred, feed_dict={pl_x:x})\n",
    "\n",
    "plt.title(\"Solution of the linear regressor BEFORE training\", color=\"red\")\n",
    "plt.plot(x, y_hat, color=\"red\")\n",
    "plt.plot(x, y,\"blue\")"
   ]
  },
  {
   "cell_type": "code",
   "execution_count": null,
   "metadata": {
    "collapsed": true,
    "scrolled": false
   },
   "outputs": [],
   "source": [
    "n_epochs = 80\n",
    "batch_size = 50\n",
    "indices_batches = [ x for x in range(0, len(x) + 1, batch_size) ]\n",
    "print_every_k = 10\n",
    "\n",
    "with tf.Session(graph=linear_regression_graph) as sess:\n",
    "    sess.run(tf.global_variables_initializer())\n",
    "    print(\"\\nParameters before learning\")\n",
    "    print(\"weights before trainin: \",sess.run([W]))\n",
    "    print(\"bias before trainin: \",sess.run([b]))\n",
    "    print(\"\")\n",
    "\n",
    "    for epoch in range(n_epochs):\n",
    "        mean_loss = []\n",
    "        for b_beg, b_end in zip(indices_batches[0:-1], indices_batches[1:]):\n",
    "            _, l = sess.run([optimizer, loss], feed_dict={pl_x: x[b_beg:b_end], \n",
    "                                                          pl_y: y[b_beg:b_end]})\n",
    "            mean_loss.append(l)\n",
    "        if epoch % print_every_k+1 ==1:\n",
    "            print(\"epoch: \", epoch, \" loss: \", np.mean(mean_loss))\n",
    "        #writer = tf.summary.FileWriter('./my_graph/linear_reg', sess.graph)\n",
    "    #saver.save(sess, \"./saved_tests/linear_regression.cpkt\")\n",
    "    \n",
    "    #saver.export_meta_graph(\"./saved_tests/linear_regression_saver.meta\")\n",
    "    print(\"\\nParameters after learning\")\n",
    "    print(\"weights after training: \",sess.run([W]))\n",
    "    print(\"bias after training: \",sess.run([b]))\n",
    "\n",
    "    ### This saves the graph in a file so we can load it later on\n",
    "    #saver.save(sess, \"./saved_tests/linear_regression.cpkt\")\n",
    "    saver.save(sess, \"./saved_tests/linear_regression_saver2.ckpt\")\n",
    "    \n",
    "    tf.train.export_meta_graph(\"./saved_tests/linear_regression.cpkt\")\n",
    "    #tf.train.export_meta_graph(\"./saved_tests/linear_regression.cpkt\")\n"
   ]
  },
  {
   "cell_type": "code",
   "execution_count": null,
   "metadata": {
    "collapsed": true
   },
   "outputs": [],
   "source": [
    "with tf.Session(graph=linear_regression_graph) as sess:\n",
    "    saver.restore(sess,\"./saved_tests/linear_regression_saver2.ckpt\") \n",
    "    print(\"\\nParameters after learning\")\n",
    "    print(\"weights before training: \",sess.run([W]))\n",
    "    print(\"bias before training: \",sess.run([b]))\n",
    "    y_hat = sess.run(y_pred, feed_dict={pl_x:x})\n",
    "\n",
    "plt.title(\"Solution of the linear regressor AFTER training\", color=\"red\")\n",
    "plt.plot(x, y_hat, color=\"red\")\n",
    "plt.plot(x, y,\"blue\")"
   ]
  },
  {
   "cell_type": "markdown",
   "metadata": {},
   "source": [
    "### Retraining in a new session using a past saved session"
   ]
  },
  {
   "cell_type": "code",
   "execution_count": null,
   "metadata": {
    "collapsed": true
   },
   "outputs": [],
   "source": [
    "tf.reset_default_graph()\n",
    "batch_size_ = 10\n",
    "n_features_ = 1\n",
    "linear_regression_graph = tf.Graph()\n",
    "seed_val = 123\n",
    "\n",
    "with linear_regression_graph.as_default():\n",
    "    batch_size = batch_size_\n",
    "    n_features = n_features_\n",
    "\n",
    "    pl_x = tf.placeholder(name=\"pl_x\", dtype=tf.float32, shape=(None, 1))\n",
    "    pl_y = tf.placeholder(name=\"pl_y\", dtype=tf.float32, shape=(None, 1))\n",
    "    W = tf.get_variable(\"weights\", (1,1), initializer=tf.random_normal_initializer(seed=seed_val))\n",
    "    b = tf.get_variable(\"bias\", (1,), initializer=tf.constant_initializer(0.))\n",
    "    y_pred = tf.matmul(pl_x, W) + b    \n",
    "    loss = tf.reduce_mean((pl_y - y_pred)**2/batch_size)\n",
    "    \n",
    "    optimizer = tf.train.GradientDescentOptimizer(learning_rate=0.001).minimize(loss)\n",
    "    \n",
    "    # Add allways the  tf.global_variables_initializer() and tf.Saver() in the graph\n",
    "    init = tf.global_variables_initializer()   \n",
    "    saver = tf.train.Saver()\n",
    "    #saver.save(as_default, \"./saved_tests/linear_regression_saver.ckpt\")\n",
    "    pprint.pprint(tf.global_variables())\n"
   ]
  },
  {
   "cell_type": "code",
   "execution_count": null,
   "metadata": {
    "collapsed": true
   },
   "outputs": [],
   "source": [
    "tf.reset_default_graph()\n",
    "batch_size = 80\n",
    "n_epochs = 50\n",
    "indices_batches = [ x for x in range(0, len(x) + 1, batch_size) ]\n",
    "\n",
    "with tf.Session(graph=linear_regression_graph) as sess:\n",
    "    saver.restore(sess,\"./saved_tests/linear_regression_saver2.ckpt\") \n",
    "    #saver.import_meta_graph(\"./saved_tests/linear_regression_saver.meta\")\n",
    "    print(\"\\n\\nShow me W and b\")\n",
    "    print(\"weights after training: \",sess.run([W]))\n",
    "    print(\"bias after training: \",sess.run([b]), \"\\n\")\n",
    "    \n",
    "    for epoch in range(n_epochs):\n",
    "        mean_loss = []\n",
    "        for b_beg, b_end in zip(indices_batches[0:-1], indices_batches[1:]):\n",
    "            _, l = sess.run([optimizer, loss], feed_dict={pl_x: x[b_beg:b_end], \n",
    "                                                          pl_y: y[b_beg:b_end]})\n",
    "            mean_loss.append(l)\n",
    "        print(\"epoch: \", epoch, \" loss: \", np.mean(mean_loss))\n"
   ]
  },
  {
   "cell_type": "code",
   "execution_count": null,
   "metadata": {
    "collapsed": true
   },
   "outputs": [],
   "source": [
    "#with tf.gfile.FastGFile(\"./saved_tests/linear_regression.cpkt\") as f:\n",
    "#    graph_def = tf.GraphDef()\n",
    "#    graph_def.ParseFromString(f.read())\n",
    "#    _ = tf.import_graph_def(graph_def, name=\"\")"
   ]
  },
  {
   "cell_type": "markdown",
   "metadata": {
    "collapsed": true
   },
   "source": [
    "### Export a MetaGraph\n",
    "\n",
    "A MetaGraph contains both a TensorFlow GraphDef as well as associated metadata necessary for running computation in a graph when crossing a process boundary. It can also be used for long term storage of graphs.\n",
    "\n",
    "The MetaGraph contains the information required to continue training, perform evaluation, or run inference on a previously trained graph.\n",
    "\n",
    "The APIs for exporting and importing the complete model are in the ``tf.train.Saver`` class: ``tf.train.export_meta_graph`` and ``tf.train.import_meta_graph``.\n",
    "\n",
    "#### Inside a metagraph\n",
    "\n",
    "The information contained in a MetaGraph is expressed as a MetaGraphDef protocol buffer. It contains the following fields:\n",
    "\n",
    "- **MetaInfoDef** for meta information, such as version and other user information.\n",
    "\n",
    "- **GraphDef** for describing the graph.\n",
    "\n",
    "- **SaverDef** for the saver.\n",
    "\n",
    "- **CollectionDef** map that further describes additional components of the model, such as ``Variables``, ``tf.train.QueueRunner``, etc. In order for a Python object to be serialized to and from MetaGraphDef, the Python class must implement ``to_proto()`` and ``from_proto()`` methods, and register them with the system using register_proto_function.\n"
   ]
  },
  {
   "cell_type": "code",
   "execution_count": null,
   "metadata": {
    "collapsed": true
   },
   "outputs": [],
   "source": []
  },
  {
   "cell_type": "code",
   "execution_count": null,
   "metadata": {
    "collapsed": true
   },
   "outputs": [],
   "source": []
  },
  {
   "cell_type": "code",
   "execution_count": null,
   "metadata": {
    "collapsed": true
   },
   "outputs": [],
   "source": []
  },
  {
   "cell_type": "code",
   "execution_count": null,
   "metadata": {
    "collapsed": true
   },
   "outputs": [],
   "source": []
  },
  {
   "cell_type": "markdown",
   "metadata": {},
   "source": [
    "## About a tf.estimator.Estimator (not used in the notebook)\n",
    "\n",
    "\n",
    "- http://terrytangyuan.github.io/2016/07/08/understand-and-build-tensorflow-estimator/\n",
    "\n",
    "- http://blog.mdda.net/ai/2017/02/25/estimator-input-fn\n",
    "\n",
    "- https://www.youtube.com/watch?v=5DknTFbcGVM&t=8s&list=PLOU2XLYxmsIKC8eODk_RNCWv3fBcLvMMy&index=47\n",
    "\n",
    "The source code is in `tensorflow/python/estimator/estimator.py`.\n",
    "\n",
    "The **`Estimator`** object is the standard way to wrap a model in Tensorflow. \n",
    "In order to build an **`Estimator`** we need to specify:\n",
    "\n",
    "-  **`train_op`** \n",
    "-  **`eval_op`**\n",
    "-  **`predictions`**\n",
    "\n",
    "#### Overview of the parts \n",
    "\n",
    "- **`model_fn`** must return the ops necesary to perform trainig, evaluation or predictions.\n",
    "\n"
   ]
  },
  {
   "cell_type": "code",
   "execution_count": null,
   "metadata": {
    "collapsed": true
   },
   "outputs": [],
   "source": []
  }
 ],
 "metadata": {
  "kernelspec": {
   "display_name": "Python [conda env:tensorflow]",
   "language": "python",
   "name": "conda-env-tensorflow-py"
  },
  "language_info": {
   "codemirror_mode": {
    "name": "ipython",
    "version": 3
   },
   "file_extension": ".py",
   "mimetype": "text/x-python",
   "name": "python",
   "nbconvert_exporter": "python",
   "pygments_lexer": "ipython3",
   "version": "3.6.1"
  }
 },
 "nbformat": 4,
 "nbformat_minor": 2
}

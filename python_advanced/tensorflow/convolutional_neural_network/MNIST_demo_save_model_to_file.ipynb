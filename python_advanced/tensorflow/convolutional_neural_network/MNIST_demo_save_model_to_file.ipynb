{
 "cells": [
  {
   "cell_type": "markdown",
   "metadata": {},
   "source": [
    "# Convolutional neural network tested on the mnist data\n",
    "\n",
    "\n",
    "https://martin-thoma.com/tensor-flow-quick/"
   ]
  },
  {
   "cell_type": "code",
   "execution_count": 40,
   "metadata": {
    "collapsed": false
   },
   "outputs": [],
   "source": [
    "import tensorflow as tf\n",
    "import numpy as np"
   ]
  },
  {
   "cell_type": "code",
   "execution_count": 2,
   "metadata": {
    "collapsed": false
   },
   "outputs": [
    {
     "name": "stdout",
     "output_type": "stream",
     "text": [
      "Extracting tmp/data/train-images-idx3-ubyte.gz\n",
      "Extracting tmp/data/train-labels-idx1-ubyte.gz\n",
      "Extracting tmp/data/t10k-images-idx3-ubyte.gz\n",
      "Extracting tmp/data/t10k-labels-idx1-ubyte.gz\n"
     ]
    }
   ],
   "source": [
    "# Import MINST data\n",
    "from tensorflow.examples.tutorials.mnist import input_data\n",
    "mnist = input_data.read_data_sets(\"tmp/data/\", one_hot=True)"
   ]
  },
  {
   "cell_type": "markdown",
   "metadata": {},
   "source": [
    "#### Dataset Mnist"
   ]
  },
  {
   "cell_type": "code",
   "execution_count": 3,
   "metadata": {
    "collapsed": false
   },
   "outputs": [
    {
     "data": {
      "text/plain": [
       "tensorflow.contrib.learn.python.learn.datasets.base.Datasets"
      ]
     },
     "execution_count": 3,
     "metadata": {},
     "output_type": "execute_result"
    }
   ],
   "source": [
    "type(mnist)"
   ]
  },
  {
   "cell_type": "code",
   "execution_count": 4,
   "metadata": {
    "collapsed": false
   },
   "outputs": [
    {
     "data": {
      "text/plain": [
       "(55000, 784)"
      ]
     },
     "execution_count": 4,
     "metadata": {},
     "output_type": "execute_result"
    }
   ],
   "source": [
    "mnist.train.images.shape"
   ]
  },
  {
   "cell_type": "code",
   "execution_count": 5,
   "metadata": {
    "collapsed": false
   },
   "outputs": [
    {
     "data": {
      "text/plain": [
       "(55000, 10)"
      ]
     },
     "execution_count": 5,
     "metadata": {},
     "output_type": "execute_result"
    }
   ],
   "source": [
    "mnist.train.labels.shape"
   ]
  },
  {
   "cell_type": "code",
   "execution_count": 6,
   "metadata": {
    "collapsed": false
   },
   "outputs": [
    {
     "data": {
      "text/plain": [
       "55000"
      ]
     },
     "execution_count": 6,
     "metadata": {},
     "output_type": "execute_result"
    }
   ],
   "source": [
    "mnist.train.num_examples"
   ]
  },
  {
   "cell_type": "markdown",
   "metadata": {},
   "source": [
    "## Define the model"
   ]
  },
  {
   "cell_type": "code",
   "execution_count": 7,
   "metadata": {
    "collapsed": true
   },
   "outputs": [],
   "source": [
    "learning_rate = 0.001\n",
    "training_iters = 100000\n",
    "batch_size = 128\n",
    "display_step = 20"
   ]
  },
  {
   "cell_type": "code",
   "execution_count": 8,
   "metadata": {
    "collapsed": true
   },
   "outputs": [],
   "source": [
    "# Network Parameters\n",
    "n_input = 784 # MNIST data input (img shape: 28*28)\n",
    "n_classes = 10 # MNIST total classes (0-9 digits)\n",
    "dropout = 0.75 # Dropout, probability to keep units"
   ]
  },
  {
   "cell_type": "code",
   "execution_count": 9,
   "metadata": {
    "collapsed": true
   },
   "outputs": [],
   "source": [
    "# tf Graph input\n",
    "x = tf.placeholder(tf.float32, [None, n_input])\n",
    "y = tf.placeholder(tf.float32, [None, n_classes])\n",
    "keep_prob = tf.placeholder(tf.float32) #dropout (keep probability)"
   ]
  },
  {
   "cell_type": "code",
   "execution_count": 10,
   "metadata": {
    "collapsed": true
   },
   "outputs": [],
   "source": [
    "# Create model\n",
    "def conv2d(img, w, b):\n",
    "    return tf.nn.relu(tf.nn.bias_add(tf.nn.conv2d(img, w, strides=[1, 1, 1, 1], \n",
    "                                                  padding='SAME'),b))\n",
    "\n",
    "def max_pool(img, k):\n",
    "    return tf.nn.max_pool(img, ksize=[1, k, k, 1], strides=[1, k, k, 1], padding='SAME')\n",
    "\n",
    "def conv_net(_X, _weights, _biases, _dropout):\n",
    "    # Reshape input picture\n",
    "    _X = tf.reshape(_X, shape=[-1, 28, 28, 1])\n",
    "\n",
    "    # Convolution Layer\n",
    "    conv1 = conv2d(_X, _weights['wc1'], _biases['bc1'])\n",
    "    # Max Pooling (down-sampling)\n",
    "    conv1 = max_pool(conv1, k=2)\n",
    "    # Apply Dropout\n",
    "    conv1 = tf.nn.dropout(conv1, _dropout)\n",
    "\n",
    "    # Convolution Layer\n",
    "    conv2 = conv2d(conv1, _weights['wc2'], _biases['bc2'])\n",
    "    # Max Pooling (down-sampling)\n",
    "    conv2 = max_pool(conv2, k=2)\n",
    "    # Apply Dropout\n",
    "    conv2 = tf.nn.dropout(conv2, _dropout)\n",
    "\n",
    "    # Fully connected layer\n",
    "    # Reshape conv2 output to fit dense layer input\n",
    "    dense1 = tf.reshape(conv2, [-1, _weights['wd1'].get_shape().as_list()[0]]) \n",
    "    # Relu activation\n",
    "    dense1 = tf.nn.relu(tf.add(tf.matmul(dense1, _weights['wd1']), _biases['bd1']))\n",
    "    # Apply Dropout\n",
    "    dense1 = tf.nn.dropout(dense1, _dropout) # Apply Dropout\n",
    "\n",
    "    # Output, class prediction\n",
    "    out = tf.add(tf.matmul(dense1, _weights['out']), _biases['out'])\n",
    "    return out"
   ]
  },
  {
   "cell_type": "code",
   "execution_count": 11,
   "metadata": {
    "collapsed": true
   },
   "outputs": [],
   "source": [
    "# Store layers weight & bias\n",
    "weights = {\n",
    "    # 5x5 conv, 1 input, 32 outputs\n",
    "    'wc1': tf.Variable(tf.random_normal([5, 5, 1, 32])), \n",
    "    # 5x5 conv, 32 inputs, 64 outputs\n",
    "    'wc2': tf.Variable(tf.random_normal([5, 5, 32, 64])), \n",
    "    # fully connected, 7*7*64 inputs, 1024 outputs\n",
    "    'wd1': tf.Variable(tf.random_normal([7*7*64, 1024])), \n",
    "    # 1024 inputs, 10 outputs (class prediction)\n",
    "    'out': tf.Variable(tf.random_normal([1024, n_classes])) \n",
    "}\n",
    "\n",
    "biases = {\n",
    "    'bc1': tf.Variable(tf.random_normal([32])),\n",
    "    'bc2': tf.Variable(tf.random_normal([64])),\n",
    "    'bd1': tf.Variable(tf.random_normal([1024])),\n",
    "    'out': tf.Variable(tf.random_normal([n_classes]))\n",
    "}"
   ]
  },
  {
   "cell_type": "code",
   "execution_count": 12,
   "metadata": {
    "collapsed": true
   },
   "outputs": [],
   "source": [
    "# Construct model\n",
    "pred = conv_net(x, weights, biases, keep_prob)"
   ]
  },
  {
   "cell_type": "code",
   "execution_count": 13,
   "metadata": {
    "collapsed": true
   },
   "outputs": [],
   "source": [
    "# Define loss and optimizer\n",
    "cost = tf.reduce_mean(tf.nn.softmax_cross_entropy_with_logits(pred, y))\n",
    "optimizer = tf.train.AdamOptimizer(learning_rate=learning_rate).minimize(cost)"
   ]
  },
  {
   "cell_type": "code",
   "execution_count": 33,
   "metadata": {
    "collapsed": true
   },
   "outputs": [],
   "source": [
    "# Evaluate model\n",
    "correct_pred = tf.equal(tf.argmax(pred,1), tf.argmax(y,1))\n",
    "accuracy = tf.reduce_mean(tf.cast(correct_pred, tf.float32))"
   ]
  },
  {
   "cell_type": "markdown",
   "metadata": {},
   "source": [
    "#### Train the model and save it to file\n",
    "\n",
    "Notice that we will use  ```saver = tf.train.Saver()``` to save the model into disk\n",
    "\n",
    "    saver = tf.train.Saver()\n",
    "    # Stuff here: train the model\n",
    "    saver.save(sess, './model')\n",
    "\n",
    "Doing so we will save the session into ```./mode```.\n",
    "\n",
    "Afterward we ran restore the  session \n",
    "\n",
    "\n"
   ]
  },
  {
   "cell_type": "code",
   "execution_count": 15,
   "metadata": {
    "collapsed": false
   },
   "outputs": [
    {
     "name": "stdout",
     "output_type": "stream",
     "text": [
      "Iter  2560 , Minibatch Loss=  12293.529297 , Training Accuracy=  0.35156\n",
      "Iter  5120 , Minibatch Loss=  7141.931641 , Training Accuracy=  0.60938\n",
      "Iter  7680 , Minibatch Loss=  8345.753906 , Training Accuracy=  0.58594\n",
      "Iter  10240 , Minibatch Loss=  4800.775391 , Training Accuracy=  0.68750\n",
      "Iter  12800 , Minibatch Loss=  4279.565430 , Training Accuracy=  0.72656\n",
      "Iter  15360 , Minibatch Loss=  2340.699707 , Training Accuracy=  0.75000\n",
      "Iter  17920 , Minibatch Loss=  1896.912354 , Training Accuracy=  0.82812\n",
      "Iter  20480 , Minibatch Loss=  1378.325317 , Training Accuracy=  0.87500\n",
      "Iter  23040 , Minibatch Loss=  1783.575439 , Training Accuracy=  0.86719\n",
      "Iter  25600 , Minibatch Loss=  2055.001465 , Training Accuracy=  0.82031\n",
      "Iter  28160 , Minibatch Loss=  1484.470093 , Training Accuracy=  0.87500\n",
      "Iter  30720 , Minibatch Loss=  1719.613403 , Training Accuracy=  0.85938\n",
      "Iter  33280 , Minibatch Loss=  1617.190918 , Training Accuracy=  0.88281\n",
      "Iter  35840 , Minibatch Loss=  685.861206 , Training Accuracy=  0.92188\n",
      "Iter  38400 , Minibatch Loss=  292.538635 , Training Accuracy=  0.93750\n",
      "Iter  40960 , Minibatch Loss=  2031.795166 , Training Accuracy=  0.83594\n",
      "Iter  43520 , Minibatch Loss=  568.460571 , Training Accuracy=  0.93750\n",
      "Iter  46080 , Minibatch Loss=  396.012390 , Training Accuracy=  0.94531\n",
      "Iter  48640 , Minibatch Loss=  1605.166382 , Training Accuracy=  0.85938\n",
      "Iter  51200 , Minibatch Loss=  740.131470 , Training Accuracy=  0.89844\n",
      "Iter  53760 , Minibatch Loss=  251.822723 , Training Accuracy=  0.94531\n",
      "Iter  56320 , Minibatch Loss=  577.068481 , Training Accuracy=  0.95312\n",
      "Iter  58880 , Minibatch Loss=  705.461426 , Training Accuracy=  0.91406\n",
      "Iter  61440 , Minibatch Loss=  1099.437744 , Training Accuracy=  0.88281\n",
      "Iter  64000 , Minibatch Loss=  699.273560 , Training Accuracy=  0.89844\n",
      "Iter  66560 , Minibatch Loss=  624.691895 , Training Accuracy=  0.91406\n",
      "Iter  69120 , Minibatch Loss=  487.605377 , Training Accuracy=  0.92188\n",
      "Iter  71680 , Minibatch Loss=  897.283813 , Training Accuracy=  0.89062\n",
      "Iter  74240 , Minibatch Loss=  868.239746 , Training Accuracy=  0.89062\n",
      "Iter  76800 , Minibatch Loss=  542.471191 , Training Accuracy=  0.92188\n",
      "Iter  79360 , Minibatch Loss=  1092.610596 , Training Accuracy=  0.92969\n",
      "Iter  81920 , Minibatch Loss=  1062.447754 , Training Accuracy=  0.88281\n",
      "Iter  84480 , Minibatch Loss=  471.845673 , Training Accuracy=  0.92188\n",
      "Iter  87040 , Minibatch Loss=  494.998016 , Training Accuracy=  0.92969\n",
      "Iter  89600 , Minibatch Loss=  1080.696777 , Training Accuracy=  0.86719\n",
      "Iter  92160 , Minibatch Loss=  317.204193 , Training Accuracy=  0.94531\n",
      "Iter  94720 , Minibatch Loss=  883.009644 , Training Accuracy=  0.92188\n",
      "Iter  97280 , Minibatch Loss=  586.140259 , Training Accuracy=  0.92969\n",
      "Iter  99840 , Minibatch Loss=  683.524780 , Training Accuracy=  0.94531\n",
      "Optimization Finished!\n",
      "Testing Accuracy: 0.9263\n"
     ]
    }
   ],
   "source": [
    "# Launch the graph\n",
    "with tf.Session() as sess:\n",
    "    sess.run(tf.initialize_all_variables())\n",
    "    saver = tf.train.Saver()    \n",
    "\n",
    "    step = 1\n",
    "    \n",
    "    # Keep training until reach max iterations\n",
    "    while step * batch_size < training_iters:\n",
    "        batch_xs, batch_ys = mnist.train.next_batch(batch_size)\n",
    "        \n",
    "        # Fit training using batch data\n",
    "        sess.run(optimizer, feed_dict={x: batch_xs, y: batch_ys, keep_prob: dropout})\n",
    "        if step % display_step == 0:\n",
    "            \n",
    "            # Calculate batch accuracy\n",
    "            acc = sess.run(accuracy, feed_dict={x: batch_xs, y: batch_ys, keep_prob: 1.})\n",
    "            \n",
    "            # Calculate batch loss\n",
    "            loss = sess.run(cost, feed_dict={x: batch_xs, y: batch_ys, keep_prob: 1.})\n",
    "            print (\"Iter \" , str(step*batch_size) , \", Minibatch Loss= \" , \n",
    "                  \"{:.6f}\".format(loss) , \", Training Accuracy= \" , \"{:.5f}\".format(acc))\n",
    "        \n",
    "        step += 1\n",
    "        \n",
    "    print (\"Optimization Finished!\")\n",
    "    \n",
    "    print (\"Testing Accuracy:\", sess.run(accuracy, feed_dict={x: mnist.test.images, \n",
    "                                                              y: mnist.test.labels, \n",
    "                                                              keep_prob: 1.}))\n",
    "    saver.save(sess, './model')\n"
   ]
  },
  {
   "cell_type": "markdown",
   "metadata": {},
   "source": [
    "### Reload the moden inside a with statement using a new session "
   ]
  },
  {
   "cell_type": "code",
   "execution_count": 23,
   "metadata": {
    "collapsed": false
   },
   "outputs": [
    {
     "name": "stdout",
     "output_type": "stream",
     "text": [
      "Prediction Accuracy: 0.9263\n"
     ]
    }
   ],
   "source": [
    "with tf.Session() as sess2:\n",
    "    loader = tf.train.import_meta_graph('model.meta')\n",
    "    loader.restore(sess2, tf.train.latest_checkpoint('./'))\n",
    "    batch_xs, batch_ys = mnist.test.next_batch(10000)\n",
    "    print (\"Prediction Accuracy:\", sess2.run(accuracy, feed_dict={x: batch_xs, y: batch_ys, keep_prob: 1.}))\n"
   ]
  },
  {
   "cell_type": "markdown",
   "metadata": {},
   "source": [
    "#### Reload the model and use it\n",
    "\n",
    "Once our model has been trained, how can we use it in order to predict the class for a new image?"
   ]
  },
  {
   "cell_type": "code",
   "execution_count": 35,
   "metadata": {
    "collapsed": false
   },
   "outputs": [],
   "source": [
    "loader = tf.train.import_meta_graph('model.meta')"
   ]
  },
  {
   "cell_type": "code",
   "execution_count": 36,
   "metadata": {
    "collapsed": true
   },
   "outputs": [],
   "source": [
    "sess2 = tf.Session()"
   ]
  },
  {
   "cell_type": "code",
   "execution_count": 37,
   "metadata": {
    "collapsed": false
   },
   "outputs": [],
   "source": [
    "loader.restore(sess2, tf.train.latest_checkpoint('./'))"
   ]
  },
  {
   "cell_type": "code",
   "execution_count": 38,
   "metadata": {
    "collapsed": false
   },
   "outputs": [
    {
     "data": {
      "text/plain": [
       "array([[ -1864.12023926,  18024.63867188,  -7051.08300781,  -4062.22607422,\n",
       "          7181.37890625,  -2401.61328125,   1641.59973145,   3584.84716797,\n",
       "          -611.53094482,   -857.90240479]], dtype=float32)"
      ]
     },
     "execution_count": 38,
     "metadata": {},
     "output_type": "execute_result"
    }
   ],
   "source": [
    "#output of the network for a given input\n",
    "\n",
    "sess2.run(pred, feed_dict={x: mnist.train.images[0:1], y: batch_ys, keep_prob: 1.})"
   ]
  },
  {
   "cell_type": "code",
   "execution_count": 41,
   "metadata": {
    "collapsed": false
   },
   "outputs": [
    {
     "data": {
      "text/plain": [
       "1"
      ]
     },
     "execution_count": 41,
     "metadata": {},
     "output_type": "execute_result"
    }
   ],
   "source": [
    "np.argmax(sess2.run(pred, feed_dict={x: mnist.train.images[0:1], y: batch_ys, keep_prob: 1.}))"
   ]
  },
  {
   "cell_type": "code",
   "execution_count": null,
   "metadata": {
    "collapsed": true
   },
   "outputs": [],
   "source": []
  }
 ],
 "metadata": {
  "anaconda-cloud": {},
  "kernelspec": {
   "display_name": "Python [default]",
   "language": "python",
   "name": "python3"
  },
  "language_info": {
   "codemirror_mode": {
    "name": "ipython",
    "version": 3
   },
   "file_extension": ".py",
   "mimetype": "text/x-python",
   "name": "python",
   "nbconvert_exporter": "python",
   "pygments_lexer": "ipython3",
   "version": "3.5.2"
  }
 },
 "nbformat": 4,
 "nbformat_minor": 0
}

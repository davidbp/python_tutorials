{
 "cells": [
  {
   "cell_type": "markdown",
   "metadata": {},
   "source": [
    "# Spark basics\n",
    "\n",
    "Spark applications runs as independent sets of executor processes.\n",
    "Eeach executor has dedicated memory space for executing parallel jobs within the application. The executors are coordinated by the driver program running on a coordinating node (or master node).\n",
    "\n",
    "Input data of Spark applications is stored in a shared filesystem which is organized as resilient distributed datasets (RDDs). An RDD is simply a collection of objects that can be operated on in parallel.\n",
    "\n",
    "Each Spark executor allocates its own heap memory space for caching RDDs. This work exploits the data parallel property of RDDs to characterize the application’s memory behavior without wasting computing cycles.\n",
    "\n",
    "\n",
    "## Important concepts for nodes\n",
    "\n",
    "- **Master node or Driver node**: Node that directs executor processes. Each process can contain several tasks.\n",
    "\n",
    "\n",
    "- **Worker node**: Node connected to the master node that executes processes.\n",
    "\n",
    "## A spark job\n",
    "\n",
    "Spark jobs have chains associated. A chain is a direct acyclic graph (DAG) \n",
    "\n",
    "- https://jaceklaskowski.gitbooks.io/mastering-apache-spark/content/spark-dagscheduler.html\n",
    "\n",
    "\n",
    "## Tunning spark jobs\n",
    "\n",
    "- https://blog.cloudera.com/blog/2015/03/how-to-tune-your-apache-spark-jobs-part-2/\n"
   ]
  },
  {
   "cell_type": "code",
   "execution_count": null,
   "metadata": {
    "collapsed": true
   },
   "outputs": [],
   "source": []
  },
  {
   "cell_type": "markdown",
   "metadata": {},
   "source": [
    "\n",
    "## Execution process\n",
    "\n"
   ]
  },
  {
   "cell_type": "code",
   "execution_count": null,
   "metadata": {
    "collapsed": true
   },
   "outputs": [],
   "source": []
  }
 ],
 "metadata": {
  "kernelspec": {
   "display_name": "Python 3",
   "language": "python",
   "name": "python3"
  },
  "language_info": {
   "codemirror_mode": {
    "name": "ipython",
    "version": 3
   },
   "file_extension": ".py",
   "mimetype": "text/x-python",
   "name": "python",
   "nbconvert_exporter": "python",
   "pygments_lexer": "ipython3",
   "version": "3.5.4"
  }
 },
 "nbformat": 4,
 "nbformat_minor": 1
}

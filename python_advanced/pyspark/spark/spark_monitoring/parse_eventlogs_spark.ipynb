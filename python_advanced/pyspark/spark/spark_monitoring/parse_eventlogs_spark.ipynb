{
 "cells": [
  {
   "cell_type": "markdown",
   "metadata": {},
   "source": [
    "## Parsing eventlogs\n",
    "\n",
    "Eventlogs are json like formats with a json like dictionary per row \"{k1:v1, k2:v2, ...}\"\n",
    "\n",
    "- https://jaceklaskowski.gitbooks.io/mastering-apache-spark/content/spark-LiveListenerBus.html\n",
    "- https://www.paypal-engineering.com/2016/09/08/spark-in-flames-profiling-spark-applications-using-flame-graphs/"
   ]
  },
  {
   "cell_type": "code",
   "execution_count": 113,
   "metadata": {},
   "outputs": [],
   "source": [
    "import json\n",
    "from pprint import pprint\n",
    "\n",
    "logs = []\n",
    "for line in open('./spark_eventlogs/local-1527585093053', 'r'):\n",
    "    logs.append(json.loads(line))\n",
    "    "
   ]
  },
  {
   "cell_type": "code",
   "execution_count": 114,
   "metadata": {},
   "outputs": [
    {
     "data": {
      "text/plain": [
       "6"
      ]
     },
     "execution_count": 114,
     "metadata": {},
     "output_type": "execute_result"
    }
   ],
   "source": [
    "len(logs)"
   ]
  },
  {
   "cell_type": "code",
   "execution_count": 115,
   "metadata": {},
   "outputs": [
    {
     "name": "stdout",
     "output_type": "stream",
     "text": [
      "dict_keys(['Event', 'Spark Version'])\n",
      "dict_keys(['Event', 'Timestamp', 'Executor ID', 'Executor Info'])\n",
      "dict_keys(['Event', 'Block Manager ID', 'Maximum Memory', 'Timestamp', 'Maximum Onheap Memory', 'Maximum Offheap Memory'])\n",
      "dict_keys(['Event', 'JVM Information', 'Spark Properties', 'System Properties', 'Classpath Entries'])\n",
      "dict_keys(['Event', 'App Name', 'App ID', 'Timestamp', 'User'])\n",
      "dict_keys(['Event', 'Timestamp'])\n"
     ]
    }
   ],
   "source": [
    "for j in logs:\n",
    "    print(j.keys())"
   ]
  },
  {
   "cell_type": "code",
   "execution_count": 116,
   "metadata": {},
   "outputs": [
    {
     "data": {
      "text/plain": [
       "{'Event': 'SparkListenerLogStart', 'Spark Version': '2.3.0'}"
      ]
     },
     "execution_count": 116,
     "metadata": {},
     "output_type": "execute_result"
    }
   ],
   "source": [
    "logs[0]"
   ]
  },
  {
   "cell_type": "code",
   "execution_count": 117,
   "metadata": {},
   "outputs": [
    {
     "data": {
      "text/plain": [
       "{'Event': 'SparkListenerExecutorAdded',\n",
       " 'Executor ID': 'driver',\n",
       " 'Executor Info': {'Host': 'localhost', 'Log Urls': {}, 'Total Cores': 4},\n",
       " 'Timestamp': 1527585093100}"
      ]
     },
     "execution_count": 117,
     "metadata": {},
     "output_type": "execute_result"
    }
   ],
   "source": [
    "logs[1]"
   ]
  },
  {
   "cell_type": "code",
   "execution_count": 118,
   "metadata": {},
   "outputs": [
    {
     "data": {
      "text/plain": [
       "{'Block Manager ID': {'Executor ID': 'driver',\n",
       "  'Host': 'bsccs436.int.bsc.es',\n",
       "  'Port': 40427},\n",
       " 'Event': 'SparkListenerBlockManagerAdded',\n",
       " 'Maximum Memory': 384093388,\n",
       " 'Maximum Offheap Memory': 0,\n",
       " 'Maximum Onheap Memory': 384093388,\n",
       " 'Timestamp': 1527585093111}"
      ]
     },
     "execution_count": 118,
     "metadata": {},
     "output_type": "execute_result"
    }
   ],
   "source": [
    "logs[2]"
   ]
  },
  {
   "cell_type": "code",
   "execution_count": 119,
   "metadata": {},
   "outputs": [
    {
     "data": {
      "text/plain": [
       "{'Classpath Entries': {'/home/david/spark-2.3.0-bin-hadoop2.7/conf/': 'System Classpath',\n",
       "  '/home/david/spark-2.3.0-bin-hadoop2.7/jars/JavaEWAH-0.3.2.jar': 'System Classpath',\n",
       "  '/home/david/spark-2.3.0-bin-hadoop2.7/jars/RoaringBitmap-0.5.11.jar': 'System Classpath',\n",
       "  '/home/david/spark-2.3.0-bin-hadoop2.7/jars/ST4-4.0.4.jar': 'System Classpath',\n",
       "  '/home/david/spark-2.3.0-bin-hadoop2.7/jars/activation-1.1.1.jar': 'System Classpath',\n",
       "  '/home/david/spark-2.3.0-bin-hadoop2.7/jars/aircompressor-0.8.jar': 'System Classpath',\n",
       "  '/home/david/spark-2.3.0-bin-hadoop2.7/jars/antlr-2.7.7.jar': 'System Classpath',\n",
       "  '/home/david/spark-2.3.0-bin-hadoop2.7/jars/antlr-runtime-3.4.jar': 'System Classpath',\n",
       "  '/home/david/spark-2.3.0-bin-hadoop2.7/jars/antlr4-runtime-4.7.jar': 'System Classpath',\n",
       "  '/home/david/spark-2.3.0-bin-hadoop2.7/jars/aopalliance-1.0.jar': 'System Classpath',\n",
       "  '/home/david/spark-2.3.0-bin-hadoop2.7/jars/aopalliance-repackaged-2.4.0-b34.jar': 'System Classpath',\n",
       "  '/home/david/spark-2.3.0-bin-hadoop2.7/jars/apache-log4j-extras-1.2.17.jar': 'System Classpath',\n",
       "  '/home/david/spark-2.3.0-bin-hadoop2.7/jars/apacheds-i18n-2.0.0-M15.jar': 'System Classpath',\n",
       "  '/home/david/spark-2.3.0-bin-hadoop2.7/jars/apacheds-kerberos-codec-2.0.0-M15.jar': 'System Classpath',\n",
       "  '/home/david/spark-2.3.0-bin-hadoop2.7/jars/api-asn1-api-1.0.0-M20.jar': 'System Classpath',\n",
       "  '/home/david/spark-2.3.0-bin-hadoop2.7/jars/api-util-1.0.0-M20.jar': 'System Classpath',\n",
       "  '/home/david/spark-2.3.0-bin-hadoop2.7/jars/arpack_combined_all-0.1.jar': 'System Classpath',\n",
       "  '/home/david/spark-2.3.0-bin-hadoop2.7/jars/arrow-format-0.8.0.jar': 'System Classpath',\n",
       "  '/home/david/spark-2.3.0-bin-hadoop2.7/jars/arrow-memory-0.8.0.jar': 'System Classpath',\n",
       "  '/home/david/spark-2.3.0-bin-hadoop2.7/jars/arrow-vector-0.8.0.jar': 'System Classpath',\n",
       "  '/home/david/spark-2.3.0-bin-hadoop2.7/jars/automaton-1.11-8.jar': 'System Classpath',\n",
       "  '/home/david/spark-2.3.0-bin-hadoop2.7/jars/avro-1.7.7.jar': 'System Classpath',\n",
       "  '/home/david/spark-2.3.0-bin-hadoop2.7/jars/avro-ipc-1.7.7.jar': 'System Classpath',\n",
       "  '/home/david/spark-2.3.0-bin-hadoop2.7/jars/avro-mapred-1.7.7-hadoop2.jar': 'System Classpath',\n",
       "  '/home/david/spark-2.3.0-bin-hadoop2.7/jars/base64-2.3.8.jar': 'System Classpath',\n",
       "  '/home/david/spark-2.3.0-bin-hadoop2.7/jars/bcprov-jdk15on-1.58.jar': 'System Classpath',\n",
       "  '/home/david/spark-2.3.0-bin-hadoop2.7/jars/bonecp-0.8.0.RELEASE.jar': 'System Classpath',\n",
       "  '/home/david/spark-2.3.0-bin-hadoop2.7/jars/breeze-macros_2.11-0.13.2.jar': 'System Classpath',\n",
       "  '/home/david/spark-2.3.0-bin-hadoop2.7/jars/breeze_2.11-0.13.2.jar': 'System Classpath',\n",
       "  '/home/david/spark-2.3.0-bin-hadoop2.7/jars/calcite-avatica-1.2.0-incubating.jar': 'System Classpath',\n",
       "  '/home/david/spark-2.3.0-bin-hadoop2.7/jars/calcite-core-1.2.0-incubating.jar': 'System Classpath',\n",
       "  '/home/david/spark-2.3.0-bin-hadoop2.7/jars/calcite-linq4j-1.2.0-incubating.jar': 'System Classpath',\n",
       "  '/home/david/spark-2.3.0-bin-hadoop2.7/jars/chill-java-0.8.4.jar': 'System Classpath',\n",
       "  '/home/david/spark-2.3.0-bin-hadoop2.7/jars/chill_2.11-0.8.4.jar': 'System Classpath',\n",
       "  '/home/david/spark-2.3.0-bin-hadoop2.7/jars/commons-beanutils-1.7.0.jar': 'System Classpath',\n",
       "  '/home/david/spark-2.3.0-bin-hadoop2.7/jars/commons-beanutils-core-1.8.0.jar': 'System Classpath',\n",
       "  '/home/david/spark-2.3.0-bin-hadoop2.7/jars/commons-cli-1.2.jar': 'System Classpath',\n",
       "  '/home/david/spark-2.3.0-bin-hadoop2.7/jars/commons-codec-1.10.jar': 'System Classpath',\n",
       "  '/home/david/spark-2.3.0-bin-hadoop2.7/jars/commons-collections-3.2.2.jar': 'System Classpath',\n",
       "  '/home/david/spark-2.3.0-bin-hadoop2.7/jars/commons-compiler-3.0.8.jar': 'System Classpath',\n",
       "  '/home/david/spark-2.3.0-bin-hadoop2.7/jars/commons-compress-1.4.1.jar': 'System Classpath',\n",
       "  '/home/david/spark-2.3.0-bin-hadoop2.7/jars/commons-configuration-1.6.jar': 'System Classpath',\n",
       "  '/home/david/spark-2.3.0-bin-hadoop2.7/jars/commons-crypto-1.0.0.jar': 'System Classpath',\n",
       "  '/home/david/spark-2.3.0-bin-hadoop2.7/jars/commons-dbcp-1.4.jar': 'System Classpath',\n",
       "  '/home/david/spark-2.3.0-bin-hadoop2.7/jars/commons-digester-1.8.jar': 'System Classpath',\n",
       "  '/home/david/spark-2.3.0-bin-hadoop2.7/jars/commons-httpclient-3.1.jar': 'System Classpath',\n",
       "  '/home/david/spark-2.3.0-bin-hadoop2.7/jars/commons-io-2.4.jar': 'System Classpath',\n",
       "  '/home/david/spark-2.3.0-bin-hadoop2.7/jars/commons-lang-2.6.jar': 'System Classpath',\n",
       "  '/home/david/spark-2.3.0-bin-hadoop2.7/jars/commons-lang3-3.5.jar': 'System Classpath',\n",
       "  '/home/david/spark-2.3.0-bin-hadoop2.7/jars/commons-logging-1.1.3.jar': 'System Classpath',\n",
       "  '/home/david/spark-2.3.0-bin-hadoop2.7/jars/commons-math3-3.4.1.jar': 'System Classpath',\n",
       "  '/home/david/spark-2.3.0-bin-hadoop2.7/jars/commons-net-2.2.jar': 'System Classpath',\n",
       "  '/home/david/spark-2.3.0-bin-hadoop2.7/jars/commons-pool-1.5.4.jar': 'System Classpath',\n",
       "  '/home/david/spark-2.3.0-bin-hadoop2.7/jars/compress-lzf-1.0.3.jar': 'System Classpath',\n",
       "  '/home/david/spark-2.3.0-bin-hadoop2.7/jars/core-1.1.2.jar': 'System Classpath',\n",
       "  '/home/david/spark-2.3.0-bin-hadoop2.7/jars/curator-client-2.7.1.jar': 'System Classpath',\n",
       "  '/home/david/spark-2.3.0-bin-hadoop2.7/jars/curator-framework-2.7.1.jar': 'System Classpath',\n",
       "  '/home/david/spark-2.3.0-bin-hadoop2.7/jars/curator-recipes-2.7.1.jar': 'System Classpath',\n",
       "  '/home/david/spark-2.3.0-bin-hadoop2.7/jars/datanucleus-api-jdo-3.2.6.jar': 'System Classpath',\n",
       "  '/home/david/spark-2.3.0-bin-hadoop2.7/jars/datanucleus-core-3.2.10.jar': 'System Classpath',\n",
       "  '/home/david/spark-2.3.0-bin-hadoop2.7/jars/datanucleus-rdbms-3.2.9.jar': 'System Classpath',\n",
       "  '/home/david/spark-2.3.0-bin-hadoop2.7/jars/derby-10.12.1.1.jar': 'System Classpath',\n",
       "  '/home/david/spark-2.3.0-bin-hadoop2.7/jars/eigenbase-properties-1.1.5.jar': 'System Classpath',\n",
       "  '/home/david/spark-2.3.0-bin-hadoop2.7/jars/flatbuffers-1.2.0-3f79e055.jar': 'System Classpath',\n",
       "  '/home/david/spark-2.3.0-bin-hadoop2.7/jars/generex-1.0.1.jar': 'System Classpath',\n",
       "  '/home/david/spark-2.3.0-bin-hadoop2.7/jars/gson-2.2.4.jar': 'System Classpath',\n",
       "  '/home/david/spark-2.3.0-bin-hadoop2.7/jars/guava-14.0.1.jar': 'System Classpath',\n",
       "  '/home/david/spark-2.3.0-bin-hadoop2.7/jars/guice-3.0.jar': 'System Classpath',\n",
       "  '/home/david/spark-2.3.0-bin-hadoop2.7/jars/guice-servlet-3.0.jar': 'System Classpath',\n",
       "  '/home/david/spark-2.3.0-bin-hadoop2.7/jars/hadoop-annotations-2.7.3.jar': 'System Classpath',\n",
       "  '/home/david/spark-2.3.0-bin-hadoop2.7/jars/hadoop-auth-2.7.3.jar': 'System Classpath',\n",
       "  '/home/david/spark-2.3.0-bin-hadoop2.7/jars/hadoop-client-2.7.3.jar': 'System Classpath',\n",
       "  '/home/david/spark-2.3.0-bin-hadoop2.7/jars/hadoop-common-2.7.3.jar': 'System Classpath',\n",
       "  '/home/david/spark-2.3.0-bin-hadoop2.7/jars/hadoop-hdfs-2.7.3.jar': 'System Classpath',\n",
       "  '/home/david/spark-2.3.0-bin-hadoop2.7/jars/hadoop-mapreduce-client-app-2.7.3.jar': 'System Classpath',\n",
       "  '/home/david/spark-2.3.0-bin-hadoop2.7/jars/hadoop-mapreduce-client-common-2.7.3.jar': 'System Classpath',\n",
       "  '/home/david/spark-2.3.0-bin-hadoop2.7/jars/hadoop-mapreduce-client-core-2.7.3.jar': 'System Classpath',\n",
       "  '/home/david/spark-2.3.0-bin-hadoop2.7/jars/hadoop-mapreduce-client-jobclient-2.7.3.jar': 'System Classpath',\n",
       "  '/home/david/spark-2.3.0-bin-hadoop2.7/jars/hadoop-mapreduce-client-shuffle-2.7.3.jar': 'System Classpath',\n",
       "  '/home/david/spark-2.3.0-bin-hadoop2.7/jars/hadoop-yarn-api-2.7.3.jar': 'System Classpath',\n",
       "  '/home/david/spark-2.3.0-bin-hadoop2.7/jars/hadoop-yarn-client-2.7.3.jar': 'System Classpath',\n",
       "  '/home/david/spark-2.3.0-bin-hadoop2.7/jars/hadoop-yarn-common-2.7.3.jar': 'System Classpath',\n",
       "  '/home/david/spark-2.3.0-bin-hadoop2.7/jars/hadoop-yarn-server-common-2.7.3.jar': 'System Classpath',\n",
       "  '/home/david/spark-2.3.0-bin-hadoop2.7/jars/hadoop-yarn-server-web-proxy-2.7.3.jar': 'System Classpath',\n",
       "  '/home/david/spark-2.3.0-bin-hadoop2.7/jars/hive-beeline-1.2.1.spark2.jar': 'System Classpath',\n",
       "  '/home/david/spark-2.3.0-bin-hadoop2.7/jars/hive-cli-1.2.1.spark2.jar': 'System Classpath',\n",
       "  '/home/david/spark-2.3.0-bin-hadoop2.7/jars/hive-exec-1.2.1.spark2.jar': 'System Classpath',\n",
       "  '/home/david/spark-2.3.0-bin-hadoop2.7/jars/hive-jdbc-1.2.1.spark2.jar': 'System Classpath',\n",
       "  '/home/david/spark-2.3.0-bin-hadoop2.7/jars/hive-metastore-1.2.1.spark2.jar': 'System Classpath',\n",
       "  '/home/david/spark-2.3.0-bin-hadoop2.7/jars/hk2-api-2.4.0-b34.jar': 'System Classpath',\n",
       "  '/home/david/spark-2.3.0-bin-hadoop2.7/jars/hk2-locator-2.4.0-b34.jar': 'System Classpath',\n",
       "  '/home/david/spark-2.3.0-bin-hadoop2.7/jars/hk2-utils-2.4.0-b34.jar': 'System Classpath',\n",
       "  '/home/david/spark-2.3.0-bin-hadoop2.7/jars/hppc-0.7.2.jar': 'System Classpath',\n",
       "  '/home/david/spark-2.3.0-bin-hadoop2.7/jars/htrace-core-3.1.0-incubating.jar': 'System Classpath',\n",
       "  '/home/david/spark-2.3.0-bin-hadoop2.7/jars/httpclient-4.5.4.jar': 'System Classpath',\n",
       "  '/home/david/spark-2.3.0-bin-hadoop2.7/jars/httpcore-4.4.8.jar': 'System Classpath',\n",
       "  '/home/david/spark-2.3.0-bin-hadoop2.7/jars/ivy-2.4.0.jar': 'System Classpath',\n",
       "  '/home/david/spark-2.3.0-bin-hadoop2.7/jars/jackson-annotations-2.6.7.jar': 'System Classpath',\n",
       "  '/home/david/spark-2.3.0-bin-hadoop2.7/jars/jackson-core-2.6.7.jar': 'System Classpath',\n",
       "  '/home/david/spark-2.3.0-bin-hadoop2.7/jars/jackson-core-asl-1.9.13.jar': 'System Classpath',\n",
       "  '/home/david/spark-2.3.0-bin-hadoop2.7/jars/jackson-databind-2.6.7.1.jar': 'System Classpath',\n",
       "  '/home/david/spark-2.3.0-bin-hadoop2.7/jars/jackson-dataformat-yaml-2.6.7.jar': 'System Classpath',\n",
       "  '/home/david/spark-2.3.0-bin-hadoop2.7/jars/jackson-jaxrs-1.9.13.jar': 'System Classpath',\n",
       "  '/home/david/spark-2.3.0-bin-hadoop2.7/jars/jackson-mapper-asl-1.9.13.jar': 'System Classpath',\n",
       "  '/home/david/spark-2.3.0-bin-hadoop2.7/jars/jackson-module-jaxb-annotations-2.6.7.jar': 'System Classpath',\n",
       "  '/home/david/spark-2.3.0-bin-hadoop2.7/jars/jackson-module-paranamer-2.7.9.jar': 'System Classpath',\n",
       "  '/home/david/spark-2.3.0-bin-hadoop2.7/jars/jackson-module-scala_2.11-2.6.7.1.jar': 'System Classpath',\n",
       "  '/home/david/spark-2.3.0-bin-hadoop2.7/jars/jackson-xc-1.9.13.jar': 'System Classpath',\n",
       "  '/home/david/spark-2.3.0-bin-hadoop2.7/jars/janino-3.0.8.jar': 'System Classpath',\n",
       "  '/home/david/spark-2.3.0-bin-hadoop2.7/jars/java-xmlbuilder-1.1.jar': 'System Classpath',\n",
       "  '/home/david/spark-2.3.0-bin-hadoop2.7/jars/javassist-3.18.1-GA.jar': 'System Classpath',\n",
       "  '/home/david/spark-2.3.0-bin-hadoop2.7/jars/javax.annotation-api-1.2.jar': 'System Classpath',\n",
       "  '/home/david/spark-2.3.0-bin-hadoop2.7/jars/javax.inject-1.jar': 'System Classpath',\n",
       "  '/home/david/spark-2.3.0-bin-hadoop2.7/jars/javax.inject-2.4.0-b34.jar': 'System Classpath',\n",
       "  '/home/david/spark-2.3.0-bin-hadoop2.7/jars/javax.servlet-api-3.1.0.jar': 'System Classpath',\n",
       "  '/home/david/spark-2.3.0-bin-hadoop2.7/jars/javax.ws.rs-api-2.0.1.jar': 'System Classpath',\n",
       "  '/home/david/spark-2.3.0-bin-hadoop2.7/jars/javolution-5.5.1.jar': 'System Classpath',\n",
       "  '/home/david/spark-2.3.0-bin-hadoop2.7/jars/jaxb-api-2.2.2.jar': 'System Classpath',\n",
       "  '/home/david/spark-2.3.0-bin-hadoop2.7/jars/jcl-over-slf4j-1.7.16.jar': 'System Classpath',\n",
       "  '/home/david/spark-2.3.0-bin-hadoop2.7/jars/jdo-api-3.0.1.jar': 'System Classpath',\n",
       "  '/home/david/spark-2.3.0-bin-hadoop2.7/jars/jersey-client-2.22.2.jar': 'System Classpath',\n",
       "  '/home/david/spark-2.3.0-bin-hadoop2.7/jars/jersey-common-2.22.2.jar': 'System Classpath',\n",
       "  '/home/david/spark-2.3.0-bin-hadoop2.7/jars/jersey-container-servlet-2.22.2.jar': 'System Classpath',\n",
       "  '/home/david/spark-2.3.0-bin-hadoop2.7/jars/jersey-container-servlet-core-2.22.2.jar': 'System Classpath',\n",
       "  '/home/david/spark-2.3.0-bin-hadoop2.7/jars/jersey-guava-2.22.2.jar': 'System Classpath',\n",
       "  '/home/david/spark-2.3.0-bin-hadoop2.7/jars/jersey-media-jaxb-2.22.2.jar': 'System Classpath',\n",
       "  '/home/david/spark-2.3.0-bin-hadoop2.7/jars/jersey-server-2.22.2.jar': 'System Classpath',\n",
       "  '/home/david/spark-2.3.0-bin-hadoop2.7/jars/jets3t-0.9.4.jar': 'System Classpath',\n",
       "  '/home/david/spark-2.3.0-bin-hadoop2.7/jars/jetty-6.1.26.jar': 'System Classpath',\n",
       "  '/home/david/spark-2.3.0-bin-hadoop2.7/jars/jetty-util-6.1.26.jar': 'System Classpath',\n",
       "  '/home/david/spark-2.3.0-bin-hadoop2.7/jars/jline-2.12.1.jar': 'System Classpath',\n",
       "  '/home/david/spark-2.3.0-bin-hadoop2.7/jars/joda-time-2.9.3.jar': 'System Classpath',\n",
       "  '/home/david/spark-2.3.0-bin-hadoop2.7/jars/jodd-core-3.5.2.jar': 'System Classpath',\n",
       "  '/home/david/spark-2.3.0-bin-hadoop2.7/jars/jpam-1.1.jar': 'System Classpath',\n",
       "  '/home/david/spark-2.3.0-bin-hadoop2.7/jars/json4s-ast_2.11-3.2.11.jar': 'System Classpath',\n",
       "  '/home/david/spark-2.3.0-bin-hadoop2.7/jars/json4s-core_2.11-3.2.11.jar': 'System Classpath',\n",
       "  '/home/david/spark-2.3.0-bin-hadoop2.7/jars/json4s-jackson_2.11-3.2.11.jar': 'System Classpath',\n",
       "  '/home/david/spark-2.3.0-bin-hadoop2.7/jars/jsp-api-2.1.jar': 'System Classpath',\n",
       "  '/home/david/spark-2.3.0-bin-hadoop2.7/jars/jsr305-1.3.9.jar': 'System Classpath',\n",
       "  '/home/david/spark-2.3.0-bin-hadoop2.7/jars/jta-1.1.jar': 'System Classpath',\n",
       "  '/home/david/spark-2.3.0-bin-hadoop2.7/jars/jtransforms-2.4.0.jar': 'System Classpath',\n",
       "  '/home/david/spark-2.3.0-bin-hadoop2.7/jars/jul-to-slf4j-1.7.16.jar': 'System Classpath',\n",
       "  '/home/david/spark-2.3.0-bin-hadoop2.7/jars/kryo-shaded-3.0.3.jar': 'System Classpath',\n",
       "  '/home/david/spark-2.3.0-bin-hadoop2.7/jars/kubernetes-client-3.0.0.jar': 'System Classpath',\n",
       "  '/home/david/spark-2.3.0-bin-hadoop2.7/jars/kubernetes-model-2.0.0.jar': 'System Classpath',\n",
       "  '/home/david/spark-2.3.0-bin-hadoop2.7/jars/leveldbjni-all-1.8.jar': 'System Classpath',\n",
       "  '/home/david/spark-2.3.0-bin-hadoop2.7/jars/libfb303-0.9.3.jar': 'System Classpath',\n",
       "  '/home/david/spark-2.3.0-bin-hadoop2.7/jars/libthrift-0.9.3.jar': 'System Classpath',\n",
       "  '/home/david/spark-2.3.0-bin-hadoop2.7/jars/log4j-1.2.17.jar': 'System Classpath',\n",
       "  '/home/david/spark-2.3.0-bin-hadoop2.7/jars/logging-interceptor-3.8.1.jar': 'System Classpath',\n",
       "  '/home/david/spark-2.3.0-bin-hadoop2.7/jars/lz4-java-1.4.0.jar': 'System Classpath',\n",
       "  '/home/david/spark-2.3.0-bin-hadoop2.7/jars/machinist_2.11-0.6.1.jar': 'System Classpath',\n",
       "  '/home/david/spark-2.3.0-bin-hadoop2.7/jars/macro-compat_2.11-1.1.1.jar': 'System Classpath',\n",
       "  '/home/david/spark-2.3.0-bin-hadoop2.7/jars/mesos-1.4.0-shaded-protobuf.jar': 'System Classpath',\n",
       "  '/home/david/spark-2.3.0-bin-hadoop2.7/jars/metrics-core-3.1.5.jar': 'System Classpath',\n",
       "  '/home/david/spark-2.3.0-bin-hadoop2.7/jars/metrics-graphite-3.1.5.jar': 'System Classpath',\n",
       "  '/home/david/spark-2.3.0-bin-hadoop2.7/jars/metrics-json-3.1.5.jar': 'System Classpath',\n",
       "  '/home/david/spark-2.3.0-bin-hadoop2.7/jars/metrics-jvm-3.1.5.jar': 'System Classpath',\n",
       "  '/home/david/spark-2.3.0-bin-hadoop2.7/jars/minlog-1.3.0.jar': 'System Classpath',\n",
       "  '/home/david/spark-2.3.0-bin-hadoop2.7/jars/netty-3.9.9.Final.jar': 'System Classpath',\n",
       "  '/home/david/spark-2.3.0-bin-hadoop2.7/jars/netty-all-4.1.17.Final.jar': 'System Classpath',\n",
       "  '/home/david/spark-2.3.0-bin-hadoop2.7/jars/objenesis-2.1.jar': 'System Classpath',\n",
       "  '/home/david/spark-2.3.0-bin-hadoop2.7/jars/okhttp-3.8.1.jar': 'System Classpath',\n",
       "  '/home/david/spark-2.3.0-bin-hadoop2.7/jars/okio-1.13.0.jar': 'System Classpath',\n",
       "  '/home/david/spark-2.3.0-bin-hadoop2.7/jars/opencsv-2.3.jar': 'System Classpath',\n",
       "  '/home/david/spark-2.3.0-bin-hadoop2.7/jars/orc-core-1.4.1-nohive.jar': 'System Classpath',\n",
       "  '/home/david/spark-2.3.0-bin-hadoop2.7/jars/orc-mapreduce-1.4.1-nohive.jar': 'System Classpath',\n",
       "  '/home/david/spark-2.3.0-bin-hadoop2.7/jars/oro-2.0.8.jar': 'System Classpath',\n",
       "  '/home/david/spark-2.3.0-bin-hadoop2.7/jars/osgi-resource-locator-1.0.1.jar': 'System Classpath',\n",
       "  '/home/david/spark-2.3.0-bin-hadoop2.7/jars/paranamer-2.8.jar': 'System Classpath',\n",
       "  '/home/david/spark-2.3.0-bin-hadoop2.7/jars/parquet-column-1.8.2.jar': 'System Classpath',\n",
       "  '/home/david/spark-2.3.0-bin-hadoop2.7/jars/parquet-common-1.8.2.jar': 'System Classpath',\n",
       "  '/home/david/spark-2.3.0-bin-hadoop2.7/jars/parquet-encoding-1.8.2.jar': 'System Classpath',\n",
       "  '/home/david/spark-2.3.0-bin-hadoop2.7/jars/parquet-format-2.3.1.jar': 'System Classpath',\n",
       "  '/home/david/spark-2.3.0-bin-hadoop2.7/jars/parquet-hadoop-1.8.2.jar': 'System Classpath',\n",
       "  '/home/david/spark-2.3.0-bin-hadoop2.7/jars/parquet-hadoop-bundle-1.6.0.jar': 'System Classpath',\n",
       "  '/home/david/spark-2.3.0-bin-hadoop2.7/jars/parquet-jackson-1.8.2.jar': 'System Classpath',\n",
       "  '/home/david/spark-2.3.0-bin-hadoop2.7/jars/protobuf-java-2.5.0.jar': 'System Classpath',\n",
       "  '/home/david/spark-2.3.0-bin-hadoop2.7/jars/py4j-0.10.6.jar': 'System Classpath',\n",
       "  '/home/david/spark-2.3.0-bin-hadoop2.7/jars/pyrolite-4.13.jar': 'System Classpath',\n",
       "  '/home/david/spark-2.3.0-bin-hadoop2.7/jars/scala-compiler-2.11.8.jar': 'System Classpath',\n",
       "  '/home/david/spark-2.3.0-bin-hadoop2.7/jars/scala-library-2.11.8.jar': 'System Classpath',\n",
       "  '/home/david/spark-2.3.0-bin-hadoop2.7/jars/scala-parser-combinators_2.11-1.0.4.jar': 'System Classpath',\n",
       "  '/home/david/spark-2.3.0-bin-hadoop2.7/jars/scala-reflect-2.11.8.jar': 'System Classpath',\n",
       "  '/home/david/spark-2.3.0-bin-hadoop2.7/jars/scala-xml_2.11-1.0.5.jar': 'System Classpath',\n",
       "  '/home/david/spark-2.3.0-bin-hadoop2.7/jars/scalap-2.11.8.jar': 'System Classpath',\n",
       "  '/home/david/spark-2.3.0-bin-hadoop2.7/jars/shapeless_2.11-2.3.2.jar': 'System Classpath',\n",
       "  '/home/david/spark-2.3.0-bin-hadoop2.7/jars/slf4j-api-1.7.16.jar': 'System Classpath',\n",
       "  '/home/david/spark-2.3.0-bin-hadoop2.7/jars/slf4j-log4j12-1.7.16.jar': 'System Classpath',\n",
       "  '/home/david/spark-2.3.0-bin-hadoop2.7/jars/snakeyaml-1.15.jar': 'System Classpath',\n",
       "  '/home/david/spark-2.3.0-bin-hadoop2.7/jars/snappy-0.2.jar': 'System Classpath',\n",
       "  '/home/david/spark-2.3.0-bin-hadoop2.7/jars/snappy-java-1.1.2.6.jar': 'System Classpath',\n",
       "  '/home/david/spark-2.3.0-bin-hadoop2.7/jars/spark-catalyst_2.11-2.3.0.jar': 'System Classpath',\n",
       "  '/home/david/spark-2.3.0-bin-hadoop2.7/jars/spark-core_2.11-2.3.0.jar': 'System Classpath',\n",
       "  '/home/david/spark-2.3.0-bin-hadoop2.7/jars/spark-graphx_2.11-2.3.0.jar': 'System Classpath',\n",
       "  '/home/david/spark-2.3.0-bin-hadoop2.7/jars/spark-hive-thriftserver_2.11-2.3.0.jar': 'System Classpath',\n",
       "  '/home/david/spark-2.3.0-bin-hadoop2.7/jars/spark-hive_2.11-2.3.0.jar': 'System Classpath',\n",
       "  '/home/david/spark-2.3.0-bin-hadoop2.7/jars/spark-kubernetes_2.11-2.3.0.jar': 'System Classpath',\n",
       "  '/home/david/spark-2.3.0-bin-hadoop2.7/jars/spark-kvstore_2.11-2.3.0.jar': 'System Classpath',\n",
       "  '/home/david/spark-2.3.0-bin-hadoop2.7/jars/spark-launcher_2.11-2.3.0.jar': 'System Classpath',\n",
       "  '/home/david/spark-2.3.0-bin-hadoop2.7/jars/spark-mesos_2.11-2.3.0.jar': 'System Classpath',\n",
       "  '/home/david/spark-2.3.0-bin-hadoop2.7/jars/spark-mllib-local_2.11-2.3.0.jar': 'System Classpath',\n",
       "  '/home/david/spark-2.3.0-bin-hadoop2.7/jars/spark-mllib_2.11-2.3.0.jar': 'System Classpath',\n",
       "  '/home/david/spark-2.3.0-bin-hadoop2.7/jars/spark-network-common_2.11-2.3.0.jar': 'System Classpath',\n",
       "  '/home/david/spark-2.3.0-bin-hadoop2.7/jars/spark-network-shuffle_2.11-2.3.0.jar': 'System Classpath',\n",
       "  '/home/david/spark-2.3.0-bin-hadoop2.7/jars/spark-repl_2.11-2.3.0.jar': 'System Classpath',\n",
       "  '/home/david/spark-2.3.0-bin-hadoop2.7/jars/spark-sketch_2.11-2.3.0.jar': 'System Classpath',\n",
       "  '/home/david/spark-2.3.0-bin-hadoop2.7/jars/spark-sql_2.11-2.3.0.jar': 'System Classpath',\n",
       "  '/home/david/spark-2.3.0-bin-hadoop2.7/jars/spark-streaming_2.11-2.3.0.jar': 'System Classpath',\n",
       "  '/home/david/spark-2.3.0-bin-hadoop2.7/jars/spark-tags_2.11-2.3.0.jar': 'System Classpath',\n",
       "  '/home/david/spark-2.3.0-bin-hadoop2.7/jars/spark-unsafe_2.11-2.3.0.jar': 'System Classpath',\n",
       "  '/home/david/spark-2.3.0-bin-hadoop2.7/jars/spark-yarn_2.11-2.3.0.jar': 'System Classpath',\n",
       "  '/home/david/spark-2.3.0-bin-hadoop2.7/jars/spire-macros_2.11-0.13.0.jar': 'System Classpath',\n",
       "  '/home/david/spark-2.3.0-bin-hadoop2.7/jars/spire_2.11-0.13.0.jar': 'System Classpath',\n",
       "  '/home/david/spark-2.3.0-bin-hadoop2.7/jars/stax-api-1.0-2.jar': 'System Classpath',\n",
       "  '/home/david/spark-2.3.0-bin-hadoop2.7/jars/stax-api-1.0.1.jar': 'System Classpath',\n",
       "  '/home/david/spark-2.3.0-bin-hadoop2.7/jars/stream-2.7.0.jar': 'System Classpath',\n",
       "  '/home/david/spark-2.3.0-bin-hadoop2.7/jars/stringtemplate-3.2.1.jar': 'System Classpath',\n",
       "  '/home/david/spark-2.3.0-bin-hadoop2.7/jars/super-csv-2.2.0.jar': 'System Classpath',\n",
       "  '/home/david/spark-2.3.0-bin-hadoop2.7/jars/univocity-parsers-2.5.9.jar': 'System Classpath',\n",
       "  '/home/david/spark-2.3.0-bin-hadoop2.7/jars/validation-api-1.1.0.Final.jar': 'System Classpath',\n",
       "  '/home/david/spark-2.3.0-bin-hadoop2.7/jars/xbean-asm5-shaded-4.4.jar': 'System Classpath',\n",
       "  '/home/david/spark-2.3.0-bin-hadoop2.7/jars/xercesImpl-2.9.1.jar': 'System Classpath',\n",
       "  '/home/david/spark-2.3.0-bin-hadoop2.7/jars/xmlenc-0.52.jar': 'System Classpath',\n",
       "  '/home/david/spark-2.3.0-bin-hadoop2.7/jars/xz-1.0.jar': 'System Classpath',\n",
       "  '/home/david/spark-2.3.0-bin-hadoop2.7/jars/zjsonpatch-0.3.0.jar': 'System Classpath',\n",
       "  '/home/david/spark-2.3.0-bin-hadoop2.7/jars/zookeeper-3.4.6.jar': 'System Classpath',\n",
       "  '/home/david/spark-2.3.0-bin-hadoop2.7/jars/zstd-jni-1.3.2-2.jar': 'System Classpath'},\n",
       " 'Event': 'SparkListenerEnvironmentUpdate',\n",
       " 'JVM Information': {'Java Home': '/usr/lib/jvm/java-8-oracle/jre',\n",
       "  'Java Version': '1.8.0_101 (Oracle Corporation)',\n",
       "  'Scala Version': 'version 2.11.8'},\n",
       " 'Spark Properties': {'spark.app.id': 'local-1527585093053',\n",
       "  'spark.app.name': 'PySparkShell',\n",
       "  'spark.driver.host': 'bsccs436.int.bsc.es',\n",
       "  'spark.driver.port': '45655',\n",
       "  'spark.eventLog.dir': '/home/david/spark_eventlogs',\n",
       "  'spark.eventLog.enabled': 'true',\n",
       "  'spark.executor.id': 'driver',\n",
       "  'spark.master': 'local[*]',\n",
       "  'spark.rdd.compress': 'True',\n",
       "  'spark.scheduler.mode': 'FIFO',\n",
       "  'spark.serializer.objectStreamReset': '100',\n",
       "  'spark.sql.catalogImplementation': 'hive',\n",
       "  'spark.submit.deployMode': 'client',\n",
       "  'spark.ui.showConsoleProgress': 'true'},\n",
       " 'System Properties': {'SPARK_SUBMIT': 'true',\n",
       "  'awt.toolkit': 'sun.awt.X11.XToolkit',\n",
       "  'file.encoding': 'UTF-8',\n",
       "  'file.encoding.pkg': 'sun.io',\n",
       "  'file.separator': '/',\n",
       "  'java.awt.graphicsenv': 'sun.awt.X11GraphicsEnvironment',\n",
       "  'java.awt.printerjob': 'sun.print.PSPrinterJob',\n",
       "  'java.class.version': '52.0',\n",
       "  'java.endorsed.dirs': '/usr/lib/jvm/java-8-oracle/jre/lib/endorsed',\n",
       "  'java.ext.dirs': '/usr/lib/jvm/java-8-oracle/jre/lib/ext:/usr/java/packages/lib/ext',\n",
       "  'java.home': '/usr/lib/jvm/java-8-oracle/jre',\n",
       "  'java.io.tmpdir': '/tmp',\n",
       "  'java.library.path': '/usr/java/packages/lib/amd64:/usr/lib64:/lib64:/lib:/usr/lib',\n",
       "  'java.runtime.name': 'Java(TM) SE Runtime Environment',\n",
       "  'java.runtime.version': '1.8.0_101-b13',\n",
       "  'java.specification.name': 'Java Platform API Specification',\n",
       "  'java.specification.vendor': 'Oracle Corporation',\n",
       "  'java.specification.version': '1.8',\n",
       "  'java.vendor': 'Oracle Corporation',\n",
       "  'java.vendor.url': '*********(redacted)',\n",
       "  'java.vendor.url.bug': '*********(redacted)',\n",
       "  'java.version': '1.8.0_101',\n",
       "  'java.vm.info': 'mixed mode',\n",
       "  'java.vm.name': 'Java HotSpot(TM) 64-Bit Server VM',\n",
       "  'java.vm.specification.name': 'Java Virtual Machine Specification',\n",
       "  'java.vm.specification.vendor': 'Oracle Corporation',\n",
       "  'java.vm.specification.version': '1.8',\n",
       "  'java.vm.vendor': 'Oracle Corporation',\n",
       "  'java.vm.version': '25.101-b13',\n",
       "  'line.separator': '\\n',\n",
       "  'os.arch': 'amd64',\n",
       "  'os.name': 'Linux',\n",
       "  'os.version': '4.4.0-119-generic',\n",
       "  'path.separator': ':',\n",
       "  'sun.arch.data.model': '64',\n",
       "  'sun.boot.class.path': '/usr/lib/jvm/java-8-oracle/jre/lib/resources.jar:/usr/lib/jvm/java-8-oracle/jre/lib/rt.jar:/usr/lib/jvm/java-8-oracle/jre/lib/sunrsasign.jar:/usr/lib/jvm/java-8-oracle/jre/lib/jsse.jar:/usr/lib/jvm/java-8-oracle/jre/lib/jce.jar:/usr/lib/jvm/java-8-oracle/jre/lib/charsets.jar:/usr/lib/jvm/java-8-oracle/jre/lib/jfr.jar:/usr/lib/jvm/java-8-oracle/jre/classes',\n",
       "  'sun.boot.library.path': '/usr/lib/jvm/java-8-oracle/jre/lib/amd64',\n",
       "  'sun.cpu.endian': 'little',\n",
       "  'sun.cpu.isalist': '',\n",
       "  'sun.desktop': 'gnome',\n",
       "  'sun.io.unicode.encoding': 'UnicodeLittle',\n",
       "  'sun.java.command': 'org.apache.spark.deploy.SparkSubmit --name PySparkShell pyspark-shell',\n",
       "  'sun.java.launcher': 'SUN_STANDARD',\n",
       "  'sun.jnu.encoding': 'UTF-8',\n",
       "  'sun.management.compiler': 'HotSpot 64-Bit Tiered Compilers',\n",
       "  'sun.nio.ch.bugLevel': '',\n",
       "  'sun.os.patch.level': 'unknown',\n",
       "  'user.country': '*********(redacted)',\n",
       "  'user.dir': '*********(redacted)',\n",
       "  'user.home': '*********(redacted)',\n",
       "  'user.language': '*********(redacted)',\n",
       "  'user.name': '*********(redacted)',\n",
       "  'user.timezone': '*********(redacted)'}}"
      ]
     },
     "execution_count": 119,
     "metadata": {},
     "output_type": "execute_result"
    }
   ],
   "source": [
    "logs[3]"
   ]
  },
  {
   "cell_type": "code",
   "execution_count": 120,
   "metadata": {},
   "outputs": [
    {
     "data": {
      "text/plain": [
       "{'App ID': 'local-1527585093053',\n",
       " 'App Name': 'PySparkShell',\n",
       " 'Event': 'SparkListenerApplicationStart',\n",
       " 'Timestamp': 1527585092225,\n",
       " 'User': 'david'}"
      ]
     },
     "execution_count": 120,
     "metadata": {},
     "output_type": "execute_result"
    }
   ],
   "source": [
    "logs[4]"
   ]
  },
  {
   "cell_type": "code",
   "execution_count": 121,
   "metadata": {},
   "outputs": [
    {
     "data": {
      "text/plain": [
       "{'Event': 'SparkListenerApplicationEnd', 'Timestamp': 1527585106390}"
      ]
     },
     "execution_count": 121,
     "metadata": {},
     "output_type": "execute_result"
    }
   ],
   "source": [
    "logs[5]"
   ]
  },
  {
   "cell_type": "markdown",
   "metadata": {},
   "source": [
    "### Another log"
   ]
  },
  {
   "cell_type": "code",
   "execution_count": 135,
   "metadata": {
    "collapsed": true
   },
   "outputs": [],
   "source": [
    "logs2 = []\n",
    "for line in open('./spark_eventlogs/local-1527585270292', 'r'):\n",
    "    logs2.append(json.loads(line))    "
   ]
  },
  {
   "cell_type": "code",
   "execution_count": 123,
   "metadata": {},
   "outputs": [
    {
     "data": {
      "text/plain": [
       "18"
      ]
     },
     "execution_count": 123,
     "metadata": {},
     "output_type": "execute_result"
    }
   ],
   "source": [
    "len(logs2)"
   ]
  },
  {
   "cell_type": "code",
   "execution_count": 124,
   "metadata": {},
   "outputs": [
    {
     "data": {
      "text/plain": [
       "{'Event': 'SparkListenerLogStart', 'Spark Version': '2.3.0'}"
      ]
     },
     "execution_count": 124,
     "metadata": {},
     "output_type": "execute_result"
    }
   ],
   "source": [
    "logs2[0]"
   ]
  },
  {
   "cell_type": "code",
   "execution_count": 125,
   "metadata": {},
   "outputs": [
    {
     "data": {
      "text/plain": [
       "{'Event': 'SparkListenerExecutorAdded',\n",
       " 'Executor ID': 'driver',\n",
       " 'Executor Info': {'Host': 'localhost', 'Log Urls': {}, 'Total Cores': 4},\n",
       " 'Timestamp': 1527585270331}"
      ]
     },
     "execution_count": 125,
     "metadata": {},
     "output_type": "execute_result"
    }
   ],
   "source": [
    "logs2[1]"
   ]
  },
  {
   "cell_type": "code",
   "execution_count": 126,
   "metadata": {},
   "outputs": [
    {
     "data": {
      "text/plain": [
       "{'Block Manager ID': {'Executor ID': 'driver',\n",
       "  'Host': 'bsccs436.int.bsc.es',\n",
       "  'Port': 40054},\n",
       " 'Event': 'SparkListenerBlockManagerAdded',\n",
       " 'Maximum Memory': 384093388,\n",
       " 'Maximum Offheap Memory': 0,\n",
       " 'Maximum Onheap Memory': 384093388,\n",
       " 'Timestamp': 1527585270344}"
      ]
     },
     "execution_count": 126,
     "metadata": {},
     "output_type": "execute_result"
    }
   ],
   "source": [
    "logs2[2]"
   ]
  },
  {
   "cell_type": "code",
   "execution_count": 127,
   "metadata": {},
   "outputs": [
    {
     "name": "stdout",
     "output_type": "stream",
     "text": [
      "0  dict_keys(['Event', 'Spark Version'])\n",
      "1  dict_keys(['Event', 'Timestamp', 'Executor ID', 'Executor Info'])\n",
      "2  dict_keys(['Event', 'Block Manager ID', 'Maximum Memory', 'Timestamp', 'Maximum Onheap Memory', 'Maximum Offheap Memory'])\n",
      "3  dict_keys(['Event', 'JVM Information', 'Spark Properties', 'System Properties', 'Classpath Entries'])\n",
      "4  dict_keys(['Event', 'App Name', 'App ID', 'Timestamp', 'User'])\n",
      "5  dict_keys(['Event', 'Job ID', 'Submission Time', 'Stage Infos', 'Stage IDs', 'Properties'])\n",
      "6  dict_keys(['Event', 'Stage Info', 'Properties'])\n",
      "7  dict_keys(['Event', 'Stage ID', 'Stage Attempt ID', 'Task Info'])\n",
      "8  dict_keys(['Event', 'Stage ID', 'Stage Attempt ID', 'Task Info'])\n",
      "9  dict_keys(['Event', 'Stage ID', 'Stage Attempt ID', 'Task Info'])\n",
      "10  dict_keys(['Event', 'Stage ID', 'Stage Attempt ID', 'Task Info'])\n",
      "11  dict_keys(['Event', 'Stage ID', 'Stage Attempt ID', 'Task Type', 'Task End Reason', 'Task Info', 'Task Metrics'])\n",
      "12  dict_keys(['Event', 'Stage ID', 'Stage Attempt ID', 'Task Type', 'Task End Reason', 'Task Info', 'Task Metrics'])\n",
      "13  dict_keys(['Event', 'Stage ID', 'Stage Attempt ID', 'Task Type', 'Task End Reason', 'Task Info', 'Task Metrics'])\n",
      "14  dict_keys(['Event', 'Stage ID', 'Stage Attempt ID', 'Task Type', 'Task End Reason', 'Task Info', 'Task Metrics'])\n",
      "15  dict_keys(['Event', 'Stage Info'])\n",
      "16  dict_keys(['Event', 'Job ID', 'Completion Time', 'Job Result'])\n",
      "17  dict_keys(['Event', 'Timestamp'])\n"
     ]
    }
   ],
   "source": [
    "for i,j in enumerate(logs2):\n",
    "    print(i, \"\", j.keys())"
   ]
  },
  {
   "cell_type": "code",
   "execution_count": 128,
   "metadata": {},
   "outputs": [
    {
     "data": {
      "text/plain": [
       "{'callSite.short': 'collect at <stdin>:1',\n",
       " 'spark.rdd.scope': '{\"id\":\"1\",\"name\":\"collect\"}',\n",
       " 'spark.rdd.scope.noOverride': 'true'}"
      ]
     },
     "execution_count": 128,
     "metadata": {},
     "output_type": "execute_result"
    }
   ],
   "source": [
    "### Operation colled called\n",
    "logs2[6][\"Properties\"]"
   ]
  },
  {
   "cell_type": "code",
   "execution_count": 129,
   "metadata": {},
   "outputs": [
    {
     "data": {
      "text/plain": [
       "dict_keys(['Stage ID', 'Stage Attempt ID', 'Stage Name', 'Number of Tasks', 'RDD Info', 'Parent IDs', 'Details', 'Submission Time', 'Accumulables'])"
      ]
     },
     "execution_count": 129,
     "metadata": {},
     "output_type": "execute_result"
    }
   ],
   "source": [
    "logs2[6][\"Stage Info\"].keys()"
   ]
  },
  {
   "cell_type": "code",
   "execution_count": 130,
   "metadata": {},
   "outputs": [
    {
     "data": {
      "text/plain": [
       "4"
      ]
     },
     "execution_count": 130,
     "metadata": {},
     "output_type": "execute_result"
    }
   ],
   "source": [
    "logs2[6][\"Stage Info\"][\"Number of Tasks\"]"
   ]
  },
  {
   "cell_type": "code",
   "execution_count": 131,
   "metadata": {},
   "outputs": [
    {
     "data": {
      "text/plain": [
       "[{'Callsite': 'collect at <stdin>:1',\n",
       "  'Disk Size': 0,\n",
       "  'Memory Size': 0,\n",
       "  'Name': 'PythonRDD',\n",
       "  'Number of Cached Partitions': 0,\n",
       "  'Number of Partitions': 4,\n",
       "  'Parent IDs': [0],\n",
       "  'RDD ID': 1,\n",
       "  'Storage Level': {'Deserialized': False,\n",
       "   'Replication': 1,\n",
       "   'Use Disk': False,\n",
       "   'Use Memory': False}},\n",
       " {'Callsite': 'parallelize at PythonRDD.scala:175',\n",
       "  'Disk Size': 0,\n",
       "  'Memory Size': 0,\n",
       "  'Name': 'ParallelCollectionRDD',\n",
       "  'Number of Cached Partitions': 0,\n",
       "  'Number of Partitions': 4,\n",
       "  'Parent IDs': [],\n",
       "  'RDD ID': 0,\n",
       "  'Scope': '{\"id\":\"0\",\"name\":\"parallelize\"}',\n",
       "  'Storage Level': {'Deserialized': False,\n",
       "   'Replication': 1,\n",
       "   'Use Disk': False,\n",
       "   'Use Memory': False}}]"
      ]
     },
     "execution_count": 131,
     "metadata": {},
     "output_type": "execute_result"
    }
   ],
   "source": [
    "logs2[6][\"Stage Info\"][\"RDD Info\"]"
   ]
  },
  {
   "cell_type": "code",
   "execution_count": 132,
   "metadata": {},
   "outputs": [
    {
     "data": {
      "text/plain": [
       "4"
      ]
     },
     "execution_count": 132,
     "metadata": {},
     "output_type": "execute_result"
    }
   ],
   "source": [
    "logs2[6][\"Stage Info\"][\"Number of Tasks\"]"
   ]
  },
  {
   "cell_type": "code",
   "execution_count": 133,
   "metadata": {},
   "outputs": [
    {
     "data": {
      "text/plain": [
       "[]"
      ]
     },
     "execution_count": 133,
     "metadata": {},
     "output_type": "execute_result"
    }
   ],
   "source": [
    "logs2[6][\"Stage Info\"][\"Accumulables\"]"
   ]
  },
  {
   "cell_type": "code",
   "execution_count": null,
   "metadata": {
    "collapsed": true
   },
   "outputs": [],
   "source": []
  },
  {
   "cell_type": "code",
   "execution_count": 134,
   "metadata": {},
   "outputs": [
    {
     "name": "stdout",
     "output_type": "stream",
     "text": [
      "{'Executor Deserialize Time': 36, 'Executor Deserialize CPU Time': 9248442, 'Executor Run Time': 463, 'Executor CPU Time': 7902265, 'Result Size': 9003, 'JVM GC Time': 0, 'Result Serialization Time': 0, 'Memory Bytes Spilled': 0, 'Disk Bytes Spilled': 0, 'Shuffle Read Metrics': {'Remote Blocks Fetched': 0, 'Local Blocks Fetched': 0, 'Fetch Wait Time': 0, 'Remote Bytes Read': 0, 'Remote Bytes Read To Disk': 0, 'Local Bytes Read': 0, 'Total Records Read': 0}, 'Shuffle Write Metrics': {'Shuffle Bytes Written': 0, 'Shuffle Write Time': 0, 'Shuffle Records Written': 0}, 'Input Metrics': {'Bytes Read': 0, 'Records Read': 0}, 'Output Metrics': {'Bytes Written': 0, 'Records Written': 0}, 'Updated Blocks': []} \n",
      "\n",
      "{'Executor Deserialize Time': 29, 'Executor Deserialize CPU Time': 4772051, 'Executor Run Time': 469, 'Executor CPU Time': 48758012, 'Result Size': 8790, 'JVM GC Time': 0, 'Result Serialization Time': 1, 'Memory Bytes Spilled': 0, 'Disk Bytes Spilled': 0, 'Shuffle Read Metrics': {'Remote Blocks Fetched': 0, 'Local Blocks Fetched': 0, 'Fetch Wait Time': 0, 'Remote Bytes Read': 0, 'Remote Bytes Read To Disk': 0, 'Local Bytes Read': 0, 'Total Records Read': 0}, 'Shuffle Write Metrics': {'Shuffle Bytes Written': 0, 'Shuffle Write Time': 0, 'Shuffle Records Written': 0}, 'Input Metrics': {'Bytes Read': 0, 'Records Read': 0}, 'Output Metrics': {'Bytes Written': 0, 'Records Written': 0}, 'Updated Blocks': []} \n",
      "\n",
      "{'Executor Deserialize Time': 30, 'Executor Deserialize CPU Time': 6308620, 'Executor Run Time': 469, 'Executor CPU Time': 19851754, 'Result Size': 9003, 'JVM GC Time': 0, 'Result Serialization Time': 0, 'Memory Bytes Spilled': 0, 'Disk Bytes Spilled': 0, 'Shuffle Read Metrics': {'Remote Blocks Fetched': 0, 'Local Blocks Fetched': 0, 'Fetch Wait Time': 0, 'Remote Bytes Read': 0, 'Remote Bytes Read To Disk': 0, 'Local Bytes Read': 0, 'Total Records Read': 0}, 'Shuffle Write Metrics': {'Shuffle Bytes Written': 0, 'Shuffle Write Time': 0, 'Shuffle Records Written': 0}, 'Input Metrics': {'Bytes Read': 0, 'Records Read': 0}, 'Output Metrics': {'Bytes Written': 0, 'Records Written': 0}, 'Updated Blocks': []} \n",
      "\n",
      "{'Executor Deserialize Time': 21, 'Executor Deserialize CPU Time': 15141553, 'Executor Run Time': 477, 'Executor CPU Time': 27601769, 'Result Size': 9046, 'JVM GC Time': 0, 'Result Serialization Time': 1, 'Memory Bytes Spilled': 0, 'Disk Bytes Spilled': 0, 'Shuffle Read Metrics': {'Remote Blocks Fetched': 0, 'Local Blocks Fetched': 0, 'Fetch Wait Time': 0, 'Remote Bytes Read': 0, 'Remote Bytes Read To Disk': 0, 'Local Bytes Read': 0, 'Total Records Read': 0}, 'Shuffle Write Metrics': {'Shuffle Bytes Written': 0, 'Shuffle Write Time': 0, 'Shuffle Records Written': 0}, 'Input Metrics': {'Bytes Read': 0, 'Records Read': 0}, 'Output Metrics': {'Bytes Written': 0, 'Records Written': 0}, 'Updated Blocks': []} \n",
      "\n"
     ]
    }
   ],
   "source": [
    "s = \"Task Metrics\"\n",
    "    \n",
    "for j in logs2: \n",
    "    if s in j:\n",
    "        print(j[s], \"\\n\")"
   ]
  },
  {
   "cell_type": "code",
   "execution_count": null,
   "metadata": {
    "collapsed": true
   },
   "outputs": [],
   "source": []
  },
  {
   "cell_type": "code",
   "execution_count": null,
   "metadata": {
    "collapsed": true
   },
   "outputs": [],
   "source": []
  }
 ],
 "metadata": {
  "kernelspec": {
   "display_name": "Python 3",
   "language": "python",
   "name": "python3"
  },
  "language_info": {
   "codemirror_mode": {
    "name": "ipython",
    "version": 3
   },
   "file_extension": ".py",
   "mimetype": "text/x-python",
   "name": "python",
   "nbconvert_exporter": "python",
   "pygments_lexer": "ipython3",
   "version": "3.6.3"
  }
 },
 "nbformat": 4,
 "nbformat_minor": 1
}

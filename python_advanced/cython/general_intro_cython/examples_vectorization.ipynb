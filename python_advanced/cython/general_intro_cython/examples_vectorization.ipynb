{
 "cells": [
  {
   "cell_type": "code",
   "execution_count": null,
   "id": "d6961f15",
   "metadata": {},
   "outputs": [],
   "source": [
    "%matplotlib inline\n",
    "%load_ext autoreload\n",
    "%autoreload 2\n",
    "%load_ext Cython\n",
    "%timeit\n",
    "\n",
    "import cython\n",
    "import numpy as np\n",
    "import matplotlib\n",
    "matplotlib.style.use('ggplot')\n",
    "import pandas\n"
   ]
  },
  {
   "cell_type": "code",
   "execution_count": null,
   "id": "ddbb398b",
   "metadata": {},
   "outputs": [],
   "source": [
    "cython.__version__"
   ]
  },
  {
   "cell_type": "markdown",
   "id": "8dd505df",
   "metadata": {},
   "source": [
    "# Example 1"
   ]
  },
  {
   "cell_type": "code",
   "execution_count": null,
   "id": "53337b20",
   "metadata": {},
   "outputs": [],
   "source": [
    "def vectorized_sum_allocating_array(n=1_000_000):\n",
    "    x = np.arange(n)\n",
    "    return np.sum(x)"
   ]
  },
  {
   "cell_type": "code",
   "execution_count": null,
   "id": "240df0ba",
   "metadata": {},
   "outputs": [],
   "source": [
    "vectorized_sum_allocating_array(n=1_000_000)"
   ]
  },
  {
   "cell_type": "code",
   "execution_count": null,
   "id": "e7e9032b",
   "metadata": {},
   "outputs": [],
   "source": [
    "%timeit vectorized_sum_allocating_array(n=1_000_000)"
   ]
  },
  {
   "cell_type": "code",
   "execution_count": null,
   "id": "b84ed16d",
   "metadata": {},
   "outputs": [],
   "source": [
    "def sum_up_to_n(n=1_000_000):\n",
    "    s = 0\n",
    "    for i in range(n):\n",
    "        s +=i\n",
    "    return s"
   ]
  },
  {
   "cell_type": "code",
   "execution_count": null,
   "id": "33ea7c23",
   "metadata": {},
   "outputs": [],
   "source": [
    "%timeit sum_up_to_n(1_000_000)"
   ]
  },
  {
   "cell_type": "code",
   "execution_count": null,
   "id": "02c81370",
   "metadata": {},
   "outputs": [],
   "source": [
    "%%cython \n",
    "\n",
    "cpdef long sum_up_to_n_cython(long n):\n",
    "    cdef:\n",
    "        long s = 0\n",
    "        long i\n",
    "\n",
    "    for i in range(n):\n",
    "        s +=i\n",
    "    return s"
   ]
  },
  {
   "cell_type": "code",
   "execution_count": null,
   "id": "bca6d154",
   "metadata": {},
   "outputs": [],
   "source": [
    "%timeit sum_up_to_n_cython(1_000_000)"
   ]
  },
  {
   "cell_type": "code",
   "execution_count": null,
   "id": "293477cb",
   "metadata": {
    "scrolled": true
   },
   "outputs": [],
   "source": [
    "%timeit sum_up_to_n_cython(100_000_000)"
   ]
  },
  {
   "cell_type": "code",
   "execution_count": null,
   "id": "8cebcdff",
   "metadata": {
    "scrolled": true
   },
   "outputs": [],
   "source": [
    "sum_up_to_n_cython(100_000_000)"
   ]
  },
  {
   "cell_type": "markdown",
   "id": "d138e6c0",
   "metadata": {},
   "source": [
    "#### Pure python mode"
   ]
  },
  {
   "cell_type": "code",
   "execution_count": null,
   "id": "563a366d",
   "metadata": {},
   "outputs": [],
   "source": [
    "\n",
    "def sum_up_to_n_cython_pure_python(n: cython.long):\n",
    "    s: cython.long = 0\n",
    "    n: cython.long \n",
    "    i: cython.long \n",
    "                \n",
    "    for i in range(n):\n",
    "        s +=i\n",
    "    return s"
   ]
  },
  {
   "cell_type": "code",
   "execution_count": null,
   "id": "0f912f06",
   "metadata": {},
   "outputs": [],
   "source": [
    "sum_up_to_n_cython_pure_python(1_000_000)"
   ]
  },
  {
   "cell_type": "code",
   "execution_count": null,
   "id": "bba59f8f",
   "metadata": {},
   "outputs": [],
   "source": [
    "py_time = %timeit -o sum_up_to_n_cython_pure_python(1_000_000)"
   ]
  },
  {
   "cell_type": "code",
   "execution_count": null,
   "id": "3e7ba3a1",
   "metadata": {},
   "outputs": [],
   "source": [
    "%%cython\n",
    "\n",
    "import cython\n",
    "\n",
    "def sum_up_to_n_cython_pure_python(n: cython.long):\n",
    "    s: cython.long = 0\n",
    "    n: cython.long \n",
    "    i: cython.long \n",
    "        \n",
    "    for i in range(n):\n",
    "        s +=i\n",
    "    return s"
   ]
  },
  {
   "cell_type": "code",
   "execution_count": null,
   "id": "2623432a",
   "metadata": {},
   "outputs": [],
   "source": [
    "sum_up_to_n_cython_pure_python(1_000_000)"
   ]
  },
  {
   "cell_type": "code",
   "execution_count": null,
   "id": "af122c7c",
   "metadata": {
    "scrolled": true
   },
   "outputs": [],
   "source": [
    "cy_time = %timeit -o sum_up_to_n_cython_pure_python(1_000_000)"
   ]
  },
  {
   "cell_type": "markdown",
   "id": "b3392ff7",
   "metadata": {},
   "source": [
    "Another way to do it"
   ]
  },
  {
   "cell_type": "code",
   "execution_count": null,
   "id": "ebaa3183",
   "metadata": {},
   "outputs": [],
   "source": [
    "%%cython \n",
    "import cython\n",
    "\n",
    "@cython.returns(cython.long)\n",
    "@cython.locals(s=cython.long, i=cython.long, n=cython.long)\n",
    "def sum_up_to_n_cython_pure_python(n):\n",
    "    s = 0\n",
    "    for i in range(n):\n",
    "        s +=i\n",
    "    return s"
   ]
  },
  {
   "cell_type": "code",
   "execution_count": null,
   "id": "81f5efa1",
   "metadata": {},
   "outputs": [],
   "source": [
    "sum_up_to_n_cython_pure_python(1_000_000)"
   ]
  },
  {
   "cell_type": "code",
   "execution_count": null,
   "id": "f74bcfb8",
   "metadata": {},
   "outputs": [],
   "source": [
    "cy_time2 = %timeit -o sum_up_to_n_cython_pure_python(1_000_000)"
   ]
  },
  {
   "cell_type": "code",
   "execution_count": null,
   "id": "a3933fbc",
   "metadata": {},
   "outputs": [],
   "source": [
    "py_time.average / cy_time.average "
   ]
  },
  {
   "cell_type": "code",
   "execution_count": null,
   "id": "96e14a49",
   "metadata": {},
   "outputs": [],
   "source": [
    "py_time.average, cy_time.average "
   ]
  },
  {
   "cell_type": "code",
   "execution_count": null,
   "id": "fae362a5",
   "metadata": {},
   "outputs": [],
   "source": [
    "py_time.average/ cy_time.average "
   ]
  },
  {
   "cell_type": "markdown",
   "id": "805c6751",
   "metadata": {},
   "source": [
    "## Example 2"
   ]
  },
  {
   "cell_type": "code",
   "execution_count": null,
   "id": "bb1428ac",
   "metadata": {},
   "outputs": [],
   "source": [
    "n_samples = 1_000_000\n",
    "n_queries = 1\n",
    "n_features = 10\n",
    "\n",
    "query_vector = np.random.random((1, n_features))\n",
    "X = np.random.random((n_samples,n_features))\n",
    "X.shape, query_vector.shape"
   ]
  },
  {
   "cell_type": "code",
   "execution_count": null,
   "id": "0a83428c",
   "metadata": {},
   "outputs": [],
   "source": [
    "def euclidean_naive(x,B):\n",
    "    return np.sqrt(np.sum((x-B)**2,axis=1))"
   ]
  },
  {
   "cell_type": "code",
   "execution_count": null,
   "id": "f9383e7c",
   "metadata": {},
   "outputs": [],
   "source": [
    "%timeit euclidean_naive(query_vectors, X)"
   ]
  },
  {
   "cell_type": "code",
   "execution_count": null,
   "id": "b317b159",
   "metadata": {},
   "outputs": [],
   "source": [
    "euclidean_naive(query_vectors, X)"
   ]
  },
  {
   "cell_type": "code",
   "execution_count": null,
   "id": "86bff000",
   "metadata": {},
   "outputs": [],
   "source": [
    "xB = np.empty(X.shape)\n",
    "\n",
    "def euclidean(x,B):\n",
    "    result = np.empty(B.shape[0])\n",
    "    np.subtract(x,B,out=xB)\n",
    "    np.square(xB,out=xB)\n",
    "    np.sum(xB,axis=1,out=result)\n",
    "    np.sqrt(result,out=result)\n",
    "    return result"
   ]
  },
  {
   "cell_type": "code",
   "execution_count": null,
   "id": "e9c0e783",
   "metadata": {},
   "outputs": [],
   "source": [
    "%timeit euclidean_vectorized(query_vector, X, xB)"
   ]
  },
  {
   "cell_type": "code",
   "execution_count": null,
   "id": "b85ad451",
   "metadata": {},
   "outputs": [],
   "source": [
    "?np.sum"
   ]
  },
  {
   "cell_type": "code",
   "execution_count": null,
   "id": "efc1b3d9",
   "metadata": {
    "scrolled": true
   },
   "outputs": [],
   "source": [
    "%%cython \n",
    "import numpy as np\n",
    "import cython \n",
    "from libc.math cimport pow, sqrt\n",
    "\n",
    "@cython.boundscheck(False)  # Deactivate bounds checking\n",
    "def cy_euclidean(double[:,:] q,double[:,:] X):\n",
    "    cdef int n_samples = X.shape[0]\n",
    "    cdef int n_features = q.shape[1]\n",
    "    cdef double res=0\n",
    "    cdef double[:] result = np.zeros(len(X), dtype=\"double\")\n",
    "\n",
    "    for m in range(n_samples):\n",
    "        res = 0.\n",
    "        for i in range(n_features):\n",
    "            res += pow(q[0,i]- X[m, i],2)\n",
    "        result[m] = sqrt(res)\n",
    "    \n",
    "    return np.array(result)"
   ]
  },
  {
   "cell_type": "code",
   "execution_count": null,
   "id": "429e13c9",
   "metadata": {},
   "outputs": [],
   "source": [
    "cy_time = %timeit -o cy_euclidean(query_vectors, X)"
   ]
  },
  {
   "cell_type": "code",
   "execution_count": null,
   "id": "197e8416",
   "metadata": {},
   "outputs": [],
   "source": [
    "py_distances = euclidean_naive(query_vectors, X)\n",
    "cy_distances = cy_euclidean(query_vectors, X)\n",
    "np.testing.assert_allclose(py_distances,cy_distances, rtol=1e-6, atol=0.00)"
   ]
  },
  {
   "cell_type": "markdown",
   "id": "b32bb560",
   "metadata": {},
   "source": [
    "## Example 3"
   ]
  },
  {
   "cell_type": "code",
   "execution_count": 59,
   "id": "6e72390a",
   "metadata": {},
   "outputs": [],
   "source": [
    "import scipy.sparse as sp\n",
    "import numpy as np\n",
    "np.random.seed(123)\n",
    "n_features =1000\n",
    "n_samples = 100\n",
    "\n",
    "X = sp.random(n_samples, n_features, density=0.01, format='csr')"
   ]
  },
  {
   "cell_type": "code",
   "execution_count": 60,
   "id": "a7d0f928",
   "metadata": {},
   "outputs": [
    {
     "data": {
      "text/plain": [
       "1000"
      ]
     },
     "execution_count": 60,
     "metadata": {},
     "output_type": "execute_result"
    }
   ],
   "source": [
    "X.nnz"
   ]
  },
  {
   "cell_type": "code",
   "execution_count": 61,
   "id": "0d21bd8b",
   "metadata": {},
   "outputs": [
    {
     "name": "stdout",
     "output_type": "stream",
     "text": [
      "156 µs ± 1.2 µs per loop (mean ± std. dev. of 7 runs, 10,000 loops each)\n"
     ]
    }
   ],
   "source": [
    "%%timeit\n",
    "s = sp.csr_matrix(X.sum(axis=0, dtype=np.int32))"
   ]
  },
  {
   "cell_type": "code",
   "execution_count": 62,
   "id": "fe634d05",
   "metadata": {},
   "outputs": [
    {
     "data": {
      "text/plain": [
       "(170, (1, 1000))"
      ]
     },
     "execution_count": 62,
     "metadata": {},
     "output_type": "execute_result"
    }
   ],
   "source": [
    "s = sp.csr_matrix(X.sum(axis=0, dtype=np.int32))\n",
    "s.nnz, s.shape"
   ]
  },
  {
   "cell_type": "code",
   "execution_count": 80,
   "id": "c65e2037",
   "metadata": {},
   "outputs": [],
   "source": [
    "def efficient_mean_over_rows(X_sparse):\n",
    "    new_data = []\n",
    "    unique_indices = np.unique(X_sparse.indices)\n",
    "    for k in unique_indices:\n",
    "        val = X_sparse.data[X_sparse.indices==k].sum()\n",
    "        new_data.append(val)\n",
    "        \n",
    "    X_sum = sp.csr_matrix((new_data, unique_indices, [0,len(new_data)]))\n",
    "    return X_sum"
   ]
  },
  {
   "cell_type": "code",
   "execution_count": 64,
   "id": "29534716",
   "metadata": {},
   "outputs": [
    {
     "name": "stdout",
     "output_type": "stream",
     "text": [
      "2.71 ms ± 34.9 µs per loop (mean ± std. dev. of 7 runs, 100 loops each)\n"
     ]
    }
   ],
   "source": [
    "t1 = %timeit -o efficient_mean_over_rows(X)"
   ]
  },
  {
   "cell_type": "code",
   "execution_count": 65,
   "id": "4431afca",
   "metadata": {},
   "outputs": [
    {
     "name": "stdout",
     "output_type": "stream",
     "text": [
      "156 µs ± 1.73 µs per loop (mean ± std. dev. of 7 runs, 10,000 loops each)\n"
     ]
    }
   ],
   "source": [
    "t2 = %timeit -o sp.csr_matrix(X.sum(axis=0, dtype=np.int32))"
   ]
  },
  {
   "cell_type": "code",
   "execution_count": 74,
   "id": "6e8d1931",
   "metadata": {},
   "outputs": [
    {
     "data": {
      "text/plain": [
       "0.05769121182082981"
      ]
     },
     "execution_count": 74,
     "metadata": {},
     "output_type": "execute_result"
    }
   ],
   "source": [
    "t2.average / t1.average"
   ]
  },
  {
   "cell_type": "code",
   "execution_count": 81,
   "id": "c1e27c12",
   "metadata": {},
   "outputs": [],
   "source": [
    "r1 = sp.csr_matrix(X.sum(axis=0, dtype=np.int32))\n",
    "r2 = efficient_mean_over_rows(X)"
   ]
  },
  {
   "cell_type": "code",
   "execution_count": 82,
   "id": "31fc3642",
   "metadata": {},
   "outputs": [
    {
     "data": {
      "text/plain": [
       "<1x1000 sparse matrix of type '<class 'numpy.int32'>'\n",
       "\twith 170 stored elements in Compressed Sparse Row format>"
      ]
     },
     "execution_count": 82,
     "metadata": {},
     "output_type": "execute_result"
    }
   ],
   "source": [
    "r1"
   ]
  },
  {
   "cell_type": "code",
   "execution_count": 83,
   "id": "1776a473",
   "metadata": {},
   "outputs": [
    {
     "data": {
      "text/plain": [
       "<1x999 sparse matrix of type '<class 'numpy.float64'>'\n",
       "\twith 632 stored elements in Compressed Sparse Row format>"
      ]
     },
     "execution_count": 83,
     "metadata": {},
     "output_type": "execute_result"
    }
   ],
   "source": [
    "r2"
   ]
  },
  {
   "cell_type": "code",
   "execution_count": 204,
   "id": "a9a2893f",
   "metadata": {},
   "outputs": [
    {
     "data": {
      "text/plain": [
       "array([[1, 0, 0, 1, 0, 0, 0, 0, 4],\n",
       "       [3, 0, 0, 2, 0, 0, 0, 0, 1]])"
      ]
     },
     "execution_count": 204,
     "metadata": {},
     "output_type": "execute_result"
    }
   ],
   "source": [
    "aux = sp.csr_matrix([[1,0,0,1,0,0,0,0,4],[3,0,0,2,0,0,0,0,1]])\n",
    "aux.toarray()"
   ]
  },
  {
   "cell_type": "code",
   "execution_count": 205,
   "id": "19948e41",
   "metadata": {},
   "outputs": [
    {
     "data": {
      "text/plain": [
       "array([1, 1, 4, 3, 2, 1])"
      ]
     },
     "execution_count": 205,
     "metadata": {},
     "output_type": "execute_result"
    }
   ],
   "source": [
    "aux.data"
   ]
  },
  {
   "cell_type": "code",
   "execution_count": 206,
   "id": "fdf0fba0",
   "metadata": {},
   "outputs": [
    {
     "data": {
      "text/plain": [
       "array([0, 3, 8, 0, 3, 8], dtype=int32)"
      ]
     },
     "execution_count": 206,
     "metadata": {},
     "output_type": "execute_result"
    }
   ],
   "source": [
    "aux.indices"
   ]
  },
  {
   "cell_type": "code",
   "execution_count": 207,
   "id": "dff62e8f",
   "metadata": {},
   "outputs": [
    {
     "data": {
      "text/plain": [
       "array([0, 3, 6], dtype=int32)"
      ]
     },
     "execution_count": 207,
     "metadata": {},
     "output_type": "execute_result"
    }
   ],
   "source": [
    "aux.indptr"
   ]
  },
  {
   "cell_type": "markdown",
   "id": "5fc80909",
   "metadata": {},
   "source": [
    "Note that the resulting matrix of aggregating the nonzero values squashing all rows into one will have at index K the sum of all values in `.data` that have index K.\n",
    "\n",
    "- For index 0 the result will be adding 1+3\n",
    "- For index 3 the result will be 2\n",
    "-For index 8 the result will be 5"
   ]
  },
  {
   "cell_type": "code",
   "execution_count": 104,
   "id": "e046b893",
   "metadata": {},
   "outputs": [
    {
     "data": {
      "text/plain": [
       "array([0, 3, 8], dtype=int32)"
      ]
     },
     "execution_count": 104,
     "metadata": {},
     "output_type": "execute_result"
    }
   ],
   "source": [
    "unique_indices = np.unique(aux.indices)\n",
    "unique_indices"
   ]
  },
  {
   "cell_type": "code",
   "execution_count": 105,
   "id": "249dcb7c",
   "metadata": {},
   "outputs": [],
   "source": [
    "new_data = []\n",
    "for k in unique_indices:\n",
    "    val = aux.data[aux.indices==k].sum()\n",
    "    new_data.append(val)"
   ]
  },
  {
   "cell_type": "code",
   "execution_count": 106,
   "id": "194a5cb4",
   "metadata": {
    "scrolled": true
   },
   "outputs": [
    {
     "data": {
      "text/plain": [
       "[4, 2, 5]"
      ]
     },
     "execution_count": 106,
     "metadata": {},
     "output_type": "execute_result"
    }
   ],
   "source": [
    "new_data"
   ]
  },
  {
   "cell_type": "code",
   "execution_count": 107,
   "id": "080864cf",
   "metadata": {},
   "outputs": [
    {
     "data": {
      "text/plain": [
       "<1x9 sparse matrix of type '<class 'numpy.int64'>'\n",
       "\twith 3 stored elements in Compressed Sparse Row format>"
      ]
     },
     "execution_count": 107,
     "metadata": {},
     "output_type": "execute_result"
    }
   ],
   "source": [
    "aux_mean = sp.csr_matrix((new_data, unique_indices, [0,len(new_data)]))\n",
    "aux_mean"
   ]
  },
  {
   "cell_type": "code",
   "execution_count": 117,
   "id": "1bfadda7",
   "metadata": {},
   "outputs": [
    {
     "data": {
      "text/plain": [
       "matrix([[4, 0, 0, 2, 0, 0, 0, 0, 5]])"
      ]
     },
     "execution_count": 117,
     "metadata": {},
     "output_type": "execute_result"
    }
   ],
   "source": [
    "aux_mean.todense()"
   ]
  },
  {
   "cell_type": "code",
   "execution_count": 192,
   "id": "1d3d4b18",
   "metadata": {},
   "outputs": [],
   "source": [
    "from collections import defaultdict\n",
    "def efficient_mean_over_rows(X_sparse):\n",
    "    \n",
    "    s = defaultdict(int)\n",
    "\n",
    "    for i,d in zip(X_sparse.indices, X_sparse.data):\n",
    "        s[i] += d\n",
    "        \n",
    "    new_data = list(s.values())\n",
    "    \n",
    "    X_sum = sp.csr_matrix((new_data, list(s.keys()), [0,len(new_data)]))\n",
    "    return X_sum"
   ]
  },
  {
   "cell_type": "code",
   "execution_count": 147,
   "id": "7d79ba11",
   "metadata": {
    "scrolled": true
   },
   "outputs": [
    {
     "name": "stdout",
     "output_type": "stream",
     "text": [
      "354 µs ± 853 ns per loop (mean ± std. dev. of 7 runs, 1,000 loops each)\n"
     ]
    }
   ],
   "source": [
    "t1 = %timeit -o efficient_mean_over_rows(X)"
   ]
  },
  {
   "cell_type": "code",
   "execution_count": 151,
   "id": "99ffcff6",
   "metadata": {},
   "outputs": [
    {
     "name": "stdout",
     "output_type": "stream",
     "text": [
      "170 µs ± 883 ns per loop (mean ± std. dev. of 7 runs, 10,000 loops each)\n"
     ]
    }
   ],
   "source": [
    "t2 = %timeit -o sp.csr_matrix(X.sum(axis=0))"
   ]
  },
  {
   "cell_type": "code",
   "execution_count": 171,
   "id": "fd766b05",
   "metadata": {},
   "outputs": [
    {
     "data": {
      "text/plain": [
       "<1x999 sparse matrix of type '<class 'numpy.float64'>'\n",
       "\twith 632 stored elements in Compressed Sparse Row format>"
      ]
     },
     "execution_count": 171,
     "metadata": {},
     "output_type": "execute_result"
    }
   ],
   "source": [
    "efficient_mean_over_rows(X)"
   ]
  },
  {
   "cell_type": "code",
   "execution_count": 172,
   "id": "4f65340f",
   "metadata": {},
   "outputs": [
    {
     "data": {
      "text/plain": [
       "<1x1000 sparse matrix of type '<class 'numpy.float64'>'\n",
       "\twith 632 stored elements in Compressed Sparse Row format>"
      ]
     },
     "execution_count": 172,
     "metadata": {},
     "output_type": "execute_result"
    }
   ],
   "source": [
    "sp.csr_matrix(X.sum(axis=0))"
   ]
  },
  {
   "cell_type": "code",
   "execution_count": 165,
   "id": "8dd89842",
   "metadata": {
    "scrolled": true
   },
   "outputs": [
    {
     "data": {
      "text/plain": [
       "<1x9 sparse matrix of type '<class 'numpy.int64'>'\n",
       "\twith 3 stored elements in Compressed Sparse Row format>"
      ]
     },
     "execution_count": 165,
     "metadata": {},
     "output_type": "execute_result"
    }
   ],
   "source": [
    "sp.csr_matrix(aux.sum(axis=0))"
   ]
  },
  {
   "cell_type": "code",
   "execution_count": 166,
   "id": "4e8fbf6b",
   "metadata": {},
   "outputs": [
    {
     "data": {
      "text/plain": [
       "<1x9 sparse matrix of type '<class 'numpy.int64'>'\n",
       "\twith 3 stored elements in Compressed Sparse Row format>"
      ]
     },
     "execution_count": 166,
     "metadata": {},
     "output_type": "execute_result"
    }
   ],
   "source": [
    "efficient_mean_over_rows(aux)"
   ]
  },
  {
   "cell_type": "code",
   "execution_count": 220,
   "id": "769ba32f",
   "metadata": {},
   "outputs": [],
   "source": [
    "from collections import defaultdict\n",
    "def efficient_mean_over_rows2(X_sparse):\n",
    "    \n",
    "    s = defaultdict(int)\n",
    "    indices = X_sparse.indices\n",
    "    data = X_sparse.data\n",
    "    \n",
    "    unique_data_indices = np.unique(indices)\n",
    "    new_data = np.zeros(len(unique_data_indices))\n",
    "    index_to_pos = {index:k for k,index in enumerate(unique_data_indices)}\n",
    "    \n",
    "    for i,d in zip(indices, data):\n",
    "        new_data[index_to_pos[i]] += d \n",
    "        \n",
    "    \n",
    "    X_sum = sp.csr_matrix((new_data, unique_data_indices, [0,len(new_data)]))\n",
    "    return X_sum"
   ]
  },
  {
   "cell_type": "code",
   "execution_count": 221,
   "id": "dfd14e16",
   "metadata": {},
   "outputs": [
    {
     "data": {
      "text/plain": [
       "array([0., 0., 0., 0., 0., 0., 0., 0., 0., 0.])"
      ]
     },
     "execution_count": 221,
     "metadata": {},
     "output_type": "execute_result"
    }
   ],
   "source": [
    "np.zeros(10)"
   ]
  },
  {
   "cell_type": "code",
   "execution_count": 223,
   "id": "6543146d",
   "metadata": {},
   "outputs": [
    {
     "name": "stdout",
     "output_type": "stream",
     "text": [
      "383 µs ± 3.52 µs per loop (mean ± std. dev. of 7 runs, 1,000 loops each)\n"
     ]
    }
   ],
   "source": [
    "%timeit efficient_mean_over_rows2(X)"
   ]
  },
  {
   "cell_type": "code",
   "execution_count": null,
   "id": "a507f8e9",
   "metadata": {},
   "outputs": [],
   "source": []
  },
  {
   "cell_type": "code",
   "execution_count": null,
   "id": "b1dbe99a",
   "metadata": {},
   "outputs": [],
   "source": []
  },
  {
   "cell_type": "markdown",
   "id": "41fec068",
   "metadata": {},
   "source": [
    "## Example 4"
   ]
  },
  {
   "cell_type": "code",
   "execution_count": null,
   "id": "994cce0f",
   "metadata": {},
   "outputs": [],
   "source": [
    "ids = [str(i) for i in range(1_000_000)]\n",
    "q = '900000'"
   ]
  },
  {
   "cell_type": "code",
   "execution_count": null,
   "id": "29d4f27d",
   "metadata": {},
   "outputs": [],
   "source": [
    "ids.index(q)"
   ]
  },
  {
   "cell_type": "code",
   "execution_count": null,
   "id": "364096d8",
   "metadata": {},
   "outputs": [],
   "source": [
    "%%cython -a\n",
    "cimport cython\n",
    "\n",
    "@cython.boundscheck(False)\n",
    "@cython.wraparound(False)\n",
    "cpdef int index_cython(list l, str q):\n",
    "    cdef:\n",
    "        int pos = 0, k = 0\n",
    "        int n_l = len(l)\n",
    "        str u\n",
    "\n",
    "    for k in range(n_l):\n",
    "        u = l[k]\n",
    "        if u == q:\n",
    "            return pos\n",
    "        else:\n",
    "            pos = pos +1\n",
    "    raise ValueError"
   ]
  },
  {
   "cell_type": "code",
   "execution_count": null,
   "id": "0d5cd112",
   "metadata": {},
   "outputs": [],
   "source": [
    "%timeit index_cython(ids,q)"
   ]
  },
  {
   "cell_type": "code",
   "execution_count": null,
   "id": "8b165219",
   "metadata": {},
   "outputs": [],
   "source": [
    "%timeit ids.index(q)"
   ]
  },
  {
   "cell_type": "code",
   "execution_count": null,
   "id": "faaaa979",
   "metadata": {},
   "outputs": [],
   "source": []
  },
  {
   "cell_type": "code",
   "execution_count": null,
   "id": "c9acc6a1",
   "metadata": {},
   "outputs": [],
   "source": []
  },
  {
   "cell_type": "markdown",
   "id": "563664bf",
   "metadata": {},
   "source": [
    "## Example 4"
   ]
  },
  {
   "cell_type": "code",
   "execution_count": null,
   "id": "57ae902d",
   "metadata": {},
   "outputs": [],
   "source": [
    "def dart():\n",
    "    x,y = np.random.random(), np.random.random()\n",
    "    return (x*x + y*y <= 1)\n",
    "\n",
    "def pi(n):\n",
    "    dart_counts = sum((dart() for _ in range(n)))\n",
    "    return dart_counts*4/n"
   ]
  },
  {
   "cell_type": "code",
   "execution_count": null,
   "id": "60f0113d",
   "metadata": {},
   "outputs": [],
   "source": [
    "N = 100_000\n",
    "py_time = %timeit -o pi(N)"
   ]
  },
  {
   "cell_type": "code",
   "execution_count": null,
   "id": "28069b63",
   "metadata": {},
   "outputs": [],
   "source": [
    "def np_pi(n):\n",
    "    x = np.random.random(n)\n",
    "    y = np.random.random(n)\n",
    "    dart_counts = (x*x + y*y <= 1).sum()\n",
    "    \n",
    "    return dart_counts*4/n"
   ]
  },
  {
   "cell_type": "code",
   "execution_count": null,
   "id": "0fed509b",
   "metadata": {},
   "outputs": [],
   "source": [
    "np_time = %timeit -o np_pi(N)"
   ]
  },
  {
   "cell_type": "code",
   "execution_count": null,
   "id": "2aa5f4fd",
   "metadata": {},
   "outputs": [],
   "source": [
    "print(f'vectorized version is {round(py_time.average /np_time.average,1)}x faster')"
   ]
  },
  {
   "cell_type": "code",
   "execution_count": null,
   "id": "6762d4ad",
   "metadata": {},
   "outputs": [],
   "source": [
    "%%cython -a\n",
    "import numpy as np\n",
    "import cython \n",
    "\n",
    "#@cython.boundscheck(False)  # Deactivate bounds checking\n",
    "cpdef float cy_pi(int n):\n",
    "    cdef:\n",
    "        int counter = 0\n",
    "        int flag\n",
    "        float x, y\n",
    "\n",
    "    for i in range(n):\n",
    "        x = np.random.random()\n",
    "        y = np.random.random()\n",
    "        counter += x*x + y*y <= 1\n",
    "        \n",
    "    return counter * 4 / n"
   ]
  },
  {
   "cell_type": "code",
   "execution_count": null,
   "id": "e77cc122",
   "metadata": {},
   "outputs": [],
   "source": [
    "cy_time = %timeit -o cy_pi(N)"
   ]
  },
  {
   "cell_type": "code",
   "execution_count": null,
   "id": "fb29858c",
   "metadata": {},
   "outputs": [],
   "source": [
    "print(f'vectorized version is {round(py_time.average /np_time.average,1)}x faster')"
   ]
  },
  {
   "cell_type": "code",
   "execution_count": null,
   "id": "2fa70a06",
   "metadata": {
    "scrolled": false
   },
   "outputs": [],
   "source": [
    "%%cython -a\n",
    "import numpy as np\n",
    "import cython \n",
    "from libc.stdlib cimport rand, RAND_MAX\n",
    "\n",
    "@cython.cdivision(True)\n",
    "@cython.boundscheck(False)  # Deactivate bounds checking\n",
    "@cython.wraparound(False)  # Deactivate bounds checking\n",
    "cpdef float cy_pi(n: cython.int ):\n",
    "    counter: cython.int  \n",
    "    flag: cython.int \n",
    "    x: cython.float\n",
    "    y: cython.float\n",
    "    i: cython.int \n",
    "        \n",
    "    for i in range(n):\n",
    "        x = rand() / RAND_MAX \n",
    "        y = rand() / RAND_MAX \n",
    "        counter += x*x + y*y <= 1\n",
    "        \n",
    "    return counter * 4 / n\n",
    "\n"
   ]
  },
  {
   "cell_type": "code",
   "execution_count": null,
   "id": "b0304f92",
   "metadata": {},
   "outputs": [],
   "source": [
    "cy_time = %timeit -o cy_pi(N)"
   ]
  },
  {
   "cell_type": "code",
   "execution_count": null,
   "id": "e5ba8f16",
   "metadata": {},
   "outputs": [],
   "source": [
    "%%cython -a\n",
    "import numpy as np\n",
    "import cython \n",
    "from cython.parallel import prange\n",
    "from libc.stdlib cimport rand, RAND_MAX\n",
    "\n",
    "@cython.cdivision(True)\n",
    "@cython.boundscheck(False)  # Deactivate bounds checking\n",
    "@cython.wraparound(False)  # Deactivate bounds checking\n",
    "cpdef float cy_par_pi(n: cython.int ):\n",
    "    counter: cython.int  \n",
    "    flag: cython.int \n",
    "    i: cython.int\n",
    "    counter = 0\n",
    "    \n",
    "    cdef double[:] x=np.random.random(n)\n",
    "    cdef double[:] y=np.random.random(n)\n",
    "\n",
    "    for i in range(n):\n",
    "        x_ = x[i]\n",
    "        y_ = y[i]\n",
    "        counter += x_*x_ + y_*y_ <= 1\n",
    "        \n",
    "    return counter * 4 / n"
   ]
  },
  {
   "cell_type": "code",
   "execution_count": null,
   "id": "9e47669e",
   "metadata": {},
   "outputs": [],
   "source": [
    "cy_time = %timeit -o cy_par_pi(N)"
   ]
  },
  {
   "cell_type": "code",
   "execution_count": null,
   "id": "7b452df2",
   "metadata": {},
   "outputs": [],
   "source": []
  },
  {
   "cell_type": "code",
   "execution_count": null,
   "id": "4a70d071",
   "metadata": {},
   "outputs": [],
   "source": []
  },
  {
   "cell_type": "code",
   "execution_count": null,
   "id": "0825feac",
   "metadata": {},
   "outputs": [],
   "source": []
  }
 ],
 "metadata": {
  "kernelspec": {
   "display_name": "Python 3 (ipykernel)",
   "language": "python",
   "name": "python3"
  },
  "language_info": {
   "codemirror_mode": {
    "name": "ipython",
    "version": 3
   },
   "file_extension": ".py",
   "mimetype": "text/x-python",
   "name": "python",
   "nbconvert_exporter": "python",
   "pygments_lexer": "ipython3",
   "version": "3.9.12"
  }
 },
 "nbformat": 4,
 "nbformat_minor": 5
}

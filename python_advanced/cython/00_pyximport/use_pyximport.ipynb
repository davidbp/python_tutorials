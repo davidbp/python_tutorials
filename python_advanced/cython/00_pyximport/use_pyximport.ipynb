{
 "cells": [
  {
   "cell_type": "code",
   "execution_count": 4,
   "id": "1547b5a6",
   "metadata": {},
   "outputs": [
    {
     "name": "stdout",
     "output_type": "stream",
     "text": [
      "The autoreload extension is already loaded. To reload it, use:\n",
      "  %reload_ext autoreload\n",
      "The cython extension is already loaded. To reload it, use:\n",
      "  %reload_ext cython\n"
     ]
    }
   ],
   "source": [
    "%matplotlib inline\n",
    "%load_ext autoreload\n",
    "%autoreload 2\n",
    "%load_ext cython\n",
    "%timeit"
   ]
  },
  {
   "cell_type": "code",
   "execution_count": 5,
   "id": "3808a956",
   "metadata": {},
   "outputs": [],
   "source": [
    "import pyximport\n",
    "import numpy as np\n",
    "\n",
    "pyximport.install()\n",
    "\n",
    "import utils"
   ]
  },
  {
   "cell_type": "code",
   "execution_count": 6,
   "id": "dce2cfc1",
   "metadata": {},
   "outputs": [],
   "source": [
    "n_coordinates = 100_000\n",
    "k = 8\n",
    "x = np.random.randint(0,10, n_coordinates)\n"
   ]
  },
  {
   "cell_type": "code",
   "execution_count": 7,
   "id": "8ce66cc6",
   "metadata": {},
   "outputs": [
    {
     "name": "stdout",
     "output_type": "stream",
     "text": [
      "34.1 µs ± 105 ns per loop (mean ± std. dev. of 7 runs, 10,000 loops each)\n"
     ]
    }
   ],
   "source": [
    "%timeit utils.geq_than_k(x, k)"
   ]
  },
  {
   "cell_type": "code",
   "execution_count": 8,
   "id": "b0bb8ccc",
   "metadata": {},
   "outputs": [
    {
     "data": {
      "text/plain": [
       "(19942, 0.19942)"
      ]
     },
     "execution_count": 8,
     "metadata": {},
     "output_type": "execute_result"
    }
   ],
   "source": [
    "utils.geq_than_k(x, k)"
   ]
  },
  {
   "cell_type": "code",
   "execution_count": 9,
   "id": "ae157138",
   "metadata": {},
   "outputs": [],
   "source": [
    "def geq_than_k(x, k):\n",
    "    n_bigger_than_k = 0\n",
    "    n_x = len(x)\n",
    "    for i in range(n_x):\n",
    "        n_bigger_than_k += x[i] >= k\n",
    "    \n",
    "    return n_bigger_than_k, n_bigger_than_k/n_x"
   ]
  },
  {
   "cell_type": "code",
   "execution_count": null,
   "id": "0b4b4063",
   "metadata": {},
   "outputs": [],
   "source": [
    "%timeit geq_than_k(x, k)"
   ]
  },
  {
   "cell_type": "code",
   "execution_count": null,
   "id": "af9f2af6",
   "metadata": {},
   "outputs": [],
   "source": [
    "def v2_geq_than_k(x, k):\n",
    "    \n",
    "    flags_bigger_than_k = x >=k\n",
    "    n_bigger_than_k = np.sum(flags_bigger_than_k)\n",
    "    \n",
    "    return n_bigger_than_k, n_bigger_than_k/len(x)"
   ]
  },
  {
   "cell_type": "code",
   "execution_count": null,
   "id": "c6a665ce",
   "metadata": {},
   "outputs": [],
   "source": [
    "%timeit v2_geq_than_k(x, k)"
   ]
  },
  {
   "cell_type": "code",
   "execution_count": null,
   "id": "62d4b624",
   "metadata": {},
   "outputs": [],
   "source": [
    "%timeit geq_than_k(x, k)"
   ]
  },
  {
   "cell_type": "code",
   "execution_count": null,
   "id": "1082367b",
   "metadata": {},
   "outputs": [],
   "source": []
  },
  {
   "cell_type": "code",
   "execution_count": null,
   "id": "3a38afb7",
   "metadata": {},
   "outputs": [],
   "source": [
    "%%cython -a\n",
    "cimport cython\n",
    "\n",
    "from cython cimport cdivision, boundscheck, wraparound\n",
    "\n",
    "@boundscheck(False)\n",
    "@wraparound(False)\n",
    "cpdef geq_than_k(long[:] x,long k):\n",
    "    \n",
    "    cdef int n_bigger_than_k = 0\n",
    "    cdef int n_x = len(x)\n",
    "    \n",
    "    for i in range(n_x):\n",
    "        n_bigger_than_k += x[i] >= k\n",
    "    \n",
    "    return n_bigger_than_k, n_bigger_than_k/n_x\n",
    "\n"
   ]
  },
  {
   "cell_type": "code",
   "execution_count": null,
   "id": "af89f080",
   "metadata": {},
   "outputs": [],
   "source": [
    "%timeit geq_than_k(x, k)"
   ]
  },
  {
   "cell_type": "code",
   "execution_count": null,
   "id": "0b005e3e",
   "metadata": {},
   "outputs": [],
   "source": []
  }
 ],
 "metadata": {
  "kernelspec": {
   "display_name": "Python 3 (ipykernel)",
   "language": "python",
   "name": "python3"
  },
  "language_info": {
   "codemirror_mode": {
    "name": "ipython",
    "version": 3
   },
   "file_extension": ".py",
   "mimetype": "text/x-python",
   "name": "python",
   "nbconvert_exporter": "python",
   "pygments_lexer": "ipython3",
   "version": "3.9.12"
  }
 },
 "nbformat": 4,
 "nbformat_minor": 5
}
